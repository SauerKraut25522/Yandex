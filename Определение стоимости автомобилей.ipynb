{
 "cells": [
  {
   "cell_type": "markdown",
   "metadata": {},
   "source": [
    "# Определение стоимости автомобилей"
   ]
  },
  {
   "cell_type": "markdown",
   "metadata": {},
   "source": [
    "Сервис по продаже автомобилей с пробегом «Не бит, не крашен» разрабатывает приложение для привлечения новых клиентов. В нём можно быстро узнать рыночную стоимость своего автомобиля. В вашем распоряжении исторические данные: технические характеристики, комплектации и цены автомобилей. Вам нужно построить модель для определения стоимости. \n",
    "\n",
    "Заказчику важны:\n",
    "\n",
    "- качество предсказания;\n",
    "- скорость предсказания;\n",
    "- время обучения.\n",
    "\n",
    "**Используемые инструменты:**\n",
    "\n",
    "pandas, numpy, time, skimpy, matplotlib, sklearn, catboost, lightgbm, math."
   ]
  },
  {
   "cell_type": "markdown",
   "metadata": {},
   "source": [
    "## Подготовка данных"
   ]
  },
  {
   "cell_type": "code",
   "execution_count": 1,
   "metadata": {},
   "outputs": [
    {
     "name": "stdout",
     "output_type": "stream",
     "text": [
      "Requirement already satisfied: skimpy in /opt/conda/lib/python3.9/site-packages (0.0.11)\n",
      "Requirement already satisfied: polars<0.20.0,>=0.19.0 in /opt/conda/lib/python3.9/site-packages (from skimpy) (0.19.2)\n",
      "Requirement already satisfied: rich<14.0,>=10.9 in /opt/conda/lib/python3.9/site-packages (from skimpy) (13.5.2)\n",
      "Requirement already satisfied: click<9.0.0,>=8.1.6 in /opt/conda/lib/python3.9/site-packages (from skimpy) (8.1.7)\n",
      "Requirement already satisfied: ipykernel<7.0.0,>=6.7.0 in /opt/conda/lib/python3.9/site-packages (from skimpy) (6.25.2)\n",
      "Collecting pandas<3.0.0,>=2.0.3\n",
      "  Using cached pandas-2.1.0-cp39-cp39-manylinux_2_17_x86_64.manylinux2014_x86_64.whl (12.7 MB)\n",
      "Requirement already satisfied: pyarrow<14.0.0,>=13.0.0 in /opt/conda/lib/python3.9/site-packages (from skimpy) (13.0.0)\n",
      "Requirement already satisfied: typeguard==4.1.4 in /opt/conda/lib/python3.9/site-packages (from skimpy) (4.1.4)\n",
      "Requirement already satisfied: jupyter<2.0.0,>=1.0.0 in /opt/conda/lib/python3.9/site-packages (from skimpy) (1.0.0)\n",
      "Requirement already satisfied: Pygments<3.0.0,>=2.10.0 in /opt/conda/lib/python3.9/site-packages (from skimpy) (2.16.1)\n",
      "Requirement already satisfied: numpy<2.0.0,>=1.22.2 in /opt/conda/lib/python3.9/site-packages (from skimpy) (1.24.4)\n",
      "Requirement already satisfied: importlib-metadata>=3.6 in /opt/conda/lib/python3.9/site-packages (from typeguard==4.1.4->skimpy) (4.6.1)\n",
      "Requirement already satisfied: typing-extensions>=4.7.0 in /opt/conda/lib/python3.9/site-packages (from typeguard==4.1.4->skimpy) (4.7.1)\n",
      "Requirement already satisfied: zipp>=0.5 in /opt/conda/lib/python3.9/site-packages (from importlib-metadata>=3.6->typeguard==4.1.4->skimpy) (3.5.0)\n",
      "Requirement already satisfied: packaging in /opt/conda/lib/python3.9/site-packages (from ipykernel<7.0.0,>=6.7.0->skimpy) (21.3)\n",
      "Requirement already satisfied: tornado>=6.1 in /opt/conda/lib/python3.9/site-packages (from ipykernel<7.0.0,>=6.7.0->skimpy) (6.1)\n",
      "Requirement already satisfied: pyzmq>=20 in /opt/conda/lib/python3.9/site-packages (from ipykernel<7.0.0,>=6.7.0->skimpy) (22.1.0)\n",
      "Requirement already satisfied: traitlets>=5.4.0 in /opt/conda/lib/python3.9/site-packages (from ipykernel<7.0.0,>=6.7.0->skimpy) (5.10.0)\n",
      "Requirement already satisfied: debugpy>=1.6.5 in /opt/conda/lib/python3.9/site-packages (from ipykernel<7.0.0,>=6.7.0->skimpy) (1.8.0)\n",
      "Requirement already satisfied: ipython>=7.23.1 in /opt/conda/lib/python3.9/site-packages (from ipykernel<7.0.0,>=6.7.0->skimpy) (7.25.0)\n",
      "Requirement already satisfied: psutil in /opt/conda/lib/python3.9/site-packages (from ipykernel<7.0.0,>=6.7.0->skimpy) (5.9.5)\n",
      "Requirement already satisfied: matplotlib-inline>=0.1 in /opt/conda/lib/python3.9/site-packages (from ipykernel<7.0.0,>=6.7.0->skimpy) (0.1.2)\n",
      "Requirement already satisfied: comm>=0.1.1 in /opt/conda/lib/python3.9/site-packages (from ipykernel<7.0.0,>=6.7.0->skimpy) (0.1.4)\n",
      "Requirement already satisfied: nest-asyncio in /opt/conda/lib/python3.9/site-packages (from ipykernel<7.0.0,>=6.7.0->skimpy) (1.5.1)\n",
      "Requirement already satisfied: jupyter-core!=5.0.*,>=4.12 in /opt/conda/lib/python3.9/site-packages (from ipykernel<7.0.0,>=6.7.0->skimpy) (5.3.1)\n",
      "Requirement already satisfied: jupyter-client>=6.1.12 in /opt/conda/lib/python3.9/site-packages (from ipykernel<7.0.0,>=6.7.0->skimpy) (6.1.12)\n",
      "Requirement already satisfied: backcall in /opt/conda/lib/python3.9/site-packages (from ipython>=7.23.1->ipykernel<7.0.0,>=6.7.0->skimpy) (0.2.0)\n",
      "Requirement already satisfied: pickleshare in /opt/conda/lib/python3.9/site-packages (from ipython>=7.23.1->ipykernel<7.0.0,>=6.7.0->skimpy) (0.7.5)\n",
      "Requirement already satisfied: prompt-toolkit!=3.0.0,!=3.0.1,<3.1.0,>=2.0.0 in /opt/conda/lib/python3.9/site-packages (from ipython>=7.23.1->ipykernel<7.0.0,>=6.7.0->skimpy) (3.0.19)\n",
      "Requirement already satisfied: jedi>=0.16 in /opt/conda/lib/python3.9/site-packages (from ipython>=7.23.1->ipykernel<7.0.0,>=6.7.0->skimpy) (0.18.0)\n",
      "Requirement already satisfied: pexpect>4.3 in /opt/conda/lib/python3.9/site-packages (from ipython>=7.23.1->ipykernel<7.0.0,>=6.7.0->skimpy) (4.8.0)\n",
      "Requirement already satisfied: decorator in /opt/conda/lib/python3.9/site-packages (from ipython>=7.23.1->ipykernel<7.0.0,>=6.7.0->skimpy) (5.0.9)\n",
      "Requirement already satisfied: setuptools>=18.5 in /opt/conda/lib/python3.9/site-packages (from ipython>=7.23.1->ipykernel<7.0.0,>=6.7.0->skimpy) (49.6.0.post20210108)\n",
      "Requirement already satisfied: parso<0.9.0,>=0.8.0 in /opt/conda/lib/python3.9/site-packages (from jedi>=0.16->ipython>=7.23.1->ipykernel<7.0.0,>=6.7.0->skimpy) (0.8.2)\n",
      "Requirement already satisfied: ipywidgets in /opt/conda/lib/python3.9/site-packages (from jupyter<2.0.0,>=1.0.0->skimpy) (7.6.3)\n",
      "Requirement already satisfied: jupyter-console in /opt/conda/lib/python3.9/site-packages (from jupyter<2.0.0,>=1.0.0->skimpy) (6.4.2)\n",
      "Requirement already satisfied: notebook in /opt/conda/lib/python3.9/site-packages (from jupyter<2.0.0,>=1.0.0->skimpy) (6.4.0)\n",
      "Requirement already satisfied: qtconsole in /opt/conda/lib/python3.9/site-packages (from jupyter<2.0.0,>=1.0.0->skimpy) (5.3.2)\n",
      "Requirement already satisfied: nbconvert in /opt/conda/lib/python3.9/site-packages (from jupyter<2.0.0,>=1.0.0->skimpy) (6.1.0)\n",
      "Requirement already satisfied: python-dateutil>=2.1 in /opt/conda/lib/python3.9/site-packages (from jupyter-client>=6.1.12->ipykernel<7.0.0,>=6.7.0->skimpy) (2.8.2)\n",
      "Requirement already satisfied: platformdirs>=2.5 in /opt/conda/lib/python3.9/site-packages (from jupyter-core!=5.0.*,>=4.12->ipykernel<7.0.0,>=6.7.0->skimpy) (3.10.0)\n",
      "Requirement already satisfied: tzdata>=2022.1 in /opt/conda/lib/python3.9/site-packages (from pandas<3.0.0,>=2.0.3->skimpy) (2023.3)\n",
      "Requirement already satisfied: pytz>=2020.1 in /opt/conda/lib/python3.9/site-packages (from pandas<3.0.0,>=2.0.3->skimpy) (2021.1)\n",
      "Requirement already satisfied: ptyprocess>=0.5 in /opt/conda/lib/python3.9/site-packages (from pexpect>4.3->ipython>=7.23.1->ipykernel<7.0.0,>=6.7.0->skimpy) (0.7.0)\n",
      "Requirement already satisfied: wcwidth in /opt/conda/lib/python3.9/site-packages (from prompt-toolkit!=3.0.0,!=3.0.1,<3.1.0,>=2.0.0->ipython>=7.23.1->ipykernel<7.0.0,>=6.7.0->skimpy) (0.2.5)\n",
      "Requirement already satisfied: six>=1.5 in /opt/conda/lib/python3.9/site-packages (from python-dateutil>=2.1->jupyter-client>=6.1.12->ipykernel<7.0.0,>=6.7.0->skimpy) (1.16.0)\n",
      "Requirement already satisfied: markdown-it-py>=2.2.0 in /opt/conda/lib/python3.9/site-packages (from rich<14.0,>=10.9->skimpy) (3.0.0)\n",
      "Requirement already satisfied: mdurl~=0.1 in /opt/conda/lib/python3.9/site-packages (from markdown-it-py>=2.2.0->rich<14.0,>=10.9->skimpy) (0.1.2)\n",
      "Requirement already satisfied: widgetsnbextension~=3.5.0 in /opt/conda/lib/python3.9/site-packages (from ipywidgets->jupyter<2.0.0,>=1.0.0->skimpy) (3.5.2)\n",
      "Requirement already satisfied: jupyterlab-widgets>=1.0.0 in /opt/conda/lib/python3.9/site-packages (from ipywidgets->jupyter<2.0.0,>=1.0.0->skimpy) (3.0.2)\n",
      "Requirement already satisfied: nbformat>=4.2.0 in /opt/conda/lib/python3.9/site-packages (from ipywidgets->jupyter<2.0.0,>=1.0.0->skimpy) (5.1.3)\n",
      "Requirement already satisfied: jsonschema!=2.5.0,>=2.4 in /opt/conda/lib/python3.9/site-packages (from nbformat>=4.2.0->ipywidgets->jupyter<2.0.0,>=1.0.0->skimpy) (3.2.0)\n",
      "Requirement already satisfied: ipython-genutils in /opt/conda/lib/python3.9/site-packages (from nbformat>=4.2.0->ipywidgets->jupyter<2.0.0,>=1.0.0->skimpy) (0.2.0)\n",
      "Requirement already satisfied: pyrsistent>=0.14.0 in /opt/conda/lib/python3.9/site-packages (from jsonschema!=2.5.0,>=2.4->nbformat>=4.2.0->ipywidgets->jupyter<2.0.0,>=1.0.0->skimpy) (0.17.3)\n",
      "Requirement already satisfied: attrs>=17.4.0 in /opt/conda/lib/python3.9/site-packages (from jsonschema!=2.5.0,>=2.4->nbformat>=4.2.0->ipywidgets->jupyter<2.0.0,>=1.0.0->skimpy) (21.2.0)\n",
      "Requirement already satisfied: Send2Trash>=1.5.0 in /opt/conda/lib/python3.9/site-packages (from notebook->jupyter<2.0.0,>=1.0.0->skimpy) (1.7.1)\n",
      "Requirement already satisfied: argon2-cffi in /opt/conda/lib/python3.9/site-packages (from notebook->jupyter<2.0.0,>=1.0.0->skimpy) (20.1.0)\n",
      "Requirement already satisfied: prometheus-client in /opt/conda/lib/python3.9/site-packages (from notebook->jupyter<2.0.0,>=1.0.0->skimpy) (0.11.0)\n",
      "Requirement already satisfied: terminado>=0.8.3 in /opt/conda/lib/python3.9/site-packages (from notebook->jupyter<2.0.0,>=1.0.0->skimpy) (0.10.1)\n",
      "Requirement already satisfied: jinja2 in /opt/conda/lib/python3.9/site-packages (from notebook->jupyter<2.0.0,>=1.0.0->skimpy) (3.0.1)\n",
      "Requirement already satisfied: cffi>=1.0.0 in /opt/conda/lib/python3.9/site-packages (from argon2-cffi->notebook->jupyter<2.0.0,>=1.0.0->skimpy) (1.14.5)\n",
      "Requirement already satisfied: pycparser in /opt/conda/lib/python3.9/site-packages (from cffi>=1.0.0->argon2-cffi->notebook->jupyter<2.0.0,>=1.0.0->skimpy) (2.20)\n",
      "Requirement already satisfied: MarkupSafe>=2.0 in /opt/conda/lib/python3.9/site-packages (from jinja2->notebook->jupyter<2.0.0,>=1.0.0->skimpy) (2.1.1)\n",
      "Requirement already satisfied: bleach in /opt/conda/lib/python3.9/site-packages (from nbconvert->jupyter<2.0.0,>=1.0.0->skimpy) (3.3.0)\n",
      "Requirement already satisfied: pandocfilters>=1.4.1 in /opt/conda/lib/python3.9/site-packages (from nbconvert->jupyter<2.0.0,>=1.0.0->skimpy) (1.4.2)\n",
      "Requirement already satisfied: mistune<2,>=0.8.1 in /opt/conda/lib/python3.9/site-packages (from nbconvert->jupyter<2.0.0,>=1.0.0->skimpy) (0.8.4)\n",
      "Requirement already satisfied: nbclient<0.6.0,>=0.5.0 in /opt/conda/lib/python3.9/site-packages (from nbconvert->jupyter<2.0.0,>=1.0.0->skimpy) (0.5.3)\n",
      "Requirement already satisfied: entrypoints>=0.2.2 in /opt/conda/lib/python3.9/site-packages (from nbconvert->jupyter<2.0.0,>=1.0.0->skimpy) (0.3)\n",
      "Requirement already satisfied: testpath in /opt/conda/lib/python3.9/site-packages (from nbconvert->jupyter<2.0.0,>=1.0.0->skimpy) (0.5.0)\n",
      "Requirement already satisfied: jupyterlab-pygments in /opt/conda/lib/python3.9/site-packages (from nbconvert->jupyter<2.0.0,>=1.0.0->skimpy) (0.1.2)\n",
      "Requirement already satisfied: defusedxml in /opt/conda/lib/python3.9/site-packages (from nbconvert->jupyter<2.0.0,>=1.0.0->skimpy) (0.7.1)\n",
      "Requirement already satisfied: async-generator in /opt/conda/lib/python3.9/site-packages (from nbclient<0.6.0,>=0.5.0->nbconvert->jupyter<2.0.0,>=1.0.0->skimpy) (1.10)\n",
      "Requirement already satisfied: webencodings in /opt/conda/lib/python3.9/site-packages (from bleach->nbconvert->jupyter<2.0.0,>=1.0.0->skimpy) (0.5.1)\n",
      "Requirement already satisfied: pyparsing!=3.0.5,>=2.0.2 in /opt/conda/lib/python3.9/site-packages (from packaging->ipykernel<7.0.0,>=6.7.0->skimpy) (2.4.7)\n",
      "Requirement already satisfied: qtpy>=2.0.1 in /opt/conda/lib/python3.9/site-packages (from qtconsole->jupyter<2.0.0,>=1.0.0->skimpy) (2.2.0)\n",
      "Installing collected packages: pandas\n",
      "  Attempting uninstall: pandas\n",
      "    Found existing installation: pandas 1.5.3\n",
      "    Uninstalling pandas-1.5.3:\n",
      "      Successfully uninstalled pandas-1.5.3\n",
      "Successfully installed pandas-2.1.0\n",
      "Collecting pandas==1.5.3\n",
      "  Using cached pandas-1.5.3-cp39-cp39-manylinux_2_17_x86_64.manylinux2014_x86_64.whl (12.2 MB)\n",
      "Requirement already satisfied: pytz>=2020.1 in /opt/conda/lib/python3.9/site-packages (from pandas==1.5.3) (2021.1)\n",
      "Requirement already satisfied: python-dateutil>=2.8.1 in /opt/conda/lib/python3.9/site-packages (from pandas==1.5.3) (2.8.2)\n",
      "Requirement already satisfied: numpy>=1.20.3 in /opt/conda/lib/python3.9/site-packages (from pandas==1.5.3) (1.24.4)\n",
      "Requirement already satisfied: six>=1.5 in /opt/conda/lib/python3.9/site-packages (from python-dateutil>=2.8.1->pandas==1.5.3) (1.16.0)\n",
      "Installing collected packages: pandas\n",
      "  Attempting uninstall: pandas\n",
      "    Found existing installation: pandas 2.1.0\n",
      "    Uninstalling pandas-2.1.0:\n",
      "      Successfully uninstalled pandas-2.1.0\n",
      "\u001b[31mERROR: pip's dependency resolver does not currently take into account all the packages that are installed. This behaviour is the source of the following dependency conflicts.\n",
      "skimpy 0.0.11 requires pandas<3.0.0,>=2.0.3, but you have pandas 1.5.3 which is incompatible.\u001b[0m\n",
      "Successfully installed pandas-1.5.3\n"
     ]
    }
   ],
   "source": [
    "!pip install skimpy\n",
    "!pip install -U pandas==1.5.3"
   ]
  },
  {
   "cell_type": "code",
   "execution_count": 2,
   "metadata": {},
   "outputs": [],
   "source": [
    "import pandas as pd\n",
    "import numpy as np\n",
    "import time\n",
    "from skimpy import clean_columns\n",
    "from matplotlib import pyplot as plt\n",
    "import warnings\n",
    "warnings.filterwarnings('ignore')\n",
    "\n",
    "from sklearn.model_selection import train_test_split\n",
    "from sklearn.preprocessing import StandardScaler, OrdinalEncoder\n",
    "from sklearn.ensemble import RandomForestRegressor\n",
    "from catboost import CatBoostRegressor\n",
    "from lightgbm import LGBMRegressor\n",
    "from sklearn.dummy import DummyRegressor\n",
    "from sklearn.metrics import mean_squared_error\n",
    "from math import sqrt\n",
    "\n",
    "STATE = 42"
   ]
  },
  {
   "cell_type": "code",
   "execution_count": 3,
   "metadata": {},
   "outputs": [],
   "source": [
    "try:\n",
    "    df = pd.read_csv('/datasets/autos.csv')\n",
    "except:\n",
    "    df = pd.read_csv('https://code.s3.yandex.net/datasets/autos.csv')"
   ]
  },
  {
   "cell_type": "code",
   "execution_count": 4,
   "metadata": {
    "scrolled": false
   },
   "outputs": [
    {
     "name": "stdout",
     "output_type": "stream",
     "text": [
      "<class 'pandas.core.frame.DataFrame'>\n",
      "RangeIndex: 354369 entries, 0 to 354368\n",
      "Data columns (total 16 columns):\n",
      " #   Column             Non-Null Count   Dtype \n",
      "---  ------             --------------   ----- \n",
      " 0   DateCrawled        354369 non-null  object\n",
      " 1   Price              354369 non-null  int64 \n",
      " 2   VehicleType        316879 non-null  object\n",
      " 3   RegistrationYear   354369 non-null  int64 \n",
      " 4   Gearbox            334536 non-null  object\n",
      " 5   Power              354369 non-null  int64 \n",
      " 6   Model              334664 non-null  object\n",
      " 7   Kilometer          354369 non-null  int64 \n",
      " 8   RegistrationMonth  354369 non-null  int64 \n",
      " 9   FuelType           321474 non-null  object\n",
      " 10  Brand              354369 non-null  object\n",
      " 11  Repaired           283215 non-null  object\n",
      " 12  DateCreated        354369 non-null  object\n",
      " 13  NumberOfPictures   354369 non-null  int64 \n",
      " 14  PostalCode         354369 non-null  int64 \n",
      " 15  LastSeen           354369 non-null  object\n",
      "dtypes: int64(7), object(9)\n",
      "memory usage: 43.3+ MB\n"
     ]
    }
   ],
   "source": [
    "df.info()"
   ]
  },
  {
   "cell_type": "markdown",
   "metadata": {},
   "source": [
    "**Признаки**\n",
    "* DateCrawled — дата скачивания анкеты из базы\n",
    "* VehicleType — тип автомобильного кузова\n",
    "* RegistrationYear — год регистрации автомобиля\n",
    "* Gearbox — тип коробки передач\n",
    "* Power — мощность (л. с.)\n",
    "* Model — модель автомобиля\n",
    "* Kilometer — пробег (км)\n",
    "* RegistrationMonth — месяц регистрации автомобиля\n",
    "* FuelType — тип топлива\n",
    "* Brand — марка автомобиля\n",
    "* Repaired — была машина в ремонте или нет\n",
    "* DateCreated — дата создания анкеты\n",
    "* NumberOfPictures — количество фотографий автомобиля\n",
    "* PostalCode — почтовый индекс владельца анкеты (пользователя)\n",
    "* LastSeen — дата последней активности пользователя\n",
    "\n",
    "\n",
    "**Целевой признак**\n",
    "* Price — цена (евро)"
   ]
  },
  {
   "cell_type": "code",
   "execution_count": 5,
   "metadata": {},
   "outputs": [],
   "source": [
    "df = clean_columns(df)"
   ]
  },
  {
   "cell_type": "code",
   "execution_count": 6,
   "metadata": {},
   "outputs": [
    {
     "data": {
      "text/html": [
       "<div>\n",
       "<style scoped>\n",
       "    .dataframe tbody tr th:only-of-type {\n",
       "        vertical-align: middle;\n",
       "    }\n",
       "\n",
       "    .dataframe tbody tr th {\n",
       "        vertical-align: top;\n",
       "    }\n",
       "\n",
       "    .dataframe thead th {\n",
       "        text-align: right;\n",
       "    }\n",
       "</style>\n",
       "<table border=\"1\" class=\"dataframe\">\n",
       "  <thead>\n",
       "    <tr style=\"text-align: right;\">\n",
       "      <th></th>\n",
       "      <th>date_crawled</th>\n",
       "      <th>price</th>\n",
       "      <th>vehicle_type</th>\n",
       "      <th>registration_year</th>\n",
       "      <th>gearbox</th>\n",
       "      <th>power</th>\n",
       "      <th>model</th>\n",
       "      <th>kilometer</th>\n",
       "      <th>registration_month</th>\n",
       "      <th>fuel_type</th>\n",
       "      <th>brand</th>\n",
       "      <th>repaired</th>\n",
       "      <th>date_created</th>\n",
       "      <th>number_of_pictures</th>\n",
       "      <th>postal_code</th>\n",
       "      <th>last_seen</th>\n",
       "    </tr>\n",
       "  </thead>\n",
       "  <tbody>\n",
       "    <tr>\n",
       "      <th>0</th>\n",
       "      <td>2016-03-24 11:52:17</td>\n",
       "      <td>480</td>\n",
       "      <td>NaN</td>\n",
       "      <td>1993</td>\n",
       "      <td>manual</td>\n",
       "      <td>0</td>\n",
       "      <td>golf</td>\n",
       "      <td>150000</td>\n",
       "      <td>0</td>\n",
       "      <td>petrol</td>\n",
       "      <td>volkswagen</td>\n",
       "      <td>NaN</td>\n",
       "      <td>2016-03-24 00:00:00</td>\n",
       "      <td>0</td>\n",
       "      <td>70435</td>\n",
       "      <td>2016-04-07 03:16:57</td>\n",
       "    </tr>\n",
       "    <tr>\n",
       "      <th>1</th>\n",
       "      <td>2016-03-24 10:58:45</td>\n",
       "      <td>18300</td>\n",
       "      <td>coupe</td>\n",
       "      <td>2011</td>\n",
       "      <td>manual</td>\n",
       "      <td>190</td>\n",
       "      <td>NaN</td>\n",
       "      <td>125000</td>\n",
       "      <td>5</td>\n",
       "      <td>gasoline</td>\n",
       "      <td>audi</td>\n",
       "      <td>yes</td>\n",
       "      <td>2016-03-24 00:00:00</td>\n",
       "      <td>0</td>\n",
       "      <td>66954</td>\n",
       "      <td>2016-04-07 01:46:50</td>\n",
       "    </tr>\n",
       "    <tr>\n",
       "      <th>2</th>\n",
       "      <td>2016-03-14 12:52:21</td>\n",
       "      <td>9800</td>\n",
       "      <td>suv</td>\n",
       "      <td>2004</td>\n",
       "      <td>auto</td>\n",
       "      <td>163</td>\n",
       "      <td>grand</td>\n",
       "      <td>125000</td>\n",
       "      <td>8</td>\n",
       "      <td>gasoline</td>\n",
       "      <td>jeep</td>\n",
       "      <td>NaN</td>\n",
       "      <td>2016-03-14 00:00:00</td>\n",
       "      <td>0</td>\n",
       "      <td>90480</td>\n",
       "      <td>2016-04-05 12:47:46</td>\n",
       "    </tr>\n",
       "    <tr>\n",
       "      <th>3</th>\n",
       "      <td>2016-03-17 16:54:04</td>\n",
       "      <td>1500</td>\n",
       "      <td>small</td>\n",
       "      <td>2001</td>\n",
       "      <td>manual</td>\n",
       "      <td>75</td>\n",
       "      <td>golf</td>\n",
       "      <td>150000</td>\n",
       "      <td>6</td>\n",
       "      <td>petrol</td>\n",
       "      <td>volkswagen</td>\n",
       "      <td>no</td>\n",
       "      <td>2016-03-17 00:00:00</td>\n",
       "      <td>0</td>\n",
       "      <td>91074</td>\n",
       "      <td>2016-03-17 17:40:17</td>\n",
       "    </tr>\n",
       "    <tr>\n",
       "      <th>4</th>\n",
       "      <td>2016-03-31 17:25:20</td>\n",
       "      <td>3600</td>\n",
       "      <td>small</td>\n",
       "      <td>2008</td>\n",
       "      <td>manual</td>\n",
       "      <td>69</td>\n",
       "      <td>fabia</td>\n",
       "      <td>90000</td>\n",
       "      <td>7</td>\n",
       "      <td>gasoline</td>\n",
       "      <td>skoda</td>\n",
       "      <td>no</td>\n",
       "      <td>2016-03-31 00:00:00</td>\n",
       "      <td>0</td>\n",
       "      <td>60437</td>\n",
       "      <td>2016-04-06 10:17:21</td>\n",
       "    </tr>\n",
       "    <tr>\n",
       "      <th>5</th>\n",
       "      <td>2016-04-04 17:36:23</td>\n",
       "      <td>650</td>\n",
       "      <td>sedan</td>\n",
       "      <td>1995</td>\n",
       "      <td>manual</td>\n",
       "      <td>102</td>\n",
       "      <td>3er</td>\n",
       "      <td>150000</td>\n",
       "      <td>10</td>\n",
       "      <td>petrol</td>\n",
       "      <td>bmw</td>\n",
       "      <td>yes</td>\n",
       "      <td>2016-04-04 00:00:00</td>\n",
       "      <td>0</td>\n",
       "      <td>33775</td>\n",
       "      <td>2016-04-06 19:17:07</td>\n",
       "    </tr>\n",
       "    <tr>\n",
       "      <th>6</th>\n",
       "      <td>2016-04-01 20:48:51</td>\n",
       "      <td>2200</td>\n",
       "      <td>convertible</td>\n",
       "      <td>2004</td>\n",
       "      <td>manual</td>\n",
       "      <td>109</td>\n",
       "      <td>2_reihe</td>\n",
       "      <td>150000</td>\n",
       "      <td>8</td>\n",
       "      <td>petrol</td>\n",
       "      <td>peugeot</td>\n",
       "      <td>no</td>\n",
       "      <td>2016-04-01 00:00:00</td>\n",
       "      <td>0</td>\n",
       "      <td>67112</td>\n",
       "      <td>2016-04-05 18:18:39</td>\n",
       "    </tr>\n",
       "    <tr>\n",
       "      <th>7</th>\n",
       "      <td>2016-03-21 18:54:38</td>\n",
       "      <td>0</td>\n",
       "      <td>sedan</td>\n",
       "      <td>1980</td>\n",
       "      <td>manual</td>\n",
       "      <td>50</td>\n",
       "      <td>other</td>\n",
       "      <td>40000</td>\n",
       "      <td>7</td>\n",
       "      <td>petrol</td>\n",
       "      <td>volkswagen</td>\n",
       "      <td>no</td>\n",
       "      <td>2016-03-21 00:00:00</td>\n",
       "      <td>0</td>\n",
       "      <td>19348</td>\n",
       "      <td>2016-03-25 16:47:58</td>\n",
       "    </tr>\n",
       "    <tr>\n",
       "      <th>8</th>\n",
       "      <td>2016-04-04 23:42:13</td>\n",
       "      <td>14500</td>\n",
       "      <td>bus</td>\n",
       "      <td>2014</td>\n",
       "      <td>manual</td>\n",
       "      <td>125</td>\n",
       "      <td>c_max</td>\n",
       "      <td>30000</td>\n",
       "      <td>8</td>\n",
       "      <td>petrol</td>\n",
       "      <td>ford</td>\n",
       "      <td>NaN</td>\n",
       "      <td>2016-04-04 00:00:00</td>\n",
       "      <td>0</td>\n",
       "      <td>94505</td>\n",
       "      <td>2016-04-04 23:42:13</td>\n",
       "    </tr>\n",
       "    <tr>\n",
       "      <th>9</th>\n",
       "      <td>2016-03-17 10:53:50</td>\n",
       "      <td>999</td>\n",
       "      <td>small</td>\n",
       "      <td>1998</td>\n",
       "      <td>manual</td>\n",
       "      <td>101</td>\n",
       "      <td>golf</td>\n",
       "      <td>150000</td>\n",
       "      <td>0</td>\n",
       "      <td>NaN</td>\n",
       "      <td>volkswagen</td>\n",
       "      <td>NaN</td>\n",
       "      <td>2016-03-17 00:00:00</td>\n",
       "      <td>0</td>\n",
       "      <td>27472</td>\n",
       "      <td>2016-03-31 17:17:06</td>\n",
       "    </tr>\n",
       "  </tbody>\n",
       "</table>\n",
       "</div>"
      ],
      "text/plain": [
       "          date_crawled  price vehicle_type  registration_year gearbox  power  \\\n",
       "0  2016-03-24 11:52:17    480          NaN               1993  manual      0   \n",
       "1  2016-03-24 10:58:45  18300        coupe               2011  manual    190   \n",
       "2  2016-03-14 12:52:21   9800          suv               2004    auto    163   \n",
       "3  2016-03-17 16:54:04   1500        small               2001  manual     75   \n",
       "4  2016-03-31 17:25:20   3600        small               2008  manual     69   \n",
       "5  2016-04-04 17:36:23    650        sedan               1995  manual    102   \n",
       "6  2016-04-01 20:48:51   2200  convertible               2004  manual    109   \n",
       "7  2016-03-21 18:54:38      0        sedan               1980  manual     50   \n",
       "8  2016-04-04 23:42:13  14500          bus               2014  manual    125   \n",
       "9  2016-03-17 10:53:50    999        small               1998  manual    101   \n",
       "\n",
       "     model  kilometer  registration_month fuel_type       brand repaired  \\\n",
       "0     golf     150000                   0    petrol  volkswagen      NaN   \n",
       "1      NaN     125000                   5  gasoline        audi      yes   \n",
       "2    grand     125000                   8  gasoline        jeep      NaN   \n",
       "3     golf     150000                   6    petrol  volkswagen       no   \n",
       "4    fabia      90000                   7  gasoline       skoda       no   \n",
       "5      3er     150000                  10    petrol         bmw      yes   \n",
       "6  2_reihe     150000                   8    petrol     peugeot       no   \n",
       "7    other      40000                   7    petrol  volkswagen       no   \n",
       "8    c_max      30000                   8    petrol        ford      NaN   \n",
       "9     golf     150000                   0       NaN  volkswagen      NaN   \n",
       "\n",
       "          date_created  number_of_pictures  postal_code            last_seen  \n",
       "0  2016-03-24 00:00:00                   0        70435  2016-04-07 03:16:57  \n",
       "1  2016-03-24 00:00:00                   0        66954  2016-04-07 01:46:50  \n",
       "2  2016-03-14 00:00:00                   0        90480  2016-04-05 12:47:46  \n",
       "3  2016-03-17 00:00:00                   0        91074  2016-03-17 17:40:17  \n",
       "4  2016-03-31 00:00:00                   0        60437  2016-04-06 10:17:21  \n",
       "5  2016-04-04 00:00:00                   0        33775  2016-04-06 19:17:07  \n",
       "6  2016-04-01 00:00:00                   0        67112  2016-04-05 18:18:39  \n",
       "7  2016-03-21 00:00:00                   0        19348  2016-03-25 16:47:58  \n",
       "8  2016-04-04 00:00:00                   0        94505  2016-04-04 23:42:13  \n",
       "9  2016-03-17 00:00:00                   0        27472  2016-03-31 17:17:06  "
      ]
     },
     "execution_count": 6,
     "metadata": {},
     "output_type": "execute_result"
    }
   ],
   "source": [
    "df.head(10)"
   ]
  },
  {
   "cell_type": "code",
   "execution_count": 7,
   "metadata": {
    "scrolled": false
   },
   "outputs": [
    {
     "data": {
      "text/html": [
       "<div>\n",
       "<style scoped>\n",
       "    .dataframe tbody tr th:only-of-type {\n",
       "        vertical-align: middle;\n",
       "    }\n",
       "\n",
       "    .dataframe tbody tr th {\n",
       "        vertical-align: top;\n",
       "    }\n",
       "\n",
       "    .dataframe thead th {\n",
       "        text-align: right;\n",
       "    }\n",
       "</style>\n",
       "<table border=\"1\" class=\"dataframe\">\n",
       "  <thead>\n",
       "    <tr style=\"text-align: right;\">\n",
       "      <th></th>\n",
       "      <th>count</th>\n",
       "      <th>unique</th>\n",
       "      <th>top</th>\n",
       "      <th>freq</th>\n",
       "      <th>mean</th>\n",
       "      <th>std</th>\n",
       "      <th>min</th>\n",
       "      <th>25%</th>\n",
       "      <th>50%</th>\n",
       "      <th>75%</th>\n",
       "      <th>max</th>\n",
       "    </tr>\n",
       "  </thead>\n",
       "  <tbody>\n",
       "    <tr>\n",
       "      <th>date_crawled</th>\n",
       "      <td>354369</td>\n",
       "      <td>271174</td>\n",
       "      <td>2016-03-24 14:49:47</td>\n",
       "      <td>7</td>\n",
       "      <td>NaN</td>\n",
       "      <td>NaN</td>\n",
       "      <td>NaN</td>\n",
       "      <td>NaN</td>\n",
       "      <td>NaN</td>\n",
       "      <td>NaN</td>\n",
       "      <td>NaN</td>\n",
       "    </tr>\n",
       "    <tr>\n",
       "      <th>price</th>\n",
       "      <td>354369.0</td>\n",
       "      <td>NaN</td>\n",
       "      <td>NaN</td>\n",
       "      <td>NaN</td>\n",
       "      <td>4416.656776</td>\n",
       "      <td>4514.158514</td>\n",
       "      <td>0.0</td>\n",
       "      <td>1050.0</td>\n",
       "      <td>2700.0</td>\n",
       "      <td>6400.0</td>\n",
       "      <td>20000.0</td>\n",
       "    </tr>\n",
       "    <tr>\n",
       "      <th>vehicle_type</th>\n",
       "      <td>316879</td>\n",
       "      <td>8</td>\n",
       "      <td>sedan</td>\n",
       "      <td>91457</td>\n",
       "      <td>NaN</td>\n",
       "      <td>NaN</td>\n",
       "      <td>NaN</td>\n",
       "      <td>NaN</td>\n",
       "      <td>NaN</td>\n",
       "      <td>NaN</td>\n",
       "      <td>NaN</td>\n",
       "    </tr>\n",
       "    <tr>\n",
       "      <th>registration_year</th>\n",
       "      <td>354369.0</td>\n",
       "      <td>NaN</td>\n",
       "      <td>NaN</td>\n",
       "      <td>NaN</td>\n",
       "      <td>2004.234448</td>\n",
       "      <td>90.227958</td>\n",
       "      <td>1000.0</td>\n",
       "      <td>1999.0</td>\n",
       "      <td>2003.0</td>\n",
       "      <td>2008.0</td>\n",
       "      <td>9999.0</td>\n",
       "    </tr>\n",
       "    <tr>\n",
       "      <th>gearbox</th>\n",
       "      <td>334536</td>\n",
       "      <td>2</td>\n",
       "      <td>manual</td>\n",
       "      <td>268251</td>\n",
       "      <td>NaN</td>\n",
       "      <td>NaN</td>\n",
       "      <td>NaN</td>\n",
       "      <td>NaN</td>\n",
       "      <td>NaN</td>\n",
       "      <td>NaN</td>\n",
       "      <td>NaN</td>\n",
       "    </tr>\n",
       "    <tr>\n",
       "      <th>power</th>\n",
       "      <td>354369.0</td>\n",
       "      <td>NaN</td>\n",
       "      <td>NaN</td>\n",
       "      <td>NaN</td>\n",
       "      <td>110.094337</td>\n",
       "      <td>189.850405</td>\n",
       "      <td>0.0</td>\n",
       "      <td>69.0</td>\n",
       "      <td>105.0</td>\n",
       "      <td>143.0</td>\n",
       "      <td>20000.0</td>\n",
       "    </tr>\n",
       "    <tr>\n",
       "      <th>model</th>\n",
       "      <td>334664</td>\n",
       "      <td>250</td>\n",
       "      <td>golf</td>\n",
       "      <td>29232</td>\n",
       "      <td>NaN</td>\n",
       "      <td>NaN</td>\n",
       "      <td>NaN</td>\n",
       "      <td>NaN</td>\n",
       "      <td>NaN</td>\n",
       "      <td>NaN</td>\n",
       "      <td>NaN</td>\n",
       "    </tr>\n",
       "    <tr>\n",
       "      <th>kilometer</th>\n",
       "      <td>354369.0</td>\n",
       "      <td>NaN</td>\n",
       "      <td>NaN</td>\n",
       "      <td>NaN</td>\n",
       "      <td>128211.172535</td>\n",
       "      <td>37905.34153</td>\n",
       "      <td>5000.0</td>\n",
       "      <td>125000.0</td>\n",
       "      <td>150000.0</td>\n",
       "      <td>150000.0</td>\n",
       "      <td>150000.0</td>\n",
       "    </tr>\n",
       "    <tr>\n",
       "      <th>registration_month</th>\n",
       "      <td>354369.0</td>\n",
       "      <td>NaN</td>\n",
       "      <td>NaN</td>\n",
       "      <td>NaN</td>\n",
       "      <td>5.714645</td>\n",
       "      <td>3.726421</td>\n",
       "      <td>0.0</td>\n",
       "      <td>3.0</td>\n",
       "      <td>6.0</td>\n",
       "      <td>9.0</td>\n",
       "      <td>12.0</td>\n",
       "    </tr>\n",
       "    <tr>\n",
       "      <th>fuel_type</th>\n",
       "      <td>321474</td>\n",
       "      <td>7</td>\n",
       "      <td>petrol</td>\n",
       "      <td>216352</td>\n",
       "      <td>NaN</td>\n",
       "      <td>NaN</td>\n",
       "      <td>NaN</td>\n",
       "      <td>NaN</td>\n",
       "      <td>NaN</td>\n",
       "      <td>NaN</td>\n",
       "      <td>NaN</td>\n",
       "    </tr>\n",
       "    <tr>\n",
       "      <th>brand</th>\n",
       "      <td>354369</td>\n",
       "      <td>40</td>\n",
       "      <td>volkswagen</td>\n",
       "      <td>77013</td>\n",
       "      <td>NaN</td>\n",
       "      <td>NaN</td>\n",
       "      <td>NaN</td>\n",
       "      <td>NaN</td>\n",
       "      <td>NaN</td>\n",
       "      <td>NaN</td>\n",
       "      <td>NaN</td>\n",
       "    </tr>\n",
       "    <tr>\n",
       "      <th>repaired</th>\n",
       "      <td>283215</td>\n",
       "      <td>2</td>\n",
       "      <td>no</td>\n",
       "      <td>247161</td>\n",
       "      <td>NaN</td>\n",
       "      <td>NaN</td>\n",
       "      <td>NaN</td>\n",
       "      <td>NaN</td>\n",
       "      <td>NaN</td>\n",
       "      <td>NaN</td>\n",
       "      <td>NaN</td>\n",
       "    </tr>\n",
       "    <tr>\n",
       "      <th>date_created</th>\n",
       "      <td>354369</td>\n",
       "      <td>109</td>\n",
       "      <td>2016-04-03 00:00:00</td>\n",
       "      <td>13719</td>\n",
       "      <td>NaN</td>\n",
       "      <td>NaN</td>\n",
       "      <td>NaN</td>\n",
       "      <td>NaN</td>\n",
       "      <td>NaN</td>\n",
       "      <td>NaN</td>\n",
       "      <td>NaN</td>\n",
       "    </tr>\n",
       "    <tr>\n",
       "      <th>number_of_pictures</th>\n",
       "      <td>354369.0</td>\n",
       "      <td>NaN</td>\n",
       "      <td>NaN</td>\n",
       "      <td>NaN</td>\n",
       "      <td>0.0</td>\n",
       "      <td>0.0</td>\n",
       "      <td>0.0</td>\n",
       "      <td>0.0</td>\n",
       "      <td>0.0</td>\n",
       "      <td>0.0</td>\n",
       "      <td>0.0</td>\n",
       "    </tr>\n",
       "    <tr>\n",
       "      <th>postal_code</th>\n",
       "      <td>354369.0</td>\n",
       "      <td>NaN</td>\n",
       "      <td>NaN</td>\n",
       "      <td>NaN</td>\n",
       "      <td>50508.689087</td>\n",
       "      <td>25783.096248</td>\n",
       "      <td>1067.0</td>\n",
       "      <td>30165.0</td>\n",
       "      <td>49413.0</td>\n",
       "      <td>71083.0</td>\n",
       "      <td>99998.0</td>\n",
       "    </tr>\n",
       "    <tr>\n",
       "      <th>last_seen</th>\n",
       "      <td>354369</td>\n",
       "      <td>179150</td>\n",
       "      <td>2016-04-06 13:45:54</td>\n",
       "      <td>17</td>\n",
       "      <td>NaN</td>\n",
       "      <td>NaN</td>\n",
       "      <td>NaN</td>\n",
       "      <td>NaN</td>\n",
       "      <td>NaN</td>\n",
       "      <td>NaN</td>\n",
       "      <td>NaN</td>\n",
       "    </tr>\n",
       "  </tbody>\n",
       "</table>\n",
       "</div>"
      ],
      "text/plain": [
       "                       count  unique                  top    freq  \\\n",
       "date_crawled          354369  271174  2016-03-24 14:49:47       7   \n",
       "price               354369.0     NaN                  NaN     NaN   \n",
       "vehicle_type          316879       8                sedan   91457   \n",
       "registration_year   354369.0     NaN                  NaN     NaN   \n",
       "gearbox               334536       2               manual  268251   \n",
       "power               354369.0     NaN                  NaN     NaN   \n",
       "model                 334664     250                 golf   29232   \n",
       "kilometer           354369.0     NaN                  NaN     NaN   \n",
       "registration_month  354369.0     NaN                  NaN     NaN   \n",
       "fuel_type             321474       7               petrol  216352   \n",
       "brand                 354369      40           volkswagen   77013   \n",
       "repaired              283215       2                   no  247161   \n",
       "date_created          354369     109  2016-04-03 00:00:00   13719   \n",
       "number_of_pictures  354369.0     NaN                  NaN     NaN   \n",
       "postal_code         354369.0     NaN                  NaN     NaN   \n",
       "last_seen             354369  179150  2016-04-06 13:45:54      17   \n",
       "\n",
       "                             mean           std     min       25%       50%  \\\n",
       "date_crawled                  NaN           NaN     NaN       NaN       NaN   \n",
       "price                 4416.656776   4514.158514     0.0    1050.0    2700.0   \n",
       "vehicle_type                  NaN           NaN     NaN       NaN       NaN   \n",
       "registration_year     2004.234448     90.227958  1000.0    1999.0    2003.0   \n",
       "gearbox                       NaN           NaN     NaN       NaN       NaN   \n",
       "power                  110.094337    189.850405     0.0      69.0     105.0   \n",
       "model                         NaN           NaN     NaN       NaN       NaN   \n",
       "kilometer           128211.172535   37905.34153  5000.0  125000.0  150000.0   \n",
       "registration_month       5.714645      3.726421     0.0       3.0       6.0   \n",
       "fuel_type                     NaN           NaN     NaN       NaN       NaN   \n",
       "brand                         NaN           NaN     NaN       NaN       NaN   \n",
       "repaired                      NaN           NaN     NaN       NaN       NaN   \n",
       "date_created                  NaN           NaN     NaN       NaN       NaN   \n",
       "number_of_pictures            0.0           0.0     0.0       0.0       0.0   \n",
       "postal_code          50508.689087  25783.096248  1067.0   30165.0   49413.0   \n",
       "last_seen                     NaN           NaN     NaN       NaN       NaN   \n",
       "\n",
       "                         75%       max  \n",
       "date_crawled             NaN       NaN  \n",
       "price                 6400.0   20000.0  \n",
       "vehicle_type             NaN       NaN  \n",
       "registration_year     2008.0    9999.0  \n",
       "gearbox                  NaN       NaN  \n",
       "power                  143.0   20000.0  \n",
       "model                    NaN       NaN  \n",
       "kilometer           150000.0  150000.0  \n",
       "registration_month       9.0      12.0  \n",
       "fuel_type                NaN       NaN  \n",
       "brand                    NaN       NaN  \n",
       "repaired                 NaN       NaN  \n",
       "date_created             NaN       NaN  \n",
       "number_of_pictures       0.0       0.0  \n",
       "postal_code          71083.0   99998.0  \n",
       "last_seen                NaN       NaN  "
      ]
     },
     "execution_count": 7,
     "metadata": {},
     "output_type": "execute_result"
    }
   ],
   "source": [
    "df.describe(include='all').T"
   ]
  },
  {
   "cell_type": "code",
   "execution_count": 8,
   "metadata": {},
   "outputs": [
    {
     "data": {
      "image/png": "[encoded data removed]",
      "text/plain": [
       "<Figure size 720x1080 with 1 Axes>"
      ]
     },
     "metadata": {
      "needs_background": "light"
     },
     "output_type": "display_data"
    }
   ],
   "source": [
    "df['price'].plot(kind='hist', figsize=(10, 15), grid=True)\n",
    "plt.title('Ценовое распределение.', size=20)\n",
    "plt.xlabel('Цена в евро.', size=15)\n",
    "plt.ylabel('Кол-во машин.', size=15)\n",
    "plt.show()"
   ]
  },
  {
   "cell_type": "markdown",
   "metadata": {},
   "source": [
    "В `price` есть нулевые и около нулевые значения, за нижний ценовой порог мы примем 500 евро. Что касаемо больших значений, то их уберём квантилем.\n",
    "\n",
    "С помощью столбца `date_created` определим верхний порог регистрации объявления и отсечём в `registration_year` результаты выше. За минимальную `registration_year` будем считать 1960 г., т.к. машины старше наврятли встретятся вне музея.\n",
    "\n",
    "В `power` уберём машины меньше 50 л.с., а верхний порог отделим квантилем."
   ]
  },
  {
   "cell_type": "code",
   "execution_count": 9,
   "metadata": {},
   "outputs": [
    {
     "data": {
      "text/plain": [
       "14600.0"
      ]
     },
     "execution_count": 9,
     "metadata": {},
     "output_type": "execute_result"
    }
   ],
   "source": [
    "np.quantile(df['price'], 0.95)"
   ]
  },
  {
   "cell_type": "code",
   "execution_count": 10,
   "metadata": {},
   "outputs": [],
   "source": [
    "df = df[df['price'] > 499]\n",
    "df = df[df['price'] < 14601]"
   ]
  },
  {
   "cell_type": "code",
   "execution_count": 11,
   "metadata": {},
   "outputs": [
    {
     "name": "stdout",
     "output_type": "stream",
     "text": [
      "2014-03-10 00:00:00\n",
      "2016-04-07 00:00:00\n"
     ]
    }
   ],
   "source": [
    "print(df['date_created'].min())\n",
    "print(df['date_created'].max())"
   ]
  },
  {
   "cell_type": "code",
   "execution_count": 12,
   "metadata": {},
   "outputs": [
    {
     "name": "stdout",
     "output_type": "stream",
     "text": [
      "[1000, 1001, 1039, 1234, 1400, 1500, 1600, 1602, 1800, 1910, 1923, 1925, 1928, 1929, 1930, 1931, 1932, 1934, 1935, 1936, 1937, 1938, 1940, 1941, 1942, 1943, 1944, 1945, 1946, 1948, 1949, 1950, 1951, 1952, 1953, 1954, 1955, 1956, 1957, 1958, 1959, 1960, 1961, 1962, 1963, 1964, 1965, 1966, 1967, 1968, 1969, 1970, 1971, 1972, 1973, 1974, 1975, 1976, 1977, 1978, 1979, 1980, 1981, 1982, 1983, 1984, 1985, 1986, 1987, 1988, 1989, 1990, 1991, 1992, 1993, 1994, 1995, 1996, 1997, 1998, 1999, 2000, 2001, 2002, 2003, 2004, 2005, 2006, 2007, 2008, 2009, 2010, 2011, 2012, 2013, 2014, 2015, 2016, 2017, 2018, 2019, 2066, 2290, 2500, 2800, 2900, 3000, 3200, 3700, 3800, 4000, 4100, 4500, 4800, 5000, 5300, 5555, 5911, 6000, 7000, 7100, 7800, 8200, 8500, 8888, 9000, 9450, 9999]\n"
     ]
    }
   ],
   "source": [
    "sort = df['registration_year'].unique()\n",
    "print(sorted(sort))"
   ]
  },
  {
   "cell_type": "code",
   "execution_count": 13,
   "metadata": {},
   "outputs": [],
   "source": [
    "#df.query('registration_year < 1960') # 422"
   ]
  },
  {
   "cell_type": "code",
   "execution_count": 14,
   "metadata": {},
   "outputs": [],
   "source": [
    "df = df[df['registration_year'] >= 1960]"
   ]
  },
  {
   "cell_type": "code",
   "execution_count": 15,
   "metadata": {},
   "outputs": [],
   "source": [
    "#df.query('registration_year > 2016') # 14530"
   ]
  },
  {
   "cell_type": "code",
   "execution_count": 16,
   "metadata": {},
   "outputs": [],
   "source": [
    "df = df[df['registration_year'] <= 2016]"
   ]
  },
  {
   "cell_type": "code",
   "execution_count": 17,
   "metadata": {},
   "outputs": [
    {
     "data": {
      "text/plain": [
       "210.0"
      ]
     },
     "execution_count": 17,
     "metadata": {},
     "output_type": "execute_result"
    }
   ],
   "source": [
    "np.quantile(df['power'], 0.95)"
   ]
  },
  {
   "cell_type": "code",
   "execution_count": 18,
   "metadata": {},
   "outputs": [],
   "source": [
    "df = df[df['power'] > 49]\n",
    "df = df[df['power'] < 205]"
   ]
  },
  {
   "cell_type": "code",
   "execution_count": 19,
   "metadata": {
    "scrolled": false
   },
   "outputs": [
    {
     "data": {
      "text/plain": [
       "date_crawled              0\n",
       "price                     0\n",
       "vehicle_type           7807\n",
       "registration_year         0\n",
       "gearbox                3968\n",
       "power                     0\n",
       "model                  8188\n",
       "kilometer                 0\n",
       "registration_month        0\n",
       "fuel_type             11496\n",
       "brand                     0\n",
       "repaired              33288\n",
       "date_created              0\n",
       "number_of_pictures        0\n",
       "postal_code               0\n",
       "last_seen                 0\n",
       "dtype: int64"
      ]
     },
     "execution_count": 19,
     "metadata": {},
     "output_type": "execute_result"
    }
   ],
   "source": [
    "df.isna().sum()"
   ]
  },
  {
   "cell_type": "code",
   "execution_count": 20,
   "metadata": {},
   "outputs": [
    {
     "name": "stdout",
     "output_type": "stream",
     "text": [
      "                    percent_missing\n",
      "date_crawled                   0.00\n",
      "price                          0.00\n",
      "vehicle_type                   3.20\n",
      "registration_year              0.00\n",
      "gearbox                        1.63\n",
      "power                          0.00\n",
      "model                          3.36\n",
      "kilometer                      0.00\n",
      "registration_month             0.00\n",
      "fuel_type                      4.71\n",
      "brand                          0.00\n",
      "repaired                      13.64\n",
      "date_created                   0.00\n",
      "number_of_pictures             0.00\n",
      "postal_code                    0.00\n",
      "last_seen                      0.00\n"
     ]
    }
   ],
   "source": [
    "percent_missing = df.isnull().sum() * 100 / len(df)\n",
    "missing_value_df = pd.DataFrame({'percent_missing': percent_missing})\n",
    "print(round(missing_value_df, 2))"
   ]
  },
  {
   "cell_type": "markdown",
   "metadata": {},
   "source": [
    "Для сохранения большего числа данных заполним все пропуски `unknown`."
   ]
  },
  {
   "cell_type": "code",
   "execution_count": 21,
   "metadata": {
    "scrolled": true
   },
   "outputs": [],
   "source": [
    "df = df.fillna({'repaired':'unknown', \n",
    "                'fuel_type':'unknown',\n",
    "                'vehicle_type':'unknown',\n",
    "                'gearbox':'unknown',\n",
    "                'model':'unknown',})"
   ]
  },
  {
   "cell_type": "code",
   "execution_count": 22,
   "metadata": {},
   "outputs": [
    {
     "data": {
      "text/plain": [
       "date_crawled          0\n",
       "price                 0\n",
       "vehicle_type          0\n",
       "registration_year     0\n",
       "gearbox               0\n",
       "power                 0\n",
       "model                 0\n",
       "kilometer             0\n",
       "registration_month    0\n",
       "fuel_type             0\n",
       "brand                 0\n",
       "repaired              0\n",
       "date_created          0\n",
       "number_of_pictures    0\n",
       "postal_code           0\n",
       "last_seen             0\n",
       "dtype: int64"
      ]
     },
     "execution_count": 22,
     "metadata": {},
     "output_type": "execute_result"
    }
   ],
   "source": [
    "df.isna().sum()"
   ]
  },
  {
   "cell_type": "code",
   "execution_count": 23,
   "metadata": {},
   "outputs": [
    {
     "data": {
      "text/plain": [
       "3"
      ]
     },
     "execution_count": 23,
     "metadata": {},
     "output_type": "execute_result"
    }
   ],
   "source": [
    "df.duplicated().sum()"
   ]
  },
  {
   "cell_type": "code",
   "execution_count": 24,
   "metadata": {},
   "outputs": [],
   "source": [
    "df.drop_duplicates(inplace=True)"
   ]
  },
  {
   "cell_type": "code",
   "execution_count": 25,
   "metadata": {},
   "outputs": [
    {
     "data": {
      "text/plain": [
       "0"
      ]
     },
     "execution_count": 25,
     "metadata": {},
     "output_type": "execute_result"
    }
   ],
   "source": [
    "df.duplicated().sum()"
   ]
  },
  {
   "cell_type": "code",
   "execution_count": 26,
   "metadata": {},
   "outputs": [],
   "source": [
    "df = df.drop(columns=['date_crawled', \n",
    "                      'date_created', \n",
    "                      'number_of_pictures',\n",
    "                      'last_seen',\n",
    "                      'postal_code',\n",
    "                      'registration_month'])"
   ]
  },
  {
   "cell_type": "code",
   "execution_count": 27,
   "metadata": {},
   "outputs": [],
   "source": [
    "#df.duplicated().sum() #34025\n",
    "df.drop_duplicates(inplace=True)"
   ]
  },
  {
   "cell_type": "code",
   "execution_count": 28,
   "metadata": {},
   "outputs": [
    {
     "name": "stdout",
     "output_type": "stream",
     "text": [
      "<class 'pandas.core.frame.DataFrame'>\n",
      "Int64Index: 209983 entries, 2 to 354368\n",
      "Data columns (total 10 columns):\n",
      " #   Column             Non-Null Count   Dtype \n",
      "---  ------             --------------   ----- \n",
      " 0   price              209983 non-null  int64 \n",
      " 1   vehicle_type       209983 non-null  object\n",
      " 2   registration_year  209983 non-null  int64 \n",
      " 3   gearbox            209983 non-null  object\n",
      " 4   power              209983 non-null  int64 \n",
      " 5   model              209983 non-null  object\n",
      " 6   kilometer          209983 non-null  int64 \n",
      " 7   fuel_type          209983 non-null  object\n",
      " 8   brand              209983 non-null  object\n",
      " 9   repaired           209983 non-null  object\n",
      "dtypes: int64(4), object(6)\n",
      "memory usage: 17.6+ MB\n"
     ]
    }
   ],
   "source": [
    "df.info()"
   ]
  },
  {
   "cell_type": "markdown",
   "metadata": {},
   "source": [
    "На этапе подготовки данных мы изучили и обработали файл с данными сервиса по продаже автомобилей. Сам файл состоял из 354369 наблюдений и 16 признаков. В ходе преобработки данных мы убрали нулевые и около нулевые значения целевого признака, убрали слишком ранние годы, посчитав их наличие опечаткой/маловероятным, ограничили мощность двигателя 50 и 400 л.с., заполнили все пропуски и удалили неинформативные признаки. После проведённой работы у нас осталось 209983 наблюдений и 10 признаков, удалили 144386 наблюдений и 6 признаков."
   ]
  },
  {
   "cell_type": "markdown",
   "metadata": {},
   "source": [
    "## Обучение моделей"
   ]
  },
  {
   "cell_type": "code",
   "execution_count": 29,
   "metadata": {},
   "outputs": [
    {
     "name": "stdout",
     "output_type": "stream",
     "text": [
      "Размер обущающей выборки:\n",
      "(125989, 9)\n",
      "(125989,)\n",
      "****************************************************************************************************\n",
      "Размер валидационной выборки:\n",
      "(41997, 9)\n",
      "(41997,)\n",
      "****************************************************************************************************\n",
      "Размер тестовой выборки:\n",
      "(41997, 9)\n",
      "(41997,)\n"
     ]
    }
   ],
   "source": [
    "x = df.drop(['price'], axis=1)\n",
    "y = df['price']\n",
    "\n",
    "x_train, x_test, y_train, y_test = train_test_split(\n",
    "    x, y,test_size=0.4, random_state=STATE)\n",
    "x_valid, x_test, y_valid, y_test = train_test_split(\n",
    "    x_test, y_test,test_size=0.5,random_state=STATE)\n",
    "\n",
    "print('Размер обущающей выборки:')\n",
    "print(x_train.shape)\n",
    "print(y_train.shape)\n",
    "print('*' * 100)\n",
    "print('Размер валидационной выборки:')\n",
    "print(x_valid.shape)\n",
    "print(y_valid.shape)\n",
    "print('*' * 100)\n",
    "print('Размер тестовой выборки:')\n",
    "print(x_test.shape)\n",
    "print(y_test.shape)"
   ]
  },
  {
   "cell_type": "code",
   "execution_count": 30,
   "metadata": {},
   "outputs": [
    {
     "name": "stdout",
     "output_type": "stream",
     "text": [
      "['vehicle_type', 'gearbox', 'model', 'fuel_type', 'brand', 'repaired']\n"
     ]
    }
   ],
   "source": [
    "col = x_train.select_dtypes(include='object').columns.to_list()\n",
    "print(col)"
   ]
  },
  {
   "cell_type": "code",
   "execution_count": 31,
   "metadata": {},
   "outputs": [],
   "source": [
    "enc = OrdinalEncoder(handle_unknown='use_encoded_value', unknown_value=-1) \n",
    "\n",
    "x_train[col] = enc.fit_transform(x_train[col])\n",
    "x_test[col] = enc.transform(x_test[col])\n",
    "x_valid[col] = enc.transform(x_valid[col])\n",
    "\n",
    "#print(x_train.head(5))\n",
    "#print(x_test.head(5))\n",
    "#print(x_valid.head(5))"
   ]
  },
  {
   "cell_type": "code",
   "execution_count": 32,
   "metadata": {
    "scrolled": true
   },
   "outputs": [],
   "source": [
    "numeric = ['registration_year', 'power', 'kilometer']\n",
    "scaler = StandardScaler()"
   ]
  },
  {
   "cell_type": "code",
   "execution_count": 33,
   "metadata": {},
   "outputs": [
    {
     "name": "stdout",
     "output_type": "stream",
     "text": [
      "        vehicle_type  registration_year  gearbox     power  model  kilometer  \\\n",
      "60481            7.0          -0.470057      1.0 -1.402134  168.0   0.596087   \n",
      "260529           8.0          -0.632311      1.0  1.493847   15.0   0.596087   \n",
      "309255           4.0           0.341208      1.0 -0.612321  161.0   0.596087   \n",
      "222442           0.0           0.016702      2.0 -0.322723  145.0   0.596087   \n",
      "179515           5.0           1.639233      1.0 -1.165190  161.0  -3.033354   \n",
      "\n",
      "        fuel_type  brand  repaired  \n",
      "60481         6.0   38.0       1.0  \n",
      "260529        4.0    2.0       0.0  \n",
      "309255        2.0   35.0       0.0  \n",
      "222442        6.0   24.0       0.0  \n",
      "179515        6.0   24.0       0.0  \n",
      "        vehicle_type  registration_year  gearbox     power  model  kilometer  \\\n",
      "272016           4.0          -0.470057      1.0  0.809342  159.0   0.596087   \n",
      "9108             5.0          -0.794564      1.0 -1.665405  168.0   0.596087   \n",
      "98398            4.0          -0.632311      1.0 -0.822938   31.0   0.596087   \n",
      "45450            5.0          -0.145551      1.0 -1.402134   54.0  -0.799852   \n",
      "40873            1.0           0.503461      1.0  0.335455  153.0  -1.916603   \n",
      "\n",
      "        fuel_type  brand  repaired  \n",
      "272016        6.0   24.0       0.0  \n",
      "9108          7.0   38.0       1.0  \n",
      "98398         6.0   20.0       2.0  \n",
      "45450         6.0    5.0       0.0  \n",
      "40873         6.0   19.0       0.0  \n",
      "        vehicle_type  registration_year  gearbox     power  model  kilometer  \\\n",
      "345985           0.0           0.178955      1.0 -1.007228  145.0   0.596087   \n",
      "171932           4.0           1.152474      0.0 -0.217415  158.0   0.596087   \n",
      "126538           5.0           1.476980      1.0 -1.191518   52.0  -1.916603   \n",
      "70443            8.0          -1.768083      1.0 -0.612321  165.0   0.596087   \n",
      "202519           4.0           1.476980      1.0 -1.007228  168.0  -1.916603   \n",
      "\n",
      "        fuel_type  brand  repaired  \n",
      "345985        2.0   24.0       0.0  \n",
      "171932        2.0   31.0       0.0  \n",
      "126538        6.0    5.0       2.0  \n",
      "70443         6.0   38.0       2.0  \n",
      "202519        6.0   38.0       0.0  \n"
     ]
    }
   ],
   "source": [
    "x_train[numeric] = scaler.fit_transform(x_train[numeric])\n",
    "x_test[numeric] = scaler.transform(x_test[numeric])\n",
    "x_valid[numeric] = scaler.transform(x_valid[numeric])\n",
    "\n",
    "print(x_train.head(5))\n",
    "print(x_test.head(5))\n",
    "print(x_valid.head(5))"
   ]
  },
  {
   "cell_type": "code",
   "execution_count": 34,
   "metadata": {},
   "outputs": [],
   "source": [
    "models_rmse = pd.DataFrame(columns = ['Модель', 'RMSE', 'Время обучения', 'Время предсказания'])"
   ]
  },
  {
   "cell_type": "code",
   "execution_count": 35,
   "metadata": {},
   "outputs": [
    {
     "name": "stdout",
     "output_type": "stream",
     "text": [
      "Результаты модели Random Forest Regressor при max_depth = 6 и n_estimators = 50\n",
      "RMSE: 1759.751\n",
      "CPU times: user 28.6 s, sys: 0 ns, total: 28.6 s\n",
      "Wall time: 28.6 s\n"
     ]
    }
   ],
   "source": [
    "%%time\n",
    "\n",
    "best_depth = 0\n",
    "best_est = 0\n",
    "best_rmse = 2500\n",
    "\n",
    "for est in range(20, 60, 10):\n",
    "    for depth in range(5,7):    \n",
    "        model = RandomForestRegressor(random_state=STATE, max_depth=depth, n_estimators=est)\n",
    "        start_time = time.time()\n",
    "        model.fit(x_train, y_train)\n",
    "        time_rfc = time.time() - start_time\n",
    "        start_time = time.time()\n",
    "        predict = model.predict(x_valid)\n",
    "        time_pred = time.time() - start_time\n",
    "        rmse = sqrt(mean_squared_error(y_valid, predict))\n",
    "        if rmse < best_rmse:\n",
    "            best_rmse = rmse\n",
    "            best_depth = depth\n",
    "            best_est = est\n",
    "        \n",
    "print('Результаты модели Random Forest Regressor при max_depth =', best_depth, 'и n_estimators =',best_est)\n",
    "print('RMSE: {:.3f}'.format(best_rmse))\n",
    "models_rmse = models_rmse.append({'Модель':'RandomForestRegressor', \n",
    "                                  'RMSE':round(best_rmse, 3), \n",
    "                                  'Время обучения':time_rfc, \n",
    "                                  'Время предсказания':time_pred}, ignore_index=True)"
   ]
  },
  {
   "cell_type": "code",
   "execution_count": 36,
   "metadata": {},
   "outputs": [
    {
     "name": "stdout",
     "output_type": "stream",
     "text": [
      "[LightGBM] [Warning] Unknown parameter: depth\n",
      "[LightGBM] [Warning] Unknown parameter: depth\n",
      "Результаты модели Light Gradient Boosted Machine при max_depth = 5 и rate = 0.5\n",
      "RMSE: 1305.783\n",
      "CPU times: user 2min 37s, sys: 946 ms, total: 2min 38s\n",
      "Wall time: 2min 39s\n"
     ]
    }
   ],
   "source": [
    "%%time\n",
    "\n",
    "best_rmse_lgbm = 2500\n",
    "best_depth_lgbm = 0\n",
    "rate_lgbm = 0.5\n",
    "\n",
    "for depth in range(5,7):\n",
    "    model_lgmb = LGBMRegressor(learning_rate=rate_lgbm, depth=depth, random_state=STATE)\n",
    "    start_time = time.time()\n",
    "    model_lgmb.fit(x_train, y_train)\n",
    "    time_lgbm = time.time() - start_time\n",
    "    start_time = time.time()\n",
    "    predict = model_lgmb.predict(x_valid)\n",
    "    time_pred_lgbm = time.time() - start_time\n",
    "    rmse = sqrt(mean_squared_error(y_valid, predict))\n",
    "    if rmse < best_rmse_lgbm:\n",
    "        best_rmse_lgbm = rmse\n",
    "        best_depth_lgbm = depth\n",
    "        \n",
    "print('Результаты модели Light Gradient Boosted Machine при max_depth =', best_depth_lgbm, 'и rate =', rate_lgbm)\n",
    "print('RMSE: {:.3f}'.format(best_rmse_lgbm))\n",
    "models_rmse = models_rmse.append({'Модель':'LGBMRegressor', \n",
    "                                  'RMSE':round(best_rmse_lgbm, 3), \n",
    "                                  'Время обучения':time_lgbm, \n",
    "                                  'Время предсказания':time_pred_lgbm}, ignore_index=True)"
   ]
  },
  {
   "cell_type": "code",
   "execution_count": 37,
   "metadata": {},
   "outputs": [
    {
     "name": "stdout",
     "output_type": "stream",
     "text": [
      "Результаты модели Cat Boost Regressor при max_depth = 6 и rate = 0.5\n",
      "RMSE: 1275.025\n",
      "CPU times: user 33.4 s, sys: 367 ms, total: 33.7 s\n",
      "Wall time: 38.6 s\n"
     ]
    }
   ],
   "source": [
    "%%time\n",
    "\n",
    "best_rmse_cbr = 2500\n",
    "best_depth_cbr = 0\n",
    "rate_cbr = 0.5\n",
    "\n",
    "for depth in range(5,7):\n",
    "    model_cbr = CatBoostRegressor(learning_rate=rate_cbr, depth=depth, random_state=STATE, silent=True)\n",
    "    start_time = time.time()\n",
    "    model_cbr.fit(x_train, y_train)\n",
    "    time_cbr = time.time() - start_time\n",
    "    start_time = time.time()\n",
    "    predict = model_cbr.predict(x_valid)\n",
    "    time_pred_cbr = time.time() - start_time\n",
    "    rmse = sqrt(mean_squared_error(y_valid, predict))\n",
    "    if rmse < best_rmse_cbr:\n",
    "        best_rmse_cbr = rmse\n",
    "        best_depth_cbr = depth\n",
    "                                  \n",
    "print('Результаты модели Cat Boost Regressor при max_depth =', best_depth_cbr, 'и rate =', rate_cbr)\n",
    "print('RMSE: {:.3f}'.format(best_rmse_cbr))\n",
    "models_rmse = models_rmse.append({'Модель':'CatBoostRegressor', \n",
    "                                  'RMSE':round(best_rmse_cbr, 3), \n",
    "                                  'Время обучения':time_cbr, \n",
    "                                  'Время предсказания':time_pred_cbr}, ignore_index=True)"
   ]
  },
  {
   "cell_type": "markdown",
   "metadata": {},
   "source": [
    "На этом этапе мы отделили цлевой признак признак и разбили на выборки в соотношении 3:1:1. Обработали категориальные признаки с помощью класса OHE из sklearn. Обучили 3 модели: RFR, LGBMR и CBR. Все модели отвечают требованиям заказчика. Результаты наших моделей, а именно rmse, время обучения модели и время предсказания мы сохранили в отдельную таблицу. В следующем пункте сравним их и на лучшей модели используем тестовую выборку."
   ]
  },
  {
   "cell_type": "markdown",
   "metadata": {},
   "source": [
    "## Анализ моделей"
   ]
  },
  {
   "cell_type": "code",
   "execution_count": 38,
   "metadata": {},
   "outputs": [
    {
     "data": {
      "text/html": [
       "<div>\n",
       "<style scoped>\n",
       "    .dataframe tbody tr th:only-of-type {\n",
       "        vertical-align: middle;\n",
       "    }\n",
       "\n",
       "    .dataframe tbody tr th {\n",
       "        vertical-align: top;\n",
       "    }\n",
       "\n",
       "    .dataframe thead th {\n",
       "        text-align: right;\n",
       "    }\n",
       "</style>\n",
       "<table border=\"1\" class=\"dataframe\">\n",
       "  <thead>\n",
       "    <tr style=\"text-align: right;\">\n",
       "      <th></th>\n",
       "      <th>Модель</th>\n",
       "      <th>RMSE</th>\n",
       "      <th>Время обучения</th>\n",
       "      <th>Время предсказания</th>\n",
       "    </tr>\n",
       "  </thead>\n",
       "  <tbody>\n",
       "    <tr>\n",
       "      <th>2</th>\n",
       "      <td>CatBoostRegressor</td>\n",
       "      <td>1275.025</td>\n",
       "      <td>18.888339</td>\n",
       "      <td>0.044362</td>\n",
       "    </tr>\n",
       "    <tr>\n",
       "      <th>1</th>\n",
       "      <td>LGBMRegressor</td>\n",
       "      <td>1305.783</td>\n",
       "      <td>2.701468</td>\n",
       "      <td>0.293221</td>\n",
       "    </tr>\n",
       "    <tr>\n",
       "      <th>0</th>\n",
       "      <td>RandomForestRegressor</td>\n",
       "      <td>1759.751</td>\n",
       "      <td>5.462544</td>\n",
       "      <td>0.106409</td>\n",
       "    </tr>\n",
       "  </tbody>\n",
       "</table>\n",
       "</div>"
      ],
      "text/plain": [
       "                  Модель      RMSE  Время обучения  Время предсказания\n",
       "2      CatBoostRegressor  1275.025       18.888339            0.044362\n",
       "1          LGBMRegressor  1305.783        2.701468            0.293221\n",
       "0  RandomForestRegressor  1759.751        5.462544            0.106409"
      ]
     },
     "execution_count": 38,
     "metadata": {},
     "output_type": "execute_result"
    }
   ],
   "source": [
    "models_rmse.sort_values(by='RMSE')"
   ]
  },
  {
   "cell_type": "markdown",
   "metadata": {},
   "source": [
    "Модели градиентного бустинга однозначно лучше себя показали. CBR выдала самый лучший результат rmse и время предсказания, но по времени обучения она уступает LGBMR несколько раз. Но если бы данных было в десятки и сотни раз больше, что привело бы к сильному росту потерь, а для бизнеса это плохо, то выбор полностью падает на CBR с параметрами rate=0.5 и depth=6. На ней мы и используем тестовую выборку."
   ]
  },
  {
   "cell_type": "code",
   "execution_count": 39,
   "metadata": {},
   "outputs": [
    {
     "name": "stdout",
     "output_type": "stream",
     "text": [
      "Результаты модели Cat Boost Regressor при max_depth = 6 и rate = 0.5\n",
      "RMSE: 1272.973\n",
      "CPU times: user 17.9 s, sys: 127 ms, total: 18 s\n",
      "Wall time: 19.3 s\n"
     ]
    }
   ],
   "source": [
    "%%time\n",
    "\n",
    "rate_cbr_test = 0.5\n",
    "depth = 6\n",
    "\n",
    "\n",
    "model_cbr_test = CatBoostRegressor(learning_rate=rate_cbr_test, depth=depth, random_state=STATE, silent=True)\n",
    "model_cbr_test.fit(x_train, y_train)\n",
    "predict_test = model_cbr_test.predict(x_test)\n",
    "rmse_cbr_test = sqrt(mean_squared_error(y_test, predict_test))\n",
    "   \n",
    "print('Результаты модели Cat Boost Regressor при max_depth =', depth, 'и rate =', rate_cbr_test)\n",
    "print('RMSE: {:.3f}'.format(rmse_cbr_test))"
   ]
  },
  {
   "cell_type": "code",
   "execution_count": 40,
   "metadata": {},
   "outputs": [
    {
     "name": "stdout",
     "output_type": "stream",
     "text": [
      "Результаты модели Dummy Regressor:\n",
      "RMSE: 3653.159\n",
      "CPU times: user 0 ns, sys: 4.82 ms, total: 4.82 ms\n",
      "Wall time: 3.4 ms\n"
     ]
    }
   ],
   "source": [
    "%%time\n",
    "\n",
    "model_dummy = DummyRegressor(strategy='median')\n",
    "model_dummy.fit(x_train, y_train)\n",
    "predict = model_dummy.predict(x_valid)\n",
    "rmse_dummy = sqrt(mean_squared_error(y_valid, predict))\n",
    "\n",
    "\n",
    "print('Результаты модели Dummy Regressor:')\n",
    "print('RMSE: {:.3f}'.format(rmse_dummy))"
   ]
  },
  {
   "cell_type": "markdown",
   "metadata": {},
   "source": [
    "## Вывод."
   ]
  },
  {
   "cell_type": "markdown",
   "metadata": {},
   "source": [
    "В этом исследовании нашим заказчиком является сервис по продаже автомобилей с пробегом «Не бит, не крашен». Для них нужно построить модель для определения стоимости автомобиля.\n",
    "\n",
    "Критерии оценки заказчика:\n",
    "\n",
    "* качество предсказания;\n",
    "* скорость предсказания;\n",
    "* время обучения.\n",
    "\n",
    "Нам были предоставлены данные, состоящих из анкет пользователей, продающих машины за период 2014-2016гг. На этапе предобработки данных мы очистили наши данные от пропущенных значений, дубликатов и аномально малых/больших значений, исключив около 150000 объявлений. Выявили и удалили неинформативные для дальнейшего обучения признаки. Масштабировали категориальные признаки и разбили данные на выборки. Обучили и сравнили 3 модели. По результатам исследования выявили лучшую модель, а именно CatBoostRegressor. На этой модели с этими же параметрами мы сделали предсказания на тестовой выборке. Сравнили нашу модель с константной моделью, проверку на адекватность модель прошла.\n",
    "\n",
    "Для более качественного результата было бы неплохо использовать изначальное количество наблюдений, но из-за некорректного заполнения некоторых признаков, использовать их мы не могли. Такие признаки как мощность и год выпуска авто (возможно мы ошиблись интерпретировав так год регистрации авто; здесь неплохо было бы в этом разобраться) являются практически самыми выжными (после цены) при выборе авто, а большую часть данных мы урезали именно из-за них. "
   ]
  }
 ],
 "metadata": {
  "ExecuteTimeLog": [
   {
    "duration": 400,
    "start_time": "2023-09-09T13:54:19.949Z"
   },
   {
    "duration": 1272,
    "start_time": "2023-09-09T13:54:50.781Z"
   },
   {
    "duration": 157,
    "start_time": "2023-09-09T13:55:01.616Z"
   },
   {
    "duration": 33,
    "start_time": "2023-09-09T13:55:28.324Z"
   },
   {
    "duration": 111,
    "start_time": "2023-09-09T13:55:50.720Z"
   },
   {
    "duration": 154,
    "start_time": "2023-09-09T13:57:44.495Z"
   },
   {
    "duration": 550,
    "start_time": "2023-09-09T13:58:24.843Z"
   },
   {
    "duration": 510,
    "start_time": "2023-09-09T13:58:29.575Z"
   },
   {
    "duration": 510,
    "start_time": "2023-09-09T13:58:37.570Z"
   },
   {
    "duration": 424,
    "start_time": "2023-09-09T13:59:44.530Z"
   },
   {
    "duration": 953,
    "start_time": "2023-09-09T13:59:44.957Z"
   },
   {
    "duration": 155,
    "start_time": "2023-09-09T13:59:45.912Z"
   },
   {
    "duration": 43,
    "start_time": "2023-09-09T13:59:46.069Z"
   },
   {
    "duration": 109,
    "start_time": "2023-09-09T13:59:46.114Z"
   },
   {
    "duration": 149,
    "start_time": "2023-09-09T13:59:46.225Z"
   },
   {
    "duration": 505,
    "start_time": "2023-09-09T13:59:46.375Z"
   },
   {
    "duration": 2655,
    "start_time": "2023-09-09T14:00:05.298Z"
   },
   {
    "duration": 499,
    "start_time": "2023-09-09T14:00:27.707Z"
   },
   {
    "duration": 52,
    "start_time": "2023-09-10T17:11:58.779Z"
   },
   {
    "duration": 351,
    "start_time": "2023-09-10T17:12:03.700Z"
   },
   {
    "duration": 2789,
    "start_time": "2023-09-10T17:12:04.053Z"
   },
   {
    "duration": 133,
    "start_time": "2023-09-10T17:12:06.844Z"
   },
   {
    "duration": 26,
    "start_time": "2023-09-10T17:12:06.979Z"
   },
   {
    "duration": 103,
    "start_time": "2023-09-10T17:12:07.008Z"
   },
   {
    "duration": 132,
    "start_time": "2023-09-10T17:12:07.113Z"
   },
   {
    "duration": 474,
    "start_time": "2023-09-10T17:12:07.247Z"
   },
   {
    "duration": 435,
    "start_time": "2023-09-10T17:12:25.702Z"
   },
   {
    "duration": 424,
    "start_time": "2023-09-10T17:12:59.870Z"
   },
   {
    "duration": 2499,
    "start_time": "2023-09-10T17:14:15.283Z"
   },
   {
    "duration": 1115,
    "start_time": "2023-09-10T17:19:12.758Z"
   },
   {
    "duration": 843,
    "start_time": "2023-09-10T17:19:13.875Z"
   },
   {
    "duration": 140,
    "start_time": "2023-09-10T17:19:14.720Z"
   },
   {
    "duration": 24,
    "start_time": "2023-09-10T17:19:14.861Z"
   },
   {
    "duration": 101,
    "start_time": "2023-09-10T17:19:14.886Z"
   },
   {
    "duration": 102,
    "start_time": "2023-09-10T17:19:14.988Z"
   },
   {
    "duration": 0,
    "start_time": "2023-09-10T17:19:15.092Z"
   },
   {
    "duration": 0,
    "start_time": "2023-09-10T17:19:15.093Z"
   },
   {
    "duration": 1140,
    "start_time": "2023-09-10T17:20:17.097Z"
   },
   {
    "duration": 865,
    "start_time": "2023-09-10T17:20:18.238Z"
   },
   {
    "duration": 159,
    "start_time": "2023-09-10T17:20:19.104Z"
   },
   {
    "duration": 27,
    "start_time": "2023-09-10T17:20:19.265Z"
   },
   {
    "duration": 116,
    "start_time": "2023-09-10T17:20:19.294Z"
   },
   {
    "duration": 865,
    "start_time": "2023-09-10T17:20:19.411Z"
   },
   {
    "duration": 143,
    "start_time": "2023-09-10T17:20:20.277Z"
   },
   {
    "duration": 484,
    "start_time": "2023-09-10T17:20:20.422Z"
   },
   {
    "duration": 109,
    "start_time": "2023-09-10T17:21:25.587Z"
   },
   {
    "duration": 71,
    "start_time": "2023-09-10T17:21:58.535Z"
   },
   {
    "duration": 1253,
    "start_time": "2023-09-10T17:24:51.171Z"
   },
   {
    "duration": 941,
    "start_time": "2023-09-10T17:24:52.426Z"
   },
   {
    "duration": 158,
    "start_time": "2023-09-10T17:24:53.369Z"
   },
   {
    "duration": 40,
    "start_time": "2023-09-10T17:24:53.530Z"
   },
   {
    "duration": 114,
    "start_time": "2023-09-10T17:24:53.572Z"
   },
   {
    "duration": 349,
    "start_time": "2023-09-10T17:24:53.688Z"
   },
   {
    "duration": 214,
    "start_time": "2023-09-10T17:24:54.040Z"
   },
   {
    "duration": 478,
    "start_time": "2023-09-10T17:24:54.256Z"
   },
   {
    "duration": 280,
    "start_time": "2023-09-10T17:25:01.916Z"
   },
   {
    "duration": 338,
    "start_time": "2023-09-10T17:25:24.684Z"
   },
   {
    "duration": 1161,
    "start_time": "2023-09-10T17:25:59.620Z"
   },
   {
    "duration": 798,
    "start_time": "2023-09-10T17:26:00.783Z"
   },
   {
    "duration": 142,
    "start_time": "2023-09-10T17:26:01.583Z"
   },
   {
    "duration": 35,
    "start_time": "2023-09-10T17:26:01.727Z"
   },
   {
    "duration": 94,
    "start_time": "2023-09-10T17:26:01.763Z"
   },
   {
    "duration": 280,
    "start_time": "2023-09-10T17:26:01.859Z"
   },
   {
    "duration": 145,
    "start_time": "2023-09-10T17:26:02.143Z"
   },
   {
    "duration": 475,
    "start_time": "2023-09-10T17:26:02.290Z"
   },
   {
    "duration": 1343,
    "start_time": "2023-09-11T13:28:55.911Z"
   },
   {
    "duration": 1132,
    "start_time": "2023-09-11T13:28:57.256Z"
   },
   {
    "duration": 138,
    "start_time": "2023-09-11T13:28:58.390Z"
   },
   {
    "duration": 35,
    "start_time": "2023-09-11T13:28:58.530Z"
   },
   {
    "duration": 100,
    "start_time": "2023-09-11T13:28:58.567Z"
   },
   {
    "duration": 135,
    "start_time": "2023-09-11T13:28:58.668Z"
   },
   {
    "duration": 443,
    "start_time": "2023-09-11T13:28:58.805Z"
   },
   {
    "duration": 21,
    "start_time": "2023-09-11T13:40:49.978Z"
   },
   {
    "duration": 89,
    "start_time": "2023-09-11T13:40:52.734Z"
   },
   {
    "duration": 25,
    "start_time": "2023-09-11T13:41:00.107Z"
   },
   {
    "duration": 21,
    "start_time": "2023-09-11T13:41:15.960Z"
   },
   {
    "duration": 3,
    "start_time": "2023-09-11T13:47:52.883Z"
   },
   {
    "duration": 91,
    "start_time": "2023-09-11T13:52:37.264Z"
   },
   {
    "duration": 8,
    "start_time": "2023-09-11T13:52:49.644Z"
   },
   {
    "duration": 241,
    "start_time": "2023-09-11T13:54:03.857Z"
   },
   {
    "duration": 281,
    "start_time": "2023-09-11T13:57:38.888Z"
   },
   {
    "duration": 271,
    "start_time": "2023-09-11T13:58:05.983Z"
   },
   {
    "duration": 287,
    "start_time": "2023-09-11T13:58:17.763Z"
   },
   {
    "duration": 3,
    "start_time": "2023-09-11T14:03:30.257Z"
   },
   {
    "duration": 11,
    "start_time": "2023-09-11T14:05:08.076Z"
   },
   {
    "duration": 8,
    "start_time": "2023-09-11T14:05:20.029Z"
   },
   {
    "duration": 10,
    "start_time": "2023-09-11T14:05:24.275Z"
   },
   {
    "duration": 9,
    "start_time": "2023-09-11T14:06:44.049Z"
   },
   {
    "duration": 10,
    "start_time": "2023-09-11T14:07:02.048Z"
   },
   {
    "duration": 132,
    "start_time": "2023-09-11T14:07:28.535Z"
   },
   {
    "duration": 28,
    "start_time": "2023-09-11T14:07:42.547Z"
   },
   {
    "duration": 158,
    "start_time": "2023-09-11T14:08:47.551Z"
   },
   {
    "duration": 76,
    "start_time": "2023-09-11T14:09:24.993Z"
   },
   {
    "duration": 128,
    "start_time": "2023-09-11T14:09:35.280Z"
   },
   {
    "duration": 164,
    "start_time": "2023-09-11T14:09:45.593Z"
   },
   {
    "duration": 139,
    "start_time": "2023-09-11T14:10:04.372Z"
   },
   {
    "duration": 134,
    "start_time": "2023-09-11T14:10:28.359Z"
   },
   {
    "duration": 1204,
    "start_time": "2023-09-11T14:13:22.711Z"
   },
   {
    "duration": 862,
    "start_time": "2023-09-11T14:13:23.917Z"
   },
   {
    "duration": 158,
    "start_time": "2023-09-11T14:13:24.780Z"
   },
   {
    "duration": 26,
    "start_time": "2023-09-11T14:13:24.940Z"
   },
   {
    "duration": 101,
    "start_time": "2023-09-11T14:13:24.968Z"
   },
   {
    "duration": 108,
    "start_time": "2023-09-11T14:13:25.071Z"
   },
   {
    "duration": 0,
    "start_time": "2023-09-11T14:13:25.180Z"
   },
   {
    "duration": 0,
    "start_time": "2023-09-11T14:13:25.181Z"
   },
   {
    "duration": 0,
    "start_time": "2023-09-11T14:13:25.182Z"
   },
   {
    "duration": 23,
    "start_time": "2023-09-11T14:13:40.716Z"
   },
   {
    "duration": 51,
    "start_time": "2023-09-11T14:13:51.031Z"
   },
   {
    "duration": 145,
    "start_time": "2023-09-11T14:13:54.212Z"
   },
   {
    "duration": 20,
    "start_time": "2023-09-11T14:14:09.845Z"
   },
   {
    "duration": 16,
    "start_time": "2023-09-11T14:14:10.844Z"
   },
   {
    "duration": 25,
    "start_time": "2023-09-11T14:14:14.987Z"
   },
   {
    "duration": 1187,
    "start_time": "2023-09-11T14:14:25.421Z"
   },
   {
    "duration": 814,
    "start_time": "2023-09-11T14:14:26.610Z"
   },
   {
    "duration": 144,
    "start_time": "2023-09-11T14:14:27.425Z"
   },
   {
    "duration": 43,
    "start_time": "2023-09-11T14:14:27.571Z"
   },
   {
    "duration": 89,
    "start_time": "2023-09-11T14:14:27.616Z"
   },
   {
    "duration": 48,
    "start_time": "2023-09-11T14:14:27.707Z"
   },
   {
    "duration": 17,
    "start_time": "2023-09-11T14:14:27.757Z"
   },
   {
    "duration": 129,
    "start_time": "2023-09-11T14:14:27.776Z"
   },
   {
    "duration": 0,
    "start_time": "2023-09-11T14:14:27.906Z"
   },
   {
    "duration": 1092,
    "start_time": "2023-09-11T14:14:47.291Z"
   },
   {
    "duration": 796,
    "start_time": "2023-09-11T14:14:48.385Z"
   },
   {
    "duration": 141,
    "start_time": "2023-09-11T14:14:49.183Z"
   },
   {
    "duration": 37,
    "start_time": "2023-09-11T14:14:49.327Z"
   },
   {
    "duration": 108,
    "start_time": "2023-09-11T14:14:49.365Z"
   },
   {
    "duration": 135,
    "start_time": "2023-09-11T14:14:49.475Z"
   },
   {
    "duration": 139,
    "start_time": "2023-09-11T14:14:49.612Z"
   },
   {
    "duration": 432,
    "start_time": "2023-09-11T14:14:49.753Z"
   },
   {
    "duration": 1170,
    "start_time": "2023-09-11T14:18:23.988Z"
   },
   {
    "duration": 820,
    "start_time": "2023-09-11T14:18:25.160Z"
   },
   {
    "duration": 153,
    "start_time": "2023-09-11T14:18:25.982Z"
   },
   {
    "duration": 112,
    "start_time": "2023-09-11T14:18:26.144Z"
   },
   {
    "duration": 0,
    "start_time": "2023-09-11T14:18:26.258Z"
   },
   {
    "duration": 1,
    "start_time": "2023-09-11T14:18:26.259Z"
   },
   {
    "duration": 0,
    "start_time": "2023-09-11T14:18:26.261Z"
   },
   {
    "duration": 0,
    "start_time": "2023-09-11T14:18:26.262Z"
   },
   {
    "duration": 0,
    "start_time": "2023-09-11T14:18:26.264Z"
   },
   {
    "duration": 412,
    "start_time": "2023-09-11T14:19:09.198Z"
   },
   {
    "duration": 0,
    "start_time": "2023-09-11T14:19:09.612Z"
   },
   {
    "duration": 0,
    "start_time": "2023-09-11T14:19:09.613Z"
   },
   {
    "duration": 0,
    "start_time": "2023-09-11T14:19:09.614Z"
   },
   {
    "duration": 0,
    "start_time": "2023-09-11T14:19:09.615Z"
   },
   {
    "duration": 0,
    "start_time": "2023-09-11T14:19:09.616Z"
   },
   {
    "duration": 0,
    "start_time": "2023-09-11T14:19:09.617Z"
   },
   {
    "duration": 0,
    "start_time": "2023-09-11T14:19:09.618Z"
   },
   {
    "duration": 0,
    "start_time": "2023-09-11T14:19:09.619Z"
   },
   {
    "duration": 32019,
    "start_time": "2023-09-11T14:20:03.064Z"
   },
   {
    "duration": 1213,
    "start_time": "2023-09-11T14:20:35.086Z"
   },
   {
    "duration": 852,
    "start_time": "2023-09-11T14:20:36.301Z"
   },
   {
    "duration": 127,
    "start_time": "2023-09-11T14:20:37.154Z"
   },
   {
    "duration": 87,
    "start_time": "2023-09-11T14:20:37.283Z"
   },
   {
    "duration": 35,
    "start_time": "2023-09-11T14:20:37.372Z"
   },
   {
    "duration": 98,
    "start_time": "2023-09-11T14:20:37.409Z"
   },
   {
    "duration": 127,
    "start_time": "2023-09-11T14:20:37.508Z"
   },
   {
    "duration": 124,
    "start_time": "2023-09-11T14:20:37.644Z"
   },
   {
    "duration": 421,
    "start_time": "2023-09-11T14:20:37.770Z"
   },
   {
    "duration": 110,
    "start_time": "2023-09-11T14:26:09.318Z"
   },
   {
    "duration": 2610,
    "start_time": "2023-09-11T14:26:18.980Z"
   },
   {
    "duration": 1155,
    "start_time": "2023-09-11T14:26:21.592Z"
   },
   {
    "duration": 842,
    "start_time": "2023-09-11T14:26:22.749Z"
   },
   {
    "duration": 135,
    "start_time": "2023-09-11T14:26:23.593Z"
   },
   {
    "duration": 98,
    "start_time": "2023-09-11T14:26:23.730Z"
   },
   {
    "duration": 115,
    "start_time": "2023-09-11T14:26:23.830Z"
   },
   {
    "duration": 0,
    "start_time": "2023-09-11T14:26:23.947Z"
   },
   {
    "duration": 0,
    "start_time": "2023-09-11T14:26:23.948Z"
   },
   {
    "duration": 0,
    "start_time": "2023-09-11T14:26:23.949Z"
   },
   {
    "duration": 0,
    "start_time": "2023-09-11T14:26:23.961Z"
   },
   {
    "duration": 0,
    "start_time": "2023-09-11T14:26:23.962Z"
   },
   {
    "duration": 13,
    "start_time": "2023-09-11T14:26:48.479Z"
   },
   {
    "duration": 16,
    "start_time": "2023-09-11T14:26:55.491Z"
   },
   {
    "duration": 19,
    "start_time": "2023-09-11T14:26:59.337Z"
   },
   {
    "duration": 50,
    "start_time": "2023-09-11T14:27:03.460Z"
   },
   {
    "duration": 122,
    "start_time": "2023-09-11T14:27:04.417Z"
   },
   {
    "duration": 2629,
    "start_time": "2023-09-11T14:27:11.819Z"
   },
   {
    "duration": 1276,
    "start_time": "2023-09-11T14:27:14.453Z"
   },
   {
    "duration": 903,
    "start_time": "2023-09-11T14:27:15.730Z"
   },
   {
    "duration": 128,
    "start_time": "2023-09-11T14:27:16.635Z"
   },
   {
    "duration": 86,
    "start_time": "2023-09-11T14:27:16.765Z"
   },
   {
    "duration": 15,
    "start_time": "2023-09-11T14:27:16.853Z"
   },
   {
    "duration": 54,
    "start_time": "2023-09-11T14:27:16.870Z"
   },
   {
    "duration": 56,
    "start_time": "2023-09-11T14:27:16.943Z"
   },
   {
    "duration": 97,
    "start_time": "2023-09-11T14:27:17.002Z"
   },
   {
    "duration": 105,
    "start_time": "2023-09-11T14:27:17.100Z"
   },
   {
    "duration": 206,
    "start_time": "2023-09-11T14:27:17.207Z"
   },
   {
    "duration": 2708,
    "start_time": "2023-09-11T14:28:28.577Z"
   },
   {
    "duration": 1167,
    "start_time": "2023-09-11T14:28:31.287Z"
   },
   {
    "duration": 885,
    "start_time": "2023-09-11T14:28:32.458Z"
   },
   {
    "duration": 149,
    "start_time": "2023-09-11T14:28:33.345Z"
   },
   {
    "duration": 17,
    "start_time": "2023-09-11T14:28:33.497Z"
   },
   {
    "duration": 95,
    "start_time": "2023-09-11T14:28:33.516Z"
   },
   {
    "duration": 16,
    "start_time": "2023-09-11T14:28:33.613Z"
   },
   {
    "duration": 21,
    "start_time": "2023-09-11T14:28:33.631Z"
   },
   {
    "duration": 112,
    "start_time": "2023-09-11T14:28:33.654Z"
   },
   {
    "duration": 102,
    "start_time": "2023-09-11T14:28:33.768Z"
   },
   {
    "duration": 91,
    "start_time": "2023-09-11T14:28:33.871Z"
   },
   {
    "duration": 208,
    "start_time": "2023-09-11T14:28:33.963Z"
   },
   {
    "duration": 196,
    "start_time": "2023-09-11T14:29:01.758Z"
   },
   {
    "duration": 196,
    "start_time": "2023-09-11T14:29:08.256Z"
   },
   {
    "duration": 2658,
    "start_time": "2023-09-11T14:29:26.009Z"
   },
   {
    "duration": 1177,
    "start_time": "2023-09-11T14:29:28.669Z"
   },
   {
    "duration": 872,
    "start_time": "2023-09-11T14:29:29.848Z"
   },
   {
    "duration": 133,
    "start_time": "2023-09-11T14:29:30.722Z"
   },
   {
    "duration": 48,
    "start_time": "2023-09-11T14:29:30.857Z"
   },
   {
    "duration": 100,
    "start_time": "2023-09-11T14:29:30.907Z"
   },
   {
    "duration": 128,
    "start_time": "2023-09-11T14:29:31.009Z"
   },
   {
    "duration": 0,
    "start_time": "2023-09-11T14:29:31.140Z"
   },
   {
    "duration": 0,
    "start_time": "2023-09-11T14:29:31.144Z"
   },
   {
    "duration": 0,
    "start_time": "2023-09-11T14:29:31.146Z"
   },
   {
    "duration": 0,
    "start_time": "2023-09-11T14:29:31.147Z"
   },
   {
    "duration": 0,
    "start_time": "2023-09-11T14:29:31.149Z"
   },
   {
    "duration": 2716,
    "start_time": "2023-09-11T14:41:58.010Z"
   },
   {
    "duration": 1259,
    "start_time": "2023-09-11T14:42:00.729Z"
   },
   {
    "duration": 916,
    "start_time": "2023-09-11T14:42:01.990Z"
   },
   {
    "duration": 157,
    "start_time": "2023-09-11T14:42:02.908Z"
   },
   {
    "duration": 30,
    "start_time": "2023-09-11T14:42:03.068Z"
   },
   {
    "duration": 74,
    "start_time": "2023-09-11T14:42:03.100Z"
   },
   {
    "duration": 121,
    "start_time": "2023-09-11T14:42:03.176Z"
   },
   {
    "duration": 0,
    "start_time": "2023-09-11T14:42:03.299Z"
   },
   {
    "duration": 0,
    "start_time": "2023-09-11T14:42:03.300Z"
   },
   {
    "duration": 0,
    "start_time": "2023-09-11T14:42:03.301Z"
   },
   {
    "duration": 0,
    "start_time": "2023-09-11T14:42:03.302Z"
   },
   {
    "duration": 0,
    "start_time": "2023-09-11T14:42:03.305Z"
   },
   {
    "duration": 2758,
    "start_time": "2023-09-11T14:42:13.637Z"
   },
   {
    "duration": 1111,
    "start_time": "2023-09-11T14:42:16.397Z"
   },
   {
    "duration": 860,
    "start_time": "2023-09-11T14:42:17.509Z"
   },
   {
    "duration": 132,
    "start_time": "2023-09-11T14:42:18.371Z"
   },
   {
    "duration": 33,
    "start_time": "2023-09-11T14:42:18.505Z"
   },
   {
    "duration": 98,
    "start_time": "2023-09-11T14:42:18.540Z"
   },
   {
    "duration": 16,
    "start_time": "2023-09-11T14:42:18.640Z"
   },
   {
    "duration": 58,
    "start_time": "2023-09-11T14:42:18.657Z"
   },
   {
    "duration": 85,
    "start_time": "2023-09-11T14:42:18.717Z"
   },
   {
    "duration": 81,
    "start_time": "2023-09-11T14:42:18.804Z"
   },
   {
    "duration": 115,
    "start_time": "2023-09-11T14:42:18.887Z"
   },
   {
    "duration": 212,
    "start_time": "2023-09-11T14:42:19.004Z"
   },
   {
    "duration": 2666,
    "start_time": "2023-09-11T14:42:43.239Z"
   },
   {
    "duration": 1150,
    "start_time": "2023-09-11T14:42:45.908Z"
   },
   {
    "duration": 863,
    "start_time": "2023-09-11T14:42:47.060Z"
   },
   {
    "duration": 130,
    "start_time": "2023-09-11T14:42:47.925Z"
   },
   {
    "duration": 19,
    "start_time": "2023-09-11T14:42:48.058Z"
   },
   {
    "duration": 88,
    "start_time": "2023-09-11T14:42:48.079Z"
   },
   {
    "duration": 3,
    "start_time": "2023-09-11T14:42:48.169Z"
   },
   {
    "duration": 18,
    "start_time": "2023-09-11T14:42:48.173Z"
   },
   {
    "duration": 90,
    "start_time": "2023-09-11T14:42:48.192Z"
   },
   {
    "duration": 120,
    "start_time": "2023-09-11T14:42:48.283Z"
   },
   {
    "duration": 124,
    "start_time": "2023-09-11T14:42:48.405Z"
   },
   {
    "duration": 380,
    "start_time": "2023-09-11T14:42:48.531Z"
   },
   {
    "duration": 2739,
    "start_time": "2023-09-11T14:44:14.260Z"
   },
   {
    "duration": 1178,
    "start_time": "2023-09-11T14:44:17.003Z"
   },
   {
    "duration": 892,
    "start_time": "2023-09-11T14:44:18.183Z"
   },
   {
    "duration": 142,
    "start_time": "2023-09-11T14:44:19.078Z"
   },
   {
    "duration": 58,
    "start_time": "2023-09-11T14:44:19.222Z"
   },
   {
    "duration": 89,
    "start_time": "2023-09-11T14:44:19.282Z"
   },
   {
    "duration": 2,
    "start_time": "2023-09-11T14:44:19.373Z"
   },
   {
    "duration": 47,
    "start_time": "2023-09-11T14:44:19.377Z"
   },
   {
    "duration": 99,
    "start_time": "2023-09-11T14:44:19.426Z"
   },
   {
    "duration": 122,
    "start_time": "2023-09-11T14:44:19.528Z"
   },
   {
    "duration": 139,
    "start_time": "2023-09-11T14:44:19.653Z"
   },
   {
    "duration": 407,
    "start_time": "2023-09-11T14:44:19.794Z"
   },
   {
    "duration": 2668,
    "start_time": "2023-09-11T14:45:18.950Z"
   },
   {
    "duration": 1218,
    "start_time": "2023-09-11T14:45:21.621Z"
   },
   {
    "duration": 879,
    "start_time": "2023-09-11T14:45:22.841Z"
   },
   {
    "duration": 158,
    "start_time": "2023-09-11T14:45:23.722Z"
   },
   {
    "duration": 29,
    "start_time": "2023-09-11T14:45:23.883Z"
   },
   {
    "duration": 87,
    "start_time": "2023-09-11T14:45:23.914Z"
   },
   {
    "duration": 16,
    "start_time": "2023-09-11T14:45:24.003Z"
   },
   {
    "duration": 11,
    "start_time": "2023-09-11T14:45:24.020Z"
   },
   {
    "duration": 72,
    "start_time": "2023-09-11T14:45:24.033Z"
   },
   {
    "duration": 91,
    "start_time": "2023-09-11T14:45:24.107Z"
   },
   {
    "duration": 114,
    "start_time": "2023-09-11T14:45:24.199Z"
   },
   {
    "duration": 220,
    "start_time": "2023-09-11T14:45:24.314Z"
   },
   {
    "duration": 2751,
    "start_time": "2023-09-11T14:46:53.438Z"
   },
   {
    "duration": 1118,
    "start_time": "2023-09-11T14:46:56.193Z"
   },
   {
    "duration": 885,
    "start_time": "2023-09-11T14:46:57.314Z"
   },
   {
    "duration": 126,
    "start_time": "2023-09-11T14:46:58.201Z"
   },
   {
    "duration": 27,
    "start_time": "2023-09-11T14:46:58.329Z"
   },
   {
    "duration": 88,
    "start_time": "2023-09-11T14:46:58.358Z"
   },
   {
    "duration": 17,
    "start_time": "2023-09-11T14:46:58.448Z"
   },
   {
    "duration": 11,
    "start_time": "2023-09-11T14:46:58.466Z"
   },
   {
    "duration": 94,
    "start_time": "2023-09-11T14:46:58.479Z"
   },
   {
    "duration": 85,
    "start_time": "2023-09-11T14:46:58.575Z"
   },
   {
    "duration": 112,
    "start_time": "2023-09-11T14:46:58.661Z"
   },
   {
    "duration": 186,
    "start_time": "2023-09-11T14:46:58.775Z"
   },
   {
    "duration": 2692,
    "start_time": "2023-09-11T14:47:33.463Z"
   },
   {
    "duration": 1190,
    "start_time": "2023-09-11T14:47:36.158Z"
   },
   {
    "duration": 866,
    "start_time": "2023-09-11T14:47:37.350Z"
   },
   {
    "duration": 141,
    "start_time": "2023-09-11T14:47:38.219Z"
   },
   {
    "duration": 17,
    "start_time": "2023-09-11T14:47:38.363Z"
   },
   {
    "duration": 96,
    "start_time": "2023-09-11T14:47:38.382Z"
   },
   {
    "duration": 17,
    "start_time": "2023-09-11T14:47:38.480Z"
   },
   {
    "duration": 42,
    "start_time": "2023-09-11T14:47:38.499Z"
   },
   {
    "duration": 114,
    "start_time": "2023-09-11T14:47:38.543Z"
   },
   {
    "duration": 88,
    "start_time": "2023-09-11T14:47:38.658Z"
   },
   {
    "duration": 103,
    "start_time": "2023-09-11T14:47:38.747Z"
   },
   {
    "duration": 258,
    "start_time": "2023-09-11T14:47:38.852Z"
   },
   {
    "duration": 2741,
    "start_time": "2023-09-11T14:55:33.726Z"
   },
   {
    "duration": 1208,
    "start_time": "2023-09-11T14:55:36.469Z"
   },
   {
    "duration": 855,
    "start_time": "2023-09-11T14:55:37.681Z"
   },
   {
    "duration": 125,
    "start_time": "2023-09-11T14:55:38.538Z"
   },
   {
    "duration": 22,
    "start_time": "2023-09-11T14:55:38.665Z"
   },
   {
    "duration": 109,
    "start_time": "2023-09-11T14:55:38.689Z"
   },
   {
    "duration": 19,
    "start_time": "2023-09-11T14:55:38.800Z"
   },
   {
    "duration": 24,
    "start_time": "2023-09-11T14:55:38.821Z"
   },
   {
    "duration": 91,
    "start_time": "2023-09-11T14:55:38.847Z"
   },
   {
    "duration": 213,
    "start_time": "2023-09-11T14:55:38.944Z"
   },
   {
    "duration": 86,
    "start_time": "2023-09-11T14:55:39.158Z"
   },
   {
    "duration": 96,
    "start_time": "2023-09-11T14:55:39.247Z"
   },
   {
    "duration": 268,
    "start_time": "2023-09-11T14:57:17.519Z"
   },
   {
    "duration": 6,
    "start_time": "2023-09-11T14:58:02.506Z"
   },
   {
    "duration": 86,
    "start_time": "2023-09-11T14:58:19.694Z"
   },
   {
    "duration": 9,
    "start_time": "2023-09-11T14:58:34.326Z"
   },
   {
    "duration": 10,
    "start_time": "2023-09-11T14:58:37.533Z"
   },
   {
    "duration": 5,
    "start_time": "2023-09-11T14:59:54.889Z"
   },
   {
    "duration": 3,
    "start_time": "2023-09-11T15:53:27.250Z"
   },
   {
    "duration": 1284,
    "start_time": "2023-09-11T15:53:27.254Z"
   },
   {
    "duration": 884,
    "start_time": "2023-09-11T15:53:28.540Z"
   },
   {
    "duration": 129,
    "start_time": "2023-09-11T15:53:29.426Z"
   },
   {
    "duration": 14,
    "start_time": "2023-09-11T15:53:29.557Z"
   },
   {
    "duration": 96,
    "start_time": "2023-09-11T15:53:29.572Z"
   },
   {
    "duration": 17,
    "start_time": "2023-09-11T15:53:29.670Z"
   },
   {
    "duration": 11,
    "start_time": "2023-09-11T15:53:29.688Z"
   },
   {
    "duration": 281,
    "start_time": "2023-09-11T15:53:29.700Z"
   },
   {
    "duration": 4,
    "start_time": "2023-09-11T15:53:29.983Z"
   },
   {
    "duration": 97,
    "start_time": "2023-09-11T15:53:29.989Z"
   },
   {
    "duration": 88,
    "start_time": "2023-09-11T15:53:30.087Z"
   },
   {
    "duration": 24,
    "start_time": "2023-09-11T16:00:36.328Z"
   },
   {
    "duration": 21,
    "start_time": "2023-09-11T16:01:25.757Z"
   },
   {
    "duration": 21,
    "start_time": "2023-09-11T16:02:00.303Z"
   },
   {
    "duration": 20,
    "start_time": "2023-09-11T16:02:23.322Z"
   },
   {
    "duration": 19,
    "start_time": "2023-09-11T16:05:30.809Z"
   },
   {
    "duration": 3,
    "start_time": "2023-09-11T16:06:31.187Z"
   },
   {
    "duration": 1229,
    "start_time": "2023-09-11T16:06:31.191Z"
   },
   {
    "duration": 868,
    "start_time": "2023-09-11T16:06:32.422Z"
   },
   {
    "duration": 128,
    "start_time": "2023-09-11T16:06:33.291Z"
   },
   {
    "duration": 95,
    "start_time": "2023-09-11T16:06:33.421Z"
   },
   {
    "duration": 31,
    "start_time": "2023-09-11T16:06:33.518Z"
   },
   {
    "duration": 734,
    "start_time": "2023-09-11T16:06:33.551Z"
   },
   {
    "duration": 4,
    "start_time": "2023-09-11T16:06:34.288Z"
   },
   {
    "duration": 44,
    "start_time": "2023-09-11T16:06:34.293Z"
   },
   {
    "duration": 141,
    "start_time": "2023-09-11T16:06:34.338Z"
   },
   {
    "duration": 168,
    "start_time": "2023-09-11T16:06:34.482Z"
   },
   {
    "duration": 16,
    "start_time": "2023-09-11T16:06:34.652Z"
   },
   {
    "duration": 11,
    "start_time": "2023-09-11T16:07:50.360Z"
   },
   {
    "duration": 16,
    "start_time": "2023-09-11T16:08:30.103Z"
   },
   {
    "duration": 127,
    "start_time": "2023-09-11T16:09:43.492Z"
   },
   {
    "duration": 1003,
    "start_time": "2023-09-11T16:09:49.429Z"
   },
   {
    "duration": 498,
    "start_time": "2023-09-11T16:10:01.517Z"
   },
   {
    "duration": 10,
    "start_time": "2023-09-11T16:10:17.929Z"
   },
   {
    "duration": 101,
    "start_time": "2023-09-11T16:10:24.589Z"
   },
   {
    "duration": 15,
    "start_time": "2023-09-11T16:10:29.456Z"
   },
   {
    "duration": 17,
    "start_time": "2023-09-11T16:10:42.303Z"
   },
   {
    "duration": 6,
    "start_time": "2023-09-11T16:11:25.602Z"
   },
   {
    "duration": 7,
    "start_time": "2023-09-11T16:11:33.760Z"
   },
   {
    "duration": 35,
    "start_time": "2023-09-11T16:11:39.416Z"
   },
   {
    "duration": 18,
    "start_time": "2023-09-11T16:12:02.477Z"
   },
   {
    "duration": 4,
    "start_time": "2023-09-11T16:12:16.590Z"
   },
   {
    "duration": 665,
    "start_time": "2023-09-11T16:12:40.487Z"
   },
   {
    "duration": 12,
    "start_time": "2023-09-11T16:12:56.855Z"
   },
   {
    "duration": 4,
    "start_time": "2023-09-11T16:13:05.710Z"
   },
   {
    "duration": 1228,
    "start_time": "2023-09-11T16:13:05.716Z"
   },
   {
    "duration": 896,
    "start_time": "2023-09-11T16:13:06.946Z"
   },
   {
    "duration": 132,
    "start_time": "2023-09-11T16:13:07.844Z"
   },
   {
    "duration": 98,
    "start_time": "2023-09-11T16:13:07.979Z"
   },
   {
    "duration": 27,
    "start_time": "2023-09-11T16:13:08.079Z"
   },
   {
    "duration": 745,
    "start_time": "2023-09-11T16:13:08.107Z"
   },
   {
    "duration": 5,
    "start_time": "2023-09-11T16:13:08.854Z"
   },
   {
    "duration": 41,
    "start_time": "2023-09-11T16:13:08.860Z"
   },
   {
    "duration": 7,
    "start_time": "2023-09-11T16:13:08.903Z"
   },
   {
    "duration": 11,
    "start_time": "2023-09-11T16:13:08.911Z"
   },
   {
    "duration": 20,
    "start_time": "2023-09-11T16:13:08.924Z"
   },
   {
    "duration": 11,
    "start_time": "2023-09-11T16:13:08.946Z"
   },
   {
    "duration": 16,
    "start_time": "2023-09-11T16:13:08.959Z"
   },
   {
    "duration": 110,
    "start_time": "2023-09-11T16:13:08.977Z"
   },
   {
    "duration": 28,
    "start_time": "2023-09-11T16:21:09.587Z"
   },
   {
    "duration": 4,
    "start_time": "2023-09-11T16:21:28.484Z"
   },
   {
    "duration": 1259,
    "start_time": "2023-09-11T16:21:28.492Z"
   },
   {
    "duration": 911,
    "start_time": "2023-09-11T16:21:29.753Z"
   },
   {
    "duration": 133,
    "start_time": "2023-09-11T16:21:30.666Z"
   },
   {
    "duration": 105,
    "start_time": "2023-09-11T16:21:30.802Z"
   },
   {
    "duration": 36,
    "start_time": "2023-09-11T16:21:30.911Z"
   },
   {
    "duration": 792,
    "start_time": "2023-09-11T16:21:30.949Z"
   },
   {
    "duration": 5,
    "start_time": "2023-09-11T16:21:31.744Z"
   },
   {
    "duration": 55,
    "start_time": "2023-09-11T16:21:31.751Z"
   },
   {
    "duration": 12,
    "start_time": "2023-09-11T16:21:31.808Z"
   },
   {
    "duration": 32,
    "start_time": "2023-09-11T16:21:31.821Z"
   },
   {
    "duration": 148,
    "start_time": "2023-09-11T16:21:31.855Z"
   },
   {
    "duration": 0,
    "start_time": "2023-09-11T16:21:32.005Z"
   },
   {
    "duration": 0,
    "start_time": "2023-09-11T16:21:32.007Z"
   },
   {
    "duration": 0,
    "start_time": "2023-09-11T16:21:32.008Z"
   },
   {
    "duration": 3,
    "start_time": "2023-09-11T16:22:06.502Z"
   },
   {
    "duration": 1264,
    "start_time": "2023-09-11T16:22:06.507Z"
   },
   {
    "duration": 891,
    "start_time": "2023-09-11T16:22:07.773Z"
   },
   {
    "duration": 130,
    "start_time": "2023-09-11T16:22:08.666Z"
   },
   {
    "duration": 89,
    "start_time": "2023-09-11T16:22:08.798Z"
   },
   {
    "duration": 25,
    "start_time": "2023-09-11T16:22:08.889Z"
   },
   {
    "duration": 761,
    "start_time": "2023-09-11T16:22:08.916Z"
   },
   {
    "duration": 5,
    "start_time": "2023-09-11T16:22:09.679Z"
   },
   {
    "duration": 30,
    "start_time": "2023-09-11T16:22:09.686Z"
   },
   {
    "duration": 11,
    "start_time": "2023-09-11T16:22:09.718Z"
   },
   {
    "duration": 33,
    "start_time": "2023-09-11T16:22:09.731Z"
   },
   {
    "duration": 23,
    "start_time": "2023-09-11T16:22:09.766Z"
   },
   {
    "duration": 11,
    "start_time": "2023-09-11T16:22:09.791Z"
   },
   {
    "duration": 18,
    "start_time": "2023-09-11T16:22:09.805Z"
   },
   {
    "duration": 118,
    "start_time": "2023-09-11T16:22:09.825Z"
   },
   {
    "duration": 24,
    "start_time": "2023-09-11T16:22:25.172Z"
   },
   {
    "duration": 3,
    "start_time": "2023-09-11T16:22:36.826Z"
   },
   {
    "duration": 3,
    "start_time": "2023-09-11T16:23:00.199Z"
   },
   {
    "duration": 1431,
    "start_time": "2023-09-11T16:23:00.205Z"
   },
   {
    "duration": 1028,
    "start_time": "2023-09-11T16:23:01.639Z"
   },
   {
    "duration": 141,
    "start_time": "2023-09-11T16:23:02.669Z"
   },
   {
    "duration": 104,
    "start_time": "2023-09-11T16:23:02.813Z"
   },
   {
    "duration": 35,
    "start_time": "2023-09-11T16:23:02.919Z"
   },
   {
    "duration": 847,
    "start_time": "2023-09-11T16:23:02.956Z"
   },
   {
    "duration": 7,
    "start_time": "2023-09-11T16:23:03.806Z"
   },
   {
    "duration": 50,
    "start_time": "2023-09-11T16:23:03.815Z"
   },
   {
    "duration": 3,
    "start_time": "2023-09-11T16:23:03.867Z"
   },
   {
    "duration": 11,
    "start_time": "2023-09-11T16:23:03.873Z"
   },
   {
    "duration": 136,
    "start_time": "2023-09-11T16:23:03.886Z"
   },
   {
    "duration": 160,
    "start_time": "2023-09-11T16:23:04.024Z"
   },
   {
    "duration": 25,
    "start_time": "2023-09-11T16:23:04.187Z"
   },
   {
    "duration": 9,
    "start_time": "2023-09-11T16:24:33.315Z"
   },
   {
    "duration": 105,
    "start_time": "2023-09-11T16:24:39.198Z"
   },
   {
    "duration": 3,
    "start_time": "2023-09-11T16:24:58.118Z"
   },
   {
    "duration": 1214,
    "start_time": "2023-09-11T16:24:58.123Z"
   },
   {
    "duration": 871,
    "start_time": "2023-09-11T16:24:59.339Z"
   },
   {
    "duration": 138,
    "start_time": "2023-09-11T16:25:00.212Z"
   },
   {
    "duration": 98,
    "start_time": "2023-09-11T16:25:00.354Z"
   },
   {
    "duration": 25,
    "start_time": "2023-09-11T16:25:00.453Z"
   },
   {
    "duration": 780,
    "start_time": "2023-09-11T16:25:00.479Z"
   },
   {
    "duration": 6,
    "start_time": "2023-09-11T16:25:01.262Z"
   },
   {
    "duration": 29,
    "start_time": "2023-09-11T16:25:01.270Z"
   },
   {
    "duration": 145,
    "start_time": "2023-09-11T16:25:01.301Z"
   },
   {
    "duration": 0,
    "start_time": "2023-09-11T16:25:01.448Z"
   },
   {
    "duration": 0,
    "start_time": "2023-09-11T16:25:01.450Z"
   },
   {
    "duration": 0,
    "start_time": "2023-09-11T16:25:01.452Z"
   },
   {
    "duration": 0,
    "start_time": "2023-09-11T16:25:01.453Z"
   },
   {
    "duration": 0,
    "start_time": "2023-09-11T16:25:01.454Z"
   },
   {
    "duration": 3,
    "start_time": "2023-09-11T16:25:18.941Z"
   },
   {
    "duration": 1219,
    "start_time": "2023-09-11T16:25:18.947Z"
   },
   {
    "duration": 851,
    "start_time": "2023-09-11T16:25:20.168Z"
   },
   {
    "duration": 147,
    "start_time": "2023-09-11T16:25:21.021Z"
   },
   {
    "duration": 106,
    "start_time": "2023-09-11T16:25:21.171Z"
   },
   {
    "duration": 25,
    "start_time": "2023-09-11T16:25:21.279Z"
   },
   {
    "duration": 720,
    "start_time": "2023-09-11T16:25:21.305Z"
   },
   {
    "duration": 5,
    "start_time": "2023-09-11T16:25:22.027Z"
   },
   {
    "duration": 99,
    "start_time": "2023-09-11T16:25:22.033Z"
   },
   {
    "duration": 0,
    "start_time": "2023-09-11T16:25:22.133Z"
   },
   {
    "duration": 0,
    "start_time": "2023-09-11T16:25:22.144Z"
   },
   {
    "duration": 0,
    "start_time": "2023-09-11T16:25:22.145Z"
   },
   {
    "duration": 0,
    "start_time": "2023-09-11T16:25:22.146Z"
   },
   {
    "duration": 0,
    "start_time": "2023-09-11T16:25:22.147Z"
   },
   {
    "duration": 0,
    "start_time": "2023-09-11T16:25:22.148Z"
   },
   {
    "duration": 33,
    "start_time": "2023-09-11T16:26:56.873Z"
   },
   {
    "duration": 12,
    "start_time": "2023-09-11T16:27:00.297Z"
   },
   {
    "duration": 56,
    "start_time": "2023-09-11T16:27:38.681Z"
   },
   {
    "duration": 3,
    "start_time": "2023-09-11T16:27:46.426Z"
   },
   {
    "duration": 1228,
    "start_time": "2023-09-11T16:27:46.431Z"
   },
   {
    "duration": 883,
    "start_time": "2023-09-11T16:27:47.661Z"
   },
   {
    "duration": 125,
    "start_time": "2023-09-11T16:27:48.546Z"
   },
   {
    "duration": 93,
    "start_time": "2023-09-11T16:27:48.674Z"
   },
   {
    "duration": 26,
    "start_time": "2023-09-11T16:27:48.769Z"
   },
   {
    "duration": 750,
    "start_time": "2023-09-11T16:27:48.797Z"
   },
   {
    "duration": 4,
    "start_time": "2023-09-11T16:27:49.549Z"
   },
   {
    "duration": 15,
    "start_time": "2023-09-11T16:27:49.554Z"
   },
   {
    "duration": 35,
    "start_time": "2023-09-11T16:27:49.570Z"
   },
   {
    "duration": 3,
    "start_time": "2023-09-11T16:27:49.606Z"
   },
   {
    "duration": 67,
    "start_time": "2023-09-11T16:27:49.611Z"
   },
   {
    "duration": 29,
    "start_time": "2023-09-11T16:27:49.680Z"
   },
   {
    "duration": 134,
    "start_time": "2023-09-11T16:27:49.712Z"
   },
   {
    "duration": 135,
    "start_time": "2023-09-11T16:27:49.848Z"
   },
   {
    "duration": 24,
    "start_time": "2023-09-11T16:27:49.985Z"
   },
   {
    "duration": 4,
    "start_time": "2023-09-11T16:28:02.218Z"
   },
   {
    "duration": 1227,
    "start_time": "2023-09-11T16:28:02.224Z"
   },
   {
    "duration": 885,
    "start_time": "2023-09-11T16:28:03.453Z"
   },
   {
    "duration": 131,
    "start_time": "2023-09-11T16:28:04.339Z"
   },
   {
    "duration": 84,
    "start_time": "2023-09-11T16:28:04.472Z"
   },
   {
    "duration": 30,
    "start_time": "2023-09-11T16:28:04.559Z"
   },
   {
    "duration": 808,
    "start_time": "2023-09-11T16:28:04.591Z"
   },
   {
    "duration": 6,
    "start_time": "2023-09-11T16:28:05.401Z"
   },
   {
    "duration": 35,
    "start_time": "2023-09-11T16:28:05.409Z"
   },
   {
    "duration": 35,
    "start_time": "2023-09-11T16:28:05.447Z"
   },
   {
    "duration": 20,
    "start_time": "2023-09-11T16:28:05.484Z"
   },
   {
    "duration": 80,
    "start_time": "2023-09-11T16:28:05.506Z"
   },
   {
    "duration": 29,
    "start_time": "2023-09-11T16:28:05.588Z"
   },
   {
    "duration": 139,
    "start_time": "2023-09-11T16:28:05.620Z"
   },
   {
    "duration": 131,
    "start_time": "2023-09-11T16:28:05.761Z"
   },
   {
    "duration": 26,
    "start_time": "2023-09-11T16:28:05.894Z"
   },
   {
    "duration": 3,
    "start_time": "2023-09-11T16:29:14.779Z"
   },
   {
    "duration": 1237,
    "start_time": "2023-09-11T16:29:14.784Z"
   },
   {
    "duration": 910,
    "start_time": "2023-09-11T16:29:16.023Z"
   },
   {
    "duration": 150,
    "start_time": "2023-09-11T16:29:16.935Z"
   },
   {
    "duration": 99,
    "start_time": "2023-09-11T16:29:17.088Z"
   },
   {
    "duration": 26,
    "start_time": "2023-09-11T16:29:17.189Z"
   },
   {
    "duration": 796,
    "start_time": "2023-09-11T16:29:17.216Z"
   },
   {
    "duration": 4,
    "start_time": "2023-09-11T16:29:18.014Z"
   },
   {
    "duration": 17,
    "start_time": "2023-09-11T16:29:18.019Z"
   },
   {
    "duration": 63,
    "start_time": "2023-09-11T16:29:18.038Z"
   },
   {
    "duration": 2,
    "start_time": "2023-09-11T16:29:18.103Z"
   },
   {
    "duration": 96,
    "start_time": "2023-09-11T16:29:18.107Z"
   },
   {
    "duration": 37,
    "start_time": "2023-09-11T16:29:18.205Z"
   },
   {
    "duration": 150,
    "start_time": "2023-09-11T16:29:18.249Z"
   },
   {
    "duration": 135,
    "start_time": "2023-09-11T16:29:18.401Z"
   },
   {
    "duration": 43,
    "start_time": "2023-09-11T16:29:18.538Z"
   },
   {
    "duration": 7,
    "start_time": "2023-09-11T16:30:55.668Z"
   },
   {
    "duration": 1206,
    "start_time": "2023-09-11T16:30:55.676Z"
   },
   {
    "duration": 913,
    "start_time": "2023-09-11T16:30:56.884Z"
   },
   {
    "duration": 137,
    "start_time": "2023-09-11T16:30:57.799Z"
   },
   {
    "duration": 87,
    "start_time": "2023-09-11T16:30:57.944Z"
   },
   {
    "duration": 27,
    "start_time": "2023-09-11T16:30:58.044Z"
   },
   {
    "duration": 756,
    "start_time": "2023-09-11T16:30:58.074Z"
   },
   {
    "duration": 4,
    "start_time": "2023-09-11T16:30:58.832Z"
   },
   {
    "duration": 87,
    "start_time": "2023-09-11T16:30:58.843Z"
   },
   {
    "duration": 52,
    "start_time": "2023-09-11T16:30:58.932Z"
   },
   {
    "duration": 3,
    "start_time": "2023-09-11T16:30:58.986Z"
   },
   {
    "duration": 80,
    "start_time": "2023-09-11T16:30:58.991Z"
   },
   {
    "duration": 3,
    "start_time": "2023-09-11T16:30:59.073Z"
   },
   {
    "duration": 126,
    "start_time": "2023-09-11T16:30:59.079Z"
   },
   {
    "duration": 137,
    "start_time": "2023-09-11T16:30:59.207Z"
   },
   {
    "duration": 11,
    "start_time": "2023-09-11T16:30:59.345Z"
   },
   {
    "duration": 66,
    "start_time": "2023-09-11T16:34:19.085Z"
   },
   {
    "duration": 109,
    "start_time": "2023-09-11T16:34:31.299Z"
   },
   {
    "duration": 4,
    "start_time": "2023-09-11T16:37:54.684Z"
   },
   {
    "duration": 1253,
    "start_time": "2023-09-11T16:37:54.690Z"
   },
   {
    "duration": 935,
    "start_time": "2023-09-11T16:37:55.946Z"
   },
   {
    "duration": 134,
    "start_time": "2023-09-11T16:37:56.883Z"
   },
   {
    "duration": 103,
    "start_time": "2023-09-11T16:37:57.019Z"
   },
   {
    "duration": 38,
    "start_time": "2023-09-11T16:37:57.124Z"
   },
   {
    "duration": 785,
    "start_time": "2023-09-11T16:37:57.164Z"
   },
   {
    "duration": 8,
    "start_time": "2023-09-11T16:37:57.951Z"
   },
   {
    "duration": 24,
    "start_time": "2023-09-11T16:37:57.962Z"
   },
   {
    "duration": 62,
    "start_time": "2023-09-11T16:37:57.988Z"
   },
   {
    "duration": 3,
    "start_time": "2023-09-11T16:37:58.053Z"
   },
   {
    "duration": 75,
    "start_time": "2023-09-11T16:37:58.058Z"
   },
   {
    "duration": 2,
    "start_time": "2023-09-11T16:37:58.135Z"
   },
   {
    "duration": 142,
    "start_time": "2023-09-11T16:37:58.140Z"
   },
   {
    "duration": 140,
    "start_time": "2023-09-11T16:37:58.284Z"
   },
   {
    "duration": 62698,
    "start_time": "2023-09-11T16:37:58.425Z"
   },
   {
    "duration": 0,
    "start_time": "2023-09-11T16:39:01.245Z"
   },
   {
    "duration": 0,
    "start_time": "2023-09-11T16:39:01.254Z"
   },
   {
    "duration": 0,
    "start_time": "2023-09-11T16:39:01.259Z"
   },
   {
    "duration": 39,
    "start_time": "2023-09-11T16:42:20.179Z"
   },
   {
    "duration": 12,
    "start_time": "2023-09-11T16:42:43.706Z"
   },
   {
    "duration": 26,
    "start_time": "2023-09-11T16:42:48.359Z"
   },
   {
    "duration": 24,
    "start_time": "2023-09-11T16:42:57.292Z"
   },
   {
    "duration": 24,
    "start_time": "2023-09-11T16:49:17.348Z"
   },
   {
    "duration": 3,
    "start_time": "2023-09-11T16:49:46.091Z"
   },
   {
    "duration": 3,
    "start_time": "2023-09-11T16:51:35.910Z"
   },
   {
    "duration": 3,
    "start_time": "2023-09-11T16:51:42.362Z"
   },
   {
    "duration": 1236,
    "start_time": "2023-09-11T16:51:42.367Z"
   },
   {
    "duration": 960,
    "start_time": "2023-09-11T16:51:43.606Z"
   },
   {
    "duration": 203,
    "start_time": "2023-09-11T16:51:44.568Z"
   },
   {
    "duration": 99,
    "start_time": "2023-09-11T16:51:44.773Z"
   },
   {
    "duration": 29,
    "start_time": "2023-09-11T16:51:44.874Z"
   },
   {
    "duration": 786,
    "start_time": "2023-09-11T16:51:44.905Z"
   },
   {
    "duration": 5,
    "start_time": "2023-09-11T16:51:45.693Z"
   },
   {
    "duration": 3,
    "start_time": "2023-09-11T16:51:45.700Z"
   },
   {
    "duration": 55,
    "start_time": "2023-09-11T16:51:45.705Z"
   },
   {
    "duration": 3,
    "start_time": "2023-09-11T16:51:45.762Z"
   },
   {
    "duration": 60,
    "start_time": "2023-09-11T16:51:45.768Z"
   },
   {
    "duration": 3,
    "start_time": "2023-09-11T16:51:45.844Z"
   },
   {
    "duration": 142,
    "start_time": "2023-09-11T16:51:45.851Z"
   },
   {
    "duration": 128,
    "start_time": "2023-09-11T16:51:45.995Z"
   },
   {
    "duration": 2,
    "start_time": "2023-09-11T16:51:46.125Z"
   },
   {
    "duration": 15,
    "start_time": "2023-09-11T16:51:46.129Z"
   },
   {
    "duration": 12,
    "start_time": "2023-09-11T16:51:46.146Z"
   },
   {
    "duration": 19,
    "start_time": "2023-09-11T17:11:51.864Z"
   },
   {
    "duration": 3,
    "start_time": "2023-09-11T17:12:17.085Z"
   },
   {
    "duration": 42,
    "start_time": "2023-09-11T17:12:54.077Z"
   },
   {
    "duration": 42,
    "start_time": "2023-09-11T17:13:12.451Z"
   },
   {
    "duration": 5,
    "start_time": "2023-09-11T17:16:02.516Z"
   },
   {
    "duration": 23,
    "start_time": "2023-09-11T17:16:20.714Z"
   },
   {
    "duration": 40,
    "start_time": "2023-09-11T17:16:51.047Z"
   },
   {
    "duration": 3,
    "start_time": "2023-09-11T17:17:31.257Z"
   },
   {
    "duration": 1170,
    "start_time": "2023-09-11T17:17:31.262Z"
   },
   {
    "duration": 901,
    "start_time": "2023-09-11T17:17:32.434Z"
   },
   {
    "duration": 125,
    "start_time": "2023-09-11T17:17:33.336Z"
   },
   {
    "duration": 89,
    "start_time": "2023-09-11T17:17:33.463Z"
   },
   {
    "duration": 25,
    "start_time": "2023-09-11T17:17:33.554Z"
   },
   {
    "duration": 778,
    "start_time": "2023-09-11T17:17:33.581Z"
   },
   {
    "duration": 49,
    "start_time": "2023-09-11T17:17:34.361Z"
   },
   {
    "duration": 28,
    "start_time": "2023-09-11T17:17:34.412Z"
   },
   {
    "duration": 13,
    "start_time": "2023-09-11T17:17:34.442Z"
   },
   {
    "duration": 46,
    "start_time": "2023-09-11T17:17:34.457Z"
   },
   {
    "duration": 33,
    "start_time": "2023-09-11T17:17:34.506Z"
   },
   {
    "duration": 66,
    "start_time": "2023-09-11T17:17:34.544Z"
   },
   {
    "duration": 3,
    "start_time": "2023-09-11T17:17:34.614Z"
   },
   {
    "duration": 57,
    "start_time": "2023-09-11T17:17:34.619Z"
   },
   {
    "duration": 3,
    "start_time": "2023-09-11T17:17:34.677Z"
   },
   {
    "duration": 41,
    "start_time": "2023-09-11T17:17:34.682Z"
   },
   {
    "duration": 123,
    "start_time": "2023-09-11T17:17:34.725Z"
   },
   {
    "duration": 108,
    "start_time": "2023-09-11T17:17:34.849Z"
   },
   {
    "duration": 3,
    "start_time": "2023-09-11T17:17:34.959Z"
   },
   {
    "duration": 5,
    "start_time": "2023-09-11T17:17:34.963Z"
   },
   {
    "duration": 5,
    "start_time": "2023-09-11T17:17:34.969Z"
   },
   {
    "duration": 3,
    "start_time": "2023-09-11T17:17:55.745Z"
   },
   {
    "duration": 10,
    "start_time": "2023-09-11T17:19:52.336Z"
   },
   {
    "duration": 4,
    "start_time": "2023-09-11T17:19:57.861Z"
   },
   {
    "duration": 1169,
    "start_time": "2023-09-11T17:19:57.868Z"
   },
   {
    "duration": 886,
    "start_time": "2023-09-11T17:19:59.039Z"
   },
   {
    "duration": 127,
    "start_time": "2023-09-11T17:19:59.929Z"
   },
   {
    "duration": 111,
    "start_time": "2023-09-11T17:20:00.058Z"
   },
   {
    "duration": 37,
    "start_time": "2023-09-11T17:20:00.171Z"
   },
   {
    "duration": 783,
    "start_time": "2023-09-11T17:20:00.209Z"
   },
   {
    "duration": 55,
    "start_time": "2023-09-11T17:20:00.994Z"
   },
   {
    "duration": 19,
    "start_time": "2023-09-11T17:20:01.052Z"
   },
   {
    "duration": 20,
    "start_time": "2023-09-11T17:20:01.074Z"
   },
   {
    "duration": 65,
    "start_time": "2023-09-11T17:20:01.097Z"
   },
   {
    "duration": 27,
    "start_time": "2023-09-11T17:20:01.164Z"
   },
   {
    "duration": 65,
    "start_time": "2023-09-11T17:20:01.193Z"
   },
   {
    "duration": 3,
    "start_time": "2023-09-11T17:20:01.261Z"
   },
   {
    "duration": 70,
    "start_time": "2023-09-11T17:20:01.265Z"
   },
   {
    "duration": 3,
    "start_time": "2023-09-11T17:20:01.336Z"
   },
   {
    "duration": 70,
    "start_time": "2023-09-11T17:20:01.340Z"
   },
   {
    "duration": 112,
    "start_time": "2023-09-11T17:20:01.411Z"
   },
   {
    "duration": 127,
    "start_time": "2023-09-11T17:20:01.524Z"
   },
   {
    "duration": 16,
    "start_time": "2023-09-11T17:20:01.653Z"
   },
   {
    "duration": 31,
    "start_time": "2023-09-11T17:20:01.671Z"
   },
   {
    "duration": 36,
    "start_time": "2023-09-11T17:20:01.704Z"
   },
   {
    "duration": 3,
    "start_time": "2023-09-11T17:20:19.940Z"
   },
   {
    "duration": 5,
    "start_time": "2023-09-11T17:20:43.738Z"
   },
   {
    "duration": 1273,
    "start_time": "2023-09-11T17:20:43.745Z"
   },
   {
    "duration": 923,
    "start_time": "2023-09-11T17:20:45.020Z"
   },
   {
    "duration": 131,
    "start_time": "2023-09-11T17:20:45.945Z"
   },
   {
    "duration": 102,
    "start_time": "2023-09-11T17:20:46.079Z"
   },
   {
    "duration": 29,
    "start_time": "2023-09-11T17:20:46.183Z"
   },
   {
    "duration": 754,
    "start_time": "2023-09-11T17:20:46.215Z"
   },
   {
    "duration": 45,
    "start_time": "2023-09-11T17:20:46.972Z"
   },
   {
    "duration": 11,
    "start_time": "2023-09-11T17:20:47.019Z"
   },
   {
    "duration": 3,
    "start_time": "2023-09-11T17:20:47.045Z"
   },
   {
    "duration": 46,
    "start_time": "2023-09-11T17:20:47.050Z"
   },
   {
    "duration": 2,
    "start_time": "2023-09-11T17:20:47.098Z"
   },
   {
    "duration": 91,
    "start_time": "2023-09-11T17:20:47.102Z"
   },
   {
    "duration": 2,
    "start_time": "2023-09-11T17:20:47.196Z"
   },
   {
    "duration": 58,
    "start_time": "2023-09-11T17:20:47.200Z"
   },
   {
    "duration": 3,
    "start_time": "2023-09-11T17:20:47.260Z"
   },
   {
    "duration": 60,
    "start_time": "2023-09-11T17:20:47.264Z"
   },
   {
    "duration": 118,
    "start_time": "2023-09-11T17:20:47.326Z"
   },
   {
    "duration": 125,
    "start_time": "2023-09-11T17:20:47.446Z"
   },
   {
    "duration": 3,
    "start_time": "2023-09-11T17:20:47.574Z"
   },
   {
    "duration": 18,
    "start_time": "2023-09-11T17:20:47.579Z"
   },
   {
    "duration": 10,
    "start_time": "2023-09-11T17:20:47.599Z"
   },
   {
    "duration": 108,
    "start_time": "2023-09-11T17:21:11.094Z"
   },
   {
    "duration": 94,
    "start_time": "2023-09-11T17:22:41.597Z"
   },
   {
    "duration": 92,
    "start_time": "2023-09-11T17:27:21.422Z"
   },
   {
    "duration": 89,
    "start_time": "2023-09-11T17:27:27.051Z"
   },
   {
    "duration": 3,
    "start_time": "2023-09-11T17:27:50.974Z"
   },
   {
    "duration": 1161,
    "start_time": "2023-09-11T17:27:50.979Z"
   },
   {
    "duration": 937,
    "start_time": "2023-09-11T17:27:52.141Z"
   },
   {
    "duration": 123,
    "start_time": "2023-09-11T17:27:53.080Z"
   },
   {
    "duration": 99,
    "start_time": "2023-09-11T17:27:53.205Z"
   },
   {
    "duration": 39,
    "start_time": "2023-09-11T17:27:53.305Z"
   },
   {
    "duration": 802,
    "start_time": "2023-09-11T17:27:53.346Z"
   },
   {
    "duration": 43,
    "start_time": "2023-09-11T17:27:54.149Z"
   },
   {
    "duration": 5,
    "start_time": "2023-09-11T17:27:54.194Z"
   },
   {
    "duration": 21,
    "start_time": "2023-09-11T17:27:54.201Z"
   },
   {
    "duration": 39,
    "start_time": "2023-09-11T17:27:54.223Z"
   },
   {
    "duration": 3,
    "start_time": "2023-09-11T17:27:54.264Z"
   },
   {
    "duration": 66,
    "start_time": "2023-09-11T17:27:54.268Z"
   },
   {
    "duration": 2,
    "start_time": "2023-09-11T17:27:54.336Z"
   },
   {
    "duration": 53,
    "start_time": "2023-09-11T17:27:54.340Z"
   },
   {
    "duration": 2,
    "start_time": "2023-09-11T17:27:54.395Z"
   },
   {
    "duration": 47,
    "start_time": "2023-09-11T17:27:54.399Z"
   },
   {
    "duration": 154,
    "start_time": "2023-09-11T17:27:54.447Z"
   },
   {
    "duration": 198,
    "start_time": "2023-09-11T17:27:54.604Z"
   },
   {
    "duration": 114,
    "start_time": "2023-09-11T17:27:54.804Z"
   },
   {
    "duration": 90,
    "start_time": "2023-09-11T17:27:54.920Z"
   },
   {
    "duration": 23,
    "start_time": "2023-09-11T17:27:55.012Z"
   },
   {
    "duration": 3,
    "start_time": "2023-09-11T17:28:39.903Z"
   },
   {
    "duration": 1221,
    "start_time": "2023-09-11T17:28:39.908Z"
   },
   {
    "duration": 887,
    "start_time": "2023-09-11T17:28:41.132Z"
   },
   {
    "duration": 134,
    "start_time": "2023-09-11T17:28:42.021Z"
   },
   {
    "duration": 92,
    "start_time": "2023-09-11T17:28:42.157Z"
   },
   {
    "duration": 28,
    "start_time": "2023-09-11T17:28:42.251Z"
   },
   {
    "duration": 787,
    "start_time": "2023-09-11T17:28:42.281Z"
   },
   {
    "duration": 45,
    "start_time": "2023-09-11T17:28:43.070Z"
   },
   {
    "duration": 5,
    "start_time": "2023-09-11T17:28:43.117Z"
   },
   {
    "duration": 20,
    "start_time": "2023-09-11T17:28:43.123Z"
   },
   {
    "duration": 37,
    "start_time": "2023-09-11T17:28:43.145Z"
   },
   {
    "duration": 3,
    "start_time": "2023-09-11T17:28:43.184Z"
   },
   {
    "duration": 70,
    "start_time": "2023-09-11T17:28:43.189Z"
   },
   {
    "duration": 3,
    "start_time": "2023-09-11T17:28:43.262Z"
   },
   {
    "duration": 45,
    "start_time": "2023-09-11T17:28:43.267Z"
   },
   {
    "duration": 3,
    "start_time": "2023-09-11T17:28:43.314Z"
   },
   {
    "duration": 55,
    "start_time": "2023-09-11T17:28:43.318Z"
   },
   {
    "duration": 113,
    "start_time": "2023-09-11T17:28:43.375Z"
   },
   {
    "duration": 118,
    "start_time": "2023-09-11T17:28:43.490Z"
   },
   {
    "duration": 115,
    "start_time": "2023-09-11T17:28:43.610Z"
   },
   {
    "duration": 102,
    "start_time": "2023-09-11T17:28:43.727Z"
   },
   {
    "duration": 262,
    "start_time": "2023-09-11T17:28:43.831Z"
   },
   {
    "duration": 3,
    "start_time": "2023-09-11T17:28:44.094Z"
   },
   {
    "duration": 4,
    "start_time": "2023-09-11T17:30:29.926Z"
   },
   {
    "duration": 1221,
    "start_time": "2023-09-11T17:30:29.931Z"
   },
   {
    "duration": 904,
    "start_time": "2023-09-11T17:30:31.154Z"
   },
   {
    "duration": 129,
    "start_time": "2023-09-11T17:30:32.060Z"
   },
   {
    "duration": 113,
    "start_time": "2023-09-11T17:30:32.191Z"
   },
   {
    "duration": 30,
    "start_time": "2023-09-11T17:30:32.306Z"
   },
   {
    "duration": 785,
    "start_time": "2023-09-11T17:30:32.344Z"
   },
   {
    "duration": 43,
    "start_time": "2023-09-11T17:30:33.131Z"
   },
   {
    "duration": 5,
    "start_time": "2023-09-11T17:30:33.176Z"
   },
   {
    "duration": 12,
    "start_time": "2023-09-11T17:30:33.183Z"
   },
   {
    "duration": 48,
    "start_time": "2023-09-11T17:30:33.196Z"
   },
   {
    "duration": 3,
    "start_time": "2023-09-11T17:30:33.246Z"
   },
   {
    "duration": 65,
    "start_time": "2023-09-11T17:30:33.250Z"
   },
   {
    "duration": 3,
    "start_time": "2023-09-11T17:30:33.318Z"
   },
   {
    "duration": 56,
    "start_time": "2023-09-11T17:30:33.322Z"
   },
   {
    "duration": 3,
    "start_time": "2023-09-11T17:30:33.379Z"
   },
   {
    "duration": 63,
    "start_time": "2023-09-11T17:30:33.384Z"
   },
   {
    "duration": 99,
    "start_time": "2023-09-11T17:30:33.449Z"
   },
   {
    "duration": 112,
    "start_time": "2023-09-11T17:30:33.550Z"
   },
   {
    "duration": 117,
    "start_time": "2023-09-11T17:30:33.664Z"
   },
   {
    "duration": 121,
    "start_time": "2023-09-11T17:30:33.783Z"
   },
   {
    "duration": 255,
    "start_time": "2023-09-11T17:30:33.906Z"
   },
   {
    "duration": 267,
    "start_time": "2023-09-11T17:30:34.162Z"
   },
   {
    "duration": 227,
    "start_time": "2023-09-11T17:30:34.430Z"
   },
   {
    "duration": 18,
    "start_time": "2023-09-11T17:30:34.659Z"
   },
   {
    "duration": 5,
    "start_time": "2023-09-11T17:30:56.944Z"
   },
   {
    "duration": 1259,
    "start_time": "2023-09-11T17:30:56.951Z"
   },
   {
    "duration": 902,
    "start_time": "2023-09-11T17:30:58.212Z"
   },
   {
    "duration": 131,
    "start_time": "2023-09-11T17:30:59.116Z"
   },
   {
    "duration": 93,
    "start_time": "2023-09-11T17:30:59.250Z"
   },
   {
    "duration": 27,
    "start_time": "2023-09-11T17:30:59.345Z"
   },
   {
    "duration": 748,
    "start_time": "2023-09-11T17:30:59.374Z"
   },
   {
    "duration": 61,
    "start_time": "2023-09-11T17:31:00.124Z"
   },
   {
    "duration": 9,
    "start_time": "2023-09-11T17:31:00.187Z"
   },
   {
    "duration": 49,
    "start_time": "2023-09-11T17:31:00.198Z"
   },
   {
    "duration": 70,
    "start_time": "2023-09-11T17:31:00.248Z"
   },
   {
    "duration": 3,
    "start_time": "2023-09-11T17:31:00.320Z"
   },
   {
    "duration": 103,
    "start_time": "2023-09-11T17:31:00.325Z"
   },
   {
    "duration": 2,
    "start_time": "2023-09-11T17:31:00.432Z"
   },
   {
    "duration": 129,
    "start_time": "2023-09-11T17:31:00.436Z"
   },
   {
    "duration": 52,
    "start_time": "2023-09-11T17:31:00.567Z"
   },
   {
    "duration": 74,
    "start_time": "2023-09-11T17:31:00.620Z"
   },
   {
    "duration": 115,
    "start_time": "2023-09-11T17:31:00.696Z"
   },
   {
    "duration": 131,
    "start_time": "2023-09-11T17:31:00.813Z"
   },
   {
    "duration": 116,
    "start_time": "2023-09-11T17:31:00.950Z"
   },
   {
    "duration": 89,
    "start_time": "2023-09-11T17:31:01.068Z"
   },
   {
    "duration": 266,
    "start_time": "2023-09-11T17:31:01.159Z"
   },
   {
    "duration": 286,
    "start_time": "2023-09-11T17:31:01.427Z"
   },
   {
    "duration": 98,
    "start_time": "2023-09-11T17:31:01.716Z"
   },
   {
    "duration": 0,
    "start_time": "2023-09-11T17:31:01.816Z"
   },
   {
    "duration": 3,
    "start_time": "2023-09-11T17:31:32.492Z"
   },
   {
    "duration": 1135,
    "start_time": "2023-09-11T17:31:32.497Z"
   },
   {
    "duration": 911,
    "start_time": "2023-09-11T17:31:33.634Z"
   },
   {
    "duration": 164,
    "start_time": "2023-09-11T17:31:34.548Z"
   },
   {
    "duration": 95,
    "start_time": "2023-09-11T17:31:34.715Z"
   },
   {
    "duration": 33,
    "start_time": "2023-09-11T17:31:34.811Z"
   },
   {
    "duration": 760,
    "start_time": "2023-09-11T17:31:34.846Z"
   },
   {
    "duration": 50,
    "start_time": "2023-09-11T17:31:35.607Z"
   },
   {
    "duration": 4,
    "start_time": "2023-09-11T17:31:35.659Z"
   },
   {
    "duration": 7,
    "start_time": "2023-09-11T17:31:35.664Z"
   },
   {
    "duration": 55,
    "start_time": "2023-09-11T17:31:35.672Z"
   },
   {
    "duration": 3,
    "start_time": "2023-09-11T17:31:35.729Z"
   },
   {
    "duration": 90,
    "start_time": "2023-09-11T17:31:35.733Z"
   },
   {
    "duration": 5,
    "start_time": "2023-09-11T17:31:35.825Z"
   },
   {
    "duration": 58,
    "start_time": "2023-09-11T17:31:35.831Z"
   },
   {
    "duration": 2,
    "start_time": "2023-09-11T17:31:35.891Z"
   },
   {
    "duration": 82,
    "start_time": "2023-09-11T17:31:35.894Z"
   },
   {
    "duration": 104,
    "start_time": "2023-09-11T17:31:35.978Z"
   },
   {
    "duration": 116,
    "start_time": "2023-09-11T17:31:36.084Z"
   },
   {
    "duration": 103,
    "start_time": "2023-09-11T17:31:36.202Z"
   },
   {
    "duration": 88,
    "start_time": "2023-09-11T17:31:36.306Z"
   },
   {
    "duration": 266,
    "start_time": "2023-09-11T17:31:36.395Z"
   },
   {
    "duration": 269,
    "start_time": "2023-09-11T17:31:36.663Z"
   },
   {
    "duration": 242,
    "start_time": "2023-09-11T17:31:36.934Z"
   },
   {
    "duration": 20,
    "start_time": "2023-09-11T17:31:37.178Z"
   },
   {
    "duration": 61,
    "start_time": "2023-09-11T17:31:49.593Z"
   },
   {
    "duration": 4,
    "start_time": "2023-09-11T18:49:03.997Z"
   },
   {
    "duration": 1248,
    "start_time": "2023-09-11T18:49:04.003Z"
   },
   {
    "duration": 898,
    "start_time": "2023-09-11T18:49:05.253Z"
   },
   {
    "duration": 126,
    "start_time": "2023-09-11T18:49:06.153Z"
   },
   {
    "duration": 99,
    "start_time": "2023-09-11T18:49:06.281Z"
   },
   {
    "duration": 26,
    "start_time": "2023-09-11T18:49:06.384Z"
   },
   {
    "duration": 729,
    "start_time": "2023-09-11T18:49:06.412Z"
   },
   {
    "duration": 45,
    "start_time": "2023-09-11T18:49:07.144Z"
   },
   {
    "duration": 5,
    "start_time": "2023-09-11T18:49:07.191Z"
   },
   {
    "duration": 10,
    "start_time": "2023-09-11T18:49:07.197Z"
   },
   {
    "duration": 54,
    "start_time": "2023-09-11T18:49:07.208Z"
   },
   {
    "duration": 2,
    "start_time": "2023-09-11T18:49:07.264Z"
   },
   {
    "duration": 57,
    "start_time": "2023-09-11T18:49:07.269Z"
   },
   {
    "duration": 16,
    "start_time": "2023-09-11T18:49:07.327Z"
   },
   {
    "duration": 46,
    "start_time": "2023-09-11T18:49:07.345Z"
   },
   {
    "duration": 3,
    "start_time": "2023-09-11T18:49:07.393Z"
   },
   {
    "duration": 48,
    "start_time": "2023-09-11T18:49:07.397Z"
   },
   {
    "duration": 105,
    "start_time": "2023-09-11T18:49:07.446Z"
   },
   {
    "duration": 116,
    "start_time": "2023-09-11T18:49:07.553Z"
   },
   {
    "duration": 109,
    "start_time": "2023-09-11T18:49:07.671Z"
   },
   {
    "duration": 84,
    "start_time": "2023-09-11T18:49:07.781Z"
   },
   {
    "duration": 233,
    "start_time": "2023-09-11T18:49:07.867Z"
   },
   {
    "duration": 262,
    "start_time": "2023-09-11T18:49:08.102Z"
   },
   {
    "duration": 229,
    "start_time": "2023-09-11T18:49:08.366Z"
   },
   {
    "duration": 19,
    "start_time": "2023-09-11T18:49:08.597Z"
   },
   {
    "duration": 66,
    "start_time": "2023-09-11T18:49:08.618Z"
   },
   {
    "duration": 87,
    "start_time": "2023-09-11T19:08:43.263Z"
   },
   {
    "duration": 7,
    "start_time": "2023-09-11T19:10:05.800Z"
   },
   {
    "duration": 11,
    "start_time": "2023-09-11T19:10:13.764Z"
   },
   {
    "duration": 13,
    "start_time": "2023-09-11T19:10:19.894Z"
   },
   {
    "duration": 6,
    "start_time": "2023-09-11T19:10:33.327Z"
   },
   {
    "duration": 7,
    "start_time": "2023-09-11T19:10:42.514Z"
   },
   {
    "duration": 10,
    "start_time": "2023-09-11T19:11:08.439Z"
   },
   {
    "duration": 11,
    "start_time": "2023-09-11T19:11:53.244Z"
   },
   {
    "duration": 10,
    "start_time": "2023-09-11T19:12:08.208Z"
   },
   {
    "duration": 11,
    "start_time": "2023-09-11T19:12:11.872Z"
   },
   {
    "duration": 10,
    "start_time": "2023-09-11T19:12:23.559Z"
   },
   {
    "duration": 10,
    "start_time": "2023-09-11T19:13:23.936Z"
   },
   {
    "duration": 18,
    "start_time": "2023-09-11T19:14:14.119Z"
   },
   {
    "duration": 17,
    "start_time": "2023-09-11T19:19:08.767Z"
   },
   {
    "duration": 3,
    "start_time": "2023-09-11T19:19:15.610Z"
   },
   {
    "duration": 1183,
    "start_time": "2023-09-11T19:19:15.615Z"
   },
   {
    "duration": 885,
    "start_time": "2023-09-11T19:19:16.800Z"
   },
   {
    "duration": 127,
    "start_time": "2023-09-11T19:19:17.687Z"
   },
   {
    "duration": 91,
    "start_time": "2023-09-11T19:19:17.816Z"
   },
   {
    "duration": 27,
    "start_time": "2023-09-11T19:19:17.909Z"
   },
   {
    "duration": 696,
    "start_time": "2023-09-11T19:19:17.943Z"
   },
   {
    "duration": 9,
    "start_time": "2023-09-11T19:19:18.640Z"
   },
   {
    "duration": 38,
    "start_time": "2023-09-11T19:19:18.650Z"
   },
   {
    "duration": 39,
    "start_time": "2023-09-11T19:19:18.690Z"
   },
   {
    "duration": 5,
    "start_time": "2023-09-11T19:19:18.743Z"
   },
   {
    "duration": 5,
    "start_time": "2023-09-11T19:19:18.749Z"
   },
   {
    "duration": 55,
    "start_time": "2023-09-11T19:19:18.755Z"
   },
   {
    "duration": 3,
    "start_time": "2023-09-11T19:19:18.813Z"
   },
   {
    "duration": 57,
    "start_time": "2023-09-11T19:19:18.817Z"
   },
   {
    "duration": 2,
    "start_time": "2023-09-11T19:19:18.876Z"
   },
   {
    "duration": 41,
    "start_time": "2023-09-11T19:19:18.880Z"
   },
   {
    "duration": 2,
    "start_time": "2023-09-11T19:19:18.923Z"
   },
   {
    "duration": 58,
    "start_time": "2023-09-11T19:19:18.926Z"
   },
   {
    "duration": 96,
    "start_time": "2023-09-11T19:19:18.986Z"
   },
   {
    "duration": 111,
    "start_time": "2023-09-11T19:19:19.083Z"
   },
   {
    "duration": 95,
    "start_time": "2023-09-11T19:19:19.196Z"
   },
   {
    "duration": 85,
    "start_time": "2023-09-11T19:19:19.293Z"
   },
   {
    "duration": 227,
    "start_time": "2023-09-11T19:19:19.380Z"
   },
   {
    "duration": 240,
    "start_time": "2023-09-11T19:19:19.609Z"
   },
   {
    "duration": 219,
    "start_time": "2023-09-11T19:19:19.851Z"
   },
   {
    "duration": 24,
    "start_time": "2023-09-11T19:19:20.073Z"
   },
   {
    "duration": 64,
    "start_time": "2023-09-11T19:19:20.099Z"
   },
   {
    "duration": 4,
    "start_time": "2023-09-11T19:20:03.651Z"
   },
   {
    "duration": 1212,
    "start_time": "2023-09-11T19:20:03.657Z"
   },
   {
    "duration": 880,
    "start_time": "2023-09-11T19:20:04.871Z"
   },
   {
    "duration": 125,
    "start_time": "2023-09-11T19:20:05.754Z"
   },
   {
    "duration": 101,
    "start_time": "2023-09-11T19:20:05.881Z"
   },
   {
    "duration": 28,
    "start_time": "2023-09-11T19:20:05.983Z"
   },
   {
    "duration": 731,
    "start_time": "2023-09-11T19:20:06.013Z"
   },
   {
    "duration": 8,
    "start_time": "2023-09-11T19:20:06.746Z"
   },
   {
    "duration": 61,
    "start_time": "2023-09-11T19:20:06.756Z"
   },
   {
    "duration": 42,
    "start_time": "2023-09-11T19:20:06.820Z"
   },
   {
    "duration": 26,
    "start_time": "2023-09-11T19:20:06.864Z"
   },
   {
    "duration": 2,
    "start_time": "2023-09-11T19:20:06.892Z"
   },
   {
    "duration": 58,
    "start_time": "2023-09-11T19:20:06.896Z"
   },
   {
    "duration": 2,
    "start_time": "2023-09-11T19:20:06.956Z"
   },
   {
    "duration": 51,
    "start_time": "2023-09-11T19:20:06.960Z"
   },
   {
    "duration": 3,
    "start_time": "2023-09-11T19:20:07.013Z"
   },
   {
    "duration": 68,
    "start_time": "2023-09-11T19:20:07.018Z"
   },
   {
    "duration": 2,
    "start_time": "2023-09-11T19:20:07.088Z"
   },
   {
    "duration": 65,
    "start_time": "2023-09-11T19:20:07.092Z"
   },
   {
    "duration": 101,
    "start_time": "2023-09-11T19:20:07.159Z"
   },
   {
    "duration": 109,
    "start_time": "2023-09-11T19:20:07.261Z"
   },
   {
    "duration": 101,
    "start_time": "2023-09-11T19:20:07.371Z"
   },
   {
    "duration": 87,
    "start_time": "2023-09-11T19:20:07.474Z"
   },
   {
    "duration": 235,
    "start_time": "2023-09-11T19:20:07.563Z"
   },
   {
    "duration": 252,
    "start_time": "2023-09-11T19:20:07.800Z"
   },
   {
    "duration": 237,
    "start_time": "2023-09-11T19:20:08.054Z"
   },
   {
    "duration": 18,
    "start_time": "2023-09-11T19:20:08.293Z"
   },
   {
    "duration": 66,
    "start_time": "2023-09-11T19:20:08.314Z"
   },
   {
    "duration": 150,
    "start_time": "2023-09-11T19:23:38.109Z"
   },
   {
    "duration": 3,
    "start_time": "2023-09-11T19:24:08.513Z"
   },
   {
    "duration": 1210,
    "start_time": "2023-09-11T19:24:08.518Z"
   },
   {
    "duration": 873,
    "start_time": "2023-09-11T19:24:09.730Z"
   },
   {
    "duration": 128,
    "start_time": "2023-09-11T19:24:10.605Z"
   },
   {
    "duration": 87,
    "start_time": "2023-09-11T19:24:10.745Z"
   },
   {
    "duration": 32,
    "start_time": "2023-09-11T19:24:10.834Z"
   },
   {
    "duration": 746,
    "start_time": "2023-09-11T19:24:10.868Z"
   },
   {
    "duration": 156,
    "start_time": "2023-09-11T19:24:11.616Z"
   },
   {
    "duration": 8,
    "start_time": "2023-09-11T19:24:11.773Z"
   },
   {
    "duration": 33,
    "start_time": "2023-09-11T19:24:11.783Z"
   },
   {
    "duration": 55,
    "start_time": "2023-09-11T19:24:11.818Z"
   },
   {
    "duration": 4,
    "start_time": "2023-09-11T19:24:11.875Z"
   },
   {
    "duration": 9,
    "start_time": "2023-09-11T19:24:11.880Z"
   },
   {
    "duration": 70,
    "start_time": "2023-09-11T19:24:11.891Z"
   },
   {
    "duration": 3,
    "start_time": "2023-09-11T19:24:11.962Z"
   },
   {
    "duration": 43,
    "start_time": "2023-09-11T19:24:11.966Z"
   },
   {
    "duration": 2,
    "start_time": "2023-09-11T19:24:12.011Z"
   },
   {
    "duration": 55,
    "start_time": "2023-09-11T19:24:12.015Z"
   },
   {
    "duration": 2,
    "start_time": "2023-09-11T19:24:12.072Z"
   },
   {
    "duration": 44,
    "start_time": "2023-09-11T19:24:12.076Z"
   },
   {
    "duration": 106,
    "start_time": "2023-09-11T19:24:12.122Z"
   },
   {
    "duration": 107,
    "start_time": "2023-09-11T19:24:12.230Z"
   },
   {
    "duration": 92,
    "start_time": "2023-09-11T19:24:12.343Z"
   },
   {
    "duration": 88,
    "start_time": "2023-09-11T19:24:12.437Z"
   },
   {
    "duration": 300,
    "start_time": "2023-09-11T19:24:12.527Z"
   },
   {
    "duration": 252,
    "start_time": "2023-09-11T19:24:12.829Z"
   },
   {
    "duration": 241,
    "start_time": "2023-09-11T19:24:13.083Z"
   },
   {
    "duration": 24,
    "start_time": "2023-09-11T19:24:13.326Z"
   },
   {
    "duration": 58,
    "start_time": "2023-09-11T19:24:13.351Z"
   },
   {
    "duration": 155,
    "start_time": "2023-09-11T19:25:54.793Z"
   },
   {
    "duration": 139,
    "start_time": "2023-09-11T19:26:02.064Z"
   },
   {
    "duration": 151,
    "start_time": "2023-09-11T19:27:25.381Z"
   },
   {
    "duration": 78,
    "start_time": "2023-09-11T19:29:09.783Z"
   },
   {
    "duration": 230,
    "start_time": "2023-09-11T19:29:16.961Z"
   },
   {
    "duration": 193,
    "start_time": "2023-09-11T19:32:03.514Z"
   },
   {
    "duration": 193,
    "start_time": "2023-09-11T19:32:14.114Z"
   },
   {
    "duration": 234,
    "start_time": "2023-09-11T19:33:10.448Z"
   },
   {
    "duration": 208,
    "start_time": "2023-09-11T19:33:24.229Z"
   },
   {
    "duration": 4,
    "start_time": "2023-09-11T19:33:41.071Z"
   },
   {
    "duration": 1282,
    "start_time": "2023-09-11T19:33:41.077Z"
   },
   {
    "duration": 949,
    "start_time": "2023-09-11T19:33:42.361Z"
   },
   {
    "duration": 134,
    "start_time": "2023-09-11T19:33:43.313Z"
   },
   {
    "duration": 99,
    "start_time": "2023-09-11T19:33:43.450Z"
   },
   {
    "duration": 31,
    "start_time": "2023-09-11T19:33:43.552Z"
   },
   {
    "duration": 786,
    "start_time": "2023-09-11T19:33:43.585Z"
   },
   {
    "duration": 263,
    "start_time": "2023-09-11T19:33:44.373Z"
   },
   {
    "duration": 11,
    "start_time": "2023-09-11T19:33:44.645Z"
   },
   {
    "duration": 62,
    "start_time": "2023-09-11T19:33:44.658Z"
   },
   {
    "duration": 60,
    "start_time": "2023-09-11T19:33:44.723Z"
   },
   {
    "duration": 20,
    "start_time": "2023-09-11T19:33:44.785Z"
   },
   {
    "duration": 6,
    "start_time": "2023-09-11T19:33:44.806Z"
   },
   {
    "duration": 75,
    "start_time": "2023-09-11T19:33:44.814Z"
   },
   {
    "duration": 2,
    "start_time": "2023-09-11T19:33:44.891Z"
   },
   {
    "duration": 51,
    "start_time": "2023-09-11T19:33:44.895Z"
   },
   {
    "duration": 2,
    "start_time": "2023-09-11T19:33:44.948Z"
   },
   {
    "duration": 81,
    "start_time": "2023-09-11T19:33:44.953Z"
   },
   {
    "duration": 48,
    "start_time": "2023-09-11T19:33:45.036Z"
   },
   {
    "duration": 79,
    "start_time": "2023-09-11T19:33:45.086Z"
   },
   {
    "duration": 145,
    "start_time": "2023-09-11T19:33:45.167Z"
   },
   {
    "duration": 133,
    "start_time": "2023-09-11T19:33:45.313Z"
   },
   {
    "duration": 123,
    "start_time": "2023-09-11T19:33:45.448Z"
   },
   {
    "duration": 88,
    "start_time": "2023-09-11T19:33:45.573Z"
   },
   {
    "duration": 306,
    "start_time": "2023-09-11T19:33:45.666Z"
   },
   {
    "duration": 260,
    "start_time": "2023-09-11T19:33:45.974Z"
   },
   {
    "duration": 257,
    "start_time": "2023-09-11T19:33:46.236Z"
   },
   {
    "duration": 20,
    "start_time": "2023-09-11T19:33:46.495Z"
   },
   {
    "duration": 75,
    "start_time": "2023-09-11T19:33:46.518Z"
   },
   {
    "duration": 56,
    "start_time": "2023-09-11T19:44:40.062Z"
   },
   {
    "duration": 3,
    "start_time": "2023-09-11T19:44:45.973Z"
   },
   {
    "duration": 1117,
    "start_time": "2023-09-11T19:44:45.978Z"
   },
   {
    "duration": 852,
    "start_time": "2023-09-11T19:44:47.097Z"
   },
   {
    "duration": 123,
    "start_time": "2023-09-11T19:44:47.951Z"
   },
   {
    "duration": 86,
    "start_time": "2023-09-11T19:44:48.076Z"
   },
   {
    "duration": 25,
    "start_time": "2023-09-11T19:44:48.163Z"
   },
   {
    "duration": 684,
    "start_time": "2023-09-11T19:44:48.190Z"
   },
   {
    "duration": 209,
    "start_time": "2023-09-11T19:44:48.875Z"
   },
   {
    "duration": 279,
    "start_time": "2023-09-11T19:44:49.086Z"
   },
   {
    "duration": 7,
    "start_time": "2023-09-11T19:44:49.368Z"
   },
   {
    "duration": 38,
    "start_time": "2023-09-11T19:44:49.377Z"
   },
   {
    "duration": 52,
    "start_time": "2023-09-11T19:44:49.417Z"
   },
   {
    "duration": 5,
    "start_time": "2023-09-11T19:44:49.471Z"
   },
   {
    "duration": 17,
    "start_time": "2023-09-11T19:44:49.477Z"
   },
   {
    "duration": 77,
    "start_time": "2023-09-11T19:44:49.495Z"
   },
   {
    "duration": 2,
    "start_time": "2023-09-11T19:44:49.574Z"
   },
   {
    "duration": 81,
    "start_time": "2023-09-11T19:44:49.578Z"
   },
   {
    "duration": 3,
    "start_time": "2023-09-11T19:44:49.661Z"
   },
   {
    "duration": 52,
    "start_time": "2023-09-11T19:44:49.665Z"
   },
   {
    "duration": 2,
    "start_time": "2023-09-11T19:44:49.719Z"
   },
   {
    "duration": 56,
    "start_time": "2023-09-11T19:44:49.723Z"
   },
   {
    "duration": 112,
    "start_time": "2023-09-11T19:44:49.781Z"
   },
   {
    "duration": 114,
    "start_time": "2023-09-11T19:44:49.895Z"
   },
   {
    "duration": 94,
    "start_time": "2023-09-11T19:44:50.011Z"
   },
   {
    "duration": 86,
    "start_time": "2023-09-11T19:44:50.107Z"
   },
   {
    "duration": 227,
    "start_time": "2023-09-11T19:44:50.194Z"
   },
   {
    "duration": 245,
    "start_time": "2023-09-11T19:44:50.423Z"
   },
   {
    "duration": 224,
    "start_time": "2023-09-11T19:44:50.671Z"
   },
   {
    "duration": 19,
    "start_time": "2023-09-11T19:44:50.898Z"
   },
   {
    "duration": 69,
    "start_time": "2023-09-11T19:44:50.919Z"
   },
   {
    "duration": 325,
    "start_time": "2023-09-11T19:45:31.019Z"
   },
   {
    "duration": 225,
    "start_time": "2023-09-11T19:45:46.302Z"
   },
   {
    "duration": 3,
    "start_time": "2023-09-11T19:45:54.803Z"
   },
   {
    "duration": 1205,
    "start_time": "2023-09-11T19:45:54.808Z"
   },
   {
    "duration": 848,
    "start_time": "2023-09-11T19:45:56.015Z"
   },
   {
    "duration": 129,
    "start_time": "2023-09-11T19:45:56.864Z"
   },
   {
    "duration": 96,
    "start_time": "2023-09-11T19:45:56.995Z"
   },
   {
    "duration": 27,
    "start_time": "2023-09-11T19:45:57.093Z"
   },
   {
    "duration": 707,
    "start_time": "2023-09-11T19:45:57.121Z"
   },
   {
    "duration": 216,
    "start_time": "2023-09-11T19:45:57.830Z"
   },
   {
    "duration": 305,
    "start_time": "2023-09-11T19:45:58.048Z"
   },
   {
    "duration": 7,
    "start_time": "2023-09-11T19:45:58.355Z"
   },
   {
    "duration": 31,
    "start_time": "2023-09-11T19:45:58.364Z"
   },
   {
    "duration": 59,
    "start_time": "2023-09-11T19:45:58.397Z"
   },
   {
    "duration": 5,
    "start_time": "2023-09-11T19:45:58.458Z"
   },
   {
    "duration": 2,
    "start_time": "2023-09-11T19:45:58.466Z"
   },
   {
    "duration": 74,
    "start_time": "2023-09-11T19:45:58.470Z"
   },
   {
    "duration": 3,
    "start_time": "2023-09-11T19:45:58.546Z"
   },
   {
    "duration": 45,
    "start_time": "2023-09-11T19:45:58.551Z"
   },
   {
    "duration": 3,
    "start_time": "2023-09-11T19:45:58.598Z"
   },
   {
    "duration": 49,
    "start_time": "2023-09-11T19:45:58.603Z"
   },
   {
    "duration": 3,
    "start_time": "2023-09-11T19:45:58.654Z"
   },
   {
    "duration": 48,
    "start_time": "2023-09-11T19:45:58.659Z"
   },
   {
    "duration": 105,
    "start_time": "2023-09-11T19:45:58.709Z"
   },
   {
    "duration": 110,
    "start_time": "2023-09-11T19:45:58.816Z"
   },
   {
    "duration": 94,
    "start_time": "2023-09-11T19:45:58.928Z"
   },
   {
    "duration": 103,
    "start_time": "2023-09-11T19:45:59.024Z"
   },
   {
    "duration": 234,
    "start_time": "2023-09-11T19:45:59.129Z"
   },
   {
    "duration": 244,
    "start_time": "2023-09-11T19:45:59.365Z"
   },
   {
    "duration": 225,
    "start_time": "2023-09-11T19:45:59.610Z"
   },
   {
    "duration": 20,
    "start_time": "2023-09-11T19:45:59.837Z"
   },
   {
    "duration": 56,
    "start_time": "2023-09-11T19:45:59.859Z"
   },
   {
    "duration": 2,
    "start_time": "2023-09-11T19:46:21.619Z"
   },
   {
    "duration": 1179,
    "start_time": "2023-09-11T19:46:21.623Z"
   },
   {
    "duration": 862,
    "start_time": "2023-09-11T19:46:22.804Z"
   },
   {
    "duration": 157,
    "start_time": "2023-09-11T19:46:23.668Z"
   },
   {
    "duration": 86,
    "start_time": "2023-09-11T19:46:23.828Z"
   },
   {
    "duration": 31,
    "start_time": "2023-09-11T19:46:23.916Z"
   },
   {
    "duration": 766,
    "start_time": "2023-09-11T19:46:23.948Z"
   },
   {
    "duration": 216,
    "start_time": "2023-09-11T19:46:24.716Z"
   },
   {
    "duration": 344,
    "start_time": "2023-09-11T19:46:24.933Z"
   },
   {
    "duration": 9,
    "start_time": "2023-09-11T19:46:25.279Z"
   },
   {
    "duration": 38,
    "start_time": "2023-09-11T19:46:25.290Z"
   },
   {
    "duration": 42,
    "start_time": "2023-09-11T19:46:25.345Z"
   },
   {
    "duration": 5,
    "start_time": "2023-09-11T19:46:25.390Z"
   },
   {
    "duration": 8,
    "start_time": "2023-09-11T19:46:25.397Z"
   },
   {
    "duration": 70,
    "start_time": "2023-09-11T19:46:25.407Z"
   },
   {
    "duration": 2,
    "start_time": "2023-09-11T19:46:25.479Z"
   },
   {
    "duration": 49,
    "start_time": "2023-09-11T19:46:25.483Z"
   },
   {
    "duration": 3,
    "start_time": "2023-09-11T19:46:25.534Z"
   },
   {
    "duration": 45,
    "start_time": "2023-09-11T19:46:25.544Z"
   },
   {
    "duration": 2,
    "start_time": "2023-09-11T19:46:25.591Z"
   },
   {
    "duration": 51,
    "start_time": "2023-09-11T19:46:25.595Z"
   },
   {
    "duration": 101,
    "start_time": "2023-09-11T19:46:25.648Z"
   },
   {
    "duration": 103,
    "start_time": "2023-09-11T19:46:25.751Z"
   },
   {
    "duration": 106,
    "start_time": "2023-09-11T19:46:25.856Z"
   },
   {
    "duration": 86,
    "start_time": "2023-09-11T19:46:25.964Z"
   },
   {
    "duration": 226,
    "start_time": "2023-09-11T19:46:26.052Z"
   },
   {
    "duration": 273,
    "start_time": "2023-09-11T19:46:26.280Z"
   },
   {
    "duration": 226,
    "start_time": "2023-09-11T19:46:26.556Z"
   },
   {
    "duration": 19,
    "start_time": "2023-09-11T19:46:26.784Z"
   },
   {
    "duration": 66,
    "start_time": "2023-09-11T19:46:26.805Z"
   },
   {
    "duration": 4,
    "start_time": "2023-09-11T20:04:57.279Z"
   },
   {
    "duration": 1851,
    "start_time": "2023-09-11T20:04:57.285Z"
   },
   {
    "duration": 849,
    "start_time": "2023-09-11T20:04:59.138Z"
   },
   {
    "duration": 129,
    "start_time": "2023-09-11T20:04:59.989Z"
   },
   {
    "duration": 107,
    "start_time": "2023-09-11T20:05:00.120Z"
   },
   {
    "duration": 29,
    "start_time": "2023-09-11T20:05:00.229Z"
   },
   {
    "duration": 755,
    "start_time": "2023-09-11T20:05:00.260Z"
   },
   {
    "duration": 229,
    "start_time": "2023-09-11T20:05:01.017Z"
   },
   {
    "duration": 8,
    "start_time": "2023-09-11T20:05:01.247Z"
   },
   {
    "duration": 53,
    "start_time": "2023-09-11T20:05:01.256Z"
   },
   {
    "duration": 47,
    "start_time": "2023-09-11T20:05:01.311Z"
   },
   {
    "duration": 24,
    "start_time": "2023-09-11T20:05:01.359Z"
   },
   {
    "duration": 38,
    "start_time": "2023-09-11T20:05:01.385Z"
   },
   {
    "duration": 89,
    "start_time": "2023-09-11T20:05:01.426Z"
   },
   {
    "duration": 3,
    "start_time": "2023-09-11T20:05:01.516Z"
   },
   {
    "duration": 79,
    "start_time": "2023-09-11T20:05:01.521Z"
   },
   {
    "duration": 2,
    "start_time": "2023-09-11T20:05:01.602Z"
   },
   {
    "duration": 66,
    "start_time": "2023-09-11T20:05:01.606Z"
   },
   {
    "duration": 2,
    "start_time": "2023-09-11T20:05:01.674Z"
   },
   {
    "duration": 81,
    "start_time": "2023-09-11T20:05:01.678Z"
   },
   {
    "duration": 111,
    "start_time": "2023-09-11T20:05:01.762Z"
   },
   {
    "duration": 101,
    "start_time": "2023-09-11T20:05:01.875Z"
   },
   {
    "duration": 111,
    "start_time": "2023-09-11T20:05:01.978Z"
   },
   {
    "duration": 88,
    "start_time": "2023-09-11T20:05:02.091Z"
   },
   {
    "duration": 246,
    "start_time": "2023-09-11T20:05:02.181Z"
   },
   {
    "duration": 265,
    "start_time": "2023-09-11T20:05:02.429Z"
   },
   {
    "duration": 237,
    "start_time": "2023-09-11T20:05:02.696Z"
   },
   {
    "duration": 24,
    "start_time": "2023-09-11T20:05:02.936Z"
   },
   {
    "duration": 71,
    "start_time": "2023-09-11T20:05:02.962Z"
   },
   {
    "duration": 51,
    "start_time": "2023-09-11T20:10:27.284Z"
   },
   {
    "duration": 70,
    "start_time": "2023-09-11T20:10:33.784Z"
   },
   {
    "duration": 12504,
    "start_time": "2023-09-11T20:11:46.307Z"
   },
   {
    "duration": 1684,
    "start_time": "2023-09-11T20:11:58.814Z"
   },
   {
    "duration": 888,
    "start_time": "2023-09-11T20:12:00.499Z"
   },
   {
    "duration": 128,
    "start_time": "2023-09-11T20:12:01.389Z"
   },
   {
    "duration": 128,
    "start_time": "2023-09-11T20:12:01.519Z"
   },
   {
    "duration": 25,
    "start_time": "2023-09-11T20:12:01.649Z"
   },
   {
    "duration": 752,
    "start_time": "2023-09-11T20:12:01.675Z"
   },
   {
    "duration": 240,
    "start_time": "2023-09-11T20:12:02.428Z"
   },
   {
    "duration": 8,
    "start_time": "2023-09-11T20:12:02.670Z"
   },
   {
    "duration": 74,
    "start_time": "2023-09-11T20:12:02.681Z"
   },
   {
    "duration": 42,
    "start_time": "2023-09-11T20:12:02.757Z"
   },
   {
    "duration": 11,
    "start_time": "2023-09-11T20:12:02.801Z"
   },
   {
    "duration": 42,
    "start_time": "2023-09-11T20:12:02.814Z"
   },
   {
    "duration": 90,
    "start_time": "2023-09-11T20:12:02.858Z"
   },
   {
    "duration": 3,
    "start_time": "2023-09-11T20:12:02.949Z"
   },
   {
    "duration": 81,
    "start_time": "2023-09-11T20:12:02.954Z"
   },
   {
    "duration": 3,
    "start_time": "2023-09-11T20:12:03.037Z"
   },
   {
    "duration": 50,
    "start_time": "2023-09-11T20:12:03.042Z"
   },
   {
    "duration": 3,
    "start_time": "2023-09-11T20:12:03.094Z"
   },
   {
    "duration": 44,
    "start_time": "2023-09-11T20:12:03.098Z"
   },
   {
    "duration": 108,
    "start_time": "2023-09-11T20:12:03.144Z"
   },
   {
    "duration": 119,
    "start_time": "2023-09-11T20:12:03.254Z"
   },
   {
    "duration": 119,
    "start_time": "2023-09-11T20:12:03.375Z"
   },
   {
    "duration": 87,
    "start_time": "2023-09-11T20:12:03.496Z"
   },
   {
    "duration": 289,
    "start_time": "2023-09-11T20:12:03.584Z"
   },
   {
    "duration": 258,
    "start_time": "2023-09-11T20:12:03.875Z"
   },
   {
    "duration": 241,
    "start_time": "2023-09-11T20:12:04.135Z"
   },
   {
    "duration": 21,
    "start_time": "2023-09-11T20:12:04.379Z"
   },
   {
    "duration": 80,
    "start_time": "2023-09-11T20:12:04.402Z"
   },
   {
    "duration": 89,
    "start_time": "2023-09-11T20:12:04.485Z"
   },
   {
    "duration": 10,
    "start_time": "2023-09-11T20:12:54.337Z"
   },
   {
    "duration": 3,
    "start_time": "2023-09-11T20:13:39.906Z"
   },
   {
    "duration": 1663,
    "start_time": "2023-09-11T20:13:39.911Z"
   },
   {
    "duration": 864,
    "start_time": "2023-09-11T20:13:41.576Z"
   },
   {
    "duration": 124,
    "start_time": "2023-09-11T20:13:42.441Z"
   },
   {
    "duration": 90,
    "start_time": "2023-09-11T20:13:42.568Z"
   },
   {
    "duration": 25,
    "start_time": "2023-09-11T20:13:42.659Z"
   },
   {
    "duration": 710,
    "start_time": "2023-09-11T20:13:42.686Z"
   },
   {
    "duration": 226,
    "start_time": "2023-09-11T20:13:43.398Z"
   },
   {
    "duration": 8,
    "start_time": "2023-09-11T20:13:43.626Z"
   },
   {
    "duration": 42,
    "start_time": "2023-09-11T20:13:43.644Z"
   },
   {
    "duration": 57,
    "start_time": "2023-09-11T20:13:43.688Z"
   },
   {
    "duration": 5,
    "start_time": "2023-09-11T20:13:43.747Z"
   },
   {
    "duration": 2,
    "start_time": "2023-09-11T20:13:43.754Z"
   },
   {
    "duration": 93,
    "start_time": "2023-09-11T20:13:43.759Z"
   },
   {
    "duration": 2,
    "start_time": "2023-09-11T20:13:43.854Z"
   },
   {
    "duration": 47,
    "start_time": "2023-09-11T20:13:43.858Z"
   },
   {
    "duration": 2,
    "start_time": "2023-09-11T20:13:43.908Z"
   },
   {
    "duration": 50,
    "start_time": "2023-09-11T20:13:43.911Z"
   },
   {
    "duration": 2,
    "start_time": "2023-09-11T20:13:43.963Z"
   },
   {
    "duration": 41,
    "start_time": "2023-09-11T20:13:43.967Z"
   },
   {
    "duration": 112,
    "start_time": "2023-09-11T20:13:44.010Z"
   },
   {
    "duration": 108,
    "start_time": "2023-09-11T20:13:44.123Z"
   },
   {
    "duration": 102,
    "start_time": "2023-09-11T20:13:44.233Z"
   },
   {
    "duration": 86,
    "start_time": "2023-09-11T20:13:44.337Z"
   },
   {
    "duration": 281,
    "start_time": "2023-09-11T20:13:44.424Z"
   },
   {
    "duration": 260,
    "start_time": "2023-09-11T20:13:44.707Z"
   },
   {
    "duration": 242,
    "start_time": "2023-09-11T20:13:44.969Z"
   },
   {
    "duration": 19,
    "start_time": "2023-09-11T20:13:45.213Z"
   },
   {
    "duration": 55,
    "start_time": "2023-09-11T20:13:45.243Z"
   },
   {
    "duration": 65,
    "start_time": "2023-09-11T20:13:45.300Z"
   },
   {
    "duration": 9,
    "start_time": "2023-09-11T20:13:45.367Z"
   },
   {
    "duration": 2828,
    "start_time": "2023-09-11T20:17:24.750Z"
   },
   {
    "duration": 201,
    "start_time": "2023-09-11T20:18:49.948Z"
   },
   {
    "duration": 90,
    "start_time": "2023-09-11T20:19:10.468Z"
   },
   {
    "duration": 92,
    "start_time": "2023-09-11T20:19:17.046Z"
   },
   {
    "duration": 545,
    "start_time": "2023-09-11T20:19:33.798Z"
   },
   {
    "duration": 3,
    "start_time": "2023-09-11T20:22:23.913Z"
   },
   {
    "duration": 1917,
    "start_time": "2023-09-11T20:22:23.918Z"
   },
   {
    "duration": 902,
    "start_time": "2023-09-11T20:22:25.837Z"
   },
   {
    "duration": 130,
    "start_time": "2023-09-11T20:22:26.743Z"
   },
   {
    "duration": 103,
    "start_time": "2023-09-11T20:22:26.875Z"
   },
   {
    "duration": 26,
    "start_time": "2023-09-11T20:22:26.980Z"
   },
   {
    "duration": 715,
    "start_time": "2023-09-11T20:22:27.007Z"
   },
   {
    "duration": 234,
    "start_time": "2023-09-11T20:22:27.723Z"
   },
   {
    "duration": 8,
    "start_time": "2023-09-11T20:22:27.958Z"
   },
   {
    "duration": 63,
    "start_time": "2023-09-11T20:22:27.968Z"
   },
   {
    "duration": 43,
    "start_time": "2023-09-11T20:22:28.032Z"
   },
   {
    "duration": 11,
    "start_time": "2023-09-11T20:22:28.077Z"
   },
   {
    "duration": 25,
    "start_time": "2023-09-11T20:22:28.089Z"
   },
   {
    "duration": 90,
    "start_time": "2023-09-11T20:22:28.117Z"
   },
   {
    "duration": 2,
    "start_time": "2023-09-11T20:22:28.209Z"
   },
   {
    "duration": 75,
    "start_time": "2023-09-11T20:22:28.213Z"
   },
   {
    "duration": 2,
    "start_time": "2023-09-11T20:22:28.291Z"
   },
   {
    "duration": 68,
    "start_time": "2023-09-11T20:22:28.294Z"
   },
   {
    "duration": 3,
    "start_time": "2023-09-11T20:22:28.363Z"
   },
   {
    "duration": 57,
    "start_time": "2023-09-11T20:22:28.367Z"
   },
   {
    "duration": 98,
    "start_time": "2023-09-11T20:22:28.426Z"
   },
   {
    "duration": 132,
    "start_time": "2023-09-11T20:22:28.525Z"
   },
   {
    "duration": 187,
    "start_time": "2023-09-11T20:22:28.659Z"
   },
   {
    "duration": 95,
    "start_time": "2023-09-11T20:22:28.848Z"
   },
   {
    "duration": 252,
    "start_time": "2023-09-11T20:22:28.945Z"
   },
   {
    "duration": 266,
    "start_time": "2023-09-11T20:22:29.199Z"
   },
   {
    "duration": 235,
    "start_time": "2023-09-11T20:22:29.467Z"
   },
   {
    "duration": 20,
    "start_time": "2023-09-11T20:22:29.703Z"
   },
   {
    "duration": 65,
    "start_time": "2023-09-11T20:22:29.724Z"
   },
   {
    "duration": 67,
    "start_time": "2023-09-11T20:22:29.791Z"
   },
   {
    "duration": 9,
    "start_time": "2023-09-11T20:22:29.860Z"
   },
   {
    "duration": 3279,
    "start_time": "2023-09-11T20:22:29.870Z"
   },
   {
    "duration": 482,
    "start_time": "2023-09-11T20:22:33.151Z"
   },
   {
    "duration": 3,
    "start_time": "2023-09-11T20:24:01.082Z"
   },
   {
    "duration": 1746,
    "start_time": "2023-09-11T20:24:01.087Z"
   },
   {
    "duration": 893,
    "start_time": "2023-09-11T20:24:02.835Z"
   },
   {
    "duration": 153,
    "start_time": "2023-09-11T20:24:03.730Z"
   },
   {
    "duration": 90,
    "start_time": "2023-09-11T20:24:03.885Z"
   },
   {
    "duration": 26,
    "start_time": "2023-09-11T20:24:03.977Z"
   },
   {
    "duration": 746,
    "start_time": "2023-09-11T20:24:04.005Z"
   },
   {
    "duration": 230,
    "start_time": "2023-09-11T20:24:04.753Z"
   },
   {
    "duration": 8,
    "start_time": "2023-09-11T20:24:04.985Z"
   },
   {
    "duration": 49,
    "start_time": "2023-09-11T20:24:04.995Z"
   },
   {
    "duration": 42,
    "start_time": "2023-09-11T20:24:05.046Z"
   },
   {
    "duration": 4,
    "start_time": "2023-09-11T20:24:05.090Z"
   },
   {
    "duration": 8,
    "start_time": "2023-09-11T20:24:05.096Z"
   },
   {
    "duration": 73,
    "start_time": "2023-09-11T20:24:05.106Z"
   },
   {
    "duration": 3,
    "start_time": "2023-09-11T20:24:05.181Z"
   },
   {
    "duration": 58,
    "start_time": "2023-09-11T20:24:05.185Z"
   },
   {
    "duration": 2,
    "start_time": "2023-09-11T20:24:05.245Z"
   },
   {
    "duration": 57,
    "start_time": "2023-09-11T20:24:05.249Z"
   },
   {
    "duration": 2,
    "start_time": "2023-09-11T20:24:05.308Z"
   },
   {
    "duration": 41,
    "start_time": "2023-09-11T20:24:05.312Z"
   },
   {
    "duration": 106,
    "start_time": "2023-09-11T20:24:05.355Z"
   },
   {
    "duration": 119,
    "start_time": "2023-09-11T20:24:05.463Z"
   },
   {
    "duration": 180,
    "start_time": "2023-09-11T20:24:05.583Z"
   },
   {
    "duration": 80,
    "start_time": "2023-09-11T20:24:05.765Z"
   },
   {
    "duration": 232,
    "start_time": "2023-09-11T20:24:05.846Z"
   },
   {
    "duration": 250,
    "start_time": "2023-09-11T20:24:06.079Z"
   },
   {
    "duration": 235,
    "start_time": "2023-09-11T20:24:06.331Z"
   },
   {
    "duration": 18,
    "start_time": "2023-09-11T20:24:06.568Z"
   },
   {
    "duration": 68,
    "start_time": "2023-09-11T20:24:06.588Z"
   },
   {
    "duration": 58,
    "start_time": "2023-09-11T20:24:06.658Z"
   },
   {
    "duration": 8,
    "start_time": "2023-09-11T20:24:06.718Z"
   },
   {
    "duration": 3149,
    "start_time": "2023-09-11T20:24:06.744Z"
   },
   {
    "duration": 456,
    "start_time": "2023-09-11T20:24:09.895Z"
   },
   {
    "duration": 16,
    "start_time": "2023-09-11T20:38:54.408Z"
   },
   {
    "duration": 4886,
    "start_time": "2023-09-11T20:38:54.427Z"
   },
   {
    "duration": 1272,
    "start_time": "2023-09-11T20:38:59.316Z"
   },
   {
    "duration": 230,
    "start_time": "2023-09-11T20:39:00.590Z"
   },
   {
    "duration": 82,
    "start_time": "2023-09-11T20:39:00.822Z"
   },
   {
    "duration": 33,
    "start_time": "2023-09-11T20:39:00.909Z"
   },
   {
    "duration": 731,
    "start_time": "2023-09-11T20:39:00.943Z"
   },
   {
    "duration": 259,
    "start_time": "2023-09-11T20:39:01.676Z"
   },
   {
    "duration": 9,
    "start_time": "2023-09-11T20:39:01.938Z"
   },
   {
    "duration": 64,
    "start_time": "2023-09-11T20:39:01.949Z"
   },
   {
    "duration": 70,
    "start_time": "2023-09-11T20:39:02.015Z"
   },
   {
    "duration": 6,
    "start_time": "2023-09-11T20:39:02.087Z"
   },
   {
    "duration": 27,
    "start_time": "2023-09-11T20:39:02.096Z"
   },
   {
    "duration": 121,
    "start_time": "2023-09-11T20:39:02.125Z"
   },
   {
    "duration": 2,
    "start_time": "2023-09-11T20:39:02.249Z"
   },
   {
    "duration": 73,
    "start_time": "2023-09-11T20:39:02.253Z"
   },
   {
    "duration": 3,
    "start_time": "2023-09-11T20:39:02.328Z"
   },
   {
    "duration": 70,
    "start_time": "2023-09-11T20:39:02.333Z"
   },
   {
    "duration": 3,
    "start_time": "2023-09-11T20:39:02.405Z"
   },
   {
    "duration": 53,
    "start_time": "2023-09-11T20:39:02.410Z"
   },
   {
    "duration": 100,
    "start_time": "2023-09-11T20:39:02.465Z"
   },
   {
    "duration": 192,
    "start_time": "2023-09-11T20:39:02.567Z"
   },
   {
    "duration": 99,
    "start_time": "2023-09-11T20:39:02.761Z"
   },
   {
    "duration": 93,
    "start_time": "2023-09-11T20:39:02.862Z"
   },
   {
    "duration": 226,
    "start_time": "2023-09-11T20:39:02.957Z"
   },
   {
    "duration": 264,
    "start_time": "2023-09-11T20:39:03.184Z"
   },
   {
    "duration": 224,
    "start_time": "2023-09-11T20:39:03.449Z"
   },
   {
    "duration": 19,
    "start_time": "2023-09-11T20:39:03.675Z"
   },
   {
    "duration": 82,
    "start_time": "2023-09-11T20:39:03.695Z"
   },
   {
    "duration": 84,
    "start_time": "2023-09-11T20:39:03.780Z"
   },
   {
    "duration": 11,
    "start_time": "2023-09-11T20:39:03.866Z"
   },
   {
    "duration": 3433,
    "start_time": "2023-09-11T20:39:03.879Z"
   },
   {
    "duration": 507,
    "start_time": "2023-09-11T20:39:07.314Z"
   },
   {
    "duration": 4,
    "start_time": "2023-09-11T20:44:12.101Z"
   },
   {
    "duration": 4695,
    "start_time": "2023-09-11T20:44:12.107Z"
   },
   {
    "duration": 1223,
    "start_time": "2023-09-11T20:44:16.803Z"
   },
   {
    "duration": 175,
    "start_time": "2023-09-11T20:44:18.028Z"
   },
   {
    "duration": 78,
    "start_time": "2023-09-11T20:44:18.205Z"
   },
   {
    "duration": 28,
    "start_time": "2023-09-11T20:44:18.285Z"
   },
   {
    "duration": 696,
    "start_time": "2023-09-11T20:44:18.315Z"
   },
   {
    "duration": 248,
    "start_time": "2023-09-11T20:44:19.012Z"
   },
   {
    "duration": 8,
    "start_time": "2023-09-11T20:44:19.262Z"
   },
   {
    "duration": 32,
    "start_time": "2023-09-11T20:44:19.272Z"
   },
   {
    "duration": 58,
    "start_time": "2023-09-11T20:44:19.306Z"
   },
   {
    "duration": 5,
    "start_time": "2023-09-11T20:44:19.366Z"
   },
   {
    "duration": 23,
    "start_time": "2023-09-11T20:44:19.373Z"
   },
   {
    "duration": 84,
    "start_time": "2023-09-11T20:44:19.397Z"
   },
   {
    "duration": 2,
    "start_time": "2023-09-11T20:44:19.483Z"
   },
   {
    "duration": 53,
    "start_time": "2023-09-11T20:44:19.487Z"
   },
   {
    "duration": 3,
    "start_time": "2023-09-11T20:44:19.542Z"
   },
   {
    "duration": 62,
    "start_time": "2023-09-11T20:44:19.546Z"
   },
   {
    "duration": 2,
    "start_time": "2023-09-11T20:44:19.610Z"
   },
   {
    "duration": 59,
    "start_time": "2023-09-11T20:44:19.614Z"
   },
   {
    "duration": 101,
    "start_time": "2023-09-11T20:44:19.675Z"
   },
   {
    "duration": 190,
    "start_time": "2023-09-11T20:44:19.778Z"
   },
   {
    "duration": 96,
    "start_time": "2023-09-11T20:44:19.970Z"
   },
   {
    "duration": 89,
    "start_time": "2023-09-11T20:44:20.068Z"
   },
   {
    "duration": 223,
    "start_time": "2023-09-11T20:44:20.158Z"
   },
   {
    "duration": 253,
    "start_time": "2023-09-11T20:44:20.384Z"
   },
   {
    "duration": 227,
    "start_time": "2023-09-11T20:44:20.639Z"
   },
   {
    "duration": 18,
    "start_time": "2023-09-11T20:44:20.869Z"
   },
   {
    "duration": 62,
    "start_time": "2023-09-11T20:44:20.889Z"
   },
   {
    "duration": 58,
    "start_time": "2023-09-11T20:44:20.954Z"
   },
   {
    "duration": 9,
    "start_time": "2023-09-11T20:44:21.014Z"
   },
   {
    "duration": 3224,
    "start_time": "2023-09-11T20:44:21.024Z"
   },
   {
    "duration": 497,
    "start_time": "2023-09-11T20:44:24.250Z"
   },
   {
    "duration": 125,
    "start_time": "2023-09-11T20:44:24.749Z"
   },
   {
    "duration": 4,
    "start_time": "2023-09-11T20:51:54.535Z"
   },
   {
    "duration": 4735,
    "start_time": "2023-09-11T20:51:54.541Z"
   },
   {
    "duration": 1231,
    "start_time": "2023-09-11T20:51:59.278Z"
   },
   {
    "duration": 219,
    "start_time": "2023-09-11T20:52:00.511Z"
   },
   {
    "duration": 80,
    "start_time": "2023-09-11T20:52:00.733Z"
   },
   {
    "duration": 40,
    "start_time": "2023-09-11T20:52:00.815Z"
   },
   {
    "duration": 756,
    "start_time": "2023-09-11T20:52:00.858Z"
   },
   {
    "duration": 281,
    "start_time": "2023-09-11T20:52:01.616Z"
   },
   {
    "duration": 8,
    "start_time": "2023-09-11T20:52:01.899Z"
   },
   {
    "duration": 128,
    "start_time": "2023-09-11T20:52:01.909Z"
   },
   {
    "duration": 134,
    "start_time": "2023-09-11T20:52:02.039Z"
   },
   {
    "duration": 90,
    "start_time": "2023-09-11T20:52:02.176Z"
   },
   {
    "duration": 167,
    "start_time": "2023-09-11T20:52:02.271Z"
   },
   {
    "duration": 136,
    "start_time": "2023-09-11T20:52:02.440Z"
   },
   {
    "duration": 27,
    "start_time": "2023-09-11T20:52:02.578Z"
   },
   {
    "duration": 90,
    "start_time": "2023-09-11T20:52:02.607Z"
   },
   {
    "duration": 9,
    "start_time": "2023-09-11T20:52:02.699Z"
   },
   {
    "duration": 98,
    "start_time": "2023-09-11T20:52:02.709Z"
   },
   {
    "duration": 6,
    "start_time": "2023-09-11T20:52:02.809Z"
   },
   {
    "duration": 89,
    "start_time": "2023-09-11T20:52:02.817Z"
   },
   {
    "duration": 116,
    "start_time": "2023-09-11T20:52:02.908Z"
   },
   {
    "duration": 198,
    "start_time": "2023-09-11T20:52:03.026Z"
   },
   {
    "duration": 111,
    "start_time": "2023-09-11T20:52:03.225Z"
   },
   {
    "duration": 83,
    "start_time": "2023-09-11T20:52:03.338Z"
   },
   {
    "duration": 243,
    "start_time": "2023-09-11T20:52:03.423Z"
   },
   {
    "duration": 286,
    "start_time": "2023-09-11T20:52:03.668Z"
   },
   {
    "duration": 241,
    "start_time": "2023-09-11T20:52:03.956Z"
   },
   {
    "duration": 18,
    "start_time": "2023-09-11T20:52:04.198Z"
   },
   {
    "duration": 65,
    "start_time": "2023-09-11T20:52:04.218Z"
   },
   {
    "duration": 80,
    "start_time": "2023-09-11T20:52:04.284Z"
   },
   {
    "duration": 7,
    "start_time": "2023-09-11T20:52:04.366Z"
   },
   {
    "duration": 2199,
    "start_time": "2023-09-11T20:52:04.375Z"
   },
   {
    "duration": 505,
    "start_time": "2023-09-11T20:52:06.576Z"
   },
   {
    "duration": 520,
    "start_time": "2023-09-11T20:52:07.083Z"
   },
   {
    "duration": 215163,
    "start_time": "2023-09-11T20:52:07.605Z"
   },
   {
    "duration": 2,
    "start_time": "2023-09-11T20:57:04.439Z"
   },
   {
    "duration": 1688,
    "start_time": "2023-09-11T20:57:04.444Z"
   },
   {
    "duration": 884,
    "start_time": "2023-09-11T20:57:06.134Z"
   },
   {
    "duration": 129,
    "start_time": "2023-09-11T20:57:07.021Z"
   },
   {
    "duration": 87,
    "start_time": "2023-09-11T20:57:07.152Z"
   },
   {
    "duration": 27,
    "start_time": "2023-09-11T20:57:07.241Z"
   },
   {
    "duration": 705,
    "start_time": "2023-09-11T20:57:07.269Z"
   },
   {
    "duration": 227,
    "start_time": "2023-09-11T20:57:07.976Z"
   },
   {
    "duration": 9,
    "start_time": "2023-09-11T20:57:08.205Z"
   },
   {
    "duration": 57,
    "start_time": "2023-09-11T20:57:08.215Z"
   },
   {
    "duration": 45,
    "start_time": "2023-09-11T20:57:08.274Z"
   },
   {
    "duration": 15,
    "start_time": "2023-09-11T20:57:08.321Z"
   },
   {
    "duration": 2,
    "start_time": "2023-09-11T20:57:08.343Z"
   },
   {
    "duration": 63,
    "start_time": "2023-09-11T20:57:08.348Z"
   },
   {
    "duration": 2,
    "start_time": "2023-09-11T20:57:08.413Z"
   },
   {
    "duration": 64,
    "start_time": "2023-09-11T20:57:08.417Z"
   },
   {
    "duration": 2,
    "start_time": "2023-09-11T20:57:08.483Z"
   },
   {
    "duration": 48,
    "start_time": "2023-09-11T20:57:08.487Z"
   },
   {
    "duration": 6,
    "start_time": "2023-09-11T20:57:08.537Z"
   },
   {
    "duration": 41,
    "start_time": "2023-09-11T20:57:08.545Z"
   },
   {
    "duration": 101,
    "start_time": "2023-09-11T20:57:08.589Z"
   },
   {
    "duration": 192,
    "start_time": "2023-09-11T20:57:08.691Z"
   },
   {
    "duration": 97,
    "start_time": "2023-09-11T20:57:08.885Z"
   },
   {
    "duration": 89,
    "start_time": "2023-09-11T20:57:08.984Z"
   },
   {
    "duration": 241,
    "start_time": "2023-09-11T20:57:09.074Z"
   },
   {
    "duration": 262,
    "start_time": "2023-09-11T20:57:09.317Z"
   },
   {
    "duration": 242,
    "start_time": "2023-09-11T20:57:09.580Z"
   },
   {
    "duration": 27,
    "start_time": "2023-09-11T20:57:09.824Z"
   },
   {
    "duration": 57,
    "start_time": "2023-09-11T20:57:09.853Z"
   },
   {
    "duration": 89,
    "start_time": "2023-09-11T20:57:09.912Z"
   },
   {
    "duration": 7,
    "start_time": "2023-09-11T20:57:10.003Z"
   },
   {
    "duration": 2150,
    "start_time": "2023-09-11T20:57:10.012Z"
   },
   {
    "duration": 507,
    "start_time": "2023-09-11T20:57:12.163Z"
   },
   {
    "duration": 530,
    "start_time": "2023-09-11T20:57:12.672Z"
   },
   {
    "duration": 552687,
    "start_time": "2023-09-11T20:57:13.204Z"
   },
   {
    "duration": 3,
    "start_time": "2023-09-11T21:12:31.984Z"
   },
   {
    "duration": 1767,
    "start_time": "2023-09-11T21:12:31.989Z"
   },
   {
    "duration": 933,
    "start_time": "2023-09-11T21:12:33.758Z"
   },
   {
    "duration": 131,
    "start_time": "2023-09-11T21:12:34.693Z"
   },
   {
    "duration": 90,
    "start_time": "2023-09-11T21:12:34.826Z"
   },
   {
    "duration": 31,
    "start_time": "2023-09-11T21:12:34.918Z"
   },
   {
    "duration": 712,
    "start_time": "2023-09-11T21:12:34.951Z"
   },
   {
    "duration": 221,
    "start_time": "2023-09-11T21:12:35.665Z"
   },
   {
    "duration": 8,
    "start_time": "2023-09-11T21:12:35.887Z"
   },
   {
    "duration": 47,
    "start_time": "2023-09-11T21:12:35.897Z"
   },
   {
    "duration": 41,
    "start_time": "2023-09-11T21:12:35.946Z"
   },
   {
    "duration": 6,
    "start_time": "2023-09-11T21:12:35.989Z"
   },
   {
    "duration": 4,
    "start_time": "2023-09-11T21:12:35.996Z"
   },
   {
    "duration": 75,
    "start_time": "2023-09-11T21:12:36.002Z"
   },
   {
    "duration": 2,
    "start_time": "2023-09-11T21:12:36.080Z"
   },
   {
    "duration": 45,
    "start_time": "2023-09-11T21:12:36.084Z"
   },
   {
    "duration": 12,
    "start_time": "2023-09-11T21:12:36.131Z"
   },
   {
    "duration": 43,
    "start_time": "2023-09-11T21:12:36.145Z"
   },
   {
    "duration": 2,
    "start_time": "2023-09-11T21:12:36.190Z"
   },
   {
    "duration": 50,
    "start_time": "2023-09-11T21:12:36.194Z"
   },
   {
    "duration": 111,
    "start_time": "2023-09-11T21:12:36.246Z"
   },
   {
    "duration": 186,
    "start_time": "2023-09-11T21:12:36.359Z"
   },
   {
    "duration": 99,
    "start_time": "2023-09-11T21:12:36.547Z"
   },
   {
    "duration": 80,
    "start_time": "2023-09-11T21:12:36.647Z"
   },
   {
    "duration": 235,
    "start_time": "2023-09-11T21:12:36.729Z"
   },
   {
    "duration": 270,
    "start_time": "2023-09-11T21:12:36.966Z"
   },
   {
    "duration": 228,
    "start_time": "2023-09-11T21:12:37.238Z"
   },
   {
    "duration": 19,
    "start_time": "2023-09-11T21:12:37.468Z"
   },
   {
    "duration": 69,
    "start_time": "2023-09-11T21:12:37.488Z"
   },
   {
    "duration": 91,
    "start_time": "2023-09-11T21:12:37.559Z"
   },
   {
    "duration": 43,
    "start_time": "2023-09-11T21:12:37.652Z"
   },
   {
    "duration": 2242,
    "start_time": "2023-09-11T21:12:37.697Z"
   },
   {
    "duration": 507,
    "start_time": "2023-09-11T21:12:39.943Z"
   },
   {
    "duration": 526,
    "start_time": "2023-09-11T21:12:40.452Z"
   },
   {
    "duration": 11122,
    "start_time": "2023-09-11T21:12:40.980Z"
   },
   {
    "duration": 4,
    "start_time": "2023-09-11T21:13:27.196Z"
   },
   {
    "duration": 1757,
    "start_time": "2023-09-11T21:13:27.202Z"
   },
   {
    "duration": 891,
    "start_time": "2023-09-11T21:13:28.961Z"
   },
   {
    "duration": 129,
    "start_time": "2023-09-11T21:13:29.855Z"
   },
   {
    "duration": 99,
    "start_time": "2023-09-11T21:13:29.987Z"
   },
   {
    "duration": 28,
    "start_time": "2023-09-11T21:13:30.088Z"
   },
   {
    "duration": 721,
    "start_time": "2023-09-11T21:13:30.118Z"
   },
   {
    "duration": 236,
    "start_time": "2023-09-11T21:13:30.840Z"
   },
   {
    "duration": 7,
    "start_time": "2023-09-11T21:13:31.078Z"
   },
   {
    "duration": 77,
    "start_time": "2023-09-11T21:13:31.088Z"
   },
   {
    "duration": 40,
    "start_time": "2023-09-11T21:13:31.167Z"
   },
   {
    "duration": 40,
    "start_time": "2023-09-11T21:13:31.209Z"
   },
   {
    "duration": 47,
    "start_time": "2023-09-11T21:13:31.251Z"
   },
   {
    "duration": 85,
    "start_time": "2023-09-11T21:13:31.300Z"
   },
   {
    "duration": 2,
    "start_time": "2023-09-11T21:13:31.387Z"
   },
   {
    "duration": 82,
    "start_time": "2023-09-11T21:13:31.391Z"
   },
   {
    "duration": 10,
    "start_time": "2023-09-11T21:13:31.475Z"
   },
   {
    "duration": 78,
    "start_time": "2023-09-11T21:13:31.487Z"
   },
   {
    "duration": 3,
    "start_time": "2023-09-11T21:13:31.567Z"
   },
   {
    "duration": 68,
    "start_time": "2023-09-11T21:13:31.571Z"
   },
   {
    "duration": 96,
    "start_time": "2023-09-11T21:13:31.641Z"
   },
   {
    "duration": 116,
    "start_time": "2023-09-11T21:13:31.744Z"
   },
   {
    "duration": 181,
    "start_time": "2023-09-11T21:13:31.862Z"
   },
   {
    "duration": 82,
    "start_time": "2023-09-11T21:13:32.045Z"
   },
   {
    "duration": 270,
    "start_time": "2023-09-11T21:13:32.129Z"
   },
   {
    "duration": 251,
    "start_time": "2023-09-11T21:13:32.401Z"
   },
   {
    "duration": 221,
    "start_time": "2023-09-11T21:13:32.654Z"
   },
   {
    "duration": 19,
    "start_time": "2023-09-11T21:13:32.879Z"
   },
   {
    "duration": 73,
    "start_time": "2023-09-11T21:13:32.899Z"
   },
   {
    "duration": 94,
    "start_time": "2023-09-11T21:13:32.974Z"
   },
   {
    "duration": 8,
    "start_time": "2023-09-11T21:13:33.070Z"
   },
   {
    "duration": 2291,
    "start_time": "2023-09-11T21:13:33.080Z"
   },
   {
    "duration": 491,
    "start_time": "2023-09-11T21:13:35.373Z"
   },
   {
    "duration": 506,
    "start_time": "2023-09-11T21:13:35.866Z"
   },
   {
    "duration": 94866,
    "start_time": "2023-09-11T21:13:36.374Z"
   },
   {
    "duration": 3,
    "start_time": "2023-09-11T21:16:23.537Z"
   },
   {
    "duration": 1813,
    "start_time": "2023-09-11T21:16:23.542Z"
   },
   {
    "duration": 874,
    "start_time": "2023-09-11T21:16:25.357Z"
   },
   {
    "duration": 129,
    "start_time": "2023-09-11T21:16:26.233Z"
   },
   {
    "duration": 106,
    "start_time": "2023-09-11T21:16:26.365Z"
   },
   {
    "duration": 28,
    "start_time": "2023-09-11T21:16:26.473Z"
   },
   {
    "duration": 713,
    "start_time": "2023-09-11T21:16:26.502Z"
   },
   {
    "duration": 219,
    "start_time": "2023-09-11T21:16:27.217Z"
   },
   {
    "duration": 9,
    "start_time": "2023-09-11T21:16:27.438Z"
   },
   {
    "duration": 35,
    "start_time": "2023-09-11T21:16:27.448Z"
   },
   {
    "duration": 60,
    "start_time": "2023-09-11T21:16:27.484Z"
   },
   {
    "duration": 4,
    "start_time": "2023-09-11T21:16:27.547Z"
   },
   {
    "duration": 23,
    "start_time": "2023-09-11T21:16:27.553Z"
   },
   {
    "duration": 72,
    "start_time": "2023-09-11T21:16:27.579Z"
   },
   {
    "duration": 2,
    "start_time": "2023-09-11T21:16:27.653Z"
   },
   {
    "duration": 96,
    "start_time": "2023-09-11T21:16:27.657Z"
   },
   {
    "duration": 41,
    "start_time": "2023-09-11T21:16:27.755Z"
   },
   {
    "duration": 98,
    "start_time": "2023-09-11T21:16:27.798Z"
   },
   {
    "duration": 2,
    "start_time": "2023-09-11T21:16:27.898Z"
   },
   {
    "duration": 47,
    "start_time": "2023-09-11T21:16:27.902Z"
   },
   {
    "duration": 96,
    "start_time": "2023-09-11T21:16:27.951Z"
   },
   {
    "duration": 191,
    "start_time": "2023-09-11T21:16:28.048Z"
   },
   {
    "duration": 93,
    "start_time": "2023-09-11T21:16:28.243Z"
   },
   {
    "duration": 81,
    "start_time": "2023-09-11T21:16:28.343Z"
   },
   {
    "duration": 238,
    "start_time": "2023-09-11T21:16:28.426Z"
   },
   {
    "duration": 277,
    "start_time": "2023-09-11T21:16:28.666Z"
   },
   {
    "duration": 234,
    "start_time": "2023-09-11T21:16:28.945Z"
   },
   {
    "duration": 19,
    "start_time": "2023-09-11T21:16:29.180Z"
   },
   {
    "duration": 69,
    "start_time": "2023-09-11T21:16:29.201Z"
   },
   {
    "duration": 82,
    "start_time": "2023-09-11T21:16:29.272Z"
   },
   {
    "duration": 8,
    "start_time": "2023-09-11T21:16:29.356Z"
   },
   {
    "duration": 2363,
    "start_time": "2023-09-11T21:16:29.365Z"
   },
   {
    "duration": 525,
    "start_time": "2023-09-11T21:16:31.730Z"
   },
   {
    "duration": 540,
    "start_time": "2023-09-11T21:16:32.257Z"
   },
   {
    "duration": 224684,
    "start_time": "2023-09-11T21:16:32.799Z"
   },
   {
    "duration": 4,
    "start_time": "2023-09-12T11:14:48.064Z"
   },
   {
    "duration": 468,
    "start_time": "2023-09-12T11:14:48.070Z"
   },
   {
    "duration": 0,
    "start_time": "2023-09-12T11:14:48.543Z"
   },
   {
    "duration": 0,
    "start_time": "2023-09-12T11:14:48.544Z"
   },
   {
    "duration": 0,
    "start_time": "2023-09-12T11:14:48.546Z"
   },
   {
    "duration": 0,
    "start_time": "2023-09-12T11:14:48.548Z"
   },
   {
    "duration": 0,
    "start_time": "2023-09-12T11:14:48.549Z"
   },
   {
    "duration": 0,
    "start_time": "2023-09-12T11:14:48.551Z"
   },
   {
    "duration": 0,
    "start_time": "2023-09-12T11:14:48.552Z"
   },
   {
    "duration": 0,
    "start_time": "2023-09-12T11:14:48.554Z"
   },
   {
    "duration": 0,
    "start_time": "2023-09-12T11:14:48.555Z"
   },
   {
    "duration": 0,
    "start_time": "2023-09-12T11:14:48.556Z"
   },
   {
    "duration": 0,
    "start_time": "2023-09-12T11:14:48.557Z"
   },
   {
    "duration": 0,
    "start_time": "2023-09-12T11:14:48.558Z"
   },
   {
    "duration": 0,
    "start_time": "2023-09-12T11:14:48.559Z"
   },
   {
    "duration": 0,
    "start_time": "2023-09-12T11:14:48.561Z"
   },
   {
    "duration": 1,
    "start_time": "2023-09-12T11:14:48.562Z"
   },
   {
    "duration": 0,
    "start_time": "2023-09-12T11:14:48.564Z"
   },
   {
    "duration": 0,
    "start_time": "2023-09-12T11:14:48.565Z"
   },
   {
    "duration": 0,
    "start_time": "2023-09-12T11:14:48.567Z"
   },
   {
    "duration": 0,
    "start_time": "2023-09-12T11:14:48.568Z"
   },
   {
    "duration": 0,
    "start_time": "2023-09-12T11:14:48.569Z"
   },
   {
    "duration": 0,
    "start_time": "2023-09-12T11:14:48.570Z"
   },
   {
    "duration": 0,
    "start_time": "2023-09-12T11:14:48.572Z"
   },
   {
    "duration": 0,
    "start_time": "2023-09-12T11:14:48.573Z"
   },
   {
    "duration": 0,
    "start_time": "2023-09-12T11:14:48.575Z"
   },
   {
    "duration": 0,
    "start_time": "2023-09-12T11:14:48.576Z"
   },
   {
    "duration": 0,
    "start_time": "2023-09-12T11:14:48.577Z"
   },
   {
    "duration": 0,
    "start_time": "2023-09-12T11:14:48.579Z"
   },
   {
    "duration": 0,
    "start_time": "2023-09-12T11:14:48.580Z"
   },
   {
    "duration": 0,
    "start_time": "2023-09-12T11:14:48.582Z"
   },
   {
    "duration": 0,
    "start_time": "2023-09-12T11:14:48.583Z"
   },
   {
    "duration": 0,
    "start_time": "2023-09-12T11:14:48.584Z"
   },
   {
    "duration": 0,
    "start_time": "2023-09-12T11:14:48.586Z"
   },
   {
    "duration": 0,
    "start_time": "2023-09-12T11:14:48.644Z"
   },
   {
    "duration": 51984,
    "start_time": "2023-09-12T11:15:06.454Z"
   },
   {
    "duration": 2005,
    "start_time": "2023-09-12T11:15:58.440Z"
   },
   {
    "duration": 1176,
    "start_time": "2023-09-12T11:16:00.449Z"
   },
   {
    "duration": 127,
    "start_time": "2023-09-12T11:16:01.626Z"
   },
   {
    "duration": 115,
    "start_time": "2023-09-12T11:16:01.755Z"
   },
   {
    "duration": 25,
    "start_time": "2023-09-12T11:16:01.872Z"
   },
   {
    "duration": 767,
    "start_time": "2023-09-12T11:16:01.898Z"
   },
   {
    "duration": 244,
    "start_time": "2023-09-12T11:16:02.667Z"
   },
   {
    "duration": 8,
    "start_time": "2023-09-12T11:16:02.914Z"
   },
   {
    "duration": 150,
    "start_time": "2023-09-12T11:16:02.924Z"
   },
   {
    "duration": 44,
    "start_time": "2023-09-12T11:16:03.076Z"
   },
   {
    "duration": 5,
    "start_time": "2023-09-12T11:16:03.121Z"
   },
   {
    "duration": 50,
    "start_time": "2023-09-12T11:16:03.128Z"
   },
   {
    "duration": 72,
    "start_time": "2023-09-12T11:16:03.179Z"
   },
   {
    "duration": 2,
    "start_time": "2023-09-12T11:16:03.253Z"
   },
   {
    "duration": 61,
    "start_time": "2023-09-12T11:16:03.256Z"
   },
   {
    "duration": 3,
    "start_time": "2023-09-12T11:16:03.319Z"
   },
   {
    "duration": 65,
    "start_time": "2023-09-12T11:16:03.324Z"
   },
   {
    "duration": 3,
    "start_time": "2023-09-12T11:16:03.391Z"
   },
   {
    "duration": 57,
    "start_time": "2023-09-12T11:16:03.395Z"
   },
   {
    "duration": 108,
    "start_time": "2023-09-12T11:16:03.454Z"
   },
   {
    "duration": 127,
    "start_time": "2023-09-12T11:16:03.564Z"
   },
   {
    "duration": 123,
    "start_time": "2023-09-12T11:16:03.693Z"
   },
   {
    "duration": 107,
    "start_time": "2023-09-12T11:16:03.819Z"
   },
   {
    "duration": 216,
    "start_time": "2023-09-12T11:16:03.928Z"
   },
   {
    "duration": 237,
    "start_time": "2023-09-12T11:16:04.146Z"
   },
   {
    "duration": 239,
    "start_time": "2023-09-12T11:16:04.387Z"
   },
   {
    "duration": 28,
    "start_time": "2023-09-12T11:16:04.628Z"
   },
   {
    "duration": 91,
    "start_time": "2023-09-12T11:16:04.658Z"
   },
   {
    "duration": 67,
    "start_time": "2023-09-12T11:16:04.750Z"
   },
   {
    "duration": 26,
    "start_time": "2023-09-12T11:16:04.819Z"
   },
   {
    "duration": 1772,
    "start_time": "2023-09-12T11:16:04.847Z"
   },
   {
    "duration": 447,
    "start_time": "2023-09-12T11:16:06.620Z"
   },
   {
    "duration": 454,
    "start_time": "2023-09-12T11:16:07.069Z"
   },
   {
    "duration": 226419,
    "start_time": "2023-09-12T11:16:07.525Z"
   },
   {
    "duration": 225295,
    "start_time": "2023-09-12T11:23:29.672Z"
   },
   {
    "duration": 3,
    "start_time": "2023-09-12T11:30:02.221Z"
   },
   {
    "duration": 2398,
    "start_time": "2023-09-12T11:30:02.226Z"
   },
   {
    "duration": 859,
    "start_time": "2023-09-12T11:30:04.626Z"
   },
   {
    "duration": 126,
    "start_time": "2023-09-12T11:30:05.487Z"
   },
   {
    "duration": 120,
    "start_time": "2023-09-12T11:30:05.615Z"
   },
   {
    "duration": 24,
    "start_time": "2023-09-12T11:30:05.737Z"
   },
   {
    "duration": 840,
    "start_time": "2023-09-12T11:30:05.763Z"
   },
   {
    "duration": 236,
    "start_time": "2023-09-12T11:30:06.605Z"
   },
   {
    "duration": 8,
    "start_time": "2023-09-12T11:30:06.844Z"
   },
   {
    "duration": 69,
    "start_time": "2023-09-12T11:30:06.854Z"
   },
   {
    "duration": 54,
    "start_time": "2023-09-12T11:30:06.924Z"
   },
   {
    "duration": 54,
    "start_time": "2023-09-12T11:30:06.981Z"
   },
   {
    "duration": 42,
    "start_time": "2023-09-12T11:30:07.037Z"
   },
   {
    "duration": 77,
    "start_time": "2023-09-12T11:30:07.082Z"
   },
   {
    "duration": 2,
    "start_time": "2023-09-12T11:30:07.161Z"
   },
   {
    "duration": 104,
    "start_time": "2023-09-12T11:30:07.165Z"
   },
   {
    "duration": 3,
    "start_time": "2023-09-12T11:30:07.271Z"
   },
   {
    "duration": 81,
    "start_time": "2023-09-12T11:30:07.276Z"
   },
   {
    "duration": 3,
    "start_time": "2023-09-12T11:30:07.359Z"
   },
   {
    "duration": 69,
    "start_time": "2023-09-12T11:30:07.364Z"
   },
   {
    "duration": 124,
    "start_time": "2023-09-12T11:30:07.435Z"
   },
   {
    "duration": 108,
    "start_time": "2023-09-12T11:30:07.560Z"
   },
   {
    "duration": 130,
    "start_time": "2023-09-12T11:30:07.670Z"
   },
   {
    "duration": 84,
    "start_time": "2023-09-12T11:30:07.802Z"
   },
   {
    "duration": 266,
    "start_time": "2023-09-12T11:30:07.888Z"
   },
   {
    "duration": 260,
    "start_time": "2023-09-12T11:30:08.155Z"
   },
   {
    "duration": 236,
    "start_time": "2023-09-12T11:30:08.417Z"
   },
   {
    "duration": 21,
    "start_time": "2023-09-12T11:30:08.655Z"
   },
   {
    "duration": 70,
    "start_time": "2023-09-12T11:30:08.678Z"
   },
   {
    "duration": 80,
    "start_time": "2023-09-12T11:30:08.749Z"
   },
   {
    "duration": 18,
    "start_time": "2023-09-12T11:30:08.831Z"
   },
   {
    "duration": 2036,
    "start_time": "2023-09-12T11:30:08.851Z"
   },
   {
    "duration": 0,
    "start_time": "2023-09-12T11:30:10.889Z"
   },
   {
    "duration": 0,
    "start_time": "2023-09-12T11:30:10.890Z"
   },
   {
    "duration": 0,
    "start_time": "2023-09-12T11:30:10.891Z"
   },
   {
    "duration": 3,
    "start_time": "2023-09-12T11:30:37.471Z"
   },
   {
    "duration": 1863,
    "start_time": "2023-09-12T11:30:37.477Z"
   },
   {
    "duration": 920,
    "start_time": "2023-09-12T11:30:39.342Z"
   },
   {
    "duration": 144,
    "start_time": "2023-09-12T11:30:40.264Z"
   },
   {
    "duration": 90,
    "start_time": "2023-09-12T11:30:40.410Z"
   },
   {
    "duration": 26,
    "start_time": "2023-09-12T11:30:40.502Z"
   },
   {
    "duration": 1078,
    "start_time": "2023-09-12T11:30:40.530Z"
   },
   {
    "duration": 273,
    "start_time": "2023-09-12T11:30:41.610Z"
   },
   {
    "duration": 10,
    "start_time": "2023-09-12T11:30:41.884Z"
   },
   {
    "duration": 54,
    "start_time": "2023-09-12T11:30:41.896Z"
   },
   {
    "duration": 45,
    "start_time": "2023-09-12T11:30:41.952Z"
   },
   {
    "duration": 5,
    "start_time": "2023-09-12T11:30:41.999Z"
   },
   {
    "duration": 5,
    "start_time": "2023-09-12T11:30:42.006Z"
   },
   {
    "duration": 81,
    "start_time": "2023-09-12T11:30:42.013Z"
   },
   {
    "duration": 2,
    "start_time": "2023-09-12T11:30:42.096Z"
   },
   {
    "duration": 52,
    "start_time": "2023-09-12T11:30:42.100Z"
   },
   {
    "duration": 3,
    "start_time": "2023-09-12T11:30:42.154Z"
   },
   {
    "duration": 48,
    "start_time": "2023-09-12T11:30:42.159Z"
   },
   {
    "duration": 3,
    "start_time": "2023-09-12T11:30:42.209Z"
   },
   {
    "duration": 53,
    "start_time": "2023-09-12T11:30:42.213Z"
   },
   {
    "duration": 105,
    "start_time": "2023-09-12T11:30:42.268Z"
   },
   {
    "duration": 120,
    "start_time": "2023-09-12T11:30:42.375Z"
   },
   {
    "duration": 105,
    "start_time": "2023-09-12T11:30:42.497Z"
   },
   {
    "duration": 94,
    "start_time": "2023-09-12T11:30:42.604Z"
   },
   {
    "duration": 251,
    "start_time": "2023-09-12T11:30:42.700Z"
   },
   {
    "duration": 260,
    "start_time": "2023-09-12T11:30:42.952Z"
   },
   {
    "duration": 237,
    "start_time": "2023-09-12T11:30:43.214Z"
   },
   {
    "duration": 19,
    "start_time": "2023-09-12T11:30:43.453Z"
   },
   {
    "duration": 76,
    "start_time": "2023-09-12T11:30:43.474Z"
   },
   {
    "duration": 81,
    "start_time": "2023-09-12T11:30:43.551Z"
   },
   {
    "duration": 8,
    "start_time": "2023-09-12T11:30:43.644Z"
   },
   {
    "duration": 1965,
    "start_time": "2023-09-12T11:30:43.654Z"
   },
   {
    "duration": 440,
    "start_time": "2023-09-12T11:30:45.621Z"
   },
   {
    "duration": 446,
    "start_time": "2023-09-12T11:30:46.063Z"
   },
   {
    "duration": 228367,
    "start_time": "2023-09-12T11:30:46.511Z"
   },
   {
    "duration": 4,
    "start_time": "2023-09-12T11:35:16.553Z"
   },
   {
    "duration": 1871,
    "start_time": "2023-09-12T11:35:16.558Z"
   },
   {
    "duration": 873,
    "start_time": "2023-09-12T11:35:18.430Z"
   },
   {
    "duration": 126,
    "start_time": "2023-09-12T11:35:19.305Z"
   },
   {
    "duration": 81,
    "start_time": "2023-09-12T11:35:19.443Z"
   },
   {
    "duration": 31,
    "start_time": "2023-09-12T11:35:19.526Z"
   },
   {
    "duration": 849,
    "start_time": "2023-09-12T11:35:19.559Z"
   },
   {
    "duration": 240,
    "start_time": "2023-09-12T11:35:20.410Z"
   },
   {
    "duration": 8,
    "start_time": "2023-09-12T11:35:20.652Z"
   },
   {
    "duration": 52,
    "start_time": "2023-09-12T11:35:20.661Z"
   },
   {
    "duration": 50,
    "start_time": "2023-09-12T11:35:20.715Z"
   },
   {
    "duration": 5,
    "start_time": "2023-09-12T11:35:20.767Z"
   },
   {
    "duration": 22,
    "start_time": "2023-09-12T11:35:20.775Z"
   },
   {
    "duration": 81,
    "start_time": "2023-09-12T11:35:20.799Z"
   },
   {
    "duration": 2,
    "start_time": "2023-09-12T11:35:20.882Z"
   },
   {
    "duration": 106,
    "start_time": "2023-09-12T11:35:20.886Z"
   },
   {
    "duration": 3,
    "start_time": "2023-09-12T11:35:20.994Z"
   },
   {
    "duration": 72,
    "start_time": "2023-09-12T11:35:20.998Z"
   },
   {
    "duration": 3,
    "start_time": "2023-09-12T11:35:21.072Z"
   },
   {
    "duration": 67,
    "start_time": "2023-09-12T11:35:21.078Z"
   },
   {
    "duration": 99,
    "start_time": "2023-09-12T11:35:21.147Z"
   },
   {
    "duration": 115,
    "start_time": "2023-09-12T11:35:21.247Z"
   },
   {
    "duration": 93,
    "start_time": "2023-09-12T11:35:21.364Z"
   },
   {
    "duration": 88,
    "start_time": "2023-09-12T11:35:21.459Z"
   },
   {
    "duration": 243,
    "start_time": "2023-09-12T11:35:21.549Z"
   },
   {
    "duration": 272,
    "start_time": "2023-09-12T11:35:21.794Z"
   },
   {
    "duration": 255,
    "start_time": "2023-09-12T11:35:22.068Z"
   },
   {
    "duration": 24,
    "start_time": "2023-09-12T11:35:22.325Z"
   },
   {
    "duration": 58,
    "start_time": "2023-09-12T11:35:22.351Z"
   },
   {
    "duration": 92,
    "start_time": "2023-09-12T11:35:22.412Z"
   },
   {
    "duration": 8,
    "start_time": "2023-09-12T11:35:22.506Z"
   },
   {
    "duration": 2046,
    "start_time": "2023-09-12T11:35:22.515Z"
   },
   {
    "duration": 476,
    "start_time": "2023-09-12T11:35:24.564Z"
   },
   {
    "duration": 447,
    "start_time": "2023-09-12T11:35:25.045Z"
   },
   {
    "duration": 225873,
    "start_time": "2023-09-12T11:35:25.494Z"
   },
   {
    "duration": 7,
    "start_time": "2023-09-12T11:40:02.672Z"
   },
   {
    "duration": 3,
    "start_time": "2023-09-12T11:40:41.747Z"
   },
   {
    "duration": 1888,
    "start_time": "2023-09-12T11:40:41.752Z"
   },
   {
    "duration": 988,
    "start_time": "2023-09-12T11:40:43.642Z"
   },
   {
    "duration": 147,
    "start_time": "2023-09-12T11:40:44.633Z"
   },
   {
    "duration": 89,
    "start_time": "2023-09-12T11:40:44.783Z"
   },
   {
    "duration": 26,
    "start_time": "2023-09-12T11:40:44.874Z"
   },
   {
    "duration": 857,
    "start_time": "2023-09-12T11:40:44.902Z"
   },
   {
    "duration": 244,
    "start_time": "2023-09-12T11:40:45.761Z"
   },
   {
    "duration": 9,
    "start_time": "2023-09-12T11:40:46.006Z"
   },
   {
    "duration": 14,
    "start_time": "2023-09-12T11:40:46.016Z"
   },
   {
    "duration": 92,
    "start_time": "2023-09-12T11:40:46.044Z"
   },
   {
    "duration": 49,
    "start_time": "2023-09-12T11:40:46.137Z"
   },
   {
    "duration": 10,
    "start_time": "2023-09-12T11:40:46.188Z"
   },
   {
    "duration": 2,
    "start_time": "2023-09-12T11:40:46.202Z"
   },
   {
    "duration": 61,
    "start_time": "2023-09-12T11:40:46.206Z"
   },
   {
    "duration": 2,
    "start_time": "2023-09-12T11:40:46.269Z"
   },
   {
    "duration": 51,
    "start_time": "2023-09-12T11:40:46.274Z"
   },
   {
    "duration": 2,
    "start_time": "2023-09-12T11:40:46.327Z"
   },
   {
    "duration": 49,
    "start_time": "2023-09-12T11:40:46.331Z"
   },
   {
    "duration": 3,
    "start_time": "2023-09-12T11:40:46.381Z"
   },
   {
    "duration": 40,
    "start_time": "2023-09-12T11:40:46.386Z"
   },
   {
    "duration": 108,
    "start_time": "2023-09-12T11:40:46.427Z"
   },
   {
    "duration": 107,
    "start_time": "2023-09-12T11:40:46.543Z"
   },
   {
    "duration": 103,
    "start_time": "2023-09-12T11:40:46.653Z"
   },
   {
    "duration": 80,
    "start_time": "2023-09-12T11:40:46.758Z"
   },
   {
    "duration": 237,
    "start_time": "2023-09-12T11:40:46.844Z"
   },
   {
    "duration": 269,
    "start_time": "2023-09-12T11:40:47.083Z"
   },
   {
    "duration": 247,
    "start_time": "2023-09-12T11:40:47.354Z"
   },
   {
    "duration": 19,
    "start_time": "2023-09-12T11:40:47.603Z"
   },
   {
    "duration": 63,
    "start_time": "2023-09-12T11:40:47.624Z"
   },
   {
    "duration": 100,
    "start_time": "2023-09-12T11:40:47.689Z"
   },
   {
    "duration": 8,
    "start_time": "2023-09-12T11:40:47.790Z"
   },
   {
    "duration": 2101,
    "start_time": "2023-09-12T11:40:47.799Z"
   },
   {
    "duration": 453,
    "start_time": "2023-09-12T11:40:49.901Z"
   },
   {
    "duration": 449,
    "start_time": "2023-09-12T11:40:50.355Z"
   },
   {
    "duration": 195515,
    "start_time": "2023-09-12T11:40:50.806Z"
   },
   {
    "duration": 4,
    "start_time": "2023-09-12T11:46:41.846Z"
   },
   {
    "duration": 1936,
    "start_time": "2023-09-12T11:46:41.852Z"
   },
   {
    "duration": 948,
    "start_time": "2023-09-12T11:46:43.790Z"
   },
   {
    "duration": 128,
    "start_time": "2023-09-12T11:46:44.740Z"
   },
   {
    "duration": 98,
    "start_time": "2023-09-12T11:46:44.871Z"
   },
   {
    "duration": 26,
    "start_time": "2023-09-12T11:46:44.971Z"
   },
   {
    "duration": 896,
    "start_time": "2023-09-12T11:46:44.999Z"
   },
   {
    "duration": 240,
    "start_time": "2023-09-12T11:46:45.897Z"
   },
   {
    "duration": 9,
    "start_time": "2023-09-12T11:46:46.139Z"
   },
   {
    "duration": 22,
    "start_time": "2023-09-12T11:46:46.150Z"
   },
   {
    "duration": 97,
    "start_time": "2023-09-12T11:46:46.173Z"
   },
   {
    "duration": 41,
    "start_time": "2023-09-12T11:46:46.272Z"
   },
   {
    "duration": 13,
    "start_time": "2023-09-12T11:46:46.315Z"
   },
   {
    "duration": 13,
    "start_time": "2023-09-12T11:46:46.332Z"
   },
   {
    "duration": 60,
    "start_time": "2023-09-12T11:46:46.347Z"
   },
   {
    "duration": 5,
    "start_time": "2023-09-12T11:46:46.409Z"
   },
   {
    "duration": 52,
    "start_time": "2023-09-12T11:46:46.416Z"
   },
   {
    "duration": 3,
    "start_time": "2023-09-12T11:46:46.470Z"
   },
   {
    "duration": 25,
    "start_time": "2023-09-12T11:46:46.475Z"
   },
   {
    "duration": 22,
    "start_time": "2023-09-12T11:46:46.501Z"
   },
   {
    "duration": 41,
    "start_time": "2023-09-12T11:46:46.525Z"
   },
   {
    "duration": 3,
    "start_time": "2023-09-12T11:46:46.568Z"
   },
   {
    "duration": 48,
    "start_time": "2023-09-12T11:46:46.572Z"
   },
   {
    "duration": 96,
    "start_time": "2023-09-12T11:46:46.622Z"
   },
   {
    "duration": 107,
    "start_time": "2023-09-12T11:46:46.720Z"
   },
   {
    "duration": 97,
    "start_time": "2023-09-12T11:46:46.829Z"
   },
   {
    "duration": 89,
    "start_time": "2023-09-12T11:46:46.928Z"
   },
   {
    "duration": 240,
    "start_time": "2023-09-12T11:46:47.019Z"
   },
   {
    "duration": 256,
    "start_time": "2023-09-12T11:46:47.261Z"
   },
   {
    "duration": 244,
    "start_time": "2023-09-12T11:46:47.519Z"
   },
   {
    "duration": 20,
    "start_time": "2023-09-12T11:46:47.764Z"
   },
   {
    "duration": 69,
    "start_time": "2023-09-12T11:46:47.786Z"
   },
   {
    "duration": 86,
    "start_time": "2023-09-12T11:46:47.857Z"
   },
   {
    "duration": 7,
    "start_time": "2023-09-12T11:46:47.945Z"
   },
   {
    "duration": 2008,
    "start_time": "2023-09-12T11:46:47.954Z"
   },
   {
    "duration": 463,
    "start_time": "2023-09-12T11:46:49.963Z"
   },
   {
    "duration": 448,
    "start_time": "2023-09-12T11:46:50.427Z"
   },
   {
    "duration": 3,
    "start_time": "2023-09-12T11:49:00.835Z"
   },
   {
    "duration": 1889,
    "start_time": "2023-09-12T11:49:00.839Z"
   },
   {
    "duration": 904,
    "start_time": "2023-09-12T11:49:02.730Z"
   },
   {
    "duration": 144,
    "start_time": "2023-09-12T11:49:03.636Z"
   },
   {
    "duration": 95,
    "start_time": "2023-09-12T11:49:03.783Z"
   },
   {
    "duration": 26,
    "start_time": "2023-09-12T11:49:03.879Z"
   },
   {
    "duration": 906,
    "start_time": "2023-09-12T11:49:03.907Z"
   },
   {
    "duration": 236,
    "start_time": "2023-09-12T11:49:04.815Z"
   },
   {
    "duration": 11,
    "start_time": "2023-09-12T11:49:05.053Z"
   },
   {
    "duration": 20,
    "start_time": "2023-09-12T11:49:05.067Z"
   },
   {
    "duration": 115,
    "start_time": "2023-09-12T11:49:05.089Z"
   },
   {
    "duration": 43,
    "start_time": "2023-09-12T11:49:05.206Z"
   },
   {
    "duration": 18,
    "start_time": "2023-09-12T11:49:05.251Z"
   },
   {
    "duration": 5,
    "start_time": "2023-09-12T11:49:05.272Z"
   },
   {
    "duration": 46,
    "start_time": "2023-09-12T11:49:05.278Z"
   },
   {
    "duration": 3,
    "start_time": "2023-09-12T11:49:05.325Z"
   },
   {
    "duration": 45,
    "start_time": "2023-09-12T11:49:05.329Z"
   },
   {
    "duration": 7,
    "start_time": "2023-09-12T11:49:05.376Z"
   },
   {
    "duration": 101,
    "start_time": "2023-09-12T11:49:05.384Z"
   },
   {
    "duration": 92,
    "start_time": "2023-09-12T11:49:05.487Z"
   },
   {
    "duration": 109,
    "start_time": "2023-09-12T11:49:05.580Z"
   },
   {
    "duration": 87,
    "start_time": "2023-09-12T11:49:05.692Z"
   },
   {
    "duration": 85,
    "start_time": "2023-09-12T11:49:05.780Z"
   },
   {
    "duration": 210,
    "start_time": "2023-09-12T11:49:05.867Z"
   },
   {
    "duration": 244,
    "start_time": "2023-09-12T11:49:06.079Z"
   },
   {
    "duration": 231,
    "start_time": "2023-09-12T11:49:06.325Z"
   },
   {
    "duration": 18,
    "start_time": "2023-09-12T11:49:06.559Z"
   },
   {
    "duration": 65,
    "start_time": "2023-09-12T11:49:06.579Z"
   },
   {
    "duration": 89,
    "start_time": "2023-09-12T11:49:06.646Z"
   },
   {
    "duration": 6,
    "start_time": "2023-09-12T11:49:06.738Z"
   },
   {
    "duration": 1841,
    "start_time": "2023-09-12T11:49:06.746Z"
   },
   {
    "duration": 427,
    "start_time": "2023-09-12T11:49:08.589Z"
   },
   {
    "duration": 449,
    "start_time": "2023-09-12T11:49:09.017Z"
   },
   {
    "duration": 171566,
    "start_time": "2023-09-12T11:49:09.468Z"
   },
   {
    "duration": 167100,
    "start_time": "2023-09-12T11:54:52.136Z"
   },
   {
    "duration": 4003,
    "start_time": "2023-09-12T12:00:38.605Z"
   },
   {
    "duration": 1922,
    "start_time": "2023-09-12T12:00:42.611Z"
   },
   {
    "duration": 907,
    "start_time": "2023-09-12T12:00:44.535Z"
   },
   {
    "duration": 127,
    "start_time": "2023-09-12T12:00:45.444Z"
   },
   {
    "duration": 89,
    "start_time": "2023-09-12T12:00:45.573Z"
   },
   {
    "duration": 25,
    "start_time": "2023-09-12T12:00:45.663Z"
   },
   {
    "duration": 710,
    "start_time": "2023-09-12T12:00:45.689Z"
   },
   {
    "duration": 228,
    "start_time": "2023-09-12T12:00:46.401Z"
   },
   {
    "duration": 14,
    "start_time": "2023-09-12T12:00:46.630Z"
   },
   {
    "duration": 7,
    "start_time": "2023-09-12T12:00:46.646Z"
   },
   {
    "duration": 93,
    "start_time": "2023-09-12T12:00:46.654Z"
   },
   {
    "duration": 40,
    "start_time": "2023-09-12T12:00:46.750Z"
   },
   {
    "duration": 5,
    "start_time": "2023-09-12T12:00:46.791Z"
   },
   {
    "duration": 7,
    "start_time": "2023-09-12T12:00:46.799Z"
   },
   {
    "duration": 59,
    "start_time": "2023-09-12T12:00:46.808Z"
   },
   {
    "duration": 3,
    "start_time": "2023-09-12T12:00:46.869Z"
   },
   {
    "duration": 61,
    "start_time": "2023-09-12T12:00:46.874Z"
   },
   {
    "duration": 7,
    "start_time": "2023-09-12T12:00:46.937Z"
   },
   {
    "duration": 71,
    "start_time": "2023-09-12T12:00:46.946Z"
   },
   {
    "duration": 97,
    "start_time": "2023-09-12T12:00:47.019Z"
   },
   {
    "duration": 96,
    "start_time": "2023-09-12T12:00:47.118Z"
   },
   {
    "duration": 97,
    "start_time": "2023-09-12T12:00:47.216Z"
   },
   {
    "duration": 74,
    "start_time": "2023-09-12T12:00:47.315Z"
   },
   {
    "duration": 206,
    "start_time": "2023-09-12T12:00:47.390Z"
   },
   {
    "duration": 231,
    "start_time": "2023-09-12T12:00:47.598Z"
   },
   {
    "duration": 202,
    "start_time": "2023-09-12T12:00:47.831Z"
   },
   {
    "duration": 22,
    "start_time": "2023-09-12T12:00:48.035Z"
   },
   {
    "duration": 52,
    "start_time": "2023-09-12T12:00:48.059Z"
   },
   {
    "duration": 77,
    "start_time": "2023-09-12T12:00:48.112Z"
   },
   {
    "duration": 7,
    "start_time": "2023-09-12T12:00:48.191Z"
   },
   {
    "duration": 1648,
    "start_time": "2023-09-12T12:00:48.199Z"
   },
   {
    "duration": 408,
    "start_time": "2023-09-12T12:00:49.849Z"
   },
   {
    "duration": 420,
    "start_time": "2023-09-12T12:00:50.258Z"
   },
   {
    "duration": 803,
    "start_time": "2023-09-12T12:00:50.680Z"
   },
   {
    "duration": 0,
    "start_time": "2023-09-12T12:00:51.484Z"
   },
   {
    "duration": 352,
    "start_time": "2023-09-12T12:01:11.412Z"
   },
   {
    "duration": 403,
    "start_time": "2023-09-12T12:01:33.722Z"
   },
   {
    "duration": 4,
    "start_time": "2023-09-12T12:02:49.105Z"
   },
   {
    "duration": 1912,
    "start_time": "2023-09-12T12:02:49.111Z"
   },
   {
    "duration": 869,
    "start_time": "2023-09-12T12:02:51.026Z"
   },
   {
    "duration": 121,
    "start_time": "2023-09-12T12:02:51.897Z"
   },
   {
    "duration": 94,
    "start_time": "2023-09-12T12:02:52.020Z"
   },
   {
    "duration": 28,
    "start_time": "2023-09-12T12:02:52.116Z"
   },
   {
    "duration": 796,
    "start_time": "2023-09-12T12:02:52.146Z"
   },
   {
    "duration": 236,
    "start_time": "2023-09-12T12:02:52.944Z"
   },
   {
    "duration": 8,
    "start_time": "2023-09-12T12:02:53.182Z"
   },
   {
    "duration": 14,
    "start_time": "2023-09-12T12:02:53.191Z"
   },
   {
    "duration": 107,
    "start_time": "2023-09-12T12:02:53.206Z"
   },
   {
    "duration": 46,
    "start_time": "2023-09-12T12:02:53.315Z"
   },
   {
    "duration": 5,
    "start_time": "2023-09-12T12:02:53.363Z"
   },
   {
    "duration": 7,
    "start_time": "2023-09-12T12:02:53.370Z"
   },
   {
    "duration": 45,
    "start_time": "2023-09-12T12:02:53.378Z"
   },
   {
    "duration": 2,
    "start_time": "2023-09-12T12:02:53.425Z"
   },
   {
    "duration": 41,
    "start_time": "2023-09-12T12:02:53.443Z"
   },
   {
    "duration": 8,
    "start_time": "2023-09-12T12:02:53.485Z"
   },
   {
    "duration": 88,
    "start_time": "2023-09-12T12:02:53.494Z"
   },
   {
    "duration": 97,
    "start_time": "2023-09-12T12:02:53.584Z"
   },
   {
    "duration": 129,
    "start_time": "2023-09-12T12:02:53.683Z"
   },
   {
    "duration": 95,
    "start_time": "2023-09-12T12:02:53.814Z"
   },
   {
    "duration": 74,
    "start_time": "2023-09-12T12:02:53.911Z"
   },
   {
    "duration": 225,
    "start_time": "2023-09-12T12:02:53.987Z"
   },
   {
    "duration": 242,
    "start_time": "2023-09-12T12:02:54.214Z"
   },
   {
    "duration": 258,
    "start_time": "2023-09-12T12:02:54.459Z"
   },
   {
    "duration": 28,
    "start_time": "2023-09-12T12:02:54.720Z"
   },
   {
    "duration": 53,
    "start_time": "2023-09-12T12:02:54.750Z"
   },
   {
    "duration": 79,
    "start_time": "2023-09-12T12:02:54.805Z"
   },
   {
    "duration": 8,
    "start_time": "2023-09-12T12:02:54.886Z"
   },
   {
    "duration": 1805,
    "start_time": "2023-09-12T12:02:54.896Z"
   },
   {
    "duration": 420,
    "start_time": "2023-09-12T12:02:56.703Z"
   },
   {
    "duration": 436,
    "start_time": "2023-09-12T12:02:57.124Z"
   },
   {
    "duration": 170012,
    "start_time": "2023-09-12T12:02:57.562Z"
   },
   {
    "duration": 179727,
    "start_time": "2023-09-12T12:10:34.232Z"
   },
   {
    "duration": 268,
    "start_time": "2023-09-12T12:22:58.924Z"
   },
   {
    "duration": 3,
    "start_time": "2023-09-12T12:23:17.685Z"
   },
   {
    "duration": 2018,
    "start_time": "2023-09-12T12:23:17.691Z"
   },
   {
    "duration": 884,
    "start_time": "2023-09-12T12:23:19.711Z"
   },
   {
    "duration": 131,
    "start_time": "2023-09-12T12:23:20.597Z"
   },
   {
    "duration": 84,
    "start_time": "2023-09-12T12:23:20.731Z"
   },
   {
    "duration": 36,
    "start_time": "2023-09-12T12:23:20.817Z"
   },
   {
    "duration": 861,
    "start_time": "2023-09-12T12:23:20.855Z"
   },
   {
    "duration": 241,
    "start_time": "2023-09-12T12:23:21.719Z"
   },
   {
    "duration": 9,
    "start_time": "2023-09-12T12:23:21.962Z"
   },
   {
    "duration": 21,
    "start_time": "2023-09-12T12:23:21.973Z"
   },
   {
    "duration": 112,
    "start_time": "2023-09-12T12:23:21.996Z"
   },
   {
    "duration": 44,
    "start_time": "2023-09-12T12:23:22.110Z"
   },
   {
    "duration": 26,
    "start_time": "2023-09-12T12:23:22.155Z"
   },
   {
    "duration": 79,
    "start_time": "2023-09-12T12:23:22.184Z"
   },
   {
    "duration": 80,
    "start_time": "2023-09-12T12:23:22.265Z"
   },
   {
    "duration": 3,
    "start_time": "2023-09-12T12:23:22.347Z"
   },
   {
    "duration": 66,
    "start_time": "2023-09-12T12:23:22.351Z"
   },
   {
    "duration": 8,
    "start_time": "2023-09-12T12:23:22.419Z"
   },
   {
    "duration": 95,
    "start_time": "2023-09-12T12:23:22.429Z"
   },
   {
    "duration": 96,
    "start_time": "2023-09-12T12:23:22.526Z"
   },
   {
    "duration": 115,
    "start_time": "2023-09-12T12:23:22.624Z"
   },
   {
    "duration": 98,
    "start_time": "2023-09-12T12:23:22.741Z"
   },
   {
    "duration": 76,
    "start_time": "2023-09-12T12:23:22.840Z"
   },
   {
    "duration": 228,
    "start_time": "2023-09-12T12:23:22.918Z"
   },
   {
    "duration": 232,
    "start_time": "2023-09-12T12:23:23.149Z"
   },
   {
    "duration": 218,
    "start_time": "2023-09-12T12:23:23.383Z"
   },
   {
    "duration": 20,
    "start_time": "2023-09-12T12:23:23.603Z"
   },
   {
    "duration": 62,
    "start_time": "2023-09-12T12:23:23.625Z"
   },
   {
    "duration": 91,
    "start_time": "2023-09-12T12:23:23.689Z"
   },
   {
    "duration": 9,
    "start_time": "2023-09-12T12:23:23.782Z"
   },
   {
    "duration": 1837,
    "start_time": "2023-09-12T12:23:23.793Z"
   },
   {
    "duration": 427,
    "start_time": "2023-09-12T12:23:25.632Z"
   },
   {
    "duration": 421,
    "start_time": "2023-09-12T12:23:26.061Z"
   },
   {
    "duration": 170150,
    "start_time": "2023-09-12T12:23:26.484Z"
   },
   {
    "duration": 370,
    "start_time": "2023-09-12T12:26:16.636Z"
   },
   {
    "duration": 9262,
    "start_time": "2023-09-12T12:26:37.290Z"
   },
   {
    "duration": 8705,
    "start_time": "2023-09-12T12:28:32.249Z"
   },
   {
    "duration": 4788,
    "start_time": "2023-09-12T12:30:32.262Z"
   },
   {
    "duration": 10927,
    "start_time": "2023-09-12T12:30:49.119Z"
   },
   {
    "duration": 4684,
    "start_time": "2023-09-12T12:33:24.468Z"
   },
   {
    "duration": 12,
    "start_time": "2023-09-12T12:33:56.393Z"
   },
   {
    "duration": 12,
    "start_time": "2023-09-12T12:34:35.294Z"
   },
   {
    "duration": 11,
    "start_time": "2023-09-12T12:34:49.643Z"
   },
   {
    "duration": 741,
    "start_time": "2023-09-12T12:34:59.673Z"
   },
   {
    "duration": 13776,
    "start_time": "2023-09-12T12:35:18.268Z"
   },
   {
    "duration": 8760,
    "start_time": "2023-09-12T12:35:56.396Z"
   },
   {
    "duration": 8933,
    "start_time": "2023-09-12T12:39:37.715Z"
   },
   {
    "duration": 8990,
    "start_time": "2023-09-12T12:40:27.055Z"
   },
   {
    "duration": 694,
    "start_time": "2023-09-12T12:43:25.509Z"
   },
   {
    "duration": 859,
    "start_time": "2023-09-12T12:45:33.465Z"
   },
   {
    "duration": 10279,
    "start_time": "2023-09-12T12:45:46.374Z"
   },
   {
    "duration": 2439,
    "start_time": "2023-09-12T12:50:58.284Z"
   },
   {
    "duration": 2370,
    "start_time": "2023-09-12T12:52:07.616Z"
   },
   {
    "duration": 168,
    "start_time": "2023-09-12T12:53:50.615Z"
   },
   {
    "duration": 182,
    "start_time": "2023-09-12T12:56:02.765Z"
   },
   {
    "duration": 2697,
    "start_time": "2023-09-12T12:57:59.353Z"
   },
   {
    "duration": 8817,
    "start_time": "2023-09-12T13:01:42.728Z"
   },
   {
    "duration": 1984,
    "start_time": "2023-09-12T13:01:51.548Z"
   },
   {
    "duration": 970,
    "start_time": "2023-09-12T13:01:53.534Z"
   },
   {
    "duration": 460,
    "start_time": "2023-09-12T13:01:54.507Z"
   },
   {
    "duration": 85,
    "start_time": "2023-09-12T13:01:54.969Z"
   },
   {
    "duration": 26,
    "start_time": "2023-09-12T13:01:55.056Z"
   },
   {
    "duration": 895,
    "start_time": "2023-09-12T13:01:55.084Z"
   },
   {
    "duration": 245,
    "start_time": "2023-09-12T13:01:55.981Z"
   },
   {
    "duration": 16,
    "start_time": "2023-09-12T13:01:56.228Z"
   },
   {
    "duration": 26,
    "start_time": "2023-09-12T13:01:56.246Z"
   },
   {
    "duration": 95,
    "start_time": "2023-09-12T13:01:56.273Z"
   },
   {
    "duration": 47,
    "start_time": "2023-09-12T13:01:56.370Z"
   },
   {
    "duration": 4,
    "start_time": "2023-09-12T13:01:56.419Z"
   },
   {
    "duration": 3,
    "start_time": "2023-09-12T13:01:56.444Z"
   },
   {
    "duration": 46,
    "start_time": "2023-09-12T13:01:56.448Z"
   },
   {
    "duration": 3,
    "start_time": "2023-09-12T13:01:56.495Z"
   },
   {
    "duration": 64,
    "start_time": "2023-09-12T13:01:56.499Z"
   },
   {
    "duration": 7,
    "start_time": "2023-09-12T13:01:56.565Z"
   },
   {
    "duration": 83,
    "start_time": "2023-09-12T13:01:56.574Z"
   },
   {
    "duration": 260,
    "start_time": "2023-09-12T13:01:56.659Z"
   },
   {
    "duration": 265,
    "start_time": "2023-09-12T13:01:56.920Z"
   },
   {
    "duration": 206,
    "start_time": "2023-09-12T13:01:57.187Z"
   },
   {
    "duration": 281,
    "start_time": "2023-09-12T13:01:57.396Z"
   },
   {
    "duration": 226,
    "start_time": "2023-09-12T13:01:57.678Z"
   },
   {
    "duration": 239,
    "start_time": "2023-09-12T13:01:57.905Z"
   },
   {
    "duration": 216,
    "start_time": "2023-09-12T13:01:58.146Z"
   },
   {
    "duration": 17,
    "start_time": "2023-09-12T13:01:58.364Z"
   },
   {
    "duration": 153,
    "start_time": "2023-09-12T13:01:58.383Z"
   },
   {
    "duration": 69,
    "start_time": "2023-09-12T13:01:58.547Z"
   },
   {
    "duration": 7,
    "start_time": "2023-09-12T13:01:58.617Z"
   },
   {
    "duration": 2014,
    "start_time": "2023-09-12T13:01:58.626Z"
   },
   {
    "duration": 687,
    "start_time": "2023-09-12T13:02:00.643Z"
   },
   {
    "duration": 702,
    "start_time": "2023-09-12T13:02:01.333Z"
   },
   {
    "duration": 173368,
    "start_time": "2023-09-12T13:02:02.037Z"
   },
   {
    "duration": 135244,
    "start_time": "2023-09-12T13:04:55.407Z"
   },
   {
    "duration": 3518,
    "start_time": "2023-09-12T13:07:10.653Z"
   },
   {
    "duration": 2841,
    "start_time": "2023-09-12T13:08:16.406Z"
   },
   {
    "duration": 3146,
    "start_time": "2023-09-12T13:08:58.427Z"
   },
   {
    "duration": 27306,
    "start_time": "2023-09-12T13:09:59.073Z"
   },
   {
    "duration": 32481,
    "start_time": "2023-09-12T13:10:31.601Z"
   },
   {
    "duration": 3174,
    "start_time": "2023-09-12T13:11:45.830Z"
   },
   {
    "duration": 4115,
    "start_time": "2023-09-12T13:11:56.103Z"
   },
   {
    "duration": 4228,
    "start_time": "2023-09-12T13:12:07.410Z"
   },
   {
    "duration": 4535,
    "start_time": "2023-09-12T13:12:19.514Z"
   },
   {
    "duration": 32807,
    "start_time": "2023-09-12T13:12:32.154Z"
   },
   {
    "duration": 32465,
    "start_time": "2023-09-12T13:13:18.296Z"
   },
   {
    "duration": 93,
    "start_time": "2023-09-12T13:16:35.645Z"
   },
   {
    "duration": 7,
    "start_time": "2023-09-12T13:16:53.794Z"
   },
   {
    "duration": 6,
    "start_time": "2023-09-12T13:16:58.492Z"
   },
   {
    "duration": 8,
    "start_time": "2023-09-12T13:17:37.971Z"
   },
   {
    "duration": 3,
    "start_time": "2023-09-12T13:18:13.684Z"
   },
   {
    "duration": 4,
    "start_time": "2023-09-12T13:20:15.796Z"
   },
   {
    "duration": 1934,
    "start_time": "2023-09-12T13:20:15.802Z"
   },
   {
    "duration": 925,
    "start_time": "2023-09-12T13:20:17.738Z"
   },
   {
    "duration": 421,
    "start_time": "2023-09-12T13:20:18.666Z"
   },
   {
    "duration": 84,
    "start_time": "2023-09-12T13:20:19.088Z"
   },
   {
    "duration": 26,
    "start_time": "2023-09-12T13:20:19.174Z"
   },
   {
    "duration": 900,
    "start_time": "2023-09-12T13:20:19.202Z"
   },
   {
    "duration": 240,
    "start_time": "2023-09-12T13:20:20.105Z"
   },
   {
    "duration": 9,
    "start_time": "2023-09-12T13:20:20.347Z"
   },
   {
    "duration": 8,
    "start_time": "2023-09-12T13:20:20.360Z"
   },
   {
    "duration": 116,
    "start_time": "2023-09-12T13:20:20.370Z"
   },
   {
    "duration": 57,
    "start_time": "2023-09-12T13:20:20.488Z"
   },
   {
    "duration": 6,
    "start_time": "2023-09-12T13:20:20.547Z"
   },
   {
    "duration": 8,
    "start_time": "2023-09-12T13:20:20.554Z"
   },
   {
    "duration": 47,
    "start_time": "2023-09-12T13:20:20.564Z"
   },
   {
    "duration": 3,
    "start_time": "2023-09-12T13:20:20.613Z"
   },
   {
    "duration": 55,
    "start_time": "2023-09-12T13:20:20.618Z"
   },
   {
    "duration": 7,
    "start_time": "2023-09-12T13:20:20.675Z"
   },
   {
    "duration": 86,
    "start_time": "2023-09-12T13:20:20.683Z"
   },
   {
    "duration": 307,
    "start_time": "2023-09-12T13:20:20.770Z"
   },
   {
    "duration": 302,
    "start_time": "2023-09-12T13:20:21.079Z"
   },
   {
    "duration": 212,
    "start_time": "2023-09-12T13:20:21.383Z"
   },
   {
    "duration": 232,
    "start_time": "2023-09-12T13:20:21.597Z"
   },
   {
    "duration": 221,
    "start_time": "2023-09-12T13:20:21.831Z"
   },
   {
    "duration": 230,
    "start_time": "2023-09-12T13:20:22.054Z"
   },
   {
    "duration": 217,
    "start_time": "2023-09-12T13:20:22.286Z"
   },
   {
    "duration": 18,
    "start_time": "2023-09-12T13:20:22.505Z"
   },
   {
    "duration": 180,
    "start_time": "2023-09-12T13:20:22.527Z"
   },
   {
    "duration": 88,
    "start_time": "2023-09-12T13:20:22.709Z"
   },
   {
    "duration": 8,
    "start_time": "2023-09-12T13:20:22.799Z"
   },
   {
    "duration": 2150,
    "start_time": "2023-09-12T13:20:22.808Z"
   },
   {
    "duration": 704,
    "start_time": "2023-09-12T13:20:24.960Z"
   },
   {
    "duration": 709,
    "start_time": "2023-09-12T13:20:25.666Z"
   },
   {
    "duration": 3,
    "start_time": "2023-09-12T13:20:26.377Z"
   },
   {
    "duration": 171429,
    "start_time": "2023-09-12T13:20:26.382Z"
   },
   {
    "duration": 7843,
    "start_time": "2023-09-12T13:23:17.813Z"
   },
   {
    "duration": 32564,
    "start_time": "2023-09-12T13:23:25.658Z"
   },
   {
    "duration": 7,
    "start_time": "2023-09-12T13:23:58.224Z"
   },
   {
    "duration": 21,
    "start_time": "2023-09-12T13:23:58.232Z"
   },
   {
    "duration": 4,
    "start_time": "2023-09-12T13:33:06.571Z"
   },
   {
    "duration": 1862,
    "start_time": "2023-09-12T13:33:06.577Z"
   },
   {
    "duration": 981,
    "start_time": "2023-09-12T13:33:08.441Z"
   },
   {
    "duration": 364,
    "start_time": "2023-09-12T13:33:09.425Z"
   },
   {
    "duration": 88,
    "start_time": "2023-09-12T13:33:09.790Z"
   },
   {
    "duration": 27,
    "start_time": "2023-09-12T13:33:09.880Z"
   },
   {
    "duration": 834,
    "start_time": "2023-09-12T13:33:09.909Z"
   },
   {
    "duration": 334,
    "start_time": "2023-09-12T13:33:10.745Z"
   },
   {
    "duration": 8,
    "start_time": "2023-09-12T13:33:11.082Z"
   },
   {
    "duration": 18,
    "start_time": "2023-09-12T13:33:11.092Z"
   },
   {
    "duration": 117,
    "start_time": "2023-09-12T13:33:11.112Z"
   },
   {
    "duration": 47,
    "start_time": "2023-09-12T13:33:11.231Z"
   },
   {
    "duration": 6,
    "start_time": "2023-09-12T13:33:11.280Z"
   },
   {
    "duration": 22,
    "start_time": "2023-09-12T13:33:11.287Z"
   },
   {
    "duration": 68,
    "start_time": "2023-09-12T13:33:11.310Z"
   },
   {
    "duration": 3,
    "start_time": "2023-09-12T13:33:11.379Z"
   },
   {
    "duration": 81,
    "start_time": "2023-09-12T13:33:11.384Z"
   },
   {
    "duration": 6,
    "start_time": "2023-09-12T13:33:11.467Z"
   },
   {
    "duration": 97,
    "start_time": "2023-09-12T13:33:11.475Z"
   },
   {
    "duration": 275,
    "start_time": "2023-09-12T13:33:11.574Z"
   },
   {
    "duration": 261,
    "start_time": "2023-09-12T13:33:11.851Z"
   },
   {
    "duration": 201,
    "start_time": "2023-09-12T13:33:12.114Z"
   },
   {
    "duration": 219,
    "start_time": "2023-09-12T13:33:12.317Z"
   },
   {
    "duration": 236,
    "start_time": "2023-09-12T13:33:12.538Z"
   },
   {
    "duration": 251,
    "start_time": "2023-09-12T13:33:12.776Z"
   },
   {
    "duration": 226,
    "start_time": "2023-09-12T13:33:13.029Z"
   },
   {
    "duration": 19,
    "start_time": "2023-09-12T13:33:13.257Z"
   },
   {
    "duration": 154,
    "start_time": "2023-09-12T13:33:13.279Z"
   },
   {
    "duration": 78,
    "start_time": "2023-09-12T13:33:13.435Z"
   },
   {
    "duration": 8,
    "start_time": "2023-09-12T13:33:13.514Z"
   },
   {
    "duration": 2425,
    "start_time": "2023-09-12T13:33:13.523Z"
   },
   {
    "duration": 721,
    "start_time": "2023-09-12T13:33:15.950Z"
   },
   {
    "duration": 741,
    "start_time": "2023-09-12T13:33:16.673Z"
   },
   {
    "duration": 5,
    "start_time": "2023-09-12T13:33:17.415Z"
   },
   {
    "duration": 15005,
    "start_time": "2023-09-12T13:33:17.421Z"
   },
   {
    "duration": 3,
    "start_time": "2023-09-12T13:34:38.872Z"
   },
   {
    "duration": 1976,
    "start_time": "2023-09-12T13:34:38.877Z"
   },
   {
    "duration": 1028,
    "start_time": "2023-09-12T13:34:40.855Z"
   },
   {
    "duration": 374,
    "start_time": "2023-09-12T13:34:41.885Z"
   },
   {
    "duration": 94,
    "start_time": "2023-09-12T13:34:42.261Z"
   },
   {
    "duration": 32,
    "start_time": "2023-09-12T13:34:42.357Z"
   },
   {
    "duration": 978,
    "start_time": "2023-09-12T13:34:42.391Z"
   },
   {
    "duration": 264,
    "start_time": "2023-09-12T13:34:43.372Z"
   },
   {
    "duration": 12,
    "start_time": "2023-09-12T13:34:43.638Z"
   },
   {
    "duration": 26,
    "start_time": "2023-09-12T13:34:43.653Z"
   },
   {
    "duration": 119,
    "start_time": "2023-09-12T13:34:43.682Z"
   },
   {
    "duration": 67,
    "start_time": "2023-09-12T13:34:43.803Z"
   },
   {
    "duration": 5,
    "start_time": "2023-09-12T13:34:43.872Z"
   },
   {
    "duration": 17,
    "start_time": "2023-09-12T13:34:43.879Z"
   },
   {
    "duration": 47,
    "start_time": "2023-09-12T13:34:43.898Z"
   },
   {
    "duration": 3,
    "start_time": "2023-09-12T13:34:43.947Z"
   },
   {
    "duration": 71,
    "start_time": "2023-09-12T13:34:43.951Z"
   },
   {
    "duration": 9,
    "start_time": "2023-09-12T13:34:44.024Z"
   },
   {
    "duration": 138,
    "start_time": "2023-09-12T13:34:44.035Z"
   },
   {
    "duration": 284,
    "start_time": "2023-09-12T13:34:44.176Z"
   },
   {
    "duration": 421,
    "start_time": "2023-09-12T13:34:44.462Z"
   },
   {
    "duration": 248,
    "start_time": "2023-09-12T13:34:44.885Z"
   },
   {
    "duration": 212,
    "start_time": "2023-09-12T13:34:45.135Z"
   },
   {
    "duration": 227,
    "start_time": "2023-09-12T13:34:45.349Z"
   },
   {
    "duration": 240,
    "start_time": "2023-09-12T13:34:45.579Z"
   },
   {
    "duration": 218,
    "start_time": "2023-09-12T13:34:45.821Z"
   },
   {
    "duration": 18,
    "start_time": "2023-09-12T13:34:46.043Z"
   },
   {
    "duration": 163,
    "start_time": "2023-09-12T13:34:46.064Z"
   },
   {
    "duration": 87,
    "start_time": "2023-09-12T13:34:46.229Z"
   },
   {
    "duration": 7,
    "start_time": "2023-09-12T13:34:46.318Z"
   },
   {
    "duration": 2353,
    "start_time": "2023-09-12T13:34:46.327Z"
   },
   {
    "duration": 700,
    "start_time": "2023-09-12T13:34:48.681Z"
   },
   {
    "duration": 711,
    "start_time": "2023-09-12T13:34:49.383Z"
   },
   {
    "duration": 5,
    "start_time": "2023-09-12T13:34:50.096Z"
   },
   {
    "duration": 217082,
    "start_time": "2023-09-12T13:34:50.102Z"
   },
   {
    "duration": 3,
    "start_time": "2023-09-12T13:39:17.964Z"
   },
   {
    "duration": 1864,
    "start_time": "2023-09-12T13:39:17.969Z"
   },
   {
    "duration": 910,
    "start_time": "2023-09-12T13:39:19.835Z"
   },
   {
    "duration": 370,
    "start_time": "2023-09-12T13:39:20.747Z"
   },
   {
    "duration": 85,
    "start_time": "2023-09-12T13:39:21.120Z"
   },
   {
    "duration": 25,
    "start_time": "2023-09-12T13:39:21.207Z"
   },
   {
    "duration": 921,
    "start_time": "2023-09-12T13:39:21.243Z"
   },
   {
    "duration": 259,
    "start_time": "2023-09-12T13:39:22.166Z"
   },
   {
    "duration": 20,
    "start_time": "2023-09-12T13:39:22.428Z"
   },
   {
    "duration": 10,
    "start_time": "2023-09-12T13:39:22.450Z"
   },
   {
    "duration": 144,
    "start_time": "2023-09-12T13:39:22.462Z"
   },
   {
    "duration": 69,
    "start_time": "2023-09-12T13:39:22.608Z"
   },
   {
    "duration": 25,
    "start_time": "2023-09-12T13:39:22.679Z"
   },
   {
    "duration": 24,
    "start_time": "2023-09-12T13:39:22.708Z"
   },
   {
    "duration": 47,
    "start_time": "2023-09-12T13:39:22.735Z"
   },
   {
    "duration": 3,
    "start_time": "2023-09-12T13:39:22.784Z"
   },
   {
    "duration": 56,
    "start_time": "2023-09-12T13:39:22.788Z"
   },
   {
    "duration": 7,
    "start_time": "2023-09-12T13:39:22.845Z"
   },
   {
    "duration": 90,
    "start_time": "2023-09-12T13:39:22.854Z"
   },
   {
    "duration": 272,
    "start_time": "2023-09-12T13:39:22.946Z"
   },
   {
    "duration": 270,
    "start_time": "2023-09-12T13:39:23.219Z"
   },
   {
    "duration": 190,
    "start_time": "2023-09-12T13:39:23.492Z"
   },
   {
    "duration": 254,
    "start_time": "2023-09-12T13:39:23.684Z"
   },
   {
    "duration": 222,
    "start_time": "2023-09-12T13:39:23.943Z"
   },
   {
    "duration": 226,
    "start_time": "2023-09-12T13:39:24.167Z"
   },
   {
    "duration": 206,
    "start_time": "2023-09-12T13:39:24.395Z"
   },
   {
    "duration": 20,
    "start_time": "2023-09-12T13:39:24.603Z"
   },
   {
    "duration": 226,
    "start_time": "2023-09-12T13:39:24.625Z"
   },
   {
    "duration": 77,
    "start_time": "2023-09-12T13:39:24.853Z"
   },
   {
    "duration": 12,
    "start_time": "2023-09-12T13:39:24.932Z"
   },
   {
    "duration": 1942,
    "start_time": "2023-09-12T13:39:24.946Z"
   },
   {
    "duration": 688,
    "start_time": "2023-09-12T13:39:26.889Z"
   },
   {
    "duration": 706,
    "start_time": "2023-09-12T13:39:27.579Z"
   },
   {
    "duration": 4,
    "start_time": "2023-09-12T13:39:28.287Z"
   },
   {
    "duration": 217472,
    "start_time": "2023-09-12T13:39:28.293Z"
   },
   {
    "duration": 3,
    "start_time": "2023-09-12T13:45:20.369Z"
   },
   {
    "duration": 1951,
    "start_time": "2023-09-12T13:45:20.375Z"
   },
   {
    "duration": 959,
    "start_time": "2023-09-12T13:45:22.328Z"
   },
   {
    "duration": 382,
    "start_time": "2023-09-12T13:45:23.289Z"
   },
   {
    "duration": 103,
    "start_time": "2023-09-12T13:45:23.674Z"
   },
   {
    "duration": 44,
    "start_time": "2023-09-12T13:45:23.780Z"
   },
   {
    "duration": 919,
    "start_time": "2023-09-12T13:45:23.826Z"
   },
   {
    "duration": 302,
    "start_time": "2023-09-12T13:45:24.747Z"
   },
   {
    "duration": 10,
    "start_time": "2023-09-12T13:45:25.052Z"
   },
   {
    "duration": 32,
    "start_time": "2023-09-12T13:45:25.065Z"
   },
   {
    "duration": 103,
    "start_time": "2023-09-12T13:45:25.099Z"
   },
   {
    "duration": 54,
    "start_time": "2023-09-12T13:45:25.204Z"
   },
   {
    "duration": 5,
    "start_time": "2023-09-12T13:45:25.260Z"
   },
   {
    "duration": 6,
    "start_time": "2023-09-12T13:45:25.269Z"
   },
   {
    "duration": 46,
    "start_time": "2023-09-12T13:45:25.277Z"
   },
   {
    "duration": 2,
    "start_time": "2023-09-12T13:45:25.326Z"
   },
   {
    "duration": 47,
    "start_time": "2023-09-12T13:45:25.343Z"
   },
   {
    "duration": 8,
    "start_time": "2023-09-12T13:45:25.392Z"
   },
   {
    "duration": 100,
    "start_time": "2023-09-12T13:45:25.403Z"
   },
   {
    "duration": 282,
    "start_time": "2023-09-12T13:45:25.505Z"
   },
   {
    "duration": 288,
    "start_time": "2023-09-12T13:45:25.789Z"
   },
   {
    "duration": 196,
    "start_time": "2023-09-12T13:45:26.079Z"
   },
   {
    "duration": 221,
    "start_time": "2023-09-12T13:45:26.277Z"
   },
   {
    "duration": 237,
    "start_time": "2023-09-12T13:45:26.499Z"
   },
   {
    "duration": 250,
    "start_time": "2023-09-12T13:45:26.738Z"
   },
   {
    "duration": 235,
    "start_time": "2023-09-12T13:45:26.990Z"
   },
   {
    "duration": 23,
    "start_time": "2023-09-12T13:45:27.227Z"
   },
   {
    "duration": 157,
    "start_time": "2023-09-12T13:45:27.252Z"
   },
   {
    "duration": 100,
    "start_time": "2023-09-12T13:45:27.411Z"
   },
   {
    "duration": 15,
    "start_time": "2023-09-12T13:45:27.513Z"
   },
   {
    "duration": 2165,
    "start_time": "2023-09-12T13:45:27.530Z"
   },
   {
    "duration": 725,
    "start_time": "2023-09-12T13:45:29.697Z"
   },
   {
    "duration": 767,
    "start_time": "2023-09-12T13:45:30.424Z"
   },
   {
    "duration": 5,
    "start_time": "2023-09-12T13:45:31.193Z"
   },
   {
    "duration": 214862,
    "start_time": "2023-09-12T13:45:31.199Z"
   },
   {
    "duration": 8084,
    "start_time": "2023-09-12T13:49:06.063Z"
   },
   {
    "duration": 32582,
    "start_time": "2023-09-12T13:49:14.148Z"
   },
   {
    "duration": 13,
    "start_time": "2023-09-12T13:49:46.732Z"
   },
   {
    "duration": 6,
    "start_time": "2023-09-12T13:49:46.747Z"
   },
   {
    "duration": 6,
    "start_time": "2023-09-12T13:50:45.407Z"
   },
   {
    "duration": 66,
    "start_time": "2023-09-12T13:51:13.566Z"
   },
   {
    "duration": 9,
    "start_time": "2023-09-12T13:51:46.596Z"
   },
   {
    "duration": 8,
    "start_time": "2023-09-12T13:51:48.511Z"
   },
   {
    "duration": 9,
    "start_time": "2023-09-12T13:52:24.754Z"
   },
   {
    "duration": 7,
    "start_time": "2023-09-12T13:52:25.914Z"
   },
   {
    "duration": 4,
    "start_time": "2023-09-12T13:54:16.288Z"
   },
   {
    "duration": 5,
    "start_time": "2023-09-12T13:56:22.580Z"
   },
   {
    "duration": 11,
    "start_time": "2023-09-12T13:56:28.060Z"
   },
   {
    "duration": 11,
    "start_time": "2023-09-12T13:56:29.382Z"
   },
   {
    "duration": 21161,
    "start_time": "2023-09-12T13:59:18.695Z"
   },
   {
    "duration": 212,
    "start_time": "2023-09-12T13:59:39.859Z"
   },
   {
    "duration": 108900,
    "start_time": "2023-09-12T13:59:42.782Z"
   },
   {
    "duration": 3,
    "start_time": "2023-09-12T14:01:36.605Z"
   },
   {
    "duration": 1899,
    "start_time": "2023-09-12T14:01:36.612Z"
   },
   {
    "duration": 993,
    "start_time": "2023-09-12T14:01:38.514Z"
   },
   {
    "duration": 358,
    "start_time": "2023-09-12T14:01:39.509Z"
   },
   {
    "duration": 88,
    "start_time": "2023-09-12T14:01:39.868Z"
   },
   {
    "duration": 30,
    "start_time": "2023-09-12T14:01:39.959Z"
   },
   {
    "duration": 908,
    "start_time": "2023-09-12T14:01:39.991Z"
   },
   {
    "duration": 272,
    "start_time": "2023-09-12T14:01:40.902Z"
   },
   {
    "duration": 9,
    "start_time": "2023-09-12T14:01:41.177Z"
   },
   {
    "duration": 9,
    "start_time": "2023-09-12T14:01:41.188Z"
   },
   {
    "duration": 122,
    "start_time": "2023-09-12T14:01:41.198Z"
   },
   {
    "duration": 52,
    "start_time": "2023-09-12T14:01:41.323Z"
   },
   {
    "duration": 5,
    "start_time": "2023-09-12T14:01:41.378Z"
   },
   {
    "duration": 16,
    "start_time": "2023-09-12T14:01:41.385Z"
   },
   {
    "duration": 53,
    "start_time": "2023-09-12T14:01:41.405Z"
   },
   {
    "duration": 2,
    "start_time": "2023-09-12T14:01:41.460Z"
   },
   {
    "duration": 57,
    "start_time": "2023-09-12T14:01:41.464Z"
   },
   {
    "duration": 7,
    "start_time": "2023-09-12T14:01:41.523Z"
   },
   {
    "duration": 83,
    "start_time": "2023-09-12T14:01:41.532Z"
   },
   {
    "duration": 263,
    "start_time": "2023-09-12T14:01:41.616Z"
   },
   {
    "duration": 280,
    "start_time": "2023-09-12T14:01:41.881Z"
   },
   {
    "duration": 190,
    "start_time": "2023-09-12T14:01:42.163Z"
   },
   {
    "duration": 219,
    "start_time": "2023-09-12T14:01:42.355Z"
   },
   {
    "duration": 231,
    "start_time": "2023-09-12T14:01:42.577Z"
   },
   {
    "duration": 243,
    "start_time": "2023-09-12T14:01:42.810Z"
   },
   {
    "duration": 213,
    "start_time": "2023-09-12T14:01:43.055Z"
   },
   {
    "duration": 21,
    "start_time": "2023-09-12T14:01:43.270Z"
   },
   {
    "duration": 158,
    "start_time": "2023-09-12T14:01:43.292Z"
   },
   {
    "duration": 67,
    "start_time": "2023-09-12T14:01:43.453Z"
   },
   {
    "duration": 21,
    "start_time": "2023-09-12T14:01:43.523Z"
   },
   {
    "duration": 1194,
    "start_time": "2023-09-12T14:01:43.546Z"
   },
   {
    "duration": 0,
    "start_time": "2023-09-12T14:01:44.744Z"
   },
   {
    "duration": 0,
    "start_time": "2023-09-12T14:01:44.746Z"
   },
   {
    "duration": 0,
    "start_time": "2023-09-12T14:01:44.748Z"
   },
   {
    "duration": 0,
    "start_time": "2023-09-12T14:01:44.749Z"
   },
   {
    "duration": 0,
    "start_time": "2023-09-12T14:01:44.751Z"
   },
   {
    "duration": 0,
    "start_time": "2023-09-12T14:01:44.752Z"
   },
   {
    "duration": 0,
    "start_time": "2023-09-12T14:01:44.754Z"
   },
   {
    "duration": 0,
    "start_time": "2023-09-12T14:01:44.755Z"
   },
   {
    "duration": 3,
    "start_time": "2023-09-12T14:03:13.093Z"
   },
   {
    "duration": 1949,
    "start_time": "2023-09-12T14:03:13.103Z"
   },
   {
    "duration": 984,
    "start_time": "2023-09-12T14:03:15.055Z"
   },
   {
    "duration": 404,
    "start_time": "2023-09-12T14:03:16.041Z"
   },
   {
    "duration": 84,
    "start_time": "2023-09-12T14:03:16.447Z"
   },
   {
    "duration": 30,
    "start_time": "2023-09-12T14:03:16.544Z"
   },
   {
    "duration": 917,
    "start_time": "2023-09-12T14:03:16.576Z"
   },
   {
    "duration": 280,
    "start_time": "2023-09-12T14:03:17.495Z"
   },
   {
    "duration": 9,
    "start_time": "2023-09-12T14:03:17.776Z"
   },
   {
    "duration": 18,
    "start_time": "2023-09-12T14:03:17.787Z"
   },
   {
    "duration": 117,
    "start_time": "2023-09-12T14:03:17.807Z"
   },
   {
    "duration": 60,
    "start_time": "2023-09-12T14:03:17.927Z"
   },
   {
    "duration": 5,
    "start_time": "2023-09-12T14:03:17.989Z"
   },
   {
    "duration": 18,
    "start_time": "2023-09-12T14:03:17.997Z"
   },
   {
    "duration": 70,
    "start_time": "2023-09-12T14:03:18.018Z"
   },
   {
    "duration": 2,
    "start_time": "2023-09-12T14:03:18.090Z"
   },
   {
    "duration": 70,
    "start_time": "2023-09-12T14:03:18.094Z"
   },
   {
    "duration": 6,
    "start_time": "2023-09-12T14:03:18.166Z"
   },
   {
    "duration": 89,
    "start_time": "2023-09-12T14:03:18.174Z"
   },
   {
    "duration": 315,
    "start_time": "2023-09-12T14:03:18.266Z"
   },
   {
    "duration": 265,
    "start_time": "2023-09-12T14:03:18.583Z"
   },
   {
    "duration": 194,
    "start_time": "2023-09-12T14:03:18.850Z"
   },
   {
    "duration": 229,
    "start_time": "2023-09-12T14:03:19.046Z"
   },
   {
    "duration": 230,
    "start_time": "2023-09-12T14:03:19.277Z"
   },
   {
    "duration": 243,
    "start_time": "2023-09-12T14:03:19.508Z"
   },
   {
    "duration": 218,
    "start_time": "2023-09-12T14:03:19.753Z"
   },
   {
    "duration": 19,
    "start_time": "2023-09-12T14:03:19.972Z"
   },
   {
    "duration": 154,
    "start_time": "2023-09-12T14:03:19.992Z"
   },
   {
    "duration": 73,
    "start_time": "2023-09-12T14:03:20.148Z"
   },
   {
    "duration": 22,
    "start_time": "2023-09-12T14:03:20.223Z"
   },
   {
    "duration": 2359,
    "start_time": "2023-09-12T14:03:20.247Z"
   },
   {
    "duration": 776,
    "start_time": "2023-09-12T14:03:22.609Z"
   },
   {
    "duration": 781,
    "start_time": "2023-09-12T14:03:23.387Z"
   },
   {
    "duration": 5,
    "start_time": "2023-09-12T14:03:24.170Z"
   },
   {
    "duration": 31284,
    "start_time": "2023-09-12T14:03:24.177Z"
   },
   {
    "duration": 302499,
    "start_time": "2023-09-12T14:03:55.463Z"
   },
   {
    "duration": 57,
    "start_time": "2023-09-12T14:08:57.964Z"
   },
   {
    "duration": 0,
    "start_time": "2023-09-12T14:08:58.024Z"
   },
   {
    "duration": 0,
    "start_time": "2023-09-12T14:08:58.025Z"
   },
   {
    "duration": 1,
    "start_time": "2023-09-12T14:08:58.026Z"
   },
   {
    "duration": 3,
    "start_time": "2023-09-12T14:14:19.233Z"
   },
   {
    "duration": 2018,
    "start_time": "2023-09-12T14:14:19.238Z"
   },
   {
    "duration": 939,
    "start_time": "2023-09-12T14:14:21.258Z"
   },
   {
    "duration": 375,
    "start_time": "2023-09-12T14:14:22.199Z"
   },
   {
    "duration": 82,
    "start_time": "2023-09-12T14:14:22.576Z"
   },
   {
    "duration": 28,
    "start_time": "2023-09-12T14:14:22.660Z"
   },
   {
    "duration": 928,
    "start_time": "2023-09-12T14:14:22.690Z"
   },
   {
    "duration": 282,
    "start_time": "2023-09-12T14:14:23.619Z"
   },
   {
    "duration": 8,
    "start_time": "2023-09-12T14:14:23.903Z"
   },
   {
    "duration": 36,
    "start_time": "2023-09-12T14:14:23.913Z"
   },
   {
    "duration": 101,
    "start_time": "2023-09-12T14:14:23.950Z"
   },
   {
    "duration": 45,
    "start_time": "2023-09-12T14:14:24.053Z"
   },
   {
    "duration": 19,
    "start_time": "2023-09-12T14:14:24.100Z"
   },
   {
    "duration": 19,
    "start_time": "2023-09-12T14:14:24.122Z"
   },
   {
    "duration": 67,
    "start_time": "2023-09-12T14:14:24.143Z"
   },
   {
    "duration": 3,
    "start_time": "2023-09-12T14:14:24.212Z"
   },
   {
    "duration": 61,
    "start_time": "2023-09-12T14:14:24.217Z"
   },
   {
    "duration": 6,
    "start_time": "2023-09-12T14:14:24.280Z"
   },
   {
    "duration": 86,
    "start_time": "2023-09-12T14:14:24.288Z"
   },
   {
    "duration": 302,
    "start_time": "2023-09-12T14:14:24.376Z"
   },
   {
    "duration": 286,
    "start_time": "2023-09-12T14:14:24.681Z"
   },
   {
    "duration": 198,
    "start_time": "2023-09-12T14:14:24.968Z"
   },
   {
    "duration": 208,
    "start_time": "2023-09-12T14:14:25.168Z"
   },
   {
    "duration": 224,
    "start_time": "2023-09-12T14:14:25.378Z"
   },
   {
    "duration": 252,
    "start_time": "2023-09-12T14:14:25.604Z"
   },
   {
    "duration": 214,
    "start_time": "2023-09-12T14:14:25.858Z"
   },
   {
    "duration": 18,
    "start_time": "2023-09-12T14:14:26.075Z"
   },
   {
    "duration": 150,
    "start_time": "2023-09-12T14:14:26.095Z"
   },
   {
    "duration": 72,
    "start_time": "2023-09-12T14:14:26.248Z"
   },
   {
    "duration": 25,
    "start_time": "2023-09-12T14:14:26.322Z"
   },
   {
    "duration": 2002,
    "start_time": "2023-09-12T14:14:26.349Z"
   },
   {
    "duration": 677,
    "start_time": "2023-09-12T14:14:28.353Z"
   },
   {
    "duration": 706,
    "start_time": "2023-09-12T14:14:29.032Z"
   },
   {
    "duration": 7,
    "start_time": "2023-09-12T14:14:29.739Z"
   },
   {
    "duration": 14719,
    "start_time": "2023-09-12T14:14:29.747Z"
   },
   {
    "duration": 162,
    "start_time": "2023-09-12T14:14:44.468Z"
   },
   {
    "duration": 138,
    "start_time": "2023-09-12T14:14:44.632Z"
   },
   {
    "duration": 112,
    "start_time": "2023-09-12T14:14:44.772Z"
   },
   {
    "duration": 7,
    "start_time": "2023-09-12T14:14:44.885Z"
   },
   {
    "duration": 3,
    "start_time": "2023-09-12T14:18:21.160Z"
   },
   {
    "duration": 1871,
    "start_time": "2023-09-12T14:18:21.165Z"
   },
   {
    "duration": 975,
    "start_time": "2023-09-12T14:18:23.038Z"
   },
   {
    "duration": 363,
    "start_time": "2023-09-12T14:18:24.015Z"
   },
   {
    "duration": 82,
    "start_time": "2023-09-12T14:18:24.380Z"
   },
   {
    "duration": 27,
    "start_time": "2023-09-12T14:18:24.464Z"
   },
   {
    "duration": 992,
    "start_time": "2023-09-12T14:18:24.493Z"
   },
   {
    "duration": 239,
    "start_time": "2023-09-12T14:18:25.487Z"
   },
   {
    "duration": 19,
    "start_time": "2023-09-12T14:18:25.728Z"
   },
   {
    "duration": 12,
    "start_time": "2023-09-12T14:18:25.749Z"
   },
   {
    "duration": 102,
    "start_time": "2023-09-12T14:18:25.762Z"
   },
   {
    "duration": 46,
    "start_time": "2023-09-12T14:18:25.867Z"
   },
   {
    "duration": 6,
    "start_time": "2023-09-12T14:18:25.915Z"
   },
   {
    "duration": 20,
    "start_time": "2023-09-12T14:18:25.924Z"
   },
   {
    "duration": 45,
    "start_time": "2023-09-12T14:18:25.946Z"
   },
   {
    "duration": 3,
    "start_time": "2023-09-12T14:18:25.993Z"
   },
   {
    "duration": 57,
    "start_time": "2023-09-12T14:18:25.997Z"
   },
   {
    "duration": 6,
    "start_time": "2023-09-12T14:18:26.056Z"
   },
   {
    "duration": 88,
    "start_time": "2023-09-12T14:18:26.064Z"
   },
   {
    "duration": 260,
    "start_time": "2023-09-12T14:18:26.154Z"
   },
   {
    "duration": 271,
    "start_time": "2023-09-12T14:18:26.416Z"
   },
   {
    "duration": 186,
    "start_time": "2023-09-12T14:18:26.689Z"
   },
   {
    "duration": 239,
    "start_time": "2023-09-12T14:18:26.877Z"
   },
   {
    "duration": 211,
    "start_time": "2023-09-12T14:18:27.118Z"
   },
   {
    "duration": 235,
    "start_time": "2023-09-12T14:18:27.331Z"
   },
   {
    "duration": 212,
    "start_time": "2023-09-12T14:18:27.568Z"
   },
   {
    "duration": 21,
    "start_time": "2023-09-12T14:18:27.782Z"
   },
   {
    "duration": 152,
    "start_time": "2023-09-12T14:18:27.805Z"
   },
   {
    "duration": 88,
    "start_time": "2023-09-12T14:18:27.960Z"
   },
   {
    "duration": 12,
    "start_time": "2023-09-12T14:18:28.051Z"
   },
   {
    "duration": 1945,
    "start_time": "2023-09-12T14:18:28.065Z"
   },
   {
    "duration": 714,
    "start_time": "2023-09-12T14:18:30.011Z"
   },
   {
    "duration": 697,
    "start_time": "2023-09-12T14:18:30.727Z"
   },
   {
    "duration": 5,
    "start_time": "2023-09-12T14:18:31.427Z"
   },
   {
    "duration": 216518,
    "start_time": "2023-09-12T14:18:31.434Z"
   },
   {
    "duration": 14195,
    "start_time": "2023-09-12T14:22:07.954Z"
   },
   {
    "duration": 32158,
    "start_time": "2023-09-12T14:22:22.151Z"
   },
   {
    "duration": 8,
    "start_time": "2023-09-12T14:22:54.311Z"
   },
   {
    "duration": 15,
    "start_time": "2023-09-12T14:22:54.320Z"
   },
   {
    "duration": 128,
    "start_time": "2023-09-12T14:31:01.410Z"
   },
   {
    "duration": 11,
    "start_time": "2023-09-12T14:31:26.702Z"
   },
   {
    "duration": 16977,
    "start_time": "2023-09-12T15:01:25.325Z"
   },
   {
    "duration": 15808,
    "start_time": "2023-09-12T15:03:04.495Z"
   },
   {
    "duration": 16350,
    "start_time": "2023-09-12T15:04:49.378Z"
   },
   {
    "duration": 3,
    "start_time": "2023-09-12T15:24:17.039Z"
   },
   {
    "duration": 1877,
    "start_time": "2023-09-12T15:24:17.044Z"
   },
   {
    "duration": 940,
    "start_time": "2023-09-12T15:24:18.923Z"
   },
   {
    "duration": 355,
    "start_time": "2023-09-12T15:24:19.865Z"
   },
   {
    "duration": 91,
    "start_time": "2023-09-12T15:24:20.222Z"
   },
   {
    "duration": 36,
    "start_time": "2023-09-12T15:24:20.316Z"
   },
   {
    "duration": 926,
    "start_time": "2023-09-12T15:24:20.354Z"
   },
   {
    "duration": 240,
    "start_time": "2023-09-12T15:24:21.282Z"
   },
   {
    "duration": 8,
    "start_time": "2023-09-12T15:24:21.523Z"
   },
   {
    "duration": 20,
    "start_time": "2023-09-12T15:24:21.533Z"
   },
   {
    "duration": 116,
    "start_time": "2023-09-12T15:24:21.555Z"
   },
   {
    "duration": 51,
    "start_time": "2023-09-12T15:24:21.673Z"
   },
   {
    "duration": 20,
    "start_time": "2023-09-12T15:24:21.726Z"
   },
   {
    "duration": 10,
    "start_time": "2023-09-12T15:24:21.750Z"
   },
   {
    "duration": 68,
    "start_time": "2023-09-12T15:24:21.762Z"
   },
   {
    "duration": 3,
    "start_time": "2023-09-12T15:24:21.832Z"
   },
   {
    "duration": 44,
    "start_time": "2023-09-12T15:24:21.837Z"
   },
   {
    "duration": 8,
    "start_time": "2023-09-12T15:24:21.883Z"
   },
   {
    "duration": 123,
    "start_time": "2023-09-12T15:24:21.893Z"
   },
   {
    "duration": 267,
    "start_time": "2023-09-12T15:24:22.017Z"
   },
   {
    "duration": 282,
    "start_time": "2023-09-12T15:24:22.286Z"
   },
   {
    "duration": 205,
    "start_time": "2023-09-12T15:24:22.571Z"
   },
   {
    "duration": 209,
    "start_time": "2023-09-12T15:24:22.778Z"
   },
   {
    "duration": 237,
    "start_time": "2023-09-12T15:24:22.989Z"
   },
   {
    "duration": 236,
    "start_time": "2023-09-12T15:24:23.228Z"
   },
   {
    "duration": 217,
    "start_time": "2023-09-12T15:24:23.465Z"
   },
   {
    "duration": 21,
    "start_time": "2023-09-12T15:24:23.684Z"
   },
   {
    "duration": 229,
    "start_time": "2023-09-12T15:24:23.707Z"
   },
   {
    "duration": 83,
    "start_time": "2023-09-12T15:24:23.943Z"
   },
   {
    "duration": 25,
    "start_time": "2023-09-12T15:24:24.028Z"
   },
   {
    "duration": 2394,
    "start_time": "2023-09-12T15:24:24.054Z"
   },
   {
    "duration": 778,
    "start_time": "2023-09-12T15:24:26.451Z"
   },
   {
    "duration": 767,
    "start_time": "2023-09-12T15:24:27.231Z"
   },
   {
    "duration": 6,
    "start_time": "2023-09-12T15:24:27.999Z"
   },
   {
    "duration": 217439,
    "start_time": "2023-09-12T15:24:28.006Z"
   },
   {
    "duration": 535433,
    "start_time": "2023-09-12T15:28:05.447Z"
   },
   {
    "duration": 4,
    "start_time": "2023-09-12T15:37:07.013Z"
   },
   {
    "duration": 1838,
    "start_time": "2023-09-12T15:37:07.019Z"
   },
   {
    "duration": 887,
    "start_time": "2023-09-12T15:37:08.859Z"
   },
   {
    "duration": 360,
    "start_time": "2023-09-12T15:37:09.748Z"
   },
   {
    "duration": 86,
    "start_time": "2023-09-12T15:37:10.110Z"
   },
   {
    "duration": 27,
    "start_time": "2023-09-12T15:37:10.197Z"
   },
   {
    "duration": 802,
    "start_time": "2023-09-12T15:37:10.226Z"
   },
   {
    "duration": 346,
    "start_time": "2023-09-12T15:37:11.030Z"
   },
   {
    "duration": 8,
    "start_time": "2023-09-12T15:37:11.377Z"
   },
   {
    "duration": 22,
    "start_time": "2023-09-12T15:37:11.388Z"
   },
   {
    "duration": 120,
    "start_time": "2023-09-12T15:37:11.411Z"
   },
   {
    "duration": 46,
    "start_time": "2023-09-12T15:37:11.533Z"
   },
   {
    "duration": 19,
    "start_time": "2023-09-12T15:37:11.580Z"
   },
   {
    "duration": 14,
    "start_time": "2023-09-12T15:37:11.601Z"
   },
   {
    "duration": 61,
    "start_time": "2023-09-12T15:37:11.617Z"
   },
   {
    "duration": 2,
    "start_time": "2023-09-12T15:37:11.679Z"
   },
   {
    "duration": 56,
    "start_time": "2023-09-12T15:37:11.683Z"
   },
   {
    "duration": 6,
    "start_time": "2023-09-12T15:37:11.741Z"
   },
   {
    "duration": 88,
    "start_time": "2023-09-12T15:37:11.748Z"
   },
   {
    "duration": 256,
    "start_time": "2023-09-12T15:37:11.837Z"
   },
   {
    "duration": 290,
    "start_time": "2023-09-12T15:37:12.095Z"
   },
   {
    "duration": 191,
    "start_time": "2023-09-12T15:37:12.387Z"
   },
   {
    "duration": 209,
    "start_time": "2023-09-12T15:37:12.580Z"
   },
   {
    "duration": 216,
    "start_time": "2023-09-12T15:37:12.791Z"
   },
   {
    "duration": 238,
    "start_time": "2023-09-12T15:37:13.009Z"
   },
   {
    "duration": 211,
    "start_time": "2023-09-12T15:37:13.248Z"
   },
   {
    "duration": 17,
    "start_time": "2023-09-12T15:37:13.462Z"
   },
   {
    "duration": 143,
    "start_time": "2023-09-12T15:37:13.483Z"
   },
   {
    "duration": 81,
    "start_time": "2023-09-12T15:37:13.628Z"
   },
   {
    "duration": 9,
    "start_time": "2023-09-12T15:37:13.712Z"
   },
   {
    "duration": 1789,
    "start_time": "2023-09-12T15:37:13.723Z"
   },
   {
    "duration": 649,
    "start_time": "2023-09-12T15:37:15.513Z"
   },
   {
    "duration": 666,
    "start_time": "2023-09-12T15:37:16.163Z"
   },
   {
    "duration": 4,
    "start_time": "2023-09-12T15:37:16.831Z"
   },
   {
    "duration": 213016,
    "start_time": "2023-09-12T15:37:16.843Z"
   },
   {
    "duration": 715505,
    "start_time": "2023-09-12T15:40:49.861Z"
   },
   {
    "duration": 31795,
    "start_time": "2023-09-12T15:52:45.368Z"
   },
   {
    "duration": 8,
    "start_time": "2023-09-12T15:53:17.165Z"
   },
   {
    "duration": 16,
    "start_time": "2023-09-12T15:53:17.175Z"
   },
   {
    "duration": 16702,
    "start_time": "2023-09-12T15:53:17.194Z"
   },
   {
    "duration": 18040,
    "start_time": "2023-09-12T15:58:18.617Z"
   },
   {
    "duration": 1746,
    "start_time": "2023-09-12T15:58:36.659Z"
   },
   {
    "duration": 864,
    "start_time": "2023-09-12T15:58:38.408Z"
   },
   {
    "duration": 352,
    "start_time": "2023-09-12T15:58:39.274Z"
   },
   {
    "duration": 85,
    "start_time": "2023-09-12T15:58:39.629Z"
   },
   {
    "duration": 33,
    "start_time": "2023-09-12T15:58:39.716Z"
   },
   {
    "duration": 840,
    "start_time": "2023-09-12T15:58:39.750Z"
   },
   {
    "duration": 255,
    "start_time": "2023-09-12T15:58:40.592Z"
   },
   {
    "duration": 9,
    "start_time": "2023-09-12T15:58:40.848Z"
   },
   {
    "duration": 14,
    "start_time": "2023-09-12T15:58:40.859Z"
   },
   {
    "duration": 102,
    "start_time": "2023-09-12T15:58:40.875Z"
   },
   {
    "duration": 75,
    "start_time": "2023-09-12T15:58:40.978Z"
   },
   {
    "duration": 7,
    "start_time": "2023-09-12T15:58:41.055Z"
   },
   {
    "duration": 5,
    "start_time": "2023-09-12T15:58:41.066Z"
   },
   {
    "duration": 71,
    "start_time": "2023-09-12T15:58:41.073Z"
   },
   {
    "duration": 3,
    "start_time": "2023-09-12T15:58:41.146Z"
   },
   {
    "duration": 45,
    "start_time": "2023-09-12T15:58:41.152Z"
   },
   {
    "duration": 8,
    "start_time": "2023-09-12T15:58:41.199Z"
   },
   {
    "duration": 100,
    "start_time": "2023-09-12T15:58:41.208Z"
   },
   {
    "duration": 266,
    "start_time": "2023-09-12T15:58:41.309Z"
   },
   {
    "duration": 261,
    "start_time": "2023-09-12T15:58:41.577Z"
   },
   {
    "duration": 197,
    "start_time": "2023-09-12T15:58:41.840Z"
   },
   {
    "duration": 206,
    "start_time": "2023-09-12T15:58:42.039Z"
   },
   {
    "duration": 224,
    "start_time": "2023-09-12T15:58:42.247Z"
   },
   {
    "duration": 220,
    "start_time": "2023-09-12T15:58:42.473Z"
   },
   {
    "duration": 199,
    "start_time": "2023-09-12T15:58:42.695Z"
   },
   {
    "duration": 17,
    "start_time": "2023-09-12T15:58:42.896Z"
   },
   {
    "duration": 156,
    "start_time": "2023-09-12T15:58:42.915Z"
   },
   {
    "duration": 80,
    "start_time": "2023-09-12T15:58:43.073Z"
   },
   {
    "duration": 7,
    "start_time": "2023-09-12T15:58:43.155Z"
   },
   {
    "duration": 1840,
    "start_time": "2023-09-12T15:58:43.164Z"
   },
   {
    "duration": 663,
    "start_time": "2023-09-12T15:58:45.005Z"
   },
   {
    "duration": 649,
    "start_time": "2023-09-12T15:58:45.670Z"
   },
   {
    "duration": 4,
    "start_time": "2023-09-12T15:58:46.321Z"
   },
   {
    "duration": 209328,
    "start_time": "2023-09-12T15:58:46.327Z"
   },
   {
    "duration": 220403,
    "start_time": "2023-09-12T16:02:15.657Z"
   },
   {
    "duration": 29947,
    "start_time": "2023-09-12T16:05:56.145Z"
   },
   {
    "duration": 8,
    "start_time": "2023-09-12T16:06:26.093Z"
   },
   {
    "duration": 16,
    "start_time": "2023-09-12T16:06:26.103Z"
   },
   {
    "duration": 15447,
    "start_time": "2023-09-12T16:06:26.121Z"
   },
   {
    "duration": 3,
    "start_time": "2023-09-12T16:09:34.801Z"
   },
   {
    "duration": 1942,
    "start_time": "2023-09-12T16:09:34.806Z"
   },
   {
    "duration": 903,
    "start_time": "2023-09-12T16:09:36.751Z"
   },
   {
    "duration": 361,
    "start_time": "2023-09-12T16:09:37.656Z"
   },
   {
    "duration": 81,
    "start_time": "2023-09-12T16:09:38.021Z"
   },
   {
    "duration": 26,
    "start_time": "2023-09-12T16:09:38.104Z"
   },
   {
    "duration": 850,
    "start_time": "2023-09-12T16:09:38.131Z"
   },
   {
    "duration": 251,
    "start_time": "2023-09-12T16:09:38.983Z"
   },
   {
    "duration": 15,
    "start_time": "2023-09-12T16:09:39.236Z"
   },
   {
    "duration": 16,
    "start_time": "2023-09-12T16:09:39.253Z"
   },
   {
    "duration": 101,
    "start_time": "2023-09-12T16:09:39.271Z"
   },
   {
    "duration": 47,
    "start_time": "2023-09-12T16:09:39.374Z"
   },
   {
    "duration": 7,
    "start_time": "2023-09-12T16:09:39.423Z"
   },
   {
    "duration": 3,
    "start_time": "2023-09-12T16:09:39.443Z"
   },
   {
    "duration": 46,
    "start_time": "2023-09-12T16:09:39.448Z"
   },
   {
    "duration": 3,
    "start_time": "2023-09-12T16:09:39.497Z"
   },
   {
    "duration": 53,
    "start_time": "2023-09-12T16:09:39.502Z"
   },
   {
    "duration": 8,
    "start_time": "2023-09-12T16:09:39.557Z"
   },
   {
    "duration": 85,
    "start_time": "2023-09-12T16:09:39.566Z"
   },
   {
    "duration": 254,
    "start_time": "2023-09-12T16:09:39.653Z"
   },
   {
    "duration": 265,
    "start_time": "2023-09-12T16:09:39.910Z"
   },
   {
    "duration": 188,
    "start_time": "2023-09-12T16:09:40.177Z"
   },
   {
    "duration": 215,
    "start_time": "2023-09-12T16:09:40.367Z"
   },
   {
    "duration": 230,
    "start_time": "2023-09-12T16:09:40.584Z"
   },
   {
    "duration": 236,
    "start_time": "2023-09-12T16:09:40.816Z"
   },
   {
    "duration": 218,
    "start_time": "2023-09-12T16:09:41.054Z"
   },
   {
    "duration": 17,
    "start_time": "2023-09-12T16:09:41.273Z"
   },
   {
    "duration": 145,
    "start_time": "2023-09-12T16:09:41.292Z"
   },
   {
    "duration": 67,
    "start_time": "2023-09-12T16:09:41.444Z"
   },
   {
    "duration": 8,
    "start_time": "2023-09-12T16:09:41.512Z"
   },
   {
    "duration": 1758,
    "start_time": "2023-09-12T16:09:41.522Z"
   },
   {
    "duration": 687,
    "start_time": "2023-09-12T16:09:43.283Z"
   },
   {
    "duration": 711,
    "start_time": "2023-09-12T16:09:43.972Z"
   },
   {
    "duration": 6,
    "start_time": "2023-09-12T16:09:44.686Z"
   },
   {
    "duration": 209717,
    "start_time": "2023-09-12T16:09:44.694Z"
   },
   {
    "duration": 8033,
    "start_time": "2023-09-12T16:13:14.413Z"
   },
   {
    "duration": 31677,
    "start_time": "2023-09-12T16:13:22.448Z"
   },
   {
    "duration": 9,
    "start_time": "2023-09-12T16:13:54.126Z"
   },
   {
    "duration": 32,
    "start_time": "2023-09-12T16:13:54.136Z"
   },
   {
    "duration": 16337,
    "start_time": "2023-09-12T16:13:54.170Z"
   },
   {
    "duration": 11,
    "start_time": "2023-09-12T18:58:51.494Z"
   },
   {
    "duration": 50,
    "start_time": "2023-09-13T11:17:43.237Z"
   },
   {
    "duration": 6,
    "start_time": "2023-09-13T11:17:49.987Z"
   },
   {
    "duration": 5,
    "start_time": "2023-09-13T11:18:13.642Z"
   },
   {
    "duration": 521,
    "start_time": "2023-09-13T11:18:13.649Z"
   },
   {
    "duration": 0,
    "start_time": "2023-09-13T11:18:14.174Z"
   },
   {
    "duration": 0,
    "start_time": "2023-09-13T11:18:14.175Z"
   },
   {
    "duration": 0,
    "start_time": "2023-09-13T11:18:14.178Z"
   },
   {
    "duration": 0,
    "start_time": "2023-09-13T11:18:14.179Z"
   },
   {
    "duration": 0,
    "start_time": "2023-09-13T11:18:14.180Z"
   },
   {
    "duration": 0,
    "start_time": "2023-09-13T11:18:14.181Z"
   },
   {
    "duration": 0,
    "start_time": "2023-09-13T11:18:14.182Z"
   },
   {
    "duration": 0,
    "start_time": "2023-09-13T11:18:14.184Z"
   },
   {
    "duration": 0,
    "start_time": "2023-09-13T11:18:14.184Z"
   },
   {
    "duration": 0,
    "start_time": "2023-09-13T11:18:14.185Z"
   },
   {
    "duration": 0,
    "start_time": "2023-09-13T11:18:14.186Z"
   },
   {
    "duration": 0,
    "start_time": "2023-09-13T11:18:14.188Z"
   },
   {
    "duration": 0,
    "start_time": "2023-09-13T11:18:14.189Z"
   },
   {
    "duration": 0,
    "start_time": "2023-09-13T11:18:14.190Z"
   },
   {
    "duration": 0,
    "start_time": "2023-09-13T11:18:14.191Z"
   },
   {
    "duration": 0,
    "start_time": "2023-09-13T11:18:14.192Z"
   },
   {
    "duration": 0,
    "start_time": "2023-09-13T11:18:14.193Z"
   },
   {
    "duration": 0,
    "start_time": "2023-09-13T11:18:14.195Z"
   },
   {
    "duration": 0,
    "start_time": "2023-09-13T11:18:14.196Z"
   },
   {
    "duration": 0,
    "start_time": "2023-09-13T11:18:14.197Z"
   },
   {
    "duration": 0,
    "start_time": "2023-09-13T11:18:14.198Z"
   },
   {
    "duration": 1,
    "start_time": "2023-09-13T11:18:14.199Z"
   },
   {
    "duration": 0,
    "start_time": "2023-09-13T11:18:14.200Z"
   },
   {
    "duration": 0,
    "start_time": "2023-09-13T11:18:14.202Z"
   },
   {
    "duration": 0,
    "start_time": "2023-09-13T11:18:14.203Z"
   },
   {
    "duration": 0,
    "start_time": "2023-09-13T11:18:14.204Z"
   },
   {
    "duration": 0,
    "start_time": "2023-09-13T11:18:14.204Z"
   },
   {
    "duration": 0,
    "start_time": "2023-09-13T11:18:14.257Z"
   },
   {
    "duration": 0,
    "start_time": "2023-09-13T11:18:14.258Z"
   },
   {
    "duration": 0,
    "start_time": "2023-09-13T11:18:14.260Z"
   },
   {
    "duration": 0,
    "start_time": "2023-09-13T11:18:14.261Z"
   },
   {
    "duration": 0,
    "start_time": "2023-09-13T11:18:14.262Z"
   },
   {
    "duration": 0,
    "start_time": "2023-09-13T11:18:14.263Z"
   },
   {
    "duration": 0,
    "start_time": "2023-09-13T11:18:14.264Z"
   },
   {
    "duration": 0,
    "start_time": "2023-09-13T11:18:14.265Z"
   },
   {
    "duration": 0,
    "start_time": "2023-09-13T11:18:14.266Z"
   },
   {
    "duration": 0,
    "start_time": "2023-09-13T11:18:14.268Z"
   },
   {
    "duration": 0,
    "start_time": "2023-09-13T11:18:14.269Z"
   },
   {
    "duration": 0,
    "start_time": "2023-09-13T11:18:14.270Z"
   },
   {
    "duration": 0,
    "start_time": "2023-09-13T11:18:14.271Z"
   },
   {
    "duration": 71932,
    "start_time": "2023-09-13T11:18:34.261Z"
   },
   {
    "duration": 2373,
    "start_time": "2023-09-13T11:19:46.197Z"
   },
   {
    "duration": 3212,
    "start_time": "2023-09-13T11:19:48.572Z"
   },
   {
    "duration": 383,
    "start_time": "2023-09-13T11:19:51.786Z"
   },
   {
    "duration": 96,
    "start_time": "2023-09-13T11:19:52.171Z"
   },
   {
    "duration": 31,
    "start_time": "2023-09-13T11:19:52.270Z"
   },
   {
    "duration": 964,
    "start_time": "2023-09-13T11:19:52.303Z"
   },
   {
    "duration": 309,
    "start_time": "2023-09-13T11:19:53.269Z"
   },
   {
    "duration": 9,
    "start_time": "2023-09-13T11:19:53.580Z"
   },
   {
    "duration": 47,
    "start_time": "2023-09-13T11:19:53.591Z"
   },
   {
    "duration": 104,
    "start_time": "2023-09-13T11:19:53.640Z"
   },
   {
    "duration": 41,
    "start_time": "2023-09-13T11:19:53.746Z"
   },
   {
    "duration": 28,
    "start_time": "2023-09-13T11:19:53.789Z"
   },
   {
    "duration": 16,
    "start_time": "2023-09-13T11:19:53.821Z"
   },
   {
    "duration": 59,
    "start_time": "2023-09-13T11:19:53.839Z"
   },
   {
    "duration": 3,
    "start_time": "2023-09-13T11:19:53.900Z"
   },
   {
    "duration": 66,
    "start_time": "2023-09-13T11:19:53.904Z"
   },
   {
    "duration": 8,
    "start_time": "2023-09-13T11:19:53.972Z"
   },
   {
    "duration": 86,
    "start_time": "2023-09-13T11:19:53.982Z"
   },
   {
    "duration": 254,
    "start_time": "2023-09-13T11:19:54.070Z"
   },
   {
    "duration": 273,
    "start_time": "2023-09-13T11:19:54.326Z"
   },
   {
    "duration": 159,
    "start_time": "2023-09-13T11:19:54.602Z"
   },
   {
    "duration": 0,
    "start_time": "2023-09-13T11:19:54.763Z"
   },
   {
    "duration": 0,
    "start_time": "2023-09-13T11:19:54.764Z"
   },
   {
    "duration": 0,
    "start_time": "2023-09-13T11:19:54.766Z"
   },
   {
    "duration": 0,
    "start_time": "2023-09-13T11:19:54.767Z"
   },
   {
    "duration": 0,
    "start_time": "2023-09-13T11:19:54.768Z"
   },
   {
    "duration": 0,
    "start_time": "2023-09-13T11:19:54.770Z"
   },
   {
    "duration": 0,
    "start_time": "2023-09-13T11:19:54.771Z"
   },
   {
    "duration": 0,
    "start_time": "2023-09-13T11:19:54.772Z"
   },
   {
    "duration": 0,
    "start_time": "2023-09-13T11:19:54.773Z"
   },
   {
    "duration": 0,
    "start_time": "2023-09-13T11:19:54.774Z"
   },
   {
    "duration": 0,
    "start_time": "2023-09-13T11:19:54.776Z"
   },
   {
    "duration": 0,
    "start_time": "2023-09-13T11:19:54.777Z"
   },
   {
    "duration": 0,
    "start_time": "2023-09-13T11:19:54.778Z"
   },
   {
    "duration": 0,
    "start_time": "2023-09-13T11:19:54.779Z"
   },
   {
    "duration": 0,
    "start_time": "2023-09-13T11:19:54.780Z"
   },
   {
    "duration": 0,
    "start_time": "2023-09-13T11:19:54.781Z"
   },
   {
    "duration": 0,
    "start_time": "2023-09-13T11:19:54.782Z"
   },
   {
    "duration": 1,
    "start_time": "2023-09-13T11:19:54.783Z"
   },
   {
    "duration": 0,
    "start_time": "2023-09-13T11:19:54.785Z"
   },
   {
    "duration": 0,
    "start_time": "2023-09-13T11:19:54.786Z"
   },
   {
    "duration": 102,
    "start_time": "2023-09-13T11:20:09.417Z"
   },
   {
    "duration": 5,
    "start_time": "2023-09-13T11:20:36.536Z"
   },
   {
    "duration": 2131,
    "start_time": "2023-09-13T11:20:36.543Z"
   },
   {
    "duration": 1127,
    "start_time": "2023-09-13T11:20:38.677Z"
   },
   {
    "duration": 395,
    "start_time": "2023-09-13T11:20:39.806Z"
   },
   {
    "duration": 91,
    "start_time": "2023-09-13T11:20:40.203Z"
   },
   {
    "duration": 30,
    "start_time": "2023-09-13T11:20:40.296Z"
   },
   {
    "duration": 1052,
    "start_time": "2023-09-13T11:20:40.329Z"
   },
   {
    "duration": 251,
    "start_time": "2023-09-13T11:20:41.383Z"
   },
   {
    "duration": 8,
    "start_time": "2023-09-13T11:20:41.636Z"
   },
   {
    "duration": 14,
    "start_time": "2023-09-13T11:20:41.657Z"
   },
   {
    "duration": 95,
    "start_time": "2023-09-13T11:20:41.675Z"
   },
   {
    "duration": 42,
    "start_time": "2023-09-13T11:20:41.772Z"
   },
   {
    "duration": 257,
    "start_time": "2023-09-13T11:20:41.817Z"
   },
   {
    "duration": 172,
    "start_time": "2023-09-13T11:20:42.076Z"
   },
   {
    "duration": 49,
    "start_time": "2023-09-13T11:20:42.250Z"
   },
   {
    "duration": 2,
    "start_time": "2023-09-13T11:20:42.301Z"
   },
   {
    "duration": 40,
    "start_time": "2023-09-13T11:20:42.305Z"
   },
   {
    "duration": 17,
    "start_time": "2023-09-13T11:20:42.347Z"
   },
   {
    "duration": 70,
    "start_time": "2023-09-13T11:20:42.365Z"
   },
   {
    "duration": 245,
    "start_time": "2023-09-13T11:20:42.437Z"
   },
   {
    "duration": 242,
    "start_time": "2023-09-13T11:20:42.684Z"
   },
   {
    "duration": 111,
    "start_time": "2023-09-13T11:20:42.928Z"
   },
   {
    "duration": 118,
    "start_time": "2023-09-13T11:20:43.041Z"
   },
   {
    "duration": 225,
    "start_time": "2023-09-13T11:20:43.160Z"
   },
   {
    "duration": 264,
    "start_time": "2023-09-13T11:20:43.387Z"
   },
   {
    "duration": 285,
    "start_time": "2023-09-13T11:20:43.653Z"
   },
   {
    "duration": 255,
    "start_time": "2023-09-13T11:20:43.941Z"
   },
   {
    "duration": 20,
    "start_time": "2023-09-13T11:20:44.198Z"
   },
   {
    "duration": 162,
    "start_time": "2023-09-13T11:20:44.222Z"
   },
   {
    "duration": 84,
    "start_time": "2023-09-13T11:20:44.386Z"
   },
   {
    "duration": 8,
    "start_time": "2023-09-13T11:20:44.472Z"
   },
   {
    "duration": 34,
    "start_time": "2023-09-13T11:20:44.482Z"
   },
   {
    "duration": 2032,
    "start_time": "2023-09-13T11:20:44.517Z"
   },
   {
    "duration": 735,
    "start_time": "2023-09-13T11:20:46.551Z"
   },
   {
    "duration": 739,
    "start_time": "2023-09-13T11:20:47.288Z"
   },
   {
    "duration": 6,
    "start_time": "2023-09-13T11:20:48.029Z"
   },
   {
    "duration": 2349,
    "start_time": "2023-09-13T11:20:48.037Z"
   },
   {
    "duration": 10483,
    "start_time": "2023-09-13T11:20:50.388Z"
   },
   {
    "duration": 34675,
    "start_time": "2023-09-13T11:21:00.957Z"
   },
   {
    "duration": 10,
    "start_time": "2023-09-13T11:21:35.634Z"
   },
   {
    "duration": 253,
    "start_time": "2023-09-13T11:21:35.645Z"
   },
   {
    "duration": 3,
    "start_time": "2023-09-13T11:21:45.936Z"
   },
   {
    "duration": 2157,
    "start_time": "2023-09-13T11:21:45.941Z"
   },
   {
    "duration": 1075,
    "start_time": "2023-09-13T11:21:48.101Z"
   },
   {
    "duration": 424,
    "start_time": "2023-09-13T11:21:49.179Z"
   },
   {
    "duration": 97,
    "start_time": "2023-09-13T11:21:49.605Z"
   },
   {
    "duration": 29,
    "start_time": "2023-09-13T11:21:49.704Z"
   },
   {
    "duration": 1041,
    "start_time": "2023-09-13T11:21:49.736Z"
   },
   {
    "duration": 269,
    "start_time": "2023-09-13T11:21:50.780Z"
   },
   {
    "duration": 9,
    "start_time": "2023-09-13T11:21:51.056Z"
   },
   {
    "duration": 44,
    "start_time": "2023-09-13T11:21:51.068Z"
   },
   {
    "duration": 93,
    "start_time": "2023-09-13T11:21:51.116Z"
   },
   {
    "duration": 49,
    "start_time": "2023-09-13T11:21:51.211Z"
   },
   {
    "duration": 6,
    "start_time": "2023-09-13T11:21:51.262Z"
   },
   {
    "duration": 30,
    "start_time": "2023-09-13T11:21:51.270Z"
   },
   {
    "duration": 73,
    "start_time": "2023-09-13T11:21:51.301Z"
   },
   {
    "duration": 3,
    "start_time": "2023-09-13T11:21:51.376Z"
   },
   {
    "duration": 54,
    "start_time": "2023-09-13T11:21:51.381Z"
   },
   {
    "duration": 19,
    "start_time": "2023-09-13T11:21:51.437Z"
   },
   {
    "duration": 73,
    "start_time": "2023-09-13T11:21:51.459Z"
   },
   {
    "duration": 238,
    "start_time": "2023-09-13T11:21:51.534Z"
   },
   {
    "duration": 236,
    "start_time": "2023-09-13T11:21:51.775Z"
   },
   {
    "duration": 107,
    "start_time": "2023-09-13T11:21:52.014Z"
   },
   {
    "duration": 159,
    "start_time": "2023-09-13T11:21:52.123Z"
   },
   {
    "duration": 209,
    "start_time": "2023-09-13T11:21:52.284Z"
   },
   {
    "duration": 248,
    "start_time": "2023-09-13T11:21:52.495Z"
   },
   {
    "duration": 277,
    "start_time": "2023-09-13T11:21:52.746Z"
   },
   {
    "duration": 240,
    "start_time": "2023-09-13T11:21:53.025Z"
   },
   {
    "duration": 21,
    "start_time": "2023-09-13T11:21:53.268Z"
   },
   {
    "duration": 167,
    "start_time": "2023-09-13T11:21:53.294Z"
   },
   {
    "duration": 92,
    "start_time": "2023-09-13T11:21:53.464Z"
   },
   {
    "duration": 7,
    "start_time": "2023-09-13T11:21:53.559Z"
   },
   {
    "duration": 73,
    "start_time": "2023-09-13T11:21:53.568Z"
   },
   {
    "duration": 1969,
    "start_time": "2023-09-13T11:21:53.643Z"
   },
   {
    "duration": 745,
    "start_time": "2023-09-13T11:21:55.614Z"
   },
   {
    "duration": 741,
    "start_time": "2023-09-13T11:21:56.361Z"
   },
   {
    "duration": 5,
    "start_time": "2023-09-13T11:21:57.105Z"
   },
   {
    "duration": 1420,
    "start_time": "2023-09-13T11:21:57.112Z"
   },
   {
    "duration": 9838,
    "start_time": "2023-09-13T11:21:58.534Z"
   },
   {
    "duration": 34612,
    "start_time": "2023-09-13T11:22:08.374Z"
   },
   {
    "duration": 10,
    "start_time": "2023-09-13T11:22:42.988Z"
   },
   {
    "duration": 15,
    "start_time": "2023-09-13T11:22:43.000Z"
   },
   {
    "duration": 17836,
    "start_time": "2023-09-13T11:22:43.017Z"
   },
   {
    "duration": 4,
    "start_time": "2023-09-13T11:24:47.967Z"
   },
   {
    "duration": 2056,
    "start_time": "2023-09-13T11:24:47.974Z"
   },
   {
    "duration": 1028,
    "start_time": "2023-09-13T11:24:50.033Z"
   },
   {
    "duration": 387,
    "start_time": "2023-09-13T11:24:51.063Z"
   },
   {
    "duration": 89,
    "start_time": "2023-09-13T11:24:51.457Z"
   },
   {
    "duration": 30,
    "start_time": "2023-09-13T11:24:51.556Z"
   },
   {
    "duration": 1051,
    "start_time": "2023-09-13T11:24:51.588Z"
   },
   {
    "duration": 322,
    "start_time": "2023-09-13T11:24:52.640Z"
   },
   {
    "duration": 9,
    "start_time": "2023-09-13T11:24:52.964Z"
   },
   {
    "duration": 9,
    "start_time": "2023-09-13T11:24:52.976Z"
   },
   {
    "duration": 109,
    "start_time": "2023-09-13T11:24:52.988Z"
   },
   {
    "duration": 39,
    "start_time": "2023-09-13T11:24:53.099Z"
   },
   {
    "duration": 45,
    "start_time": "2023-09-13T11:24:53.141Z"
   },
   {
    "duration": 22,
    "start_time": "2023-09-13T11:24:53.188Z"
   },
   {
    "duration": 42,
    "start_time": "2023-09-13T11:24:53.212Z"
   },
   {
    "duration": 3,
    "start_time": "2023-09-13T11:24:53.256Z"
   },
   {
    "duration": 76,
    "start_time": "2023-09-13T11:24:53.261Z"
   },
   {
    "duration": 8,
    "start_time": "2023-09-13T11:24:53.339Z"
   },
   {
    "duration": 119,
    "start_time": "2023-09-13T11:24:53.349Z"
   },
   {
    "duration": 294,
    "start_time": "2023-09-13T11:24:53.470Z"
   },
   {
    "duration": 252,
    "start_time": "2023-09-13T11:24:53.766Z"
   },
   {
    "duration": 111,
    "start_time": "2023-09-13T11:24:54.020Z"
   },
   {
    "duration": 160,
    "start_time": "2023-09-13T11:24:54.133Z"
   },
   {
    "duration": 226,
    "start_time": "2023-09-13T11:24:54.296Z"
   },
   {
    "duration": 248,
    "start_time": "2023-09-13T11:24:54.524Z"
   },
   {
    "duration": 262,
    "start_time": "2023-09-13T11:24:54.774Z"
   },
   {
    "duration": 230,
    "start_time": "2023-09-13T11:24:55.039Z"
   },
   {
    "duration": 22,
    "start_time": "2023-09-13T11:24:55.271Z"
   },
   {
    "duration": 161,
    "start_time": "2023-09-13T11:24:55.297Z"
   },
   {
    "duration": 75,
    "start_time": "2023-09-13T11:24:55.460Z"
   },
   {
    "duration": 106,
    "start_time": "2023-09-13T11:24:55.538Z"
   },
   {
    "duration": 13,
    "start_time": "2023-09-13T11:24:55.656Z"
   },
   {
    "duration": 41,
    "start_time": "2023-09-13T11:24:55.671Z"
   },
   {
    "duration": 1783,
    "start_time": "2023-09-13T11:24:55.714Z"
   },
   {
    "duration": 0,
    "start_time": "2023-09-13T11:24:57.499Z"
   },
   {
    "duration": 0,
    "start_time": "2023-09-13T11:24:57.500Z"
   },
   {
    "duration": 0,
    "start_time": "2023-09-13T11:24:57.501Z"
   },
   {
    "duration": 0,
    "start_time": "2023-09-13T11:24:57.502Z"
   },
   {
    "duration": 0,
    "start_time": "2023-09-13T11:24:57.504Z"
   },
   {
    "duration": 0,
    "start_time": "2023-09-13T11:24:57.505Z"
   },
   {
    "duration": 0,
    "start_time": "2023-09-13T11:24:57.506Z"
   },
   {
    "duration": 0,
    "start_time": "2023-09-13T11:24:57.508Z"
   },
   {
    "duration": 0,
    "start_time": "2023-09-13T11:24:57.508Z"
   },
   {
    "duration": 111,
    "start_time": "2023-09-13T11:26:44.876Z"
   },
   {
    "duration": 4,
    "start_time": "2023-09-13T11:30:35.549Z"
   },
   {
    "duration": 2035,
    "start_time": "2023-09-13T11:30:35.555Z"
   },
   {
    "duration": 1123,
    "start_time": "2023-09-13T11:30:37.593Z"
   },
   {
    "duration": 464,
    "start_time": "2023-09-13T11:30:38.719Z"
   },
   {
    "duration": 90,
    "start_time": "2023-09-13T11:30:39.185Z"
   },
   {
    "duration": 29,
    "start_time": "2023-09-13T11:30:39.277Z"
   },
   {
    "duration": 1062,
    "start_time": "2023-09-13T11:30:39.308Z"
   },
   {
    "duration": 274,
    "start_time": "2023-09-13T11:30:40.372Z"
   },
   {
    "duration": 9,
    "start_time": "2023-09-13T11:30:40.657Z"
   },
   {
    "duration": 120,
    "start_time": "2023-09-13T11:30:40.673Z"
   },
   {
    "duration": 61,
    "start_time": "2023-09-13T11:30:40.796Z"
   },
   {
    "duration": 7,
    "start_time": "2023-09-13T11:30:40.859Z"
   },
   {
    "duration": 6,
    "start_time": "2023-09-13T11:30:40.868Z"
   },
   {
    "duration": 56,
    "start_time": "2023-09-13T11:30:40.876Z"
   },
   {
    "duration": 22,
    "start_time": "2023-09-13T11:30:40.934Z"
   },
   {
    "duration": 73,
    "start_time": "2023-09-13T11:30:40.958Z"
   },
   {
    "duration": 8,
    "start_time": "2023-09-13T11:30:41.032Z"
   },
   {
    "duration": 82,
    "start_time": "2023-09-13T11:30:41.041Z"
   },
   {
    "duration": 259,
    "start_time": "2023-09-13T11:30:41.124Z"
   },
   {
    "duration": 273,
    "start_time": "2023-09-13T11:30:41.386Z"
   },
   {
    "duration": 215,
    "start_time": "2023-09-13T11:30:41.661Z"
   },
   {
    "duration": 267,
    "start_time": "2023-09-13T11:30:41.878Z"
   },
   {
    "duration": 292,
    "start_time": "2023-09-13T11:30:42.147Z"
   },
   {
    "duration": 391,
    "start_time": "2023-09-13T11:30:42.441Z"
   },
   {
    "duration": 308,
    "start_time": "2023-09-13T11:30:42.834Z"
   },
   {
    "duration": 29,
    "start_time": "2023-09-13T11:30:43.144Z"
   },
   {
    "duration": 191,
    "start_time": "2023-09-13T11:30:43.175Z"
   },
   {
    "duration": 117,
    "start_time": "2023-09-13T11:30:43.368Z"
   },
   {
    "duration": 111,
    "start_time": "2023-09-13T11:30:43.489Z"
   },
   {
    "duration": 9,
    "start_time": "2023-09-13T11:30:43.602Z"
   },
   {
    "duration": 58,
    "start_time": "2023-09-13T11:30:43.613Z"
   },
   {
    "duration": 832,
    "start_time": "2023-09-13T11:30:43.673Z"
   },
   {
    "duration": 0,
    "start_time": "2023-09-13T11:30:44.507Z"
   },
   {
    "duration": 0,
    "start_time": "2023-09-13T11:30:44.509Z"
   },
   {
    "duration": 0,
    "start_time": "2023-09-13T11:30:44.510Z"
   },
   {
    "duration": 0,
    "start_time": "2023-09-13T11:30:44.511Z"
   },
   {
    "duration": 0,
    "start_time": "2023-09-13T11:30:44.513Z"
   },
   {
    "duration": 0,
    "start_time": "2023-09-13T11:30:44.515Z"
   },
   {
    "duration": 0,
    "start_time": "2023-09-13T11:30:44.516Z"
   },
   {
    "duration": 0,
    "start_time": "2023-09-13T11:30:44.518Z"
   },
   {
    "duration": 0,
    "start_time": "2023-09-13T11:30:44.520Z"
   },
   {
    "duration": 3,
    "start_time": "2023-09-13T11:31:58.282Z"
   },
   {
    "duration": 2107,
    "start_time": "2023-09-13T11:31:58.287Z"
   },
   {
    "duration": 1094,
    "start_time": "2023-09-13T11:32:00.397Z"
   },
   {
    "duration": 376,
    "start_time": "2023-09-13T11:32:01.493Z"
   },
   {
    "duration": 94,
    "start_time": "2023-09-13T11:32:01.871Z"
   },
   {
    "duration": 30,
    "start_time": "2023-09-13T11:32:01.967Z"
   },
   {
    "duration": 1042,
    "start_time": "2023-09-13T11:32:01.999Z"
   },
   {
    "duration": 257,
    "start_time": "2023-09-13T11:32:03.043Z"
   },
   {
    "duration": 10,
    "start_time": "2023-09-13T11:32:03.301Z"
   },
   {
    "duration": 121,
    "start_time": "2023-09-13T11:32:03.312Z"
   },
   {
    "duration": 47,
    "start_time": "2023-09-13T11:32:03.435Z"
   },
   {
    "duration": 5,
    "start_time": "2023-09-13T11:32:03.484Z"
   },
   {
    "duration": 3,
    "start_time": "2023-09-13T11:32:03.491Z"
   },
   {
    "duration": 73,
    "start_time": "2023-09-13T11:32:03.495Z"
   },
   {
    "duration": 3,
    "start_time": "2023-09-13T11:32:03.570Z"
   },
   {
    "duration": 53,
    "start_time": "2023-09-13T11:32:03.575Z"
   },
   {
    "duration": 7,
    "start_time": "2023-09-13T11:32:03.631Z"
   },
   {
    "duration": 104,
    "start_time": "2023-09-13T11:32:03.640Z"
   },
   {
    "duration": 257,
    "start_time": "2023-09-13T11:32:03.746Z"
   },
   {
    "duration": 273,
    "start_time": "2023-09-13T11:32:04.005Z"
   },
   {
    "duration": 229,
    "start_time": "2023-09-13T11:32:04.280Z"
   },
   {
    "duration": 266,
    "start_time": "2023-09-13T11:32:04.511Z"
   },
   {
    "duration": 280,
    "start_time": "2023-09-13T11:32:04.778Z"
   },
   {
    "duration": 358,
    "start_time": "2023-09-13T11:32:05.060Z"
   },
   {
    "duration": 294,
    "start_time": "2023-09-13T11:32:05.420Z"
   },
   {
    "duration": 28,
    "start_time": "2023-09-13T11:32:05.716Z"
   },
   {
    "duration": 147,
    "start_time": "2023-09-13T11:32:05.746Z"
   },
   {
    "duration": 176,
    "start_time": "2023-09-13T11:32:05.896Z"
   },
   {
    "duration": 124,
    "start_time": "2023-09-13T11:32:06.076Z"
   },
   {
    "duration": 8,
    "start_time": "2023-09-13T11:32:06.202Z"
   },
   {
    "duration": 57,
    "start_time": "2023-09-13T11:32:06.212Z"
   },
   {
    "duration": 1702,
    "start_time": "2023-09-13T11:32:06.271Z"
   },
   {
    "duration": 0,
    "start_time": "2023-09-13T11:32:07.976Z"
   },
   {
    "duration": 0,
    "start_time": "2023-09-13T11:32:07.978Z"
   },
   {
    "duration": 0,
    "start_time": "2023-09-13T11:32:07.980Z"
   },
   {
    "duration": 0,
    "start_time": "2023-09-13T11:32:07.980Z"
   },
   {
    "duration": 0,
    "start_time": "2023-09-13T11:32:07.982Z"
   },
   {
    "duration": 0,
    "start_time": "2023-09-13T11:32:07.985Z"
   },
   {
    "duration": 0,
    "start_time": "2023-09-13T11:32:07.987Z"
   },
   {
    "duration": 0,
    "start_time": "2023-09-13T11:32:07.989Z"
   },
   {
    "duration": 0,
    "start_time": "2023-09-13T11:32:07.990Z"
   },
   {
    "duration": 4,
    "start_time": "2023-09-13T11:33:58.692Z"
   },
   {
    "duration": 2201,
    "start_time": "2023-09-13T11:33:58.698Z"
   },
   {
    "duration": 1079,
    "start_time": "2023-09-13T11:34:00.902Z"
   },
   {
    "duration": 444,
    "start_time": "2023-09-13T11:34:01.983Z"
   },
   {
    "duration": 103,
    "start_time": "2023-09-13T11:34:02.430Z"
   },
   {
    "duration": 34,
    "start_time": "2023-09-13T11:34:02.535Z"
   },
   {
    "duration": 1092,
    "start_time": "2023-09-13T11:34:02.571Z"
   },
   {
    "duration": 275,
    "start_time": "2023-09-13T11:34:03.666Z"
   },
   {
    "duration": 17,
    "start_time": "2023-09-13T11:34:03.943Z"
   },
   {
    "duration": 109,
    "start_time": "2023-09-13T11:34:03.962Z"
   },
   {
    "duration": 48,
    "start_time": "2023-09-13T11:34:04.074Z"
   },
   {
    "duration": 6,
    "start_time": "2023-09-13T11:34:04.124Z"
   },
   {
    "duration": 3,
    "start_time": "2023-09-13T11:34:04.132Z"
   },
   {
    "duration": 55,
    "start_time": "2023-09-13T11:34:04.158Z"
   },
   {
    "duration": 4,
    "start_time": "2023-09-13T11:34:04.215Z"
   },
   {
    "duration": 62,
    "start_time": "2023-09-13T11:34:04.221Z"
   },
   {
    "duration": 8,
    "start_time": "2023-09-13T11:34:04.286Z"
   },
   {
    "duration": 98,
    "start_time": "2023-09-13T11:34:04.297Z"
   },
   {
    "duration": 276,
    "start_time": "2023-09-13T11:34:04.397Z"
   },
   {
    "duration": 298,
    "start_time": "2023-09-13T11:34:04.675Z"
   },
   {
    "duration": 238,
    "start_time": "2023-09-13T11:34:04.975Z"
   },
   {
    "duration": 282,
    "start_time": "2023-09-13T11:34:05.215Z"
   },
   {
    "duration": 294,
    "start_time": "2023-09-13T11:34:05.499Z"
   },
   {
    "duration": 368,
    "start_time": "2023-09-13T11:34:05.795Z"
   },
   {
    "duration": 293,
    "start_time": "2023-09-13T11:34:06.165Z"
   },
   {
    "duration": 27,
    "start_time": "2023-09-13T11:34:06.460Z"
   },
   {
    "duration": 144,
    "start_time": "2023-09-13T11:34:06.489Z"
   },
   {
    "duration": 186,
    "start_time": "2023-09-13T11:34:06.635Z"
   },
   {
    "duration": 131,
    "start_time": "2023-09-13T11:34:06.825Z"
   },
   {
    "duration": 11,
    "start_time": "2023-09-13T11:34:06.959Z"
   },
   {
    "duration": 49,
    "start_time": "2023-09-13T11:34:06.972Z"
   },
   {
    "duration": 3218,
    "start_time": "2023-09-13T11:34:07.023Z"
   },
   {
    "duration": 946,
    "start_time": "2023-09-13T11:34:10.243Z"
   },
   {
    "duration": 947,
    "start_time": "2023-09-13T11:34:11.190Z"
   },
   {
    "duration": 5,
    "start_time": "2023-09-13T11:34:12.139Z"
   },
   {
    "duration": 319571,
    "start_time": "2023-09-13T11:34:12.146Z"
   },
   {
    "duration": 10445,
    "start_time": "2023-09-13T11:39:31.719Z"
   },
   {
    "duration": 41905,
    "start_time": "2023-09-13T11:39:42.166Z"
   },
   {
    "duration": 10,
    "start_time": "2023-09-13T11:40:24.073Z"
   },
   {
    "duration": 22322,
    "start_time": "2023-09-13T11:40:24.085Z"
   },
   {
    "duration": 10,
    "start_time": "2023-09-13T11:40:46.409Z"
   },
   {
    "duration": 3,
    "start_time": "2023-09-13T11:55:36.870Z"
   },
   {
    "duration": 2148,
    "start_time": "2023-09-13T11:55:36.875Z"
   },
   {
    "duration": 1049,
    "start_time": "2023-09-13T11:55:39.025Z"
   },
   {
    "duration": 406,
    "start_time": "2023-09-13T11:55:40.076Z"
   },
   {
    "duration": 106,
    "start_time": "2023-09-13T11:55:40.485Z"
   },
   {
    "duration": 33,
    "start_time": "2023-09-13T11:55:40.594Z"
   },
   {
    "duration": 1028,
    "start_time": "2023-09-13T11:55:40.629Z"
   },
   {
    "duration": 255,
    "start_time": "2023-09-13T11:55:41.660Z"
   },
   {
    "duration": 10,
    "start_time": "2023-09-13T11:55:41.917Z"
   },
   {
    "duration": 123,
    "start_time": "2023-09-13T11:55:41.929Z"
   },
   {
    "duration": 47,
    "start_time": "2023-09-13T11:55:42.058Z"
   },
   {
    "duration": 10,
    "start_time": "2023-09-13T11:55:42.107Z"
   },
   {
    "duration": 7,
    "start_time": "2023-09-13T11:55:42.119Z"
   },
   {
    "duration": 68,
    "start_time": "2023-09-13T11:55:42.128Z"
   },
   {
    "duration": 2,
    "start_time": "2023-09-13T11:55:42.198Z"
   },
   {
    "duration": 67,
    "start_time": "2023-09-13T11:55:42.202Z"
   },
   {
    "duration": 8,
    "start_time": "2023-09-13T11:55:42.271Z"
   },
   {
    "duration": 100,
    "start_time": "2023-09-13T11:55:42.281Z"
   },
   {
    "duration": 274,
    "start_time": "2023-09-13T11:55:42.383Z"
   },
   {
    "duration": 284,
    "start_time": "2023-09-13T11:55:42.660Z"
   },
   {
    "duration": 227,
    "start_time": "2023-09-13T11:55:42.946Z"
   },
   {
    "duration": 285,
    "start_time": "2023-09-13T11:55:43.175Z"
   },
   {
    "duration": 315,
    "start_time": "2023-09-13T11:55:43.462Z"
   },
   {
    "duration": 396,
    "start_time": "2023-09-13T11:55:43.779Z"
   },
   {
    "duration": 304,
    "start_time": "2023-09-13T11:55:44.177Z"
   },
   {
    "duration": 29,
    "start_time": "2023-09-13T11:55:44.483Z"
   },
   {
    "duration": 135,
    "start_time": "2023-09-13T11:55:44.515Z"
   },
   {
    "duration": 152,
    "start_time": "2023-09-13T11:55:44.652Z"
   },
   {
    "duration": 110,
    "start_time": "2023-09-13T11:55:44.807Z"
   },
   {
    "duration": 13,
    "start_time": "2023-09-13T11:55:44.919Z"
   },
   {
    "duration": 51,
    "start_time": "2023-09-13T11:55:44.934Z"
   },
   {
    "duration": 3095,
    "start_time": "2023-09-13T11:55:44.987Z"
   },
   {
    "duration": 938,
    "start_time": "2023-09-13T11:55:48.084Z"
   },
   {
    "duration": 932,
    "start_time": "2023-09-13T11:55:49.024Z"
   },
   {
    "duration": 5,
    "start_time": "2023-09-13T11:55:49.958Z"
   },
   {
    "duration": 270756,
    "start_time": "2023-09-13T11:55:49.964Z"
   },
   {
    "duration": 9052,
    "start_time": "2023-09-13T12:00:20.722Z"
   },
   {
    "duration": 37247,
    "start_time": "2023-09-13T12:00:29.856Z"
   },
   {
    "duration": 9,
    "start_time": "2023-09-13T12:01:07.105Z"
   },
   {
    "duration": 19195,
    "start_time": "2023-09-13T12:01:07.116Z"
   },
   {
    "duration": 7,
    "start_time": "2023-09-13T12:01:26.313Z"
   },
   {
    "duration": 3,
    "start_time": "2023-09-14T10:37:10.046Z"
   },
   {
    "duration": 466,
    "start_time": "2023-09-14T10:37:10.051Z"
   },
   {
    "duration": 0,
    "start_time": "2023-09-14T10:37:10.519Z"
   },
   {
    "duration": 0,
    "start_time": "2023-09-14T10:37:10.521Z"
   },
   {
    "duration": 0,
    "start_time": "2023-09-14T10:37:10.522Z"
   },
   {
    "duration": 0,
    "start_time": "2023-09-14T10:37:10.523Z"
   },
   {
    "duration": 0,
    "start_time": "2023-09-14T10:37:10.524Z"
   },
   {
    "duration": 0,
    "start_time": "2023-09-14T10:37:10.526Z"
   },
   {
    "duration": 0,
    "start_time": "2023-09-14T10:37:10.527Z"
   },
   {
    "duration": 0,
    "start_time": "2023-09-14T10:37:10.545Z"
   },
   {
    "duration": 0,
    "start_time": "2023-09-14T10:37:10.546Z"
   },
   {
    "duration": 0,
    "start_time": "2023-09-14T10:37:10.547Z"
   },
   {
    "duration": 0,
    "start_time": "2023-09-14T10:37:10.549Z"
   },
   {
    "duration": 0,
    "start_time": "2023-09-14T10:37:10.550Z"
   },
   {
    "duration": 0,
    "start_time": "2023-09-14T10:37:10.551Z"
   },
   {
    "duration": 0,
    "start_time": "2023-09-14T10:37:10.552Z"
   },
   {
    "duration": 0,
    "start_time": "2023-09-14T10:37:10.553Z"
   },
   {
    "duration": 0,
    "start_time": "2023-09-14T10:37:10.554Z"
   },
   {
    "duration": 0,
    "start_time": "2023-09-14T10:37:10.555Z"
   },
   {
    "duration": 0,
    "start_time": "2023-09-14T10:37:10.557Z"
   },
   {
    "duration": 0,
    "start_time": "2023-09-14T10:37:10.558Z"
   },
   {
    "duration": 0,
    "start_time": "2023-09-14T10:37:10.559Z"
   },
   {
    "duration": 0,
    "start_time": "2023-09-14T10:37:10.561Z"
   },
   {
    "duration": 0,
    "start_time": "2023-09-14T10:37:10.562Z"
   },
   {
    "duration": 0,
    "start_time": "2023-09-14T10:37:10.563Z"
   },
   {
    "duration": 0,
    "start_time": "2023-09-14T10:37:10.564Z"
   },
   {
    "duration": 0,
    "start_time": "2023-09-14T10:37:10.566Z"
   },
   {
    "duration": 0,
    "start_time": "2023-09-14T10:37:10.567Z"
   },
   {
    "duration": 0,
    "start_time": "2023-09-14T10:37:10.568Z"
   },
   {
    "duration": 0,
    "start_time": "2023-09-14T10:37:10.570Z"
   },
   {
    "duration": 0,
    "start_time": "2023-09-14T10:37:10.571Z"
   },
   {
    "duration": 0,
    "start_time": "2023-09-14T10:37:10.574Z"
   },
   {
    "duration": 0,
    "start_time": "2023-09-14T10:37:10.575Z"
   },
   {
    "duration": 0,
    "start_time": "2023-09-14T10:37:10.576Z"
   },
   {
    "duration": 0,
    "start_time": "2023-09-14T10:37:10.577Z"
   },
   {
    "duration": 0,
    "start_time": "2023-09-14T10:37:10.579Z"
   },
   {
    "duration": 0,
    "start_time": "2023-09-14T10:37:10.580Z"
   },
   {
    "duration": 0,
    "start_time": "2023-09-14T10:37:10.644Z"
   },
   {
    "duration": 0,
    "start_time": "2023-09-14T10:37:10.645Z"
   },
   {
    "duration": 0,
    "start_time": "2023-09-14T10:37:10.646Z"
   },
   {
    "duration": 0,
    "start_time": "2023-09-14T10:37:10.648Z"
   },
   {
    "duration": 0,
    "start_time": "2023-09-14T10:37:10.649Z"
   },
   {
    "duration": 0,
    "start_time": "2023-09-14T10:37:10.650Z"
   },
   {
    "duration": 49969,
    "start_time": "2023-09-14T10:37:29.913Z"
   },
   {
    "duration": 2010,
    "start_time": "2023-09-14T10:38:19.883Z"
   },
   {
    "duration": 3037,
    "start_time": "2023-09-14T10:38:21.895Z"
   },
   {
    "duration": 345,
    "start_time": "2023-09-14T10:38:24.934Z"
   },
   {
    "duration": 86,
    "start_time": "2023-09-14T10:38:25.280Z"
   },
   {
    "duration": 519,
    "start_time": "2023-09-14T10:38:25.368Z"
   },
   {
    "duration": 1607,
    "start_time": "2023-09-14T10:38:25.890Z"
   },
   {
    "duration": 245,
    "start_time": "2023-09-14T10:38:27.499Z"
   },
   {
    "duration": 8,
    "start_time": "2023-09-14T10:38:27.746Z"
   },
   {
    "duration": 93,
    "start_time": "2023-09-14T10:38:27.756Z"
   },
   {
    "duration": 45,
    "start_time": "2023-09-14T10:38:27.851Z"
   },
   {
    "duration": 13,
    "start_time": "2023-09-14T10:38:27.898Z"
   },
   {
    "duration": 7,
    "start_time": "2023-09-14T10:38:27.913Z"
   },
   {
    "duration": 65,
    "start_time": "2023-09-14T10:38:27.922Z"
   },
   {
    "duration": 3,
    "start_time": "2023-09-14T10:38:27.989Z"
   },
   {
    "duration": 52,
    "start_time": "2023-09-14T10:38:27.993Z"
   },
   {
    "duration": 7,
    "start_time": "2023-09-14T10:38:28.048Z"
   },
   {
    "duration": 70,
    "start_time": "2023-09-14T10:38:28.057Z"
   },
   {
    "duration": 252,
    "start_time": "2023-09-14T10:38:28.129Z"
   },
   {
    "duration": 248,
    "start_time": "2023-09-14T10:38:28.383Z"
   },
   {
    "duration": 185,
    "start_time": "2023-09-14T10:38:28.633Z"
   },
   {
    "duration": 259,
    "start_time": "2023-09-14T10:38:28.820Z"
   },
   {
    "duration": 239,
    "start_time": "2023-09-14T10:38:29.081Z"
   },
   {
    "duration": 315,
    "start_time": "2023-09-14T10:38:29.322Z"
   },
   {
    "duration": 281,
    "start_time": "2023-09-14T10:38:29.639Z"
   },
   {
    "duration": 31,
    "start_time": "2023-09-14T10:38:29.921Z"
   },
   {
    "duration": 113,
    "start_time": "2023-09-14T10:38:29.954Z"
   },
   {
    "duration": 155,
    "start_time": "2023-09-14T10:38:30.071Z"
   },
   {
    "duration": 195,
    "start_time": "2023-09-14T10:38:30.228Z"
   },
   {
    "duration": 2,
    "start_time": "2023-09-14T10:38:30.426Z"
   },
   {
    "duration": 50,
    "start_time": "2023-09-14T10:38:30.444Z"
   },
   {
    "duration": 55,
    "start_time": "2023-09-14T10:38:30.496Z"
   },
   {
    "duration": 214,
    "start_time": "2023-09-14T10:38:30.553Z"
   },
   {
    "duration": 0,
    "start_time": "2023-09-14T10:38:30.769Z"
   },
   {
    "duration": 0,
    "start_time": "2023-09-14T10:38:30.771Z"
   },
   {
    "duration": 0,
    "start_time": "2023-09-14T10:38:30.772Z"
   },
   {
    "duration": 0,
    "start_time": "2023-09-14T10:38:30.774Z"
   },
   {
    "duration": 0,
    "start_time": "2023-09-14T10:38:30.776Z"
   },
   {
    "duration": 0,
    "start_time": "2023-09-14T10:38:30.778Z"
   },
   {
    "duration": 0,
    "start_time": "2023-09-14T10:38:30.779Z"
   },
   {
    "duration": 0,
    "start_time": "2023-09-14T10:38:30.781Z"
   },
   {
    "duration": 0,
    "start_time": "2023-09-14T10:38:30.782Z"
   },
   {
    "duration": 0,
    "start_time": "2023-09-14T10:38:30.787Z"
   },
   {
    "duration": 11,
    "start_time": "2023-09-14T10:45:14.727Z"
   },
   {
    "duration": 14,
    "start_time": "2023-09-14T10:45:27.873Z"
   },
   {
    "duration": 18,
    "start_time": "2023-09-14T10:45:54.546Z"
   },
   {
    "duration": 107,
    "start_time": "2023-09-14T10:46:46.225Z"
   },
   {
    "duration": 362,
    "start_time": "2023-09-14T10:47:12.220Z"
   },
   {
    "duration": 4,
    "start_time": "2023-09-14T10:50:04.124Z"
   },
   {
    "duration": 1772,
    "start_time": "2023-09-14T10:50:04.130Z"
   },
   {
    "duration": 858,
    "start_time": "2023-09-14T10:50:05.904Z"
   },
   {
    "duration": 361,
    "start_time": "2023-09-14T10:50:06.764Z"
   },
   {
    "duration": 76,
    "start_time": "2023-09-14T10:50:07.128Z"
   },
   {
    "duration": 24,
    "start_time": "2023-09-14T10:50:07.206Z"
   },
   {
    "duration": 858,
    "start_time": "2023-09-14T10:50:07.232Z"
   },
   {
    "duration": 235,
    "start_time": "2023-09-14T10:50:08.091Z"
   },
   {
    "duration": 18,
    "start_time": "2023-09-14T10:50:08.327Z"
   },
   {
    "duration": 83,
    "start_time": "2023-09-14T10:50:08.346Z"
   },
   {
    "duration": 66,
    "start_time": "2023-09-14T10:50:08.430Z"
   },
   {
    "duration": 6,
    "start_time": "2023-09-14T10:50:08.498Z"
   },
   {
    "duration": 28,
    "start_time": "2023-09-14T10:50:08.507Z"
   },
   {
    "duration": 46,
    "start_time": "2023-09-14T10:50:08.537Z"
   },
   {
    "duration": 2,
    "start_time": "2023-09-14T10:50:08.585Z"
   },
   {
    "duration": 40,
    "start_time": "2023-09-14T10:50:08.588Z"
   },
   {
    "duration": 16,
    "start_time": "2023-09-14T10:50:08.629Z"
   },
   {
    "duration": 63,
    "start_time": "2023-09-14T10:50:08.646Z"
   },
   {
    "duration": 262,
    "start_time": "2023-09-14T10:50:08.710Z"
   },
   {
    "duration": 287,
    "start_time": "2023-09-14T10:50:08.973Z"
   },
   {
    "duration": 180,
    "start_time": "2023-09-14T10:50:09.262Z"
   },
   {
    "duration": 245,
    "start_time": "2023-09-14T10:50:09.444Z"
   },
   {
    "duration": 380,
    "start_time": "2023-09-14T10:50:09.691Z"
   },
   {
    "duration": 313,
    "start_time": "2023-09-14T10:50:10.072Z"
   },
   {
    "duration": 248,
    "start_time": "2023-09-14T10:50:10.387Z"
   },
   {
    "duration": 25,
    "start_time": "2023-09-14T10:50:10.636Z"
   },
   {
    "duration": 129,
    "start_time": "2023-09-14T10:50:10.662Z"
   },
   {
    "duration": 151,
    "start_time": "2023-09-14T10:50:10.793Z"
   },
   {
    "duration": 28,
    "start_time": "2023-09-14T10:50:10.946Z"
   },
   {
    "duration": 8,
    "start_time": "2023-09-14T10:50:10.976Z"
   },
   {
    "duration": 9,
    "start_time": "2023-09-14T10:50:10.986Z"
   },
   {
    "duration": 372,
    "start_time": "2023-09-14T10:50:10.997Z"
   },
   {
    "duration": 74,
    "start_time": "2023-09-14T10:50:11.371Z"
   },
   {
    "duration": 20,
    "start_time": "2023-09-14T10:50:11.446Z"
   },
   {
    "duration": 13,
    "start_time": "2023-09-14T10:50:11.467Z"
   },
   {
    "duration": 12,
    "start_time": "2023-09-14T10:50:11.482Z"
   },
   {
    "duration": 4,
    "start_time": "2023-09-14T10:50:11.497Z"
   },
   {
    "duration": 280,
    "start_time": "2023-09-14T10:50:11.502Z"
   },
   {
    "duration": 130,
    "start_time": "2023-09-14T10:50:11.784Z"
   },
   {
    "duration": 4336,
    "start_time": "2023-09-14T10:50:11.916Z"
   },
   {
    "duration": 8,
    "start_time": "2023-09-14T10:50:16.253Z"
   },
   {
    "duration": 4167,
    "start_time": "2023-09-14T10:50:16.264Z"
   },
   {
    "duration": 7,
    "start_time": "2023-09-14T10:50:20.433Z"
   },
   {
    "duration": 3,
    "start_time": "2023-09-14T10:51:09.586Z"
   },
   {
    "duration": 1907,
    "start_time": "2023-09-14T10:51:09.591Z"
   },
   {
    "duration": 830,
    "start_time": "2023-09-14T10:51:11.500Z"
   },
   {
    "duration": 346,
    "start_time": "2023-09-14T10:51:12.333Z"
   },
   {
    "duration": 75,
    "start_time": "2023-09-14T10:51:12.681Z"
   },
   {
    "duration": 25,
    "start_time": "2023-09-14T10:51:12.757Z"
   },
   {
    "duration": 727,
    "start_time": "2023-09-14T10:51:12.784Z"
   },
   {
    "duration": 309,
    "start_time": "2023-09-14T10:51:13.513Z"
   },
   {
    "duration": 8,
    "start_time": "2023-09-14T10:51:13.824Z"
   },
   {
    "duration": 81,
    "start_time": "2023-09-14T10:51:13.844Z"
   },
   {
    "duration": 50,
    "start_time": "2023-09-14T10:51:13.927Z"
   },
   {
    "duration": 4,
    "start_time": "2023-09-14T10:51:13.979Z"
   },
   {
    "duration": 3,
    "start_time": "2023-09-14T10:51:13.984Z"
   },
   {
    "duration": 59,
    "start_time": "2023-09-14T10:51:13.988Z"
   },
   {
    "duration": 3,
    "start_time": "2023-09-14T10:51:14.049Z"
   },
   {
    "duration": 56,
    "start_time": "2023-09-14T10:51:14.054Z"
   },
   {
    "duration": 10,
    "start_time": "2023-09-14T10:51:14.115Z"
   },
   {
    "duration": 84,
    "start_time": "2023-09-14T10:51:14.127Z"
   },
   {
    "duration": 263,
    "start_time": "2023-09-14T10:51:14.214Z"
   },
   {
    "duration": 244,
    "start_time": "2023-09-14T10:51:14.478Z"
   },
   {
    "duration": 173,
    "start_time": "2023-09-14T10:51:14.724Z"
   },
   {
    "duration": 274,
    "start_time": "2023-09-14T10:51:14.898Z"
   },
   {
    "duration": 229,
    "start_time": "2023-09-14T10:51:15.174Z"
   },
   {
    "duration": 284,
    "start_time": "2023-09-14T10:51:15.405Z"
   },
   {
    "duration": 226,
    "start_time": "2023-09-14T10:51:15.691Z"
   },
   {
    "duration": 26,
    "start_time": "2023-09-14T10:51:15.919Z"
   },
   {
    "duration": 101,
    "start_time": "2023-09-14T10:51:15.947Z"
   },
   {
    "duration": 147,
    "start_time": "2023-09-14T10:51:16.051Z"
   },
   {
    "duration": 85,
    "start_time": "2023-09-14T10:51:16.200Z"
   },
   {
    "duration": 3,
    "start_time": "2023-09-14T10:51:16.288Z"
   },
   {
    "duration": 8,
    "start_time": "2023-09-14T10:51:16.292Z"
   },
   {
    "duration": 6,
    "start_time": "2023-09-14T10:51:16.302Z"
   },
   {
    "duration": 369,
    "start_time": "2023-09-14T10:51:16.310Z"
   },
   {
    "duration": 19,
    "start_time": "2023-09-14T10:51:16.681Z"
   },
   {
    "duration": 12,
    "start_time": "2023-09-14T10:51:16.702Z"
   },
   {
    "duration": 34,
    "start_time": "2023-09-14T10:51:16.716Z"
   },
   {
    "duration": 15,
    "start_time": "2023-09-14T10:51:16.751Z"
   },
   {
    "duration": 304,
    "start_time": "2023-09-14T10:51:16.767Z"
   },
   {
    "duration": 161,
    "start_time": "2023-09-14T10:51:17.073Z"
   },
   {
    "duration": 4583,
    "start_time": "2023-09-14T10:51:17.235Z"
   },
   {
    "duration": 6,
    "start_time": "2023-09-14T10:51:21.820Z"
   },
   {
    "duration": 5487,
    "start_time": "2023-09-14T10:51:21.827Z"
   },
   {
    "duration": 8,
    "start_time": "2023-09-14T10:51:27.315Z"
   },
   {
    "duration": 26,
    "start_time": "2023-09-14T10:57:00.125Z"
   },
   {
    "duration": 4,
    "start_time": "2023-09-14T11:07:42.836Z"
   },
   {
    "duration": 2162,
    "start_time": "2023-09-14T11:07:42.841Z"
   },
   {
    "duration": 1025,
    "start_time": "2023-09-14T11:07:45.006Z"
   },
   {
    "duration": 484,
    "start_time": "2023-09-14T11:07:46.034Z"
   },
   {
    "duration": 97,
    "start_time": "2023-09-14T11:07:46.522Z"
   },
   {
    "duration": 27,
    "start_time": "2023-09-14T11:07:46.621Z"
   },
   {
    "duration": 996,
    "start_time": "2023-09-14T11:07:46.650Z"
   },
   {
    "duration": 262,
    "start_time": "2023-09-14T11:07:47.650Z"
   },
   {
    "duration": 8,
    "start_time": "2023-09-14T11:07:47.915Z"
   },
   {
    "duration": 108,
    "start_time": "2023-09-14T11:07:47.925Z"
   },
   {
    "duration": 58,
    "start_time": "2023-09-14T11:07:48.035Z"
   },
   {
    "duration": 6,
    "start_time": "2023-09-14T11:07:48.094Z"
   },
   {
    "duration": 6,
    "start_time": "2023-09-14T11:07:48.101Z"
   },
   {
    "duration": 68,
    "start_time": "2023-09-14T11:07:48.108Z"
   },
   {
    "duration": 2,
    "start_time": "2023-09-14T11:07:48.178Z"
   },
   {
    "duration": 36,
    "start_time": "2023-09-14T11:07:48.182Z"
   },
   {
    "duration": 7,
    "start_time": "2023-09-14T11:07:48.220Z"
   },
   {
    "duration": 88,
    "start_time": "2023-09-14T11:07:48.228Z"
   },
   {
    "duration": 301,
    "start_time": "2023-09-14T11:07:48.318Z"
   },
   {
    "duration": 289,
    "start_time": "2023-09-14T11:07:48.621Z"
   },
   {
    "duration": 206,
    "start_time": "2023-09-14T11:07:48.912Z"
   },
   {
    "duration": 291,
    "start_time": "2023-09-14T11:07:49.120Z"
   },
   {
    "duration": 266,
    "start_time": "2023-09-14T11:07:49.413Z"
   },
   {
    "duration": 323,
    "start_time": "2023-09-14T11:07:49.681Z"
   },
   {
    "duration": 277,
    "start_time": "2023-09-14T11:07:50.006Z"
   },
   {
    "duration": 20,
    "start_time": "2023-09-14T11:07:50.285Z"
   },
   {
    "duration": 129,
    "start_time": "2023-09-14T11:07:50.309Z"
   },
   {
    "duration": 180,
    "start_time": "2023-09-14T11:07:50.440Z"
   },
   {
    "duration": 100,
    "start_time": "2023-09-14T11:07:50.622Z"
   },
   {
    "duration": 2,
    "start_time": "2023-09-14T11:07:50.724Z"
   },
   {
    "duration": 28,
    "start_time": "2023-09-14T11:07:50.728Z"
   },
   {
    "duration": 482,
    "start_time": "2023-09-14T11:07:50.758Z"
   },
   {
    "duration": 0,
    "start_time": "2023-09-14T11:07:51.242Z"
   },
   {
    "duration": 0,
    "start_time": "2023-09-14T11:07:51.243Z"
   },
   {
    "duration": 0,
    "start_time": "2023-09-14T11:07:51.244Z"
   },
   {
    "duration": 0,
    "start_time": "2023-09-14T11:07:51.245Z"
   },
   {
    "duration": 0,
    "start_time": "2023-09-14T11:07:51.247Z"
   },
   {
    "duration": 0,
    "start_time": "2023-09-14T11:07:51.248Z"
   },
   {
    "duration": 0,
    "start_time": "2023-09-14T11:07:51.249Z"
   },
   {
    "duration": 0,
    "start_time": "2023-09-14T11:07:51.250Z"
   },
   {
    "duration": 0,
    "start_time": "2023-09-14T11:07:51.252Z"
   },
   {
    "duration": 0,
    "start_time": "2023-09-14T11:07:51.253Z"
   },
   {
    "duration": 10,
    "start_time": "2023-09-14T11:36:43.212Z"
   },
   {
    "duration": 7,
    "start_time": "2023-09-14T11:37:08.431Z"
   },
   {
    "duration": 43,
    "start_time": "2023-09-14T11:39:06.140Z"
   },
   {
    "duration": 242,
    "start_time": "2023-09-14T11:39:16.116Z"
   },
   {
    "duration": 17,
    "start_time": "2023-09-14T11:41:25.593Z"
   },
   {
    "duration": 355,
    "start_time": "2023-09-14T11:42:11.841Z"
   },
   {
    "duration": 4,
    "start_time": "2023-09-14T11:42:23.633Z"
   },
   {
    "duration": 1948,
    "start_time": "2023-09-14T11:42:23.638Z"
   },
   {
    "duration": 901,
    "start_time": "2023-09-14T11:42:25.588Z"
   },
   {
    "duration": 382,
    "start_time": "2023-09-14T11:42:26.491Z"
   },
   {
    "duration": 84,
    "start_time": "2023-09-14T11:42:26.875Z"
   },
   {
    "duration": 23,
    "start_time": "2023-09-14T11:42:26.961Z"
   },
   {
    "duration": 883,
    "start_time": "2023-09-14T11:42:26.986Z"
   },
   {
    "duration": 229,
    "start_time": "2023-09-14T11:42:27.871Z"
   },
   {
    "duration": 7,
    "start_time": "2023-09-14T11:42:28.102Z"
   },
   {
    "duration": 110,
    "start_time": "2023-09-14T11:42:28.111Z"
   },
   {
    "duration": 51,
    "start_time": "2023-09-14T11:42:28.224Z"
   },
   {
    "duration": 16,
    "start_time": "2023-09-14T11:42:28.277Z"
   },
   {
    "duration": 10,
    "start_time": "2023-09-14T11:42:28.294Z"
   },
   {
    "duration": 54,
    "start_time": "2023-09-14T11:42:28.306Z"
   },
   {
    "duration": 2,
    "start_time": "2023-09-14T11:42:28.362Z"
   },
   {
    "duration": 41,
    "start_time": "2023-09-14T11:42:28.366Z"
   },
   {
    "duration": 7,
    "start_time": "2023-09-14T11:42:28.408Z"
   },
   {
    "duration": 74,
    "start_time": "2023-09-14T11:42:28.417Z"
   },
   {
    "duration": 269,
    "start_time": "2023-09-14T11:42:28.493Z"
   },
   {
    "duration": 261,
    "start_time": "2023-09-14T11:42:28.764Z"
   },
   {
    "duration": 194,
    "start_time": "2023-09-14T11:42:29.028Z"
   },
   {
    "duration": 267,
    "start_time": "2023-09-14T11:42:29.225Z"
   },
   {
    "duration": 244,
    "start_time": "2023-09-14T11:42:29.494Z"
   },
   {
    "duration": 315,
    "start_time": "2023-09-14T11:42:29.740Z"
   },
   {
    "duration": 267,
    "start_time": "2023-09-14T11:42:30.057Z"
   },
   {
    "duration": 32,
    "start_time": "2023-09-14T11:42:30.326Z"
   },
   {
    "duration": 190,
    "start_time": "2023-09-14T11:42:30.361Z"
   },
   {
    "duration": 154,
    "start_time": "2023-09-14T11:42:30.552Z"
   },
   {
    "duration": 89,
    "start_time": "2023-09-14T11:42:30.709Z"
   },
   {
    "duration": 2,
    "start_time": "2023-09-14T11:42:30.800Z"
   },
   {
    "duration": 49,
    "start_time": "2023-09-14T11:42:30.804Z"
   },
   {
    "duration": 35,
    "start_time": "2023-09-14T11:42:30.855Z"
   },
   {
    "duration": 378,
    "start_time": "2023-09-14T11:42:30.892Z"
   },
   {
    "duration": 24,
    "start_time": "2023-09-14T11:42:31.273Z"
   },
   {
    "duration": 24,
    "start_time": "2023-09-14T11:42:31.299Z"
   },
   {
    "duration": 49,
    "start_time": "2023-09-14T11:42:31.325Z"
   },
   {
    "duration": 32,
    "start_time": "2023-09-14T11:42:31.376Z"
   },
   {
    "duration": 26451,
    "start_time": "2023-09-14T11:42:31.410Z"
   },
   {
    "duration": 741904,
    "start_time": "2023-09-14T11:42:57.863Z"
   },
   {
    "duration": 34937,
    "start_time": "2023-09-14T11:55:19.770Z"
   },
   {
    "duration": 9,
    "start_time": "2023-09-14T11:55:54.711Z"
   },
   {
    "duration": 18080,
    "start_time": "2023-09-14T11:55:54.722Z"
   },
   {
    "duration": 6,
    "start_time": "2023-09-14T11:56:12.804Z"
   },
   {
    "duration": 3,
    "start_time": "2023-09-14T14:02:19.660Z"
   },
   {
    "duration": 473,
    "start_time": "2023-09-14T14:02:19.669Z"
   },
   {
    "duration": 0,
    "start_time": "2023-09-14T14:02:20.146Z"
   },
   {
    "duration": 0,
    "start_time": "2023-09-14T14:02:20.147Z"
   },
   {
    "duration": 0,
    "start_time": "2023-09-14T14:02:20.149Z"
   },
   {
    "duration": 0,
    "start_time": "2023-09-14T14:02:20.151Z"
   },
   {
    "duration": 0,
    "start_time": "2023-09-14T14:02:20.152Z"
   },
   {
    "duration": 0,
    "start_time": "2023-09-14T14:02:20.154Z"
   },
   {
    "duration": 0,
    "start_time": "2023-09-14T14:02:20.155Z"
   },
   {
    "duration": 0,
    "start_time": "2023-09-14T14:02:20.157Z"
   },
   {
    "duration": 0,
    "start_time": "2023-09-14T14:02:20.159Z"
   },
   {
    "duration": 0,
    "start_time": "2023-09-14T14:02:20.160Z"
   },
   {
    "duration": 0,
    "start_time": "2023-09-14T14:02:20.162Z"
   },
   {
    "duration": 0,
    "start_time": "2023-09-14T14:02:20.164Z"
   },
   {
    "duration": 0,
    "start_time": "2023-09-14T14:02:20.165Z"
   },
   {
    "duration": 0,
    "start_time": "2023-09-14T14:02:20.167Z"
   },
   {
    "duration": 0,
    "start_time": "2023-09-14T14:02:20.168Z"
   },
   {
    "duration": 0,
    "start_time": "2023-09-14T14:02:20.169Z"
   },
   {
    "duration": 0,
    "start_time": "2023-09-14T14:02:20.171Z"
   },
   {
    "duration": 0,
    "start_time": "2023-09-14T14:02:20.210Z"
   },
   {
    "duration": 0,
    "start_time": "2023-09-14T14:02:20.211Z"
   },
   {
    "duration": 0,
    "start_time": "2023-09-14T14:02:20.213Z"
   },
   {
    "duration": 0,
    "start_time": "2023-09-14T14:02:20.214Z"
   },
   {
    "duration": 0,
    "start_time": "2023-09-14T14:02:20.215Z"
   },
   {
    "duration": 0,
    "start_time": "2023-09-14T14:02:20.216Z"
   },
   {
    "duration": 0,
    "start_time": "2023-09-14T14:02:20.217Z"
   },
   {
    "duration": 0,
    "start_time": "2023-09-14T14:02:20.218Z"
   },
   {
    "duration": 0,
    "start_time": "2023-09-14T14:02:20.219Z"
   },
   {
    "duration": 0,
    "start_time": "2023-09-14T14:02:20.221Z"
   },
   {
    "duration": 0,
    "start_time": "2023-09-14T14:02:20.222Z"
   },
   {
    "duration": 0,
    "start_time": "2023-09-14T14:02:20.223Z"
   },
   {
    "duration": 0,
    "start_time": "2023-09-14T14:02:20.224Z"
   },
   {
    "duration": 0,
    "start_time": "2023-09-14T14:02:20.225Z"
   },
   {
    "duration": 0,
    "start_time": "2023-09-14T14:02:20.226Z"
   },
   {
    "duration": 0,
    "start_time": "2023-09-14T14:02:20.227Z"
   },
   {
    "duration": 0,
    "start_time": "2023-09-14T14:02:20.228Z"
   },
   {
    "duration": 0,
    "start_time": "2023-09-14T14:02:20.230Z"
   },
   {
    "duration": 0,
    "start_time": "2023-09-14T14:02:20.231Z"
   },
   {
    "duration": 0,
    "start_time": "2023-09-14T14:02:20.232Z"
   },
   {
    "duration": 0,
    "start_time": "2023-09-14T14:02:20.234Z"
   },
   {
    "duration": 0,
    "start_time": "2023-09-14T14:02:20.235Z"
   },
   {
    "duration": 0,
    "start_time": "2023-09-14T14:02:20.236Z"
   },
   {
    "duration": 69201,
    "start_time": "2023-09-14T14:03:02.582Z"
   },
   {
    "duration": 2386,
    "start_time": "2023-09-14T14:04:11.786Z"
   },
   {
    "duration": 1348,
    "start_time": "2023-09-14T14:04:14.174Z"
   },
   {
    "duration": 385,
    "start_time": "2023-09-14T14:04:15.524Z"
   },
   {
    "duration": 80,
    "start_time": "2023-09-14T14:04:15.912Z"
   },
   {
    "duration": 40,
    "start_time": "2023-09-14T14:04:15.995Z"
   },
   {
    "duration": 863,
    "start_time": "2023-09-14T14:04:16.037Z"
   },
   {
    "duration": 260,
    "start_time": "2023-09-14T14:04:16.901Z"
   },
   {
    "duration": 1048,
    "start_time": "2023-09-14T14:04:17.162Z"
   },
   {
    "duration": 1990,
    "start_time": "2023-09-14T14:04:18.211Z"
   },
   {
    "duration": 48,
    "start_time": "2023-09-14T14:04:20.203Z"
   },
   {
    "duration": 17,
    "start_time": "2023-09-14T14:04:20.253Z"
   },
   {
    "duration": 6,
    "start_time": "2023-09-14T14:04:20.272Z"
   },
   {
    "duration": 46,
    "start_time": "2023-09-14T14:04:20.280Z"
   },
   {
    "duration": 2,
    "start_time": "2023-09-14T14:04:20.328Z"
   },
   {
    "duration": 54,
    "start_time": "2023-09-14T14:04:20.332Z"
   },
   {
    "duration": 7,
    "start_time": "2023-09-14T14:04:20.388Z"
   },
   {
    "duration": 86,
    "start_time": "2023-09-14T14:04:20.396Z"
   },
   {
    "duration": 294,
    "start_time": "2023-09-14T14:04:20.484Z"
   },
   {
    "duration": 297,
    "start_time": "2023-09-14T14:04:20.780Z"
   },
   {
    "duration": 188,
    "start_time": "2023-09-14T14:04:21.078Z"
   },
   {
    "duration": 286,
    "start_time": "2023-09-14T14:04:21.268Z"
   },
   {
    "duration": 259,
    "start_time": "2023-09-14T14:04:21.556Z"
   },
   {
    "duration": 315,
    "start_time": "2023-09-14T14:04:21.817Z"
   },
   {
    "duration": 258,
    "start_time": "2023-09-14T14:04:22.134Z"
   },
   {
    "duration": 27,
    "start_time": "2023-09-14T14:04:22.394Z"
   },
   {
    "duration": 120,
    "start_time": "2023-09-14T14:04:22.423Z"
   },
   {
    "duration": 177,
    "start_time": "2023-09-14T14:04:22.545Z"
   },
   {
    "duration": 120,
    "start_time": "2023-09-14T14:04:22.726Z"
   },
   {
    "duration": 12,
    "start_time": "2023-09-14T14:04:22.848Z"
   },
   {
    "duration": 199,
    "start_time": "2023-09-14T14:04:22.863Z"
   },
   {
    "duration": 0,
    "start_time": "2023-09-14T14:04:23.063Z"
   },
   {
    "duration": 0,
    "start_time": "2023-09-14T14:04:23.065Z"
   },
   {
    "duration": 0,
    "start_time": "2023-09-14T14:04:23.066Z"
   },
   {
    "duration": 0,
    "start_time": "2023-09-14T14:04:23.067Z"
   },
   {
    "duration": 0,
    "start_time": "2023-09-14T14:04:23.068Z"
   },
   {
    "duration": 0,
    "start_time": "2023-09-14T14:04:23.069Z"
   },
   {
    "duration": 0,
    "start_time": "2023-09-14T14:04:23.070Z"
   },
   {
    "duration": 0,
    "start_time": "2023-09-14T14:04:23.071Z"
   },
   {
    "duration": 0,
    "start_time": "2023-09-14T14:04:23.072Z"
   },
   {
    "duration": 0,
    "start_time": "2023-09-14T14:04:23.073Z"
   },
   {
    "duration": 0,
    "start_time": "2023-09-14T14:04:23.074Z"
   },
   {
    "duration": 305,
    "start_time": "2023-09-14T14:05:02.740Z"
   },
   {
    "duration": 3,
    "start_time": "2023-09-14T14:05:07.684Z"
   },
   {
    "duration": 11,
    "start_time": "2023-09-14T14:05:08.669Z"
   },
   {
    "duration": 45,
    "start_time": "2023-09-14T14:07:10.808Z"
   },
   {
    "duration": 3,
    "start_time": "2023-09-14T14:09:44.142Z"
   },
   {
    "duration": 1978,
    "start_time": "2023-09-14T14:09:44.149Z"
   },
   {
    "duration": 989,
    "start_time": "2023-09-14T14:09:46.129Z"
   },
   {
    "duration": 390,
    "start_time": "2023-09-14T14:09:47.120Z"
   },
   {
    "duration": 79,
    "start_time": "2023-09-14T14:09:47.513Z"
   },
   {
    "duration": 37,
    "start_time": "2023-09-14T14:09:47.594Z"
   },
   {
    "duration": 923,
    "start_time": "2023-09-14T14:09:47.633Z"
   },
   {
    "duration": 264,
    "start_time": "2023-09-14T14:09:48.559Z"
   },
   {
    "duration": 9,
    "start_time": "2023-09-14T14:09:48.825Z"
   },
   {
    "duration": 97,
    "start_time": "2023-09-14T14:09:48.836Z"
   },
   {
    "duration": 48,
    "start_time": "2023-09-14T14:09:48.935Z"
   },
   {
    "duration": 21,
    "start_time": "2023-09-14T14:09:48.985Z"
   },
   {
    "duration": 6,
    "start_time": "2023-09-14T14:09:49.009Z"
   },
   {
    "duration": 44,
    "start_time": "2023-09-14T14:09:49.017Z"
   },
   {
    "duration": 3,
    "start_time": "2023-09-14T14:09:49.064Z"
   },
   {
    "duration": 55,
    "start_time": "2023-09-14T14:09:49.069Z"
   },
   {
    "duration": 8,
    "start_time": "2023-09-14T14:09:49.126Z"
   },
   {
    "duration": 79,
    "start_time": "2023-09-14T14:09:49.136Z"
   },
   {
    "duration": 275,
    "start_time": "2023-09-14T14:09:49.217Z"
   },
   {
    "duration": 295,
    "start_time": "2023-09-14T14:09:49.494Z"
   },
   {
    "duration": 191,
    "start_time": "2023-09-14T14:09:49.791Z"
   },
   {
    "duration": 285,
    "start_time": "2023-09-14T14:09:49.984Z"
   },
   {
    "duration": 291,
    "start_time": "2023-09-14T14:09:50.271Z"
   },
   {
    "duration": 332,
    "start_time": "2023-09-14T14:09:50.564Z"
   },
   {
    "duration": 262,
    "start_time": "2023-09-14T14:09:50.899Z"
   },
   {
    "duration": 20,
    "start_time": "2023-09-14T14:09:51.163Z"
   },
   {
    "duration": 153,
    "start_time": "2023-09-14T14:09:51.185Z"
   },
   {
    "duration": 163,
    "start_time": "2023-09-14T14:09:51.340Z"
   },
   {
    "duration": 77,
    "start_time": "2023-09-14T14:09:51.510Z"
   },
   {
    "duration": 25,
    "start_time": "2023-09-14T14:09:51.589Z"
   },
   {
    "duration": 407,
    "start_time": "2023-09-14T14:09:51.617Z"
   },
   {
    "duration": 0,
    "start_time": "2023-09-14T14:09:52.026Z"
   },
   {
    "duration": 0,
    "start_time": "2023-09-14T14:09:52.028Z"
   },
   {
    "duration": 0,
    "start_time": "2023-09-14T14:09:52.029Z"
   },
   {
    "duration": 0,
    "start_time": "2023-09-14T14:09:52.030Z"
   },
   {
    "duration": 0,
    "start_time": "2023-09-14T14:09:52.031Z"
   },
   {
    "duration": 0,
    "start_time": "2023-09-14T14:09:52.033Z"
   },
   {
    "duration": 0,
    "start_time": "2023-09-14T14:09:52.034Z"
   },
   {
    "duration": 0,
    "start_time": "2023-09-14T14:09:52.035Z"
   },
   {
    "duration": 0,
    "start_time": "2023-09-14T14:09:52.036Z"
   },
   {
    "duration": 0,
    "start_time": "2023-09-14T14:09:52.037Z"
   },
   {
    "duration": 0,
    "start_time": "2023-09-14T14:09:52.038Z"
   },
   {
    "duration": 331,
    "start_time": "2023-09-14T14:10:46.117Z"
   },
   {
    "duration": 2,
    "start_time": "2023-09-14T14:10:49.198Z"
   },
   {
    "duration": 43,
    "start_time": "2023-09-14T14:10:49.786Z"
   },
   {
    "duration": 4,
    "start_time": "2023-09-14T14:11:14.875Z"
   },
   {
    "duration": 2160,
    "start_time": "2023-09-14T14:11:14.882Z"
   },
   {
    "duration": 984,
    "start_time": "2023-09-14T14:11:17.045Z"
   },
   {
    "duration": 416,
    "start_time": "2023-09-14T14:11:18.031Z"
   },
   {
    "duration": 86,
    "start_time": "2023-09-14T14:11:18.449Z"
   },
   {
    "duration": 29,
    "start_time": "2023-09-14T14:11:18.537Z"
   },
   {
    "duration": 915,
    "start_time": "2023-09-14T14:11:18.568Z"
   },
   {
    "duration": 368,
    "start_time": "2023-09-14T14:11:19.485Z"
   },
   {
    "duration": 11,
    "start_time": "2023-09-14T14:11:19.855Z"
   },
   {
    "duration": 119,
    "start_time": "2023-09-14T14:11:19.870Z"
   },
   {
    "duration": 57,
    "start_time": "2023-09-14T14:11:19.991Z"
   },
   {
    "duration": 6,
    "start_time": "2023-09-14T14:11:20.050Z"
   },
   {
    "duration": 17,
    "start_time": "2023-09-14T14:11:20.059Z"
   },
   {
    "duration": 58,
    "start_time": "2023-09-14T14:11:20.078Z"
   },
   {
    "duration": 4,
    "start_time": "2023-09-14T14:11:20.138Z"
   },
   {
    "duration": 52,
    "start_time": "2023-09-14T14:11:20.144Z"
   },
   {
    "duration": 17,
    "start_time": "2023-09-14T14:11:20.198Z"
   },
   {
    "duration": 85,
    "start_time": "2023-09-14T14:11:20.217Z"
   },
   {
    "duration": 291,
    "start_time": "2023-09-14T14:11:20.305Z"
   },
   {
    "duration": 280,
    "start_time": "2023-09-14T14:11:20.599Z"
   },
   {
    "duration": 212,
    "start_time": "2023-09-14T14:11:20.881Z"
   },
   {
    "duration": 281,
    "start_time": "2023-09-14T14:11:21.095Z"
   },
   {
    "duration": 297,
    "start_time": "2023-09-14T14:11:21.378Z"
   },
   {
    "duration": 350,
    "start_time": "2023-09-14T14:11:21.677Z"
   },
   {
    "duration": 272,
    "start_time": "2023-09-14T14:11:22.029Z"
   },
   {
    "duration": 27,
    "start_time": "2023-09-14T14:11:22.303Z"
   },
   {
    "duration": 150,
    "start_time": "2023-09-14T14:11:22.332Z"
   },
   {
    "duration": 265,
    "start_time": "2023-09-14T14:11:22.488Z"
   },
   {
    "duration": 82,
    "start_time": "2023-09-14T14:11:22.755Z"
   },
   {
    "duration": 10,
    "start_time": "2023-09-14T14:11:22.839Z"
   },
   {
    "duration": 374,
    "start_time": "2023-09-14T14:11:22.852Z"
   },
   {
    "duration": 3,
    "start_time": "2023-09-14T14:11:23.228Z"
   },
   {
    "duration": 203,
    "start_time": "2023-09-14T14:11:23.233Z"
   },
   {
    "duration": 0,
    "start_time": "2023-09-14T14:11:23.437Z"
   },
   {
    "duration": 0,
    "start_time": "2023-09-14T14:11:23.439Z"
   },
   {
    "duration": 0,
    "start_time": "2023-09-14T14:11:23.440Z"
   },
   {
    "duration": 0,
    "start_time": "2023-09-14T14:11:23.442Z"
   },
   {
    "duration": 0,
    "start_time": "2023-09-14T14:11:23.443Z"
   },
   {
    "duration": 0,
    "start_time": "2023-09-14T14:11:23.445Z"
   },
   {
    "duration": 0,
    "start_time": "2023-09-14T14:11:23.446Z"
   },
   {
    "duration": 0,
    "start_time": "2023-09-14T14:11:23.447Z"
   },
   {
    "duration": 0,
    "start_time": "2023-09-14T14:11:23.448Z"
   },
   {
    "duration": 4,
    "start_time": "2023-09-14T14:12:16.099Z"
   },
   {
    "duration": 2023,
    "start_time": "2023-09-14T14:12:16.106Z"
   },
   {
    "duration": 1009,
    "start_time": "2023-09-14T14:12:18.131Z"
   },
   {
    "duration": 480,
    "start_time": "2023-09-14T14:12:19.142Z"
   },
   {
    "duration": 88,
    "start_time": "2023-09-14T14:12:19.625Z"
   },
   {
    "duration": 30,
    "start_time": "2023-09-14T14:12:19.716Z"
   },
   {
    "duration": 969,
    "start_time": "2023-09-14T14:12:19.748Z"
   },
   {
    "duration": 270,
    "start_time": "2023-09-14T14:12:20.719Z"
   },
   {
    "duration": 18,
    "start_time": "2023-09-14T14:12:20.992Z"
   },
   {
    "duration": 100,
    "start_time": "2023-09-14T14:12:21.012Z"
   },
   {
    "duration": 48,
    "start_time": "2023-09-14T14:12:21.114Z"
   },
   {
    "duration": 31,
    "start_time": "2023-09-14T14:12:21.164Z"
   },
   {
    "duration": 25,
    "start_time": "2023-09-14T14:12:21.198Z"
   },
   {
    "duration": 70,
    "start_time": "2023-09-14T14:12:21.225Z"
   },
   {
    "duration": 2,
    "start_time": "2023-09-14T14:12:21.297Z"
   },
   {
    "duration": 56,
    "start_time": "2023-09-14T14:12:21.301Z"
   },
   {
    "duration": 8,
    "start_time": "2023-09-14T14:12:21.359Z"
   },
   {
    "duration": 97,
    "start_time": "2023-09-14T14:12:21.369Z"
   },
   {
    "duration": 345,
    "start_time": "2023-09-14T14:12:21.469Z"
   },
   {
    "duration": 351,
    "start_time": "2023-09-14T14:12:21.816Z"
   },
   {
    "duration": 210,
    "start_time": "2023-09-14T14:12:22.170Z"
   },
   {
    "duration": 428,
    "start_time": "2023-09-14T14:12:22.382Z"
   },
   {
    "duration": 260,
    "start_time": "2023-09-14T14:12:22.812Z"
   },
   {
    "duration": 330,
    "start_time": "2023-09-14T14:12:23.074Z"
   },
   {
    "duration": 264,
    "start_time": "2023-09-14T14:12:23.406Z"
   },
   {
    "duration": 22,
    "start_time": "2023-09-14T14:12:23.672Z"
   },
   {
    "duration": 134,
    "start_time": "2023-09-14T14:12:23.696Z"
   },
   {
    "duration": 197,
    "start_time": "2023-09-14T14:12:23.832Z"
   },
   {
    "duration": 96,
    "start_time": "2023-09-14T14:12:24.031Z"
   },
   {
    "duration": 10,
    "start_time": "2023-09-14T14:12:24.129Z"
   },
   {
    "duration": 326,
    "start_time": "2023-09-14T14:12:24.141Z"
   },
   {
    "duration": 3,
    "start_time": "2023-09-14T14:12:24.469Z"
   },
   {
    "duration": 128,
    "start_time": "2023-09-14T14:12:24.473Z"
   },
   {
    "duration": 23,
    "start_time": "2023-09-14T14:12:24.603Z"
   },
   {
    "duration": 62,
    "start_time": "2023-09-14T14:12:24.628Z"
   },
   {
    "duration": 45,
    "start_time": "2023-09-14T14:12:24.692Z"
   },
   {
    "duration": 28680,
    "start_time": "2023-09-14T14:12:24.741Z"
   },
   {
    "duration": 6198,
    "start_time": "2023-09-14T14:12:53.423Z"
   },
   {
    "duration": 36074,
    "start_time": "2023-09-14T14:12:59.623Z"
   },
   {
    "duration": 9,
    "start_time": "2023-09-14T14:13:35.699Z"
   },
   {
    "duration": 18800,
    "start_time": "2023-09-14T14:13:35.710Z"
   },
   {
    "duration": 7,
    "start_time": "2023-09-14T14:13:54.513Z"
   },
   {
    "duration": 78262,
    "start_time": "2023-09-15T12:22:59.926Z"
   },
   {
    "duration": 2179,
    "start_time": "2023-09-15T12:24:18.191Z"
   },
   {
    "duration": 1334,
    "start_time": "2023-09-15T12:24:20.372Z"
   },
   {
    "duration": 404,
    "start_time": "2023-09-15T12:24:21.708Z"
   },
   {
    "duration": 96,
    "start_time": "2023-09-15T12:24:22.117Z"
   },
   {
    "duration": 29,
    "start_time": "2023-09-15T12:24:22.215Z"
   },
   {
    "duration": 977,
    "start_time": "2023-09-15T12:24:22.246Z"
   },
   {
    "duration": 286,
    "start_time": "2023-09-15T12:24:23.225Z"
   },
   {
    "duration": 10,
    "start_time": "2023-09-15T12:24:23.514Z"
   },
   {
    "duration": 280,
    "start_time": "2023-09-15T12:24:23.526Z"
   },
   {
    "duration": 52,
    "start_time": "2023-09-15T12:24:23.807Z"
   },
   {
    "duration": 7,
    "start_time": "2023-09-15T12:24:23.861Z"
   },
   {
    "duration": 5,
    "start_time": "2023-09-15T12:24:23.885Z"
   },
   {
    "duration": 55,
    "start_time": "2023-09-15T12:24:23.893Z"
   },
   {
    "duration": 20,
    "start_time": "2023-09-15T12:24:23.951Z"
   },
   {
    "duration": 56,
    "start_time": "2023-09-15T12:24:23.973Z"
   },
   {
    "duration": 9,
    "start_time": "2023-09-15T12:24:24.032Z"
   },
   {
    "duration": 119,
    "start_time": "2023-09-15T12:24:24.043Z"
   },
   {
    "duration": 275,
    "start_time": "2023-09-15T12:24:24.165Z"
   },
   {
    "duration": 295,
    "start_time": "2023-09-15T12:24:24.442Z"
   },
   {
    "duration": 208,
    "start_time": "2023-09-15T12:24:24.740Z"
   },
   {
    "duration": 344,
    "start_time": "2023-09-15T12:24:24.951Z"
   },
   {
    "duration": 288,
    "start_time": "2023-09-15T12:24:25.297Z"
   },
   {
    "duration": 368,
    "start_time": "2023-09-15T12:24:25.588Z"
   },
   {
    "duration": 282,
    "start_time": "2023-09-15T12:24:25.958Z"
   },
   {
    "duration": 47,
    "start_time": "2023-09-15T12:24:26.242Z"
   },
   {
    "duration": 182,
    "start_time": "2023-09-15T12:24:26.292Z"
   },
   {
    "duration": 205,
    "start_time": "2023-09-15T12:24:26.476Z"
   },
   {
    "duration": 125,
    "start_time": "2023-09-15T12:24:26.684Z"
   },
   {
    "duration": 14,
    "start_time": "2023-09-15T12:24:26.811Z"
   },
   {
    "duration": 440,
    "start_time": "2023-09-15T12:24:26.827Z"
   },
   {
    "duration": 6,
    "start_time": "2023-09-15T12:24:27.270Z"
   },
   {
    "duration": 54,
    "start_time": "2023-09-15T12:24:27.284Z"
   },
   {
    "duration": 5,
    "start_time": "2023-09-15T12:24:27.340Z"
   },
   {
    "duration": 28338,
    "start_time": "2023-09-15T12:24:27.347Z"
   },
   {
    "duration": 706906,
    "start_time": "2023-09-15T12:24:55.687Z"
   },
   {
    "duration": 35811,
    "start_time": "2023-09-15T12:36:42.595Z"
   },
   {
    "duration": 9,
    "start_time": "2023-09-15T12:37:18.408Z"
   },
   {
    "duration": 18677,
    "start_time": "2023-09-15T12:37:18.419Z"
   },
   {
    "duration": 7,
    "start_time": "2023-09-15T12:37:37.098Z"
   },
   {
    "duration": 17246,
    "start_time": "2023-09-15T12:58:37.563Z"
   },
   {
    "duration": 2051,
    "start_time": "2023-09-15T12:58:54.812Z"
   },
   {
    "duration": 1003,
    "start_time": "2023-09-15T12:58:56.868Z"
   },
   {
    "duration": 398,
    "start_time": "2023-09-15T12:58:57.873Z"
   },
   {
    "duration": 86,
    "start_time": "2023-09-15T12:58:58.273Z"
   },
   {
    "duration": 32,
    "start_time": "2023-09-15T12:58:58.361Z"
   },
   {
    "duration": 949,
    "start_time": "2023-09-15T12:58:58.395Z"
   },
   {
    "duration": 263,
    "start_time": "2023-09-15T12:58:59.346Z"
   },
   {
    "duration": 8,
    "start_time": "2023-09-15T12:58:59.612Z"
   },
   {
    "duration": 108,
    "start_time": "2023-09-15T12:58:59.622Z"
   },
   {
    "duration": 54,
    "start_time": "2023-09-15T12:58:59.732Z"
   },
   {
    "duration": 6,
    "start_time": "2023-09-15T12:58:59.788Z"
   },
   {
    "duration": 3,
    "start_time": "2023-09-15T12:58:59.796Z"
   },
   {
    "duration": 42,
    "start_time": "2023-09-15T12:58:59.801Z"
   },
   {
    "duration": 3,
    "start_time": "2023-09-15T12:58:59.846Z"
   },
   {
    "duration": 41,
    "start_time": "2023-09-15T12:58:59.881Z"
   },
   {
    "duration": 9,
    "start_time": "2023-09-15T12:58:59.924Z"
   },
   {
    "duration": 108,
    "start_time": "2023-09-15T12:58:59.935Z"
   },
   {
    "duration": 286,
    "start_time": "2023-09-15T12:59:00.045Z"
   },
   {
    "duration": 275,
    "start_time": "2023-09-15T12:59:00.334Z"
   },
   {
    "duration": 244,
    "start_time": "2023-09-15T12:59:00.611Z"
   },
   {
    "duration": 285,
    "start_time": "2023-09-15T12:59:00.857Z"
   },
   {
    "duration": 311,
    "start_time": "2023-09-15T12:59:01.144Z"
   },
   {
    "duration": 373,
    "start_time": "2023-09-15T12:59:01.457Z"
   },
   {
    "duration": 285,
    "start_time": "2023-09-15T12:59:01.832Z"
   },
   {
    "duration": 23,
    "start_time": "2023-09-15T12:59:02.119Z"
   },
   {
    "duration": 141,
    "start_time": "2023-09-15T12:59:02.146Z"
   },
   {
    "duration": 191,
    "start_time": "2023-09-15T12:59:02.290Z"
   },
   {
    "duration": 97,
    "start_time": "2023-09-15T12:59:02.484Z"
   },
   {
    "duration": 11,
    "start_time": "2023-09-15T12:59:02.583Z"
   },
   {
    "duration": 328,
    "start_time": "2023-09-15T12:59:02.596Z"
   },
   {
    "duration": 3,
    "start_time": "2023-09-15T12:59:02.926Z"
   },
   {
    "duration": 57,
    "start_time": "2023-09-15T12:59:02.931Z"
   },
   {
    "duration": 5,
    "start_time": "2023-09-15T12:59:02.990Z"
   },
   {
    "duration": 28597,
    "start_time": "2023-09-15T12:59:02.997Z"
   },
   {
    "duration": 159994,
    "start_time": "2023-09-15T12:59:31.596Z"
   },
   {
    "duration": 38564,
    "start_time": "2023-09-15T13:02:11.592Z"
   },
   {
    "duration": 11,
    "start_time": "2023-09-15T13:02:50.158Z"
   },
   {
    "duration": 19323,
    "start_time": "2023-09-15T13:02:50.171Z"
   },
   {
    "duration": 7,
    "start_time": "2023-09-15T13:03:09.496Z"
   }
  ],
  "kernelspec": {
   "display_name": "Python 3 (ipykernel)",
   "language": "python",
   "name": "python3"
  },
  "language_info": {
   "codemirror_mode": {
    "name": "ipython",
    "version": 3
   },
   "file_extension": ".py",
   "mimetype": "text/x-python",
   "name": "python",
   "nbconvert_exporter": "python",
   "pygments_lexer": "ipython3",
   "version": "3.9.5"
  },
  "toc": {
   "base_numbering": 1,
   "nav_menu": {},
   "number_sections": true,
   "sideBar": true,
   "skip_h1_title": true,
   "title_cell": "Table of Contents",
   "title_sidebar": "Contents",
   "toc_cell": false,
   "toc_position": {},
   "toc_section_display": true,
   "toc_window_display": false
  }
 },
 "nbformat": 4,
 "nbformat_minor": 2
}

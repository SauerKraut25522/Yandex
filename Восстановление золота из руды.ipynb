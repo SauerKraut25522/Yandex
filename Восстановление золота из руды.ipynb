{
 "cells": [
  {
   "cell_type": "markdown",
   "metadata": {
    "toc": true
   },
   "source": [
    "<h1>Содержание<span class=\"tocSkip\"></span></h1>\n",
    "<div class=\"toc\"><ul class=\"toc-item\"><li><span><a href=\"#Подготовка-данных\" data-toc-modified-id=\"Подготовка-данных-1\"><span class=\"toc-item-num\">1&nbsp;&nbsp;</span>Подготовка данных</a></span><ul class=\"toc-item\"><li><span><a href=\"#Изучение-файлов.\" data-toc-modified-id=\"Изучение-файлов.-1.1\"><span class=\"toc-item-num\">1.1&nbsp;&nbsp;</span>Изучение файлов.</a></span></li><li><span><a href=\"#Проверка-правильности-расчёта-эффективности-обогащения.\" data-toc-modified-id=\"Проверка-правильности-расчёта-эффективности-обогащения.-1.2\"><span class=\"toc-item-num\">1.2&nbsp;&nbsp;</span>Проверка правильности расчёта эффективности обогащения.</a></span></li><li><span><a href=\"#Анализ-признаков,-недоступных-в-тестовой-выборке.\" data-toc-modified-id=\"Анализ-признаков,-недоступных-в-тестовой-выборке.-1.3\"><span class=\"toc-item-num\">1.3&nbsp;&nbsp;</span>Анализ признаков, недоступных в тестовой выборке.</a></span></li><li><span><a href=\"#Предобработка-данных.\" data-toc-modified-id=\"Предобработка-данных.-1.4\"><span class=\"toc-item-num\">1.4&nbsp;&nbsp;</span>Предобработка данных.</a></span></li></ul></li><li><span><a href=\"#Анализ-данных\" data-toc-modified-id=\"Анализ-данных-2\"><span class=\"toc-item-num\">2&nbsp;&nbsp;</span>Анализ данных</a></span><ul class=\"toc-item\"><li><span><a href=\"#Концентрация-металлов-(Au,-Ag,-Pb)-на-различных-этапах.\" data-toc-modified-id=\"Концентрация-металлов-(Au,-Ag,-Pb)-на-различных-этапах.-2.1\"><span class=\"toc-item-num\">2.1&nbsp;&nbsp;</span>Концентрация металлов (Au, Ag, Pb) на различных этапах.</a></span></li><li><span><a href=\"#Сравнение--размеров-гранул-исходного-сырья-на-обучающей-и-тестовой-выборках.\" data-toc-modified-id=\"Сравнение--размеров-гранул-исходного-сырья-на-обучающей-и-тестовой-выборках.-2.2\"><span class=\"toc-item-num\">2.2&nbsp;&nbsp;</span>Сравнение  размеров гранул исходного сырья на обучающей и тестовой выборках.</a></span></li><li><span><a href=\"#Суммарная-концентрация-металлов-на-разных-стадиях.\" data-toc-modified-id=\"Суммарная-концентрация-металлов-на-разных-стадиях.-2.3\"><span class=\"toc-item-num\">2.3&nbsp;&nbsp;</span>Суммарная концентрация металлов на разных стадиях.</a></span></li></ul></li><li><span><a href=\"#Модель\" data-toc-modified-id=\"Модель-3\"><span class=\"toc-item-num\">3&nbsp;&nbsp;</span>Модель</a></span><ul class=\"toc-item\"><li><span><a href=\"#Функция-для-sMAPE.\" data-toc-modified-id=\"Функция-для-sMAPE.-3.1\"><span class=\"toc-item-num\">3.1&nbsp;&nbsp;</span>Функция для sMAPE.</a></span></li><li><span><a href=\"#Создание-выборок.\" data-toc-modified-id=\"Создание-выборок.-3.2\"><span class=\"toc-item-num\">3.2&nbsp;&nbsp;</span>Создание выборок.</a></span></li><li><span><a href=\"#Выбор-лучшей-модели.\" data-toc-modified-id=\"Выбор-лучшей-модели.-3.3\"><span class=\"toc-item-num\">3.3&nbsp;&nbsp;</span>Выбор лучшей модели.</a></span><ul class=\"toc-item\"><li><span><a href=\"#RandomForestRegressor.\" data-toc-modified-id=\"RandomForestRegressor.-3.3.1\"><span class=\"toc-item-num\">3.3.1&nbsp;&nbsp;</span>RandomForestRegressor.</a></span></li><li><span><a href=\"#DecisionTreeRegressor.\" data-toc-modified-id=\"DecisionTreeRegressor.-3.3.2\"><span class=\"toc-item-num\">3.3.2&nbsp;&nbsp;</span>DecisionTreeRegressor.</a></span></li></ul></li><li><span><a href=\"#Проверка-на-тестовой-выборке.\" data-toc-modified-id=\"Проверка-на-тестовой-выборке.-3.4\"><span class=\"toc-item-num\">3.4&nbsp;&nbsp;</span>Проверка на тестовой выборке.</a></span></li><li><span><a href=\"#Проверка-на-константной-модели.\" data-toc-modified-id=\"Проверка-на-константной-модели.-3.5\"><span class=\"toc-item-num\">3.5&nbsp;&nbsp;</span>Проверка на константной модели.</a></span></li></ul></li><li><span><a href=\"#Вывод.\" data-toc-modified-id=\"Вывод.-4\"><span class=\"toc-item-num\">4&nbsp;&nbsp;</span>Вывод.</a></span></li></ul></div>"
   ]
  },
  {
   "cell_type": "markdown",
   "metadata": {},
   "source": [
    "# Восстановление золота из руды"
   ]
  },
  {
   "cell_type": "markdown",
   "metadata": {},
   "source": [
    "Подготовьте прототип модели машинного обучения для «Цифры». Компания разрабатывает решения для эффективной работы промышленных предприятий.\n",
    "\n",
    "Модель должна предсказать коэффициент восстановления золота из золотосодержащей руды. Используйте данные с параметрами добычи и очистки. \n",
    "\n",
    "Модель поможет оптимизировать производство, чтобы не запускать предприятие с убыточными характеристиками.\n",
    "\n",
    "Вам нужно:\n",
    "\n",
    "1. Подготовить данные;\n",
    "2. Провести исследовательский анализ данных;\n",
    "3. Построить и обучить модель.\n",
    "\n",
    "**Используемые инструменты:**\n",
    "pandas, numpy, matplotlib, seaborn, scipy, sklearn"
   ]
  },
  {
   "cell_type": "markdown",
   "metadata": {},
   "source": [
    "## Подготовка данных"
   ]
  },
  {
   "cell_type": "markdown",
   "metadata": {},
   "source": [
    "### Изучение файлов."
   ]
  },
  {
   "cell_type": "code",
   "execution_count": 1,
   "metadata": {},
   "outputs": [],
   "source": [
    "# импортируем все нужные библиотеки\n",
    "import pandas as pd\n",
    "import os\n",
    "import numpy as np\n",
    "import warnings\n",
    "warnings.filterwarnings('ignore')\n",
    "import matplotlib.pyplot as plt\n",
    "import seaborn as sns\n",
    "from scipy import stats as st\n",
    "\n",
    "from sklearn.metrics import mean_absolute_error, make_scorer\n",
    "from sklearn.model_selection import GridSearchCV\n",
    "from sklearn.ensemble import RandomForestRegressor\n",
    "from sklearn.tree import DecisionTreeRegressor\n",
    "from sklearn.dummy import DummyRegressor\n",
    "\n",
    "STATE = np.random.RandomState(12345)"
   ]
  },
  {
   "cell_type": "code",
   "execution_count": 2,
   "metadata": {},
   "outputs": [],
   "source": [
    "df_train = '/datasets/gold_industry_train.csv' \n",
    "df_test = '/datasets/gold_industry_test.csv' \n",
    "df_full = '/datasets/gold_industry_full.csv'\n",
    "\n",
    "if os.path.exists(df_train):\n",
    "    query_train = pd.read_csv(df_train)\n",
    "elif os.path.exists(df_test):\n",
    "    query_test = pd.read_csv(df_test)\n",
    "elif os.path.exists(df_full):\n",
    "    query_full = pd.read_csv(df_full)\n",
    "else:\n",
    "    print('Что-то пошло не по плану.')\n",
    "\n",
    "# сохраним в переменную обучающую выборку\n",
    "df_train = pd.read_csv('/datasets/gold_industry_train.csv') \n",
    "# тестовую выборку\n",
    "df_test = pd.read_csv('/datasets/gold_industry_test.csv') \n",
    "# и исходные данные\n",
    "df_full = pd.read_csv('/datasets/gold_industry_full.csv') "
   ]
  },
  {
   "cell_type": "code",
   "execution_count": 3,
   "metadata": {
    "scrolled": true
   },
   "outputs": [],
   "source": [
    "# напишем функцию для вывода всей информации\n",
    "def info(df):\n",
    "    display(df.info())\n",
    "    display(df.sample(10))\n",
    "    display(df.describe().T)\n",
    "    print('*' * 100)"
   ]
  },
  {
   "cell_type": "code",
   "execution_count": 4,
   "metadata": {
    "scrolled": true
   },
   "outputs": [
    {
     "name": "stdout",
     "output_type": "stream",
     "text": [
      "<class 'pandas.core.frame.DataFrame'>\n",
      "RangeIndex: 14579 entries, 0 to 14578\n",
      "Data columns (total 87 columns):\n",
      " #   Column                                              Non-Null Count  Dtype  \n",
      "---  ------                                              --------------  -----  \n",
      " 0   date                                                14579 non-null  object \n",
      " 1   rougher.input.feed_au                               14579 non-null  float64\n",
      " 2   rougher.input.feed_ag                               14579 non-null  float64\n",
      " 3   rougher.input.feed_pb                               14507 non-null  float64\n",
      " 4   rougher.input.feed_sol                              14502 non-null  float64\n",
      " 5   rougher.input.feed_rate                             14572 non-null  float64\n",
      " 6   rougher.input.feed_size                             14478 non-null  float64\n",
      " 7   rougher.input.floatbank10_sulfate                   14548 non-null  float64\n",
      " 8   rougher.input.floatbank10_xanthate                  14572 non-null  float64\n",
      " 9   rougher.state.floatbank10_a_air                     14579 non-null  float64\n",
      " 10  rougher.state.floatbank10_a_level                   14579 non-null  float64\n",
      " 11  rougher.state.floatbank10_b_air                     14579 non-null  float64\n",
      " 12  rougher.state.floatbank10_b_level                   14579 non-null  float64\n",
      " 13  rougher.state.floatbank10_c_air                     14579 non-null  float64\n",
      " 14  rougher.state.floatbank10_c_level                   14579 non-null  float64\n",
      " 15  rougher.state.floatbank10_d_air                     14579 non-null  float64\n",
      " 16  rougher.state.floatbank10_d_level                   14579 non-null  float64\n",
      " 17  rougher.state.floatbank10_e_air                     14150 non-null  float64\n",
      " 18  rougher.state.floatbank10_e_level                   14579 non-null  float64\n",
      " 19  rougher.state.floatbank10_f_air                     14579 non-null  float64\n",
      " 20  rougher.state.floatbank10_f_level                   14579 non-null  float64\n",
      " 21  rougher.input.floatbank11_sulfate                   14543 non-null  float64\n",
      " 22  rougher.input.floatbank11_xanthate                  14172 non-null  float64\n",
      " 23  rougher.calculation.sulfate_to_au_concentrate       14578 non-null  float64\n",
      " 24  rougher.calculation.floatbank10_sulfate_to_au_feed  14578 non-null  float64\n",
      " 25  rougher.calculation.floatbank11_sulfate_to_au_feed  14578 non-null  float64\n",
      " 26  rougher.calculation.au_pb_ratio                     14579 non-null  float64\n",
      " 27  rougher.output.concentrate_au                       14579 non-null  float64\n",
      " 28  rougher.output.concentrate_ag                       14579 non-null  float64\n",
      " 29  rougher.output.concentrate_pb                       14579 non-null  float64\n",
      " 30  rougher.output.concentrate_sol                      14561 non-null  float64\n",
      " 31  rougher.output.recovery                             14579 non-null  float64\n",
      " 32  rougher.output.tail_au                              14579 non-null  float64\n",
      " 33  rougher.output.tail_ag                              14578 non-null  float64\n",
      " 34  rougher.output.tail_pb                              14579 non-null  float64\n",
      " 35  rougher.output.tail_sol                             14579 non-null  float64\n",
      " 36  primary_cleaner.input.sulfate                       14556 non-null  float64\n",
      " 37  primary_cleaner.input.depressant                    14551 non-null  float64\n",
      " 38  primary_cleaner.input.feed_size                     14579 non-null  float64\n",
      " 39  primary_cleaner.input.xanthate                      14518 non-null  float64\n",
      " 40  primary_cleaner.state.floatbank8_a_air              14576 non-null  float64\n",
      " 41  primary_cleaner.state.floatbank8_a_level            14579 non-null  float64\n",
      " 42  primary_cleaner.state.floatbank8_b_air              14576 non-null  float64\n",
      " 43  primary_cleaner.state.floatbank8_b_level            14579 non-null  float64\n",
      " 44  primary_cleaner.state.floatbank8_c_air              14579 non-null  float64\n",
      " 45  primary_cleaner.state.floatbank8_c_level            14579 non-null  float64\n",
      " 46  primary_cleaner.state.floatbank8_d_air              14578 non-null  float64\n",
      " 47  primary_cleaner.state.floatbank8_d_level            14579 non-null  float64\n",
      " 48  primary_cleaner.output.concentrate_au               14579 non-null  float64\n",
      " 49  primary_cleaner.output.concentrate_ag               14579 non-null  float64\n",
      " 50  primary_cleaner.output.concentrate_pb               14491 non-null  float64\n",
      " 51  primary_cleaner.output.concentrate_sol              14314 non-null  float64\n",
      " 52  primary_cleaner.output.tail_au                      14579 non-null  float64\n",
      " 53  primary_cleaner.output.tail_ag                      14575 non-null  float64\n",
      " 54  primary_cleaner.output.tail_pb                      14573 non-null  float64\n",
      " 55  primary_cleaner.output.tail_sol                     14534 non-null  float64\n",
      " 56  secondary_cleaner.state.floatbank2_a_air            14485 non-null  float64\n",
      " 57  secondary_cleaner.state.floatbank2_a_level          14579 non-null  float64\n",
      " 58  secondary_cleaner.state.floatbank2_b_air            14557 non-null  float64\n",
      " 59  secondary_cleaner.state.floatbank2_b_level          14579 non-null  float64\n",
      " 60  secondary_cleaner.state.floatbank3_a_air            14567 non-null  float64\n",
      " 61  secondary_cleaner.state.floatbank3_a_level          14579 non-null  float64\n",
      " 62  secondary_cleaner.state.floatbank3_b_air            14579 non-null  float64\n",
      " 63  secondary_cleaner.state.floatbank3_b_level          14579 non-null  float64\n",
      " 64  secondary_cleaner.state.floatbank4_a_air            14574 non-null  float64\n",
      " 65  secondary_cleaner.state.floatbank4_a_level          14579 non-null  float64\n",
      " 66  secondary_cleaner.state.floatbank4_b_air            14579 non-null  float64\n",
      " 67  secondary_cleaner.state.floatbank4_b_level          14579 non-null  float64\n",
      " 68  secondary_cleaner.state.floatbank5_a_air            14579 non-null  float64\n",
      " 69  secondary_cleaner.state.floatbank5_a_level          14579 non-null  float64\n",
      " 70  secondary_cleaner.state.floatbank5_b_air            14579 non-null  float64\n",
      " 71  secondary_cleaner.state.floatbank5_b_level          14579 non-null  float64\n",
      " 72  secondary_cleaner.state.floatbank6_a_air            14578 non-null  float64\n",
      " 73  secondary_cleaner.state.floatbank6_a_level          14579 non-null  float64\n",
      " 74  secondary_cleaner.output.tail_au                    14579 non-null  float64\n",
      " 75  secondary_cleaner.output.tail_ag                    14578 non-null  float64\n",
      " 76  secondary_cleaner.output.tail_pb                    14575 non-null  float64\n",
      " 77  secondary_cleaner.output.tail_sol                   13659 non-null  float64\n",
      " 78  final.output.concentrate_au                         14579 non-null  float64\n",
      " 79  final.output.concentrate_ag                         14578 non-null  float64\n",
      " 80  final.output.concentrate_pb                         14578 non-null  float64\n",
      " 81  final.output.concentrate_sol                        14387 non-null  float64\n",
      " 82  final.output.recovery                               14579 non-null  float64\n",
      " 83  final.output.tail_au                                14579 non-null  float64\n",
      " 84  final.output.tail_ag                                14578 non-null  float64\n",
      " 85  final.output.tail_pb                                14504 non-null  float64\n",
      " 86  final.output.tail_sol                               14574 non-null  float64\n",
      "dtypes: float64(86), object(1)\n",
      "memory usage: 9.7+ MB\n"
     ]
    },
    {
     "data": {
      "text/plain": [
       "None"
      ]
     },
     "metadata": {},
     "output_type": "display_data"
    },
    {
     "data": {
      "text/html": [
       "<div>\n",
       "<style scoped>\n",
       "    .dataframe tbody tr th:only-of-type {\n",
       "        vertical-align: middle;\n",
       "    }\n",
       "\n",
       "    .dataframe tbody tr th {\n",
       "        vertical-align: top;\n",
       "    }\n",
       "\n",
       "    .dataframe thead th {\n",
       "        text-align: right;\n",
       "    }\n",
       "</style>\n",
       "<table border=\"1\" class=\"dataframe\">\n",
       "  <thead>\n",
       "    <tr style=\"text-align: right;\">\n",
       "      <th></th>\n",
       "      <th>date</th>\n",
       "      <th>rougher.input.feed_au</th>\n",
       "      <th>rougher.input.feed_ag</th>\n",
       "      <th>rougher.input.feed_pb</th>\n",
       "      <th>rougher.input.feed_sol</th>\n",
       "      <th>rougher.input.feed_rate</th>\n",
       "      <th>rougher.input.feed_size</th>\n",
       "      <th>rougher.input.floatbank10_sulfate</th>\n",
       "      <th>rougher.input.floatbank10_xanthate</th>\n",
       "      <th>rougher.state.floatbank10_a_air</th>\n",
       "      <th>...</th>\n",
       "      <th>secondary_cleaner.output.tail_sol</th>\n",
       "      <th>final.output.concentrate_au</th>\n",
       "      <th>final.output.concentrate_ag</th>\n",
       "      <th>final.output.concentrate_pb</th>\n",
       "      <th>final.output.concentrate_sol</th>\n",
       "      <th>final.output.recovery</th>\n",
       "      <th>final.output.tail_au</th>\n",
       "      <th>final.output.tail_ag</th>\n",
       "      <th>final.output.tail_pb</th>\n",
       "      <th>final.output.tail_sol</th>\n",
       "    </tr>\n",
       "  </thead>\n",
       "  <tbody>\n",
       "    <tr>\n",
       "      <th>1990</th>\n",
       "      <td>2016-04-29 22:59:59</td>\n",
       "      <td>6.598314</td>\n",
       "      <td>7.428899</td>\n",
       "      <td>3.121435</td>\n",
       "      <td>NaN</td>\n",
       "      <td>562.347365</td>\n",
       "      <td>57.469685</td>\n",
       "      <td>10.771928</td>\n",
       "      <td>5.375246</td>\n",
       "      <td>1000.292976</td>\n",
       "      <td>...</td>\n",
       "      <td>11.051053</td>\n",
       "      <td>45.287703</td>\n",
       "      <td>3.920338</td>\n",
       "      <td>10.078976</td>\n",
       "      <td>9.148897</td>\n",
       "      <td>65.200561</td>\n",
       "      <td>2.537199</td>\n",
       "      <td>7.650352</td>\n",
       "      <td>2.079557</td>\n",
       "      <td>11.884037</td>\n",
       "    </tr>\n",
       "    <tr>\n",
       "      <th>6582</th>\n",
       "      <td>2016-11-30 23:59:59</td>\n",
       "      <td>10.588789</td>\n",
       "      <td>9.730610</td>\n",
       "      <td>4.592616</td>\n",
       "      <td>19.410935</td>\n",
       "      <td>179.904602</td>\n",
       "      <td>88.142024</td>\n",
       "      <td>12.998855</td>\n",
       "      <td>5.100194</td>\n",
       "      <td>1053.982703</td>\n",
       "      <td>...</td>\n",
       "      <td>0.000000</td>\n",
       "      <td>43.183382</td>\n",
       "      <td>6.731278</td>\n",
       "      <td>10.161368</td>\n",
       "      <td>8.299971</td>\n",
       "      <td>73.467544</td>\n",
       "      <td>3.426789</td>\n",
       "      <td>10.841403</td>\n",
       "      <td>3.492402</td>\n",
       "      <td>6.080923</td>\n",
       "    </tr>\n",
       "    <tr>\n",
       "      <th>9205</th>\n",
       "      <td>2017-04-03 13:59:59</td>\n",
       "      <td>7.629727</td>\n",
       "      <td>6.752622</td>\n",
       "      <td>4.957743</td>\n",
       "      <td>39.580756</td>\n",
       "      <td>551.943460</td>\n",
       "      <td>53.600822</td>\n",
       "      <td>17.997643</td>\n",
       "      <td>6.599009</td>\n",
       "      <td>1000.200838</td>\n",
       "      <td>...</td>\n",
       "      <td>4.068375</td>\n",
       "      <td>44.195548</td>\n",
       "      <td>3.778843</td>\n",
       "      <td>13.618535</td>\n",
       "      <td>7.386378</td>\n",
       "      <td>65.324706</td>\n",
       "      <td>2.981912</td>\n",
       "      <td>7.043901</td>\n",
       "      <td>4.047227</td>\n",
       "      <td>12.350950</td>\n",
       "    </tr>\n",
       "    <tr>\n",
       "      <th>12999</th>\n",
       "      <td>2017-09-30 23:59:59</td>\n",
       "      <td>12.613506</td>\n",
       "      <td>13.149099</td>\n",
       "      <td>6.013013</td>\n",
       "      <td>35.418117</td>\n",
       "      <td>447.970107</td>\n",
       "      <td>49.592926</td>\n",
       "      <td>11.952105</td>\n",
       "      <td>7.197269</td>\n",
       "      <td>1301.870472</td>\n",
       "      <td>...</td>\n",
       "      <td>5.131174</td>\n",
       "      <td>42.339264</td>\n",
       "      <td>6.348861</td>\n",
       "      <td>10.892700</td>\n",
       "      <td>8.442534</td>\n",
       "      <td>79.145480</td>\n",
       "      <td>3.442082</td>\n",
       "      <td>15.020250</td>\n",
       "      <td>3.722153</td>\n",
       "      <td>6.781955</td>\n",
       "    </tr>\n",
       "    <tr>\n",
       "      <th>11502</th>\n",
       "      <td>2017-07-23 12:59:59</td>\n",
       "      <td>11.971857</td>\n",
       "      <td>13.079138</td>\n",
       "      <td>5.670779</td>\n",
       "      <td>40.288417</td>\n",
       "      <td>511.248477</td>\n",
       "      <td>47.523377</td>\n",
       "      <td>13.747831</td>\n",
       "      <td>7.518502</td>\n",
       "      <td>1201.848437</td>\n",
       "      <td>...</td>\n",
       "      <td>7.856225</td>\n",
       "      <td>45.830429</td>\n",
       "      <td>5.405570</td>\n",
       "      <td>9.480588</td>\n",
       "      <td>10.288149</td>\n",
       "      <td>71.489739</td>\n",
       "      <td>4.196976</td>\n",
       "      <td>14.881438</td>\n",
       "      <td>4.105106</td>\n",
       "      <td>11.928071</td>\n",
       "    </tr>\n",
       "    <tr>\n",
       "      <th>10114</th>\n",
       "      <td>2017-05-19 22:59:59</td>\n",
       "      <td>6.874674</td>\n",
       "      <td>5.935849</td>\n",
       "      <td>2.984894</td>\n",
       "      <td>43.788691</td>\n",
       "      <td>575.345544</td>\n",
       "      <td>58.042789</td>\n",
       "      <td>17.999559</td>\n",
       "      <td>6.401473</td>\n",
       "      <td>1000.566189</td>\n",
       "      <td>...</td>\n",
       "      <td>2.517501</td>\n",
       "      <td>41.780833</td>\n",
       "      <td>5.537321</td>\n",
       "      <td>12.659839</td>\n",
       "      <td>6.348174</td>\n",
       "      <td>73.516913</td>\n",
       "      <td>2.071166</td>\n",
       "      <td>6.786461</td>\n",
       "      <td>2.340700</td>\n",
       "      <td>9.917045</td>\n",
       "    </tr>\n",
       "    <tr>\n",
       "      <th>7225</th>\n",
       "      <td>2016-12-28 19:59:59</td>\n",
       "      <td>7.294356</td>\n",
       "      <td>8.039748</td>\n",
       "      <td>3.373283</td>\n",
       "      <td>35.810835</td>\n",
       "      <td>431.665947</td>\n",
       "      <td>51.463600</td>\n",
       "      <td>12.502206</td>\n",
       "      <td>4.101663</td>\n",
       "      <td>1298.766427</td>\n",
       "      <td>...</td>\n",
       "      <td>7.378701</td>\n",
       "      <td>48.030530</td>\n",
       "      <td>3.539175</td>\n",
       "      <td>9.989117</td>\n",
       "      <td>11.323443</td>\n",
       "      <td>55.933202</td>\n",
       "      <td>3.512783</td>\n",
       "      <td>8.559376</td>\n",
       "      <td>3.326999</td>\n",
       "      <td>11.483454</td>\n",
       "    </tr>\n",
       "    <tr>\n",
       "      <th>8357</th>\n",
       "      <td>2017-02-22 01:59:59</td>\n",
       "      <td>5.918339</td>\n",
       "      <td>6.975849</td>\n",
       "      <td>2.784988</td>\n",
       "      <td>38.787174</td>\n",
       "      <td>504.470089</td>\n",
       "      <td>52.318718</td>\n",
       "      <td>17.000123</td>\n",
       "      <td>4.599433</td>\n",
       "      <td>998.798435</td>\n",
       "      <td>...</td>\n",
       "      <td>3.162953</td>\n",
       "      <td>47.728580</td>\n",
       "      <td>3.722409</td>\n",
       "      <td>10.059069</td>\n",
       "      <td>7.989299</td>\n",
       "      <td>61.838409</td>\n",
       "      <td>2.446098</td>\n",
       "      <td>7.535716</td>\n",
       "      <td>2.698499</td>\n",
       "      <td>10.633084</td>\n",
       "    </tr>\n",
       "    <tr>\n",
       "      <th>10492</th>\n",
       "      <td>2017-06-09 10:59:59</td>\n",
       "      <td>9.129400</td>\n",
       "      <td>7.863408</td>\n",
       "      <td>4.546830</td>\n",
       "      <td>45.932508</td>\n",
       "      <td>660.368401</td>\n",
       "      <td>73.597272</td>\n",
       "      <td>18.002818</td>\n",
       "      <td>6.497630</td>\n",
       "      <td>1300.441953</td>\n",
       "      <td>...</td>\n",
       "      <td>7.289431</td>\n",
       "      <td>42.041341</td>\n",
       "      <td>5.908475</td>\n",
       "      <td>12.498464</td>\n",
       "      <td>9.267660</td>\n",
       "      <td>77.519356</td>\n",
       "      <td>2.467760</td>\n",
       "      <td>7.510774</td>\n",
       "      <td>3.354385</td>\n",
       "      <td>14.977395</td>\n",
       "    </tr>\n",
       "    <tr>\n",
       "      <th>13104</th>\n",
       "      <td>2017-10-05 08:59:59</td>\n",
       "      <td>6.362825</td>\n",
       "      <td>10.136104</td>\n",
       "      <td>3.001986</td>\n",
       "      <td>33.565550</td>\n",
       "      <td>363.437866</td>\n",
       "      <td>55.009918</td>\n",
       "      <td>5.289130</td>\n",
       "      <td>6.932844</td>\n",
       "      <td>996.768820</td>\n",
       "      <td>...</td>\n",
       "      <td>NaN</td>\n",
       "      <td>48.110914</td>\n",
       "      <td>5.816174</td>\n",
       "      <td>7.702905</td>\n",
       "      <td>7.682277</td>\n",
       "      <td>61.347281</td>\n",
       "      <td>2.676565</td>\n",
       "      <td>12.149815</td>\n",
       "      <td>2.189581</td>\n",
       "      <td>3.582011</td>\n",
       "    </tr>\n",
       "  </tbody>\n",
       "</table>\n",
       "<p>10 rows × 87 columns</p>\n",
       "</div>"
      ],
      "text/plain": [
       "                      date  rougher.input.feed_au  rougher.input.feed_ag  \\\n",
       "1990   2016-04-29 22:59:59               6.598314               7.428899   \n",
       "6582   2016-11-30 23:59:59              10.588789               9.730610   \n",
       "9205   2017-04-03 13:59:59               7.629727               6.752622   \n",
       "12999  2017-09-30 23:59:59              12.613506              13.149099   \n",
       "11502  2017-07-23 12:59:59              11.971857              13.079138   \n",
       "10114  2017-05-19 22:59:59               6.874674               5.935849   \n",
       "7225   2016-12-28 19:59:59               7.294356               8.039748   \n",
       "8357   2017-02-22 01:59:59               5.918339               6.975849   \n",
       "10492  2017-06-09 10:59:59               9.129400               7.863408   \n",
       "13104  2017-10-05 08:59:59               6.362825              10.136104   \n",
       "\n",
       "       rougher.input.feed_pb  rougher.input.feed_sol  rougher.input.feed_rate  \\\n",
       "1990                3.121435                     NaN               562.347365   \n",
       "6582                4.592616               19.410935               179.904602   \n",
       "9205                4.957743               39.580756               551.943460   \n",
       "12999               6.013013               35.418117               447.970107   \n",
       "11502               5.670779               40.288417               511.248477   \n",
       "10114               2.984894               43.788691               575.345544   \n",
       "7225                3.373283               35.810835               431.665947   \n",
       "8357                2.784988               38.787174               504.470089   \n",
       "10492               4.546830               45.932508               660.368401   \n",
       "13104               3.001986               33.565550               363.437866   \n",
       "\n",
       "       rougher.input.feed_size  rougher.input.floatbank10_sulfate  \\\n",
       "1990                 57.469685                          10.771928   \n",
       "6582                 88.142024                          12.998855   \n",
       "9205                 53.600822                          17.997643   \n",
       "12999                49.592926                          11.952105   \n",
       "11502                47.523377                          13.747831   \n",
       "10114                58.042789                          17.999559   \n",
       "7225                 51.463600                          12.502206   \n",
       "8357                 52.318718                          17.000123   \n",
       "10492                73.597272                          18.002818   \n",
       "13104                55.009918                           5.289130   \n",
       "\n",
       "       rougher.input.floatbank10_xanthate  rougher.state.floatbank10_a_air  \\\n",
       "1990                             5.375246                      1000.292976   \n",
       "6582                             5.100194                      1053.982703   \n",
       "9205                             6.599009                      1000.200838   \n",
       "12999                            7.197269                      1301.870472   \n",
       "11502                            7.518502                      1201.848437   \n",
       "10114                            6.401473                      1000.566189   \n",
       "7225                             4.101663                      1298.766427   \n",
       "8357                             4.599433                       998.798435   \n",
       "10492                            6.497630                      1300.441953   \n",
       "13104                            6.932844                       996.768820   \n",
       "\n",
       "       ...  secondary_cleaner.output.tail_sol  final.output.concentrate_au  \\\n",
       "1990   ...                          11.051053                    45.287703   \n",
       "6582   ...                           0.000000                    43.183382   \n",
       "9205   ...                           4.068375                    44.195548   \n",
       "12999  ...                           5.131174                    42.339264   \n",
       "11502  ...                           7.856225                    45.830429   \n",
       "10114  ...                           2.517501                    41.780833   \n",
       "7225   ...                           7.378701                    48.030530   \n",
       "8357   ...                           3.162953                    47.728580   \n",
       "10492  ...                           7.289431                    42.041341   \n",
       "13104  ...                                NaN                    48.110914   \n",
       "\n",
       "       final.output.concentrate_ag  final.output.concentrate_pb  \\\n",
       "1990                      3.920338                    10.078976   \n",
       "6582                      6.731278                    10.161368   \n",
       "9205                      3.778843                    13.618535   \n",
       "12999                     6.348861                    10.892700   \n",
       "11502                     5.405570                     9.480588   \n",
       "10114                     5.537321                    12.659839   \n",
       "7225                      3.539175                     9.989117   \n",
       "8357                      3.722409                    10.059069   \n",
       "10492                     5.908475                    12.498464   \n",
       "13104                     5.816174                     7.702905   \n",
       "\n",
       "       final.output.concentrate_sol  final.output.recovery  \\\n",
       "1990                       9.148897              65.200561   \n",
       "6582                       8.299971              73.467544   \n",
       "9205                       7.386378              65.324706   \n",
       "12999                      8.442534              79.145480   \n",
       "11502                     10.288149              71.489739   \n",
       "10114                      6.348174              73.516913   \n",
       "7225                      11.323443              55.933202   \n",
       "8357                       7.989299              61.838409   \n",
       "10492                      9.267660              77.519356   \n",
       "13104                      7.682277              61.347281   \n",
       "\n",
       "       final.output.tail_au  final.output.tail_ag  final.output.tail_pb  \\\n",
       "1990               2.537199              7.650352              2.079557   \n",
       "6582               3.426789             10.841403              3.492402   \n",
       "9205               2.981912              7.043901              4.047227   \n",
       "12999              3.442082             15.020250              3.722153   \n",
       "11502              4.196976             14.881438              4.105106   \n",
       "10114              2.071166              6.786461              2.340700   \n",
       "7225               3.512783              8.559376              3.326999   \n",
       "8357               2.446098              7.535716              2.698499   \n",
       "10492              2.467760              7.510774              3.354385   \n",
       "13104              2.676565             12.149815              2.189581   \n",
       "\n",
       "       final.output.tail_sol  \n",
       "1990               11.884037  \n",
       "6582                6.080923  \n",
       "9205               12.350950  \n",
       "12999               6.781955  \n",
       "11502              11.928071  \n",
       "10114               9.917045  \n",
       "7225               11.483454  \n",
       "8357               10.633084  \n",
       "10492              14.977395  \n",
       "13104               3.582011  \n",
       "\n",
       "[10 rows x 87 columns]"
      ]
     },
     "metadata": {},
     "output_type": "display_data"
    },
    {
     "data": {
      "text/html": [
       "<div>\n",
       "<style scoped>\n",
       "    .dataframe tbody tr th:only-of-type {\n",
       "        vertical-align: middle;\n",
       "    }\n",
       "\n",
       "    .dataframe tbody tr th {\n",
       "        vertical-align: top;\n",
       "    }\n",
       "\n",
       "    .dataframe thead th {\n",
       "        text-align: right;\n",
       "    }\n",
       "</style>\n",
       "<table border=\"1\" class=\"dataframe\">\n",
       "  <thead>\n",
       "    <tr style=\"text-align: right;\">\n",
       "      <th></th>\n",
       "      <th>count</th>\n",
       "      <th>mean</th>\n",
       "      <th>std</th>\n",
       "      <th>min</th>\n",
       "      <th>25%</th>\n",
       "      <th>50%</th>\n",
       "      <th>75%</th>\n",
       "      <th>max</th>\n",
       "    </tr>\n",
       "  </thead>\n",
       "  <tbody>\n",
       "    <tr>\n",
       "      <th>rougher.input.feed_au</th>\n",
       "      <td>14579.0</td>\n",
       "      <td>8.352941</td>\n",
       "      <td>1.934376</td>\n",
       "      <td>0.010000</td>\n",
       "      <td>6.932996</td>\n",
       "      <td>8.225284</td>\n",
       "      <td>9.832210</td>\n",
       "      <td>13.731330</td>\n",
       "    </tr>\n",
       "    <tr>\n",
       "      <th>rougher.input.feed_ag</th>\n",
       "      <td>14579.0</td>\n",
       "      <td>8.877460</td>\n",
       "      <td>1.922536</td>\n",
       "      <td>0.010000</td>\n",
       "      <td>7.341922</td>\n",
       "      <td>8.715859</td>\n",
       "      <td>10.255843</td>\n",
       "      <td>14.596026</td>\n",
       "    </tr>\n",
       "    <tr>\n",
       "      <th>rougher.input.feed_pb</th>\n",
       "      <td>14507.0</td>\n",
       "      <td>3.604221</td>\n",
       "      <td>1.056063</td>\n",
       "      <td>0.010000</td>\n",
       "      <td>2.880490</td>\n",
       "      <td>3.532399</td>\n",
       "      <td>4.257282</td>\n",
       "      <td>7.052325</td>\n",
       "    </tr>\n",
       "    <tr>\n",
       "      <th>rougher.input.feed_sol</th>\n",
       "      <td>14502.0</td>\n",
       "      <td>36.561420</td>\n",
       "      <td>5.209823</td>\n",
       "      <td>0.010000</td>\n",
       "      <td>34.093951</td>\n",
       "      <td>37.097511</td>\n",
       "      <td>39.899799</td>\n",
       "      <td>53.475325</td>\n",
       "    </tr>\n",
       "    <tr>\n",
       "      <th>rougher.input.feed_rate</th>\n",
       "      <td>14572.0</td>\n",
       "      <td>474.332784</td>\n",
       "      <td>108.503552</td>\n",
       "      <td>0.002986</td>\n",
       "      <td>411.048483</td>\n",
       "      <td>498.187968</td>\n",
       "      <td>549.586552</td>\n",
       "      <td>717.508837</td>\n",
       "    </tr>\n",
       "    <tr>\n",
       "      <th>...</th>\n",
       "      <td>...</td>\n",
       "      <td>...</td>\n",
       "      <td>...</td>\n",
       "      <td>...</td>\n",
       "      <td>...</td>\n",
       "      <td>...</td>\n",
       "      <td>...</td>\n",
       "      <td>...</td>\n",
       "    </tr>\n",
       "    <tr>\n",
       "      <th>final.output.recovery</th>\n",
       "      <td>14579.0</td>\n",
       "      <td>66.759066</td>\n",
       "      <td>10.619709</td>\n",
       "      <td>0.000000</td>\n",
       "      <td>63.114596</td>\n",
       "      <td>67.962788</td>\n",
       "      <td>72.598187</td>\n",
       "      <td>100.000000</td>\n",
       "    </tr>\n",
       "    <tr>\n",
       "      <th>final.output.tail_au</th>\n",
       "      <td>14579.0</td>\n",
       "      <td>3.087939</td>\n",
       "      <td>0.915187</td>\n",
       "      <td>0.000000</td>\n",
       "      <td>2.505287</td>\n",
       "      <td>3.029238</td>\n",
       "      <td>3.614098</td>\n",
       "      <td>8.245022</td>\n",
       "    </tr>\n",
       "    <tr>\n",
       "      <th>final.output.tail_ag</th>\n",
       "      <td>14578.0</td>\n",
       "      <td>9.731972</td>\n",
       "      <td>2.358143</td>\n",
       "      <td>0.000000</td>\n",
       "      <td>8.088928</td>\n",
       "      <td>9.818512</td>\n",
       "      <td>11.169187</td>\n",
       "      <td>19.552149</td>\n",
       "    </tr>\n",
       "    <tr>\n",
       "      <th>final.output.tail_pb</th>\n",
       "      <td>14504.0</td>\n",
       "      <td>2.719985</td>\n",
       "      <td>0.958929</td>\n",
       "      <td>0.000000</td>\n",
       "      <td>2.036512</td>\n",
       "      <td>2.774847</td>\n",
       "      <td>3.353845</td>\n",
       "      <td>5.804178</td>\n",
       "    </tr>\n",
       "    <tr>\n",
       "      <th>final.output.tail_sol</th>\n",
       "      <td>14574.0</td>\n",
       "      <td>10.612745</td>\n",
       "      <td>2.871075</td>\n",
       "      <td>0.000000</td>\n",
       "      <td>9.013412</td>\n",
       "      <td>10.670515</td>\n",
       "      <td>12.130827</td>\n",
       "      <td>22.317730</td>\n",
       "    </tr>\n",
       "  </tbody>\n",
       "</table>\n",
       "<p>86 rows × 8 columns</p>\n",
       "</div>"
      ],
      "text/plain": [
       "                           count        mean         std       min  \\\n",
       "rougher.input.feed_au    14579.0    8.352941    1.934376  0.010000   \n",
       "rougher.input.feed_ag    14579.0    8.877460    1.922536  0.010000   \n",
       "rougher.input.feed_pb    14507.0    3.604221    1.056063  0.010000   \n",
       "rougher.input.feed_sol   14502.0   36.561420    5.209823  0.010000   \n",
       "rougher.input.feed_rate  14572.0  474.332784  108.503552  0.002986   \n",
       "...                          ...         ...         ...       ...   \n",
       "final.output.recovery    14579.0   66.759066   10.619709  0.000000   \n",
       "final.output.tail_au     14579.0    3.087939    0.915187  0.000000   \n",
       "final.output.tail_ag     14578.0    9.731972    2.358143  0.000000   \n",
       "final.output.tail_pb     14504.0    2.719985    0.958929  0.000000   \n",
       "final.output.tail_sol    14574.0   10.612745    2.871075  0.000000   \n",
       "\n",
       "                                25%         50%         75%         max  \n",
       "rougher.input.feed_au      6.932996    8.225284    9.832210   13.731330  \n",
       "rougher.input.feed_ag      7.341922    8.715859   10.255843   14.596026  \n",
       "rougher.input.feed_pb      2.880490    3.532399    4.257282    7.052325  \n",
       "rougher.input.feed_sol    34.093951   37.097511   39.899799   53.475325  \n",
       "rougher.input.feed_rate  411.048483  498.187968  549.586552  717.508837  \n",
       "...                             ...         ...         ...         ...  \n",
       "final.output.recovery     63.114596   67.962788   72.598187  100.000000  \n",
       "final.output.tail_au       2.505287    3.029238    3.614098    8.245022  \n",
       "final.output.tail_ag       8.088928    9.818512   11.169187   19.552149  \n",
       "final.output.tail_pb       2.036512    2.774847    3.353845    5.804178  \n",
       "final.output.tail_sol      9.013412   10.670515   12.130827   22.317730  \n",
       "\n",
       "[86 rows x 8 columns]"
      ]
     },
     "metadata": {},
     "output_type": "display_data"
    },
    {
     "name": "stdout",
     "output_type": "stream",
     "text": [
      "****************************************************************************************************\n",
      "<class 'pandas.core.frame.DataFrame'>\n",
      "RangeIndex: 4860 entries, 0 to 4859\n",
      "Data columns (total 53 columns):\n",
      " #   Column                                      Non-Null Count  Dtype  \n",
      "---  ------                                      --------------  -----  \n",
      " 0   date                                        4860 non-null   object \n",
      " 1   rougher.input.feed_au                       4860 non-null   float64\n",
      " 2   rougher.input.feed_ag                       4860 non-null   float64\n",
      " 3   rougher.input.feed_pb                       4832 non-null   float64\n",
      " 4   rougher.input.feed_sol                      4838 non-null   float64\n",
      " 5   rougher.input.feed_rate                     4856 non-null   float64\n",
      " 6   rougher.input.feed_size                     4816 non-null   float64\n",
      " 7   rougher.input.floatbank10_sulfate           4857 non-null   float64\n",
      " 8   rougher.input.floatbank10_xanthate          4859 non-null   float64\n",
      " 9   rougher.state.floatbank10_a_air             4859 non-null   float64\n",
      " 10  rougher.state.floatbank10_a_level           4859 non-null   float64\n",
      " 11  rougher.state.floatbank10_b_air             4859 non-null   float64\n",
      " 12  rougher.state.floatbank10_b_level           4859 non-null   float64\n",
      " 13  rougher.state.floatbank10_c_air             4859 non-null   float64\n",
      " 14  rougher.state.floatbank10_c_level           4859 non-null   float64\n",
      " 15  rougher.state.floatbank10_d_air             4860 non-null   float64\n",
      " 16  rougher.state.floatbank10_d_level           4860 non-null   float64\n",
      " 17  rougher.state.floatbank10_e_air             4853 non-null   float64\n",
      " 18  rougher.state.floatbank10_e_level           4860 non-null   float64\n",
      " 19  rougher.state.floatbank10_f_air             4860 non-null   float64\n",
      " 20  rougher.state.floatbank10_f_level           4860 non-null   float64\n",
      " 21  rougher.input.floatbank11_sulfate           4852 non-null   float64\n",
      " 22  rougher.input.floatbank11_xanthate          4814 non-null   float64\n",
      " 23  primary_cleaner.input.sulfate               4859 non-null   float64\n",
      " 24  primary_cleaner.input.depressant            4851 non-null   float64\n",
      " 25  primary_cleaner.input.feed_size             4860 non-null   float64\n",
      " 26  primary_cleaner.input.xanthate              4817 non-null   float64\n",
      " 27  primary_cleaner.state.floatbank8_a_air      4859 non-null   float64\n",
      " 28  primary_cleaner.state.floatbank8_a_level    4859 non-null   float64\n",
      " 29  primary_cleaner.state.floatbank8_b_air      4859 non-null   float64\n",
      " 30  primary_cleaner.state.floatbank8_b_level    4859 non-null   float64\n",
      " 31  primary_cleaner.state.floatbank8_c_air      4858 non-null   float64\n",
      " 32  primary_cleaner.state.floatbank8_c_level    4859 non-null   float64\n",
      " 33  primary_cleaner.state.floatbank8_d_air      4858 non-null   float64\n",
      " 34  primary_cleaner.state.floatbank8_d_level    4859 non-null   float64\n",
      " 35  secondary_cleaner.state.floatbank2_a_air    4734 non-null   float64\n",
      " 36  secondary_cleaner.state.floatbank2_a_level  4859 non-null   float64\n",
      " 37  secondary_cleaner.state.floatbank2_b_air    4859 non-null   float64\n",
      " 38  secondary_cleaner.state.floatbank2_b_level  4859 non-null   float64\n",
      " 39  secondary_cleaner.state.floatbank3_a_air    4859 non-null   float64\n",
      " 40  secondary_cleaner.state.floatbank3_a_level  4859 non-null   float64\n",
      " 41  secondary_cleaner.state.floatbank3_b_air    4859 non-null   float64\n",
      " 42  secondary_cleaner.state.floatbank3_b_level  4859 non-null   float64\n",
      " 43  secondary_cleaner.state.floatbank4_a_air    4859 non-null   float64\n",
      " 44  secondary_cleaner.state.floatbank4_a_level  4859 non-null   float64\n",
      " 45  secondary_cleaner.state.floatbank4_b_air    4859 non-null   float64\n",
      " 46  secondary_cleaner.state.floatbank4_b_level  4859 non-null   float64\n",
      " 47  secondary_cleaner.state.floatbank5_a_air    4859 non-null   float64\n",
      " 48  secondary_cleaner.state.floatbank5_a_level  4859 non-null   float64\n",
      " 49  secondary_cleaner.state.floatbank5_b_air    4859 non-null   float64\n",
      " 50  secondary_cleaner.state.floatbank5_b_level  4859 non-null   float64\n",
      " 51  secondary_cleaner.state.floatbank6_a_air    4859 non-null   float64\n",
      " 52  secondary_cleaner.state.floatbank6_a_level  4859 non-null   float64\n",
      "dtypes: float64(52), object(1)\n",
      "memory usage: 2.0+ MB\n"
     ]
    },
    {
     "data": {
      "text/plain": [
       "None"
      ]
     },
     "metadata": {},
     "output_type": "display_data"
    },
    {
     "data": {
      "text/html": [
       "<div>\n",
       "<style scoped>\n",
       "    .dataframe tbody tr th:only-of-type {\n",
       "        vertical-align: middle;\n",
       "    }\n",
       "\n",
       "    .dataframe tbody tr th {\n",
       "        vertical-align: top;\n",
       "    }\n",
       "\n",
       "    .dataframe thead th {\n",
       "        text-align: right;\n",
       "    }\n",
       "</style>\n",
       "<table border=\"1\" class=\"dataframe\">\n",
       "  <thead>\n",
       "    <tr style=\"text-align: right;\">\n",
       "      <th></th>\n",
       "      <th>date</th>\n",
       "      <th>rougher.input.feed_au</th>\n",
       "      <th>rougher.input.feed_ag</th>\n",
       "      <th>rougher.input.feed_pb</th>\n",
       "      <th>rougher.input.feed_sol</th>\n",
       "      <th>rougher.input.feed_rate</th>\n",
       "      <th>rougher.input.feed_size</th>\n",
       "      <th>rougher.input.floatbank10_sulfate</th>\n",
       "      <th>rougher.input.floatbank10_xanthate</th>\n",
       "      <th>rougher.state.floatbank10_a_air</th>\n",
       "      <th>...</th>\n",
       "      <th>secondary_cleaner.state.floatbank4_a_air</th>\n",
       "      <th>secondary_cleaner.state.floatbank4_a_level</th>\n",
       "      <th>secondary_cleaner.state.floatbank4_b_air</th>\n",
       "      <th>secondary_cleaner.state.floatbank4_b_level</th>\n",
       "      <th>secondary_cleaner.state.floatbank5_a_air</th>\n",
       "      <th>secondary_cleaner.state.floatbank5_a_level</th>\n",
       "      <th>secondary_cleaner.state.floatbank5_b_air</th>\n",
       "      <th>secondary_cleaner.state.floatbank5_b_level</th>\n",
       "      <th>secondary_cleaner.state.floatbank6_a_air</th>\n",
       "      <th>secondary_cleaner.state.floatbank6_a_level</th>\n",
       "    </tr>\n",
       "  </thead>\n",
       "  <tbody>\n",
       "    <tr>\n",
       "      <th>3028</th>\n",
       "      <td>2018-05-19 07:59:59</td>\n",
       "      <td>8.502028</td>\n",
       "      <td>7.716918</td>\n",
       "      <td>3.809039</td>\n",
       "      <td>30.522297</td>\n",
       "      <td>369.954229</td>\n",
       "      <td>41.725262</td>\n",
       "      <td>9.999131</td>\n",
       "      <td>5.044090</td>\n",
       "      <td>1500.054800</td>\n",
       "      <td>...</td>\n",
       "      <td>24.937402</td>\n",
       "      <td>-500.533097</td>\n",
       "      <td>23.082277</td>\n",
       "      <td>-500.111084</td>\n",
       "      <td>22.970991</td>\n",
       "      <td>-500.241092</td>\n",
       "      <td>19.974936</td>\n",
       "      <td>-499.850940</td>\n",
       "      <td>25.026196</td>\n",
       "      <td>-600.352953</td>\n",
       "    </tr>\n",
       "    <tr>\n",
       "      <th>4135</th>\n",
       "      <td>2018-07-09 05:59:59</td>\n",
       "      <td>7.557595</td>\n",
       "      <td>7.553601</td>\n",
       "      <td>3.225060</td>\n",
       "      <td>33.434983</td>\n",
       "      <td>502.120211</td>\n",
       "      <td>55.393617</td>\n",
       "      <td>12.000477</td>\n",
       "      <td>5.494759</td>\n",
       "      <td>1000.021789</td>\n",
       "      <td>...</td>\n",
       "      <td>19.960798</td>\n",
       "      <td>-500.244115</td>\n",
       "      <td>8.040340</td>\n",
       "      <td>-501.130468</td>\n",
       "      <td>19.038692</td>\n",
       "      <td>-500.496114</td>\n",
       "      <td>6.947720</td>\n",
       "      <td>-499.808657</td>\n",
       "      <td>24.998499</td>\n",
       "      <td>-500.245682</td>\n",
       "    </tr>\n",
       "    <tr>\n",
       "      <th>966</th>\n",
       "      <td>2018-02-08 17:59:59</td>\n",
       "      <td>8.507986</td>\n",
       "      <td>12.384425</td>\n",
       "      <td>3.544659</td>\n",
       "      <td>43.028408</td>\n",
       "      <td>650.749989</td>\n",
       "      <td>87.718082</td>\n",
       "      <td>10.662550</td>\n",
       "      <td>7.598183</td>\n",
       "      <td>1304.011242</td>\n",
       "      <td>...</td>\n",
       "      <td>26.954071</td>\n",
       "      <td>-501.101223</td>\n",
       "      <td>19.975769</td>\n",
       "      <td>-501.716979</td>\n",
       "      <td>17.992978</td>\n",
       "      <td>-504.073758</td>\n",
       "      <td>12.000156</td>\n",
       "      <td>-500.013835</td>\n",
       "      <td>14.984751</td>\n",
       "      <td>-498.827799</td>\n",
       "    </tr>\n",
       "    <tr>\n",
       "      <th>907</th>\n",
       "      <td>2018-02-06 02:59:59</td>\n",
       "      <td>7.728257</td>\n",
       "      <td>8.024907</td>\n",
       "      <td>3.965616</td>\n",
       "      <td>40.248836</td>\n",
       "      <td>610.884714</td>\n",
       "      <td>83.760308</td>\n",
       "      <td>12.656185</td>\n",
       "      <td>7.197703</td>\n",
       "      <td>1058.270203</td>\n",
       "      <td>...</td>\n",
       "      <td>27.027102</td>\n",
       "      <td>-501.608023</td>\n",
       "      <td>20.013320</td>\n",
       "      <td>-500.267303</td>\n",
       "      <td>19.948810</td>\n",
       "      <td>-500.865658</td>\n",
       "      <td>14.973516</td>\n",
       "      <td>-499.798322</td>\n",
       "      <td>18.003836</td>\n",
       "      <td>-499.232156</td>\n",
       "    </tr>\n",
       "    <tr>\n",
       "      <th>222</th>\n",
       "      <td>2017-12-19 20:59:59</td>\n",
       "      <td>5.768137</td>\n",
       "      <td>5.463026</td>\n",
       "      <td>4.971261</td>\n",
       "      <td>32.243634</td>\n",
       "      <td>539.097516</td>\n",
       "      <td>73.935177</td>\n",
       "      <td>8.751334</td>\n",
       "      <td>5.999068</td>\n",
       "      <td>1003.867565</td>\n",
       "      <td>...</td>\n",
       "      <td>25.071612</td>\n",
       "      <td>-386.688363</td>\n",
       "      <td>20.005766</td>\n",
       "      <td>-308.089246</td>\n",
       "      <td>18.050296</td>\n",
       "      <td>-526.860424</td>\n",
       "      <td>13.025227</td>\n",
       "      <td>-499.611016</td>\n",
       "      <td>13.014109</td>\n",
       "      <td>-505.480611</td>\n",
       "    </tr>\n",
       "    <tr>\n",
       "      <th>3698</th>\n",
       "      <td>2018-06-17 19:59:59</td>\n",
       "      <td>9.362653</td>\n",
       "      <td>10.556277</td>\n",
       "      <td>3.534081</td>\n",
       "      <td>35.017828</td>\n",
       "      <td>448.946429</td>\n",
       "      <td>43.581265</td>\n",
       "      <td>10.007499</td>\n",
       "      <td>6.801367</td>\n",
       "      <td>995.939647</td>\n",
       "      <td>...</td>\n",
       "      <td>13.977355</td>\n",
       "      <td>-501.726013</td>\n",
       "      <td>13.080074</td>\n",
       "      <td>-499.669312</td>\n",
       "      <td>10.212767</td>\n",
       "      <td>-500.126277</td>\n",
       "      <td>8.092715</td>\n",
       "      <td>-499.756617</td>\n",
       "      <td>23.004981</td>\n",
       "      <td>-500.421019</td>\n",
       "    </tr>\n",
       "    <tr>\n",
       "      <th>3674</th>\n",
       "      <td>2018-06-16 19:59:59</td>\n",
       "      <td>11.313282</td>\n",
       "      <td>10.577412</td>\n",
       "      <td>4.168304</td>\n",
       "      <td>36.834150</td>\n",
       "      <td>448.081436</td>\n",
       "      <td>44.448912</td>\n",
       "      <td>12.000861</td>\n",
       "      <td>6.871052</td>\n",
       "      <td>989.115441</td>\n",
       "      <td>...</td>\n",
       "      <td>12.012161</td>\n",
       "      <td>-499.843081</td>\n",
       "      <td>11.923635</td>\n",
       "      <td>-499.462946</td>\n",
       "      <td>9.920328</td>\n",
       "      <td>-499.817962</td>\n",
       "      <td>7.102368</td>\n",
       "      <td>-500.088793</td>\n",
       "      <td>18.008842</td>\n",
       "      <td>-500.994811</td>\n",
       "    </tr>\n",
       "    <tr>\n",
       "      <th>3016</th>\n",
       "      <td>2018-05-18 19:59:59</td>\n",
       "      <td>8.816571</td>\n",
       "      <td>9.216098</td>\n",
       "      <td>3.155581</td>\n",
       "      <td>32.016119</td>\n",
       "      <td>392.800366</td>\n",
       "      <td>44.128675</td>\n",
       "      <td>9.500265</td>\n",
       "      <td>5.699180</td>\n",
       "      <td>1506.554173</td>\n",
       "      <td>...</td>\n",
       "      <td>25.014283</td>\n",
       "      <td>-498.733775</td>\n",
       "      <td>23.036002</td>\n",
       "      <td>-499.532562</td>\n",
       "      <td>23.024167</td>\n",
       "      <td>-499.221667</td>\n",
       "      <td>19.958910</td>\n",
       "      <td>-499.966681</td>\n",
       "      <td>25.010155</td>\n",
       "      <td>-599.782285</td>\n",
       "    </tr>\n",
       "    <tr>\n",
       "      <th>803</th>\n",
       "      <td>2018-02-01 15:59:59</td>\n",
       "      <td>7.650635</td>\n",
       "      <td>9.157993</td>\n",
       "      <td>2.287843</td>\n",
       "      <td>41.461020</td>\n",
       "      <td>497.992815</td>\n",
       "      <td>47.566860</td>\n",
       "      <td>10.427430</td>\n",
       "      <td>6.998809</td>\n",
       "      <td>1205.020100</td>\n",
       "      <td>...</td>\n",
       "      <td>29.996728</td>\n",
       "      <td>-499.196589</td>\n",
       "      <td>21.954571</td>\n",
       "      <td>-493.069931</td>\n",
       "      <td>25.003962</td>\n",
       "      <td>-499.088451</td>\n",
       "      <td>23.001402</td>\n",
       "      <td>-500.100245</td>\n",
       "      <td>25.011416</td>\n",
       "      <td>-499.867805</td>\n",
       "    </tr>\n",
       "    <tr>\n",
       "      <th>4535</th>\n",
       "      <td>2018-08-02 19:59:59</td>\n",
       "      <td>7.759743</td>\n",
       "      <td>8.180522</td>\n",
       "      <td>2.924599</td>\n",
       "      <td>31.300019</td>\n",
       "      <td>528.946664</td>\n",
       "      <td>55.567279</td>\n",
       "      <td>9.202802</td>\n",
       "      <td>7.500069</td>\n",
       "      <td>1000.520214</td>\n",
       "      <td>...</td>\n",
       "      <td>12.030656</td>\n",
       "      <td>-499.700890</td>\n",
       "      <td>12.044848</td>\n",
       "      <td>-500.482306</td>\n",
       "      <td>11.974381</td>\n",
       "      <td>-501.374581</td>\n",
       "      <td>10.039652</td>\n",
       "      <td>-500.125716</td>\n",
       "      <td>20.007938</td>\n",
       "      <td>-501.680551</td>\n",
       "    </tr>\n",
       "  </tbody>\n",
       "</table>\n",
       "<p>10 rows × 53 columns</p>\n",
       "</div>"
      ],
      "text/plain": [
       "                     date  rougher.input.feed_au  rougher.input.feed_ag  \\\n",
       "3028  2018-05-19 07:59:59               8.502028               7.716918   \n",
       "4135  2018-07-09 05:59:59               7.557595               7.553601   \n",
       "966   2018-02-08 17:59:59               8.507986              12.384425   \n",
       "907   2018-02-06 02:59:59               7.728257               8.024907   \n",
       "222   2017-12-19 20:59:59               5.768137               5.463026   \n",
       "3698  2018-06-17 19:59:59               9.362653              10.556277   \n",
       "3674  2018-06-16 19:59:59              11.313282              10.577412   \n",
       "3016  2018-05-18 19:59:59               8.816571               9.216098   \n",
       "803   2018-02-01 15:59:59               7.650635               9.157993   \n",
       "4535  2018-08-02 19:59:59               7.759743               8.180522   \n",
       "\n",
       "      rougher.input.feed_pb  rougher.input.feed_sol  rougher.input.feed_rate  \\\n",
       "3028               3.809039               30.522297               369.954229   \n",
       "4135               3.225060               33.434983               502.120211   \n",
       "966                3.544659               43.028408               650.749989   \n",
       "907                3.965616               40.248836               610.884714   \n",
       "222                4.971261               32.243634               539.097516   \n",
       "3698               3.534081               35.017828               448.946429   \n",
       "3674               4.168304               36.834150               448.081436   \n",
       "3016               3.155581               32.016119               392.800366   \n",
       "803                2.287843               41.461020               497.992815   \n",
       "4535               2.924599               31.300019               528.946664   \n",
       "\n",
       "      rougher.input.feed_size  rougher.input.floatbank10_sulfate  \\\n",
       "3028                41.725262                           9.999131   \n",
       "4135                55.393617                          12.000477   \n",
       "966                 87.718082                          10.662550   \n",
       "907                 83.760308                          12.656185   \n",
       "222                 73.935177                           8.751334   \n",
       "3698                43.581265                          10.007499   \n",
       "3674                44.448912                          12.000861   \n",
       "3016                44.128675                           9.500265   \n",
       "803                 47.566860                          10.427430   \n",
       "4535                55.567279                           9.202802   \n",
       "\n",
       "      rougher.input.floatbank10_xanthate  rougher.state.floatbank10_a_air  \\\n",
       "3028                            5.044090                      1500.054800   \n",
       "4135                            5.494759                      1000.021789   \n",
       "966                             7.598183                      1304.011242   \n",
       "907                             7.197703                      1058.270203   \n",
       "222                             5.999068                      1003.867565   \n",
       "3698                            6.801367                       995.939647   \n",
       "3674                            6.871052                       989.115441   \n",
       "3016                            5.699180                      1506.554173   \n",
       "803                             6.998809                      1205.020100   \n",
       "4535                            7.500069                      1000.520214   \n",
       "\n",
       "      ...  secondary_cleaner.state.floatbank4_a_air  \\\n",
       "3028  ...                                 24.937402   \n",
       "4135  ...                                 19.960798   \n",
       "966   ...                                 26.954071   \n",
       "907   ...                                 27.027102   \n",
       "222   ...                                 25.071612   \n",
       "3698  ...                                 13.977355   \n",
       "3674  ...                                 12.012161   \n",
       "3016  ...                                 25.014283   \n",
       "803   ...                                 29.996728   \n",
       "4535  ...                                 12.030656   \n",
       "\n",
       "      secondary_cleaner.state.floatbank4_a_level  \\\n",
       "3028                                 -500.533097   \n",
       "4135                                 -500.244115   \n",
       "966                                  -501.101223   \n",
       "907                                  -501.608023   \n",
       "222                                  -386.688363   \n",
       "3698                                 -501.726013   \n",
       "3674                                 -499.843081   \n",
       "3016                                 -498.733775   \n",
       "803                                  -499.196589   \n",
       "4535                                 -499.700890   \n",
       "\n",
       "      secondary_cleaner.state.floatbank4_b_air  \\\n",
       "3028                                 23.082277   \n",
       "4135                                  8.040340   \n",
       "966                                  19.975769   \n",
       "907                                  20.013320   \n",
       "222                                  20.005766   \n",
       "3698                                 13.080074   \n",
       "3674                                 11.923635   \n",
       "3016                                 23.036002   \n",
       "803                                  21.954571   \n",
       "4535                                 12.044848   \n",
       "\n",
       "      secondary_cleaner.state.floatbank4_b_level  \\\n",
       "3028                                 -500.111084   \n",
       "4135                                 -501.130468   \n",
       "966                                  -501.716979   \n",
       "907                                  -500.267303   \n",
       "222                                  -308.089246   \n",
       "3698                                 -499.669312   \n",
       "3674                                 -499.462946   \n",
       "3016                                 -499.532562   \n",
       "803                                  -493.069931   \n",
       "4535                                 -500.482306   \n",
       "\n",
       "      secondary_cleaner.state.floatbank5_a_air  \\\n",
       "3028                                 22.970991   \n",
       "4135                                 19.038692   \n",
       "966                                  17.992978   \n",
       "907                                  19.948810   \n",
       "222                                  18.050296   \n",
       "3698                                 10.212767   \n",
       "3674                                  9.920328   \n",
       "3016                                 23.024167   \n",
       "803                                  25.003962   \n",
       "4535                                 11.974381   \n",
       "\n",
       "      secondary_cleaner.state.floatbank5_a_level  \\\n",
       "3028                                 -500.241092   \n",
       "4135                                 -500.496114   \n",
       "966                                  -504.073758   \n",
       "907                                  -500.865658   \n",
       "222                                  -526.860424   \n",
       "3698                                 -500.126277   \n",
       "3674                                 -499.817962   \n",
       "3016                                 -499.221667   \n",
       "803                                  -499.088451   \n",
       "4535                                 -501.374581   \n",
       "\n",
       "      secondary_cleaner.state.floatbank5_b_air  \\\n",
       "3028                                 19.974936   \n",
       "4135                                  6.947720   \n",
       "966                                  12.000156   \n",
       "907                                  14.973516   \n",
       "222                                  13.025227   \n",
       "3698                                  8.092715   \n",
       "3674                                  7.102368   \n",
       "3016                                 19.958910   \n",
       "803                                  23.001402   \n",
       "4535                                 10.039652   \n",
       "\n",
       "      secondary_cleaner.state.floatbank5_b_level  \\\n",
       "3028                                 -499.850940   \n",
       "4135                                 -499.808657   \n",
       "966                                  -500.013835   \n",
       "907                                  -499.798322   \n",
       "222                                  -499.611016   \n",
       "3698                                 -499.756617   \n",
       "3674                                 -500.088793   \n",
       "3016                                 -499.966681   \n",
       "803                                  -500.100245   \n",
       "4535                                 -500.125716   \n",
       "\n",
       "      secondary_cleaner.state.floatbank6_a_air  \\\n",
       "3028                                 25.026196   \n",
       "4135                                 24.998499   \n",
       "966                                  14.984751   \n",
       "907                                  18.003836   \n",
       "222                                  13.014109   \n",
       "3698                                 23.004981   \n",
       "3674                                 18.008842   \n",
       "3016                                 25.010155   \n",
       "803                                  25.011416   \n",
       "4535                                 20.007938   \n",
       "\n",
       "      secondary_cleaner.state.floatbank6_a_level  \n",
       "3028                                 -600.352953  \n",
       "4135                                 -500.245682  \n",
       "966                                  -498.827799  \n",
       "907                                  -499.232156  \n",
       "222                                  -505.480611  \n",
       "3698                                 -500.421019  \n",
       "3674                                 -500.994811  \n",
       "3016                                 -599.782285  \n",
       "803                                  -499.867805  \n",
       "4535                                 -501.680551  \n",
       "\n",
       "[10 rows x 53 columns]"
      ]
     },
     "metadata": {},
     "output_type": "display_data"
    },
    {
     "data": {
      "text/html": [
       "<div>\n",
       "<style scoped>\n",
       "    .dataframe tbody tr th:only-of-type {\n",
       "        vertical-align: middle;\n",
       "    }\n",
       "\n",
       "    .dataframe tbody tr th {\n",
       "        vertical-align: top;\n",
       "    }\n",
       "\n",
       "    .dataframe thead th {\n",
       "        text-align: right;\n",
       "    }\n",
       "</style>\n",
       "<table border=\"1\" class=\"dataframe\">\n",
       "  <thead>\n",
       "    <tr style=\"text-align: right;\">\n",
       "      <th></th>\n",
       "      <th>count</th>\n",
       "      <th>mean</th>\n",
       "      <th>std</th>\n",
       "      <th>min</th>\n",
       "      <th>25%</th>\n",
       "      <th>50%</th>\n",
       "      <th>75%</th>\n",
       "      <th>max</th>\n",
       "    </tr>\n",
       "  </thead>\n",
       "  <tbody>\n",
       "    <tr>\n",
       "      <th>rougher.input.feed_au</th>\n",
       "      <td>4860.0</td>\n",
       "      <td>8.005584</td>\n",
       "      <td>1.993590</td>\n",
       "      <td>1.000000e-02</td>\n",
       "      <td>6.574363</td>\n",
       "      <td>7.812923</td>\n",
       "      <td>9.556589</td>\n",
       "      <td>13.417156</td>\n",
       "    </tr>\n",
       "    <tr>\n",
       "      <th>rougher.input.feed_ag</th>\n",
       "      <td>4860.0</td>\n",
       "      <td>8.547348</td>\n",
       "      <td>1.958601</td>\n",
       "      <td>1.000000e-02</td>\n",
       "      <td>6.975898</td>\n",
       "      <td>8.179714</td>\n",
       "      <td>10.084339</td>\n",
       "      <td>14.533698</td>\n",
       "    </tr>\n",
       "    <tr>\n",
       "      <th>rougher.input.feed_pb</th>\n",
       "      <td>4832.0</td>\n",
       "      <td>3.579662</td>\n",
       "      <td>1.029377</td>\n",
       "      <td>1.000000e-02</td>\n",
       "      <td>2.903612</td>\n",
       "      <td>3.540772</td>\n",
       "      <td>4.199847</td>\n",
       "      <td>7.142594</td>\n",
       "    </tr>\n",
       "    <tr>\n",
       "      <th>rougher.input.feed_sol</th>\n",
       "      <td>4838.0</td>\n",
       "      <td>37.095864</td>\n",
       "      <td>4.926284</td>\n",
       "      <td>1.000000e-02</td>\n",
       "      <td>34.510841</td>\n",
       "      <td>37.499761</td>\n",
       "      <td>40.461315</td>\n",
       "      <td>53.477742</td>\n",
       "    </tr>\n",
       "    <tr>\n",
       "      <th>rougher.input.feed_rate</th>\n",
       "      <td>4856.0</td>\n",
       "      <td>490.285103</td>\n",
       "      <td>94.371623</td>\n",
       "      <td>1.278570e-02</td>\n",
       "      <td>434.099695</td>\n",
       "      <td>502.118742</td>\n",
       "      <td>555.596563</td>\n",
       "      <td>702.523396</td>\n",
       "    </tr>\n",
       "    <tr>\n",
       "      <th>rougher.input.feed_size</th>\n",
       "      <td>4816.0</td>\n",
       "      <td>59.113400</td>\n",
       "      <td>19.125122</td>\n",
       "      <td>4.636880e-02</td>\n",
       "      <td>47.596984</td>\n",
       "      <td>55.509481</td>\n",
       "      <td>66.661547</td>\n",
       "      <td>363.989699</td>\n",
       "    </tr>\n",
       "    <tr>\n",
       "      <th>rougher.input.floatbank10_sulfate</th>\n",
       "      <td>4857.0</td>\n",
       "      <td>12.055735</td>\n",
       "      <td>3.407642</td>\n",
       "      <td>1.890695e-02</td>\n",
       "      <td>9.890429</td>\n",
       "      <td>11.997859</td>\n",
       "      <td>14.496072</td>\n",
       "      <td>30.010759</td>\n",
       "    </tr>\n",
       "    <tr>\n",
       "      <th>rougher.input.floatbank10_xanthate</th>\n",
       "      <td>4859.0</td>\n",
       "      <td>6.101308</td>\n",
       "      <td>1.042754</td>\n",
       "      <td>1.578303e-02</td>\n",
       "      <td>5.499808</td>\n",
       "      <td>6.099805</td>\n",
       "      <td>6.802101</td>\n",
       "      <td>9.396928</td>\n",
       "    </tr>\n",
       "    <tr>\n",
       "      <th>rougher.state.floatbank10_a_air</th>\n",
       "      <td>4859.0</td>\n",
       "      <td>1108.635895</td>\n",
       "      <td>156.493143</td>\n",
       "      <td>3.007925e+02</td>\n",
       "      <td>999.715729</td>\n",
       "      <td>1001.414798</td>\n",
       "      <td>1202.837565</td>\n",
       "      <td>1521.980372</td>\n",
       "    </tr>\n",
       "    <tr>\n",
       "      <th>rougher.state.floatbank10_a_level</th>\n",
       "      <td>4859.0</td>\n",
       "      <td>-368.340127</td>\n",
       "      <td>91.155929</td>\n",
       "      <td>-6.005681e+02</td>\n",
       "      <td>-499.731972</td>\n",
       "      <td>-300.181367</td>\n",
       "      <td>-299.961547</td>\n",
       "      <td>-281.039299</td>\n",
       "    </tr>\n",
       "    <tr>\n",
       "      <th>rougher.state.floatbank10_b_air</th>\n",
       "      <td>4859.0</td>\n",
       "      <td>1312.346061</td>\n",
       "      <td>159.001709</td>\n",
       "      <td>7.676566e+02</td>\n",
       "      <td>1199.741605</td>\n",
       "      <td>1300.278835</td>\n",
       "      <td>1401.691789</td>\n",
       "      <td>1802.528564</td>\n",
       "    </tr>\n",
       "    <tr>\n",
       "      <th>rougher.state.floatbank10_b_level</th>\n",
       "      <td>4859.0</td>\n",
       "      <td>-472.506533</td>\n",
       "      <td>49.376824</td>\n",
       "      <td>-6.499975e+02</td>\n",
       "      <td>-500.218827</td>\n",
       "      <td>-499.827934</td>\n",
       "      <td>-449.925513</td>\n",
       "      <td>-298.836629</td>\n",
       "    </tr>\n",
       "    <tr>\n",
       "      <th>rougher.state.floatbank10_c_air</th>\n",
       "      <td>4859.0</td>\n",
       "      <td>1291.638282</td>\n",
       "      <td>180.203670</td>\n",
       "      <td>8.315379e+02</td>\n",
       "      <td>1152.401989</td>\n",
       "      <td>1299.411789</td>\n",
       "      <td>1401.933884</td>\n",
       "      <td>2498.873242</td>\n",
       "    </tr>\n",
       "    <tr>\n",
       "      <th>rougher.state.floatbank10_c_level</th>\n",
       "      <td>4859.0</td>\n",
       "      <td>-472.902514</td>\n",
       "      <td>47.611728</td>\n",
       "      <td>-5.526570e+02</td>\n",
       "      <td>-500.226269</td>\n",
       "      <td>-499.761855</td>\n",
       "      <td>-449.662583</td>\n",
       "      <td>-298.588757</td>\n",
       "    </tr>\n",
       "    <tr>\n",
       "      <th>rougher.state.floatbank10_d_air</th>\n",
       "      <td>4860.0</td>\n",
       "      <td>1204.066585</td>\n",
       "      <td>184.547737</td>\n",
       "      <td>7.062819e+02</td>\n",
       "      <td>1061.682494</td>\n",
       "      <td>1200.337639</td>\n",
       "      <td>1307.300990</td>\n",
       "      <td>1801.712957</td>\n",
       "    </tr>\n",
       "    <tr>\n",
       "      <th>rougher.state.floatbank10_d_level</th>\n",
       "      <td>4860.0</td>\n",
       "      <td>-473.380689</td>\n",
       "      <td>47.828848</td>\n",
       "      <td>-6.481184e+02</td>\n",
       "      <td>-500.441025</td>\n",
       "      <td>-499.597033</td>\n",
       "      <td>-449.938278</td>\n",
       "      <td>-296.591110</td>\n",
       "    </tr>\n",
       "    <tr>\n",
       "      <th>rougher.state.floatbank10_e_air</th>\n",
       "      <td>4853.0</td>\n",
       "      <td>1075.304980</td>\n",
       "      <td>159.989533</td>\n",
       "      <td>6.952118e+02</td>\n",
       "      <td>998.898177</td>\n",
       "      <td>1049.897439</td>\n",
       "      <td>1199.145824</td>\n",
       "      <td>1701.253009</td>\n",
       "    </tr>\n",
       "    <tr>\n",
       "      <th>rougher.state.floatbank10_e_level</th>\n",
       "      <td>4860.0</td>\n",
       "      <td>-471.465792</td>\n",
       "      <td>51.413832</td>\n",
       "      <td>-5.989261e+02</td>\n",
       "      <td>-500.266939</td>\n",
       "      <td>-499.715147</td>\n",
       "      <td>-449.384744</td>\n",
       "      <td>-296.129173</td>\n",
       "    </tr>\n",
       "    <tr>\n",
       "      <th>rougher.state.floatbank10_f_air</th>\n",
       "      <td>4860.0</td>\n",
       "      <td>1023.769668</td>\n",
       "      <td>147.827669</td>\n",
       "      <td>5.396339e+02</td>\n",
       "      <td>949.042067</td>\n",
       "      <td>1000.060464</td>\n",
       "      <td>1099.460790</td>\n",
       "      <td>1702.383848</td>\n",
       "    </tr>\n",
       "    <tr>\n",
       "      <th>rougher.state.floatbank10_f_level</th>\n",
       "      <td>4860.0</td>\n",
       "      <td>-471.412834</td>\n",
       "      <td>51.838763</td>\n",
       "      <td>-6.493762e+02</td>\n",
       "      <td>-500.534825</td>\n",
       "      <td>-499.537041</td>\n",
       "      <td>-448.211283</td>\n",
       "      <td>-286.375117</td>\n",
       "    </tr>\n",
       "    <tr>\n",
       "      <th>rougher.input.floatbank11_sulfate</th>\n",
       "      <td>4852.0</td>\n",
       "      <td>11.969074</td>\n",
       "      <td>3.456113</td>\n",
       "      <td>1.627663e-04</td>\n",
       "      <td>9.822314</td>\n",
       "      <td>11.995907</td>\n",
       "      <td>14.216091</td>\n",
       "      <td>30.006511</td>\n",
       "    </tr>\n",
       "    <tr>\n",
       "      <th>rougher.input.floatbank11_xanthate</th>\n",
       "      <td>4814.0</td>\n",
       "      <td>6.119323</td>\n",
       "      <td>1.049065</td>\n",
       "      <td>2.615756e-03</td>\n",
       "      <td>5.500412</td>\n",
       "      <td>6.101665</td>\n",
       "      <td>6.833554</td>\n",
       "      <td>9.401928</td>\n",
       "    </tr>\n",
       "    <tr>\n",
       "      <th>primary_cleaner.input.sulfate</th>\n",
       "      <td>4859.0</td>\n",
       "      <td>143.201672</td>\n",
       "      <td>42.360060</td>\n",
       "      <td>7.329299e+00</td>\n",
       "      <td>113.293698</td>\n",
       "      <td>139.573692</td>\n",
       "      <td>170.743180</td>\n",
       "      <td>262.531502</td>\n",
       "    </tr>\n",
       "    <tr>\n",
       "      <th>primary_cleaner.input.depressant</th>\n",
       "      <td>4851.0</td>\n",
       "      <td>8.692446</td>\n",
       "      <td>3.169592</td>\n",
       "      <td>0.000000e+00</td>\n",
       "      <td>6.042793</td>\n",
       "      <td>8.007390</td>\n",
       "      <td>10.613209</td>\n",
       "      <td>20.052255</td>\n",
       "    </tr>\n",
       "    <tr>\n",
       "      <th>primary_cleaner.input.feed_size</th>\n",
       "      <td>4860.0</td>\n",
       "      <td>7.305514</td>\n",
       "      <td>0.588602</td>\n",
       "      <td>4.970000e+00</td>\n",
       "      <td>6.940000</td>\n",
       "      <td>7.290000</td>\n",
       "      <td>7.630000</td>\n",
       "      <td>9.630000</td>\n",
       "    </tr>\n",
       "    <tr>\n",
       "      <th>primary_cleaner.input.xanthate</th>\n",
       "      <td>4817.0</td>\n",
       "      <td>1.007577</td>\n",
       "      <td>0.494669</td>\n",
       "      <td>1.543956e-04</td>\n",
       "      <td>0.700367</td>\n",
       "      <td>0.908749</td>\n",
       "      <td>1.198047</td>\n",
       "      <td>3.999060</td>\n",
       "    </tr>\n",
       "    <tr>\n",
       "      <th>primary_cleaner.state.floatbank8_a_air</th>\n",
       "      <td>4859.0</td>\n",
       "      <td>1588.387039</td>\n",
       "      <td>124.942960</td>\n",
       "      <td>3.142412e+02</td>\n",
       "      <td>1505.500055</td>\n",
       "      <td>1600.364401</td>\n",
       "      <td>1696.676142</td>\n",
       "      <td>2079.531340</td>\n",
       "    </tr>\n",
       "    <tr>\n",
       "      <th>primary_cleaner.state.floatbank8_a_level</th>\n",
       "      <td>4859.0</td>\n",
       "      <td>-488.223175</td>\n",
       "      <td>36.672631</td>\n",
       "      <td>-6.534776e+02</td>\n",
       "      <td>-500.272366</td>\n",
       "      <td>-499.893821</td>\n",
       "      <td>-499.369738</td>\n",
       "      <td>-330.134203</td>\n",
       "    </tr>\n",
       "    <tr>\n",
       "      <th>primary_cleaner.state.floatbank8_b_air</th>\n",
       "      <td>4859.0</td>\n",
       "      <td>1589.297134</td>\n",
       "      <td>132.102797</td>\n",
       "      <td>3.199595e+02</td>\n",
       "      <td>1502.105380</td>\n",
       "      <td>1600.363829</td>\n",
       "      <td>1699.429311</td>\n",
       "      <td>1825.491263</td>\n",
       "    </tr>\n",
       "    <tr>\n",
       "      <th>primary_cleaner.state.floatbank8_b_level</th>\n",
       "      <td>4859.0</td>\n",
       "      <td>-490.255893</td>\n",
       "      <td>35.203702</td>\n",
       "      <td>-7.992608e+02</td>\n",
       "      <td>-500.422211</td>\n",
       "      <td>-499.938871</td>\n",
       "      <td>-499.331088</td>\n",
       "      <td>-339.751525</td>\n",
       "    </tr>\n",
       "    <tr>\n",
       "      <th>primary_cleaner.state.floatbank8_c_air</th>\n",
       "      <td>4858.0</td>\n",
       "      <td>1588.905465</td>\n",
       "      <td>132.689236</td>\n",
       "      <td>2.735368e+02</td>\n",
       "      <td>1501.205202</td>\n",
       "      <td>1600.315592</td>\n",
       "      <td>1699.483983</td>\n",
       "      <td>1847.621932</td>\n",
       "    </tr>\n",
       "    <tr>\n",
       "      <th>primary_cleaner.state.floatbank8_c_level</th>\n",
       "      <td>4859.0</td>\n",
       "      <td>-489.741555</td>\n",
       "      <td>33.650676</td>\n",
       "      <td>-7.092138e+02</td>\n",
       "      <td>-500.676713</td>\n",
       "      <td>-499.894721</td>\n",
       "      <td>-498.699191</td>\n",
       "      <td>-290.845404</td>\n",
       "    </tr>\n",
       "    <tr>\n",
       "      <th>primary_cleaner.state.floatbank8_d_air</th>\n",
       "      <td>4858.0</td>\n",
       "      <td>1530.287801</td>\n",
       "      <td>256.268884</td>\n",
       "      <td>1.313217e+02</td>\n",
       "      <td>1450.605949</td>\n",
       "      <td>1599.224868</td>\n",
       "      <td>1698.766720</td>\n",
       "      <td>2398.888373</td>\n",
       "    </tr>\n",
       "    <tr>\n",
       "      <th>primary_cleaner.state.floatbank8_d_level</th>\n",
       "      <td>4859.0</td>\n",
       "      <td>-485.896489</td>\n",
       "      <td>43.296128</td>\n",
       "      <td>-7.997916e+02</td>\n",
       "      <td>-500.438064</td>\n",
       "      <td>-499.857201</td>\n",
       "      <td>-498.747352</td>\n",
       "      <td>-107.595099</td>\n",
       "    </tr>\n",
       "    <tr>\n",
       "      <th>secondary_cleaner.state.floatbank2_a_air</th>\n",
       "      <td>4734.0</td>\n",
       "      <td>29.488451</td>\n",
       "      <td>5.357783</td>\n",
       "      <td>1.220129e-01</td>\n",
       "      <td>25.116334</td>\n",
       "      <td>29.954667</td>\n",
       "      <td>34.064460</td>\n",
       "      <td>48.822781</td>\n",
       "    </tr>\n",
       "    <tr>\n",
       "      <th>secondary_cleaner.state.floatbank2_a_level</th>\n",
       "      <td>4859.0</td>\n",
       "      <td>-499.504602</td>\n",
       "      <td>43.284386</td>\n",
       "      <td>-7.996064e+02</td>\n",
       "      <td>-500.215499</td>\n",
       "      <td>-499.966865</td>\n",
       "      <td>-499.678638</td>\n",
       "      <td>-207.038839</td>\n",
       "    </tr>\n",
       "    <tr>\n",
       "      <th>secondary_cleaner.state.floatbank2_b_air</th>\n",
       "      <td>4859.0</td>\n",
       "      <td>24.732293</td>\n",
       "      <td>5.484220</td>\n",
       "      <td>0.000000e+00</td>\n",
       "      <td>22.038700</td>\n",
       "      <td>26.880506</td>\n",
       "      <td>28.045077</td>\n",
       "      <td>35.019409</td>\n",
       "    </tr>\n",
       "    <tr>\n",
       "      <th>secondary_cleaner.state.floatbank2_b_level</th>\n",
       "      <td>4859.0</td>\n",
       "      <td>-499.556727</td>\n",
       "      <td>43.619785</td>\n",
       "      <td>-7.998739e+02</td>\n",
       "      <td>-500.223223</td>\n",
       "      <td>-500.010504</td>\n",
       "      <td>-499.783594</td>\n",
       "      <td>-216.660814</td>\n",
       "    </tr>\n",
       "    <tr>\n",
       "      <th>secondary_cleaner.state.floatbank3_a_air</th>\n",
       "      <td>4859.0</td>\n",
       "      <td>28.896472</td>\n",
       "      <td>6.159087</td>\n",
       "      <td>1.957942e-17</td>\n",
       "      <td>24.979890</td>\n",
       "      <td>28.021079</td>\n",
       "      <td>33.985458</td>\n",
       "      <td>44.011389</td>\n",
       "    </tr>\n",
       "    <tr>\n",
       "      <th>secondary_cleaner.state.floatbank3_a_level</th>\n",
       "      <td>4859.0</td>\n",
       "      <td>-489.475315</td>\n",
       "      <td>51.827314</td>\n",
       "      <td>-7.995753e+02</td>\n",
       "      <td>-500.211535</td>\n",
       "      <td>-499.952220</td>\n",
       "      <td>-499.525249</td>\n",
       "      <td>-246.396324</td>\n",
       "    </tr>\n",
       "    <tr>\n",
       "      <th>secondary_cleaner.state.floatbank3_b_air</th>\n",
       "      <td>4859.0</td>\n",
       "      <td>22.632725</td>\n",
       "      <td>5.456797</td>\n",
       "      <td>1.521587e-17</td>\n",
       "      <td>19.011791</td>\n",
       "      <td>22.969896</td>\n",
       "      <td>26.984159</td>\n",
       "      <td>35.051488</td>\n",
       "    </tr>\n",
       "    <tr>\n",
       "      <th>secondary_cleaner.state.floatbank3_b_level</th>\n",
       "      <td>4859.0</td>\n",
       "      <td>-494.765779</td>\n",
       "      <td>40.681493</td>\n",
       "      <td>-7.587644e+02</td>\n",
       "      <td>-500.120286</td>\n",
       "      <td>-499.983839</td>\n",
       "      <td>-499.824376</td>\n",
       "      <td>-195.458545</td>\n",
       "    </tr>\n",
       "    <tr>\n",
       "      <th>secondary_cleaner.state.floatbank4_a_air</th>\n",
       "      <td>4859.0</td>\n",
       "      <td>19.857704</td>\n",
       "      <td>5.913105</td>\n",
       "      <td>1.079872e-16</td>\n",
       "      <td>15.011226</td>\n",
       "      <td>19.968066</td>\n",
       "      <td>24.988999</td>\n",
       "      <td>30.084500</td>\n",
       "    </tr>\n",
       "    <tr>\n",
       "      <th>secondary_cleaner.state.floatbank4_a_level</th>\n",
       "      <td>4859.0</td>\n",
       "      <td>-488.665140</td>\n",
       "      <td>44.392714</td>\n",
       "      <td>-7.997050e+02</td>\n",
       "      <td>-500.704004</td>\n",
       "      <td>-499.892919</td>\n",
       "      <td>-498.652030</td>\n",
       "      <td>-383.373053</td>\n",
       "    </tr>\n",
       "    <tr>\n",
       "      <th>secondary_cleaner.state.floatbank4_b_air</th>\n",
       "      <td>4859.0</td>\n",
       "      <td>15.570248</td>\n",
       "      <td>4.927361</td>\n",
       "      <td>2.489718e-17</td>\n",
       "      <td>12.021716</td>\n",
       "      <td>15.012395</td>\n",
       "      <td>19.999489</td>\n",
       "      <td>23.988976</td>\n",
       "    </tr>\n",
       "    <tr>\n",
       "      <th>secondary_cleaner.state.floatbank4_b_level</th>\n",
       "      <td>4859.0</td>\n",
       "      <td>-464.176507</td>\n",
       "      <td>65.706994</td>\n",
       "      <td>-7.998608e+02</td>\n",
       "      <td>-500.196517</td>\n",
       "      <td>-499.540776</td>\n",
       "      <td>-400.302329</td>\n",
       "      <td>-114.250832</td>\n",
       "    </tr>\n",
       "    <tr>\n",
       "      <th>secondary_cleaner.state.floatbank5_a_air</th>\n",
       "      <td>4859.0</td>\n",
       "      <td>16.594103</td>\n",
       "      <td>5.724305</td>\n",
       "      <td>-3.714983e-01</td>\n",
       "      <td>11.073822</td>\n",
       "      <td>16.631195</td>\n",
       "      <td>19.983191</td>\n",
       "      <td>33.215996</td>\n",
       "    </tr>\n",
       "    <tr>\n",
       "      <th>secondary_cleaner.state.floatbank5_a_level</th>\n",
       "      <td>4859.0</td>\n",
       "      <td>-490.815250</td>\n",
       "      <td>32.258443</td>\n",
       "      <td>-7.971425e+02</td>\n",
       "      <td>-500.483564</td>\n",
       "      <td>-499.873136</td>\n",
       "      <td>-498.852815</td>\n",
       "      <td>-288.963521</td>\n",
       "    </tr>\n",
       "    <tr>\n",
       "      <th>secondary_cleaner.state.floatbank5_b_air</th>\n",
       "      <td>4859.0</td>\n",
       "      <td>12.945971</td>\n",
       "      <td>5.533176</td>\n",
       "      <td>1.358469e+00</td>\n",
       "      <td>9.011890</td>\n",
       "      <td>11.999417</td>\n",
       "      <td>15.004198</td>\n",
       "      <td>24.177106</td>\n",
       "    </tr>\n",
       "    <tr>\n",
       "      <th>secondary_cleaner.state.floatbank5_b_level</th>\n",
       "      <td>4859.0</td>\n",
       "      <td>-489.583564</td>\n",
       "      <td>37.084609</td>\n",
       "      <td>-8.000062e+02</td>\n",
       "      <td>-500.129913</td>\n",
       "      <td>-499.955304</td>\n",
       "      <td>-499.643776</td>\n",
       "      <td>-141.934397</td>\n",
       "    </tr>\n",
       "    <tr>\n",
       "      <th>secondary_cleaner.state.floatbank6_a_air</th>\n",
       "      <td>4859.0</td>\n",
       "      <td>19.053888</td>\n",
       "      <td>5.548996</td>\n",
       "      <td>1.603862e-01</td>\n",
       "      <td>14.963953</td>\n",
       "      <td>19.960006</td>\n",
       "      <td>24.974583</td>\n",
       "      <td>32.028529</td>\n",
       "    </tr>\n",
       "    <tr>\n",
       "      <th>secondary_cleaner.state.floatbank6_a_level</th>\n",
       "      <td>4859.0</td>\n",
       "      <td>-504.678924</td>\n",
       "      <td>38.690186</td>\n",
       "      <td>-8.097348e+02</td>\n",
       "      <td>-500.668501</td>\n",
       "      <td>-500.033769</td>\n",
       "      <td>-499.460134</td>\n",
       "      <td>-104.427459</td>\n",
       "    </tr>\n",
       "  </tbody>\n",
       "</table>\n",
       "</div>"
      ],
      "text/plain": [
       "                                             count         mean         std  \\\n",
       "rougher.input.feed_au                       4860.0     8.005584    1.993590   \n",
       "rougher.input.feed_ag                       4860.0     8.547348    1.958601   \n",
       "rougher.input.feed_pb                       4832.0     3.579662    1.029377   \n",
       "rougher.input.feed_sol                      4838.0    37.095864    4.926284   \n",
       "rougher.input.feed_rate                     4856.0   490.285103   94.371623   \n",
       "rougher.input.feed_size                     4816.0    59.113400   19.125122   \n",
       "rougher.input.floatbank10_sulfate           4857.0    12.055735    3.407642   \n",
       "rougher.input.floatbank10_xanthate          4859.0     6.101308    1.042754   \n",
       "rougher.state.floatbank10_a_air             4859.0  1108.635895  156.493143   \n",
       "rougher.state.floatbank10_a_level           4859.0  -368.340127   91.155929   \n",
       "rougher.state.floatbank10_b_air             4859.0  1312.346061  159.001709   \n",
       "rougher.state.floatbank10_b_level           4859.0  -472.506533   49.376824   \n",
       "rougher.state.floatbank10_c_air             4859.0  1291.638282  180.203670   \n",
       "rougher.state.floatbank10_c_level           4859.0  -472.902514   47.611728   \n",
       "rougher.state.floatbank10_d_air             4860.0  1204.066585  184.547737   \n",
       "rougher.state.floatbank10_d_level           4860.0  -473.380689   47.828848   \n",
       "rougher.state.floatbank10_e_air             4853.0  1075.304980  159.989533   \n",
       "rougher.state.floatbank10_e_level           4860.0  -471.465792   51.413832   \n",
       "rougher.state.floatbank10_f_air             4860.0  1023.769668  147.827669   \n",
       "rougher.state.floatbank10_f_level           4860.0  -471.412834   51.838763   \n",
       "rougher.input.floatbank11_sulfate           4852.0    11.969074    3.456113   \n",
       "rougher.input.floatbank11_xanthate          4814.0     6.119323    1.049065   \n",
       "primary_cleaner.input.sulfate               4859.0   143.201672   42.360060   \n",
       "primary_cleaner.input.depressant            4851.0     8.692446    3.169592   \n",
       "primary_cleaner.input.feed_size             4860.0     7.305514    0.588602   \n",
       "primary_cleaner.input.xanthate              4817.0     1.007577    0.494669   \n",
       "primary_cleaner.state.floatbank8_a_air      4859.0  1588.387039  124.942960   \n",
       "primary_cleaner.state.floatbank8_a_level    4859.0  -488.223175   36.672631   \n",
       "primary_cleaner.state.floatbank8_b_air      4859.0  1589.297134  132.102797   \n",
       "primary_cleaner.state.floatbank8_b_level    4859.0  -490.255893   35.203702   \n",
       "primary_cleaner.state.floatbank8_c_air      4858.0  1588.905465  132.689236   \n",
       "primary_cleaner.state.floatbank8_c_level    4859.0  -489.741555   33.650676   \n",
       "primary_cleaner.state.floatbank8_d_air      4858.0  1530.287801  256.268884   \n",
       "primary_cleaner.state.floatbank8_d_level    4859.0  -485.896489   43.296128   \n",
       "secondary_cleaner.state.floatbank2_a_air    4734.0    29.488451    5.357783   \n",
       "secondary_cleaner.state.floatbank2_a_level  4859.0  -499.504602   43.284386   \n",
       "secondary_cleaner.state.floatbank2_b_air    4859.0    24.732293    5.484220   \n",
       "secondary_cleaner.state.floatbank2_b_level  4859.0  -499.556727   43.619785   \n",
       "secondary_cleaner.state.floatbank3_a_air    4859.0    28.896472    6.159087   \n",
       "secondary_cleaner.state.floatbank3_a_level  4859.0  -489.475315   51.827314   \n",
       "secondary_cleaner.state.floatbank3_b_air    4859.0    22.632725    5.456797   \n",
       "secondary_cleaner.state.floatbank3_b_level  4859.0  -494.765779   40.681493   \n",
       "secondary_cleaner.state.floatbank4_a_air    4859.0    19.857704    5.913105   \n",
       "secondary_cleaner.state.floatbank4_a_level  4859.0  -488.665140   44.392714   \n",
       "secondary_cleaner.state.floatbank4_b_air    4859.0    15.570248    4.927361   \n",
       "secondary_cleaner.state.floatbank4_b_level  4859.0  -464.176507   65.706994   \n",
       "secondary_cleaner.state.floatbank5_a_air    4859.0    16.594103    5.724305   \n",
       "secondary_cleaner.state.floatbank5_a_level  4859.0  -490.815250   32.258443   \n",
       "secondary_cleaner.state.floatbank5_b_air    4859.0    12.945971    5.533176   \n",
       "secondary_cleaner.state.floatbank5_b_level  4859.0  -489.583564   37.084609   \n",
       "secondary_cleaner.state.floatbank6_a_air    4859.0    19.053888    5.548996   \n",
       "secondary_cleaner.state.floatbank6_a_level  4859.0  -504.678924   38.690186   \n",
       "\n",
       "                                                     min          25%  \\\n",
       "rougher.input.feed_au                       1.000000e-02     6.574363   \n",
       "rougher.input.feed_ag                       1.000000e-02     6.975898   \n",
       "rougher.input.feed_pb                       1.000000e-02     2.903612   \n",
       "rougher.input.feed_sol                      1.000000e-02    34.510841   \n",
       "rougher.input.feed_rate                     1.278570e-02   434.099695   \n",
       "rougher.input.feed_size                     4.636880e-02    47.596984   \n",
       "rougher.input.floatbank10_sulfate           1.890695e-02     9.890429   \n",
       "rougher.input.floatbank10_xanthate          1.578303e-02     5.499808   \n",
       "rougher.state.floatbank10_a_air             3.007925e+02   999.715729   \n",
       "rougher.state.floatbank10_a_level          -6.005681e+02  -499.731972   \n",
       "rougher.state.floatbank10_b_air             7.676566e+02  1199.741605   \n",
       "rougher.state.floatbank10_b_level          -6.499975e+02  -500.218827   \n",
       "rougher.state.floatbank10_c_air             8.315379e+02  1152.401989   \n",
       "rougher.state.floatbank10_c_level          -5.526570e+02  -500.226269   \n",
       "rougher.state.floatbank10_d_air             7.062819e+02  1061.682494   \n",
       "rougher.state.floatbank10_d_level          -6.481184e+02  -500.441025   \n",
       "rougher.state.floatbank10_e_air             6.952118e+02   998.898177   \n",
       "rougher.state.floatbank10_e_level          -5.989261e+02  -500.266939   \n",
       "rougher.state.floatbank10_f_air             5.396339e+02   949.042067   \n",
       "rougher.state.floatbank10_f_level          -6.493762e+02  -500.534825   \n",
       "rougher.input.floatbank11_sulfate           1.627663e-04     9.822314   \n",
       "rougher.input.floatbank11_xanthate          2.615756e-03     5.500412   \n",
       "primary_cleaner.input.sulfate               7.329299e+00   113.293698   \n",
       "primary_cleaner.input.depressant            0.000000e+00     6.042793   \n",
       "primary_cleaner.input.feed_size             4.970000e+00     6.940000   \n",
       "primary_cleaner.input.xanthate              1.543956e-04     0.700367   \n",
       "primary_cleaner.state.floatbank8_a_air      3.142412e+02  1505.500055   \n",
       "primary_cleaner.state.floatbank8_a_level   -6.534776e+02  -500.272366   \n",
       "primary_cleaner.state.floatbank8_b_air      3.199595e+02  1502.105380   \n",
       "primary_cleaner.state.floatbank8_b_level   -7.992608e+02  -500.422211   \n",
       "primary_cleaner.state.floatbank8_c_air      2.735368e+02  1501.205202   \n",
       "primary_cleaner.state.floatbank8_c_level   -7.092138e+02  -500.676713   \n",
       "primary_cleaner.state.floatbank8_d_air      1.313217e+02  1450.605949   \n",
       "primary_cleaner.state.floatbank8_d_level   -7.997916e+02  -500.438064   \n",
       "secondary_cleaner.state.floatbank2_a_air    1.220129e-01    25.116334   \n",
       "secondary_cleaner.state.floatbank2_a_level -7.996064e+02  -500.215499   \n",
       "secondary_cleaner.state.floatbank2_b_air    0.000000e+00    22.038700   \n",
       "secondary_cleaner.state.floatbank2_b_level -7.998739e+02  -500.223223   \n",
       "secondary_cleaner.state.floatbank3_a_air    1.957942e-17    24.979890   \n",
       "secondary_cleaner.state.floatbank3_a_level -7.995753e+02  -500.211535   \n",
       "secondary_cleaner.state.floatbank3_b_air    1.521587e-17    19.011791   \n",
       "secondary_cleaner.state.floatbank3_b_level -7.587644e+02  -500.120286   \n",
       "secondary_cleaner.state.floatbank4_a_air    1.079872e-16    15.011226   \n",
       "secondary_cleaner.state.floatbank4_a_level -7.997050e+02  -500.704004   \n",
       "secondary_cleaner.state.floatbank4_b_air    2.489718e-17    12.021716   \n",
       "secondary_cleaner.state.floatbank4_b_level -7.998608e+02  -500.196517   \n",
       "secondary_cleaner.state.floatbank5_a_air   -3.714983e-01    11.073822   \n",
       "secondary_cleaner.state.floatbank5_a_level -7.971425e+02  -500.483564   \n",
       "secondary_cleaner.state.floatbank5_b_air    1.358469e+00     9.011890   \n",
       "secondary_cleaner.state.floatbank5_b_level -8.000062e+02  -500.129913   \n",
       "secondary_cleaner.state.floatbank6_a_air    1.603862e-01    14.963953   \n",
       "secondary_cleaner.state.floatbank6_a_level -8.097348e+02  -500.668501   \n",
       "\n",
       "                                                    50%          75%  \\\n",
       "rougher.input.feed_au                          7.812923     9.556589   \n",
       "rougher.input.feed_ag                          8.179714    10.084339   \n",
       "rougher.input.feed_pb                          3.540772     4.199847   \n",
       "rougher.input.feed_sol                        37.499761    40.461315   \n",
       "rougher.input.feed_rate                      502.118742   555.596563   \n",
       "rougher.input.feed_size                       55.509481    66.661547   \n",
       "rougher.input.floatbank10_sulfate             11.997859    14.496072   \n",
       "rougher.input.floatbank10_xanthate             6.099805     6.802101   \n",
       "rougher.state.floatbank10_a_air             1001.414798  1202.837565   \n",
       "rougher.state.floatbank10_a_level           -300.181367  -299.961547   \n",
       "rougher.state.floatbank10_b_air             1300.278835  1401.691789   \n",
       "rougher.state.floatbank10_b_level           -499.827934  -449.925513   \n",
       "rougher.state.floatbank10_c_air             1299.411789  1401.933884   \n",
       "rougher.state.floatbank10_c_level           -499.761855  -449.662583   \n",
       "rougher.state.floatbank10_d_air             1200.337639  1307.300990   \n",
       "rougher.state.floatbank10_d_level           -499.597033  -449.938278   \n",
       "rougher.state.floatbank10_e_air             1049.897439  1199.145824   \n",
       "rougher.state.floatbank10_e_level           -499.715147  -449.384744   \n",
       "rougher.state.floatbank10_f_air             1000.060464  1099.460790   \n",
       "rougher.state.floatbank10_f_level           -499.537041  -448.211283   \n",
       "rougher.input.floatbank11_sulfate             11.995907    14.216091   \n",
       "rougher.input.floatbank11_xanthate             6.101665     6.833554   \n",
       "primary_cleaner.input.sulfate                139.573692   170.743180   \n",
       "primary_cleaner.input.depressant               8.007390    10.613209   \n",
       "primary_cleaner.input.feed_size                7.290000     7.630000   \n",
       "primary_cleaner.input.xanthate                 0.908749     1.198047   \n",
       "primary_cleaner.state.floatbank8_a_air      1600.364401  1696.676142   \n",
       "primary_cleaner.state.floatbank8_a_level    -499.893821  -499.369738   \n",
       "primary_cleaner.state.floatbank8_b_air      1600.363829  1699.429311   \n",
       "primary_cleaner.state.floatbank8_b_level    -499.938871  -499.331088   \n",
       "primary_cleaner.state.floatbank8_c_air      1600.315592  1699.483983   \n",
       "primary_cleaner.state.floatbank8_c_level    -499.894721  -498.699191   \n",
       "primary_cleaner.state.floatbank8_d_air      1599.224868  1698.766720   \n",
       "primary_cleaner.state.floatbank8_d_level    -499.857201  -498.747352   \n",
       "secondary_cleaner.state.floatbank2_a_air      29.954667    34.064460   \n",
       "secondary_cleaner.state.floatbank2_a_level  -499.966865  -499.678638   \n",
       "secondary_cleaner.state.floatbank2_b_air      26.880506    28.045077   \n",
       "secondary_cleaner.state.floatbank2_b_level  -500.010504  -499.783594   \n",
       "secondary_cleaner.state.floatbank3_a_air      28.021079    33.985458   \n",
       "secondary_cleaner.state.floatbank3_a_level  -499.952220  -499.525249   \n",
       "secondary_cleaner.state.floatbank3_b_air      22.969896    26.984159   \n",
       "secondary_cleaner.state.floatbank3_b_level  -499.983839  -499.824376   \n",
       "secondary_cleaner.state.floatbank4_a_air      19.968066    24.988999   \n",
       "secondary_cleaner.state.floatbank4_a_level  -499.892919  -498.652030   \n",
       "secondary_cleaner.state.floatbank4_b_air      15.012395    19.999489   \n",
       "secondary_cleaner.state.floatbank4_b_level  -499.540776  -400.302329   \n",
       "secondary_cleaner.state.floatbank5_a_air      16.631195    19.983191   \n",
       "secondary_cleaner.state.floatbank5_a_level  -499.873136  -498.852815   \n",
       "secondary_cleaner.state.floatbank5_b_air      11.999417    15.004198   \n",
       "secondary_cleaner.state.floatbank5_b_level  -499.955304  -499.643776   \n",
       "secondary_cleaner.state.floatbank6_a_air      19.960006    24.974583   \n",
       "secondary_cleaner.state.floatbank6_a_level  -500.033769  -499.460134   \n",
       "\n",
       "                                                    max  \n",
       "rougher.input.feed_au                         13.417156  \n",
       "rougher.input.feed_ag                         14.533698  \n",
       "rougher.input.feed_pb                          7.142594  \n",
       "rougher.input.feed_sol                        53.477742  \n",
       "rougher.input.feed_rate                      702.523396  \n",
       "rougher.input.feed_size                      363.989699  \n",
       "rougher.input.floatbank10_sulfate             30.010759  \n",
       "rougher.input.floatbank10_xanthate             9.396928  \n",
       "rougher.state.floatbank10_a_air             1521.980372  \n",
       "rougher.state.floatbank10_a_level           -281.039299  \n",
       "rougher.state.floatbank10_b_air             1802.528564  \n",
       "rougher.state.floatbank10_b_level           -298.836629  \n",
       "rougher.state.floatbank10_c_air             2498.873242  \n",
       "rougher.state.floatbank10_c_level           -298.588757  \n",
       "rougher.state.floatbank10_d_air             1801.712957  \n",
       "rougher.state.floatbank10_d_level           -296.591110  \n",
       "rougher.state.floatbank10_e_air             1701.253009  \n",
       "rougher.state.floatbank10_e_level           -296.129173  \n",
       "rougher.state.floatbank10_f_air             1702.383848  \n",
       "rougher.state.floatbank10_f_level           -286.375117  \n",
       "rougher.input.floatbank11_sulfate             30.006511  \n",
       "rougher.input.floatbank11_xanthate             9.401928  \n",
       "primary_cleaner.input.sulfate                262.531502  \n",
       "primary_cleaner.input.depressant              20.052255  \n",
       "primary_cleaner.input.feed_size                9.630000  \n",
       "primary_cleaner.input.xanthate                 3.999060  \n",
       "primary_cleaner.state.floatbank8_a_air      2079.531340  \n",
       "primary_cleaner.state.floatbank8_a_level    -330.134203  \n",
       "primary_cleaner.state.floatbank8_b_air      1825.491263  \n",
       "primary_cleaner.state.floatbank8_b_level    -339.751525  \n",
       "primary_cleaner.state.floatbank8_c_air      1847.621932  \n",
       "primary_cleaner.state.floatbank8_c_level    -290.845404  \n",
       "primary_cleaner.state.floatbank8_d_air      2398.888373  \n",
       "primary_cleaner.state.floatbank8_d_level    -107.595099  \n",
       "secondary_cleaner.state.floatbank2_a_air      48.822781  \n",
       "secondary_cleaner.state.floatbank2_a_level  -207.038839  \n",
       "secondary_cleaner.state.floatbank2_b_air      35.019409  \n",
       "secondary_cleaner.state.floatbank2_b_level  -216.660814  \n",
       "secondary_cleaner.state.floatbank3_a_air      44.011389  \n",
       "secondary_cleaner.state.floatbank3_a_level  -246.396324  \n",
       "secondary_cleaner.state.floatbank3_b_air      35.051488  \n",
       "secondary_cleaner.state.floatbank3_b_level  -195.458545  \n",
       "secondary_cleaner.state.floatbank4_a_air      30.084500  \n",
       "secondary_cleaner.state.floatbank4_a_level  -383.373053  \n",
       "secondary_cleaner.state.floatbank4_b_air      23.988976  \n",
       "secondary_cleaner.state.floatbank4_b_level  -114.250832  \n",
       "secondary_cleaner.state.floatbank5_a_air      33.215996  \n",
       "secondary_cleaner.state.floatbank5_a_level  -288.963521  \n",
       "secondary_cleaner.state.floatbank5_b_air      24.177106  \n",
       "secondary_cleaner.state.floatbank5_b_level  -141.934397  \n",
       "secondary_cleaner.state.floatbank6_a_air      32.028529  \n",
       "secondary_cleaner.state.floatbank6_a_level  -104.427459  "
      ]
     },
     "metadata": {},
     "output_type": "display_data"
    },
    {
     "name": "stdout",
     "output_type": "stream",
     "text": [
      "****************************************************************************************************\n",
      "<class 'pandas.core.frame.DataFrame'>\n",
      "RangeIndex: 19439 entries, 0 to 19438\n",
      "Data columns (total 87 columns):\n",
      " #   Column                                              Non-Null Count  Dtype  \n",
      "---  ------                                              --------------  -----  \n",
      " 0   date                                                19439 non-null  object \n",
      " 1   rougher.input.feed_au                               19439 non-null  float64\n",
      " 2   rougher.input.feed_ag                               19439 non-null  float64\n",
      " 3   rougher.input.feed_pb                               19339 non-null  float64\n",
      " 4   rougher.input.feed_sol                              19340 non-null  float64\n",
      " 5   rougher.input.feed_rate                             19428 non-null  float64\n",
      " 6   rougher.input.feed_size                             19294 non-null  float64\n",
      " 7   rougher.input.floatbank10_sulfate                   19405 non-null  float64\n",
      " 8   rougher.input.floatbank10_xanthate                  19431 non-null  float64\n",
      " 9   rougher.state.floatbank10_a_air                     19438 non-null  float64\n",
      " 10  rougher.state.floatbank10_a_level                   19438 non-null  float64\n",
      " 11  rougher.state.floatbank10_b_air                     19438 non-null  float64\n",
      " 12  rougher.state.floatbank10_b_level                   19438 non-null  float64\n",
      " 13  rougher.state.floatbank10_c_air                     19438 non-null  float64\n",
      " 14  rougher.state.floatbank10_c_level                   19438 non-null  float64\n",
      " 15  rougher.state.floatbank10_d_air                     19439 non-null  float64\n",
      " 16  rougher.state.floatbank10_d_level                   19439 non-null  float64\n",
      " 17  rougher.state.floatbank10_e_air                     19003 non-null  float64\n",
      " 18  rougher.state.floatbank10_e_level                   19439 non-null  float64\n",
      " 19  rougher.state.floatbank10_f_air                     19439 non-null  float64\n",
      " 20  rougher.state.floatbank10_f_level                   19439 non-null  float64\n",
      " 21  rougher.input.floatbank11_sulfate                   19395 non-null  float64\n",
      " 22  rougher.input.floatbank11_xanthate                  18986 non-null  float64\n",
      " 23  rougher.calculation.sulfate_to_au_concentrate       19437 non-null  float64\n",
      " 24  rougher.calculation.floatbank10_sulfate_to_au_feed  19437 non-null  float64\n",
      " 25  rougher.calculation.floatbank11_sulfate_to_au_feed  19437 non-null  float64\n",
      " 26  rougher.calculation.au_pb_ratio                     19439 non-null  float64\n",
      " 27  rougher.output.concentrate_au                       19439 non-null  float64\n",
      " 28  rougher.output.concentrate_ag                       19439 non-null  float64\n",
      " 29  rougher.output.concentrate_pb                       19439 non-null  float64\n",
      " 30  rougher.output.concentrate_sol                      19416 non-null  float64\n",
      " 31  rougher.output.recovery                             19439 non-null  float64\n",
      " 32  rougher.output.tail_au                              19439 non-null  float64\n",
      " 33  rougher.output.tail_ag                              19438 non-null  float64\n",
      " 34  rougher.output.tail_pb                              19439 non-null  float64\n",
      " 35  rougher.output.tail_sol                             19439 non-null  float64\n",
      " 36  primary_cleaner.input.sulfate                       19415 non-null  float64\n",
      " 37  primary_cleaner.input.depressant                    19402 non-null  float64\n",
      " 38  primary_cleaner.input.feed_size                     19439 non-null  float64\n",
      " 39  primary_cleaner.input.xanthate                      19335 non-null  float64\n",
      " 40  primary_cleaner.state.floatbank8_a_air              19435 non-null  float64\n",
      " 41  primary_cleaner.state.floatbank8_a_level            19438 non-null  float64\n",
      " 42  primary_cleaner.state.floatbank8_b_air              19435 non-null  float64\n",
      " 43  primary_cleaner.state.floatbank8_b_level            19438 non-null  float64\n",
      " 44  primary_cleaner.state.floatbank8_c_air              19437 non-null  float64\n",
      " 45  primary_cleaner.state.floatbank8_c_level            19438 non-null  float64\n",
      " 46  primary_cleaner.state.floatbank8_d_air              19436 non-null  float64\n",
      " 47  primary_cleaner.state.floatbank8_d_level            19438 non-null  float64\n",
      " 48  primary_cleaner.output.concentrate_au               19439 non-null  float64\n",
      " 49  primary_cleaner.output.concentrate_ag               19439 non-null  float64\n",
      " 50  primary_cleaner.output.concentrate_pb               19323 non-null  float64\n",
      " 51  primary_cleaner.output.concentrate_sol              19069 non-null  float64\n",
      " 52  primary_cleaner.output.tail_au                      19439 non-null  float64\n",
      " 53  primary_cleaner.output.tail_ag                      19435 non-null  float64\n",
      " 54  primary_cleaner.output.tail_pb                      19418 non-null  float64\n",
      " 55  primary_cleaner.output.tail_sol                     19377 non-null  float64\n",
      " 56  secondary_cleaner.state.floatbank2_a_air            19219 non-null  float64\n",
      " 57  secondary_cleaner.state.floatbank2_a_level          19438 non-null  float64\n",
      " 58  secondary_cleaner.state.floatbank2_b_air            19416 non-null  float64\n",
      " 59  secondary_cleaner.state.floatbank2_b_level          19438 non-null  float64\n",
      " 60  secondary_cleaner.state.floatbank3_a_air            19426 non-null  float64\n",
      " 61  secondary_cleaner.state.floatbank3_a_level          19438 non-null  float64\n",
      " 62  secondary_cleaner.state.floatbank3_b_air            19438 non-null  float64\n",
      " 63  secondary_cleaner.state.floatbank3_b_level          19438 non-null  float64\n",
      " 64  secondary_cleaner.state.floatbank4_a_air            19433 non-null  float64\n",
      " 65  secondary_cleaner.state.floatbank4_a_level          19438 non-null  float64\n",
      " 66  secondary_cleaner.state.floatbank4_b_air            19438 non-null  float64\n",
      " 67  secondary_cleaner.state.floatbank4_b_level          19438 non-null  float64\n",
      " 68  secondary_cleaner.state.floatbank5_a_air            19438 non-null  float64\n",
      " 69  secondary_cleaner.state.floatbank5_a_level          19438 non-null  float64\n",
      " 70  secondary_cleaner.state.floatbank5_b_air            19438 non-null  float64\n",
      " 71  secondary_cleaner.state.floatbank5_b_level          19438 non-null  float64\n",
      " 72  secondary_cleaner.state.floatbank6_a_air            19437 non-null  float64\n",
      " 73  secondary_cleaner.state.floatbank6_a_level          19438 non-null  float64\n",
      " 74  secondary_cleaner.output.tail_au                    19439 non-null  float64\n",
      " 75  secondary_cleaner.output.tail_ag                    19437 non-null  float64\n",
      " 76  secondary_cleaner.output.tail_pb                    19427 non-null  float64\n",
      " 77  secondary_cleaner.output.tail_sol                   17691 non-null  float64\n",
      " 78  final.output.concentrate_au                         19439 non-null  float64\n",
      " 79  final.output.concentrate_ag                         19438 non-null  float64\n",
      " 80  final.output.concentrate_pb                         19438 non-null  float64\n",
      " 81  final.output.concentrate_sol                        19228 non-null  float64\n",
      " 82  final.output.recovery                               19439 non-null  float64\n",
      " 83  final.output.tail_au                                19439 non-null  float64\n",
      " 84  final.output.tail_ag                                19438 non-null  float64\n",
      " 85  final.output.tail_pb                                19338 non-null  float64\n",
      " 86  final.output.tail_sol                               19433 non-null  float64\n",
      "dtypes: float64(86), object(1)\n",
      "memory usage: 12.9+ MB\n"
     ]
    },
    {
     "data": {
      "text/plain": [
       "None"
      ]
     },
     "metadata": {},
     "output_type": "display_data"
    },
    {
     "data": {
      "text/html": [
       "<div>\n",
       "<style scoped>\n",
       "    .dataframe tbody tr th:only-of-type {\n",
       "        vertical-align: middle;\n",
       "    }\n",
       "\n",
       "    .dataframe tbody tr th {\n",
       "        vertical-align: top;\n",
       "    }\n",
       "\n",
       "    .dataframe thead th {\n",
       "        text-align: right;\n",
       "    }\n",
       "</style>\n",
       "<table border=\"1\" class=\"dataframe\">\n",
       "  <thead>\n",
       "    <tr style=\"text-align: right;\">\n",
       "      <th></th>\n",
       "      <th>date</th>\n",
       "      <th>rougher.input.feed_au</th>\n",
       "      <th>rougher.input.feed_ag</th>\n",
       "      <th>rougher.input.feed_pb</th>\n",
       "      <th>rougher.input.feed_sol</th>\n",
       "      <th>rougher.input.feed_rate</th>\n",
       "      <th>rougher.input.feed_size</th>\n",
       "      <th>rougher.input.floatbank10_sulfate</th>\n",
       "      <th>rougher.input.floatbank10_xanthate</th>\n",
       "      <th>rougher.state.floatbank10_a_air</th>\n",
       "      <th>...</th>\n",
       "      <th>secondary_cleaner.output.tail_sol</th>\n",
       "      <th>final.output.concentrate_au</th>\n",
       "      <th>final.output.concentrate_ag</th>\n",
       "      <th>final.output.concentrate_pb</th>\n",
       "      <th>final.output.concentrate_sol</th>\n",
       "      <th>final.output.recovery</th>\n",
       "      <th>final.output.tail_au</th>\n",
       "      <th>final.output.tail_ag</th>\n",
       "      <th>final.output.tail_pb</th>\n",
       "      <th>final.output.tail_sol</th>\n",
       "    </tr>\n",
       "  </thead>\n",
       "  <tbody>\n",
       "    <tr>\n",
       "      <th>864</th>\n",
       "      <td>2016-02-23 10:00:00</td>\n",
       "      <td>6.234503</td>\n",
       "      <td>7.843418</td>\n",
       "      <td>2.481662</td>\n",
       "      <td>30.449925</td>\n",
       "      <td>546.715610</td>\n",
       "      <td>59.535717</td>\n",
       "      <td>11.259258</td>\n",
       "      <td>7.474099</td>\n",
       "      <td>1000.458052</td>\n",
       "      <td>...</td>\n",
       "      <td>10.743130</td>\n",
       "      <td>40.534069</td>\n",
       "      <td>5.364928</td>\n",
       "      <td>11.980384</td>\n",
       "      <td>2.948743</td>\n",
       "      <td>61.390077</td>\n",
       "      <td>2.658126</td>\n",
       "      <td>10.482351</td>\n",
       "      <td>1.322921</td>\n",
       "      <td>14.890283</td>\n",
       "    </tr>\n",
       "    <tr>\n",
       "      <th>12196</th>\n",
       "      <td>2017-08-23 08:59:59</td>\n",
       "      <td>9.853309</td>\n",
       "      <td>10.618135</td>\n",
       "      <td>3.213455</td>\n",
       "      <td>42.176919</td>\n",
       "      <td>573.664115</td>\n",
       "      <td>92.425408</td>\n",
       "      <td>12.450746</td>\n",
       "      <td>6.803523</td>\n",
       "      <td>1403.214391</td>\n",
       "      <td>...</td>\n",
       "      <td>2.460950</td>\n",
       "      <td>44.661693</td>\n",
       "      <td>7.162989</td>\n",
       "      <td>9.248630</td>\n",
       "      <td>10.559422</td>\n",
       "      <td>78.576087</td>\n",
       "      <td>2.553654</td>\n",
       "      <td>10.412985</td>\n",
       "      <td>1.209133</td>\n",
       "      <td>15.443851</td>\n",
       "    </tr>\n",
       "    <tr>\n",
       "      <th>13124</th>\n",
       "      <td>2017-10-06 04:59:59</td>\n",
       "      <td>6.150356</td>\n",
       "      <td>9.921851</td>\n",
       "      <td>2.580844</td>\n",
       "      <td>44.033355</td>\n",
       "      <td>619.839431</td>\n",
       "      <td>100.283630</td>\n",
       "      <td>8.401041</td>\n",
       "      <td>6.897823</td>\n",
       "      <td>995.195527</td>\n",
       "      <td>...</td>\n",
       "      <td>4.126744</td>\n",
       "      <td>46.931598</td>\n",
       "      <td>5.171029</td>\n",
       "      <td>8.855319</td>\n",
       "      <td>9.184826</td>\n",
       "      <td>70.482973</td>\n",
       "      <td>2.000151</td>\n",
       "      <td>11.571365</td>\n",
       "      <td>1.236770</td>\n",
       "      <td>9.690937</td>\n",
       "    </tr>\n",
       "    <tr>\n",
       "      <th>13742</th>\n",
       "      <td>2017-11-03 08:59:59</td>\n",
       "      <td>5.325222</td>\n",
       "      <td>6.287209</td>\n",
       "      <td>3.772562</td>\n",
       "      <td>43.195694</td>\n",
       "      <td>559.012158</td>\n",
       "      <td>76.255861</td>\n",
       "      <td>8.335622</td>\n",
       "      <td>5.500142</td>\n",
       "      <td>1199.392038</td>\n",
       "      <td>...</td>\n",
       "      <td>0.610950</td>\n",
       "      <td>44.436957</td>\n",
       "      <td>4.456259</td>\n",
       "      <td>12.044901</td>\n",
       "      <td>6.369979</td>\n",
       "      <td>67.009591</td>\n",
       "      <td>1.910207</td>\n",
       "      <td>8.031402</td>\n",
       "      <td>2.574121</td>\n",
       "      <td>9.982944</td>\n",
       "    </tr>\n",
       "    <tr>\n",
       "      <th>3731</th>\n",
       "      <td>2016-07-20 22:59:59</td>\n",
       "      <td>9.949980</td>\n",
       "      <td>9.710863</td>\n",
       "      <td>3.717719</td>\n",
       "      <td>34.966881</td>\n",
       "      <td>399.836630</td>\n",
       "      <td>42.510857</td>\n",
       "      <td>11.996100</td>\n",
       "      <td>6.204187</td>\n",
       "      <td>1000.411051</td>\n",
       "      <td>...</td>\n",
       "      <td>9.331983</td>\n",
       "      <td>47.093817</td>\n",
       "      <td>4.817169</td>\n",
       "      <td>8.902082</td>\n",
       "      <td>9.355339</td>\n",
       "      <td>62.433354</td>\n",
       "      <td>4.305855</td>\n",
       "      <td>10.033326</td>\n",
       "      <td>3.340779</td>\n",
       "      <td>9.639864</td>\n",
       "    </tr>\n",
       "    <tr>\n",
       "      <th>5582</th>\n",
       "      <td>2016-10-18 14:59:59</td>\n",
       "      <td>6.101406</td>\n",
       "      <td>9.270260</td>\n",
       "      <td>1.038115</td>\n",
       "      <td>40.537071</td>\n",
       "      <td>463.108208</td>\n",
       "      <td>48.322088</td>\n",
       "      <td>10.999635</td>\n",
       "      <td>5.659830</td>\n",
       "      <td>1000.443628</td>\n",
       "      <td>...</td>\n",
       "      <td>9.787507</td>\n",
       "      <td>47.755104</td>\n",
       "      <td>4.787725</td>\n",
       "      <td>7.707446</td>\n",
       "      <td>12.693762</td>\n",
       "      <td>62.851954</td>\n",
       "      <td>2.464455</td>\n",
       "      <td>10.042878</td>\n",
       "      <td>1.958560</td>\n",
       "      <td>11.131723</td>\n",
       "    </tr>\n",
       "    <tr>\n",
       "      <th>12855</th>\n",
       "      <td>2017-09-24 15:59:59</td>\n",
       "      <td>7.100659</td>\n",
       "      <td>7.579670</td>\n",
       "      <td>3.313884</td>\n",
       "      <td>38.885247</td>\n",
       "      <td>551.059005</td>\n",
       "      <td>67.523925</td>\n",
       "      <td>9.548527</td>\n",
       "      <td>6.699916</td>\n",
       "      <td>1398.341340</td>\n",
       "      <td>...</td>\n",
       "      <td>1.132492</td>\n",
       "      <td>45.334612</td>\n",
       "      <td>4.757620</td>\n",
       "      <td>11.679061</td>\n",
       "      <td>8.447738</td>\n",
       "      <td>72.314242</td>\n",
       "      <td>2.216975</td>\n",
       "      <td>9.281918</td>\n",
       "      <td>1.748239</td>\n",
       "      <td>8.398570</td>\n",
       "    </tr>\n",
       "    <tr>\n",
       "      <th>12270</th>\n",
       "      <td>2017-08-26 10:59:59</td>\n",
       "      <td>8.496872</td>\n",
       "      <td>9.807645</td>\n",
       "      <td>2.840301</td>\n",
       "      <td>40.587600</td>\n",
       "      <td>613.165648</td>\n",
       "      <td>81.717270</td>\n",
       "      <td>12.256371</td>\n",
       "      <td>7.796215</td>\n",
       "      <td>1403.060240</td>\n",
       "      <td>...</td>\n",
       "      <td>4.283010</td>\n",
       "      <td>45.010587</td>\n",
       "      <td>5.908954</td>\n",
       "      <td>9.554086</td>\n",
       "      <td>8.713636</td>\n",
       "      <td>82.016577</td>\n",
       "      <td>1.807947</td>\n",
       "      <td>10.735141</td>\n",
       "      <td>1.120316</td>\n",
       "      <td>13.228055</td>\n",
       "    </tr>\n",
       "    <tr>\n",
       "      <th>17820</th>\n",
       "      <td>2018-05-28 20:59:59</td>\n",
       "      <td>10.211664</td>\n",
       "      <td>9.673671</td>\n",
       "      <td>4.548573</td>\n",
       "      <td>32.563470</td>\n",
       "      <td>363.391164</td>\n",
       "      <td>42.788268</td>\n",
       "      <td>10.003352</td>\n",
       "      <td>4.999756</td>\n",
       "      <td>999.721599</td>\n",
       "      <td>...</td>\n",
       "      <td>10.560944</td>\n",
       "      <td>44.696874</td>\n",
       "      <td>4.454704</td>\n",
       "      <td>10.825813</td>\n",
       "      <td>14.373413</td>\n",
       "      <td>61.859525</td>\n",
       "      <td>4.535811</td>\n",
       "      <td>10.286158</td>\n",
       "      <td>4.022878</td>\n",
       "      <td>9.036729</td>\n",
       "    </tr>\n",
       "    <tr>\n",
       "      <th>4643</th>\n",
       "      <td>2016-08-30 03:59:59</td>\n",
       "      <td>7.309992</td>\n",
       "      <td>6.145848</td>\n",
       "      <td>3.285393</td>\n",
       "      <td>30.149547</td>\n",
       "      <td>463.330708</td>\n",
       "      <td>43.108813</td>\n",
       "      <td>12.998197</td>\n",
       "      <td>6.702121</td>\n",
       "      <td>1002.202805</td>\n",
       "      <td>...</td>\n",
       "      <td>6.230653</td>\n",
       "      <td>45.210779</td>\n",
       "      <td>3.584052</td>\n",
       "      <td>9.345538</td>\n",
       "      <td>10.097917</td>\n",
       "      <td>63.638609</td>\n",
       "      <td>2.962881</td>\n",
       "      <td>7.110398</td>\n",
       "      <td>2.816520</td>\n",
       "      <td>9.410616</td>\n",
       "    </tr>\n",
       "  </tbody>\n",
       "</table>\n",
       "<p>10 rows × 87 columns</p>\n",
       "</div>"
      ],
      "text/plain": [
       "                      date  rougher.input.feed_au  rougher.input.feed_ag  \\\n",
       "864    2016-02-23 10:00:00               6.234503               7.843418   \n",
       "12196  2017-08-23 08:59:59               9.853309              10.618135   \n",
       "13124  2017-10-06 04:59:59               6.150356               9.921851   \n",
       "13742  2017-11-03 08:59:59               5.325222               6.287209   \n",
       "3731   2016-07-20 22:59:59               9.949980               9.710863   \n",
       "5582   2016-10-18 14:59:59               6.101406               9.270260   \n",
       "12855  2017-09-24 15:59:59               7.100659               7.579670   \n",
       "12270  2017-08-26 10:59:59               8.496872               9.807645   \n",
       "17820  2018-05-28 20:59:59              10.211664               9.673671   \n",
       "4643   2016-08-30 03:59:59               7.309992               6.145848   \n",
       "\n",
       "       rougher.input.feed_pb  rougher.input.feed_sol  rougher.input.feed_rate  \\\n",
       "864                 2.481662               30.449925               546.715610   \n",
       "12196               3.213455               42.176919               573.664115   \n",
       "13124               2.580844               44.033355               619.839431   \n",
       "13742               3.772562               43.195694               559.012158   \n",
       "3731                3.717719               34.966881               399.836630   \n",
       "5582                1.038115               40.537071               463.108208   \n",
       "12855               3.313884               38.885247               551.059005   \n",
       "12270               2.840301               40.587600               613.165648   \n",
       "17820               4.548573               32.563470               363.391164   \n",
       "4643                3.285393               30.149547               463.330708   \n",
       "\n",
       "       rougher.input.feed_size  rougher.input.floatbank10_sulfate  \\\n",
       "864                  59.535717                          11.259258   \n",
       "12196                92.425408                          12.450746   \n",
       "13124               100.283630                           8.401041   \n",
       "13742                76.255861                           8.335622   \n",
       "3731                 42.510857                          11.996100   \n",
       "5582                 48.322088                          10.999635   \n",
       "12855                67.523925                           9.548527   \n",
       "12270                81.717270                          12.256371   \n",
       "17820                42.788268                          10.003352   \n",
       "4643                 43.108813                          12.998197   \n",
       "\n",
       "       rougher.input.floatbank10_xanthate  rougher.state.floatbank10_a_air  \\\n",
       "864                              7.474099                      1000.458052   \n",
       "12196                            6.803523                      1403.214391   \n",
       "13124                            6.897823                       995.195527   \n",
       "13742                            5.500142                      1199.392038   \n",
       "3731                             6.204187                      1000.411051   \n",
       "5582                             5.659830                      1000.443628   \n",
       "12855                            6.699916                      1398.341340   \n",
       "12270                            7.796215                      1403.060240   \n",
       "17820                            4.999756                       999.721599   \n",
       "4643                             6.702121                      1002.202805   \n",
       "\n",
       "       ...  secondary_cleaner.output.tail_sol  final.output.concentrate_au  \\\n",
       "864    ...                          10.743130                    40.534069   \n",
       "12196  ...                           2.460950                    44.661693   \n",
       "13124  ...                           4.126744                    46.931598   \n",
       "13742  ...                           0.610950                    44.436957   \n",
       "3731   ...                           9.331983                    47.093817   \n",
       "5582   ...                           9.787507                    47.755104   \n",
       "12855  ...                           1.132492                    45.334612   \n",
       "12270  ...                           4.283010                    45.010587   \n",
       "17820  ...                          10.560944                    44.696874   \n",
       "4643   ...                           6.230653                    45.210779   \n",
       "\n",
       "       final.output.concentrate_ag  final.output.concentrate_pb  \\\n",
       "864                       5.364928                    11.980384   \n",
       "12196                     7.162989                     9.248630   \n",
       "13124                     5.171029                     8.855319   \n",
       "13742                     4.456259                    12.044901   \n",
       "3731                      4.817169                     8.902082   \n",
       "5582                      4.787725                     7.707446   \n",
       "12855                     4.757620                    11.679061   \n",
       "12270                     5.908954                     9.554086   \n",
       "17820                     4.454704                    10.825813   \n",
       "4643                      3.584052                     9.345538   \n",
       "\n",
       "       final.output.concentrate_sol  final.output.recovery  \\\n",
       "864                        2.948743              61.390077   \n",
       "12196                     10.559422              78.576087   \n",
       "13124                      9.184826              70.482973   \n",
       "13742                      6.369979              67.009591   \n",
       "3731                       9.355339              62.433354   \n",
       "5582                      12.693762              62.851954   \n",
       "12855                      8.447738              72.314242   \n",
       "12270                      8.713636              82.016577   \n",
       "17820                     14.373413              61.859525   \n",
       "4643                      10.097917              63.638609   \n",
       "\n",
       "       final.output.tail_au  final.output.tail_ag  final.output.tail_pb  \\\n",
       "864                2.658126             10.482351              1.322921   \n",
       "12196              2.553654             10.412985              1.209133   \n",
       "13124              2.000151             11.571365              1.236770   \n",
       "13742              1.910207              8.031402              2.574121   \n",
       "3731               4.305855             10.033326              3.340779   \n",
       "5582               2.464455             10.042878              1.958560   \n",
       "12855              2.216975              9.281918              1.748239   \n",
       "12270              1.807947             10.735141              1.120316   \n",
       "17820              4.535811             10.286158              4.022878   \n",
       "4643               2.962881              7.110398              2.816520   \n",
       "\n",
       "       final.output.tail_sol  \n",
       "864                14.890283  \n",
       "12196              15.443851  \n",
       "13124               9.690937  \n",
       "13742               9.982944  \n",
       "3731                9.639864  \n",
       "5582               11.131723  \n",
       "12855               8.398570  \n",
       "12270              13.228055  \n",
       "17820               9.036729  \n",
       "4643                9.410616  \n",
       "\n",
       "[10 rows x 87 columns]"
      ]
     },
     "metadata": {},
     "output_type": "display_data"
    },
    {
     "data": {
      "text/html": [
       "<div>\n",
       "<style scoped>\n",
       "    .dataframe tbody tr th:only-of-type {\n",
       "        vertical-align: middle;\n",
       "    }\n",
       "\n",
       "    .dataframe tbody tr th {\n",
       "        vertical-align: top;\n",
       "    }\n",
       "\n",
       "    .dataframe thead th {\n",
       "        text-align: right;\n",
       "    }\n",
       "</style>\n",
       "<table border=\"1\" class=\"dataframe\">\n",
       "  <thead>\n",
       "    <tr style=\"text-align: right;\">\n",
       "      <th></th>\n",
       "      <th>count</th>\n",
       "      <th>mean</th>\n",
       "      <th>std</th>\n",
       "      <th>min</th>\n",
       "      <th>25%</th>\n",
       "      <th>50%</th>\n",
       "      <th>75%</th>\n",
       "      <th>max</th>\n",
       "    </tr>\n",
       "  </thead>\n",
       "  <tbody>\n",
       "    <tr>\n",
       "      <th>rougher.input.feed_au</th>\n",
       "      <td>19439.0</td>\n",
       "      <td>8.266097</td>\n",
       "      <td>1.955092</td>\n",
       "      <td>0.010000</td>\n",
       "      <td>6.854384</td>\n",
       "      <td>8.125839</td>\n",
       "      <td>9.769917</td>\n",
       "      <td>13.731330</td>\n",
       "    </tr>\n",
       "    <tr>\n",
       "      <th>rougher.input.feed_ag</th>\n",
       "      <td>19439.0</td>\n",
       "      <td>8.794927</td>\n",
       "      <td>1.936847</td>\n",
       "      <td>0.010000</td>\n",
       "      <td>7.237967</td>\n",
       "      <td>8.593574</td>\n",
       "      <td>10.213771</td>\n",
       "      <td>14.596026</td>\n",
       "    </tr>\n",
       "    <tr>\n",
       "      <th>rougher.input.feed_pb</th>\n",
       "      <td>19339.0</td>\n",
       "      <td>3.598085</td>\n",
       "      <td>1.049486</td>\n",
       "      <td>0.010000</td>\n",
       "      <td>2.887280</td>\n",
       "      <td>3.534895</td>\n",
       "      <td>4.244161</td>\n",
       "      <td>7.142594</td>\n",
       "    </tr>\n",
       "    <tr>\n",
       "      <th>rougher.input.feed_sol</th>\n",
       "      <td>19340.0</td>\n",
       "      <td>36.695114</td>\n",
       "      <td>5.145445</td>\n",
       "      <td>0.010000</td>\n",
       "      <td>34.207799</td>\n",
       "      <td>37.202650</td>\n",
       "      <td>40.039133</td>\n",
       "      <td>53.477742</td>\n",
       "    </tr>\n",
       "    <tr>\n",
       "      <th>rougher.input.feed_rate</th>\n",
       "      <td>19428.0</td>\n",
       "      <td>478.320042</td>\n",
       "      <td>105.373758</td>\n",
       "      <td>0.002986</td>\n",
       "      <td>416.525453</td>\n",
       "      <td>499.416120</td>\n",
       "      <td>550.172183</td>\n",
       "      <td>717.508837</td>\n",
       "    </tr>\n",
       "    <tr>\n",
       "      <th>...</th>\n",
       "      <td>...</td>\n",
       "      <td>...</td>\n",
       "      <td>...</td>\n",
       "      <td>...</td>\n",
       "      <td>...</td>\n",
       "      <td>...</td>\n",
       "      <td>...</td>\n",
       "      <td>...</td>\n",
       "    </tr>\n",
       "    <tr>\n",
       "      <th>final.output.recovery</th>\n",
       "      <td>19439.0</td>\n",
       "      <td>67.050208</td>\n",
       "      <td>10.125840</td>\n",
       "      <td>0.000000</td>\n",
       "      <td>63.299712</td>\n",
       "      <td>68.172738</td>\n",
       "      <td>72.686642</td>\n",
       "      <td>100.000000</td>\n",
       "    </tr>\n",
       "    <tr>\n",
       "      <th>final.output.tail_au</th>\n",
       "      <td>19439.0</td>\n",
       "      <td>3.042467</td>\n",
       "      <td>0.922808</td>\n",
       "      <td>0.000000</td>\n",
       "      <td>2.461138</td>\n",
       "      <td>2.984909</td>\n",
       "      <td>3.571351</td>\n",
       "      <td>8.245022</td>\n",
       "    </tr>\n",
       "    <tr>\n",
       "      <th>final.output.tail_ag</th>\n",
       "      <td>19438.0</td>\n",
       "      <td>9.688589</td>\n",
       "      <td>2.328642</td>\n",
       "      <td>0.000000</td>\n",
       "      <td>8.062878</td>\n",
       "      <td>9.743623</td>\n",
       "      <td>11.134294</td>\n",
       "      <td>19.552149</td>\n",
       "    </tr>\n",
       "    <tr>\n",
       "      <th>final.output.tail_pb</th>\n",
       "      <td>19338.0</td>\n",
       "      <td>2.705795</td>\n",
       "      <td>0.949077</td>\n",
       "      <td>0.000000</td>\n",
       "      <td>2.040119</td>\n",
       "      <td>2.748730</td>\n",
       "      <td>3.333216</td>\n",
       "      <td>5.804178</td>\n",
       "    </tr>\n",
       "    <tr>\n",
       "      <th>final.output.tail_sol</th>\n",
       "      <td>19433.0</td>\n",
       "      <td>10.583728</td>\n",
       "      <td>2.868782</td>\n",
       "      <td>0.000000</td>\n",
       "      <td>8.938947</td>\n",
       "      <td>10.622456</td>\n",
       "      <td>12.104271</td>\n",
       "      <td>22.317730</td>\n",
       "    </tr>\n",
       "  </tbody>\n",
       "</table>\n",
       "<p>86 rows × 8 columns</p>\n",
       "</div>"
      ],
      "text/plain": [
       "                           count        mean         std       min  \\\n",
       "rougher.input.feed_au    19439.0    8.266097    1.955092  0.010000   \n",
       "rougher.input.feed_ag    19439.0    8.794927    1.936847  0.010000   \n",
       "rougher.input.feed_pb    19339.0    3.598085    1.049486  0.010000   \n",
       "rougher.input.feed_sol   19340.0   36.695114    5.145445  0.010000   \n",
       "rougher.input.feed_rate  19428.0  478.320042  105.373758  0.002986   \n",
       "...                          ...         ...         ...       ...   \n",
       "final.output.recovery    19439.0   67.050208   10.125840  0.000000   \n",
       "final.output.tail_au     19439.0    3.042467    0.922808  0.000000   \n",
       "final.output.tail_ag     19438.0    9.688589    2.328642  0.000000   \n",
       "final.output.tail_pb     19338.0    2.705795    0.949077  0.000000   \n",
       "final.output.tail_sol    19433.0   10.583728    2.868782  0.000000   \n",
       "\n",
       "                                25%         50%         75%         max  \n",
       "rougher.input.feed_au      6.854384    8.125839    9.769917   13.731330  \n",
       "rougher.input.feed_ag      7.237967    8.593574   10.213771   14.596026  \n",
       "rougher.input.feed_pb      2.887280    3.534895    4.244161    7.142594  \n",
       "rougher.input.feed_sol    34.207799   37.202650   40.039133   53.477742  \n",
       "rougher.input.feed_rate  416.525453  499.416120  550.172183  717.508837  \n",
       "...                             ...         ...         ...         ...  \n",
       "final.output.recovery     63.299712   68.172738   72.686642  100.000000  \n",
       "final.output.tail_au       2.461138    2.984909    3.571351    8.245022  \n",
       "final.output.tail_ag       8.062878    9.743623   11.134294   19.552149  \n",
       "final.output.tail_pb       2.040119    2.748730    3.333216    5.804178  \n",
       "final.output.tail_sol      8.938947   10.622456   12.104271   22.317730  \n",
       "\n",
       "[86 rows x 8 columns]"
      ]
     },
     "metadata": {},
     "output_type": "display_data"
    },
    {
     "name": "stdout",
     "output_type": "stream",
     "text": [
      "****************************************************************************************************\n"
     ]
    }
   ],
   "source": [
    "for df in [df_train, df_test, df_full]:\n",
    "    info(df)"
   ]
  },
  {
   "cell_type": "markdown",
   "metadata": {},
   "source": [
    "**Изучили информацию по всем трём файлам.**\n",
    "\n",
    "df_train состоит из 14579 объектов и 86 признаков.\n",
    "\n",
    "df_test состоит из 4860 объектов и 52 признаков.\n",
    "\n",
    "df_full состоит из 19439 лбъектов и 86 признаков.\n",
    "\n",
    "Во всех трёх файлах содержится информация о технологическом процессе, параметре этапов.\n",
    "\n",
    "**Технологический процесс:**\n",
    "* Rougher feed — исходное сырье\n",
    "* Rougher additions (или reagent additions) — флотационные реагенты: Xanthate, Sulphate, Depressant\n",
    "* Xanthate — ксантогенат (промотер, или активатор флотации);\n",
    "* Sulphate — сульфат (на данном производстве сульфид натрия);\n",
    "* Depressant — депрессант (силикат натрия).\n",
    "* Rougher process (англ. «грубый процесс») — флотация\n",
    "* Rougher tails — отвальные хвосты\n",
    "* Float banks — флотационная установка\n",
    "* Cleaner process — очистка\n",
    "* Rougher Au — черновой концентрат золота\n",
    "* Final Au — финальный концентрат золота\n",
    "\n",
    "**Параметры этапов:**\n",
    "* air amount — объём воздуха\n",
    "* fluid levels — уровень жидкости\n",
    "* feed size — размер гранул сырья\n",
    "* feed rate — скорость подачи\n",
    "\n",
    "**Признаки записываются как:**\n",
    "\n",
    "`[этап].[тип_параметра].[название_параметра]`\n",
    "\n",
    "**Возможные значения для блока [этап]:**\n",
    "* rougher — флотация\n",
    "* primary_cleaner — первичная очистка\n",
    "* secondary_cleaner — вторичная очистка\n",
    "* final — финальные характеристики\n",
    "\n",
    "**Возможные значения для блока [тип_параметра]:**\n",
    "* input — параметры сырья\n",
    "* output — параметры продукта\n",
    "* state — параметры, характеризующие текущее состояние этапа\n",
    "* calculation — расчётные характеристики\n",
    "\n",
    "**Проверку на пропуски и дубликаты сделаем на этапе Предобработка данных.**"
   ]
  },
  {
   "cell_type": "markdown",
   "metadata": {},
   "source": [
    "### Проверка правильности расчёта эффективности обогащения."
   ]
  },
  {
   "cell_type": "code",
   "execution_count": 5,
   "metadata": {},
   "outputs": [],
   "source": [
    "# для ручного расчёта эффективности обогащения\n",
    "# сохраним в переменные нужные признаки\n",
    "C = df_train['rougher.output.concentrate_au']\n",
    "F = df_train['rougher.input.feed_au']\n",
    "T = df_train['rougher.output.tail_au']"
   ]
  },
  {
   "cell_type": "code",
   "execution_count": 6,
   "metadata": {},
   "outputs": [
    {
     "name": "stdout",
     "output_type": "stream",
     "text": [
      "MAE: 9.83758577644259e-15\n"
     ]
    }
   ],
   "source": [
    "# рассчитываем эффективность обогащения\n",
    "# и сравниваем её с табличной с помощью mae\n",
    "recovery = ((C * (F - T)) / (F * (C - T))) * 100\n",
    "mae = mean_absolute_error(df_train['rougher.output.recovery'], recovery)\n",
    "print('MAE:', mae)"
   ]
  },
  {
   "cell_type": "markdown",
   "metadata": {},
   "source": [
    "Сравнение между нашими расчётами и табличной величиной показало очень незначительную разницу, следовательно, `rougher.output.recovery` посчитана правильно."
   ]
  },
  {
   "cell_type": "markdown",
   "metadata": {},
   "source": [
    "### Анализ признаков, недоступных в тестовой выборке."
   ]
  },
  {
   "cell_type": "code",
   "execution_count": 7,
   "metadata": {},
   "outputs": [
    {
     "name": "stdout",
     "output_type": "stream",
     "text": [
      "Размер таблицы: (14579, 87)\n",
      "Размер таблицы: (4860, 53)\n",
      "Размер таблицы: (19439, 87)\n"
     ]
    }
   ],
   "source": [
    "# отдельно выведем размеры таблиц\n",
    "for df in [df_train, df_test, df_full]:\n",
    "    print('Размер таблицы:', df.shape)"
   ]
  },
  {
   "cell_type": "code",
   "execution_count": 8,
   "metadata": {
    "scrolled": true
   },
   "outputs": [
    {
     "data": {
      "text/plain": [
       "{'final.output.concentrate_ag',\n",
       " 'final.output.concentrate_au',\n",
       " 'final.output.concentrate_pb',\n",
       " 'final.output.concentrate_sol',\n",
       " 'final.output.recovery',\n",
       " 'final.output.tail_ag',\n",
       " 'final.output.tail_au',\n",
       " 'final.output.tail_pb',\n",
       " 'final.output.tail_sol',\n",
       " 'primary_cleaner.output.concentrate_ag',\n",
       " 'primary_cleaner.output.concentrate_au',\n",
       " 'primary_cleaner.output.concentrate_pb',\n",
       " 'primary_cleaner.output.concentrate_sol',\n",
       " 'primary_cleaner.output.tail_ag',\n",
       " 'primary_cleaner.output.tail_au',\n",
       " 'primary_cleaner.output.tail_pb',\n",
       " 'primary_cleaner.output.tail_sol',\n",
       " 'rougher.calculation.au_pb_ratio',\n",
       " 'rougher.calculation.floatbank10_sulfate_to_au_feed',\n",
       " 'rougher.calculation.floatbank11_sulfate_to_au_feed',\n",
       " 'rougher.calculation.sulfate_to_au_concentrate',\n",
       " 'rougher.output.concentrate_ag',\n",
       " 'rougher.output.concentrate_au',\n",
       " 'rougher.output.concentrate_pb',\n",
       " 'rougher.output.concentrate_sol',\n",
       " 'rougher.output.recovery',\n",
       " 'rougher.output.tail_ag',\n",
       " 'rougher.output.tail_au',\n",
       " 'rougher.output.tail_pb',\n",
       " 'rougher.output.tail_sol',\n",
       " 'secondary_cleaner.output.tail_ag',\n",
       " 'secondary_cleaner.output.tail_au',\n",
       " 'secondary_cleaner.output.tail_pb',\n",
       " 'secondary_cleaner.output.tail_sol'}"
      ]
     },
     "execution_count": 8,
     "metadata": {},
     "output_type": "execute_result"
    }
   ],
   "source": [
    "# выведем признаки, недоступные в тестовой выборке\n",
    "set(df_train.columns) - set(df_test.columns)"
   ]
  },
  {
   "cell_type": "markdown",
   "metadata": {},
   "source": [
    "В тестовой выборке отсутствуют 34 признака. Некоторые параметры недоступны, потому что замеряются и/или рассчитываются значительно позже. Из-за этого в тестовой выборке отсутствуют некоторые признаки, которые могут быть в обучающей. Также в тестовом наборе нет целевых признаков."
   ]
  },
  {
   "cell_type": "markdown",
   "metadata": {},
   "source": [
    "### Предобработка данных."
   ]
  },
  {
   "cell_type": "code",
   "execution_count": 9,
   "metadata": {},
   "outputs": [],
   "source": [
    "data = [df_train, df_test, df_full]"
   ]
  },
  {
   "cell_type": "code",
   "execution_count": 10,
   "metadata": {},
   "outputs": [
    {
     "name": "stdout",
     "output_type": "stream",
     "text": [
      "Кол-во дубликатов:\n",
      "0\n",
      "0\n",
      "0\n"
     ]
    }
   ],
   "source": [
    "# проверим на дубликаты\n",
    "print('Кол-во дубликатов:')\n",
    "for df in [df_train, df_test, df_full]:\n",
    "    print(df.duplicated().sum())"
   ]
  },
  {
   "cell_type": "code",
   "execution_count": 11,
   "metadata": {
    "scrolled": true
   },
   "outputs": [
    {
     "name": "stdout",
     "output_type": "stream",
     "text": [
      "Кол-во пропусков:\n",
      "3050\n",
      "375\n",
      "4481\n"
     ]
    }
   ],
   "source": [
    "# посмотрим на кол-во пропусков\n",
    "print('Кол-во пропусков:')\n",
    "for df in [df_train, df_test, df_full]:\n",
    "    print(df.isna().sum().sum())"
   ]
  },
  {
   "cell_type": "markdown",
   "metadata": {},
   "source": [
    "Исходя из того, что соседние по времени признаки часто похожи, мы заполним пропуски соседними значениями."
   ]
  },
  {
   "cell_type": "code",
   "execution_count": 12,
   "metadata": {},
   "outputs": [
    {
     "name": "stdout",
     "output_type": "stream",
     "text": [
      "Кол-во пропусков:\n",
      "0\n",
      "0\n",
      "0\n"
     ]
    }
   ],
   "source": [
    "df_train = df_train.fillna(method='ffill')\n",
    "df_test = df_test.fillna(method='ffill')\n",
    "df_full = df_full.fillna(method='ffill')\n",
    "\n",
    "print('Кол-во пропусков:')\n",
    "print(df_train.isna().sum().sum())\n",
    "print(df_test.isna().sum().sum())\n",
    "print(df_full.isna().sum().sum())"
   ]
  },
  {
   "cell_type": "markdown",
   "metadata": {},
   "source": [
    "На этапе подготовки данных мы изучили информацию по трём файлам, узнав их размеры и принцип записи признаков. Произвели ручной расчёт эффективности обогащения и сравнили его с табличными данными. Получив значение близкое к нулю, мы убедились, что табличный вариант рассчитан правильно, и мы можем его использовать в дальнейшем исследовании. Выяснили, что в тестовой выборке отсутствуют 34 признака, что связано с тем, что замеряются и/или рассчитываются значительно позже. Перед обучением моделей мы сравняем кол-во признаков во всех файлах. Заполнили пропуски соседними значениями. Дубликатов не выявили. Перейдём к анализу данных."
   ]
  },
  {
   "cell_type": "markdown",
   "metadata": {},
   "source": [
    "## Анализ данных"
   ]
  },
  {
   "cell_type": "markdown",
   "metadata": {},
   "source": [
    "### Концентрация металлов (Au, Ag, Pb) на различных этапах."
   ]
  },
  {
   "cell_type": "code",
   "execution_count": 13,
   "metadata": {},
   "outputs": [],
   "source": [
    "# напишем функцию для построения графиков\n",
    "def concentration(df, a, b, c, d):\n",
    "    # создадим список с названиями металлов\n",
    "    metals = ['au', 'ag', 'pb']\n",
    "    \n",
    "    for i in metals:\n",
    "        plt.figure(figsize=(15,10))\n",
    "        sns.kdeplot(df[a + i], shade=True, color='darkred', label='в сырье')\n",
    "        sns.kdeplot(df[b + i], shade=True, color='crimson', label='в черновом концентрате')\n",
    "        sns.kdeplot(df[c + i], shade=True, color='coral', label='после первичной очистки')\n",
    "        sns.kdeplot(df[d + i], shade=True, color='gold', label='финальный концентрат')\n",
    "\n",
    "        plt.title('Концентрация ' + i + ' на этапах очистки.', fontsize=25)\n",
    "        plt.xlabel('Концентрация.', fontsize = 20)\n",
    "        plt.legend()\n",
    "        plt.show()"
   ]
  },
  {
   "cell_type": "code",
   "execution_count": 14,
   "metadata": {
    "scrolled": false
   },
   "outputs": [
    {
     "data": {
      "image/png": "[encoded data removed]",
      "text/plain": [
       "<Figure size 1080x720 with 1 Axes>"
      ]
     },
     "metadata": {
      "needs_background": "light"
     },
     "output_type": "display_data"
    },
    {
     "data": {
      "image/png": "[encoded data removed]",
      "text/plain": [
       "<Figure size 1080x720 with 1 Axes>"
      ]
     },
     "metadata": {
      "needs_background": "light"
     },
     "output_type": "display_data"
    },
    {
     "data": {
      "image/png": "[encoded data removed]",
      "text/plain": [
       "<Figure size 1080x720 with 1 Axes>"
      ]
     },
     "metadata": {
      "needs_background": "light"
     },
     "output_type": "display_data"
    }
   ],
   "source": [
    "concentration(df_train, 'rougher.input.feed_', 'rougher.output.concentrate_',\n",
    "              'primary_cleaner.output.concentrate_', 'final.output.concentrate_')"
   ]
  },
  {
   "cell_type": "code",
   "execution_count": 15,
   "metadata": {},
   "outputs": [],
   "source": [
    "# удалим аномальные значения\n",
    "# сохраним названия колонок в список\n",
    "col = ['rougher.input.feed_', 'rougher.output.concentrate_',\n",
    "              'primary_cleaner.output.concentrate_', 'final.output.concentrate_']\n",
    "# сохраним металлы в список\n",
    "metals = ['au', 'ag', 'pb']\n",
    "# циклом уберём аномальные значения\n",
    "for i, x in zip(col, metals):\n",
    "    df_train = df_train[df_train[i + x] >= 1]"
   ]
  },
  {
   "cell_type": "markdown",
   "metadata": {},
   "source": [
    "В сырье мы видим низкую концентрацию свинца и практически одинаковую концентрацию золота и серебра. В черновом концентрате видим рост концентрации всех металлов почти в два раза. После первичной обработки так же наблюдаем рост всех металлов, за исключением серебра. Его концентрация немного понизилась. На финальном этапе видим, что концентрация свинца не меняется, остаётся на таком же уровне, что и на предыдущем этапе. Концентрация серебра сильно уменьшилась и стала даже меньше, чем на начальном этапе. А вот концентрация золота стабильно увеличивалась от этапа к этапу. Учитывая, что это золотообрабатывающее предприятие, мы можем сказать, что их технология обработки достаточна эффективна."
   ]
  },
  {
   "cell_type": "markdown",
   "metadata": {},
   "source": [
    "### Сравнение  размеров гранул исходного сырья на обучающей и тестовой выборках."
   ]
  },
  {
   "cell_type": "markdown",
   "metadata": {},
   "source": [
    "Нулевая гипотеза: размер гранул исходного сырья на обучающей и тестовой выборках одинаков.\n",
    "\n",
    "                                H0: μ1 = μ2\n",
    "Альтернативная гипотеза: размер гранул исходного сырья на обучающей и тестовой выборках разный.\n",
    "\n",
    "                                H1: μ1 != μ2"
   ]
  },
  {
   "cell_type": "code",
   "execution_count": 16,
   "metadata": {},
   "outputs": [
    {
     "name": "stdout",
     "output_type": "stream",
     "text": [
      "p-значение: 0.8971358410997188\n",
      "Не можем отвергнуть нулевую гипотезу.\n"
     ]
    }
   ],
   "source": [
    "train_input = df_train['rougher.input.feed_size']\n",
    "test_input = df_test['rougher.input.feed_size']\n",
    "\n",
    "\n",
    "alpha = 0.05 \n",
    "results = st.ttest_ind(train_input, test_input)\n",
    "\n",
    "print('p-значение:', results.pvalue)\n",
    "\n",
    "if results.pvalue < alpha:\n",
    "    print('Отвергаем нулевую гипотезу.')\n",
    "else:\n",
    "    print('Не можем отвергнуть нулевую гипотезу.') "
   ]
  },
  {
   "cell_type": "markdown",
   "metadata": {},
   "source": [
    "Для сравнения размера гранул исходного сырья в обучающей и тестовой выборках мы использовали статистический тест. И по его результатам мы не смогли отвергнуть гипотезу о том, что их размеры одинаковы. Из чего можем сделать предположение, что их размер одинаков."
   ]
  },
  {
   "cell_type": "markdown",
   "metadata": {},
   "source": [
    "### Суммарная концентрация металлов на разных стадиях."
   ]
  },
  {
   "cell_type": "code",
   "execution_count": 17,
   "metadata": {},
   "outputs": [],
   "source": [
    "# напишем функцию для построения графиков \n",
    "# с суммарной концентрацией металлов на каждом этапе\n",
    "def metal_sum(df):\n",
    "    # создадим столбцы с суммой всех металлов на каждом этапе очистки\n",
    "    df['rougher_input_feed_all_metal'] = (df['rougher.input.feed_au'] + \n",
    "                                 df['rougher.input.feed_ag'] + \n",
    "                                 df['rougher.input.feed_pb'])\n",
    "\n",
    "    df['rougher_output_concentrate_all_metal'] = (df['rougher.output.concentrate_au'] + \n",
    "                                 df['rougher.output.concentrate_ag'] + \n",
    "                                 df['rougher.output.concentrate_pb'])\n",
    "\n",
    "    df['primary_output_concentrate_all_metal'] = (df['primary_cleaner.output.concentrate_au'] + \n",
    "                                 df['primary_cleaner.output.concentrate_ag'] + \n",
    "                                 df['primary_cleaner.output.concentrate_pb'])\n",
    "\n",
    "\n",
    "    df['final_output_concentrate_all_metal'] = (df['final.output.concentrate_au'] + \n",
    "                                 df['final.output.concentrate_ag'] + \n",
    "                                 df['final.output.concentrate_pb'])\n",
    "    \n",
    "    # построим график\n",
    "    plt.figure(figsize=(15,10))\n",
    "    sns.kdeplot(df['rougher_input_feed_all_metal'], shade=True, color='darkred', label='в сырье')\n",
    "    sns.kdeplot(df['rougher_output_concentrate_all_metal'], shade=True, color='crimson', label='в черновом концентрате')\n",
    "    sns.kdeplot(df['primary_output_concentrate_all_metal'], shade=True, color='coral', label='после первичной очистки')\n",
    "    sns.kdeplot(df['final_output_concentrate_all_metal'], shade=True, color='gold', label='финальный концентрат')\n",
    "\n",
    "    plt.title('Концентрация всех металлов на всех этапах.', fontsize=25)\n",
    "    plt.xlabel('Концентрация.', fontsize=20)\n",
    "    plt.legend()\n",
    "    plt.show()"
   ]
  },
  {
   "cell_type": "code",
   "execution_count": 18,
   "metadata": {
    "scrolled": false
   },
   "outputs": [
    {
     "data": {
      "image/png": "[encoded data removed]",
      "text/plain": [
       "<Figure size 1080x720 with 1 Axes>"
      ]
     },
     "metadata": {
      "needs_background": "light"
     },
     "output_type": "display_data"
    }
   ],
   "source": [
    "metal_sum(df_train)"
   ]
  },
  {
   "cell_type": "markdown",
   "metadata": {},
   "source": [
    "На этапе анализа данных мы построили график концентрации металлов (Au, Ag, Pb) на различных этапах. Сделали вывод о том, что технология по очистке металла на предприятии достаточно эффективная, в связи с ростом концентрации золота с каждым этапом. Провели статистический тест для сравнения размера гранул в исходном сырье в обучающей и тестовой выборках. И сделали предположение, что их размеры практически одинаковы. На графике с концентрацией всех металлов на каждом этапе хорошо виден рост концентрации каждого металла."
   ]
  },
  {
   "cell_type": "markdown",
   "metadata": {},
   "source": [
    "## Модель"
   ]
  },
  {
   "cell_type": "markdown",
   "metadata": {},
   "source": [
    "### Функция для sMAPE."
   ]
  },
  {
   "cell_type": "code",
   "execution_count": 19,
   "metadata": {},
   "outputs": [],
   "source": [
    "# напишем функцию для рассчёта smape\n",
    "def smape(y_target, y_predict):\n",
    "    sMAPE = (sum(abs(y_target-y_predict)/((abs(y_target)+\n",
    "                                           abs(y_predict))/2))/len(y_target))*100\n",
    "    return sMAPE\n",
    "\n",
    "# напишем функцию для рассчёта итогового smape\n",
    "def final_smape(smape_rougher, smape_final):\n",
    "    return (0.25 * smape_rougher) + (0.75 * smape_final)"
   ]
  },
  {
   "cell_type": "code",
   "execution_count": 20,
   "metadata": {},
   "outputs": [],
   "source": [
    "scorer = make_scorer(smape, greater_is_better=False)"
   ]
  },
  {
   "cell_type": "markdown",
   "metadata": {},
   "source": [
    "### Создание выборок."
   ]
  },
  {
   "cell_type": "code",
   "execution_count": 21,
   "metadata": {
    "scrolled": true
   },
   "outputs": [],
   "source": [
    "# вытянем таргеты для тестовой выборки из исходной\n",
    "df_test = df_test.merge(df_full[['rougher.output.recovery', 'final.output.recovery', 'date']],\n",
    "                       how='inner', on='date')\n",
    "# проверим\n",
    "# df_test.head(2)"
   ]
  },
  {
   "cell_type": "code",
   "execution_count": 22,
   "metadata": {},
   "outputs": [],
   "source": [
    "# удалим из таргетов значения, равные 0\n",
    "df_train = df_train.drop(df_train[df_train['rougher.output.recovery'] == 0].index)\n",
    "df_train = df_train.drop(df_train[df_train['final.output.recovery'] == 0].index)"
   ]
  },
  {
   "cell_type": "code",
   "execution_count": 23,
   "metadata": {},
   "outputs": [],
   "source": [
    "# напишем функцию для удаления признаков, \n",
    "# отсутствующих в тестовой выборке\n",
    "def columns_delete(train, test):\n",
    "    train = train[test.columns]\n",
    "    return train"
   ]
  },
  {
   "cell_type": "code",
   "execution_count": 24,
   "metadata": {},
   "outputs": [
    {
     "name": "stdout",
     "output_type": "stream",
     "text": [
      "(13856, 54)\n",
      "(4860, 54)\n"
     ]
    }
   ],
   "source": [
    "# применим функцию и проверим\n",
    "df_train = columns_delete(df_train, df_test)\n",
    "# удалим более ненужный признак\n",
    "df_train = df_train.drop(['date'], axis=1)\n",
    "df_test = df_test.drop(['date'], axis=1)\n",
    "\n",
    "print(df_train.shape)\n",
    "print(df_test.shape)"
   ]
  },
  {
   "cell_type": "code",
   "execution_count": 25,
   "metadata": {},
   "outputs": [
    {
     "name": "stdout",
     "output_type": "stream",
     "text": [
      "(13856, 52)\n",
      "(13856,)\n",
      "(13856,)\n"
     ]
    }
   ],
   "source": [
    "# подготовим фичи и таргеты в обучающей выборке\n",
    "x_train = df_train.drop(['rougher.output.recovery', 'final.output.recovery'], axis=1)\n",
    "y_train = df_train['rougher.output.recovery']\n",
    "y_train_ = df_train['final.output.recovery']\n",
    "\n",
    "print(x_train.shape)\n",
    "print(y_train.shape)\n",
    "print(y_train_.shape)"
   ]
  },
  {
   "cell_type": "code",
   "execution_count": 26,
   "metadata": {
    "scrolled": false
   },
   "outputs": [
    {
     "name": "stdout",
     "output_type": "stream",
     "text": [
      "(4860, 52)\n",
      "(4860,)\n",
      "(4860,)\n"
     ]
    }
   ],
   "source": [
    "# в тестовой выборке\n",
    "x_test = df_test.drop(['rougher.output.recovery', 'final.output.recovery'], axis=1)\n",
    "y_test = df_test['rougher.output.recovery']\n",
    "y_test_ = df_test['final.output.recovery']\n",
    "\n",
    "print(x_test.shape)\n",
    "print(y_test.shape)\n",
    "print(y_test_.shape)"
   ]
  },
  {
   "cell_type": "markdown",
   "metadata": {},
   "source": [
    "### Выбор лучшей модели."
   ]
  },
  {
   "cell_type": "markdown",
   "metadata": {},
   "source": [
    "#### RandomForestRegressor."
   ]
  },
  {
   "cell_type": "code",
   "execution_count": 27,
   "metadata": {},
   "outputs": [
    {
     "name": "stdout",
     "output_type": "stream",
     "text": [
      "CPU times: user 36 µs, sys: 17 µs, total: 53 µs\n",
      "Wall time: 56.3 µs\n"
     ]
    }
   ],
   "source": [
    "%%time\n",
    "# подберём параметры для RFR с y_train\n",
    "model_rf = RandomForestRegressor(random_state=STATE)\n",
    "params = { 'max_depth': range(2, 7),\n",
    "          'n_estimators': range(20, 60, 10) }"
   ]
  },
  {
   "cell_type": "code",
   "execution_count": 28,
   "metadata": {},
   "outputs": [
    {
     "name": "stdout",
     "output_type": "stream",
     "text": [
      "Fitting 3 folds for each of 20 candidates, totalling 60 fits\n",
      "[CV] END .......................max_depth=2, n_estimators=20; total time=   1.2s\n",
      "[CV] END .......................max_depth=2, n_estimators=20; total time=   1.2s\n",
      "[CV] END .......................max_depth=2, n_estimators=20; total time=   1.2s\n",
      "[CV] END .......................max_depth=2, n_estimators=30; total time=   1.8s\n",
      "[CV] END .......................max_depth=2, n_estimators=30; total time=   2.0s\n",
      "[CV] END .......................max_depth=2, n_estimators=30; total time=   2.0s\n",
      "[CV] END .......................max_depth=2, n_estimators=40; total time=   2.4s\n",
      "[CV] END .......................max_depth=2, n_estimators=40; total time=   2.3s\n",
      "[CV] END .......................max_depth=2, n_estimators=40; total time=   2.3s\n",
      "[CV] END .......................max_depth=2, n_estimators=50; total time=   2.9s\n",
      "[CV] END .......................max_depth=2, n_estimators=50; total time=   2.9s\n",
      "[CV] END .......................max_depth=2, n_estimators=50; total time=   2.9s\n",
      "[CV] END .......................max_depth=3, n_estimators=20; total time=   1.7s\n",
      "[CV] END .......................max_depth=3, n_estimators=20; total time=   1.7s\n",
      "[CV] END .......................max_depth=3, n_estimators=20; total time=   1.7s\n",
      "[CV] END .......................max_depth=3, n_estimators=30; total time=   2.5s\n",
      "[CV] END .......................max_depth=3, n_estimators=30; total time=   2.5s\n",
      "[CV] END .......................max_depth=3, n_estimators=30; total time=   2.9s\n",
      "[CV] END .......................max_depth=3, n_estimators=40; total time=   3.6s\n",
      "[CV] END .......................max_depth=3, n_estimators=40; total time=   3.3s\n",
      "[CV] END .......................max_depth=3, n_estimators=40; total time=   3.3s\n",
      "[CV] END .......................max_depth=3, n_estimators=50; total time=   4.2s\n",
      "[CV] END .......................max_depth=3, n_estimators=50; total time=   4.2s\n",
      "[CV] END .......................max_depth=3, n_estimators=50; total time=   4.2s\n",
      "[CV] END .......................max_depth=4, n_estimators=20; total time=   2.2s\n",
      "[CV] END .......................max_depth=4, n_estimators=20; total time=   2.2s\n",
      "[CV] END .......................max_depth=4, n_estimators=20; total time=   2.4s\n",
      "[CV] END .......................max_depth=4, n_estimators=30; total time=   3.4s\n",
      "[CV] END .......................max_depth=4, n_estimators=30; total time=   3.2s\n",
      "[CV] END .......................max_depth=4, n_estimators=30; total time=   3.3s\n",
      "[CV] END .......................max_depth=4, n_estimators=40; total time=   4.2s\n",
      "[CV] END .......................max_depth=4, n_estimators=40; total time=   4.2s\n",
      "[CV] END .......................max_depth=4, n_estimators=40; total time=   4.2s\n",
      "[CV] END .......................max_depth=4, n_estimators=50; total time=   5.4s\n",
      "[CV] END .......................max_depth=4, n_estimators=50; total time=   5.9s\n",
      "[CV] END .......................max_depth=4, n_estimators=50; total time=   5.2s\n",
      "[CV] END .......................max_depth=5, n_estimators=20; total time=   2.6s\n",
      "[CV] END .......................max_depth=5, n_estimators=20; total time=   2.6s\n",
      "[CV] END .......................max_depth=5, n_estimators=20; total time=   2.6s\n",
      "[CV] END .......................max_depth=5, n_estimators=30; total time=   3.9s\n",
      "[CV] END .......................max_depth=5, n_estimators=30; total time=   4.0s\n",
      "[CV] END .......................max_depth=5, n_estimators=30; total time=   4.1s\n",
      "[CV] END .......................max_depth=5, n_estimators=40; total time=   5.9s\n",
      "[CV] END .......................max_depth=5, n_estimators=40; total time=   5.2s\n",
      "[CV] END .......................max_depth=5, n_estimators=40; total time=   5.2s\n",
      "[CV] END .......................max_depth=5, n_estimators=50; total time=   6.6s\n",
      "[CV] END .......................max_depth=5, n_estimators=50; total time=   6.9s\n",
      "[CV] END .......................max_depth=5, n_estimators=50; total time=   6.8s\n",
      "[CV] END .......................max_depth=6, n_estimators=20; total time=   3.1s\n",
      "[CV] END .......................max_depth=6, n_estimators=20; total time=   3.0s\n",
      "[CV] END .......................max_depth=6, n_estimators=20; total time=   3.1s\n",
      "[CV] END .......................max_depth=6, n_estimators=30; total time=   4.6s\n",
      "[CV] END .......................max_depth=6, n_estimators=30; total time=   4.8s\n",
      "[CV] END .......................max_depth=6, n_estimators=30; total time=   4.7s\n",
      "[CV] END .......................max_depth=6, n_estimators=40; total time=   6.7s\n",
      "[CV] END .......................max_depth=6, n_estimators=40; total time=   6.3s\n",
      "[CV] END .......................max_depth=6, n_estimators=40; total time=   6.2s\n",
      "[CV] END .......................max_depth=6, n_estimators=50; total time=   7.7s\n",
      "[CV] END .......................max_depth=6, n_estimators=50; total time=   8.7s\n",
      "[CV] END .......................max_depth=6, n_estimators=50; total time=   7.6s\n",
      "Лучшая модель RandomForestRegressor c оценкой качества кросс-валидацией: GridSearchCV(cv=3,\n",
      "             estimator=RandomForestRegressor(random_state=RandomState(MT19937) at 0x7F613C817B40),\n",
      "             param_grid={'max_depth': range(2, 7),\n",
      "                         'n_estimators': range(20, 60, 10)},\n",
      "             scoring=make_scorer(smape, greater_is_better=False), verbose=2)\n",
      "Лучшие параметры: {'max_depth': 5, 'n_estimators': 50}\n",
      "smape 6.51\n"
     ]
    }
   ],
   "source": [
    "grid_rf = GridSearchCV(model_rf, params, cv=3, scoring=scorer, verbose=2)   \n",
    "grid_rf.fit(x_train, y_train)\n",
    "smape_rf = abs(round(grid_rf.best_score_, 2))\n",
    "\n",
    "print('Лучшая модель RandomForestRegressor c оценкой качества кросс-валидацией:', grid_rf)\n",
    "print('Лучшие параметры:', grid_rf.best_params_)\n",
    "print('smape', smape_rf)"
   ]
  },
  {
   "cell_type": "code",
   "execution_count": 29,
   "metadata": {
    "scrolled": false
   },
   "outputs": [
    {
     "name": "stdout",
     "output_type": "stream",
     "text": [
      "Fitting 3 folds for each of 20 candidates, totalling 60 fits\n",
      "[CV] END .......................max_depth=2, n_estimators=20; total time=   1.3s\n",
      "[CV] END .......................max_depth=2, n_estimators=20; total time=   1.2s\n",
      "[CV] END .......................max_depth=2, n_estimators=20; total time=   1.2s\n",
      "[CV] END .......................max_depth=2, n_estimators=30; total time=   1.8s\n",
      "[CV] END .......................max_depth=2, n_estimators=30; total time=   1.9s\n",
      "[CV] END .......................max_depth=2, n_estimators=30; total time=   1.7s\n",
      "[CV] END .......................max_depth=2, n_estimators=40; total time=   2.3s\n",
      "[CV] END .......................max_depth=2, n_estimators=40; total time=   2.3s\n",
      "[CV] END .......................max_depth=2, n_estimators=40; total time=   2.4s\n",
      "[CV] END .......................max_depth=2, n_estimators=50; total time=   2.8s\n",
      "[CV] END .......................max_depth=2, n_estimators=50; total time=   2.9s\n",
      "[CV] END .......................max_depth=2, n_estimators=50; total time=   2.8s\n",
      "[CV] END .......................max_depth=3, n_estimators=20; total time=   1.7s\n",
      "[CV] END .......................max_depth=3, n_estimators=20; total time=   1.7s\n",
      "[CV] END .......................max_depth=3, n_estimators=20; total time=   1.7s\n",
      "[CV] END .......................max_depth=3, n_estimators=30; total time=   2.6s\n",
      "[CV] END .......................max_depth=3, n_estimators=30; total time=   2.5s\n",
      "[CV] END .......................max_depth=3, n_estimators=30; total time=   2.5s\n",
      "[CV] END .......................max_depth=3, n_estimators=40; total time=   3.5s\n",
      "[CV] END .......................max_depth=3, n_estimators=40; total time=   3.7s\n",
      "[CV] END .......................max_depth=3, n_estimators=40; total time=   3.3s\n",
      "[CV] END .......................max_depth=3, n_estimators=50; total time=   4.1s\n",
      "[CV] END .......................max_depth=3, n_estimators=50; total time=   4.1s\n",
      "[CV] END .......................max_depth=3, n_estimators=50; total time=   4.2s\n",
      "[CV] END .......................max_depth=4, n_estimators=20; total time=   2.2s\n",
      "[CV] END .......................max_depth=4, n_estimators=20; total time=   2.2s\n",
      "[CV] END .......................max_depth=4, n_estimators=20; total time=   2.3s\n",
      "[CV] END .......................max_depth=4, n_estimators=30; total time=   3.5s\n",
      "[CV] END .......................max_depth=4, n_estimators=30; total time=   3.2s\n",
      "[CV] END .......................max_depth=4, n_estimators=30; total time=   3.4s\n",
      "[CV] END .......................max_depth=4, n_estimators=40; total time=   4.3s\n",
      "[CV] END .......................max_depth=4, n_estimators=40; total time=   4.3s\n",
      "[CV] END .......................max_depth=4, n_estimators=40; total time=   4.3s\n",
      "[CV] END .......................max_depth=4, n_estimators=50; total time=   5.5s\n",
      "[CV] END .......................max_depth=4, n_estimators=50; total time=   5.5s\n",
      "[CV] END .......................max_depth=4, n_estimators=50; total time=   5.8s\n",
      "[CV] END .......................max_depth=5, n_estimators=20; total time=   2.7s\n",
      "[CV] END .......................max_depth=5, n_estimators=20; total time=   2.6s\n",
      "[CV] END .......................max_depth=5, n_estimators=20; total time=   2.7s\n",
      "[CV] END .......................max_depth=5, n_estimators=30; total time=   4.0s\n",
      "[CV] END .......................max_depth=5, n_estimators=30; total time=   4.0s\n",
      "[CV] END .......................max_depth=5, n_estimators=30; total time=   4.1s\n",
      "[CV] END .......................max_depth=5, n_estimators=40; total time=   5.6s\n",
      "[CV] END .......................max_depth=5, n_estimators=40; total time=   5.3s\n",
      "[CV] END .......................max_depth=5, n_estimators=40; total time=   5.3s\n",
      "[CV] END .......................max_depth=5, n_estimators=50; total time=   6.7s\n",
      "[CV] END .......................max_depth=5, n_estimators=50; total time=   6.7s\n",
      "[CV] END .......................max_depth=5, n_estimators=50; total time=   7.5s\n",
      "[CV] END .......................max_depth=6, n_estimators=20; total time=   3.1s\n",
      "[CV] END .......................max_depth=6, n_estimators=20; total time=   3.0s\n",
      "[CV] END .......................max_depth=6, n_estimators=20; total time=   3.1s\n",
      "[CV] END .......................max_depth=6, n_estimators=30; total time=   4.6s\n",
      "[CV] END .......................max_depth=6, n_estimators=30; total time=   4.7s\n",
      "[CV] END .......................max_depth=6, n_estimators=30; total time=   4.7s\n",
      "[CV] END .......................max_depth=6, n_estimators=40; total time=   6.2s\n",
      "[CV] END .......................max_depth=6, n_estimators=40; total time=   6.3s\n",
      "[CV] END .......................max_depth=6, n_estimators=40; total time=   6.3s\n",
      "[CV] END .......................max_depth=6, n_estimators=50; total time=   7.9s\n",
      "[CV] END .......................max_depth=6, n_estimators=50; total time=   8.9s\n",
      "[CV] END .......................max_depth=6, n_estimators=50; total time=   7.7s\n",
      "Kучшая модель RandomForestRegressor c оценкой качества кросс-валидацией: GridSearchCV(cv=3,\n",
      "             estimator=RandomForestRegressor(random_state=RandomState(MT19937) at 0x7F613C817B40),\n",
      "             param_grid={'max_depth': range(2, 7),\n",
      "                         'n_estimators': range(20, 60, 10)},\n",
      "             scoring=make_scorer(smape, greater_is_better=False), verbose=2)\n",
      "Лучшие параметры: {'max_depth': 2, 'n_estimators': 50}\n",
      "smape: 9.39\n",
      "CPU times: user 3min 54s, sys: 156 ms, total: 3min 54s\n",
      "Wall time: 3min 55s\n"
     ]
    }
   ],
   "source": [
    "%%time\n",
    "# подберём параметры для RFR с y_train_\n",
    "model_rf_final = RandomForestRegressor(random_state=STATE)\n",
    "params = { 'max_depth': range(2, 7),\n",
    "          'n_estimators': range(20, 60, 10) }\n",
    "\n",
    "grid_rf_final = GridSearchCV(model_rf_final, params, cv=3, scoring=scorer, verbose=2)   \n",
    "grid_rf_final.fit(x_train, y_train_)\n",
    "smape_rf_final = abs(round(grid_rf_final.best_score_, 2))\n",
    "\n",
    "print('Kучшая модель RandomForestRegressor c оценкой качества кросс-валидацией:', grid_rf_final)\n",
    "print('Лучшие параметры:', grid_rf_final.best_params_)\n",
    "print('smape:', smape_rf_final)"
   ]
  },
  {
   "cell_type": "code",
   "execution_count": 30,
   "metadata": {},
   "outputs": [
    {
     "name": "stdout",
     "output_type": "stream",
     "text": [
      "smape по rfr 8.67\n"
     ]
    }
   ],
   "source": [
    "print('smape по rfr', round(final_smape(smape_rf, smape_rf_final), 2))"
   ]
  },
  {
   "cell_type": "markdown",
   "metadata": {},
   "source": [
    "#### DecisionTreeRegressor."
   ]
  },
  {
   "cell_type": "code",
   "execution_count": 31,
   "metadata": {},
   "outputs": [
    {
     "name": "stdout",
     "output_type": "stream",
     "text": [
      "CPU times: user 23 µs, sys: 0 ns, total: 23 µs\n",
      "Wall time: 25.7 µs\n"
     ]
    }
   ],
   "source": [
    "%%time\n",
    "# подберём параметры для DTR с y_train\n",
    "model_dtr = DecisionTreeRegressor(random_state=STATE)\n",
    "\n",
    "params = {'max_depth':range(2, 6)}"
   ]
  },
  {
   "cell_type": "code",
   "execution_count": 32,
   "metadata": {
    "scrolled": false
   },
   "outputs": [
    {
     "name": "stdout",
     "output_type": "stream",
     "text": [
      "Fitting 3 folds for each of 4 candidates, totalling 12 fits\n",
      "[CV] END ........................................max_depth=2; total time=   0.1s\n",
      "[CV] END ........................................max_depth=2; total time=   0.1s\n",
      "[CV] END ........................................max_depth=2; total time=   0.1s\n",
      "[CV] END ........................................max_depth=3; total time=   0.1s\n",
      "[CV] END ........................................max_depth=3; total time=   0.1s\n",
      "[CV] END ........................................max_depth=3; total time=   0.1s\n",
      "[CV] END ........................................max_depth=4; total time=   0.2s\n",
      "[CV] END ........................................max_depth=4; total time=   0.2s\n",
      "[CV] END ........................................max_depth=4; total time=   0.2s\n",
      "[CV] END ........................................max_depth=5; total time=   0.2s\n",
      "[CV] END ........................................max_depth=5; total time=   0.2s\n",
      "[CV] END ........................................max_depth=5; total time=   0.2s\n",
      "Лучшая модель DecisionTreeRegressor c оценкой качества кросс-валидацией: GridSearchCV(cv=3,\n",
      "             estimator=DecisionTreeRegressor(random_state=RandomState(MT19937) at 0x7F613C817B40),\n",
      "             param_grid={'max_depth': range(2, 6)},\n",
      "             scoring=make_scorer(smape, greater_is_better=False), verbose=2)\n",
      "Лучшие параметры: {'max_depth': 2}\n",
      "smape: 6.88\n"
     ]
    }
   ],
   "source": [
    "grid_dtr = GridSearchCV(model_dtr, params, cv=3, scoring=scorer, verbose=2)                    \n",
    "grid_dtr.fit(x_train, y_train)\n",
    "smape_dtr = abs(round(grid_dtr.best_score_, 2))\n",
    "\n",
    "print('Лучшая модель DecisionTreeRegressor c оценкой качества кросс-валидацией:', grid_dtr)\n",
    "print('Лучшие параметры:', grid_dtr.best_params_)\n",
    "print('smape:', smape_dtr)"
   ]
  },
  {
   "cell_type": "code",
   "execution_count": 33,
   "metadata": {
    "scrolled": false
   },
   "outputs": [
    {
     "name": "stdout",
     "output_type": "stream",
     "text": [
      "Fitting 3 folds for each of 4 candidates, totalling 12 fits\n",
      "[CV] END ........................................max_depth=2; total time=   0.1s\n",
      "[CV] END ........................................max_depth=2; total time=   0.1s\n",
      "[CV] END ........................................max_depth=2; total time=   0.1s\n",
      "[CV] END ........................................max_depth=3; total time=   0.1s\n",
      "[CV] END ........................................max_depth=3; total time=   0.1s\n",
      "[CV] END ........................................max_depth=3; total time=   0.1s\n",
      "[CV] END ........................................max_depth=4; total time=   0.2s\n",
      "[CV] END ........................................max_depth=4; total time=   0.2s\n",
      "[CV] END ........................................max_depth=4; total time=   0.2s\n",
      "[CV] END ........................................max_depth=5; total time=   0.2s\n",
      "[CV] END ........................................max_depth=5; total time=   0.2s\n",
      "[CV] END ........................................max_depth=5; total time=   0.2s\n",
      "Лучшая модель DecisionTreeRegressor c оценкой качества кросс-валидацией: GridSearchCV(cv=3,\n",
      "             estimator=DecisionTreeRegressor(random_state=RandomState(MT19937) at 0x7F613C817B40),\n",
      "             param_grid={'max_depth': range(2, 6)},\n",
      "             scoring=make_scorer(smape, greater_is_better=False), verbose=2)\n",
      "Лучшие параметры: {'max_depth': 2}\n",
      "smape: 9.49\n",
      "CPU times: user 2.14 s, sys: 15.9 ms, total: 2.15 s\n",
      "Wall time: 2.18 s\n"
     ]
    }
   ],
   "source": [
    "%%time\n",
    "# подберём параметры для DTR с y_train_\n",
    "model_dtr_final = DecisionTreeRegressor(random_state=STATE)\n",
    "\n",
    "params = {'max_depth':range(2, 6)}\n",
    "\n",
    "grid_dtr_final = GridSearchCV(model_dtr_final, params, cv=3, scoring=scorer, verbose=2)                    \n",
    "grid_dtr_final.fit(x_train, y_train_)\n",
    "smape_dtr_final = abs(round(grid_dtr_final.best_score_, 2))\n",
    "\n",
    "print('Лучшая модель DecisionTreeRegressor c оценкой качества кросс-валидацией:', grid_dtr_final)\n",
    "print('Лучшие параметры:', grid_dtr_final.best_params_)\n",
    "print('smape:', smape_dtr_final)"
   ]
  },
  {
   "cell_type": "code",
   "execution_count": 34,
   "metadata": {},
   "outputs": [
    {
     "name": "stdout",
     "output_type": "stream",
     "text": [
      "smape по dtr 8.84\n"
     ]
    }
   ],
   "source": [
    "print('smape по dtr', round(final_smape(smape_dtr, smape_dtr_final), 2))"
   ]
  },
  {
   "cell_type": "markdown",
   "metadata": {},
   "source": [
    "Лучшей моделью для y_train стала RFR с парметрами: {'max_depth': 5, 'n_estimators': 50} и smape 6.51.\n",
    "\n",
    "Лучшей моделью для y_train_ стала RFR с парметрами: {'max_depth': 2, 'n_estimators': 50} и smape 9.39.\n",
    "\n",
    "Этой моделью и будем проводить проверку на тестовой выборке."
   ]
  },
  {
   "cell_type": "markdown",
   "metadata": {},
   "source": [
    "### Проверка на тестовой выборке."
   ]
  },
  {
   "cell_type": "code",
   "execution_count": 35,
   "metadata": {},
   "outputs": [],
   "source": [
    "# сохраним полученные гиперпараметры в переменных\n",
    "max_depth = 5\n",
    "n_estimators = 50\n",
    "max_depth_final = 2\n",
    "n_estimators_final = 50"
   ]
  },
  {
   "cell_type": "code",
   "execution_count": 36,
   "metadata": {},
   "outputs": [
    {
     "name": "stdout",
     "output_type": "stream",
     "text": [
      "smape: 3.91\n",
      "CPU times: user 10.8 s, sys: 4.07 ms, total: 10.8 s\n",
      "Wall time: 10.8 s\n"
     ]
    }
   ],
   "source": [
    "%%time\n",
    "# проверим модель y_test на тестовой выборке\n",
    "# с заданными гиперпараметрами\n",
    "model_rf_test = RandomForestRegressor(max_depth=max_depth,\n",
    "                                      n_estimators=n_estimators,random_state=STATE)\n",
    "model_rf_test.fit(x_train, y_train)\n",
    "\n",
    "predict_test = model_rf_test.predict(x_test)\n",
    "smape_test = smape(y_test, predict_test)\n",
    "\n",
    "print('smape:', round(smape_test, 2))"
   ]
  },
  {
   "cell_type": "code",
   "execution_count": 37,
   "metadata": {},
   "outputs": [
    {
     "name": "stdout",
     "output_type": "stream",
     "text": [
      "smape: 8.52\n",
      "CPU times: user 4.92 s, sys: 7.98 ms, total: 4.92 s\n",
      "Wall time: 4.93 s\n"
     ]
    }
   ],
   "source": [
    "%%time\n",
    "# проверим модель y_test_ на тестовой выборке\n",
    "# с заданными гиперпараметрами\n",
    "model_rf_test_final = RandomForestRegressor(max_depth=max_depth_final,\n",
    "                                            n_estimators=n_estimators_final,random_state=STATE)\n",
    "model_rf_test_final.fit(x_train, y_train_)\n",
    "\n",
    "predict_test_final = model_rf_test_final.predict(x_test)\n",
    "smape_test_final = smape(y_test_, predict_test_final)\n",
    "\n",
    "print('smape:', round(smape_test_final, 2))"
   ]
  },
  {
   "cell_type": "code",
   "execution_count": 38,
   "metadata": {},
   "outputs": [
    {
     "name": "stdout",
     "output_type": "stream",
     "text": [
      "Итоговая smape 7.37\n"
     ]
    }
   ],
   "source": [
    "print('Итоговая smape', round(final_smape(smape_test, smape_test_final),2))"
   ]
  },
  {
   "cell_type": "markdown",
   "metadata": {},
   "source": [
    "### Проверка на константной модели."
   ]
  },
  {
   "cell_type": "code",
   "execution_count": 39,
   "metadata": {},
   "outputs": [
    {
     "name": "stdout",
     "output_type": "stream",
     "text": [
      "smape 5.84\n"
     ]
    }
   ],
   "source": [
    "# выполним дополнительную проверку\n",
    "# с y_test на константной модели\n",
    "model_dr = DummyRegressor(strategy=\"median\")\n",
    "model_dr.fit(x_train, y_train)\n",
    "predict_dr = model_dr.predict(x_test)\n",
    "smape_dr = smape(y_test, predict_dr)\n",
    "\n",
    "print('smape', round(smape_dr, 2))"
   ]
  },
  {
   "cell_type": "code",
   "execution_count": 40,
   "metadata": {},
   "outputs": [
    {
     "name": "stdout",
     "output_type": "stream",
     "text": [
      "smape 9.12\n"
     ]
    }
   ],
   "source": [
    "# выполним дополнительную проверку\n",
    "# с y_test_ на константной модели\n",
    "model_dr_final = DummyRegressor(strategy=\"median\")\n",
    "model_dr_final.fit(x_train, y_train_)\n",
    "predict_dr_final = model_dr_final.predict(x_test)\n",
    "smape_dr_final = smape(y_test_, predict_dr_final)\n",
    "\n",
    "print('smape', round(smape_dr_final, 2))"
   ]
  },
  {
   "cell_type": "code",
   "execution_count": 41,
   "metadata": {},
   "outputs": [
    {
     "name": "stdout",
     "output_type": "stream",
     "text": [
      "Итоговая smape 8.3\n"
     ]
    }
   ],
   "source": [
    "print('Итоговая smape', round(final_smape(smape_dr, smape_dr_final),2))"
   ]
  },
  {
   "cell_type": "markdown",
   "metadata": {},
   "source": [
    "## Вывод."
   ]
  },
  {
   "cell_type": "markdown",
   "metadata": {},
   "source": [
    "В ходе этого исследования мы провели следующие работы:\n",
    "\n",
    "* Изучили информацию по всем трём файлам:\n",
    "\n",
    "    * df_train состоит из 14579 объектов и 86 признаков;\n",
    "\n",
    "    * df_test состоит из 4860 объектов и 52 признаков;\n",
    "\n",
    "    * df_full состоит из 19439 лбъектов и 86 признаков;\n",
    "\n",
    "    * Во всех трёх файлах содержится информация о технологическом процессе, параметре этапов.\n",
    "    \n",
    "* Проверили правильность расчёта эффективности обогащения. Наши расчёты полностью совпали с табличными данными.\n",
    "\n",
    "* Провели анализ признаков, отсутствующих в тестовой выборке. В тестовой выборке отсутствуют 34 признака. Некоторые параметры недоступны, потому что замеряются и/или рассчитываются значительно позже. Из-за этого в тестовой выборке отсутствуют некоторые признаки, которые могут быть в обучающей. Также в тестовом наборе нет целевых признаков.\n",
    "\n",
    "* Выполнили предобработку данных:\n",
    "\n",
    "    * заполнили пропуски соседними значениями;\n",
    "    \n",
    "    * дубликатов не выявили.\n",
    "    \n",
    "* Выполнили анализ данных\n",
    "    \n",
    "    * в сырье мы видим низкую концентрацию свинца и практически одинаковую концентрацию золота и серебра. В черновом концентрате видим рост концентрации всех металлов почти в два раза. После первичной обработки так же наблюдаем рост всех металлов, за исключением серебра. Его концентрация немного понизилась. На финальном этапе видим, что концентрация свинца не меняется, остаётся на таком же уровне, что и на предыдущем этапе. Концентрация серебра сильно уменьшилась и стала даже меньше, чем на начальном этапе. А вот концентрация золота стабильно увеличивалась от этапа к этапу. Учитывая, что это золотообрабатывающее предприятие, мы можем сказать, что их технология обработки достаточна эффективна;\n",
    "    \n",
    "    * сравнив размер гранул исходного сырья на обучающей и тестовой выборках, можем сказать, что различий нет, следовательно, оценка модели будет правильной;\n",
    "    \n",
    "    * концентрация всех металлов растёт с каждым этапом.\n",
    "    \n",
    "* На этапе подготовки модели:\n",
    "\n",
    "    * написали функцию для расчёта sMAPE и итоговой sMAPE;\n",
    "    \n",
    "    * добавили в тестовую выборку искомые признаки;\n",
    "    \n",
    "    * удалили нулевые значения из обучающей выборки;\n",
    "    \n",
    "    * разделили признаки.\n",
    "    \n",
    "* На последнем этапе лучшей моделью мы выбрали RandomForestRegressor.\n",
    "\n",
    "Лучшей моделью для чернового концентрата стала RFR с парметрами: {'max_depth': 5, 'n_estimators': 50} и smape 6.51 и для финального продукта стала RFR с параметрами: {'max_depth': 2, 'n_estimators': 50} и smape 9.39, что дало в итоговой smape 7.37. Сравнение нашей модели с константной показало, что наша модель более чем адекватна."
   ]
  }
 ],
 "metadata": {
  "ExecuteTimeLog": [
   {
    "duration": 427,
    "start_time": "2023-08-09T13:23:40.176Z"
   },
   {
    "duration": 109,
    "start_time": "2023-08-09T13:26:56.752Z"
   },
   {
    "duration": 1507,
    "start_time": "2023-08-09T13:28:09.910Z"
   },
   {
    "duration": 1176,
    "start_time": "2023-08-09T13:31:16.187Z"
   },
   {
    "duration": 1126,
    "start_time": "2023-08-09T13:31:33.528Z"
   },
   {
    "duration": 1177,
    "start_time": "2023-08-09T13:31:50.892Z"
   },
   {
    "duration": 1204,
    "start_time": "2023-08-09T13:33:01.696Z"
   },
   {
    "duration": 1332,
    "start_time": "2023-08-09T13:33:37.565Z"
   },
   {
    "duration": 1196,
    "start_time": "2023-08-09T13:33:54.587Z"
   },
   {
    "duration": 372,
    "start_time": "2023-08-09T13:37:57.501Z"
   },
   {
    "duration": 1022,
    "start_time": "2023-08-09T13:37:57.875Z"
   },
   {
    "duration": 1371,
    "start_time": "2023-08-09T13:37:58.898Z"
   },
   {
    "duration": 69,
    "start_time": "2023-08-09T13:40:32.954Z"
   },
   {
    "duration": 96,
    "start_time": "2023-08-09T13:40:37.852Z"
   },
   {
    "duration": 41,
    "start_time": "2023-08-09T13:40:42.257Z"
   },
   {
    "duration": 5,
    "start_time": "2023-08-09T13:40:58.518Z"
   },
   {
    "duration": 44,
    "start_time": "2023-08-09T13:42:42.927Z"
   },
   {
    "duration": 4,
    "start_time": "2023-08-09T13:42:52.818Z"
   },
   {
    "duration": 413,
    "start_time": "2023-08-09T13:43:03.687Z"
   },
   {
    "duration": 893,
    "start_time": "2023-08-09T13:43:04.102Z"
   },
   {
    "duration": 1321,
    "start_time": "2023-08-09T13:43:04.997Z"
   },
   {
    "duration": 4,
    "start_time": "2023-08-09T13:43:06.320Z"
   },
   {
    "duration": 5,
    "start_time": "2023-08-09T13:46:30.139Z"
   },
   {
    "duration": 433,
    "start_time": "2023-08-09T13:47:22.875Z"
   },
   {
    "duration": 907,
    "start_time": "2023-08-09T13:47:23.311Z"
   },
   {
    "duration": 5,
    "start_time": "2023-08-09T13:47:24.220Z"
   },
   {
    "duration": 84,
    "start_time": "2023-08-09T13:47:24.227Z"
   },
   {
    "duration": 7,
    "start_time": "2023-08-09T13:47:46.981Z"
   },
   {
    "duration": 1397,
    "start_time": "2023-08-09T13:47:47.551Z"
   },
   {
    "duration": 1595,
    "start_time": "2023-08-09T13:49:03.062Z"
   },
   {
    "duration": 6,
    "start_time": "2023-08-09T13:49:04.660Z"
   },
   {
    "duration": 1081,
    "start_time": "2023-08-09T13:49:04.955Z"
   },
   {
    "duration": 834,
    "start_time": "2023-08-09T13:50:25.779Z"
   },
   {
    "duration": 4,
    "start_time": "2023-08-09T13:50:26.615Z"
   },
   {
    "duration": 1109,
    "start_time": "2023-08-09T13:50:26.620Z"
   },
   {
    "duration": 1379,
    "start_time": "2023-08-09T13:50:57.639Z"
   },
   {
    "duration": 437,
    "start_time": "2023-08-09T13:51:15.170Z"
   },
   {
    "duration": 838,
    "start_time": "2023-08-09T13:51:15.609Z"
   },
   {
    "duration": 10,
    "start_time": "2023-08-09T13:51:16.449Z"
   },
   {
    "duration": 1232,
    "start_time": "2023-08-09T13:51:16.461Z"
   },
   {
    "duration": 1589,
    "start_time": "2023-08-09T13:51:17.694Z"
   },
   {
    "duration": 4,
    "start_time": "2023-08-09T13:52:08.718Z"
   },
   {
    "duration": 1104,
    "start_time": "2023-08-09T13:52:09.338Z"
   },
   {
    "duration": 409,
    "start_time": "2023-08-09T13:52:52.283Z"
   },
   {
    "duration": 813,
    "start_time": "2023-08-09T13:52:52.696Z"
   },
   {
    "duration": 5,
    "start_time": "2023-08-09T13:52:53.511Z"
   },
   {
    "duration": 1121,
    "start_time": "2023-08-09T13:52:53.518Z"
   },
   {
    "duration": 12,
    "start_time": "2023-08-09T13:53:16.698Z"
   },
   {
    "duration": 13,
    "start_time": "2023-08-09T13:53:54.425Z"
   },
   {
    "duration": 67,
    "start_time": "2023-08-09T13:54:50.164Z"
   },
   {
    "duration": 9,
    "start_time": "2023-08-09T13:55:01.091Z"
   },
   {
    "duration": 13,
    "start_time": "2023-08-09T13:56:51.830Z"
   },
   {
    "duration": 1268,
    "start_time": "2023-08-09T13:57:15.463Z"
   },
   {
    "duration": 1494,
    "start_time": "2023-08-09T13:59:14.889Z"
   },
   {
    "duration": 2642,
    "start_time": "2023-08-09T14:00:05.581Z"
   },
   {
    "duration": 1411,
    "start_time": "2023-08-09T14:00:11.639Z"
   },
   {
    "duration": 2670,
    "start_time": "2023-08-09T14:02:56.714Z"
   },
   {
    "duration": 1461,
    "start_time": "2023-08-09T14:03:24.422Z"
   },
   {
    "duration": 3,
    "start_time": "2023-08-09T14:07:56.296Z"
   },
   {
    "duration": 46,
    "start_time": "2023-08-09T14:08:26.651Z"
   },
   {
    "duration": 3,
    "start_time": "2023-08-09T14:08:48.805Z"
   },
   {
    "duration": 4,
    "start_time": "2023-08-09T14:08:49.224Z"
   },
   {
    "duration": 51,
    "start_time": "2023-08-09T20:06:25.250Z"
   },
   {
    "duration": 377,
    "start_time": "2023-08-09T20:06:34.653Z"
   },
   {
    "duration": 2530,
    "start_time": "2023-08-09T20:06:35.032Z"
   },
   {
    "duration": 4,
    "start_time": "2023-08-09T20:06:37.564Z"
   },
   {
    "duration": 1031,
    "start_time": "2023-08-09T20:06:37.570Z"
   },
   {
    "duration": 5,
    "start_time": "2023-08-09T20:06:38.603Z"
   },
   {
    "duration": 65,
    "start_time": "2023-08-09T20:07:20.917Z"
   },
   {
    "duration": 7,
    "start_time": "2023-08-09T20:07:49.108Z"
   },
   {
    "duration": 8,
    "start_time": "2023-08-09T20:08:07.509Z"
   },
   {
    "duration": 7,
    "start_time": "2023-08-09T20:08:33.181Z"
   },
   {
    "duration": 4,
    "start_time": "2023-08-09T20:09:09.449Z"
   },
   {
    "duration": 376,
    "start_time": "2023-08-09T20:09:27.131Z"
   },
   {
    "duration": 869,
    "start_time": "2023-08-09T20:09:27.509Z"
   },
   {
    "duration": 4,
    "start_time": "2023-08-09T20:09:28.380Z"
   },
   {
    "duration": 1050,
    "start_time": "2023-08-09T20:09:28.386Z"
   },
   {
    "duration": 4,
    "start_time": "2023-08-09T20:09:29.438Z"
   },
   {
    "duration": 2,
    "start_time": "2023-08-09T20:40:29.091Z"
   },
   {
    "duration": 99,
    "start_time": "2023-08-09T20:42:47.175Z"
   },
   {
    "duration": 7,
    "start_time": "2023-08-09T20:42:54.947Z"
   },
   {
    "duration": 7,
    "start_time": "2023-08-09T20:43:04.021Z"
   },
   {
    "duration": 87,
    "start_time": "2023-08-09T20:45:12.479Z"
   },
   {
    "duration": 1172,
    "start_time": "2023-08-09T20:45:17.879Z"
   },
   {
    "duration": 956,
    "start_time": "2023-08-09T20:45:19.053Z"
   },
   {
    "duration": 7,
    "start_time": "2023-08-09T20:45:20.011Z"
   },
   {
    "duration": 1124,
    "start_time": "2023-08-09T20:45:20.022Z"
   },
   {
    "duration": 4,
    "start_time": "2023-08-09T20:45:21.148Z"
   },
   {
    "duration": 12,
    "start_time": "2023-08-09T20:45:21.154Z"
   },
   {
    "duration": 25,
    "start_time": "2023-08-09T20:45:21.168Z"
   },
   {
    "duration": 1130,
    "start_time": "2023-08-09T20:56:34.861Z"
   },
   {
    "duration": 956,
    "start_time": "2023-08-09T20:56:35.993Z"
   },
   {
    "duration": 4,
    "start_time": "2023-08-09T20:56:36.951Z"
   },
   {
    "duration": 1120,
    "start_time": "2023-08-09T20:56:36.957Z"
   },
   {
    "duration": 28,
    "start_time": "2023-08-09T20:56:38.080Z"
   },
   {
    "duration": 4,
    "start_time": "2023-08-09T20:56:38.115Z"
   },
   {
    "duration": 14,
    "start_time": "2023-08-09T20:56:38.121Z"
   },
   {
    "duration": 3,
    "start_time": "2023-08-09T21:01:10.923Z"
   },
   {
    "duration": 1330,
    "start_time": "2023-08-09T21:06:46.955Z"
   },
   {
    "duration": 926,
    "start_time": "2023-08-09T21:06:48.288Z"
   },
   {
    "duration": 5,
    "start_time": "2023-08-09T21:06:49.216Z"
   },
   {
    "duration": 1146,
    "start_time": "2023-08-09T21:06:49.224Z"
   },
   {
    "duration": 3,
    "start_time": "2023-08-09T21:06:50.372Z"
   },
   {
    "duration": 24,
    "start_time": "2023-08-09T21:06:50.377Z"
   },
   {
    "duration": 19,
    "start_time": "2023-08-09T21:06:50.403Z"
   },
   {
    "duration": 12,
    "start_time": "2023-08-09T21:07:08.928Z"
   },
   {
    "duration": 9,
    "start_time": "2023-08-09T21:07:18.449Z"
   },
   {
    "duration": 13,
    "start_time": "2023-08-09T21:07:25.803Z"
   },
   {
    "duration": 1262,
    "start_time": "2023-08-09T21:07:37.482Z"
   },
   {
    "duration": 914,
    "start_time": "2023-08-09T21:07:38.746Z"
   },
   {
    "duration": 5,
    "start_time": "2023-08-09T21:07:39.662Z"
   },
   {
    "duration": 1313,
    "start_time": "2023-08-09T21:07:39.669Z"
   },
   {
    "duration": 14,
    "start_time": "2023-08-09T21:07:40.985Z"
   },
   {
    "duration": 49,
    "start_time": "2023-08-09T21:07:41.001Z"
   },
   {
    "duration": 29,
    "start_time": "2023-08-09T21:07:41.052Z"
   },
   {
    "duration": 4,
    "start_time": "2023-08-09T21:07:57.960Z"
   },
   {
    "duration": 1051,
    "start_time": "2023-08-10T19:48:23.154Z"
   },
   {
    "duration": 2265,
    "start_time": "2023-08-10T19:48:24.206Z"
   },
   {
    "duration": 4,
    "start_time": "2023-08-10T19:48:26.472Z"
   },
   {
    "duration": 928,
    "start_time": "2023-08-10T19:48:26.478Z"
   },
   {
    "duration": 3,
    "start_time": "2023-08-10T19:48:27.413Z"
   },
   {
    "duration": 27,
    "start_time": "2023-08-10T19:48:27.419Z"
   },
   {
    "duration": 13,
    "start_time": "2023-08-10T19:48:27.447Z"
   },
   {
    "duration": 6,
    "start_time": "2023-08-10T19:48:27.462Z"
   },
   {
    "duration": 1061,
    "start_time": "2023-08-10T19:57:33.633Z"
   },
   {
    "duration": 769,
    "start_time": "2023-08-10T19:57:34.696Z"
   },
   {
    "duration": 4,
    "start_time": "2023-08-10T19:57:35.466Z"
   },
   {
    "duration": 678,
    "start_time": "2023-08-10T19:57:35.471Z"
   },
   {
    "duration": 3,
    "start_time": "2023-08-10T19:57:36.151Z"
   },
   {
    "duration": 22,
    "start_time": "2023-08-10T19:57:36.155Z"
   },
   {
    "duration": 3,
    "start_time": "2023-08-10T19:57:36.179Z"
   },
   {
    "duration": 16,
    "start_time": "2023-08-10T19:57:36.183Z"
   },
   {
    "duration": 1016,
    "start_time": "2023-08-10T20:15:07.168Z"
   },
   {
    "duration": 722,
    "start_time": "2023-08-10T20:15:08.187Z"
   },
   {
    "duration": 4,
    "start_time": "2023-08-10T20:15:08.910Z"
   },
   {
    "duration": 606,
    "start_time": "2023-08-10T20:15:08.915Z"
   },
   {
    "duration": 3,
    "start_time": "2023-08-10T20:15:09.523Z"
   },
   {
    "duration": 13,
    "start_time": "2023-08-10T20:15:09.527Z"
   },
   {
    "duration": 5,
    "start_time": "2023-08-10T20:15:09.541Z"
   },
   {
    "duration": 6,
    "start_time": "2023-08-10T20:15:09.547Z"
   },
   {
    "duration": 8,
    "start_time": "2023-08-10T20:19:33.566Z"
   },
   {
    "duration": 82,
    "start_time": "2023-08-10T20:22:29.462Z"
   },
   {
    "duration": 3,
    "start_time": "2023-08-10T20:22:34.899Z"
   },
   {
    "duration": 3,
    "start_time": "2023-08-10T20:22:53.619Z"
   },
   {
    "duration": 93,
    "start_time": "2023-08-10T20:23:00.001Z"
   },
   {
    "duration": 7,
    "start_time": "2023-08-10T20:23:10.681Z"
   },
   {
    "duration": 6,
    "start_time": "2023-08-10T20:23:55.067Z"
   },
   {
    "duration": 9,
    "start_time": "2023-08-10T20:24:03.760Z"
   },
   {
    "duration": 9,
    "start_time": "2023-08-10T20:24:27.566Z"
   },
   {
    "duration": 13,
    "start_time": "2023-08-10T20:27:04.668Z"
   },
   {
    "duration": 3,
    "start_time": "2023-08-10T20:27:20.112Z"
   },
   {
    "duration": 10,
    "start_time": "2023-08-10T20:27:28.754Z"
   },
   {
    "duration": 11,
    "start_time": "2023-08-10T20:27:48.160Z"
   },
   {
    "duration": 94,
    "start_time": "2023-08-10T20:30:13.639Z"
   },
   {
    "duration": 14,
    "start_time": "2023-08-10T20:30:27.411Z"
   },
   {
    "duration": 24,
    "start_time": "2023-08-10T20:31:12.793Z"
   },
   {
    "duration": 1323,
    "start_time": "2023-08-10T20:35:13.166Z"
   },
   {
    "duration": 1279,
    "start_time": "2023-08-10T20:36:17.280Z"
   },
   {
    "duration": 3,
    "start_time": "2023-08-10T20:39:45.015Z"
   },
   {
    "duration": 7,
    "start_time": "2023-08-10T20:40:36.578Z"
   },
   {
    "duration": 1037,
    "start_time": "2023-08-10T20:41:37.217Z"
   },
   {
    "duration": 688,
    "start_time": "2023-08-10T20:41:38.256Z"
   },
   {
    "duration": 4,
    "start_time": "2023-08-10T20:41:38.945Z"
   },
   {
    "duration": 618,
    "start_time": "2023-08-10T20:41:38.950Z"
   },
   {
    "duration": 3,
    "start_time": "2023-08-10T20:41:39.571Z"
   },
   {
    "duration": 16,
    "start_time": "2023-08-10T20:41:39.576Z"
   },
   {
    "duration": 3,
    "start_time": "2023-08-10T20:41:39.600Z"
   },
   {
    "duration": 18,
    "start_time": "2023-08-10T20:41:39.605Z"
   },
   {
    "duration": 102,
    "start_time": "2023-08-10T20:41:39.624Z"
   },
   {
    "duration": 0,
    "start_time": "2023-08-10T20:41:39.727Z"
   },
   {
    "duration": 88,
    "start_time": "2023-08-10T20:47:53.360Z"
   },
   {
    "duration": 13,
    "start_time": "2023-08-10T20:47:59.084Z"
   },
   {
    "duration": 53,
    "start_time": "2023-08-10T20:48:37.788Z"
   },
   {
    "duration": 13,
    "start_time": "2023-08-10T20:48:46.697Z"
   },
   {
    "duration": 14,
    "start_time": "2023-08-10T20:49:01.429Z"
   },
   {
    "duration": 15,
    "start_time": "2023-08-10T20:49:42.107Z"
   },
   {
    "duration": 15,
    "start_time": "2023-08-10T20:50:13.877Z"
   },
   {
    "duration": 15,
    "start_time": "2023-08-10T20:50:26.756Z"
   },
   {
    "duration": 13,
    "start_time": "2023-08-10T20:50:41.852Z"
   },
   {
    "duration": 11,
    "start_time": "2023-08-10T20:50:46.430Z"
   },
   {
    "duration": 33,
    "start_time": "2023-08-10T20:54:26.587Z"
   },
   {
    "duration": 1019,
    "start_time": "2023-08-10T20:57:00.805Z"
   },
   {
    "duration": 752,
    "start_time": "2023-08-10T20:57:01.826Z"
   },
   {
    "duration": 3,
    "start_time": "2023-08-10T20:57:02.580Z"
   },
   {
    "duration": 674,
    "start_time": "2023-08-10T20:57:02.585Z"
   },
   {
    "duration": 3,
    "start_time": "2023-08-10T20:57:03.262Z"
   },
   {
    "duration": 13,
    "start_time": "2023-08-10T20:57:03.267Z"
   },
   {
    "duration": 4,
    "start_time": "2023-08-10T20:57:03.281Z"
   },
   {
    "duration": 6,
    "start_time": "2023-08-10T20:57:03.300Z"
   },
   {
    "duration": 26,
    "start_time": "2023-08-10T20:57:03.307Z"
   },
   {
    "duration": 32,
    "start_time": "2023-08-10T20:57:03.335Z"
   },
   {
    "duration": 999,
    "start_time": "2023-08-10T20:58:48.336Z"
   },
   {
    "duration": 719,
    "start_time": "2023-08-10T20:58:49.337Z"
   },
   {
    "duration": 3,
    "start_time": "2023-08-10T20:58:50.058Z"
   },
   {
    "duration": 601,
    "start_time": "2023-08-10T20:58:50.062Z"
   },
   {
    "duration": 3,
    "start_time": "2023-08-10T20:58:50.665Z"
   },
   {
    "duration": 16,
    "start_time": "2023-08-10T20:58:50.669Z"
   },
   {
    "duration": 3,
    "start_time": "2023-08-10T20:58:50.687Z"
   },
   {
    "duration": 26,
    "start_time": "2023-08-10T20:58:50.692Z"
   },
   {
    "duration": 203,
    "start_time": "2023-08-10T20:58:50.719Z"
   },
   {
    "duration": 14,
    "start_time": "2023-08-10T20:58:50.924Z"
   },
   {
    "duration": 29,
    "start_time": "2023-08-10T20:58:50.939Z"
   },
   {
    "duration": 1022,
    "start_time": "2023-08-10T21:24:19.360Z"
   },
   {
    "duration": 775,
    "start_time": "2023-08-10T21:24:20.385Z"
   },
   {
    "duration": 3,
    "start_time": "2023-08-10T21:24:21.162Z"
   },
   {
    "duration": 600,
    "start_time": "2023-08-10T21:24:21.166Z"
   },
   {
    "duration": 3,
    "start_time": "2023-08-10T21:24:21.768Z"
   },
   {
    "duration": 51,
    "start_time": "2023-08-10T21:24:21.772Z"
   },
   {
    "duration": 6,
    "start_time": "2023-08-10T21:24:21.825Z"
   },
   {
    "duration": 10,
    "start_time": "2023-08-10T21:24:21.833Z"
   },
   {
    "duration": 216,
    "start_time": "2023-08-10T21:24:21.845Z"
   },
   {
    "duration": 15,
    "start_time": "2023-08-10T21:24:22.062Z"
   },
   {
    "duration": 47,
    "start_time": "2023-08-10T21:24:22.078Z"
   },
   {
    "duration": 16,
    "start_time": "2023-08-10T21:34:09.597Z"
   },
   {
    "duration": 132,
    "start_time": "2023-08-10T21:34:32.726Z"
   },
   {
    "duration": 1698,
    "start_time": "2023-08-10T21:34:44.096Z"
   },
   {
    "duration": 879,
    "start_time": "2023-08-10T21:34:45.796Z"
   },
   {
    "duration": 4,
    "start_time": "2023-08-10T21:34:46.677Z"
   },
   {
    "duration": 635,
    "start_time": "2023-08-10T21:34:46.682Z"
   },
   {
    "duration": 3,
    "start_time": "2023-08-10T21:34:47.318Z"
   },
   {
    "duration": 23,
    "start_time": "2023-08-10T21:34:47.326Z"
   },
   {
    "duration": 5,
    "start_time": "2023-08-10T21:34:47.350Z"
   },
   {
    "duration": 5,
    "start_time": "2023-08-10T21:34:47.357Z"
   },
   {
    "duration": 226,
    "start_time": "2023-08-10T21:34:47.364Z"
   },
   {
    "duration": 31,
    "start_time": "2023-08-10T21:34:47.592Z"
   },
   {
    "duration": 23,
    "start_time": "2023-08-10T21:34:47.631Z"
   },
   {
    "duration": 5,
    "start_time": "2023-08-10T21:34:47.656Z"
   },
   {
    "duration": 1167,
    "start_time": "2023-08-10T21:34:47.662Z"
   },
   {
    "duration": 7,
    "start_time": "2023-08-10T21:35:06.835Z"
   },
   {
    "duration": 3677,
    "start_time": "2023-08-10T21:35:07.598Z"
   },
   {
    "duration": 5,
    "start_time": "2023-08-10T21:37:00.580Z"
   },
   {
    "duration": 3789,
    "start_time": "2023-08-10T21:37:01.065Z"
   },
   {
    "duration": 5,
    "start_time": "2023-08-10T21:39:17.479Z"
   },
   {
    "duration": 3737,
    "start_time": "2023-08-10T21:39:18.075Z"
   },
   {
    "duration": 9,
    "start_time": "2023-08-10T21:39:32.598Z"
   },
   {
    "duration": 3993,
    "start_time": "2023-08-10T21:39:32.858Z"
   },
   {
    "duration": 4,
    "start_time": "2023-08-10T21:44:15.651Z"
   },
   {
    "duration": 3578,
    "start_time": "2023-08-10T21:44:15.980Z"
   },
   {
    "duration": 10,
    "start_time": "2023-08-10T21:44:58.997Z"
   },
   {
    "duration": 3584,
    "start_time": "2023-08-10T21:44:59.372Z"
   },
   {
    "duration": 23,
    "start_time": "2023-08-10T21:45:32.102Z"
   },
   {
    "duration": 3444,
    "start_time": "2023-08-10T21:45:32.532Z"
   },
   {
    "duration": 5,
    "start_time": "2023-08-10T21:46:01.031Z"
   },
   {
    "duration": 3816,
    "start_time": "2023-08-10T21:46:01.647Z"
   },
   {
    "duration": 4,
    "start_time": "2023-08-10T21:50:51.991Z"
   },
   {
    "duration": 3753,
    "start_time": "2023-08-10T21:50:52.929Z"
   },
   {
    "duration": 8,
    "start_time": "2023-08-10T21:51:17.841Z"
   },
   {
    "duration": 3498,
    "start_time": "2023-08-10T21:51:18.247Z"
   },
   {
    "duration": 6,
    "start_time": "2023-08-10T21:53:06.254Z"
   },
   {
    "duration": 3523,
    "start_time": "2023-08-10T21:53:06.839Z"
   },
   {
    "duration": 6,
    "start_time": "2023-08-10T21:54:07.338Z"
   },
   {
    "duration": 3970,
    "start_time": "2023-08-10T21:54:07.775Z"
   },
   {
    "duration": 6,
    "start_time": "2023-08-10T21:54:25.323Z"
   },
   {
    "duration": 3815,
    "start_time": "2023-08-10T21:54:25.937Z"
   },
   {
    "duration": 6,
    "start_time": "2023-08-10T21:55:14.831Z"
   },
   {
    "duration": 4015,
    "start_time": "2023-08-10T21:55:15.355Z"
   },
   {
    "duration": 7,
    "start_time": "2023-08-10T22:10:49.279Z"
   },
   {
    "duration": 4414,
    "start_time": "2023-08-10T22:10:49.675Z"
   },
   {
    "duration": 7,
    "start_time": "2023-08-10T22:27:41.079Z"
   },
   {
    "duration": 4182,
    "start_time": "2023-08-10T22:27:41.441Z"
   },
   {
    "duration": 5,
    "start_time": "2023-08-10T22:29:08.947Z"
   },
   {
    "duration": 3609,
    "start_time": "2023-08-10T22:29:09.381Z"
   },
   {
    "duration": 11,
    "start_time": "2023-08-10T22:29:24.146Z"
   },
   {
    "duration": 3831,
    "start_time": "2023-08-10T22:29:24.418Z"
   },
   {
    "duration": 1685,
    "start_time": "2023-08-10T22:31:48.948Z"
   },
   {
    "duration": 822,
    "start_time": "2023-08-10T22:31:50.634Z"
   },
   {
    "duration": 3,
    "start_time": "2023-08-10T22:31:51.462Z"
   },
   {
    "duration": 826,
    "start_time": "2023-08-10T22:31:51.467Z"
   },
   {
    "duration": 9,
    "start_time": "2023-08-10T22:31:52.296Z"
   },
   {
    "duration": 72,
    "start_time": "2023-08-10T22:31:52.317Z"
   },
   {
    "duration": 30,
    "start_time": "2023-08-10T22:31:52.391Z"
   },
   {
    "duration": 52,
    "start_time": "2023-08-10T22:31:52.423Z"
   },
   {
    "duration": 312,
    "start_time": "2023-08-10T22:31:52.477Z"
   },
   {
    "duration": 22,
    "start_time": "2023-08-10T22:31:52.791Z"
   },
   {
    "duration": 63,
    "start_time": "2023-08-10T22:31:52.814Z"
   },
   {
    "duration": 8,
    "start_time": "2023-08-10T22:31:52.878Z"
   },
   {
    "duration": 4364,
    "start_time": "2023-08-10T22:31:52.888Z"
   },
   {
    "duration": 136,
    "start_time": "2023-08-10T22:37:24.758Z"
   },
   {
    "duration": 6,
    "start_time": "2023-08-10T22:38:46.415Z"
   },
   {
    "duration": 5,
    "start_time": "2023-08-10T22:38:54.471Z"
   },
   {
    "duration": 19,
    "start_time": "2023-08-10T22:39:13.126Z"
   },
   {
    "duration": 27,
    "start_time": "2023-08-10T22:41:00.350Z"
   },
   {
    "duration": 4,
    "start_time": "2023-08-10T22:41:20.190Z"
   },
   {
    "duration": 6,
    "start_time": "2023-08-10T22:41:25.763Z"
   },
   {
    "duration": 6,
    "start_time": "2023-08-10T22:42:23.442Z"
   },
   {
    "duration": 13,
    "start_time": "2023-08-10T22:53:12.546Z"
   },
   {
    "duration": 31,
    "start_time": "2023-08-10T22:53:49.742Z"
   },
   {
    "duration": 5,
    "start_time": "2023-08-10T22:53:59.292Z"
   },
   {
    "duration": 1319,
    "start_time": "2023-08-10T22:53:59.679Z"
   },
   {
    "duration": 1738,
    "start_time": "2023-08-10T23:00:29.899Z"
   },
   {
    "duration": 1139,
    "start_time": "2023-08-10T23:00:31.643Z"
   },
   {
    "duration": 6,
    "start_time": "2023-08-10T23:00:32.784Z"
   },
   {
    "duration": 946,
    "start_time": "2023-08-10T23:00:32.792Z"
   },
   {
    "duration": 8,
    "start_time": "2023-08-10T23:00:33.749Z"
   },
   {
    "duration": 19,
    "start_time": "2023-08-10T23:00:33.758Z"
   },
   {
    "duration": 3,
    "start_time": "2023-08-10T23:00:33.779Z"
   },
   {
    "duration": 6,
    "start_time": "2023-08-10T23:00:33.783Z"
   },
   {
    "duration": 308,
    "start_time": "2023-08-10T23:00:33.791Z"
   },
   {
    "duration": 22,
    "start_time": "2023-08-10T23:00:34.123Z"
   },
   {
    "duration": 49,
    "start_time": "2023-08-10T23:00:34.146Z"
   },
   {
    "duration": 45,
    "start_time": "2023-08-10T23:00:34.196Z"
   },
   {
    "duration": 3904,
    "start_time": "2023-08-10T23:00:34.256Z"
   },
   {
    "duration": 5,
    "start_time": "2023-08-10T23:00:38.176Z"
   },
   {
    "duration": 75,
    "start_time": "2023-08-10T23:00:38.182Z"
   },
   {
    "duration": 1494,
    "start_time": "2023-08-10T23:00:38.265Z"
   },
   {
    "duration": 18,
    "start_time": "2023-08-10T23:02:15.046Z"
   },
   {
    "duration": 1459,
    "start_time": "2023-08-10T23:02:15.606Z"
   },
   {
    "duration": 1857,
    "start_time": "2023-08-11T12:20:14.047Z"
   },
   {
    "duration": 2401,
    "start_time": "2023-08-11T12:20:15.909Z"
   },
   {
    "duration": 4,
    "start_time": "2023-08-11T12:20:18.311Z"
   },
   {
    "duration": 919,
    "start_time": "2023-08-11T12:20:18.317Z"
   },
   {
    "duration": 3,
    "start_time": "2023-08-11T12:20:19.239Z"
   },
   {
    "duration": 92,
    "start_time": "2023-08-11T12:20:19.245Z"
   },
   {
    "duration": 64,
    "start_time": "2023-08-11T12:20:19.339Z"
   },
   {
    "duration": 49,
    "start_time": "2023-08-11T12:20:19.406Z"
   },
   {
    "duration": 238,
    "start_time": "2023-08-11T12:20:19.456Z"
   },
   {
    "duration": 15,
    "start_time": "2023-08-11T12:20:19.696Z"
   },
   {
    "duration": 84,
    "start_time": "2023-08-11T12:20:19.712Z"
   },
   {
    "duration": 7,
    "start_time": "2023-08-11T12:20:19.801Z"
   },
   {
    "duration": 4360,
    "start_time": "2023-08-11T12:20:19.809Z"
   },
   {
    "duration": 5,
    "start_time": "2023-08-11T12:20:24.172Z"
   },
   {
    "duration": 33,
    "start_time": "2023-08-11T12:20:24.190Z"
   },
   {
    "duration": 1337,
    "start_time": "2023-08-11T12:20:24.225Z"
   },
   {
    "duration": 10,
    "start_time": "2023-08-11T12:20:43.655Z"
   },
   {
    "duration": 9,
    "start_time": "2023-08-11T12:21:04.825Z"
   },
   {
    "duration": 120,
    "start_time": "2023-08-11T12:36:41.700Z"
   },
   {
    "duration": 13,
    "start_time": "2023-08-11T12:36:57.588Z"
   },
   {
    "duration": 3,
    "start_time": "2023-08-11T13:02:10.854Z"
   },
   {
    "duration": 9,
    "start_time": "2023-08-11T13:13:17.670Z"
   },
   {
    "duration": 1485,
    "start_time": "2023-08-11T13:13:49.958Z"
   },
   {
    "duration": 826,
    "start_time": "2023-08-11T13:13:51.445Z"
   },
   {
    "duration": 3,
    "start_time": "2023-08-11T13:13:52.273Z"
   },
   {
    "duration": 758,
    "start_time": "2023-08-11T13:13:52.277Z"
   },
   {
    "duration": 3,
    "start_time": "2023-08-11T13:13:53.038Z"
   },
   {
    "duration": 84,
    "start_time": "2023-08-11T13:13:53.042Z"
   },
   {
    "duration": 109,
    "start_time": "2023-08-11T13:13:53.128Z"
   },
   {
    "duration": 36,
    "start_time": "2023-08-11T13:13:53.239Z"
   },
   {
    "duration": 251,
    "start_time": "2023-08-11T13:13:53.277Z"
   },
   {
    "duration": 13,
    "start_time": "2023-08-11T13:13:53.529Z"
   },
   {
    "duration": 45,
    "start_time": "2023-08-11T13:13:53.544Z"
   },
   {
    "duration": 11,
    "start_time": "2023-08-11T13:13:53.592Z"
   },
   {
    "duration": 3964,
    "start_time": "2023-08-11T13:13:53.605Z"
   },
   {
    "duration": 5,
    "start_time": "2023-08-11T13:13:57.571Z"
   },
   {
    "duration": 48,
    "start_time": "2023-08-11T13:13:57.589Z"
   },
   {
    "duration": 1522,
    "start_time": "2023-08-11T13:13:57.639Z"
   },
   {
    "duration": 128,
    "start_time": "2023-08-11T13:13:59.163Z"
   },
   {
    "duration": 16,
    "start_time": "2023-08-11T13:14:51.380Z"
   },
   {
    "duration": 1440,
    "start_time": "2023-08-11T13:15:51.551Z"
   },
   {
    "duration": 836,
    "start_time": "2023-08-11T13:15:52.998Z"
   },
   {
    "duration": 2,
    "start_time": "2023-08-11T13:15:53.836Z"
   },
   {
    "duration": 773,
    "start_time": "2023-08-11T13:15:53.840Z"
   },
   {
    "duration": 2,
    "start_time": "2023-08-11T13:15:54.616Z"
   },
   {
    "duration": 49,
    "start_time": "2023-08-11T13:15:54.619Z"
   },
   {
    "duration": 34,
    "start_time": "2023-08-11T13:15:54.670Z"
   },
   {
    "duration": 4,
    "start_time": "2023-08-11T13:15:54.707Z"
   },
   {
    "duration": 288,
    "start_time": "2023-08-11T13:15:54.713Z"
   },
   {
    "duration": 17,
    "start_time": "2023-08-11T13:15:55.006Z"
   },
   {
    "duration": 26,
    "start_time": "2023-08-11T13:15:55.026Z"
   },
   {
    "duration": 6,
    "start_time": "2023-08-11T13:15:55.055Z"
   },
   {
    "duration": 3361,
    "start_time": "2023-08-11T13:15:55.091Z"
   },
   {
    "duration": 5,
    "start_time": "2023-08-11T13:15:58.455Z"
   },
   {
    "duration": 8,
    "start_time": "2023-08-11T13:15:58.462Z"
   },
   {
    "duration": 1383,
    "start_time": "2023-08-11T13:15:58.472Z"
   },
   {
    "duration": 113,
    "start_time": "2023-08-11T13:15:59.857Z"
   },
   {
    "duration": 4,
    "start_time": "2023-08-11T13:16:13.645Z"
   },
   {
    "duration": 2,
    "start_time": "2023-08-11T13:19:43.873Z"
   },
   {
    "duration": 3,
    "start_time": "2023-08-11T13:24:26.146Z"
   },
   {
    "duration": 8,
    "start_time": "2023-08-11T13:25:30.285Z"
   },
   {
    "duration": 3,
    "start_time": "2023-08-11T13:29:16.569Z"
   },
   {
    "duration": 19,
    "start_time": "2023-08-11T13:30:59.906Z"
   },
   {
    "duration": 16,
    "start_time": "2023-08-11T13:31:11.214Z"
   },
   {
    "duration": 1428,
    "start_time": "2023-08-11T13:31:29.544Z"
   },
   {
    "duration": 827,
    "start_time": "2023-08-11T13:31:30.974Z"
   },
   {
    "duration": 3,
    "start_time": "2023-08-11T13:31:31.805Z"
   },
   {
    "duration": 721,
    "start_time": "2023-08-11T13:31:31.810Z"
   },
   {
    "duration": 3,
    "start_time": "2023-08-11T13:31:32.533Z"
   },
   {
    "duration": 13,
    "start_time": "2023-08-11T13:31:32.538Z"
   },
   {
    "duration": 4,
    "start_time": "2023-08-11T13:31:32.553Z"
   },
   {
    "duration": 42,
    "start_time": "2023-08-11T13:31:32.559Z"
   },
   {
    "duration": 219,
    "start_time": "2023-08-11T13:31:32.605Z"
   },
   {
    "duration": 11,
    "start_time": "2023-08-11T13:31:32.826Z"
   },
   {
    "duration": 27,
    "start_time": "2023-08-11T13:31:32.839Z"
   },
   {
    "duration": 27,
    "start_time": "2023-08-11T13:31:32.868Z"
   },
   {
    "duration": 3546,
    "start_time": "2023-08-11T13:31:32.896Z"
   },
   {
    "duration": 5,
    "start_time": "2023-08-11T13:31:36.445Z"
   },
   {
    "duration": 9,
    "start_time": "2023-08-11T13:31:36.452Z"
   },
   {
    "duration": 1280,
    "start_time": "2023-08-11T13:31:36.463Z"
   },
   {
    "duration": 3,
    "start_time": "2023-08-11T13:31:37.745Z"
   },
   {
    "duration": 11,
    "start_time": "2023-08-11T13:31:37.750Z"
   },
   {
    "duration": 11,
    "start_time": "2023-08-11T13:31:37.763Z"
   },
   {
    "duration": 26,
    "start_time": "2023-08-11T13:31:37.775Z"
   },
   {
    "duration": 15,
    "start_time": "2023-08-11T13:31:37.803Z"
   },
   {
    "duration": 147,
    "start_time": "2023-08-11T13:31:37.820Z"
   },
   {
    "duration": 10,
    "start_time": "2023-08-11T13:33:23.447Z"
   },
   {
    "duration": 13,
    "start_time": "2023-08-11T13:37:15.722Z"
   },
   {
    "duration": 13,
    "start_time": "2023-08-11T13:37:30.026Z"
   },
   {
    "duration": 12,
    "start_time": "2023-08-11T13:37:48.753Z"
   },
   {
    "duration": 1588,
    "start_time": "2023-08-11T15:21:22.860Z"
   },
   {
    "duration": 2638,
    "start_time": "2023-08-11T15:21:24.450Z"
   },
   {
    "duration": 3,
    "start_time": "2023-08-11T15:21:27.091Z"
   },
   {
    "duration": 727,
    "start_time": "2023-08-11T15:21:27.095Z"
   },
   {
    "duration": 3,
    "start_time": "2023-08-11T15:21:27.825Z"
   },
   {
    "duration": 10,
    "start_time": "2023-08-11T15:21:27.837Z"
   },
   {
    "duration": 6,
    "start_time": "2023-08-11T15:21:27.849Z"
   },
   {
    "duration": 12,
    "start_time": "2023-08-11T15:21:27.857Z"
   },
   {
    "duration": 255,
    "start_time": "2023-08-11T15:21:27.871Z"
   },
   {
    "duration": 27,
    "start_time": "2023-08-11T15:21:28.127Z"
   },
   {
    "duration": 41,
    "start_time": "2023-08-11T15:21:28.156Z"
   },
   {
    "duration": 5,
    "start_time": "2023-08-11T15:21:28.199Z"
   },
   {
    "duration": 3984,
    "start_time": "2023-08-11T15:21:28.206Z"
   },
   {
    "duration": 4,
    "start_time": "2023-08-11T15:21:32.193Z"
   },
   {
    "duration": 34,
    "start_time": "2023-08-11T15:21:32.200Z"
   },
   {
    "duration": 1503,
    "start_time": "2023-08-11T15:21:32.238Z"
   },
   {
    "duration": 4,
    "start_time": "2023-08-11T15:21:33.742Z"
   },
   {
    "duration": 40,
    "start_time": "2023-08-11T15:21:33.747Z"
   },
   {
    "duration": 20,
    "start_time": "2023-08-11T15:21:33.789Z"
   },
   {
    "duration": 19,
    "start_time": "2023-08-11T15:21:33.811Z"
   },
   {
    "duration": 27,
    "start_time": "2023-08-11T15:21:33.831Z"
   },
   {
    "duration": 12,
    "start_time": "2023-08-11T15:22:44.298Z"
   },
   {
    "duration": 1377,
    "start_time": "2023-08-11T15:23:05.115Z"
   },
   {
    "duration": 1668,
    "start_time": "2023-08-11T15:23:20.392Z"
   },
   {
    "duration": 24,
    "start_time": "2023-08-11T15:23:44.639Z"
   },
   {
    "duration": 30,
    "start_time": "2023-08-11T15:24:11.876Z"
   },
   {
    "duration": 15,
    "start_time": "2023-08-11T15:25:34.893Z"
   },
   {
    "duration": 18,
    "start_time": "2023-08-11T15:32:05.887Z"
   },
   {
    "duration": 13,
    "start_time": "2023-08-11T15:32:31.277Z"
   },
   {
    "duration": 13,
    "start_time": "2023-08-11T15:33:58.653Z"
   },
   {
    "duration": 12,
    "start_time": "2023-08-11T15:34:22.787Z"
   },
   {
    "duration": 1512,
    "start_time": "2023-08-11T15:34:40.553Z"
   },
   {
    "duration": 769,
    "start_time": "2023-08-11T15:34:42.067Z"
   },
   {
    "duration": 5,
    "start_time": "2023-08-11T15:34:42.848Z"
   },
   {
    "duration": 670,
    "start_time": "2023-08-11T15:34:42.855Z"
   },
   {
    "duration": 3,
    "start_time": "2023-08-11T15:34:43.526Z"
   },
   {
    "duration": 20,
    "start_time": "2023-08-11T15:34:43.540Z"
   },
   {
    "duration": 11,
    "start_time": "2023-08-11T15:34:43.561Z"
   },
   {
    "duration": 14,
    "start_time": "2023-08-11T15:34:43.573Z"
   },
   {
    "duration": 263,
    "start_time": "2023-08-11T15:34:43.589Z"
   },
   {
    "duration": 14,
    "start_time": "2023-08-11T15:34:43.857Z"
   },
   {
    "duration": 25,
    "start_time": "2023-08-11T15:34:43.873Z"
   },
   {
    "duration": 6,
    "start_time": "2023-08-11T15:34:43.900Z"
   },
   {
    "duration": 3499,
    "start_time": "2023-08-11T15:34:43.908Z"
   },
   {
    "duration": 4,
    "start_time": "2023-08-11T15:34:47.408Z"
   },
   {
    "duration": 7,
    "start_time": "2023-08-11T15:34:47.414Z"
   },
   {
    "duration": 1261,
    "start_time": "2023-08-11T15:34:47.422Z"
   },
   {
    "duration": 3,
    "start_time": "2023-08-11T15:34:48.685Z"
   },
   {
    "duration": 6,
    "start_time": "2023-08-11T15:34:48.689Z"
   },
   {
    "duration": 7,
    "start_time": "2023-08-11T15:34:48.696Z"
   },
   {
    "duration": 9,
    "start_time": "2023-08-11T15:34:48.704Z"
   },
   {
    "duration": 34,
    "start_time": "2023-08-11T15:34:48.715Z"
   },
   {
    "duration": 127,
    "start_time": "2023-08-11T15:34:48.750Z"
   },
   {
    "duration": 12,
    "start_time": "2023-08-11T15:35:22.786Z"
   },
   {
    "duration": 25,
    "start_time": "2023-08-11T15:36:10.908Z"
   },
   {
    "duration": 35,
    "start_time": "2023-08-11T15:36:28.930Z"
   },
   {
    "duration": 1624,
    "start_time": "2023-08-11T15:36:35.496Z"
   },
   {
    "duration": 766,
    "start_time": "2023-08-11T15:36:37.122Z"
   },
   {
    "duration": 2,
    "start_time": "2023-08-11T15:36:37.890Z"
   },
   {
    "duration": 681,
    "start_time": "2023-08-11T15:36:37.894Z"
   },
   {
    "duration": 2,
    "start_time": "2023-08-11T15:36:38.578Z"
   },
   {
    "duration": 9,
    "start_time": "2023-08-11T15:36:38.582Z"
   },
   {
    "duration": 6,
    "start_time": "2023-08-11T15:36:38.592Z"
   },
   {
    "duration": 6,
    "start_time": "2023-08-11T15:36:38.600Z"
   },
   {
    "duration": 253,
    "start_time": "2023-08-11T15:36:38.608Z"
   },
   {
    "duration": 13,
    "start_time": "2023-08-11T15:36:38.863Z"
   },
   {
    "duration": 52,
    "start_time": "2023-08-11T15:36:38.878Z"
   },
   {
    "duration": 21,
    "start_time": "2023-08-11T15:36:38.931Z"
   },
   {
    "duration": 3335,
    "start_time": "2023-08-11T15:36:38.954Z"
   },
   {
    "duration": 4,
    "start_time": "2023-08-11T15:36:42.291Z"
   },
   {
    "duration": 32,
    "start_time": "2023-08-11T15:36:42.297Z"
   },
   {
    "duration": 1356,
    "start_time": "2023-08-11T15:36:42.330Z"
   },
   {
    "duration": 3,
    "start_time": "2023-08-11T15:36:43.688Z"
   },
   {
    "duration": 61,
    "start_time": "2023-08-11T15:36:43.692Z"
   },
   {
    "duration": 23,
    "start_time": "2023-08-11T15:36:43.755Z"
   },
   {
    "duration": 36,
    "start_time": "2023-08-11T15:36:43.780Z"
   },
   {
    "duration": 54,
    "start_time": "2023-08-11T15:36:43.818Z"
   },
   {
    "duration": 36,
    "start_time": "2023-08-11T15:36:43.874Z"
   },
   {
    "duration": 131,
    "start_time": "2023-08-11T15:36:43.912Z"
   },
   {
    "duration": 25,
    "start_time": "2023-08-11T15:37:07.952Z"
   },
   {
    "duration": 6,
    "start_time": "2023-08-11T15:37:08.756Z"
   },
   {
    "duration": 13,
    "start_time": "2023-08-11T15:37:20.350Z"
   },
   {
    "duration": 7,
    "start_time": "2023-08-11T15:38:46.519Z"
   },
   {
    "duration": 1310,
    "start_time": "2023-08-11T15:38:52.681Z"
   },
   {
    "duration": 826,
    "start_time": "2023-08-11T15:38:53.993Z"
   },
   {
    "duration": 2,
    "start_time": "2023-08-11T15:38:54.821Z"
   },
   {
    "duration": 673,
    "start_time": "2023-08-11T15:38:54.825Z"
   },
   {
    "duration": 2,
    "start_time": "2023-08-11T15:38:55.501Z"
   },
   {
    "duration": 8,
    "start_time": "2023-08-11T15:38:55.504Z"
   },
   {
    "duration": 3,
    "start_time": "2023-08-11T15:38:55.513Z"
   },
   {
    "duration": 21,
    "start_time": "2023-08-11T15:38:55.518Z"
   },
   {
    "duration": 247,
    "start_time": "2023-08-11T15:38:55.540Z"
   },
   {
    "duration": 14,
    "start_time": "2023-08-11T15:38:55.788Z"
   },
   {
    "duration": 41,
    "start_time": "2023-08-11T15:38:55.803Z"
   },
   {
    "duration": 12,
    "start_time": "2023-08-11T15:38:55.845Z"
   },
   {
    "duration": 3143,
    "start_time": "2023-08-11T15:38:55.859Z"
   },
   {
    "duration": 4,
    "start_time": "2023-08-11T15:38:59.004Z"
   },
   {
    "duration": 10,
    "start_time": "2023-08-11T15:38:59.010Z"
   },
   {
    "duration": 1420,
    "start_time": "2023-08-11T15:38:59.021Z"
   },
   {
    "duration": 4,
    "start_time": "2023-08-11T15:39:00.443Z"
   },
   {
    "duration": 24,
    "start_time": "2023-08-11T15:39:00.448Z"
   },
   {
    "duration": 21,
    "start_time": "2023-08-11T15:39:00.473Z"
   },
   {
    "duration": 71,
    "start_time": "2023-08-11T15:39:00.495Z"
   },
   {
    "duration": 48,
    "start_time": "2023-08-11T15:39:00.567Z"
   },
   {
    "duration": 19,
    "start_time": "2023-08-11T15:39:00.617Z"
   },
   {
    "duration": 38,
    "start_time": "2023-08-11T15:39:00.639Z"
   },
   {
    "duration": 16,
    "start_time": "2023-08-11T15:39:00.678Z"
   },
   {
    "duration": 1326,
    "start_time": "2023-08-11T15:42:34.849Z"
   },
   {
    "duration": 708,
    "start_time": "2023-08-11T15:42:36.177Z"
   },
   {
    "duration": 3,
    "start_time": "2023-08-11T15:42:36.887Z"
   },
   {
    "duration": 617,
    "start_time": "2023-08-11T15:42:36.891Z"
   },
   {
    "duration": 3,
    "start_time": "2023-08-11T15:42:37.511Z"
   },
   {
    "duration": 10,
    "start_time": "2023-08-11T15:42:37.515Z"
   },
   {
    "duration": 3,
    "start_time": "2023-08-11T15:42:37.537Z"
   },
   {
    "duration": 6,
    "start_time": "2023-08-11T15:42:37.542Z"
   },
   {
    "duration": 231,
    "start_time": "2023-08-11T15:42:37.549Z"
   },
   {
    "duration": 13,
    "start_time": "2023-08-11T15:42:37.781Z"
   },
   {
    "duration": 25,
    "start_time": "2023-08-11T15:42:37.795Z"
   },
   {
    "duration": 18,
    "start_time": "2023-08-11T15:42:37.821Z"
   },
   {
    "duration": 3638,
    "start_time": "2023-08-11T15:42:37.841Z"
   },
   {
    "duration": 4,
    "start_time": "2023-08-11T15:42:41.482Z"
   },
   {
    "duration": 21,
    "start_time": "2023-08-11T15:42:41.488Z"
   },
   {
    "duration": 1397,
    "start_time": "2023-08-11T15:42:41.511Z"
   },
   {
    "duration": 5,
    "start_time": "2023-08-11T15:42:42.910Z"
   },
   {
    "duration": 48,
    "start_time": "2023-08-11T15:42:42.916Z"
   },
   {
    "duration": 23,
    "start_time": "2023-08-11T15:42:42.966Z"
   },
   {
    "duration": 12,
    "start_time": "2023-08-11T15:42:42.991Z"
   },
   {
    "duration": 30,
    "start_time": "2023-08-11T15:42:43.005Z"
   },
   {
    "duration": 16,
    "start_time": "2023-08-11T15:42:43.037Z"
   },
   {
    "duration": 10,
    "start_time": "2023-08-11T15:42:43.055Z"
   },
   {
    "duration": 10,
    "start_time": "2023-08-11T15:42:43.066Z"
   },
   {
    "duration": 6,
    "start_time": "2023-08-11T15:43:33.179Z"
   },
   {
    "duration": 5,
    "start_time": "2023-08-11T15:44:16.511Z"
   },
   {
    "duration": 7,
    "start_time": "2023-08-11T15:48:22.809Z"
   },
   {
    "duration": 1371,
    "start_time": "2023-08-11T15:56:26.217Z"
   },
   {
    "duration": 708,
    "start_time": "2023-08-11T15:56:27.590Z"
   },
   {
    "duration": 3,
    "start_time": "2023-08-11T15:56:28.299Z"
   },
   {
    "duration": 609,
    "start_time": "2023-08-11T15:56:28.305Z"
   },
   {
    "duration": 3,
    "start_time": "2023-08-11T15:56:28.916Z"
   },
   {
    "duration": 27,
    "start_time": "2023-08-11T15:56:28.920Z"
   },
   {
    "duration": 12,
    "start_time": "2023-08-11T15:56:28.948Z"
   },
   {
    "duration": 21,
    "start_time": "2023-08-11T15:56:28.961Z"
   },
   {
    "duration": 219,
    "start_time": "2023-08-11T15:56:28.983Z"
   },
   {
    "duration": 13,
    "start_time": "2023-08-11T15:56:29.204Z"
   },
   {
    "duration": 33,
    "start_time": "2023-08-11T15:56:29.219Z"
   },
   {
    "duration": 4,
    "start_time": "2023-08-11T15:56:29.254Z"
   },
   {
    "duration": 3336,
    "start_time": "2023-08-11T15:56:29.259Z"
   },
   {
    "duration": 5,
    "start_time": "2023-08-11T15:56:32.597Z"
   },
   {
    "duration": 22,
    "start_time": "2023-08-11T15:56:32.603Z"
   },
   {
    "duration": 1239,
    "start_time": "2023-08-11T15:56:32.626Z"
   },
   {
    "duration": 4,
    "start_time": "2023-08-11T15:56:33.866Z"
   },
   {
    "duration": 24,
    "start_time": "2023-08-11T15:56:33.871Z"
   },
   {
    "duration": 15,
    "start_time": "2023-08-11T15:56:33.897Z"
   },
   {
    "duration": 22,
    "start_time": "2023-08-11T15:56:33.913Z"
   },
   {
    "duration": 35,
    "start_time": "2023-08-11T15:56:33.937Z"
   },
   {
    "duration": 15,
    "start_time": "2023-08-11T15:56:33.974Z"
   },
   {
    "duration": 11,
    "start_time": "2023-08-11T15:56:33.990Z"
   },
   {
    "duration": 16,
    "start_time": "2023-08-11T15:56:34.002Z"
   },
   {
    "duration": 202,
    "start_time": "2023-08-11T15:56:34.019Z"
   },
   {
    "duration": 1400,
    "start_time": "2023-08-11T15:57:01.898Z"
   },
   {
    "duration": 701,
    "start_time": "2023-08-11T15:57:03.300Z"
   },
   {
    "duration": 3,
    "start_time": "2023-08-11T15:57:04.003Z"
   },
   {
    "duration": 668,
    "start_time": "2023-08-11T15:57:04.007Z"
   },
   {
    "duration": 6,
    "start_time": "2023-08-11T15:57:04.678Z"
   },
   {
    "duration": 13,
    "start_time": "2023-08-11T15:57:04.685Z"
   },
   {
    "duration": 9,
    "start_time": "2023-08-11T15:57:04.699Z"
   },
   {
    "duration": 18,
    "start_time": "2023-08-11T15:57:04.709Z"
   },
   {
    "duration": 245,
    "start_time": "2023-08-11T15:57:04.729Z"
   },
   {
    "duration": 14,
    "start_time": "2023-08-11T15:57:04.975Z"
   },
   {
    "duration": 24,
    "start_time": "2023-08-11T15:57:04.991Z"
   },
   {
    "duration": 5,
    "start_time": "2023-08-11T15:57:05.037Z"
   },
   {
    "duration": 3844,
    "start_time": "2023-08-11T15:57:05.043Z"
   },
   {
    "duration": 5,
    "start_time": "2023-08-11T15:57:08.891Z"
   },
   {
    "duration": 14,
    "start_time": "2023-08-11T15:57:08.897Z"
   },
   {
    "duration": 1353,
    "start_time": "2023-08-11T15:57:08.913Z"
   },
   {
    "duration": 4,
    "start_time": "2023-08-11T15:57:10.267Z"
   },
   {
    "duration": 11,
    "start_time": "2023-08-11T15:57:10.273Z"
   },
   {
    "duration": 5,
    "start_time": "2023-08-11T15:57:10.285Z"
   },
   {
    "duration": 10,
    "start_time": "2023-08-11T15:57:10.291Z"
   },
   {
    "duration": 24,
    "start_time": "2023-08-11T15:57:10.302Z"
   },
   {
    "duration": 15,
    "start_time": "2023-08-11T15:57:10.337Z"
   },
   {
    "duration": 12,
    "start_time": "2023-08-11T15:57:10.354Z"
   },
   {
    "duration": 6,
    "start_time": "2023-08-11T15:57:10.367Z"
   },
   {
    "duration": 1662,
    "start_time": "2023-08-11T15:57:10.374Z"
   },
   {
    "duration": 1507,
    "start_time": "2023-08-11T15:57:56.021Z"
   },
   {
    "duration": 720,
    "start_time": "2023-08-11T15:57:57.529Z"
   },
   {
    "duration": 3,
    "start_time": "2023-08-11T15:57:58.250Z"
   },
   {
    "duration": 617,
    "start_time": "2023-08-11T15:57:58.255Z"
   },
   {
    "duration": 3,
    "start_time": "2023-08-11T15:57:58.874Z"
   },
   {
    "duration": 11,
    "start_time": "2023-08-11T15:57:58.878Z"
   },
   {
    "duration": 13,
    "start_time": "2023-08-11T15:57:58.891Z"
   },
   {
    "duration": 11,
    "start_time": "2023-08-11T15:57:58.905Z"
   },
   {
    "duration": 226,
    "start_time": "2023-08-11T15:57:58.918Z"
   },
   {
    "duration": 16,
    "start_time": "2023-08-11T15:57:59.146Z"
   },
   {
    "duration": 28,
    "start_time": "2023-08-11T15:57:59.163Z"
   },
   {
    "duration": 4,
    "start_time": "2023-08-11T15:57:59.193Z"
   },
   {
    "duration": 3987,
    "start_time": "2023-08-11T15:57:59.199Z"
   },
   {
    "duration": 4,
    "start_time": "2023-08-11T15:58:03.188Z"
   },
   {
    "duration": 331,
    "start_time": "2023-08-11T15:58:03.194Z"
   },
   {
    "duration": 1216,
    "start_time": "2023-08-11T15:58:03.527Z"
   },
   {
    "duration": 3,
    "start_time": "2023-08-11T15:58:04.745Z"
   },
   {
    "duration": 198,
    "start_time": "2023-08-11T15:58:04.750Z"
   },
   {
    "duration": 42,
    "start_time": "2023-08-11T15:58:04.950Z"
   },
   {
    "duration": 58,
    "start_time": "2023-08-11T15:58:04.994Z"
   },
   {
    "duration": 59,
    "start_time": "2023-08-11T15:58:05.054Z"
   },
   {
    "duration": 38,
    "start_time": "2023-08-11T15:58:05.115Z"
   },
   {
    "duration": 48,
    "start_time": "2023-08-11T15:58:05.154Z"
   },
   {
    "duration": 36,
    "start_time": "2023-08-11T15:58:05.203Z"
   },
   {
    "duration": 1617,
    "start_time": "2023-08-11T15:58:05.241Z"
   },
   {
    "duration": 85,
    "start_time": "2023-08-12T05:26:55.129Z"
   },
   {
    "duration": 2397,
    "start_time": "2023-08-12T05:27:02.683Z"
   },
   {
    "duration": 4804,
    "start_time": "2023-08-12T05:27:05.087Z"
   },
   {
    "duration": 4,
    "start_time": "2023-08-12T05:27:09.893Z"
   },
   {
    "duration": 1152,
    "start_time": "2023-08-12T05:27:09.899Z"
   },
   {
    "duration": 10,
    "start_time": "2023-08-12T05:27:11.057Z"
   },
   {
    "duration": 32,
    "start_time": "2023-08-12T05:27:11.075Z"
   },
   {
    "duration": 83,
    "start_time": "2023-08-12T05:27:11.112Z"
   },
   {
    "duration": 7,
    "start_time": "2023-08-12T05:27:11.197Z"
   },
   {
    "duration": 377,
    "start_time": "2023-08-12T05:27:11.206Z"
   },
   {
    "duration": 25,
    "start_time": "2023-08-12T05:27:11.590Z"
   },
   {
    "duration": 49,
    "start_time": "2023-08-12T05:27:11.617Z"
   },
   {
    "duration": 25,
    "start_time": "2023-08-12T05:27:11.669Z"
   },
   {
    "duration": 4480,
    "start_time": "2023-08-12T05:27:11.696Z"
   },
   {
    "duration": 6,
    "start_time": "2023-08-12T05:27:16.178Z"
   },
   {
    "duration": 73,
    "start_time": "2023-08-12T05:27:16.186Z"
   },
   {
    "duration": 1558,
    "start_time": "2023-08-12T05:27:16.267Z"
   },
   {
    "duration": 5,
    "start_time": "2023-08-12T05:27:17.831Z"
   },
   {
    "duration": 42,
    "start_time": "2023-08-12T05:27:17.846Z"
   },
   {
    "duration": 47,
    "start_time": "2023-08-12T05:27:17.891Z"
   },
   {
    "duration": 56,
    "start_time": "2023-08-12T05:27:17.940Z"
   },
   {
    "duration": 183,
    "start_time": "2023-08-12T05:27:17.999Z"
   },
   {
    "duration": 52,
    "start_time": "2023-08-12T05:27:18.184Z"
   },
   {
    "duration": 61,
    "start_time": "2023-08-12T05:27:18.238Z"
   },
   {
    "duration": 24,
    "start_time": "2023-08-12T05:27:18.301Z"
   },
   {
    "duration": 269,
    "start_time": "2023-08-12T05:27:18.339Z"
   },
   {
    "duration": 6,
    "start_time": "2023-08-12T05:30:57.440Z"
   },
   {
    "duration": 13,
    "start_time": "2023-08-12T05:31:19.845Z"
   },
   {
    "duration": 10,
    "start_time": "2023-08-12T05:35:58.765Z"
   },
   {
    "duration": 4,
    "start_time": "2023-08-12T05:38:10.688Z"
   },
   {
    "duration": 18,
    "start_time": "2023-08-12T05:38:18.066Z"
   },
   {
    "duration": 9,
    "start_time": "2023-08-12T05:41:50.235Z"
   },
   {
    "duration": 2322,
    "start_time": "2023-08-12T05:44:52.578Z"
   },
   {
    "duration": 1107,
    "start_time": "2023-08-12T05:44:54.903Z"
   },
   {
    "duration": 6,
    "start_time": "2023-08-12T05:44:56.012Z"
   },
   {
    "duration": 1239,
    "start_time": "2023-08-12T05:44:56.021Z"
   },
   {
    "duration": 8,
    "start_time": "2023-08-12T05:44:57.265Z"
   },
   {
    "duration": 130,
    "start_time": "2023-08-12T05:44:57.279Z"
   },
   {
    "duration": 132,
    "start_time": "2023-08-12T05:44:57.426Z"
   },
   {
    "duration": 122,
    "start_time": "2023-08-12T05:44:57.564Z"
   },
   {
    "duration": 565,
    "start_time": "2023-08-12T05:44:57.691Z"
   },
   {
    "duration": 29,
    "start_time": "2023-08-12T05:44:58.263Z"
   },
   {
    "duration": 180,
    "start_time": "2023-08-12T05:44:58.297Z"
   },
   {
    "duration": 44,
    "start_time": "2023-08-12T05:44:58.480Z"
   },
   {
    "duration": 4553,
    "start_time": "2023-08-12T05:44:58.526Z"
   },
   {
    "duration": 6,
    "start_time": "2023-08-12T05:45:03.086Z"
   },
   {
    "duration": 121,
    "start_time": "2023-08-12T05:45:03.095Z"
   },
   {
    "duration": 1579,
    "start_time": "2023-08-12T05:45:03.220Z"
   },
   {
    "duration": 9,
    "start_time": "2023-08-12T05:45:04.802Z"
   },
   {
    "duration": 62,
    "start_time": "2023-08-12T05:45:04.819Z"
   },
   {
    "duration": 7,
    "start_time": "2023-08-12T05:45:04.883Z"
   },
   {
    "duration": 13,
    "start_time": "2023-08-12T05:45:04.893Z"
   },
   {
    "duration": 89,
    "start_time": "2023-08-12T05:45:04.908Z"
   },
   {
    "duration": 43,
    "start_time": "2023-08-12T05:45:05.000Z"
   },
   {
    "duration": 53,
    "start_time": "2023-08-12T05:45:05.046Z"
   },
   {
    "duration": 12,
    "start_time": "2023-08-12T05:45:05.101Z"
   },
   {
    "duration": 245,
    "start_time": "2023-08-12T05:45:05.120Z"
   },
   {
    "duration": 2307,
    "start_time": "2023-08-12T05:46:04.589Z"
   },
   {
    "duration": 1287,
    "start_time": "2023-08-12T05:46:06.904Z"
   },
   {
    "duration": 4,
    "start_time": "2023-08-12T05:46:08.196Z"
   },
   {
    "duration": 988,
    "start_time": "2023-08-12T05:46:08.205Z"
   },
   {
    "duration": 3,
    "start_time": "2023-08-12T05:46:09.196Z"
   },
   {
    "duration": 67,
    "start_time": "2023-08-12T05:46:09.212Z"
   },
   {
    "duration": 7,
    "start_time": "2023-08-12T05:46:09.282Z"
   },
   {
    "duration": 8,
    "start_time": "2023-08-12T05:46:09.290Z"
   },
   {
    "duration": 328,
    "start_time": "2023-08-12T05:46:09.300Z"
   },
   {
    "duration": 28,
    "start_time": "2023-08-12T05:46:09.630Z"
   },
   {
    "duration": 102,
    "start_time": "2023-08-12T05:46:09.660Z"
   },
   {
    "duration": 35,
    "start_time": "2023-08-12T05:46:09.768Z"
   },
   {
    "duration": 4631,
    "start_time": "2023-08-12T05:46:09.805Z"
   },
   {
    "duration": 19,
    "start_time": "2023-08-12T05:46:14.442Z"
   },
   {
    "duration": 66,
    "start_time": "2023-08-12T05:46:14.467Z"
   },
   {
    "duration": 1313,
    "start_time": "2023-08-12T05:46:14.538Z"
   },
   {
    "duration": 10,
    "start_time": "2023-08-12T05:46:15.859Z"
   },
   {
    "duration": 111,
    "start_time": "2023-08-12T05:46:15.873Z"
   },
   {
    "duration": 101,
    "start_time": "2023-08-12T05:46:15.991Z"
   },
   {
    "duration": 70,
    "start_time": "2023-08-12T05:46:16.095Z"
   },
   {
    "duration": 176,
    "start_time": "2023-08-12T05:46:16.167Z"
   },
   {
    "duration": 141,
    "start_time": "2023-08-12T05:46:16.345Z"
   },
   {
    "duration": 153,
    "start_time": "2023-08-12T05:46:16.493Z"
   },
   {
    "duration": 119,
    "start_time": "2023-08-12T05:46:16.650Z"
   },
   {
    "duration": 2013,
    "start_time": "2023-08-12T05:46:16.773Z"
   },
   {
    "duration": 315,
    "start_time": "2023-08-12T05:47:37.436Z"
   },
   {
    "duration": 1154,
    "start_time": "2023-08-12T05:48:43.710Z"
   },
   {
    "duration": 155,
    "start_time": "2023-08-12T06:05:11.446Z"
   },
   {
    "duration": 159,
    "start_time": "2023-08-12T06:05:29.080Z"
   },
   {
    "duration": 112,
    "start_time": "2023-08-12T06:06:17.126Z"
   },
   {
    "duration": 5,
    "start_time": "2023-08-12T06:12:22.984Z"
   },
   {
    "duration": 80,
    "start_time": "2023-08-12T06:13:46.240Z"
   },
   {
    "duration": 58,
    "start_time": "2023-08-12T06:13:59.274Z"
   },
   {
    "duration": 1905,
    "start_time": "2023-08-12T06:14:15.351Z"
   },
   {
    "duration": 878,
    "start_time": "2023-08-12T06:14:17.260Z"
   },
   {
    "duration": 7,
    "start_time": "2023-08-12T06:14:18.140Z"
   },
   {
    "duration": 857,
    "start_time": "2023-08-12T06:14:18.148Z"
   },
   {
    "duration": 5,
    "start_time": "2023-08-12T06:14:19.013Z"
   },
   {
    "duration": 23,
    "start_time": "2023-08-12T06:14:19.031Z"
   },
   {
    "duration": 15,
    "start_time": "2023-08-12T06:14:19.056Z"
   },
   {
    "duration": 16,
    "start_time": "2023-08-12T06:14:19.073Z"
   },
   {
    "duration": 336,
    "start_time": "2023-08-12T06:14:19.091Z"
   },
   {
    "duration": 23,
    "start_time": "2023-08-12T06:14:19.429Z"
   },
   {
    "duration": 61,
    "start_time": "2023-08-12T06:14:19.454Z"
   },
   {
    "duration": 29,
    "start_time": "2023-08-12T06:14:19.517Z"
   },
   {
    "duration": 4496,
    "start_time": "2023-08-12T06:14:19.552Z"
   },
   {
    "duration": 14,
    "start_time": "2023-08-12T06:14:24.058Z"
   },
   {
    "duration": 37,
    "start_time": "2023-08-12T06:14:24.074Z"
   },
   {
    "duration": 1616,
    "start_time": "2023-08-12T06:14:24.115Z"
   },
   {
    "duration": 17,
    "start_time": "2023-08-12T06:14:25.740Z"
   },
   {
    "duration": 80,
    "start_time": "2023-08-12T06:14:25.765Z"
   },
   {
    "duration": 139,
    "start_time": "2023-08-12T06:14:25.850Z"
   },
   {
    "duration": 4,
    "start_time": "2023-08-12T06:14:25.991Z"
   },
   {
    "duration": 119,
    "start_time": "2023-08-12T06:14:25.997Z"
   },
   {
    "duration": 109,
    "start_time": "2023-08-12T06:14:26.118Z"
   },
   {
    "duration": 138,
    "start_time": "2023-08-12T06:14:26.231Z"
   },
   {
    "duration": 136,
    "start_time": "2023-08-12T06:14:26.371Z"
   },
   {
    "duration": 68,
    "start_time": "2023-08-12T06:14:26.510Z"
   },
   {
    "duration": 125,
    "start_time": "2023-08-12T06:14:26.580Z"
   },
   {
    "duration": 54,
    "start_time": "2023-08-12T06:15:06.204Z"
   },
   {
    "duration": 16,
    "start_time": "2023-08-12T06:15:57.049Z"
   },
   {
    "duration": 28,
    "start_time": "2023-08-12T06:16:22.678Z"
   },
   {
    "duration": 8,
    "start_time": "2023-08-12T06:16:39.948Z"
   },
   {
    "duration": 8,
    "start_time": "2023-08-12T06:16:50.596Z"
   },
   {
    "duration": 171,
    "start_time": "2023-08-12T06:23:55.678Z"
   },
   {
    "duration": 14,
    "start_time": "2023-08-12T06:24:24.735Z"
   },
   {
    "duration": 14,
    "start_time": "2023-08-12T06:24:26.781Z"
   },
   {
    "duration": 8,
    "start_time": "2023-08-12T06:24:31.274Z"
   },
   {
    "duration": 1777,
    "start_time": "2023-08-12T06:24:42.066Z"
   },
   {
    "duration": 976,
    "start_time": "2023-08-12T06:24:43.845Z"
   },
   {
    "duration": 11,
    "start_time": "2023-08-12T06:24:44.827Z"
   },
   {
    "duration": 1087,
    "start_time": "2023-08-12T06:24:44.844Z"
   },
   {
    "duration": 5,
    "start_time": "2023-08-12T06:24:45.934Z"
   },
   {
    "duration": 60,
    "start_time": "2023-08-12T06:24:45.941Z"
   },
   {
    "duration": 68,
    "start_time": "2023-08-12T06:24:46.003Z"
   },
   {
    "duration": 14,
    "start_time": "2023-08-12T06:24:46.077Z"
   },
   {
    "duration": 404,
    "start_time": "2023-08-12T06:24:46.094Z"
   },
   {
    "duration": 35,
    "start_time": "2023-08-12T06:24:46.505Z"
   },
   {
    "duration": 85,
    "start_time": "2023-08-12T06:24:46.557Z"
   },
   {
    "duration": 55,
    "start_time": "2023-08-12T06:24:46.649Z"
   },
   {
    "duration": 4644,
    "start_time": "2023-08-12T06:24:46.706Z"
   },
   {
    "duration": 11,
    "start_time": "2023-08-12T06:24:51.360Z"
   },
   {
    "duration": 81,
    "start_time": "2023-08-12T06:24:51.380Z"
   },
   {
    "duration": 1518,
    "start_time": "2023-08-12T06:24:51.464Z"
   },
   {
    "duration": 5,
    "start_time": "2023-08-12T06:24:52.985Z"
   },
   {
    "duration": 94,
    "start_time": "2023-08-12T06:24:52.993Z"
   },
   {
    "duration": 13,
    "start_time": "2023-08-12T06:24:53.089Z"
   },
   {
    "duration": 78,
    "start_time": "2023-08-12T06:24:53.104Z"
   },
   {
    "duration": 52,
    "start_time": "2023-08-12T06:24:53.185Z"
   },
   {
    "duration": 45,
    "start_time": "2023-08-12T06:24:53.240Z"
   },
   {
    "duration": 76,
    "start_time": "2023-08-12T06:24:53.288Z"
   },
   {
    "duration": 34,
    "start_time": "2023-08-12T06:24:53.367Z"
   },
   {
    "duration": 81,
    "start_time": "2023-08-12T06:24:53.403Z"
   },
   {
    "duration": 210,
    "start_time": "2023-08-12T06:28:31.973Z"
   },
   {
    "duration": 1560,
    "start_time": "2023-08-12T06:28:48.611Z"
   },
   {
    "duration": 111,
    "start_time": "2023-08-12T06:29:37.806Z"
   },
   {
    "duration": 38,
    "start_time": "2023-08-12T06:33:41.260Z"
   },
   {
    "duration": 9,
    "start_time": "2023-08-12T06:37:45.627Z"
   },
   {
    "duration": 16,
    "start_time": "2023-08-12T06:41:03.011Z"
   },
   {
    "duration": 90,
    "start_time": "2023-08-12T06:41:05.201Z"
   },
   {
    "duration": 27,
    "start_time": "2023-08-12T06:44:04.502Z"
   },
   {
    "duration": 4,
    "start_time": "2023-08-12T07:03:22.336Z"
   },
   {
    "duration": 263,
    "start_time": "2023-08-12T07:04:24.125Z"
   },
   {
    "duration": 20,
    "start_time": "2023-08-12T07:04:27.320Z"
   },
   {
    "duration": 9,
    "start_time": "2023-08-12T07:04:28.733Z"
   },
   {
    "duration": 51,
    "start_time": "2023-08-12T07:04:30.446Z"
   },
   {
    "duration": 1710,
    "start_time": "2023-08-12T07:04:51.266Z"
   },
   {
    "duration": 1575,
    "start_time": "2023-08-12T07:05:13.071Z"
   },
   {
    "duration": 878,
    "start_time": "2023-08-12T07:05:14.649Z"
   },
   {
    "duration": 4,
    "start_time": "2023-08-12T07:05:15.528Z"
   },
   {
    "duration": 1027,
    "start_time": "2023-08-12T07:05:15.535Z"
   },
   {
    "duration": 4,
    "start_time": "2023-08-12T07:05:16.566Z"
   },
   {
    "duration": 37,
    "start_time": "2023-08-12T07:05:16.572Z"
   },
   {
    "duration": 47,
    "start_time": "2023-08-12T07:05:16.616Z"
   },
   {
    "duration": 21,
    "start_time": "2023-08-12T07:05:16.665Z"
   },
   {
    "duration": 266,
    "start_time": "2023-08-12T07:05:16.688Z"
   },
   {
    "duration": 17,
    "start_time": "2023-08-12T07:05:16.957Z"
   },
   {
    "duration": 62,
    "start_time": "2023-08-12T07:05:16.976Z"
   },
   {
    "duration": 8,
    "start_time": "2023-08-12T07:05:17.044Z"
   },
   {
    "duration": 4468,
    "start_time": "2023-08-12T07:05:17.054Z"
   },
   {
    "duration": 13,
    "start_time": "2023-08-12T07:05:21.525Z"
   },
   {
    "duration": 11,
    "start_time": "2023-08-12T07:05:21.548Z"
   },
   {
    "duration": 1324,
    "start_time": "2023-08-12T07:05:21.561Z"
   },
   {
    "duration": 5,
    "start_time": "2023-08-12T07:05:22.888Z"
   },
   {
    "duration": 53,
    "start_time": "2023-08-12T07:05:22.895Z"
   },
   {
    "duration": 5,
    "start_time": "2023-08-12T07:05:22.951Z"
   },
   {
    "duration": 12,
    "start_time": "2023-08-12T07:05:22.958Z"
   },
   {
    "duration": 35,
    "start_time": "2023-08-12T07:05:22.973Z"
   },
   {
    "duration": 24,
    "start_time": "2023-08-12T07:05:23.011Z"
   },
   {
    "duration": 32,
    "start_time": "2023-08-12T07:05:23.043Z"
   },
   {
    "duration": 4,
    "start_time": "2023-08-12T07:05:23.077Z"
   },
   {
    "duration": 1936,
    "start_time": "2023-08-12T07:05:23.083Z"
   },
   {
    "duration": 0,
    "start_time": "2023-08-12T07:05:25.024Z"
   },
   {
    "duration": 0,
    "start_time": "2023-08-12T07:05:25.030Z"
   },
   {
    "duration": 0,
    "start_time": "2023-08-12T07:05:25.031Z"
   },
   {
    "duration": 66,
    "start_time": "2023-08-12T07:08:53.759Z"
   },
   {
    "duration": 1720,
    "start_time": "2023-08-12T07:09:32.965Z"
   },
   {
    "duration": 899,
    "start_time": "2023-08-12T07:09:34.687Z"
   },
   {
    "duration": 3,
    "start_time": "2023-08-12T07:09:35.588Z"
   },
   {
    "duration": 929,
    "start_time": "2023-08-12T07:09:35.593Z"
   },
   {
    "duration": 4,
    "start_time": "2023-08-12T07:09:36.528Z"
   },
   {
    "duration": 22,
    "start_time": "2023-08-12T07:09:36.534Z"
   },
   {
    "duration": 31,
    "start_time": "2023-08-12T07:09:36.562Z"
   },
   {
    "duration": 54,
    "start_time": "2023-08-12T07:09:36.595Z"
   },
   {
    "duration": 298,
    "start_time": "2023-08-12T07:09:36.651Z"
   },
   {
    "duration": 23,
    "start_time": "2023-08-12T07:09:36.951Z"
   },
   {
    "duration": 52,
    "start_time": "2023-08-12T07:09:36.976Z"
   },
   {
    "duration": 10,
    "start_time": "2023-08-12T07:09:37.031Z"
   },
   {
    "duration": 4284,
    "start_time": "2023-08-12T07:09:37.046Z"
   },
   {
    "duration": 5,
    "start_time": "2023-08-12T07:09:41.333Z"
   },
   {
    "duration": 63,
    "start_time": "2023-08-12T07:09:41.340Z"
   },
   {
    "duration": 1315,
    "start_time": "2023-08-12T07:09:41.404Z"
   },
   {
    "duration": 3,
    "start_time": "2023-08-12T07:09:42.721Z"
   },
   {
    "duration": 45,
    "start_time": "2023-08-12T07:09:42.732Z"
   },
   {
    "duration": 7,
    "start_time": "2023-08-12T07:09:42.786Z"
   },
   {
    "duration": 75,
    "start_time": "2023-08-12T07:09:42.795Z"
   },
   {
    "duration": 47,
    "start_time": "2023-08-12T07:09:42.872Z"
   },
   {
    "duration": 30,
    "start_time": "2023-08-12T07:09:42.928Z"
   },
   {
    "duration": 23,
    "start_time": "2023-08-12T07:09:42.963Z"
   },
   {
    "duration": 170,
    "start_time": "2023-08-12T07:09:42.988Z"
   },
   {
    "duration": 0,
    "start_time": "2023-08-12T07:09:43.160Z"
   },
   {
    "duration": 0,
    "start_time": "2023-08-12T07:09:43.161Z"
   },
   {
    "duration": 0,
    "start_time": "2023-08-12T07:09:43.162Z"
   },
   {
    "duration": 57,
    "start_time": "2023-08-12T07:10:18.799Z"
   },
   {
    "duration": 1755,
    "start_time": "2023-08-12T07:10:33.639Z"
   },
   {
    "duration": 952,
    "start_time": "2023-08-12T07:10:35.396Z"
   },
   {
    "duration": 5,
    "start_time": "2023-08-12T07:10:36.350Z"
   },
   {
    "duration": 861,
    "start_time": "2023-08-12T07:10:36.356Z"
   },
   {
    "duration": 4,
    "start_time": "2023-08-12T07:10:37.227Z"
   },
   {
    "duration": 133,
    "start_time": "2023-08-12T07:10:37.238Z"
   },
   {
    "duration": 43,
    "start_time": "2023-08-12T07:10:37.373Z"
   },
   {
    "duration": 75,
    "start_time": "2023-08-12T07:10:37.418Z"
   },
   {
    "duration": 331,
    "start_time": "2023-08-12T07:10:37.495Z"
   },
   {
    "duration": 20,
    "start_time": "2023-08-12T07:10:37.828Z"
   },
   {
    "duration": 148,
    "start_time": "2023-08-12T07:10:37.849Z"
   },
   {
    "duration": 8,
    "start_time": "2023-08-12T07:10:37.999Z"
   },
   {
    "duration": 3797,
    "start_time": "2023-08-12T07:10:38.009Z"
   },
   {
    "duration": 7,
    "start_time": "2023-08-12T07:10:41.809Z"
   },
   {
    "duration": 71,
    "start_time": "2023-08-12T07:10:41.818Z"
   },
   {
    "duration": 1415,
    "start_time": "2023-08-12T07:10:41.891Z"
   },
   {
    "duration": 12,
    "start_time": "2023-08-12T07:10:43.309Z"
   },
   {
    "duration": 45,
    "start_time": "2023-08-12T07:10:43.329Z"
   },
   {
    "duration": 87,
    "start_time": "2023-08-12T07:10:43.376Z"
   },
   {
    "duration": 28,
    "start_time": "2023-08-12T07:10:43.465Z"
   },
   {
    "duration": 123,
    "start_time": "2023-08-12T07:10:43.496Z"
   },
   {
    "duration": 49,
    "start_time": "2023-08-12T07:10:43.621Z"
   },
   {
    "duration": 232,
    "start_time": "2023-08-12T07:10:43.672Z"
   },
   {
    "duration": 0,
    "start_time": "2023-08-12T07:10:43.908Z"
   },
   {
    "duration": 0,
    "start_time": "2023-08-12T07:10:43.910Z"
   },
   {
    "duration": 0,
    "start_time": "2023-08-12T07:10:43.911Z"
   },
   {
    "duration": 0,
    "start_time": "2023-08-12T07:10:43.912Z"
   },
   {
    "duration": 1631,
    "start_time": "2023-08-12T07:14:36.682Z"
   },
   {
    "duration": 862,
    "start_time": "2023-08-12T07:14:38.319Z"
   },
   {
    "duration": 4,
    "start_time": "2023-08-12T07:14:39.183Z"
   },
   {
    "duration": 898,
    "start_time": "2023-08-12T07:14:39.189Z"
   },
   {
    "duration": 4,
    "start_time": "2023-08-12T07:14:40.101Z"
   },
   {
    "duration": 60,
    "start_time": "2023-08-12T07:14:40.107Z"
   },
   {
    "duration": 10,
    "start_time": "2023-08-12T07:14:40.169Z"
   },
   {
    "duration": 15,
    "start_time": "2023-08-12T07:14:40.181Z"
   },
   {
    "duration": 259,
    "start_time": "2023-08-12T07:14:40.198Z"
   },
   {
    "duration": 19,
    "start_time": "2023-08-12T07:14:40.459Z"
   },
   {
    "duration": 54,
    "start_time": "2023-08-12T07:14:40.480Z"
   },
   {
    "duration": 8,
    "start_time": "2023-08-12T07:14:40.536Z"
   },
   {
    "duration": 3567,
    "start_time": "2023-08-12T07:14:40.545Z"
   },
   {
    "duration": 17,
    "start_time": "2023-08-12T07:14:44.118Z"
   },
   {
    "duration": 21,
    "start_time": "2023-08-12T07:14:44.140Z"
   },
   {
    "duration": 1156,
    "start_time": "2023-08-12T07:14:44.163Z"
   },
   {
    "duration": 10,
    "start_time": "2023-08-12T07:14:45.326Z"
   },
   {
    "duration": 25,
    "start_time": "2023-08-12T07:14:45.338Z"
   },
   {
    "duration": 14,
    "start_time": "2023-08-12T07:14:45.365Z"
   },
   {
    "duration": 73,
    "start_time": "2023-08-12T07:14:45.381Z"
   },
   {
    "duration": 48,
    "start_time": "2023-08-12T07:14:45.457Z"
   },
   {
    "duration": 66,
    "start_time": "2023-08-12T07:14:45.507Z"
   },
   {
    "duration": 32,
    "start_time": "2023-08-12T07:14:45.575Z"
   },
   {
    "duration": 62,
    "start_time": "2023-08-12T07:14:45.619Z"
   },
   {
    "duration": 85,
    "start_time": "2023-08-12T07:14:45.683Z"
   },
   {
    "duration": 246,
    "start_time": "2023-08-12T07:14:45.770Z"
   },
   {
    "duration": 17,
    "start_time": "2023-08-12T07:15:26.553Z"
   },
   {
    "duration": 1695,
    "start_time": "2023-08-12T07:15:40.089Z"
   },
   {
    "duration": 871,
    "start_time": "2023-08-12T07:15:41.786Z"
   },
   {
    "duration": 4,
    "start_time": "2023-08-12T07:15:42.660Z"
   },
   {
    "duration": 908,
    "start_time": "2023-08-12T07:15:42.666Z"
   },
   {
    "duration": 3,
    "start_time": "2023-08-12T07:15:43.576Z"
   },
   {
    "duration": 78,
    "start_time": "2023-08-12T07:15:43.581Z"
   },
   {
    "duration": 5,
    "start_time": "2023-08-12T07:15:43.661Z"
   },
   {
    "duration": 34,
    "start_time": "2023-08-12T07:15:43.669Z"
   },
   {
    "duration": 294,
    "start_time": "2023-08-12T07:15:43.706Z"
   },
   {
    "duration": 46,
    "start_time": "2023-08-12T07:15:44.002Z"
   },
   {
    "duration": 66,
    "start_time": "2023-08-12T07:15:44.050Z"
   },
   {
    "duration": 8,
    "start_time": "2023-08-12T07:15:44.119Z"
   },
   {
    "duration": 4114,
    "start_time": "2023-08-12T07:15:44.131Z"
   },
   {
    "duration": 7,
    "start_time": "2023-08-12T07:15:48.250Z"
   },
   {
    "duration": 28,
    "start_time": "2023-08-12T07:15:48.259Z"
   },
   {
    "duration": 1527,
    "start_time": "2023-08-12T07:15:48.289Z"
   },
   {
    "duration": 6,
    "start_time": "2023-08-12T07:15:49.824Z"
   },
   {
    "duration": 62,
    "start_time": "2023-08-12T07:15:49.833Z"
   },
   {
    "duration": 61,
    "start_time": "2023-08-12T07:15:49.897Z"
   },
   {
    "duration": 17,
    "start_time": "2023-08-12T07:15:49.959Z"
   },
   {
    "duration": 75,
    "start_time": "2023-08-12T07:15:49.978Z"
   },
   {
    "duration": 47,
    "start_time": "2023-08-12T07:15:50.055Z"
   },
   {
    "duration": 103,
    "start_time": "2023-08-12T07:15:50.105Z"
   },
   {
    "duration": 65,
    "start_time": "2023-08-12T07:15:50.213Z"
   },
   {
    "duration": 46,
    "start_time": "2023-08-12T07:15:50.280Z"
   },
   {
    "duration": 277,
    "start_time": "2023-08-12T07:15:50.328Z"
   },
   {
    "duration": 42,
    "start_time": "2023-08-12T07:16:38.439Z"
   },
   {
    "duration": 1681,
    "start_time": "2023-08-12T07:16:43.680Z"
   },
   {
    "duration": 791,
    "start_time": "2023-08-12T07:16:45.363Z"
   },
   {
    "duration": 3,
    "start_time": "2023-08-12T07:16:46.156Z"
   },
   {
    "duration": 862,
    "start_time": "2023-08-12T07:16:46.161Z"
   },
   {
    "duration": 8,
    "start_time": "2023-08-12T07:16:47.026Z"
   },
   {
    "duration": 25,
    "start_time": "2023-08-12T07:16:47.039Z"
   },
   {
    "duration": 11,
    "start_time": "2023-08-12T07:16:47.066Z"
   },
   {
    "duration": 18,
    "start_time": "2023-08-12T07:16:47.079Z"
   },
   {
    "duration": 293,
    "start_time": "2023-08-12T07:16:47.100Z"
   },
   {
    "duration": 39,
    "start_time": "2023-08-12T07:16:47.395Z"
   },
   {
    "duration": 41,
    "start_time": "2023-08-12T07:16:47.438Z"
   },
   {
    "duration": 6,
    "start_time": "2023-08-12T07:16:47.481Z"
   },
   {
    "duration": 4030,
    "start_time": "2023-08-12T07:16:47.488Z"
   },
   {
    "duration": 14,
    "start_time": "2023-08-12T07:16:51.522Z"
   },
   {
    "duration": 35,
    "start_time": "2023-08-12T07:16:51.542Z"
   },
   {
    "duration": 1195,
    "start_time": "2023-08-12T07:16:51.578Z"
   },
   {
    "duration": 4,
    "start_time": "2023-08-12T07:16:52.775Z"
   },
   {
    "duration": 13,
    "start_time": "2023-08-12T07:16:52.781Z"
   },
   {
    "duration": 16,
    "start_time": "2023-08-12T07:16:52.796Z"
   },
   {
    "duration": 38,
    "start_time": "2023-08-12T07:16:52.813Z"
   },
   {
    "duration": 46,
    "start_time": "2023-08-12T07:16:52.853Z"
   },
   {
    "duration": 10,
    "start_time": "2023-08-12T07:16:52.900Z"
   },
   {
    "duration": 44,
    "start_time": "2023-08-12T07:16:52.912Z"
   },
   {
    "duration": 15,
    "start_time": "2023-08-12T07:16:52.959Z"
   },
   {
    "duration": 30,
    "start_time": "2023-08-12T07:16:52.976Z"
   },
   {
    "duration": 208,
    "start_time": "2023-08-12T07:16:53.008Z"
   },
   {
    "duration": 1702,
    "start_time": "2023-08-12T07:18:31.436Z"
   },
   {
    "duration": 830,
    "start_time": "2023-08-12T07:18:33.142Z"
   },
   {
    "duration": 4,
    "start_time": "2023-08-12T07:18:33.974Z"
   },
   {
    "duration": 874,
    "start_time": "2023-08-12T07:18:33.981Z"
   },
   {
    "duration": 3,
    "start_time": "2023-08-12T07:18:34.858Z"
   },
   {
    "duration": 13,
    "start_time": "2023-08-12T07:18:34.863Z"
   },
   {
    "duration": 5,
    "start_time": "2023-08-12T07:18:34.879Z"
   },
   {
    "duration": 64,
    "start_time": "2023-08-12T07:18:34.886Z"
   },
   {
    "duration": 297,
    "start_time": "2023-08-12T07:18:34.952Z"
   },
   {
    "duration": 23,
    "start_time": "2023-08-12T07:18:35.252Z"
   },
   {
    "duration": 78,
    "start_time": "2023-08-12T07:18:35.278Z"
   },
   {
    "duration": 6,
    "start_time": "2023-08-12T07:18:35.358Z"
   },
   {
    "duration": 4162,
    "start_time": "2023-08-12T07:18:35.366Z"
   },
   {
    "duration": 11,
    "start_time": "2023-08-12T07:18:39.531Z"
   },
   {
    "duration": 32,
    "start_time": "2023-08-12T07:18:39.544Z"
   },
   {
    "duration": 1432,
    "start_time": "2023-08-12T07:18:39.582Z"
   },
   {
    "duration": 8,
    "start_time": "2023-08-12T07:18:41.016Z"
   },
   {
    "duration": 33,
    "start_time": "2023-08-12T07:18:41.026Z"
   },
   {
    "duration": 5,
    "start_time": "2023-08-12T07:18:41.061Z"
   },
   {
    "duration": 70,
    "start_time": "2023-08-12T07:18:41.068Z"
   },
   {
    "duration": 33,
    "start_time": "2023-08-12T07:18:41.142Z"
   },
   {
    "duration": 156,
    "start_time": "2023-08-12T07:18:41.177Z"
   },
   {
    "duration": 0,
    "start_time": "2023-08-12T07:18:41.344Z"
   },
   {
    "duration": 0,
    "start_time": "2023-08-12T07:18:41.348Z"
   },
   {
    "duration": 0,
    "start_time": "2023-08-12T07:18:41.349Z"
   },
   {
    "duration": 0,
    "start_time": "2023-08-12T07:18:41.350Z"
   },
   {
    "duration": 5,
    "start_time": "2023-08-12T07:20:10.619Z"
   },
   {
    "duration": 51,
    "start_time": "2023-08-12T07:20:11.284Z"
   },
   {
    "duration": 20,
    "start_time": "2023-08-12T07:20:12.235Z"
   },
   {
    "duration": 13,
    "start_time": "2023-08-12T07:20:21.874Z"
   },
   {
    "duration": 19,
    "start_time": "2023-08-12T07:20:23.035Z"
   },
   {
    "duration": 1782,
    "start_time": "2023-08-12T07:21:05.847Z"
   },
   {
    "duration": 843,
    "start_time": "2023-08-12T07:21:07.631Z"
   },
   {
    "duration": 3,
    "start_time": "2023-08-12T07:21:08.476Z"
   },
   {
    "duration": 838,
    "start_time": "2023-08-12T07:21:08.481Z"
   },
   {
    "duration": 9,
    "start_time": "2023-08-12T07:21:09.322Z"
   },
   {
    "duration": 56,
    "start_time": "2023-08-12T07:21:09.333Z"
   },
   {
    "duration": 70,
    "start_time": "2023-08-12T07:21:09.391Z"
   },
   {
    "duration": 49,
    "start_time": "2023-08-12T07:21:09.463Z"
   },
   {
    "duration": 361,
    "start_time": "2023-08-12T07:21:09.516Z"
   },
   {
    "duration": 18,
    "start_time": "2023-08-12T07:21:09.879Z"
   },
   {
    "duration": 79,
    "start_time": "2023-08-12T07:21:09.911Z"
   },
   {
    "duration": 7,
    "start_time": "2023-08-12T07:21:09.993Z"
   },
   {
    "duration": 4225,
    "start_time": "2023-08-12T07:21:10.003Z"
   },
   {
    "duration": 7,
    "start_time": "2023-08-12T07:21:14.238Z"
   },
   {
    "duration": 127,
    "start_time": "2023-08-12T07:21:14.246Z"
   },
   {
    "duration": 1415,
    "start_time": "2023-08-12T07:21:14.375Z"
   },
   {
    "duration": 3,
    "start_time": "2023-08-12T07:21:15.792Z"
   },
   {
    "duration": 57,
    "start_time": "2023-08-12T07:21:15.797Z"
   },
   {
    "duration": 7,
    "start_time": "2023-08-12T07:21:15.856Z"
   },
   {
    "duration": 81,
    "start_time": "2023-08-12T07:21:15.865Z"
   },
   {
    "duration": 46,
    "start_time": "2023-08-12T07:21:15.947Z"
   },
   {
    "duration": 170,
    "start_time": "2023-08-12T07:21:15.995Z"
   },
   {
    "duration": 0,
    "start_time": "2023-08-12T07:21:16.167Z"
   },
   {
    "duration": 0,
    "start_time": "2023-08-12T07:21:16.169Z"
   },
   {
    "duration": 0,
    "start_time": "2023-08-12T07:21:16.171Z"
   },
   {
    "duration": 0,
    "start_time": "2023-08-12T07:21:16.172Z"
   },
   {
    "duration": 123,
    "start_time": "2023-08-12T07:22:25.327Z"
   },
   {
    "duration": 15,
    "start_time": "2023-08-12T07:22:35.991Z"
   },
   {
    "duration": 117,
    "start_time": "2023-08-12T07:22:46.952Z"
   },
   {
    "duration": 37,
    "start_time": "2023-08-12T07:22:52.628Z"
   },
   {
    "duration": 13,
    "start_time": "2023-08-12T07:23:52.140Z"
   },
   {
    "duration": 40,
    "start_time": "2023-08-12T07:23:54.187Z"
   },
   {
    "duration": 25,
    "start_time": "2023-08-12T07:23:55.487Z"
   },
   {
    "duration": 1683,
    "start_time": "2023-08-12T07:24:15.854Z"
   },
   {
    "duration": 845,
    "start_time": "2023-08-12T07:24:17.539Z"
   },
   {
    "duration": 4,
    "start_time": "2023-08-12T07:24:18.387Z"
   },
   {
    "duration": 895,
    "start_time": "2023-08-12T07:24:18.393Z"
   },
   {
    "duration": 3,
    "start_time": "2023-08-12T07:24:19.291Z"
   },
   {
    "duration": 31,
    "start_time": "2023-08-12T07:24:19.296Z"
   },
   {
    "duration": 31,
    "start_time": "2023-08-12T07:24:19.331Z"
   },
   {
    "duration": 20,
    "start_time": "2023-08-12T07:24:19.364Z"
   },
   {
    "duration": 320,
    "start_time": "2023-08-12T07:24:19.385Z"
   },
   {
    "duration": 23,
    "start_time": "2023-08-12T07:24:19.708Z"
   },
   {
    "duration": 62,
    "start_time": "2023-08-12T07:24:19.733Z"
   },
   {
    "duration": 7,
    "start_time": "2023-08-12T07:24:19.797Z"
   },
   {
    "duration": 3697,
    "start_time": "2023-08-12T07:24:19.806Z"
   },
   {
    "duration": 6,
    "start_time": "2023-08-12T07:24:23.508Z"
   },
   {
    "duration": 61,
    "start_time": "2023-08-12T07:24:23.516Z"
   },
   {
    "duration": 1205,
    "start_time": "2023-08-12T07:24:23.578Z"
   },
   {
    "duration": 5,
    "start_time": "2023-08-12T07:24:24.786Z"
   },
   {
    "duration": 60,
    "start_time": "2023-08-12T07:24:24.793Z"
   },
   {
    "duration": 13,
    "start_time": "2023-08-12T07:24:24.855Z"
   },
   {
    "duration": 125,
    "start_time": "2023-08-12T07:24:24.870Z"
   },
   {
    "duration": 8,
    "start_time": "2023-08-12T07:24:24.997Z"
   },
   {
    "duration": 92,
    "start_time": "2023-08-12T07:24:25.007Z"
   },
   {
    "duration": 24,
    "start_time": "2023-08-12T07:24:25.100Z"
   },
   {
    "duration": 28,
    "start_time": "2023-08-12T07:24:25.130Z"
   },
   {
    "duration": 26,
    "start_time": "2023-08-12T07:24:25.160Z"
   },
   {
    "duration": 40,
    "start_time": "2023-08-12T07:24:25.188Z"
   },
   {
    "duration": 210,
    "start_time": "2023-08-12T07:24:25.230Z"
   },
   {
    "duration": 34,
    "start_time": "2023-08-12T07:25:33.454Z"
   },
   {
    "duration": 1988,
    "start_time": "2023-08-12T07:25:46.162Z"
   },
   {
    "duration": 926,
    "start_time": "2023-08-12T07:25:48.152Z"
   },
   {
    "duration": 3,
    "start_time": "2023-08-12T07:25:49.080Z"
   },
   {
    "duration": 884,
    "start_time": "2023-08-12T07:25:49.085Z"
   },
   {
    "duration": 3,
    "start_time": "2023-08-12T07:25:49.973Z"
   },
   {
    "duration": 21,
    "start_time": "2023-08-12T07:25:49.978Z"
   },
   {
    "duration": 25,
    "start_time": "2023-08-12T07:25:50.001Z"
   },
   {
    "duration": 32,
    "start_time": "2023-08-12T07:25:50.036Z"
   },
   {
    "duration": 274,
    "start_time": "2023-08-12T07:25:50.070Z"
   },
   {
    "duration": 15,
    "start_time": "2023-08-12T07:25:50.348Z"
   },
   {
    "duration": 59,
    "start_time": "2023-08-12T07:25:50.365Z"
   },
   {
    "duration": 71,
    "start_time": "2023-08-12T07:25:50.429Z"
   },
   {
    "duration": 3842,
    "start_time": "2023-08-12T07:25:50.502Z"
   },
   {
    "duration": 5,
    "start_time": "2023-08-12T07:25:54.357Z"
   },
   {
    "duration": 41,
    "start_time": "2023-08-12T07:25:54.364Z"
   },
   {
    "duration": 1513,
    "start_time": "2023-08-12T07:25:54.408Z"
   },
   {
    "duration": 10,
    "start_time": "2023-08-12T07:25:55.923Z"
   },
   {
    "duration": 83,
    "start_time": "2023-08-12T07:25:55.941Z"
   },
   {
    "duration": 139,
    "start_time": "2023-08-12T07:25:56.027Z"
   },
   {
    "duration": 117,
    "start_time": "2023-08-12T07:25:56.169Z"
   },
   {
    "duration": 24,
    "start_time": "2023-08-12T07:25:56.288Z"
   },
   {
    "duration": 80,
    "start_time": "2023-08-12T07:25:56.320Z"
   },
   {
    "duration": 96,
    "start_time": "2023-08-12T07:25:56.403Z"
   },
   {
    "duration": 25,
    "start_time": "2023-08-12T07:25:56.501Z"
   },
   {
    "duration": 58,
    "start_time": "2023-08-12T07:25:56.530Z"
   },
   {
    "duration": 41,
    "start_time": "2023-08-12T07:25:56.591Z"
   },
   {
    "duration": 240,
    "start_time": "2023-08-12T07:25:56.634Z"
   },
   {
    "duration": 85,
    "start_time": "2023-08-12T07:28:09.707Z"
   },
   {
    "duration": 40,
    "start_time": "2023-08-12T07:28:27.738Z"
   },
   {
    "duration": 4,
    "start_time": "2023-08-12T07:29:53.180Z"
   },
   {
    "duration": 1851,
    "start_time": "2023-08-12T07:31:17.701Z"
   },
   {
    "duration": 927,
    "start_time": "2023-08-12T07:31:19.562Z"
   },
   {
    "duration": 4,
    "start_time": "2023-08-12T07:31:20.491Z"
   },
   {
    "duration": 965,
    "start_time": "2023-08-12T07:31:20.497Z"
   },
   {
    "duration": 3,
    "start_time": "2023-08-12T07:31:21.464Z"
   },
   {
    "duration": 32,
    "start_time": "2023-08-12T07:31:21.468Z"
   },
   {
    "duration": 13,
    "start_time": "2023-08-12T07:31:21.502Z"
   },
   {
    "duration": 45,
    "start_time": "2023-08-12T07:31:21.517Z"
   },
   {
    "duration": 275,
    "start_time": "2023-08-12T07:31:21.564Z"
   },
   {
    "duration": 19,
    "start_time": "2023-08-12T07:31:21.846Z"
   },
   {
    "duration": 48,
    "start_time": "2023-08-12T07:31:21.868Z"
   },
   {
    "duration": 10,
    "start_time": "2023-08-12T07:31:21.918Z"
   },
   {
    "duration": 4262,
    "start_time": "2023-08-12T07:31:21.929Z"
   },
   {
    "duration": 6,
    "start_time": "2023-08-12T07:31:26.193Z"
   },
   {
    "duration": 10,
    "start_time": "2023-08-12T07:31:26.224Z"
   },
   {
    "duration": 1360,
    "start_time": "2023-08-12T07:31:26.236Z"
   },
   {
    "duration": 25,
    "start_time": "2023-08-12T07:31:27.599Z"
   },
   {
    "duration": 65,
    "start_time": "2023-08-12T07:31:27.631Z"
   },
   {
    "duration": 59,
    "start_time": "2023-08-12T07:31:27.698Z"
   },
   {
    "duration": 82,
    "start_time": "2023-08-12T07:31:27.759Z"
   },
   {
    "duration": 17,
    "start_time": "2023-08-12T07:31:27.850Z"
   },
   {
    "duration": 13,
    "start_time": "2023-08-12T07:31:27.869Z"
   },
   {
    "duration": 21,
    "start_time": "2023-08-12T07:31:27.884Z"
   },
   {
    "duration": 22,
    "start_time": "2023-08-12T07:31:27.907Z"
   },
   {
    "duration": 148,
    "start_time": "2023-08-12T07:31:27.936Z"
   },
   {
    "duration": 150,
    "start_time": "2023-08-12T07:31:28.086Z"
   },
   {
    "duration": 0,
    "start_time": "2023-08-12T07:31:28.241Z"
   },
   {
    "duration": 0,
    "start_time": "2023-08-12T07:31:28.242Z"
   },
   {
    "duration": 1765,
    "start_time": "2023-08-12T07:32:09.239Z"
   },
   {
    "duration": 933,
    "start_time": "2023-08-12T07:32:11.006Z"
   },
   {
    "duration": 7,
    "start_time": "2023-08-12T07:32:11.942Z"
   },
   {
    "duration": 984,
    "start_time": "2023-08-12T07:32:11.951Z"
   },
   {
    "duration": 6,
    "start_time": "2023-08-12T07:32:12.937Z"
   },
   {
    "duration": 51,
    "start_time": "2023-08-12T07:32:12.946Z"
   },
   {
    "duration": 47,
    "start_time": "2023-08-12T07:32:12.999Z"
   },
   {
    "duration": 27,
    "start_time": "2023-08-12T07:32:13.048Z"
   },
   {
    "duration": 365,
    "start_time": "2023-08-12T07:32:13.077Z"
   },
   {
    "duration": 41,
    "start_time": "2023-08-12T07:32:13.458Z"
   },
   {
    "duration": 137,
    "start_time": "2023-08-12T07:32:13.506Z"
   },
   {
    "duration": 14,
    "start_time": "2023-08-12T07:32:13.645Z"
   },
   {
    "duration": 4300,
    "start_time": "2023-08-12T07:32:13.666Z"
   },
   {
    "duration": 14,
    "start_time": "2023-08-12T07:32:17.972Z"
   },
   {
    "duration": 85,
    "start_time": "2023-08-12T07:32:17.988Z"
   },
   {
    "duration": 1350,
    "start_time": "2023-08-12T07:32:18.075Z"
   },
   {
    "duration": 16,
    "start_time": "2023-08-12T07:32:19.435Z"
   },
   {
    "duration": 41,
    "start_time": "2023-08-12T07:32:19.460Z"
   },
   {
    "duration": 66,
    "start_time": "2023-08-12T07:32:19.506Z"
   },
   {
    "duration": 80,
    "start_time": "2023-08-12T07:32:19.575Z"
   },
   {
    "duration": 23,
    "start_time": "2023-08-12T07:32:19.658Z"
   },
   {
    "duration": 31,
    "start_time": "2023-08-12T07:32:19.686Z"
   },
   {
    "duration": 70,
    "start_time": "2023-08-12T07:32:19.719Z"
   },
   {
    "duration": 34,
    "start_time": "2023-08-12T07:32:19.791Z"
   },
   {
    "duration": 1855,
    "start_time": "2023-08-12T07:32:19.836Z"
   },
   {
    "duration": 1,
    "start_time": "2023-08-12T07:32:21.693Z"
   },
   {
    "duration": 0,
    "start_time": "2023-08-12T07:32:21.696Z"
   },
   {
    "duration": 0,
    "start_time": "2023-08-12T07:32:21.697Z"
   },
   {
    "duration": 162,
    "start_time": "2023-08-12T07:34:06.902Z"
   },
   {
    "duration": 1947,
    "start_time": "2023-08-12T07:34:19.706Z"
   },
   {
    "duration": 1233,
    "start_time": "2023-08-12T07:34:21.663Z"
   },
   {
    "duration": 4,
    "start_time": "2023-08-12T07:34:22.900Z"
   },
   {
    "duration": 1043,
    "start_time": "2023-08-12T07:34:22.909Z"
   },
   {
    "duration": 13,
    "start_time": "2023-08-12T07:34:23.955Z"
   },
   {
    "duration": 117,
    "start_time": "2023-08-12T07:34:23.971Z"
   },
   {
    "duration": 119,
    "start_time": "2023-08-12T07:34:24.092Z"
   },
   {
    "duration": 87,
    "start_time": "2023-08-12T07:34:24.215Z"
   },
   {
    "duration": 493,
    "start_time": "2023-08-12T07:34:24.305Z"
   },
   {
    "duration": 28,
    "start_time": "2023-08-12T07:34:24.804Z"
   },
   {
    "duration": 137,
    "start_time": "2023-08-12T07:34:24.838Z"
   },
   {
    "duration": 27,
    "start_time": "2023-08-12T07:34:24.986Z"
   },
   {
    "duration": 4723,
    "start_time": "2023-08-12T07:34:25.018Z"
   },
   {
    "duration": 13,
    "start_time": "2023-08-12T07:34:29.761Z"
   },
   {
    "duration": 75,
    "start_time": "2023-08-12T07:34:29.776Z"
   },
   {
    "duration": 1363,
    "start_time": "2023-08-12T07:34:29.854Z"
   },
   {
    "duration": 15,
    "start_time": "2023-08-12T07:34:31.226Z"
   },
   {
    "duration": 49,
    "start_time": "2023-08-12T07:34:31.247Z"
   },
   {
    "duration": 92,
    "start_time": "2023-08-12T07:34:31.298Z"
   },
   {
    "duration": 151,
    "start_time": "2023-08-12T07:34:31.392Z"
   },
   {
    "duration": 39,
    "start_time": "2023-08-12T07:34:31.546Z"
   },
   {
    "duration": 173,
    "start_time": "2023-08-12T07:34:31.588Z"
   },
   {
    "duration": 126,
    "start_time": "2023-08-12T07:34:31.763Z"
   },
   {
    "duration": 97,
    "start_time": "2023-08-12T07:34:31.891Z"
   },
   {
    "duration": 151,
    "start_time": "2023-08-12T07:34:31.991Z"
   },
   {
    "duration": 0,
    "start_time": "2023-08-12T07:34:32.148Z"
   },
   {
    "duration": 0,
    "start_time": "2023-08-12T07:34:32.149Z"
   },
   {
    "duration": 0,
    "start_time": "2023-08-12T07:34:32.150Z"
   },
   {
    "duration": 2339,
    "start_time": "2023-08-12T07:34:58.880Z"
   },
   {
    "duration": 1149,
    "start_time": "2023-08-12T07:35:01.226Z"
   },
   {
    "duration": 7,
    "start_time": "2023-08-12T07:35:02.378Z"
   },
   {
    "duration": 1253,
    "start_time": "2023-08-12T07:35:02.387Z"
   },
   {
    "duration": 4,
    "start_time": "2023-08-12T07:35:03.647Z"
   },
   {
    "duration": 42,
    "start_time": "2023-08-12T07:35:03.657Z"
   },
   {
    "duration": 5,
    "start_time": "2023-08-12T07:35:03.701Z"
   },
   {
    "duration": 65,
    "start_time": "2023-08-12T07:35:03.710Z"
   },
   {
    "duration": 368,
    "start_time": "2023-08-12T07:35:03.778Z"
   },
   {
    "duration": 31,
    "start_time": "2023-08-12T07:35:04.152Z"
   },
   {
    "duration": 45,
    "start_time": "2023-08-12T07:35:04.186Z"
   },
   {
    "duration": 10,
    "start_time": "2023-08-12T07:35:04.233Z"
   },
   {
    "duration": 4057,
    "start_time": "2023-08-12T07:35:04.245Z"
   },
   {
    "duration": 35,
    "start_time": "2023-08-12T07:35:08.305Z"
   },
   {
    "duration": 41,
    "start_time": "2023-08-12T07:35:08.358Z"
   },
   {
    "duration": 1445,
    "start_time": "2023-08-12T07:35:08.401Z"
   },
   {
    "duration": 9,
    "start_time": "2023-08-12T07:35:09.855Z"
   },
   {
    "duration": 36,
    "start_time": "2023-08-12T07:35:09.866Z"
   },
   {
    "duration": 54,
    "start_time": "2023-08-12T07:35:09.904Z"
   },
   {
    "duration": 66,
    "start_time": "2023-08-12T07:35:09.971Z"
   },
   {
    "duration": 22,
    "start_time": "2023-08-12T07:35:10.038Z"
   },
   {
    "duration": 35,
    "start_time": "2023-08-12T07:35:10.066Z"
   },
   {
    "duration": 76,
    "start_time": "2023-08-12T07:35:10.103Z"
   },
   {
    "duration": 25,
    "start_time": "2023-08-12T07:35:10.182Z"
   },
   {
    "duration": 52,
    "start_time": "2023-08-12T07:35:10.218Z"
   },
   {
    "duration": 18,
    "start_time": "2023-08-12T07:35:10.272Z"
   },
   {
    "duration": 226,
    "start_time": "2023-08-12T07:35:10.293Z"
   },
   {
    "duration": 2003,
    "start_time": "2023-08-12T07:49:50.085Z"
   },
   {
    "duration": 1068,
    "start_time": "2023-08-12T07:49:52.090Z"
   },
   {
    "duration": 7,
    "start_time": "2023-08-12T07:49:53.163Z"
   },
   {
    "duration": 1004,
    "start_time": "2023-08-12T07:49:53.173Z"
   },
   {
    "duration": 4,
    "start_time": "2023-08-12T07:49:54.179Z"
   },
   {
    "duration": 71,
    "start_time": "2023-08-12T07:49:54.186Z"
   },
   {
    "duration": 23,
    "start_time": "2023-08-12T07:49:54.258Z"
   },
   {
    "duration": 15,
    "start_time": "2023-08-12T07:49:54.284Z"
   },
   {
    "duration": 385,
    "start_time": "2023-08-12T07:49:54.302Z"
   },
   {
    "duration": 26,
    "start_time": "2023-08-12T07:49:54.691Z"
   },
   {
    "duration": 100,
    "start_time": "2023-08-12T07:49:54.723Z"
   },
   {
    "duration": 9,
    "start_time": "2023-08-12T07:49:54.829Z"
   },
   {
    "duration": 4767,
    "start_time": "2023-08-12T07:49:54.840Z"
   },
   {
    "duration": 9,
    "start_time": "2023-08-12T07:49:59.609Z"
   },
   {
    "duration": 112,
    "start_time": "2023-08-12T07:49:59.620Z"
   },
   {
    "duration": 1213,
    "start_time": "2023-08-12T07:49:59.738Z"
   },
   {
    "duration": 10,
    "start_time": "2023-08-12T07:50:00.953Z"
   },
   {
    "duration": 68,
    "start_time": "2023-08-12T07:50:00.965Z"
   },
   {
    "duration": 285,
    "start_time": "2023-08-12T07:50:01.038Z"
   },
   {
    "duration": 265,
    "start_time": "2023-08-12T07:50:01.333Z"
   },
   {
    "duration": 334,
    "start_time": "2023-08-12T07:50:01.600Z"
   },
   {
    "duration": 63,
    "start_time": "2023-08-12T07:50:01.945Z"
   },
   {
    "duration": 195,
    "start_time": "2023-08-12T07:50:02.011Z"
   },
   {
    "duration": 265,
    "start_time": "2023-08-12T07:50:02.208Z"
   },
   {
    "duration": 126,
    "start_time": "2023-08-12T07:50:02.481Z"
   },
   {
    "duration": 127,
    "start_time": "2023-08-12T07:50:02.609Z"
   },
   {
    "duration": 484,
    "start_time": "2023-08-12T07:50:02.740Z"
   },
   {
    "duration": 1858,
    "start_time": "2023-08-12T07:50:29.437Z"
   },
   {
    "duration": 1132,
    "start_time": "2023-08-12T07:50:31.299Z"
   },
   {
    "duration": 23,
    "start_time": "2023-08-12T07:50:32.433Z"
   },
   {
    "duration": 997,
    "start_time": "2023-08-12T07:50:32.458Z"
   },
   {
    "duration": 8,
    "start_time": "2023-08-12T07:50:33.468Z"
   },
   {
    "duration": 199,
    "start_time": "2023-08-12T07:50:33.479Z"
   },
   {
    "duration": 105,
    "start_time": "2023-08-12T07:50:33.680Z"
   },
   {
    "duration": 56,
    "start_time": "2023-08-12T07:50:33.788Z"
   },
   {
    "duration": 391,
    "start_time": "2023-08-12T07:50:33.847Z"
   },
   {
    "duration": 32,
    "start_time": "2023-08-12T07:50:34.243Z"
   },
   {
    "duration": 241,
    "start_time": "2023-08-12T07:50:34.283Z"
   },
   {
    "duration": 238,
    "start_time": "2023-08-12T07:50:34.527Z"
   },
   {
    "duration": 4593,
    "start_time": "2023-08-12T07:50:34.767Z"
   },
   {
    "duration": 7,
    "start_time": "2023-08-12T07:50:39.364Z"
   },
   {
    "duration": 23,
    "start_time": "2023-08-12T07:50:39.380Z"
   },
   {
    "duration": 1557,
    "start_time": "2023-08-12T07:50:39.406Z"
   },
   {
    "duration": 5,
    "start_time": "2023-08-12T07:50:40.965Z"
   },
   {
    "duration": 171,
    "start_time": "2023-08-12T07:50:40.974Z"
   },
   {
    "duration": 206,
    "start_time": "2023-08-12T07:50:41.147Z"
   },
   {
    "duration": 124,
    "start_time": "2023-08-12T07:50:41.356Z"
   },
   {
    "duration": 0,
    "start_time": "2023-08-12T07:50:41.482Z"
   },
   {
    "duration": 0,
    "start_time": "2023-08-12T07:50:41.483Z"
   },
   {
    "duration": 0,
    "start_time": "2023-08-12T07:50:41.484Z"
   },
   {
    "duration": 0,
    "start_time": "2023-08-12T07:50:41.485Z"
   },
   {
    "duration": 0,
    "start_time": "2023-08-12T07:50:41.487Z"
   },
   {
    "duration": 0,
    "start_time": "2023-08-12T07:50:41.488Z"
   },
   {
    "duration": 0,
    "start_time": "2023-08-12T07:50:41.489Z"
   },
   {
    "duration": 1972,
    "start_time": "2023-08-12T07:50:50.466Z"
   },
   {
    "duration": 969,
    "start_time": "2023-08-12T07:50:52.440Z"
   },
   {
    "duration": 3,
    "start_time": "2023-08-12T07:50:53.410Z"
   },
   {
    "duration": 1107,
    "start_time": "2023-08-12T07:50:53.422Z"
   },
   {
    "duration": 4,
    "start_time": "2023-08-12T07:50:54.531Z"
   },
   {
    "duration": 76,
    "start_time": "2023-08-12T07:50:54.537Z"
   },
   {
    "duration": 50,
    "start_time": "2023-08-12T07:50:54.619Z"
   },
   {
    "duration": 24,
    "start_time": "2023-08-12T07:50:54.671Z"
   },
   {
    "duration": 411,
    "start_time": "2023-08-12T07:50:54.697Z"
   },
   {
    "duration": 30,
    "start_time": "2023-08-12T07:50:55.118Z"
   },
   {
    "duration": 75,
    "start_time": "2023-08-12T07:50:55.151Z"
   },
   {
    "duration": 12,
    "start_time": "2023-08-12T07:50:55.233Z"
   },
   {
    "duration": 4452,
    "start_time": "2023-08-12T07:50:55.253Z"
   },
   {
    "duration": 30,
    "start_time": "2023-08-12T07:50:59.708Z"
   },
   {
    "duration": 113,
    "start_time": "2023-08-12T07:50:59.754Z"
   },
   {
    "duration": 1588,
    "start_time": "2023-08-12T07:50:59.869Z"
   },
   {
    "duration": 10,
    "start_time": "2023-08-12T07:51:01.465Z"
   },
   {
    "duration": 38,
    "start_time": "2023-08-12T07:51:01.478Z"
   },
   {
    "duration": 111,
    "start_time": "2023-08-12T07:51:01.520Z"
   },
   {
    "duration": 106,
    "start_time": "2023-08-12T07:51:01.638Z"
   },
   {
    "duration": 63,
    "start_time": "2023-08-12T07:51:01.756Z"
   },
   {
    "duration": 57,
    "start_time": "2023-08-12T07:51:01.827Z"
   },
   {
    "duration": 100,
    "start_time": "2023-08-12T07:51:01.887Z"
   },
   {
    "duration": 31,
    "start_time": "2023-08-12T07:51:01.989Z"
   },
   {
    "duration": 43,
    "start_time": "2023-08-12T07:51:02.035Z"
   },
   {
    "duration": 22,
    "start_time": "2023-08-12T07:51:02.081Z"
   },
   {
    "duration": 547,
    "start_time": "2023-08-12T07:51:02.106Z"
   },
   {
    "duration": 13,
    "start_time": "2023-08-12T07:52:47.454Z"
   },
   {
    "duration": 40,
    "start_time": "2023-08-12T07:53:03.013Z"
   },
   {
    "duration": 51,
    "start_time": "2023-08-12T07:53:19.766Z"
   },
   {
    "duration": 48,
    "start_time": "2023-08-12T07:53:57.610Z"
   },
   {
    "duration": 46,
    "start_time": "2023-08-12T07:54:32.659Z"
   },
   {
    "duration": 30,
    "start_time": "2023-08-12T07:54:55.852Z"
   },
   {
    "duration": 42,
    "start_time": "2023-08-12T07:55:10.790Z"
   },
   {
    "duration": 12,
    "start_time": "2023-08-12T07:55:24.749Z"
   },
   {
    "duration": 7,
    "start_time": "2023-08-12T07:55:32.279Z"
   },
   {
    "duration": 9,
    "start_time": "2023-08-12T07:55:41.462Z"
   },
   {
    "duration": 34,
    "start_time": "2023-08-12T07:55:46.560Z"
   },
   {
    "duration": 29,
    "start_time": "2023-08-12T07:58:38.235Z"
   },
   {
    "duration": 1671,
    "start_time": "2023-08-12T07:58:46.548Z"
   },
   {
    "duration": 837,
    "start_time": "2023-08-12T07:58:48.225Z"
   },
   {
    "duration": 3,
    "start_time": "2023-08-12T07:58:49.064Z"
   },
   {
    "duration": 918,
    "start_time": "2023-08-12T07:58:49.069Z"
   },
   {
    "duration": 5,
    "start_time": "2023-08-12T07:58:49.989Z"
   },
   {
    "duration": 35,
    "start_time": "2023-08-12T07:58:49.996Z"
   },
   {
    "duration": 37,
    "start_time": "2023-08-12T07:58:50.033Z"
   },
   {
    "duration": 20,
    "start_time": "2023-08-12T07:58:50.072Z"
   },
   {
    "duration": 339,
    "start_time": "2023-08-12T07:58:50.094Z"
   },
   {
    "duration": 19,
    "start_time": "2023-08-12T07:58:50.438Z"
   },
   {
    "duration": 51,
    "start_time": "2023-08-12T07:58:50.459Z"
   },
   {
    "duration": 19,
    "start_time": "2023-08-12T07:58:50.511Z"
   },
   {
    "duration": 3823,
    "start_time": "2023-08-12T07:58:50.532Z"
   },
   {
    "duration": 6,
    "start_time": "2023-08-12T07:58:54.358Z"
   },
   {
    "duration": 8,
    "start_time": "2023-08-12T07:58:54.367Z"
   },
   {
    "duration": 1369,
    "start_time": "2023-08-12T07:58:54.377Z"
   },
   {
    "duration": 5,
    "start_time": "2023-08-12T07:58:55.751Z"
   },
   {
    "duration": 17,
    "start_time": "2023-08-12T07:58:55.758Z"
   },
   {
    "duration": 77,
    "start_time": "2023-08-12T07:58:55.778Z"
   },
   {
    "duration": 5,
    "start_time": "2023-08-12T07:58:55.857Z"
   },
   {
    "duration": 41,
    "start_time": "2023-08-12T07:58:55.863Z"
   },
   {
    "duration": 66,
    "start_time": "2023-08-12T07:58:55.907Z"
   },
   {
    "duration": 115,
    "start_time": "2023-08-12T07:58:55.983Z"
   },
   {
    "duration": 255,
    "start_time": "2023-08-12T07:58:56.100Z"
   },
   {
    "duration": 14,
    "start_time": "2023-08-12T08:00:38.649Z"
   },
   {
    "duration": 6,
    "start_time": "2023-08-12T08:01:14.267Z"
   },
   {
    "duration": 8,
    "start_time": "2023-08-12T08:01:27.343Z"
   },
   {
    "duration": 9,
    "start_time": "2023-08-12T08:01:45.247Z"
   },
   {
    "duration": 22,
    "start_time": "2023-08-12T08:02:08.104Z"
   },
   {
    "duration": 15,
    "start_time": "2023-08-12T08:02:57.264Z"
   },
   {
    "duration": 14,
    "start_time": "2023-08-12T08:03:38.614Z"
   },
   {
    "duration": 10,
    "start_time": "2023-08-12T08:04:14.068Z"
   },
   {
    "duration": 2313,
    "start_time": "2023-08-12T08:04:21.483Z"
   },
   {
    "duration": 15,
    "start_time": "2023-08-12T08:04:43.467Z"
   },
   {
    "duration": 21,
    "start_time": "2023-08-12T08:04:56.149Z"
   },
   {
    "duration": 30,
    "start_time": "2023-08-12T08:05:26.232Z"
   },
   {
    "duration": 20,
    "start_time": "2023-08-12T08:05:38.711Z"
   },
   {
    "duration": 6,
    "start_time": "2023-08-12T08:06:02.148Z"
   },
   {
    "duration": 34,
    "start_time": "2023-08-12T08:16:14.683Z"
   },
   {
    "duration": 2742,
    "start_time": "2023-08-12T08:19:43.697Z"
   },
   {
    "duration": 1517,
    "start_time": "2023-08-12T08:19:46.447Z"
   },
   {
    "duration": 11,
    "start_time": "2023-08-12T08:19:47.982Z"
   },
   {
    "duration": 1592,
    "start_time": "2023-08-12T08:19:48.001Z"
   },
   {
    "duration": 21,
    "start_time": "2023-08-12T08:19:49.612Z"
   },
   {
    "duration": 188,
    "start_time": "2023-08-12T08:19:49.648Z"
   },
   {
    "duration": 173,
    "start_time": "2023-08-12T08:19:49.848Z"
   },
   {
    "duration": 180,
    "start_time": "2023-08-12T08:19:50.029Z"
   },
   {
    "duration": 554,
    "start_time": "2023-08-12T08:19:50.227Z"
   },
   {
    "duration": 29,
    "start_time": "2023-08-12T08:19:50.790Z"
   },
   {
    "duration": 167,
    "start_time": "2023-08-12T08:19:50.831Z"
   },
   {
    "duration": 156,
    "start_time": "2023-08-12T08:19:51.005Z"
   },
   {
    "duration": 5209,
    "start_time": "2023-08-12T08:19:51.181Z"
   },
   {
    "duration": 12,
    "start_time": "2023-08-12T08:19:56.405Z"
   },
   {
    "duration": 18,
    "start_time": "2023-08-12T08:19:56.419Z"
   },
   {
    "duration": 1750,
    "start_time": "2023-08-12T08:19:56.439Z"
   },
   {
    "duration": 11,
    "start_time": "2023-08-12T08:19:58.196Z"
   },
   {
    "duration": 180,
    "start_time": "2023-08-12T08:19:58.223Z"
   },
   {
    "duration": 234,
    "start_time": "2023-08-12T08:19:58.411Z"
   },
   {
    "duration": 85,
    "start_time": "2023-08-12T08:19:58.652Z"
   },
   {
    "duration": 102,
    "start_time": "2023-08-12T08:19:58.743Z"
   },
   {
    "duration": 69,
    "start_time": "2023-08-12T08:19:58.859Z"
   },
   {
    "duration": 156,
    "start_time": "2023-08-12T08:19:58.934Z"
   },
   {
    "duration": 178,
    "start_time": "2023-08-12T08:19:59.105Z"
   },
   {
    "duration": 403,
    "start_time": "2023-08-12T08:19:59.289Z"
   },
   {
    "duration": 36,
    "start_time": "2023-08-12T08:22:21.941Z"
   },
   {
    "duration": 11,
    "start_time": "2023-08-12T08:22:26.074Z"
   },
   {
    "duration": 75,
    "start_time": "2023-08-12T08:22:30.103Z"
   },
   {
    "duration": 27,
    "start_time": "2023-08-12T08:22:57.960Z"
   },
   {
    "duration": 91,
    "start_time": "2023-08-12T08:23:27.934Z"
   },
   {
    "duration": 10,
    "start_time": "2023-08-12T08:23:29.029Z"
   },
   {
    "duration": 106,
    "start_time": "2023-08-12T08:23:33.390Z"
   },
   {
    "duration": 2535,
    "start_time": "2023-08-12T08:23:43.162Z"
   },
   {
    "duration": 1117,
    "start_time": "2023-08-12T08:23:45.706Z"
   },
   {
    "duration": 4,
    "start_time": "2023-08-12T08:23:46.825Z"
   },
   {
    "duration": 1152,
    "start_time": "2023-08-12T08:23:46.831Z"
   },
   {
    "duration": 9,
    "start_time": "2023-08-12T08:23:47.992Z"
   },
   {
    "duration": 160,
    "start_time": "2023-08-12T08:23:48.007Z"
   },
   {
    "duration": 216,
    "start_time": "2023-08-12T08:23:48.170Z"
   },
   {
    "duration": 111,
    "start_time": "2023-08-12T08:23:48.394Z"
   },
   {
    "duration": 546,
    "start_time": "2023-08-12T08:23:48.507Z"
   },
   {
    "duration": 82,
    "start_time": "2023-08-12T08:23:49.055Z"
   },
   {
    "duration": 243,
    "start_time": "2023-08-12T08:23:49.154Z"
   },
   {
    "duration": 55,
    "start_time": "2023-08-12T08:23:49.410Z"
   },
   {
    "duration": 5646,
    "start_time": "2023-08-12T08:23:49.481Z"
   },
   {
    "duration": 7,
    "start_time": "2023-08-12T08:23:55.130Z"
   },
   {
    "duration": 9,
    "start_time": "2023-08-12T08:23:55.138Z"
   },
   {
    "duration": 1733,
    "start_time": "2023-08-12T08:23:55.149Z"
   },
   {
    "duration": 4,
    "start_time": "2023-08-12T08:23:56.885Z"
   },
   {
    "duration": 5,
    "start_time": "2023-08-12T08:23:56.891Z"
   },
   {
    "duration": 135,
    "start_time": "2023-08-12T08:23:56.898Z"
   },
   {
    "duration": 77,
    "start_time": "2023-08-12T08:23:57.039Z"
   },
   {
    "duration": 46,
    "start_time": "2023-08-12T08:23:57.122Z"
   },
   {
    "duration": 91,
    "start_time": "2023-08-12T08:23:57.174Z"
   },
   {
    "duration": 13,
    "start_time": "2023-08-12T08:23:57.271Z"
   },
   {
    "duration": 371,
    "start_time": "2023-08-12T08:23:57.290Z"
   },
   {
    "duration": 2549,
    "start_time": "2023-08-12T08:24:59.370Z"
   },
   {
    "duration": 1458,
    "start_time": "2023-08-12T08:25:01.928Z"
   },
   {
    "duration": 10,
    "start_time": "2023-08-12T08:25:03.394Z"
   },
   {
    "duration": 1551,
    "start_time": "2023-08-12T08:25:03.417Z"
   },
   {
    "duration": 14,
    "start_time": "2023-08-12T08:25:04.976Z"
   },
   {
    "duration": 212,
    "start_time": "2023-08-12T08:25:04.998Z"
   },
   {
    "duration": 169,
    "start_time": "2023-08-12T08:25:05.216Z"
   },
   {
    "duration": 125,
    "start_time": "2023-08-12T08:25:05.389Z"
   },
   {
    "duration": 402,
    "start_time": "2023-08-12T08:25:05.520Z"
   },
   {
    "duration": 35,
    "start_time": "2023-08-12T08:25:05.931Z"
   },
   {
    "duration": 232,
    "start_time": "2023-08-12T08:25:05.973Z"
   },
   {
    "duration": 19,
    "start_time": "2023-08-12T08:25:06.211Z"
   },
   {
    "duration": 5294,
    "start_time": "2023-08-12T08:25:06.237Z"
   },
   {
    "duration": 40,
    "start_time": "2023-08-12T08:25:11.548Z"
   },
   {
    "duration": 84,
    "start_time": "2023-08-12T08:25:11.595Z"
   },
   {
    "duration": 1509,
    "start_time": "2023-08-12T08:25:11.688Z"
   },
   {
    "duration": 6,
    "start_time": "2023-08-12T08:25:13.199Z"
   },
   {
    "duration": 83,
    "start_time": "2023-08-12T08:25:13.215Z"
   },
   {
    "duration": 57,
    "start_time": "2023-08-12T08:25:13.300Z"
   },
   {
    "duration": 74,
    "start_time": "2023-08-12T08:25:13.365Z"
   },
   {
    "duration": 85,
    "start_time": "2023-08-12T08:25:13.445Z"
   },
   {
    "duration": 63,
    "start_time": "2023-08-12T08:25:13.532Z"
   },
   {
    "duration": 23,
    "start_time": "2023-08-12T08:25:13.598Z"
   },
   {
    "duration": 316,
    "start_time": "2023-08-12T08:25:13.623Z"
   },
   {
    "duration": 1775,
    "start_time": "2023-08-12T08:46:21.043Z"
   },
   {
    "duration": 1007,
    "start_time": "2023-08-12T08:46:22.820Z"
   },
   {
    "duration": 5,
    "start_time": "2023-08-12T08:46:23.829Z"
   },
   {
    "duration": 924,
    "start_time": "2023-08-12T08:46:23.836Z"
   },
   {
    "duration": 5,
    "start_time": "2023-08-12T08:46:24.762Z"
   },
   {
    "duration": 17,
    "start_time": "2023-08-12T08:46:24.769Z"
   },
   {
    "duration": 5,
    "start_time": "2023-08-12T08:46:24.789Z"
   },
   {
    "duration": 26,
    "start_time": "2023-08-12T08:46:24.796Z"
   },
   {
    "duration": 420,
    "start_time": "2023-08-12T08:46:24.824Z"
   },
   {
    "duration": 24,
    "start_time": "2023-08-12T08:46:25.252Z"
   },
   {
    "duration": 70,
    "start_time": "2023-08-12T08:46:25.279Z"
   },
   {
    "duration": 8,
    "start_time": "2023-08-12T08:46:25.362Z"
   },
   {
    "duration": 4213,
    "start_time": "2023-08-12T08:46:25.372Z"
   },
   {
    "duration": 8,
    "start_time": "2023-08-12T08:46:29.587Z"
   },
   {
    "duration": 71,
    "start_time": "2023-08-12T08:46:29.598Z"
   },
   {
    "duration": 1465,
    "start_time": "2023-08-12T08:46:29.671Z"
   },
   {
    "duration": 6,
    "start_time": "2023-08-12T08:46:31.138Z"
   },
   {
    "duration": 127,
    "start_time": "2023-08-12T08:46:31.146Z"
   },
   {
    "duration": 169,
    "start_time": "2023-08-12T08:46:31.276Z"
   },
   {
    "duration": 108,
    "start_time": "2023-08-12T08:46:31.454Z"
   },
   {
    "duration": 94,
    "start_time": "2023-08-12T08:46:31.566Z"
   },
   {
    "duration": 102,
    "start_time": "2023-08-12T08:46:31.663Z"
   },
   {
    "duration": 95,
    "start_time": "2023-08-12T08:46:31.767Z"
   },
   {
    "duration": 137,
    "start_time": "2023-08-12T08:46:31.865Z"
   },
   {
    "duration": 1979,
    "start_time": "2023-08-12T08:47:02.459Z"
   },
   {
    "duration": 979,
    "start_time": "2023-08-12T08:47:04.440Z"
   },
   {
    "duration": 6,
    "start_time": "2023-08-12T08:47:05.423Z"
   },
   {
    "duration": 952,
    "start_time": "2023-08-12T08:47:05.431Z"
   },
   {
    "duration": 3,
    "start_time": "2023-08-12T08:47:06.385Z"
   },
   {
    "duration": 30,
    "start_time": "2023-08-12T08:47:06.390Z"
   },
   {
    "duration": 64,
    "start_time": "2023-08-12T08:47:06.422Z"
   },
   {
    "duration": 13,
    "start_time": "2023-08-12T08:47:06.488Z"
   },
   {
    "duration": 386,
    "start_time": "2023-08-12T08:47:06.503Z"
   },
   {
    "duration": 34,
    "start_time": "2023-08-12T08:47:06.892Z"
   },
   {
    "duration": 50,
    "start_time": "2023-08-12T08:47:06.941Z"
   },
   {
    "duration": 16,
    "start_time": "2023-08-12T08:47:06.994Z"
   },
   {
    "duration": 4176,
    "start_time": "2023-08-12T08:47:07.011Z"
   },
   {
    "duration": 6,
    "start_time": "2023-08-12T08:47:11.189Z"
   },
   {
    "duration": 94,
    "start_time": "2023-08-12T08:47:11.196Z"
   },
   {
    "duration": 1331,
    "start_time": "2023-08-12T08:47:11.292Z"
   },
   {
    "duration": 5,
    "start_time": "2023-08-12T08:47:12.624Z"
   },
   {
    "duration": 54,
    "start_time": "2023-08-12T08:47:12.631Z"
   },
   {
    "duration": 48,
    "start_time": "2023-08-12T08:47:12.687Z"
   },
   {
    "duration": 3,
    "start_time": "2023-08-12T08:47:12.737Z"
   },
   {
    "duration": 38,
    "start_time": "2023-08-12T08:47:12.742Z"
   },
   {
    "duration": 43,
    "start_time": "2023-08-12T08:47:12.782Z"
   },
   {
    "duration": 56,
    "start_time": "2023-08-12T08:47:12.827Z"
   },
   {
    "duration": 154,
    "start_time": "2023-08-12T08:47:12.885Z"
   },
   {
    "duration": 152,
    "start_time": "2023-08-12T08:47:38.135Z"
   },
   {
    "duration": 45,
    "start_time": "2023-08-12T08:48:38.483Z"
   },
   {
    "duration": 2040,
    "start_time": "2023-08-12T08:49:18.315Z"
   },
   {
    "duration": 1008,
    "start_time": "2023-08-12T08:49:20.357Z"
   },
   {
    "duration": 11,
    "start_time": "2023-08-12T08:49:21.378Z"
   },
   {
    "duration": 976,
    "start_time": "2023-08-12T08:49:21.392Z"
   },
   {
    "duration": 4,
    "start_time": "2023-08-12T08:49:22.371Z"
   },
   {
    "duration": 144,
    "start_time": "2023-08-12T08:49:22.376Z"
   },
   {
    "duration": 116,
    "start_time": "2023-08-12T08:49:22.522Z"
   },
   {
    "duration": 72,
    "start_time": "2023-08-12T08:49:22.640Z"
   },
   {
    "duration": 348,
    "start_time": "2023-08-12T08:49:22.717Z"
   },
   {
    "duration": 26,
    "start_time": "2023-08-12T08:49:23.067Z"
   },
   {
    "duration": 108,
    "start_time": "2023-08-12T08:49:23.096Z"
   },
   {
    "duration": 27,
    "start_time": "2023-08-12T08:49:23.207Z"
   },
   {
    "duration": 4146,
    "start_time": "2023-08-12T08:49:23.237Z"
   },
   {
    "duration": 7,
    "start_time": "2023-08-12T08:49:27.386Z"
   },
   {
    "duration": 29,
    "start_time": "2023-08-12T08:49:27.394Z"
   },
   {
    "duration": 1562,
    "start_time": "2023-08-12T08:49:27.434Z"
   },
   {
    "duration": 4,
    "start_time": "2023-08-12T08:49:28.997Z"
   },
   {
    "duration": 82,
    "start_time": "2023-08-12T08:49:29.003Z"
   },
   {
    "duration": 60,
    "start_time": "2023-08-12T08:49:29.087Z"
   },
   {
    "duration": 34,
    "start_time": "2023-08-12T08:49:29.149Z"
   },
   {
    "duration": 31,
    "start_time": "2023-08-12T08:49:29.186Z"
   },
   {
    "duration": 22,
    "start_time": "2023-08-12T08:49:29.220Z"
   },
   {
    "duration": 106,
    "start_time": "2023-08-12T08:49:29.244Z"
   },
   {
    "duration": 177,
    "start_time": "2023-08-12T08:50:26.169Z"
   },
   {
    "duration": 19,
    "start_time": "2023-08-12T08:50:34.437Z"
   },
   {
    "duration": 13,
    "start_time": "2023-08-12T08:50:51.333Z"
   },
   {
    "duration": 15,
    "start_time": "2023-08-12T08:51:43.169Z"
   },
   {
    "duration": 10,
    "start_time": "2023-08-12T08:51:51.078Z"
   },
   {
    "duration": 75,
    "start_time": "2023-08-12T08:53:49.582Z"
   },
   {
    "duration": 38,
    "start_time": "2023-08-12T08:54:12.087Z"
   },
   {
    "duration": 9,
    "start_time": "2023-08-12T08:55:35.594Z"
   },
   {
    "duration": 13,
    "start_time": "2023-08-12T08:55:40.630Z"
   },
   {
    "duration": 5,
    "start_time": "2023-08-12T08:55:45.291Z"
   },
   {
    "duration": 16,
    "start_time": "2023-08-12T08:58:39.367Z"
   },
   {
    "duration": 21,
    "start_time": "2023-08-12T08:58:43.904Z"
   },
   {
    "duration": 27,
    "start_time": "2023-08-12T08:59:04.786Z"
   },
   {
    "duration": 8,
    "start_time": "2023-08-12T08:59:09.010Z"
   },
   {
    "duration": 24,
    "start_time": "2023-08-12T08:59:16.231Z"
   },
   {
    "duration": 14,
    "start_time": "2023-08-12T08:59:20.143Z"
   },
   {
    "duration": 16,
    "start_time": "2023-08-12T08:59:24.331Z"
   },
   {
    "duration": 15,
    "start_time": "2023-08-12T08:59:29.850Z"
   },
   {
    "duration": 74,
    "start_time": "2023-08-12T09:00:23.877Z"
   },
   {
    "duration": 62,
    "start_time": "2023-08-12T09:00:44.299Z"
   },
   {
    "duration": 22,
    "start_time": "2023-08-12T09:01:33.798Z"
   },
   {
    "duration": 2367,
    "start_time": "2023-08-12T09:01:44.295Z"
   },
   {
    "duration": 1653,
    "start_time": "2023-08-12T09:01:46.664Z"
   },
   {
    "duration": 11,
    "start_time": "2023-08-12T09:01:48.330Z"
   },
   {
    "duration": 1210,
    "start_time": "2023-08-12T09:01:48.343Z"
   },
   {
    "duration": 8,
    "start_time": "2023-08-12T09:01:49.561Z"
   },
   {
    "duration": 205,
    "start_time": "2023-08-12T09:01:49.574Z"
   },
   {
    "duration": 116,
    "start_time": "2023-08-12T09:01:49.786Z"
   },
   {
    "duration": 55,
    "start_time": "2023-08-12T09:01:49.905Z"
   },
   {
    "duration": 470,
    "start_time": "2023-08-12T09:01:49.978Z"
   },
   {
    "duration": 23,
    "start_time": "2023-08-12T09:01:50.450Z"
   },
   {
    "duration": 104,
    "start_time": "2023-08-12T09:01:50.475Z"
   },
   {
    "duration": 68,
    "start_time": "2023-08-12T09:01:50.583Z"
   },
   {
    "duration": 4654,
    "start_time": "2023-08-12T09:01:50.658Z"
   },
   {
    "duration": 35,
    "start_time": "2023-08-12T09:01:55.323Z"
   },
   {
    "duration": 148,
    "start_time": "2023-08-12T09:01:55.365Z"
   },
   {
    "duration": 1398,
    "start_time": "2023-08-12T09:01:55.526Z"
   },
   {
    "duration": 14,
    "start_time": "2023-08-12T09:01:56.939Z"
   },
   {
    "duration": 109,
    "start_time": "2023-08-12T09:01:56.963Z"
   },
   {
    "duration": 82,
    "start_time": "2023-08-12T09:01:57.080Z"
   },
   {
    "duration": 22,
    "start_time": "2023-08-12T09:01:57.179Z"
   },
   {
    "duration": 90,
    "start_time": "2023-08-12T09:01:57.206Z"
   },
   {
    "duration": 93,
    "start_time": "2023-08-12T09:01:57.298Z"
   },
   {
    "duration": 78,
    "start_time": "2023-08-12T09:01:57.395Z"
   },
   {
    "duration": 26,
    "start_time": "2023-08-12T09:01:57.480Z"
   },
   {
    "duration": 27,
    "start_time": "2023-08-12T09:03:29.522Z"
   },
   {
    "duration": 13,
    "start_time": "2023-08-12T09:03:31.580Z"
   },
   {
    "duration": 2342,
    "start_time": "2023-08-12T09:03:40.643Z"
   },
   {
    "duration": 1079,
    "start_time": "2023-08-12T09:03:42.989Z"
   },
   {
    "duration": 13,
    "start_time": "2023-08-12T09:03:44.075Z"
   },
   {
    "duration": 1297,
    "start_time": "2023-08-12T09:03:44.095Z"
   },
   {
    "duration": 8,
    "start_time": "2023-08-12T09:03:45.394Z"
   },
   {
    "duration": 98,
    "start_time": "2023-08-12T09:03:45.406Z"
   },
   {
    "duration": 89,
    "start_time": "2023-08-12T09:03:45.507Z"
   },
   {
    "duration": 75,
    "start_time": "2023-08-12T09:03:45.598Z"
   },
   {
    "duration": 480,
    "start_time": "2023-08-12T09:03:45.678Z"
   },
   {
    "duration": 36,
    "start_time": "2023-08-12T09:03:46.163Z"
   },
   {
    "duration": 211,
    "start_time": "2023-08-12T09:03:46.206Z"
   },
   {
    "duration": 104,
    "start_time": "2023-08-12T09:03:46.419Z"
   },
   {
    "duration": 5101,
    "start_time": "2023-08-12T09:03:46.528Z"
   },
   {
    "duration": 16,
    "start_time": "2023-08-12T09:03:51.649Z"
   },
   {
    "duration": 54,
    "start_time": "2023-08-12T09:03:51.674Z"
   },
   {
    "duration": 1919,
    "start_time": "2023-08-12T09:03:51.730Z"
   },
   {
    "duration": 24,
    "start_time": "2023-08-12T09:03:53.660Z"
   },
   {
    "duration": 98,
    "start_time": "2023-08-12T09:03:53.688Z"
   },
   {
    "duration": 59,
    "start_time": "2023-08-12T09:03:53.790Z"
   },
   {
    "duration": 4,
    "start_time": "2023-08-12T09:03:53.851Z"
   },
   {
    "duration": 84,
    "start_time": "2023-08-12T09:03:53.857Z"
   },
   {
    "duration": 79,
    "start_time": "2023-08-12T09:03:53.946Z"
   },
   {
    "duration": 58,
    "start_time": "2023-08-12T09:03:54.027Z"
   },
   {
    "duration": 12,
    "start_time": "2023-08-12T09:03:54.088Z"
   },
   {
    "duration": 406,
    "start_time": "2023-08-12T09:06:07.500Z"
   },
   {
    "duration": 66465,
    "start_time": "2023-08-12T09:07:49.674Z"
   },
   {
    "duration": 210,
    "start_time": "2023-08-12T09:19:36.411Z"
   },
   {
    "duration": 2122423,
    "start_time": "2023-08-12T09:19:47.510Z"
   },
   {
    "duration": 2056,
    "start_time": "2023-08-12T09:56:18.600Z"
   },
   {
    "duration": 1003,
    "start_time": "2023-08-12T09:56:20.658Z"
   },
   {
    "duration": 7,
    "start_time": "2023-08-12T09:56:21.666Z"
   },
   {
    "duration": 1165,
    "start_time": "2023-08-12T09:56:21.680Z"
   },
   {
    "duration": 6,
    "start_time": "2023-08-12T09:56:22.848Z"
   },
   {
    "duration": 42,
    "start_time": "2023-08-12T09:56:22.856Z"
   },
   {
    "duration": 60,
    "start_time": "2023-08-12T09:56:22.901Z"
   },
   {
    "duration": 10,
    "start_time": "2023-08-12T09:56:22.964Z"
   },
   {
    "duration": 418,
    "start_time": "2023-08-12T09:56:22.977Z"
   },
   {
    "duration": 28,
    "start_time": "2023-08-12T09:56:23.398Z"
   },
   {
    "duration": 91,
    "start_time": "2023-08-12T09:56:23.427Z"
   },
   {
    "duration": 8,
    "start_time": "2023-08-12T09:56:23.520Z"
   },
   {
    "duration": 4577,
    "start_time": "2023-08-12T09:56:23.530Z"
   },
   {
    "duration": 9,
    "start_time": "2023-08-12T09:56:28.111Z"
   },
   {
    "duration": 91,
    "start_time": "2023-08-12T09:56:28.122Z"
   },
   {
    "duration": 1541,
    "start_time": "2023-08-12T09:56:28.218Z"
   },
   {
    "duration": 8,
    "start_time": "2023-08-12T09:56:29.761Z"
   },
   {
    "duration": 34,
    "start_time": "2023-08-12T09:56:29.771Z"
   },
   {
    "duration": 106,
    "start_time": "2023-08-12T09:56:29.810Z"
   },
   {
    "duration": 4,
    "start_time": "2023-08-12T09:56:29.918Z"
   },
   {
    "duration": 65,
    "start_time": "2023-08-12T09:56:29.925Z"
   },
   {
    "duration": 84,
    "start_time": "2023-08-12T09:56:29.993Z"
   },
   {
    "duration": 12,
    "start_time": "2023-08-12T09:56:30.079Z"
   },
   {
    "duration": 75,
    "start_time": "2023-08-12T09:56:30.095Z"
   },
   {
    "duration": 364,
    "start_time": "2023-08-12T09:56:30.172Z"
   },
   {
    "duration": 2095,
    "start_time": "2023-08-12T09:56:43.635Z"
   },
   {
    "duration": 1001,
    "start_time": "2023-08-12T09:56:45.732Z"
   },
   {
    "duration": 10,
    "start_time": "2023-08-12T09:56:46.735Z"
   },
   {
    "duration": 941,
    "start_time": "2023-08-12T09:56:46.746Z"
   },
   {
    "duration": 3,
    "start_time": "2023-08-12T09:56:47.690Z"
   },
   {
    "duration": 97,
    "start_time": "2023-08-12T09:56:47.695Z"
   },
   {
    "duration": 22,
    "start_time": "2023-08-12T09:56:47.796Z"
   },
   {
    "duration": 69,
    "start_time": "2023-08-12T09:56:47.820Z"
   },
   {
    "duration": 339,
    "start_time": "2023-08-12T09:56:47.891Z"
   },
   {
    "duration": 25,
    "start_time": "2023-08-12T09:56:48.231Z"
   },
   {
    "duration": 287,
    "start_time": "2023-08-12T09:56:48.258Z"
   },
   {
    "duration": 11,
    "start_time": "2023-08-12T09:56:48.554Z"
   },
   {
    "duration": 4312,
    "start_time": "2023-08-12T09:56:48.567Z"
   },
   {
    "duration": 7,
    "start_time": "2023-08-12T09:56:52.883Z"
   },
   {
    "duration": 22,
    "start_time": "2023-08-12T09:56:52.892Z"
   },
   {
    "duration": 1540,
    "start_time": "2023-08-12T09:56:52.916Z"
   },
   {
    "duration": 4,
    "start_time": "2023-08-12T09:56:54.458Z"
   },
   {
    "duration": 63,
    "start_time": "2023-08-12T09:56:54.467Z"
   },
   {
    "duration": 101,
    "start_time": "2023-08-12T09:56:54.537Z"
   },
   {
    "duration": 34,
    "start_time": "2023-08-12T09:56:54.641Z"
   },
   {
    "duration": 108,
    "start_time": "2023-08-12T09:56:54.681Z"
   },
   {
    "duration": 29,
    "start_time": "2023-08-12T09:56:54.792Z"
   },
   {
    "duration": 52,
    "start_time": "2023-08-12T09:56:54.824Z"
   },
   {
    "duration": 23,
    "start_time": "2023-08-12T09:56:54.878Z"
   },
   {
    "duration": 552007,
    "start_time": "2023-08-12T09:56:54.903Z"
   },
   {
    "duration": 2558,
    "start_time": "2023-08-12T10:16:54.296Z"
   },
   {
    "duration": 1977,
    "start_time": "2023-08-12T10:17:16.924Z"
   },
   {
    "duration": 8,
    "start_time": "2023-08-12T10:20:34.446Z"
   },
   {
    "duration": 1989,
    "start_time": "2023-08-12T10:21:05.563Z"
   },
   {
    "duration": 1057,
    "start_time": "2023-08-12T10:21:07.555Z"
   },
   {
    "duration": 12,
    "start_time": "2023-08-12T10:21:08.614Z"
   },
   {
    "duration": 995,
    "start_time": "2023-08-12T10:21:08.630Z"
   },
   {
    "duration": 6,
    "start_time": "2023-08-12T10:21:09.631Z"
   },
   {
    "duration": 41,
    "start_time": "2023-08-12T10:21:09.644Z"
   },
   {
    "duration": 13,
    "start_time": "2023-08-12T10:21:09.687Z"
   },
   {
    "duration": 78,
    "start_time": "2023-08-12T10:21:09.703Z"
   },
   {
    "duration": 373,
    "start_time": "2023-08-12T10:21:09.784Z"
   },
   {
    "duration": 22,
    "start_time": "2023-08-12T10:21:10.159Z"
   },
   {
    "duration": 69,
    "start_time": "2023-08-12T10:21:10.184Z"
   },
   {
    "duration": 7,
    "start_time": "2023-08-12T10:21:10.255Z"
   },
   {
    "duration": 4513,
    "start_time": "2023-08-12T10:21:10.265Z"
   },
   {
    "duration": 6,
    "start_time": "2023-08-12T10:21:14.783Z"
   },
   {
    "duration": 62,
    "start_time": "2023-08-12T10:21:14.791Z"
   },
   {
    "duration": 1434,
    "start_time": "2023-08-12T10:21:14.855Z"
   },
   {
    "duration": 4,
    "start_time": "2023-08-12T10:21:16.292Z"
   },
   {
    "duration": 202,
    "start_time": "2023-08-12T10:21:16.298Z"
   },
   {
    "duration": 5,
    "start_time": "2023-08-12T10:21:16.502Z"
   },
   {
    "duration": 162,
    "start_time": "2023-08-12T10:21:16.509Z"
   },
   {
    "duration": 91,
    "start_time": "2023-08-12T10:21:16.675Z"
   },
   {
    "duration": 14,
    "start_time": "2023-08-12T10:21:16.769Z"
   },
   {
    "duration": 41,
    "start_time": "2023-08-12T10:21:16.785Z"
   },
   {
    "duration": 55,
    "start_time": "2023-08-12T10:21:16.829Z"
   },
   {
    "duration": 27,
    "start_time": "2023-08-12T10:21:16.887Z"
   },
   {
    "duration": 58,
    "start_time": "2023-08-12T10:21:16.920Z"
   },
   {
    "duration": 2289,
    "start_time": "2023-08-12T10:21:51.095Z"
   },
   {
    "duration": 1119,
    "start_time": "2023-08-12T10:21:53.388Z"
   },
   {
    "duration": 13,
    "start_time": "2023-08-12T10:21:54.512Z"
   },
   {
    "duration": 1132,
    "start_time": "2023-08-12T10:21:54.533Z"
   },
   {
    "duration": 4,
    "start_time": "2023-08-12T10:21:55.668Z"
   },
   {
    "duration": 19,
    "start_time": "2023-08-12T10:21:55.674Z"
   },
   {
    "duration": 87,
    "start_time": "2023-08-12T10:21:55.696Z"
   },
   {
    "duration": 22,
    "start_time": "2023-08-12T10:21:55.786Z"
   },
   {
    "duration": 375,
    "start_time": "2023-08-12T10:21:55.812Z"
   },
   {
    "duration": 23,
    "start_time": "2023-08-12T10:21:56.192Z"
   },
   {
    "duration": 83,
    "start_time": "2023-08-12T10:21:56.219Z"
   },
   {
    "duration": 21,
    "start_time": "2023-08-12T10:21:56.304Z"
   },
   {
    "duration": 4673,
    "start_time": "2023-08-12T10:21:56.333Z"
   },
   {
    "duration": 9,
    "start_time": "2023-08-12T10:22:01.010Z"
   },
   {
    "duration": 85,
    "start_time": "2023-08-12T10:22:01.021Z"
   },
   {
    "duration": 1638,
    "start_time": "2023-08-12T10:22:01.112Z"
   },
   {
    "duration": 16,
    "start_time": "2023-08-12T10:22:02.752Z"
   },
   {
    "duration": 118,
    "start_time": "2023-08-12T10:22:02.771Z"
   },
   {
    "duration": 136,
    "start_time": "2023-08-12T10:22:02.897Z"
   },
   {
    "duration": 116,
    "start_time": "2023-08-12T10:22:03.040Z"
   },
   {
    "duration": 46,
    "start_time": "2023-08-12T10:22:03.159Z"
   },
   {
    "duration": 82,
    "start_time": "2023-08-12T10:22:03.208Z"
   },
   {
    "duration": 88,
    "start_time": "2023-08-12T10:22:03.292Z"
   },
   {
    "duration": 36,
    "start_time": "2023-08-12T10:22:03.382Z"
   },
   {
    "duration": 25,
    "start_time": "2023-08-12T10:22:22.576Z"
   },
   {
    "duration": 26,
    "start_time": "2023-08-12T10:22:45.105Z"
   },
   {
    "duration": 9,
    "start_time": "2023-08-12T10:23:25.547Z"
   },
   {
    "duration": 11,
    "start_time": "2023-08-12T10:23:42.398Z"
   },
   {
    "duration": 16,
    "start_time": "2023-08-12T10:23:50.637Z"
   },
   {
    "duration": 207,
    "start_time": "2023-08-12T10:24:10.657Z"
   },
   {
    "duration": 6,
    "start_time": "2023-08-12T10:24:17.444Z"
   },
   {
    "duration": 175,
    "start_time": "2023-08-12T10:24:44.093Z"
   },
   {
    "duration": 53,
    "start_time": "2023-08-12T10:24:48.250Z"
   },
   {
    "duration": 57,
    "start_time": "2023-08-12T10:25:01.999Z"
   },
   {
    "duration": 63,
    "start_time": "2023-08-12T10:25:08.448Z"
   },
   {
    "duration": 45,
    "start_time": "2023-08-12T10:25:45.032Z"
   },
   {
    "duration": 114,
    "start_time": "2023-08-12T10:26:26.636Z"
   },
   {
    "duration": 33,
    "start_time": "2023-08-12T10:27:10.867Z"
   },
   {
    "duration": 27,
    "start_time": "2023-08-12T10:27:22.474Z"
   },
   {
    "duration": 10,
    "start_time": "2023-08-12T10:38:39.183Z"
   },
   {
    "duration": 20,
    "start_time": "2023-08-12T10:39:23.544Z"
   },
   {
    "duration": 16,
    "start_time": "2023-08-12T10:39:33.784Z"
   },
   {
    "duration": 2209,
    "start_time": "2023-08-12T10:39:41.528Z"
   },
   {
    "duration": 981,
    "start_time": "2023-08-12T10:39:43.740Z"
   },
   {
    "duration": 8,
    "start_time": "2023-08-12T10:39:44.731Z"
   },
   {
    "duration": 934,
    "start_time": "2023-08-12T10:39:44.741Z"
   },
   {
    "duration": 3,
    "start_time": "2023-08-12T10:39:45.681Z"
   },
   {
    "duration": 20,
    "start_time": "2023-08-12T10:39:45.686Z"
   },
   {
    "duration": 4,
    "start_time": "2023-08-12T10:39:45.709Z"
   },
   {
    "duration": 68,
    "start_time": "2023-08-12T10:39:45.715Z"
   },
   {
    "duration": 345,
    "start_time": "2023-08-12T10:39:45.785Z"
   },
   {
    "duration": 37,
    "start_time": "2023-08-12T10:39:46.132Z"
   },
   {
    "duration": 159,
    "start_time": "2023-08-12T10:39:46.173Z"
   },
   {
    "duration": 67,
    "start_time": "2023-08-12T10:39:46.335Z"
   },
   {
    "duration": 4349,
    "start_time": "2023-08-12T10:39:46.405Z"
   },
   {
    "duration": 5,
    "start_time": "2023-08-12T10:39:50.758Z"
   },
   {
    "duration": 37,
    "start_time": "2023-08-12T10:39:50.765Z"
   },
   {
    "duration": 1570,
    "start_time": "2023-08-12T10:39:50.805Z"
   },
   {
    "duration": 8,
    "start_time": "2023-08-12T10:39:52.381Z"
   },
   {
    "duration": 25,
    "start_time": "2023-08-12T10:39:52.391Z"
   },
   {
    "duration": 78,
    "start_time": "2023-08-12T10:39:52.421Z"
   },
   {
    "duration": 4,
    "start_time": "2023-08-12T10:39:52.502Z"
   },
   {
    "duration": 81,
    "start_time": "2023-08-12T10:39:52.514Z"
   },
   {
    "duration": 24,
    "start_time": "2023-08-12T10:39:52.598Z"
   },
   {
    "duration": 72,
    "start_time": "2023-08-12T10:39:52.624Z"
   },
   {
    "duration": 10,
    "start_time": "2023-08-12T10:39:52.698Z"
   },
   {
    "duration": 80,
    "start_time": "2023-08-12T10:39:52.711Z"
   },
   {
    "duration": 40,
    "start_time": "2023-08-12T10:41:07.948Z"
   },
   {
    "duration": 187,
    "start_time": "2023-08-12T10:41:16.191Z"
   },
   {
    "duration": 20,
    "start_time": "2023-08-12T10:41:34.061Z"
   },
   {
    "duration": 1966,
    "start_time": "2023-08-12T10:42:07.475Z"
   },
   {
    "duration": 1100,
    "start_time": "2023-08-12T10:42:09.453Z"
   },
   {
    "duration": 4,
    "start_time": "2023-08-12T10:42:10.555Z"
   },
   {
    "duration": 1200,
    "start_time": "2023-08-12T10:42:10.561Z"
   },
   {
    "duration": 6,
    "start_time": "2023-08-12T10:42:11.766Z"
   },
   {
    "duration": 41,
    "start_time": "2023-08-12T10:42:11.775Z"
   },
   {
    "duration": 148,
    "start_time": "2023-08-12T10:42:11.819Z"
   },
   {
    "duration": 206,
    "start_time": "2023-08-12T10:42:11.970Z"
   },
   {
    "duration": 559,
    "start_time": "2023-08-12T10:42:12.178Z"
   },
   {
    "duration": 31,
    "start_time": "2023-08-12T10:42:12.740Z"
   },
   {
    "duration": 76,
    "start_time": "2023-08-12T10:42:12.773Z"
   },
   {
    "duration": 27,
    "start_time": "2023-08-12T10:42:12.852Z"
   },
   {
    "duration": 4877,
    "start_time": "2023-08-12T10:42:12.882Z"
   },
   {
    "duration": 9,
    "start_time": "2023-08-12T10:42:17.765Z"
   },
   {
    "duration": 275,
    "start_time": "2023-08-12T10:42:17.778Z"
   },
   {
    "duration": 1536,
    "start_time": "2023-08-12T10:42:18.058Z"
   },
   {
    "duration": 8,
    "start_time": "2023-08-12T10:42:19.597Z"
   },
   {
    "duration": 62,
    "start_time": "2023-08-12T10:42:19.607Z"
   },
   {
    "duration": 61,
    "start_time": "2023-08-12T10:42:19.671Z"
   },
   {
    "duration": 78,
    "start_time": "2023-08-12T10:42:19.738Z"
   },
   {
    "duration": 133,
    "start_time": "2023-08-12T10:42:19.819Z"
   },
   {
    "duration": 392,
    "start_time": "2023-08-12T10:42:19.955Z"
   },
   {
    "duration": 117,
    "start_time": "2023-08-12T10:42:20.350Z"
   },
   {
    "duration": 225,
    "start_time": "2023-08-12T10:42:20.470Z"
   },
   {
    "duration": 343,
    "start_time": "2023-08-12T10:42:20.698Z"
   },
   {
    "duration": 503487,
    "start_time": "2023-08-12T10:42:50.900Z"
   },
   {
    "duration": 2050,
    "start_time": "2023-08-12T11:00:42.295Z"
   },
   {
    "duration": 972,
    "start_time": "2023-08-12T11:00:44.348Z"
   },
   {
    "duration": 7,
    "start_time": "2023-08-12T11:00:45.326Z"
   },
   {
    "duration": 1109,
    "start_time": "2023-08-12T11:00:45.338Z"
   },
   {
    "duration": 6,
    "start_time": "2023-08-12T11:00:46.456Z"
   },
   {
    "duration": 20,
    "start_time": "2023-08-12T11:00:46.463Z"
   },
   {
    "duration": 7,
    "start_time": "2023-08-12T11:00:46.485Z"
   },
   {
    "duration": 11,
    "start_time": "2023-08-12T11:00:46.495Z"
   },
   {
    "duration": 316,
    "start_time": "2023-08-12T11:00:46.511Z"
   },
   {
    "duration": 22,
    "start_time": "2023-08-12T11:00:46.834Z"
   },
   {
    "duration": 33,
    "start_time": "2023-08-12T11:00:46.858Z"
   },
   {
    "duration": 27,
    "start_time": "2023-08-12T11:00:46.893Z"
   },
   {
    "duration": 4633,
    "start_time": "2023-08-12T11:00:46.922Z"
   },
   {
    "duration": 8,
    "start_time": "2023-08-12T11:00:51.558Z"
   },
   {
    "duration": 15,
    "start_time": "2023-08-12T11:00:51.568Z"
   },
   {
    "duration": 1317,
    "start_time": "2023-08-12T11:00:51.586Z"
   },
   {
    "duration": 22,
    "start_time": "2023-08-12T11:00:52.904Z"
   },
   {
    "duration": 20,
    "start_time": "2023-08-12T11:00:52.927Z"
   },
   {
    "duration": 35,
    "start_time": "2023-08-12T11:00:52.949Z"
   },
   {
    "duration": 21,
    "start_time": "2023-08-12T11:00:52.986Z"
   },
   {
    "duration": 24,
    "start_time": "2023-08-12T11:00:53.008Z"
   },
   {
    "duration": 22,
    "start_time": "2023-08-12T11:00:53.035Z"
   },
   {
    "duration": 15,
    "start_time": "2023-08-12T11:00:53.059Z"
   },
   {
    "duration": 17,
    "start_time": "2023-08-12T11:00:53.076Z"
   },
   {
    "duration": 37,
    "start_time": "2023-08-12T11:00:53.095Z"
   },
   {
    "duration": 137,
    "start_time": "2023-08-12T11:08:20.401Z"
   },
   {
    "duration": 37,
    "start_time": "2023-08-12T11:09:46.162Z"
   },
   {
    "duration": 7035,
    "start_time": "2023-08-12T11:14:59.763Z"
   },
   {
    "duration": 115,
    "start_time": "2023-08-12T11:22:18.238Z"
   },
   {
    "duration": 17,
    "start_time": "2023-08-12T11:22:22.956Z"
   },
   {
    "duration": 66,
    "start_time": "2023-08-12T11:22:34.190Z"
   },
   {
    "duration": 15,
    "start_time": "2023-08-12T11:24:08.483Z"
   },
   {
    "duration": 48,
    "start_time": "2023-08-12T11:24:12.829Z"
   },
   {
    "duration": 27678,
    "start_time": "2023-08-12T11:24:27.987Z"
   },
   {
    "duration": 27877,
    "start_time": "2023-08-12T11:25:46.652Z"
   },
   {
    "duration": 1029,
    "start_time": "2023-08-12T11:26:35.709Z"
   },
   {
    "duration": 28710,
    "start_time": "2023-08-12T11:27:42.602Z"
   },
   {
    "duration": 2068,
    "start_time": "2023-08-12T11:28:33.129Z"
   },
   {
    "duration": 1062,
    "start_time": "2023-08-12T11:28:35.201Z"
   },
   {
    "duration": 4,
    "start_time": "2023-08-12T11:28:36.264Z"
   },
   {
    "duration": 1003,
    "start_time": "2023-08-12T11:28:36.271Z"
   },
   {
    "duration": 4,
    "start_time": "2023-08-12T11:28:37.278Z"
   },
   {
    "duration": 46,
    "start_time": "2023-08-12T11:28:37.285Z"
   },
   {
    "duration": 49,
    "start_time": "2023-08-12T11:28:37.333Z"
   },
   {
    "duration": 7,
    "start_time": "2023-08-12T11:28:37.385Z"
   },
   {
    "duration": 295,
    "start_time": "2023-08-12T11:28:37.394Z"
   },
   {
    "duration": 36,
    "start_time": "2023-08-12T11:28:37.691Z"
   },
   {
    "duration": 41,
    "start_time": "2023-08-12T11:28:37.738Z"
   },
   {
    "duration": 5,
    "start_time": "2023-08-12T11:28:37.781Z"
   },
   {
    "duration": 4251,
    "start_time": "2023-08-12T11:28:37.788Z"
   },
   {
    "duration": 6,
    "start_time": "2023-08-12T11:28:42.051Z"
   },
   {
    "duration": 38,
    "start_time": "2023-08-12T11:28:42.059Z"
   },
   {
    "duration": 1466,
    "start_time": "2023-08-12T11:28:42.099Z"
   },
   {
    "duration": 5,
    "start_time": "2023-08-12T11:28:43.568Z"
   },
   {
    "duration": 7,
    "start_time": "2023-08-12T11:28:43.575Z"
   },
   {
    "duration": 36,
    "start_time": "2023-08-12T11:28:43.584Z"
   },
   {
    "duration": 24,
    "start_time": "2023-08-12T11:28:43.622Z"
   },
   {
    "duration": 32,
    "start_time": "2023-08-12T11:28:43.649Z"
   },
   {
    "duration": 11,
    "start_time": "2023-08-12T11:28:43.683Z"
   },
   {
    "duration": 81,
    "start_time": "2023-08-12T11:28:43.697Z"
   },
   {
    "duration": 11,
    "start_time": "2023-08-12T11:28:43.780Z"
   },
   {
    "duration": 22,
    "start_time": "2023-08-12T11:28:43.794Z"
   },
   {
    "duration": 487253,
    "start_time": "2023-08-12T11:28:43.818Z"
   },
   {
    "duration": 516684,
    "start_time": "2023-08-12T11:36:51.073Z"
   },
   {
    "duration": 4,
    "start_time": "2023-08-12T11:46:41.850Z"
   },
   {
    "duration": 217,
    "start_time": "2023-08-12T11:48:28.347Z"
   },
   {
    "duration": 7,
    "start_time": "2023-08-12T11:52:19.649Z"
   },
   {
    "duration": 6193,
    "start_time": "2023-08-12T11:54:02.842Z"
   },
   {
    "duration": 5372,
    "start_time": "2023-08-12T11:56:45.759Z"
   },
   {
    "duration": 5,
    "start_time": "2023-08-12T11:58:14.177Z"
   },
   {
    "duration": 99,
    "start_time": "2023-08-12T12:11:26.251Z"
   },
   {
    "duration": 79,
    "start_time": "2023-08-12T12:11:38.325Z"
   },
   {
    "duration": 94,
    "start_time": "2023-08-12T12:11:41.304Z"
   },
   {
    "duration": 25,
    "start_time": "2023-08-12T12:11:47.695Z"
   },
   {
    "duration": 26,
    "start_time": "2023-08-12T12:12:05.280Z"
   },
   {
    "duration": 11,
    "start_time": "2023-08-12T12:12:37.415Z"
   },
   {
    "duration": 10,
    "start_time": "2023-08-12T12:18:23.134Z"
   },
   {
    "duration": 16,
    "start_time": "2023-08-12T12:18:39.378Z"
   },
   {
    "duration": 62,
    "start_time": "2023-08-12T12:19:04.079Z"
   },
   {
    "duration": 10054,
    "start_time": "2023-08-12T12:24:10.532Z"
   },
   {
    "duration": 10105,
    "start_time": "2023-08-12T12:26:13.021Z"
   },
   {
    "duration": 10010,
    "start_time": "2023-08-12T12:27:08.753Z"
   },
   {
    "duration": 9918,
    "start_time": "2023-08-12T12:28:13.303Z"
   },
   {
    "duration": 10421,
    "start_time": "2023-08-12T12:29:29.122Z"
   },
   {
    "duration": 15050,
    "start_time": "2023-08-12T12:29:58.124Z"
   },
   {
    "duration": 5,
    "start_time": "2023-08-12T12:31:56.078Z"
   },
   {
    "duration": 9,
    "start_time": "2023-08-12T12:36:29.468Z"
   },
   {
    "duration": 12,
    "start_time": "2023-08-12T12:37:25.107Z"
   },
   {
    "duration": 4,
    "start_time": "2023-08-12T12:37:57.858Z"
   },
   {
    "duration": 95,
    "start_time": "2023-08-12T12:39:26.401Z"
   },
   {
    "duration": 4,
    "start_time": "2023-08-12T12:39:37.557Z"
   },
   {
    "duration": 4,
    "start_time": "2023-08-12T13:45:56.787Z"
   },
   {
    "duration": 4,
    "start_time": "2023-08-12T13:50:16.114Z"
   },
   {
    "duration": 4,
    "start_time": "2023-08-12T13:50:33.481Z"
   },
   {
    "duration": 1655,
    "start_time": "2023-08-12T14:16:01.420Z"
   },
   {
    "duration": 927,
    "start_time": "2023-08-12T14:16:03.077Z"
   },
   {
    "duration": 5,
    "start_time": "2023-08-12T14:16:04.006Z"
   },
   {
    "duration": 810,
    "start_time": "2023-08-12T14:16:04.012Z"
   },
   {
    "duration": 3,
    "start_time": "2023-08-12T14:16:04.824Z"
   },
   {
    "duration": 19,
    "start_time": "2023-08-12T14:16:04.829Z"
   },
   {
    "duration": 7,
    "start_time": "2023-08-12T14:16:04.850Z"
   },
   {
    "duration": 10,
    "start_time": "2023-08-12T14:16:04.859Z"
   },
   {
    "duration": 278,
    "start_time": "2023-08-12T14:16:04.870Z"
   },
   {
    "duration": 17,
    "start_time": "2023-08-12T14:16:05.150Z"
   },
   {
    "duration": 55,
    "start_time": "2023-08-12T14:16:05.169Z"
   },
   {
    "duration": 11,
    "start_time": "2023-08-12T14:16:05.227Z"
   },
   {
    "duration": 3539,
    "start_time": "2023-08-12T14:16:05.239Z"
   },
   {
    "duration": 5,
    "start_time": "2023-08-12T14:16:08.783Z"
   },
   {
    "duration": 52,
    "start_time": "2023-08-12T14:16:08.791Z"
   },
   {
    "duration": 1134,
    "start_time": "2023-08-12T14:16:08.845Z"
   },
   {
    "duration": 19,
    "start_time": "2023-08-12T14:16:09.981Z"
   },
   {
    "duration": 71,
    "start_time": "2023-08-12T14:16:10.002Z"
   },
   {
    "duration": 53,
    "start_time": "2023-08-12T14:16:10.075Z"
   },
   {
    "duration": 54,
    "start_time": "2023-08-12T14:16:10.130Z"
   },
   {
    "duration": 33,
    "start_time": "2023-08-12T14:16:10.187Z"
   },
   {
    "duration": 41,
    "start_time": "2023-08-12T14:16:10.222Z"
   },
   {
    "duration": 31,
    "start_time": "2023-08-12T14:16:10.265Z"
   },
   {
    "duration": 41,
    "start_time": "2023-08-12T14:16:10.298Z"
   },
   {
    "duration": 55,
    "start_time": "2023-08-12T14:16:10.341Z"
   },
   {
    "duration": 31,
    "start_time": "2023-08-12T14:16:10.398Z"
   },
   {
    "duration": 0,
    "start_time": "2023-08-12T14:16:10.431Z"
   },
   {
    "duration": 0,
    "start_time": "2023-08-12T14:16:10.434Z"
   },
   {
    "duration": 0,
    "start_time": "2023-08-12T14:16:10.435Z"
   },
   {
    "duration": 0,
    "start_time": "2023-08-12T14:16:10.436Z"
   },
   {
    "duration": 0,
    "start_time": "2023-08-12T14:16:10.437Z"
   },
   {
    "duration": 0,
    "start_time": "2023-08-12T14:16:10.438Z"
   },
   {
    "duration": 0,
    "start_time": "2023-08-12T14:16:10.440Z"
   },
   {
    "duration": 0,
    "start_time": "2023-08-12T14:16:10.440Z"
   },
   {
    "duration": 0,
    "start_time": "2023-08-12T14:16:10.441Z"
   },
   {
    "duration": 0,
    "start_time": "2023-08-12T14:16:10.443Z"
   },
   {
    "duration": 1624,
    "start_time": "2023-08-12T14:16:58.363Z"
   },
   {
    "duration": 843,
    "start_time": "2023-08-12T14:16:59.990Z"
   },
   {
    "duration": 6,
    "start_time": "2023-08-12T14:17:00.835Z"
   },
   {
    "duration": 980,
    "start_time": "2023-08-12T14:17:00.843Z"
   },
   {
    "duration": 3,
    "start_time": "2023-08-12T14:17:01.826Z"
   },
   {
    "duration": 385,
    "start_time": "2023-08-12T14:17:01.830Z"
   },
   {
    "duration": 373,
    "start_time": "2023-08-12T14:17:02.218Z"
   },
   {
    "duration": 247,
    "start_time": "2023-08-12T14:17:02.593Z"
   },
   {
    "duration": 472,
    "start_time": "2023-08-12T14:17:02.842Z"
   },
   {
    "duration": 76,
    "start_time": "2023-08-12T14:17:03.316Z"
   },
   {
    "duration": 115,
    "start_time": "2023-08-12T14:17:03.394Z"
   },
   {
    "duration": 30,
    "start_time": "2023-08-12T14:17:03.511Z"
   },
   {
    "duration": 3433,
    "start_time": "2023-08-12T14:17:03.543Z"
   },
   {
    "duration": 5,
    "start_time": "2023-08-12T14:17:06.980Z"
   },
   {
    "duration": 22,
    "start_time": "2023-08-12T14:17:06.987Z"
   },
   {
    "duration": 1267,
    "start_time": "2023-08-12T14:17:07.011Z"
   },
   {
    "duration": 8,
    "start_time": "2023-08-12T14:17:08.281Z"
   },
   {
    "duration": 75,
    "start_time": "2023-08-12T14:17:08.292Z"
   },
   {
    "duration": 49,
    "start_time": "2023-08-12T14:17:08.369Z"
   },
   {
    "duration": 26,
    "start_time": "2023-08-12T14:17:08.420Z"
   },
   {
    "duration": 48,
    "start_time": "2023-08-12T14:17:08.448Z"
   },
   {
    "duration": 134,
    "start_time": "2023-08-12T14:17:08.498Z"
   },
   {
    "duration": 140,
    "start_time": "2023-08-12T14:17:08.634Z"
   },
   {
    "duration": 30,
    "start_time": "2023-08-12T14:17:08.776Z"
   },
   {
    "duration": 45,
    "start_time": "2023-08-12T14:17:08.808Z"
   },
   {
    "duration": 15,
    "start_time": "2023-08-12T14:17:08.858Z"
   },
   {
    "duration": 0,
    "start_time": "2023-08-12T14:17:08.874Z"
   },
   {
    "duration": 0,
    "start_time": "2023-08-12T14:17:08.877Z"
   },
   {
    "duration": 0,
    "start_time": "2023-08-12T14:17:08.879Z"
   },
   {
    "duration": 0,
    "start_time": "2023-08-12T14:17:08.880Z"
   },
   {
    "duration": 1,
    "start_time": "2023-08-12T14:17:08.881Z"
   },
   {
    "duration": 0,
    "start_time": "2023-08-12T14:17:08.883Z"
   },
   {
    "duration": 0,
    "start_time": "2023-08-12T14:17:08.885Z"
   },
   {
    "duration": 0,
    "start_time": "2023-08-12T14:17:08.886Z"
   },
   {
    "duration": 0,
    "start_time": "2023-08-12T14:17:08.888Z"
   },
   {
    "duration": 0,
    "start_time": "2023-08-12T14:17:08.889Z"
   },
   {
    "duration": 5,
    "start_time": "2023-08-12T14:17:15.784Z"
   },
   {
    "duration": 1552,
    "start_time": "2023-08-12T14:18:49.398Z"
   },
   {
    "duration": 820,
    "start_time": "2023-08-12T14:18:50.952Z"
   },
   {
    "duration": 4,
    "start_time": "2023-08-12T14:18:51.774Z"
   },
   {
    "duration": 768,
    "start_time": "2023-08-12T14:18:51.780Z"
   },
   {
    "duration": 3,
    "start_time": "2023-08-12T14:18:52.550Z"
   },
   {
    "duration": 59,
    "start_time": "2023-08-12T14:18:52.555Z"
   },
   {
    "duration": 7,
    "start_time": "2023-08-12T14:18:52.615Z"
   },
   {
    "duration": 41,
    "start_time": "2023-08-12T14:18:52.623Z"
   },
   {
    "duration": 256,
    "start_time": "2023-08-12T14:18:52.666Z"
   },
   {
    "duration": 16,
    "start_time": "2023-08-12T14:18:52.924Z"
   },
   {
    "duration": 33,
    "start_time": "2023-08-12T14:18:52.942Z"
   },
   {
    "duration": 5,
    "start_time": "2023-08-12T14:18:52.977Z"
   },
   {
    "duration": 3463,
    "start_time": "2023-08-12T14:18:53.008Z"
   },
   {
    "duration": 4,
    "start_time": "2023-08-12T14:18:56.474Z"
   },
   {
    "duration": 9,
    "start_time": "2023-08-12T14:18:56.480Z"
   },
   {
    "duration": 1281,
    "start_time": "2023-08-12T14:18:56.491Z"
   },
   {
    "duration": 5,
    "start_time": "2023-08-12T14:18:57.774Z"
   },
   {
    "duration": 56,
    "start_time": "2023-08-12T14:18:57.780Z"
   },
   {
    "duration": 63,
    "start_time": "2023-08-12T14:18:57.839Z"
   },
   {
    "duration": 23,
    "start_time": "2023-08-12T14:18:57.905Z"
   },
   {
    "duration": 21,
    "start_time": "2023-08-12T14:18:57.930Z"
   },
   {
    "duration": 3,
    "start_time": "2023-08-12T14:18:57.953Z"
   },
   {
    "duration": 17,
    "start_time": "2023-08-12T14:18:57.958Z"
   },
   {
    "duration": 35,
    "start_time": "2023-08-12T14:18:57.978Z"
   },
   {
    "duration": 17,
    "start_time": "2023-08-12T14:18:58.016Z"
   },
   {
    "duration": 419779,
    "start_time": "2023-08-12T14:18:58.035Z"
   },
   {
    "duration": 425844,
    "start_time": "2023-08-12T14:25:57.816Z"
   },
   {
    "duration": 5511,
    "start_time": "2023-08-12T14:33:03.662Z"
   },
   {
    "duration": 5429,
    "start_time": "2023-08-12T14:33:09.175Z"
   },
   {
    "duration": 9,
    "start_time": "2023-08-12T14:33:14.614Z"
   },
   {
    "duration": 11554,
    "start_time": "2023-08-12T14:33:14.629Z"
   },
   {
    "duration": 17746,
    "start_time": "2023-08-12T14:33:26.185Z"
   },
   {
    "duration": 5,
    "start_time": "2023-08-12T14:33:43.933Z"
   },
   {
    "duration": 33,
    "start_time": "2023-08-12T14:33:43.940Z"
   },
   {
    "duration": 30,
    "start_time": "2023-08-12T14:33:43.975Z"
   },
   {
    "duration": 47,
    "start_time": "2023-08-12T14:33:44.007Z"
   },
   {
    "duration": 14,
    "start_time": "2023-08-13T08:58:09.486Z"
   },
   {
    "duration": 213,
    "start_time": "2023-08-13T08:58:16.260Z"
   },
   {
    "duration": 1667,
    "start_time": "2023-08-13T17:33:15.495Z"
   },
   {
    "duration": 2130,
    "start_time": "2023-08-13T17:34:55.240Z"
   },
   {
    "duration": 297,
    "start_time": "2023-08-13T17:36:31.619Z"
   },
   {
    "duration": 3,
    "start_time": "2023-08-13T17:36:51.661Z"
   },
   {
    "duration": 11,
    "start_time": "2023-08-13T17:36:54.697Z"
   },
   {
    "duration": 946,
    "start_time": "2023-08-13T17:58:24.312Z"
   },
   {
    "duration": 4,
    "start_time": "2023-08-13T17:58:28.797Z"
   },
   {
    "duration": 586,
    "start_time": "2023-08-13T17:58:29.328Z"
   },
   {
    "duration": 1005,
    "start_time": "2023-08-13T17:59:59.061Z"
   },
   {
    "duration": 3,
    "start_time": "2023-08-13T18:00:03.003Z"
   },
   {
    "duration": 623,
    "start_time": "2023-08-13T18:00:03.859Z"
   },
   {
    "duration": 2,
    "start_time": "2023-08-13T18:00:10.580Z"
   },
   {
    "duration": 8,
    "start_time": "2023-08-13T18:00:11.606Z"
   },
   {
    "duration": 1283,
    "start_time": "2023-08-13T18:00:20.712Z"
   },
   {
    "duration": 960,
    "start_time": "2023-08-13T18:00:21.997Z"
   },
   {
    "duration": 2,
    "start_time": "2023-08-13T18:00:22.959Z"
   },
   {
    "duration": 608,
    "start_time": "2023-08-13T18:00:22.963Z"
   },
   {
    "duration": 3,
    "start_time": "2023-08-13T18:00:23.572Z"
   },
   {
    "duration": 18,
    "start_time": "2023-08-13T18:00:23.576Z"
   },
   {
    "duration": 10,
    "start_time": "2023-08-13T18:00:23.595Z"
   },
   {
    "duration": 15,
    "start_time": "2023-08-13T18:00:23.606Z"
   },
   {
    "duration": 207,
    "start_time": "2023-08-13T18:00:23.622Z"
   },
   {
    "duration": 11,
    "start_time": "2023-08-13T18:00:23.832Z"
   },
   {
    "duration": 20,
    "start_time": "2023-08-13T18:00:23.844Z"
   },
   {
    "duration": 5,
    "start_time": "2023-08-13T18:00:23.865Z"
   },
   {
    "duration": 3471,
    "start_time": "2023-08-13T18:00:23.871Z"
   },
   {
    "duration": 4,
    "start_time": "2023-08-13T18:00:27.344Z"
   },
   {
    "duration": 13,
    "start_time": "2023-08-13T18:00:27.350Z"
   },
   {
    "duration": 1064,
    "start_time": "2023-08-13T18:00:27.364Z"
   },
   {
    "duration": 3,
    "start_time": "2023-08-13T18:00:28.429Z"
   },
   {
    "duration": 14,
    "start_time": "2023-08-13T18:00:28.434Z"
   },
   {
    "duration": 153,
    "start_time": "2023-08-13T18:00:28.450Z"
   },
   {
    "duration": 0,
    "start_time": "2023-08-13T18:00:28.605Z"
   },
   {
    "duration": 0,
    "start_time": "2023-08-13T18:00:28.606Z"
   },
   {
    "duration": 0,
    "start_time": "2023-08-13T18:00:28.607Z"
   },
   {
    "duration": 0,
    "start_time": "2023-08-13T18:00:28.609Z"
   },
   {
    "duration": 0,
    "start_time": "2023-08-13T18:00:28.610Z"
   },
   {
    "duration": 0,
    "start_time": "2023-08-13T18:00:28.611Z"
   },
   {
    "duration": 0,
    "start_time": "2023-08-13T18:00:28.613Z"
   },
   {
    "duration": 0,
    "start_time": "2023-08-13T18:00:28.614Z"
   },
   {
    "duration": 0,
    "start_time": "2023-08-13T18:00:28.615Z"
   },
   {
    "duration": 1,
    "start_time": "2023-08-13T18:00:28.616Z"
   },
   {
    "duration": 0,
    "start_time": "2023-08-13T18:00:28.618Z"
   },
   {
    "duration": 0,
    "start_time": "2023-08-13T18:00:28.620Z"
   },
   {
    "duration": 0,
    "start_time": "2023-08-13T18:00:28.621Z"
   },
   {
    "duration": 0,
    "start_time": "2023-08-13T18:00:28.622Z"
   },
   {
    "duration": 0,
    "start_time": "2023-08-13T18:00:28.624Z"
   },
   {
    "duration": 0,
    "start_time": "2023-08-13T18:00:28.625Z"
   },
   {
    "duration": 0,
    "start_time": "2023-08-13T18:00:28.627Z"
   },
   {
    "duration": 0,
    "start_time": "2023-08-13T18:00:28.628Z"
   },
   {
    "duration": 0,
    "start_time": "2023-08-13T18:00:28.629Z"
   },
   {
    "duration": 1375,
    "start_time": "2023-08-13T18:01:21.991Z"
   },
   {
    "duration": 962,
    "start_time": "2023-08-13T18:01:23.368Z"
   },
   {
    "duration": 3,
    "start_time": "2023-08-13T18:01:24.331Z"
   },
   {
    "duration": 615,
    "start_time": "2023-08-13T18:01:24.336Z"
   },
   {
    "duration": 3,
    "start_time": "2023-08-13T18:01:24.953Z"
   },
   {
    "duration": 8,
    "start_time": "2023-08-13T18:01:24.957Z"
   },
   {
    "duration": 4,
    "start_time": "2023-08-13T18:01:24.966Z"
   },
   {
    "duration": 9,
    "start_time": "2023-08-13T18:01:24.971Z"
   },
   {
    "duration": 248,
    "start_time": "2023-08-13T18:01:24.982Z"
   },
   {
    "duration": 13,
    "start_time": "2023-08-13T18:01:25.231Z"
   },
   {
    "duration": 27,
    "start_time": "2023-08-13T18:01:25.245Z"
   },
   {
    "duration": 5,
    "start_time": "2023-08-13T18:01:25.273Z"
   },
   {
    "duration": 3765,
    "start_time": "2023-08-13T18:01:25.279Z"
   },
   {
    "duration": 4,
    "start_time": "2023-08-13T18:01:29.048Z"
   },
   {
    "duration": 26,
    "start_time": "2023-08-13T18:01:29.054Z"
   },
   {
    "duration": 1059,
    "start_time": "2023-08-13T18:01:29.082Z"
   },
   {
    "duration": 4,
    "start_time": "2023-08-13T18:01:30.143Z"
   },
   {
    "duration": 18,
    "start_time": "2023-08-13T18:01:30.148Z"
   },
   {
    "duration": 38,
    "start_time": "2023-08-13T18:01:30.167Z"
   },
   {
    "duration": 32,
    "start_time": "2023-08-13T18:01:30.206Z"
   },
   {
    "duration": 40,
    "start_time": "2023-08-13T18:01:30.239Z"
   },
   {
    "duration": 17,
    "start_time": "2023-08-13T18:01:30.280Z"
   },
   {
    "duration": 44,
    "start_time": "2023-08-13T18:01:30.299Z"
   },
   {
    "duration": 32,
    "start_time": "2023-08-13T18:01:30.344Z"
   },
   {
    "duration": 67,
    "start_time": "2023-08-13T18:01:30.378Z"
   },
   {
    "duration": 39,
    "start_time": "2023-08-13T18:01:30.447Z"
   },
   {
    "duration": 16319,
    "start_time": "2023-08-13T18:01:30.488Z"
   },
   {
    "duration": 0,
    "start_time": "2023-08-13T18:01:46.809Z"
   },
   {
    "duration": 0,
    "start_time": "2023-08-13T18:01:46.810Z"
   },
   {
    "duration": 0,
    "start_time": "2023-08-13T18:01:46.811Z"
   },
   {
    "duration": 0,
    "start_time": "2023-08-13T18:01:46.811Z"
   },
   {
    "duration": 0,
    "start_time": "2023-08-13T18:01:46.813Z"
   },
   {
    "duration": 0,
    "start_time": "2023-08-13T18:01:46.814Z"
   },
   {
    "duration": 0,
    "start_time": "2023-08-13T18:01:46.815Z"
   },
   {
    "duration": 0,
    "start_time": "2023-08-13T18:01:46.815Z"
   },
   {
    "duration": 0,
    "start_time": "2023-08-13T18:01:46.816Z"
   },
   {
    "duration": 0,
    "start_time": "2023-08-13T18:01:46.818Z"
   },
   {
    "duration": 0,
    "start_time": "2023-08-13T18:01:46.819Z"
   },
   {
    "duration": 5,
    "start_time": "2023-08-13T18:17:25.573Z"
   },
   {
    "duration": 1207,
    "start_time": "2023-08-13T18:17:26.577Z"
   },
   {
    "duration": 1255,
    "start_time": "2023-08-13T18:17:38.731Z"
   },
   {
    "duration": 875,
    "start_time": "2023-08-13T18:17:39.988Z"
   },
   {
    "duration": 3,
    "start_time": "2023-08-13T18:17:40.864Z"
   },
   {
    "duration": 566,
    "start_time": "2023-08-13T18:17:40.868Z"
   },
   {
    "duration": 3,
    "start_time": "2023-08-13T18:17:41.435Z"
   },
   {
    "duration": 8,
    "start_time": "2023-08-13T18:17:41.439Z"
   },
   {
    "duration": 9,
    "start_time": "2023-08-13T18:17:41.448Z"
   },
   {
    "duration": 6,
    "start_time": "2023-08-13T18:17:41.458Z"
   },
   {
    "duration": 220,
    "start_time": "2023-08-13T18:17:41.466Z"
   },
   {
    "duration": 13,
    "start_time": "2023-08-13T18:17:41.689Z"
   },
   {
    "duration": 21,
    "start_time": "2023-08-13T18:17:41.704Z"
   },
   {
    "duration": 4,
    "start_time": "2023-08-13T18:17:41.727Z"
   },
   {
    "duration": 1543,
    "start_time": "2023-08-13T18:17:41.732Z"
   },
   {
    "duration": 0,
    "start_time": "2023-08-13T18:17:43.276Z"
   },
   {
    "duration": 0,
    "start_time": "2023-08-13T18:17:43.278Z"
   },
   {
    "duration": 0,
    "start_time": "2023-08-13T18:17:43.278Z"
   },
   {
    "duration": 0,
    "start_time": "2023-08-13T18:17:43.279Z"
   },
   {
    "duration": 0,
    "start_time": "2023-08-13T18:17:43.280Z"
   },
   {
    "duration": 0,
    "start_time": "2023-08-13T18:17:43.281Z"
   },
   {
    "duration": 0,
    "start_time": "2023-08-13T18:17:43.282Z"
   },
   {
    "duration": 0,
    "start_time": "2023-08-13T18:17:43.283Z"
   },
   {
    "duration": 0,
    "start_time": "2023-08-13T18:17:43.284Z"
   },
   {
    "duration": 0,
    "start_time": "2023-08-13T18:17:43.284Z"
   },
   {
    "duration": 0,
    "start_time": "2023-08-13T18:17:43.285Z"
   },
   {
    "duration": 0,
    "start_time": "2023-08-13T18:17:43.286Z"
   },
   {
    "duration": 0,
    "start_time": "2023-08-13T18:17:43.287Z"
   },
   {
    "duration": 0,
    "start_time": "2023-08-13T18:17:43.288Z"
   },
   {
    "duration": 0,
    "start_time": "2023-08-13T18:17:43.289Z"
   },
   {
    "duration": 0,
    "start_time": "2023-08-13T18:17:43.290Z"
   },
   {
    "duration": 0,
    "start_time": "2023-08-13T18:17:43.291Z"
   },
   {
    "duration": 0,
    "start_time": "2023-08-13T18:17:43.292Z"
   },
   {
    "duration": 0,
    "start_time": "2023-08-13T18:17:43.293Z"
   },
   {
    "duration": 0,
    "start_time": "2023-08-13T18:17:43.294Z"
   },
   {
    "duration": 0,
    "start_time": "2023-08-13T18:17:43.295Z"
   },
   {
    "duration": 0,
    "start_time": "2023-08-13T18:17:43.296Z"
   },
   {
    "duration": 0,
    "start_time": "2023-08-13T18:17:43.297Z"
   },
   {
    "duration": 0,
    "start_time": "2023-08-13T18:17:43.298Z"
   },
   {
    "duration": 0,
    "start_time": "2023-08-13T18:17:43.299Z"
   },
   {
    "duration": 4,
    "start_time": "2023-08-13T18:18:55.467Z"
   },
   {
    "duration": 3146,
    "start_time": "2023-08-13T18:18:55.981Z"
   },
   {
    "duration": 5,
    "start_time": "2023-08-13T18:19:41.301Z"
   },
   {
    "duration": 561,
    "start_time": "2023-08-13T18:19:41.763Z"
   },
   {
    "duration": 6,
    "start_time": "2023-08-13T18:21:08.087Z"
   },
   {
    "duration": 653,
    "start_time": "2023-08-13T18:21:08.488Z"
   },
   {
    "duration": 5,
    "start_time": "2023-08-13T18:21:22.916Z"
   },
   {
    "duration": 751,
    "start_time": "2023-08-13T18:21:23.368Z"
   },
   {
    "duration": 6,
    "start_time": "2023-08-13T18:21:52.120Z"
   },
   {
    "duration": 21,
    "start_time": "2023-08-13T18:21:52.683Z"
   },
   {
    "duration": 7,
    "start_time": "2023-08-13T18:22:18.071Z"
   },
   {
    "duration": 736,
    "start_time": "2023-08-13T18:22:18.526Z"
   },
   {
    "duration": 5,
    "start_time": "2023-08-13T18:22:48.241Z"
   },
   {
    "duration": 651,
    "start_time": "2023-08-13T18:22:48.583Z"
   },
   {
    "duration": 5,
    "start_time": "2023-08-13T18:23:04.661Z"
   },
   {
    "duration": 3400,
    "start_time": "2023-08-13T18:23:04.976Z"
   },
   {
    "duration": 4,
    "start_time": "2023-08-13T18:29:49.756Z"
   },
   {
    "duration": 1491,
    "start_time": "2023-08-13T18:29:55.581Z"
   },
   {
    "duration": 889,
    "start_time": "2023-08-13T18:29:57.074Z"
   },
   {
    "duration": 3,
    "start_time": "2023-08-13T18:29:57.964Z"
   },
   {
    "duration": 594,
    "start_time": "2023-08-13T18:29:57.969Z"
   },
   {
    "duration": 3,
    "start_time": "2023-08-13T18:29:58.565Z"
   },
   {
    "duration": 19,
    "start_time": "2023-08-13T18:29:58.569Z"
   },
   {
    "duration": 16,
    "start_time": "2023-08-13T18:29:58.590Z"
   },
   {
    "duration": 10,
    "start_time": "2023-08-13T18:29:58.608Z"
   },
   {
    "duration": 211,
    "start_time": "2023-08-13T18:29:58.620Z"
   },
   {
    "duration": 13,
    "start_time": "2023-08-13T18:29:58.834Z"
   },
   {
    "duration": 25,
    "start_time": "2023-08-13T18:29:58.849Z"
   },
   {
    "duration": 5,
    "start_time": "2023-08-13T18:29:58.875Z"
   },
   {
    "duration": 3230,
    "start_time": "2023-08-13T18:29:58.900Z"
   },
   {
    "duration": 3,
    "start_time": "2023-08-13T18:30:02.132Z"
   },
   {
    "duration": 170,
    "start_time": "2023-08-13T18:30:02.137Z"
   },
   {
    "duration": 0,
    "start_time": "2023-08-13T18:30:02.308Z"
   },
   {
    "duration": 0,
    "start_time": "2023-08-13T18:30:02.310Z"
   },
   {
    "duration": 0,
    "start_time": "2023-08-13T18:30:02.311Z"
   },
   {
    "duration": 0,
    "start_time": "2023-08-13T18:30:02.312Z"
   },
   {
    "duration": 0,
    "start_time": "2023-08-13T18:30:02.313Z"
   },
   {
    "duration": 0,
    "start_time": "2023-08-13T18:30:02.314Z"
   },
   {
    "duration": 0,
    "start_time": "2023-08-13T18:30:02.315Z"
   },
   {
    "duration": 0,
    "start_time": "2023-08-13T18:30:02.316Z"
   },
   {
    "duration": 0,
    "start_time": "2023-08-13T18:30:02.316Z"
   },
   {
    "duration": 0,
    "start_time": "2023-08-13T18:30:02.318Z"
   },
   {
    "duration": 0,
    "start_time": "2023-08-13T18:30:02.318Z"
   },
   {
    "duration": 0,
    "start_time": "2023-08-13T18:30:02.320Z"
   },
   {
    "duration": 0,
    "start_time": "2023-08-13T18:30:02.321Z"
   },
   {
    "duration": 0,
    "start_time": "2023-08-13T18:30:02.322Z"
   },
   {
    "duration": 0,
    "start_time": "2023-08-13T18:30:02.323Z"
   },
   {
    "duration": 0,
    "start_time": "2023-08-13T18:30:02.324Z"
   },
   {
    "duration": 0,
    "start_time": "2023-08-13T18:30:02.325Z"
   },
   {
    "duration": 0,
    "start_time": "2023-08-13T18:30:02.326Z"
   },
   {
    "duration": 0,
    "start_time": "2023-08-13T18:30:02.327Z"
   },
   {
    "duration": 0,
    "start_time": "2023-08-13T18:30:02.328Z"
   },
   {
    "duration": 0,
    "start_time": "2023-08-13T18:30:02.329Z"
   },
   {
    "duration": 0,
    "start_time": "2023-08-13T18:30:02.330Z"
   },
   {
    "duration": 0,
    "start_time": "2023-08-13T18:30:02.331Z"
   },
   {
    "duration": 0,
    "start_time": "2023-08-13T18:30:02.332Z"
   },
   {
    "duration": 5,
    "start_time": "2023-08-13T18:31:29.429Z"
   },
   {
    "duration": 5,
    "start_time": "2023-08-13T18:32:15.344Z"
   },
   {
    "duration": 14,
    "start_time": "2023-08-13T18:32:29.127Z"
   },
   {
    "duration": 5,
    "start_time": "2023-08-13T18:32:33.671Z"
   },
   {
    "duration": 14,
    "start_time": "2023-08-13T18:34:27.360Z"
   },
   {
    "duration": 196,
    "start_time": "2023-08-13T18:36:14.260Z"
   },
   {
    "duration": 236,
    "start_time": "2023-08-13T18:37:46.035Z"
   },
   {
    "duration": 15,
    "start_time": "2023-08-13T18:50:50.063Z"
   },
   {
    "duration": 184,
    "start_time": "2023-08-13T18:50:56.514Z"
   },
   {
    "duration": 5,
    "start_time": "2023-08-13T18:52:04.757Z"
   },
   {
    "duration": 4,
    "start_time": "2023-08-13T18:52:24.674Z"
   },
   {
    "duration": 13,
    "start_time": "2023-08-13T18:52:30.533Z"
   },
   {
    "duration": 5,
    "start_time": "2023-08-13T18:52:42.031Z"
   },
   {
    "duration": 12,
    "start_time": "2023-08-13T18:52:50.856Z"
   },
   {
    "duration": 5,
    "start_time": "2023-08-13T18:52:57.166Z"
   },
   {
    "duration": 1338,
    "start_time": "2023-08-13T18:53:42.413Z"
   },
   {
    "duration": 1019,
    "start_time": "2023-08-13T18:53:43.753Z"
   },
   {
    "duration": 2,
    "start_time": "2023-08-13T18:53:44.774Z"
   },
   {
    "duration": 640,
    "start_time": "2023-08-13T18:53:44.778Z"
   },
   {
    "duration": 3,
    "start_time": "2023-08-13T18:53:45.419Z"
   },
   {
    "duration": 10,
    "start_time": "2023-08-13T18:53:45.423Z"
   },
   {
    "duration": 3,
    "start_time": "2023-08-13T18:53:45.435Z"
   },
   {
    "duration": 6,
    "start_time": "2023-08-13T18:53:45.439Z"
   },
   {
    "duration": 253,
    "start_time": "2023-08-13T18:53:45.446Z"
   },
   {
    "duration": 14,
    "start_time": "2023-08-13T18:53:45.702Z"
   },
   {
    "duration": 26,
    "start_time": "2023-08-13T18:53:45.718Z"
   },
   {
    "duration": 4,
    "start_time": "2023-08-13T18:53:45.746Z"
   },
   {
    "duration": 3473,
    "start_time": "2023-08-13T18:53:45.752Z"
   },
   {
    "duration": 4,
    "start_time": "2023-08-13T18:53:49.227Z"
   },
   {
    "duration": 8,
    "start_time": "2023-08-13T18:53:49.232Z"
   },
   {
    "duration": 6,
    "start_time": "2023-08-13T18:53:49.241Z"
   },
   {
    "duration": 1075,
    "start_time": "2023-08-13T18:53:49.248Z"
   },
   {
    "duration": 5,
    "start_time": "2023-08-13T18:53:50.325Z"
   },
   {
    "duration": 8,
    "start_time": "2023-08-13T18:53:50.331Z"
   },
   {
    "duration": 24,
    "start_time": "2023-08-13T18:53:50.340Z"
   },
   {
    "duration": 14,
    "start_time": "2023-08-13T18:53:50.366Z"
   },
   {
    "duration": 28,
    "start_time": "2023-08-13T18:53:50.381Z"
   },
   {
    "duration": 3,
    "start_time": "2023-08-13T18:53:50.410Z"
   },
   {
    "duration": 11,
    "start_time": "2023-08-13T18:53:50.414Z"
   },
   {
    "duration": 5,
    "start_time": "2023-08-13T18:53:50.426Z"
   },
   {
    "duration": 8,
    "start_time": "2023-08-13T18:53:50.432Z"
   },
   {
    "duration": 5,
    "start_time": "2023-08-13T18:53:50.441Z"
   },
   {
    "duration": 5142,
    "start_time": "2023-08-13T18:53:50.449Z"
   },
   {
    "duration": 0,
    "start_time": "2023-08-13T18:53:55.592Z"
   },
   {
    "duration": 0,
    "start_time": "2023-08-13T18:53:55.593Z"
   },
   {
    "duration": 0,
    "start_time": "2023-08-13T18:53:55.600Z"
   },
   {
    "duration": 0,
    "start_time": "2023-08-13T18:53:55.600Z"
   },
   {
    "duration": 1,
    "start_time": "2023-08-13T18:53:55.601Z"
   },
   {
    "duration": 0,
    "start_time": "2023-08-13T18:53:55.602Z"
   },
   {
    "duration": 0,
    "start_time": "2023-08-13T18:53:55.603Z"
   },
   {
    "duration": 0,
    "start_time": "2023-08-13T18:53:55.604Z"
   },
   {
    "duration": 0,
    "start_time": "2023-08-13T18:53:55.606Z"
   },
   {
    "duration": 0,
    "start_time": "2023-08-13T18:53:55.607Z"
   },
   {
    "duration": 0,
    "start_time": "2023-08-13T18:53:55.608Z"
   },
   {
    "duration": 6,
    "start_time": "2023-08-13T18:54:39.325Z"
   },
   {
    "duration": 1329,
    "start_time": "2023-08-13T18:54:50.193Z"
   },
   {
    "duration": 926,
    "start_time": "2023-08-13T18:54:51.524Z"
   },
   {
    "duration": 3,
    "start_time": "2023-08-13T18:54:52.452Z"
   },
   {
    "duration": 619,
    "start_time": "2023-08-13T18:54:52.456Z"
   },
   {
    "duration": 3,
    "start_time": "2023-08-13T18:54:53.077Z"
   },
   {
    "duration": 22,
    "start_time": "2023-08-13T18:54:53.082Z"
   },
   {
    "duration": 17,
    "start_time": "2023-08-13T18:54:53.106Z"
   },
   {
    "duration": 22,
    "start_time": "2023-08-13T18:54:53.125Z"
   },
   {
    "duration": 213,
    "start_time": "2023-08-13T18:54:53.148Z"
   },
   {
    "duration": 12,
    "start_time": "2023-08-13T18:54:53.364Z"
   },
   {
    "duration": 36,
    "start_time": "2023-08-13T18:54:53.378Z"
   },
   {
    "duration": 4,
    "start_time": "2023-08-13T18:54:53.416Z"
   },
   {
    "duration": 3197,
    "start_time": "2023-08-13T18:54:53.421Z"
   },
   {
    "duration": 4,
    "start_time": "2023-08-13T18:54:56.619Z"
   },
   {
    "duration": 7,
    "start_time": "2023-08-13T18:54:56.624Z"
   },
   {
    "duration": 5,
    "start_time": "2023-08-13T18:54:56.633Z"
   },
   {
    "duration": 1075,
    "start_time": "2023-08-13T18:54:56.639Z"
   },
   {
    "duration": 4,
    "start_time": "2023-08-13T18:54:57.715Z"
   },
   {
    "duration": 4,
    "start_time": "2023-08-13T18:54:57.720Z"
   },
   {
    "duration": 23,
    "start_time": "2023-08-13T18:54:57.725Z"
   },
   {
    "duration": 13,
    "start_time": "2023-08-13T18:54:57.749Z"
   },
   {
    "duration": 14,
    "start_time": "2023-08-13T18:54:57.764Z"
   },
   {
    "duration": 21,
    "start_time": "2023-08-13T18:54:57.779Z"
   },
   {
    "duration": 12,
    "start_time": "2023-08-13T18:54:57.802Z"
   },
   {
    "duration": 6,
    "start_time": "2023-08-13T18:54:57.816Z"
   },
   {
    "duration": 8,
    "start_time": "2023-08-13T18:54:57.824Z"
   },
   {
    "duration": 5,
    "start_time": "2023-08-13T18:54:57.833Z"
   },
   {
    "duration": 4294,
    "start_time": "2023-08-13T18:54:57.841Z"
   },
   {
    "duration": 0,
    "start_time": "2023-08-13T18:55:02.138Z"
   },
   {
    "duration": 0,
    "start_time": "2023-08-13T18:55:02.139Z"
   },
   {
    "duration": 0,
    "start_time": "2023-08-13T18:55:02.140Z"
   },
   {
    "duration": 1,
    "start_time": "2023-08-13T18:55:02.141Z"
   },
   {
    "duration": 0,
    "start_time": "2023-08-13T18:55:02.143Z"
   },
   {
    "duration": 0,
    "start_time": "2023-08-13T18:55:02.144Z"
   },
   {
    "duration": 0,
    "start_time": "2023-08-13T18:55:02.145Z"
   },
   {
    "duration": 0,
    "start_time": "2023-08-13T18:55:02.146Z"
   },
   {
    "duration": 0,
    "start_time": "2023-08-13T18:55:02.147Z"
   },
   {
    "duration": 0,
    "start_time": "2023-08-13T18:55:02.148Z"
   },
   {
    "duration": 0,
    "start_time": "2023-08-13T18:55:02.150Z"
   },
   {
    "duration": 7,
    "start_time": "2023-08-13T18:55:14.920Z"
   },
   {
    "duration": 5,
    "start_time": "2023-08-13T18:55:49.512Z"
   },
   {
    "duration": 3,
    "start_time": "2023-08-13T18:58:27.284Z"
   },
   {
    "duration": 1356,
    "start_time": "2023-08-13T18:58:54.882Z"
   },
   {
    "duration": 906,
    "start_time": "2023-08-13T18:58:56.240Z"
   },
   {
    "duration": 3,
    "start_time": "2023-08-13T18:58:57.147Z"
   },
   {
    "duration": 568,
    "start_time": "2023-08-13T18:58:57.151Z"
   },
   {
    "duration": 3,
    "start_time": "2023-08-13T18:58:57.720Z"
   },
   {
    "duration": 28,
    "start_time": "2023-08-13T18:58:57.724Z"
   },
   {
    "duration": 3,
    "start_time": "2023-08-13T18:58:57.754Z"
   },
   {
    "duration": 20,
    "start_time": "2023-08-13T18:58:57.758Z"
   },
   {
    "duration": 201,
    "start_time": "2023-08-13T18:58:57.779Z"
   },
   {
    "duration": 19,
    "start_time": "2023-08-13T18:58:57.982Z"
   },
   {
    "duration": 23,
    "start_time": "2023-08-13T18:58:58.002Z"
   },
   {
    "duration": 4,
    "start_time": "2023-08-13T18:58:58.027Z"
   },
   {
    "duration": 3301,
    "start_time": "2023-08-13T18:58:58.032Z"
   },
   {
    "duration": 21,
    "start_time": "2023-08-13T18:59:01.334Z"
   },
   {
    "duration": 45,
    "start_time": "2023-08-13T18:59:01.356Z"
   },
   {
    "duration": 30,
    "start_time": "2023-08-13T18:59:01.402Z"
   },
   {
    "duration": 1571,
    "start_time": "2023-08-13T18:59:01.433Z"
   },
   {
    "duration": 3,
    "start_time": "2023-08-13T18:59:03.005Z"
   },
   {
    "duration": 14,
    "start_time": "2023-08-13T18:59:03.009Z"
   },
   {
    "duration": 75,
    "start_time": "2023-08-13T18:59:03.024Z"
   },
   {
    "duration": 13,
    "start_time": "2023-08-13T18:59:03.101Z"
   },
   {
    "duration": 6,
    "start_time": "2023-08-13T18:59:03.116Z"
   },
   {
    "duration": 23,
    "start_time": "2023-08-13T18:59:03.123Z"
   },
   {
    "duration": 54,
    "start_time": "2023-08-13T18:59:03.148Z"
   },
   {
    "duration": 24,
    "start_time": "2023-08-13T18:59:03.204Z"
   },
   {
    "duration": 15,
    "start_time": "2023-08-13T18:59:03.230Z"
   },
   {
    "duration": 19,
    "start_time": "2023-08-13T18:59:03.246Z"
   },
   {
    "duration": 1598,
    "start_time": "2023-08-13T19:00:05.511Z"
   },
   {
    "duration": 1527,
    "start_time": "2023-08-13T19:00:07.111Z"
   },
   {
    "duration": 2,
    "start_time": "2023-08-13T19:00:08.640Z"
   },
   {
    "duration": 581,
    "start_time": "2023-08-13T19:00:08.645Z"
   },
   {
    "duration": 3,
    "start_time": "2023-08-13T19:00:09.228Z"
   },
   {
    "duration": 12,
    "start_time": "2023-08-13T19:00:09.232Z"
   },
   {
    "duration": 4,
    "start_time": "2023-08-13T19:00:09.245Z"
   },
   {
    "duration": 7,
    "start_time": "2023-08-13T19:00:09.250Z"
   },
   {
    "duration": 226,
    "start_time": "2023-08-13T19:00:09.259Z"
   },
   {
    "duration": 19,
    "start_time": "2023-08-13T19:00:09.488Z"
   },
   {
    "duration": 23,
    "start_time": "2023-08-13T19:00:09.509Z"
   },
   {
    "duration": 6,
    "start_time": "2023-08-13T19:00:09.534Z"
   },
   {
    "duration": 4,
    "start_time": "2023-08-13T19:00:09.542Z"
   },
   {
    "duration": 3376,
    "start_time": "2023-08-13T19:00:09.548Z"
   },
   {
    "duration": 22,
    "start_time": "2023-08-13T19:00:12.926Z"
   },
   {
    "duration": 5,
    "start_time": "2023-08-13T19:00:12.950Z"
   },
   {
    "duration": 9,
    "start_time": "2023-08-13T19:00:12.957Z"
   },
   {
    "duration": 1052,
    "start_time": "2023-08-13T19:00:12.968Z"
   },
   {
    "duration": 3,
    "start_time": "2023-08-13T19:00:14.022Z"
   },
   {
    "duration": 5,
    "start_time": "2023-08-13T19:00:14.026Z"
   },
   {
    "duration": 24,
    "start_time": "2023-08-13T19:00:14.033Z"
   },
   {
    "duration": 14,
    "start_time": "2023-08-13T19:00:14.058Z"
   },
   {
    "duration": 3,
    "start_time": "2023-08-13T19:00:14.073Z"
   },
   {
    "duration": 4,
    "start_time": "2023-08-13T19:00:14.077Z"
   },
   {
    "duration": 20,
    "start_time": "2023-08-13T19:00:14.082Z"
   },
   {
    "duration": 5,
    "start_time": "2023-08-13T19:00:14.104Z"
   },
   {
    "duration": 7,
    "start_time": "2023-08-13T19:00:14.110Z"
   },
   {
    "duration": 4,
    "start_time": "2023-08-13T19:00:14.120Z"
   },
   {
    "duration": 13085,
    "start_time": "2023-08-13T19:00:14.125Z"
   },
   {
    "duration": 0,
    "start_time": "2023-08-13T19:00:27.211Z"
   },
   {
    "duration": 0,
    "start_time": "2023-08-13T19:00:27.212Z"
   },
   {
    "duration": 0,
    "start_time": "2023-08-13T19:00:27.213Z"
   },
   {
    "duration": 0,
    "start_time": "2023-08-13T19:00:27.214Z"
   },
   {
    "duration": 0,
    "start_time": "2023-08-13T19:00:27.215Z"
   },
   {
    "duration": 0,
    "start_time": "2023-08-13T19:00:27.215Z"
   },
   {
    "duration": 0,
    "start_time": "2023-08-13T19:00:27.216Z"
   },
   {
    "duration": 0,
    "start_time": "2023-08-13T19:00:27.217Z"
   },
   {
    "duration": 0,
    "start_time": "2023-08-13T19:00:27.218Z"
   },
   {
    "duration": 0,
    "start_time": "2023-08-13T19:00:27.219Z"
   },
   {
    "duration": 0,
    "start_time": "2023-08-13T19:00:27.220Z"
   },
   {
    "duration": 1417,
    "start_time": "2023-08-13T19:01:06.431Z"
   },
   {
    "duration": 1976,
    "start_time": "2023-08-13T19:01:07.850Z"
   },
   {
    "duration": 3,
    "start_time": "2023-08-13T19:01:09.828Z"
   },
   {
    "duration": 1101,
    "start_time": "2023-08-13T19:01:09.833Z"
   },
   {
    "duration": 3,
    "start_time": "2023-08-13T19:01:10.936Z"
   },
   {
    "duration": 15,
    "start_time": "2023-08-13T19:01:10.940Z"
   },
   {
    "duration": 4,
    "start_time": "2023-08-13T19:01:10.957Z"
   },
   {
    "duration": 7,
    "start_time": "2023-08-13T19:01:10.963Z"
   },
   {
    "duration": 256,
    "start_time": "2023-08-13T19:01:10.971Z"
   },
   {
    "duration": 15,
    "start_time": "2023-08-13T19:01:11.229Z"
   },
   {
    "duration": 27,
    "start_time": "2023-08-13T19:01:11.246Z"
   },
   {
    "duration": 31,
    "start_time": "2023-08-13T19:01:11.275Z"
   },
   {
    "duration": 6,
    "start_time": "2023-08-13T19:01:11.308Z"
   },
   {
    "duration": 3438,
    "start_time": "2023-08-13T19:01:11.318Z"
   },
   {
    "duration": 22,
    "start_time": "2023-08-13T19:01:14.758Z"
   },
   {
    "duration": 6,
    "start_time": "2023-08-13T19:01:14.781Z"
   },
   {
    "duration": 30,
    "start_time": "2023-08-13T19:01:14.800Z"
   },
   {
    "duration": 1229,
    "start_time": "2023-08-13T19:01:14.831Z"
   },
   {
    "duration": 4,
    "start_time": "2023-08-13T19:01:16.063Z"
   },
   {
    "duration": 21,
    "start_time": "2023-08-13T19:01:16.069Z"
   },
   {
    "duration": 40,
    "start_time": "2023-08-13T19:01:16.092Z"
   },
   {
    "duration": 21,
    "start_time": "2023-08-13T19:01:16.135Z"
   },
   {
    "duration": 12,
    "start_time": "2023-08-13T19:01:16.158Z"
   },
   {
    "duration": 18,
    "start_time": "2023-08-13T19:01:16.172Z"
   },
   {
    "duration": 34,
    "start_time": "2023-08-13T19:01:16.193Z"
   },
   {
    "duration": 17,
    "start_time": "2023-08-13T19:01:16.229Z"
   },
   {
    "duration": 25,
    "start_time": "2023-08-13T19:01:16.248Z"
   },
   {
    "duration": 24,
    "start_time": "2023-08-13T19:01:16.275Z"
   },
   {
    "duration": 29560,
    "start_time": "2023-08-13T19:01:16.301Z"
   },
   {
    "duration": 0,
    "start_time": "2023-08-13T19:01:45.862Z"
   },
   {
    "duration": 0,
    "start_time": "2023-08-13T19:01:45.863Z"
   },
   {
    "duration": 0,
    "start_time": "2023-08-13T19:01:45.864Z"
   },
   {
    "duration": 0,
    "start_time": "2023-08-13T19:01:45.865Z"
   },
   {
    "duration": 0,
    "start_time": "2023-08-13T19:01:45.866Z"
   },
   {
    "duration": 0,
    "start_time": "2023-08-13T19:01:45.867Z"
   },
   {
    "duration": 0,
    "start_time": "2023-08-13T19:01:45.868Z"
   },
   {
    "duration": 0,
    "start_time": "2023-08-13T19:01:45.869Z"
   },
   {
    "duration": 0,
    "start_time": "2023-08-13T19:01:45.870Z"
   },
   {
    "duration": 0,
    "start_time": "2023-08-13T19:01:45.872Z"
   },
   {
    "duration": 0,
    "start_time": "2023-08-13T19:01:45.872Z"
   },
   {
    "duration": 1758,
    "start_time": "2023-08-13T19:02:43.083Z"
   },
   {
    "duration": 1289,
    "start_time": "2023-08-13T19:02:44.842Z"
   },
   {
    "duration": 4,
    "start_time": "2023-08-13T19:02:46.133Z"
   },
   {
    "duration": 591,
    "start_time": "2023-08-13T19:02:46.139Z"
   },
   {
    "duration": 3,
    "start_time": "2023-08-13T19:02:46.731Z"
   },
   {
    "duration": 11,
    "start_time": "2023-08-13T19:02:46.735Z"
   },
   {
    "duration": 3,
    "start_time": "2023-08-13T19:02:46.747Z"
   },
   {
    "duration": 9,
    "start_time": "2023-08-13T19:02:46.751Z"
   },
   {
    "duration": 215,
    "start_time": "2023-08-13T19:02:46.761Z"
   },
   {
    "duration": 12,
    "start_time": "2023-08-13T19:02:46.978Z"
   },
   {
    "duration": 23,
    "start_time": "2023-08-13T19:02:46.999Z"
   },
   {
    "duration": 13,
    "start_time": "2023-08-13T19:02:47.024Z"
   },
   {
    "duration": 4,
    "start_time": "2023-08-13T19:02:47.039Z"
   },
   {
    "duration": 3281,
    "start_time": "2023-08-13T19:02:47.044Z"
   },
   {
    "duration": 20,
    "start_time": "2023-08-13T19:02:50.327Z"
   },
   {
    "duration": 4,
    "start_time": "2023-08-13T19:02:50.349Z"
   },
   {
    "duration": 20,
    "start_time": "2023-08-13T19:02:50.355Z"
   },
   {
    "duration": 1070,
    "start_time": "2023-08-13T19:02:50.376Z"
   },
   {
    "duration": 3,
    "start_time": "2023-08-13T19:02:51.448Z"
   },
   {
    "duration": 25,
    "start_time": "2023-08-13T19:02:51.452Z"
   },
   {
    "duration": 37,
    "start_time": "2023-08-13T19:02:51.479Z"
   },
   {
    "duration": 14,
    "start_time": "2023-08-13T19:02:51.518Z"
   },
   {
    "duration": 9,
    "start_time": "2023-08-13T19:02:51.533Z"
   },
   {
    "duration": 28,
    "start_time": "2023-08-13T19:02:51.544Z"
   },
   {
    "duration": 14,
    "start_time": "2023-08-13T19:02:51.574Z"
   },
   {
    "duration": 17,
    "start_time": "2023-08-13T19:02:51.590Z"
   },
   {
    "duration": 36,
    "start_time": "2023-08-13T19:02:51.609Z"
   },
   {
    "duration": 27,
    "start_time": "2023-08-13T19:02:51.648Z"
   },
   {
    "duration": 6199,
    "start_time": "2023-08-13T19:02:51.677Z"
   },
   {
    "duration": 0,
    "start_time": "2023-08-13T19:02:57.878Z"
   },
   {
    "duration": 0,
    "start_time": "2023-08-13T19:02:57.879Z"
   },
   {
    "duration": 0,
    "start_time": "2023-08-13T19:02:57.880Z"
   },
   {
    "duration": 0,
    "start_time": "2023-08-13T19:02:57.880Z"
   },
   {
    "duration": 0,
    "start_time": "2023-08-13T19:02:57.881Z"
   },
   {
    "duration": 0,
    "start_time": "2023-08-13T19:02:57.881Z"
   },
   {
    "duration": 0,
    "start_time": "2023-08-13T19:02:57.882Z"
   },
   {
    "duration": 0,
    "start_time": "2023-08-13T19:02:57.882Z"
   },
   {
    "duration": 0,
    "start_time": "2023-08-13T19:02:57.884Z"
   },
   {
    "duration": 0,
    "start_time": "2023-08-13T19:02:57.884Z"
   },
   {
    "duration": 0,
    "start_time": "2023-08-13T19:02:57.885Z"
   },
   {
    "duration": 3,
    "start_time": "2023-08-13T19:07:06.833Z"
   },
   {
    "duration": 24,
    "start_time": "2023-08-13T19:07:28.521Z"
   },
   {
    "duration": 11,
    "start_time": "2023-08-13T19:07:30.737Z"
   },
   {
    "duration": 1443,
    "start_time": "2023-08-13T19:07:41.384Z"
   },
   {
    "duration": 1487,
    "start_time": "2023-08-13T19:07:42.829Z"
   },
   {
    "duration": 2,
    "start_time": "2023-08-13T19:07:44.318Z"
   },
   {
    "duration": 580,
    "start_time": "2023-08-13T19:07:44.322Z"
   },
   {
    "duration": 3,
    "start_time": "2023-08-13T19:07:44.903Z"
   },
   {
    "duration": 15,
    "start_time": "2023-08-13T19:07:44.907Z"
   },
   {
    "duration": 26,
    "start_time": "2023-08-13T19:07:44.923Z"
   },
   {
    "duration": 6,
    "start_time": "2023-08-13T19:07:44.951Z"
   },
   {
    "duration": 6,
    "start_time": "2023-08-13T19:07:44.959Z"
   },
   {
    "duration": 211,
    "start_time": "2023-08-13T19:07:44.967Z"
   },
   {
    "duration": 22,
    "start_time": "2023-08-13T19:07:45.180Z"
   },
   {
    "duration": 23,
    "start_time": "2023-08-13T19:07:45.204Z"
   },
   {
    "duration": 12,
    "start_time": "2023-08-13T19:07:45.229Z"
   },
   {
    "duration": 5,
    "start_time": "2023-08-13T19:07:45.242Z"
   },
   {
    "duration": 3446,
    "start_time": "2023-08-13T19:07:45.248Z"
   },
   {
    "duration": 24,
    "start_time": "2023-08-13T19:07:48.696Z"
   },
   {
    "duration": 5,
    "start_time": "2023-08-13T19:07:48.722Z"
   },
   {
    "duration": 29,
    "start_time": "2023-08-13T19:07:48.728Z"
   },
   {
    "duration": 1065,
    "start_time": "2023-08-13T19:07:48.758Z"
   },
   {
    "duration": 3,
    "start_time": "2023-08-13T19:07:49.825Z"
   },
   {
    "duration": 19,
    "start_time": "2023-08-13T19:07:49.829Z"
   },
   {
    "duration": 35,
    "start_time": "2023-08-13T19:07:49.849Z"
   },
   {
    "duration": 15,
    "start_time": "2023-08-13T19:07:49.885Z"
   },
   {
    "duration": 3,
    "start_time": "2023-08-13T19:07:49.901Z"
   },
   {
    "duration": 6,
    "start_time": "2023-08-13T19:07:49.905Z"
   },
   {
    "duration": 13,
    "start_time": "2023-08-13T19:07:49.912Z"
   },
   {
    "duration": 7,
    "start_time": "2023-08-13T19:07:49.926Z"
   },
   {
    "duration": 26,
    "start_time": "2023-08-13T19:07:49.937Z"
   },
   {
    "duration": 7,
    "start_time": "2023-08-13T19:07:49.965Z"
   },
   {
    "duration": 5180,
    "start_time": "2023-08-13T19:07:49.973Z"
   },
   {
    "duration": 0,
    "start_time": "2023-08-13T19:07:55.154Z"
   },
   {
    "duration": 0,
    "start_time": "2023-08-13T19:07:55.155Z"
   },
   {
    "duration": 0,
    "start_time": "2023-08-13T19:07:55.156Z"
   },
   {
    "duration": 0,
    "start_time": "2023-08-13T19:07:55.157Z"
   },
   {
    "duration": 0,
    "start_time": "2023-08-13T19:07:55.158Z"
   },
   {
    "duration": 0,
    "start_time": "2023-08-13T19:07:55.159Z"
   },
   {
    "duration": 0,
    "start_time": "2023-08-13T19:07:55.160Z"
   },
   {
    "duration": 0,
    "start_time": "2023-08-13T19:07:55.160Z"
   },
   {
    "duration": 0,
    "start_time": "2023-08-13T19:07:55.161Z"
   },
   {
    "duration": 0,
    "start_time": "2023-08-13T19:07:55.162Z"
   },
   {
    "duration": 0,
    "start_time": "2023-08-13T19:07:55.163Z"
   },
   {
    "duration": 1287,
    "start_time": "2023-08-13T19:09:24.521Z"
   },
   {
    "duration": 971,
    "start_time": "2023-08-13T19:09:25.810Z"
   },
   {
    "duration": 4,
    "start_time": "2023-08-13T19:09:26.782Z"
   },
   {
    "duration": 605,
    "start_time": "2023-08-13T19:09:26.788Z"
   },
   {
    "duration": 5,
    "start_time": "2023-08-13T19:09:27.395Z"
   },
   {
    "duration": 11,
    "start_time": "2023-08-13T19:09:27.401Z"
   },
   {
    "duration": 6,
    "start_time": "2023-08-13T19:09:27.413Z"
   },
   {
    "duration": 9,
    "start_time": "2023-08-13T19:09:27.420Z"
   },
   {
    "duration": 17,
    "start_time": "2023-08-13T19:09:27.430Z"
   },
   {
    "duration": 221,
    "start_time": "2023-08-13T19:09:27.449Z"
   },
   {
    "duration": 12,
    "start_time": "2023-08-13T19:09:27.672Z"
   },
   {
    "duration": 37,
    "start_time": "2023-08-13T19:09:27.686Z"
   },
   {
    "duration": 4,
    "start_time": "2023-08-13T19:09:27.725Z"
   },
   {
    "duration": 4402,
    "start_time": "2023-08-13T19:09:27.730Z"
   },
   {
    "duration": 25,
    "start_time": "2023-08-13T19:09:32.133Z"
   },
   {
    "duration": 5,
    "start_time": "2023-08-13T19:09:32.160Z"
   },
   {
    "duration": 15,
    "start_time": "2023-08-13T19:09:32.167Z"
   },
   {
    "duration": 1226,
    "start_time": "2023-08-13T19:09:32.184Z"
   },
   {
    "duration": 3,
    "start_time": "2023-08-13T19:09:33.411Z"
   },
   {
    "duration": 11,
    "start_time": "2023-08-13T19:09:33.416Z"
   },
   {
    "duration": 30,
    "start_time": "2023-08-13T19:09:33.428Z"
   },
   {
    "duration": 12,
    "start_time": "2023-08-13T19:09:33.459Z"
   },
   {
    "duration": 2,
    "start_time": "2023-08-13T19:09:33.473Z"
   },
   {
    "duration": 5,
    "start_time": "2023-08-13T19:09:33.476Z"
   },
   {
    "duration": 17,
    "start_time": "2023-08-13T19:09:33.482Z"
   },
   {
    "duration": 6,
    "start_time": "2023-08-13T19:09:33.501Z"
   },
   {
    "duration": 13,
    "start_time": "2023-08-13T19:09:33.509Z"
   },
   {
    "duration": 8,
    "start_time": "2023-08-13T19:09:33.527Z"
   },
   {
    "duration": 2761,
    "start_time": "2023-08-13T19:09:33.536Z"
   },
   {
    "duration": 0,
    "start_time": "2023-08-13T19:09:36.299Z"
   },
   {
    "duration": 0,
    "start_time": "2023-08-13T19:09:36.300Z"
   },
   {
    "duration": 0,
    "start_time": "2023-08-13T19:09:36.301Z"
   },
   {
    "duration": 0,
    "start_time": "2023-08-13T19:09:36.302Z"
   },
   {
    "duration": 0,
    "start_time": "2023-08-13T19:09:36.302Z"
   },
   {
    "duration": 0,
    "start_time": "2023-08-13T19:09:36.303Z"
   },
   {
    "duration": 0,
    "start_time": "2023-08-13T19:09:36.304Z"
   },
   {
    "duration": 0,
    "start_time": "2023-08-13T19:09:36.305Z"
   },
   {
    "duration": 0,
    "start_time": "2023-08-13T19:09:36.305Z"
   },
   {
    "duration": 0,
    "start_time": "2023-08-13T19:09:36.306Z"
   },
   {
    "duration": 0,
    "start_time": "2023-08-13T19:09:36.307Z"
   },
   {
    "duration": 1285,
    "start_time": "2023-08-13T19:16:44.945Z"
   },
   {
    "duration": 919,
    "start_time": "2023-08-13T19:16:46.232Z"
   },
   {
    "duration": 3,
    "start_time": "2023-08-13T19:16:47.152Z"
   },
   {
    "duration": 587,
    "start_time": "2023-08-13T19:16:47.157Z"
   },
   {
    "duration": 3,
    "start_time": "2023-08-13T19:16:47.745Z"
   },
   {
    "duration": 10,
    "start_time": "2023-08-13T19:16:47.749Z"
   },
   {
    "duration": 6,
    "start_time": "2023-08-13T19:16:47.760Z"
   },
   {
    "duration": 23,
    "start_time": "2023-08-13T19:16:47.767Z"
   },
   {
    "duration": 9,
    "start_time": "2023-08-13T19:16:47.791Z"
   },
   {
    "duration": 342,
    "start_time": "2023-08-13T19:16:47.802Z"
   },
   {
    "duration": 13,
    "start_time": "2023-08-13T19:16:48.199Z"
   },
   {
    "duration": 27,
    "start_time": "2023-08-13T19:16:48.213Z"
   },
   {
    "duration": 59,
    "start_time": "2023-08-13T19:16:48.241Z"
   },
   {
    "duration": 3904,
    "start_time": "2023-08-13T19:16:48.301Z"
   },
   {
    "duration": 12,
    "start_time": "2023-08-13T19:16:52.206Z"
   },
   {
    "duration": 16,
    "start_time": "2023-08-13T19:16:52.219Z"
   },
   {
    "duration": 10,
    "start_time": "2023-08-13T19:16:52.237Z"
   },
   {
    "duration": 1057,
    "start_time": "2023-08-13T19:16:52.248Z"
   },
   {
    "duration": 3,
    "start_time": "2023-08-13T19:16:53.306Z"
   },
   {
    "duration": 6,
    "start_time": "2023-08-13T19:16:53.310Z"
   },
   {
    "duration": 24,
    "start_time": "2023-08-13T19:16:53.318Z"
   },
   {
    "duration": 2,
    "start_time": "2023-08-13T19:16:53.343Z"
   },
   {
    "duration": 4,
    "start_time": "2023-08-13T19:16:53.347Z"
   },
   {
    "duration": 16,
    "start_time": "2023-08-13T19:16:53.352Z"
   },
   {
    "duration": 4,
    "start_time": "2023-08-13T19:16:53.370Z"
   },
   {
    "duration": 8,
    "start_time": "2023-08-13T19:16:53.376Z"
   },
   {
    "duration": 14,
    "start_time": "2023-08-13T19:16:53.385Z"
   },
   {
    "duration": 1881,
    "start_time": "2023-08-13T19:16:53.402Z"
   },
   {
    "duration": 0,
    "start_time": "2023-08-13T19:16:55.285Z"
   },
   {
    "duration": 0,
    "start_time": "2023-08-13T19:16:55.286Z"
   },
   {
    "duration": 0,
    "start_time": "2023-08-13T19:16:55.287Z"
   },
   {
    "duration": 0,
    "start_time": "2023-08-13T19:16:55.288Z"
   },
   {
    "duration": 0,
    "start_time": "2023-08-13T19:16:55.288Z"
   },
   {
    "duration": 0,
    "start_time": "2023-08-13T19:16:55.299Z"
   },
   {
    "duration": 0,
    "start_time": "2023-08-13T19:16:55.300Z"
   },
   {
    "duration": 0,
    "start_time": "2023-08-13T19:16:55.301Z"
   },
   {
    "duration": 0,
    "start_time": "2023-08-13T19:16:55.302Z"
   },
   {
    "duration": 0,
    "start_time": "2023-08-13T19:16:55.302Z"
   },
   {
    "duration": 0,
    "start_time": "2023-08-13T19:16:55.303Z"
   },
   {
    "duration": 1743,
    "start_time": "2023-08-13T19:22:02.494Z"
   },
   {
    "duration": 1200,
    "start_time": "2023-08-13T19:22:04.239Z"
   },
   {
    "duration": 3,
    "start_time": "2023-08-13T19:22:05.440Z"
   },
   {
    "duration": 593,
    "start_time": "2023-08-13T19:22:05.445Z"
   },
   {
    "duration": 3,
    "start_time": "2023-08-13T19:22:06.040Z"
   },
   {
    "duration": 11,
    "start_time": "2023-08-13T19:22:06.045Z"
   },
   {
    "duration": 20,
    "start_time": "2023-08-13T19:22:06.058Z"
   },
   {
    "duration": 13,
    "start_time": "2023-08-13T19:22:06.079Z"
   },
   {
    "duration": 13,
    "start_time": "2023-08-13T19:22:06.094Z"
   },
   {
    "duration": 213,
    "start_time": "2023-08-13T19:22:06.110Z"
   },
   {
    "duration": 12,
    "start_time": "2023-08-13T19:22:06.325Z"
   },
   {
    "duration": 28,
    "start_time": "2023-08-13T19:22:06.338Z"
   },
   {
    "duration": 4,
    "start_time": "2023-08-13T19:22:06.367Z"
   },
   {
    "duration": 3173,
    "start_time": "2023-08-13T19:22:06.372Z"
   },
   {
    "duration": 5,
    "start_time": "2023-08-13T19:22:09.546Z"
   },
   {
    "duration": 10,
    "start_time": "2023-08-13T19:22:09.552Z"
   },
   {
    "duration": 581,
    "start_time": "2023-08-13T19:22:09.563Z"
   },
   {
    "duration": 0,
    "start_time": "2023-08-13T19:22:10.146Z"
   },
   {
    "duration": 0,
    "start_time": "2023-08-13T19:22:10.147Z"
   },
   {
    "duration": 0,
    "start_time": "2023-08-13T19:22:10.148Z"
   },
   {
    "duration": 0,
    "start_time": "2023-08-13T19:22:10.149Z"
   },
   {
    "duration": 0,
    "start_time": "2023-08-13T19:22:10.150Z"
   },
   {
    "duration": 0,
    "start_time": "2023-08-13T19:22:10.151Z"
   },
   {
    "duration": 0,
    "start_time": "2023-08-13T19:22:10.152Z"
   },
   {
    "duration": 0,
    "start_time": "2023-08-13T19:22:10.153Z"
   },
   {
    "duration": 0,
    "start_time": "2023-08-13T19:22:10.154Z"
   },
   {
    "duration": 0,
    "start_time": "2023-08-13T19:22:10.155Z"
   },
   {
    "duration": 0,
    "start_time": "2023-08-13T19:22:10.156Z"
   },
   {
    "duration": 0,
    "start_time": "2023-08-13T19:22:10.156Z"
   },
   {
    "duration": 0,
    "start_time": "2023-08-13T19:22:10.157Z"
   },
   {
    "duration": 0,
    "start_time": "2023-08-13T19:22:10.158Z"
   },
   {
    "duration": 0,
    "start_time": "2023-08-13T19:22:10.159Z"
   },
   {
    "duration": 0,
    "start_time": "2023-08-13T19:22:10.160Z"
   },
   {
    "duration": 0,
    "start_time": "2023-08-13T19:22:10.161Z"
   },
   {
    "duration": 0,
    "start_time": "2023-08-13T19:22:10.162Z"
   },
   {
    "duration": 0,
    "start_time": "2023-08-13T19:22:10.163Z"
   },
   {
    "duration": 0,
    "start_time": "2023-08-13T19:22:10.164Z"
   },
   {
    "duration": 0,
    "start_time": "2023-08-13T19:22:10.164Z"
   },
   {
    "duration": 1249,
    "start_time": "2023-08-13T19:23:15.945Z"
   },
   {
    "duration": 1317,
    "start_time": "2023-08-13T19:23:17.195Z"
   },
   {
    "duration": 3,
    "start_time": "2023-08-13T19:23:18.513Z"
   },
   {
    "duration": 911,
    "start_time": "2023-08-13T19:23:18.517Z"
   },
   {
    "duration": 2,
    "start_time": "2023-08-13T19:23:19.430Z"
   },
   {
    "duration": 8,
    "start_time": "2023-08-13T19:23:19.434Z"
   },
   {
    "duration": 3,
    "start_time": "2023-08-13T19:23:19.443Z"
   },
   {
    "duration": 12,
    "start_time": "2023-08-13T19:23:19.447Z"
   },
   {
    "duration": 4,
    "start_time": "2023-08-13T19:23:19.460Z"
   },
   {
    "duration": 225,
    "start_time": "2023-08-13T19:23:19.466Z"
   },
   {
    "duration": 15,
    "start_time": "2023-08-13T19:23:19.692Z"
   },
   {
    "duration": 38,
    "start_time": "2023-08-13T19:23:19.708Z"
   },
   {
    "duration": 5,
    "start_time": "2023-08-13T19:23:19.747Z"
   },
   {
    "duration": 3157,
    "start_time": "2023-08-13T19:23:19.753Z"
   },
   {
    "duration": 5,
    "start_time": "2023-08-13T19:23:22.911Z"
   },
   {
    "duration": 10,
    "start_time": "2023-08-13T19:23:22.917Z"
   },
   {
    "duration": 1303,
    "start_time": "2023-08-13T19:23:22.928Z"
   },
   {
    "duration": 0,
    "start_time": "2023-08-13T19:23:24.233Z"
   },
   {
    "duration": 0,
    "start_time": "2023-08-13T19:23:24.234Z"
   },
   {
    "duration": 0,
    "start_time": "2023-08-13T19:23:24.235Z"
   },
   {
    "duration": 0,
    "start_time": "2023-08-13T19:23:24.236Z"
   },
   {
    "duration": 0,
    "start_time": "2023-08-13T19:23:24.237Z"
   },
   {
    "duration": 0,
    "start_time": "2023-08-13T19:23:24.238Z"
   },
   {
    "duration": 0,
    "start_time": "2023-08-13T19:23:24.239Z"
   },
   {
    "duration": 0,
    "start_time": "2023-08-13T19:23:24.239Z"
   },
   {
    "duration": 0,
    "start_time": "2023-08-13T19:23:24.240Z"
   },
   {
    "duration": 0,
    "start_time": "2023-08-13T19:23:24.241Z"
   },
   {
    "duration": 0,
    "start_time": "2023-08-13T19:23:24.242Z"
   },
   {
    "duration": 0,
    "start_time": "2023-08-13T19:23:24.243Z"
   },
   {
    "duration": 0,
    "start_time": "2023-08-13T19:23:24.244Z"
   },
   {
    "duration": 0,
    "start_time": "2023-08-13T19:23:24.245Z"
   },
   {
    "duration": 0,
    "start_time": "2023-08-13T19:23:24.246Z"
   },
   {
    "duration": 0,
    "start_time": "2023-08-13T19:23:24.247Z"
   },
   {
    "duration": 0,
    "start_time": "2023-08-13T19:23:24.247Z"
   },
   {
    "duration": 0,
    "start_time": "2023-08-13T19:23:24.248Z"
   },
   {
    "duration": 0,
    "start_time": "2023-08-13T19:23:24.250Z"
   },
   {
    "duration": 0,
    "start_time": "2023-08-13T19:23:24.251Z"
   },
   {
    "duration": 0,
    "start_time": "2023-08-13T19:23:24.252Z"
   },
   {
    "duration": 0,
    "start_time": "2023-08-13T19:23:24.253Z"
   },
   {
    "duration": 1323,
    "start_time": "2023-08-13T19:25:55.117Z"
   },
   {
    "duration": 1059,
    "start_time": "2023-08-13T19:25:56.441Z"
   },
   {
    "duration": 3,
    "start_time": "2023-08-13T19:25:57.502Z"
   },
   {
    "duration": 1210,
    "start_time": "2023-08-13T19:25:57.506Z"
   },
   {
    "duration": 2,
    "start_time": "2023-08-13T19:25:58.718Z"
   },
   {
    "duration": 22,
    "start_time": "2023-08-13T19:25:58.722Z"
   },
   {
    "duration": 7,
    "start_time": "2023-08-13T19:25:58.746Z"
   },
   {
    "duration": 15,
    "start_time": "2023-08-13T19:25:58.755Z"
   },
   {
    "duration": 9,
    "start_time": "2023-08-13T19:25:58.772Z"
   },
   {
    "duration": 201,
    "start_time": "2023-08-13T19:25:58.783Z"
   },
   {
    "duration": 24,
    "start_time": "2023-08-13T19:25:58.985Z"
   },
   {
    "duration": 27,
    "start_time": "2023-08-13T19:25:59.010Z"
   },
   {
    "duration": 5,
    "start_time": "2023-08-13T19:25:59.039Z"
   },
   {
    "duration": 3165,
    "start_time": "2023-08-13T19:25:59.046Z"
   },
   {
    "duration": 5,
    "start_time": "2023-08-13T19:26:02.213Z"
   },
   {
    "duration": 41,
    "start_time": "2023-08-13T19:26:02.220Z"
   },
   {
    "duration": 1029,
    "start_time": "2023-08-13T19:26:02.263Z"
   },
   {
    "duration": 294,
    "start_time": "2023-08-13T19:26:03.299Z"
   },
   {
    "duration": 5,
    "start_time": "2023-08-13T19:26:03.595Z"
   },
   {
    "duration": 13,
    "start_time": "2023-08-13T19:26:03.601Z"
   },
   {
    "duration": 17,
    "start_time": "2023-08-13T19:26:03.616Z"
   },
   {
    "duration": 24,
    "start_time": "2023-08-13T19:26:03.634Z"
   },
   {
    "duration": 2,
    "start_time": "2023-08-13T19:26:03.660Z"
   },
   {
    "duration": 22,
    "start_time": "2023-08-13T19:26:03.663Z"
   },
   {
    "duration": 20,
    "start_time": "2023-08-13T19:26:03.686Z"
   },
   {
    "duration": 11,
    "start_time": "2023-08-13T19:26:03.707Z"
   },
   {
    "duration": 4,
    "start_time": "2023-08-13T19:26:03.720Z"
   },
   {
    "duration": 5125,
    "start_time": "2023-08-13T19:26:03.725Z"
   },
   {
    "duration": 0,
    "start_time": "2023-08-13T19:26:08.852Z"
   },
   {
    "duration": 0,
    "start_time": "2023-08-13T19:26:08.853Z"
   },
   {
    "duration": 0,
    "start_time": "2023-08-13T19:26:08.854Z"
   },
   {
    "duration": 0,
    "start_time": "2023-08-13T19:26:08.854Z"
   },
   {
    "duration": 0,
    "start_time": "2023-08-13T19:26:08.856Z"
   },
   {
    "duration": 0,
    "start_time": "2023-08-13T19:26:08.857Z"
   },
   {
    "duration": 0,
    "start_time": "2023-08-13T19:26:08.858Z"
   },
   {
    "duration": 0,
    "start_time": "2023-08-13T19:26:08.859Z"
   },
   {
    "duration": 0,
    "start_time": "2023-08-13T19:26:08.859Z"
   },
   {
    "duration": 0,
    "start_time": "2023-08-13T19:26:08.860Z"
   },
   {
    "duration": 0,
    "start_time": "2023-08-13T19:26:08.861Z"
   },
   {
    "duration": 1560,
    "start_time": "2023-08-13T19:30:35.885Z"
   },
   {
    "duration": 1430,
    "start_time": "2023-08-13T19:30:37.500Z"
   },
   {
    "duration": 3,
    "start_time": "2023-08-13T19:30:38.931Z"
   },
   {
    "duration": 659,
    "start_time": "2023-08-13T19:30:38.935Z"
   },
   {
    "duration": 4,
    "start_time": "2023-08-13T19:30:39.596Z"
   },
   {
    "duration": 25,
    "start_time": "2023-08-13T19:30:39.601Z"
   },
   {
    "duration": 4,
    "start_time": "2023-08-13T19:30:39.627Z"
   },
   {
    "duration": 11,
    "start_time": "2023-08-13T19:30:39.633Z"
   },
   {
    "duration": 8,
    "start_time": "2023-08-13T19:30:39.645Z"
   },
   {
    "duration": 234,
    "start_time": "2023-08-13T19:30:39.654Z"
   },
   {
    "duration": 20,
    "start_time": "2023-08-13T19:30:39.889Z"
   },
   {
    "duration": 30,
    "start_time": "2023-08-13T19:30:39.910Z"
   },
   {
    "duration": 5,
    "start_time": "2023-08-13T19:30:39.941Z"
   },
   {
    "duration": 3280,
    "start_time": "2023-08-13T19:30:39.950Z"
   },
   {
    "duration": 1380,
    "start_time": "2023-08-13T19:30:43.232Z"
   },
   {
    "duration": 0,
    "start_time": "2023-08-13T19:30:44.613Z"
   },
   {
    "duration": 0,
    "start_time": "2023-08-13T19:30:44.614Z"
   },
   {
    "duration": 0,
    "start_time": "2023-08-13T19:30:44.615Z"
   },
   {
    "duration": 0,
    "start_time": "2023-08-13T19:30:44.616Z"
   },
   {
    "duration": 0,
    "start_time": "2023-08-13T19:30:44.617Z"
   },
   {
    "duration": 0,
    "start_time": "2023-08-13T19:30:44.618Z"
   },
   {
    "duration": 0,
    "start_time": "2023-08-13T19:30:44.619Z"
   },
   {
    "duration": 0,
    "start_time": "2023-08-13T19:30:44.620Z"
   },
   {
    "duration": 0,
    "start_time": "2023-08-13T19:30:44.620Z"
   },
   {
    "duration": 0,
    "start_time": "2023-08-13T19:30:44.621Z"
   },
   {
    "duration": 0,
    "start_time": "2023-08-13T19:30:44.622Z"
   },
   {
    "duration": 0,
    "start_time": "2023-08-13T19:30:44.622Z"
   },
   {
    "duration": 0,
    "start_time": "2023-08-13T19:30:44.623Z"
   },
   {
    "duration": 0,
    "start_time": "2023-08-13T19:30:44.624Z"
   },
   {
    "duration": 0,
    "start_time": "2023-08-13T19:30:44.625Z"
   },
   {
    "duration": 0,
    "start_time": "2023-08-13T19:30:44.626Z"
   },
   {
    "duration": 0,
    "start_time": "2023-08-13T19:30:44.626Z"
   },
   {
    "duration": 0,
    "start_time": "2023-08-13T19:30:44.627Z"
   },
   {
    "duration": 0,
    "start_time": "2023-08-13T19:30:44.628Z"
   },
   {
    "duration": 0,
    "start_time": "2023-08-13T19:30:44.628Z"
   },
   {
    "duration": 0,
    "start_time": "2023-08-13T19:30:44.630Z"
   },
   {
    "duration": 0,
    "start_time": "2023-08-13T19:30:44.631Z"
   },
   {
    "duration": 0,
    "start_time": "2023-08-13T19:30:44.631Z"
   },
   {
    "duration": 0,
    "start_time": "2023-08-13T19:30:44.632Z"
   },
   {
    "duration": 1282,
    "start_time": "2023-08-13T19:31:11.063Z"
   },
   {
    "duration": 1252,
    "start_time": "2023-08-13T19:31:12.347Z"
   },
   {
    "duration": 3,
    "start_time": "2023-08-13T19:31:13.601Z"
   },
   {
    "duration": 1131,
    "start_time": "2023-08-13T19:31:13.606Z"
   },
   {
    "duration": 2,
    "start_time": "2023-08-13T19:31:14.738Z"
   },
   {
    "duration": 9,
    "start_time": "2023-08-13T19:31:14.742Z"
   },
   {
    "duration": 9,
    "start_time": "2023-08-13T19:31:14.752Z"
   },
   {
    "duration": 9,
    "start_time": "2023-08-13T19:31:14.762Z"
   },
   {
    "duration": 10,
    "start_time": "2023-08-13T19:31:14.772Z"
   },
   {
    "duration": 217,
    "start_time": "2023-08-13T19:31:14.784Z"
   },
   {
    "duration": 13,
    "start_time": "2023-08-13T19:31:15.002Z"
   },
   {
    "duration": 67,
    "start_time": "2023-08-13T19:31:15.017Z"
   },
   {
    "duration": 5,
    "start_time": "2023-08-13T19:31:15.085Z"
   },
   {
    "duration": 3315,
    "start_time": "2023-08-13T19:31:15.091Z"
   },
   {
    "duration": 1316,
    "start_time": "2023-08-13T19:31:18.408Z"
   },
   {
    "duration": 0,
    "start_time": "2023-08-13T19:31:19.726Z"
   },
   {
    "duration": 0,
    "start_time": "2023-08-13T19:31:19.727Z"
   },
   {
    "duration": 0,
    "start_time": "2023-08-13T19:31:19.727Z"
   },
   {
    "duration": 0,
    "start_time": "2023-08-13T19:31:19.728Z"
   },
   {
    "duration": 0,
    "start_time": "2023-08-13T19:31:19.729Z"
   },
   {
    "duration": 0,
    "start_time": "2023-08-13T19:31:19.730Z"
   },
   {
    "duration": 0,
    "start_time": "2023-08-13T19:31:19.731Z"
   },
   {
    "duration": 0,
    "start_time": "2023-08-13T19:31:19.731Z"
   },
   {
    "duration": 0,
    "start_time": "2023-08-13T19:31:19.732Z"
   },
   {
    "duration": 0,
    "start_time": "2023-08-13T19:31:19.733Z"
   },
   {
    "duration": 0,
    "start_time": "2023-08-13T19:31:19.733Z"
   },
   {
    "duration": 0,
    "start_time": "2023-08-13T19:31:19.734Z"
   },
   {
    "duration": 0,
    "start_time": "2023-08-13T19:31:19.735Z"
   },
   {
    "duration": 0,
    "start_time": "2023-08-13T19:31:19.736Z"
   },
   {
    "duration": 0,
    "start_time": "2023-08-13T19:31:19.737Z"
   },
   {
    "duration": 0,
    "start_time": "2023-08-13T19:31:19.738Z"
   },
   {
    "duration": 0,
    "start_time": "2023-08-13T19:31:19.739Z"
   },
   {
    "duration": 0,
    "start_time": "2023-08-13T19:31:19.739Z"
   },
   {
    "duration": 0,
    "start_time": "2023-08-13T19:31:19.740Z"
   },
   {
    "duration": 0,
    "start_time": "2023-08-13T19:31:19.741Z"
   },
   {
    "duration": 0,
    "start_time": "2023-08-13T19:31:19.742Z"
   },
   {
    "duration": 0,
    "start_time": "2023-08-13T19:31:19.743Z"
   },
   {
    "duration": 0,
    "start_time": "2023-08-13T19:31:19.744Z"
   },
   {
    "duration": 0,
    "start_time": "2023-08-13T19:31:19.744Z"
   },
   {
    "duration": 1893,
    "start_time": "2023-08-13T19:32:14.509Z"
   },
   {
    "duration": 1459,
    "start_time": "2023-08-13T19:32:16.404Z"
   },
   {
    "duration": 3,
    "start_time": "2023-08-13T19:32:17.864Z"
   },
   {
    "duration": 650,
    "start_time": "2023-08-13T19:32:17.869Z"
   },
   {
    "duration": 3,
    "start_time": "2023-08-13T19:32:18.520Z"
   },
   {
    "duration": 13,
    "start_time": "2023-08-13T19:32:18.524Z"
   },
   {
    "duration": 3,
    "start_time": "2023-08-13T19:32:18.539Z"
   },
   {
    "duration": 13,
    "start_time": "2023-08-13T19:32:18.544Z"
   },
   {
    "duration": 20,
    "start_time": "2023-08-13T19:32:18.558Z"
   },
   {
    "duration": 237,
    "start_time": "2023-08-13T19:32:18.580Z"
   },
   {
    "duration": 13,
    "start_time": "2023-08-13T19:32:18.819Z"
   },
   {
    "duration": 73,
    "start_time": "2023-08-13T19:32:18.834Z"
   },
   {
    "duration": 11,
    "start_time": "2023-08-13T19:32:18.909Z"
   },
   {
    "duration": 3282,
    "start_time": "2023-08-13T19:32:18.922Z"
   },
   {
    "duration": 1402,
    "start_time": "2023-08-13T19:32:22.205Z"
   },
   {
    "duration": 0,
    "start_time": "2023-08-13T19:32:23.610Z"
   },
   {
    "duration": 0,
    "start_time": "2023-08-13T19:32:23.611Z"
   },
   {
    "duration": 0,
    "start_time": "2023-08-13T19:32:23.612Z"
   },
   {
    "duration": 0,
    "start_time": "2023-08-13T19:32:23.613Z"
   },
   {
    "duration": 0,
    "start_time": "2023-08-13T19:32:23.614Z"
   },
   {
    "duration": 0,
    "start_time": "2023-08-13T19:32:23.615Z"
   },
   {
    "duration": 0,
    "start_time": "2023-08-13T19:32:23.615Z"
   },
   {
    "duration": 0,
    "start_time": "2023-08-13T19:32:23.617Z"
   },
   {
    "duration": 1,
    "start_time": "2023-08-13T19:32:23.617Z"
   },
   {
    "duration": 0,
    "start_time": "2023-08-13T19:32:23.618Z"
   },
   {
    "duration": 0,
    "start_time": "2023-08-13T19:32:23.619Z"
   },
   {
    "duration": 0,
    "start_time": "2023-08-13T19:32:23.620Z"
   },
   {
    "duration": 0,
    "start_time": "2023-08-13T19:32:23.621Z"
   },
   {
    "duration": 0,
    "start_time": "2023-08-13T19:32:23.622Z"
   },
   {
    "duration": 0,
    "start_time": "2023-08-13T19:32:23.623Z"
   },
   {
    "duration": 0,
    "start_time": "2023-08-13T19:32:23.624Z"
   },
   {
    "duration": 0,
    "start_time": "2023-08-13T19:32:23.625Z"
   },
   {
    "duration": 0,
    "start_time": "2023-08-13T19:32:23.626Z"
   },
   {
    "duration": 0,
    "start_time": "2023-08-13T19:32:23.627Z"
   },
   {
    "duration": 0,
    "start_time": "2023-08-13T19:32:23.627Z"
   },
   {
    "duration": 0,
    "start_time": "2023-08-13T19:32:23.628Z"
   },
   {
    "duration": 0,
    "start_time": "2023-08-13T19:32:23.629Z"
   },
   {
    "duration": 0,
    "start_time": "2023-08-13T19:32:23.630Z"
   },
   {
    "duration": 0,
    "start_time": "2023-08-13T19:32:23.630Z"
   },
   {
    "duration": 1428,
    "start_time": "2023-08-13T19:44:09.860Z"
   },
   {
    "duration": 952,
    "start_time": "2023-08-13T19:44:11.290Z"
   },
   {
    "duration": 2,
    "start_time": "2023-08-13T19:44:12.244Z"
   },
   {
    "duration": 1153,
    "start_time": "2023-08-13T19:44:12.248Z"
   },
   {
    "duration": 2,
    "start_time": "2023-08-13T19:44:13.402Z"
   },
   {
    "duration": 9,
    "start_time": "2023-08-13T19:44:13.406Z"
   },
   {
    "duration": 4,
    "start_time": "2023-08-13T19:44:13.416Z"
   },
   {
    "duration": 6,
    "start_time": "2023-08-13T19:44:13.421Z"
   },
   {
    "duration": 4,
    "start_time": "2023-08-13T19:44:13.428Z"
   },
   {
    "duration": 467,
    "start_time": "2023-08-13T19:44:13.434Z"
   },
   {
    "duration": 12,
    "start_time": "2023-08-13T19:44:13.902Z"
   },
   {
    "duration": 28,
    "start_time": "2023-08-13T19:44:13.915Z"
   },
   {
    "duration": 6,
    "start_time": "2023-08-13T19:44:13.999Z"
   },
   {
    "duration": 3638,
    "start_time": "2023-08-13T19:44:14.007Z"
   },
   {
    "duration": 1650,
    "start_time": "2023-08-13T19:44:17.646Z"
   },
   {
    "duration": 0,
    "start_time": "2023-08-13T19:44:19.298Z"
   },
   {
    "duration": 0,
    "start_time": "2023-08-13T19:44:19.299Z"
   },
   {
    "duration": 0,
    "start_time": "2023-08-13T19:44:19.300Z"
   },
   {
    "duration": 0,
    "start_time": "2023-08-13T19:44:19.300Z"
   },
   {
    "duration": 0,
    "start_time": "2023-08-13T19:44:19.302Z"
   },
   {
    "duration": 0,
    "start_time": "2023-08-13T19:44:19.302Z"
   },
   {
    "duration": 0,
    "start_time": "2023-08-13T19:44:19.303Z"
   },
   {
    "duration": 0,
    "start_time": "2023-08-13T19:44:19.304Z"
   },
   {
    "duration": 0,
    "start_time": "2023-08-13T19:44:19.305Z"
   },
   {
    "duration": 0,
    "start_time": "2023-08-13T19:44:19.305Z"
   },
   {
    "duration": 0,
    "start_time": "2023-08-13T19:44:19.306Z"
   },
   {
    "duration": 0,
    "start_time": "2023-08-13T19:44:19.307Z"
   },
   {
    "duration": 0,
    "start_time": "2023-08-13T19:44:19.307Z"
   },
   {
    "duration": 0,
    "start_time": "2023-08-13T19:44:19.308Z"
   },
   {
    "duration": 0,
    "start_time": "2023-08-13T19:44:19.309Z"
   },
   {
    "duration": 0,
    "start_time": "2023-08-13T19:44:19.309Z"
   },
   {
    "duration": 0,
    "start_time": "2023-08-13T19:44:19.310Z"
   },
   {
    "duration": 0,
    "start_time": "2023-08-13T19:44:19.311Z"
   },
   {
    "duration": 0,
    "start_time": "2023-08-13T19:44:19.313Z"
   },
   {
    "duration": 0,
    "start_time": "2023-08-13T19:44:19.314Z"
   },
   {
    "duration": 0,
    "start_time": "2023-08-13T19:44:19.315Z"
   },
   {
    "duration": 0,
    "start_time": "2023-08-13T19:44:19.316Z"
   },
   {
    "duration": 0,
    "start_time": "2023-08-13T19:44:19.317Z"
   },
   {
    "duration": 0,
    "start_time": "2023-08-13T19:44:19.318Z"
   },
   {
    "duration": 1318,
    "start_time": "2023-08-13T19:45:50.684Z"
   },
   {
    "duration": 915,
    "start_time": "2023-08-13T19:45:52.004Z"
   },
   {
    "duration": 2,
    "start_time": "2023-08-13T19:45:52.920Z"
   },
   {
    "duration": 676,
    "start_time": "2023-08-13T19:45:52.924Z"
   },
   {
    "duration": 3,
    "start_time": "2023-08-13T19:45:53.601Z"
   },
   {
    "duration": 8,
    "start_time": "2023-08-13T19:45:53.605Z"
   },
   {
    "duration": 3,
    "start_time": "2023-08-13T19:45:53.614Z"
   },
   {
    "duration": 5,
    "start_time": "2023-08-13T19:45:53.618Z"
   },
   {
    "duration": 6,
    "start_time": "2023-08-13T19:45:53.624Z"
   },
   {
    "duration": 405,
    "start_time": "2023-08-13T19:45:53.632Z"
   },
   {
    "duration": 67,
    "start_time": "2023-08-13T19:45:54.038Z"
   },
   {
    "duration": 26,
    "start_time": "2023-08-13T19:45:54.106Z"
   },
   {
    "duration": 4,
    "start_time": "2023-08-13T19:45:54.134Z"
   },
   {
    "duration": 3561,
    "start_time": "2023-08-13T19:45:54.140Z"
   },
   {
    "duration": 115,
    "start_time": "2023-08-13T19:45:57.702Z"
   },
   {
    "duration": 0,
    "start_time": "2023-08-13T19:45:57.819Z"
   },
   {
    "duration": 0,
    "start_time": "2023-08-13T19:45:57.821Z"
   },
   {
    "duration": 0,
    "start_time": "2023-08-13T19:45:57.822Z"
   },
   {
    "duration": 0,
    "start_time": "2023-08-13T19:45:57.823Z"
   },
   {
    "duration": 0,
    "start_time": "2023-08-13T19:45:57.825Z"
   },
   {
    "duration": 0,
    "start_time": "2023-08-13T19:45:57.826Z"
   },
   {
    "duration": 0,
    "start_time": "2023-08-13T19:45:57.827Z"
   },
   {
    "duration": 0,
    "start_time": "2023-08-13T19:45:57.828Z"
   },
   {
    "duration": 0,
    "start_time": "2023-08-13T19:45:57.830Z"
   },
   {
    "duration": 0,
    "start_time": "2023-08-13T19:45:57.831Z"
   },
   {
    "duration": 0,
    "start_time": "2023-08-13T19:45:57.832Z"
   },
   {
    "duration": 0,
    "start_time": "2023-08-13T19:45:57.833Z"
   },
   {
    "duration": 0,
    "start_time": "2023-08-13T19:45:57.834Z"
   },
   {
    "duration": 0,
    "start_time": "2023-08-13T19:45:57.836Z"
   },
   {
    "duration": 0,
    "start_time": "2023-08-13T19:45:57.837Z"
   },
   {
    "duration": 0,
    "start_time": "2023-08-13T19:45:57.838Z"
   },
   {
    "duration": 0,
    "start_time": "2023-08-13T19:45:57.839Z"
   },
   {
    "duration": 0,
    "start_time": "2023-08-13T19:45:57.840Z"
   },
   {
    "duration": 0,
    "start_time": "2023-08-13T19:45:57.842Z"
   },
   {
    "duration": 0,
    "start_time": "2023-08-13T19:45:57.843Z"
   },
   {
    "duration": 0,
    "start_time": "2023-08-13T19:45:57.844Z"
   },
   {
    "duration": 0,
    "start_time": "2023-08-13T19:45:57.845Z"
   },
   {
    "duration": 0,
    "start_time": "2023-08-13T19:45:57.846Z"
   },
   {
    "duration": 0,
    "start_time": "2023-08-13T19:45:57.847Z"
   },
   {
    "duration": 1528,
    "start_time": "2023-08-13T19:46:13.891Z"
   },
   {
    "duration": 1450,
    "start_time": "2023-08-13T19:46:15.421Z"
   },
   {
    "duration": 4,
    "start_time": "2023-08-13T19:46:16.872Z"
   },
   {
    "duration": 582,
    "start_time": "2023-08-13T19:46:16.877Z"
   },
   {
    "duration": 2,
    "start_time": "2023-08-13T19:46:17.460Z"
   },
   {
    "duration": 24,
    "start_time": "2023-08-13T19:46:17.464Z"
   },
   {
    "duration": 14,
    "start_time": "2023-08-13T19:46:17.489Z"
   },
   {
    "duration": 7,
    "start_time": "2023-08-13T19:46:17.504Z"
   },
   {
    "duration": 8,
    "start_time": "2023-08-13T19:46:17.513Z"
   },
   {
    "duration": 224,
    "start_time": "2023-08-13T19:46:17.522Z"
   },
   {
    "duration": 12,
    "start_time": "2023-08-13T19:46:17.747Z"
   },
   {
    "duration": 39,
    "start_time": "2023-08-13T19:46:17.760Z"
   },
   {
    "duration": 4,
    "start_time": "2023-08-13T19:46:17.801Z"
   },
   {
    "duration": 3208,
    "start_time": "2023-08-13T19:46:17.806Z"
   },
   {
    "duration": 16,
    "start_time": "2023-08-13T19:46:21.016Z"
   },
   {
    "duration": 5,
    "start_time": "2023-08-13T19:46:21.034Z"
   },
   {
    "duration": 11,
    "start_time": "2023-08-13T19:46:21.040Z"
   },
   {
    "duration": 1052,
    "start_time": "2023-08-13T19:46:21.052Z"
   },
   {
    "duration": 3,
    "start_time": "2023-08-13T19:46:22.105Z"
   },
   {
    "duration": 5,
    "start_time": "2023-08-13T19:46:22.110Z"
   },
   {
    "duration": 18,
    "start_time": "2023-08-13T19:46:22.116Z"
   },
   {
    "duration": 17,
    "start_time": "2023-08-13T19:46:22.135Z"
   },
   {
    "duration": 2,
    "start_time": "2023-08-13T19:46:22.154Z"
   },
   {
    "duration": 45,
    "start_time": "2023-08-13T19:46:22.157Z"
   },
   {
    "duration": 12,
    "start_time": "2023-08-13T19:46:22.204Z"
   },
   {
    "duration": 8,
    "start_time": "2023-08-13T19:46:22.217Z"
   },
   {
    "duration": 8,
    "start_time": "2023-08-13T19:46:22.226Z"
   },
   {
    "duration": 4002,
    "start_time": "2023-08-13T19:46:22.237Z"
   },
   {
    "duration": 0,
    "start_time": "2023-08-13T19:46:26.241Z"
   },
   {
    "duration": 0,
    "start_time": "2023-08-13T19:46:26.242Z"
   },
   {
    "duration": 0,
    "start_time": "2023-08-13T19:46:26.243Z"
   },
   {
    "duration": 0,
    "start_time": "2023-08-13T19:46:26.244Z"
   },
   {
    "duration": 0,
    "start_time": "2023-08-13T19:46:26.244Z"
   },
   {
    "duration": 0,
    "start_time": "2023-08-13T19:46:26.245Z"
   },
   {
    "duration": 0,
    "start_time": "2023-08-13T19:46:26.246Z"
   },
   {
    "duration": 0,
    "start_time": "2023-08-13T19:46:26.247Z"
   },
   {
    "duration": 0,
    "start_time": "2023-08-13T19:46:26.247Z"
   },
   {
    "duration": 0,
    "start_time": "2023-08-13T19:46:26.248Z"
   },
   {
    "duration": 0,
    "start_time": "2023-08-13T19:46:26.249Z"
   },
   {
    "duration": 1367,
    "start_time": "2023-08-13T19:47:05.997Z"
   },
   {
    "duration": 1041,
    "start_time": "2023-08-13T19:47:07.366Z"
   },
   {
    "duration": 3,
    "start_time": "2023-08-13T19:47:08.408Z"
   },
   {
    "duration": 645,
    "start_time": "2023-08-13T19:47:08.413Z"
   },
   {
    "duration": 3,
    "start_time": "2023-08-13T19:47:09.060Z"
   },
   {
    "duration": 8,
    "start_time": "2023-08-13T19:47:09.064Z"
   },
   {
    "duration": 4,
    "start_time": "2023-08-13T19:47:09.073Z"
   },
   {
    "duration": 24,
    "start_time": "2023-08-13T19:47:09.078Z"
   },
   {
    "duration": 4,
    "start_time": "2023-08-13T19:47:09.103Z"
   },
   {
    "duration": 254,
    "start_time": "2023-08-13T19:47:09.108Z"
   },
   {
    "duration": 15,
    "start_time": "2023-08-13T19:47:09.363Z"
   },
   {
    "duration": 48,
    "start_time": "2023-08-13T19:47:09.379Z"
   },
   {
    "duration": 5,
    "start_time": "2023-08-13T19:47:09.429Z"
   },
   {
    "duration": 4201,
    "start_time": "2023-08-13T19:47:09.437Z"
   },
   {
    "duration": 15,
    "start_time": "2023-08-13T19:47:13.640Z"
   },
   {
    "duration": 3051,
    "start_time": "2023-08-13T19:47:13.657Z"
   },
   {
    "duration": 5,
    "start_time": "2023-08-13T19:47:16.709Z"
   },
   {
    "duration": 41,
    "start_time": "2023-08-13T19:47:16.715Z"
   },
   {
    "duration": 1160,
    "start_time": "2023-08-13T19:47:16.757Z"
   },
   {
    "duration": 4,
    "start_time": "2023-08-13T19:47:17.919Z"
   },
   {
    "duration": 38,
    "start_time": "2023-08-13T19:47:17.924Z"
   },
   {
    "duration": 21,
    "start_time": "2023-08-13T19:47:17.964Z"
   },
   {
    "duration": 46,
    "start_time": "2023-08-13T19:47:17.986Z"
   },
   {
    "duration": 61,
    "start_time": "2023-08-13T19:47:18.034Z"
   },
   {
    "duration": 82,
    "start_time": "2023-08-13T19:47:18.096Z"
   },
   {
    "duration": 57,
    "start_time": "2023-08-13T19:47:18.180Z"
   },
   {
    "duration": 55,
    "start_time": "2023-08-13T19:47:18.239Z"
   },
   {
    "duration": 41,
    "start_time": "2023-08-13T19:47:18.296Z"
   },
   {
    "duration": 683,
    "start_time": "2023-08-13T19:47:18.339Z"
   },
   {
    "duration": 0,
    "start_time": "2023-08-13T19:47:19.024Z"
   },
   {
    "duration": 0,
    "start_time": "2023-08-13T19:47:19.024Z"
   },
   {
    "duration": 0,
    "start_time": "2023-08-13T19:47:19.025Z"
   },
   {
    "duration": 0,
    "start_time": "2023-08-13T19:47:19.026Z"
   },
   {
    "duration": 0,
    "start_time": "2023-08-13T19:47:19.027Z"
   },
   {
    "duration": 0,
    "start_time": "2023-08-13T19:47:19.027Z"
   },
   {
    "duration": 0,
    "start_time": "2023-08-13T19:47:19.028Z"
   },
   {
    "duration": 0,
    "start_time": "2023-08-13T19:47:19.029Z"
   },
   {
    "duration": 0,
    "start_time": "2023-08-13T19:47:19.030Z"
   },
   {
    "duration": 0,
    "start_time": "2023-08-13T19:47:19.031Z"
   },
   {
    "duration": 0,
    "start_time": "2023-08-13T19:47:19.031Z"
   },
   {
    "duration": 1341,
    "start_time": "2023-08-13T19:48:02.057Z"
   },
   {
    "duration": 922,
    "start_time": "2023-08-13T19:48:03.400Z"
   },
   {
    "duration": 3,
    "start_time": "2023-08-13T19:48:04.323Z"
   },
   {
    "duration": 561,
    "start_time": "2023-08-13T19:48:04.327Z"
   },
   {
    "duration": 2,
    "start_time": "2023-08-13T19:48:04.890Z"
   },
   {
    "duration": 10,
    "start_time": "2023-08-13T19:48:04.899Z"
   },
   {
    "duration": 4,
    "start_time": "2023-08-13T19:48:04.910Z"
   },
   {
    "duration": 5,
    "start_time": "2023-08-13T19:48:04.915Z"
   },
   {
    "duration": 7,
    "start_time": "2023-08-13T19:48:04.921Z"
   },
   {
    "duration": 213,
    "start_time": "2023-08-13T19:48:04.930Z"
   },
   {
    "duration": 14,
    "start_time": "2023-08-13T19:48:05.144Z"
   },
   {
    "duration": 46,
    "start_time": "2023-08-13T19:48:05.159Z"
   },
   {
    "duration": 5,
    "start_time": "2023-08-13T19:48:05.207Z"
   },
   {
    "duration": 3196,
    "start_time": "2023-08-13T19:48:05.214Z"
   },
   {
    "duration": 15,
    "start_time": "2023-08-13T19:48:08.412Z"
   },
   {
    "duration": 2991,
    "start_time": "2023-08-13T19:48:08.428Z"
   },
   {
    "duration": 5,
    "start_time": "2023-08-13T19:48:11.420Z"
   },
   {
    "duration": 17,
    "start_time": "2023-08-13T19:48:11.426Z"
   },
   {
    "duration": 1059,
    "start_time": "2023-08-13T19:48:11.444Z"
   },
   {
    "duration": 3,
    "start_time": "2023-08-13T19:48:12.505Z"
   },
   {
    "duration": 5,
    "start_time": "2023-08-13T19:48:12.509Z"
   },
   {
    "duration": 15,
    "start_time": "2023-08-13T19:48:12.516Z"
   },
   {
    "duration": 16,
    "start_time": "2023-08-13T19:48:12.532Z"
   },
   {
    "duration": 2,
    "start_time": "2023-08-13T19:48:12.549Z"
   },
   {
    "duration": 15,
    "start_time": "2023-08-13T19:48:12.552Z"
   },
   {
    "duration": 6,
    "start_time": "2023-08-13T19:48:12.568Z"
   },
   {
    "duration": 6,
    "start_time": "2023-08-13T19:48:12.599Z"
   },
   {
    "duration": 7,
    "start_time": "2023-08-13T19:48:12.607Z"
   },
   {
    "duration": 2601,
    "start_time": "2023-08-13T19:48:12.616Z"
   },
   {
    "duration": 0,
    "start_time": "2023-08-13T19:48:15.219Z"
   },
   {
    "duration": 0,
    "start_time": "2023-08-13T19:48:15.219Z"
   },
   {
    "duration": 0,
    "start_time": "2023-08-13T19:48:15.221Z"
   },
   {
    "duration": 0,
    "start_time": "2023-08-13T19:48:15.221Z"
   },
   {
    "duration": 0,
    "start_time": "2023-08-13T19:48:15.222Z"
   },
   {
    "duration": 0,
    "start_time": "2023-08-13T19:48:15.223Z"
   },
   {
    "duration": 0,
    "start_time": "2023-08-13T19:48:15.224Z"
   },
   {
    "duration": 0,
    "start_time": "2023-08-13T19:48:15.225Z"
   },
   {
    "duration": 0,
    "start_time": "2023-08-13T19:48:15.226Z"
   },
   {
    "duration": 0,
    "start_time": "2023-08-13T19:48:15.227Z"
   },
   {
    "duration": 0,
    "start_time": "2023-08-13T19:48:15.227Z"
   },
   {
    "duration": 1315,
    "start_time": "2023-08-13T19:50:35.459Z"
   },
   {
    "duration": 1213,
    "start_time": "2023-08-13T19:50:43.555Z"
   },
   {
    "duration": 914,
    "start_time": "2023-08-13T19:50:44.769Z"
   },
   {
    "duration": 3,
    "start_time": "2023-08-13T19:50:45.684Z"
   },
   {
    "duration": 554,
    "start_time": "2023-08-13T19:50:45.688Z"
   },
   {
    "duration": 2,
    "start_time": "2023-08-13T19:50:46.244Z"
   },
   {
    "duration": 16,
    "start_time": "2023-08-13T19:50:46.247Z"
   },
   {
    "duration": 10,
    "start_time": "2023-08-13T19:50:46.265Z"
   },
   {
    "duration": 5,
    "start_time": "2023-08-13T19:50:46.277Z"
   },
   {
    "duration": 12,
    "start_time": "2023-08-13T19:50:46.283Z"
   },
   {
    "duration": 224,
    "start_time": "2023-08-13T19:50:46.297Z"
   },
   {
    "duration": 14,
    "start_time": "2023-08-13T19:50:46.524Z"
   },
   {
    "duration": 58,
    "start_time": "2023-08-13T19:50:46.540Z"
   },
   {
    "duration": 21,
    "start_time": "2023-08-13T19:50:46.600Z"
   },
   {
    "duration": 3776,
    "start_time": "2023-08-13T19:50:46.623Z"
   },
   {
    "duration": 16,
    "start_time": "2023-08-13T19:50:50.401Z"
   },
   {
    "duration": 3104,
    "start_time": "2023-08-13T19:50:50.418Z"
   },
   {
    "duration": 13,
    "start_time": "2023-08-13T19:50:53.524Z"
   },
   {
    "duration": 32,
    "start_time": "2023-08-13T19:50:53.539Z"
   },
   {
    "duration": 6,
    "start_time": "2023-08-13T19:50:53.573Z"
   },
   {
    "duration": 1024,
    "start_time": "2023-08-13T19:50:53.580Z"
   },
   {
    "duration": 3,
    "start_time": "2023-08-13T19:50:54.606Z"
   },
   {
    "duration": 18,
    "start_time": "2023-08-13T19:50:54.611Z"
   },
   {
    "duration": 23,
    "start_time": "2023-08-13T19:50:54.630Z"
   },
   {
    "duration": 28,
    "start_time": "2023-08-13T19:50:54.655Z"
   },
   {
    "duration": 4,
    "start_time": "2023-08-13T19:50:54.685Z"
   },
   {
    "duration": 21,
    "start_time": "2023-08-13T19:50:54.690Z"
   },
   {
    "duration": 24,
    "start_time": "2023-08-13T19:50:54.712Z"
   },
   {
    "duration": 13,
    "start_time": "2023-08-13T19:50:54.737Z"
   },
   {
    "duration": 20,
    "start_time": "2023-08-13T19:50:54.751Z"
   },
   {
    "duration": 77217,
    "start_time": "2023-08-13T19:50:54.772Z"
   },
   {
    "duration": 0,
    "start_time": "2023-08-13T19:52:11.991Z"
   },
   {
    "duration": 0,
    "start_time": "2023-08-13T19:52:11.992Z"
   },
   {
    "duration": 0,
    "start_time": "2023-08-13T19:52:11.992Z"
   },
   {
    "duration": 0,
    "start_time": "2023-08-13T19:52:11.993Z"
   },
   {
    "duration": 0,
    "start_time": "2023-08-13T19:52:11.995Z"
   },
   {
    "duration": 0,
    "start_time": "2023-08-13T19:52:11.996Z"
   },
   {
    "duration": 0,
    "start_time": "2023-08-13T19:52:11.999Z"
   },
   {
    "duration": 0,
    "start_time": "2023-08-13T19:52:12.000Z"
   },
   {
    "duration": 0,
    "start_time": "2023-08-13T19:52:12.001Z"
   },
   {
    "duration": 1,
    "start_time": "2023-08-13T19:52:12.001Z"
   },
   {
    "duration": 0,
    "start_time": "2023-08-13T19:52:12.002Z"
   },
   {
    "duration": 1356,
    "start_time": "2023-08-13T19:53:31.929Z"
   },
   {
    "duration": 924,
    "start_time": "2023-08-13T19:53:33.287Z"
   },
   {
    "duration": 3,
    "start_time": "2023-08-13T19:53:34.212Z"
   },
   {
    "duration": 559,
    "start_time": "2023-08-13T19:53:34.216Z"
   },
   {
    "duration": 3,
    "start_time": "2023-08-13T19:53:34.777Z"
   },
   {
    "duration": 19,
    "start_time": "2023-08-13T19:53:34.781Z"
   },
   {
    "duration": 3,
    "start_time": "2023-08-13T19:53:34.801Z"
   },
   {
    "duration": 7,
    "start_time": "2023-08-13T19:53:34.805Z"
   },
   {
    "duration": 11,
    "start_time": "2023-08-13T19:53:34.813Z"
   },
   {
    "duration": 404,
    "start_time": "2023-08-13T19:53:34.826Z"
   },
   {
    "duration": 68,
    "start_time": "2023-08-13T19:53:35.231Z"
   },
   {
    "duration": 30,
    "start_time": "2023-08-13T19:53:35.301Z"
   },
   {
    "duration": 6,
    "start_time": "2023-08-13T19:53:35.333Z"
   },
   {
    "duration": 3745,
    "start_time": "2023-08-13T19:53:35.399Z"
   },
   {
    "duration": 1489,
    "start_time": "2023-08-13T19:53:39.145Z"
   },
   {
    "duration": 0,
    "start_time": "2023-08-13T19:53:40.635Z"
   },
   {
    "duration": 0,
    "start_time": "2023-08-13T19:53:40.636Z"
   },
   {
    "duration": 0,
    "start_time": "2023-08-13T19:53:40.637Z"
   },
   {
    "duration": 0,
    "start_time": "2023-08-13T19:53:40.638Z"
   },
   {
    "duration": 0,
    "start_time": "2023-08-13T19:53:40.639Z"
   },
   {
    "duration": 0,
    "start_time": "2023-08-13T19:53:40.639Z"
   },
   {
    "duration": 0,
    "start_time": "2023-08-13T19:53:40.640Z"
   },
   {
    "duration": 0,
    "start_time": "2023-08-13T19:53:40.641Z"
   },
   {
    "duration": 0,
    "start_time": "2023-08-13T19:53:40.642Z"
   },
   {
    "duration": 0,
    "start_time": "2023-08-13T19:53:40.643Z"
   },
   {
    "duration": 0,
    "start_time": "2023-08-13T19:53:40.644Z"
   },
   {
    "duration": 0,
    "start_time": "2023-08-13T19:53:40.644Z"
   },
   {
    "duration": 0,
    "start_time": "2023-08-13T19:53:40.645Z"
   },
   {
    "duration": 0,
    "start_time": "2023-08-13T19:53:40.646Z"
   },
   {
    "duration": 0,
    "start_time": "2023-08-13T19:53:40.647Z"
   },
   {
    "duration": 0,
    "start_time": "2023-08-13T19:53:40.648Z"
   },
   {
    "duration": 0,
    "start_time": "2023-08-13T19:53:40.649Z"
   },
   {
    "duration": 0,
    "start_time": "2023-08-13T19:53:40.649Z"
   },
   {
    "duration": 0,
    "start_time": "2023-08-13T19:53:40.650Z"
   },
   {
    "duration": 0,
    "start_time": "2023-08-13T19:53:40.651Z"
   },
   {
    "duration": 0,
    "start_time": "2023-08-13T19:53:40.652Z"
   },
   {
    "duration": 0,
    "start_time": "2023-08-13T19:53:40.652Z"
   },
   {
    "duration": 0,
    "start_time": "2023-08-13T19:53:40.653Z"
   },
   {
    "duration": 0,
    "start_time": "2023-08-13T19:53:40.654Z"
   },
   {
    "duration": 0,
    "start_time": "2023-08-13T19:53:40.655Z"
   },
   {
    "duration": 0,
    "start_time": "2023-08-13T19:53:40.656Z"
   },
   {
    "duration": 1850,
    "start_time": "2023-08-13T19:53:51.089Z"
   },
   {
    "duration": 1289,
    "start_time": "2023-08-13T19:54:12.706Z"
   },
   {
    "duration": 896,
    "start_time": "2023-08-13T19:54:13.996Z"
   },
   {
    "duration": 7,
    "start_time": "2023-08-13T19:54:14.893Z"
   },
   {
    "duration": 585,
    "start_time": "2023-08-13T19:54:14.901Z"
   },
   {
    "duration": 15,
    "start_time": "2023-08-13T19:54:15.488Z"
   },
   {
    "duration": 27,
    "start_time": "2023-08-13T19:54:15.504Z"
   },
   {
    "duration": 8,
    "start_time": "2023-08-13T19:54:15.533Z"
   },
   {
    "duration": 15,
    "start_time": "2023-08-13T19:54:15.542Z"
   },
   {
    "duration": 4,
    "start_time": "2023-08-13T19:54:15.559Z"
   },
   {
    "duration": 215,
    "start_time": "2023-08-13T19:54:15.565Z"
   },
   {
    "duration": 19,
    "start_time": "2023-08-13T19:54:15.782Z"
   },
   {
    "duration": 27,
    "start_time": "2023-08-13T19:54:15.803Z"
   },
   {
    "duration": 4,
    "start_time": "2023-08-13T19:54:15.832Z"
   },
   {
    "duration": 3169,
    "start_time": "2023-08-13T19:54:15.838Z"
   },
   {
    "duration": 16,
    "start_time": "2023-08-13T19:54:19.008Z"
   },
   {
    "duration": 3687,
    "start_time": "2023-08-13T19:54:19.025Z"
   },
   {
    "duration": 13,
    "start_time": "2023-08-13T19:54:22.714Z"
   },
   {
    "duration": 71,
    "start_time": "2023-08-13T19:54:22.729Z"
   },
   {
    "duration": 5,
    "start_time": "2023-08-13T19:54:22.802Z"
   },
   {
    "duration": 1195,
    "start_time": "2023-08-13T19:54:22.808Z"
   },
   {
    "duration": 4,
    "start_time": "2023-08-13T19:54:24.005Z"
   },
   {
    "duration": 4,
    "start_time": "2023-08-13T19:54:24.011Z"
   },
   {
    "duration": 24,
    "start_time": "2023-08-13T19:54:24.017Z"
   },
   {
    "duration": 16,
    "start_time": "2023-08-13T19:54:24.043Z"
   },
   {
    "duration": 2,
    "start_time": "2023-08-13T19:54:24.061Z"
   },
   {
    "duration": 14,
    "start_time": "2023-08-13T19:54:24.064Z"
   },
   {
    "duration": 11,
    "start_time": "2023-08-13T19:54:24.080Z"
   },
   {
    "duration": 29,
    "start_time": "2023-08-13T19:54:24.093Z"
   },
   {
    "duration": 16,
    "start_time": "2023-08-13T19:54:24.124Z"
   },
   {
    "duration": 1597,
    "start_time": "2023-08-13T19:54:24.141Z"
   },
   {
    "duration": 0,
    "start_time": "2023-08-13T19:54:25.740Z"
   },
   {
    "duration": 0,
    "start_time": "2023-08-13T19:54:25.741Z"
   },
   {
    "duration": 0,
    "start_time": "2023-08-13T19:54:25.742Z"
   },
   {
    "duration": 0,
    "start_time": "2023-08-13T19:54:25.743Z"
   },
   {
    "duration": 0,
    "start_time": "2023-08-13T19:54:25.744Z"
   },
   {
    "duration": 0,
    "start_time": "2023-08-13T19:54:25.745Z"
   },
   {
    "duration": 0,
    "start_time": "2023-08-13T19:54:25.746Z"
   },
   {
    "duration": 0,
    "start_time": "2023-08-13T19:54:25.746Z"
   },
   {
    "duration": 0,
    "start_time": "2023-08-13T19:54:25.747Z"
   },
   {
    "duration": 0,
    "start_time": "2023-08-13T19:54:25.748Z"
   },
   {
    "duration": 0,
    "start_time": "2023-08-13T19:54:25.749Z"
   },
   {
    "duration": 1405,
    "start_time": "2023-08-13T19:56:59.667Z"
   },
   {
    "duration": 1345,
    "start_time": "2023-08-13T19:57:05.794Z"
   },
   {
    "duration": 1885,
    "start_time": "2023-08-13T19:57:07.141Z"
   },
   {
    "duration": 4,
    "start_time": "2023-08-13T19:57:09.027Z"
   },
   {
    "duration": 681,
    "start_time": "2023-08-13T19:57:09.033Z"
   },
   {
    "duration": 2,
    "start_time": "2023-08-13T19:57:09.716Z"
   },
   {
    "duration": 9,
    "start_time": "2023-08-13T19:57:09.720Z"
   },
   {
    "duration": 6,
    "start_time": "2023-08-13T19:57:09.730Z"
   },
   {
    "duration": 10,
    "start_time": "2023-08-13T19:57:09.737Z"
   },
   {
    "duration": 6,
    "start_time": "2023-08-13T19:57:09.748Z"
   },
   {
    "duration": 255,
    "start_time": "2023-08-13T19:57:09.756Z"
   },
   {
    "duration": 14,
    "start_time": "2023-08-13T19:57:10.013Z"
   },
   {
    "duration": 39,
    "start_time": "2023-08-13T19:57:10.028Z"
   },
   {
    "duration": 5,
    "start_time": "2023-08-13T19:57:10.068Z"
   },
   {
    "duration": 3133,
    "start_time": "2023-08-13T19:57:10.074Z"
   },
   {
    "duration": 16,
    "start_time": "2023-08-13T19:57:13.208Z"
   },
   {
    "duration": 2986,
    "start_time": "2023-08-13T19:57:13.226Z"
   },
   {
    "duration": 13,
    "start_time": "2023-08-13T19:57:16.213Z"
   },
   {
    "duration": 21,
    "start_time": "2023-08-13T19:57:16.227Z"
   },
   {
    "duration": 6,
    "start_time": "2023-08-13T19:57:16.249Z"
   },
   {
    "duration": 6,
    "start_time": "2023-08-13T19:57:16.256Z"
   },
   {
    "duration": 1045,
    "start_time": "2023-08-13T19:57:16.264Z"
   },
   {
    "duration": 4,
    "start_time": "2023-08-13T19:57:17.310Z"
   },
   {
    "duration": 5,
    "start_time": "2023-08-13T19:57:17.315Z"
   },
   {
    "duration": 16,
    "start_time": "2023-08-13T19:57:17.321Z"
   },
   {
    "duration": 16,
    "start_time": "2023-08-13T19:57:17.338Z"
   },
   {
    "duration": 2,
    "start_time": "2023-08-13T19:57:17.355Z"
   },
   {
    "duration": 14,
    "start_time": "2023-08-13T19:57:17.358Z"
   },
   {
    "duration": 6,
    "start_time": "2023-08-13T19:57:17.374Z"
   },
   {
    "duration": 5,
    "start_time": "2023-08-13T19:57:17.400Z"
   },
   {
    "duration": 11,
    "start_time": "2023-08-13T19:57:17.406Z"
   },
   {
    "duration": 1590,
    "start_time": "2023-08-13T19:57:17.418Z"
   },
   {
    "duration": 0,
    "start_time": "2023-08-13T19:57:19.010Z"
   },
   {
    "duration": 0,
    "start_time": "2023-08-13T19:57:19.011Z"
   },
   {
    "duration": 0,
    "start_time": "2023-08-13T19:57:19.012Z"
   },
   {
    "duration": 0,
    "start_time": "2023-08-13T19:57:19.013Z"
   },
   {
    "duration": 0,
    "start_time": "2023-08-13T19:57:19.014Z"
   },
   {
    "duration": 0,
    "start_time": "2023-08-13T19:57:19.015Z"
   },
   {
    "duration": 0,
    "start_time": "2023-08-13T19:57:19.015Z"
   },
   {
    "duration": 0,
    "start_time": "2023-08-13T19:57:19.016Z"
   },
   {
    "duration": 0,
    "start_time": "2023-08-13T19:57:19.017Z"
   },
   {
    "duration": 0,
    "start_time": "2023-08-13T19:57:19.018Z"
   },
   {
    "duration": 0,
    "start_time": "2023-08-13T19:57:19.018Z"
   },
   {
    "duration": 1243,
    "start_time": "2023-08-13T19:57:34.264Z"
   },
   {
    "duration": 944,
    "start_time": "2023-08-13T19:57:35.509Z"
   },
   {
    "duration": 3,
    "start_time": "2023-08-13T19:57:36.455Z"
   },
   {
    "duration": 580,
    "start_time": "2023-08-13T19:57:36.459Z"
   },
   {
    "duration": 2,
    "start_time": "2023-08-13T19:57:37.041Z"
   },
   {
    "duration": 11,
    "start_time": "2023-08-13T19:57:37.044Z"
   },
   {
    "duration": 9,
    "start_time": "2023-08-13T19:57:37.056Z"
   },
   {
    "duration": 14,
    "start_time": "2023-08-13T19:57:37.067Z"
   },
   {
    "duration": 24,
    "start_time": "2023-08-13T19:57:37.082Z"
   },
   {
    "duration": 215,
    "start_time": "2023-08-13T19:57:37.108Z"
   },
   {
    "duration": 12,
    "start_time": "2023-08-13T19:57:37.325Z"
   },
   {
    "duration": 32,
    "start_time": "2023-08-13T19:57:37.338Z"
   },
   {
    "duration": 5,
    "start_time": "2023-08-13T19:57:37.371Z"
   },
   {
    "duration": 4239,
    "start_time": "2023-08-13T19:57:37.378Z"
   },
   {
    "duration": 16,
    "start_time": "2023-08-13T19:57:41.619Z"
   },
   {
    "duration": 2976,
    "start_time": "2023-08-13T19:57:41.638Z"
   },
   {
    "duration": 13,
    "start_time": "2023-08-13T19:57:44.615Z"
   },
   {
    "duration": 121,
    "start_time": "2023-08-13T19:57:44.629Z"
   },
   {
    "duration": 0,
    "start_time": "2023-08-13T19:57:44.751Z"
   },
   {
    "duration": 0,
    "start_time": "2023-08-13T19:57:44.752Z"
   },
   {
    "duration": 0,
    "start_time": "2023-08-13T19:57:44.753Z"
   },
   {
    "duration": 0,
    "start_time": "2023-08-13T19:57:44.754Z"
   },
   {
    "duration": 0,
    "start_time": "2023-08-13T19:57:44.754Z"
   },
   {
    "duration": 0,
    "start_time": "2023-08-13T19:57:44.755Z"
   },
   {
    "duration": 0,
    "start_time": "2023-08-13T19:57:44.756Z"
   },
   {
    "duration": 0,
    "start_time": "2023-08-13T19:57:44.756Z"
   },
   {
    "duration": 0,
    "start_time": "2023-08-13T19:57:44.757Z"
   },
   {
    "duration": 0,
    "start_time": "2023-08-13T19:57:44.758Z"
   },
   {
    "duration": 0,
    "start_time": "2023-08-13T19:57:44.758Z"
   },
   {
    "duration": 0,
    "start_time": "2023-08-13T19:57:44.759Z"
   },
   {
    "duration": 0,
    "start_time": "2023-08-13T19:57:44.760Z"
   },
   {
    "duration": 0,
    "start_time": "2023-08-13T19:57:44.760Z"
   },
   {
    "duration": 0,
    "start_time": "2023-08-13T19:57:44.761Z"
   },
   {
    "duration": 0,
    "start_time": "2023-08-13T19:57:44.762Z"
   },
   {
    "duration": 0,
    "start_time": "2023-08-13T19:57:44.763Z"
   },
   {
    "duration": 0,
    "start_time": "2023-08-13T19:57:44.764Z"
   },
   {
    "duration": 0,
    "start_time": "2023-08-13T19:57:44.764Z"
   },
   {
    "duration": 0,
    "start_time": "2023-08-13T19:57:44.765Z"
   },
   {
    "duration": 0,
    "start_time": "2023-08-13T19:57:44.765Z"
   },
   {
    "duration": 0,
    "start_time": "2023-08-13T19:57:44.766Z"
   },
   {
    "duration": 0,
    "start_time": "2023-08-13T19:57:44.767Z"
   },
   {
    "duration": 0,
    "start_time": "2023-08-13T19:57:44.768Z"
   },
   {
    "duration": 1319,
    "start_time": "2023-08-13T19:58:35.299Z"
   },
   {
    "duration": 921,
    "start_time": "2023-08-13T19:58:36.622Z"
   },
   {
    "duration": 2,
    "start_time": "2023-08-13T19:58:37.545Z"
   },
   {
    "duration": 621,
    "start_time": "2023-08-13T19:58:37.548Z"
   },
   {
    "duration": 2,
    "start_time": "2023-08-13T19:58:38.171Z"
   },
   {
    "duration": 66,
    "start_time": "2023-08-13T19:58:38.175Z"
   },
   {
    "duration": 32,
    "start_time": "2023-08-13T19:58:38.243Z"
   },
   {
    "duration": 18,
    "start_time": "2023-08-13T19:58:38.277Z"
   },
   {
    "duration": 3,
    "start_time": "2023-08-13T19:58:38.298Z"
   },
   {
    "duration": 260,
    "start_time": "2023-08-13T19:58:38.303Z"
   },
   {
    "duration": 13,
    "start_time": "2023-08-13T19:58:38.565Z"
   },
   {
    "duration": 38,
    "start_time": "2023-08-13T19:58:38.580Z"
   },
   {
    "duration": 4,
    "start_time": "2023-08-13T19:58:38.620Z"
   },
   {
    "duration": 3212,
    "start_time": "2023-08-13T19:58:38.626Z"
   },
   {
    "duration": 17,
    "start_time": "2023-08-13T19:58:41.839Z"
   },
   {
    "duration": 3083,
    "start_time": "2023-08-13T19:58:41.858Z"
   },
   {
    "duration": 14,
    "start_time": "2023-08-13T19:58:44.943Z"
   },
   {
    "duration": 33,
    "start_time": "2023-08-13T19:58:44.959Z"
   },
   {
    "duration": 11,
    "start_time": "2023-08-13T19:58:44.994Z"
   },
   {
    "duration": 1118,
    "start_time": "2023-08-13T19:58:45.006Z"
   },
   {
    "duration": 4,
    "start_time": "2023-08-13T19:58:46.125Z"
   },
   {
    "duration": 10,
    "start_time": "2023-08-13T19:58:46.130Z"
   },
   {
    "duration": 13,
    "start_time": "2023-08-13T19:58:46.141Z"
   },
   {
    "duration": 20,
    "start_time": "2023-08-13T19:58:46.155Z"
   },
   {
    "duration": 3,
    "start_time": "2023-08-13T19:58:46.177Z"
   },
   {
    "duration": 15,
    "start_time": "2023-08-13T19:58:46.181Z"
   },
   {
    "duration": 6,
    "start_time": "2023-08-13T19:58:46.201Z"
   },
   {
    "duration": 9,
    "start_time": "2023-08-13T19:58:46.209Z"
   },
   {
    "duration": 32,
    "start_time": "2023-08-13T19:58:46.219Z"
   },
   {
    "duration": 2687,
    "start_time": "2023-08-13T19:58:46.253Z"
   },
   {
    "duration": 0,
    "start_time": "2023-08-13T19:58:48.942Z"
   },
   {
    "duration": 0,
    "start_time": "2023-08-13T19:58:48.942Z"
   },
   {
    "duration": 0,
    "start_time": "2023-08-13T19:58:48.943Z"
   },
   {
    "duration": 0,
    "start_time": "2023-08-13T19:58:48.944Z"
   },
   {
    "duration": 0,
    "start_time": "2023-08-13T19:58:48.945Z"
   },
   {
    "duration": 0,
    "start_time": "2023-08-13T19:58:48.946Z"
   },
   {
    "duration": 0,
    "start_time": "2023-08-13T19:58:48.946Z"
   },
   {
    "duration": 0,
    "start_time": "2023-08-13T19:58:48.947Z"
   },
   {
    "duration": 1,
    "start_time": "2023-08-13T19:58:48.947Z"
   },
   {
    "duration": 0,
    "start_time": "2023-08-13T19:58:48.948Z"
   },
   {
    "duration": 0,
    "start_time": "2023-08-13T19:58:48.949Z"
   },
   {
    "duration": 1355,
    "start_time": "2023-08-13T20:18:30.676Z"
   },
   {
    "duration": 994,
    "start_time": "2023-08-13T20:18:32.032Z"
   },
   {
    "duration": 3,
    "start_time": "2023-08-13T20:18:33.028Z"
   },
   {
    "duration": 586,
    "start_time": "2023-08-13T20:18:33.033Z"
   },
   {
    "duration": 3,
    "start_time": "2023-08-13T20:18:33.620Z"
   },
   {
    "duration": 9,
    "start_time": "2023-08-13T20:18:33.624Z"
   },
   {
    "duration": 18,
    "start_time": "2023-08-13T20:18:33.635Z"
   },
   {
    "duration": 15,
    "start_time": "2023-08-13T20:18:33.654Z"
   },
   {
    "duration": 20,
    "start_time": "2023-08-13T20:18:33.670Z"
   },
   {
    "duration": 425,
    "start_time": "2023-08-13T20:18:33.693Z"
   },
   {
    "duration": 17,
    "start_time": "2023-08-13T20:18:34.120Z"
   },
   {
    "duration": 93,
    "start_time": "2023-08-13T20:18:34.139Z"
   },
   {
    "duration": 6,
    "start_time": "2023-08-13T20:18:34.234Z"
   },
   {
    "duration": 3908,
    "start_time": "2023-08-13T20:18:34.241Z"
   },
   {
    "duration": 134,
    "start_time": "2023-08-13T20:18:38.151Z"
   },
   {
    "duration": 0,
    "start_time": "2023-08-13T20:18:38.287Z"
   },
   {
    "duration": 0,
    "start_time": "2023-08-13T20:18:38.288Z"
   },
   {
    "duration": 0,
    "start_time": "2023-08-13T20:18:38.300Z"
   },
   {
    "duration": 0,
    "start_time": "2023-08-13T20:18:38.301Z"
   },
   {
    "duration": 0,
    "start_time": "2023-08-13T20:18:38.302Z"
   },
   {
    "duration": 0,
    "start_time": "2023-08-13T20:18:38.303Z"
   },
   {
    "duration": 0,
    "start_time": "2023-08-13T20:18:38.305Z"
   },
   {
    "duration": 0,
    "start_time": "2023-08-13T20:18:38.306Z"
   },
   {
    "duration": 0,
    "start_time": "2023-08-13T20:18:38.307Z"
   },
   {
    "duration": 0,
    "start_time": "2023-08-13T20:18:38.308Z"
   },
   {
    "duration": 0,
    "start_time": "2023-08-13T20:18:38.309Z"
   },
   {
    "duration": 0,
    "start_time": "2023-08-13T20:18:38.310Z"
   },
   {
    "duration": 0,
    "start_time": "2023-08-13T20:18:38.311Z"
   },
   {
    "duration": 0,
    "start_time": "2023-08-13T20:18:38.312Z"
   },
   {
    "duration": 0,
    "start_time": "2023-08-13T20:18:38.313Z"
   },
   {
    "duration": 0,
    "start_time": "2023-08-13T20:18:38.315Z"
   },
   {
    "duration": 0,
    "start_time": "2023-08-13T20:18:38.316Z"
   },
   {
    "duration": 0,
    "start_time": "2023-08-13T20:18:38.317Z"
   },
   {
    "duration": 0,
    "start_time": "2023-08-13T20:18:38.318Z"
   },
   {
    "duration": 0,
    "start_time": "2023-08-13T20:18:38.318Z"
   },
   {
    "duration": 0,
    "start_time": "2023-08-13T20:18:38.320Z"
   },
   {
    "duration": 0,
    "start_time": "2023-08-13T20:18:38.320Z"
   },
   {
    "duration": 0,
    "start_time": "2023-08-13T20:18:38.321Z"
   },
   {
    "duration": 0,
    "start_time": "2023-08-13T20:18:38.323Z"
   },
   {
    "duration": 0,
    "start_time": "2023-08-13T20:18:38.323Z"
   },
   {
    "duration": 1583,
    "start_time": "2023-08-13T20:18:53.020Z"
   },
   {
    "duration": 1303,
    "start_time": "2023-08-13T20:18:54.605Z"
   },
   {
    "duration": 3,
    "start_time": "2023-08-13T20:18:55.909Z"
   },
   {
    "duration": 610,
    "start_time": "2023-08-13T20:18:55.914Z"
   },
   {
    "duration": 2,
    "start_time": "2023-08-13T20:18:56.526Z"
   },
   {
    "duration": 21,
    "start_time": "2023-08-13T20:18:56.530Z"
   },
   {
    "duration": 8,
    "start_time": "2023-08-13T20:18:56.553Z"
   },
   {
    "duration": 11,
    "start_time": "2023-08-13T20:18:56.563Z"
   },
   {
    "duration": 25,
    "start_time": "2023-08-13T20:18:56.575Z"
   },
   {
    "duration": 203,
    "start_time": "2023-08-13T20:18:56.601Z"
   },
   {
    "duration": 13,
    "start_time": "2023-08-13T20:18:56.805Z"
   },
   {
    "duration": 29,
    "start_time": "2023-08-13T20:18:56.822Z"
   },
   {
    "duration": 5,
    "start_time": "2023-08-13T20:18:56.853Z"
   },
   {
    "duration": 3152,
    "start_time": "2023-08-13T20:18:56.860Z"
   },
   {
    "duration": 5,
    "start_time": "2023-08-13T20:19:00.013Z"
   },
   {
    "duration": 2996,
    "start_time": "2023-08-13T20:19:00.020Z"
   },
   {
    "duration": 5,
    "start_time": "2023-08-13T20:19:03.018Z"
   },
   {
    "duration": 9,
    "start_time": "2023-08-13T20:19:03.024Z"
   },
   {
    "duration": 967,
    "start_time": "2023-08-13T20:19:03.034Z"
   },
   {
    "duration": 3,
    "start_time": "2023-08-13T20:19:04.003Z"
   },
   {
    "duration": 5,
    "start_time": "2023-08-13T20:19:04.007Z"
   },
   {
    "duration": 13,
    "start_time": "2023-08-13T20:19:04.014Z"
   },
   {
    "duration": 17,
    "start_time": "2023-08-13T20:19:04.028Z"
   },
   {
    "duration": 2,
    "start_time": "2023-08-13T20:19:04.046Z"
   },
   {
    "duration": 16,
    "start_time": "2023-08-13T20:19:04.050Z"
   },
   {
    "duration": 6,
    "start_time": "2023-08-13T20:19:04.067Z"
   },
   {
    "duration": 25,
    "start_time": "2023-08-13T20:19:04.075Z"
   },
   {
    "duration": 6,
    "start_time": "2023-08-13T20:19:04.101Z"
   },
   {
    "duration": 3254,
    "start_time": "2023-08-13T20:19:04.109Z"
   },
   {
    "duration": 0,
    "start_time": "2023-08-13T20:19:07.364Z"
   },
   {
    "duration": 0,
    "start_time": "2023-08-13T20:19:07.366Z"
   },
   {
    "duration": 0,
    "start_time": "2023-08-13T20:19:07.367Z"
   },
   {
    "duration": 0,
    "start_time": "2023-08-13T20:19:07.368Z"
   },
   {
    "duration": 0,
    "start_time": "2023-08-13T20:19:07.369Z"
   },
   {
    "duration": 0,
    "start_time": "2023-08-13T20:19:07.370Z"
   },
   {
    "duration": 0,
    "start_time": "2023-08-13T20:19:07.370Z"
   },
   {
    "duration": 0,
    "start_time": "2023-08-13T20:19:07.371Z"
   },
   {
    "duration": 0,
    "start_time": "2023-08-13T20:19:07.372Z"
   },
   {
    "duration": 0,
    "start_time": "2023-08-13T20:19:07.373Z"
   },
   {
    "duration": 0,
    "start_time": "2023-08-13T20:19:07.374Z"
   },
   {
    "duration": 1316,
    "start_time": "2023-08-13T20:20:56.175Z"
   },
   {
    "duration": 909,
    "start_time": "2023-08-13T20:20:57.494Z"
   },
   {
    "duration": 3,
    "start_time": "2023-08-13T20:20:58.404Z"
   },
   {
    "duration": 564,
    "start_time": "2023-08-13T20:20:58.408Z"
   },
   {
    "duration": 2,
    "start_time": "2023-08-13T20:20:58.974Z"
   },
   {
    "duration": 8,
    "start_time": "2023-08-13T20:20:58.978Z"
   },
   {
    "duration": 12,
    "start_time": "2023-08-13T20:20:58.988Z"
   },
   {
    "duration": 10,
    "start_time": "2023-08-13T20:20:59.001Z"
   },
   {
    "duration": 14,
    "start_time": "2023-08-13T20:20:59.012Z"
   },
   {
    "duration": 202,
    "start_time": "2023-08-13T20:20:59.028Z"
   },
   {
    "duration": 17,
    "start_time": "2023-08-13T20:20:59.231Z"
   },
   {
    "duration": 76,
    "start_time": "2023-08-13T20:20:59.249Z"
   },
   {
    "duration": 6,
    "start_time": "2023-08-13T20:20:59.327Z"
   },
   {
    "duration": 3867,
    "start_time": "2023-08-13T20:20:59.336Z"
   },
   {
    "duration": 112,
    "start_time": "2023-08-13T20:21:03.205Z"
   },
   {
    "duration": 0,
    "start_time": "2023-08-13T20:21:03.318Z"
   },
   {
    "duration": 0,
    "start_time": "2023-08-13T20:21:03.320Z"
   },
   {
    "duration": 0,
    "start_time": "2023-08-13T20:21:03.321Z"
   },
   {
    "duration": 0,
    "start_time": "2023-08-13T20:21:03.322Z"
   },
   {
    "duration": 0,
    "start_time": "2023-08-13T20:21:03.323Z"
   },
   {
    "duration": 0,
    "start_time": "2023-08-13T20:21:03.324Z"
   },
   {
    "duration": 0,
    "start_time": "2023-08-13T20:21:03.325Z"
   },
   {
    "duration": 0,
    "start_time": "2023-08-13T20:21:03.327Z"
   },
   {
    "duration": 0,
    "start_time": "2023-08-13T20:21:03.328Z"
   },
   {
    "duration": 0,
    "start_time": "2023-08-13T20:21:03.329Z"
   },
   {
    "duration": 0,
    "start_time": "2023-08-13T20:21:03.330Z"
   },
   {
    "duration": 0,
    "start_time": "2023-08-13T20:21:03.332Z"
   },
   {
    "duration": 0,
    "start_time": "2023-08-13T20:21:03.333Z"
   },
   {
    "duration": 0,
    "start_time": "2023-08-13T20:21:03.334Z"
   },
   {
    "duration": 0,
    "start_time": "2023-08-13T20:21:03.335Z"
   },
   {
    "duration": 0,
    "start_time": "2023-08-13T20:21:03.336Z"
   },
   {
    "duration": 0,
    "start_time": "2023-08-13T20:21:03.338Z"
   },
   {
    "duration": 0,
    "start_time": "2023-08-13T20:21:03.339Z"
   },
   {
    "duration": 0,
    "start_time": "2023-08-13T20:21:03.340Z"
   },
   {
    "duration": 0,
    "start_time": "2023-08-13T20:21:03.342Z"
   },
   {
    "duration": 0,
    "start_time": "2023-08-13T20:21:03.343Z"
   },
   {
    "duration": 0,
    "start_time": "2023-08-13T20:21:03.344Z"
   },
   {
    "duration": 0,
    "start_time": "2023-08-13T20:21:03.346Z"
   },
   {
    "duration": 0,
    "start_time": "2023-08-13T20:21:03.347Z"
   },
   {
    "duration": 0,
    "start_time": "2023-08-13T20:21:03.348Z"
   },
   {
    "duration": 1243,
    "start_time": "2023-08-13T20:25:19.453Z"
   },
   {
    "duration": 898,
    "start_time": "2023-08-13T20:25:20.698Z"
   },
   {
    "duration": 3,
    "start_time": "2023-08-13T20:25:21.598Z"
   },
   {
    "duration": 579,
    "start_time": "2023-08-13T20:25:21.602Z"
   },
   {
    "duration": 2,
    "start_time": "2023-08-13T20:25:22.183Z"
   },
   {
    "duration": 44,
    "start_time": "2023-08-13T20:25:22.186Z"
   },
   {
    "duration": 11,
    "start_time": "2023-08-13T20:25:22.232Z"
   },
   {
    "duration": 28,
    "start_time": "2023-08-13T20:25:22.245Z"
   },
   {
    "duration": 10,
    "start_time": "2023-08-13T20:25:22.274Z"
   },
   {
    "duration": 227,
    "start_time": "2023-08-13T20:25:22.286Z"
   },
   {
    "duration": 12,
    "start_time": "2023-08-13T20:25:22.514Z"
   },
   {
    "duration": 38,
    "start_time": "2023-08-13T20:25:22.528Z"
   },
   {
    "duration": 11,
    "start_time": "2023-08-13T20:25:22.568Z"
   },
   {
    "duration": 3962,
    "start_time": "2023-08-13T20:25:22.580Z"
   },
   {
    "duration": 56,
    "start_time": "2023-08-13T20:25:26.544Z"
   },
   {
    "duration": 3286,
    "start_time": "2023-08-13T20:25:26.601Z"
   },
   {
    "duration": 6,
    "start_time": "2023-08-13T20:25:29.888Z"
   },
   {
    "duration": 5,
    "start_time": "2023-08-13T20:25:29.900Z"
   },
   {
    "duration": 989,
    "start_time": "2023-08-13T20:25:29.906Z"
   },
   {
    "duration": 3,
    "start_time": "2023-08-13T20:25:30.897Z"
   },
   {
    "duration": 39,
    "start_time": "2023-08-13T20:25:30.902Z"
   },
   {
    "duration": 40,
    "start_time": "2023-08-13T20:25:30.943Z"
   },
   {
    "duration": 38,
    "start_time": "2023-08-13T20:25:30.984Z"
   },
   {
    "duration": 17,
    "start_time": "2023-08-13T20:25:31.024Z"
   },
   {
    "duration": 32,
    "start_time": "2023-08-13T20:25:31.042Z"
   },
   {
    "duration": 34,
    "start_time": "2023-08-13T20:25:31.075Z"
   },
   {
    "duration": 44,
    "start_time": "2023-08-13T20:25:31.110Z"
   },
   {
    "duration": 39,
    "start_time": "2023-08-13T20:25:31.156Z"
   },
   {
    "duration": 5609,
    "start_time": "2023-08-13T20:25:31.197Z"
   },
   {
    "duration": 0,
    "start_time": "2023-08-13T20:25:36.808Z"
   },
   {
    "duration": 0,
    "start_time": "2023-08-13T20:25:36.809Z"
   },
   {
    "duration": 0,
    "start_time": "2023-08-13T20:25:36.810Z"
   },
   {
    "duration": 0,
    "start_time": "2023-08-13T20:25:36.810Z"
   },
   {
    "duration": 0,
    "start_time": "2023-08-13T20:25:36.811Z"
   },
   {
    "duration": 0,
    "start_time": "2023-08-13T20:25:36.812Z"
   },
   {
    "duration": 0,
    "start_time": "2023-08-13T20:25:36.812Z"
   },
   {
    "duration": 0,
    "start_time": "2023-08-13T20:25:36.813Z"
   },
   {
    "duration": 0,
    "start_time": "2023-08-13T20:25:36.814Z"
   },
   {
    "duration": 0,
    "start_time": "2023-08-13T20:25:36.815Z"
   },
   {
    "duration": 0,
    "start_time": "2023-08-13T20:25:36.816Z"
   },
   {
    "duration": 1276,
    "start_time": "2023-08-13T20:31:48.955Z"
   },
   {
    "duration": 1491,
    "start_time": "2023-08-13T20:31:50.232Z"
   },
   {
    "duration": 3,
    "start_time": "2023-08-13T20:31:51.724Z"
   },
   {
    "duration": 1008,
    "start_time": "2023-08-13T20:31:51.729Z"
   },
   {
    "duration": 2,
    "start_time": "2023-08-13T20:31:52.739Z"
   },
   {
    "duration": 10,
    "start_time": "2023-08-13T20:31:52.742Z"
   },
   {
    "duration": 4,
    "start_time": "2023-08-13T20:31:52.753Z"
   },
   {
    "duration": 6,
    "start_time": "2023-08-13T20:31:52.758Z"
   },
   {
    "duration": 3,
    "start_time": "2023-08-13T20:31:52.765Z"
   },
   {
    "duration": 238,
    "start_time": "2023-08-13T20:31:52.771Z"
   },
   {
    "duration": 15,
    "start_time": "2023-08-13T20:31:53.010Z"
   },
   {
    "duration": 29,
    "start_time": "2023-08-13T20:31:53.026Z"
   },
   {
    "duration": 6,
    "start_time": "2023-08-13T20:31:53.057Z"
   },
   {
    "duration": 3352,
    "start_time": "2023-08-13T20:31:53.064Z"
   },
   {
    "duration": 142,
    "start_time": "2023-08-13T20:31:56.418Z"
   },
   {
    "duration": 0,
    "start_time": "2023-08-13T20:31:56.562Z"
   },
   {
    "duration": 0,
    "start_time": "2023-08-13T20:31:56.563Z"
   },
   {
    "duration": 0,
    "start_time": "2023-08-13T20:31:56.564Z"
   },
   {
    "duration": 0,
    "start_time": "2023-08-13T20:31:56.565Z"
   },
   {
    "duration": 0,
    "start_time": "2023-08-13T20:31:56.566Z"
   },
   {
    "duration": 0,
    "start_time": "2023-08-13T20:31:56.567Z"
   },
   {
    "duration": 0,
    "start_time": "2023-08-13T20:31:56.568Z"
   },
   {
    "duration": 0,
    "start_time": "2023-08-13T20:31:56.570Z"
   },
   {
    "duration": 0,
    "start_time": "2023-08-13T20:31:56.571Z"
   },
   {
    "duration": 0,
    "start_time": "2023-08-13T20:31:56.572Z"
   },
   {
    "duration": 0,
    "start_time": "2023-08-13T20:31:56.572Z"
   },
   {
    "duration": 0,
    "start_time": "2023-08-13T20:31:56.574Z"
   },
   {
    "duration": 0,
    "start_time": "2023-08-13T20:31:56.575Z"
   },
   {
    "duration": 0,
    "start_time": "2023-08-13T20:31:56.576Z"
   },
   {
    "duration": 0,
    "start_time": "2023-08-13T20:31:56.577Z"
   },
   {
    "duration": 0,
    "start_time": "2023-08-13T20:31:56.578Z"
   },
   {
    "duration": 1,
    "start_time": "2023-08-13T20:31:56.578Z"
   },
   {
    "duration": 0,
    "start_time": "2023-08-13T20:31:56.579Z"
   },
   {
    "duration": 0,
    "start_time": "2023-08-13T20:31:56.580Z"
   },
   {
    "duration": 0,
    "start_time": "2023-08-13T20:31:56.581Z"
   },
   {
    "duration": 0,
    "start_time": "2023-08-13T20:31:56.582Z"
   },
   {
    "duration": 0,
    "start_time": "2023-08-13T20:31:56.583Z"
   },
   {
    "duration": 0,
    "start_time": "2023-08-13T20:31:56.584Z"
   },
   {
    "duration": 0,
    "start_time": "2023-08-13T20:31:56.585Z"
   },
   {
    "duration": 0,
    "start_time": "2023-08-13T20:31:56.586Z"
   },
   {
    "duration": 1375,
    "start_time": "2023-08-13T20:32:10.963Z"
   },
   {
    "duration": 1071,
    "start_time": "2023-08-13T20:32:12.340Z"
   },
   {
    "duration": 4,
    "start_time": "2023-08-13T20:32:13.412Z"
   },
   {
    "duration": 1287,
    "start_time": "2023-08-13T20:32:13.419Z"
   },
   {
    "duration": 6,
    "start_time": "2023-08-13T20:32:14.707Z"
   },
   {
    "duration": 28,
    "start_time": "2023-08-13T20:32:14.714Z"
   },
   {
    "duration": 23,
    "start_time": "2023-08-13T20:32:14.744Z"
   },
   {
    "duration": 6,
    "start_time": "2023-08-13T20:32:14.805Z"
   },
   {
    "duration": 12,
    "start_time": "2023-08-13T20:32:14.813Z"
   },
   {
    "duration": 432,
    "start_time": "2023-08-13T20:32:14.827Z"
   },
   {
    "duration": 51,
    "start_time": "2023-08-13T20:32:15.260Z"
   },
   {
    "duration": 28,
    "start_time": "2023-08-13T20:32:15.312Z"
   },
   {
    "duration": 5,
    "start_time": "2023-08-13T20:32:15.342Z"
   },
   {
    "duration": 3157,
    "start_time": "2023-08-13T20:32:15.348Z"
   },
   {
    "duration": 15,
    "start_time": "2023-08-13T20:32:18.506Z"
   },
   {
    "duration": 3088,
    "start_time": "2023-08-13T20:32:18.522Z"
   },
   {
    "duration": 7,
    "start_time": "2023-08-13T20:32:21.611Z"
   },
   {
    "duration": 33,
    "start_time": "2023-08-13T20:32:21.619Z"
   },
   {
    "duration": 1042,
    "start_time": "2023-08-13T20:32:21.654Z"
   },
   {
    "duration": 15,
    "start_time": "2023-08-13T20:32:22.699Z"
   },
   {
    "duration": 34,
    "start_time": "2023-08-13T20:32:22.715Z"
   },
   {
    "duration": 40,
    "start_time": "2023-08-13T20:32:22.751Z"
   },
   {
    "duration": 36,
    "start_time": "2023-08-13T20:32:22.793Z"
   },
   {
    "duration": 20,
    "start_time": "2023-08-13T20:32:22.831Z"
   },
   {
    "duration": 37,
    "start_time": "2023-08-13T20:32:22.852Z"
   },
   {
    "duration": 35,
    "start_time": "2023-08-13T20:32:22.891Z"
   },
   {
    "duration": 56,
    "start_time": "2023-08-13T20:32:22.927Z"
   },
   {
    "duration": 69,
    "start_time": "2023-08-13T20:32:22.987Z"
   },
   {
    "duration": 568,
    "start_time": "2023-08-13T20:32:23.058Z"
   },
   {
    "duration": 0,
    "start_time": "2023-08-13T20:32:23.628Z"
   },
   {
    "duration": 0,
    "start_time": "2023-08-13T20:32:23.629Z"
   },
   {
    "duration": 0,
    "start_time": "2023-08-13T20:32:23.630Z"
   },
   {
    "duration": 0,
    "start_time": "2023-08-13T20:32:23.631Z"
   },
   {
    "duration": 0,
    "start_time": "2023-08-13T20:32:23.632Z"
   },
   {
    "duration": 0,
    "start_time": "2023-08-13T20:32:23.633Z"
   },
   {
    "duration": 0,
    "start_time": "2023-08-13T20:32:23.634Z"
   },
   {
    "duration": 0,
    "start_time": "2023-08-13T20:32:23.634Z"
   },
   {
    "duration": 0,
    "start_time": "2023-08-13T20:32:23.635Z"
   },
   {
    "duration": 0,
    "start_time": "2023-08-13T20:32:23.636Z"
   },
   {
    "duration": 0,
    "start_time": "2023-08-13T20:32:23.637Z"
   },
   {
    "duration": 1289,
    "start_time": "2023-08-13T20:37:27.325Z"
   },
   {
    "duration": 954,
    "start_time": "2023-08-13T20:37:28.616Z"
   },
   {
    "duration": 3,
    "start_time": "2023-08-13T20:37:29.571Z"
   },
   {
    "duration": 605,
    "start_time": "2023-08-13T20:37:29.576Z"
   },
   {
    "duration": 3,
    "start_time": "2023-08-13T20:37:30.183Z"
   },
   {
    "duration": 53,
    "start_time": "2023-08-13T20:37:30.187Z"
   },
   {
    "duration": 105,
    "start_time": "2023-08-13T20:37:30.242Z"
   },
   {
    "duration": 51,
    "start_time": "2023-08-13T20:37:30.349Z"
   },
   {
    "duration": 72,
    "start_time": "2023-08-13T20:37:30.401Z"
   },
   {
    "duration": 285,
    "start_time": "2023-08-13T20:37:30.475Z"
   },
   {
    "duration": 13,
    "start_time": "2023-08-13T20:37:30.761Z"
   },
   {
    "duration": 83,
    "start_time": "2023-08-13T20:37:30.775Z"
   },
   {
    "duration": 34,
    "start_time": "2023-08-13T20:37:30.860Z"
   },
   {
    "duration": 4213,
    "start_time": "2023-08-13T20:37:30.896Z"
   },
   {
    "duration": 13,
    "start_time": "2023-08-13T20:37:35.111Z"
   },
   {
    "duration": 3201,
    "start_time": "2023-08-13T20:37:35.125Z"
   },
   {
    "duration": 5,
    "start_time": "2023-08-13T20:37:38.328Z"
   },
   {
    "duration": 15,
    "start_time": "2023-08-13T20:37:38.335Z"
   },
   {
    "duration": 1068,
    "start_time": "2023-08-13T20:37:38.352Z"
   },
   {
    "duration": 4,
    "start_time": "2023-08-13T20:37:39.422Z"
   },
   {
    "duration": 9,
    "start_time": "2023-08-13T20:37:39.428Z"
   },
   {
    "duration": 14,
    "start_time": "2023-08-13T20:37:39.439Z"
   },
   {
    "duration": 19,
    "start_time": "2023-08-13T20:37:39.455Z"
   },
   {
    "duration": 3,
    "start_time": "2023-08-13T20:37:39.476Z"
   },
   {
    "duration": 29,
    "start_time": "2023-08-13T20:37:39.480Z"
   },
   {
    "duration": 9,
    "start_time": "2023-08-13T20:37:39.510Z"
   },
   {
    "duration": 11,
    "start_time": "2023-08-13T20:37:39.520Z"
   },
   {
    "duration": 12,
    "start_time": "2023-08-13T20:37:39.535Z"
   },
   {
    "duration": 2752,
    "start_time": "2023-08-13T20:37:39.549Z"
   },
   {
    "duration": 0,
    "start_time": "2023-08-13T20:37:42.302Z"
   },
   {
    "duration": 0,
    "start_time": "2023-08-13T20:37:42.304Z"
   },
   {
    "duration": 0,
    "start_time": "2023-08-13T20:37:42.305Z"
   },
   {
    "duration": 0,
    "start_time": "2023-08-13T20:37:42.306Z"
   },
   {
    "duration": 0,
    "start_time": "2023-08-13T20:37:42.307Z"
   },
   {
    "duration": 0,
    "start_time": "2023-08-13T20:37:42.308Z"
   },
   {
    "duration": 0,
    "start_time": "2023-08-13T20:37:42.309Z"
   },
   {
    "duration": 0,
    "start_time": "2023-08-13T20:37:42.310Z"
   },
   {
    "duration": 0,
    "start_time": "2023-08-13T20:37:42.311Z"
   },
   {
    "duration": 0,
    "start_time": "2023-08-13T20:37:42.312Z"
   },
   {
    "duration": 0,
    "start_time": "2023-08-13T20:37:42.313Z"
   },
   {
    "duration": 1301,
    "start_time": "2023-08-13T20:59:30.907Z"
   },
   {
    "duration": 952,
    "start_time": "2023-08-13T20:59:32.209Z"
   },
   {
    "duration": 3,
    "start_time": "2023-08-13T20:59:33.162Z"
   },
   {
    "duration": 629,
    "start_time": "2023-08-13T20:59:33.167Z"
   },
   {
    "duration": 2,
    "start_time": "2023-08-13T20:59:33.799Z"
   },
   {
    "duration": 14,
    "start_time": "2023-08-13T20:59:33.802Z"
   },
   {
    "duration": 14,
    "start_time": "2023-08-13T20:59:33.817Z"
   },
   {
    "duration": 14,
    "start_time": "2023-08-13T20:59:33.832Z"
   },
   {
    "duration": 28,
    "start_time": "2023-08-13T20:59:33.847Z"
   },
   {
    "duration": 224,
    "start_time": "2023-08-13T20:59:33.876Z"
   },
   {
    "duration": 11,
    "start_time": "2023-08-13T20:59:34.102Z"
   },
   {
    "duration": 34,
    "start_time": "2023-08-13T20:59:34.115Z"
   },
   {
    "duration": 4,
    "start_time": "2023-08-13T20:59:34.151Z"
   },
   {
    "duration": 3350,
    "start_time": "2023-08-13T20:59:34.157Z"
   },
   {
    "duration": 16,
    "start_time": "2023-08-13T20:59:37.509Z"
   },
   {
    "duration": 19,
    "start_time": "2023-08-13T20:59:37.527Z"
   },
   {
    "duration": 52,
    "start_time": "2023-08-13T20:59:37.548Z"
   },
   {
    "duration": 1700,
    "start_time": "2023-08-13T20:59:37.602Z"
   },
   {
    "duration": 4,
    "start_time": "2023-08-13T20:59:39.304Z"
   },
   {
    "duration": 21,
    "start_time": "2023-08-13T20:59:39.309Z"
   },
   {
    "duration": 32,
    "start_time": "2023-08-13T20:59:39.332Z"
   },
   {
    "duration": 45,
    "start_time": "2023-08-13T20:59:39.366Z"
   },
   {
    "duration": 16,
    "start_time": "2023-08-13T20:59:39.413Z"
   },
   {
    "duration": 16,
    "start_time": "2023-08-13T20:59:39.431Z"
   },
   {
    "duration": 20,
    "start_time": "2023-08-13T20:59:39.449Z"
   },
   {
    "duration": 13,
    "start_time": "2023-08-13T20:59:39.471Z"
   },
   {
    "duration": 48,
    "start_time": "2023-08-13T20:59:39.486Z"
   },
   {
    "duration": 385042,
    "start_time": "2023-08-13T20:59:39.536Z"
   },
   {
    "duration": 18634,
    "start_time": "2023-08-13T21:06:04.580Z"
   },
   {
    "duration": 3,
    "start_time": "2023-08-13T21:06:23.216Z"
   },
   {
    "duration": 4789,
    "start_time": "2023-08-13T21:06:23.220Z"
   },
   {
    "duration": 6352,
    "start_time": "2023-08-13T21:06:28.011Z"
   },
   {
    "duration": 2,
    "start_time": "2023-08-13T21:06:34.365Z"
   },
   {
    "duration": 10079,
    "start_time": "2023-08-13T21:06:34.368Z"
   },
   {
    "duration": 1316,
    "start_time": "2023-08-13T21:06:44.449Z"
   },
   {
    "duration": 8,
    "start_time": "2023-08-13T21:06:45.766Z"
   },
   {
    "duration": 0,
    "start_time": "2023-08-13T21:06:45.776Z"
   },
   {
    "duration": 0,
    "start_time": "2023-08-13T21:06:45.777Z"
   },
   {
    "duration": 1,
    "start_time": "2023-08-13T21:06:45.778Z"
   },
   {
    "duration": 1331,
    "start_time": "2023-08-13T21:08:31.902Z"
   },
   {
    "duration": 956,
    "start_time": "2023-08-13T21:08:33.235Z"
   },
   {
    "duration": 3,
    "start_time": "2023-08-13T21:08:34.192Z"
   },
   {
    "duration": 580,
    "start_time": "2023-08-13T21:08:34.197Z"
   },
   {
    "duration": 2,
    "start_time": "2023-08-13T21:08:34.779Z"
   },
   {
    "duration": 17,
    "start_time": "2023-08-13T21:08:34.782Z"
   },
   {
    "duration": 13,
    "start_time": "2023-08-13T21:08:34.801Z"
   },
   {
    "duration": 12,
    "start_time": "2023-08-13T21:08:34.815Z"
   },
   {
    "duration": 6,
    "start_time": "2023-08-13T21:08:34.828Z"
   },
   {
    "duration": 214,
    "start_time": "2023-08-13T21:08:34.836Z"
   },
   {
    "duration": 12,
    "start_time": "2023-08-13T21:08:35.052Z"
   },
   {
    "duration": 59,
    "start_time": "2023-08-13T21:08:35.066Z"
   },
   {
    "duration": 16,
    "start_time": "2023-08-13T21:08:35.127Z"
   },
   {
    "duration": 4104,
    "start_time": "2023-08-13T21:08:35.144Z"
   },
   {
    "duration": 15,
    "start_time": "2023-08-13T21:08:39.250Z"
   },
   {
    "duration": 5,
    "start_time": "2023-08-13T21:08:39.267Z"
   },
   {
    "duration": 6,
    "start_time": "2023-08-13T21:08:39.274Z"
   },
   {
    "duration": 1038,
    "start_time": "2023-08-13T21:08:39.299Z"
   },
   {
    "duration": 3,
    "start_time": "2023-08-13T21:08:40.339Z"
   },
   {
    "duration": 10,
    "start_time": "2023-08-13T21:08:40.344Z"
   },
   {
    "duration": 14,
    "start_time": "2023-08-13T21:08:40.355Z"
   },
   {
    "duration": 29,
    "start_time": "2023-08-13T21:08:40.371Z"
   },
   {
    "duration": 3,
    "start_time": "2023-08-13T21:08:40.401Z"
   },
   {
    "duration": 13,
    "start_time": "2023-08-13T21:08:40.406Z"
   },
   {
    "duration": 12,
    "start_time": "2023-08-13T21:08:40.421Z"
   },
   {
    "duration": 9,
    "start_time": "2023-08-13T21:08:40.435Z"
   },
   {
    "duration": 12,
    "start_time": "2023-08-13T21:08:40.447Z"
   },
   {
    "duration": 241381,
    "start_time": "2023-08-13T21:08:40.463Z"
   },
   {
    "duration": 169168,
    "start_time": "2023-08-13T21:12:41.845Z"
   },
   {
    "duration": 3,
    "start_time": "2023-08-13T21:15:31.015Z"
   },
   {
    "duration": 2211,
    "start_time": "2023-08-13T21:15:31.020Z"
   },
   {
    "duration": 2184,
    "start_time": "2023-08-13T21:15:33.233Z"
   },
   {
    "duration": 3,
    "start_time": "2023-08-13T21:15:35.419Z"
   },
   {
    "duration": 10328,
    "start_time": "2023-08-13T21:15:35.423Z"
   },
   {
    "duration": 15391,
    "start_time": "2023-08-13T21:15:45.753Z"
   },
   {
    "duration": 3,
    "start_time": "2023-08-13T21:16:01.145Z"
   },
   {
    "duration": 36,
    "start_time": "2023-08-13T21:16:01.149Z"
   },
   {
    "duration": 13,
    "start_time": "2023-08-13T21:16:01.187Z"
   },
   {
    "duration": 19,
    "start_time": "2023-08-13T21:16:01.201Z"
   },
   {
    "duration": 107,
    "start_time": "2023-08-13T21:19:19.876Z"
   },
   {
    "duration": 1315,
    "start_time": "2023-08-13T21:23:06.644Z"
   },
   {
    "duration": 1061,
    "start_time": "2023-08-13T21:23:07.960Z"
   },
   {
    "duration": 3,
    "start_time": "2023-08-13T21:23:09.023Z"
   },
   {
    "duration": 650,
    "start_time": "2023-08-13T21:23:09.028Z"
   },
   {
    "duration": 3,
    "start_time": "2023-08-13T21:23:09.679Z"
   },
   {
    "duration": 24,
    "start_time": "2023-08-13T21:23:09.683Z"
   },
   {
    "duration": 4,
    "start_time": "2023-08-13T21:23:09.708Z"
   },
   {
    "duration": 9,
    "start_time": "2023-08-13T21:23:09.713Z"
   },
   {
    "duration": 7,
    "start_time": "2023-08-13T21:23:09.723Z"
   },
   {
    "duration": 242,
    "start_time": "2023-08-13T21:23:09.732Z"
   },
   {
    "duration": 24,
    "start_time": "2023-08-13T21:23:09.976Z"
   },
   {
    "duration": 29,
    "start_time": "2023-08-13T21:23:10.002Z"
   },
   {
    "duration": 5,
    "start_time": "2023-08-13T21:23:10.032Z"
   },
   {
    "duration": 3299,
    "start_time": "2023-08-13T21:23:10.038Z"
   },
   {
    "duration": 13,
    "start_time": "2023-08-13T21:23:13.339Z"
   },
   {
    "duration": 5,
    "start_time": "2023-08-13T21:23:13.354Z"
   },
   {
    "duration": 5,
    "start_time": "2023-08-13T21:23:13.361Z"
   },
   {
    "duration": 1069,
    "start_time": "2023-08-13T21:23:13.367Z"
   },
   {
    "duration": 4,
    "start_time": "2023-08-13T21:23:14.438Z"
   },
   {
    "duration": 19,
    "start_time": "2023-08-13T21:23:14.444Z"
   },
   {
    "duration": 14,
    "start_time": "2023-08-13T21:23:14.465Z"
   },
   {
    "duration": 19,
    "start_time": "2023-08-13T21:23:14.481Z"
   },
   {
    "duration": 2,
    "start_time": "2023-08-13T21:23:14.502Z"
   },
   {
    "duration": 16,
    "start_time": "2023-08-13T21:23:14.506Z"
   },
   {
    "duration": 6,
    "start_time": "2023-08-13T21:23:14.524Z"
   },
   {
    "duration": 7,
    "start_time": "2023-08-13T21:23:14.532Z"
   },
   {
    "duration": 24,
    "start_time": "2023-08-13T21:23:14.541Z"
   },
   {
    "duration": 241674,
    "start_time": "2023-08-13T21:23:14.568Z"
   },
   {
    "duration": 236971,
    "start_time": "2023-08-13T21:27:16.244Z"
   },
   {
    "duration": 4,
    "start_time": "2023-08-13T21:31:13.216Z"
   },
   {
    "duration": 5,
    "start_time": "2023-08-13T21:31:13.221Z"
   },
   {
    "duration": 2601,
    "start_time": "2023-08-13T21:31:13.228Z"
   },
   {
    "duration": 0,
    "start_time": "2023-08-13T21:31:15.831Z"
   },
   {
    "duration": 0,
    "start_time": "2023-08-13T21:31:15.832Z"
   },
   {
    "duration": 0,
    "start_time": "2023-08-13T21:31:15.833Z"
   },
   {
    "duration": 0,
    "start_time": "2023-08-13T21:31:15.834Z"
   },
   {
    "duration": 0,
    "start_time": "2023-08-13T21:31:15.834Z"
   },
   {
    "duration": 1,
    "start_time": "2023-08-13T21:31:15.835Z"
   },
   {
    "duration": 0,
    "start_time": "2023-08-13T21:31:15.836Z"
   },
   {
    "duration": 0,
    "start_time": "2023-08-13T21:31:15.837Z"
   },
   {
    "duration": 0,
    "start_time": "2023-08-13T21:31:15.838Z"
   },
   {
    "duration": 2269,
    "start_time": "2023-08-13T21:33:36.137Z"
   },
   {
    "duration": 2387,
    "start_time": "2023-08-13T21:33:43.749Z"
   },
   {
    "duration": 3,
    "start_time": "2023-08-13T21:33:48.871Z"
   },
   {
    "duration": 3,
    "start_time": "2023-08-13T21:34:00.678Z"
   },
   {
    "duration": 10513,
    "start_time": "2023-08-13T21:34:02.042Z"
   },
   {
    "duration": 4468,
    "start_time": "2023-08-13T21:34:18.509Z"
   },
   {
    "duration": 3,
    "start_time": "2023-08-13T21:34:25.463Z"
   },
   {
    "duration": 6,
    "start_time": "2023-08-13T21:34:30.086Z"
   },
   {
    "duration": 5,
    "start_time": "2023-08-13T21:34:30.962Z"
   },
   {
    "duration": 4,
    "start_time": "2023-08-13T21:34:32.340Z"
   },
   {
    "duration": 75,
    "start_time": "2023-08-13T21:38:25.340Z"
   },
   {
    "duration": 10,
    "start_time": "2023-08-13T21:38:35.537Z"
   },
   {
    "duration": 3,
    "start_time": "2023-08-13T21:38:47.040Z"
   },
   {
    "duration": 4,
    "start_time": "2023-08-13T21:39:15.326Z"
   },
   {
    "duration": 1290,
    "start_time": "2023-08-13T21:46:24.219Z"
   },
   {
    "duration": 977,
    "start_time": "2023-08-13T21:46:25.511Z"
   },
   {
    "duration": 7,
    "start_time": "2023-08-13T21:46:26.492Z"
   },
   {
    "duration": 619,
    "start_time": "2023-08-13T21:46:26.501Z"
   },
   {
    "duration": 2,
    "start_time": "2023-08-13T21:46:27.121Z"
   },
   {
    "duration": 12,
    "start_time": "2023-08-13T21:46:27.124Z"
   },
   {
    "duration": 5,
    "start_time": "2023-08-13T21:46:27.137Z"
   },
   {
    "duration": 5,
    "start_time": "2023-08-13T21:46:27.143Z"
   },
   {
    "duration": 7,
    "start_time": "2023-08-13T21:46:27.150Z"
   },
   {
    "duration": 220,
    "start_time": "2023-08-13T21:46:27.158Z"
   },
   {
    "duration": 22,
    "start_time": "2023-08-13T21:46:27.379Z"
   },
   {
    "duration": 26,
    "start_time": "2023-08-13T21:46:27.402Z"
   },
   {
    "duration": 4,
    "start_time": "2023-08-13T21:46:27.430Z"
   },
   {
    "duration": 3181,
    "start_time": "2023-08-13T21:46:27.435Z"
   },
   {
    "duration": 13,
    "start_time": "2023-08-13T21:46:30.618Z"
   },
   {
    "duration": 13,
    "start_time": "2023-08-13T21:46:30.633Z"
   },
   {
    "duration": 29,
    "start_time": "2023-08-13T21:46:30.647Z"
   },
   {
    "duration": 1041,
    "start_time": "2023-08-13T21:46:30.678Z"
   },
   {
    "duration": 3,
    "start_time": "2023-08-13T21:46:31.720Z"
   },
   {
    "duration": 20,
    "start_time": "2023-08-13T21:46:31.724Z"
   },
   {
    "duration": 37,
    "start_time": "2023-08-13T21:46:31.746Z"
   },
   {
    "duration": 47,
    "start_time": "2023-08-13T21:46:31.784Z"
   },
   {
    "duration": 23,
    "start_time": "2023-08-13T21:46:31.832Z"
   },
   {
    "duration": 39,
    "start_time": "2023-08-13T21:46:31.857Z"
   },
   {
    "duration": 48,
    "start_time": "2023-08-13T21:46:31.898Z"
   },
   {
    "duration": 46,
    "start_time": "2023-08-13T21:46:31.947Z"
   },
   {
    "duration": 41,
    "start_time": "2023-08-13T21:46:31.996Z"
   },
   {
    "duration": 239891,
    "start_time": "2023-08-13T21:46:32.038Z"
   },
   {
    "duration": 235017,
    "start_time": "2023-08-13T21:50:31.930Z"
   },
   {
    "duration": 3,
    "start_time": "2023-08-13T21:54:26.948Z"
   },
   {
    "duration": 9,
    "start_time": "2023-08-13T21:54:26.952Z"
   },
   {
    "duration": 2105,
    "start_time": "2023-08-13T21:54:26.962Z"
   },
   {
    "duration": 2179,
    "start_time": "2023-08-13T21:54:29.068Z"
   },
   {
    "duration": 2,
    "start_time": "2023-08-13T21:54:31.249Z"
   },
   {
    "duration": 41,
    "start_time": "2023-08-13T21:54:31.253Z"
   },
   {
    "duration": 10849,
    "start_time": "2023-08-13T21:54:31.296Z"
   },
   {
    "duration": 4938,
    "start_time": "2023-08-13T21:54:42.147Z"
   },
   {
    "duration": 3,
    "start_time": "2023-08-13T21:54:47.087Z"
   },
   {
    "duration": 14,
    "start_time": "2023-08-13T21:54:47.091Z"
   },
   {
    "duration": 8,
    "start_time": "2023-08-13T21:54:47.106Z"
   },
   {
    "duration": 3,
    "start_time": "2023-08-13T21:54:47.115Z"
   }
  ],
  "kernelspec": {
   "display_name": "Python 3 (ipykernel)",
   "language": "python",
   "name": "python3"
  },
  "language_info": {
   "codemirror_mode": {
    "name": "ipython",
    "version": 3
   },
   "file_extension": ".py",
   "mimetype": "text/x-python",
   "name": "python",
   "nbconvert_exporter": "python",
   "pygments_lexer": "ipython3",
   "version": "3.9.5"
  },
  "toc": {
   "base_numbering": 1,
   "nav_menu": {},
   "number_sections": true,
   "sideBar": true,
   "skip_h1_title": true,
   "title_cell": "Содержание",
   "title_sidebar": "Contents",
   "toc_cell": true,
   "toc_position": {},
   "toc_section_display": true,
   "toc_window_display": false
  }
 },
 "nbformat": 4,
 "nbformat_minor": 2
}

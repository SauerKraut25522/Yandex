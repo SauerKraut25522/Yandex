{
 "cells": [
  {
   "cell_type": "markdown",
   "metadata": {},
   "source": [
    "# Выбор локации для скважины"
   ]
  },
  {
   "cell_type": "markdown",
   "metadata": {},
   "source": [
    "Допустим, вы работаете в добывающей компании «ГлавРосГосНефть». Нужно решить, где бурить новую скважину.\n",
    "\n",
    "Вам предоставлены пробы нефти в трёх регионах: в каждом 10 000 месторождений, где измерили качество нефти и объём её запасов. Постройте модель машинного обучения, которая поможет определить регион, где добыча принесёт наибольшую прибыль. Проанализируйте возможную прибыль и риски техникой *Bootstrap.*\n",
    "\n",
    "**Шаги для выбора локации:**\n",
    "\n",
    "- В избранном регионе ищут месторождения, для каждого определяют значения признаков;\n",
    "- Строят модель и оценивают объём запасов;\n",
    "- Выбирают месторождения с самым высокими оценками значений. Количество месторождений зависит от бюджета компании и стоимости разработки одной скважины;\n",
    "- Прибыль равна суммарной прибыли отобранных месторождений.\n",
    "\n",
    "**Описание данных.**\n",
    "**Признаки:**\n",
    "\n",
    "`id` - уникальный идентификатор скважины\n",
    "\n",
    "`f0, f1, f2` - три признака точек (неважно, что они означают, но сами признаки значимы)\n",
    "\n",
    "**Целевой признак:**\n",
    "\n",
    "`product` - объём запасов в скважине (тыс. баррелей)\n",
    "\n",
    "**Условия задачи:**\n",
    "\n",
    "* Для обучения модели подходит только линейная регрессия (остальные — недостаточно предсказуемые).\n",
    "\n",
    "* При разведке региона исследуют 500 точек, из которых с помощью машинного обучения выбирают 200 лучших для разработки.\n",
    "\n",
    "* Бюджет на разработку скважин в регионе — 10 млрд рублей.\n",
    "\n",
    "* При нынешних ценах один баррель сырья приносит 450 рублей дохода. Доход с каждой единицы продукта составляет 450 тыс. рублей, поскольку объём указан в тысячах баррелей.\n",
    "\n",
    "* После оценки рисков нужно оставить лишь те регионы, в которых вероятность убытков меньше 2.5%. Среди них выбирают регион с наибольшей средней прибылью.\n",
    "\n",
    "* Данные синтетические: детали контрактов и характеристики месторождений не разглашаются.\n",
    "\n",
    "**Используемые инструменты:**\n",
    "\n",
    "pandas, numpy, warnings, sklearn."
   ]
  },
  {
   "cell_type": "markdown",
   "metadata": {},
   "source": [
    "## Загрузка и подготовка данных"
   ]
  },
  {
   "cell_type": "code",
   "execution_count": 1,
   "metadata": {},
   "outputs": [],
   "source": [
    "# импортируем все библиотеки и задаём псевдослучайность в начале ноутбука\n",
    "import pandas as pd\n",
    "import numpy as np\n",
    "import warnings\n",
    "warnings.filterwarnings('ignore')\n",
    "\n",
    "from sklearn.model_selection import train_test_split\n",
    "from sklearn.linear_model import LinearRegression\n",
    "from sklearn.metrics import mean_squared_error\n",
    "from sklearn.preprocessing import StandardScaler\n",
    "\n",
    "STATE = np.random.RandomState(12345)"
   ]
  },
  {
   "cell_type": "code",
   "execution_count": 2,
   "metadata": {},
   "outputs": [],
   "source": [
    "# прочитаем все файлы и сохраним в переменных\n",
    "df0 = pd.read_csv('/datasets/geo_data_0.csv')\n",
    "df1 = pd.read_csv('/datasets/geo_data_1.csv')\n",
    "df2 = pd.read_csv('/datasets/geo_data_2.csv')"
   ]
  },
  {
   "cell_type": "code",
   "execution_count": 3,
   "metadata": {},
   "outputs": [],
   "source": [
    "# для удобства сохраним в переменной список всех фреймов\n",
    "data = [df0, df1, df2]"
   ]
  },
  {
   "cell_type": "code",
   "execution_count": 4,
   "metadata": {
    "scrolled": false
   },
   "outputs": [
    {
     "name": "stdout",
     "output_type": "stream",
     "text": [
      "Общая информация о фрейме:\n",
      "<class 'pandas.core.frame.DataFrame'>\n",
      "RangeIndex: 100000 entries, 0 to 99999\n",
      "Data columns (total 5 columns):\n",
      " #   Column   Non-Null Count   Dtype  \n",
      "---  ------   --------------   -----  \n",
      " 0   id       100000 non-null  object \n",
      " 1   f0       100000 non-null  float64\n",
      " 2   f1       100000 non-null  float64\n",
      " 3   f2       100000 non-null  float64\n",
      " 4   product  100000 non-null  float64\n",
      "dtypes: float64(4), object(1)\n",
      "memory usage: 3.8+ MB\n"
     ]
    },
    {
     "data": {
      "text/plain": [
       "None"
      ]
     },
     "metadata": {},
     "output_type": "display_data"
    },
    {
     "data": {
      "text/html": [
       "<div>\n",
       "<style scoped>\n",
       "    .dataframe tbody tr th:only-of-type {\n",
       "        vertical-align: middle;\n",
       "    }\n",
       "\n",
       "    .dataframe tbody tr th {\n",
       "        vertical-align: top;\n",
       "    }\n",
       "\n",
       "    .dataframe thead th {\n",
       "        text-align: right;\n",
       "    }\n",
       "</style>\n",
       "<table border=\"1\" class=\"dataframe\">\n",
       "  <thead>\n",
       "    <tr style=\"text-align: right;\">\n",
       "      <th></th>\n",
       "      <th>id</th>\n",
       "      <th>f0</th>\n",
       "      <th>f1</th>\n",
       "      <th>f2</th>\n",
       "      <th>product</th>\n",
       "    </tr>\n",
       "  </thead>\n",
       "  <tbody>\n",
       "    <tr>\n",
       "      <th>0</th>\n",
       "      <td>txEyH</td>\n",
       "      <td>0.705745</td>\n",
       "      <td>-0.497823</td>\n",
       "      <td>1.221170</td>\n",
       "      <td>105.280062</td>\n",
       "    </tr>\n",
       "    <tr>\n",
       "      <th>1</th>\n",
       "      <td>2acmU</td>\n",
       "      <td>1.334711</td>\n",
       "      <td>-0.340164</td>\n",
       "      <td>4.365080</td>\n",
       "      <td>73.037750</td>\n",
       "    </tr>\n",
       "    <tr>\n",
       "      <th>2</th>\n",
       "      <td>409Wp</td>\n",
       "      <td>1.022732</td>\n",
       "      <td>0.151990</td>\n",
       "      <td>1.419926</td>\n",
       "      <td>85.265647</td>\n",
       "    </tr>\n",
       "    <tr>\n",
       "      <th>3</th>\n",
       "      <td>iJLyR</td>\n",
       "      <td>-0.032172</td>\n",
       "      <td>0.139033</td>\n",
       "      <td>2.978566</td>\n",
       "      <td>168.620776</td>\n",
       "    </tr>\n",
       "    <tr>\n",
       "      <th>4</th>\n",
       "      <td>Xdl7t</td>\n",
       "      <td>1.988431</td>\n",
       "      <td>0.155413</td>\n",
       "      <td>4.751769</td>\n",
       "      <td>154.036647</td>\n",
       "    </tr>\n",
       "  </tbody>\n",
       "</table>\n",
       "</div>"
      ],
      "text/plain": [
       "      id        f0        f1        f2     product\n",
       "0  txEyH  0.705745 -0.497823  1.221170  105.280062\n",
       "1  2acmU  1.334711 -0.340164  4.365080   73.037750\n",
       "2  409Wp  1.022732  0.151990  1.419926   85.265647\n",
       "3  iJLyR -0.032172  0.139033  2.978566  168.620776\n",
       "4  Xdl7t  1.988431  0.155413  4.751769  154.036647"
      ]
     },
     "metadata": {},
     "output_type": "display_data"
    },
    {
     "data": {
      "text/html": [
       "<div>\n",
       "<style scoped>\n",
       "    .dataframe tbody tr th:only-of-type {\n",
       "        vertical-align: middle;\n",
       "    }\n",
       "\n",
       "    .dataframe tbody tr th {\n",
       "        vertical-align: top;\n",
       "    }\n",
       "\n",
       "    .dataframe thead th {\n",
       "        text-align: right;\n",
       "    }\n",
       "</style>\n",
       "<table border=\"1\" class=\"dataframe\">\n",
       "  <thead>\n",
       "    <tr style=\"text-align: right;\">\n",
       "      <th></th>\n",
       "      <th>count</th>\n",
       "      <th>mean</th>\n",
       "      <th>std</th>\n",
       "      <th>min</th>\n",
       "      <th>25%</th>\n",
       "      <th>50%</th>\n",
       "      <th>75%</th>\n",
       "      <th>max</th>\n",
       "    </tr>\n",
       "  </thead>\n",
       "  <tbody>\n",
       "    <tr>\n",
       "      <th>f0</th>\n",
       "      <td>100000.0</td>\n",
       "      <td>0.500419</td>\n",
       "      <td>0.871832</td>\n",
       "      <td>-1.408605</td>\n",
       "      <td>-0.072580</td>\n",
       "      <td>0.502360</td>\n",
       "      <td>1.073581</td>\n",
       "      <td>2.362331</td>\n",
       "    </tr>\n",
       "    <tr>\n",
       "      <th>f1</th>\n",
       "      <td>100000.0</td>\n",
       "      <td>0.250143</td>\n",
       "      <td>0.504433</td>\n",
       "      <td>-0.848218</td>\n",
       "      <td>-0.200881</td>\n",
       "      <td>0.250252</td>\n",
       "      <td>0.700646</td>\n",
       "      <td>1.343769</td>\n",
       "    </tr>\n",
       "    <tr>\n",
       "      <th>f2</th>\n",
       "      <td>100000.0</td>\n",
       "      <td>2.502647</td>\n",
       "      <td>3.248248</td>\n",
       "      <td>-12.088328</td>\n",
       "      <td>0.287748</td>\n",
       "      <td>2.515969</td>\n",
       "      <td>4.715088</td>\n",
       "      <td>16.003790</td>\n",
       "    </tr>\n",
       "    <tr>\n",
       "      <th>product</th>\n",
       "      <td>100000.0</td>\n",
       "      <td>92.500000</td>\n",
       "      <td>44.288691</td>\n",
       "      <td>0.000000</td>\n",
       "      <td>56.497507</td>\n",
       "      <td>91.849972</td>\n",
       "      <td>128.564089</td>\n",
       "      <td>185.364347</td>\n",
       "    </tr>\n",
       "  </tbody>\n",
       "</table>\n",
       "</div>"
      ],
      "text/plain": [
       "            count       mean        std        min        25%        50%  \\\n",
       "f0       100000.0   0.500419   0.871832  -1.408605  -0.072580   0.502360   \n",
       "f1       100000.0   0.250143   0.504433  -0.848218  -0.200881   0.250252   \n",
       "f2       100000.0   2.502647   3.248248 -12.088328   0.287748   2.515969   \n",
       "product  100000.0  92.500000  44.288691   0.000000  56.497507  91.849972   \n",
       "\n",
       "                75%         max  \n",
       "f0         1.073581    2.362331  \n",
       "f1         0.700646    1.343769  \n",
       "f2         4.715088   16.003790  \n",
       "product  128.564089  185.364347  "
      ]
     },
     "metadata": {},
     "output_type": "display_data"
    },
    {
     "name": "stdout",
     "output_type": "stream",
     "text": [
      "Проверка на пропуски:\n"
     ]
    },
    {
     "data": {
      "text/plain": [
       "id         0\n",
       "f0         0\n",
       "f1         0\n",
       "f2         0\n",
       "product    0\n",
       "dtype: int64"
      ]
     },
     "metadata": {},
     "output_type": "display_data"
    },
    {
     "name": "stdout",
     "output_type": "stream",
     "text": [
      "Проверка на дубликаты:\n"
     ]
    },
    {
     "data": {
      "text/plain": [
       "0"
      ]
     },
     "metadata": {},
     "output_type": "display_data"
    },
    {
     "name": "stdout",
     "output_type": "stream",
     "text": [
      "Корреляция:\n"
     ]
    },
    {
     "data": {
      "text/html": [
       "<div>\n",
       "<style scoped>\n",
       "    .dataframe tbody tr th:only-of-type {\n",
       "        vertical-align: middle;\n",
       "    }\n",
       "\n",
       "    .dataframe tbody tr th {\n",
       "        vertical-align: top;\n",
       "    }\n",
       "\n",
       "    .dataframe thead th {\n",
       "        text-align: right;\n",
       "    }\n",
       "</style>\n",
       "<table border=\"1\" class=\"dataframe\">\n",
       "  <thead>\n",
       "    <tr style=\"text-align: right;\">\n",
       "      <th></th>\n",
       "      <th>f0</th>\n",
       "      <th>f1</th>\n",
       "      <th>f2</th>\n",
       "      <th>product</th>\n",
       "    </tr>\n",
       "  </thead>\n",
       "  <tbody>\n",
       "    <tr>\n",
       "      <th>f0</th>\n",
       "      <td>1.000000</td>\n",
       "      <td>-0.440723</td>\n",
       "      <td>-0.003153</td>\n",
       "      <td>0.143536</td>\n",
       "    </tr>\n",
       "    <tr>\n",
       "      <th>f1</th>\n",
       "      <td>-0.440723</td>\n",
       "      <td>1.000000</td>\n",
       "      <td>0.001724</td>\n",
       "      <td>-0.192356</td>\n",
       "    </tr>\n",
       "    <tr>\n",
       "      <th>f2</th>\n",
       "      <td>-0.003153</td>\n",
       "      <td>0.001724</td>\n",
       "      <td>1.000000</td>\n",
       "      <td>0.483663</td>\n",
       "    </tr>\n",
       "    <tr>\n",
       "      <th>product</th>\n",
       "      <td>0.143536</td>\n",
       "      <td>-0.192356</td>\n",
       "      <td>0.483663</td>\n",
       "      <td>1.000000</td>\n",
       "    </tr>\n",
       "  </tbody>\n",
       "</table>\n",
       "</div>"
      ],
      "text/plain": [
       "               f0        f1        f2   product\n",
       "f0       1.000000 -0.440723 -0.003153  0.143536\n",
       "f1      -0.440723  1.000000  0.001724 -0.192356\n",
       "f2      -0.003153  0.001724  1.000000  0.483663\n",
       "product  0.143536 -0.192356  0.483663  1.000000"
      ]
     },
     "metadata": {},
     "output_type": "display_data"
    },
    {
     "name": "stdout",
     "output_type": "stream",
     "text": [
      "----------------------------------------------------------------------------------------------------\n",
      "Общая информация о фрейме:\n",
      "<class 'pandas.core.frame.DataFrame'>\n",
      "RangeIndex: 100000 entries, 0 to 99999\n",
      "Data columns (total 5 columns):\n",
      " #   Column   Non-Null Count   Dtype  \n",
      "---  ------   --------------   -----  \n",
      " 0   id       100000 non-null  object \n",
      " 1   f0       100000 non-null  float64\n",
      " 2   f1       100000 non-null  float64\n",
      " 3   f2       100000 non-null  float64\n",
      " 4   product  100000 non-null  float64\n",
      "dtypes: float64(4), object(1)\n",
      "memory usage: 3.8+ MB\n"
     ]
    },
    {
     "data": {
      "text/plain": [
       "None"
      ]
     },
     "metadata": {},
     "output_type": "display_data"
    },
    {
     "data": {
      "text/html": [
       "<div>\n",
       "<style scoped>\n",
       "    .dataframe tbody tr th:only-of-type {\n",
       "        vertical-align: middle;\n",
       "    }\n",
       "\n",
       "    .dataframe tbody tr th {\n",
       "        vertical-align: top;\n",
       "    }\n",
       "\n",
       "    .dataframe thead th {\n",
       "        text-align: right;\n",
       "    }\n",
       "</style>\n",
       "<table border=\"1\" class=\"dataframe\">\n",
       "  <thead>\n",
       "    <tr style=\"text-align: right;\">\n",
       "      <th></th>\n",
       "      <th>id</th>\n",
       "      <th>f0</th>\n",
       "      <th>f1</th>\n",
       "      <th>f2</th>\n",
       "      <th>product</th>\n",
       "    </tr>\n",
       "  </thead>\n",
       "  <tbody>\n",
       "    <tr>\n",
       "      <th>0</th>\n",
       "      <td>kBEdx</td>\n",
       "      <td>-15.001348</td>\n",
       "      <td>-8.276000</td>\n",
       "      <td>-0.005876</td>\n",
       "      <td>3.179103</td>\n",
       "    </tr>\n",
       "    <tr>\n",
       "      <th>1</th>\n",
       "      <td>62mP7</td>\n",
       "      <td>14.272088</td>\n",
       "      <td>-3.475083</td>\n",
       "      <td>0.999183</td>\n",
       "      <td>26.953261</td>\n",
       "    </tr>\n",
       "    <tr>\n",
       "      <th>2</th>\n",
       "      <td>vyE1P</td>\n",
       "      <td>6.263187</td>\n",
       "      <td>-5.948386</td>\n",
       "      <td>5.001160</td>\n",
       "      <td>134.766305</td>\n",
       "    </tr>\n",
       "    <tr>\n",
       "      <th>3</th>\n",
       "      <td>KcrkZ</td>\n",
       "      <td>-13.081196</td>\n",
       "      <td>-11.506057</td>\n",
       "      <td>4.999415</td>\n",
       "      <td>137.945408</td>\n",
       "    </tr>\n",
       "    <tr>\n",
       "      <th>4</th>\n",
       "      <td>AHL4O</td>\n",
       "      <td>12.702195</td>\n",
       "      <td>-8.147433</td>\n",
       "      <td>5.004363</td>\n",
       "      <td>134.766305</td>\n",
       "    </tr>\n",
       "  </tbody>\n",
       "</table>\n",
       "</div>"
      ],
      "text/plain": [
       "      id         f0         f1        f2     product\n",
       "0  kBEdx -15.001348  -8.276000 -0.005876    3.179103\n",
       "1  62mP7  14.272088  -3.475083  0.999183   26.953261\n",
       "2  vyE1P   6.263187  -5.948386  5.001160  134.766305\n",
       "3  KcrkZ -13.081196 -11.506057  4.999415  137.945408\n",
       "4  AHL4O  12.702195  -8.147433  5.004363  134.766305"
      ]
     },
     "metadata": {},
     "output_type": "display_data"
    },
    {
     "data": {
      "text/html": [
       "<div>\n",
       "<style scoped>\n",
       "    .dataframe tbody tr th:only-of-type {\n",
       "        vertical-align: middle;\n",
       "    }\n",
       "\n",
       "    .dataframe tbody tr th {\n",
       "        vertical-align: top;\n",
       "    }\n",
       "\n",
       "    .dataframe thead th {\n",
       "        text-align: right;\n",
       "    }\n",
       "</style>\n",
       "<table border=\"1\" class=\"dataframe\">\n",
       "  <thead>\n",
       "    <tr style=\"text-align: right;\">\n",
       "      <th></th>\n",
       "      <th>count</th>\n",
       "      <th>mean</th>\n",
       "      <th>std</th>\n",
       "      <th>min</th>\n",
       "      <th>25%</th>\n",
       "      <th>50%</th>\n",
       "      <th>75%</th>\n",
       "      <th>max</th>\n",
       "    </tr>\n",
       "  </thead>\n",
       "  <tbody>\n",
       "    <tr>\n",
       "      <th>f0</th>\n",
       "      <td>100000.0</td>\n",
       "      <td>1.141296</td>\n",
       "      <td>8.965932</td>\n",
       "      <td>-31.609576</td>\n",
       "      <td>-6.298551</td>\n",
       "      <td>1.153055</td>\n",
       "      <td>8.621015</td>\n",
       "      <td>29.421755</td>\n",
       "    </tr>\n",
       "    <tr>\n",
       "      <th>f1</th>\n",
       "      <td>100000.0</td>\n",
       "      <td>-4.796579</td>\n",
       "      <td>5.119872</td>\n",
       "      <td>-26.358598</td>\n",
       "      <td>-8.267985</td>\n",
       "      <td>-4.813172</td>\n",
       "      <td>-1.332816</td>\n",
       "      <td>18.734063</td>\n",
       "    </tr>\n",
       "    <tr>\n",
       "      <th>f2</th>\n",
       "      <td>100000.0</td>\n",
       "      <td>2.494541</td>\n",
       "      <td>1.703572</td>\n",
       "      <td>-0.018144</td>\n",
       "      <td>1.000021</td>\n",
       "      <td>2.011479</td>\n",
       "      <td>3.999904</td>\n",
       "      <td>5.019721</td>\n",
       "    </tr>\n",
       "    <tr>\n",
       "      <th>product</th>\n",
       "      <td>100000.0</td>\n",
       "      <td>68.825000</td>\n",
       "      <td>45.944423</td>\n",
       "      <td>0.000000</td>\n",
       "      <td>26.953261</td>\n",
       "      <td>57.085625</td>\n",
       "      <td>107.813044</td>\n",
       "      <td>137.945408</td>\n",
       "    </tr>\n",
       "  </tbody>\n",
       "</table>\n",
       "</div>"
      ],
      "text/plain": [
       "            count       mean        std        min        25%        50%  \\\n",
       "f0       100000.0   1.141296   8.965932 -31.609576  -6.298551   1.153055   \n",
       "f1       100000.0  -4.796579   5.119872 -26.358598  -8.267985  -4.813172   \n",
       "f2       100000.0   2.494541   1.703572  -0.018144   1.000021   2.011479   \n",
       "product  100000.0  68.825000  45.944423   0.000000  26.953261  57.085625   \n",
       "\n",
       "                75%         max  \n",
       "f0         8.621015   29.421755  \n",
       "f1        -1.332816   18.734063  \n",
       "f2         3.999904    5.019721  \n",
       "product  107.813044  137.945408  "
      ]
     },
     "metadata": {},
     "output_type": "display_data"
    },
    {
     "name": "stdout",
     "output_type": "stream",
     "text": [
      "Проверка на пропуски:\n"
     ]
    },
    {
     "data": {
      "text/plain": [
       "id         0\n",
       "f0         0\n",
       "f1         0\n",
       "f2         0\n",
       "product    0\n",
       "dtype: int64"
      ]
     },
     "metadata": {},
     "output_type": "display_data"
    },
    {
     "name": "stdout",
     "output_type": "stream",
     "text": [
      "Проверка на дубликаты:\n"
     ]
    },
    {
     "data": {
      "text/plain": [
       "0"
      ]
     },
     "metadata": {},
     "output_type": "display_data"
    },
    {
     "name": "stdout",
     "output_type": "stream",
     "text": [
      "Корреляция:\n"
     ]
    },
    {
     "data": {
      "text/html": [
       "<div>\n",
       "<style scoped>\n",
       "    .dataframe tbody tr th:only-of-type {\n",
       "        vertical-align: middle;\n",
       "    }\n",
       "\n",
       "    .dataframe tbody tr th {\n",
       "        vertical-align: top;\n",
       "    }\n",
       "\n",
       "    .dataframe thead th {\n",
       "        text-align: right;\n",
       "    }\n",
       "</style>\n",
       "<table border=\"1\" class=\"dataframe\">\n",
       "  <thead>\n",
       "    <tr style=\"text-align: right;\">\n",
       "      <th></th>\n",
       "      <th>f0</th>\n",
       "      <th>f1</th>\n",
       "      <th>f2</th>\n",
       "      <th>product</th>\n",
       "    </tr>\n",
       "  </thead>\n",
       "  <tbody>\n",
       "    <tr>\n",
       "      <th>f0</th>\n",
       "      <td>1.000000</td>\n",
       "      <td>0.182287</td>\n",
       "      <td>-0.001777</td>\n",
       "      <td>-0.030491</td>\n",
       "    </tr>\n",
       "    <tr>\n",
       "      <th>f1</th>\n",
       "      <td>0.182287</td>\n",
       "      <td>1.000000</td>\n",
       "      <td>-0.002595</td>\n",
       "      <td>-0.010155</td>\n",
       "    </tr>\n",
       "    <tr>\n",
       "      <th>f2</th>\n",
       "      <td>-0.001777</td>\n",
       "      <td>-0.002595</td>\n",
       "      <td>1.000000</td>\n",
       "      <td>0.999397</td>\n",
       "    </tr>\n",
       "    <tr>\n",
       "      <th>product</th>\n",
       "      <td>-0.030491</td>\n",
       "      <td>-0.010155</td>\n",
       "      <td>0.999397</td>\n",
       "      <td>1.000000</td>\n",
       "    </tr>\n",
       "  </tbody>\n",
       "</table>\n",
       "</div>"
      ],
      "text/plain": [
       "               f0        f1        f2   product\n",
       "f0       1.000000  0.182287 -0.001777 -0.030491\n",
       "f1       0.182287  1.000000 -0.002595 -0.010155\n",
       "f2      -0.001777 -0.002595  1.000000  0.999397\n",
       "product -0.030491 -0.010155  0.999397  1.000000"
      ]
     },
     "metadata": {},
     "output_type": "display_data"
    },
    {
     "name": "stdout",
     "output_type": "stream",
     "text": [
      "----------------------------------------------------------------------------------------------------\n",
      "Общая информация о фрейме:\n",
      "<class 'pandas.core.frame.DataFrame'>\n",
      "RangeIndex: 100000 entries, 0 to 99999\n",
      "Data columns (total 5 columns):\n",
      " #   Column   Non-Null Count   Dtype  \n",
      "---  ------   --------------   -----  \n",
      " 0   id       100000 non-null  object \n",
      " 1   f0       100000 non-null  float64\n",
      " 2   f1       100000 non-null  float64\n",
      " 3   f2       100000 non-null  float64\n",
      " 4   product  100000 non-null  float64\n",
      "dtypes: float64(4), object(1)\n",
      "memory usage: 3.8+ MB\n"
     ]
    },
    {
     "data": {
      "text/plain": [
       "None"
      ]
     },
     "metadata": {},
     "output_type": "display_data"
    },
    {
     "data": {
      "text/html": [
       "<div>\n",
       "<style scoped>\n",
       "    .dataframe tbody tr th:only-of-type {\n",
       "        vertical-align: middle;\n",
       "    }\n",
       "\n",
       "    .dataframe tbody tr th {\n",
       "        vertical-align: top;\n",
       "    }\n",
       "\n",
       "    .dataframe thead th {\n",
       "        text-align: right;\n",
       "    }\n",
       "</style>\n",
       "<table border=\"1\" class=\"dataframe\">\n",
       "  <thead>\n",
       "    <tr style=\"text-align: right;\">\n",
       "      <th></th>\n",
       "      <th>id</th>\n",
       "      <th>f0</th>\n",
       "      <th>f1</th>\n",
       "      <th>f2</th>\n",
       "      <th>product</th>\n",
       "    </tr>\n",
       "  </thead>\n",
       "  <tbody>\n",
       "    <tr>\n",
       "      <th>0</th>\n",
       "      <td>fwXo0</td>\n",
       "      <td>-1.146987</td>\n",
       "      <td>0.963328</td>\n",
       "      <td>-0.828965</td>\n",
       "      <td>27.758673</td>\n",
       "    </tr>\n",
       "    <tr>\n",
       "      <th>1</th>\n",
       "      <td>WJtFt</td>\n",
       "      <td>0.262778</td>\n",
       "      <td>0.269839</td>\n",
       "      <td>-2.530187</td>\n",
       "      <td>56.069697</td>\n",
       "    </tr>\n",
       "    <tr>\n",
       "      <th>2</th>\n",
       "      <td>ovLUW</td>\n",
       "      <td>0.194587</td>\n",
       "      <td>0.289035</td>\n",
       "      <td>-5.586433</td>\n",
       "      <td>62.871910</td>\n",
       "    </tr>\n",
       "    <tr>\n",
       "      <th>3</th>\n",
       "      <td>q6cA6</td>\n",
       "      <td>2.236060</td>\n",
       "      <td>-0.553760</td>\n",
       "      <td>0.930038</td>\n",
       "      <td>114.572842</td>\n",
       "    </tr>\n",
       "    <tr>\n",
       "      <th>4</th>\n",
       "      <td>WPMUX</td>\n",
       "      <td>-0.515993</td>\n",
       "      <td>1.716266</td>\n",
       "      <td>5.899011</td>\n",
       "      <td>149.600746</td>\n",
       "    </tr>\n",
       "  </tbody>\n",
       "</table>\n",
       "</div>"
      ],
      "text/plain": [
       "      id        f0        f1        f2     product\n",
       "0  fwXo0 -1.146987  0.963328 -0.828965   27.758673\n",
       "1  WJtFt  0.262778  0.269839 -2.530187   56.069697\n",
       "2  ovLUW  0.194587  0.289035 -5.586433   62.871910\n",
       "3  q6cA6  2.236060 -0.553760  0.930038  114.572842\n",
       "4  WPMUX -0.515993  1.716266  5.899011  149.600746"
      ]
     },
     "metadata": {},
     "output_type": "display_data"
    },
    {
     "data": {
      "text/html": [
       "<div>\n",
       "<style scoped>\n",
       "    .dataframe tbody tr th:only-of-type {\n",
       "        vertical-align: middle;\n",
       "    }\n",
       "\n",
       "    .dataframe tbody tr th {\n",
       "        vertical-align: top;\n",
       "    }\n",
       "\n",
       "    .dataframe thead th {\n",
       "        text-align: right;\n",
       "    }\n",
       "</style>\n",
       "<table border=\"1\" class=\"dataframe\">\n",
       "  <thead>\n",
       "    <tr style=\"text-align: right;\">\n",
       "      <th></th>\n",
       "      <th>count</th>\n",
       "      <th>mean</th>\n",
       "      <th>std</th>\n",
       "      <th>min</th>\n",
       "      <th>25%</th>\n",
       "      <th>50%</th>\n",
       "      <th>75%</th>\n",
       "      <th>max</th>\n",
       "    </tr>\n",
       "  </thead>\n",
       "  <tbody>\n",
       "    <tr>\n",
       "      <th>f0</th>\n",
       "      <td>100000.0</td>\n",
       "      <td>0.002023</td>\n",
       "      <td>1.732045</td>\n",
       "      <td>-8.760004</td>\n",
       "      <td>-1.162288</td>\n",
       "      <td>0.009424</td>\n",
       "      <td>1.158535</td>\n",
       "      <td>7.238262</td>\n",
       "    </tr>\n",
       "    <tr>\n",
       "      <th>f1</th>\n",
       "      <td>100000.0</td>\n",
       "      <td>-0.002081</td>\n",
       "      <td>1.730417</td>\n",
       "      <td>-7.084020</td>\n",
       "      <td>-1.174820</td>\n",
       "      <td>-0.009482</td>\n",
       "      <td>1.163678</td>\n",
       "      <td>7.844801</td>\n",
       "    </tr>\n",
       "    <tr>\n",
       "      <th>f2</th>\n",
       "      <td>100000.0</td>\n",
       "      <td>2.495128</td>\n",
       "      <td>3.473445</td>\n",
       "      <td>-11.970335</td>\n",
       "      <td>0.130359</td>\n",
       "      <td>2.484236</td>\n",
       "      <td>4.858794</td>\n",
       "      <td>16.739402</td>\n",
       "    </tr>\n",
       "    <tr>\n",
       "      <th>product</th>\n",
       "      <td>100000.0</td>\n",
       "      <td>95.000000</td>\n",
       "      <td>44.749921</td>\n",
       "      <td>0.000000</td>\n",
       "      <td>59.450441</td>\n",
       "      <td>94.925613</td>\n",
       "      <td>130.595027</td>\n",
       "      <td>190.029838</td>\n",
       "    </tr>\n",
       "  </tbody>\n",
       "</table>\n",
       "</div>"
      ],
      "text/plain": [
       "            count       mean        std        min        25%        50%  \\\n",
       "f0       100000.0   0.002023   1.732045  -8.760004  -1.162288   0.009424   \n",
       "f1       100000.0  -0.002081   1.730417  -7.084020  -1.174820  -0.009482   \n",
       "f2       100000.0   2.495128   3.473445 -11.970335   0.130359   2.484236   \n",
       "product  100000.0  95.000000  44.749921   0.000000  59.450441  94.925613   \n",
       "\n",
       "                75%         max  \n",
       "f0         1.158535    7.238262  \n",
       "f1         1.163678    7.844801  \n",
       "f2         4.858794   16.739402  \n",
       "product  130.595027  190.029838  "
      ]
     },
     "metadata": {},
     "output_type": "display_data"
    },
    {
     "name": "stdout",
     "output_type": "stream",
     "text": [
      "Проверка на пропуски:\n"
     ]
    },
    {
     "data": {
      "text/plain": [
       "id         0\n",
       "f0         0\n",
       "f1         0\n",
       "f2         0\n",
       "product    0\n",
       "dtype: int64"
      ]
     },
     "metadata": {},
     "output_type": "display_data"
    },
    {
     "name": "stdout",
     "output_type": "stream",
     "text": [
      "Проверка на дубликаты:\n"
     ]
    },
    {
     "data": {
      "text/plain": [
       "0"
      ]
     },
     "metadata": {},
     "output_type": "display_data"
    },
    {
     "name": "stdout",
     "output_type": "stream",
     "text": [
      "Корреляция:\n"
     ]
    },
    {
     "data": {
      "text/html": [
       "<div>\n",
       "<style scoped>\n",
       "    .dataframe tbody tr th:only-of-type {\n",
       "        vertical-align: middle;\n",
       "    }\n",
       "\n",
       "    .dataframe tbody tr th {\n",
       "        vertical-align: top;\n",
       "    }\n",
       "\n",
       "    .dataframe thead th {\n",
       "        text-align: right;\n",
       "    }\n",
       "</style>\n",
       "<table border=\"1\" class=\"dataframe\">\n",
       "  <thead>\n",
       "    <tr style=\"text-align: right;\">\n",
       "      <th></th>\n",
       "      <th>f0</th>\n",
       "      <th>f1</th>\n",
       "      <th>f2</th>\n",
       "      <th>product</th>\n",
       "    </tr>\n",
       "  </thead>\n",
       "  <tbody>\n",
       "    <tr>\n",
       "      <th>f0</th>\n",
       "      <td>1.000000</td>\n",
       "      <td>0.000528</td>\n",
       "      <td>-0.000448</td>\n",
       "      <td>-0.001987</td>\n",
       "    </tr>\n",
       "    <tr>\n",
       "      <th>f1</th>\n",
       "      <td>0.000528</td>\n",
       "      <td>1.000000</td>\n",
       "      <td>0.000779</td>\n",
       "      <td>-0.001012</td>\n",
       "    </tr>\n",
       "    <tr>\n",
       "      <th>f2</th>\n",
       "      <td>-0.000448</td>\n",
       "      <td>0.000779</td>\n",
       "      <td>1.000000</td>\n",
       "      <td>0.445871</td>\n",
       "    </tr>\n",
       "    <tr>\n",
       "      <th>product</th>\n",
       "      <td>-0.001987</td>\n",
       "      <td>-0.001012</td>\n",
       "      <td>0.445871</td>\n",
       "      <td>1.000000</td>\n",
       "    </tr>\n",
       "  </tbody>\n",
       "</table>\n",
       "</div>"
      ],
      "text/plain": [
       "               f0        f1        f2   product\n",
       "f0       1.000000  0.000528 -0.000448 -0.001987\n",
       "f1       0.000528  1.000000  0.000779 -0.001012\n",
       "f2      -0.000448  0.000779  1.000000  0.445871\n",
       "product -0.001987 -0.001012  0.445871  1.000000"
      ]
     },
     "metadata": {},
     "output_type": "display_data"
    },
    {
     "name": "stdout",
     "output_type": "stream",
     "text": [
      "----------------------------------------------------------------------------------------------------\n"
     ]
    }
   ],
   "source": [
    "# изучим данные\n",
    "for i in range(3):\n",
    "    print('Общая информация о фрейме:')\n",
    "    display(data[i].info())\n",
    "    display(data[i].head())\n",
    "    display(data[i].describe().T)\n",
    "    print('Проверка на пропуски:')\n",
    "    display(data[i].isna().sum())\n",
    "    print('Проверка на дубликаты:')\n",
    "    display(data[i].duplicated().sum())\n",
    "    print('Корреляция:')\n",
    "    display(data[i].corr())\n",
    "    print('-' * 100)"
   ]
  },
  {
   "cell_type": "code",
   "execution_count": 5,
   "metadata": {},
   "outputs": [
    {
     "name": "stdout",
     "output_type": "stream",
     "text": [
      "Index(['f0', 'f1', 'f2', 'product'], dtype='object')\n",
      "Index(['f0', 'f1', 'f2', 'product'], dtype='object')\n",
      "Index(['f0', 'f1', 'f2', 'product'], dtype='object')\n"
     ]
    }
   ],
   "source": [
    "# дропнем ненужный в исследовании признак\n",
    "for i in range(3):\n",
    "    data[i] = data[i].drop(columns=['id'])\n",
    "    print(data[i].columns.unique())"
   ]
  },
  {
   "cell_type": "markdown",
   "metadata": {},
   "source": [
    "Все три фрейма одинаковы и состоят из 10е4 строк и 5 стобцов. Все стобцы в нужном виде, выбросов, дубликатов и пропусков нет. Фреймы отлично подготовлены для исследования. Заметна сильная положительная корреляция признака f2 и целевого признака во втором фрейме. Удалили признак id из всех фреймов, т.к. эти данные не несут никакой информативности для нашего исследования."
   ]
  },
  {
   "cell_type": "markdown",
   "metadata": {},
   "source": [
    "## Обучение и проверка модели"
   ]
  },
  {
   "cell_type": "code",
   "execution_count": 6,
   "metadata": {},
   "outputs": [],
   "source": [
    "# создадим пустые списки для целевого признака и предсказаний\n",
    "targets_valid = []\n",
    "predicts = []\n",
    "# напишем функцию для разбития на выборки и обучения моделей для всех фреймов\n",
    "def split(df):\n",
    "# разделим на признаки\n",
    "    features = df.drop([\"product\"], axis=1)\n",
    "    target = df[\"product\"]\n",
    "# разобьём на выборки в соотношении 75/25 \n",
    "    features_train, features_valid, target_train, target_valid = \\\n",
    "        train_test_split(features, target, test_size=0.25, random_state=STATE)\n",
    "# нормализуем признаки\n",
    "    scaler = StandardScaler()\n",
    "    scaler.fit(features_train)\n",
    "    features_train_0 = scaler.transform(features_train)\n",
    "# обучим модель и выведем rmse и точность модели\n",
    "    model = LinearRegression()\n",
    "    model.fit(features_train, target_train)\n",
    "    predict = model.predict(features_valid)\n",
    "    rmse = mean_squared_error(target_valid, predict)**0.5\n",
    "    print('Среднеквадратичное отклонение равно: %.2f' % rmse)\n",
    "    result = model.score(features_valid, target_valid)\n",
    "    print('Точность модели равна: {:.2%}'.format(result))\n",
    "# добавим результаты в отдельный список  \n",
    "    targets_valid.append(target_valid.reset_index(drop=True))\n",
    "    predicts.append(predict)\n",
    "# дополнительно выведем размеры наших выборок    \n",
    "    print('Размер обущающей выборки:')\n",
    "    print(features_train.shape)\n",
    "    print(target_train.shape)\n",
    "    print('Размер валидационной выборки:')\n",
    "    print(features_valid.shape)\n",
    "    print(target_valid.shape)"
   ]
  },
  {
   "cell_type": "code",
   "execution_count": 7,
   "metadata": {
    "scrolled": false
   },
   "outputs": [
    {
     "name": "stdout",
     "output_type": "stream",
     "text": [
      "Данные по df 0\n",
      "Среднеквадратичное отклонение равно: 37.58\n",
      "Точность модели равна: 27.99%\n",
      "Размер обущающей выборки:\n",
      "(75000, 3)\n",
      "(75000,)\n",
      "Размер валидационной выборки:\n",
      "(25000, 3)\n",
      "(25000,)\n",
      "----------------------------------------------------------------------------------------------------\n",
      "Данные по df 1\n",
      "Среднеквадратичное отклонение равно: 0.89\n",
      "Точность модели равна: 99.96%\n",
      "Размер обущающей выборки:\n",
      "(75000, 3)\n",
      "(75000,)\n",
      "Размер валидационной выборки:\n",
      "(25000, 3)\n",
      "(25000,)\n",
      "----------------------------------------------------------------------------------------------------\n",
      "Данные по df 2\n",
      "Среднеквадратичное отклонение равно: 39.96\n",
      "Точность модели равна: 20.26%\n",
      "Размер обущающей выборки:\n",
      "(75000, 3)\n",
      "(75000,)\n",
      "Размер валидационной выборки:\n",
      "(25000, 3)\n",
      "(25000,)\n",
      "----------------------------------------------------------------------------------------------------\n"
     ]
    }
   ],
   "source": [
    "for i in range(3):\n",
    "    print('Данные по df', i)\n",
    "    split(data[i])\n",
    "    print('-' * 100)"
   ]
  },
  {
   "cell_type": "markdown",
   "metadata": {},
   "source": [
    "Как мы видим, модель, обученная на данных из второго фрейма, имеет очень высокую точность, но низкое rmse, что может быть связано с тем, что у данных в этом фрейме очень малый разброс. Также, мы сохранили полученные по валидационным выборкам предсказания в отдельную переменную."
   ]
  },
  {
   "cell_type": "markdown",
   "metadata": {},
   "source": [
    "## Подготовка к расчёту прибыли"
   ]
  },
  {
   "cell_type": "code",
   "execution_count": 8,
   "metadata": {},
   "outputs": [],
   "source": [
    "# сохраним ключевые значения в переменных\n",
    "POINTS = 500  \n",
    "BEST_POINTS = 200    \n",
    "BUDGET = 10e9\n",
    "COST_1_BARREL = 45e4 "
   ]
  },
  {
   "cell_type": "code",
   "execution_count": 9,
   "metadata": {},
   "outputs": [
    {
     "name": "stdout",
     "output_type": "stream",
     "text": [
      "Объём нефти в скважине, требуемый для безубыточной работы: 111 тыс. баррелей.\n"
     ]
    }
   ],
   "source": [
    "# рассчитаем объём нефти для безубыточной работы\n",
    "print(\"Объём нефти в скважине, требуемый для безубыточной работы: {0:.0f} тыс. баррелей.\". \\\n",
    "      format(BUDGET / COST_1_BARREL /BEST_POINTS))"
   ]
  },
  {
   "cell_type": "code",
   "execution_count": 10,
   "metadata": {},
   "outputs": [
    {
     "name": "stdout",
     "output_type": "stream",
     "text": [
      "Объём нефти в регионе 0 : 92.5 тыс. баррелей\n",
      "Объём нефти в регионе 1 : 68.8 тыс. баррелей\n",
      "Объём нефти в регионе 2 : 95.0 тыс. баррелей\n"
     ]
    }
   ],
   "source": [
    "# узнаем средний объём нефти в каждом регионе\n",
    "for i in range(3):\n",
    "    print('Объём нефти в регионе', i,': {0:.1f}'.format(data[i]['product'].mean()), 'тыс. баррелей')"
   ]
  },
  {
   "cell_type": "code",
   "execution_count": 11,
   "metadata": {},
   "outputs": [],
   "source": [
    "# напишем функцию для подсчёта выручки\n",
    "def profit(target_valid, predictions_valid, count):\n",
    "    \n",
    "    target = target_valid.reset_index(drop = True)\n",
    "    predictions = pd.Series(predictions_valid, index = target.index)\n",
    "    best_points = target[predictions.sort_values(ascending = False).index][:count]\n",
    "    \n",
    "    return (best_points.sum() * COST_1_BARREL - BUDGET) / 1000000"
   ]
  },
  {
   "cell_type": "markdown",
   "metadata": {},
   "source": [
    "Объём нефти в каждом регионе заметно ниже, требуемого для безубыточной работы. Следовательно, вести разработку всех скважин в регионах, нерентабельно. Далее в расчётах будем использовать лишь двести скважин."
   ]
  },
  {
   "cell_type": "markdown",
   "metadata": {},
   "source": [
    "## Расчёт прибыли и рисков "
   ]
  },
  {
   "cell_type": "code",
   "execution_count": 12,
   "metadata": {},
   "outputs": [
    {
     "name": "stdout",
     "output_type": "stream",
     "text": [
      "Прибыль с региона: 3320.8 млн. руб.\n",
      "Прибыль с региона: 2415.1 млн. руб.\n",
      "Прибыль с региона: 2539.9 млн. руб.\n"
     ]
    }
   ],
   "source": [
    "# рассчитаем прибыль с каждого региона\n",
    "for i, x in zip(targets_valid, predicts):\n",
    "    print('Прибыль с региона: {0:.1f}'.format(profit(i, x, BEST_POINTS)), 'млн. руб.')"
   ]
  },
  {
   "cell_type": "code",
   "execution_count": 13,
   "metadata": {},
   "outputs": [],
   "source": [
    "# напишем функцию для bootstrap\n",
    "def bootstrap(target, predict, n):\n",
    "    profits = []\n",
    "    count = 0\n",
    "\n",
    "    for i in range(1000):\n",
    "        target_subsample = target.reset_index(drop= True).sample(n, random_state=STATE, replace=True)\n",
    "        probs_subsample = predict[target_subsample.index]\n",
    "    \n",
    "        profits.append(profit(target_subsample, probs_subsample, BEST_POINTS))\n",
    "        \n",
    "    profits = pd.Series(profits)\n",
    "    \n",
    "    count = (profits < 0).mean()\n",
    "\n",
    "    lower = profits.quantile(0.025)\n",
    "    upper = profits.quantile(0.975)\n",
    "\n",
    "    print('Средняя прибыль в регионе равна: %.2f' % (profits.mean()), 'млн. руб.')\n",
    "    print('95% доверительный интервал лежит в диапазоне: {:.2f}'.format(lower),\n",
    "          '- {:.2f}'.format(upper))\n",
    "    print('Вероятность убытка равна: {:.2%}'.format(count))"
   ]
  },
  {
   "cell_type": "code",
   "execution_count": 14,
   "metadata": {},
   "outputs": [
    {
     "name": "stdout",
     "output_type": "stream",
     "text": [
      "Средняя прибыль в регионе равна: 394.28 млн. руб.\n",
      "95% доверительный интервал лежит в диапазоне: -69.45 - 915.50\n",
      "Вероятность убытка равна: 6.10%\n",
      "Средняя прибыль в регионе равна: 454.74 млн. руб.\n",
      "95% доверительный интервал лежит в диапазоне: 61.07 - 855.91\n",
      "Вероятность убытка равна: 0.70%\n",
      "Средняя прибыль в регионе равна: 353.66 млн. руб.\n",
      "95% доверительный интервал лежит в диапазоне: -162.65 - 847.76\n",
      "Вероятность убытка равна: 7.60%\n"
     ]
    }
   ],
   "source": [
    "for i, x in zip(targets_valid, predicts):\n",
    "    bootstrap(i, x, POINTS)"
   ]
  },
  {
   "cell_type": "markdown",
   "metadata": {},
   "source": [
    "## Вывод."
   ]
  },
  {
   "cell_type": "markdown",
   "metadata": {},
   "source": [
    "В этом исследовании нам были предоставлены пробы нефти в трёх регионах: в каждом 10 000 месторождений, где измерили качество нефти и объём её запасов. Предоставленные данные были отлично подготовлены. Далее мы разбили данные на выборки и обучили модели, сохранив ключевые для исследования значения в списки. По результатам обучения модель, обученная на данных из второй выборки имела самую лучшую точность (99.96%). Объём нефти в каждом регионе заметно ниже, требуемого для безубыточной работы. Следовательно, вести разработку всех скважин в регионах, нерентабельно. \n",
    "\n",
    "Произведена оценка по 200 лучшим скважинам в каждом регионе. И по прогнозам 2 регион является самым лучшим для разработки скважин с показателем риска меньше требуемого 2.5% и самой высокой средней прибылью в 450-490 млн. руб. "
   ]
  }
 ],
 "metadata": {
  "ExecuteTimeLog": [
   {
    "duration": 415,
    "start_time": "2023-07-29T18:15:55.392Z"
   },
   {
    "duration": 1635,
    "start_time": "2023-07-29T18:17:17.974Z"
   },
   {
    "duration": 432,
    "start_time": "2023-07-29T18:17:26.774Z"
   },
   {
    "duration": 67,
    "start_time": "2023-07-29T18:19:22.797Z"
   },
   {
    "duration": 65,
    "start_time": "2023-07-29T18:19:29.729Z"
   },
   {
    "duration": 9,
    "start_time": "2023-07-29T18:19:44.121Z"
   },
   {
    "duration": 459,
    "start_time": "2023-07-29T18:19:51.542Z"
   },
   {
    "duration": 435,
    "start_time": "2023-07-29T18:19:52.003Z"
   },
   {
    "duration": 78,
    "start_time": "2023-07-29T18:19:52.440Z"
   },
   {
    "duration": 7,
    "start_time": "2023-07-29T18:20:13.348Z"
   },
   {
    "duration": 151,
    "start_time": "2023-07-29T18:22:20.298Z"
   },
   {
    "duration": 166,
    "start_time": "2023-07-29T18:23:31.984Z"
   },
   {
    "duration": 66,
    "start_time": "2023-07-29T18:24:00.915Z"
   },
   {
    "duration": 82,
    "start_time": "2023-07-29T18:24:13.919Z"
   },
   {
    "duration": 87,
    "start_time": "2023-07-29T18:24:59.390Z"
   },
   {
    "duration": 85,
    "start_time": "2023-07-29T18:25:17.586Z"
   },
   {
    "duration": 88,
    "start_time": "2023-07-29T18:28:10.586Z"
   },
   {
    "duration": 413,
    "start_time": "2023-07-29T18:28:56.653Z"
   },
   {
    "duration": 369,
    "start_time": "2023-07-29T18:28:57.068Z"
   },
   {
    "duration": 99,
    "start_time": "2023-07-29T18:28:57.438Z"
   },
   {
    "duration": 375,
    "start_time": "2023-07-29T18:29:20.291Z"
   },
   {
    "duration": 374,
    "start_time": "2023-07-29T18:29:20.668Z"
   },
   {
    "duration": 90,
    "start_time": "2023-07-29T18:29:21.044Z"
   },
   {
    "duration": 74,
    "start_time": "2023-07-29T18:36:36.858Z"
   },
   {
    "duration": 193,
    "start_time": "2023-07-29T18:37:07.830Z"
   },
   {
    "duration": 145,
    "start_time": "2023-07-29T18:37:57.883Z"
   },
   {
    "duration": 165,
    "start_time": "2023-07-29T18:38:09.715Z"
   },
   {
    "duration": 173,
    "start_time": "2023-07-29T18:38:17.345Z"
   },
   {
    "duration": 329,
    "start_time": "2023-07-29T18:38:46.095Z"
   },
   {
    "duration": 68,
    "start_time": "2023-07-29T18:41:12.725Z"
   },
   {
    "duration": 8,
    "start_time": "2023-07-29T18:41:54.901Z"
   },
   {
    "duration": 25,
    "start_time": "2023-07-29T18:42:32.981Z"
   },
   {
    "duration": 31,
    "start_time": "2023-07-29T18:43:55.330Z"
   },
   {
    "duration": 3,
    "start_time": "2023-07-29T18:47:45.909Z"
   },
   {
    "duration": 71,
    "start_time": "2023-07-29T18:52:21.559Z"
   },
   {
    "duration": 1134,
    "start_time": "2023-07-29T18:52:46.927Z"
   },
   {
    "duration": 372,
    "start_time": "2023-07-29T18:52:48.063Z"
   },
   {
    "duration": 363,
    "start_time": "2023-07-29T18:52:48.436Z"
   },
   {
    "duration": 29,
    "start_time": "2023-07-29T18:52:48.801Z"
   },
   {
    "duration": 112,
    "start_time": "2023-07-29T18:52:48.832Z"
   },
   {
    "duration": 31,
    "start_time": "2023-07-29T18:53:17.048Z"
   },
   {
    "duration": 63,
    "start_time": "2023-07-29T18:53:38.170Z"
   },
   {
    "duration": 95,
    "start_time": "2023-07-29T18:54:00.564Z"
   },
   {
    "duration": 59,
    "start_time": "2023-07-29T18:54:11.751Z"
   },
   {
    "duration": 60,
    "start_time": "2023-07-29T18:54:23.954Z"
   },
   {
    "duration": 57,
    "start_time": "2023-07-29T18:55:54.539Z"
   },
   {
    "duration": 60,
    "start_time": "2023-07-29T18:56:34.393Z"
   },
   {
    "duration": 11,
    "start_time": "2023-07-29T18:57:44.610Z"
   },
   {
    "duration": 1060,
    "start_time": "2023-07-29T18:57:51.519Z"
   },
   {
    "duration": 368,
    "start_time": "2023-07-29T18:57:52.581Z"
   },
   {
    "duration": 7,
    "start_time": "2023-07-29T18:57:52.952Z"
   },
   {
    "duration": 367,
    "start_time": "2023-07-29T18:57:52.961Z"
   },
   {
    "duration": 41,
    "start_time": "2023-07-29T18:57:53.330Z"
   },
   {
    "duration": 62,
    "start_time": "2023-07-29T18:57:53.373Z"
   },
   {
    "duration": 322,
    "start_time": "2023-07-29T18:58:36.468Z"
   },
   {
    "duration": 1110,
    "start_time": "2023-07-29T18:59:06.840Z"
   },
   {
    "duration": 382,
    "start_time": "2023-07-29T18:59:07.952Z"
   },
   {
    "duration": 2,
    "start_time": "2023-07-29T18:59:08.336Z"
   },
   {
    "duration": 371,
    "start_time": "2023-07-29T18:59:08.340Z"
   },
   {
    "duration": 30,
    "start_time": "2023-07-29T18:59:08.712Z"
   },
   {
    "duration": 74,
    "start_time": "2023-07-29T18:59:08.760Z"
   },
   {
    "duration": 114,
    "start_time": "2023-07-29T18:59:47.787Z"
   },
   {
    "duration": 40,
    "start_time": "2023-07-29T19:00:44.127Z"
   },
   {
    "duration": 76,
    "start_time": "2023-07-29T19:01:04.606Z"
   },
   {
    "duration": 61,
    "start_time": "2023-07-29T19:01:40.439Z"
   },
   {
    "duration": 11,
    "start_time": "2023-07-29T19:02:15.821Z"
   },
   {
    "duration": 72,
    "start_time": "2023-07-29T19:02:32.360Z"
   },
   {
    "duration": 1098,
    "start_time": "2023-07-29T19:02:38.159Z"
   },
   {
    "duration": 369,
    "start_time": "2023-07-29T19:02:39.260Z"
   },
   {
    "duration": 3,
    "start_time": "2023-07-29T19:02:39.630Z"
   },
   {
    "duration": 362,
    "start_time": "2023-07-29T19:02:39.635Z"
   },
   {
    "duration": 30,
    "start_time": "2023-07-29T19:02:40.000Z"
   },
   {
    "duration": 84,
    "start_time": "2023-07-29T19:02:40.032Z"
   },
   {
    "duration": 75,
    "start_time": "2023-07-29T19:28:15.835Z"
   },
   {
    "duration": 4,
    "start_time": "2023-07-29T19:28:22.774Z"
   },
   {
    "duration": 125,
    "start_time": "2023-07-29T19:29:51.383Z"
   },
   {
    "duration": 35,
    "start_time": "2023-07-29T19:30:54.333Z"
   },
   {
    "duration": 4,
    "start_time": "2023-07-29T19:31:14.632Z"
   },
   {
    "duration": 67,
    "start_time": "2023-07-29T19:31:15.186Z"
   },
   {
    "duration": 65,
    "start_time": "2023-07-29T19:34:42.727Z"
   },
   {
    "duration": 9,
    "start_time": "2023-07-29T19:34:52.149Z"
   },
   {
    "duration": 1092,
    "start_time": "2023-07-29T19:36:52.370Z"
   },
   {
    "duration": 391,
    "start_time": "2023-07-29T19:36:53.464Z"
   },
   {
    "duration": 3,
    "start_time": "2023-07-29T19:36:53.857Z"
   },
   {
    "duration": 451,
    "start_time": "2023-07-29T19:36:53.862Z"
   },
   {
    "duration": 29,
    "start_time": "2023-07-29T19:36:54.315Z"
   },
   {
    "duration": 5,
    "start_time": "2023-07-29T19:36:54.359Z"
   },
   {
    "duration": 70,
    "start_time": "2023-07-29T19:36:54.365Z"
   },
   {
    "duration": 1085,
    "start_time": "2023-07-30T10:38:03.269Z"
   },
   {
    "duration": 1610,
    "start_time": "2023-07-30T10:38:04.355Z"
   },
   {
    "duration": 3,
    "start_time": "2023-07-30T10:38:05.966Z"
   },
   {
    "duration": 334,
    "start_time": "2023-07-30T10:38:05.970Z"
   },
   {
    "duration": 25,
    "start_time": "2023-07-30T10:38:06.305Z"
   },
   {
    "duration": 3,
    "start_time": "2023-07-30T10:38:06.332Z"
   },
   {
    "duration": 79,
    "start_time": "2023-07-30T10:38:06.336Z"
   },
   {
    "duration": 1658,
    "start_time": "2023-07-30T10:40:34.686Z"
   },
   {
    "duration": 372,
    "start_time": "2023-07-30T10:40:36.346Z"
   },
   {
    "duration": 3,
    "start_time": "2023-07-30T10:40:36.719Z"
   },
   {
    "duration": 365,
    "start_time": "2023-07-30T10:40:36.724Z"
   },
   {
    "duration": 32,
    "start_time": "2023-07-30T10:40:37.091Z"
   },
   {
    "duration": 20,
    "start_time": "2023-07-30T10:40:37.125Z"
   },
   {
    "duration": 103,
    "start_time": "2023-07-30T10:40:37.147Z"
   },
   {
    "duration": 115,
    "start_time": "2023-07-30T10:41:47.853Z"
   },
   {
    "duration": 2,
    "start_time": "2023-07-30T10:42:02.469Z"
   },
   {
    "duration": 3,
    "start_time": "2023-07-30T10:43:46.112Z"
   },
   {
    "duration": 47,
    "start_time": "2023-07-30T10:45:03.582Z"
   },
   {
    "duration": 28,
    "start_time": "2023-07-30T10:45:58.957Z"
   },
   {
    "duration": 35,
    "start_time": "2023-07-30T10:46:10.519Z"
   },
   {
    "duration": 30,
    "start_time": "2023-07-30T10:46:15.004Z"
   },
   {
    "duration": 26,
    "start_time": "2023-07-30T10:46:19.717Z"
   },
   {
    "duration": 27,
    "start_time": "2023-07-30T10:46:23.653Z"
   },
   {
    "duration": 25,
    "start_time": "2023-07-30T10:46:28.808Z"
   },
   {
    "duration": 27,
    "start_time": "2023-07-30T10:46:32.449Z"
   },
   {
    "duration": 28,
    "start_time": "2023-07-30T10:46:35.648Z"
   },
   {
    "duration": 28,
    "start_time": "2023-07-30T10:46:39.098Z"
   },
   {
    "duration": 25,
    "start_time": "2023-07-30T10:46:51.979Z"
   },
   {
    "duration": 67,
    "start_time": "2023-07-30T10:47:13.718Z"
   },
   {
    "duration": 11,
    "start_time": "2023-07-30T10:47:20.200Z"
   },
   {
    "duration": 1399,
    "start_time": "2023-07-30T10:50:24.615Z"
   },
   {
    "duration": 373,
    "start_time": "2023-07-30T10:50:26.016Z"
   },
   {
    "duration": 3,
    "start_time": "2023-07-30T10:50:26.391Z"
   },
   {
    "duration": 330,
    "start_time": "2023-07-30T10:50:26.395Z"
   },
   {
    "duration": 26,
    "start_time": "2023-07-30T10:50:26.727Z"
   },
   {
    "duration": 21,
    "start_time": "2023-07-30T10:50:26.755Z"
   },
   {
    "duration": 61,
    "start_time": "2023-07-30T10:50:26.778Z"
   },
   {
    "duration": 137,
    "start_time": "2023-07-30T10:50:26.840Z"
   },
   {
    "duration": 0,
    "start_time": "2023-07-30T10:50:26.979Z"
   },
   {
    "duration": 0,
    "start_time": "2023-07-30T10:50:26.981Z"
   },
   {
    "duration": 0,
    "start_time": "2023-07-30T10:50:26.982Z"
   },
   {
    "duration": 1335,
    "start_time": "2023-07-30T10:51:05.685Z"
   },
   {
    "duration": 358,
    "start_time": "2023-07-30T10:51:07.023Z"
   },
   {
    "duration": 3,
    "start_time": "2023-07-30T10:51:07.382Z"
   },
   {
    "duration": 342,
    "start_time": "2023-07-30T10:51:07.386Z"
   },
   {
    "duration": 24,
    "start_time": "2023-07-30T10:51:07.731Z"
   },
   {
    "duration": 3,
    "start_time": "2023-07-30T10:51:07.774Z"
   },
   {
    "duration": 70,
    "start_time": "2023-07-30T10:51:07.779Z"
   },
   {
    "duration": 136,
    "start_time": "2023-07-30T10:51:07.851Z"
   },
   {
    "duration": 0,
    "start_time": "2023-07-30T10:51:07.989Z"
   },
   {
    "duration": 0,
    "start_time": "2023-07-30T10:51:07.990Z"
   },
   {
    "duration": 0,
    "start_time": "2023-07-30T10:51:07.991Z"
   },
   {
    "duration": 1359,
    "start_time": "2023-07-30T10:52:58.297Z"
   },
   {
    "duration": 382,
    "start_time": "2023-07-30T10:52:59.659Z"
   },
   {
    "duration": 2,
    "start_time": "2023-07-30T10:53:00.044Z"
   },
   {
    "duration": 464,
    "start_time": "2023-07-30T10:53:00.048Z"
   },
   {
    "duration": 26,
    "start_time": "2023-07-30T10:53:00.514Z"
   },
   {
    "duration": 112,
    "start_time": "2023-07-30T10:53:00.542Z"
   },
   {
    "duration": 0,
    "start_time": "2023-07-30T10:53:00.656Z"
   },
   {
    "duration": 0,
    "start_time": "2023-07-30T10:53:00.657Z"
   },
   {
    "duration": 0,
    "start_time": "2023-07-30T10:53:00.658Z"
   },
   {
    "duration": 0,
    "start_time": "2023-07-30T10:53:00.659Z"
   },
   {
    "duration": 0,
    "start_time": "2023-07-30T10:53:00.660Z"
   },
   {
    "duration": 0,
    "start_time": "2023-07-30T10:53:00.660Z"
   },
   {
    "duration": 1337,
    "start_time": "2023-07-30T10:53:18.264Z"
   },
   {
    "duration": 347,
    "start_time": "2023-07-30T10:53:19.603Z"
   },
   {
    "duration": 3,
    "start_time": "2023-07-30T10:53:19.951Z"
   },
   {
    "duration": 361,
    "start_time": "2023-07-30T10:53:19.955Z"
   },
   {
    "duration": 32,
    "start_time": "2023-07-30T10:53:20.319Z"
   },
   {
    "duration": 1459,
    "start_time": "2023-07-30T10:53:35.201Z"
   },
   {
    "duration": 1686,
    "start_time": "2023-07-30T10:53:36.662Z"
   },
   {
    "duration": 3,
    "start_time": "2023-07-30T10:53:38.350Z"
   },
   {
    "duration": 393,
    "start_time": "2023-07-30T10:53:38.354Z"
   },
   {
    "duration": 52,
    "start_time": "2023-07-30T10:53:38.750Z"
   },
   {
    "duration": 1607,
    "start_time": "2023-07-30T10:54:14.583Z"
   },
   {
    "duration": 1791,
    "start_time": "2023-07-30T10:54:16.193Z"
   },
   {
    "duration": 3,
    "start_time": "2023-07-30T10:54:17.985Z"
   },
   {
    "duration": 404,
    "start_time": "2023-07-30T10:54:17.990Z"
   },
   {
    "duration": 32,
    "start_time": "2023-07-30T10:54:18.397Z"
   },
   {
    "duration": 5,
    "start_time": "2023-07-30T10:54:18.431Z"
   },
   {
    "duration": 89,
    "start_time": "2023-07-30T10:54:18.437Z"
   },
   {
    "duration": 171,
    "start_time": "2023-07-30T10:54:18.528Z"
   },
   {
    "duration": 0,
    "start_time": "2023-07-30T10:54:18.702Z"
   },
   {
    "duration": 0,
    "start_time": "2023-07-30T10:54:18.703Z"
   },
   {
    "duration": 0,
    "start_time": "2023-07-30T10:54:18.705Z"
   },
   {
    "duration": 8,
    "start_time": "2023-07-30T10:57:39.393Z"
   },
   {
    "duration": 1310,
    "start_time": "2023-07-30T10:58:03.116Z"
   },
   {
    "duration": 363,
    "start_time": "2023-07-30T10:58:04.428Z"
   },
   {
    "duration": 2,
    "start_time": "2023-07-30T10:58:04.793Z"
   },
   {
    "duration": 325,
    "start_time": "2023-07-30T10:58:04.797Z"
   },
   {
    "duration": 23,
    "start_time": "2023-07-30T10:58:05.124Z"
   },
   {
    "duration": 3,
    "start_time": "2023-07-30T10:58:05.149Z"
   },
   {
    "duration": 80,
    "start_time": "2023-07-30T10:58:05.153Z"
   },
   {
    "duration": 8,
    "start_time": "2023-07-30T10:58:05.234Z"
   },
   {
    "duration": 139,
    "start_time": "2023-07-30T10:58:05.244Z"
   },
   {
    "duration": 0,
    "start_time": "2023-07-30T10:58:05.385Z"
   },
   {
    "duration": 0,
    "start_time": "2023-07-30T10:58:05.386Z"
   },
   {
    "duration": 0,
    "start_time": "2023-07-30T10:58:05.387Z"
   },
   {
    "duration": 15,
    "start_time": "2023-07-30T10:58:33.986Z"
   },
   {
    "duration": 10,
    "start_time": "2023-07-30T11:00:09.449Z"
   },
   {
    "duration": 12,
    "start_time": "2023-07-30T11:00:22.110Z"
   },
   {
    "duration": 10,
    "start_time": "2023-07-30T11:00:34.477Z"
   },
   {
    "duration": 30,
    "start_time": "2023-07-30T11:00:59.786Z"
   },
   {
    "duration": 15,
    "start_time": "2023-07-30T11:01:09.472Z"
   },
   {
    "duration": 19,
    "start_time": "2023-07-30T11:01:16.383Z"
   },
   {
    "duration": 14,
    "start_time": "2023-07-30T11:01:28.496Z"
   },
   {
    "duration": 13,
    "start_time": "2023-07-30T11:01:37.612Z"
   },
   {
    "duration": 1415,
    "start_time": "2023-07-30T11:01:49.903Z"
   },
   {
    "duration": 365,
    "start_time": "2023-07-30T11:01:51.320Z"
   },
   {
    "duration": 2,
    "start_time": "2023-07-30T11:01:51.687Z"
   },
   {
    "duration": 331,
    "start_time": "2023-07-30T11:01:51.691Z"
   },
   {
    "duration": 33,
    "start_time": "2023-07-30T11:01:52.024Z"
   },
   {
    "duration": 7,
    "start_time": "2023-07-30T11:01:52.076Z"
   },
   {
    "duration": 69,
    "start_time": "2023-07-30T11:01:52.085Z"
   },
   {
    "duration": 148,
    "start_time": "2023-07-30T11:01:52.156Z"
   },
   {
    "duration": 0,
    "start_time": "2023-07-30T11:01:52.306Z"
   },
   {
    "duration": 0,
    "start_time": "2023-07-30T11:01:52.308Z"
   },
   {
    "duration": 0,
    "start_time": "2023-07-30T11:01:52.309Z"
   },
   {
    "duration": 20,
    "start_time": "2023-07-30T11:02:23.289Z"
   },
   {
    "duration": 1510,
    "start_time": "2023-07-30T11:02:39.081Z"
   },
   {
    "duration": 392,
    "start_time": "2023-07-30T11:02:40.593Z"
   },
   {
    "duration": 4,
    "start_time": "2023-07-30T11:02:40.986Z"
   },
   {
    "duration": 363,
    "start_time": "2023-07-30T11:02:40.991Z"
   },
   {
    "duration": 38,
    "start_time": "2023-07-30T11:02:41.356Z"
   },
   {
    "duration": 16,
    "start_time": "2023-07-30T11:02:41.396Z"
   },
   {
    "duration": 4,
    "start_time": "2023-07-30T11:02:41.414Z"
   },
   {
    "duration": 90,
    "start_time": "2023-07-30T11:02:41.421Z"
   },
   {
    "duration": 144,
    "start_time": "2023-07-30T11:02:41.512Z"
   },
   {
    "duration": 0,
    "start_time": "2023-07-30T11:02:41.658Z"
   },
   {
    "duration": 0,
    "start_time": "2023-07-30T11:02:41.659Z"
   },
   {
    "duration": 0,
    "start_time": "2023-07-30T11:02:41.661Z"
   },
   {
    "duration": 14,
    "start_time": "2023-07-30T11:03:55.249Z"
   },
   {
    "duration": 15,
    "start_time": "2023-07-30T11:04:00.903Z"
   },
   {
    "duration": 17,
    "start_time": "2023-07-30T11:05:43.407Z"
   },
   {
    "duration": 1364,
    "start_time": "2023-07-30T11:07:12.089Z"
   },
   {
    "duration": 374,
    "start_time": "2023-07-30T11:07:13.455Z"
   },
   {
    "duration": 4,
    "start_time": "2023-07-30T11:07:13.830Z"
   },
   {
    "duration": 340,
    "start_time": "2023-07-30T11:07:13.836Z"
   },
   {
    "duration": 26,
    "start_time": "2023-07-30T11:07:14.178Z"
   },
   {
    "duration": 13,
    "start_time": "2023-07-30T11:07:14.205Z"
   },
   {
    "duration": 21,
    "start_time": "2023-07-30T11:07:14.219Z"
   },
   {
    "duration": 43,
    "start_time": "2023-07-30T11:07:14.241Z"
   },
   {
    "duration": 125,
    "start_time": "2023-07-30T11:07:14.286Z"
   },
   {
    "duration": 0,
    "start_time": "2023-07-30T11:07:14.413Z"
   },
   {
    "duration": 0,
    "start_time": "2023-07-30T11:07:14.414Z"
   },
   {
    "duration": 0,
    "start_time": "2023-07-30T11:07:14.416Z"
   },
   {
    "duration": 19,
    "start_time": "2023-07-30T11:07:32.115Z"
   },
   {
    "duration": 1489,
    "start_time": "2023-07-30T11:08:30.991Z"
   },
   {
    "duration": 372,
    "start_time": "2023-07-30T11:08:32.483Z"
   },
   {
    "duration": 3,
    "start_time": "2023-07-30T11:08:32.857Z"
   },
   {
    "duration": 347,
    "start_time": "2023-07-30T11:08:32.861Z"
   },
   {
    "duration": 26,
    "start_time": "2023-07-30T11:08:33.211Z"
   },
   {
    "duration": 3,
    "start_time": "2023-07-30T11:08:33.238Z"
   },
   {
    "duration": 66,
    "start_time": "2023-07-30T11:08:33.243Z"
   },
   {
    "duration": 23,
    "start_time": "2023-07-30T11:08:33.311Z"
   },
   {
    "duration": 3,
    "start_time": "2023-07-30T11:08:33.336Z"
   },
   {
    "duration": 17,
    "start_time": "2023-07-30T11:08:33.340Z"
   },
   {
    "duration": 132,
    "start_time": "2023-07-30T11:08:33.359Z"
   },
   {
    "duration": 3,
    "start_time": "2023-07-30T11:08:57.999Z"
   },
   {
    "duration": 244,
    "start_time": "2023-07-30T11:08:59.732Z"
   },
   {
    "duration": 14,
    "start_time": "2023-07-30T11:13:46.012Z"
   },
   {
    "duration": 13,
    "start_time": "2023-07-30T11:27:23.600Z"
   },
   {
    "duration": 1418,
    "start_time": "2023-07-30T11:27:29.404Z"
   },
   {
    "duration": 397,
    "start_time": "2023-07-30T11:27:30.824Z"
   },
   {
    "duration": 3,
    "start_time": "2023-07-30T11:27:31.223Z"
   },
   {
    "duration": 405,
    "start_time": "2023-07-30T11:27:31.228Z"
   },
   {
    "duration": 27,
    "start_time": "2023-07-30T11:27:31.635Z"
   },
   {
    "duration": 20,
    "start_time": "2023-07-30T11:27:31.675Z"
   },
   {
    "duration": 9,
    "start_time": "2023-07-30T11:27:31.697Z"
   },
   {
    "duration": 51,
    "start_time": "2023-07-30T11:27:31.708Z"
   },
   {
    "duration": 51,
    "start_time": "2023-07-30T11:27:31.761Z"
   },
   {
    "duration": 3,
    "start_time": "2023-07-30T11:27:31.814Z"
   },
   {
    "duration": 28,
    "start_time": "2023-07-30T11:27:31.818Z"
   },
   {
    "duration": 50,
    "start_time": "2023-07-30T11:27:31.848Z"
   },
   {
    "duration": 290,
    "start_time": "2023-07-30T11:27:31.900Z"
   },
   {
    "duration": 9,
    "start_time": "2023-07-30T11:32:06.885Z"
   },
   {
    "duration": 1304,
    "start_time": "2023-07-30T11:34:25.597Z"
   },
   {
    "duration": 359,
    "start_time": "2023-07-30T11:34:26.903Z"
   },
   {
    "duration": 3,
    "start_time": "2023-07-30T11:34:27.264Z"
   },
   {
    "duration": 326,
    "start_time": "2023-07-30T11:34:27.269Z"
   },
   {
    "duration": 26,
    "start_time": "2023-07-30T11:34:27.597Z"
   },
   {
    "duration": 4,
    "start_time": "2023-07-30T11:34:27.625Z"
   },
   {
    "duration": 70,
    "start_time": "2023-07-30T11:34:27.630Z"
   },
   {
    "duration": 24,
    "start_time": "2023-07-30T11:34:27.702Z"
   },
   {
    "duration": 2,
    "start_time": "2023-07-30T11:34:27.728Z"
   },
   {
    "duration": 9,
    "start_time": "2023-07-30T11:34:27.732Z"
   },
   {
    "duration": 233,
    "start_time": "2023-07-30T11:34:27.742Z"
   },
   {
    "duration": 220,
    "start_time": "2023-07-30T11:34:27.978Z"
   },
   {
    "duration": 1369,
    "start_time": "2023-07-30T11:42:33.180Z"
   },
   {
    "duration": 380,
    "start_time": "2023-07-30T11:42:34.551Z"
   },
   {
    "duration": 3,
    "start_time": "2023-07-30T11:42:34.934Z"
   },
   {
    "duration": 376,
    "start_time": "2023-07-30T11:42:34.939Z"
   },
   {
    "duration": 25,
    "start_time": "2023-07-30T11:42:35.317Z"
   },
   {
    "duration": 4,
    "start_time": "2023-07-30T11:42:35.344Z"
   },
   {
    "duration": 98,
    "start_time": "2023-07-30T11:42:35.349Z"
   },
   {
    "duration": 42,
    "start_time": "2023-07-30T11:42:35.448Z"
   },
   {
    "duration": 3,
    "start_time": "2023-07-30T11:42:35.491Z"
   },
   {
    "duration": 13,
    "start_time": "2023-07-30T11:42:35.496Z"
   },
   {
    "duration": 78,
    "start_time": "2023-07-30T11:42:35.511Z"
   },
   {
    "duration": 201,
    "start_time": "2023-07-30T11:42:35.676Z"
   },
   {
    "duration": 2353,
    "start_time": "2023-07-30T11:43:08.998Z"
   },
   {
    "duration": 392,
    "start_time": "2023-07-30T11:43:11.354Z"
   },
   {
    "duration": 5,
    "start_time": "2023-07-30T11:43:11.748Z"
   },
   {
    "duration": 399,
    "start_time": "2023-07-30T11:43:11.755Z"
   },
   {
    "duration": 47,
    "start_time": "2023-07-30T11:43:12.157Z"
   },
   {
    "duration": 6,
    "start_time": "2023-07-30T11:43:12.206Z"
   },
   {
    "duration": 121,
    "start_time": "2023-07-30T11:43:12.213Z"
   },
   {
    "duration": 45,
    "start_time": "2023-07-30T11:43:12.337Z"
   },
   {
    "duration": 3,
    "start_time": "2023-07-30T11:43:12.384Z"
   },
   {
    "duration": 13,
    "start_time": "2023-07-30T11:43:12.389Z"
   },
   {
    "duration": 285,
    "start_time": "2023-07-30T11:43:12.404Z"
   },
   {
    "duration": 332,
    "start_time": "2023-07-30T11:43:12.691Z"
   },
   {
    "duration": 1490,
    "start_time": "2023-07-30T11:44:30.535Z"
   },
   {
    "duration": 427,
    "start_time": "2023-07-30T11:44:32.027Z"
   },
   {
    "duration": 3,
    "start_time": "2023-07-30T11:44:32.456Z"
   },
   {
    "duration": 463,
    "start_time": "2023-07-30T11:44:32.462Z"
   },
   {
    "duration": 51,
    "start_time": "2023-07-30T11:44:32.928Z"
   },
   {
    "duration": 6,
    "start_time": "2023-07-30T11:44:32.995Z"
   },
   {
    "duration": 135,
    "start_time": "2023-07-30T11:44:33.003Z"
   },
   {
    "duration": 2,
    "start_time": "2023-07-30T11:44:33.140Z"
   },
   {
    "duration": 51,
    "start_time": "2023-07-30T11:44:33.144Z"
   },
   {
    "duration": 183,
    "start_time": "2023-07-30T11:44:33.197Z"
   },
   {
    "duration": 193,
    "start_time": "2023-07-30T11:44:33.386Z"
   },
   {
    "duration": 2173,
    "start_time": "2023-07-30T11:45:21.683Z"
   },
   {
    "duration": 445,
    "start_time": "2023-07-30T11:45:23.860Z"
   },
   {
    "duration": 3,
    "start_time": "2023-07-30T11:45:24.307Z"
   },
   {
    "duration": 406,
    "start_time": "2023-07-30T11:45:24.312Z"
   },
   {
    "duration": 31,
    "start_time": "2023-07-30T11:45:24.721Z"
   },
   {
    "duration": 3,
    "start_time": "2023-07-30T11:45:24.754Z"
   },
   {
    "duration": 92,
    "start_time": "2023-07-30T11:45:24.774Z"
   },
   {
    "duration": 3,
    "start_time": "2023-07-30T11:45:24.867Z"
   },
   {
    "duration": 69,
    "start_time": "2023-07-30T11:45:24.872Z"
   },
   {
    "duration": 0,
    "start_time": "2023-07-30T11:45:24.943Z"
   },
   {
    "duration": 0,
    "start_time": "2023-07-30T11:45:24.944Z"
   },
   {
    "duration": 195,
    "start_time": "2023-07-30T11:45:56.793Z"
   },
   {
    "duration": 1603,
    "start_time": "2023-07-30T11:46:09.281Z"
   },
   {
    "duration": 350,
    "start_time": "2023-07-30T11:46:10.886Z"
   },
   {
    "duration": 4,
    "start_time": "2023-07-30T11:46:11.238Z"
   },
   {
    "duration": 332,
    "start_time": "2023-07-30T11:46:11.244Z"
   },
   {
    "duration": 26,
    "start_time": "2023-07-30T11:46:11.578Z"
   },
   {
    "duration": 5,
    "start_time": "2023-07-30T11:46:11.605Z"
   },
   {
    "duration": 92,
    "start_time": "2023-07-30T11:46:11.612Z"
   },
   {
    "duration": 3,
    "start_time": "2023-07-30T11:46:11.706Z"
   },
   {
    "duration": 59,
    "start_time": "2023-07-30T11:46:11.710Z"
   },
   {
    "duration": 0,
    "start_time": "2023-07-30T11:46:11.770Z"
   },
   {
    "duration": 0,
    "start_time": "2023-07-30T11:46:11.771Z"
   },
   {
    "duration": 72,
    "start_time": "2023-07-30T11:46:39.913Z"
   },
   {
    "duration": 63,
    "start_time": "2023-07-30T11:47:06.257Z"
   },
   {
    "duration": 3,
    "start_time": "2023-07-30T11:47:22.541Z"
   },
   {
    "duration": 120,
    "start_time": "2023-07-30T11:47:24.693Z"
   },
   {
    "duration": 91,
    "start_time": "2023-07-30T11:47:52.641Z"
   },
   {
    "duration": 4,
    "start_time": "2023-07-30T11:47:57.550Z"
   },
   {
    "duration": 364,
    "start_time": "2023-07-30T11:47:58.620Z"
   },
   {
    "duration": 16,
    "start_time": "2023-07-30T11:47:59.808Z"
   },
   {
    "duration": 41,
    "start_time": "2023-07-30T11:50:21.473Z"
   },
   {
    "duration": 2768,
    "start_time": "2023-07-30T11:50:27.789Z"
   },
   {
    "duration": 1097,
    "start_time": "2023-07-30T11:50:30.559Z"
   },
   {
    "duration": 3,
    "start_time": "2023-07-30T11:50:31.658Z"
   },
   {
    "duration": 462,
    "start_time": "2023-07-30T11:50:31.662Z"
   },
   {
    "duration": 51,
    "start_time": "2023-07-30T11:50:32.127Z"
   },
   {
    "duration": 13,
    "start_time": "2023-07-30T11:50:32.181Z"
   },
   {
    "duration": 112,
    "start_time": "2023-07-30T11:50:32.197Z"
   },
   {
    "duration": 17,
    "start_time": "2023-07-30T11:50:32.312Z"
   },
   {
    "duration": 4,
    "start_time": "2023-07-30T11:50:32.331Z"
   },
   {
    "duration": 473,
    "start_time": "2023-07-30T11:50:32.337Z"
   },
   {
    "duration": 151,
    "start_time": "2023-07-30T11:50:32.877Z"
   },
   {
    "duration": 10,
    "start_time": "2023-07-30T11:51:14.753Z"
   },
   {
    "duration": 9,
    "start_time": "2023-07-30T11:51:36.529Z"
   },
   {
    "duration": 9,
    "start_time": "2023-07-30T11:54:43.862Z"
   },
   {
    "duration": 15,
    "start_time": "2023-07-30T11:55:24.886Z"
   },
   {
    "duration": 3950,
    "start_time": "2023-07-30T11:57:13.694Z"
   },
   {
    "duration": 883,
    "start_time": "2023-07-30T11:57:17.646Z"
   },
   {
    "duration": 4,
    "start_time": "2023-07-30T11:57:18.530Z"
   },
   {
    "duration": 372,
    "start_time": "2023-07-30T11:57:18.535Z"
   },
   {
    "duration": 27,
    "start_time": "2023-07-30T11:57:18.909Z"
   },
   {
    "duration": 5,
    "start_time": "2023-07-30T11:57:18.938Z"
   },
   {
    "duration": 117,
    "start_time": "2023-07-30T11:57:18.945Z"
   },
   {
    "duration": 3,
    "start_time": "2023-07-30T11:57:19.064Z"
   },
   {
    "duration": 8,
    "start_time": "2023-07-30T11:57:19.083Z"
   },
   {
    "duration": 194,
    "start_time": "2023-07-30T11:57:19.094Z"
   },
   {
    "duration": 96,
    "start_time": "2023-07-30T11:57:19.291Z"
   },
   {
    "duration": 1806,
    "start_time": "2023-07-31T09:47:09.786Z"
   },
   {
    "duration": 1002,
    "start_time": "2023-07-31T09:47:11.596Z"
   },
   {
    "duration": 3,
    "start_time": "2023-07-31T09:47:12.600Z"
   },
   {
    "duration": 392,
    "start_time": "2023-07-31T09:47:12.605Z"
   },
   {
    "duration": 28,
    "start_time": "2023-07-31T09:47:12.999Z"
   },
   {
    "duration": 4,
    "start_time": "2023-07-31T09:47:13.029Z"
   },
   {
    "duration": 115,
    "start_time": "2023-07-31T09:47:13.035Z"
   },
   {
    "duration": 2,
    "start_time": "2023-07-31T09:47:13.152Z"
   },
   {
    "duration": 29,
    "start_time": "2023-07-31T09:47:13.156Z"
   },
   {
    "duration": 200,
    "start_time": "2023-07-31T09:47:13.187Z"
   },
   {
    "duration": 92,
    "start_time": "2023-07-31T09:47:13.390Z"
   },
   {
    "duration": 4,
    "start_time": "2023-07-31T09:49:02.701Z"
   },
   {
    "duration": 6,
    "start_time": "2023-07-31T09:49:29.867Z"
   },
   {
    "duration": 6,
    "start_time": "2023-07-31T09:49:55.993Z"
   },
   {
    "duration": 5,
    "start_time": "2023-07-31T09:51:05.485Z"
   },
   {
    "duration": 10,
    "start_time": "2023-07-31T09:51:07.631Z"
   },
   {
    "duration": 3,
    "start_time": "2023-07-31T10:04:36.846Z"
   },
   {
    "duration": 4,
    "start_time": "2023-07-31T10:09:28.387Z"
   },
   {
    "duration": 3,
    "start_time": "2023-07-31T10:32:17.988Z"
   },
   {
    "duration": 5,
    "start_time": "2023-07-31T10:32:29.563Z"
   },
   {
    "duration": 123,
    "start_time": "2023-07-31T10:32:43.192Z"
   },
   {
    "duration": 3,
    "start_time": "2023-07-31T10:42:07.388Z"
   },
   {
    "duration": 10,
    "start_time": "2023-07-31T10:44:00.095Z"
   },
   {
    "duration": 15,
    "start_time": "2023-07-31T10:44:30.044Z"
   },
   {
    "duration": 3,
    "start_time": "2023-07-31T10:45:30.752Z"
   },
   {
    "duration": 17,
    "start_time": "2023-07-31T10:45:32.656Z"
   },
   {
    "duration": 4,
    "start_time": "2023-07-31T10:47:11.688Z"
   },
   {
    "duration": 17,
    "start_time": "2023-07-31T10:47:13.094Z"
   },
   {
    "duration": 1647,
    "start_time": "2023-07-31T10:47:26.047Z"
   },
   {
    "duration": 392,
    "start_time": "2023-07-31T10:47:27.696Z"
   },
   {
    "duration": 4,
    "start_time": "2023-07-31T10:47:28.089Z"
   },
   {
    "duration": 394,
    "start_time": "2023-07-31T10:47:28.094Z"
   },
   {
    "duration": 28,
    "start_time": "2023-07-31T10:47:28.490Z"
   },
   {
    "duration": 4,
    "start_time": "2023-07-31T10:47:28.519Z"
   },
   {
    "duration": 125,
    "start_time": "2023-07-31T10:47:28.525Z"
   },
   {
    "duration": 3,
    "start_time": "2023-07-31T10:47:28.652Z"
   },
   {
    "duration": 61,
    "start_time": "2023-07-31T10:47:28.656Z"
   },
   {
    "duration": 180,
    "start_time": "2023-07-31T10:47:28.718Z"
   },
   {
    "duration": 107,
    "start_time": "2023-07-31T10:47:28.991Z"
   },
   {
    "duration": 22,
    "start_time": "2023-07-31T10:47:29.100Z"
   },
   {
    "duration": 36,
    "start_time": "2023-07-31T10:47:29.123Z"
   },
   {
    "duration": 53,
    "start_time": "2023-07-31T10:47:29.162Z"
   },
   {
    "duration": 174,
    "start_time": "2023-07-31T10:47:29.217Z"
   },
   {
    "duration": 4,
    "start_time": "2023-07-31T11:04:16.056Z"
   },
   {
    "duration": 4,
    "start_time": "2023-07-31T11:06:01.765Z"
   },
   {
    "duration": 21,
    "start_time": "2023-07-31T11:06:51.287Z"
   },
   {
    "duration": 4,
    "start_time": "2023-07-31T11:20:12.687Z"
   },
   {
    "duration": 28,
    "start_time": "2023-07-31T11:20:13.653Z"
   },
   {
    "duration": 3,
    "start_time": "2023-07-31T12:07:58.148Z"
   },
   {
    "duration": 20,
    "start_time": "2023-07-31T12:14:36.186Z"
   },
   {
    "duration": 58,
    "start_time": "2023-07-31T12:16:33.394Z"
   },
   {
    "duration": 3,
    "start_time": "2023-07-31T12:30:42.389Z"
   },
   {
    "duration": 32,
    "start_time": "2023-07-31T12:31:15.887Z"
   },
   {
    "duration": 4,
    "start_time": "2023-07-31T12:31:47.970Z"
   },
   {
    "duration": 1616,
    "start_time": "2023-07-31T12:32:32.370Z"
   },
   {
    "duration": 424,
    "start_time": "2023-07-31T12:32:33.988Z"
   },
   {
    "duration": 3,
    "start_time": "2023-07-31T12:32:34.414Z"
   },
   {
    "duration": 384,
    "start_time": "2023-07-31T12:32:34.419Z"
   },
   {
    "duration": 41,
    "start_time": "2023-07-31T12:32:34.805Z"
   },
   {
    "duration": 23,
    "start_time": "2023-07-31T12:32:34.849Z"
   },
   {
    "duration": 96,
    "start_time": "2023-07-31T12:32:34.874Z"
   },
   {
    "duration": 3,
    "start_time": "2023-07-31T12:32:34.972Z"
   },
   {
    "duration": 22,
    "start_time": "2023-07-31T12:32:34.976Z"
   },
   {
    "duration": 280,
    "start_time": "2023-07-31T12:32:35.001Z"
   },
   {
    "duration": 196,
    "start_time": "2023-07-31T12:32:35.283Z"
   },
   {
    "duration": 8,
    "start_time": "2023-07-31T12:32:35.481Z"
   },
   {
    "duration": 10,
    "start_time": "2023-07-31T12:32:35.491Z"
   },
   {
    "duration": 65,
    "start_time": "2023-07-31T12:32:35.506Z"
   },
   {
    "duration": 4,
    "start_time": "2023-07-31T12:32:35.574Z"
   },
   {
    "duration": 209,
    "start_time": "2023-07-31T12:32:35.580Z"
   },
   {
    "duration": 12,
    "start_time": "2023-07-31T12:34:46.991Z"
   },
   {
    "duration": 13,
    "start_time": "2023-07-31T12:35:25.619Z"
   },
   {
    "duration": 1751,
    "start_time": "2023-07-31T12:37:28.720Z"
   },
   {
    "duration": 548,
    "start_time": "2023-07-31T12:37:30.473Z"
   },
   {
    "duration": 4,
    "start_time": "2023-07-31T12:37:31.024Z"
   },
   {
    "duration": 524,
    "start_time": "2023-07-31T12:37:31.031Z"
   },
   {
    "duration": 41,
    "start_time": "2023-07-31T12:37:31.557Z"
   },
   {
    "duration": 5,
    "start_time": "2023-07-31T12:37:31.600Z"
   },
   {
    "duration": 134,
    "start_time": "2023-07-31T12:37:31.607Z"
   },
   {
    "duration": 5,
    "start_time": "2023-07-31T12:37:31.743Z"
   },
   {
    "duration": 45,
    "start_time": "2023-07-31T12:37:31.750Z"
   },
   {
    "duration": 80,
    "start_time": "2023-07-31T12:37:31.798Z"
   },
   {
    "duration": 98,
    "start_time": "2023-07-31T12:37:31.881Z"
   },
   {
    "duration": 105,
    "start_time": "2023-07-31T12:37:31.982Z"
   },
   {
    "duration": 30,
    "start_time": "2023-07-31T12:37:32.090Z"
   },
   {
    "duration": 93,
    "start_time": "2023-07-31T12:37:32.124Z"
   },
   {
    "duration": 65,
    "start_time": "2023-07-31T12:37:32.220Z"
   },
   {
    "duration": 314,
    "start_time": "2023-07-31T12:37:32.287Z"
   },
   {
    "duration": 3,
    "start_time": "2023-07-31T12:49:44.862Z"
   },
   {
    "duration": 4,
    "start_time": "2023-07-31T12:52:28.313Z"
   },
   {
    "duration": 30,
    "start_time": "2023-07-31T12:54:27.951Z"
   },
   {
    "duration": 16,
    "start_time": "2023-07-31T12:55:51.551Z"
   },
   {
    "duration": 43,
    "start_time": "2023-07-31T12:56:23.315Z"
   },
   {
    "duration": 4,
    "start_time": "2023-07-31T12:58:59.494Z"
   },
   {
    "duration": 8,
    "start_time": "2023-07-31T12:59:55.878Z"
   },
   {
    "duration": 11,
    "start_time": "2023-07-31T13:01:04.047Z"
   },
   {
    "duration": 4,
    "start_time": "2023-07-31T13:01:39.959Z"
   },
   {
    "duration": 8,
    "start_time": "2023-07-31T13:01:40.859Z"
   },
   {
    "duration": 21,
    "start_time": "2023-07-31T13:01:41.498Z"
   },
   {
    "duration": 5,
    "start_time": "2023-07-31T13:01:52.411Z"
   },
   {
    "duration": 8,
    "start_time": "2023-07-31T13:01:53.147Z"
   },
   {
    "duration": 23,
    "start_time": "2023-07-31T13:01:54.036Z"
   },
   {
    "duration": 4,
    "start_time": "2023-07-31T13:02:22.555Z"
   },
   {
    "duration": 9,
    "start_time": "2023-07-31T13:02:23.206Z"
   },
   {
    "duration": 35,
    "start_time": "2023-07-31T13:02:24.310Z"
   },
   {
    "duration": 37,
    "start_time": "2023-07-31T13:02:37.448Z"
   },
   {
    "duration": 12,
    "start_time": "2023-07-31T13:04:13.177Z"
   },
   {
    "duration": 45,
    "start_time": "2023-07-31T13:04:40.508Z"
   },
   {
    "duration": 11,
    "start_time": "2023-07-31T13:06:30.871Z"
   },
   {
    "duration": 6,
    "start_time": "2023-07-31T13:08:07.544Z"
   },
   {
    "duration": 5,
    "start_time": "2023-07-31T13:20:24.656Z"
   },
   {
    "duration": 9,
    "start_time": "2023-07-31T13:20:25.404Z"
   },
   {
    "duration": 29,
    "start_time": "2023-07-31T13:20:26.054Z"
   },
   {
    "duration": 16,
    "start_time": "2023-07-31T13:22:38.503Z"
   },
   {
    "duration": 17,
    "start_time": "2023-07-31T13:23:13.198Z"
   },
   {
    "duration": 164,
    "start_time": "2023-07-31T13:23:44.363Z"
   },
   {
    "duration": 21,
    "start_time": "2023-07-31T13:24:38.312Z"
   },
   {
    "duration": 151,
    "start_time": "2023-07-31T13:27:07.693Z"
   },
   {
    "duration": 54,
    "start_time": "2023-07-31T13:27:41.189Z"
   },
   {
    "duration": 26,
    "start_time": "2023-07-31T13:28:52.700Z"
   },
   {
    "duration": 2131,
    "start_time": "2023-07-31T13:29:28.558Z"
   },
   {
    "duration": 634,
    "start_time": "2023-07-31T13:29:30.694Z"
   },
   {
    "duration": 4,
    "start_time": "2023-07-31T13:29:31.331Z"
   },
   {
    "duration": 616,
    "start_time": "2023-07-31T13:29:31.337Z"
   },
   {
    "duration": 66,
    "start_time": "2023-07-31T13:29:31.957Z"
   },
   {
    "duration": 18,
    "start_time": "2023-07-31T13:29:32.026Z"
   },
   {
    "duration": 187,
    "start_time": "2023-07-31T13:29:32.046Z"
   },
   {
    "duration": 2,
    "start_time": "2023-07-31T13:29:32.235Z"
   },
   {
    "duration": 30,
    "start_time": "2023-07-31T13:29:32.239Z"
   },
   {
    "duration": 209,
    "start_time": "2023-07-31T13:29:32.273Z"
   },
   {
    "duration": 49,
    "start_time": "2023-07-31T13:29:32.495Z"
   },
   {
    "duration": 91,
    "start_time": "2023-07-31T13:29:32.546Z"
   },
   {
    "duration": 101,
    "start_time": "2023-07-31T13:29:32.643Z"
   },
   {
    "duration": 10,
    "start_time": "2023-07-31T13:29:32.747Z"
   },
   {
    "duration": 61,
    "start_time": "2023-07-31T13:29:32.759Z"
   },
   {
    "duration": 43,
    "start_time": "2023-07-31T13:29:32.823Z"
   },
   {
    "duration": 284,
    "start_time": "2023-07-31T13:29:32.869Z"
   },
   {
    "duration": 79,
    "start_time": "2023-07-31T13:30:10.449Z"
   },
   {
    "duration": 91,
    "start_time": "2023-07-31T13:30:58.948Z"
   },
   {
    "duration": 63,
    "start_time": "2023-07-31T13:31:56.257Z"
   },
   {
    "duration": 61,
    "start_time": "2023-07-31T13:32:18.719Z"
   },
   {
    "duration": 66,
    "start_time": "2023-07-31T13:32:24.421Z"
   },
   {
    "duration": 52,
    "start_time": "2023-07-31T13:32:50.798Z"
   },
   {
    "duration": 58,
    "start_time": "2023-07-31T13:33:12.581Z"
   },
   {
    "duration": 6,
    "start_time": "2023-07-31T13:33:54.482Z"
   },
   {
    "duration": 7,
    "start_time": "2023-07-31T13:33:55.892Z"
   },
   {
    "duration": 26,
    "start_time": "2023-07-31T13:33:56.516Z"
   },
   {
    "duration": 83,
    "start_time": "2023-07-31T13:33:58.309Z"
   },
   {
    "duration": 14,
    "start_time": "2023-07-31T13:35:23.890Z"
   },
   {
    "duration": 10,
    "start_time": "2023-07-31T13:35:36.059Z"
   },
   {
    "duration": 13,
    "start_time": "2023-07-31T13:35:44.056Z"
   },
   {
    "duration": 11,
    "start_time": "2023-07-31T13:35:50.902Z"
   },
   {
    "duration": 22,
    "start_time": "2023-07-31T13:36:55.058Z"
   },
   {
    "duration": 74,
    "start_time": "2023-07-31T13:36:57.412Z"
   },
   {
    "duration": 2294,
    "start_time": "2023-07-31T13:37:04.109Z"
   },
   {
    "duration": 577,
    "start_time": "2023-07-31T13:37:06.406Z"
   },
   {
    "duration": 7,
    "start_time": "2023-07-31T13:37:06.992Z"
   },
   {
    "duration": 654,
    "start_time": "2023-07-31T13:37:07.000Z"
   },
   {
    "duration": 72,
    "start_time": "2023-07-31T13:37:07.659Z"
   },
   {
    "duration": 8,
    "start_time": "2023-07-31T13:37:07.734Z"
   },
   {
    "duration": 169,
    "start_time": "2023-07-31T13:37:07.744Z"
   },
   {
    "duration": 4,
    "start_time": "2023-07-31T13:37:07.916Z"
   },
   {
    "duration": 16,
    "start_time": "2023-07-31T13:37:07.922Z"
   },
   {
    "duration": 261,
    "start_time": "2023-07-31T13:37:07.940Z"
   },
   {
    "duration": 65,
    "start_time": "2023-07-31T13:37:08.278Z"
   },
   {
    "duration": 67,
    "start_time": "2023-07-31T13:37:08.355Z"
   },
   {
    "duration": 32,
    "start_time": "2023-07-31T13:37:08.425Z"
   },
   {
    "duration": 38,
    "start_time": "2023-07-31T13:37:08.462Z"
   },
   {
    "duration": 36,
    "start_time": "2023-07-31T13:37:08.502Z"
   },
   {
    "duration": 57,
    "start_time": "2023-07-31T13:37:08.541Z"
   },
   {
    "duration": 43,
    "start_time": "2023-07-31T13:37:08.601Z"
   },
   {
    "duration": 270,
    "start_time": "2023-07-31T13:37:08.646Z"
   },
   {
    "duration": 2776,
    "start_time": "2023-07-31T13:37:23.653Z"
   },
   {
    "duration": 671,
    "start_time": "2023-07-31T13:37:26.433Z"
   },
   {
    "duration": 5,
    "start_time": "2023-07-31T13:37:27.106Z"
   },
   {
    "duration": 682,
    "start_time": "2023-07-31T13:37:27.113Z"
   },
   {
    "duration": 55,
    "start_time": "2023-07-31T13:37:27.801Z"
   },
   {
    "duration": 7,
    "start_time": "2023-07-31T13:37:27.859Z"
   },
   {
    "duration": 180,
    "start_time": "2023-07-31T13:37:27.875Z"
   },
   {
    "duration": 15,
    "start_time": "2023-07-31T13:37:28.058Z"
   },
   {
    "duration": 31,
    "start_time": "2023-07-31T13:37:28.080Z"
   },
   {
    "duration": 275,
    "start_time": "2023-07-31T13:37:28.114Z"
   },
   {
    "duration": 80,
    "start_time": "2023-07-31T13:37:28.399Z"
   },
   {
    "duration": 86,
    "start_time": "2023-07-31T13:37:28.490Z"
   },
   {
    "duration": 5,
    "start_time": "2023-07-31T13:37:28.581Z"
   },
   {
    "duration": 34,
    "start_time": "2023-07-31T13:37:28.589Z"
   },
   {
    "duration": 23,
    "start_time": "2023-07-31T13:37:28.626Z"
   },
   {
    "duration": 42,
    "start_time": "2023-07-31T13:37:28.652Z"
   },
   {
    "duration": 334,
    "start_time": "2023-07-31T13:37:28.701Z"
   },
   {
    "duration": 10,
    "start_time": "2023-07-31T13:38:43.548Z"
   },
   {
    "duration": 51,
    "start_time": "2023-07-31T13:50:30.248Z"
   },
   {
    "duration": 46,
    "start_time": "2023-07-31T13:52:02.398Z"
   },
   {
    "duration": 49,
    "start_time": "2023-07-31T13:52:34.394Z"
   },
   {
    "duration": 48,
    "start_time": "2023-07-31T13:53:25.548Z"
   },
   {
    "duration": 62,
    "start_time": "2023-07-31T13:53:36.044Z"
   },
   {
    "duration": 2323,
    "start_time": "2023-07-31T13:54:49.570Z"
   },
   {
    "duration": 509,
    "start_time": "2023-07-31T13:54:51.896Z"
   },
   {
    "duration": 5,
    "start_time": "2023-07-31T13:54:52.407Z"
   },
   {
    "duration": 477,
    "start_time": "2023-07-31T13:54:52.414Z"
   },
   {
    "duration": 37,
    "start_time": "2023-07-31T13:54:52.894Z"
   },
   {
    "duration": 6,
    "start_time": "2023-07-31T13:54:52.933Z"
   },
   {
    "duration": 158,
    "start_time": "2023-07-31T13:54:52.941Z"
   },
   {
    "duration": 4,
    "start_time": "2023-07-31T13:54:53.100Z"
   },
   {
    "duration": 15,
    "start_time": "2023-07-31T13:54:53.106Z"
   },
   {
    "duration": 174,
    "start_time": "2023-07-31T13:54:53.124Z"
   },
   {
    "duration": 91,
    "start_time": "2023-07-31T13:54:53.301Z"
   },
   {
    "duration": 123,
    "start_time": "2023-07-31T13:54:53.395Z"
   },
   {
    "duration": 23,
    "start_time": "2023-07-31T13:54:53.520Z"
   },
   {
    "duration": 14,
    "start_time": "2023-07-31T13:54:53.546Z"
   },
   {
    "duration": 32,
    "start_time": "2023-07-31T13:54:53.562Z"
   },
   {
    "duration": 37,
    "start_time": "2023-07-31T13:54:53.595Z"
   },
   {
    "duration": 189,
    "start_time": "2023-07-31T13:54:53.634Z"
   },
   {
    "duration": 36,
    "start_time": "2023-07-31T13:55:23.452Z"
   },
   {
    "duration": 41,
    "start_time": "2023-07-31T13:58:19.093Z"
   },
   {
    "duration": 40,
    "start_time": "2023-07-31T13:58:29.152Z"
   },
   {
    "duration": 39,
    "start_time": "2023-07-31T13:59:20.747Z"
   },
   {
    "duration": 11,
    "start_time": "2023-07-31T14:00:00.514Z"
   },
   {
    "duration": 12,
    "start_time": "2023-07-31T14:00:15.399Z"
   },
   {
    "duration": 25,
    "start_time": "2023-07-31T14:01:57.250Z"
   },
   {
    "duration": 22,
    "start_time": "2023-07-31T14:03:23.018Z"
   },
   {
    "duration": 12,
    "start_time": "2023-07-31T14:04:05.548Z"
   },
   {
    "duration": 126,
    "start_time": "2023-07-31T14:04:42.900Z"
   },
   {
    "duration": 107,
    "start_time": "2023-07-31T14:04:55.169Z"
   },
   {
    "duration": 8,
    "start_time": "2023-07-31T14:07:13.277Z"
   },
   {
    "duration": 12,
    "start_time": "2023-07-31T14:07:30.675Z"
   },
   {
    "duration": 19,
    "start_time": "2023-07-31T14:07:36.418Z"
   },
   {
    "duration": 8,
    "start_time": "2023-07-31T14:08:04.163Z"
   },
   {
    "duration": 20,
    "start_time": "2023-07-31T14:08:05.789Z"
   },
   {
    "duration": 10,
    "start_time": "2023-07-31T14:08:19.481Z"
   },
   {
    "duration": 63,
    "start_time": "2023-07-31T14:08:19.948Z"
   },
   {
    "duration": 11,
    "start_time": "2023-07-31T14:11:45.404Z"
   },
   {
    "duration": 2828,
    "start_time": "2023-07-31T14:11:59.091Z"
   },
   {
    "duration": 577,
    "start_time": "2023-07-31T14:12:01.921Z"
   },
   {
    "duration": 3,
    "start_time": "2023-07-31T14:12:02.502Z"
   },
   {
    "duration": 571,
    "start_time": "2023-07-31T14:12:02.508Z"
   },
   {
    "duration": 42,
    "start_time": "2023-07-31T14:12:03.082Z"
   },
   {
    "duration": 7,
    "start_time": "2023-07-31T14:12:03.127Z"
   },
   {
    "duration": 156,
    "start_time": "2023-07-31T14:12:03.136Z"
   },
   {
    "duration": 3,
    "start_time": "2023-07-31T14:12:03.297Z"
   },
   {
    "duration": 13,
    "start_time": "2023-07-31T14:12:03.302Z"
   },
   {
    "duration": 257,
    "start_time": "2023-07-31T14:12:03.318Z"
   },
   {
    "duration": 95,
    "start_time": "2023-07-31T14:12:03.578Z"
   },
   {
    "duration": 8,
    "start_time": "2023-07-31T14:12:03.675Z"
   },
   {
    "duration": 18,
    "start_time": "2023-07-31T14:12:03.687Z"
   },
   {
    "duration": 17,
    "start_time": "2023-07-31T14:12:03.708Z"
   },
   {
    "duration": 24,
    "start_time": "2023-07-31T14:12:03.727Z"
   },
   {
    "duration": 49,
    "start_time": "2023-07-31T14:12:03.754Z"
   },
   {
    "duration": 39,
    "start_time": "2023-07-31T14:12:03.805Z"
   },
   {
    "duration": 10,
    "start_time": "2023-07-31T14:12:03.846Z"
   },
   {
    "duration": 226,
    "start_time": "2023-07-31T14:12:03.859Z"
   },
   {
    "duration": 28,
    "start_time": "2023-07-31T14:12:17.752Z"
   },
   {
    "duration": 25,
    "start_time": "2023-07-31T14:12:27.558Z"
   },
   {
    "duration": 8,
    "start_time": "2023-07-31T14:13:22.550Z"
   },
   {
    "duration": 7,
    "start_time": "2023-07-31T14:13:24.348Z"
   },
   {
    "duration": 35,
    "start_time": "2023-07-31T14:13:25.413Z"
   },
   {
    "duration": 1912,
    "start_time": "2023-07-31T14:13:34.673Z"
   },
   {
    "duration": 634,
    "start_time": "2023-07-31T14:13:36.588Z"
   },
   {
    "duration": 3,
    "start_time": "2023-07-31T14:13:37.224Z"
   },
   {
    "duration": 589,
    "start_time": "2023-07-31T14:13:37.230Z"
   },
   {
    "duration": 65,
    "start_time": "2023-07-31T14:13:37.823Z"
   },
   {
    "duration": 9,
    "start_time": "2023-07-31T14:13:37.892Z"
   },
   {
    "duration": 144,
    "start_time": "2023-07-31T14:13:37.904Z"
   },
   {
    "duration": 4,
    "start_time": "2023-07-31T14:13:38.050Z"
   },
   {
    "duration": 18,
    "start_time": "2023-07-31T14:13:38.056Z"
   },
   {
    "duration": 98,
    "start_time": "2023-07-31T14:13:38.077Z"
   },
   {
    "duration": 94,
    "start_time": "2023-07-31T14:13:38.182Z"
   },
   {
    "duration": 99,
    "start_time": "2023-07-31T14:13:38.285Z"
   },
   {
    "duration": 8,
    "start_time": "2023-07-31T14:13:38.386Z"
   },
   {
    "duration": 6,
    "start_time": "2023-07-31T14:13:38.400Z"
   },
   {
    "duration": 12,
    "start_time": "2023-07-31T14:13:38.409Z"
   },
   {
    "duration": 48,
    "start_time": "2023-07-31T14:13:38.423Z"
   },
   {
    "duration": 6,
    "start_time": "2023-07-31T14:13:38.474Z"
   },
   {
    "duration": 8,
    "start_time": "2023-07-31T14:13:38.482Z"
   },
   {
    "duration": 214,
    "start_time": "2023-07-31T14:13:38.492Z"
   },
   {
    "duration": 13,
    "start_time": "2023-07-31T14:40:49.740Z"
   },
   {
    "duration": 1889,
    "start_time": "2023-07-31T14:40:56.114Z"
   },
   {
    "duration": 562,
    "start_time": "2023-07-31T14:40:58.006Z"
   },
   {
    "duration": 3,
    "start_time": "2023-07-31T14:40:58.571Z"
   },
   {
    "duration": 540,
    "start_time": "2023-07-31T14:40:58.577Z"
   },
   {
    "duration": 221,
    "start_time": "2023-07-31T14:40:59.119Z"
   },
   {
    "duration": 0,
    "start_time": "2023-07-31T14:40:59.342Z"
   },
   {
    "duration": 0,
    "start_time": "2023-07-31T14:40:59.344Z"
   },
   {
    "duration": 0,
    "start_time": "2023-07-31T14:40:59.346Z"
   },
   {
    "duration": 0,
    "start_time": "2023-07-31T14:40:59.347Z"
   },
   {
    "duration": 0,
    "start_time": "2023-07-31T14:40:59.349Z"
   },
   {
    "duration": 0,
    "start_time": "2023-07-31T14:40:59.350Z"
   },
   {
    "duration": 0,
    "start_time": "2023-07-31T14:40:59.351Z"
   },
   {
    "duration": 0,
    "start_time": "2023-07-31T14:40:59.352Z"
   },
   {
    "duration": 0,
    "start_time": "2023-07-31T14:40:59.371Z"
   },
   {
    "duration": 0,
    "start_time": "2023-07-31T14:40:59.372Z"
   },
   {
    "duration": 0,
    "start_time": "2023-07-31T14:40:59.373Z"
   },
   {
    "duration": 0,
    "start_time": "2023-07-31T14:40:59.374Z"
   },
   {
    "duration": 0,
    "start_time": "2023-07-31T14:40:59.376Z"
   },
   {
    "duration": 161,
    "start_time": "2023-07-31T14:42:00.582Z"
   },
   {
    "duration": 44,
    "start_time": "2023-07-31T14:42:09.549Z"
   },
   {
    "duration": 1931,
    "start_time": "2023-07-31T14:42:19.646Z"
   },
   {
    "duration": 592,
    "start_time": "2023-07-31T14:42:21.580Z"
   },
   {
    "duration": 4,
    "start_time": "2023-07-31T14:42:22.175Z"
   },
   {
    "duration": 608,
    "start_time": "2023-07-31T14:42:22.181Z"
   },
   {
    "duration": 52,
    "start_time": "2023-07-31T14:42:22.792Z"
   },
   {
    "duration": 27,
    "start_time": "2023-07-31T14:42:22.847Z"
   },
   {
    "duration": 131,
    "start_time": "2023-07-31T14:42:22.877Z"
   },
   {
    "duration": 6,
    "start_time": "2023-07-31T14:42:23.011Z"
   },
   {
    "duration": 17,
    "start_time": "2023-07-31T14:42:23.020Z"
   },
   {
    "duration": 230,
    "start_time": "2023-07-31T14:42:23.040Z"
   },
   {
    "duration": 16,
    "start_time": "2023-07-31T14:42:23.272Z"
   },
   {
    "duration": 25,
    "start_time": "2023-07-31T14:42:23.290Z"
   },
   {
    "duration": 13,
    "start_time": "2023-07-31T14:42:23.317Z"
   },
   {
    "duration": 31,
    "start_time": "2023-07-31T14:42:23.333Z"
   },
   {
    "duration": 36,
    "start_time": "2023-07-31T14:42:23.366Z"
   },
   {
    "duration": 52,
    "start_time": "2023-07-31T14:42:23.404Z"
   },
   {
    "duration": 35,
    "start_time": "2023-07-31T14:42:23.458Z"
   },
   {
    "duration": 18,
    "start_time": "2023-07-31T14:42:23.496Z"
   },
   {
    "duration": 178,
    "start_time": "2023-07-31T14:43:04.684Z"
   },
   {
    "duration": 11,
    "start_time": "2023-07-31T14:43:27.482Z"
   },
   {
    "duration": 6,
    "start_time": "2023-07-31T14:48:06.656Z"
   },
   {
    "duration": 182,
    "start_time": "2023-07-31T14:48:13.004Z"
   },
   {
    "duration": 1473,
    "start_time": "2023-07-31T14:49:02.972Z"
   },
   {
    "duration": 413,
    "start_time": "2023-07-31T14:49:04.447Z"
   },
   {
    "duration": 4,
    "start_time": "2023-07-31T14:49:04.863Z"
   },
   {
    "duration": 533,
    "start_time": "2023-07-31T14:49:04.870Z"
   },
   {
    "duration": 35,
    "start_time": "2023-07-31T14:49:05.406Z"
   },
   {
    "duration": 27,
    "start_time": "2023-07-31T14:49:05.444Z"
   },
   {
    "duration": 107,
    "start_time": "2023-07-31T14:49:05.473Z"
   },
   {
    "duration": 3,
    "start_time": "2023-07-31T14:49:05.582Z"
   },
   {
    "duration": 21,
    "start_time": "2023-07-31T14:49:05.588Z"
   },
   {
    "duration": 77,
    "start_time": "2023-07-31T14:49:05.611Z"
   },
   {
    "duration": 106,
    "start_time": "2023-07-31T14:49:05.772Z"
   },
   {
    "duration": 10,
    "start_time": "2023-07-31T14:49:05.881Z"
   },
   {
    "duration": 14,
    "start_time": "2023-07-31T14:49:05.894Z"
   },
   {
    "duration": 10,
    "start_time": "2023-07-31T14:49:05.911Z"
   },
   {
    "duration": 17,
    "start_time": "2023-07-31T14:49:05.924Z"
   },
   {
    "duration": 33,
    "start_time": "2023-07-31T14:49:05.943Z"
   },
   {
    "duration": 28,
    "start_time": "2023-07-31T14:49:05.978Z"
   },
   {
    "duration": 12,
    "start_time": "2023-07-31T14:49:06.009Z"
   },
   {
    "duration": 7,
    "start_time": "2023-07-31T18:54:17.715Z"
   },
   {
    "duration": 40,
    "start_time": "2023-07-31T18:54:18.921Z"
   },
   {
    "duration": 1457,
    "start_time": "2023-07-31T18:54:31.828Z"
   },
   {
    "duration": 1594,
    "start_time": "2023-07-31T18:54:33.288Z"
   },
   {
    "duration": 3,
    "start_time": "2023-07-31T18:54:34.883Z"
   },
   {
    "duration": 323,
    "start_time": "2023-07-31T18:54:34.887Z"
   },
   {
    "duration": 28,
    "start_time": "2023-07-31T18:54:35.212Z"
   },
   {
    "duration": 13,
    "start_time": "2023-07-31T18:54:35.242Z"
   },
   {
    "duration": 87,
    "start_time": "2023-07-31T18:54:35.256Z"
   },
   {
    "duration": 2,
    "start_time": "2023-07-31T18:54:35.345Z"
   },
   {
    "duration": 19,
    "start_time": "2023-07-31T18:54:35.349Z"
   },
   {
    "duration": 207,
    "start_time": "2023-07-31T18:54:35.370Z"
   },
   {
    "duration": 97,
    "start_time": "2023-07-31T18:54:35.579Z"
   },
   {
    "duration": 115,
    "start_time": "2023-07-31T18:54:35.678Z"
   },
   {
    "duration": 43,
    "start_time": "2023-07-31T18:54:35.794Z"
   },
   {
    "duration": 26,
    "start_time": "2023-07-31T18:54:35.839Z"
   },
   {
    "duration": 12,
    "start_time": "2023-07-31T18:54:35.866Z"
   },
   {
    "duration": 111,
    "start_time": "2023-07-31T18:54:35.879Z"
   },
   {
    "duration": 0,
    "start_time": "2023-07-31T18:54:35.992Z"
   },
   {
    "duration": 3,
    "start_time": "2023-07-31T18:55:43.340Z"
   },
   {
    "duration": 6,
    "start_time": "2023-07-31T18:55:44.424Z"
   },
   {
    "duration": 13,
    "start_time": "2023-07-31T18:55:46.066Z"
   },
   {
    "duration": 3,
    "start_time": "2023-07-31T18:56:49.194Z"
   },
   {
    "duration": 6,
    "start_time": "2023-07-31T18:56:50.095Z"
   },
   {
    "duration": 15,
    "start_time": "2023-07-31T18:56:51.045Z"
   },
   {
    "duration": 4,
    "start_time": "2023-07-31T18:57:45.015Z"
   },
   {
    "duration": 6,
    "start_time": "2023-07-31T18:57:45.847Z"
   },
   {
    "duration": 14,
    "start_time": "2023-07-31T18:57:46.903Z"
   },
   {
    "duration": 3,
    "start_time": "2023-07-31T19:01:10.945Z"
   },
   {
    "duration": 5,
    "start_time": "2023-07-31T19:01:12.167Z"
   },
   {
    "duration": 12,
    "start_time": "2023-07-31T19:01:13.115Z"
   },
   {
    "duration": 3,
    "start_time": "2023-07-31T19:03:25.895Z"
   },
   {
    "duration": 6,
    "start_time": "2023-07-31T19:03:26.962Z"
   },
   {
    "duration": 14,
    "start_time": "2023-07-31T19:03:27.703Z"
   },
   {
    "duration": 3,
    "start_time": "2023-07-31T19:03:41.516Z"
   },
   {
    "duration": 6,
    "start_time": "2023-07-31T19:03:42.502Z"
   },
   {
    "duration": 24,
    "start_time": "2023-07-31T19:03:43.522Z"
   },
   {
    "duration": 3,
    "start_time": "2023-07-31T19:09:23.968Z"
   },
   {
    "duration": 168,
    "start_time": "2023-07-31T19:09:25.512Z"
   },
   {
    "duration": 9,
    "start_time": "2023-07-31T19:13:41.115Z"
   },
   {
    "duration": 3,
    "start_time": "2023-07-31T19:13:47.490Z"
   },
   {
    "duration": 6,
    "start_time": "2023-07-31T19:13:48.515Z"
   },
   {
    "duration": 18,
    "start_time": "2023-07-31T19:13:49.058Z"
   },
   {
    "duration": 4,
    "start_time": "2023-07-31T19:14:00.210Z"
   },
   {
    "duration": 5,
    "start_time": "2023-07-31T19:14:00.799Z"
   },
   {
    "duration": 32,
    "start_time": "2023-07-31T19:14:01.282Z"
   },
   {
    "duration": 19,
    "start_time": "2023-07-31T19:14:14.725Z"
   },
   {
    "duration": 5,
    "start_time": "2023-07-31T19:14:52.483Z"
   },
   {
    "duration": 8,
    "start_time": "2023-07-31T19:15:06.284Z"
   },
   {
    "duration": 24,
    "start_time": "2023-07-31T19:15:16.787Z"
   },
   {
    "duration": 5,
    "start_time": "2023-07-31T19:22:22.490Z"
   },
   {
    "duration": 6,
    "start_time": "2023-07-31T19:22:23.948Z"
   },
   {
    "duration": 22,
    "start_time": "2023-07-31T19:22:26.198Z"
   },
   {
    "duration": 1432,
    "start_time": "2023-07-31T19:22:33.149Z"
   },
   {
    "duration": 379,
    "start_time": "2023-07-31T19:22:34.583Z"
   },
   {
    "duration": 3,
    "start_time": "2023-07-31T19:22:34.964Z"
   },
   {
    "duration": 345,
    "start_time": "2023-07-31T19:22:34.968Z"
   },
   {
    "duration": 31,
    "start_time": "2023-07-31T19:22:35.316Z"
   },
   {
    "duration": 26,
    "start_time": "2023-07-31T19:22:35.349Z"
   },
   {
    "duration": 119,
    "start_time": "2023-07-31T19:22:35.377Z"
   },
   {
    "duration": 3,
    "start_time": "2023-07-31T19:22:35.497Z"
   },
   {
    "duration": 11,
    "start_time": "2023-07-31T19:22:35.502Z"
   },
   {
    "duration": 263,
    "start_time": "2023-07-31T19:22:35.514Z"
   },
   {
    "duration": 97,
    "start_time": "2023-07-31T19:22:35.780Z"
   },
   {
    "duration": 7,
    "start_time": "2023-07-31T19:22:35.879Z"
   },
   {
    "duration": 5,
    "start_time": "2023-07-31T19:22:35.887Z"
   },
   {
    "duration": 4,
    "start_time": "2023-07-31T19:22:35.894Z"
   },
   {
    "duration": 9,
    "start_time": "2023-07-31T19:22:35.900Z"
   },
   {
    "duration": 83,
    "start_time": "2023-07-31T19:22:35.911Z"
   },
   {
    "duration": 29,
    "start_time": "2023-07-31T19:22:35.996Z"
   },
   {
    "duration": 25,
    "start_time": "2023-07-31T19:22:36.026Z"
   },
   {
    "duration": 137,
    "start_time": "2023-07-31T19:22:36.053Z"
   },
   {
    "duration": 5,
    "start_time": "2023-07-31T19:24:08.988Z"
   },
   {
    "duration": 10,
    "start_time": "2023-07-31T19:24:11.195Z"
   },
   {
    "duration": 32,
    "start_time": "2023-07-31T19:24:18.611Z"
   },
   {
    "duration": 9,
    "start_time": "2023-07-31T19:25:05.293Z"
   },
   {
    "duration": 23,
    "start_time": "2023-07-31T19:25:55.456Z"
   },
   {
    "duration": 5,
    "start_time": "2023-07-31T19:28:20.809Z"
   },
   {
    "duration": 30,
    "start_time": "2023-07-31T19:28:21.545Z"
   },
   {
    "duration": 4,
    "start_time": "2023-07-31T19:30:14.779Z"
   },
   {
    "duration": 20,
    "start_time": "2023-07-31T19:30:15.704Z"
   },
   {
    "duration": 1405,
    "start_time": "2023-07-31T19:30:50.003Z"
   },
   {
    "duration": 370,
    "start_time": "2023-07-31T19:30:51.410Z"
   },
   {
    "duration": 3,
    "start_time": "2023-07-31T19:30:51.781Z"
   },
   {
    "duration": 339,
    "start_time": "2023-07-31T19:30:51.786Z"
   },
   {
    "duration": 29,
    "start_time": "2023-07-31T19:30:52.127Z"
   },
   {
    "duration": 17,
    "start_time": "2023-07-31T19:30:52.157Z"
   },
   {
    "duration": 77,
    "start_time": "2023-07-31T19:30:52.176Z"
   },
   {
    "duration": 2,
    "start_time": "2023-07-31T19:30:52.255Z"
   },
   {
    "duration": 9,
    "start_time": "2023-07-31T19:30:52.275Z"
   },
   {
    "duration": 293,
    "start_time": "2023-07-31T19:30:52.285Z"
   },
   {
    "duration": 94,
    "start_time": "2023-07-31T19:30:52.583Z"
   },
   {
    "duration": 24,
    "start_time": "2023-07-31T19:30:52.679Z"
   },
   {
    "duration": 13,
    "start_time": "2023-07-31T19:30:52.705Z"
   },
   {
    "duration": 9,
    "start_time": "2023-07-31T19:30:52.774Z"
   },
   {
    "duration": 26,
    "start_time": "2023-07-31T19:30:52.785Z"
   },
   {
    "duration": 18,
    "start_time": "2023-07-31T19:30:52.812Z"
   },
   {
    "duration": 4,
    "start_time": "2023-07-31T19:30:52.832Z"
   },
   {
    "duration": 118,
    "start_time": "2023-07-31T19:30:52.838Z"
   },
   {
    "duration": 5,
    "start_time": "2023-07-31T19:32:33.356Z"
   },
   {
    "duration": 19,
    "start_time": "2023-07-31T19:32:34.106Z"
   },
   {
    "duration": 4,
    "start_time": "2023-07-31T19:32:57.962Z"
   },
   {
    "duration": 17,
    "start_time": "2023-07-31T19:32:58.465Z"
   },
   {
    "duration": 5,
    "start_time": "2023-07-31T19:34:21.452Z"
   },
   {
    "duration": 12,
    "start_time": "2023-07-31T19:34:22.061Z"
   },
   {
    "duration": 4,
    "start_time": "2023-07-31T19:35:14.449Z"
   },
   {
    "duration": 13,
    "start_time": "2023-07-31T19:35:15.023Z"
   },
   {
    "duration": 4,
    "start_time": "2023-07-31T19:35:27.023Z"
   },
   {
    "duration": 14,
    "start_time": "2023-07-31T19:35:28.399Z"
   },
   {
    "duration": 4,
    "start_time": "2023-07-31T19:37:28.918Z"
   },
   {
    "duration": 11,
    "start_time": "2023-07-31T19:38:07.408Z"
   },
   {
    "duration": 19,
    "start_time": "2023-07-31T19:38:15.300Z"
   },
   {
    "duration": 1366,
    "start_time": "2023-07-31T19:39:16.317Z"
   },
   {
    "duration": 368,
    "start_time": "2023-07-31T19:39:17.684Z"
   },
   {
    "duration": 3,
    "start_time": "2023-07-31T19:39:18.054Z"
   },
   {
    "duration": 346,
    "start_time": "2023-07-31T19:39:18.059Z"
   },
   {
    "duration": 28,
    "start_time": "2023-07-31T19:39:18.407Z"
   },
   {
    "duration": 3,
    "start_time": "2023-07-31T19:39:18.436Z"
   },
   {
    "duration": 94,
    "start_time": "2023-07-31T19:39:18.441Z"
   },
   {
    "duration": 2,
    "start_time": "2023-07-31T19:39:18.537Z"
   },
   {
    "duration": 19,
    "start_time": "2023-07-31T19:39:18.540Z"
   },
   {
    "duration": 318,
    "start_time": "2023-07-31T19:39:18.561Z"
   },
   {
    "duration": 102,
    "start_time": "2023-07-31T19:39:18.881Z"
   },
   {
    "duration": 94,
    "start_time": "2023-07-31T19:39:18.984Z"
   },
   {
    "duration": 3,
    "start_time": "2023-07-31T19:39:19.080Z"
   },
   {
    "duration": 12,
    "start_time": "2023-07-31T19:39:19.085Z"
   },
   {
    "duration": 6,
    "start_time": "2023-07-31T19:39:19.098Z"
   },
   {
    "duration": 21,
    "start_time": "2023-07-31T19:39:19.106Z"
   },
   {
    "duration": 3,
    "start_time": "2023-07-31T19:39:19.128Z"
   },
   {
    "duration": 125,
    "start_time": "2023-07-31T19:39:19.133Z"
   },
   {
    "duration": 2,
    "start_time": "2023-07-31T19:42:33.099Z"
   },
   {
    "duration": 4,
    "start_time": "2023-07-31T19:42:43.152Z"
   },
   {
    "duration": 4,
    "start_time": "2023-07-31T19:44:10.948Z"
   },
   {
    "duration": 17,
    "start_time": "2023-07-31T19:44:11.603Z"
   },
   {
    "duration": 3,
    "start_time": "2023-07-31T19:44:21.456Z"
   },
   {
    "duration": 18,
    "start_time": "2023-07-31T19:44:21.660Z"
   },
   {
    "duration": 4,
    "start_time": "2023-07-31T19:45:47.082Z"
   },
   {
    "duration": 22,
    "start_time": "2023-07-31T19:45:47.857Z"
   },
   {
    "duration": 4,
    "start_time": "2023-07-31T19:46:03.405Z"
   },
   {
    "duration": 20,
    "start_time": "2023-07-31T19:46:03.544Z"
   },
   {
    "duration": 4,
    "start_time": "2023-07-31T19:48:20.518Z"
   },
   {
    "duration": 14,
    "start_time": "2023-07-31T19:48:21.298Z"
   },
   {
    "duration": 4,
    "start_time": "2023-07-31T19:48:37.152Z"
   },
   {
    "duration": 14,
    "start_time": "2023-07-31T19:48:37.557Z"
   },
   {
    "duration": 4,
    "start_time": "2023-07-31T19:49:23.315Z"
   },
   {
    "duration": 16,
    "start_time": "2023-07-31T19:49:23.744Z"
   },
   {
    "duration": 4,
    "start_time": "2023-07-31T19:50:04.952Z"
   },
   {
    "duration": 30,
    "start_time": "2023-07-31T19:50:05.302Z"
   },
   {
    "duration": 2,
    "start_time": "2023-07-31T19:52:39.357Z"
   },
   {
    "duration": 3,
    "start_time": "2023-07-31T19:52:39.848Z"
   },
   {
    "duration": 18,
    "start_time": "2023-07-31T19:52:40.536Z"
   },
   {
    "duration": 4,
    "start_time": "2023-07-31T19:53:00.169Z"
   },
   {
    "duration": 17,
    "start_time": "2023-07-31T19:53:00.807Z"
   },
   {
    "duration": 3,
    "start_time": "2023-07-31T19:53:49.252Z"
   },
   {
    "duration": 4497,
    "start_time": "2023-07-31T19:53:49.898Z"
   },
   {
    "duration": 4414,
    "start_time": "2023-07-31T19:57:34.261Z"
   },
   {
    "duration": 5,
    "start_time": "2023-07-31T19:58:46.254Z"
   },
   {
    "duration": 4171,
    "start_time": "2023-07-31T19:58:46.757Z"
   },
   {
    "duration": 5,
    "start_time": "2023-07-31T19:59:09.693Z"
   },
   {
    "duration": 4214,
    "start_time": "2023-07-31T19:59:10.145Z"
   },
   {
    "duration": 9,
    "start_time": "2023-07-31T20:00:05.744Z"
   },
   {
    "duration": 8,
    "start_time": "2023-07-31T20:00:13.437Z"
   },
   {
    "duration": 4062,
    "start_time": "2023-07-31T20:00:18.914Z"
   },
   {
    "duration": 5,
    "start_time": "2023-07-31T20:00:59.695Z"
   },
   {
    "duration": 12,
    "start_time": "2023-07-31T20:01:00.247Z"
   },
   {
    "duration": 13,
    "start_time": "2023-07-31T20:01:07.969Z"
   },
   {
    "duration": 5,
    "start_time": "2023-07-31T20:01:21.302Z"
   },
   {
    "duration": 24,
    "start_time": "2023-07-31T20:01:21.747Z"
   },
   {
    "duration": 21,
    "start_time": "2023-07-31T20:03:17.947Z"
   },
   {
    "duration": 9,
    "start_time": "2023-07-31T20:03:19.145Z"
   },
   {
    "duration": 1668,
    "start_time": "2023-08-01T16:06:29.171Z"
   },
   {
    "duration": 2315,
    "start_time": "2023-08-01T16:08:58.348Z"
   },
   {
    "duration": 3,
    "start_time": "2023-08-01T16:09:27.201Z"
   },
   {
    "duration": 203,
    "start_time": "2023-08-01T16:16:17.973Z"
   },
   {
    "duration": 350,
    "start_time": "2023-08-01T16:16:47.838Z"
   },
   {
    "duration": 357,
    "start_time": "2023-08-01T16:17:07.641Z"
   },
   {
    "duration": 348,
    "start_time": "2023-08-01T16:19:06.204Z"
   },
   {
    "duration": 436,
    "start_time": "2023-08-01T16:20:28.339Z"
   },
   {
    "duration": 13,
    "start_time": "2023-08-01T16:25:21.572Z"
   },
   {
    "duration": 11,
    "start_time": "2023-08-01T16:29:27.334Z"
   },
   {
    "duration": 118,
    "start_time": "2023-08-01T16:30:12.844Z"
   },
   {
    "duration": 9,
    "start_time": "2023-08-01T16:30:21.757Z"
   },
   {
    "duration": 3,
    "start_time": "2023-08-01T16:33:12.001Z"
   },
   {
    "duration": 83,
    "start_time": "2023-08-01T16:37:29.171Z"
   },
   {
    "duration": 5,
    "start_time": "2023-08-01T16:37:51.682Z"
   },
   {
    "duration": 442,
    "start_time": "2023-08-01T16:39:17.635Z"
   },
   {
    "duration": 532,
    "start_time": "2023-08-01T16:39:30.136Z"
   },
   {
    "duration": 263,
    "start_time": "2023-08-01T16:39:56.113Z"
   },
   {
    "duration": 4,
    "start_time": "2023-08-01T17:45:42.284Z"
   },
   {
    "duration": 4,
    "start_time": "2023-08-01T17:45:49.314Z"
   },
   {
    "duration": 32,
    "start_time": "2023-08-01T17:46:48.257Z"
   },
   {
    "duration": 25,
    "start_time": "2023-08-01T17:47:23.713Z"
   },
   {
    "duration": 1520,
    "start_time": "2023-08-01T17:47:53.898Z"
   },
   {
    "duration": 388,
    "start_time": "2023-08-01T17:47:55.421Z"
   },
   {
    "duration": 3,
    "start_time": "2023-08-01T17:47:55.811Z"
   },
   {
    "duration": 418,
    "start_time": "2023-08-01T17:47:55.816Z"
   },
   {
    "duration": 31,
    "start_time": "2023-08-01T17:47:56.237Z"
   },
   {
    "duration": 17,
    "start_time": "2023-08-01T17:47:56.270Z"
   },
   {
    "duration": 481,
    "start_time": "2023-08-01T17:47:56.288Z"
   },
   {
    "duration": 4,
    "start_time": "2023-08-01T17:47:56.771Z"
   },
   {
    "duration": 3,
    "start_time": "2023-08-01T17:47:56.867Z"
   },
   {
    "duration": 42,
    "start_time": "2023-08-01T17:47:56.872Z"
   },
   {
    "duration": 145,
    "start_time": "2023-08-01T17:47:56.916Z"
   },
   {
    "duration": 4624,
    "start_time": "2023-08-01T17:48:17.861Z"
   },
   {
    "duration": 1446,
    "start_time": "2023-08-01T17:49:16.113Z"
   },
   {
    "duration": 408,
    "start_time": "2023-08-01T17:49:17.561Z"
   },
   {
    "duration": 3,
    "start_time": "2023-08-01T17:49:17.971Z"
   },
   {
    "duration": 449,
    "start_time": "2023-08-01T17:49:17.976Z"
   },
   {
    "duration": 12,
    "start_time": "2023-08-01T17:49:18.428Z"
   },
   {
    "duration": 26,
    "start_time": "2023-08-01T17:49:18.441Z"
   },
   {
    "duration": 405,
    "start_time": "2023-08-01T17:49:18.468Z"
   },
   {
    "duration": 3,
    "start_time": "2023-08-01T17:49:18.876Z"
   },
   {
    "duration": 104,
    "start_time": "2023-08-01T17:49:18.968Z"
   },
   {
    "duration": 41,
    "start_time": "2023-08-01T17:49:19.074Z"
   },
   {
    "duration": 4435,
    "start_time": "2023-08-01T17:49:19.117Z"
   },
   {
    "duration": 4449,
    "start_time": "2023-08-01T17:49:58.178Z"
   },
   {
    "duration": 1690,
    "start_time": "2023-08-02T16:08:32.979Z"
   },
   {
    "duration": 893,
    "start_time": "2023-08-02T16:08:34.672Z"
   },
   {
    "duration": 3,
    "start_time": "2023-08-02T16:08:35.567Z"
   },
   {
    "duration": 492,
    "start_time": "2023-08-02T16:08:35.571Z"
   },
   {
    "duration": 12,
    "start_time": "2023-08-02T16:08:36.066Z"
   },
   {
    "duration": 29,
    "start_time": "2023-08-02T16:08:36.080Z"
   },
   {
    "duration": 406,
    "start_time": "2023-08-02T16:08:36.111Z"
   },
   {
    "duration": 85,
    "start_time": "2023-08-02T16:08:36.525Z"
   },
   {
    "duration": 16,
    "start_time": "2023-08-02T16:08:36.612Z"
   },
   {
    "duration": 107,
    "start_time": "2023-08-02T16:08:36.630Z"
   },
   {
    "duration": 6,
    "start_time": "2023-08-02T16:14:00.561Z"
   },
   {
    "duration": 109,
    "start_time": "2023-08-02T16:14:09.223Z"
   },
   {
    "duration": 4,
    "start_time": "2023-08-02T16:18:47.640Z"
   },
   {
    "duration": 3,
    "start_time": "2023-08-02T16:18:48.107Z"
   },
   {
    "duration": 3,
    "start_time": "2023-08-02T16:19:28.812Z"
   },
   {
    "duration": 5,
    "start_time": "2023-08-02T16:19:29.457Z"
   },
   {
    "duration": 37,
    "start_time": "2023-08-02T16:19:32.731Z"
   },
   {
    "duration": 4283,
    "start_time": "2023-08-02T16:20:00.134Z"
   },
   {
    "duration": 4203,
    "start_time": "2023-08-02T16:21:48.635Z"
   },
   {
    "duration": 12,
    "start_time": "2023-08-02T16:21:57.899Z"
   },
   {
    "duration": 39,
    "start_time": "2023-08-02T16:23:44.774Z"
   },
   {
    "duration": 4193,
    "start_time": "2023-08-02T16:23:52.574Z"
   },
   {
    "duration": 6,
    "start_time": "2023-08-02T16:25:21.361Z"
   },
   {
    "duration": 31,
    "start_time": "2023-08-02T16:25:45.168Z"
   },
   {
    "duration": 1526,
    "start_time": "2023-08-02T16:26:11.835Z"
   },
   {
    "duration": 410,
    "start_time": "2023-08-02T16:26:13.363Z"
   },
   {
    "duration": 3,
    "start_time": "2023-08-02T16:26:13.775Z"
   },
   {
    "duration": 490,
    "start_time": "2023-08-02T16:26:13.780Z"
   },
   {
    "duration": 11,
    "start_time": "2023-08-02T16:26:14.272Z"
   },
   {
    "duration": 53,
    "start_time": "2023-08-02T16:26:14.285Z"
   },
   {
    "duration": 378,
    "start_time": "2023-08-02T16:26:14.340Z"
   },
   {
    "duration": 4,
    "start_time": "2023-08-02T16:26:14.719Z"
   },
   {
    "duration": 185,
    "start_time": "2023-08-02T16:26:14.725Z"
   },
   {
    "duration": 22,
    "start_time": "2023-08-02T16:26:14.912Z"
   },
   {
    "duration": 64,
    "start_time": "2023-08-02T16:26:14.936Z"
   },
   {
    "duration": 4029,
    "start_time": "2023-08-02T16:26:15.001Z"
   },
   {
    "duration": 4,
    "start_time": "2023-08-02T16:30:29.632Z"
   },
   {
    "duration": 5,
    "start_time": "2023-08-02T16:30:30.019Z"
   },
   {
    "duration": 3,
    "start_time": "2023-08-02T16:32:08.814Z"
   },
   {
    "duration": 3,
    "start_time": "2023-08-02T16:32:09.014Z"
   },
   {
    "duration": 313,
    "start_time": "2023-08-02T16:34:44.171Z"
   },
   {
    "duration": 4,
    "start_time": "2023-08-02T16:34:56.685Z"
   },
   {
    "duration": 45,
    "start_time": "2023-08-02T16:34:57.871Z"
   },
   {
    "duration": 34,
    "start_time": "2023-08-02T16:35:18.534Z"
   },
   {
    "duration": 110,
    "start_time": "2023-08-02T16:38:33.771Z"
   },
   {
    "duration": 6,
    "start_time": "2023-08-02T16:39:41.321Z"
   },
   {
    "duration": 403,
    "start_time": "2023-08-02T16:39:42.012Z"
   },
   {
    "duration": 3,
    "start_time": "2023-08-02T16:40:20.834Z"
   },
   {
    "duration": 3,
    "start_time": "2023-08-02T16:40:21.339Z"
   },
   {
    "duration": 6,
    "start_time": "2023-08-02T16:45:32.015Z"
   },
   {
    "duration": 105,
    "start_time": "2023-08-02T16:45:33.322Z"
   },
   {
    "duration": 6,
    "start_time": "2023-08-02T16:45:45.544Z"
   },
   {
    "duration": 120,
    "start_time": "2023-08-02T16:45:46.496Z"
   },
   {
    "duration": 13,
    "start_time": "2023-08-02T16:46:00.608Z"
   },
   {
    "duration": 411,
    "start_time": "2023-08-02T16:46:01.216Z"
   },
   {
    "duration": 3,
    "start_time": "2023-08-02T16:48:18.538Z"
   },
   {
    "duration": 7,
    "start_time": "2023-08-02T16:58:24.842Z"
   },
   {
    "duration": 9,
    "start_time": "2023-08-02T16:58:43.282Z"
   },
   {
    "duration": 5,
    "start_time": "2023-08-02T16:59:01.664Z"
   },
   {
    "duration": 3,
    "start_time": "2023-08-02T16:59:57.285Z"
   },
   {
    "duration": 47,
    "start_time": "2023-08-02T17:01:27.799Z"
   },
   {
    "duration": 49,
    "start_time": "2023-08-02T17:01:40.354Z"
   },
   {
    "duration": 82,
    "start_time": "2023-08-02T17:03:13.904Z"
   },
   {
    "duration": 46,
    "start_time": "2023-08-02T17:03:50.741Z"
   },
   {
    "duration": 10,
    "start_time": "2023-08-02T17:06:22.193Z"
   },
   {
    "duration": 18,
    "start_time": "2023-08-02T17:08:21.315Z"
   },
   {
    "duration": 6,
    "start_time": "2023-08-02T17:10:29.938Z"
   },
   {
    "duration": 14,
    "start_time": "2023-08-02T17:11:17.602Z"
   },
   {
    "duration": 5,
    "start_time": "2023-08-02T17:11:42.232Z"
   },
   {
    "duration": 13,
    "start_time": "2023-08-02T17:11:42.921Z"
   },
   {
    "duration": 5,
    "start_time": "2023-08-02T17:14:18.937Z"
   },
   {
    "duration": 3570,
    "start_time": "2023-08-02T17:14:19.410Z"
   },
   {
    "duration": 5,
    "start_time": "2023-08-02T17:17:11.675Z"
   },
   {
    "duration": 2973,
    "start_time": "2023-08-02T17:17:12.250Z"
   },
   {
    "duration": 2599,
    "start_time": "2023-08-02T17:18:07.494Z"
   },
   {
    "duration": 387,
    "start_time": "2023-08-02T17:18:10.095Z"
   },
   {
    "duration": 3,
    "start_time": "2023-08-02T17:18:10.484Z"
   },
   {
    "duration": 402,
    "start_time": "2023-08-02T17:18:10.489Z"
   },
   {
    "duration": 12,
    "start_time": "2023-08-02T17:18:10.908Z"
   },
   {
    "duration": 10,
    "start_time": "2023-08-02T17:18:10.921Z"
   },
   {
    "duration": 395,
    "start_time": "2023-08-02T17:18:10.932Z"
   },
   {
    "duration": 82,
    "start_time": "2023-08-02T17:18:11.328Z"
   },
   {
    "duration": 98,
    "start_time": "2023-08-02T17:18:11.412Z"
   },
   {
    "duration": 7,
    "start_time": "2023-08-02T17:18:11.512Z"
   },
   {
    "duration": 22,
    "start_time": "2023-08-02T17:18:11.520Z"
   },
   {
    "duration": 4,
    "start_time": "2023-08-02T17:18:11.544Z"
   },
   {
    "duration": 2845,
    "start_time": "2023-08-02T17:18:11.550Z"
   },
   {
    "duration": 1212,
    "start_time": "2023-08-02T17:19:36.944Z"
   },
   {
    "duration": 387,
    "start_time": "2023-08-02T17:19:38.158Z"
   },
   {
    "duration": 3,
    "start_time": "2023-08-02T17:19:38.547Z"
   },
   {
    "duration": 471,
    "start_time": "2023-08-02T17:19:38.552Z"
   },
   {
    "duration": 14,
    "start_time": "2023-08-02T17:19:39.026Z"
   },
   {
    "duration": 11,
    "start_time": "2023-08-02T17:19:39.042Z"
   },
   {
    "duration": 462,
    "start_time": "2023-08-02T17:19:39.056Z"
   },
   {
    "duration": 4,
    "start_time": "2023-08-02T17:19:39.609Z"
   },
   {
    "duration": 149,
    "start_time": "2023-08-02T17:19:39.615Z"
   },
   {
    "duration": 63,
    "start_time": "2023-08-02T17:19:39.766Z"
   },
   {
    "duration": 152,
    "start_time": "2023-08-02T17:19:39.831Z"
   },
   {
    "duration": 144,
    "start_time": "2023-08-02T17:19:39.986Z"
   },
   {
    "duration": 2936,
    "start_time": "2023-08-02T17:19:40.132Z"
   },
   {
    "duration": 5,
    "start_time": "2023-08-02T17:35:11.362Z"
   },
   {
    "duration": 439,
    "start_time": "2023-08-02T17:35:35.404Z"
   },
   {
    "duration": 3,
    "start_time": "2023-08-02T17:36:19.339Z"
   },
   {
    "duration": 406,
    "start_time": "2023-08-02T17:36:38.551Z"
   },
   {
    "duration": 9,
    "start_time": "2023-08-02T17:37:04.486Z"
   },
   {
    "duration": 6,
    "start_time": "2023-08-02T17:46:21.732Z"
   },
   {
    "duration": 410,
    "start_time": "2023-08-02T17:46:22.207Z"
   },
   {
    "duration": 5,
    "start_time": "2023-08-02T17:53:24.745Z"
   },
   {
    "duration": 364,
    "start_time": "2023-08-02T17:53:28.761Z"
   },
   {
    "duration": 5,
    "start_time": "2023-08-02T18:02:08.746Z"
   },
   {
    "duration": 2871,
    "start_time": "2023-08-02T18:02:09.332Z"
   },
   {
    "duration": 4,
    "start_time": "2023-08-02T18:02:19.836Z"
   },
   {
    "duration": 2766,
    "start_time": "2023-08-02T18:02:21.762Z"
   },
   {
    "duration": 4,
    "start_time": "2023-08-02T18:02:55.809Z"
   },
   {
    "duration": 3,
    "start_time": "2023-08-02T18:02:56.104Z"
   },
   {
    "duration": 4,
    "start_time": "2023-08-02T18:02:57.852Z"
   },
   {
    "duration": 18,
    "start_time": "2023-08-02T18:02:59.526Z"
   },
   {
    "duration": 5,
    "start_time": "2023-08-02T18:03:04.628Z"
   },
   {
    "duration": 2990,
    "start_time": "2023-08-02T18:03:05.422Z"
   },
   {
    "duration": 5,
    "start_time": "2023-08-02T18:03:43.378Z"
   },
   {
    "duration": 2774,
    "start_time": "2023-08-02T18:03:44.347Z"
   },
   {
    "duration": 5,
    "start_time": "2023-08-02T18:05:10.653Z"
   },
   {
    "duration": 4,
    "start_time": "2023-08-02T18:05:33.715Z"
   },
   {
    "duration": 90,
    "start_time": "2023-08-02T18:07:21.632Z"
   },
   {
    "duration": 9,
    "start_time": "2023-08-02T18:07:38.887Z"
   },
   {
    "duration": 10,
    "start_time": "2023-08-02T18:07:53.965Z"
   },
   {
    "duration": 6,
    "start_time": "2023-08-02T18:08:03.126Z"
   },
   {
    "duration": 6,
    "start_time": "2023-08-02T18:10:40.353Z"
   },
   {
    "duration": 6,
    "start_time": "2023-08-02T18:10:55.825Z"
   },
   {
    "duration": 6,
    "start_time": "2023-08-02T18:11:04.203Z"
   },
   {
    "duration": 6,
    "start_time": "2023-08-02T18:11:11.955Z"
   },
   {
    "duration": 6,
    "start_time": "2023-08-02T18:11:16.493Z"
   },
   {
    "duration": 6,
    "start_time": "2023-08-02T18:11:38.481Z"
   },
   {
    "duration": 22,
    "start_time": "2023-08-02T18:13:30.164Z"
   },
   {
    "duration": 20,
    "start_time": "2023-08-02T18:14:05.467Z"
   },
   {
    "duration": 83,
    "start_time": "2023-08-02T18:15:04.340Z"
   },
   {
    "duration": 9,
    "start_time": "2023-08-02T18:15:28.229Z"
   },
   {
    "duration": 10,
    "start_time": "2023-08-02T18:15:58.977Z"
   },
   {
    "duration": 18,
    "start_time": "2023-08-02T18:16:06.855Z"
   },
   {
    "duration": 19,
    "start_time": "2023-08-02T18:16:41.068Z"
   },
   {
    "duration": 3,
    "start_time": "2023-08-02T18:20:48.065Z"
   },
   {
    "duration": 20,
    "start_time": "2023-08-02T18:20:50.052Z"
   },
   {
    "duration": 3,
    "start_time": "2023-08-02T18:21:49.410Z"
   },
   {
    "duration": 2909,
    "start_time": "2023-08-02T18:22:01.818Z"
   },
   {
    "duration": 5,
    "start_time": "2023-08-02T18:23:12.933Z"
   },
   {
    "duration": 2893,
    "start_time": "2023-08-02T18:23:14.475Z"
   },
   {
    "duration": 1243,
    "start_time": "2023-08-02T18:39:05.421Z"
   },
   {
    "duration": 457,
    "start_time": "2023-08-02T18:39:06.667Z"
   },
   {
    "duration": 3,
    "start_time": "2023-08-02T18:39:07.126Z"
   },
   {
    "duration": 550,
    "start_time": "2023-08-02T18:39:07.131Z"
   },
   {
    "duration": 27,
    "start_time": "2023-08-02T18:39:07.683Z"
   },
   {
    "duration": 29,
    "start_time": "2023-08-02T18:39:07.712Z"
   },
   {
    "duration": 672,
    "start_time": "2023-08-02T18:39:07.743Z"
   },
   {
    "duration": 4,
    "start_time": "2023-08-02T18:39:08.417Z"
   },
   {
    "duration": 30,
    "start_time": "2023-08-02T18:39:08.512Z"
   },
   {
    "duration": 39,
    "start_time": "2023-08-02T18:39:08.610Z"
   },
   {
    "duration": 27,
    "start_time": "2023-08-02T18:39:08.651Z"
   },
   {
    "duration": 50,
    "start_time": "2023-08-02T18:39:08.680Z"
   },
   {
    "duration": 14,
    "start_time": "2023-08-02T18:39:08.732Z"
   },
   {
    "duration": 3407,
    "start_time": "2023-08-02T18:39:08.749Z"
   },
   {
    "duration": 1210,
    "start_time": "2023-08-02T18:40:50.222Z"
   },
   {
    "duration": 421,
    "start_time": "2023-08-02T18:40:51.434Z"
   },
   {
    "duration": 4,
    "start_time": "2023-08-02T18:40:51.857Z"
   },
   {
    "duration": 647,
    "start_time": "2023-08-02T18:40:51.862Z"
   },
   {
    "duration": 16,
    "start_time": "2023-08-02T18:40:52.512Z"
   },
   {
    "duration": 40,
    "start_time": "2023-08-02T18:40:52.529Z"
   },
   {
    "duration": 537,
    "start_time": "2023-08-02T18:40:52.572Z"
   },
   {
    "duration": 4,
    "start_time": "2023-08-02T18:40:53.113Z"
   },
   {
    "duration": 6,
    "start_time": "2023-08-02T18:40:53.119Z"
   },
   {
    "duration": 113,
    "start_time": "2023-08-02T18:40:53.127Z"
   },
   {
    "duration": 43,
    "start_time": "2023-08-02T18:40:53.243Z"
   },
   {
    "duration": 57,
    "start_time": "2023-08-02T18:40:53.288Z"
   },
   {
    "duration": 6,
    "start_time": "2023-08-02T18:40:53.347Z"
   },
   {
    "duration": 3245,
    "start_time": "2023-08-02T18:40:53.356Z"
   },
   {
    "duration": 1035,
    "start_time": "2023-08-07T18:26:28.025Z"
   },
   {
    "duration": 1655,
    "start_time": "2023-08-07T18:26:29.062Z"
   },
   {
    "duration": 2,
    "start_time": "2023-08-07T18:26:30.719Z"
   },
   {
    "duration": 464,
    "start_time": "2023-08-07T18:26:30.723Z"
   },
   {
    "duration": 13,
    "start_time": "2023-08-07T18:26:31.189Z"
   },
   {
    "duration": 31,
    "start_time": "2023-08-07T18:26:31.204Z"
   },
   {
    "duration": 461,
    "start_time": "2023-08-07T18:26:31.237Z"
   },
   {
    "duration": 75,
    "start_time": "2023-08-07T18:26:31.700Z"
   },
   {
    "duration": 140,
    "start_time": "2023-08-07T18:26:31.777Z"
   },
   {
    "duration": 17,
    "start_time": "2023-08-07T18:26:31.920Z"
   },
   {
    "duration": 10,
    "start_time": "2023-08-07T18:26:31.939Z"
   },
   {
    "duration": 34,
    "start_time": "2023-08-07T18:26:31.951Z"
   },
   {
    "duration": 16,
    "start_time": "2023-08-07T18:26:31.987Z"
   },
   {
    "duration": 2930,
    "start_time": "2023-08-07T18:26:32.005Z"
   },
   {
    "duration": 5,
    "start_time": "2023-08-07T18:28:20.520Z"
   },
   {
    "duration": 1061,
    "start_time": "2023-08-07T18:28:45.918Z"
   },
   {
    "duration": 361,
    "start_time": "2023-08-07T18:28:46.981Z"
   },
   {
    "duration": 2,
    "start_time": "2023-08-07T18:28:47.344Z"
   },
   {
    "duration": 366,
    "start_time": "2023-08-07T18:28:47.348Z"
   },
   {
    "duration": 11,
    "start_time": "2023-08-07T18:28:47.716Z"
   },
   {
    "duration": 18,
    "start_time": "2023-08-07T18:28:47.728Z"
   },
   {
    "duration": 529,
    "start_time": "2023-08-07T18:28:47.748Z"
   },
   {
    "duration": 3,
    "start_time": "2023-08-07T18:28:48.280Z"
   },
   {
    "duration": 11,
    "start_time": "2023-08-07T18:28:48.375Z"
   },
   {
    "duration": 8,
    "start_time": "2023-08-07T18:28:48.388Z"
   },
   {
    "duration": 4,
    "start_time": "2023-08-07T18:28:48.398Z"
   },
   {
    "duration": 32,
    "start_time": "2023-08-07T18:28:48.403Z"
   },
   {
    "duration": 4,
    "start_time": "2023-08-07T18:28:48.436Z"
   },
   {
    "duration": 2794,
    "start_time": "2023-08-07T18:28:48.442Z"
   },
   {
    "duration": 1044,
    "start_time": "2023-08-07T18:37:42.313Z"
   },
   {
    "duration": 360,
    "start_time": "2023-08-07T18:37:43.359Z"
   },
   {
    "duration": 3,
    "start_time": "2023-08-07T18:37:43.720Z"
   },
   {
    "duration": 415,
    "start_time": "2023-08-07T18:37:43.724Z"
   },
   {
    "duration": 12,
    "start_time": "2023-08-07T18:37:44.141Z"
   },
   {
    "duration": 8,
    "start_time": "2023-08-07T18:37:44.175Z"
   },
   {
    "duration": 401,
    "start_time": "2023-08-07T18:37:44.184Z"
   },
   {
    "duration": 89,
    "start_time": "2023-08-07T18:37:44.586Z"
   },
   {
    "duration": 99,
    "start_time": "2023-08-07T18:37:44.677Z"
   },
   {
    "duration": 23,
    "start_time": "2023-08-07T18:37:44.778Z"
   },
   {
    "duration": 16,
    "start_time": "2023-08-07T18:37:44.803Z"
   },
   {
    "duration": 32,
    "start_time": "2023-08-07T18:37:44.821Z"
   },
   {
    "duration": 6,
    "start_time": "2023-08-07T18:37:44.855Z"
   },
   {
    "duration": 1043,
    "start_time": "2023-08-07T18:37:44.863Z"
   },
   {
    "duration": 1042,
    "start_time": "2023-08-07T18:49:44.208Z"
   },
   {
    "duration": 352,
    "start_time": "2023-08-07T18:49:45.252Z"
   },
   {
    "duration": 3,
    "start_time": "2023-08-07T18:49:45.606Z"
   },
   {
    "duration": 371,
    "start_time": "2023-08-07T18:49:45.610Z"
   },
   {
    "duration": 12,
    "start_time": "2023-08-07T18:49:45.983Z"
   },
   {
    "duration": 15,
    "start_time": "2023-08-07T18:49:45.996Z"
   },
   {
    "duration": 485,
    "start_time": "2023-08-07T18:49:46.012Z"
   },
   {
    "duration": 4,
    "start_time": "2023-08-07T18:49:46.574Z"
   },
   {
    "duration": 100,
    "start_time": "2023-08-07T18:49:46.580Z"
   },
   {
    "duration": 12,
    "start_time": "2023-08-07T18:49:46.681Z"
   },
   {
    "duration": 8,
    "start_time": "2023-08-07T18:49:46.694Z"
   },
   {
    "duration": 18,
    "start_time": "2023-08-07T18:49:46.703Z"
   },
   {
    "duration": 4,
    "start_time": "2023-08-07T18:49:46.723Z"
   },
   {
    "duration": 2718,
    "start_time": "2023-08-07T18:49:46.729Z"
   },
   {
    "duration": 1047,
    "start_time": "2023-08-07T18:53:36.101Z"
   },
   {
    "duration": 355,
    "start_time": "2023-08-07T18:53:37.150Z"
   },
   {
    "duration": 2,
    "start_time": "2023-08-07T18:53:37.507Z"
   },
   {
    "duration": 382,
    "start_time": "2023-08-07T18:53:37.510Z"
   },
   {
    "duration": 14,
    "start_time": "2023-08-07T18:53:37.895Z"
   },
   {
    "duration": 8,
    "start_time": "2023-08-07T18:53:37.911Z"
   },
   {
    "duration": 472,
    "start_time": "2023-08-07T18:53:37.920Z"
   },
   {
    "duration": 82,
    "start_time": "2023-08-07T18:53:38.394Z"
   },
   {
    "duration": 98,
    "start_time": "2023-08-07T18:53:38.478Z"
   },
   {
    "duration": 7,
    "start_time": "2023-08-07T18:53:38.577Z"
   },
   {
    "duration": 5,
    "start_time": "2023-08-07T18:53:38.586Z"
   },
   {
    "duration": 24,
    "start_time": "2023-08-07T18:53:38.592Z"
   },
   {
    "duration": 5,
    "start_time": "2023-08-07T18:53:38.618Z"
   },
   {
    "duration": 2749,
    "start_time": "2023-08-07T18:53:38.625Z"
   }
  ],
  "kernelspec": {
   "display_name": "Python 3 (ipykernel)",
   "language": "python",
   "name": "python3"
  },
  "language_info": {
   "codemirror_mode": {
    "name": "ipython",
    "version": 3
   },
   "file_extension": ".py",
   "mimetype": "text/x-python",
   "name": "python",
   "nbconvert_exporter": "python",
   "pygments_lexer": "ipython3",
   "version": "3.9.5"
  },
  "toc": {
   "base_numbering": 1,
   "nav_menu": {},
   "number_sections": true,
   "sideBar": true,
   "skip_h1_title": true,
   "title_cell": "Table of Contents",
   "title_sidebar": "Contents",
   "toc_cell": false,
   "toc_position": {},
   "toc_section_display": true,
   "toc_window_display": true
  }
 },
 "nbformat": 4,
 "nbformat_minor": 2
}

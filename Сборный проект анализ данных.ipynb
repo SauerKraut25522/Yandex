{
 "cells": [
  {
   "cell_type": "markdown",
   "id": "083733f7",
   "metadata": {},
   "source": [
    "<div style=\"border:solid green 3px; padding: 20px\">\n",
    "<b>🥇 Алексей, спасибо за доработки, проект принят, молодец!</b>\n",
    "    \n",
    "Ты провел отличную работу над ошибками! Уверен, ты обязательно достигнешь своей цели! Успехов в дальнейшем обучении! 🙂\n",
    "    "
   ]
  },
  {
   "cell_type": "markdown",
   "metadata": {},
   "source": [
    "Алексей, привет! Меня зовут Ефимов Денис и сегодня я буду делать ревью твоего проекта!\\\n",
    "В Практикуме принято общаться на \"ты\", однако если это неудобно - дай знать, и можем перейти на более официальное общение.\n",
    "\n",
    "Ниже ты найдешь мои комментарии - пожалуйста, не перемещай, не изменяй и не удаляй их. Я буду использовать цветовую разметку: \n",
    "\n",
    "<div class=\"alert alert-block alert-success\">\n",
    "<b>✅Комментарий ревьюера:</b> Если все сделано хорошо. </div>\n",
    "\n",
    "<div class=\"alert alert-block alert-warning\">\n",
    "<b>🔁Комментарий ревьюера:</b> Некритичное замечание; если таких замечаний меньше трех — проект может быть принят без их отработки.</div>\n",
    "\n",
    "<div class=\"alert alert-block alert-danger\">\n",
    "<b>❌Комментарий ревьюера:</b> Грубая ошибка, необходимо исправить, иначе проект не будет принят.\n",
    "</div>\n",
    "\n",
    "Давай работать над проектом в диалоге: если ты что-то меняешь в проекте или отвечаешь на мои комментарии — пиши об этом. Мне будет легче отследить изменения, если ты выделишь свои комментарии:\n",
    "Например так:\n",
    "<div class=\"alert alert-block alert-info\">\n",
    "<b>🔄Комментарий студента:</b> \n",
    "Hello World! ✔\n",
    "</div>\n",
    "\n",
    "Или можешь использовать эту галочку ✔ в моих комментариях, если писать особо нечего.\n",
    "\n",
    "<div class=\"alert alert-block alert-warning\">\n",
    "<b>Общее впечатление:</b> \n",
    "    \n",
    "- Ты проделал огромную работу и проект получился впечатляющим:)\n",
    "- У меня есть несколько замечаний, исправив которые ты сделаешь проект еще лучше.\n",
    "- Пробегись по моим комментариям, исправь недочёты и всё будет отлично :)\n",
    "    \n",
    "</div>\n",
    "\n"
   ]
  },
  {
   "cell_type": "markdown",
   "metadata": {},
   "source": [
    "<div class=\"alert alert-block alert-info\">\n",
    "<b>🔄Комментарий студента:</b> \n",
    "Привет, Денис, спасибо, что уделил время на проверку моей работы) Я постараюсь учесть все твои комментарии (даже зелёные)!\n",
    "</div>"
   ]
  },
  {
   "cell_type": "markdown",
   "metadata": {},
   "source": [
    "<div class=\"alert alert-block alert-success\">\n",
    "<b>✅Комментарий ревьюера 2:</b> Рад знакомству, спасибо за обратную связь и комментарии! </div>"
   ]
  },
  {
   "cell_type": "markdown",
   "metadata": {},
   "source": [
    "# Исследование закономерностей, определяющих успешность игры."
   ]
  },
  {
   "cell_type": "markdown",
   "metadata": {},
   "source": [
    "**Описание проекта.**\n",
    "\n",
    "Вы работаете в интернет-магазине «Стримчик», который продаёт по всему миру компьютерные игры. Из открытых источников доступны исторические данные о продажах игр, оценки пользователей и экспертов, жанры и платформы (например, Xbox или PlayStation). Вам нужно выявить определяющие успешность игры закономерности. Это позволит сделать ставку на потенциально популярный продукт и спланировать рекламные кампании.\n",
    "\n",
    "Перед вами данные до 2016 года. Представим, что сейчас декабрь 2016 г., и вы планируете кампанию на 2017-й. Нужно отработать принцип работы с данными. Неважно, прогнозируете ли вы продажи на 2017 год по данным 2016-го или же 2027-й — по данным 2026 года.\n",
    "\n",
    "В наборе данных попадается аббревиатура ESRB (Entertainment Software Rating Board) — это ассоциация, определяющая возрастной рейтинг компьютерных игр. ESRB оценивает игровой контент и присваивает ему подходящую возрастную категорию, например, «Для взрослых», «Для детей младшего возраста» или «Для подростков».\n",
    "\n",
    "**Описание данных.**\n",
    "\n",
    "`Name` — название игры\n",
    "\n",
    "`Platform` — платформа\n",
    "\n",
    "`Year_of_Release` — год выпуска\n",
    "\n",
    "`Genre` — жанр игры\n",
    "\n",
    "`NA_sales` — продажи в Северной Америке (миллионы проданных копий)\n",
    "\n",
    "`EU_sales` — продажи в Европе (миллионы проданных копий)\n",
    "\n",
    "`JP_sales` — продажи в Японии (миллионы проданных копий)\n",
    "\n",
    "`Other_sales` — продажи в других странах (миллионы проданных копий)\n",
    "\n",
    "`Critic_Score` — оценка критиков (максимум 100)\n",
    "\n",
    "`User_Score` — оценка пользователей (максимум 10)\n",
    "\n",
    "`Rating` — рейтинг от организации ESRB\n",
    "\n",
    "**Исользуемые инструменты.**\n",
    "\n",
    "Pandas, numpy, matplotlib, scipy, seaborn."
   ]
  },
  {
   "cell_type": "markdown",
   "metadata": {},
   "source": [
    "<div class=\"alert alert-block alert-success\">\n",
    "<b>✅Комментарий ревьюера:</b> Молодец, что добавил введение!  </div>"
   ]
  },
  {
   "cell_type": "markdown",
   "metadata": {},
   "source": [
    "<div class=\"alert alert-block alert-warning\">\n",
    "<b>🔁Комментарий ревьюера:</b> \n",
    "    \n",
    "Можно добавить описание имеющихся данных. Стоит задуматься, как еще можно дополнить введение, чтобы сделать более ценным для читателя.\n",
    "    \n",
    "Также советую тебе взглянуть на <a href=\"https://www.kaggle.com/notebooks/\">работы</a> профессиональных аналитиков, чтобы оценить, как другие люди оформляют и проводят исследования.    </div>"
   ]
  },
  {
   "cell_type": "markdown",
   "metadata": {},
   "source": [
    "<div class=\"alert alert-block alert-info\">\n",
    "<b>🔄Комментарий студента:</b> \n",
    "Добавил описание данных и используемые библиотеки.\n",
    "</div>"
   ]
  },
  {
   "cell_type": "markdown",
   "metadata": {},
   "source": [
    "<div class=\"alert alert-block alert-success\">\n",
    "<b>✅Комментарий ревьюера 2:</b> Отлично, исправлено!👍  </div>"
   ]
  },
  {
   "cell_type": "markdown",
   "metadata": {},
   "source": [
    "## Изучение общей информации фрейма."
   ]
  },
  {
   "cell_type": "code",
   "execution_count": 1,
   "metadata": {},
   "outputs": [],
   "source": [
    "import pandas as pd\n",
    "import numpy as np\n",
    "from matplotlib import pyplot as plt\n",
    "from scipy import stats as st\n",
    "import seaborn as sns\n",
    "import matplotlib.colors as mcolors"
   ]
  },
  {
   "cell_type": "code",
   "execution_count": 2,
   "metadata": {},
   "outputs": [],
   "source": [
    "df = pd.read_csv('/datasets/games.csv')"
   ]
  },
  {
   "cell_type": "code",
   "execution_count": 3,
   "metadata": {
    "scrolled": false
   },
   "outputs": [
    {
     "name": "stdout",
     "output_type": "stream",
     "text": [
      "<class 'pandas.core.frame.DataFrame'>\n",
      "RangeIndex: 16715 entries, 0 to 16714\n",
      "Data columns (total 11 columns):\n",
      " #   Column           Non-Null Count  Dtype  \n",
      "---  ------           --------------  -----  \n",
      " 0   Name             16713 non-null  object \n",
      " 1   Platform         16715 non-null  object \n",
      " 2   Year_of_Release  16446 non-null  float64\n",
      " 3   Genre            16713 non-null  object \n",
      " 4   NA_sales         16715 non-null  float64\n",
      " 5   EU_sales         16715 non-null  float64\n",
      " 6   JP_sales         16715 non-null  float64\n",
      " 7   Other_sales      16715 non-null  float64\n",
      " 8   Critic_Score     8137 non-null   float64\n",
      " 9   User_Score       10014 non-null  object \n",
      " 10  Rating           9949 non-null   object \n",
      "dtypes: float64(6), object(5)\n",
      "memory usage: 5.6 MB\n"
     ]
    },
    {
     "data": {
      "text/html": [
       "<div>\n",
       "<style scoped>\n",
       "    .dataframe tbody tr th:only-of-type {\n",
       "        vertical-align: middle;\n",
       "    }\n",
       "\n",
       "    .dataframe tbody tr th {\n",
       "        vertical-align: top;\n",
       "    }\n",
       "\n",
       "    .dataframe thead th {\n",
       "        text-align: right;\n",
       "    }\n",
       "</style>\n",
       "<table border=\"1\" class=\"dataframe\">\n",
       "  <thead>\n",
       "    <tr style=\"text-align: right;\">\n",
       "      <th></th>\n",
       "      <th>Name</th>\n",
       "      <th>Platform</th>\n",
       "      <th>Year_of_Release</th>\n",
       "      <th>Genre</th>\n",
       "      <th>NA_sales</th>\n",
       "      <th>EU_sales</th>\n",
       "      <th>JP_sales</th>\n",
       "      <th>Other_sales</th>\n",
       "      <th>Critic_Score</th>\n",
       "      <th>User_Score</th>\n",
       "      <th>Rating</th>\n",
       "    </tr>\n",
       "  </thead>\n",
       "  <tbody>\n",
       "    <tr>\n",
       "      <th>0</th>\n",
       "      <td>Wii Sports</td>\n",
       "      <td>Wii</td>\n",
       "      <td>2006.0</td>\n",
       "      <td>Sports</td>\n",
       "      <td>41.36</td>\n",
       "      <td>28.96</td>\n",
       "      <td>3.77</td>\n",
       "      <td>8.45</td>\n",
       "      <td>76.0</td>\n",
       "      <td>8</td>\n",
       "      <td>E</td>\n",
       "    </tr>\n",
       "    <tr>\n",
       "      <th>1</th>\n",
       "      <td>Super Mario Bros.</td>\n",
       "      <td>NES</td>\n",
       "      <td>1985.0</td>\n",
       "      <td>Platform</td>\n",
       "      <td>29.08</td>\n",
       "      <td>3.58</td>\n",
       "      <td>6.81</td>\n",
       "      <td>0.77</td>\n",
       "      <td>NaN</td>\n",
       "      <td>NaN</td>\n",
       "      <td>NaN</td>\n",
       "    </tr>\n",
       "    <tr>\n",
       "      <th>2</th>\n",
       "      <td>Mario Kart Wii</td>\n",
       "      <td>Wii</td>\n",
       "      <td>2008.0</td>\n",
       "      <td>Racing</td>\n",
       "      <td>15.68</td>\n",
       "      <td>12.76</td>\n",
       "      <td>3.79</td>\n",
       "      <td>3.29</td>\n",
       "      <td>82.0</td>\n",
       "      <td>8.3</td>\n",
       "      <td>E</td>\n",
       "    </tr>\n",
       "    <tr>\n",
       "      <th>3</th>\n",
       "      <td>Wii Sports Resort</td>\n",
       "      <td>Wii</td>\n",
       "      <td>2009.0</td>\n",
       "      <td>Sports</td>\n",
       "      <td>15.61</td>\n",
       "      <td>10.93</td>\n",
       "      <td>3.28</td>\n",
       "      <td>2.95</td>\n",
       "      <td>80.0</td>\n",
       "      <td>8</td>\n",
       "      <td>E</td>\n",
       "    </tr>\n",
       "    <tr>\n",
       "      <th>4</th>\n",
       "      <td>Pokemon Red/Pokemon Blue</td>\n",
       "      <td>GB</td>\n",
       "      <td>1996.0</td>\n",
       "      <td>Role-Playing</td>\n",
       "      <td>11.27</td>\n",
       "      <td>8.89</td>\n",
       "      <td>10.22</td>\n",
       "      <td>1.00</td>\n",
       "      <td>NaN</td>\n",
       "      <td>NaN</td>\n",
       "      <td>NaN</td>\n",
       "    </tr>\n",
       "    <tr>\n",
       "      <th>...</th>\n",
       "      <td>...</td>\n",
       "      <td>...</td>\n",
       "      <td>...</td>\n",
       "      <td>...</td>\n",
       "      <td>...</td>\n",
       "      <td>...</td>\n",
       "      <td>...</td>\n",
       "      <td>...</td>\n",
       "      <td>...</td>\n",
       "      <td>...</td>\n",
       "      <td>...</td>\n",
       "    </tr>\n",
       "    <tr>\n",
       "      <th>16710</th>\n",
       "      <td>Samurai Warriors: Sanada Maru</td>\n",
       "      <td>PS3</td>\n",
       "      <td>2016.0</td>\n",
       "      <td>Action</td>\n",
       "      <td>0.00</td>\n",
       "      <td>0.00</td>\n",
       "      <td>0.01</td>\n",
       "      <td>0.00</td>\n",
       "      <td>NaN</td>\n",
       "      <td>NaN</td>\n",
       "      <td>NaN</td>\n",
       "    </tr>\n",
       "    <tr>\n",
       "      <th>16711</th>\n",
       "      <td>LMA Manager 2007</td>\n",
       "      <td>X360</td>\n",
       "      <td>2006.0</td>\n",
       "      <td>Sports</td>\n",
       "      <td>0.00</td>\n",
       "      <td>0.01</td>\n",
       "      <td>0.00</td>\n",
       "      <td>0.00</td>\n",
       "      <td>NaN</td>\n",
       "      <td>NaN</td>\n",
       "      <td>NaN</td>\n",
       "    </tr>\n",
       "    <tr>\n",
       "      <th>16712</th>\n",
       "      <td>Haitaka no Psychedelica</td>\n",
       "      <td>PSV</td>\n",
       "      <td>2016.0</td>\n",
       "      <td>Adventure</td>\n",
       "      <td>0.00</td>\n",
       "      <td>0.00</td>\n",
       "      <td>0.01</td>\n",
       "      <td>0.00</td>\n",
       "      <td>NaN</td>\n",
       "      <td>NaN</td>\n",
       "      <td>NaN</td>\n",
       "    </tr>\n",
       "    <tr>\n",
       "      <th>16713</th>\n",
       "      <td>Spirits &amp; Spells</td>\n",
       "      <td>GBA</td>\n",
       "      <td>2003.0</td>\n",
       "      <td>Platform</td>\n",
       "      <td>0.01</td>\n",
       "      <td>0.00</td>\n",
       "      <td>0.00</td>\n",
       "      <td>0.00</td>\n",
       "      <td>NaN</td>\n",
       "      <td>NaN</td>\n",
       "      <td>NaN</td>\n",
       "    </tr>\n",
       "    <tr>\n",
       "      <th>16714</th>\n",
       "      <td>Winning Post 8 2016</td>\n",
       "      <td>PSV</td>\n",
       "      <td>2016.0</td>\n",
       "      <td>Simulation</td>\n",
       "      <td>0.00</td>\n",
       "      <td>0.00</td>\n",
       "      <td>0.01</td>\n",
       "      <td>0.00</td>\n",
       "      <td>NaN</td>\n",
       "      <td>NaN</td>\n",
       "      <td>NaN</td>\n",
       "    </tr>\n",
       "  </tbody>\n",
       "</table>\n",
       "<p>16715 rows × 11 columns</p>\n",
       "</div>"
      ],
      "text/plain": [
       "                                Name Platform  Year_of_Release         Genre  \\\n",
       "0                         Wii Sports      Wii           2006.0        Sports   \n",
       "1                  Super Mario Bros.      NES           1985.0      Platform   \n",
       "2                     Mario Kart Wii      Wii           2008.0        Racing   \n",
       "3                  Wii Sports Resort      Wii           2009.0        Sports   \n",
       "4           Pokemon Red/Pokemon Blue       GB           1996.0  Role-Playing   \n",
       "...                              ...      ...              ...           ...   \n",
       "16710  Samurai Warriors: Sanada Maru      PS3           2016.0        Action   \n",
       "16711               LMA Manager 2007     X360           2006.0        Sports   \n",
       "16712        Haitaka no Psychedelica      PSV           2016.0     Adventure   \n",
       "16713               Spirits & Spells      GBA           2003.0      Platform   \n",
       "16714            Winning Post 8 2016      PSV           2016.0    Simulation   \n",
       "\n",
       "       NA_sales  EU_sales  JP_sales  Other_sales  Critic_Score User_Score  \\\n",
       "0         41.36     28.96      3.77         8.45          76.0          8   \n",
       "1         29.08      3.58      6.81         0.77           NaN        NaN   \n",
       "2         15.68     12.76      3.79         3.29          82.0        8.3   \n",
       "3         15.61     10.93      3.28         2.95          80.0          8   \n",
       "4         11.27      8.89     10.22         1.00           NaN        NaN   \n",
       "...         ...       ...       ...          ...           ...        ...   \n",
       "16710      0.00      0.00      0.01         0.00           NaN        NaN   \n",
       "16711      0.00      0.01      0.00         0.00           NaN        NaN   \n",
       "16712      0.00      0.00      0.01         0.00           NaN        NaN   \n",
       "16713      0.01      0.00      0.00         0.00           NaN        NaN   \n",
       "16714      0.00      0.00      0.01         0.00           NaN        NaN   \n",
       "\n",
       "      Rating  \n",
       "0          E  \n",
       "1        NaN  \n",
       "2          E  \n",
       "3          E  \n",
       "4        NaN  \n",
       "...      ...  \n",
       "16710    NaN  \n",
       "16711    NaN  \n",
       "16712    NaN  \n",
       "16713    NaN  \n",
       "16714    NaN  \n",
       "\n",
       "[16715 rows x 11 columns]"
      ]
     },
     "execution_count": 3,
     "metadata": {},
     "output_type": "execute_result"
    }
   ],
   "source": [
    "df.info(memory_usage='deep')\n",
    "df"
   ]
  },
  {
   "cell_type": "markdown",
   "metadata": {},
   "source": [
    "Этот фрейм состоит из 16715 строк и 11 столбцов. Столбцы содержат в себе данные по названию игры, игровой платформе, года выпуска, жанра, продажам в трёх странах (Северная Америка, Европа и Япония; продажи обозначаются в миллионах проданных копий), продажах в других странах, оценке критиков (максимум 100), оценке пользователей (максимум 10) и возрастного рейтинга. Данные предоставлены за 2016 год."
   ]
  },
  {
   "cell_type": "markdown",
   "metadata": {},
   "source": [
    "**Краткий план исследования.**\n",
    "* Подготовим данные:\n",
    "    * заменим названия столбцов (приведём их к нижнему регистру);\n",
    "    * преобразуем данные в нужный тип;\n",
    "    * при необходимости обработаем пропуски;\n",
    "    * посчитаем и добавим в отдельный столбец суммарные продажи во всех регионах.\n",
    "* Проведём исследовательский анализ:\n",
    "    * посмотрим, сколько игр выпускалось в разные годы;\n",
    "    * посмотрим, как менялись продажи по платформам и построим распределение по годам платформ с наибольшими суммарными продажами;\n",
    "    * возьмём данные за соответствующий актуальный период;\n",
    "    * выберем несколько потенциально прибыльных платформ;\n",
    "    * построим 'ящик с усами' по глобальным продажам игр в разбивке по платформам;\n",
    "    * посмотрим, как влияют на продажи внутри платформы отзывы пользователей и критиков;\n",
    "    * соотнесём выводы с продажами игр на других платформах;\n",
    "    * посмотрим на общее распределение игр по жанрам.\n",
    "* Составим портрет пользователя каждого региона (определим для пользователя каждого региона (NA, EU, JP)):\n",
    "    * самые популярные платформы (топ-5);\n",
    "    * самые популярные жанры (топ-5);\n",
    "    * определим, влияет ли рейтинг ESRB на продажи в отдельном регионе.\n",
    "* Проверим гипотезы:\n",
    "    * средние пользовательские рейтинги платформ Xbox One и PC одинаковые;\n",
    "    * средние пользовательские рейтинги жанров Action (англ. «действие», экшен-игры) и Sports (англ. «спортивные соревнования») разные."
   ]
  },
  {
   "cell_type": "markdown",
   "metadata": {},
   "source": [
    "<div class=\"alert alert-block alert-success\">\n",
    "<b>✅Комментарий ревьюера:</b> Отлично, с данными познакомились!  </div>"
   ]
  },
  {
   "cell_type": "markdown",
   "metadata": {},
   "source": [
    "## Подготовка данных."
   ]
  },
  {
   "cell_type": "markdown",
   "metadata": {},
   "source": [
    "### Замена названия столбцов."
   ]
  },
  {
   "cell_type": "code",
   "execution_count": 4,
   "metadata": {},
   "outputs": [],
   "source": [
    "df.columns = df.columns.str.lower() # переводим названия столбцов в нижний регистр"
   ]
  },
  {
   "cell_type": "markdown",
   "metadata": {},
   "source": [
    "<div class=\"alert alert-block alert-success\">\n",
    "<b>✅Комментарий ревьюера:</b> \n",
    "\n",
    "Также названия столбцов можно привести в нижнему регистру, если к `df.columns` применить метод `str.lower` ✔</div>\n",
    "\n",
    "```python\n",
    "\n",
    "                                    df.columns = df.columns.str.lower()\n",
    "    \n",
    "```"
   ]
  },
  {
   "cell_type": "markdown",
   "metadata": {},
   "source": [
    "<div class=\"alert alert-block alert-success\">\n",
    "<b>✅Комментарий ревьюера 2:</b> 👍  </div>"
   ]
  },
  {
   "cell_type": "code",
   "execution_count": 5,
   "metadata": {
    "scrolled": false
   },
   "outputs": [
    {
     "name": "stdout",
     "output_type": "stream",
     "text": [
      "<class 'pandas.core.frame.DataFrame'>\n",
      "RangeIndex: 16715 entries, 0 to 16714\n",
      "Data columns (total 11 columns):\n",
      " #   Column           Non-Null Count  Dtype  \n",
      "---  ------           --------------  -----  \n",
      " 0   name             16713 non-null  object \n",
      " 1   platform         16715 non-null  object \n",
      " 2   year_of_release  16446 non-null  float64\n",
      " 3   genre            16713 non-null  object \n",
      " 4   na_sales         16715 non-null  float64\n",
      " 5   eu_sales         16715 non-null  float64\n",
      " 6   jp_sales         16715 non-null  float64\n",
      " 7   other_sales      16715 non-null  float64\n",
      " 8   critic_score     8137 non-null   float64\n",
      " 9   user_score       10014 non-null  object \n",
      " 10  rating           9949 non-null   object \n",
      "dtypes: float64(6), object(5)\n",
      "memory usage: 1.4+ MB\n"
     ]
    }
   ],
   "source": [
    "df.info() # проверяем"
   ]
  },
  {
   "cell_type": "markdown",
   "metadata": {},
   "source": [
    "Теперь все столбцы в нижнем регистре."
   ]
  },
  {
   "cell_type": "markdown",
   "metadata": {},
   "source": [
    "### Обработка пропусков."
   ]
  },
  {
   "cell_type": "code",
   "execution_count": 6,
   "metadata": {
    "scrolled": false
   },
   "outputs": [
    {
     "data": {
      "text/plain": [
       "name                  2\n",
       "platform              0\n",
       "year_of_release     269\n",
       "genre                 2\n",
       "na_sales              0\n",
       "eu_sales              0\n",
       "jp_sales              0\n",
       "other_sales           0\n",
       "critic_score       8578\n",
       "user_score         6701\n",
       "rating             6766\n",
       "dtype: int64"
      ]
     },
     "metadata": {},
     "output_type": "display_data"
    },
    {
     "name": "stdout",
     "output_type": "stream",
     "text": [
      "Кол-во дубликатов: 0\n"
     ]
    }
   ],
   "source": [
    "display(df.isna().sum())\n",
    "print('Кол-во дубликатов:',df.duplicated().sum()) # проверим так же на дубликаты"
   ]
  },
  {
   "cell_type": "code",
   "execution_count": 7,
   "metadata": {
    "scrolled": true
   },
   "outputs": [
    {
     "data": {
      "text/html": [
       "<div>\n",
       "<style scoped>\n",
       "    .dataframe tbody tr th:only-of-type {\n",
       "        vertical-align: middle;\n",
       "    }\n",
       "\n",
       "    .dataframe tbody tr th {\n",
       "        vertical-align: top;\n",
       "    }\n",
       "\n",
       "    .dataframe thead th {\n",
       "        text-align: right;\n",
       "    }\n",
       "</style>\n",
       "<table border=\"1\" class=\"dataframe\">\n",
       "  <thead>\n",
       "    <tr style=\"text-align: right;\">\n",
       "      <th></th>\n",
       "      <th>name</th>\n",
       "      <th>platform</th>\n",
       "      <th>year_of_release</th>\n",
       "      <th>genre</th>\n",
       "      <th>na_sales</th>\n",
       "      <th>eu_sales</th>\n",
       "      <th>jp_sales</th>\n",
       "      <th>other_sales</th>\n",
       "      <th>critic_score</th>\n",
       "      <th>user_score</th>\n",
       "      <th>rating</th>\n",
       "    </tr>\n",
       "  </thead>\n",
       "  <tbody>\n",
       "    <tr>\n",
       "      <th>604</th>\n",
       "      <td>Madden NFL 13</td>\n",
       "      <td>PS3</td>\n",
       "      <td>2012.0</td>\n",
       "      <td>Sports</td>\n",
       "      <td>2.11</td>\n",
       "      <td>0.22</td>\n",
       "      <td>0.00</td>\n",
       "      <td>0.23</td>\n",
       "      <td>83.0</td>\n",
       "      <td>5.5</td>\n",
       "      <td>E</td>\n",
       "    </tr>\n",
       "    <tr>\n",
       "      <th>659</th>\n",
       "      <td>NaN</td>\n",
       "      <td>GEN</td>\n",
       "      <td>1993.0</td>\n",
       "      <td>NaN</td>\n",
       "      <td>1.78</td>\n",
       "      <td>0.53</td>\n",
       "      <td>0.00</td>\n",
       "      <td>0.08</td>\n",
       "      <td>NaN</td>\n",
       "      <td>NaN</td>\n",
       "      <td>NaN</td>\n",
       "    </tr>\n",
       "    <tr>\n",
       "      <th>14244</th>\n",
       "      <td>NaN</td>\n",
       "      <td>GEN</td>\n",
       "      <td>1993.0</td>\n",
       "      <td>NaN</td>\n",
       "      <td>0.00</td>\n",
       "      <td>0.00</td>\n",
       "      <td>0.03</td>\n",
       "      <td>0.00</td>\n",
       "      <td>NaN</td>\n",
       "      <td>NaN</td>\n",
       "      <td>NaN</td>\n",
       "    </tr>\n",
       "    <tr>\n",
       "      <th>16230</th>\n",
       "      <td>Madden NFL 13</td>\n",
       "      <td>PS3</td>\n",
       "      <td>2012.0</td>\n",
       "      <td>Sports</td>\n",
       "      <td>0.00</td>\n",
       "      <td>0.01</td>\n",
       "      <td>0.00</td>\n",
       "      <td>0.00</td>\n",
       "      <td>83.0</td>\n",
       "      <td>5.5</td>\n",
       "      <td>E</td>\n",
       "    </tr>\n",
       "  </tbody>\n",
       "</table>\n",
       "</div>"
      ],
      "text/plain": [
       "                name platform  year_of_release   genre  na_sales  eu_sales  \\\n",
       "604    Madden NFL 13      PS3           2012.0  Sports      2.11      0.22   \n",
       "659              NaN      GEN           1993.0     NaN      1.78      0.53   \n",
       "14244            NaN      GEN           1993.0     NaN      0.00      0.00   \n",
       "16230  Madden NFL 13      PS3           2012.0  Sports      0.00      0.01   \n",
       "\n",
       "       jp_sales  other_sales  critic_score user_score rating  \n",
       "604        0.00         0.23          83.0        5.5      E  \n",
       "659        0.00         0.08           NaN        NaN    NaN  \n",
       "14244      0.03         0.00           NaN        NaN    NaN  \n",
       "16230      0.00         0.00          83.0        5.5      E  "
      ]
     },
     "execution_count": 7,
     "metadata": {},
     "output_type": "execute_result"
    }
   ],
   "source": [
    "df[df[['name', 'platform', 'year_of_release']].duplicated(keep=False)]"
   ]
  },
  {
   "cell_type": "markdown",
   "metadata": {},
   "source": [
    "Проверка на неявные дубликаты выявили повторения двух игр. Удалим их."
   ]
  },
  {
   "cell_type": "code",
   "execution_count": 8,
   "metadata": {},
   "outputs": [
    {
     "data": {
      "text/plain": [
       "16715"
      ]
     },
     "metadata": {},
     "output_type": "display_data"
    },
    {
     "data": {
      "text/plain": [
       "16713"
      ]
     },
     "execution_count": 8,
     "metadata": {},
     "output_type": "execute_result"
    }
   ],
   "source": [
    "display(len(df))\n",
    "df.drop(df[df[['name', 'platform', 'year_of_release']].duplicated()].index, inplace=True)\n",
    "len(df) # проверяем"
   ]
  },
  {
   "cell_type": "markdown",
   "metadata": {},
   "source": [
    "<div class=\"alert alert-block alert-danger\">\n",
    "<b>❌Комментарий ревьюера:</b> \n",
    "    \n",
    "Также нужно обязательно сделать проверку на наличие неявных дубликатов (совпадающие по названию, платформе и году релиза одновременно).\n",
    "\n",
    "</div>"
   ]
  },
  {
   "cell_type": "markdown",
   "metadata": {},
   "source": [
    "<div class=\"alert alert-block alert-info\">\n",
    "<b>🔄Комментарий студента:</b> \n",
    "Дополнительно сделал проверку на неявные дубликаты.\n",
    "</div>"
   ]
  },
  {
   "cell_type": "markdown",
   "metadata": {},
   "source": [
    "<div class=\"alert alert-block alert-danger\">\n",
    "<b>❌Комментарий ревьюера 2:</b> \n",
    "    \n",
    "В комментарии выше я подчеркнул, что проверку неявных дубликатов необходимо делать по столбцам с названием, платформой и годом релиза **одновременно**\n",
    "\n",
    "</div>"
   ]
  },
  {
   "cell_type": "markdown",
   "metadata": {},
   "source": [
    "<div class=\"alert alert-block alert-info\">\n",
    "<b>🔄Комментарий студента 2:</b> \n",
    "Надеюсь, в этот раз я правильно тебя понял.\n",
    "</div>"
   ]
  },
  {
   "cell_type": "markdown",
   "metadata": {},
   "source": [
    "<div class=\"alert alert-block alert-success\">\n",
    "<b>✅Комментарий ревьюера 3:</b> Отлично, исправлено!👍  Да, все верно</div>"
   ]
  },
  {
   "cell_type": "code",
   "execution_count": 9,
   "metadata": {},
   "outputs": [],
   "source": [
    "df.dropna(subset=['name'], inplace=True) \n",
    "df.dropna(subset=['year_of_release'], inplace=True)\n",
    "df['rating'] = df['rating'].fillna('unknown')"
   ]
  },
  {
   "cell_type": "code",
   "execution_count": 10,
   "metadata": {
    "scrolled": false
   },
   "outputs": [
    {
     "data": {
      "text/html": [
       "<div>\n",
       "<style scoped>\n",
       "    .dataframe tbody tr th:only-of-type {\n",
       "        vertical-align: middle;\n",
       "    }\n",
       "\n",
       "    .dataframe tbody tr th {\n",
       "        vertical-align: top;\n",
       "    }\n",
       "\n",
       "    .dataframe thead th {\n",
       "        text-align: right;\n",
       "    }\n",
       "</style>\n",
       "<table border=\"1\" class=\"dataframe\">\n",
       "  <thead>\n",
       "    <tr style=\"text-align: right;\">\n",
       "      <th></th>\n",
       "      <th>name</th>\n",
       "      <th>platform</th>\n",
       "      <th>year_of_release</th>\n",
       "      <th>genre</th>\n",
       "      <th>na_sales</th>\n",
       "      <th>eu_sales</th>\n",
       "      <th>jp_sales</th>\n",
       "      <th>other_sales</th>\n",
       "      <th>critic_score</th>\n",
       "      <th>user_score</th>\n",
       "      <th>rating</th>\n",
       "    </tr>\n",
       "  </thead>\n",
       "  <tbody>\n",
       "    <tr>\n",
       "      <th>119</th>\n",
       "      <td>Zumba Fitness</td>\n",
       "      <td>Wii</td>\n",
       "      <td>2010.0</td>\n",
       "      <td>Sports</td>\n",
       "      <td>3.45</td>\n",
       "      <td>2.59</td>\n",
       "      <td>0.0</td>\n",
       "      <td>0.66</td>\n",
       "      <td>NaN</td>\n",
       "      <td>tbd</td>\n",
       "      <td>E</td>\n",
       "    </tr>\n",
       "    <tr>\n",
       "      <th>301</th>\n",
       "      <td>Namco Museum: 50th Anniversary</td>\n",
       "      <td>PS2</td>\n",
       "      <td>2005.0</td>\n",
       "      <td>Misc</td>\n",
       "      <td>2.08</td>\n",
       "      <td>1.35</td>\n",
       "      <td>0.0</td>\n",
       "      <td>0.54</td>\n",
       "      <td>61.0</td>\n",
       "      <td>tbd</td>\n",
       "      <td>E10+</td>\n",
       "    </tr>\n",
       "    <tr>\n",
       "      <th>520</th>\n",
       "      <td>Zumba Fitness 2</td>\n",
       "      <td>Wii</td>\n",
       "      <td>2011.0</td>\n",
       "      <td>Sports</td>\n",
       "      <td>1.51</td>\n",
       "      <td>1.03</td>\n",
       "      <td>0.0</td>\n",
       "      <td>0.27</td>\n",
       "      <td>NaN</td>\n",
       "      <td>tbd</td>\n",
       "      <td>T</td>\n",
       "    </tr>\n",
       "    <tr>\n",
       "      <th>645</th>\n",
       "      <td>uDraw Studio</td>\n",
       "      <td>Wii</td>\n",
       "      <td>2010.0</td>\n",
       "      <td>Misc</td>\n",
       "      <td>1.65</td>\n",
       "      <td>0.57</td>\n",
       "      <td>0.0</td>\n",
       "      <td>0.20</td>\n",
       "      <td>71.0</td>\n",
       "      <td>tbd</td>\n",
       "      <td>E</td>\n",
       "    </tr>\n",
       "    <tr>\n",
       "      <th>718</th>\n",
       "      <td>Just Dance Kids</td>\n",
       "      <td>Wii</td>\n",
       "      <td>2010.0</td>\n",
       "      <td>Misc</td>\n",
       "      <td>1.52</td>\n",
       "      <td>0.54</td>\n",
       "      <td>0.0</td>\n",
       "      <td>0.18</td>\n",
       "      <td>NaN</td>\n",
       "      <td>tbd</td>\n",
       "      <td>E</td>\n",
       "    </tr>\n",
       "    <tr>\n",
       "      <th>...</th>\n",
       "      <td>...</td>\n",
       "      <td>...</td>\n",
       "      <td>...</td>\n",
       "      <td>...</td>\n",
       "      <td>...</td>\n",
       "      <td>...</td>\n",
       "      <td>...</td>\n",
       "      <td>...</td>\n",
       "      <td>...</td>\n",
       "      <td>...</td>\n",
       "      <td>...</td>\n",
       "    </tr>\n",
       "    <tr>\n",
       "      <th>16695</th>\n",
       "      <td>Planet Monsters</td>\n",
       "      <td>GBA</td>\n",
       "      <td>2001.0</td>\n",
       "      <td>Action</td>\n",
       "      <td>0.01</td>\n",
       "      <td>0.00</td>\n",
       "      <td>0.0</td>\n",
       "      <td>0.00</td>\n",
       "      <td>67.0</td>\n",
       "      <td>tbd</td>\n",
       "      <td>E</td>\n",
       "    </tr>\n",
       "    <tr>\n",
       "      <th>16697</th>\n",
       "      <td>Bust-A-Move 3000</td>\n",
       "      <td>GC</td>\n",
       "      <td>2003.0</td>\n",
       "      <td>Puzzle</td>\n",
       "      <td>0.01</td>\n",
       "      <td>0.00</td>\n",
       "      <td>0.0</td>\n",
       "      <td>0.00</td>\n",
       "      <td>53.0</td>\n",
       "      <td>tbd</td>\n",
       "      <td>E</td>\n",
       "    </tr>\n",
       "    <tr>\n",
       "      <th>16698</th>\n",
       "      <td>Mega Brain Boost</td>\n",
       "      <td>DS</td>\n",
       "      <td>2008.0</td>\n",
       "      <td>Puzzle</td>\n",
       "      <td>0.01</td>\n",
       "      <td>0.00</td>\n",
       "      <td>0.0</td>\n",
       "      <td>0.00</td>\n",
       "      <td>48.0</td>\n",
       "      <td>tbd</td>\n",
       "      <td>E</td>\n",
       "    </tr>\n",
       "    <tr>\n",
       "      <th>16704</th>\n",
       "      <td>Plushees</td>\n",
       "      <td>DS</td>\n",
       "      <td>2008.0</td>\n",
       "      <td>Simulation</td>\n",
       "      <td>0.01</td>\n",
       "      <td>0.00</td>\n",
       "      <td>0.0</td>\n",
       "      <td>0.00</td>\n",
       "      <td>NaN</td>\n",
       "      <td>tbd</td>\n",
       "      <td>E</td>\n",
       "    </tr>\n",
       "    <tr>\n",
       "      <th>16706</th>\n",
       "      <td>Men in Black II: Alien Escape</td>\n",
       "      <td>GC</td>\n",
       "      <td>2003.0</td>\n",
       "      <td>Shooter</td>\n",
       "      <td>0.01</td>\n",
       "      <td>0.00</td>\n",
       "      <td>0.0</td>\n",
       "      <td>0.00</td>\n",
       "      <td>NaN</td>\n",
       "      <td>tbd</td>\n",
       "      <td>T</td>\n",
       "    </tr>\n",
       "  </tbody>\n",
       "</table>\n",
       "<p>2376 rows × 11 columns</p>\n",
       "</div>"
      ],
      "text/plain": [
       "                                 name platform  year_of_release       genre  \\\n",
       "119                     Zumba Fitness      Wii           2010.0      Sports   \n",
       "301    Namco Museum: 50th Anniversary      PS2           2005.0        Misc   \n",
       "520                   Zumba Fitness 2      Wii           2011.0      Sports   \n",
       "645                      uDraw Studio      Wii           2010.0        Misc   \n",
       "718                   Just Dance Kids      Wii           2010.0        Misc   \n",
       "...                               ...      ...              ...         ...   \n",
       "16695                 Planet Monsters      GBA           2001.0      Action   \n",
       "16697                Bust-A-Move 3000       GC           2003.0      Puzzle   \n",
       "16698                Mega Brain Boost       DS           2008.0      Puzzle   \n",
       "16704                        Plushees       DS           2008.0  Simulation   \n",
       "16706   Men in Black II: Alien Escape       GC           2003.0     Shooter   \n",
       "\n",
       "       na_sales  eu_sales  jp_sales  other_sales  critic_score user_score  \\\n",
       "119        3.45      2.59       0.0         0.66           NaN        tbd   \n",
       "301        2.08      1.35       0.0         0.54          61.0        tbd   \n",
       "520        1.51      1.03       0.0         0.27           NaN        tbd   \n",
       "645        1.65      0.57       0.0         0.20          71.0        tbd   \n",
       "718        1.52      0.54       0.0         0.18           NaN        tbd   \n",
       "...         ...       ...       ...          ...           ...        ...   \n",
       "16695      0.01      0.00       0.0         0.00          67.0        tbd   \n",
       "16697      0.01      0.00       0.0         0.00          53.0        tbd   \n",
       "16698      0.01      0.00       0.0         0.00          48.0        tbd   \n",
       "16704      0.01      0.00       0.0         0.00           NaN        tbd   \n",
       "16706      0.01      0.00       0.0         0.00           NaN        tbd   \n",
       "\n",
       "      rating  \n",
       "119        E  \n",
       "301     E10+  \n",
       "520        T  \n",
       "645        E  \n",
       "718        E  \n",
       "...      ...  \n",
       "16695      E  \n",
       "16697      E  \n",
       "16698      E  \n",
       "16704      E  \n",
       "16706      T  \n",
       "\n",
       "[2376 rows x 11 columns]"
      ]
     },
     "execution_count": 10,
     "metadata": {},
     "output_type": "execute_result"
    }
   ],
   "source": [
    "df.loc[df['user_score'] == 'tbd']"
   ]
  },
  {
   "cell_type": "code",
   "execution_count": 11,
   "metadata": {},
   "outputs": [],
   "source": [
    "df.loc[df['user_score'] == 'tbd', 'user_score'] = float('nan')\n",
    "# df.loc[df['user_score'] == 'tbd'] # проверим"
   ]
  },
  {
   "cell_type": "markdown",
   "metadata": {},
   "source": [
    "<div class=\"alert alert-block alert-success\">\n",
    "<b>✅Комментарий ревьюера:</b> Верное решение.</div>"
   ]
  },
  {
   "cell_type": "code",
   "execution_count": 12,
   "metadata": {},
   "outputs": [
    {
     "data": {
      "text/plain": [
       "name                  0\n",
       "platform              0\n",
       "year_of_release       0\n",
       "genre                 0\n",
       "na_sales              0\n",
       "eu_sales              0\n",
       "jp_sales              0\n",
       "other_sales           0\n",
       "critic_score       8461\n",
       "user_score         8981\n",
       "rating                0\n",
       "dtype: int64"
      ]
     },
     "execution_count": 12,
     "metadata": {},
     "output_type": "execute_result"
    }
   ],
   "source": [
    "df.isna().sum()"
   ]
  },
  {
   "cell_type": "markdown",
   "metadata": {},
   "source": [
    "Строки с пропусками в названии игры мы просто удалили, т.к. их всего 2, и восстановить название мы не сможем. Пропуски в жанре так же ушли, значит пропуски были в тех же строках, что и у названий игр. Так же поступили с пропусками в year_of_release, пропусков там около 300, поэтому без вреда исследованию можем так поступить. Пропуски в оценках оставим, т.к. игра могла не оцениваться и вовсе. Удалили два неявных дубликата. Что касаемо tbd (используется, если какая-то информация еще не определена или решение по вопросу не принято) в строках с рейтингом, мы их так же заменили на NaN."
   ]
  },
  {
   "cell_type": "markdown",
   "metadata": {},
   "source": [
    "### Преобразование данных в нужный тип."
   ]
  },
  {
   "cell_type": "code",
   "execution_count": 13,
   "metadata": {},
   "outputs": [],
   "source": [
    "df['year_of_release'] = df['year_of_release'].astype(int)\n",
    "df['user_score'] = df['user_score'].astype(float)"
   ]
  },
  {
   "cell_type": "code",
   "execution_count": 14,
   "metadata": {},
   "outputs": [
    {
     "data": {
      "text/html": [
       "<div>\n",
       "<style scoped>\n",
       "    .dataframe tbody tr th:only-of-type {\n",
       "        vertical-align: middle;\n",
       "    }\n",
       "\n",
       "    .dataframe tbody tr th {\n",
       "        vertical-align: top;\n",
       "    }\n",
       "\n",
       "    .dataframe thead th {\n",
       "        text-align: right;\n",
       "    }\n",
       "</style>\n",
       "<table border=\"1\" class=\"dataframe\">\n",
       "  <thead>\n",
       "    <tr style=\"text-align: right;\">\n",
       "      <th></th>\n",
       "      <th>name</th>\n",
       "      <th>platform</th>\n",
       "      <th>year_of_release</th>\n",
       "      <th>genre</th>\n",
       "      <th>na_sales</th>\n",
       "      <th>eu_sales</th>\n",
       "      <th>jp_sales</th>\n",
       "      <th>other_sales</th>\n",
       "      <th>critic_score</th>\n",
       "      <th>user_score</th>\n",
       "      <th>rating</th>\n",
       "    </tr>\n",
       "  </thead>\n",
       "  <tbody>\n",
       "    <tr>\n",
       "      <th>0</th>\n",
       "      <td>Wii Sports</td>\n",
       "      <td>Wii</td>\n",
       "      <td>2006</td>\n",
       "      <td>Sports</td>\n",
       "      <td>41.36</td>\n",
       "      <td>28.96</td>\n",
       "      <td>3.77</td>\n",
       "      <td>8.45</td>\n",
       "      <td>76.0</td>\n",
       "      <td>8.0</td>\n",
       "      <td>E</td>\n",
       "    </tr>\n",
       "    <tr>\n",
       "      <th>1</th>\n",
       "      <td>Super Mario Bros.</td>\n",
       "      <td>NES</td>\n",
       "      <td>1985</td>\n",
       "      <td>Platform</td>\n",
       "      <td>29.08</td>\n",
       "      <td>3.58</td>\n",
       "      <td>6.81</td>\n",
       "      <td>0.77</td>\n",
       "      <td>NaN</td>\n",
       "      <td>NaN</td>\n",
       "      <td>unknown</td>\n",
       "    </tr>\n",
       "    <tr>\n",
       "      <th>2</th>\n",
       "      <td>Mario Kart Wii</td>\n",
       "      <td>Wii</td>\n",
       "      <td>2008</td>\n",
       "      <td>Racing</td>\n",
       "      <td>15.68</td>\n",
       "      <td>12.76</td>\n",
       "      <td>3.79</td>\n",
       "      <td>3.29</td>\n",
       "      <td>82.0</td>\n",
       "      <td>8.3</td>\n",
       "      <td>E</td>\n",
       "    </tr>\n",
       "    <tr>\n",
       "      <th>3</th>\n",
       "      <td>Wii Sports Resort</td>\n",
       "      <td>Wii</td>\n",
       "      <td>2009</td>\n",
       "      <td>Sports</td>\n",
       "      <td>15.61</td>\n",
       "      <td>10.93</td>\n",
       "      <td>3.28</td>\n",
       "      <td>2.95</td>\n",
       "      <td>80.0</td>\n",
       "      <td>8.0</td>\n",
       "      <td>E</td>\n",
       "    </tr>\n",
       "    <tr>\n",
       "      <th>4</th>\n",
       "      <td>Pokemon Red/Pokemon Blue</td>\n",
       "      <td>GB</td>\n",
       "      <td>1996</td>\n",
       "      <td>Role-Playing</td>\n",
       "      <td>11.27</td>\n",
       "      <td>8.89</td>\n",
       "      <td>10.22</td>\n",
       "      <td>1.00</td>\n",
       "      <td>NaN</td>\n",
       "      <td>NaN</td>\n",
       "      <td>unknown</td>\n",
       "    </tr>\n",
       "    <tr>\n",
       "      <th>...</th>\n",
       "      <td>...</td>\n",
       "      <td>...</td>\n",
       "      <td>...</td>\n",
       "      <td>...</td>\n",
       "      <td>...</td>\n",
       "      <td>...</td>\n",
       "      <td>...</td>\n",
       "      <td>...</td>\n",
       "      <td>...</td>\n",
       "      <td>...</td>\n",
       "      <td>...</td>\n",
       "    </tr>\n",
       "    <tr>\n",
       "      <th>16710</th>\n",
       "      <td>Samurai Warriors: Sanada Maru</td>\n",
       "      <td>PS3</td>\n",
       "      <td>2016</td>\n",
       "      <td>Action</td>\n",
       "      <td>0.00</td>\n",
       "      <td>0.00</td>\n",
       "      <td>0.01</td>\n",
       "      <td>0.00</td>\n",
       "      <td>NaN</td>\n",
       "      <td>NaN</td>\n",
       "      <td>unknown</td>\n",
       "    </tr>\n",
       "    <tr>\n",
       "      <th>16711</th>\n",
       "      <td>LMA Manager 2007</td>\n",
       "      <td>X360</td>\n",
       "      <td>2006</td>\n",
       "      <td>Sports</td>\n",
       "      <td>0.00</td>\n",
       "      <td>0.01</td>\n",
       "      <td>0.00</td>\n",
       "      <td>0.00</td>\n",
       "      <td>NaN</td>\n",
       "      <td>NaN</td>\n",
       "      <td>unknown</td>\n",
       "    </tr>\n",
       "    <tr>\n",
       "      <th>16712</th>\n",
       "      <td>Haitaka no Psychedelica</td>\n",
       "      <td>PSV</td>\n",
       "      <td>2016</td>\n",
       "      <td>Adventure</td>\n",
       "      <td>0.00</td>\n",
       "      <td>0.00</td>\n",
       "      <td>0.01</td>\n",
       "      <td>0.00</td>\n",
       "      <td>NaN</td>\n",
       "      <td>NaN</td>\n",
       "      <td>unknown</td>\n",
       "    </tr>\n",
       "    <tr>\n",
       "      <th>16713</th>\n",
       "      <td>Spirits &amp; Spells</td>\n",
       "      <td>GBA</td>\n",
       "      <td>2003</td>\n",
       "      <td>Platform</td>\n",
       "      <td>0.01</td>\n",
       "      <td>0.00</td>\n",
       "      <td>0.00</td>\n",
       "      <td>0.00</td>\n",
       "      <td>NaN</td>\n",
       "      <td>NaN</td>\n",
       "      <td>unknown</td>\n",
       "    </tr>\n",
       "    <tr>\n",
       "      <th>16714</th>\n",
       "      <td>Winning Post 8 2016</td>\n",
       "      <td>PSV</td>\n",
       "      <td>2016</td>\n",
       "      <td>Simulation</td>\n",
       "      <td>0.00</td>\n",
       "      <td>0.00</td>\n",
       "      <td>0.01</td>\n",
       "      <td>0.00</td>\n",
       "      <td>NaN</td>\n",
       "      <td>NaN</td>\n",
       "      <td>unknown</td>\n",
       "    </tr>\n",
       "  </tbody>\n",
       "</table>\n",
       "<p>16443 rows × 11 columns</p>\n",
       "</div>"
      ],
      "text/plain": [
       "                                name platform  year_of_release         genre  \\\n",
       "0                         Wii Sports      Wii             2006        Sports   \n",
       "1                  Super Mario Bros.      NES             1985      Platform   \n",
       "2                     Mario Kart Wii      Wii             2008        Racing   \n",
       "3                  Wii Sports Resort      Wii             2009        Sports   \n",
       "4           Pokemon Red/Pokemon Blue       GB             1996  Role-Playing   \n",
       "...                              ...      ...              ...           ...   \n",
       "16710  Samurai Warriors: Sanada Maru      PS3             2016        Action   \n",
       "16711               LMA Manager 2007     X360             2006        Sports   \n",
       "16712        Haitaka no Psychedelica      PSV             2016     Adventure   \n",
       "16713               Spirits & Spells      GBA             2003      Platform   \n",
       "16714            Winning Post 8 2016      PSV             2016    Simulation   \n",
       "\n",
       "       na_sales  eu_sales  jp_sales  other_sales  critic_score  user_score  \\\n",
       "0         41.36     28.96      3.77         8.45          76.0         8.0   \n",
       "1         29.08      3.58      6.81         0.77           NaN         NaN   \n",
       "2         15.68     12.76      3.79         3.29          82.0         8.3   \n",
       "3         15.61     10.93      3.28         2.95          80.0         8.0   \n",
       "4         11.27      8.89     10.22         1.00           NaN         NaN   \n",
       "...         ...       ...       ...          ...           ...         ...   \n",
       "16710      0.00      0.00      0.01         0.00           NaN         NaN   \n",
       "16711      0.00      0.01      0.00         0.00           NaN         NaN   \n",
       "16712      0.00      0.00      0.01         0.00           NaN         NaN   \n",
       "16713      0.01      0.00      0.00         0.00           NaN         NaN   \n",
       "16714      0.00      0.00      0.01         0.00           NaN         NaN   \n",
       "\n",
       "        rating  \n",
       "0            E  \n",
       "1      unknown  \n",
       "2            E  \n",
       "3            E  \n",
       "4      unknown  \n",
       "...        ...  \n",
       "16710  unknown  \n",
       "16711  unknown  \n",
       "16712  unknown  \n",
       "16713  unknown  \n",
       "16714  unknown  \n",
       "\n",
       "[16443 rows x 11 columns]"
      ]
     },
     "execution_count": 14,
     "metadata": {},
     "output_type": "execute_result"
    }
   ],
   "source": [
    "df"
   ]
  },
  {
   "cell_type": "code",
   "execution_count": 15,
   "metadata": {},
   "outputs": [
    {
     "name": "stdout",
     "output_type": "stream",
     "text": [
      "<class 'pandas.core.frame.DataFrame'>\n",
      "Int64Index: 16443 entries, 0 to 16714\n",
      "Data columns (total 11 columns):\n",
      " #   Column           Non-Null Count  Dtype  \n",
      "---  ------           --------------  -----  \n",
      " 0   name             16443 non-null  object \n",
      " 1   platform         16443 non-null  object \n",
      " 2   year_of_release  16443 non-null  int64  \n",
      " 3   genre            16443 non-null  object \n",
      " 4   na_sales         16443 non-null  float64\n",
      " 5   eu_sales         16443 non-null  float64\n",
      " 6   jp_sales         16443 non-null  float64\n",
      " 7   other_sales      16443 non-null  float64\n",
      " 8   critic_score     7982 non-null   float64\n",
      " 9   user_score       7462 non-null   float64\n",
      " 10  rating           16443 non-null  object \n",
      "dtypes: float64(6), int64(1), object(4)\n",
      "memory usage: 5.2 MB\n"
     ]
    }
   ],
   "source": [
    "df.info(memory_usage='deep')"
   ]
  },
  {
   "cell_type": "markdown",
   "metadata": {},
   "source": [
    "Столбец с датой релиза перевели в целочисленный формат, т.к. там хранится лишь год, а ему не нужен формат с плавающей точкой. Столбец с оценкой пользователей перевели в формат плавающей точки."
   ]
  },
  {
   "cell_type": "markdown",
   "metadata": {},
   "source": [
    "### Суммарные продажи во всех регионах."
   ]
  },
  {
   "cell_type": "code",
   "execution_count": 16,
   "metadata": {},
   "outputs": [],
   "source": [
    "df['total_sales'] = df[['na_sales', 'eu_sales', 'jp_sales', 'other_sales']].sum(axis=1)\n",
    "# df.head() # проверим"
   ]
  },
  {
   "cell_type": "markdown",
   "metadata": {},
   "source": [
    "<div class=\"alert alert-block alert-success\">\n",
    "<b>✅Комментарий ревьюера:</b> \n",
    "    \n",
    "Еще тут можно использовать метод `DataFrame.sum` с аргументом `axis=1` ✔</div>\n",
    "\n",
    "```python\n",
    "\n",
    "        df['total_sum'] = df[['value_1', 'value_2', 'value_3', 'value_4']].sum(axis=1)\n",
    "    \n",
    "```"
   ]
  },
  {
   "cell_type": "markdown",
   "metadata": {},
   "source": [
    "## Исследовательский анализ данных."
   ]
  },
  {
   "cell_type": "markdown",
   "metadata": {},
   "source": [
    "### Релизы игр по годам."
   ]
  },
  {
   "cell_type": "code",
   "execution_count": 17,
   "metadata": {},
   "outputs": [
    {
     "data": {
      "text/plain": [
       "year_of_release\n",
       "1980       9\n",
       "1981      46\n",
       "1982      36\n",
       "1983      17\n",
       "1984      14\n",
       "1985      14\n",
       "1986      21\n",
       "1987      16\n",
       "1988      15\n",
       "1989      17\n",
       "1990      16\n",
       "1991      41\n",
       "1992      43\n",
       "1993      60\n",
       "1994     121\n",
       "1995     219\n",
       "1996     263\n",
       "1997     289\n",
       "1998     379\n",
       "1999     338\n",
       "2000     350\n",
       "2001     482\n",
       "2002     829\n",
       "2003     775\n",
       "2004     762\n",
       "2005     939\n",
       "2006    1006\n",
       "2007    1197\n",
       "2008    1427\n",
       "2009    1426\n",
       "2010    1255\n",
       "2011    1136\n",
       "2012     652\n",
       "2013     544\n",
       "2014     581\n",
       "2015     606\n",
       "2016     502\n",
       "Name: name, dtype: int64"
      ]
     },
     "execution_count": 17,
     "metadata": {},
     "output_type": "execute_result"
    }
   ],
   "source": [
    "df.groupby('year_of_release')['name'].count()"
   ]
  },
  {
   "cell_type": "code",
   "execution_count": 18,
   "metadata": {},
   "outputs": [
    {
     "data": {
      "image/png": "[encoded data removed]",
      "text/plain": [
       "<Figure size 1080x360 with 1 Axes>"
      ]
     },
     "metadata": {
      "needs_background": "light"
     },
     "output_type": "display_data"
    }
   ],
   "source": [
    "df.groupby('year_of_release')['name'].count().plot(kind = 'bar', figsize = (15,5), grid = True)\n",
    "plt.title('Кол-во релизов по годам.')\n",
    "plt.xlabel('Год релиза.')\n",
    "plt.ylabel('Кол-во релизов.')\n",
    "plt.show()"
   ]
  },
  {
   "cell_type": "markdown",
   "metadata": {},
   "source": [
    "<div class=\"alert alert-block alert-success\">\n",
    "<b>✅Комментарий ревьюера:</b> Молодец ,что подписываешь графики и оси! </div>"
   ]
  },
  {
   "cell_type": "markdown",
   "metadata": {},
   "source": [
    "До 2002 года наблюдается планый рост по релизам игры, затем (начиная с 2002) идёт резкий рост релизов, что связано с доступностью игровых платформ широким массам, а так же сильный скачок в развитии информационных технологий. Резкий спад с 2012 года может быть обусловлен тем, что игры стали создаваться намного дольше в связи с тем же развитием IT или из-за активного развития мобильных игр.\n",
    "\n",
    "Считаю, что для точности исследования стоит учитывать как раз таки этот период (2012-2016), т.к. развитие технологий того периода максимально актуально для прогнозируемого 2017 года."
   ]
  },
  {
   "cell_type": "markdown",
   "metadata": {},
   "source": [
    "### Изменения в продажах по платформам."
   ]
  },
  {
   "cell_type": "code",
   "execution_count": 19,
   "metadata": {},
   "outputs": [],
   "source": [
    "df_new = df[df['year_of_release'] > 1994] \n",
    "# убрали все значения до 1995 для лучшей читаемости графика, игр до 1995 было очень мало"
   ]
  },
  {
   "cell_type": "code",
   "execution_count": 20,
   "metadata": {
    "scrolled": false
   },
   "outputs": [
    {
     "data": {
      "image/png": "[encoded data removed]",
      "text/plain": [
       "<Figure size 1440x1080 with 1 Axes>"
      ]
     },
     "metadata": {
      "needs_background": "light"
     },
     "output_type": "display_data"
    }
   ],
   "source": [
    "df_for_hm = df_new.pivot_table(index='platform', values='total_sales', columns = 'year_of_release', aggfunc = 'count')\n",
    "plt.figure(figsize=(20, 15))\n",
    "sns.heatmap(df_for_hm, annot=True, cmap= 'coolwarm',fmt ='.3g', linewidths=3, cbar=False)\n",
    "plt.title('Объём продаж игр в год от каждой платформы.')\n",
    "plt.xlabel('Год.')\n",
    "plt.ylabel('Платформа.')\n",
    "plt.show()"
   ]
  },
  {
   "cell_type": "markdown",
   "metadata": {},
   "source": [
    "<div class=\"alert alert-block alert-success\">\n",
    "<b>✅Комментарий ревьюера:</b> Отлично!Очень наглядно! </div>"
   ]
  },
  {
   "cell_type": "markdown",
   "metadata": {},
   "source": [
    "На этом графике прекрасно видны взлёты и падения каждой платформы. Это всё обусловлено появлением платформ нового поколения, что можно проследить на примере PS. Приставка вышла в свет 3 декабря 1994 года в Японии (хоть мы и взяли данные с 1995, мы не так сильно потеряли от этого). Мы видим пик продаж в 1998, начиная с 1999 (как раз в марте этого года объявили о разработке PS2) наблюдается спад продаж на это поколение, а с 2000 шло наращивание объёма продаж на новое поколение. Такую же историю пережила и PS3. Выпущенная приставка со временем полностью вытеснила PS2. Всё тоже самое и с PS4, но она ещё только набирает обороты."
   ]
  },
  {
   "cell_type": "code",
   "execution_count": 21,
   "metadata": {},
   "outputs": [],
   "source": [
    "def top_plot(df):\n",
    "    df.pivot_table(index='year_of_release', columns='platform', values='total_sales',aggfunc=(\"sum\")).plot(grid=True,\n",
    "    figsize=(20, 5), fontsize=(14))\n",
    "# создали функцию для построения графиков"
   ]
  },
  {
   "cell_type": "code",
   "execution_count": 22,
   "metadata": {},
   "outputs": [],
   "source": [
    "top_df = df_new.groupby('platform')['total_sales'].agg(sum).sort_values(ascending=False).head(10).reset_index()\n",
    "top_df = list(top_df['platform'])\n",
    "top_df = df_new.query('platform in @top_df')\n",
    "# создали список с топ 10 платформами по продажам"
   ]
  },
  {
   "cell_type": "code",
   "execution_count": 23,
   "metadata": {
    "scrolled": true
   },
   "outputs": [
    {
     "data": {
      "image/png": "[encoded data removed]",
      "text/plain": [
       "<Figure size 1440x360 with 1 Axes>"
      ]
     },
     "metadata": {
      "needs_background": "light"
     },
     "output_type": "display_data"
    }
   ],
   "source": [
    "top_plot(top_df)\n",
    "plt.title('Объём продаж топ-10 платформ.')\n",
    "plt.ylabel('Объем продаж.')\n",
    "plt.xlabel('Год.')\n",
    "plt.show()"
   ]
  },
  {
   "cell_type": "markdown",
   "metadata": {},
   "source": [
    "На этом графике так же прекрасно видно развитие PS. Но на фоне всех остальных из топа можно выделить PS2, с объёмом продаж дважды перевалившем за 200 млн. PS3 не смогла добиться подобного результата, вся надежда на PS4. Что касаемо остальных, лишь WII смог однажды в 2009 году приблизиться к результат PS2. Х360, выпущенный на год раньше PS3, в дальнейшем смог неплохо конкурировать с PS3, уступив ему лишь после достижения своего пика."
   ]
  },
  {
   "cell_type": "code",
   "execution_count": 24,
   "metadata": {},
   "outputs": [
    {
     "name": "stdout",
     "output_type": "stream",
     "text": [
      "Средняя продолжительсность существования платформ: 6 лет.\n"
     ]
    }
   ],
   "source": [
    "life_expectancy = (df.groupby('platform')['year_of_release'].max() - \n",
    "                   df.groupby('platform')['year_of_release'].min()).reset_index()\n",
    "life_expectancy.columns = ['platform', 'delta_year']\n",
    "print('Средняя продолжительсность существования платформ:', round(life_expectancy['delta_year'].median()),'лет.')"
   ]
  },
  {
   "cell_type": "markdown",
   "metadata": {},
   "source": [
    "<div class=\"alert alert-block alert-success\">\n",
    "<b>✅Комментарий ревьюера:</b>\n",
    "\n",
    "Здорово, что еще расчитал средний срок жизни платформ!</div>"
   ]
  },
  {
   "cell_type": "markdown",
   "metadata": {},
   "source": [
    "Приняли решение рассматривать данные с 1995 года, т.к. игр до этого периода было выпущено крайне мало, ввиду недостаточного развития технологий и малой вариативности игровых платформ. Рассмотрели хитмап по объёмам продаж всех платформ за всё время и выявили топ-10 по продажам. И на основе всех этих данных, а так же рассчитанной средней продолжительснотью жизни платформ, за актуальный период примем 2012-2016, т.е. последние 5 лет."
   ]
  },
  {
   "cell_type": "markdown",
   "metadata": {},
   "source": [
    "### Потенциально прибыльные платформы."
   ]
  },
  {
   "cell_type": "code",
   "execution_count": 25,
   "metadata": {},
   "outputs": [],
   "source": [
    "actual_df = df.query('year_of_release >= 2012') # сделаем срез с данными за актуальный период"
   ]
  },
  {
   "cell_type": "markdown",
   "metadata": {},
   "source": [
    "<div class=\"alert alert-block alert-success\">\n",
    "<b>✅Комментарий ревьюера:</b> Согласен с выбранным актуальным периодом! </div>"
   ]
  },
  {
   "cell_type": "code",
   "execution_count": 26,
   "metadata": {},
   "outputs": [
    {
     "data": {
      "text/html": [
       "<div>\n",
       "<style scoped>\n",
       "    .dataframe tbody tr th:only-of-type {\n",
       "        vertical-align: middle;\n",
       "    }\n",
       "\n",
       "    .dataframe tbody tr th {\n",
       "        vertical-align: top;\n",
       "    }\n",
       "\n",
       "    .dataframe thead th {\n",
       "        text-align: right;\n",
       "    }\n",
       "</style>\n",
       "<table border=\"1\" class=\"dataframe\">\n",
       "  <thead>\n",
       "    <tr style=\"text-align: right;\">\n",
       "      <th></th>\n",
       "      <th>name</th>\n",
       "      <th>total_sales</th>\n",
       "    </tr>\n",
       "    <tr>\n",
       "      <th>platform</th>\n",
       "      <th></th>\n",
       "      <th></th>\n",
       "    </tr>\n",
       "  </thead>\n",
       "  <tbody>\n",
       "    <tr>\n",
       "      <th>PS4</th>\n",
       "      <td>392</td>\n",
       "      <td>314.14</td>\n",
       "    </tr>\n",
       "    <tr>\n",
       "      <th>PS3</th>\n",
       "      <td>492</td>\n",
       "      <td>288.78</td>\n",
       "    </tr>\n",
       "    <tr>\n",
       "      <th>X360</th>\n",
       "      <td>292</td>\n",
       "      <td>236.54</td>\n",
       "    </tr>\n",
       "    <tr>\n",
       "      <th>3DS</th>\n",
       "      <td>396</td>\n",
       "      <td>194.61</td>\n",
       "    </tr>\n",
       "    <tr>\n",
       "      <th>XOne</th>\n",
       "      <td>247</td>\n",
       "      <td>159.32</td>\n",
       "    </tr>\n",
       "    <tr>\n",
       "      <th>WiiU</th>\n",
       "      <td>147</td>\n",
       "      <td>82.19</td>\n",
       "    </tr>\n",
       "    <tr>\n",
       "      <th>PC</th>\n",
       "      <td>250</td>\n",
       "      <td>62.65</td>\n",
       "    </tr>\n",
       "    <tr>\n",
       "      <th>PSV</th>\n",
       "      <td>411</td>\n",
       "      <td>49.18</td>\n",
       "    </tr>\n",
       "    <tr>\n",
       "      <th>Wii</th>\n",
       "      <td>54</td>\n",
       "      <td>35.37</td>\n",
       "    </tr>\n",
       "    <tr>\n",
       "      <th>DS</th>\n",
       "      <td>31</td>\n",
       "      <td>12.55</td>\n",
       "    </tr>\n",
       "    <tr>\n",
       "      <th>PSP</th>\n",
       "      <td>173</td>\n",
       "      <td>11.19</td>\n",
       "    </tr>\n",
       "  </tbody>\n",
       "</table>\n",
       "</div>"
      ],
      "text/plain": [
       "          name  total_sales\n",
       "platform                   \n",
       "PS4        392       314.14\n",
       "PS3        492       288.78\n",
       "X360       292       236.54\n",
       "3DS        396       194.61\n",
       "XOne       247       159.32\n",
       "WiiU       147        82.19\n",
       "PC         250        62.65\n",
       "PSV        411        49.18\n",
       "Wii         54        35.37\n",
       "DS          31        12.55\n",
       "PSP        173        11.19"
      ]
     },
     "execution_count": 26,
     "metadata": {},
     "output_type": "execute_result"
    }
   ],
   "source": [
    "actual_platform = actual_df.groupby('platform').agg({'name': 'count', 'total_sales': 'sum'})\\\n",
    ".sort_values(by = 'total_sales', ascending = False)\n",
    "actual_platform"
   ]
  },
  {
   "cell_type": "code",
   "execution_count": 27,
   "metadata": {},
   "outputs": [
    {
     "data": {
      "text/html": [
       "<div>\n",
       "<style scoped>\n",
       "    .dataframe tbody tr th:only-of-type {\n",
       "        vertical-align: middle;\n",
       "    }\n",
       "\n",
       "    .dataframe tbody tr th {\n",
       "        vertical-align: top;\n",
       "    }\n",
       "\n",
       "    .dataframe thead th {\n",
       "        text-align: right;\n",
       "    }\n",
       "</style>\n",
       "<table border=\"1\" class=\"dataframe\">\n",
       "  <thead>\n",
       "    <tr style=\"text-align: right;\">\n",
       "      <th>year_of_release</th>\n",
       "      <th>2012</th>\n",
       "      <th>2013</th>\n",
       "      <th>2014</th>\n",
       "      <th>2015</th>\n",
       "      <th>2016</th>\n",
       "    </tr>\n",
       "    <tr>\n",
       "      <th>platform</th>\n",
       "      <th></th>\n",
       "      <th></th>\n",
       "      <th></th>\n",
       "      <th></th>\n",
       "      <th></th>\n",
       "    </tr>\n",
       "  </thead>\n",
       "  <tbody>\n",
       "    <tr>\n",
       "      <th>3DS</th>\n",
       "      <td>51.36</td>\n",
       "      <td>56.57</td>\n",
       "      <td>43.76</td>\n",
       "      <td>27.78</td>\n",
       "      <td>15.14</td>\n",
       "    </tr>\n",
       "    <tr>\n",
       "      <th>DS</th>\n",
       "      <td>11.01</td>\n",
       "      <td>1.54</td>\n",
       "      <td>NaN</td>\n",
       "      <td>NaN</td>\n",
       "      <td>NaN</td>\n",
       "    </tr>\n",
       "    <tr>\n",
       "      <th>PC</th>\n",
       "      <td>23.22</td>\n",
       "      <td>12.38</td>\n",
       "      <td>13.28</td>\n",
       "      <td>8.52</td>\n",
       "      <td>5.25</td>\n",
       "    </tr>\n",
       "    <tr>\n",
       "      <th>PS3</th>\n",
       "      <td>107.35</td>\n",
       "      <td>113.25</td>\n",
       "      <td>47.76</td>\n",
       "      <td>16.82</td>\n",
       "      <td>3.60</td>\n",
       "    </tr>\n",
       "    <tr>\n",
       "      <th>PS4</th>\n",
       "      <td>NaN</td>\n",
       "      <td>25.99</td>\n",
       "      <td>100.00</td>\n",
       "      <td>118.90</td>\n",
       "      <td>69.25</td>\n",
       "    </tr>\n",
       "    <tr>\n",
       "      <th>PSP</th>\n",
       "      <td>7.69</td>\n",
       "      <td>3.14</td>\n",
       "      <td>0.24</td>\n",
       "      <td>0.12</td>\n",
       "      <td>NaN</td>\n",
       "    </tr>\n",
       "    <tr>\n",
       "      <th>PSV</th>\n",
       "      <td>16.19</td>\n",
       "      <td>10.59</td>\n",
       "      <td>11.90</td>\n",
       "      <td>6.25</td>\n",
       "      <td>4.25</td>\n",
       "    </tr>\n",
       "    <tr>\n",
       "      <th>Wii</th>\n",
       "      <td>21.71</td>\n",
       "      <td>8.59</td>\n",
       "      <td>3.75</td>\n",
       "      <td>1.14</td>\n",
       "      <td>0.18</td>\n",
       "    </tr>\n",
       "    <tr>\n",
       "      <th>WiiU</th>\n",
       "      <td>17.56</td>\n",
       "      <td>21.65</td>\n",
       "      <td>22.03</td>\n",
       "      <td>16.35</td>\n",
       "      <td>4.60</td>\n",
       "    </tr>\n",
       "    <tr>\n",
       "      <th>X360</th>\n",
       "      <td>99.74</td>\n",
       "      <td>88.58</td>\n",
       "      <td>34.74</td>\n",
       "      <td>11.96</td>\n",
       "      <td>1.52</td>\n",
       "    </tr>\n",
       "    <tr>\n",
       "      <th>XOne</th>\n",
       "      <td>NaN</td>\n",
       "      <td>18.96</td>\n",
       "      <td>54.07</td>\n",
       "      <td>60.14</td>\n",
       "      <td>26.15</td>\n",
       "    </tr>\n",
       "  </tbody>\n",
       "</table>\n",
       "</div>"
      ],
      "text/plain": [
       "year_of_release    2012    2013    2014    2015   2016\n",
       "platform                                              \n",
       "3DS               51.36   56.57   43.76   27.78  15.14\n",
       "DS                11.01    1.54     NaN     NaN    NaN\n",
       "PC                23.22   12.38   13.28    8.52   5.25\n",
       "PS3              107.35  113.25   47.76   16.82   3.60\n",
       "PS4                 NaN   25.99  100.00  118.90  69.25\n",
       "PSP                7.69    3.14    0.24    0.12    NaN\n",
       "PSV               16.19   10.59   11.90    6.25   4.25\n",
       "Wii               21.71    8.59    3.75    1.14   0.18\n",
       "WiiU              17.56   21.65   22.03   16.35   4.60\n",
       "X360              99.74   88.58   34.74   11.96   1.52\n",
       "XOne                NaN   18.96   54.07   60.14  26.15"
      ]
     },
     "execution_count": 27,
     "metadata": {},
     "output_type": "execute_result"
    }
   ],
   "source": [
    "actual_df.pivot_table(index='platform', columns='year_of_release', values='total_sales', aggfunc='sum')"
   ]
  },
  {
   "cell_type": "markdown",
   "metadata": {},
   "source": [
    "С учётом жизни платформ выберем несколько потенциальных платформ. Выберем PS4, т.к. она ещё набирает обороты, Nintendo 3DS, пока ещё актуальна, и XOne, так же ещё актуальна. Не смотря на кажущееся увядание PC, не стоит откидывать эту платформу. Из графика в 3.2 мы видим, что она вновь набирает обороты."
   ]
  },
  {
   "cell_type": "code",
   "execution_count": 28,
   "metadata": {
    "scrolled": false
   },
   "outputs": [
    {
     "data": {
      "image/png": "[encoded data removed]",
      "text/plain": [
       "<Figure size 1080x720 with 1 Axes>"
      ]
     },
     "metadata": {
      "needs_background": "light"
     },
     "output_type": "display_data"
    }
   ],
   "source": [
    "actual_box = actual_df.query('platform == \"PS4\" or platform == \"XOne\" or platform == \"3DS\" or platform == \"PC\"')\n",
    "actual_box.boxplot(column='total_sales', by='platform', figsize=(15, 10))\n",
    "plt.ylim(-0.1, 5)\n",
    "plt.ylabel('Объемы продаж.')\n",
    "plt.xlabel('Платформа.')\n",
    "plt.show()"
   ]
  },
  {
   "cell_type": "markdown",
   "metadata": {},
   "source": [
    "<div class=\"alert alert-block alert-warning\">\n",
    "<b>🔁Комментарий ревьюера:</b>\n",
    "\n",
    "Тут лучше построить две визуализации. Одну не ограничивая продажи, чтобы рассмотреть выбросы, а на другой ограничить диапазон значений продаж ,чтобы отчетливо рассмотреть сами боксплоты. </div>"
   ]
  },
  {
   "cell_type": "markdown",
   "metadata": {},
   "source": [
    "PS4 и 3DS достаточно близки по объёму продажи, однако ,судя по правому усу PS4, медианное значение второго практически в два раза выше. Почти такой же правый ус и у XOne, хоть объёмы продаж еще низки, не стоит забывать, что она относительно новая и всё может перебить результат PS4. По поводу PC, к сказанному в предыдущем выводе, стоит добавить, что её главной особенностью перед другими платформами является модернизация, поэтому мы точно не выбросим этот вариант из топа."
   ]
  },
  {
   "cell_type": "markdown",
   "metadata": {},
   "source": [
    "<div class=\"alert alert-block alert-success\">\n",
    "<b>✅Комментарий ревьюера:</b> \n",
    "    \n",
    "Можно расположить диаграммы горизонтально (пример ниже). Для визуализации мне больше нравится библиотека seaborn. Есть [отличная статья](https://habr.com/ru/post/468295/), где показаны различные способы визуализации. Может быть тебе пригодится)</div>"
   ]
  },
  {
   "cell_type": "markdown",
   "metadata": {},
   "source": [
    "<div class=\"alert alert-block alert-info\">\n",
    "<b>🔄Комментарий студента:</b> \n",
    "Ого! Не знал, что можно миксовать так. Так даже более наглядно и менее депрессивно, наверное из-за скучности я не люблю работать с boxplot. И отдельное спасибо за доп материал, я его весь просмотрел и лпанирую использовать в будущем)\n",
    "</div>"
   ]
  },
  {
   "cell_type": "markdown",
   "metadata": {},
   "source": [
    "<div class=\"alert alert-block alert-success\">\n",
    "<b>✅Комментарий ревьюера 2:</b> Пожалуйста) Статья действительно отличная и в будущем точно пригодится))  </div>"
   ]
  },
  {
   "cell_type": "code",
   "execution_count": 29,
   "metadata": {
    "scrolled": false
   },
   "outputs": [
    {
     "data": {
      "image/png": "[encoded data removed]",
      "text/plain": [
       "<Figure size 1224x792 with 1 Axes>"
      ]
     },
     "metadata": {
      "needs_background": "light"
     },
     "output_type": "display_data"
    }
   ],
   "source": [
    "# код ревьюера\n",
    "\n",
    "plt.figure(figsize=(17, 11))\n",
    "sns.boxplot(data=actual_df, y='platform', x='total_sales')\n",
    "plt.xlim(-0.1, 5)\n",
    "\n",
    "plt.title('Объемы продаж игр на разных платформах', size=17)\n",
    "plt.xlabel('Объем продаж', size=12)\n",
    "plt.ylabel('Название платформы', size=12)\n",
    "\n",
    "plt.show()"
   ]
  },
  {
   "cell_type": "markdown",
   "metadata": {},
   "source": [
    "### Рассмотрим корреляцию оценки (критиков и пользователей) и продажи."
   ]
  },
  {
   "cell_type": "markdown",
   "metadata": {},
   "source": [
    "<div class=\"alert alert-block alert-warning\">\n",
    "<b>🔁Комментарий ревьюера:</b>\n",
    "\n",
    "Было бы здорово еще в заголовок графика для ясности добавить название платформы </div>"
   ]
  },
  {
   "cell_type": "markdown",
   "metadata": {},
   "source": [
    "<div class=\"alert alert-block alert-success\">\n",
    "<b>✅Комментарий ревьюера 2:</b> Отлично, исправлено!👍  </div>"
   ]
  },
  {
   "cell_type": "markdown",
   "metadata": {},
   "source": [
    "<div class=\"alert alert-block alert-warning\">\n",
    "<b>🔁Комментарий ревьюера:</b>\n",
    "\n",
    "Заметил ли ты, что код для построения распределений и расчета коэффициентов корреляций повторяется? Его лучше обернуть в функцию.</div>"
   ]
  },
  {
   "cell_type": "markdown",
   "metadata": {},
   "source": [
    "<div class=\"alert alert-block alert-info\">\n",
    "<b>🔄Комментарий студента:</b> \n",
    "Я обернул всё в две отдельные функции на оценку критиков и пользователей. Под каждым скаттером вывел корреляцию.\n",
    "</div>"
   ]
  },
  {
   "cell_type": "markdown",
   "metadata": {},
   "source": [
    "<div class=\"alert alert-block alert-success\">\n",
    "<b>✅Комментарий ревьюера 2:</b> Отлично, исправлено!👍  </div>"
   ]
  },
  {
   "cell_type": "code",
   "execution_count": 30,
   "metadata": {
    "scrolled": false
   },
   "outputs": [
    {
     "data": {
      "image/png": "[encoded data removed]",
      "text/plain": [
       "<Figure size 432x288 with 1 Axes>"
      ]
     },
     "metadata": {
      "needs_background": "light"
     },
     "output_type": "display_data"
    },
    {
     "name": "stdout",
     "output_type": "stream",
     "text": [
      "Коэффициент корреляции 0.3208028695360785\n"
     ]
    },
    {
     "data": {
      "image/png": "[encoded data removed]",
      "text/plain": [
       "<Figure size 432x288 with 1 Axes>"
      ]
     },
     "metadata": {
      "needs_background": "light"
     },
     "output_type": "display_data"
    },
    {
     "name": "stdout",
     "output_type": "stream",
     "text": [
      "Коэффициент корреляции 0.40656790206178095\n"
     ]
    },
    {
     "data": {
      "image/png": "[encoded data removed]",
      "text/plain": [
       "<Figure size 432x288 with 1 Axes>"
      ]
     },
     "metadata": {
      "needs_background": "light"
     },
     "output_type": "display_data"
    },
    {
     "name": "stdout",
     "output_type": "stream",
     "text": [
      "Коэффициент корреляции 0.4169983280084017\n"
     ]
    }
   ],
   "source": [
    "for i in [\"3DS\", \"PS4\", \"XOne\"]:\n",
    "    actual_df.loc[actual_df['platform'] == i].reset_index().plot(x='critic_score',y='total_sales', kind='scatter', grid=True)\n",
    "    plt.title(i, size=17)\n",
    "    plt.ylabel('Объём продаж.', size=15)\n",
    "    plt.xlabel('Оценка критиков.', size=15)\n",
    "    plt.show()\n",
    "    print('Коэффициент корреляции', actual_df.loc[actual_df['platform'] == i]['critic_score'].\n",
    "          corr(actual_df.loc[actual_df['platform'] == i]['total_sales']))"
   ]
  },
  {
   "cell_type": "markdown",
   "metadata": {},
   "source": [
    "Судя по графику и корреляции Пирсона между этими двумя параметрами есть прямая, но слабая, зависимость. Действительно есть значения, которые показывают, что высокая оценка критиков сильно поднимает продажи, но таких значений крайне мало, и скорее всего это игры от известных геймдевов."
   ]
  },
  {
   "cell_type": "code",
   "execution_count": 31,
   "metadata": {
    "scrolled": false
   },
   "outputs": [
    {
     "data": {
      "image/png": "[encoded data removed]",
      "text/plain": [
       "<Figure size 432x288 with 1 Axes>"
      ]
     },
     "metadata": {
      "needs_background": "light"
     },
     "output_type": "display_data"
    },
    {
     "name": "stdout",
     "output_type": "stream",
     "text": [
      "Коэффициент корреляции 0.19758263411038599\n"
     ]
    },
    {
     "data": {
      "image/png": "[encoded data removed]",
      "text/plain": [
       "<Figure size 432x288 with 1 Axes>"
      ]
     },
     "metadata": {
      "needs_background": "light"
     },
     "output_type": "display_data"
    },
    {
     "name": "stdout",
     "output_type": "stream",
     "text": [
      "Коэффициент корреляции -0.031957110204556376\n"
     ]
    },
    {
     "data": {
      "image/png": "[encoded data removed]",
      "text/plain": [
       "<Figure size 432x288 with 1 Axes>"
      ]
     },
     "metadata": {
      "needs_background": "light"
     },
     "output_type": "display_data"
    },
    {
     "name": "stdout",
     "output_type": "stream",
     "text": [
      "Коэффициент корреляции -0.06892505328279414\n"
     ]
    }
   ],
   "source": [
    "for i in [\"3DS\", \"PS4\", \"XOne\"]:\n",
    "    actual_df.loc[actual_df['platform'] == i].reset_index().plot(x='user_score',y='total_sales', kind='scatter', grid=True)\n",
    "    plt.title(i, size=17)\n",
    "    plt.ylabel('Объём продаж.', size=15)\n",
    "    plt.xlabel('Оценка пользователей.', size=15)\n",
    "    plt.show()\n",
    "    print('Коэффициент корреляции', actual_df.loc[actual_df['platform'] == i]['user_score'].\n",
    "          corr(actual_df.loc[actual_df['platform'] == i]['total_sales']))"
   ]
  },
  {
   "cell_type": "markdown",
   "metadata": {},
   "source": [
    "Здесь корреляция ещё меньше, практически отсутствует. Видимо оценка других игроков для них менее авторитетна, чем оценка критиков. У 3DS ситуация немного другая, но в целом сильной зависимости нет или отсутствует вовсе."
   ]
  },
  {
   "cell_type": "markdown",
   "metadata": {},
   "source": [
    "На примере 3 популярных платформ мы рассмотрели зависимость между объёмом продаж и двумя видами оценок (критиков и игроков) и выяснили, что зависимость от оценки критиков есть, но она не сильная, а вот оценка обычных игроков вообще не влияет на объём продаж."
   ]
  },
  {
   "cell_type": "markdown",
   "metadata": {},
   "source": [
    "### Рассмотрим общее распределение игр по жанрам."
   ]
  },
  {
   "cell_type": "code",
   "execution_count": 32,
   "metadata": {},
   "outputs": [
    {
     "data": {
      "image/png": "[encoded data removed]",
      "text/plain": [
       "<Figure size 1440x720 with 1 Axes>"
      ]
     },
     "metadata": {
      "needs_background": "light"
     },
     "output_type": "display_data"
    }
   ],
   "source": [
    "actual_df.pivot_table(index='genre', values='total_sales', aggfunc=('count', 'sum'))\\\n",
    ".sort_values('sum', ascending=False).plot(kind='bar', figsize=(20, 10), grid=True)\n",
    "plt.title('Распределение по жанрам.')\n",
    "plt.legend(['Кол-во продаж.', 'Выручка с продаж.'])\n",
    "plt.ylabel('Объем продаж.')\n",
    "plt.xlabel('Жанр.')\n",
    "plt.show()"
   ]
  },
  {
   "cell_type": "code",
   "execution_count": 33,
   "metadata": {},
   "outputs": [
    {
     "data": {
      "text/html": [
       "<div>\n",
       "<style scoped>\n",
       "    .dataframe tbody tr th:only-of-type {\n",
       "        vertical-align: middle;\n",
       "    }\n",
       "\n",
       "    .dataframe tbody tr th {\n",
       "        vertical-align: top;\n",
       "    }\n",
       "\n",
       "    .dataframe thead tr th {\n",
       "        text-align: left;\n",
       "    }\n",
       "\n",
       "    .dataframe thead tr:last-of-type th {\n",
       "        text-align: right;\n",
       "    }\n",
       "</style>\n",
       "<table border=\"1\" class=\"dataframe\">\n",
       "  <thead>\n",
       "    <tr>\n",
       "      <th></th>\n",
       "      <th>name</th>\n",
       "      <th colspan=\"2\" halign=\"left\">total_sales</th>\n",
       "    </tr>\n",
       "    <tr>\n",
       "      <th></th>\n",
       "      <th>count</th>\n",
       "      <th>mean</th>\n",
       "      <th>sum</th>\n",
       "    </tr>\n",
       "    <tr>\n",
       "      <th>genre</th>\n",
       "      <th></th>\n",
       "      <th></th>\n",
       "      <th></th>\n",
       "    </tr>\n",
       "  </thead>\n",
       "  <tbody>\n",
       "    <tr>\n",
       "      <th>Shooter</th>\n",
       "      <td>235</td>\n",
       "      <td>1.296723</td>\n",
       "      <td>304.73</td>\n",
       "    </tr>\n",
       "    <tr>\n",
       "      <th>Platform</th>\n",
       "      <td>85</td>\n",
       "      <td>0.717647</td>\n",
       "      <td>61.00</td>\n",
       "    </tr>\n",
       "    <tr>\n",
       "      <th>Sports</th>\n",
       "      <td>267</td>\n",
       "      <td>0.678127</td>\n",
       "      <td>181.06</td>\n",
       "    </tr>\n",
       "    <tr>\n",
       "      <th>Role-Playing</th>\n",
       "      <td>370</td>\n",
       "      <td>0.521081</td>\n",
       "      <td>192.80</td>\n",
       "    </tr>\n",
       "    <tr>\n",
       "      <th>Racing</th>\n",
       "      <td>115</td>\n",
       "      <td>0.465217</td>\n",
       "      <td>53.50</td>\n",
       "    </tr>\n",
       "    <tr>\n",
       "      <th>Misc</th>\n",
       "      <td>192</td>\n",
       "      <td>0.442917</td>\n",
       "      <td>85.04</td>\n",
       "    </tr>\n",
       "    <tr>\n",
       "      <th>Simulation</th>\n",
       "      <td>80</td>\n",
       "      <td>0.439000</td>\n",
       "      <td>35.12</td>\n",
       "    </tr>\n",
       "    <tr>\n",
       "      <th>Action</th>\n",
       "      <td>1031</td>\n",
       "      <td>0.427856</td>\n",
       "      <td>441.12</td>\n",
       "    </tr>\n",
       "    <tr>\n",
       "      <th>Fighting</th>\n",
       "      <td>109</td>\n",
       "      <td>0.408165</td>\n",
       "      <td>44.49</td>\n",
       "    </tr>\n",
       "    <tr>\n",
       "      <th>Strategy</th>\n",
       "      <td>71</td>\n",
       "      <td>0.187887</td>\n",
       "      <td>13.34</td>\n",
       "    </tr>\n",
       "    <tr>\n",
       "      <th>Puzzle</th>\n",
       "      <td>28</td>\n",
       "      <td>0.174643</td>\n",
       "      <td>4.89</td>\n",
       "    </tr>\n",
       "    <tr>\n",
       "      <th>Adventure</th>\n",
       "      <td>302</td>\n",
       "      <td>0.097450</td>\n",
       "      <td>29.43</td>\n",
       "    </tr>\n",
       "  </tbody>\n",
       "</table>\n",
       "</div>"
      ],
      "text/plain": [
       "              name total_sales        \n",
       "             count        mean     sum\n",
       "genre                                 \n",
       "Shooter        235    1.296723  304.73\n",
       "Platform        85    0.717647   61.00\n",
       "Sports         267    0.678127  181.06\n",
       "Role-Playing   370    0.521081  192.80\n",
       "Racing         115    0.465217   53.50\n",
       "Misc           192    0.442917   85.04\n",
       "Simulation      80    0.439000   35.12\n",
       "Action        1031    0.427856  441.12\n",
       "Fighting       109    0.408165   44.49\n",
       "Strategy        71    0.187887   13.34\n",
       "Puzzle          28    0.174643    4.89\n",
       "Adventure      302    0.097450   29.43"
      ]
     },
     "execution_count": 33,
     "metadata": {},
     "output_type": "execute_result"
    }
   ],
   "source": [
    "actual_df.groupby('genre').agg({'name': 'count', 'total_sales': ['mean', 'sum']})\\\n",
    ".sort_values(by = ('total_sales', 'mean'), ascending = False)"
   ]
  },
  {
   "cell_type": "markdown",
   "metadata": {},
   "source": [
    "Определённо лучшими по продажам считаются игры жанра Action, Shooter и Role-Playing, однако, учитывая сотношение продажа/выручка, стоит обратить внимание на игры жанра Shooter, Platform и Sports. Из этого можем сделать вывод, что игры жанра Action редко выстреливают, поэтому стоит сделать ставку на игры Shooter, Role-Playing, Platform и Sports. Ведь баланс этих жанров сможет принести максимальную выгоду при продаже."
   ]
  },
  {
   "cell_type": "markdown",
   "metadata": {},
   "source": [
    "<div class=\"alert alert-block alert-warning\">\n",
    "<b>🔁Комментарий ревьюера:</b>\n",
    "\n",
    "Молодец, что вывел на графике не только суммарные продажи, но и количество выпущенных игр! Это очень важно при определении прибыльности! Но в выводах ты их соотношение не учел. Лучше сразу рассматривать медианные значения продаж, они являются наиболее объективным показателем прибыльности, так как менее подвержены влиянию выбросов (а в игровой индустрии их достаточно много за счет продаж очень популярных и хитовых игр)</div>"
   ]
  },
  {
   "cell_type": "markdown",
   "metadata": {},
   "source": [
    "<div class=\"alert alert-block alert-info\">\n",
    "<b>🔄Комментарий студента:</b> \n",
    "Вывел допом таблицу с числовыми значениями и немного переписал вывод.\n",
    "</div>"
   ]
  },
  {
   "cell_type": "markdown",
   "metadata": {},
   "source": [
    "<div class=\"alert alert-block alert-success\">\n",
    "<b>✅Комментарий ревьюера 2:</b> Отлично, исправлено!👍  </div>"
   ]
  },
  {
   "cell_type": "markdown",
   "metadata": {},
   "source": [
    "Проведя исследовательский анализ этих данных, мы выяснили, что самым актуальным периодом для прогнозирования 2017 года лучше всего считать 2012-2016 года, т.к. ситуация в начале 2017 будет максимальна схожа с этим периодом. Узнали, что продажи сильно зависят от актуальности поколения платформы, с выходом каждого нового поколения продажи старого начинают падать. Примерным сроком жизни платформы/поколения приняли за 6 лет. PS4, XOne, 3DS и PC являются наиболее актуальными и прибыльными платформами. Самыми прибыльными жанрами являются Sports, Platform, Shooter и Role-Playing, на них и стоит делать дальнейший упор в исследовании. Установили, что корреляция не сильно влияет или не влияет вовсе на объём продаж вне зависимоти от платформы."
   ]
  },
  {
   "cell_type": "markdown",
   "metadata": {},
   "source": [
    "## Портрет пользователя каждого региона."
   ]
  },
  {
   "cell_type": "markdown",
   "metadata": {},
   "source": [
    "### Топ-5 по платформе и жанру в каждом регионе."
   ]
  },
  {
   "cell_type": "code",
   "execution_count": 34,
   "metadata": {
    "scrolled": false
   },
   "outputs": [
    {
     "data": {
      "image/png": "[encoded data removed]",
      "text/plain": [
       "<Figure size 1440x720 with 1 Axes>"
      ]
     },
     "metadata": {
      "needs_background": "light"
     },
     "output_type": "display_data"
    },
    {
     "data": {
      "text/html": [
       "<div>\n",
       "<style scoped>\n",
       "    .dataframe tbody tr th:only-of-type {\n",
       "        vertical-align: middle;\n",
       "    }\n",
       "\n",
       "    .dataframe tbody tr th {\n",
       "        vertical-align: top;\n",
       "    }\n",
       "\n",
       "    .dataframe thead th {\n",
       "        text-align: right;\n",
       "    }\n",
       "</style>\n",
       "<table border=\"1\" class=\"dataframe\">\n",
       "  <thead>\n",
       "    <tr style=\"text-align: right;\">\n",
       "      <th></th>\n",
       "      <th>na_sales</th>\n",
       "      <th>%</th>\n",
       "    </tr>\n",
       "    <tr>\n",
       "      <th>platform</th>\n",
       "      <th></th>\n",
       "      <th></th>\n",
       "    </tr>\n",
       "  </thead>\n",
       "  <tbody>\n",
       "    <tr>\n",
       "      <th>X360</th>\n",
       "      <td>140.05</td>\n",
       "      <td>27.98</td>\n",
       "    </tr>\n",
       "    <tr>\n",
       "      <th>PS4</th>\n",
       "      <td>108.74</td>\n",
       "      <td>21.72</td>\n",
       "    </tr>\n",
       "    <tr>\n",
       "      <th>PS3</th>\n",
       "      <td>103.38</td>\n",
       "      <td>20.65</td>\n",
       "    </tr>\n",
       "    <tr>\n",
       "      <th>XOne</th>\n",
       "      <td>93.12</td>\n",
       "      <td>18.60</td>\n",
       "    </tr>\n",
       "    <tr>\n",
       "      <th>3DS</th>\n",
       "      <td>55.31</td>\n",
       "      <td>11.05</td>\n",
       "    </tr>\n",
       "  </tbody>\n",
       "</table>\n",
       "</div>"
      ],
      "text/plain": [
       "          na_sales      %\n",
       "platform                 \n",
       "X360        140.05  27.98\n",
       "PS4         108.74  21.72\n",
       "PS3         103.38  20.65\n",
       "XOne         93.12  18.60\n",
       "3DS          55.31  11.05"
      ]
     },
     "metadata": {},
     "output_type": "display_data"
    },
    {
     "data": {
      "image/png": "[encoded data removed]",
      "text/plain": [
       "<Figure size 1440x720 with 1 Axes>"
      ]
     },
     "metadata": {
      "needs_background": "light"
     },
     "output_type": "display_data"
    },
    {
     "data": {
      "text/html": [
       "<div>\n",
       "<style scoped>\n",
       "    .dataframe tbody tr th:only-of-type {\n",
       "        vertical-align: middle;\n",
       "    }\n",
       "\n",
       "    .dataframe tbody tr th {\n",
       "        vertical-align: top;\n",
       "    }\n",
       "\n",
       "    .dataframe thead th {\n",
       "        text-align: right;\n",
       "    }\n",
       "</style>\n",
       "<table border=\"1\" class=\"dataframe\">\n",
       "  <thead>\n",
       "    <tr style=\"text-align: right;\">\n",
       "      <th></th>\n",
       "      <th>eu_sales</th>\n",
       "      <th>%</th>\n",
       "    </tr>\n",
       "    <tr>\n",
       "      <th>platform</th>\n",
       "      <th></th>\n",
       "      <th></th>\n",
       "    </tr>\n",
       "  </thead>\n",
       "  <tbody>\n",
       "    <tr>\n",
       "      <th>PS4</th>\n",
       "      <td>141.09</td>\n",
       "      <td>33.86</td>\n",
       "    </tr>\n",
       "    <tr>\n",
       "      <th>PS3</th>\n",
       "      <td>106.85</td>\n",
       "      <td>25.64</td>\n",
       "    </tr>\n",
       "    <tr>\n",
       "      <th>X360</th>\n",
       "      <td>74.52</td>\n",
       "      <td>17.88</td>\n",
       "    </tr>\n",
       "    <tr>\n",
       "      <th>XOne</th>\n",
       "      <td>51.59</td>\n",
       "      <td>12.38</td>\n",
       "    </tr>\n",
       "    <tr>\n",
       "      <th>3DS</th>\n",
       "      <td>42.64</td>\n",
       "      <td>10.23</td>\n",
       "    </tr>\n",
       "  </tbody>\n",
       "</table>\n",
       "</div>"
      ],
      "text/plain": [
       "          eu_sales      %\n",
       "platform                 \n",
       "PS4         141.09  33.86\n",
       "PS3         106.85  25.64\n",
       "X360         74.52  17.88\n",
       "XOne         51.59  12.38\n",
       "3DS          42.64  10.23"
      ]
     },
     "metadata": {},
     "output_type": "display_data"
    },
    {
     "data": {
      "image/png": "[encoded data removed]",
      "text/plain": [
       "<Figure size 1440x720 with 1 Axes>"
      ]
     },
     "metadata": {
      "needs_background": "light"
     },
     "output_type": "display_data"
    },
    {
     "data": {
      "text/html": [
       "<div>\n",
       "<style scoped>\n",
       "    .dataframe tbody tr th:only-of-type {\n",
       "        vertical-align: middle;\n",
       "    }\n",
       "\n",
       "    .dataframe tbody tr th {\n",
       "        vertical-align: top;\n",
       "    }\n",
       "\n",
       "    .dataframe thead th {\n",
       "        text-align: right;\n",
       "    }\n",
       "</style>\n",
       "<table border=\"1\" class=\"dataframe\">\n",
       "  <thead>\n",
       "    <tr style=\"text-align: right;\">\n",
       "      <th></th>\n",
       "      <th>jp_sales</th>\n",
       "      <th>%</th>\n",
       "    </tr>\n",
       "    <tr>\n",
       "      <th>platform</th>\n",
       "      <th></th>\n",
       "      <th></th>\n",
       "    </tr>\n",
       "  </thead>\n",
       "  <tbody>\n",
       "    <tr>\n",
       "      <th>3DS</th>\n",
       "      <td>87.79</td>\n",
       "      <td>50.72</td>\n",
       "    </tr>\n",
       "    <tr>\n",
       "      <th>PS3</th>\n",
       "      <td>35.29</td>\n",
       "      <td>20.39</td>\n",
       "    </tr>\n",
       "    <tr>\n",
       "      <th>PSV</th>\n",
       "      <td>21.04</td>\n",
       "      <td>12.16</td>\n",
       "    </tr>\n",
       "    <tr>\n",
       "      <th>PS4</th>\n",
       "      <td>15.96</td>\n",
       "      <td>9.22</td>\n",
       "    </tr>\n",
       "    <tr>\n",
       "      <th>WiiU</th>\n",
       "      <td>13.01</td>\n",
       "      <td>7.52</td>\n",
       "    </tr>\n",
       "  </tbody>\n",
       "</table>\n",
       "</div>"
      ],
      "text/plain": [
       "          jp_sales      %\n",
       "platform                 \n",
       "3DS          87.79  50.72\n",
       "PS3          35.29  20.39\n",
       "PSV          21.04  12.16\n",
       "PS4          15.96   9.22\n",
       "WiiU         13.01   7.52"
      ]
     },
     "metadata": {},
     "output_type": "display_data"
    }
   ],
   "source": [
    "region_df = [\"na_sales\", \"eu_sales\", \"jp_sales\"]\n",
    "for i in region_df[0:]:\n",
    "    actual_df.pivot_table(index='platform', values=(i), aggfunc=('sum')).sort_values(i, ascending=False)\\\n",
    "    .plot(kind='bar', figsize=(20, 10), grid=True)\n",
    "    plt.title(f'Популярность платформ {i}')\n",
    "    plt.ylabel('Объем продаж.')\n",
    "    plt.xlabel('Платформа.')\n",
    "    plt.show()\n",
    "    top_planform = actual_df.pivot_table(index = 'platform', values = (i), aggfunc = 'sum')\\\n",
    "    .sort_values(i, ascending = False).head(5)\n",
    "    top_planform['%'] = round(top_planform[i] / top_planform[i].sum() * 100, 2)\n",
    "    display(top_planform)"
   ]
  },
  {
   "cell_type": "markdown",
   "metadata": {},
   "source": [
    "**Топ-5 по платформам в СА.**\n",
    "\n",
    "Лидером продаж по платформам в СА является X360, забравший больше четверти всех продаж, за ним, почти на одном уровне друг с другом держатся, PS3 и PS4. XOne пока держится на 4 строчке, однако, она вполне сможет в скром времени подняться на 3 позицию и даже поровняться с PS4, т.к. PS3 уже устаревшая модель и её продажи с каждым годом уменьшаются. \n",
    "\n",
    "**Топ-5 по платформам в Европе.**\n",
    "\n",
    "А вот по платформам в Европе ситуация с первыми тремя позициями немного другая. Здесь пользователи в большинстве случаев предпочитают PS, при чём в топ-2 входят сразу два их представителя. За ними следует Х360, XOne, 3DS.\n",
    "\n",
    "**Топ-5 по платформам в Японии.**\n",
    "\n",
    "В Японии предпочитают приставки собственного производства."
   ]
  },
  {
   "cell_type": "code",
   "execution_count": 35,
   "metadata": {
    "scrolled": false
   },
   "outputs": [
    {
     "data": {
      "image/png": "[encoded data removed]",
      "text/plain": [
       "<Figure size 1440x720 with 1 Axes>"
      ]
     },
     "metadata": {
      "needs_background": "light"
     },
     "output_type": "display_data"
    },
    {
     "data": {
      "text/html": [
       "<div>\n",
       "<style scoped>\n",
       "    .dataframe tbody tr th:only-of-type {\n",
       "        vertical-align: middle;\n",
       "    }\n",
       "\n",
       "    .dataframe tbody tr th {\n",
       "        vertical-align: top;\n",
       "    }\n",
       "\n",
       "    .dataframe thead th {\n",
       "        text-align: right;\n",
       "    }\n",
       "</style>\n",
       "<table border=\"1\" class=\"dataframe\">\n",
       "  <thead>\n",
       "    <tr style=\"text-align: right;\">\n",
       "      <th></th>\n",
       "      <th>na_sales</th>\n",
       "      <th>%</th>\n",
       "    </tr>\n",
       "    <tr>\n",
       "      <th>genre</th>\n",
       "      <th></th>\n",
       "      <th></th>\n",
       "    </tr>\n",
       "  </thead>\n",
       "  <tbody>\n",
       "    <tr>\n",
       "      <th>Action</th>\n",
       "      <td>177.84</td>\n",
       "      <td>35.12</td>\n",
       "    </tr>\n",
       "    <tr>\n",
       "      <th>Shooter</th>\n",
       "      <td>144.77</td>\n",
       "      <td>28.59</td>\n",
       "    </tr>\n",
       "    <tr>\n",
       "      <th>Sports</th>\n",
       "      <td>81.53</td>\n",
       "      <td>16.10</td>\n",
       "    </tr>\n",
       "    <tr>\n",
       "      <th>Role-Playing</th>\n",
       "      <td>64.00</td>\n",
       "      <td>12.64</td>\n",
       "    </tr>\n",
       "    <tr>\n",
       "      <th>Misc</th>\n",
       "      <td>38.19</td>\n",
       "      <td>7.54</td>\n",
       "    </tr>\n",
       "  </tbody>\n",
       "</table>\n",
       "</div>"
      ],
      "text/plain": [
       "              na_sales      %\n",
       "genre                        \n",
       "Action          177.84  35.12\n",
       "Shooter         144.77  28.59\n",
       "Sports           81.53  16.10\n",
       "Role-Playing     64.00  12.64\n",
       "Misc             38.19   7.54"
      ]
     },
     "metadata": {},
     "output_type": "display_data"
    },
    {
     "data": {
      "image/png": "[encoded data removed]",
      "text/plain": [
       "<Figure size 1440x720 with 1 Axes>"
      ]
     },
     "metadata": {
      "needs_background": "light"
     },
     "output_type": "display_data"
    },
    {
     "data": {
      "text/html": [
       "<div>\n",
       "<style scoped>\n",
       "    .dataframe tbody tr th:only-of-type {\n",
       "        vertical-align: middle;\n",
       "    }\n",
       "\n",
       "    .dataframe tbody tr th {\n",
       "        vertical-align: top;\n",
       "    }\n",
       "\n",
       "    .dataframe thead th {\n",
       "        text-align: right;\n",
       "    }\n",
       "</style>\n",
       "<table border=\"1\" class=\"dataframe\">\n",
       "  <thead>\n",
       "    <tr style=\"text-align: right;\">\n",
       "      <th></th>\n",
       "      <th>eu_sales</th>\n",
       "      <th>%</th>\n",
       "    </tr>\n",
       "    <tr>\n",
       "      <th>genre</th>\n",
       "      <th></th>\n",
       "      <th></th>\n",
       "    </tr>\n",
       "  </thead>\n",
       "  <tbody>\n",
       "    <tr>\n",
       "      <th>Action</th>\n",
       "      <td>159.34</td>\n",
       "      <td>38.15</td>\n",
       "    </tr>\n",
       "    <tr>\n",
       "      <th>Shooter</th>\n",
       "      <td>113.47</td>\n",
       "      <td>27.16</td>\n",
       "    </tr>\n",
       "    <tr>\n",
       "      <th>Sports</th>\n",
       "      <td>69.08</td>\n",
       "      <td>16.54</td>\n",
       "    </tr>\n",
       "    <tr>\n",
       "      <th>Role-Playing</th>\n",
       "      <td>48.53</td>\n",
       "      <td>11.62</td>\n",
       "    </tr>\n",
       "    <tr>\n",
       "      <th>Racing</th>\n",
       "      <td>27.29</td>\n",
       "      <td>6.53</td>\n",
       "    </tr>\n",
       "  </tbody>\n",
       "</table>\n",
       "</div>"
      ],
      "text/plain": [
       "              eu_sales      %\n",
       "genre                        \n",
       "Action          159.34  38.15\n",
       "Shooter         113.47  27.16\n",
       "Sports           69.08  16.54\n",
       "Role-Playing     48.53  11.62\n",
       "Racing           27.29   6.53"
      ]
     },
     "metadata": {},
     "output_type": "display_data"
    },
    {
     "data": {
      "image/png": "[encoded data removed]",
      "text/plain": [
       "<Figure size 1440x720 with 1 Axes>"
      ]
     },
     "metadata": {
      "needs_background": "light"
     },
     "output_type": "display_data"
    },
    {
     "data": {
      "text/html": [
       "<div>\n",
       "<style scoped>\n",
       "    .dataframe tbody tr th:only-of-type {\n",
       "        vertical-align: middle;\n",
       "    }\n",
       "\n",
       "    .dataframe tbody tr th {\n",
       "        vertical-align: top;\n",
       "    }\n",
       "\n",
       "    .dataframe thead th {\n",
       "        text-align: right;\n",
       "    }\n",
       "</style>\n",
       "<table border=\"1\" class=\"dataframe\">\n",
       "  <thead>\n",
       "    <tr style=\"text-align: right;\">\n",
       "      <th></th>\n",
       "      <th>jp_sales</th>\n",
       "      <th>%</th>\n",
       "    </tr>\n",
       "    <tr>\n",
       "      <th>genre</th>\n",
       "      <th></th>\n",
       "      <th></th>\n",
       "    </tr>\n",
       "  </thead>\n",
       "  <tbody>\n",
       "    <tr>\n",
       "      <th>Role-Playing</th>\n",
       "      <td>65.44</td>\n",
       "      <td>43.35</td>\n",
       "    </tr>\n",
       "    <tr>\n",
       "      <th>Action</th>\n",
       "      <td>52.80</td>\n",
       "      <td>34.98</td>\n",
       "    </tr>\n",
       "    <tr>\n",
       "      <th>Misc</th>\n",
       "      <td>12.86</td>\n",
       "      <td>8.52</td>\n",
       "    </tr>\n",
       "    <tr>\n",
       "      <th>Simulation</th>\n",
       "      <td>10.41</td>\n",
       "      <td>6.90</td>\n",
       "    </tr>\n",
       "    <tr>\n",
       "      <th>Fighting</th>\n",
       "      <td>9.44</td>\n",
       "      <td>6.25</td>\n",
       "    </tr>\n",
       "  </tbody>\n",
       "</table>\n",
       "</div>"
      ],
      "text/plain": [
       "              jp_sales      %\n",
       "genre                        \n",
       "Role-Playing     65.44  43.35\n",
       "Action           52.80  34.98\n",
       "Misc             12.86   8.52\n",
       "Simulation       10.41   6.90\n",
       "Fighting          9.44   6.25"
      ]
     },
     "metadata": {},
     "output_type": "display_data"
    }
   ],
   "source": [
    "region_df = [\"na_sales\", \"eu_sales\", \"jp_sales\"]\n",
    "for i in region_df[0:]:\n",
    "    actual_df.pivot_table(index='genre', values=(i), aggfunc=('sum')).sort_values(i, ascending=False)\\\n",
    "    .plot(kind='bar', figsize=(20, 10), grid=True)\n",
    "    plt.title(f'Популярность жанров {i}')\n",
    "    plt.ylabel('Объем продаж.')\n",
    "    plt.xlabel('Платформа.')\n",
    "    plt.show()\n",
    "    top_genre = actual_df.pivot_table(index = 'genre', values = (i), aggfunc = 'sum')\\\n",
    "    .sort_values(i, ascending = False).head(5)\n",
    "    top_genre['%'] = round(top_genre[i] / top_genre[i].sum() * 100, 2)\n",
    "    display(top_genre)"
   ]
  },
  {
   "cell_type": "markdown",
   "metadata": {},
   "source": [
    "**Топ-5 по жанрам в СА.**\n",
    "\n",
    "Первые две позиции с огромным отрывом от всех остальных жанров в СА занимают жанры Action и Shooter, на 3 строчке идёт Sports, за ним следует RPG, замыкает пятёрку многопользовательские шутеры.\n",
    "\n",
    "**Топ-5 по жанрам в Европе.**\n",
    "\n",
    "По жанрам в Европе лидируют те же самы позиции, что и в СА, за исключением последней строки: в Европе предпочитают гонки.\n",
    "\n",
    "**Топ-5 по жанрам в Японии.**\n",
    "\n",
    "В Японии лидирует жанр RPG. За ним следуют Action и Misc. Уникальными жанрами для Японии, в отличии от СА и Европы являются файтинги и симуляторы."
   ]
  },
  {
   "cell_type": "markdown",
   "metadata": {},
   "source": [
    "Сравнив популярность платформ и жанров в трёх разных регионах продаж, мы можем сказать, что выбор приставок в СА и Европе очень сильно схож. Исключением является X360. В СА он лидирует, а в Европе лишь 3 место. Япония в этом плане придерживается консервативных взглядов и не пускает в топ-5 платформы не своего собственного производства, так же в Японии делается уклон в пользу портативных приставок, 3 строчки из 5 в японском топе держат именно портативные устройства (3DS, PSV и WiiU).\n",
    "\n",
    "Что касаемо жанров наблюдается следующее: СА и Европе имеют одинаковые предпочтения в жанрах, за исключением последней строки. В СА предпочитают многопользовательские шутеры, когда в Европе-гонки. Японцы и здесь в корне отличаются от других. Самыми предпочтительными жанрами являются RPG и Action, забрав на себя больше 70% всех продаж, так же в их топ, в отличие от других, входят симуляторы и файтинги."
   ]
  },
  {
   "cell_type": "markdown",
   "metadata": {},
   "source": [
    "<div class=\"alert alert-block alert-success\">\n",
    "<b>✅Комментарий ревьюера:</b> \n",
    "\n",
    "Тут все здорово! Молодец, что оставляешь комментарии и делаешь промежуточные выводы!\n",
    "\n",
    "Кстати, код для построения графиков и таблиц тут тоже повторяется и было бы круто обернуть его в функцию!</div>"
   ]
  },
  {
   "cell_type": "markdown",
   "metadata": {},
   "source": [
    "<div class=\"alert alert-block alert-info\">\n",
    "<b>🔄Комментарий студента:</b> \n",
    "Обернул всё в функцию.\n",
    "</div>"
   ]
  },
  {
   "cell_type": "markdown",
   "metadata": {},
   "source": [
    "<div class=\"alert alert-block alert-success\">\n",
    "<b>✅Комментарий ревьюера 2:</b> Функции не увидел, но цикл тут тоже подходит!  </div>"
   ]
  },
  {
   "cell_type": "markdown",
   "metadata": {},
   "source": [
    "### Влияние ESRB на рейтинг продаж в разных регионах."
   ]
  },
  {
   "cell_type": "markdown",
   "metadata": {},
   "source": [
    "Расшифровка рейтингов:\n",
    "* Е(для каждого)-контент подходит для всех возрастов. Может содержать в себе минимальное кол-во карикатуры, фентези или лёгкого насилия. Нечастое использование ненормативной лексики;\n",
    "* Е10+(от 10 лет)-контент для лиц от 10 лет. Может содержать больше мультфильмов, фентези или мягкого насилия. Минимальное кол-во тем для размышления:\n",
    "* Т(подросток)-контент для лиц от 13 лет. Может содержать насилие, непристойные темы, грубый юмор, минимальное кол-во крови, симуляция азартных игр и нечастое использование ненормативной лексики;\n",
    "* М(17+)-контент для лиц от 17 лет. Может содержать интенсивное насилие, кровь, запёкшуюся кровь, сексуальный контент и ненормативную лексику;\n",
    "* А(18+)-контент для лиц от 18 лет. Может включать длительные сцены интесивного насилия, сексуальный контент, азартные игры с реальными деньгами;\n",
    "* RT-рейтинг в ожидании;\n",
    "* RT17+-рейтинг в ожидании, вероятно для лиц от 17 лет"
   ]
  },
  {
   "cell_type": "code",
   "execution_count": 39,
   "metadata": {
    "scrolled": false
   },
   "outputs": [
    {
     "data": {
      "image/png": "[encoded data removed]",
      "text/plain": [
       "<Figure size 576x576 with 1 Axes>"
      ]
     },
     "metadata": {},
     "output_type": "display_data"
    },
    {
     "data": {
      "text/html": [
       "<div>\n",
       "<style scoped>\n",
       "    .dataframe tbody tr th:only-of-type {\n",
       "        vertical-align: middle;\n",
       "    }\n",
       "\n",
       "    .dataframe tbody tr th {\n",
       "        vertical-align: top;\n",
       "    }\n",
       "\n",
       "    .dataframe thead th {\n",
       "        text-align: right;\n",
       "    }\n",
       "</style>\n",
       "<table border=\"1\" class=\"dataframe\">\n",
       "  <thead>\n",
       "    <tr style=\"text-align: right;\">\n",
       "      <th></th>\n",
       "      <th>na_sales</th>\n",
       "      <th>%</th>\n",
       "    </tr>\n",
       "    <tr>\n",
       "      <th>rating</th>\n",
       "      <th></th>\n",
       "      <th></th>\n",
       "    </tr>\n",
       "  </thead>\n",
       "  <tbody>\n",
       "    <tr>\n",
       "      <th>M</th>\n",
       "      <td>231.57</td>\n",
       "      <td>39.18</td>\n",
       "    </tr>\n",
       "    <tr>\n",
       "      <th>E</th>\n",
       "      <td>114.37</td>\n",
       "      <td>19.35</td>\n",
       "    </tr>\n",
       "    <tr>\n",
       "      <th>unknown</th>\n",
       "      <td>103.31</td>\n",
       "      <td>17.48</td>\n",
       "    </tr>\n",
       "    <tr>\n",
       "      <th>E10+</th>\n",
       "      <td>75.70</td>\n",
       "      <td>12.81</td>\n",
       "    </tr>\n",
       "    <tr>\n",
       "      <th>T</th>\n",
       "      <td>66.02</td>\n",
       "      <td>11.17</td>\n",
       "    </tr>\n",
       "  </tbody>\n",
       "</table>\n",
       "</div>"
      ],
      "text/plain": [
       "         na_sales      %\n",
       "rating                  \n",
       "M          231.57  39.18\n",
       "E          114.37  19.35\n",
       "unknown    103.31  17.48\n",
       "E10+        75.70  12.81\n",
       "T           66.02  11.17"
      ]
     },
     "metadata": {},
     "output_type": "display_data"
    },
    {
     "data": {
      "image/png": "[encoded data removed]",
      "text/plain": [
       "<Figure size 576x576 with 1 Axes>"
      ]
     },
     "metadata": {},
     "output_type": "display_data"
    },
    {
     "data": {
      "text/html": [
       "<div>\n",
       "<style scoped>\n",
       "    .dataframe tbody tr th:only-of-type {\n",
       "        vertical-align: middle;\n",
       "    }\n",
       "\n",
       "    .dataframe tbody tr th {\n",
       "        vertical-align: top;\n",
       "    }\n",
       "\n",
       "    .dataframe thead th {\n",
       "        text-align: right;\n",
       "    }\n",
       "</style>\n",
       "<table border=\"1\" class=\"dataframe\">\n",
       "  <thead>\n",
       "    <tr style=\"text-align: right;\">\n",
       "      <th></th>\n",
       "      <th>eu_sales</th>\n",
       "      <th>%</th>\n",
       "    </tr>\n",
       "    <tr>\n",
       "      <th>rating</th>\n",
       "      <th></th>\n",
       "      <th></th>\n",
       "    </tr>\n",
       "  </thead>\n",
       "  <tbody>\n",
       "    <tr>\n",
       "      <th>M</th>\n",
       "      <td>193.96</td>\n",
       "      <td>38.27</td>\n",
       "    </tr>\n",
       "    <tr>\n",
       "      <th>E</th>\n",
       "      <td>113.02</td>\n",
       "      <td>22.30</td>\n",
       "    </tr>\n",
       "    <tr>\n",
       "      <th>unknown</th>\n",
       "      <td>91.50</td>\n",
       "      <td>18.05</td>\n",
       "    </tr>\n",
       "    <tr>\n",
       "      <th>E10+</th>\n",
       "      <td>55.37</td>\n",
       "      <td>10.93</td>\n",
       "    </tr>\n",
       "    <tr>\n",
       "      <th>T</th>\n",
       "      <td>52.96</td>\n",
       "      <td>10.45</td>\n",
       "    </tr>\n",
       "  </tbody>\n",
       "</table>\n",
       "</div>"
      ],
      "text/plain": [
       "         eu_sales      %\n",
       "rating                  \n",
       "M          193.96  38.27\n",
       "E          113.02  22.30\n",
       "unknown     91.50  18.05\n",
       "E10+        55.37  10.93\n",
       "T           52.96  10.45"
      ]
     },
     "metadata": {},
     "output_type": "display_data"
    },
    {
     "data": {
      "image/png": "[encoded data removed]",
      "text/plain": [
       "<Figure size 576x576 with 1 Axes>"
      ]
     },
     "metadata": {},
     "output_type": "display_data"
    },
    {
     "data": {
      "text/html": [
       "<div>\n",
       "<style scoped>\n",
       "    .dataframe tbody tr th:only-of-type {\n",
       "        vertical-align: middle;\n",
       "    }\n",
       "\n",
       "    .dataframe tbody tr th {\n",
       "        vertical-align: top;\n",
       "    }\n",
       "\n",
       "    .dataframe thead th {\n",
       "        text-align: right;\n",
       "    }\n",
       "</style>\n",
       "<table border=\"1\" class=\"dataframe\">\n",
       "  <thead>\n",
       "    <tr style=\"text-align: right;\">\n",
       "      <th></th>\n",
       "      <th>jp_sales</th>\n",
       "      <th>%</th>\n",
       "    </tr>\n",
       "    <tr>\n",
       "      <th>rating</th>\n",
       "      <th></th>\n",
       "      <th></th>\n",
       "    </tr>\n",
       "  </thead>\n",
       "  <tbody>\n",
       "    <tr>\n",
       "      <th>unknown</th>\n",
       "      <td>108.84</td>\n",
       "      <td>56.52</td>\n",
       "    </tr>\n",
       "    <tr>\n",
       "      <th>E</th>\n",
       "      <td>28.33</td>\n",
       "      <td>14.71</td>\n",
       "    </tr>\n",
       "    <tr>\n",
       "      <th>T</th>\n",
       "      <td>26.02</td>\n",
       "      <td>13.51</td>\n",
       "    </tr>\n",
       "    <tr>\n",
       "      <th>M</th>\n",
       "      <td>21.20</td>\n",
       "      <td>11.01</td>\n",
       "    </tr>\n",
       "    <tr>\n",
       "      <th>E10+</th>\n",
       "      <td>8.19</td>\n",
       "      <td>4.25</td>\n",
       "    </tr>\n",
       "  </tbody>\n",
       "</table>\n",
       "</div>"
      ],
      "text/plain": [
       "         jp_sales      %\n",
       "rating                  \n",
       "unknown    108.84  56.52\n",
       "E           28.33  14.71\n",
       "T           26.02  13.51\n",
       "M           21.20  11.01\n",
       "E10+         8.19   4.25"
      ]
     },
     "metadata": {},
     "output_type": "display_data"
    }
   ],
   "source": [
    "region_df = [\"na_sales\", \"eu_sales\", \"jp_sales\"]\n",
    "region_names = [\"Северная Америка\", \"Европа\", \"Япония\"]\n",
    "\n",
    "for k, i in enumerate(region_df[0:]):\n",
    "    actual_df.pivot_table(index='rating', values=(i), aggfunc=('sum')).sort_values(i, ascending=False)\\\n",
    "    .plot(kind='pie', subplots=True, figsize=(8, 8), autopct='%1.1f%%', colors=mcolors.BASE_COLORS, legend=None)\n",
    "    plt.title(f'Зависимость продаж от возрастного рейтинга {region_names[k]}.')\n",
    "    plt.show()\n",
    "    esrb_df = actual_df.pivot_table(index = 'rating', values = (i), aggfunc = 'sum')\\\n",
    "    .sort_values(i, ascending = False).head(5)\n",
    "    esrb_df['%'] = round(esrb_df[i] / esrb_df[i].sum() * 100, 2)\n",
    "    display(esrb_df)"
   ]
  },
  {
   "cell_type": "markdown",
   "metadata": {},
   "source": [
    "<div class=\"alert alert-block alert-warning\">\n",
    "<b>🔁Комментарий ревьюера 2:</b> \n",
    "    \n",
    "Так как подписи есть на самих диаграммах, то легенды лучше убрать   </div>"
   ]
  },
  {
   "cell_type": "markdown",
   "metadata": {},
   "source": [
    "<div class=\"alert alert-block alert-info\">\n",
    "<b>🔄Комментарий студента 2:</b> \n",
    "Убрал легенду. Можешь подсказать, как проще в тайтле выводить значения не что-то_sales, а конкретный регион внутри цикла?\n",
    "</div>"
   ]
  },
  {
   "cell_type": "markdown",
   "id": "3d68fccc",
   "metadata": {},
   "source": [
    "<div class=\"alert alert-block alert-success\">\n",
    "<b>✅Комментарий ревьюера 3:</b> Отлично, исправлено!👍 \n",
    "\n",
    "Можно создать список с именами регионов, а цикл сделать не только по списку столбцов с продажами, но и по индексам этого списка с помощью enumerate(), тогда можно будет по индексу вызывать нужное имя региона из списка. Добавил это в твой код.</div>"
   ]
  },
  {
   "cell_type": "markdown",
   "metadata": {},
   "source": [
    "**Влияние рейтинга на продажи в СА.**\n",
    "\n",
    "В СА лидерами по продажам являются игры с возрастным рейтингом 17+, что объясняется двумя представителями жанра шутер. За ним следуют незатейливые игры, подходящие всем, с рейтингом Е. Около 18% имеют непоределённый рейтинг. 13% приходится на детей и чуть меньше подростковые игры.\n",
    "\n",
    "**Влияние рейтинга на продажи в Европе.**\n",
    "\n",
    "В Европе всё то же самое, что и в СА. Даже процентное соотношение такое же\n",
    "\n",
    "**Влияние рейтинга на продажи в Японии.**\n",
    "\n",
    "Лидером продаж являются игры с неопределённым рейтингом. Неопределённый рейтинг, возможно, связан стем, что организация по присуждению рейтинга в Японии другая. И многие игры (в том числе свои) оценивает по рейтингу CERO, где А («для всех возрастов»), B («старше 12»), С («старше 15»), D («старше 17»), и Z («от 18 и выше»). Так же, как и в двух других регионах, вторую позицию занимают игры для любого возраста. Почти в таком же соотношении за Е идут игры для подростков."
   ]
  },
  {
   "cell_type": "markdown",
   "metadata": {},
   "source": [
    "<div class=\"alert alert-block alert-warning\">\n",
    "<b>🔁Комментарий ревьюера:</b>\n",
    "\n",
    "По рейтингам тоже можно добавить визуализации</div>"
   ]
  },
  {
   "cell_type": "markdown",
   "metadata": {},
   "source": [
    "<div class=\"alert alert-block alert-success\">\n",
    "<b>✅Комментарий ревьюера 2:</b> Отлично, исправлено!👍  </div>"
   ]
  },
  {
   "cell_type": "markdown",
   "metadata": {},
   "source": [
    "<div class=\"alert alert-block alert-success\">\n",
    "<b>✅Комментарий ревьюера:</b> \n",
    "\n",
    "Про другую систему рейтингов в Японии верно подмечено!</div>"
   ]
  },
  {
   "cell_type": "markdown",
   "metadata": {},
   "source": [
    "<div class=\"alert alert-block alert-info\">\n",
    "<b>🔄Комментарий студента:</b> \n",
    "Обернул всё в функцию и постороил круговые диаграммы для визуализации.\n",
    "</div>"
   ]
  },
  {
   "cell_type": "markdown",
   "metadata": {},
   "source": [
    "## Проверка гипотез."
   ]
  },
  {
   "cell_type": "markdown",
   "metadata": {},
   "source": [
    "### Гипотеза №1."
   ]
  },
  {
   "cell_type": "markdown",
   "metadata": {},
   "source": [
    "Средние пользовательские рейтинги платформ Xbox One и PC одинаковые:\n",
    "\n",
    "                                                H0: μ1 = μ2\n",
    "\n",
    "Средние пользовательские рейтинги платформ Xbox One и PC разные:\n",
    "\n",
    "                                                H1: μ1 != μ2"
   ]
  },
  {
   "cell_type": "markdown",
   "metadata": {},
   "source": [
    "<div class=\"alert alert-block alert-success\">\n",
    "<b>✅Комментарий ревьюера:</b> Здорово, что формулируешь гипотезы вначале шага </div>"
   ]
  },
  {
   "cell_type": "code",
   "execution_count": 37,
   "metadata": {},
   "outputs": [
    {
     "name": "stdout",
     "output_type": "stream",
     "text": [
      "p-значение: 0.5535080500643738\n",
      "Не можем отвергнуть нулевую гипотезу.\n"
     ]
    }
   ],
   "source": [
    "XOne_df = actual_df[actual_df['platform'] == 'XOne']\n",
    "PC_df = actual_df[actual_df['platform'] == 'PC'] \n",
    "\n",
    "alpha = 0.05\n",
    "results = st.ttest_ind(XOne_df['user_score'], PC_df['user_score'], nan_policy='omit')\n",
    "\n",
    "print('p-значение:', results.pvalue)\n",
    "\n",
    "if results.pvalue < alpha:\n",
    "    print('Отвергаем нулевую гипотезу.')\n",
    "else:\n",
    "    print('Не можем отвергнуть нулевую гипотезу.')"
   ]
  },
  {
   "cell_type": "markdown",
   "metadata": {},
   "source": [
    "<div class=\"alert alert-block alert-success\">\n",
    "<b>✅Комментарий ревьюера:</b> \n",
    "    \n",
    "Кстати, можно не удалять пропуски из сравниваемых выборок, а передать в ttest_ind аргумент nan_policy с нужным значением, тогда они будут игнорироваться. Подробнее можно почитать [здесь](https://docs.scipy.org/doc/scipy/reference/generated/scipy.stats.ttest_ind.html) </div>"
   ]
  },
  {
   "cell_type": "markdown",
   "metadata": {},
   "source": [
    "Нулевую гипотезу о том, что средние пользовательские рейтинги платформ Xbox One и PC одинаковые, отвергнуть не удалось."
   ]
  },
  {
   "cell_type": "markdown",
   "metadata": {},
   "source": [
    "<div class=\"alert alert-block alert-danger\">\n",
    "<b>❌Комментарий ревьюера:</b> \n",
    "    \n",
    "Мы не можем подтвердить гипотезу и сказать, что средние пользовательские рейтинги платформ Xbox One и PC одинаковые (можешь убедиться, что они разные). Мы лишь говорим ,что не можем отвергнуть нулевую гипотезу и что с большой долей вероятности средние пользовательские рейтинги платформ XOne и PC не имеют статистически значимых отличий. Это касается первой гипотезы.\n",
    "    \n",
    "Давай аналогично сформулируем вывод для второй гипотезы. ✔\n",
    "</div>"
   ]
  },
  {
   "cell_type": "markdown",
   "metadata": {},
   "source": [
    "<div class=\"alert alert-block alert-success\">\n",
    "<b>✅Комментарий ревьюера 2:</b> Отлично, исправлено!👍  </div>"
   ]
  },
  {
   "cell_type": "markdown",
   "metadata": {},
   "source": [
    "### Гипотеза №2."
   ]
  },
  {
   "cell_type": "markdown",
   "metadata": {},
   "source": [
    "Средние пользовательские рейтинги жанров Action и Sports одинаковые:\n",
    "    \n",
    "                                                H0: μ1 = μ2\n",
    "            \n",
    "Средние пользовательские рейтинги жанров Action и Sports разные:\n",
    "    \n",
    "                                                H1: μ1 != μ2"
   ]
  },
  {
   "cell_type": "code",
   "execution_count": 38,
   "metadata": {},
   "outputs": [
    {
     "name": "stdout",
     "output_type": "stream",
     "text": [
      "p-значение: 4.8045233804629176e-26\n",
      "Отвергаем нулевую гипотезу.\n"
     ]
    }
   ],
   "source": [
    "action_df = actual_df[actual_df['genre'] == 'Action']\n",
    "sports_df = actual_df[actual_df['genre'] == 'Sports'] \n",
    "\n",
    "alpha = 0.05\n",
    "results = st.ttest_ind(action_df['user_score'], sports_df['user_score'], nan_policy='omit')\n",
    "\n",
    "print('p-значение:', results.pvalue)\n",
    "\n",
    "if results.pvalue < alpha:\n",
    "    print('Отвергаем нулевую гипотезу.')\n",
    "else:\n",
    "    print('Не можем отвергнуть нулевую гипотезу.')"
   ]
  },
  {
   "cell_type": "markdown",
   "metadata": {},
   "source": [
    "Нулевая гипотеза о том, что средние пользовательские рейтинги жанров Action и Sports одинаковые, не подтвердилась."
   ]
  },
  {
   "cell_type": "markdown",
   "metadata": {},
   "source": [
    "Оценки пользователей от платформ не зависят, а вот от жанра-да. Тот же Action имеет более обширную аудиторию на всех трёх рынках, когда Sports вообще отсутствует в японском топе."
   ]
  },
  {
   "cell_type": "markdown",
   "metadata": {},
   "source": [
    "## Общий вывод."
   ]
  },
  {
   "cell_type": "markdown",
   "metadata": {},
   "source": [
    "В этом исследовании для прогноза на 2017 год мы изучили данные с 1980 по 2016 год включительно. В этих данных содержались названия игр, типа платформы, год релиза игры, жанр игры, продажи в Северной Америке, Европе, Японии и других странах, оценки критиков и пользователей, а так же возрастной рейтинг игры.\n",
    "\n",
    "На подготовке данных мы привели все столбцы к нижнему регистру. Удалили строки с пропусками в столбцах с названием игры и года релиза, т.к. пропусков там было слишком мало и подобные данные нельзя заменить средним или каким то иным значением. Пропуски в столбце возрастного рейтинга мы заменили на unknown. А вот пропуски в столбцах с оценками критиков и пользователей оставили, т.к. игра могла и вовсе не удостоиться рейтинга. Значения tbd (используется, если какая-то информация еще не определена или решение по вопросу не принято) заменили на NaN. Столбец с датой релиза перевели в целочисленный формат, т.к. там хранится лишь год, а ему не нужен формат с плавающей точкой. Столбец с оценкой пользователей перевели в формат плавающей точки. В самом конце подготовки данных добавили столбец с суммарными продажами по всем регионам.\n",
    "\n",
    "На этапе исследовательского анализа данных выявили, что до 2002 года темп производства новых игр плавно рос, но с 2002 года начался резкий рост по релизам до 2011 года включительно. В 2012 наблюдается резкий спад релизов, с дальнейшим поддержанием уровня до 2016 года. Именно поэтому мы за акутальный период приняли 2012-2016 гг. Выявили, что средней продолжительсностью жизни каждой платформы около 6 лет, и спад продаж на каждой платформе начинается с момента выпуска платформы следующего поколения. С учётом жизни платформ выбрали PS4, т.к. она ещё набирает обороты, Nintendo 3DS, пока ещё актуальна, и XOne, так же ещё актуальна. Не смотря на кажущееся увядание PC, не стоит откидывать эту платформу. Из графика в 3.2 мы видим, что она вновь набирает обороты. На примере 3 популярных платформ мы рассмотрели зависимость между объёмом продаж и двумя видами оценок (критиков и игроков) и выяснили, что зависимость от оценки критиков есть, но она не сильная, а вот оценка обычных игроков вообще не влияет на объём продаж. В тройку лидеров по прибыльности входят жанры: Platform, Sports, Shooter и Role-Playing. Самыми не прибыльными считаются Adventure, Strategy и Puzzle. Можно заметить, что Adventure по кол-ву продаж вырывается на 3 место, уступив лишь 1-му и 3-му местам из топа прибыли. Видимо стоимость этих игр очень мала.\n",
    "\n",
    "На этапе портрета пользователя мы сравнили популярность платформ и жанров в трёх разных регионах продаж, мы можем сказать, что выбор приставок в СА и Европе очень сильно схож. Исключением является X360. В СА он лидирует, а в Европе лишь 3 место. Япония в этом плане придерживается консервативных взглядов и не пускает в топ-5 платформы не своего собственного производства, так же в Японии делается уклон в пользу портативных приставок, 3 строчки из 5 в японском топе держат именно портативные устройства (3DS, PSV и WiiU). Что касаемо жанров наблюдается следующее: СА и Европе имеют одинаковые предпочтения в жанрах, за исключением последней строки. В СА предпочитают многопользовательские шутеры, когда в Европе-гонки. Японцы и здесь в корне отличаются от других. Самыми предпочтительными жанрами являются RPG и Action, забрав на себя больше 70% всех продаж, так же в их топ, в отличие от других, входят симуляторы и файтинги.\n",
    "\n",
    "На этапе проверки гипотез мы не смогли отвергнуть нулевую гипотезу о том, что средние пользовательские рейтинги платформ Xbox One и PC одинаковые, однако отвергли гипотезу: средние пользовательские рейтинги жанров Action и Sports одинаковые.\n",
    "\n",
    "Однозначных закономерностей определяющих успешность игры нет. При прогнозировании продаж на будущий год стоит учитывать такие факторы, как страна. Популярность жанра в той или иной стране так же будет очень сильно влиять на продажи, н-р: в Японии нет смысла делать ставку на игры с жанром Racing, однако в Европе вполне возможны хорошие продажи подобных игр. Популярность платформы определит игры для какой платформы стоит продавать больше или меньше, ведь очень мало людей купят себе новую приставку лишь из-за одной игры на неё. Ещё стоит учитывать возрастной рейтинг (для Японии стоит отдельно изучить возрастной рейтинг), игры, позволяющие играть людям вне зависимости от пола, возраста и т.п. хорошо пойдут в продажу."
   ]
  },
  {
   "cell_type": "markdown",
   "metadata": {},
   "source": [
    "<div class=\"alert alert-block alert-success\">\n",
    "<b>✅Комментарий ревьюера:</b> \n",
    "    \n",
    "Хороший резюмирующий вывод! Молодец, что не забыл дать рекомендации на 2017 год. \n",
    "\n",
    "В целом проект получился очень хорошим. Ты уверенно обращаешься с данными, отлично их анализируешь и строишь прекрасные визуализации! Нужно только подправить несколько замечаний и будет супер!\n",
    "\n",
    "**Хочу обратить твое внимание на то, что после исправления замечаний в некоторых пунктах исследования могут измениться результаты, поэтому нужно будет подкорректировать выводы.**</div>"
   ]
  },
  {
   "cell_type": "markdown",
   "metadata": {},
   "source": [
    "<div class=\"alert alert-block alert-info\">\n",
    "<b>🔄Комментарий студента:</b> \n",
    "Постарался учесть всё то, что ты мне написал. Сократил свою работу аж на целых 11 ячеек кода. И не забыл подкорректировать общий вывод после некоторых исправленний. Жду обратной связи!)\n",
    "</div>"
   ]
  },
  {
   "cell_type": "markdown",
   "metadata": {},
   "source": [
    "<div class=\"alert alert-block alert-success\">\n",
    "<b>✅Комментарий ревьюера 2:</b> Все круто!👍  Только нужно подкорректировать момент с проверкой дубликатов)</div>"
   ]
  },
  {
   "cell_type": "markdown",
   "metadata": {},
   "source": [
    "<div class=\"alert alert-block alert-info\">\n",
    "<b>🔄Комментарий студента 2:</b> \n",
    "В этот раз должно зайти😊 Жду обратной связи!)\n",
    "</div>"
   ]
  },
  {
   "cell_type": "markdown",
   "metadata": {},
   "source": [
    "<div class=\"alert alert-block alert-success\">\n",
    "<b>✅Комментарий ревьюера 3:</b> Зашло😊</div>"
   ]
  },
  {
   "cell_type": "code",
   "execution_count": null,
   "metadata": {},
   "outputs": [],
   "source": []
  }
 ],
 "metadata": {
  "ExecuteTimeLog": [
   {
    "duration": 410,
    "start_time": "2023-06-12T14:11:47.138Z"
   },
   {
    "duration": 99,
    "start_time": "2023-06-12T14:12:19.738Z"
   },
   {
    "duration": 60,
    "start_time": "2023-06-12T14:12:40.501Z"
   },
   {
    "duration": 22,
    "start_time": "2023-06-12T14:13:11.539Z"
   },
   {
    "duration": 30,
    "start_time": "2023-06-12T14:13:28.071Z"
   },
   {
    "duration": 6,
    "start_time": "2023-06-12T14:14:30.478Z"
   },
   {
    "duration": 43,
    "start_time": "2023-06-12T14:21:11.039Z"
   },
   {
    "duration": 1257,
    "start_time": "2023-06-12T14:28:06.317Z"
   },
   {
    "duration": 1112,
    "start_time": "2023-06-12T14:28:23.402Z"
   },
   {
    "duration": 50,
    "start_time": "2023-06-12T14:28:43.909Z"
   },
   {
    "duration": 405,
    "start_time": "2023-06-12T14:28:48.887Z"
   },
   {
    "duration": 63,
    "start_time": "2023-06-12T14:28:49.296Z"
   },
   {
    "duration": 40,
    "start_time": "2023-06-12T14:28:49.361Z"
   },
   {
    "duration": 6,
    "start_time": "2023-06-12T14:47:57.453Z"
   },
   {
    "duration": 5,
    "start_time": "2023-06-12T14:48:32.607Z"
   },
   {
    "duration": 23,
    "start_time": "2023-06-12T14:48:40.199Z"
   },
   {
    "duration": 3,
    "start_time": "2023-06-12T14:48:50.373Z"
   },
   {
    "duration": 4,
    "start_time": "2023-06-12T14:48:52.344Z"
   },
   {
    "duration": 59,
    "start_time": "2023-06-12T14:49:06.144Z"
   },
   {
    "duration": 8,
    "start_time": "2023-06-12T14:50:37.876Z"
   },
   {
    "duration": 59,
    "start_time": "2023-06-14T09:48:32.210Z"
   },
   {
    "duration": 434,
    "start_time": "2023-06-14T09:48:39.550Z"
   },
   {
    "duration": 220,
    "start_time": "2023-06-14T09:48:39.987Z"
   },
   {
    "duration": 60,
    "start_time": "2023-06-14T09:48:40.209Z"
   },
   {
    "duration": 4,
    "start_time": "2023-06-14T09:48:40.270Z"
   },
   {
    "duration": 21,
    "start_time": "2023-06-14T09:48:51.005Z"
   },
   {
    "duration": 17,
    "start_time": "2023-06-14T09:49:20.263Z"
   },
   {
    "duration": 1541,
    "start_time": "2023-06-14T09:53:11.387Z"
   },
   {
    "duration": 5,
    "start_time": "2023-06-14T09:53:25.274Z"
   },
   {
    "duration": 852,
    "start_time": "2023-06-14T09:54:53.902Z"
   },
   {
    "duration": 12,
    "start_time": "2023-06-14T09:55:30.332Z"
   },
   {
    "duration": 21,
    "start_time": "2023-06-14T09:55:38.552Z"
   },
   {
    "duration": 19,
    "start_time": "2023-06-14T09:55:56.131Z"
   },
   {
    "duration": 22,
    "start_time": "2023-06-14T09:55:58.066Z"
   },
   {
    "duration": 470,
    "start_time": "2023-06-14T09:56:06.203Z"
   },
   {
    "duration": 62,
    "start_time": "2023-06-14T09:56:06.675Z"
   },
   {
    "duration": 69,
    "start_time": "2023-06-14T09:56:06.739Z"
   },
   {
    "duration": 10,
    "start_time": "2023-06-14T09:56:06.810Z"
   },
   {
    "duration": 29,
    "start_time": "2023-06-14T09:56:06.825Z"
   },
   {
    "duration": 26,
    "start_time": "2023-06-14T09:56:06.856Z"
   },
   {
    "duration": 69,
    "start_time": "2023-06-14T09:56:06.884Z"
   },
   {
    "duration": 418,
    "start_time": "2023-06-14T09:56:19.367Z"
   },
   {
    "duration": 73,
    "start_time": "2023-06-14T09:56:19.789Z"
   },
   {
    "duration": 68,
    "start_time": "2023-06-14T09:56:19.865Z"
   },
   {
    "duration": 7,
    "start_time": "2023-06-14T09:56:19.937Z"
   },
   {
    "duration": 110,
    "start_time": "2023-06-14T09:56:19.946Z"
   },
   {
    "duration": 20,
    "start_time": "2023-06-14T09:56:20.059Z"
   },
   {
    "duration": 24,
    "start_time": "2023-06-14T09:56:20.082Z"
   },
   {
    "duration": 47,
    "start_time": "2023-06-14T09:59:52.152Z"
   },
   {
    "duration": 32,
    "start_time": "2023-06-14T09:59:54.544Z"
   },
   {
    "duration": 453,
    "start_time": "2023-06-14T10:01:20.094Z"
   },
   {
    "duration": 60,
    "start_time": "2023-06-14T10:01:20.552Z"
   },
   {
    "duration": 56,
    "start_time": "2023-06-14T10:01:20.614Z"
   },
   {
    "duration": 4,
    "start_time": "2023-06-14T10:01:20.672Z"
   },
   {
    "duration": 32,
    "start_time": "2023-06-14T10:01:20.678Z"
   },
   {
    "duration": 22,
    "start_time": "2023-06-14T10:01:20.713Z"
   },
   {
    "duration": 28,
    "start_time": "2023-06-14T10:01:20.743Z"
   },
   {
    "duration": 20,
    "start_time": "2023-06-14T10:03:11.406Z"
   },
   {
    "duration": 99,
    "start_time": "2023-06-14T10:03:32.967Z"
   },
   {
    "duration": 473,
    "start_time": "2023-06-14T10:04:19.546Z"
   },
   {
    "duration": 85,
    "start_time": "2023-06-14T10:04:20.022Z"
   },
   {
    "duration": 70,
    "start_time": "2023-06-14T10:04:20.109Z"
   },
   {
    "duration": 4,
    "start_time": "2023-06-14T10:04:20.183Z"
   },
   {
    "duration": 42,
    "start_time": "2023-06-14T10:04:20.190Z"
   },
   {
    "duration": 94,
    "start_time": "2023-06-14T10:04:20.238Z"
   },
   {
    "duration": 0,
    "start_time": "2023-06-14T10:04:20.334Z"
   },
   {
    "duration": 0,
    "start_time": "2023-06-14T10:04:20.335Z"
   },
   {
    "duration": 18,
    "start_time": "2023-06-14T10:04:56.970Z"
   },
   {
    "duration": 5,
    "start_time": "2023-06-14T10:05:15.275Z"
   },
   {
    "duration": 25,
    "start_time": "2023-06-14T10:05:17.353Z"
   },
   {
    "duration": 20,
    "start_time": "2023-06-14T10:05:40.744Z"
   },
   {
    "duration": 420,
    "start_time": "2023-06-14T10:05:51.342Z"
   },
   {
    "duration": 65,
    "start_time": "2023-06-14T10:05:51.765Z"
   },
   {
    "duration": 51,
    "start_time": "2023-06-14T10:05:51.838Z"
   },
   {
    "duration": 4,
    "start_time": "2023-06-14T10:05:51.891Z"
   },
   {
    "duration": 25,
    "start_time": "2023-06-14T10:05:51.898Z"
   },
   {
    "duration": 25,
    "start_time": "2023-06-14T10:05:51.924Z"
   },
   {
    "duration": 25,
    "start_time": "2023-06-14T10:05:51.953Z"
   },
   {
    "duration": 29,
    "start_time": "2023-06-14T10:05:51.980Z"
   },
   {
    "duration": 13,
    "start_time": "2023-06-14T10:31:20.367Z"
   },
   {
    "duration": 29,
    "start_time": "2023-06-14T10:31:50.778Z"
   },
   {
    "duration": 36,
    "start_time": "2023-06-14T10:32:07.309Z"
   },
   {
    "duration": 36,
    "start_time": "2023-06-14T10:33:00.598Z"
   },
   {
    "duration": 203,
    "start_time": "2023-06-14T10:34:01.892Z"
   },
   {
    "duration": 9,
    "start_time": "2023-06-14T10:34:44.866Z"
   },
   {
    "duration": 125,
    "start_time": "2023-06-14T10:35:24.846Z"
   },
   {
    "duration": 17,
    "start_time": "2023-06-14T10:35:37.932Z"
   },
   {
    "duration": 7,
    "start_time": "2023-06-14T10:36:12.251Z"
   },
   {
    "duration": 8,
    "start_time": "2023-06-14T10:39:11.788Z"
   },
   {
    "duration": 11,
    "start_time": "2023-06-14T10:39:25.094Z"
   },
   {
    "duration": 21,
    "start_time": "2023-06-14T10:39:32.078Z"
   },
   {
    "duration": 31,
    "start_time": "2023-06-14T10:40:34.554Z"
   },
   {
    "duration": 35,
    "start_time": "2023-06-14T10:40:58.242Z"
   },
   {
    "duration": 563,
    "start_time": "2023-06-14T10:41:23.411Z"
   },
   {
    "duration": 70,
    "start_time": "2023-06-14T10:41:23.978Z"
   },
   {
    "duration": 45,
    "start_time": "2023-06-14T10:41:24.049Z"
   },
   {
    "duration": 3,
    "start_time": "2023-06-14T10:41:24.096Z"
   },
   {
    "duration": 43,
    "start_time": "2023-06-14T10:41:24.113Z"
   },
   {
    "duration": 54,
    "start_time": "2023-06-14T10:41:24.158Z"
   },
   {
    "duration": 15,
    "start_time": "2023-06-14T10:41:24.215Z"
   },
   {
    "duration": 7,
    "start_time": "2023-06-14T10:41:24.232Z"
   },
   {
    "duration": 39,
    "start_time": "2023-06-14T10:41:24.241Z"
   },
   {
    "duration": 51,
    "start_time": "2023-06-14T10:41:24.282Z"
   },
   {
    "duration": 9,
    "start_time": "2023-06-14T10:43:02.768Z"
   },
   {
    "duration": 7,
    "start_time": "2023-06-14T10:43:18.991Z"
   },
   {
    "duration": 9,
    "start_time": "2023-06-14T11:18:20.954Z"
   },
   {
    "duration": 17,
    "start_time": "2023-06-14T12:06:20.794Z"
   },
   {
    "duration": 11,
    "start_time": "2023-06-14T12:06:29.255Z"
   },
   {
    "duration": 106,
    "start_time": "2023-06-14T12:11:12.259Z"
   },
   {
    "duration": 21,
    "start_time": "2023-06-14T12:11:29.902Z"
   },
   {
    "duration": 12,
    "start_time": "2023-06-14T12:11:31.366Z"
   },
   {
    "duration": 22,
    "start_time": "2023-06-14T12:12:18.253Z"
   },
   {
    "duration": 30,
    "start_time": "2023-06-14T12:12:29.513Z"
   },
   {
    "duration": 7,
    "start_time": "2023-06-14T12:13:46.731Z"
   },
   {
    "duration": 15,
    "start_time": "2023-06-14T12:13:48.629Z"
   },
   {
    "duration": 16,
    "start_time": "2023-06-14T12:14:08.248Z"
   },
   {
    "duration": 7,
    "start_time": "2023-06-14T12:14:22.746Z"
   },
   {
    "duration": 451,
    "start_time": "2023-06-14T12:17:23.924Z"
   },
   {
    "duration": 18,
    "start_time": "2023-06-14T12:17:56.946Z"
   },
   {
    "duration": 7,
    "start_time": "2023-06-14T12:18:07.983Z"
   },
   {
    "duration": 30,
    "start_time": "2023-06-14T12:18:10.421Z"
   },
   {
    "duration": 36,
    "start_time": "2023-06-14T12:18:14.747Z"
   },
   {
    "duration": 21,
    "start_time": "2023-06-14T12:27:35.552Z"
   },
   {
    "duration": 14,
    "start_time": "2023-06-14T12:27:39.214Z"
   },
   {
    "duration": 481,
    "start_time": "2023-06-14T12:27:54.428Z"
   },
   {
    "duration": 71,
    "start_time": "2023-06-14T12:27:54.913Z"
   },
   {
    "duration": 62,
    "start_time": "2023-06-14T12:27:54.986Z"
   },
   {
    "duration": 4,
    "start_time": "2023-06-14T12:27:55.050Z"
   },
   {
    "duration": 20,
    "start_time": "2023-06-14T12:27:55.057Z"
   },
   {
    "duration": 49,
    "start_time": "2023-06-14T12:27:55.079Z"
   },
   {
    "duration": 19,
    "start_time": "2023-06-14T12:27:55.130Z"
   },
   {
    "duration": 25,
    "start_time": "2023-06-14T12:27:55.151Z"
   },
   {
    "duration": 6,
    "start_time": "2023-06-14T12:27:55.178Z"
   },
   {
    "duration": 48,
    "start_time": "2023-06-14T12:27:55.186Z"
   },
   {
    "duration": 13,
    "start_time": "2023-06-14T12:27:55.238Z"
   },
   {
    "duration": 43,
    "start_time": "2023-06-14T12:27:55.253Z"
   },
   {
    "duration": 41,
    "start_time": "2023-06-14T12:27:55.298Z"
   },
   {
    "duration": 4,
    "start_time": "2023-06-14T12:28:14.347Z"
   },
   {
    "duration": 28,
    "start_time": "2023-06-14T12:28:18.085Z"
   },
   {
    "duration": 30,
    "start_time": "2023-06-14T12:28:20.758Z"
   },
   {
    "duration": 376,
    "start_time": "2023-06-14T12:35:26.866Z"
   },
   {
    "duration": 53,
    "start_time": "2023-06-14T12:35:27.244Z"
   },
   {
    "duration": 83,
    "start_time": "2023-06-14T12:35:27.299Z"
   },
   {
    "duration": 146,
    "start_time": "2023-06-14T12:35:27.383Z"
   },
   {
    "duration": 115,
    "start_time": "2023-06-14T12:35:27.532Z"
   },
   {
    "duration": 58,
    "start_time": "2023-06-14T12:35:27.649Z"
   },
   {
    "duration": 23,
    "start_time": "2023-06-14T12:35:27.709Z"
   },
   {
    "duration": 58,
    "start_time": "2023-06-14T12:35:27.734Z"
   },
   {
    "duration": 22,
    "start_time": "2023-06-14T12:35:27.794Z"
   },
   {
    "duration": 28,
    "start_time": "2023-06-14T12:35:27.823Z"
   },
   {
    "duration": 101,
    "start_time": "2023-06-14T12:35:27.853Z"
   },
   {
    "duration": 0,
    "start_time": "2023-06-14T12:35:27.955Z"
   },
   {
    "duration": 0,
    "start_time": "2023-06-14T12:35:27.957Z"
   },
   {
    "duration": 406,
    "start_time": "2023-06-14T12:37:16.532Z"
   },
   {
    "duration": 54,
    "start_time": "2023-06-14T12:37:16.940Z"
   },
   {
    "duration": 56,
    "start_time": "2023-06-14T12:37:16.996Z"
   },
   {
    "duration": 4,
    "start_time": "2023-06-14T12:37:17.054Z"
   },
   {
    "duration": 79,
    "start_time": "2023-06-14T12:37:17.061Z"
   },
   {
    "duration": 52,
    "start_time": "2023-06-14T12:37:17.142Z"
   },
   {
    "duration": 14,
    "start_time": "2023-06-14T12:37:17.195Z"
   },
   {
    "duration": 35,
    "start_time": "2023-06-14T12:37:17.211Z"
   },
   {
    "duration": 19,
    "start_time": "2023-06-14T12:37:17.248Z"
   },
   {
    "duration": 20,
    "start_time": "2023-06-14T12:37:17.269Z"
   },
   {
    "duration": 8,
    "start_time": "2023-06-14T12:37:17.291Z"
   },
   {
    "duration": 38,
    "start_time": "2023-06-14T12:37:17.301Z"
   },
   {
    "duration": 17,
    "start_time": "2023-06-14T12:37:17.340Z"
   },
   {
    "duration": 393,
    "start_time": "2023-06-14T12:41:23.156Z"
   },
   {
    "duration": 53,
    "start_time": "2023-06-14T12:41:23.551Z"
   },
   {
    "duration": 62,
    "start_time": "2023-06-14T12:41:23.606Z"
   },
   {
    "duration": 3,
    "start_time": "2023-06-14T12:41:23.671Z"
   },
   {
    "duration": 51,
    "start_time": "2023-06-14T12:41:23.677Z"
   },
   {
    "duration": 31,
    "start_time": "2023-06-14T12:41:23.730Z"
   },
   {
    "duration": 29,
    "start_time": "2023-06-14T12:41:23.762Z"
   },
   {
    "duration": 62,
    "start_time": "2023-06-14T12:41:23.793Z"
   },
   {
    "duration": 46,
    "start_time": "2023-06-14T12:41:23.857Z"
   },
   {
    "duration": 49,
    "start_time": "2023-06-14T12:41:23.905Z"
   },
   {
    "duration": 24,
    "start_time": "2023-06-14T12:41:23.958Z"
   },
   {
    "duration": 55,
    "start_time": "2023-06-14T12:41:23.984Z"
   },
   {
    "duration": 18,
    "start_time": "2023-06-14T12:41:24.041Z"
   },
   {
    "duration": 6,
    "start_time": "2023-06-14T12:48:31.758Z"
   },
   {
    "duration": 422,
    "start_time": "2023-06-14T12:51:04.511Z"
   },
   {
    "duration": 62,
    "start_time": "2023-06-14T12:51:04.935Z"
   },
   {
    "duration": 58,
    "start_time": "2023-06-14T12:51:04.999Z"
   },
   {
    "duration": 4,
    "start_time": "2023-06-14T12:51:05.059Z"
   },
   {
    "duration": 40,
    "start_time": "2023-06-14T12:51:05.066Z"
   },
   {
    "duration": 60,
    "start_time": "2023-06-14T12:51:05.108Z"
   },
   {
    "duration": 27,
    "start_time": "2023-06-14T12:51:05.170Z"
   },
   {
    "duration": 70,
    "start_time": "2023-06-14T12:51:05.199Z"
   },
   {
    "duration": 30,
    "start_time": "2023-06-14T12:51:05.270Z"
   },
   {
    "duration": 39,
    "start_time": "2023-06-14T12:51:05.301Z"
   },
   {
    "duration": 39,
    "start_time": "2023-06-14T12:51:05.342Z"
   },
   {
    "duration": 54,
    "start_time": "2023-06-14T12:51:05.382Z"
   },
   {
    "duration": 48,
    "start_time": "2023-06-14T12:51:05.442Z"
   },
   {
    "duration": 6,
    "start_time": "2023-06-14T12:52:44.340Z"
   },
   {
    "duration": 17,
    "start_time": "2023-06-14T12:53:08.339Z"
   },
   {
    "duration": 5,
    "start_time": "2023-06-14T12:53:31.791Z"
   },
   {
    "duration": 5,
    "start_time": "2023-06-14T12:54:56.048Z"
   },
   {
    "duration": 9,
    "start_time": "2023-06-14T12:56:17.536Z"
   },
   {
    "duration": 1385,
    "start_time": "2023-06-14T12:58:26.759Z"
   },
   {
    "duration": 55,
    "start_time": "2023-06-14T12:58:28.147Z"
   },
   {
    "duration": 60,
    "start_time": "2023-06-14T12:58:28.205Z"
   },
   {
    "duration": 4,
    "start_time": "2023-06-14T12:58:28.267Z"
   },
   {
    "duration": 33,
    "start_time": "2023-06-14T12:58:28.274Z"
   },
   {
    "duration": 50,
    "start_time": "2023-06-14T12:58:28.309Z"
   },
   {
    "duration": 13,
    "start_time": "2023-06-14T12:58:28.361Z"
   },
   {
    "duration": 55,
    "start_time": "2023-06-14T12:58:28.376Z"
   },
   {
    "duration": 11,
    "start_time": "2023-06-14T12:58:28.440Z"
   },
   {
    "duration": 39,
    "start_time": "2023-06-14T12:58:28.452Z"
   },
   {
    "duration": 33,
    "start_time": "2023-06-14T12:58:28.494Z"
   },
   {
    "duration": 30,
    "start_time": "2023-06-14T12:58:28.529Z"
   },
   {
    "duration": 17,
    "start_time": "2023-06-14T12:58:28.561Z"
   },
   {
    "duration": 21,
    "start_time": "2023-06-14T12:58:28.581Z"
   },
   {
    "duration": 40,
    "start_time": "2023-06-14T12:58:28.603Z"
   },
   {
    "duration": 251,
    "start_time": "2023-06-14T13:00:17.159Z"
   },
   {
    "duration": 359,
    "start_time": "2023-06-14T13:02:28.427Z"
   },
   {
    "duration": 357,
    "start_time": "2023-06-14T13:02:40.237Z"
   },
   {
    "duration": 381,
    "start_time": "2023-06-14T13:05:03.729Z"
   },
   {
    "duration": 346,
    "start_time": "2023-06-14T13:05:21.754Z"
   },
   {
    "duration": 111,
    "start_time": "2023-06-14T14:18:33.222Z"
   },
   {
    "duration": 84,
    "start_time": "2023-06-14T14:18:46.122Z"
   },
   {
    "duration": 5,
    "start_time": "2023-06-14T14:18:49.857Z"
   },
   {
    "duration": 6,
    "start_time": "2023-06-14T14:19:27.389Z"
   },
   {
    "duration": 9,
    "start_time": "2023-06-14T14:19:35.231Z"
   },
   {
    "duration": 89,
    "start_time": "2023-06-14T14:19:45.949Z"
   },
   {
    "duration": 5,
    "start_time": "2023-06-14T14:19:50.530Z"
   },
   {
    "duration": 381,
    "start_time": "2023-06-14T14:23:28.677Z"
   },
   {
    "duration": 285,
    "start_time": "2023-06-14T14:24:06.116Z"
   },
   {
    "duration": 23,
    "start_time": "2023-06-14T14:26:14.637Z"
   },
   {
    "duration": 16,
    "start_time": "2023-06-14T14:26:25.509Z"
   },
   {
    "duration": 50,
    "start_time": "2023-06-14T14:29:22.109Z"
   },
   {
    "duration": 844,
    "start_time": "2023-06-14T14:30:59.410Z"
   },
   {
    "duration": 565,
    "start_time": "2023-06-14T14:31:33.514Z"
   },
   {
    "duration": 25,
    "start_time": "2023-06-14T14:35:29.086Z"
   },
   {
    "duration": 1128,
    "start_time": "2023-06-14T14:35:36.385Z"
   },
   {
    "duration": 62,
    "start_time": "2023-06-14T14:35:37.515Z"
   },
   {
    "duration": 60,
    "start_time": "2023-06-14T14:35:37.579Z"
   },
   {
    "duration": 4,
    "start_time": "2023-06-14T14:35:37.641Z"
   },
   {
    "duration": 27,
    "start_time": "2023-06-14T14:35:37.648Z"
   },
   {
    "duration": 39,
    "start_time": "2023-06-14T14:35:37.677Z"
   },
   {
    "duration": 17,
    "start_time": "2023-06-14T14:35:37.719Z"
   },
   {
    "duration": 21,
    "start_time": "2023-06-14T14:35:37.739Z"
   },
   {
    "duration": 8,
    "start_time": "2023-06-14T14:35:37.762Z"
   },
   {
    "duration": 19,
    "start_time": "2023-06-14T14:35:37.772Z"
   },
   {
    "duration": 8,
    "start_time": "2023-06-14T14:35:37.819Z"
   },
   {
    "duration": 30,
    "start_time": "2023-06-14T14:35:37.829Z"
   },
   {
    "duration": 30,
    "start_time": "2023-06-14T14:35:37.861Z"
   },
   {
    "duration": 4,
    "start_time": "2023-06-14T14:35:37.893Z"
   },
   {
    "duration": 17,
    "start_time": "2023-06-14T14:35:37.898Z"
   },
   {
    "duration": 384,
    "start_time": "2023-06-14T14:35:37.917Z"
   },
   {
    "duration": 443,
    "start_time": "2023-06-14T14:35:38.303Z"
   },
   {
    "duration": 581,
    "start_time": "2023-06-14T14:35:57.314Z"
   },
   {
    "duration": 884,
    "start_time": "2023-06-14T14:36:05.080Z"
   },
   {
    "duration": 983,
    "start_time": "2023-06-14T14:36:29.581Z"
   },
   {
    "duration": 76,
    "start_time": "2023-06-14T14:37:43.181Z"
   },
   {
    "duration": 72,
    "start_time": "2023-06-14T14:38:39.695Z"
   },
   {
    "duration": 55,
    "start_time": "2023-06-14T14:38:56.795Z"
   },
   {
    "duration": 58,
    "start_time": "2023-06-14T14:39:10.494Z"
   },
   {
    "duration": 56,
    "start_time": "2023-06-14T14:39:19.929Z"
   },
   {
    "duration": 819,
    "start_time": "2023-06-14T14:39:30.194Z"
   },
   {
    "duration": 1133,
    "start_time": "2023-06-14T14:40:41.878Z"
   },
   {
    "duration": 52,
    "start_time": "2023-06-14T14:40:43.013Z"
   },
   {
    "duration": 39,
    "start_time": "2023-06-14T14:40:43.067Z"
   },
   {
    "duration": 3,
    "start_time": "2023-06-14T14:40:43.107Z"
   },
   {
    "duration": 24,
    "start_time": "2023-06-14T14:40:43.112Z"
   },
   {
    "duration": 20,
    "start_time": "2023-06-14T14:40:43.138Z"
   },
   {
    "duration": 12,
    "start_time": "2023-06-14T14:40:43.159Z"
   },
   {
    "duration": 42,
    "start_time": "2023-06-14T14:40:43.173Z"
   },
   {
    "duration": 26,
    "start_time": "2023-06-14T14:40:43.217Z"
   },
   {
    "duration": 25,
    "start_time": "2023-06-14T14:40:43.245Z"
   },
   {
    "duration": 24,
    "start_time": "2023-06-14T14:40:43.272Z"
   },
   {
    "duration": 33,
    "start_time": "2023-06-14T14:40:43.298Z"
   },
   {
    "duration": 20,
    "start_time": "2023-06-14T14:40:43.333Z"
   },
   {
    "duration": 5,
    "start_time": "2023-06-14T14:40:43.355Z"
   },
   {
    "duration": 26,
    "start_time": "2023-06-14T14:40:43.361Z"
   },
   {
    "duration": 360,
    "start_time": "2023-06-14T14:40:43.389Z"
   },
   {
    "duration": 120,
    "start_time": "2023-06-14T14:40:43.750Z"
   },
   {
    "duration": 819,
    "start_time": "2023-06-14T14:41:02.344Z"
   },
   {
    "duration": 837,
    "start_time": "2023-06-14T14:41:18.223Z"
   },
   {
    "duration": 1880,
    "start_time": "2023-06-14T14:43:29.907Z"
   },
   {
    "duration": 1886,
    "start_time": "2023-06-14T14:43:43.627Z"
   },
   {
    "duration": 1885,
    "start_time": "2023-06-14T14:44:32.809Z"
   },
   {
    "duration": 1857,
    "start_time": "2023-06-14T14:45:10.712Z"
   },
   {
    "duration": 1780,
    "start_time": "2023-06-14T14:45:40.097Z"
   },
   {
    "duration": 1724,
    "start_time": "2023-06-14T14:47:30.399Z"
   },
   {
    "duration": 5,
    "start_time": "2023-06-14T14:49:20.278Z"
   },
   {
    "duration": 1916,
    "start_time": "2023-06-14T14:49:34.041Z"
   },
   {
    "duration": 1914,
    "start_time": "2023-06-14T14:50:33.988Z"
   },
   {
    "duration": 1821,
    "start_time": "2023-06-14T14:51:22.285Z"
   },
   {
    "duration": 2102,
    "start_time": "2023-06-14T14:51:38.291Z"
   },
   {
    "duration": 1969,
    "start_time": "2023-06-14T14:51:48.917Z"
   },
   {
    "duration": 1234,
    "start_time": "2023-06-14T14:53:44.203Z"
   },
   {
    "duration": 56,
    "start_time": "2023-06-14T14:53:45.439Z"
   },
   {
    "duration": 60,
    "start_time": "2023-06-14T14:53:45.496Z"
   },
   {
    "duration": 3,
    "start_time": "2023-06-14T14:53:45.559Z"
   },
   {
    "duration": 57,
    "start_time": "2023-06-14T14:53:45.564Z"
   },
   {
    "duration": 38,
    "start_time": "2023-06-14T14:53:45.623Z"
   },
   {
    "duration": 13,
    "start_time": "2023-06-14T14:53:45.663Z"
   },
   {
    "duration": 22,
    "start_time": "2023-06-14T14:53:45.678Z"
   },
   {
    "duration": 5,
    "start_time": "2023-06-14T14:53:45.714Z"
   },
   {
    "duration": 13,
    "start_time": "2023-06-14T14:53:45.720Z"
   },
   {
    "duration": 6,
    "start_time": "2023-06-14T14:53:45.735Z"
   },
   {
    "duration": 20,
    "start_time": "2023-06-14T14:53:45.742Z"
   },
   {
    "duration": 51,
    "start_time": "2023-06-14T14:53:45.764Z"
   },
   {
    "duration": 5,
    "start_time": "2023-06-14T14:53:45.817Z"
   },
   {
    "duration": 16,
    "start_time": "2023-06-14T14:53:45.823Z"
   },
   {
    "duration": 376,
    "start_time": "2023-06-14T14:53:45.841Z"
   },
   {
    "duration": 6,
    "start_time": "2023-06-14T14:53:46.219Z"
   },
   {
    "duration": 152,
    "start_time": "2023-06-14T14:53:46.226Z"
   },
   {
    "duration": 1267,
    "start_time": "2023-06-14T14:54:48.920Z"
   },
   {
    "duration": 54,
    "start_time": "2023-06-14T14:54:50.190Z"
   },
   {
    "duration": 54,
    "start_time": "2023-06-14T14:54:50.246Z"
   },
   {
    "duration": 8,
    "start_time": "2023-06-14T14:54:50.305Z"
   },
   {
    "duration": 95,
    "start_time": "2023-06-14T14:54:50.316Z"
   },
   {
    "duration": 37,
    "start_time": "2023-06-14T14:54:50.413Z"
   },
   {
    "duration": 31,
    "start_time": "2023-06-14T14:54:50.452Z"
   },
   {
    "duration": 54,
    "start_time": "2023-06-14T14:54:50.485Z"
   },
   {
    "duration": 13,
    "start_time": "2023-06-14T14:54:50.542Z"
   },
   {
    "duration": 38,
    "start_time": "2023-06-14T14:54:50.557Z"
   },
   {
    "duration": 15,
    "start_time": "2023-06-14T14:54:50.597Z"
   },
   {
    "duration": 30,
    "start_time": "2023-06-14T14:54:50.614Z"
   },
   {
    "duration": 39,
    "start_time": "2023-06-14T14:54:50.646Z"
   },
   {
    "duration": 23,
    "start_time": "2023-06-14T14:54:50.688Z"
   },
   {
    "duration": 20,
    "start_time": "2023-06-14T14:54:50.713Z"
   },
   {
    "duration": 415,
    "start_time": "2023-06-14T14:54:50.734Z"
   },
   {
    "duration": 7,
    "start_time": "2023-06-14T14:54:51.151Z"
   },
   {
    "duration": 206,
    "start_time": "2023-06-14T14:54:51.159Z"
   },
   {
    "duration": 1645,
    "start_time": "2023-06-14T14:56:26.754Z"
   },
   {
    "duration": 1205,
    "start_time": "2023-06-14T14:57:55.624Z"
   },
   {
    "duration": 54,
    "start_time": "2023-06-14T14:57:56.831Z"
   },
   {
    "duration": 43,
    "start_time": "2023-06-14T14:57:56.886Z"
   },
   {
    "duration": 3,
    "start_time": "2023-06-14T14:57:56.931Z"
   },
   {
    "duration": 18,
    "start_time": "2023-06-14T14:57:56.937Z"
   },
   {
    "duration": 30,
    "start_time": "2023-06-14T14:57:56.957Z"
   },
   {
    "duration": 36,
    "start_time": "2023-06-14T14:57:56.989Z"
   },
   {
    "duration": 33,
    "start_time": "2023-06-14T14:57:57.027Z"
   },
   {
    "duration": 6,
    "start_time": "2023-06-14T14:57:57.062Z"
   },
   {
    "duration": 12,
    "start_time": "2023-06-14T14:57:57.070Z"
   },
   {
    "duration": 35,
    "start_time": "2023-06-14T14:57:57.084Z"
   },
   {
    "duration": 33,
    "start_time": "2023-06-14T14:57:57.121Z"
   },
   {
    "duration": 19,
    "start_time": "2023-06-14T14:57:57.156Z"
   },
   {
    "duration": 5,
    "start_time": "2023-06-14T14:57:57.177Z"
   },
   {
    "duration": 14,
    "start_time": "2023-06-14T14:57:57.213Z"
   },
   {
    "duration": 500,
    "start_time": "2023-06-14T14:57:57.230Z"
   },
   {
    "duration": 9,
    "start_time": "2023-06-14T14:57:57.732Z"
   },
   {
    "duration": 1828,
    "start_time": "2023-06-14T14:57:57.743Z"
   },
   {
    "duration": 1404,
    "start_time": "2023-06-14T17:14:34.939Z"
   },
   {
    "duration": 77,
    "start_time": "2023-06-14T17:14:36.355Z"
   },
   {
    "duration": 66,
    "start_time": "2023-06-14T17:14:36.438Z"
   },
   {
    "duration": 4,
    "start_time": "2023-06-14T17:14:36.506Z"
   },
   {
    "duration": 27,
    "start_time": "2023-06-14T17:14:36.513Z"
   },
   {
    "duration": 39,
    "start_time": "2023-06-14T17:14:36.544Z"
   },
   {
    "duration": 13,
    "start_time": "2023-06-14T17:14:36.585Z"
   },
   {
    "duration": 45,
    "start_time": "2023-06-14T17:14:36.600Z"
   },
   {
    "duration": 13,
    "start_time": "2023-06-14T17:14:36.647Z"
   },
   {
    "duration": 40,
    "start_time": "2023-06-14T17:14:36.662Z"
   },
   {
    "duration": 15,
    "start_time": "2023-06-14T17:14:36.704Z"
   },
   {
    "duration": 37,
    "start_time": "2023-06-14T17:14:36.722Z"
   },
   {
    "duration": 33,
    "start_time": "2023-06-14T17:14:36.761Z"
   },
   {
    "duration": 6,
    "start_time": "2023-06-14T17:14:36.797Z"
   },
   {
    "duration": 23,
    "start_time": "2023-06-14T17:14:36.805Z"
   },
   {
    "duration": 477,
    "start_time": "2023-06-14T17:14:36.831Z"
   },
   {
    "duration": 6,
    "start_time": "2023-06-14T17:14:37.310Z"
   },
   {
    "duration": 1969,
    "start_time": "2023-06-14T17:14:37.318Z"
   },
   {
    "duration": 1893,
    "start_time": "2023-06-14T17:16:09.491Z"
   },
   {
    "duration": 142,
    "start_time": "2023-06-14T17:20:12.331Z"
   },
   {
    "duration": 22,
    "start_time": "2023-06-14T17:20:45.017Z"
   },
   {
    "duration": 42,
    "start_time": "2023-06-14T17:20:55.543Z"
   },
   {
    "duration": 23,
    "start_time": "2023-06-14T17:23:42.933Z"
   },
   {
    "duration": 11,
    "start_time": "2023-06-14T17:24:17.496Z"
   },
   {
    "duration": 7,
    "start_time": "2023-06-14T17:25:08.704Z"
   },
   {
    "duration": 349,
    "start_time": "2023-06-14T17:27:25.063Z"
   },
   {
    "duration": 267,
    "start_time": "2023-06-14T17:31:07.539Z"
   },
   {
    "duration": 19,
    "start_time": "2023-06-14T17:33:50.867Z"
   },
   {
    "duration": 1472,
    "start_time": "2023-06-14T17:34:04.361Z"
   },
   {
    "duration": 71,
    "start_time": "2023-06-14T17:34:05.836Z"
   },
   {
    "duration": 125,
    "start_time": "2023-06-14T17:34:05.908Z"
   },
   {
    "duration": 11,
    "start_time": "2023-06-14T17:34:06.035Z"
   },
   {
    "duration": 251,
    "start_time": "2023-06-14T17:34:06.049Z"
   },
   {
    "duration": 91,
    "start_time": "2023-06-14T17:34:06.303Z"
   },
   {
    "duration": 368,
    "start_time": "2023-06-14T17:34:06.397Z"
   },
   {
    "duration": 335,
    "start_time": "2023-06-14T17:34:06.767Z"
   },
   {
    "duration": 6,
    "start_time": "2023-06-14T17:34:07.105Z"
   },
   {
    "duration": 59,
    "start_time": "2023-06-14T17:34:07.113Z"
   },
   {
    "duration": 8,
    "start_time": "2023-06-14T17:34:07.174Z"
   },
   {
    "duration": 27,
    "start_time": "2023-06-14T17:34:07.183Z"
   },
   {
    "duration": 43,
    "start_time": "2023-06-14T17:34:07.212Z"
   },
   {
    "duration": 7,
    "start_time": "2023-06-14T17:34:07.260Z"
   },
   {
    "duration": 15,
    "start_time": "2023-06-14T17:34:07.271Z"
   },
   {
    "duration": 561,
    "start_time": "2023-06-14T17:34:07.288Z"
   },
   {
    "duration": 10,
    "start_time": "2023-06-14T17:34:07.858Z"
   },
   {
    "duration": 1767,
    "start_time": "2023-06-14T17:34:07.870Z"
   },
   {
    "duration": 180,
    "start_time": "2023-06-14T17:34:09.643Z"
   },
   {
    "duration": 34,
    "start_time": "2023-06-14T17:38:18.452Z"
   },
   {
    "duration": 1153,
    "start_time": "2023-06-14T17:38:27.666Z"
   },
   {
    "duration": 38,
    "start_time": "2023-06-14T17:39:24.644Z"
   },
   {
    "duration": 17,
    "start_time": "2023-06-14T17:39:33.944Z"
   },
   {
    "duration": 339,
    "start_time": "2023-06-14T17:39:51.773Z"
   },
   {
    "duration": 33,
    "start_time": "2023-06-14T17:40:11.646Z"
   },
   {
    "duration": 10,
    "start_time": "2023-06-14T17:42:29.400Z"
   },
   {
    "duration": 575,
    "start_time": "2023-06-14T17:45:16.914Z"
   },
   {
    "duration": 539,
    "start_time": "2023-06-14T17:45:47.955Z"
   },
   {
    "duration": 611,
    "start_time": "2023-06-14T17:45:56.662Z"
   },
   {
    "duration": 13,
    "start_time": "2023-06-14T17:47:30.661Z"
   },
   {
    "duration": 10,
    "start_time": "2023-06-14T18:05:16.941Z"
   },
   {
    "duration": 12,
    "start_time": "2023-06-14T18:06:08.832Z"
   },
   {
    "duration": 9,
    "start_time": "2023-06-14T18:07:10.733Z"
   },
   {
    "duration": 15,
    "start_time": "2023-06-14T18:07:36.587Z"
   },
   {
    "duration": 32,
    "start_time": "2023-06-14T18:07:53.600Z"
   },
   {
    "duration": 11,
    "start_time": "2023-06-14T18:08:46.132Z"
   },
   {
    "duration": 73,
    "start_time": "2023-06-14T18:09:08.296Z"
   },
   {
    "duration": 68,
    "start_time": "2023-06-14T18:09:30.733Z"
   },
   {
    "duration": 45,
    "start_time": "2023-06-14T18:09:46.789Z"
   },
   {
    "duration": 46,
    "start_time": "2023-06-14T18:10:24.690Z"
   },
   {
    "duration": 1323,
    "start_time": "2023-06-14T18:10:39.702Z"
   },
   {
    "duration": 69,
    "start_time": "2023-06-14T18:10:41.027Z"
   },
   {
    "duration": 62,
    "start_time": "2023-06-14T18:10:41.098Z"
   },
   {
    "duration": 4,
    "start_time": "2023-06-14T18:10:41.162Z"
   },
   {
    "duration": 24,
    "start_time": "2023-06-14T18:10:41.169Z"
   },
   {
    "duration": 42,
    "start_time": "2023-06-14T18:10:41.195Z"
   },
   {
    "duration": 17,
    "start_time": "2023-06-14T18:10:41.240Z"
   },
   {
    "duration": 33,
    "start_time": "2023-06-14T18:10:41.259Z"
   },
   {
    "duration": 27,
    "start_time": "2023-06-14T18:10:41.294Z"
   },
   {
    "duration": 21,
    "start_time": "2023-06-14T18:10:41.322Z"
   },
   {
    "duration": 24,
    "start_time": "2023-06-14T18:10:41.345Z"
   },
   {
    "duration": 104,
    "start_time": "2023-06-14T18:10:41.372Z"
   },
   {
    "duration": 46,
    "start_time": "2023-06-14T18:10:41.478Z"
   },
   {
    "duration": 6,
    "start_time": "2023-06-14T18:10:41.527Z"
   },
   {
    "duration": 30,
    "start_time": "2023-06-14T18:10:41.535Z"
   },
   {
    "duration": 414,
    "start_time": "2023-06-14T18:10:41.566Z"
   },
   {
    "duration": 7,
    "start_time": "2023-06-14T18:10:41.981Z"
   },
   {
    "duration": 1553,
    "start_time": "2023-06-14T18:10:41.990Z"
   },
   {
    "duration": 38,
    "start_time": "2023-06-14T18:10:43.545Z"
   },
   {
    "duration": 47,
    "start_time": "2023-06-14T18:11:09.686Z"
   },
   {
    "duration": 143,
    "start_time": "2023-06-14T18:12:25.204Z"
   },
   {
    "duration": 1795,
    "start_time": "2023-06-14T18:12:38.242Z"
   },
   {
    "duration": 31,
    "start_time": "2023-06-14T18:14:12.527Z"
   },
   {
    "duration": 21,
    "start_time": "2023-06-14T18:14:21.502Z"
   },
   {
    "duration": 1316,
    "start_time": "2023-06-14T18:14:35.732Z"
   },
   {
    "duration": 6,
    "start_time": "2023-06-14T18:16:05.484Z"
   },
   {
    "duration": 8,
    "start_time": "2023-06-14T18:16:12.652Z"
   },
   {
    "duration": 24,
    "start_time": "2023-06-14T18:16:44.235Z"
   },
   {
    "duration": 10,
    "start_time": "2023-06-14T18:16:55.183Z"
   },
   {
    "duration": 12,
    "start_time": "2023-06-14T18:19:15.231Z"
   },
   {
    "duration": 87,
    "start_time": "2023-06-14T18:19:19.884Z"
   },
   {
    "duration": 533,
    "start_time": "2023-06-14T18:19:40.482Z"
   },
   {
    "duration": 534,
    "start_time": "2023-06-14T18:20:19.397Z"
   },
   {
    "duration": 592,
    "start_time": "2023-06-14T18:22:44.685Z"
   },
   {
    "duration": 20,
    "start_time": "2023-06-14T18:22:57.405Z"
   },
   {
    "duration": 20,
    "start_time": "2023-06-14T18:33:52.417Z"
   },
   {
    "duration": 82,
    "start_time": "2023-06-14T18:34:04.295Z"
   },
   {
    "duration": 9,
    "start_time": "2023-06-14T18:37:31.456Z"
   },
   {
    "duration": 12,
    "start_time": "2023-06-14T18:37:50.270Z"
   },
   {
    "duration": 17,
    "start_time": "2023-06-14T18:37:54.880Z"
   },
   {
    "duration": 14,
    "start_time": "2023-06-14T18:38:20.497Z"
   },
   {
    "duration": 18,
    "start_time": "2023-06-14T18:38:57.532Z"
   },
   {
    "duration": 184,
    "start_time": "2023-06-14T18:39:04.076Z"
   },
   {
    "duration": 15,
    "start_time": "2023-06-14T18:39:42.406Z"
   },
   {
    "duration": 6,
    "start_time": "2023-06-14T18:41:43.538Z"
   },
   {
    "duration": 12,
    "start_time": "2023-06-14T18:41:57.923Z"
   },
   {
    "duration": 12,
    "start_time": "2023-06-14T18:42:37.578Z"
   },
   {
    "duration": 13,
    "start_time": "2023-06-14T18:42:59.471Z"
   },
   {
    "duration": 829,
    "start_time": "2023-06-14T18:45:14.369Z"
   },
   {
    "duration": 4,
    "start_time": "2023-06-14T18:47:25.051Z"
   },
   {
    "duration": 4,
    "start_time": "2023-06-14T18:48:16.340Z"
   },
   {
    "duration": 22,
    "start_time": "2023-06-14T18:49:09.796Z"
   },
   {
    "duration": 22,
    "start_time": "2023-06-14T18:50:36.876Z"
   },
   {
    "duration": 21,
    "start_time": "2023-06-14T18:50:46.201Z"
   },
   {
    "duration": 23,
    "start_time": "2023-06-14T18:50:47.668Z"
   },
   {
    "duration": 22,
    "start_time": "2023-06-14T18:51:10.364Z"
   },
   {
    "duration": 655,
    "start_time": "2023-06-14T18:51:19.698Z"
   },
   {
    "duration": 23,
    "start_time": "2023-06-14T18:51:39.524Z"
   },
   {
    "duration": 178,
    "start_time": "2023-06-14T18:51:47.500Z"
   },
   {
    "duration": 1929,
    "start_time": "2023-06-14T18:53:23.937Z"
   },
   {
    "duration": 5,
    "start_time": "2023-06-14T18:53:46.709Z"
   },
   {
    "duration": 17,
    "start_time": "2023-06-14T18:54:09.568Z"
   },
   {
    "duration": 2241,
    "start_time": "2023-06-14T18:56:19.608Z"
   },
   {
    "duration": 15,
    "start_time": "2023-06-14T18:59:42.256Z"
   },
   {
    "duration": 13,
    "start_time": "2023-06-14T18:59:56.879Z"
   },
   {
    "duration": 4,
    "start_time": "2023-06-14T19:02:46.687Z"
   },
   {
    "duration": 173,
    "start_time": "2023-06-14T19:02:52.312Z"
   },
   {
    "duration": 189,
    "start_time": "2023-06-14T19:03:16.907Z"
   },
   {
    "duration": 192,
    "start_time": "2023-06-14T19:03:25.887Z"
   },
   {
    "duration": 152,
    "start_time": "2023-06-14T19:03:46.856Z"
   },
   {
    "duration": 1500,
    "start_time": "2023-06-14T19:03:57.680Z"
   },
   {
    "duration": 87,
    "start_time": "2023-06-14T19:03:59.194Z"
   },
   {
    "duration": 86,
    "start_time": "2023-06-14T19:03:59.283Z"
   },
   {
    "duration": 9,
    "start_time": "2023-06-14T19:03:59.372Z"
   },
   {
    "duration": 34,
    "start_time": "2023-06-14T19:03:59.385Z"
   },
   {
    "duration": 39,
    "start_time": "2023-06-14T19:03:59.427Z"
   },
   {
    "duration": 22,
    "start_time": "2023-06-14T19:03:59.472Z"
   },
   {
    "duration": 57,
    "start_time": "2023-06-14T19:03:59.502Z"
   },
   {
    "duration": 12,
    "start_time": "2023-06-14T19:03:59.568Z"
   },
   {
    "duration": 18,
    "start_time": "2023-06-14T19:03:59.589Z"
   },
   {
    "duration": 12,
    "start_time": "2023-06-14T19:03:59.613Z"
   },
   {
    "duration": 43,
    "start_time": "2023-06-14T19:03:59.632Z"
   },
   {
    "duration": 45,
    "start_time": "2023-06-14T19:03:59.682Z"
   },
   {
    "duration": 8,
    "start_time": "2023-06-14T19:03:59.736Z"
   },
   {
    "duration": 17,
    "start_time": "2023-06-14T19:03:59.752Z"
   },
   {
    "duration": 608,
    "start_time": "2023-06-14T19:03:59.775Z"
   },
   {
    "duration": 8,
    "start_time": "2023-06-14T19:04:00.389Z"
   },
   {
    "duration": 2189,
    "start_time": "2023-06-14T19:04:00.403Z"
   },
   {
    "duration": 14,
    "start_time": "2023-06-14T19:04:02.594Z"
   },
   {
    "duration": 199,
    "start_time": "2023-06-14T19:04:02.610Z"
   },
   {
    "duration": 242,
    "start_time": "2023-06-14T19:05:15.539Z"
   },
   {
    "duration": 567,
    "start_time": "2023-06-14T19:09:23.610Z"
   },
   {
    "duration": 35,
    "start_time": "2023-06-14T19:10:08.039Z"
   },
   {
    "duration": 451,
    "start_time": "2023-06-14T19:10:18.146Z"
   },
   {
    "duration": 18,
    "start_time": "2023-06-14T19:10:57.606Z"
   },
   {
    "duration": 273,
    "start_time": "2023-06-14T19:11:07.656Z"
   },
   {
    "duration": 62,
    "start_time": "2023-06-14T19:12:12.459Z"
   },
   {
    "duration": 5,
    "start_time": "2023-06-14T19:14:17.834Z"
   },
   {
    "duration": 19,
    "start_time": "2023-06-14T19:15:27.784Z"
   },
   {
    "duration": 139,
    "start_time": "2023-06-14T19:15:37.954Z"
   },
   {
    "duration": 577,
    "start_time": "2023-06-14T19:15:53.088Z"
   },
   {
    "duration": 1826,
    "start_time": "2023-06-14T19:16:47.048Z"
   },
   {
    "duration": 100,
    "start_time": "2023-06-14T19:16:48.886Z"
   },
   {
    "duration": 100,
    "start_time": "2023-06-14T19:16:48.989Z"
   },
   {
    "duration": 5,
    "start_time": "2023-06-14T19:16:49.092Z"
   },
   {
    "duration": 50,
    "start_time": "2023-06-14T19:16:49.099Z"
   },
   {
    "duration": 52,
    "start_time": "2023-06-14T19:16:49.151Z"
   },
   {
    "duration": 48,
    "start_time": "2023-06-14T19:16:49.210Z"
   },
   {
    "duration": 31,
    "start_time": "2023-06-14T19:16:49.265Z"
   },
   {
    "duration": 7,
    "start_time": "2023-06-14T19:16:49.298Z"
   },
   {
    "duration": 41,
    "start_time": "2023-06-14T19:16:49.308Z"
   },
   {
    "duration": 14,
    "start_time": "2023-06-14T19:16:49.357Z"
   },
   {
    "duration": 33,
    "start_time": "2023-06-14T19:16:49.374Z"
   },
   {
    "duration": 49,
    "start_time": "2023-06-14T19:16:49.409Z"
   },
   {
    "duration": 5,
    "start_time": "2023-06-14T19:16:49.464Z"
   },
   {
    "duration": 16,
    "start_time": "2023-06-14T19:16:49.471Z"
   },
   {
    "duration": 601,
    "start_time": "2023-06-14T19:16:49.490Z"
   },
   {
    "duration": 15,
    "start_time": "2023-06-14T19:16:50.095Z"
   },
   {
    "duration": 2086,
    "start_time": "2023-06-14T19:16:50.113Z"
   },
   {
    "duration": 4,
    "start_time": "2023-06-14T19:16:52.201Z"
   },
   {
    "duration": 30,
    "start_time": "2023-06-14T19:16:52.207Z"
   },
   {
    "duration": 528,
    "start_time": "2023-06-14T19:16:52.239Z"
   },
   {
    "duration": 643,
    "start_time": "2023-06-14T19:17:04.450Z"
   },
   {
    "duration": 1948,
    "start_time": "2023-06-14T19:17:56.810Z"
   },
   {
    "duration": 105,
    "start_time": "2023-06-14T19:17:58.760Z"
   },
   {
    "duration": 73,
    "start_time": "2023-06-14T19:17:58.871Z"
   },
   {
    "duration": 10,
    "start_time": "2023-06-14T19:17:58.947Z"
   },
   {
    "duration": 19,
    "start_time": "2023-06-14T19:17:58.960Z"
   },
   {
    "duration": 39,
    "start_time": "2023-06-14T19:17:58.982Z"
   },
   {
    "duration": 26,
    "start_time": "2023-06-14T19:17:59.027Z"
   },
   {
    "duration": 41,
    "start_time": "2023-06-14T19:17:59.059Z"
   },
   {
    "duration": 7,
    "start_time": "2023-06-14T19:17:59.103Z"
   },
   {
    "duration": 194,
    "start_time": "2023-06-14T19:17:59.112Z"
   },
   {
    "duration": 33,
    "start_time": "2023-06-14T19:17:59.309Z"
   },
   {
    "duration": 51,
    "start_time": "2023-06-14T19:17:59.347Z"
   },
   {
    "duration": 47,
    "start_time": "2023-06-14T19:17:59.400Z"
   },
   {
    "duration": 15,
    "start_time": "2023-06-14T19:17:59.450Z"
   },
   {
    "duration": 16,
    "start_time": "2023-06-14T19:17:59.467Z"
   },
   {
    "duration": 656,
    "start_time": "2023-06-14T19:17:59.485Z"
   },
   {
    "duration": 14,
    "start_time": "2023-06-14T19:18:00.143Z"
   },
   {
    "duration": 2590,
    "start_time": "2023-06-14T19:18:00.159Z"
   },
   {
    "duration": 8,
    "start_time": "2023-06-14T19:18:02.753Z"
   },
   {
    "duration": 231,
    "start_time": "2023-06-14T19:18:02.763Z"
   },
   {
    "duration": 0,
    "start_time": "2023-06-14T19:18:02.997Z"
   },
   {
    "duration": 1732,
    "start_time": "2023-06-14T19:18:14.646Z"
   },
   {
    "duration": 112,
    "start_time": "2023-06-14T19:18:16.388Z"
   },
   {
    "duration": 75,
    "start_time": "2023-06-14T19:18:16.504Z"
   },
   {
    "duration": 4,
    "start_time": "2023-06-14T19:18:16.584Z"
   },
   {
    "duration": 27,
    "start_time": "2023-06-14T19:18:16.590Z"
   },
   {
    "duration": 36,
    "start_time": "2023-06-14T19:18:16.622Z"
   },
   {
    "duration": 20,
    "start_time": "2023-06-14T19:18:16.664Z"
   },
   {
    "duration": 37,
    "start_time": "2023-06-14T19:18:16.690Z"
   },
   {
    "duration": 7,
    "start_time": "2023-06-14T19:18:16.733Z"
   },
   {
    "duration": 25,
    "start_time": "2023-06-14T19:18:16.746Z"
   },
   {
    "duration": 16,
    "start_time": "2023-06-14T19:18:16.776Z"
   },
   {
    "duration": 35,
    "start_time": "2023-06-14T19:18:16.794Z"
   },
   {
    "duration": 37,
    "start_time": "2023-06-14T19:18:16.831Z"
   },
   {
    "duration": 5,
    "start_time": "2023-06-14T19:18:16.871Z"
   },
   {
    "duration": 27,
    "start_time": "2023-06-14T19:18:16.884Z"
   },
   {
    "duration": 619,
    "start_time": "2023-06-14T19:18:16.926Z"
   },
   {
    "duration": 12,
    "start_time": "2023-06-14T19:18:17.554Z"
   },
   {
    "duration": 2361,
    "start_time": "2023-06-14T19:18:17.572Z"
   },
   {
    "duration": 13,
    "start_time": "2023-06-14T19:18:19.936Z"
   },
   {
    "duration": 284,
    "start_time": "2023-06-14T19:18:19.953Z"
   },
   {
    "duration": 0,
    "start_time": "2023-06-14T19:18:20.240Z"
   },
   {
    "duration": 1808,
    "start_time": "2023-06-14T19:18:27.441Z"
   },
   {
    "duration": 122,
    "start_time": "2023-06-14T19:18:29.251Z"
   },
   {
    "duration": 97,
    "start_time": "2023-06-14T19:18:29.376Z"
   },
   {
    "duration": 10,
    "start_time": "2023-06-14T19:18:29.475Z"
   },
   {
    "duration": 93,
    "start_time": "2023-06-14T19:18:29.489Z"
   },
   {
    "duration": 38,
    "start_time": "2023-06-14T19:18:29.585Z"
   },
   {
    "duration": 19,
    "start_time": "2023-06-14T19:18:29.625Z"
   },
   {
    "duration": 34,
    "start_time": "2023-06-14T19:18:29.647Z"
   },
   {
    "duration": 7,
    "start_time": "2023-06-14T19:18:29.683Z"
   },
   {
    "duration": 30,
    "start_time": "2023-06-14T19:18:29.692Z"
   },
   {
    "duration": 18,
    "start_time": "2023-06-14T19:18:29.725Z"
   },
   {
    "duration": 49,
    "start_time": "2023-06-14T19:18:29.745Z"
   },
   {
    "duration": 46,
    "start_time": "2023-06-14T19:18:29.796Z"
   },
   {
    "duration": 10,
    "start_time": "2023-06-14T19:18:29.846Z"
   },
   {
    "duration": 17,
    "start_time": "2023-06-14T19:18:29.860Z"
   },
   {
    "duration": 601,
    "start_time": "2023-06-14T19:18:29.879Z"
   },
   {
    "duration": 10,
    "start_time": "2023-06-14T19:18:30.484Z"
   },
   {
    "duration": 2328,
    "start_time": "2023-06-14T19:18:30.501Z"
   },
   {
    "duration": 7,
    "start_time": "2023-06-14T19:18:32.831Z"
   },
   {
    "duration": 41,
    "start_time": "2023-06-14T19:18:32.840Z"
   },
   {
    "duration": 686,
    "start_time": "2023-06-14T19:18:32.883Z"
   },
   {
    "duration": 2038,
    "start_time": "2023-06-14T19:20:08.651Z"
   },
   {
    "duration": 110,
    "start_time": "2023-06-14T19:20:10.696Z"
   },
   {
    "duration": 90,
    "start_time": "2023-06-14T19:20:10.808Z"
   },
   {
    "duration": 6,
    "start_time": "2023-06-14T19:20:10.903Z"
   },
   {
    "duration": 45,
    "start_time": "2023-06-14T19:20:10.911Z"
   },
   {
    "duration": 76,
    "start_time": "2023-06-14T19:20:10.961Z"
   },
   {
    "duration": 23,
    "start_time": "2023-06-14T19:20:11.044Z"
   },
   {
    "duration": 36,
    "start_time": "2023-06-14T19:20:11.074Z"
   },
   {
    "duration": 13,
    "start_time": "2023-06-14T19:20:11.116Z"
   },
   {
    "duration": 19,
    "start_time": "2023-06-14T19:20:11.137Z"
   },
   {
    "duration": 11,
    "start_time": "2023-06-14T19:20:11.162Z"
   },
   {
    "duration": 32,
    "start_time": "2023-06-14T19:20:11.179Z"
   },
   {
    "duration": 30,
    "start_time": "2023-06-14T19:20:11.217Z"
   },
   {
    "duration": 7,
    "start_time": "2023-06-14T19:20:11.253Z"
   },
   {
    "duration": 12,
    "start_time": "2023-06-14T19:20:11.266Z"
   },
   {
    "duration": 605,
    "start_time": "2023-06-14T19:20:11.284Z"
   },
   {
    "duration": 11,
    "start_time": "2023-06-14T19:20:11.895Z"
   },
   {
    "duration": 2151,
    "start_time": "2023-06-14T19:20:11.917Z"
   },
   {
    "duration": 8,
    "start_time": "2023-06-14T19:20:14.077Z"
   },
   {
    "duration": 53,
    "start_time": "2023-06-14T19:20:14.092Z"
   },
   {
    "duration": 518,
    "start_time": "2023-06-14T19:20:14.155Z"
   },
   {
    "duration": 16,
    "start_time": "2023-06-14T19:21:07.633Z"
   },
   {
    "duration": 30,
    "start_time": "2023-06-14T19:21:08.133Z"
   },
   {
    "duration": 557,
    "start_time": "2023-06-14T19:21:08.712Z"
   },
   {
    "duration": 8,
    "start_time": "2023-06-15T05:36:59.252Z"
   },
   {
    "duration": 66,
    "start_time": "2023-06-15T05:37:51.371Z"
   },
   {
    "duration": 1427,
    "start_time": "2023-06-15T05:37:57.821Z"
   },
   {
    "duration": 95,
    "start_time": "2023-06-15T05:37:59.253Z"
   },
   {
    "duration": 41,
    "start_time": "2023-06-15T05:37:59.350Z"
   },
   {
    "duration": 3,
    "start_time": "2023-06-15T05:37:59.393Z"
   },
   {
    "duration": 94,
    "start_time": "2023-06-15T05:37:59.398Z"
   },
   {
    "duration": 52,
    "start_time": "2023-06-15T05:37:59.493Z"
   },
   {
    "duration": 19,
    "start_time": "2023-06-15T05:37:59.547Z"
   },
   {
    "duration": 25,
    "start_time": "2023-06-15T05:37:59.567Z"
   },
   {
    "duration": 36,
    "start_time": "2023-06-15T05:37:59.594Z"
   },
   {
    "duration": 25,
    "start_time": "2023-06-15T05:37:59.632Z"
   },
   {
    "duration": 16,
    "start_time": "2023-06-15T05:37:59.658Z"
   },
   {
    "duration": 55,
    "start_time": "2023-06-15T05:37:59.678Z"
   },
   {
    "duration": 24,
    "start_time": "2023-06-15T05:37:59.734Z"
   },
   {
    "duration": 24,
    "start_time": "2023-06-15T05:37:59.761Z"
   },
   {
    "duration": 29,
    "start_time": "2023-06-15T05:37:59.787Z"
   },
   {
    "duration": 478,
    "start_time": "2023-06-15T05:37:59.817Z"
   },
   {
    "duration": 6,
    "start_time": "2023-06-15T05:38:00.297Z"
   },
   {
    "duration": 1628,
    "start_time": "2023-06-15T05:38:00.304Z"
   },
   {
    "duration": 4,
    "start_time": "2023-06-15T05:38:01.933Z"
   },
   {
    "duration": 56,
    "start_time": "2023-06-15T05:38:01.938Z"
   },
   {
    "duration": 299,
    "start_time": "2023-06-15T05:38:01.996Z"
   },
   {
    "duration": 1601,
    "start_time": "2023-06-15T05:41:05.407Z"
   },
   {
    "duration": 1379,
    "start_time": "2023-06-15T05:41:22.745Z"
   },
   {
    "duration": 72,
    "start_time": "2023-06-15T05:41:24.126Z"
   },
   {
    "duration": 69,
    "start_time": "2023-06-15T05:41:24.200Z"
   },
   {
    "duration": 5,
    "start_time": "2023-06-15T05:41:24.272Z"
   },
   {
    "duration": 33,
    "start_time": "2023-06-15T05:41:24.284Z"
   },
   {
    "duration": 39,
    "start_time": "2023-06-15T05:41:24.319Z"
   },
   {
    "duration": 24,
    "start_time": "2023-06-15T05:41:24.360Z"
   },
   {
    "duration": 44,
    "start_time": "2023-06-15T05:41:24.386Z"
   },
   {
    "duration": 25,
    "start_time": "2023-06-15T05:41:24.433Z"
   },
   {
    "duration": 46,
    "start_time": "2023-06-15T05:41:24.461Z"
   },
   {
    "duration": 32,
    "start_time": "2023-06-15T05:41:24.509Z"
   },
   {
    "duration": 53,
    "start_time": "2023-06-15T05:41:24.543Z"
   },
   {
    "duration": 22,
    "start_time": "2023-06-15T05:41:24.598Z"
   },
   {
    "duration": 24,
    "start_time": "2023-06-15T05:41:24.623Z"
   },
   {
    "duration": 41,
    "start_time": "2023-06-15T05:41:24.649Z"
   },
   {
    "duration": 466,
    "start_time": "2023-06-15T05:41:24.691Z"
   },
   {
    "duration": 12,
    "start_time": "2023-06-15T05:41:25.159Z"
   },
   {
    "duration": 1842,
    "start_time": "2023-06-15T05:41:25.174Z"
   },
   {
    "duration": 4,
    "start_time": "2023-06-15T05:41:27.019Z"
   },
   {
    "duration": 32,
    "start_time": "2023-06-15T05:41:27.026Z"
   },
   {
    "duration": 356,
    "start_time": "2023-06-15T05:41:27.061Z"
   },
   {
    "duration": 1834,
    "start_time": "2023-06-15T05:41:49.131Z"
   },
   {
    "duration": 1491,
    "start_time": "2023-06-15T05:42:08.142Z"
   },
   {
    "duration": 1526,
    "start_time": "2023-06-15T05:42:34.548Z"
   },
   {
    "duration": 273,
    "start_time": "2023-06-15T05:43:03.825Z"
   },
   {
    "duration": 10,
    "start_time": "2023-06-15T05:46:52.496Z"
   },
   {
    "duration": 112,
    "start_time": "2023-06-15T05:50:06.784Z"
   },
   {
    "duration": 15,
    "start_time": "2023-06-15T05:50:16.395Z"
   },
   {
    "duration": 15,
    "start_time": "2023-06-15T05:51:03.600Z"
   },
   {
    "duration": 13,
    "start_time": "2023-06-15T05:51:35.341Z"
   },
   {
    "duration": 1267,
    "start_time": "2023-06-15T05:52:06.026Z"
   },
   {
    "duration": 54,
    "start_time": "2023-06-15T05:52:07.295Z"
   },
   {
    "duration": 43,
    "start_time": "2023-06-15T05:52:07.351Z"
   },
   {
    "duration": 3,
    "start_time": "2023-06-15T05:52:07.396Z"
   },
   {
    "duration": 27,
    "start_time": "2023-06-15T05:52:07.401Z"
   },
   {
    "duration": 39,
    "start_time": "2023-06-15T05:52:07.430Z"
   },
   {
    "duration": 12,
    "start_time": "2023-06-15T05:52:07.471Z"
   },
   {
    "duration": 26,
    "start_time": "2023-06-15T05:52:07.485Z"
   },
   {
    "duration": 11,
    "start_time": "2023-06-15T05:52:07.513Z"
   },
   {
    "duration": 30,
    "start_time": "2023-06-15T05:52:07.526Z"
   },
   {
    "duration": 8,
    "start_time": "2023-06-15T05:52:07.557Z"
   },
   {
    "duration": 25,
    "start_time": "2023-06-15T05:52:07.567Z"
   },
   {
    "duration": 18,
    "start_time": "2023-06-15T05:52:07.593Z"
   },
   {
    "duration": 5,
    "start_time": "2023-06-15T05:52:07.614Z"
   },
   {
    "duration": 35,
    "start_time": "2023-06-15T05:52:07.620Z"
   },
   {
    "duration": 402,
    "start_time": "2023-06-15T05:52:07.657Z"
   },
   {
    "duration": 7,
    "start_time": "2023-06-15T05:52:08.061Z"
   },
   {
    "duration": 1510,
    "start_time": "2023-06-15T05:52:08.070Z"
   },
   {
    "duration": 3,
    "start_time": "2023-06-15T05:52:09.582Z"
   },
   {
    "duration": 23,
    "start_time": "2023-06-15T05:52:09.587Z"
   },
   {
    "duration": 281,
    "start_time": "2023-06-15T05:52:09.611Z"
   },
   {
    "duration": 10,
    "start_time": "2023-06-15T05:52:09.894Z"
   },
   {
    "duration": 30,
    "start_time": "2023-06-15T06:26:18.313Z"
   },
   {
    "duration": 6,
    "start_time": "2023-06-15T06:27:33.509Z"
   },
   {
    "duration": 115,
    "start_time": "2023-06-15T06:29:14.100Z"
   },
   {
    "duration": 13,
    "start_time": "2023-06-15T06:29:24.324Z"
   },
   {
    "duration": 9,
    "start_time": "2023-06-15T06:29:37.048Z"
   },
   {
    "duration": 74,
    "start_time": "2023-06-15T06:29:49.992Z"
   },
   {
    "duration": 113,
    "start_time": "2023-06-15T06:29:59.694Z"
   },
   {
    "duration": 7,
    "start_time": "2023-06-15T06:30:09.072Z"
   },
   {
    "duration": 14,
    "start_time": "2023-06-15T06:30:31.141Z"
   },
   {
    "duration": 23,
    "start_time": "2023-06-15T06:31:35.922Z"
   },
   {
    "duration": 13,
    "start_time": "2023-06-15T06:33:27.768Z"
   },
   {
    "duration": 21,
    "start_time": "2023-06-15T06:33:32.111Z"
   },
   {
    "duration": 79,
    "start_time": "2023-06-15T09:21:52.939Z"
   },
   {
    "duration": 66,
    "start_time": "2023-06-15T09:22:05.186Z"
   },
   {
    "duration": 1533,
    "start_time": "2023-06-15T09:22:22.682Z"
   },
   {
    "duration": 128,
    "start_time": "2023-06-15T09:22:24.218Z"
   },
   {
    "duration": 55,
    "start_time": "2023-06-15T09:22:24.348Z"
   },
   {
    "duration": 7,
    "start_time": "2023-06-15T09:22:24.405Z"
   },
   {
    "duration": 36,
    "start_time": "2023-06-15T09:22:24.415Z"
   },
   {
    "duration": 58,
    "start_time": "2023-06-15T09:22:24.453Z"
   },
   {
    "duration": 28,
    "start_time": "2023-06-15T09:22:24.513Z"
   },
   {
    "duration": 31,
    "start_time": "2023-06-15T09:22:24.543Z"
   },
   {
    "duration": 28,
    "start_time": "2023-06-15T09:22:24.576Z"
   },
   {
    "duration": 22,
    "start_time": "2023-06-15T09:22:24.606Z"
   },
   {
    "duration": 11,
    "start_time": "2023-06-15T09:22:24.630Z"
   },
   {
    "duration": 34,
    "start_time": "2023-06-15T09:22:24.642Z"
   },
   {
    "duration": 26,
    "start_time": "2023-06-15T09:22:24.679Z"
   },
   {
    "duration": 5,
    "start_time": "2023-06-15T09:22:24.708Z"
   },
   {
    "duration": 16,
    "start_time": "2023-06-15T09:22:24.715Z"
   },
   {
    "duration": 428,
    "start_time": "2023-06-15T09:22:24.733Z"
   },
   {
    "duration": 15,
    "start_time": "2023-06-15T09:22:25.166Z"
   },
   {
    "duration": 1642,
    "start_time": "2023-06-15T09:22:25.185Z"
   },
   {
    "duration": 4,
    "start_time": "2023-06-15T09:22:26.830Z"
   },
   {
    "duration": 22,
    "start_time": "2023-06-15T09:22:26.836Z"
   },
   {
    "duration": 319,
    "start_time": "2023-06-15T09:22:26.860Z"
   },
   {
    "duration": 11,
    "start_time": "2023-06-15T09:22:27.181Z"
   },
   {
    "duration": 58,
    "start_time": "2023-06-15T09:22:27.193Z"
   },
   {
    "duration": 56,
    "start_time": "2023-06-15T09:22:27.253Z"
   },
   {
    "duration": 39,
    "start_time": "2023-06-15T09:22:27.311Z"
   },
   {
    "duration": 92,
    "start_time": "2023-06-15T09:22:27.352Z"
   },
   {
    "duration": 155,
    "start_time": "2023-06-15T09:26:46.938Z"
   },
   {
    "duration": 189,
    "start_time": "2023-06-15T09:27:27.287Z"
   },
   {
    "duration": 285,
    "start_time": "2023-06-15T09:27:36.880Z"
   },
   {
    "duration": 161,
    "start_time": "2023-06-15T09:27:44.916Z"
   },
   {
    "duration": 217,
    "start_time": "2023-06-15T09:27:52.489Z"
   },
   {
    "duration": 283,
    "start_time": "2023-06-15T09:29:37.527Z"
   },
   {
    "duration": 198,
    "start_time": "2023-06-15T09:30:37.487Z"
   },
   {
    "duration": 189,
    "start_time": "2023-06-15T09:31:24.294Z"
   },
   {
    "duration": 157,
    "start_time": "2023-06-15T09:35:07.588Z"
   },
   {
    "duration": 179,
    "start_time": "2023-06-15T09:35:37.541Z"
   },
   {
    "duration": 159,
    "start_time": "2023-06-15T09:36:03.913Z"
   },
   {
    "duration": 194,
    "start_time": "2023-06-15T09:47:49.419Z"
   },
   {
    "duration": 183,
    "start_time": "2023-06-15T09:47:56.629Z"
   },
   {
    "duration": 265,
    "start_time": "2023-06-15T09:48:17.748Z"
   },
   {
    "duration": 117,
    "start_time": "2023-06-15T10:16:20.797Z"
   },
   {
    "duration": 5,
    "start_time": "2023-06-15T10:16:57.608Z"
   },
   {
    "duration": 2761,
    "start_time": "2023-06-15T10:18:30.789Z"
   },
   {
    "duration": 3775,
    "start_time": "2023-06-15T10:19:17.213Z"
   },
   {
    "duration": 3760,
    "start_time": "2023-06-15T10:19:28.224Z"
   },
   {
    "duration": 2966,
    "start_time": "2023-06-15T10:23:30.948Z"
   },
   {
    "duration": 2573,
    "start_time": "2023-06-15T10:24:24.912Z"
   },
   {
    "duration": 3596,
    "start_time": "2023-06-15T10:24:59.099Z"
   },
   {
    "duration": 142,
    "start_time": "2023-06-15T10:25:24.600Z"
   },
   {
    "duration": 202,
    "start_time": "2023-06-15T10:25:42.409Z"
   },
   {
    "duration": 154,
    "start_time": "2023-06-15T10:26:02.124Z"
   },
   {
    "duration": 145,
    "start_time": "2023-06-15T10:26:59.827Z"
   },
   {
    "duration": 140,
    "start_time": "2023-06-15T10:27:11.343Z"
   },
   {
    "duration": 134,
    "start_time": "2023-06-15T10:27:25.919Z"
   },
   {
    "duration": 248,
    "start_time": "2023-06-15T10:27:30.893Z"
   },
   {
    "duration": 134,
    "start_time": "2023-06-15T10:27:36.497Z"
   },
   {
    "duration": 150,
    "start_time": "2023-06-15T10:28:51.744Z"
   },
   {
    "duration": 180,
    "start_time": "2023-06-15T10:38:08.007Z"
   },
   {
    "duration": 181,
    "start_time": "2023-06-15T10:39:12.440Z"
   },
   {
    "duration": 172,
    "start_time": "2023-06-15T10:39:15.429Z"
   },
   {
    "duration": 181,
    "start_time": "2023-06-15T10:39:54.108Z"
   },
   {
    "duration": 176,
    "start_time": "2023-06-15T10:46:51.999Z"
   },
   {
    "duration": 168,
    "start_time": "2023-06-15T10:47:01.911Z"
   },
   {
    "duration": 158,
    "start_time": "2023-06-15T10:47:46.391Z"
   },
   {
    "duration": 164,
    "start_time": "2023-06-15T10:47:48.979Z"
   },
   {
    "duration": 165,
    "start_time": "2023-06-15T10:50:19.067Z"
   },
   {
    "duration": 253,
    "start_time": "2023-06-15T10:50:47.528Z"
   },
   {
    "duration": 69,
    "start_time": "2023-06-15T10:56:35.560Z"
   },
   {
    "duration": 331,
    "start_time": "2023-06-15T10:56:54.089Z"
   },
   {
    "duration": 421,
    "start_time": "2023-06-15T10:57:27.996Z"
   },
   {
    "duration": 330,
    "start_time": "2023-06-15T10:57:47.403Z"
   },
   {
    "duration": 334,
    "start_time": "2023-06-15T10:57:59.753Z"
   },
   {
    "duration": 357,
    "start_time": "2023-06-15T10:58:33.980Z"
   },
   {
    "duration": 335,
    "start_time": "2023-06-15T10:59:23.109Z"
   },
   {
    "duration": 1485,
    "start_time": "2023-06-15T11:12:33.244Z"
   },
   {
    "duration": 74,
    "start_time": "2023-06-15T11:12:34.732Z"
   },
   {
    "duration": 44,
    "start_time": "2023-06-15T11:12:34.807Z"
   },
   {
    "duration": 27,
    "start_time": "2023-06-15T11:12:34.852Z"
   },
   {
    "duration": 40,
    "start_time": "2023-06-15T11:12:34.881Z"
   },
   {
    "duration": 33,
    "start_time": "2023-06-15T11:12:34.923Z"
   },
   {
    "duration": 124,
    "start_time": "2023-06-15T11:12:34.958Z"
   },
   {
    "duration": 53,
    "start_time": "2023-06-15T11:12:35.084Z"
   },
   {
    "duration": 8,
    "start_time": "2023-06-15T11:12:35.140Z"
   },
   {
    "duration": 192,
    "start_time": "2023-06-15T11:12:35.151Z"
   },
   {
    "duration": 53,
    "start_time": "2023-06-15T11:12:35.346Z"
   },
   {
    "duration": 43,
    "start_time": "2023-06-15T11:12:35.402Z"
   },
   {
    "duration": 72,
    "start_time": "2023-06-15T11:12:35.447Z"
   },
   {
    "duration": 6,
    "start_time": "2023-06-15T11:12:35.522Z"
   },
   {
    "duration": 63,
    "start_time": "2023-06-15T11:12:35.530Z"
   },
   {
    "duration": 548,
    "start_time": "2023-06-15T11:12:35.595Z"
   },
   {
    "duration": 7,
    "start_time": "2023-06-15T11:12:36.146Z"
   },
   {
    "duration": 1693,
    "start_time": "2023-06-15T11:12:36.156Z"
   },
   {
    "duration": 4,
    "start_time": "2023-06-15T11:12:37.851Z"
   },
   {
    "duration": 55,
    "start_time": "2023-06-15T11:12:37.857Z"
   },
   {
    "duration": 322,
    "start_time": "2023-06-15T11:12:37.914Z"
   },
   {
    "duration": 27,
    "start_time": "2023-06-15T11:12:38.238Z"
   },
   {
    "duration": 26,
    "start_time": "2023-06-15T11:12:38.269Z"
   },
   {
    "duration": 16,
    "start_time": "2023-06-15T11:12:38.297Z"
   },
   {
    "duration": 35,
    "start_time": "2023-06-15T11:12:38.315Z"
   },
   {
    "duration": 196,
    "start_time": "2023-06-15T11:12:38.352Z"
   },
   {
    "duration": 170,
    "start_time": "2023-06-15T11:12:38.553Z"
   },
   {
    "duration": 296,
    "start_time": "2023-06-15T11:12:38.725Z"
   },
   {
    "duration": 201,
    "start_time": "2023-06-15T11:12:39.023Z"
   },
   {
    "duration": 206,
    "start_time": "2023-06-15T11:12:39.226Z"
   },
   {
    "duration": 210,
    "start_time": "2023-06-15T11:12:39.435Z"
   },
   {
    "duration": 179,
    "start_time": "2023-06-15T11:12:39.654Z"
   },
   {
    "duration": 350,
    "start_time": "2023-06-15T11:12:39.835Z"
   },
   {
    "duration": 2507,
    "start_time": "2023-06-15T18:08:18.362Z"
   },
   {
    "duration": 492,
    "start_time": "2023-06-15T18:08:20.880Z"
   },
   {
    "duration": 136,
    "start_time": "2023-06-15T18:08:21.402Z"
   },
   {
    "duration": 22,
    "start_time": "2023-06-15T18:08:21.550Z"
   },
   {
    "duration": 48,
    "start_time": "2023-06-15T18:08:21.573Z"
   },
   {
    "duration": 46,
    "start_time": "2023-06-15T18:08:21.626Z"
   },
   {
    "duration": 17,
    "start_time": "2023-06-15T18:08:21.673Z"
   },
   {
    "duration": 38,
    "start_time": "2023-06-15T18:08:21.692Z"
   },
   {
    "duration": 10,
    "start_time": "2023-06-15T18:08:21.732Z"
   },
   {
    "duration": 20,
    "start_time": "2023-06-15T18:08:21.748Z"
   },
   {
    "duration": 20,
    "start_time": "2023-06-15T18:08:21.773Z"
   },
   {
    "duration": 29,
    "start_time": "2023-06-15T18:08:21.798Z"
   },
   {
    "duration": 30,
    "start_time": "2023-06-15T18:08:21.832Z"
   },
   {
    "duration": 10,
    "start_time": "2023-06-15T18:08:21.866Z"
   },
   {
    "duration": 11,
    "start_time": "2023-06-15T18:08:21.883Z"
   },
   {
    "duration": 489,
    "start_time": "2023-06-15T18:08:21.899Z"
   },
   {
    "duration": 9,
    "start_time": "2023-06-15T18:08:22.389Z"
   },
   {
    "duration": 2247,
    "start_time": "2023-06-15T18:08:22.399Z"
   },
   {
    "duration": 7,
    "start_time": "2023-06-15T18:08:24.667Z"
   },
   {
    "duration": 50,
    "start_time": "2023-06-15T18:08:24.677Z"
   },
   {
    "duration": 619,
    "start_time": "2023-06-15T18:08:24.736Z"
   },
   {
    "duration": 29,
    "start_time": "2023-06-15T18:08:25.357Z"
   },
   {
    "duration": 16,
    "start_time": "2023-06-15T18:08:25.391Z"
   },
   {
    "duration": 40,
    "start_time": "2023-06-15T18:08:25.413Z"
   },
   {
    "duration": 47,
    "start_time": "2023-06-15T18:08:25.463Z"
   },
   {
    "duration": 330,
    "start_time": "2023-06-15T18:08:25.516Z"
   },
   {
    "duration": 254,
    "start_time": "2023-06-15T18:08:25.852Z"
   },
   {
    "duration": 376,
    "start_time": "2023-06-15T18:08:26.114Z"
   },
   {
    "duration": 270,
    "start_time": "2023-06-15T18:08:26.499Z"
   },
   {
    "duration": 230,
    "start_time": "2023-06-15T18:08:26.775Z"
   },
   {
    "duration": 227,
    "start_time": "2023-06-15T18:08:27.007Z"
   },
   {
    "duration": 308,
    "start_time": "2023-06-15T18:08:27.241Z"
   },
   {
    "duration": 518,
    "start_time": "2023-06-15T18:08:27.558Z"
   },
   {
    "duration": 295,
    "start_time": "2023-06-15T18:19:07.131Z"
   },
   {
    "duration": 24,
    "start_time": "2023-06-15T18:21:48.832Z"
   },
   {
    "duration": 423,
    "start_time": "2023-06-15T18:22:21.919Z"
   },
   {
    "duration": 453,
    "start_time": "2023-06-15T18:23:20.443Z"
   },
   {
    "duration": 600,
    "start_time": "2023-06-15T18:24:32.572Z"
   },
   {
    "duration": 519,
    "start_time": "2023-06-15T18:24:55.025Z"
   },
   {
    "duration": 144,
    "start_time": "2023-06-15T18:25:15.258Z"
   },
   {
    "duration": 479,
    "start_time": "2023-06-15T18:25:32.091Z"
   },
   {
    "duration": 86,
    "start_time": "2023-06-15T18:25:57.804Z"
   },
   {
    "duration": 841,
    "start_time": "2023-06-15T18:26:24.285Z"
   },
   {
    "duration": 31,
    "start_time": "2023-06-15T18:27:58.020Z"
   },
   {
    "duration": 22,
    "start_time": "2023-06-15T18:29:42.716Z"
   },
   {
    "duration": 58,
    "start_time": "2023-06-15T18:30:36.632Z"
   },
   {
    "duration": 80,
    "start_time": "2023-06-15T18:31:27.411Z"
   },
   {
    "duration": 32,
    "start_time": "2023-06-15T18:31:59.931Z"
   },
   {
    "duration": 759,
    "start_time": "2023-06-15T18:32:16.630Z"
   },
   {
    "duration": 72,
    "start_time": "2023-06-15T18:32:42.618Z"
   },
   {
    "duration": 750,
    "start_time": "2023-06-15T18:32:53.647Z"
   },
   {
    "duration": 659,
    "start_time": "2023-06-15T18:33:41.563Z"
   },
   {
    "duration": 780,
    "start_time": "2023-06-15T18:33:52.411Z"
   },
   {
    "duration": 935,
    "start_time": "2023-06-15T18:34:22.819Z"
   },
   {
    "duration": 795,
    "start_time": "2023-06-15T18:34:38.821Z"
   },
   {
    "duration": 547,
    "start_time": "2023-06-15T18:35:53.017Z"
   },
   {
    "duration": 24,
    "start_time": "2023-06-15T18:37:04.431Z"
   },
   {
    "duration": 702,
    "start_time": "2023-06-15T18:37:50.188Z"
   },
   {
    "duration": 47,
    "start_time": "2023-06-15T18:38:24.523Z"
   },
   {
    "duration": 518,
    "start_time": "2023-06-15T18:39:27.921Z"
   },
   {
    "duration": 72,
    "start_time": "2023-06-15T18:40:03.634Z"
   },
   {
    "duration": 55,
    "start_time": "2023-06-15T18:40:14.647Z"
   },
   {
    "duration": 62,
    "start_time": "2023-06-15T18:40:35.264Z"
   },
   {
    "duration": 30,
    "start_time": "2023-06-15T18:40:49.531Z"
   },
   {
    "duration": 54,
    "start_time": "2023-06-15T18:41:23.008Z"
   },
   {
    "duration": 484,
    "start_time": "2023-06-15T18:41:40.517Z"
   },
   {
    "duration": 46,
    "start_time": "2023-06-15T18:42:20.752Z"
   },
   {
    "duration": 44,
    "start_time": "2023-06-15T18:42:56.132Z"
   },
   {
    "duration": 2694,
    "start_time": "2023-06-15T18:45:03.447Z"
   },
   {
    "duration": 131,
    "start_time": "2023-06-15T18:45:06.151Z"
   },
   {
    "duration": 106,
    "start_time": "2023-06-15T18:45:06.288Z"
   },
   {
    "duration": 12,
    "start_time": "2023-06-15T18:45:06.410Z"
   },
   {
    "duration": 69,
    "start_time": "2023-06-15T18:45:06.429Z"
   },
   {
    "duration": 78,
    "start_time": "2023-06-15T18:45:06.509Z"
   },
   {
    "duration": 30,
    "start_time": "2023-06-15T18:45:06.593Z"
   },
   {
    "duration": 63,
    "start_time": "2023-06-15T18:45:06.630Z"
   },
   {
    "duration": 17,
    "start_time": "2023-06-15T18:45:06.699Z"
   },
   {
    "duration": 40,
    "start_time": "2023-06-15T18:45:06.722Z"
   },
   {
    "duration": 19,
    "start_time": "2023-06-15T18:45:06.768Z"
   },
   {
    "duration": 105,
    "start_time": "2023-06-15T18:45:06.793Z"
   },
   {
    "duration": 79,
    "start_time": "2023-06-15T18:45:06.915Z"
   },
   {
    "duration": 26,
    "start_time": "2023-06-15T18:45:07.013Z"
   },
   {
    "duration": 34,
    "start_time": "2023-06-15T18:45:07.044Z"
   },
   {
    "duration": 688,
    "start_time": "2023-06-15T18:45:07.088Z"
   },
   {
    "duration": 12,
    "start_time": "2023-06-15T18:45:07.781Z"
   },
   {
    "duration": 2833,
    "start_time": "2023-06-15T18:45:07.799Z"
   },
   {
    "duration": 15,
    "start_time": "2023-06-15T18:45:10.643Z"
   },
   {
    "duration": 45,
    "start_time": "2023-06-15T18:45:10.661Z"
   },
   {
    "duration": 631,
    "start_time": "2023-06-15T18:45:10.715Z"
   },
   {
    "duration": 64,
    "start_time": "2023-06-15T18:45:11.362Z"
   },
   {
    "duration": 20,
    "start_time": "2023-06-15T18:45:11.434Z"
   },
   {
    "duration": 59,
    "start_time": "2023-06-15T18:45:11.471Z"
   },
   {
    "duration": 99,
    "start_time": "2023-06-15T18:45:11.536Z"
   },
   {
    "duration": 349,
    "start_time": "2023-06-15T18:45:11.650Z"
   },
   {
    "duration": 430,
    "start_time": "2023-06-15T18:45:12.004Z"
   },
   {
    "duration": 479,
    "start_time": "2023-06-15T18:45:12.436Z"
   },
   {
    "duration": 341,
    "start_time": "2023-06-15T18:45:12.921Z"
   },
   {
    "duration": 291,
    "start_time": "2023-06-15T18:45:13.267Z"
   },
   {
    "duration": 389,
    "start_time": "2023-06-15T18:45:13.569Z"
   },
   {
    "duration": 467,
    "start_time": "2023-06-15T18:45:13.975Z"
   },
   {
    "duration": 1001,
    "start_time": "2023-06-15T18:45:14.459Z"
   },
   {
    "duration": 735,
    "start_time": "2023-06-15T18:45:15.475Z"
   },
   {
    "duration": 94,
    "start_time": "2023-06-15T18:45:16.224Z"
   },
   {
    "duration": 755,
    "start_time": "2023-06-15T18:45:16.335Z"
   },
   {
    "duration": 55,
    "start_time": "2023-06-15T18:45:17.107Z"
   },
   {
    "duration": 577,
    "start_time": "2023-06-15T18:45:17.168Z"
   },
   {
    "duration": 42,
    "start_time": "2023-06-15T18:45:17.751Z"
   },
   {
    "duration": 676,
    "start_time": "2023-06-15T18:45:17.810Z"
   },
   {
    "duration": 51,
    "start_time": "2023-06-15T18:45:18.503Z"
   },
   {
    "duration": 477,
    "start_time": "2023-06-15T18:45:18.560Z"
   },
   {
    "duration": 74,
    "start_time": "2023-06-15T18:45:19.055Z"
   },
   {
    "duration": 970,
    "start_time": "2023-06-15T18:45:19.150Z"
   },
   {
    "duration": 82,
    "start_time": "2023-06-15T18:45:20.142Z"
   },
   {
    "duration": 51,
    "start_time": "2023-06-15T18:46:23.835Z"
   },
   {
    "duration": 2523,
    "start_time": "2023-06-15T18:49:36.425Z"
   },
   {
    "duration": 114,
    "start_time": "2023-06-15T18:49:38.954Z"
   },
   {
    "duration": 99,
    "start_time": "2023-06-15T18:49:39.074Z"
   },
   {
    "duration": 5,
    "start_time": "2023-06-15T18:49:39.179Z"
   },
   {
    "duration": 24,
    "start_time": "2023-06-15T18:49:39.190Z"
   },
   {
    "duration": 39,
    "start_time": "2023-06-15T18:49:39.220Z"
   },
   {
    "duration": 34,
    "start_time": "2023-06-15T18:49:39.272Z"
   },
   {
    "duration": 65,
    "start_time": "2023-06-15T18:49:39.312Z"
   },
   {
    "duration": 19,
    "start_time": "2023-06-15T18:49:39.383Z"
   },
   {
    "duration": 37,
    "start_time": "2023-06-15T18:49:39.414Z"
   },
   {
    "duration": 25,
    "start_time": "2023-06-15T18:49:39.457Z"
   },
   {
    "duration": 59,
    "start_time": "2023-06-15T18:49:39.489Z"
   },
   {
    "duration": 56,
    "start_time": "2023-06-15T18:49:39.554Z"
   },
   {
    "duration": 14,
    "start_time": "2023-06-15T18:49:39.618Z"
   },
   {
    "duration": 19,
    "start_time": "2023-06-15T18:49:39.645Z"
   },
   {
    "duration": 530,
    "start_time": "2023-06-15T18:49:39.674Z"
   },
   {
    "duration": 9,
    "start_time": "2023-06-15T18:49:40.210Z"
   },
   {
    "duration": 2602,
    "start_time": "2023-06-15T18:49:40.224Z"
   },
   {
    "duration": 15,
    "start_time": "2023-06-15T18:49:42.840Z"
   },
   {
    "duration": 37,
    "start_time": "2023-06-15T18:49:42.868Z"
   },
   {
    "duration": 594,
    "start_time": "2023-06-15T18:49:42.911Z"
   },
   {
    "duration": 22,
    "start_time": "2023-06-15T18:49:43.506Z"
   },
   {
    "duration": 13,
    "start_time": "2023-06-15T18:49:43.541Z"
   },
   {
    "duration": 27,
    "start_time": "2023-06-15T18:49:43.558Z"
   },
   {
    "duration": 39,
    "start_time": "2023-06-15T18:49:43.591Z"
   },
   {
    "duration": 300,
    "start_time": "2023-06-15T18:49:43.633Z"
   },
   {
    "duration": 259,
    "start_time": "2023-06-15T18:49:43.941Z"
   },
   {
    "duration": 319,
    "start_time": "2023-06-15T18:49:44.207Z"
   },
   {
    "duration": 205,
    "start_time": "2023-06-15T18:49:44.528Z"
   },
   {
    "duration": 213,
    "start_time": "2023-06-15T18:49:44.735Z"
   },
   {
    "duration": 222,
    "start_time": "2023-06-15T18:49:44.953Z"
   },
   {
    "duration": 207,
    "start_time": "2023-06-15T18:49:45.183Z"
   },
   {
    "duration": 400,
    "start_time": "2023-06-15T18:49:45.395Z"
   },
   {
    "duration": 450,
    "start_time": "2023-06-15T18:49:45.797Z"
   },
   {
    "duration": 31,
    "start_time": "2023-06-15T18:49:46.259Z"
   },
   {
    "duration": 475,
    "start_time": "2023-06-15T18:49:46.300Z"
   },
   {
    "duration": 31,
    "start_time": "2023-06-15T18:49:46.782Z"
   },
   {
    "duration": 376,
    "start_time": "2023-06-15T18:49:46.820Z"
   },
   {
    "duration": 26,
    "start_time": "2023-06-15T18:49:47.202Z"
   },
   {
    "duration": 389,
    "start_time": "2023-06-15T18:49:47.234Z"
   },
   {
    "duration": 25,
    "start_time": "2023-06-15T18:49:47.626Z"
   },
   {
    "duration": 395,
    "start_time": "2023-06-15T18:49:47.656Z"
   },
   {
    "duration": 34,
    "start_time": "2023-06-15T18:49:48.053Z"
   },
   {
    "duration": 550,
    "start_time": "2023-06-15T18:49:48.089Z"
   },
   {
    "duration": 26,
    "start_time": "2023-06-15T18:49:48.642Z"
   },
   {
    "duration": 78,
    "start_time": "2023-06-15T18:55:30.032Z"
   },
   {
    "duration": 59,
    "start_time": "2023-06-15T18:56:09.834Z"
   },
   {
    "duration": 35,
    "start_time": "2023-06-15T18:57:37.631Z"
   },
   {
    "duration": 103,
    "start_time": "2023-06-15T18:57:41.739Z"
   },
   {
    "duration": 70,
    "start_time": "2023-06-15T18:58:03.653Z"
   },
   {
    "duration": 52,
    "start_time": "2023-06-15T18:58:19.738Z"
   },
   {
    "duration": 51,
    "start_time": "2023-06-15T18:58:44.515Z"
   },
   {
    "duration": 68,
    "start_time": "2023-06-15T18:58:56.753Z"
   },
   {
    "duration": 49,
    "start_time": "2023-06-15T18:59:09.941Z"
   },
   {
    "duration": 167,
    "start_time": "2023-06-15T19:32:58.539Z"
   },
   {
    "duration": 39,
    "start_time": "2023-06-15T19:33:28.158Z"
   },
   {
    "duration": 42,
    "start_time": "2023-06-15T19:33:49.200Z"
   },
   {
    "duration": 75,
    "start_time": "2023-06-15T19:49:45.971Z"
   },
   {
    "duration": 39,
    "start_time": "2023-06-15T19:51:07.911Z"
   },
   {
    "duration": 14,
    "start_time": "2023-06-15T19:56:57.260Z"
   },
   {
    "duration": 756,
    "start_time": "2023-06-15T19:57:06.111Z"
   },
   {
    "duration": 619,
    "start_time": "2023-06-15T19:57:21.547Z"
   },
   {
    "duration": 236,
    "start_time": "2023-06-15T19:58:41.022Z"
   },
   {
    "duration": 30,
    "start_time": "2023-06-15T20:08:52.638Z"
   },
   {
    "duration": 64,
    "start_time": "2023-06-16T12:22:03.391Z"
   },
   {
    "duration": 1306,
    "start_time": "2023-06-16T12:22:10.891Z"
   },
   {
    "duration": 544,
    "start_time": "2023-06-16T12:22:12.200Z"
   },
   {
    "duration": 54,
    "start_time": "2023-06-16T12:22:12.751Z"
   },
   {
    "duration": 5,
    "start_time": "2023-06-16T12:22:12.808Z"
   },
   {
    "duration": 40,
    "start_time": "2023-06-16T12:22:12.815Z"
   },
   {
    "duration": 27,
    "start_time": "2023-06-16T12:22:12.857Z"
   },
   {
    "duration": 13,
    "start_time": "2023-06-16T12:22:12.885Z"
   },
   {
    "duration": 32,
    "start_time": "2023-06-16T12:22:12.901Z"
   },
   {
    "duration": 24,
    "start_time": "2023-06-16T12:22:12.935Z"
   },
   {
    "duration": 11,
    "start_time": "2023-06-16T12:22:12.961Z"
   },
   {
    "duration": 17,
    "start_time": "2023-06-16T12:22:12.973Z"
   },
   {
    "duration": 35,
    "start_time": "2023-06-16T12:22:12.992Z"
   },
   {
    "duration": 23,
    "start_time": "2023-06-16T12:22:13.031Z"
   },
   {
    "duration": 5,
    "start_time": "2023-06-16T12:22:13.056Z"
   },
   {
    "duration": 10,
    "start_time": "2023-06-16T12:22:13.062Z"
   },
   {
    "duration": 374,
    "start_time": "2023-06-16T12:22:13.073Z"
   },
   {
    "duration": 5,
    "start_time": "2023-06-16T12:22:13.449Z"
   },
   {
    "duration": 1721,
    "start_time": "2023-06-16T12:22:13.456Z"
   },
   {
    "duration": 4,
    "start_time": "2023-06-16T12:22:15.179Z"
   },
   {
    "duration": 26,
    "start_time": "2023-06-16T12:22:15.185Z"
   },
   {
    "duration": 350,
    "start_time": "2023-06-16T12:22:15.213Z"
   },
   {
    "duration": 14,
    "start_time": "2023-06-16T12:22:15.565Z"
   },
   {
    "duration": 24,
    "start_time": "2023-06-16T12:22:15.581Z"
   },
   {
    "duration": 21,
    "start_time": "2023-06-16T12:22:15.617Z"
   },
   {
    "duration": 26,
    "start_time": "2023-06-16T12:22:15.640Z"
   },
   {
    "duration": 227,
    "start_time": "2023-06-16T12:22:15.668Z"
   },
   {
    "duration": 146,
    "start_time": "2023-06-16T12:22:15.897Z"
   },
   {
    "duration": 224,
    "start_time": "2023-06-16T12:22:16.045Z"
   },
   {
    "duration": 166,
    "start_time": "2023-06-16T12:22:16.270Z"
   },
   {
    "duration": 208,
    "start_time": "2023-06-16T12:22:16.437Z"
   },
   {
    "duration": 215,
    "start_time": "2023-06-16T12:22:16.649Z"
   },
   {
    "duration": 190,
    "start_time": "2023-06-16T12:22:16.866Z"
   },
   {
    "duration": 373,
    "start_time": "2023-06-16T12:22:17.058Z"
   },
   {
    "duration": 331,
    "start_time": "2023-06-16T12:22:17.435Z"
   },
   {
    "duration": 19,
    "start_time": "2023-06-16T12:22:17.768Z"
   },
   {
    "duration": 341,
    "start_time": "2023-06-16T12:22:17.789Z"
   },
   {
    "duration": 20,
    "start_time": "2023-06-16T12:22:18.137Z"
   },
   {
    "duration": 340,
    "start_time": "2023-06-16T12:22:18.159Z"
   },
   {
    "duration": 43,
    "start_time": "2023-06-16T12:22:18.500Z"
   },
   {
    "duration": 300,
    "start_time": "2023-06-16T12:22:18.549Z"
   },
   {
    "duration": 20,
    "start_time": "2023-06-16T12:22:18.852Z"
   },
   {
    "duration": 303,
    "start_time": "2023-06-16T12:22:18.874Z"
   },
   {
    "duration": 36,
    "start_time": "2023-06-16T12:22:19.179Z"
   },
   {
    "duration": 443,
    "start_time": "2023-06-16T12:22:19.218Z"
   },
   {
    "duration": 19,
    "start_time": "2023-06-16T12:22:19.663Z"
   },
   {
    "duration": 50,
    "start_time": "2023-06-16T12:22:19.684Z"
   },
   {
    "duration": 36,
    "start_time": "2023-06-16T12:22:19.736Z"
   },
   {
    "duration": 16,
    "start_time": "2023-06-16T12:22:19.774Z"
   },
   {
    "duration": 159,
    "start_time": "2023-06-16T12:22:19.792Z"
   },
   {
    "duration": 27,
    "start_time": "2023-06-16T12:22:29.921Z"
   },
   {
    "duration": 11,
    "start_time": "2023-06-16T12:23:37.973Z"
   },
   {
    "duration": 9,
    "start_time": "2023-06-16T12:23:44.553Z"
   },
   {
    "duration": 10,
    "start_time": "2023-06-16T12:25:28.673Z"
   },
   {
    "duration": 1253,
    "start_time": "2023-06-16T12:26:58.590Z"
   },
   {
    "duration": 66,
    "start_time": "2023-06-16T12:26:59.845Z"
   },
   {
    "duration": 57,
    "start_time": "2023-06-16T12:26:59.915Z"
   },
   {
    "duration": 4,
    "start_time": "2023-06-16T12:26:59.977Z"
   },
   {
    "duration": 17,
    "start_time": "2023-06-16T12:26:59.984Z"
   },
   {
    "duration": 41,
    "start_time": "2023-06-16T12:27:00.003Z"
   },
   {
    "duration": 45,
    "start_time": "2023-06-16T12:27:00.051Z"
   },
   {
    "duration": 79,
    "start_time": "2023-06-16T12:27:00.098Z"
   },
   {
    "duration": 24,
    "start_time": "2023-06-16T12:27:00.179Z"
   },
   {
    "duration": 64,
    "start_time": "2023-06-16T12:27:00.205Z"
   },
   {
    "duration": 71,
    "start_time": "2023-06-16T12:27:00.270Z"
   },
   {
    "duration": 258,
    "start_time": "2023-06-16T12:27:00.344Z"
   },
   {
    "duration": 147,
    "start_time": "2023-06-16T12:27:00.604Z"
   },
   {
    "duration": 43,
    "start_time": "2023-06-16T12:27:00.754Z"
   },
   {
    "duration": 123,
    "start_time": "2023-06-16T12:27:00.799Z"
   },
   {
    "duration": 608,
    "start_time": "2023-06-16T12:27:00.924Z"
   },
   {
    "duration": 6,
    "start_time": "2023-06-16T12:27:01.534Z"
   },
   {
    "duration": 1847,
    "start_time": "2023-06-16T12:27:01.542Z"
   },
   {
    "duration": 3,
    "start_time": "2023-06-16T12:27:03.391Z"
   },
   {
    "duration": 53,
    "start_time": "2023-06-16T12:27:03.396Z"
   },
   {
    "duration": 308,
    "start_time": "2023-06-16T12:27:03.451Z"
   },
   {
    "duration": 10,
    "start_time": "2023-06-16T12:27:03.761Z"
   },
   {
    "duration": 11,
    "start_time": "2023-06-16T12:27:03.773Z"
   },
   {
    "duration": 28,
    "start_time": "2023-06-16T12:27:03.785Z"
   },
   {
    "duration": 27,
    "start_time": "2023-06-16T12:27:03.815Z"
   },
   {
    "duration": 211,
    "start_time": "2023-06-16T12:27:03.843Z"
   },
   {
    "duration": 164,
    "start_time": "2023-06-16T12:27:04.056Z"
   },
   {
    "duration": 259,
    "start_time": "2023-06-16T12:27:04.222Z"
   },
   {
    "duration": 192,
    "start_time": "2023-06-16T12:27:04.483Z"
   },
   {
    "duration": 180,
    "start_time": "2023-06-16T12:27:04.677Z"
   },
   {
    "duration": 184,
    "start_time": "2023-06-16T12:27:04.859Z"
   },
   {
    "duration": 155,
    "start_time": "2023-06-16T12:27:05.045Z"
   },
   {
    "duration": 345,
    "start_time": "2023-06-16T12:27:05.210Z"
   },
   {
    "duration": 259,
    "start_time": "2023-06-16T12:27:05.559Z"
   },
   {
    "duration": 18,
    "start_time": "2023-06-16T12:27:05.820Z"
   },
   {
    "duration": 301,
    "start_time": "2023-06-16T12:27:05.840Z"
   },
   {
    "duration": 16,
    "start_time": "2023-06-16T12:27:06.144Z"
   },
   {
    "duration": 262,
    "start_time": "2023-06-16T12:27:06.161Z"
   },
   {
    "duration": 29,
    "start_time": "2023-06-16T12:27:06.427Z"
   },
   {
    "duration": 337,
    "start_time": "2023-06-16T12:27:06.458Z"
   },
   {
    "duration": 30,
    "start_time": "2023-06-16T12:27:06.799Z"
   },
   {
    "duration": 262,
    "start_time": "2023-06-16T12:27:06.830Z"
   },
   {
    "duration": 30,
    "start_time": "2023-06-16T12:27:07.094Z"
   },
   {
    "duration": 405,
    "start_time": "2023-06-16T12:27:07.128Z"
   },
   {
    "duration": 23,
    "start_time": "2023-06-16T12:27:07.535Z"
   },
   {
    "duration": 34,
    "start_time": "2023-06-16T12:27:07.560Z"
   },
   {
    "duration": 24,
    "start_time": "2023-06-16T12:27:07.595Z"
   },
   {
    "duration": 30,
    "start_time": "2023-06-16T12:27:07.622Z"
   },
   {
    "duration": 9,
    "start_time": "2023-06-16T12:27:07.654Z"
   },
   {
    "duration": 6,
    "start_time": "2023-06-16T12:27:56.092Z"
   },
   {
    "duration": 24,
    "start_time": "2023-06-16T12:28:04.104Z"
   },
   {
    "duration": 8,
    "start_time": "2023-06-16T12:29:28.862Z"
   },
   {
    "duration": 11,
    "start_time": "2023-06-16T12:30:05.461Z"
   },
   {
    "duration": 13,
    "start_time": "2023-06-16T12:31:22.230Z"
   },
   {
    "duration": 5,
    "start_time": "2023-06-16T12:33:45.494Z"
   },
   {
    "duration": 10,
    "start_time": "2023-06-16T12:34:39.842Z"
   },
   {
    "duration": 16,
    "start_time": "2023-06-16T12:37:16.176Z"
   },
   {
    "duration": 1252,
    "start_time": "2023-06-16T12:38:00.727Z"
   },
   {
    "duration": 76,
    "start_time": "2023-06-16T12:38:01.981Z"
   },
   {
    "duration": 61,
    "start_time": "2023-06-16T12:38:02.059Z"
   },
   {
    "duration": 4,
    "start_time": "2023-06-16T12:38:02.125Z"
   },
   {
    "duration": 65,
    "start_time": "2023-06-16T12:38:02.134Z"
   },
   {
    "duration": 66,
    "start_time": "2023-06-16T12:38:02.201Z"
   },
   {
    "duration": 20,
    "start_time": "2023-06-16T12:38:02.269Z"
   },
   {
    "duration": 62,
    "start_time": "2023-06-16T12:38:02.290Z"
   },
   {
    "duration": 21,
    "start_time": "2023-06-16T12:38:02.354Z"
   },
   {
    "duration": 54,
    "start_time": "2023-06-16T12:38:02.376Z"
   },
   {
    "duration": 29,
    "start_time": "2023-06-16T12:38:02.435Z"
   },
   {
    "duration": 44,
    "start_time": "2023-06-16T12:38:02.466Z"
   },
   {
    "duration": 49,
    "start_time": "2023-06-16T12:38:02.512Z"
   },
   {
    "duration": 17,
    "start_time": "2023-06-16T12:38:02.566Z"
   },
   {
    "duration": 39,
    "start_time": "2023-06-16T12:38:02.585Z"
   },
   {
    "duration": 506,
    "start_time": "2023-06-16T12:38:02.626Z"
   },
   {
    "duration": 7,
    "start_time": "2023-06-16T12:38:03.136Z"
   },
   {
    "duration": 1574,
    "start_time": "2023-06-16T12:38:03.148Z"
   },
   {
    "duration": 5,
    "start_time": "2023-06-16T12:38:04.727Z"
   },
   {
    "duration": 19,
    "start_time": "2023-06-16T12:38:04.737Z"
   },
   {
    "duration": 286,
    "start_time": "2023-06-16T12:38:04.760Z"
   },
   {
    "duration": 14,
    "start_time": "2023-06-16T12:38:05.050Z"
   },
   {
    "duration": 14,
    "start_time": "2023-06-16T12:38:05.067Z"
   },
   {
    "duration": 41,
    "start_time": "2023-06-16T12:38:05.083Z"
   },
   {
    "duration": 39,
    "start_time": "2023-06-16T12:38:05.125Z"
   },
   {
    "duration": 162,
    "start_time": "2023-06-16T12:38:05.170Z"
   },
   {
    "duration": 154,
    "start_time": "2023-06-16T12:38:05.334Z"
   },
   {
    "duration": 243,
    "start_time": "2023-06-16T12:38:05.490Z"
   },
   {
    "duration": 167,
    "start_time": "2023-06-16T12:38:05.734Z"
   },
   {
    "duration": 177,
    "start_time": "2023-06-16T12:38:05.903Z"
   },
   {
    "duration": 181,
    "start_time": "2023-06-16T12:38:06.082Z"
   },
   {
    "duration": 179,
    "start_time": "2023-06-16T12:38:06.266Z"
   },
   {
    "duration": 317,
    "start_time": "2023-06-16T12:38:06.460Z"
   },
   {
    "duration": 276,
    "start_time": "2023-06-16T12:38:06.781Z"
   },
   {
    "duration": 18,
    "start_time": "2023-06-16T12:38:07.068Z"
   },
   {
    "duration": 312,
    "start_time": "2023-06-16T12:38:07.087Z"
   },
   {
    "duration": 28,
    "start_time": "2023-06-16T12:38:07.401Z"
   },
   {
    "duration": 283,
    "start_time": "2023-06-16T12:38:07.432Z"
   },
   {
    "duration": 19,
    "start_time": "2023-06-16T12:38:07.719Z"
   },
   {
    "duration": 277,
    "start_time": "2023-06-16T12:38:07.743Z"
   },
   {
    "duration": 19,
    "start_time": "2023-06-16T12:38:08.026Z"
   },
   {
    "duration": 257,
    "start_time": "2023-06-16T12:38:08.049Z"
   },
   {
    "duration": 41,
    "start_time": "2023-06-16T12:38:08.307Z"
   },
   {
    "duration": 385,
    "start_time": "2023-06-16T12:38:08.353Z"
   },
   {
    "duration": 18,
    "start_time": "2023-06-16T12:38:08.743Z"
   },
   {
    "duration": 17,
    "start_time": "2023-06-16T12:38:08.765Z"
   },
   {
    "duration": 17,
    "start_time": "2023-06-16T12:38:08.785Z"
   },
   {
    "duration": 46,
    "start_time": "2023-06-16T12:38:08.804Z"
   },
   {
    "duration": 9,
    "start_time": "2023-06-16T12:38:08.855Z"
   },
   {
    "duration": 20,
    "start_time": "2023-06-16T12:38:08.867Z"
   },
   {
    "duration": 37,
    "start_time": "2023-06-16T12:38:08.889Z"
   },
   {
    "duration": 9,
    "start_time": "2023-06-16T12:38:47.351Z"
   },
   {
    "duration": 45,
    "start_time": "2023-06-16T12:39:27.294Z"
   },
   {
    "duration": 24,
    "start_time": "2023-06-16T12:41:37.022Z"
   },
   {
    "duration": 145,
    "start_time": "2023-06-16T12:44:02.555Z"
   },
   {
    "duration": 10,
    "start_time": "2023-06-16T12:45:30.069Z"
   },
   {
    "duration": 14,
    "start_time": "2023-06-16T12:47:15.304Z"
   },
   {
    "duration": 13,
    "start_time": "2023-06-16T12:47:37.319Z"
   },
   {
    "duration": 365,
    "start_time": "2023-06-16T13:25:37.580Z"
   },
   {
    "duration": 1129,
    "start_time": "2023-06-16T13:33:23.863Z"
   },
   {
    "duration": 86,
    "start_time": "2023-06-16T13:33:24.994Z"
   },
   {
    "duration": 44,
    "start_time": "2023-06-16T13:33:25.082Z"
   },
   {
    "duration": 7,
    "start_time": "2023-06-16T13:33:25.143Z"
   },
   {
    "duration": 23,
    "start_time": "2023-06-16T13:33:25.157Z"
   },
   {
    "duration": 21,
    "start_time": "2023-06-16T13:33:25.181Z"
   },
   {
    "duration": 21,
    "start_time": "2023-06-16T13:33:25.204Z"
   },
   {
    "duration": 28,
    "start_time": "2023-06-16T13:33:25.227Z"
   },
   {
    "duration": 10,
    "start_time": "2023-06-16T13:33:25.257Z"
   },
   {
    "duration": 8,
    "start_time": "2023-06-16T13:33:25.274Z"
   },
   {
    "duration": 9,
    "start_time": "2023-06-16T13:33:25.284Z"
   },
   {
    "duration": 30,
    "start_time": "2023-06-16T13:33:25.294Z"
   },
   {
    "duration": 36,
    "start_time": "2023-06-16T13:33:25.337Z"
   },
   {
    "duration": 4,
    "start_time": "2023-06-16T13:33:25.375Z"
   },
   {
    "duration": 16,
    "start_time": "2023-06-16T13:33:25.380Z"
   },
   {
    "duration": 401,
    "start_time": "2023-06-16T13:33:25.397Z"
   },
   {
    "duration": 6,
    "start_time": "2023-06-16T13:33:25.805Z"
   },
   {
    "duration": 1455,
    "start_time": "2023-06-16T13:33:25.812Z"
   },
   {
    "duration": 3,
    "start_time": "2023-06-16T13:33:27.269Z"
   },
   {
    "duration": 14,
    "start_time": "2023-06-16T13:33:27.276Z"
   },
   {
    "duration": 301,
    "start_time": "2023-06-16T13:33:27.292Z"
   },
   {
    "duration": 15,
    "start_time": "2023-06-16T13:33:27.595Z"
   },
   {
    "duration": 7,
    "start_time": "2023-06-16T13:33:27.611Z"
   },
   {
    "duration": 29,
    "start_time": "2023-06-16T13:33:27.622Z"
   },
   {
    "duration": 20,
    "start_time": "2023-06-16T13:33:27.652Z"
   },
   {
    "duration": 177,
    "start_time": "2023-06-16T13:33:27.673Z"
   },
   {
    "duration": 145,
    "start_time": "2023-06-16T13:33:27.856Z"
   },
   {
    "duration": 245,
    "start_time": "2023-06-16T13:33:28.003Z"
   },
   {
    "duration": 171,
    "start_time": "2023-06-16T13:33:28.250Z"
   },
   {
    "duration": 163,
    "start_time": "2023-06-16T13:33:28.428Z"
   },
   {
    "duration": 173,
    "start_time": "2023-06-16T13:33:28.593Z"
   },
   {
    "duration": 177,
    "start_time": "2023-06-16T13:33:28.767Z"
   },
   {
    "duration": 303,
    "start_time": "2023-06-16T13:33:28.946Z"
   },
   {
    "duration": 268,
    "start_time": "2023-06-16T13:33:29.250Z"
   },
   {
    "duration": 19,
    "start_time": "2023-06-16T13:33:29.519Z"
   },
   {
    "duration": 321,
    "start_time": "2023-06-16T13:33:29.540Z"
   },
   {
    "duration": 15,
    "start_time": "2023-06-16T13:33:29.865Z"
   },
   {
    "duration": 332,
    "start_time": "2023-06-16T13:33:29.882Z"
   },
   {
    "duration": 27,
    "start_time": "2023-06-16T13:33:30.216Z"
   },
   {
    "duration": 348,
    "start_time": "2023-06-16T13:33:30.250Z"
   },
   {
    "duration": 18,
    "start_time": "2023-06-16T13:33:30.610Z"
   },
   {
    "duration": 289,
    "start_time": "2023-06-16T13:33:30.629Z"
   },
   {
    "duration": 27,
    "start_time": "2023-06-16T13:33:30.928Z"
   },
   {
    "duration": 463,
    "start_time": "2023-06-16T13:33:30.960Z"
   },
   {
    "duration": 34,
    "start_time": "2023-06-16T13:33:31.431Z"
   },
   {
    "duration": 54,
    "start_time": "2023-06-16T13:33:31.467Z"
   },
   {
    "duration": 57,
    "start_time": "2023-06-16T13:33:31.522Z"
   },
   {
    "duration": 51,
    "start_time": "2023-06-16T13:33:31.581Z"
   },
   {
    "duration": 25,
    "start_time": "2023-06-16T13:33:31.634Z"
   },
   {
    "duration": 41,
    "start_time": "2023-06-16T13:33:31.662Z"
   },
   {
    "duration": 1394,
    "start_time": "2023-06-16T13:35:32.428Z"
   },
   {
    "duration": 65,
    "start_time": "2023-06-16T13:35:33.834Z"
   },
   {
    "duration": 61,
    "start_time": "2023-06-16T13:35:33.900Z"
   },
   {
    "duration": 3,
    "start_time": "2023-06-16T13:35:33.962Z"
   },
   {
    "duration": 69,
    "start_time": "2023-06-16T13:35:33.967Z"
   },
   {
    "duration": 38,
    "start_time": "2023-06-16T13:35:34.038Z"
   },
   {
    "duration": 10,
    "start_time": "2023-06-16T13:35:34.077Z"
   },
   {
    "duration": 65,
    "start_time": "2023-06-16T13:35:34.089Z"
   },
   {
    "duration": 33,
    "start_time": "2023-06-16T13:35:34.155Z"
   },
   {
    "duration": 13,
    "start_time": "2023-06-16T13:35:34.189Z"
   },
   {
    "duration": 34,
    "start_time": "2023-06-16T13:35:34.204Z"
   },
   {
    "duration": 52,
    "start_time": "2023-06-16T13:35:34.240Z"
   },
   {
    "duration": 50,
    "start_time": "2023-06-16T13:35:34.301Z"
   },
   {
    "duration": 12,
    "start_time": "2023-06-16T13:35:34.354Z"
   },
   {
    "duration": 12,
    "start_time": "2023-06-16T13:35:34.368Z"
   },
   {
    "duration": 380,
    "start_time": "2023-06-16T13:35:34.382Z"
   },
   {
    "duration": 4,
    "start_time": "2023-06-16T13:35:34.764Z"
   },
   {
    "duration": 1419,
    "start_time": "2023-06-16T13:35:34.770Z"
   },
   {
    "duration": 3,
    "start_time": "2023-06-16T13:35:36.190Z"
   },
   {
    "duration": 32,
    "start_time": "2023-06-16T13:35:36.194Z"
   },
   {
    "duration": 338,
    "start_time": "2023-06-16T13:35:36.228Z"
   },
   {
    "duration": 16,
    "start_time": "2023-06-16T13:35:36.570Z"
   },
   {
    "duration": 6,
    "start_time": "2023-06-16T13:35:36.588Z"
   },
   {
    "duration": 23,
    "start_time": "2023-06-16T13:35:36.596Z"
   },
   {
    "duration": 46,
    "start_time": "2023-06-16T13:35:36.620Z"
   },
   {
    "duration": 172,
    "start_time": "2023-06-16T13:35:36.668Z"
   },
   {
    "duration": 148,
    "start_time": "2023-06-16T13:35:36.842Z"
   },
   {
    "duration": 243,
    "start_time": "2023-06-16T13:35:36.992Z"
   },
   {
    "duration": 158,
    "start_time": "2023-06-16T13:35:37.242Z"
   },
   {
    "duration": 168,
    "start_time": "2023-06-16T13:35:37.410Z"
   },
   {
    "duration": 161,
    "start_time": "2023-06-16T13:35:37.579Z"
   },
   {
    "duration": 155,
    "start_time": "2023-06-16T13:35:37.741Z"
   },
   {
    "duration": 304,
    "start_time": "2023-06-16T13:35:37.898Z"
   },
   {
    "duration": 273,
    "start_time": "2023-06-16T13:35:38.203Z"
   },
   {
    "duration": 15,
    "start_time": "2023-06-16T13:35:38.478Z"
   },
   {
    "duration": 304,
    "start_time": "2023-06-16T13:35:38.494Z"
   },
   {
    "duration": 40,
    "start_time": "2023-06-16T13:35:38.799Z"
   },
   {
    "duration": 285,
    "start_time": "2023-06-16T13:35:38.840Z"
   },
   {
    "duration": 19,
    "start_time": "2023-06-16T13:35:39.126Z"
   },
   {
    "duration": 284,
    "start_time": "2023-06-16T13:35:39.146Z"
   },
   {
    "duration": 23,
    "start_time": "2023-06-16T13:35:39.441Z"
   },
   {
    "duration": 259,
    "start_time": "2023-06-16T13:35:39.466Z"
   },
   {
    "duration": 20,
    "start_time": "2023-06-16T13:35:39.727Z"
   },
   {
    "duration": 356,
    "start_time": "2023-06-16T13:35:39.748Z"
   },
   {
    "duration": 22,
    "start_time": "2023-06-16T13:35:40.116Z"
   },
   {
    "duration": 17,
    "start_time": "2023-06-16T13:35:40.140Z"
   },
   {
    "duration": 16,
    "start_time": "2023-06-16T13:35:40.159Z"
   },
   {
    "duration": 13,
    "start_time": "2023-06-16T13:35:40.176Z"
   },
   {
    "duration": 38,
    "start_time": "2023-06-16T13:35:40.191Z"
   },
   {
    "duration": 22,
    "start_time": "2023-06-16T13:35:40.240Z"
   },
   {
    "duration": 1302,
    "start_time": "2023-06-16T14:13:45.857Z"
   },
   {
    "duration": 68,
    "start_time": "2023-06-16T14:13:47.160Z"
   },
   {
    "duration": 41,
    "start_time": "2023-06-16T14:13:47.233Z"
   },
   {
    "duration": 2,
    "start_time": "2023-06-16T14:13:47.276Z"
   },
   {
    "duration": 66,
    "start_time": "2023-06-16T14:13:47.280Z"
   },
   {
    "duration": 29,
    "start_time": "2023-06-16T14:13:47.348Z"
   },
   {
    "duration": 10,
    "start_time": "2023-06-16T14:13:47.378Z"
   },
   {
    "duration": 68,
    "start_time": "2023-06-16T14:13:47.389Z"
   },
   {
    "duration": 4,
    "start_time": "2023-06-16T14:13:47.459Z"
   },
   {
    "duration": 39,
    "start_time": "2023-06-16T14:13:47.466Z"
   },
   {
    "duration": 52,
    "start_time": "2023-06-16T14:13:47.516Z"
   },
   {
    "duration": 27,
    "start_time": "2023-06-16T14:13:47.570Z"
   },
   {
    "duration": 60,
    "start_time": "2023-06-16T14:13:47.598Z"
   },
   {
    "duration": 17,
    "start_time": "2023-06-16T14:13:47.659Z"
   },
   {
    "duration": 21,
    "start_time": "2023-06-16T14:13:47.677Z"
   },
   {
    "duration": 457,
    "start_time": "2023-06-16T14:13:47.707Z"
   },
   {
    "duration": 6,
    "start_time": "2023-06-16T14:13:48.165Z"
   },
   {
    "duration": 1303,
    "start_time": "2023-06-16T14:13:48.172Z"
   },
   {
    "duration": 3,
    "start_time": "2023-06-16T14:13:49.477Z"
   },
   {
    "duration": 76,
    "start_time": "2023-06-16T14:13:49.482Z"
   },
   {
    "duration": 313,
    "start_time": "2023-06-16T14:13:49.559Z"
   },
   {
    "duration": 8,
    "start_time": "2023-06-16T14:13:49.874Z"
   },
   {
    "duration": 15,
    "start_time": "2023-06-16T14:13:49.884Z"
   },
   {
    "duration": 76,
    "start_time": "2023-06-16T14:13:49.900Z"
   },
   {
    "duration": 50,
    "start_time": "2023-06-16T14:13:49.978Z"
   },
   {
    "duration": 211,
    "start_time": "2023-06-16T14:13:50.030Z"
   },
   {
    "duration": 141,
    "start_time": "2023-06-16T14:13:50.242Z"
   },
   {
    "duration": 204,
    "start_time": "2023-06-16T14:13:50.386Z"
   },
   {
    "duration": 158,
    "start_time": "2023-06-16T14:13:50.591Z"
   },
   {
    "duration": 177,
    "start_time": "2023-06-16T14:13:50.751Z"
   },
   {
    "duration": 149,
    "start_time": "2023-06-16T14:13:50.929Z"
   },
   {
    "duration": 153,
    "start_time": "2023-06-16T14:13:51.080Z"
   },
   {
    "duration": 300,
    "start_time": "2023-06-16T14:13:51.235Z"
   },
   {
    "duration": 249,
    "start_time": "2023-06-16T14:13:51.536Z"
   },
   {
    "duration": 44,
    "start_time": "2023-06-16T14:13:51.787Z"
   },
   {
    "duration": 356,
    "start_time": "2023-06-16T14:13:51.834Z"
   },
   {
    "duration": 18,
    "start_time": "2023-06-16T14:13:52.192Z"
   },
   {
    "duration": 277,
    "start_time": "2023-06-16T14:13:52.211Z"
   },
   {
    "duration": 22,
    "start_time": "2023-06-16T14:13:52.490Z"
   },
   {
    "duration": 255,
    "start_time": "2023-06-16T14:13:52.513Z"
   },
   {
    "duration": 41,
    "start_time": "2023-06-16T14:13:52.770Z"
   },
   {
    "duration": 216,
    "start_time": "2023-06-16T14:13:52.821Z"
   },
   {
    "duration": 14,
    "start_time": "2023-06-16T14:13:53.038Z"
   },
   {
    "duration": 374,
    "start_time": "2023-06-16T14:13:53.053Z"
   },
   {
    "duration": 20,
    "start_time": "2023-06-16T14:13:53.429Z"
   },
   {
    "duration": 31,
    "start_time": "2023-06-16T14:13:53.451Z"
   },
   {
    "duration": 22,
    "start_time": "2023-06-16T14:13:53.483Z"
   },
   {
    "duration": 66,
    "start_time": "2023-06-16T14:13:53.506Z"
   },
   {
    "duration": 14,
    "start_time": "2023-06-16T14:13:53.573Z"
   },
   {
    "duration": 33,
    "start_time": "2023-06-16T14:13:53.588Z"
   },
   {
    "duration": 270,
    "start_time": "2023-06-16T14:18:59.444Z"
   },
   {
    "duration": 1087,
    "start_time": "2023-06-16T14:26:27.492Z"
   },
   {
    "duration": 74,
    "start_time": "2023-06-16T14:26:28.581Z"
   },
   {
    "duration": 37,
    "start_time": "2023-06-16T14:26:28.656Z"
   },
   {
    "duration": 3,
    "start_time": "2023-06-16T14:26:28.694Z"
   },
   {
    "duration": 61,
    "start_time": "2023-06-16T14:26:28.698Z"
   },
   {
    "duration": 37,
    "start_time": "2023-06-16T14:26:28.761Z"
   },
   {
    "duration": 31,
    "start_time": "2023-06-16T14:26:28.813Z"
   },
   {
    "duration": 52,
    "start_time": "2023-06-16T14:26:28.845Z"
   },
   {
    "duration": 41,
    "start_time": "2023-06-16T14:26:28.898Z"
   },
   {
    "duration": 13,
    "start_time": "2023-06-16T14:26:28.942Z"
   },
   {
    "duration": 17,
    "start_time": "2023-06-16T14:26:28.956Z"
   },
   {
    "duration": 17,
    "start_time": "2023-06-16T14:26:28.974Z"
   },
   {
    "duration": 73,
    "start_time": "2023-06-16T14:26:28.992Z"
   },
   {
    "duration": 14,
    "start_time": "2023-06-16T14:26:29.066Z"
   },
   {
    "duration": 63,
    "start_time": "2023-06-16T14:26:29.081Z"
   },
   {
    "duration": 309,
    "start_time": "2023-06-16T14:26:29.146Z"
   },
   {
    "duration": 5,
    "start_time": "2023-06-16T14:26:29.456Z"
   },
   {
    "duration": 1233,
    "start_time": "2023-06-16T14:26:29.462Z"
   },
   {
    "duration": 8,
    "start_time": "2023-06-16T14:26:30.717Z"
   },
   {
    "duration": 108,
    "start_time": "2023-06-16T14:26:30.726Z"
   },
   {
    "duration": 293,
    "start_time": "2023-06-16T14:26:30.836Z"
   },
   {
    "duration": 14,
    "start_time": "2023-06-16T14:26:31.131Z"
   },
   {
    "duration": 29,
    "start_time": "2023-06-16T14:26:31.147Z"
   },
   {
    "duration": 118,
    "start_time": "2023-06-16T14:26:31.177Z"
   },
   {
    "duration": 66,
    "start_time": "2023-06-16T14:26:31.297Z"
   },
   {
    "duration": 191,
    "start_time": "2023-06-16T14:26:31.365Z"
   },
   {
    "duration": 359,
    "start_time": "2023-06-16T14:26:31.558Z"
   },
   {
    "duration": 144,
    "start_time": "2023-06-16T14:26:31.920Z"
   },
   {
    "duration": 177,
    "start_time": "2023-06-16T14:26:32.066Z"
   },
   {
    "duration": 169,
    "start_time": "2023-06-16T14:26:32.244Z"
   },
   {
    "duration": 151,
    "start_time": "2023-06-16T14:26:32.415Z"
   },
   {
    "duration": 162,
    "start_time": "2023-06-16T14:26:32.567Z"
   },
   {
    "duration": 209,
    "start_time": "2023-06-16T14:26:32.731Z"
   },
   {
    "duration": 288,
    "start_time": "2023-06-16T14:26:32.942Z"
   },
   {
    "duration": 243,
    "start_time": "2023-06-16T14:26:33.231Z"
   },
   {
    "duration": 15,
    "start_time": "2023-06-16T14:26:33.475Z"
   },
   {
    "duration": 262,
    "start_time": "2023-06-16T14:26:33.502Z"
   },
   {
    "duration": 14,
    "start_time": "2023-06-16T14:26:33.766Z"
   },
   {
    "duration": 282,
    "start_time": "2023-06-16T14:26:33.782Z"
   },
   {
    "duration": 14,
    "start_time": "2023-06-16T14:26:34.065Z"
   },
   {
    "duration": 333,
    "start_time": "2023-06-16T14:26:34.080Z"
   },
   {
    "duration": 15,
    "start_time": "2023-06-16T14:26:34.426Z"
   },
   {
    "duration": 239,
    "start_time": "2023-06-16T14:26:34.443Z"
   },
   {
    "duration": 49,
    "start_time": "2023-06-16T14:26:34.684Z"
   },
   {
    "duration": 243,
    "start_time": "2023-06-16T14:26:34.734Z"
   },
   {
    "duration": 31,
    "start_time": "2023-06-16T14:26:34.978Z"
   },
   {
    "duration": 22,
    "start_time": "2023-06-16T14:26:35.017Z"
   },
   {
    "duration": 23,
    "start_time": "2023-06-16T14:26:35.040Z"
   },
   {
    "duration": 21,
    "start_time": "2023-06-16T14:26:35.065Z"
   },
   {
    "duration": 33,
    "start_time": "2023-06-16T14:26:35.088Z"
   },
   {
    "duration": 34,
    "start_time": "2023-06-16T14:26:35.124Z"
   },
   {
    "duration": 1347,
    "start_time": "2023-06-17T07:06:12.840Z"
   },
   {
    "duration": 97,
    "start_time": "2023-06-17T07:06:14.189Z"
   },
   {
    "duration": 42,
    "start_time": "2023-06-17T07:06:14.288Z"
   },
   {
    "duration": 3,
    "start_time": "2023-06-17T07:06:14.332Z"
   },
   {
    "duration": 24,
    "start_time": "2023-06-17T07:06:14.337Z"
   },
   {
    "duration": 36,
    "start_time": "2023-06-17T07:06:14.363Z"
   },
   {
    "duration": 14,
    "start_time": "2023-06-17T07:06:14.402Z"
   },
   {
    "duration": 48,
    "start_time": "2023-06-17T07:06:14.418Z"
   },
   {
    "duration": 19,
    "start_time": "2023-06-17T07:06:14.468Z"
   },
   {
    "duration": 26,
    "start_time": "2023-06-17T07:06:14.491Z"
   },
   {
    "duration": 8,
    "start_time": "2023-06-17T07:06:14.519Z"
   },
   {
    "duration": 25,
    "start_time": "2023-06-17T07:06:14.528Z"
   },
   {
    "duration": 35,
    "start_time": "2023-06-17T07:06:14.555Z"
   },
   {
    "duration": 5,
    "start_time": "2023-06-17T07:06:14.592Z"
   },
   {
    "duration": 11,
    "start_time": "2023-06-17T07:06:14.598Z"
   },
   {
    "duration": 359,
    "start_time": "2023-06-17T07:06:14.611Z"
   },
   {
    "duration": 7,
    "start_time": "2023-06-17T07:06:14.971Z"
   },
   {
    "duration": 1499,
    "start_time": "2023-06-17T07:06:14.980Z"
   },
   {
    "duration": 3,
    "start_time": "2023-06-17T07:06:16.481Z"
   },
   {
    "duration": 30,
    "start_time": "2023-06-17T07:06:16.486Z"
   },
   {
    "duration": 331,
    "start_time": "2023-06-17T07:06:16.518Z"
   },
   {
    "duration": 19,
    "start_time": "2023-06-17T07:06:16.853Z"
   },
   {
    "duration": 8,
    "start_time": "2023-06-17T07:06:16.874Z"
   },
   {
    "duration": 22,
    "start_time": "2023-06-17T07:06:16.884Z"
   },
   {
    "duration": 24,
    "start_time": "2023-06-17T07:06:16.908Z"
   },
   {
    "duration": 208,
    "start_time": "2023-06-17T07:06:16.934Z"
   },
   {
    "duration": 392,
    "start_time": "2023-06-17T07:06:17.144Z"
   },
   {
    "duration": 150,
    "start_time": "2023-06-17T07:06:17.539Z"
   },
   {
    "duration": 152,
    "start_time": "2023-06-17T07:06:17.691Z"
   },
   {
    "duration": 164,
    "start_time": "2023-06-17T07:06:17.845Z"
   },
   {
    "duration": 187,
    "start_time": "2023-06-17T07:06:18.011Z"
   },
   {
    "duration": 237,
    "start_time": "2023-06-17T07:06:18.201Z"
   },
   {
    "duration": 166,
    "start_time": "2023-06-17T07:06:18.440Z"
   },
   {
    "duration": 292,
    "start_time": "2023-06-17T07:06:18.608Z"
   },
   {
    "duration": 256,
    "start_time": "2023-06-17T07:06:18.902Z"
   },
   {
    "duration": 17,
    "start_time": "2023-06-17T07:06:19.160Z"
   },
   {
    "duration": 317,
    "start_time": "2023-06-17T07:06:19.178Z"
   },
   {
    "duration": 17,
    "start_time": "2023-06-17T07:06:19.497Z"
   },
   {
    "duration": 253,
    "start_time": "2023-06-17T07:06:19.516Z"
   },
   {
    "duration": 16,
    "start_time": "2023-06-17T07:06:19.771Z"
   },
   {
    "duration": 376,
    "start_time": "2023-06-17T07:06:19.789Z"
   },
   {
    "duration": 18,
    "start_time": "2023-06-17T07:06:20.168Z"
   },
   {
    "duration": 266,
    "start_time": "2023-06-17T07:06:20.188Z"
   },
   {
    "duration": 17,
    "start_time": "2023-06-17T07:06:20.456Z"
   },
   {
    "duration": 306,
    "start_time": "2023-06-17T07:06:20.475Z"
   },
   {
    "duration": 19,
    "start_time": "2023-06-17T07:06:20.783Z"
   },
   {
    "duration": 18,
    "start_time": "2023-06-17T07:06:20.804Z"
   },
   {
    "duration": 44,
    "start_time": "2023-06-17T07:06:20.824Z"
   },
   {
    "duration": 66,
    "start_time": "2023-06-17T07:06:20.870Z"
   },
   {
    "duration": 17,
    "start_time": "2023-06-17T07:06:20.938Z"
   },
   {
    "duration": 20,
    "start_time": "2023-06-17T07:06:20.957Z"
   },
   {
    "duration": 1174,
    "start_time": "2023-06-17T07:19:47.154Z"
   },
   {
    "duration": 57,
    "start_time": "2023-06-17T07:19:48.330Z"
   },
   {
    "duration": 70,
    "start_time": "2023-06-17T07:19:48.390Z"
   },
   {
    "duration": 3,
    "start_time": "2023-06-17T07:19:48.463Z"
   },
   {
    "duration": 22,
    "start_time": "2023-06-17T07:19:48.468Z"
   },
   {
    "duration": 21,
    "start_time": "2023-06-17T07:19:48.493Z"
   },
   {
    "duration": 12,
    "start_time": "2023-06-17T07:19:48.515Z"
   },
   {
    "duration": 35,
    "start_time": "2023-06-17T07:19:48.529Z"
   },
   {
    "duration": 5,
    "start_time": "2023-06-17T07:19:48.565Z"
   },
   {
    "duration": 14,
    "start_time": "2023-06-17T07:19:48.572Z"
   },
   {
    "duration": 6,
    "start_time": "2023-06-17T07:19:48.588Z"
   },
   {
    "duration": 22,
    "start_time": "2023-06-17T07:19:48.595Z"
   },
   {
    "duration": 18,
    "start_time": "2023-06-17T07:19:48.619Z"
   },
   {
    "duration": 4,
    "start_time": "2023-06-17T07:19:48.638Z"
   },
   {
    "duration": 80,
    "start_time": "2023-06-17T07:19:48.644Z"
   },
   {
    "duration": 478,
    "start_time": "2023-06-17T07:19:48.725Z"
   },
   {
    "duration": 48,
    "start_time": "2023-06-17T07:19:49.205Z"
   },
   {
    "duration": 1360,
    "start_time": "2023-06-17T07:19:49.255Z"
   },
   {
    "duration": 3,
    "start_time": "2023-06-17T07:19:50.617Z"
   },
   {
    "duration": 29,
    "start_time": "2023-06-17T07:19:50.622Z"
   },
   {
    "duration": 256,
    "start_time": "2023-06-17T07:19:50.653Z"
   },
   {
    "duration": 11,
    "start_time": "2023-06-17T07:19:50.911Z"
   },
   {
    "duration": 21,
    "start_time": "2023-06-17T07:19:50.925Z"
   },
   {
    "duration": 29,
    "start_time": "2023-06-17T07:19:50.951Z"
   },
   {
    "duration": 28,
    "start_time": "2023-06-17T07:19:50.982Z"
   },
   {
    "duration": 184,
    "start_time": "2023-06-17T07:19:51.012Z"
   },
   {
    "duration": 390,
    "start_time": "2023-06-17T07:19:51.198Z"
   },
   {
    "duration": 163,
    "start_time": "2023-06-17T07:19:51.593Z"
   },
   {
    "duration": 148,
    "start_time": "2023-06-17T07:19:51.757Z"
   },
   {
    "duration": 162,
    "start_time": "2023-06-17T07:19:51.907Z"
   },
   {
    "duration": 171,
    "start_time": "2023-06-17T07:19:52.070Z"
   },
   {
    "duration": 171,
    "start_time": "2023-06-17T07:19:52.242Z"
   },
   {
    "duration": 172,
    "start_time": "2023-06-17T07:19:52.415Z"
   },
   {
    "duration": 302,
    "start_time": "2023-06-17T07:19:52.589Z"
   },
   {
    "duration": 289,
    "start_time": "2023-06-17T07:19:52.893Z"
   },
   {
    "duration": 18,
    "start_time": "2023-06-17T07:19:53.185Z"
   },
   {
    "duration": 307,
    "start_time": "2023-06-17T07:19:53.205Z"
   },
   {
    "duration": 18,
    "start_time": "2023-06-17T07:19:53.515Z"
   },
   {
    "duration": 294,
    "start_time": "2023-06-17T07:19:53.535Z"
   },
   {
    "duration": 24,
    "start_time": "2023-06-17T07:19:53.831Z"
   },
   {
    "duration": 377,
    "start_time": "2023-06-17T07:19:53.857Z"
   },
   {
    "duration": 19,
    "start_time": "2023-06-17T07:19:54.236Z"
   },
   {
    "duration": 243,
    "start_time": "2023-06-17T07:19:54.257Z"
   },
   {
    "duration": 23,
    "start_time": "2023-06-17T07:19:54.503Z"
   },
   {
    "duration": 306,
    "start_time": "2023-06-17T07:19:54.529Z"
   },
   {
    "duration": 25,
    "start_time": "2023-06-17T07:19:54.837Z"
   },
   {
    "duration": 44,
    "start_time": "2023-06-17T07:19:54.863Z"
   },
   {
    "duration": 16,
    "start_time": "2023-06-17T07:19:54.908Z"
   },
   {
    "duration": 18,
    "start_time": "2023-06-17T07:19:54.926Z"
   },
   {
    "duration": 51,
    "start_time": "2023-06-17T07:19:54.952Z"
   },
   {
    "duration": 27,
    "start_time": "2023-06-17T07:19:55.005Z"
   },
   {
    "duration": 1111,
    "start_time": "2023-06-17T07:20:19.731Z"
   },
   {
    "duration": 53,
    "start_time": "2023-06-17T07:20:20.844Z"
   },
   {
    "duration": 37,
    "start_time": "2023-06-17T07:20:20.898Z"
   },
   {
    "duration": 3,
    "start_time": "2023-06-17T07:20:20.937Z"
   },
   {
    "duration": 16,
    "start_time": "2023-06-17T07:20:20.943Z"
   },
   {
    "duration": 42,
    "start_time": "2023-06-17T07:20:20.961Z"
   },
   {
    "duration": 14,
    "start_time": "2023-06-17T07:20:21.006Z"
   },
   {
    "duration": 35,
    "start_time": "2023-06-17T07:20:21.021Z"
   },
   {
    "duration": 5,
    "start_time": "2023-06-17T07:20:21.058Z"
   },
   {
    "duration": 16,
    "start_time": "2023-06-17T07:20:21.065Z"
   },
   {
    "duration": 16,
    "start_time": "2023-06-17T07:20:21.083Z"
   },
   {
    "duration": 25,
    "start_time": "2023-06-17T07:20:21.100Z"
   },
   {
    "duration": 31,
    "start_time": "2023-06-17T07:20:21.127Z"
   },
   {
    "duration": 5,
    "start_time": "2023-06-17T07:20:21.161Z"
   },
   {
    "duration": 15,
    "start_time": "2023-06-17T07:20:21.168Z"
   },
   {
    "duration": 346,
    "start_time": "2023-06-17T07:20:21.185Z"
   },
   {
    "duration": 6,
    "start_time": "2023-06-17T07:20:21.532Z"
   },
   {
    "duration": 1376,
    "start_time": "2023-06-17T07:20:21.539Z"
   },
   {
    "duration": 4,
    "start_time": "2023-06-17T07:20:22.917Z"
   },
   {
    "duration": 16,
    "start_time": "2023-06-17T07:20:22.922Z"
   },
   {
    "duration": 266,
    "start_time": "2023-06-17T07:20:22.939Z"
   },
   {
    "duration": 10,
    "start_time": "2023-06-17T07:20:23.207Z"
   },
   {
    "duration": 9,
    "start_time": "2023-06-17T07:20:23.218Z"
   },
   {
    "duration": 27,
    "start_time": "2023-06-17T07:20:23.229Z"
   },
   {
    "duration": 22,
    "start_time": "2023-06-17T07:20:23.258Z"
   },
   {
    "duration": 186,
    "start_time": "2023-06-17T07:20:23.282Z"
   },
   {
    "duration": 389,
    "start_time": "2023-06-17T07:20:23.469Z"
   },
   {
    "duration": 146,
    "start_time": "2023-06-17T07:20:23.860Z"
   },
   {
    "duration": 150,
    "start_time": "2023-06-17T07:20:24.008Z"
   },
   {
    "duration": 178,
    "start_time": "2023-06-17T07:20:24.160Z"
   },
   {
    "duration": 165,
    "start_time": "2023-06-17T07:20:24.340Z"
   },
   {
    "duration": 174,
    "start_time": "2023-06-17T07:20:24.506Z"
   },
   {
    "duration": 172,
    "start_time": "2023-06-17T07:20:24.682Z"
   },
   {
    "duration": 311,
    "start_time": "2023-06-17T07:20:24.856Z"
   },
   {
    "duration": 265,
    "start_time": "2023-06-17T07:20:25.169Z"
   },
   {
    "duration": 24,
    "start_time": "2023-06-17T07:20:25.437Z"
   },
   {
    "duration": 271,
    "start_time": "2023-06-17T07:20:25.463Z"
   },
   {
    "duration": 21,
    "start_time": "2023-06-17T07:20:25.736Z"
   },
   {
    "duration": 239,
    "start_time": "2023-06-17T07:20:25.758Z"
   },
   {
    "duration": 16,
    "start_time": "2023-06-17T07:20:25.999Z"
   },
   {
    "duration": 362,
    "start_time": "2023-06-17T07:20:26.020Z"
   },
   {
    "duration": 16,
    "start_time": "2023-06-17T07:20:26.384Z"
   },
   {
    "duration": 229,
    "start_time": "2023-06-17T07:20:26.402Z"
   },
   {
    "duration": 25,
    "start_time": "2023-06-17T07:20:26.633Z"
   },
   {
    "duration": 264,
    "start_time": "2023-06-17T07:20:26.660Z"
   },
   {
    "duration": 16,
    "start_time": "2023-06-17T07:20:26.925Z"
   },
   {
    "duration": 15,
    "start_time": "2023-06-17T07:20:26.952Z"
   },
   {
    "duration": 17,
    "start_time": "2023-06-17T07:20:26.968Z"
   },
   {
    "duration": 17,
    "start_time": "2023-06-17T07:20:26.986Z"
   },
   {
    "duration": 12,
    "start_time": "2023-06-17T07:20:27.005Z"
   },
   {
    "duration": 39,
    "start_time": "2023-06-17T07:20:27.018Z"
   },
   {
    "duration": 1134,
    "start_time": "2023-06-17T07:22:26.326Z"
   },
   {
    "duration": 52,
    "start_time": "2023-06-17T07:22:27.462Z"
   },
   {
    "duration": 39,
    "start_time": "2023-06-17T07:22:27.516Z"
   },
   {
    "duration": 3,
    "start_time": "2023-06-17T07:22:27.557Z"
   },
   {
    "duration": 26,
    "start_time": "2023-06-17T07:22:27.561Z"
   },
   {
    "duration": 21,
    "start_time": "2023-06-17T07:22:27.588Z"
   },
   {
    "duration": 12,
    "start_time": "2023-06-17T07:22:27.611Z"
   },
   {
    "duration": 33,
    "start_time": "2023-06-17T07:22:27.625Z"
   },
   {
    "duration": 4,
    "start_time": "2023-06-17T07:22:27.660Z"
   },
   {
    "duration": 23,
    "start_time": "2023-06-17T07:22:27.667Z"
   },
   {
    "duration": 10,
    "start_time": "2023-06-17T07:22:27.691Z"
   },
   {
    "duration": 23,
    "start_time": "2023-06-17T07:22:27.703Z"
   },
   {
    "duration": 27,
    "start_time": "2023-06-17T07:22:27.728Z"
   },
   {
    "duration": 5,
    "start_time": "2023-06-17T07:22:27.757Z"
   },
   {
    "duration": 11,
    "start_time": "2023-06-17T07:22:27.763Z"
   },
   {
    "duration": 341,
    "start_time": "2023-06-17T07:22:27.775Z"
   },
   {
    "duration": 6,
    "start_time": "2023-06-17T07:22:28.117Z"
   },
   {
    "duration": 1446,
    "start_time": "2023-06-17T07:22:28.125Z"
   },
   {
    "duration": 4,
    "start_time": "2023-06-17T07:22:29.573Z"
   },
   {
    "duration": 13,
    "start_time": "2023-06-17T07:22:29.578Z"
   },
   {
    "duration": 246,
    "start_time": "2023-06-17T07:22:29.593Z"
   },
   {
    "duration": 18,
    "start_time": "2023-06-17T07:22:29.841Z"
   },
   {
    "duration": 9,
    "start_time": "2023-06-17T07:22:29.862Z"
   },
   {
    "duration": 23,
    "start_time": "2023-06-17T07:22:29.872Z"
   },
   {
    "duration": 28,
    "start_time": "2023-06-17T07:22:29.897Z"
   },
   {
    "duration": 163,
    "start_time": "2023-06-17T07:22:29.927Z"
   },
   {
    "duration": 398,
    "start_time": "2023-06-17T07:22:30.091Z"
   },
   {
    "duration": 162,
    "start_time": "2023-06-17T07:22:30.494Z"
   },
   {
    "duration": 165,
    "start_time": "2023-06-17T07:22:30.657Z"
   },
   {
    "duration": 161,
    "start_time": "2023-06-17T07:22:30.824Z"
   },
   {
    "duration": 170,
    "start_time": "2023-06-17T07:22:30.986Z"
   },
   {
    "duration": 163,
    "start_time": "2023-06-17T07:22:31.159Z"
   },
   {
    "duration": 164,
    "start_time": "2023-06-17T07:22:31.323Z"
   },
   {
    "duration": 286,
    "start_time": "2023-06-17T07:22:31.489Z"
   },
   {
    "duration": 244,
    "start_time": "2023-06-17T07:22:31.777Z"
   },
   {
    "duration": 16,
    "start_time": "2023-06-17T07:22:32.022Z"
   },
   {
    "duration": 264,
    "start_time": "2023-06-17T07:22:32.039Z"
   },
   {
    "duration": 17,
    "start_time": "2023-06-17T07:22:32.304Z"
   },
   {
    "duration": 267,
    "start_time": "2023-06-17T07:22:32.323Z"
   },
   {
    "duration": 18,
    "start_time": "2023-06-17T07:22:32.591Z"
   },
   {
    "duration": 405,
    "start_time": "2023-06-17T07:22:32.610Z"
   },
   {
    "duration": 18,
    "start_time": "2023-06-17T07:22:33.017Z"
   },
   {
    "duration": 235,
    "start_time": "2023-06-17T07:22:33.037Z"
   },
   {
    "duration": 16,
    "start_time": "2023-06-17T07:22:33.274Z"
   },
   {
    "duration": 271,
    "start_time": "2023-06-17T07:22:33.291Z"
   },
   {
    "duration": 16,
    "start_time": "2023-06-17T07:22:33.563Z"
   },
   {
    "duration": 26,
    "start_time": "2023-06-17T07:22:33.581Z"
   },
   {
    "duration": 43,
    "start_time": "2023-06-17T07:22:33.609Z"
   },
   {
    "duration": 18,
    "start_time": "2023-06-17T07:22:33.654Z"
   },
   {
    "duration": 18,
    "start_time": "2023-06-17T07:22:33.674Z"
   },
   {
    "duration": 11,
    "start_time": "2023-06-17T07:22:33.693Z"
   },
   {
    "duration": 1409,
    "start_time": "2023-06-17T08:57:55.968Z"
   },
   {
    "duration": 56,
    "start_time": "2023-06-17T08:57:57.382Z"
   },
   {
    "duration": 49,
    "start_time": "2023-06-17T08:57:57.439Z"
   },
   {
    "duration": 5,
    "start_time": "2023-06-17T08:57:57.490Z"
   },
   {
    "duration": 28,
    "start_time": "2023-06-17T08:57:57.497Z"
   },
   {
    "duration": 21,
    "start_time": "2023-06-17T08:57:57.527Z"
   },
   {
    "duration": 16,
    "start_time": "2023-06-17T08:57:57.553Z"
   },
   {
    "duration": 39,
    "start_time": "2023-06-17T08:57:57.573Z"
   },
   {
    "duration": 6,
    "start_time": "2023-06-17T08:57:57.614Z"
   },
   {
    "duration": 20,
    "start_time": "2023-06-17T08:57:57.622Z"
   },
   {
    "duration": 11,
    "start_time": "2023-06-17T08:57:57.644Z"
   },
   {
    "duration": 49,
    "start_time": "2023-06-17T08:57:57.664Z"
   },
   {
    "duration": 29,
    "start_time": "2023-06-17T08:57:57.716Z"
   },
   {
    "duration": 25,
    "start_time": "2023-06-17T08:57:57.750Z"
   },
   {
    "duration": 29,
    "start_time": "2023-06-17T08:57:57.777Z"
   },
   {
    "duration": 434,
    "start_time": "2023-06-17T08:57:57.808Z"
   },
   {
    "duration": 24,
    "start_time": "2023-06-17T08:57:58.245Z"
   },
   {
    "duration": 1825,
    "start_time": "2023-06-17T08:57:58.282Z"
   },
   {
    "duration": 5,
    "start_time": "2023-06-17T08:58:00.110Z"
   },
   {
    "duration": 89,
    "start_time": "2023-06-17T08:58:00.117Z"
   },
   {
    "duration": 463,
    "start_time": "2023-06-17T08:58:00.208Z"
   },
   {
    "duration": 19,
    "start_time": "2023-06-17T08:58:00.680Z"
   },
   {
    "duration": 38,
    "start_time": "2023-06-17T08:58:00.701Z"
   },
   {
    "duration": 89,
    "start_time": "2023-06-17T08:58:00.741Z"
   },
   {
    "duration": 54,
    "start_time": "2023-06-17T08:58:00.831Z"
   },
   {
    "duration": 402,
    "start_time": "2023-06-17T08:58:00.887Z"
   },
   {
    "duration": 518,
    "start_time": "2023-06-17T08:58:01.292Z"
   },
   {
    "duration": 253,
    "start_time": "2023-06-17T08:58:01.813Z"
   },
   {
    "duration": 250,
    "start_time": "2023-06-17T08:58:02.068Z"
   },
   {
    "duration": 209,
    "start_time": "2023-06-17T08:58:02.320Z"
   },
   {
    "duration": 203,
    "start_time": "2023-06-17T08:58:02.532Z"
   },
   {
    "duration": 208,
    "start_time": "2023-06-17T08:58:02.736Z"
   },
   {
    "duration": 226,
    "start_time": "2023-06-17T08:58:02.947Z"
   },
   {
    "duration": 352,
    "start_time": "2023-06-17T08:58:03.179Z"
   },
   {
    "duration": 369,
    "start_time": "2023-06-17T08:58:03.534Z"
   },
   {
    "duration": 25,
    "start_time": "2023-06-17T08:58:03.906Z"
   },
   {
    "duration": 417,
    "start_time": "2023-06-17T08:58:03.933Z"
   },
   {
    "duration": 19,
    "start_time": "2023-06-17T08:58:04.351Z"
   },
   {
    "duration": 339,
    "start_time": "2023-06-17T08:58:04.372Z"
   },
   {
    "duration": 23,
    "start_time": "2023-06-17T08:58:04.713Z"
   },
   {
    "duration": 419,
    "start_time": "2023-06-17T08:58:04.754Z"
   },
   {
    "duration": 22,
    "start_time": "2023-06-17T08:58:05.180Z"
   },
   {
    "duration": 362,
    "start_time": "2023-06-17T08:58:05.205Z"
   },
   {
    "duration": 33,
    "start_time": "2023-06-17T08:58:05.570Z"
   },
   {
    "duration": 327,
    "start_time": "2023-06-17T08:58:05.605Z"
   },
   {
    "duration": 26,
    "start_time": "2023-06-17T08:58:05.934Z"
   },
   {
    "duration": 47,
    "start_time": "2023-06-17T08:58:05.969Z"
   },
   {
    "duration": 19,
    "start_time": "2023-06-17T08:58:06.018Z"
   },
   {
    "duration": 57,
    "start_time": "2023-06-17T08:58:06.039Z"
   },
   {
    "duration": 23,
    "start_time": "2023-06-17T08:58:06.098Z"
   },
   {
    "duration": 74,
    "start_time": "2023-06-17T08:58:06.123Z"
   },
   {
    "duration": 5,
    "start_time": "2023-06-17T09:00:17.611Z"
   },
   {
    "duration": 107,
    "start_time": "2023-06-17T09:01:52.521Z"
   },
   {
    "duration": 5,
    "start_time": "2023-06-17T09:01:56.299Z"
   },
   {
    "duration": 8,
    "start_time": "2023-06-17T09:02:05.590Z"
   },
   {
    "duration": 7,
    "start_time": "2023-06-17T09:02:11.499Z"
   },
   {
    "duration": 14,
    "start_time": "2023-06-17T09:03:03.373Z"
   },
   {
    "duration": 10,
    "start_time": "2023-06-17T09:03:42.148Z"
   },
   {
    "duration": 13,
    "start_time": "2023-06-17T09:04:02.260Z"
   },
   {
    "duration": 5,
    "start_time": "2023-06-17T09:06:31.717Z"
   },
   {
    "duration": 7,
    "start_time": "2023-06-17T09:08:21.824Z"
   },
   {
    "duration": 19,
    "start_time": "2023-06-17T09:08:39.271Z"
   },
   {
    "duration": 12,
    "start_time": "2023-06-17T09:08:45.088Z"
   },
   {
    "duration": 18,
    "start_time": "2023-06-17T09:09:08.171Z"
   },
   {
    "duration": 10,
    "start_time": "2023-06-17T09:10:38.808Z"
   },
   {
    "duration": 8,
    "start_time": "2023-06-17T09:10:48.134Z"
   },
   {
    "duration": 9,
    "start_time": "2023-06-17T09:11:04.680Z"
   },
   {
    "duration": 10,
    "start_time": "2023-06-17T09:11:09.109Z"
   },
   {
    "duration": 9,
    "start_time": "2023-06-17T09:11:17.204Z"
   },
   {
    "duration": 13,
    "start_time": "2023-06-17T09:11:29.660Z"
   },
   {
    "duration": 15,
    "start_time": "2023-06-17T09:11:39.280Z"
   },
   {
    "duration": 24,
    "start_time": "2023-06-17T09:11:44.669Z"
   },
   {
    "duration": 13,
    "start_time": "2023-06-17T09:11:53.578Z"
   },
   {
    "duration": 9,
    "start_time": "2023-06-17T09:12:44.780Z"
   },
   {
    "duration": 1176,
    "start_time": "2023-06-17T09:13:17.222Z"
   },
   {
    "duration": 6,
    "start_time": "2023-06-17T09:15:56.401Z"
   },
   {
    "duration": 10,
    "start_time": "2023-06-17T09:16:02.506Z"
   },
   {
    "duration": 49,
    "start_time": "2023-06-17T09:16:19.446Z"
   },
   {
    "duration": 21,
    "start_time": "2023-06-17T09:17:33.020Z"
   },
   {
    "duration": 22,
    "start_time": "2023-06-17T09:17:59.503Z"
   },
   {
    "duration": 17,
    "start_time": "2023-06-17T09:18:09.602Z"
   },
   {
    "duration": 24,
    "start_time": "2023-06-17T09:18:24.314Z"
   },
   {
    "duration": 33,
    "start_time": "2023-06-17T09:18:38.244Z"
   },
   {
    "duration": 22,
    "start_time": "2023-06-17T09:19:09.781Z"
   },
   {
    "duration": 18,
    "start_time": "2023-06-17T09:22:24.714Z"
   },
   {
    "duration": 1276,
    "start_time": "2023-06-17T09:22:42.241Z"
   },
   {
    "duration": 62,
    "start_time": "2023-06-17T09:22:43.519Z"
   },
   {
    "duration": 50,
    "start_time": "2023-06-17T09:22:43.583Z"
   },
   {
    "duration": 3,
    "start_time": "2023-06-17T09:22:43.635Z"
   },
   {
    "duration": 73,
    "start_time": "2023-06-17T09:22:43.640Z"
   },
   {
    "duration": 26,
    "start_time": "2023-06-17T09:22:43.715Z"
   },
   {
    "duration": 12,
    "start_time": "2023-06-17T09:22:43.743Z"
   },
   {
    "duration": 61,
    "start_time": "2023-06-17T09:22:43.761Z"
   },
   {
    "duration": 20,
    "start_time": "2023-06-17T09:22:43.824Z"
   },
   {
    "duration": 28,
    "start_time": "2023-06-17T09:22:43.847Z"
   },
   {
    "duration": 48,
    "start_time": "2023-06-17T09:22:43.877Z"
   },
   {
    "duration": 5,
    "start_time": "2023-06-17T09:22:43.927Z"
   },
   {
    "duration": 15,
    "start_time": "2023-06-17T09:22:43.933Z"
   },
   {
    "duration": 24,
    "start_time": "2023-06-17T09:22:43.949Z"
   },
   {
    "duration": 43,
    "start_time": "2023-06-17T09:22:43.974Z"
   },
   {
    "duration": 32,
    "start_time": "2023-06-17T09:22:44.020Z"
   },
   {
    "duration": 14,
    "start_time": "2023-06-17T09:22:44.058Z"
   },
   {
    "duration": 26,
    "start_time": "2023-06-17T09:22:44.080Z"
   },
   {
    "duration": 430,
    "start_time": "2023-06-17T09:22:44.108Z"
   },
   {
    "duration": 18,
    "start_time": "2023-06-17T09:22:44.539Z"
   },
   {
    "duration": 1573,
    "start_time": "2023-06-17T09:22:44.558Z"
   },
   {
    "duration": 4,
    "start_time": "2023-06-17T09:22:46.133Z"
   },
   {
    "duration": 25,
    "start_time": "2023-06-17T09:22:46.139Z"
   },
   {
    "duration": 352,
    "start_time": "2023-06-17T09:22:46.166Z"
   },
   {
    "duration": 12,
    "start_time": "2023-06-17T09:22:46.520Z"
   },
   {
    "duration": 35,
    "start_time": "2023-06-17T09:22:46.534Z"
   },
   {
    "duration": 237,
    "start_time": "2023-06-17T09:22:46.575Z"
   },
   {
    "duration": 25,
    "start_time": "2023-06-17T09:22:46.816Z"
   },
   {
    "duration": 206,
    "start_time": "2023-06-17T09:22:46.843Z"
   },
   {
    "duration": 522,
    "start_time": "2023-06-17T09:22:47.051Z"
   },
   {
    "duration": 181,
    "start_time": "2023-06-17T09:22:47.575Z"
   },
   {
    "duration": 173,
    "start_time": "2023-06-17T09:22:47.758Z"
   },
   {
    "duration": 207,
    "start_time": "2023-06-17T09:22:47.933Z"
   },
   {
    "duration": 208,
    "start_time": "2023-06-17T09:22:48.141Z"
   },
   {
    "duration": 224,
    "start_time": "2023-06-17T09:22:48.351Z"
   },
   {
    "duration": 248,
    "start_time": "2023-06-17T09:22:48.579Z"
   },
   {
    "duration": 387,
    "start_time": "2023-06-17T09:22:48.829Z"
   },
   {
    "duration": 315,
    "start_time": "2023-06-17T09:22:49.219Z"
   },
   {
    "duration": 30,
    "start_time": "2023-06-17T09:22:49.536Z"
   },
   {
    "duration": 354,
    "start_time": "2023-06-17T09:22:49.569Z"
   },
   {
    "duration": 34,
    "start_time": "2023-06-17T09:22:49.925Z"
   },
   {
    "duration": 317,
    "start_time": "2023-06-17T09:22:49.971Z"
   },
   {
    "duration": 20,
    "start_time": "2023-06-17T09:22:50.299Z"
   },
   {
    "duration": 449,
    "start_time": "2023-06-17T09:22:50.321Z"
   },
   {
    "duration": 32,
    "start_time": "2023-06-17T09:22:50.772Z"
   },
   {
    "duration": 327,
    "start_time": "2023-06-17T09:22:50.806Z"
   },
   {
    "duration": 27,
    "start_time": "2023-06-17T09:22:51.136Z"
   },
   {
    "duration": 338,
    "start_time": "2023-06-17T09:22:51.165Z"
   },
   {
    "duration": 18,
    "start_time": "2023-06-17T09:22:51.507Z"
   },
   {
    "duration": 50,
    "start_time": "2023-06-17T09:22:51.529Z"
   },
   {
    "duration": 41,
    "start_time": "2023-06-17T09:22:51.589Z"
   },
   {
    "duration": 17,
    "start_time": "2023-06-17T09:22:51.631Z"
   },
   {
    "duration": 84,
    "start_time": "2023-06-17T09:22:51.650Z"
   },
   {
    "duration": 30,
    "start_time": "2023-06-17T09:22:51.737Z"
   },
   {
    "duration": 19,
    "start_time": "2023-06-17T09:26:00.895Z"
   },
   {
    "duration": 1346,
    "start_time": "2023-06-17T09:26:09.045Z"
   },
   {
    "duration": 63,
    "start_time": "2023-06-17T09:26:10.394Z"
   },
   {
    "duration": 58,
    "start_time": "2023-06-17T09:26:10.459Z"
   },
   {
    "duration": 4,
    "start_time": "2023-06-17T09:26:10.520Z"
   },
   {
    "duration": 39,
    "start_time": "2023-06-17T09:26:10.526Z"
   },
   {
    "duration": 36,
    "start_time": "2023-06-17T09:26:10.567Z"
   },
   {
    "duration": 8,
    "start_time": "2023-06-17T09:26:10.604Z"
   },
   {
    "duration": 25,
    "start_time": "2023-06-17T09:26:10.614Z"
   },
   {
    "duration": 36,
    "start_time": "2023-06-17T09:26:10.640Z"
   },
   {
    "duration": 38,
    "start_time": "2023-06-17T09:26:10.678Z"
   },
   {
    "duration": 24,
    "start_time": "2023-06-17T09:26:10.717Z"
   },
   {
    "duration": 5,
    "start_time": "2023-06-17T09:26:10.742Z"
   },
   {
    "duration": 58,
    "start_time": "2023-06-17T09:26:10.749Z"
   },
   {
    "duration": 12,
    "start_time": "2023-06-17T09:26:10.810Z"
   },
   {
    "duration": 21,
    "start_time": "2023-06-17T09:26:10.824Z"
   },
   {
    "duration": 58,
    "start_time": "2023-06-17T09:26:10.847Z"
   },
   {
    "duration": 21,
    "start_time": "2023-06-17T09:26:10.907Z"
   },
   {
    "duration": 6,
    "start_time": "2023-06-17T09:26:10.930Z"
   },
   {
    "duration": 405,
    "start_time": "2023-06-17T09:26:10.938Z"
   },
   {
    "duration": 21,
    "start_time": "2023-06-17T09:26:11.345Z"
   },
   {
    "duration": 159,
    "start_time": "2023-06-17T09:26:11.378Z"
   },
   {
    "duration": 0,
    "start_time": "2023-06-17T09:26:11.540Z"
   },
   {
    "duration": 0,
    "start_time": "2023-06-17T09:26:11.541Z"
   },
   {
    "duration": 0,
    "start_time": "2023-06-17T09:26:11.543Z"
   },
   {
    "duration": 0,
    "start_time": "2023-06-17T09:26:11.544Z"
   },
   {
    "duration": 0,
    "start_time": "2023-06-17T09:26:11.545Z"
   },
   {
    "duration": 0,
    "start_time": "2023-06-17T09:26:11.556Z"
   },
   {
    "duration": 0,
    "start_time": "2023-06-17T09:26:11.557Z"
   },
   {
    "duration": 0,
    "start_time": "2023-06-17T09:26:11.557Z"
   },
   {
    "duration": 0,
    "start_time": "2023-06-17T09:26:11.559Z"
   },
   {
    "duration": 0,
    "start_time": "2023-06-17T09:26:11.560Z"
   },
   {
    "duration": 0,
    "start_time": "2023-06-17T09:26:11.561Z"
   },
   {
    "duration": 0,
    "start_time": "2023-06-17T09:26:11.562Z"
   },
   {
    "duration": 0,
    "start_time": "2023-06-17T09:26:11.563Z"
   },
   {
    "duration": 0,
    "start_time": "2023-06-17T09:26:11.564Z"
   },
   {
    "duration": 0,
    "start_time": "2023-06-17T09:26:11.565Z"
   },
   {
    "duration": 0,
    "start_time": "2023-06-17T09:26:11.567Z"
   },
   {
    "duration": 0,
    "start_time": "2023-06-17T09:26:11.568Z"
   },
   {
    "duration": 0,
    "start_time": "2023-06-17T09:26:11.569Z"
   },
   {
    "duration": 0,
    "start_time": "2023-06-17T09:26:11.571Z"
   },
   {
    "duration": 0,
    "start_time": "2023-06-17T09:26:11.572Z"
   },
   {
    "duration": 0,
    "start_time": "2023-06-17T09:26:11.573Z"
   },
   {
    "duration": 0,
    "start_time": "2023-06-17T09:26:11.574Z"
   },
   {
    "duration": 0,
    "start_time": "2023-06-17T09:26:11.575Z"
   },
   {
    "duration": 0,
    "start_time": "2023-06-17T09:26:11.576Z"
   },
   {
    "duration": 0,
    "start_time": "2023-06-17T09:26:11.578Z"
   },
   {
    "duration": 0,
    "start_time": "2023-06-17T09:26:11.579Z"
   },
   {
    "duration": 0,
    "start_time": "2023-06-17T09:26:11.580Z"
   },
   {
    "duration": 0,
    "start_time": "2023-06-17T09:26:11.582Z"
   },
   {
    "duration": 0,
    "start_time": "2023-06-17T09:26:11.584Z"
   },
   {
    "duration": 0,
    "start_time": "2023-06-17T09:26:11.585Z"
   },
   {
    "duration": 1,
    "start_time": "2023-06-17T09:26:11.586Z"
   },
   {
    "duration": 0,
    "start_time": "2023-06-17T09:26:11.588Z"
   },
   {
    "duration": 0,
    "start_time": "2023-06-17T09:26:11.589Z"
   },
   {
    "duration": 7,
    "start_time": "2023-06-17T09:27:00.424Z"
   },
   {
    "duration": 9,
    "start_time": "2023-06-17T09:27:22.065Z"
   },
   {
    "duration": 1263,
    "start_time": "2023-06-17T09:27:27.077Z"
   },
   {
    "duration": 94,
    "start_time": "2023-06-17T09:27:28.343Z"
   },
   {
    "duration": 65,
    "start_time": "2023-06-17T09:27:28.439Z"
   },
   {
    "duration": 10,
    "start_time": "2023-06-17T09:27:28.505Z"
   },
   {
    "duration": 45,
    "start_time": "2023-06-17T09:27:28.518Z"
   },
   {
    "duration": 68,
    "start_time": "2023-06-17T09:27:28.567Z"
   },
   {
    "duration": 8,
    "start_time": "2023-06-17T09:27:28.640Z"
   },
   {
    "duration": 99,
    "start_time": "2023-06-17T09:27:28.649Z"
   },
   {
    "duration": 69,
    "start_time": "2023-06-17T09:27:28.749Z"
   },
   {
    "duration": 18,
    "start_time": "2023-06-17T09:27:28.820Z"
   },
   {
    "duration": 49,
    "start_time": "2023-06-17T09:27:28.840Z"
   },
   {
    "duration": 25,
    "start_time": "2023-06-17T09:27:28.894Z"
   },
   {
    "duration": 19,
    "start_time": "2023-06-17T09:27:28.921Z"
   },
   {
    "duration": 59,
    "start_time": "2023-06-17T09:27:28.944Z"
   },
   {
    "duration": 41,
    "start_time": "2023-06-17T09:27:29.004Z"
   },
   {
    "duration": 72,
    "start_time": "2023-06-17T09:27:29.047Z"
   },
   {
    "duration": 6,
    "start_time": "2023-06-17T09:27:29.120Z"
   },
   {
    "duration": 15,
    "start_time": "2023-06-17T09:27:29.127Z"
   },
   {
    "duration": 496,
    "start_time": "2023-06-17T09:27:29.144Z"
   },
   {
    "duration": 15,
    "start_time": "2023-06-17T09:27:29.641Z"
   },
   {
    "duration": 1611,
    "start_time": "2023-06-17T09:27:29.660Z"
   },
   {
    "duration": 10,
    "start_time": "2023-06-17T09:27:31.274Z"
   },
   {
    "duration": 76,
    "start_time": "2023-06-17T09:27:31.295Z"
   },
   {
    "duration": 365,
    "start_time": "2023-06-17T09:27:31.373Z"
   },
   {
    "duration": 18,
    "start_time": "2023-06-17T09:27:31.740Z"
   },
   {
    "duration": 52,
    "start_time": "2023-06-17T09:27:31.759Z"
   },
   {
    "duration": 31,
    "start_time": "2023-06-17T09:27:31.814Z"
   },
   {
    "duration": 65,
    "start_time": "2023-06-17T09:27:31.847Z"
   },
   {
    "duration": 199,
    "start_time": "2023-06-17T09:27:31.914Z"
   },
   {
    "duration": 493,
    "start_time": "2023-06-17T09:27:32.116Z"
   },
   {
    "duration": 218,
    "start_time": "2023-06-17T09:27:32.611Z"
   },
   {
    "duration": 191,
    "start_time": "2023-06-17T09:27:32.831Z"
   },
   {
    "duration": 212,
    "start_time": "2023-06-17T09:27:33.024Z"
   },
   {
    "duration": 191,
    "start_time": "2023-06-17T09:27:33.238Z"
   },
   {
    "duration": 191,
    "start_time": "2023-06-17T09:27:33.430Z"
   },
   {
    "duration": 169,
    "start_time": "2023-06-17T09:27:33.623Z"
   },
   {
    "duration": 341,
    "start_time": "2023-06-17T09:27:33.794Z"
   },
   {
    "duration": 324,
    "start_time": "2023-06-17T09:27:34.138Z"
   },
   {
    "duration": 23,
    "start_time": "2023-06-17T09:27:34.464Z"
   },
   {
    "duration": 320,
    "start_time": "2023-06-17T09:27:34.491Z"
   },
   {
    "duration": 19,
    "start_time": "2023-06-17T09:27:34.815Z"
   },
   {
    "duration": 325,
    "start_time": "2023-06-17T09:27:34.836Z"
   },
   {
    "duration": 27,
    "start_time": "2023-06-17T09:27:35.162Z"
   },
   {
    "duration": 471,
    "start_time": "2023-06-17T09:27:35.192Z"
   },
   {
    "duration": 19,
    "start_time": "2023-06-17T09:27:35.667Z"
   },
   {
    "duration": 273,
    "start_time": "2023-06-17T09:27:35.688Z"
   },
   {
    "duration": 20,
    "start_time": "2023-06-17T09:27:35.963Z"
   },
   {
    "duration": 307,
    "start_time": "2023-06-17T09:27:35.985Z"
   },
   {
    "duration": 21,
    "start_time": "2023-06-17T09:27:36.297Z"
   },
   {
    "duration": 17,
    "start_time": "2023-06-17T09:27:36.320Z"
   },
   {
    "duration": 24,
    "start_time": "2023-06-17T09:27:36.352Z"
   },
   {
    "duration": 57,
    "start_time": "2023-06-17T09:27:36.377Z"
   },
   {
    "duration": 17,
    "start_time": "2023-06-17T09:27:36.436Z"
   },
   {
    "duration": 46,
    "start_time": "2023-06-17T09:27:36.462Z"
   },
   {
    "duration": 256,
    "start_time": "2023-06-17T10:07:08.518Z"
   },
   {
    "duration": 131,
    "start_time": "2023-06-17T10:07:22.844Z"
   },
   {
    "duration": 173,
    "start_time": "2023-06-17T10:08:09.146Z"
   },
   {
    "duration": 184,
    "start_time": "2023-06-17T10:08:40.011Z"
   },
   {
    "duration": 223,
    "start_time": "2023-06-17T10:08:48.000Z"
   },
   {
    "duration": 833,
    "start_time": "2023-06-17T10:13:23.911Z"
   },
   {
    "duration": 311,
    "start_time": "2023-06-17T10:14:03.032Z"
   },
   {
    "duration": 820,
    "start_time": "2023-06-17T10:15:15.876Z"
   },
   {
    "duration": 15,
    "start_time": "2023-06-17T10:15:45.917Z"
   },
   {
    "duration": 381,
    "start_time": "2023-06-17T10:16:17.035Z"
   },
   {
    "duration": 504,
    "start_time": "2023-06-17T10:16:52.234Z"
   },
   {
    "duration": 17,
    "start_time": "2023-06-17T10:18:54.696Z"
   },
   {
    "duration": 798,
    "start_time": "2023-06-17T10:19:28.631Z"
   },
   {
    "duration": 439,
    "start_time": "2023-06-17T10:20:01.200Z"
   },
   {
    "duration": 224,
    "start_time": "2023-06-17T10:23:04.625Z"
   },
   {
    "duration": 218,
    "start_time": "2023-06-17T10:23:19.908Z"
   },
   {
    "duration": 22,
    "start_time": "2023-06-17T10:23:42.695Z"
   },
   {
    "duration": 158,
    "start_time": "2023-06-17T10:23:49.482Z"
   },
   {
    "duration": 151,
    "start_time": "2023-06-17T10:24:02.898Z"
   },
   {
    "duration": 285,
    "start_time": "2023-06-17T10:25:30.968Z"
   },
   {
    "duration": 213,
    "start_time": "2023-06-17T10:25:46.828Z"
   },
   {
    "duration": 221,
    "start_time": "2023-06-17T10:25:57.401Z"
   },
   {
    "duration": 224,
    "start_time": "2023-06-17T10:26:03.540Z"
   },
   {
    "duration": 225,
    "start_time": "2023-06-17T10:26:08.900Z"
   },
   {
    "duration": 285,
    "start_time": "2023-06-17T10:26:29.729Z"
   },
   {
    "duration": 237,
    "start_time": "2023-06-17T10:28:50.894Z"
   },
   {
    "duration": 235,
    "start_time": "2023-06-17T10:29:12.012Z"
   },
   {
    "duration": 143,
    "start_time": "2023-06-17T10:30:19.668Z"
   },
   {
    "duration": 157,
    "start_time": "2023-06-17T10:30:28.347Z"
   },
   {
    "duration": 459,
    "start_time": "2023-06-17T10:36:26.912Z"
   },
   {
    "duration": 416,
    "start_time": "2023-06-17T10:36:37.922Z"
   },
   {
    "duration": 352,
    "start_time": "2023-06-17T10:37:56.920Z"
   },
   {
    "duration": 212,
    "start_time": "2023-06-17T10:41:33.808Z"
   },
   {
    "duration": 15,
    "start_time": "2023-06-17T10:47:57.708Z"
   },
   {
    "duration": 1186,
    "start_time": "2023-06-17T10:48:05.311Z"
   },
   {
    "duration": 91,
    "start_time": "2023-06-17T10:48:06.499Z"
   },
   {
    "duration": 41,
    "start_time": "2023-06-17T10:48:06.592Z"
   },
   {
    "duration": 3,
    "start_time": "2023-06-17T10:48:06.635Z"
   },
   {
    "duration": 55,
    "start_time": "2023-06-17T10:48:06.640Z"
   },
   {
    "duration": 40,
    "start_time": "2023-06-17T10:48:06.697Z"
   },
   {
    "duration": 25,
    "start_time": "2023-06-17T10:48:06.739Z"
   },
   {
    "duration": 77,
    "start_time": "2023-06-17T10:48:06.766Z"
   },
   {
    "duration": 31,
    "start_time": "2023-06-17T10:48:06.844Z"
   },
   {
    "duration": 27,
    "start_time": "2023-06-17T10:48:06.877Z"
   },
   {
    "duration": 70,
    "start_time": "2023-06-17T10:48:06.906Z"
   },
   {
    "duration": 35,
    "start_time": "2023-06-17T10:48:06.978Z"
   },
   {
    "duration": 25,
    "start_time": "2023-06-17T10:48:07.015Z"
   },
   {
    "duration": 8,
    "start_time": "2023-06-17T10:48:07.043Z"
   },
   {
    "duration": 57,
    "start_time": "2023-06-17T10:48:07.053Z"
   },
   {
    "duration": 85,
    "start_time": "2023-06-17T10:48:07.112Z"
   },
   {
    "duration": 10,
    "start_time": "2023-06-17T10:48:07.199Z"
   },
   {
    "duration": 43,
    "start_time": "2023-06-17T10:48:07.211Z"
   },
   {
    "duration": 422,
    "start_time": "2023-06-17T10:48:07.256Z"
   },
   {
    "duration": 6,
    "start_time": "2023-06-17T10:48:07.680Z"
   },
   {
    "duration": 1576,
    "start_time": "2023-06-17T10:48:07.687Z"
   },
   {
    "duration": 5,
    "start_time": "2023-06-17T10:48:09.266Z"
   },
   {
    "duration": 25,
    "start_time": "2023-06-17T10:48:09.273Z"
   },
   {
    "duration": 292,
    "start_time": "2023-06-17T10:48:09.299Z"
   },
   {
    "duration": 11,
    "start_time": "2023-06-17T10:48:09.593Z"
   },
   {
    "duration": 6,
    "start_time": "2023-06-17T10:48:09.605Z"
   },
   {
    "duration": 13,
    "start_time": "2023-06-17T10:48:09.612Z"
   },
   {
    "duration": 57,
    "start_time": "2023-06-17T10:48:09.626Z"
   },
   {
    "duration": 227,
    "start_time": "2023-06-17T10:48:09.685Z"
   },
   {
    "duration": 466,
    "start_time": "2023-06-17T10:48:09.914Z"
   },
   {
    "duration": 177,
    "start_time": "2023-06-17T10:48:10.384Z"
   },
   {
    "duration": 163,
    "start_time": "2023-06-17T10:48:10.563Z"
   },
   {
    "duration": 176,
    "start_time": "2023-06-17T10:48:10.728Z"
   },
   {
    "duration": 196,
    "start_time": "2023-06-17T10:48:10.905Z"
   },
   {
    "duration": 209,
    "start_time": "2023-06-17T10:48:11.102Z"
   },
   {
    "duration": 198,
    "start_time": "2023-06-17T10:48:11.314Z"
   },
   {
    "duration": 5,
    "start_time": "2023-06-17T10:48:11.514Z"
   },
   {
    "duration": 14,
    "start_time": "2023-06-17T10:48:11.521Z"
   },
   {
    "duration": 155,
    "start_time": "2023-06-17T10:48:11.537Z"
   },
   {
    "duration": 0,
    "start_time": "2023-06-17T10:48:11.695Z"
   },
   {
    "duration": 0,
    "start_time": "2023-06-17T10:48:11.697Z"
   },
   {
    "duration": 0,
    "start_time": "2023-06-17T10:48:11.698Z"
   },
   {
    "duration": 0,
    "start_time": "2023-06-17T10:48:11.700Z"
   },
   {
    "duration": 0,
    "start_time": "2023-06-17T10:48:11.701Z"
   },
   {
    "duration": 0,
    "start_time": "2023-06-17T10:48:11.704Z"
   },
   {
    "duration": 0,
    "start_time": "2023-06-17T10:48:11.705Z"
   },
   {
    "duration": 0,
    "start_time": "2023-06-17T10:48:11.707Z"
   },
   {
    "duration": 0,
    "start_time": "2023-06-17T10:48:11.708Z"
   },
   {
    "duration": 0,
    "start_time": "2023-06-17T10:48:11.710Z"
   },
   {
    "duration": 0,
    "start_time": "2023-06-17T10:48:11.712Z"
   },
   {
    "duration": 0,
    "start_time": "2023-06-17T10:48:11.713Z"
   },
   {
    "duration": 0,
    "start_time": "2023-06-17T10:48:11.718Z"
   },
   {
    "duration": 0,
    "start_time": "2023-06-17T10:48:11.720Z"
   },
   {
    "duration": 0,
    "start_time": "2023-06-17T10:48:11.722Z"
   },
   {
    "duration": 0,
    "start_time": "2023-06-17T10:48:11.723Z"
   },
   {
    "duration": 0,
    "start_time": "2023-06-17T10:48:11.725Z"
   },
   {
    "duration": 0,
    "start_time": "2023-06-17T10:48:11.752Z"
   },
   {
    "duration": 1242,
    "start_time": "2023-06-17T10:53:43.954Z"
   },
   {
    "duration": 284,
    "start_time": "2023-06-17T10:53:56.484Z"
   },
   {
    "duration": 279,
    "start_time": "2023-06-17T10:56:33.936Z"
   },
   {
    "duration": 394,
    "start_time": "2023-06-17T10:58:40.332Z"
   },
   {
    "duration": 279,
    "start_time": "2023-06-17T10:59:15.533Z"
   },
   {
    "duration": 292,
    "start_time": "2023-06-17T10:59:22.836Z"
   },
   {
    "duration": 1238,
    "start_time": "2023-06-17T11:10:43.644Z"
   },
   {
    "duration": 54,
    "start_time": "2023-06-17T11:10:44.884Z"
   },
   {
    "duration": 43,
    "start_time": "2023-06-17T11:10:44.940Z"
   },
   {
    "duration": 4,
    "start_time": "2023-06-17T11:10:44.984Z"
   },
   {
    "duration": 53,
    "start_time": "2023-06-17T11:10:44.991Z"
   },
   {
    "duration": 48,
    "start_time": "2023-06-17T11:10:45.045Z"
   },
   {
    "duration": 11,
    "start_time": "2023-06-17T11:10:45.094Z"
   },
   {
    "duration": 33,
    "start_time": "2023-06-17T11:10:45.107Z"
   },
   {
    "duration": 18,
    "start_time": "2023-06-17T11:10:45.142Z"
   },
   {
    "duration": 14,
    "start_time": "2023-06-17T11:10:45.162Z"
   },
   {
    "duration": 23,
    "start_time": "2023-06-17T11:10:45.178Z"
   },
   {
    "duration": 9,
    "start_time": "2023-06-17T11:10:45.203Z"
   },
   {
    "duration": 14,
    "start_time": "2023-06-17T11:10:45.214Z"
   },
   {
    "duration": 26,
    "start_time": "2023-06-17T11:10:45.232Z"
   },
   {
    "duration": 20,
    "start_time": "2023-06-17T11:10:45.260Z"
   },
   {
    "duration": 21,
    "start_time": "2023-06-17T11:10:45.282Z"
   },
   {
    "duration": 8,
    "start_time": "2023-06-17T11:10:45.305Z"
   },
   {
    "duration": 38,
    "start_time": "2023-06-17T11:10:45.315Z"
   },
   {
    "duration": 386,
    "start_time": "2023-06-17T11:10:45.356Z"
   },
   {
    "duration": 12,
    "start_time": "2023-06-17T11:10:45.744Z"
   },
   {
    "duration": 1358,
    "start_time": "2023-06-17T11:10:45.757Z"
   },
   {
    "duration": 4,
    "start_time": "2023-06-17T11:10:47.116Z"
   },
   {
    "duration": 16,
    "start_time": "2023-06-17T11:10:47.122Z"
   },
   {
    "duration": 277,
    "start_time": "2023-06-17T11:10:47.140Z"
   },
   {
    "duration": 10,
    "start_time": "2023-06-17T11:10:47.419Z"
   },
   {
    "duration": 21,
    "start_time": "2023-06-17T11:10:47.431Z"
   },
   {
    "duration": 12,
    "start_time": "2023-06-17T11:10:47.454Z"
   },
   {
    "duration": 21,
    "start_time": "2023-06-17T11:10:47.468Z"
   },
   {
    "duration": 234,
    "start_time": "2023-06-17T11:10:47.491Z"
   },
   {
    "duration": 404,
    "start_time": "2023-06-17T11:10:47.727Z"
   },
   {
    "duration": 156,
    "start_time": "2023-06-17T11:10:48.133Z"
   },
   {
    "duration": 244,
    "start_time": "2023-06-17T11:10:48.291Z"
   },
   {
    "duration": 171,
    "start_time": "2023-06-17T11:10:48.537Z"
   },
   {
    "duration": 164,
    "start_time": "2023-06-17T11:10:48.710Z"
   },
   {
    "duration": 164,
    "start_time": "2023-06-17T11:10:48.876Z"
   },
   {
    "duration": 158,
    "start_time": "2023-06-17T11:10:49.042Z"
   },
   {
    "duration": 311,
    "start_time": "2023-06-17T11:10:49.201Z"
   },
   {
    "duration": 251,
    "start_time": "2023-06-17T11:10:49.513Z"
   },
   {
    "duration": 16,
    "start_time": "2023-06-17T11:10:49.766Z"
   },
   {
    "duration": 322,
    "start_time": "2023-06-17T11:10:49.784Z"
   },
   {
    "duration": 17,
    "start_time": "2023-06-17T11:10:50.110Z"
   },
   {
    "duration": 250,
    "start_time": "2023-06-17T11:10:50.128Z"
   },
   {
    "duration": 16,
    "start_time": "2023-06-17T11:10:50.380Z"
   },
   {
    "duration": 396,
    "start_time": "2023-06-17T11:10:50.398Z"
   },
   {
    "duration": 16,
    "start_time": "2023-06-17T11:10:50.796Z"
   },
   {
    "duration": 266,
    "start_time": "2023-06-17T11:10:50.814Z"
   },
   {
    "duration": 18,
    "start_time": "2023-06-17T11:10:51.082Z"
   },
   {
    "duration": 273,
    "start_time": "2023-06-17T11:10:51.102Z"
   },
   {
    "duration": 17,
    "start_time": "2023-06-17T11:10:51.377Z"
   },
   {
    "duration": 20,
    "start_time": "2023-06-17T11:10:51.396Z"
   },
   {
    "duration": 40,
    "start_time": "2023-06-17T11:10:51.418Z"
   },
   {
    "duration": 32,
    "start_time": "2023-06-17T11:10:51.460Z"
   },
   {
    "duration": 17,
    "start_time": "2023-06-17T11:10:51.495Z"
   },
   {
    "duration": 14,
    "start_time": "2023-06-17T11:10:51.514Z"
   },
   {
    "duration": 1868,
    "start_time": "2023-06-17T11:24:31.666Z"
   },
   {
    "duration": 1759,
    "start_time": "2023-06-17T11:27:32.002Z"
   },
   {
    "duration": 1665,
    "start_time": "2023-06-17T11:28:11.272Z"
   },
   {
    "duration": 153,
    "start_time": "2023-06-17T11:29:02.163Z"
   },
   {
    "duration": 151,
    "start_time": "2023-06-17T11:29:42.617Z"
   },
   {
    "duration": 147,
    "start_time": "2023-06-17T11:30:20.948Z"
   },
   {
    "duration": 1791,
    "start_time": "2023-06-17T11:30:36.212Z"
   },
   {
    "duration": 146,
    "start_time": "2023-06-17T11:31:42.046Z"
   },
   {
    "duration": 1661,
    "start_time": "2023-06-17T11:33:29.210Z"
   },
   {
    "duration": 17,
    "start_time": "2023-06-17T11:36:10.795Z"
   },
   {
    "duration": 1689,
    "start_time": "2023-06-17T11:36:26.785Z"
   },
   {
    "duration": 1563,
    "start_time": "2023-06-17T11:37:33.429Z"
   },
   {
    "duration": 63,
    "start_time": "2023-06-17T11:39:39.719Z"
   },
   {
    "duration": 548,
    "start_time": "2023-06-17T11:39:43.416Z"
   },
   {
    "duration": 561,
    "start_time": "2023-06-17T11:40:31.448Z"
   },
   {
    "duration": 653,
    "start_time": "2023-06-17T11:41:09.422Z"
   },
   {
    "duration": 444,
    "start_time": "2023-06-17T11:41:23.500Z"
   },
   {
    "duration": 440,
    "start_time": "2023-06-17T11:43:52.182Z"
   },
   {
    "duration": 461,
    "start_time": "2023-06-17T11:45:00.491Z"
   },
   {
    "duration": 527,
    "start_time": "2023-06-17T11:45:22.178Z"
   },
   {
    "duration": 448,
    "start_time": "2023-06-17T11:46:17.116Z"
   },
   {
    "duration": 183,
    "start_time": "2023-06-17T11:47:23.611Z"
   },
   {
    "duration": 148,
    "start_time": "2023-06-17T11:47:45.974Z"
   },
   {
    "duration": 447,
    "start_time": "2023-06-17T11:48:59.139Z"
   },
   {
    "duration": 157,
    "start_time": "2023-06-17T11:49:17.941Z"
   },
   {
    "duration": 528,
    "start_time": "2023-06-17T11:50:11.989Z"
   },
   {
    "duration": 441,
    "start_time": "2023-06-17T11:50:17.757Z"
   },
   {
    "duration": 436,
    "start_time": "2023-06-17T11:51:55.480Z"
   },
   {
    "duration": 293,
    "start_time": "2023-06-17T12:07:13.916Z"
   },
   {
    "duration": 292,
    "start_time": "2023-06-17T12:07:22.548Z"
   },
   {
    "duration": 315,
    "start_time": "2023-06-17T12:08:13.479Z"
   },
   {
    "duration": 25,
    "start_time": "2023-06-17T12:08:42.857Z"
   },
   {
    "duration": 414,
    "start_time": "2023-06-17T12:08:51.674Z"
   },
   {
    "duration": 313,
    "start_time": "2023-06-17T12:08:56.413Z"
   },
   {
    "duration": 64,
    "start_time": "2023-06-17T12:09:05.495Z"
   },
   {
    "duration": 28,
    "start_time": "2023-06-17T12:09:17.774Z"
   },
   {
    "duration": 21,
    "start_time": "2023-06-17T12:33:03.131Z"
   },
   {
    "duration": 447,
    "start_time": "2023-06-17T12:36:39.058Z"
   },
   {
    "duration": 487,
    "start_time": "2023-06-17T12:36:47.944Z"
   },
   {
    "duration": 423,
    "start_time": "2023-06-17T12:37:02.589Z"
   },
   {
    "duration": 595,
    "start_time": "2023-06-17T12:37:27.907Z"
   },
   {
    "duration": 17,
    "start_time": "2023-06-17T12:39:27.642Z"
   },
   {
    "duration": 2697,
    "start_time": "2023-06-17T13:03:37.578Z"
   },
   {
    "duration": 64,
    "start_time": "2023-06-17T13:08:36.385Z"
   },
   {
    "duration": 68,
    "start_time": "2023-06-17T13:08:47.914Z"
   },
   {
    "duration": 20,
    "start_time": "2023-06-17T13:08:57.001Z"
   },
   {
    "duration": 19,
    "start_time": "2023-06-17T13:09:12.190Z"
   },
   {
    "duration": 10,
    "start_time": "2023-06-17T13:14:40.538Z"
   },
   {
    "duration": 72,
    "start_time": "2023-06-17T13:15:04.526Z"
   },
   {
    "duration": 59,
    "start_time": "2023-06-17T13:15:11.293Z"
   },
   {
    "duration": 682,
    "start_time": "2023-06-17T13:15:23.435Z"
   },
   {
    "duration": 705,
    "start_time": "2023-06-17T13:19:00.013Z"
   },
   {
    "duration": 255,
    "start_time": "2023-06-17T13:19:23.005Z"
   },
   {
    "duration": 236,
    "start_time": "2023-06-17T13:19:29.013Z"
   },
   {
    "duration": 341,
    "start_time": "2023-06-17T13:19:39.775Z"
   },
   {
    "duration": 272,
    "start_time": "2023-06-17T13:20:19.677Z"
   },
   {
    "duration": 712,
    "start_time": "2023-06-17T13:20:32.817Z"
   },
   {
    "duration": 66,
    "start_time": "2023-06-17T13:21:13.729Z"
   },
   {
    "duration": 700,
    "start_time": "2023-06-17T13:22:47.244Z"
   },
   {
    "duration": 11,
    "start_time": "2023-06-17T13:25:14.218Z"
   },
   {
    "duration": 11,
    "start_time": "2023-06-17T13:25:26.730Z"
   },
   {
    "duration": 75,
    "start_time": "2023-06-17T13:25:39.539Z"
   },
   {
    "duration": 30,
    "start_time": "2023-06-17T13:31:36.401Z"
   },
   {
    "duration": 1258,
    "start_time": "2023-06-17T13:32:09.826Z"
   },
   {
    "duration": 75,
    "start_time": "2023-06-17T13:32:11.087Z"
   },
   {
    "duration": 51,
    "start_time": "2023-06-17T13:32:11.164Z"
   },
   {
    "duration": 3,
    "start_time": "2023-06-17T13:32:11.217Z"
   },
   {
    "duration": 25,
    "start_time": "2023-06-17T13:32:11.221Z"
   },
   {
    "duration": 27,
    "start_time": "2023-06-17T13:32:11.251Z"
   },
   {
    "duration": 18,
    "start_time": "2023-06-17T13:32:11.279Z"
   },
   {
    "duration": 24,
    "start_time": "2023-06-17T13:32:11.299Z"
   },
   {
    "duration": 71,
    "start_time": "2023-06-17T13:32:11.325Z"
   },
   {
    "duration": 14,
    "start_time": "2023-06-17T13:32:11.400Z"
   },
   {
    "duration": 30,
    "start_time": "2023-06-17T13:32:11.416Z"
   },
   {
    "duration": 19,
    "start_time": "2023-06-17T13:32:11.448Z"
   },
   {
    "duration": 25,
    "start_time": "2023-06-17T13:32:11.474Z"
   },
   {
    "duration": 7,
    "start_time": "2023-06-17T13:32:11.500Z"
   },
   {
    "duration": 31,
    "start_time": "2023-06-17T13:32:11.509Z"
   },
   {
    "duration": 31,
    "start_time": "2023-06-17T13:32:11.542Z"
   },
   {
    "duration": 20,
    "start_time": "2023-06-17T13:32:11.582Z"
   },
   {
    "duration": 19,
    "start_time": "2023-06-17T13:32:11.603Z"
   },
   {
    "duration": 390,
    "start_time": "2023-06-17T13:32:11.623Z"
   },
   {
    "duration": 8,
    "start_time": "2023-06-17T13:32:12.015Z"
   },
   {
    "duration": 1508,
    "start_time": "2023-06-17T13:32:12.025Z"
   },
   {
    "duration": 3,
    "start_time": "2023-06-17T13:32:13.535Z"
   },
   {
    "duration": 27,
    "start_time": "2023-06-17T13:32:13.540Z"
   },
   {
    "duration": 331,
    "start_time": "2023-06-17T13:32:13.569Z"
   },
   {
    "duration": 12,
    "start_time": "2023-06-17T13:32:13.902Z"
   },
   {
    "duration": 18,
    "start_time": "2023-06-17T13:32:13.916Z"
   },
   {
    "duration": 34,
    "start_time": "2023-06-17T13:32:13.936Z"
   },
   {
    "duration": 25,
    "start_time": "2023-06-17T13:32:13.981Z"
   },
   {
    "duration": 252,
    "start_time": "2023-06-17T13:32:14.008Z"
   },
   {
    "duration": 469,
    "start_time": "2023-06-17T13:32:14.267Z"
   },
   {
    "duration": 505,
    "start_time": "2023-06-17T13:32:14.738Z"
   },
   {
    "duration": 514,
    "start_time": "2023-06-17T13:32:15.245Z"
   },
   {
    "duration": 306,
    "start_time": "2023-06-17T13:32:15.762Z"
   },
   {
    "duration": 21,
    "start_time": "2023-06-17T13:32:16.081Z"
   },
   {
    "duration": 147,
    "start_time": "2023-06-17T13:32:16.104Z"
   },
   {
    "duration": 0,
    "start_time": "2023-06-17T13:32:16.253Z"
   },
   {
    "duration": 0,
    "start_time": "2023-06-17T13:32:16.254Z"
   },
   {
    "duration": 0,
    "start_time": "2023-06-17T13:32:16.255Z"
   },
   {
    "duration": 0,
    "start_time": "2023-06-17T13:32:16.256Z"
   },
   {
    "duration": 0,
    "start_time": "2023-06-17T13:32:16.257Z"
   },
   {
    "duration": 0,
    "start_time": "2023-06-17T13:32:16.257Z"
   },
   {
    "duration": 0,
    "start_time": "2023-06-17T13:32:16.258Z"
   },
   {
    "duration": 0,
    "start_time": "2023-06-17T13:32:16.260Z"
   },
   {
    "duration": 0,
    "start_time": "2023-06-17T13:32:16.261Z"
   },
   {
    "duration": 0,
    "start_time": "2023-06-17T13:32:16.262Z"
   },
   {
    "duration": 0,
    "start_time": "2023-06-17T13:32:16.263Z"
   },
   {
    "duration": 0,
    "start_time": "2023-06-17T13:32:16.265Z"
   },
   {
    "duration": 0,
    "start_time": "2023-06-17T13:32:16.266Z"
   },
   {
    "duration": 0,
    "start_time": "2023-06-17T13:32:16.267Z"
   },
   {
    "duration": 0,
    "start_time": "2023-06-17T13:32:16.268Z"
   },
   {
    "duration": 0,
    "start_time": "2023-06-17T13:32:16.270Z"
   },
   {
    "duration": 0,
    "start_time": "2023-06-17T13:32:16.271Z"
   },
   {
    "duration": 821,
    "start_time": "2023-06-17T13:34:58.014Z"
   },
   {
    "duration": 1229,
    "start_time": "2023-06-17T13:35:13.804Z"
   },
   {
    "duration": 60,
    "start_time": "2023-06-17T13:35:15.035Z"
   },
   {
    "duration": 45,
    "start_time": "2023-06-17T13:35:15.097Z"
   },
   {
    "duration": 3,
    "start_time": "2023-06-17T13:35:15.144Z"
   },
   {
    "duration": 29,
    "start_time": "2023-06-17T13:35:15.149Z"
   },
   {
    "duration": 22,
    "start_time": "2023-06-17T13:35:15.180Z"
   },
   {
    "duration": 12,
    "start_time": "2023-06-17T13:35:15.204Z"
   },
   {
    "duration": 49,
    "start_time": "2023-06-17T13:35:15.218Z"
   },
   {
    "duration": 23,
    "start_time": "2023-06-17T13:35:15.268Z"
   },
   {
    "duration": 17,
    "start_time": "2023-06-17T13:35:15.292Z"
   },
   {
    "duration": 25,
    "start_time": "2023-06-17T13:35:15.311Z"
   },
   {
    "duration": 22,
    "start_time": "2023-06-17T13:35:15.355Z"
   },
   {
    "duration": 25,
    "start_time": "2023-06-17T13:35:15.379Z"
   },
   {
    "duration": 18,
    "start_time": "2023-06-17T13:35:15.407Z"
   },
   {
    "duration": 38,
    "start_time": "2023-06-17T13:35:15.427Z"
   },
   {
    "duration": 25,
    "start_time": "2023-06-17T13:35:15.467Z"
   },
   {
    "duration": 7,
    "start_time": "2023-06-17T13:35:15.493Z"
   },
   {
    "duration": 8,
    "start_time": "2023-06-17T13:35:15.502Z"
   },
   {
    "duration": 371,
    "start_time": "2023-06-17T13:35:15.511Z"
   },
   {
    "duration": 7,
    "start_time": "2023-06-17T13:35:15.884Z"
   },
   {
    "duration": 1389,
    "start_time": "2023-06-17T13:35:15.893Z"
   },
   {
    "duration": 4,
    "start_time": "2023-06-17T13:35:17.284Z"
   },
   {
    "duration": 20,
    "start_time": "2023-06-17T13:35:17.289Z"
   },
   {
    "duration": 298,
    "start_time": "2023-06-17T13:35:17.311Z"
   },
   {
    "duration": 12,
    "start_time": "2023-06-17T13:35:17.610Z"
   },
   {
    "duration": 33,
    "start_time": "2023-06-17T13:35:17.623Z"
   },
   {
    "duration": 18,
    "start_time": "2023-06-17T13:35:17.661Z"
   },
   {
    "duration": 20,
    "start_time": "2023-06-17T13:35:17.681Z"
   },
   {
    "duration": 220,
    "start_time": "2023-06-17T13:35:17.702Z"
   },
   {
    "duration": 417,
    "start_time": "2023-06-17T13:35:17.924Z"
   },
   {
    "duration": 539,
    "start_time": "2023-06-17T13:35:18.343Z"
   },
   {
    "duration": 507,
    "start_time": "2023-06-17T13:35:18.883Z"
   },
   {
    "duration": 293,
    "start_time": "2023-06-17T13:35:19.392Z"
   },
   {
    "duration": 18,
    "start_time": "2023-06-17T13:35:19.686Z"
   },
   {
    "duration": 739,
    "start_time": "2023-06-17T13:35:19.707Z"
   },
   {
    "duration": 365,
    "start_time": "2023-06-17T13:35:20.448Z"
   },
   {
    "duration": 17,
    "start_time": "2023-06-17T13:35:20.815Z"
   },
   {
    "duration": 275,
    "start_time": "2023-06-17T13:35:20.834Z"
   },
   {
    "duration": 21,
    "start_time": "2023-06-17T13:35:21.111Z"
   },
   {
    "duration": 274,
    "start_time": "2023-06-17T13:35:21.133Z"
   },
   {
    "duration": 16,
    "start_time": "2023-06-17T13:35:21.412Z"
   },
   {
    "duration": 282,
    "start_time": "2023-06-17T13:35:21.429Z"
   },
   {
    "duration": 16,
    "start_time": "2023-06-17T13:35:21.713Z"
   },
   {
    "duration": 246,
    "start_time": "2023-06-17T13:35:21.731Z"
   },
   {
    "duration": 16,
    "start_time": "2023-06-17T13:35:21.979Z"
   },
   {
    "duration": 277,
    "start_time": "2023-06-17T13:35:21.996Z"
   },
   {
    "duration": 18,
    "start_time": "2023-06-17T13:35:22.275Z"
   },
   {
    "duration": 27,
    "start_time": "2023-06-17T13:35:22.295Z"
   },
   {
    "duration": 36,
    "start_time": "2023-06-17T13:35:22.323Z"
   },
   {
    "duration": 22,
    "start_time": "2023-06-17T13:35:22.364Z"
   },
   {
    "duration": 15,
    "start_time": "2023-06-17T13:35:22.389Z"
   },
   {
    "duration": 19,
    "start_time": "2023-06-17T13:35:22.406Z"
   },
   {
    "duration": 77,
    "start_time": "2023-06-17T13:37:26.100Z"
   },
   {
    "duration": 873,
    "start_time": "2023-06-17T13:38:07.968Z"
   },
   {
    "duration": 794,
    "start_time": "2023-06-17T13:40:16.216Z"
   },
   {
    "duration": 775,
    "start_time": "2023-06-17T13:40:58.096Z"
   },
   {
    "duration": 852,
    "start_time": "2023-06-17T13:43:43.911Z"
   },
   {
    "duration": 241,
    "start_time": "2023-06-17T14:23:53.494Z"
   },
   {
    "duration": 261,
    "start_time": "2023-06-17T14:24:08.107Z"
   },
   {
    "duration": 760,
    "start_time": "2023-06-17T14:24:40.122Z"
   },
   {
    "duration": 623,
    "start_time": "2023-06-17T14:28:52.003Z"
   },
   {
    "duration": 626,
    "start_time": "2023-06-17T14:29:03.150Z"
   },
   {
    "duration": 600,
    "start_time": "2023-06-17T14:29:31.241Z"
   },
   {
    "duration": 720,
    "start_time": "2023-06-17T14:31:37.495Z"
   },
   {
    "duration": 719,
    "start_time": "2023-06-17T14:32:40.658Z"
   },
   {
    "duration": 767,
    "start_time": "2023-06-17T14:33:01.096Z"
   },
   {
    "duration": 627,
    "start_time": "2023-06-17T14:33:41.370Z"
   },
   {
    "duration": 20,
    "start_time": "2023-06-17T14:33:47.400Z"
   },
   {
    "duration": 19,
    "start_time": "2023-06-17T14:33:54.468Z"
   },
   {
    "duration": 18,
    "start_time": "2023-06-17T14:34:08.885Z"
   },
   {
    "duration": 18,
    "start_time": "2023-06-17T14:34:12.575Z"
   },
   {
    "duration": 796,
    "start_time": "2023-06-17T14:34:17.770Z"
   },
   {
    "duration": 134,
    "start_time": "2023-06-17T14:37:17.752Z"
   },
   {
    "duration": 656,
    "start_time": "2023-06-17T14:37:32.365Z"
   },
   {
    "duration": 4,
    "start_time": "2023-06-17T14:38:39.396Z"
   },
   {
    "duration": 641,
    "start_time": "2023-06-17T14:39:11.298Z"
   },
   {
    "duration": 826,
    "start_time": "2023-06-17T14:39:42.157Z"
   },
   {
    "duration": 716,
    "start_time": "2023-06-17T14:40:00.450Z"
   },
   {
    "duration": 684,
    "start_time": "2023-06-17T14:40:10.165Z"
   },
   {
    "duration": 20,
    "start_time": "2023-06-17T14:40:57.969Z"
   },
   {
    "duration": 4,
    "start_time": "2023-06-17T14:41:32.031Z"
   },
   {
    "duration": 21,
    "start_time": "2023-06-17T14:41:43.894Z"
   },
   {
    "duration": 671,
    "start_time": "2023-06-17T14:42:10.622Z"
   },
   {
    "duration": 135,
    "start_time": "2023-06-17T14:42:36.590Z"
   },
   {
    "duration": 258,
    "start_time": "2023-06-17T14:42:50.303Z"
   },
   {
    "duration": 681,
    "start_time": "2023-06-17T14:43:02.421Z"
   },
   {
    "duration": 637,
    "start_time": "2023-06-17T14:43:19.127Z"
   },
   {
    "duration": 664,
    "start_time": "2023-06-17T14:43:34.764Z"
   },
   {
    "duration": 49,
    "start_time": "2023-06-17T14:55:18.945Z"
   },
   {
    "duration": 9,
    "start_time": "2023-06-17T14:55:27.784Z"
   },
   {
    "duration": 9,
    "start_time": "2023-06-17T14:56:02.815Z"
   },
   {
    "duration": 1726,
    "start_time": "2023-06-17T15:06:16.244Z"
   },
   {
    "duration": 58,
    "start_time": "2023-06-17T15:06:17.972Z"
   },
   {
    "duration": 48,
    "start_time": "2023-06-17T15:06:18.032Z"
   },
   {
    "duration": 4,
    "start_time": "2023-06-17T15:06:18.082Z"
   },
   {
    "duration": 22,
    "start_time": "2023-06-17T15:06:18.089Z"
   },
   {
    "duration": 57,
    "start_time": "2023-06-17T15:06:18.114Z"
   },
   {
    "duration": 8,
    "start_time": "2023-06-17T15:06:18.173Z"
   },
   {
    "duration": 40,
    "start_time": "2023-06-17T15:06:18.183Z"
   },
   {
    "duration": 40,
    "start_time": "2023-06-17T15:06:18.225Z"
   },
   {
    "duration": 28,
    "start_time": "2023-06-17T15:06:18.272Z"
   },
   {
    "duration": 31,
    "start_time": "2023-06-17T15:06:18.303Z"
   },
   {
    "duration": 41,
    "start_time": "2023-06-17T15:06:18.337Z"
   },
   {
    "duration": 31,
    "start_time": "2023-06-17T15:06:18.381Z"
   },
   {
    "duration": 13,
    "start_time": "2023-06-17T15:06:18.414Z"
   },
   {
    "duration": 52,
    "start_time": "2023-06-17T15:06:18.429Z"
   },
   {
    "duration": 53,
    "start_time": "2023-06-17T15:06:18.483Z"
   },
   {
    "duration": 10,
    "start_time": "2023-06-17T15:06:18.539Z"
   },
   {
    "duration": 44,
    "start_time": "2023-06-17T15:06:18.551Z"
   },
   {
    "duration": 442,
    "start_time": "2023-06-17T15:06:18.597Z"
   },
   {
    "duration": 20,
    "start_time": "2023-06-17T15:06:19.041Z"
   },
   {
    "duration": 1547,
    "start_time": "2023-06-17T15:06:19.069Z"
   },
   {
    "duration": 4,
    "start_time": "2023-06-17T15:06:20.619Z"
   },
   {
    "duration": 64,
    "start_time": "2023-06-17T15:06:20.625Z"
   },
   {
    "duration": 325,
    "start_time": "2023-06-17T15:06:20.691Z"
   },
   {
    "duration": 12,
    "start_time": "2023-06-17T15:06:21.018Z"
   },
   {
    "duration": 36,
    "start_time": "2023-06-17T15:06:21.032Z"
   },
   {
    "duration": 24,
    "start_time": "2023-06-17T15:06:21.072Z"
   },
   {
    "duration": 28,
    "start_time": "2023-06-17T15:06:21.100Z"
   },
   {
    "duration": 304,
    "start_time": "2023-06-17T15:06:21.131Z"
   },
   {
    "duration": 449,
    "start_time": "2023-06-17T15:06:21.437Z"
   },
   {
    "duration": 519,
    "start_time": "2023-06-17T15:06:21.888Z"
   },
   {
    "duration": 498,
    "start_time": "2023-06-17T15:06:22.410Z"
   },
   {
    "duration": 369,
    "start_time": "2023-06-17T15:06:22.910Z"
   },
   {
    "duration": 26,
    "start_time": "2023-06-17T15:06:23.282Z"
   },
   {
    "duration": 832,
    "start_time": "2023-06-17T15:06:23.310Z"
   },
   {
    "duration": 1034,
    "start_time": "2023-06-17T15:06:24.144Z"
   },
   {
    "duration": 758,
    "start_time": "2023-06-17T15:06:25.180Z"
   },
   {
    "duration": 23,
    "start_time": "2023-06-17T15:06:25.940Z"
   },
   {
    "duration": 54,
    "start_time": "2023-06-17T15:06:25.965Z"
   },
   {
    "duration": 1265,
    "start_time": "2023-06-18T07:01:55.939Z"
   },
   {
    "duration": 94,
    "start_time": "2023-06-18T07:01:57.207Z"
   },
   {
    "duration": 50,
    "start_time": "2023-06-18T07:01:57.303Z"
   },
   {
    "duration": 4,
    "start_time": "2023-06-18T07:01:57.356Z"
   },
   {
    "duration": 39,
    "start_time": "2023-06-18T07:01:57.362Z"
   },
   {
    "duration": 27,
    "start_time": "2023-06-18T07:01:57.403Z"
   },
   {
    "duration": 15,
    "start_time": "2023-06-18T07:01:57.433Z"
   },
   {
    "duration": 56,
    "start_time": "2023-06-18T07:01:57.450Z"
   },
   {
    "duration": 18,
    "start_time": "2023-06-18T07:01:57.509Z"
   },
   {
    "duration": 28,
    "start_time": "2023-06-18T07:01:57.531Z"
   },
   {
    "duration": 41,
    "start_time": "2023-06-18T07:01:57.562Z"
   },
   {
    "duration": 16,
    "start_time": "2023-06-18T07:01:57.605Z"
   },
   {
    "duration": 28,
    "start_time": "2023-06-18T07:01:57.623Z"
   },
   {
    "duration": 38,
    "start_time": "2023-06-18T07:01:57.653Z"
   },
   {
    "duration": 43,
    "start_time": "2023-06-18T07:01:57.693Z"
   },
   {
    "duration": 43,
    "start_time": "2023-06-18T07:01:57.737Z"
   },
   {
    "duration": 13,
    "start_time": "2023-06-18T07:01:57.782Z"
   },
   {
    "duration": 12,
    "start_time": "2023-06-18T07:01:57.797Z"
   },
   {
    "duration": 322,
    "start_time": "2023-06-18T07:01:57.810Z"
   },
   {
    "duration": 5,
    "start_time": "2023-06-18T07:01:58.134Z"
   },
   {
    "duration": 1221,
    "start_time": "2023-06-18T07:01:58.141Z"
   },
   {
    "duration": 4,
    "start_time": "2023-06-18T07:01:59.365Z"
   },
   {
    "duration": 38,
    "start_time": "2023-06-18T07:01:59.370Z"
   },
   {
    "duration": 342,
    "start_time": "2023-06-18T07:01:59.410Z"
   },
   {
    "duration": 15,
    "start_time": "2023-06-18T07:01:59.755Z"
   },
   {
    "duration": 26,
    "start_time": "2023-06-18T07:01:59.772Z"
   },
   {
    "duration": 56,
    "start_time": "2023-06-18T07:01:59.800Z"
   },
   {
    "duration": 60,
    "start_time": "2023-06-18T07:01:59.860Z"
   },
   {
    "duration": 286,
    "start_time": "2023-06-18T07:01:59.922Z"
   },
   {
    "duration": 370,
    "start_time": "2023-06-18T07:02:00.211Z"
   },
   {
    "duration": 604,
    "start_time": "2023-06-18T07:02:00.583Z"
   },
   {
    "duration": 693,
    "start_time": "2023-06-18T07:02:01.189Z"
   },
   {
    "duration": 344,
    "start_time": "2023-06-18T07:02:01.885Z"
   },
   {
    "duration": 19,
    "start_time": "2023-06-18T07:02:02.232Z"
   },
   {
    "duration": 1127,
    "start_time": "2023-06-18T07:02:02.253Z"
   },
   {
    "duration": 1008,
    "start_time": "2023-06-18T07:02:03.382Z"
   },
   {
    "duration": 683,
    "start_time": "2023-06-18T07:02:04.397Z"
   },
   {
    "duration": 18,
    "start_time": "2023-06-18T07:02:05.082Z"
   },
   {
    "duration": 142,
    "start_time": "2023-06-18T07:02:05.102Z"
   },
   {
    "duration": 27,
    "start_time": "2023-06-18T07:03:19.900Z"
   },
   {
    "duration": 1138,
    "start_time": "2023-06-18T07:12:11.087Z"
   },
   {
    "duration": 52,
    "start_time": "2023-06-18T07:12:12.227Z"
   },
   {
    "duration": 55,
    "start_time": "2023-06-18T07:12:12.280Z"
   },
   {
    "duration": 3,
    "start_time": "2023-06-18T07:12:12.338Z"
   },
   {
    "duration": 25,
    "start_time": "2023-06-18T07:12:12.343Z"
   },
   {
    "duration": 24,
    "start_time": "2023-06-18T07:12:12.370Z"
   },
   {
    "duration": 20,
    "start_time": "2023-06-18T07:12:12.396Z"
   },
   {
    "duration": 33,
    "start_time": "2023-06-18T07:12:12.418Z"
   },
   {
    "duration": 22,
    "start_time": "2023-06-18T07:12:12.453Z"
   },
   {
    "duration": 22,
    "start_time": "2023-06-18T07:12:12.477Z"
   },
   {
    "duration": 43,
    "start_time": "2023-06-18T07:12:12.503Z"
   },
   {
    "duration": 12,
    "start_time": "2023-06-18T07:12:12.547Z"
   },
   {
    "duration": 19,
    "start_time": "2023-06-18T07:12:12.561Z"
   },
   {
    "duration": 8,
    "start_time": "2023-06-18T07:12:12.582Z"
   },
   {
    "duration": 28,
    "start_time": "2023-06-18T07:12:12.592Z"
   },
   {
    "duration": 33,
    "start_time": "2023-06-18T07:12:12.622Z"
   },
   {
    "duration": 10,
    "start_time": "2023-06-18T07:12:12.657Z"
   },
   {
    "duration": 11,
    "start_time": "2023-06-18T07:12:12.669Z"
   },
   {
    "duration": 338,
    "start_time": "2023-06-18T07:12:12.681Z"
   },
   {
    "duration": 7,
    "start_time": "2023-06-18T07:12:13.020Z"
   },
   {
    "duration": 1250,
    "start_time": "2023-06-18T07:12:13.029Z"
   },
   {
    "duration": 3,
    "start_time": "2023-06-18T07:12:14.282Z"
   },
   {
    "duration": 42,
    "start_time": "2023-06-18T07:12:14.288Z"
   },
   {
    "duration": 286,
    "start_time": "2023-06-18T07:12:14.331Z"
   },
   {
    "duration": 12,
    "start_time": "2023-06-18T07:12:14.619Z"
   },
   {
    "duration": 6,
    "start_time": "2023-06-18T07:12:14.633Z"
   },
   {
    "duration": 12,
    "start_time": "2023-06-18T07:12:14.640Z"
   },
   {
    "duration": 57,
    "start_time": "2023-06-18T07:12:14.656Z"
   },
   {
    "duration": 192,
    "start_time": "2023-06-18T07:12:14.716Z"
   },
   {
    "duration": 360,
    "start_time": "2023-06-18T07:12:14.909Z"
   },
   {
    "duration": 495,
    "start_time": "2023-06-18T07:12:15.271Z"
   },
   {
    "duration": 486,
    "start_time": "2023-06-18T07:12:15.768Z"
   },
   {
    "duration": 303,
    "start_time": "2023-06-18T07:12:16.256Z"
   },
   {
    "duration": 16,
    "start_time": "2023-06-18T07:12:16.561Z"
   },
   {
    "duration": 700,
    "start_time": "2023-06-18T07:12:16.578Z"
   },
   {
    "duration": 943,
    "start_time": "2023-06-18T07:12:17.280Z"
   },
   {
    "duration": 628,
    "start_time": "2023-06-18T07:12:18.225Z"
   },
   {
    "duration": 8,
    "start_time": "2023-06-18T07:12:18.854Z"
   },
   {
    "duration": 27,
    "start_time": "2023-06-18T07:12:18.864Z"
   },
   {
    "duration": 47,
    "start_time": "2023-06-18T11:49:25.094Z"
   },
   {
    "duration": 1283,
    "start_time": "2023-06-18T11:49:31.485Z"
   },
   {
    "duration": 182,
    "start_time": "2023-06-18T11:49:32.770Z"
   },
   {
    "duration": 40,
    "start_time": "2023-06-18T11:49:32.954Z"
   },
   {
    "duration": 3,
    "start_time": "2023-06-18T11:49:32.996Z"
   },
   {
    "duration": 23,
    "start_time": "2023-06-18T11:49:33.000Z"
   },
   {
    "duration": 41,
    "start_time": "2023-06-18T11:49:33.025Z"
   },
   {
    "duration": 6,
    "start_time": "2023-06-18T11:49:33.069Z"
   },
   {
    "duration": 30,
    "start_time": "2023-06-18T11:49:33.077Z"
   },
   {
    "duration": 17,
    "start_time": "2023-06-18T11:49:33.109Z"
   },
   {
    "duration": 37,
    "start_time": "2023-06-18T11:49:33.128Z"
   },
   {
    "duration": 24,
    "start_time": "2023-06-18T11:49:33.167Z"
   },
   {
    "duration": 7,
    "start_time": "2023-06-18T11:49:33.193Z"
   },
   {
    "duration": 14,
    "start_time": "2023-06-18T11:49:33.202Z"
   },
   {
    "duration": 7,
    "start_time": "2023-06-18T11:49:33.218Z"
   },
   {
    "duration": 46,
    "start_time": "2023-06-18T11:49:33.226Z"
   },
   {
    "duration": 17,
    "start_time": "2023-06-18T11:49:33.274Z"
   },
   {
    "duration": 5,
    "start_time": "2023-06-18T11:49:33.293Z"
   },
   {
    "duration": 24,
    "start_time": "2023-06-18T11:49:33.300Z"
   },
   {
    "duration": 330,
    "start_time": "2023-06-18T11:49:33.326Z"
   },
   {
    "duration": 5,
    "start_time": "2023-06-18T11:49:33.658Z"
   },
   {
    "duration": 1344,
    "start_time": "2023-06-18T11:49:33.665Z"
   },
   {
    "duration": 3,
    "start_time": "2023-06-18T11:49:35.011Z"
   },
   {
    "duration": 15,
    "start_time": "2023-06-18T11:49:35.015Z"
   },
   {
    "duration": 257,
    "start_time": "2023-06-18T11:49:35.032Z"
   },
   {
    "duration": 10,
    "start_time": "2023-06-18T11:49:35.290Z"
   },
   {
    "duration": 13,
    "start_time": "2023-06-18T11:49:35.302Z"
   },
   {
    "duration": 11,
    "start_time": "2023-06-18T11:49:35.317Z"
   },
   {
    "duration": 40,
    "start_time": "2023-06-18T11:49:35.331Z"
   },
   {
    "duration": 202,
    "start_time": "2023-06-18T11:49:35.373Z"
   },
   {
    "duration": 380,
    "start_time": "2023-06-18T11:49:35.578Z"
   },
   {
    "duration": 441,
    "start_time": "2023-06-18T11:49:35.960Z"
   },
   {
    "duration": 429,
    "start_time": "2023-06-18T11:49:36.404Z"
   },
   {
    "duration": 299,
    "start_time": "2023-06-18T11:49:36.835Z"
   },
   {
    "duration": 25,
    "start_time": "2023-06-18T11:49:37.137Z"
   },
   {
    "duration": 804,
    "start_time": "2023-06-18T11:49:37.164Z"
   },
   {
    "duration": 977,
    "start_time": "2023-06-18T11:49:37.970Z"
   },
   {
    "duration": 334,
    "start_time": "2023-06-18T11:49:38.949Z"
   },
   {
    "duration": 0,
    "start_time": "2023-06-18T11:49:39.285Z"
   },
   {
    "duration": 0,
    "start_time": "2023-06-18T11:49:39.286Z"
   },
   {
    "duration": 206,
    "start_time": "2023-06-18T11:50:49.801Z"
   },
   {
    "duration": 4,
    "start_time": "2023-06-18T11:51:39.811Z"
   },
   {
    "duration": 1164,
    "start_time": "2023-06-18T11:51:44.703Z"
   },
   {
    "duration": 52,
    "start_time": "2023-06-18T11:51:45.869Z"
   },
   {
    "duration": 39,
    "start_time": "2023-06-18T11:51:45.922Z"
   },
   {
    "duration": 3,
    "start_time": "2023-06-18T11:51:45.962Z"
   },
   {
    "duration": 32,
    "start_time": "2023-06-18T11:51:45.967Z"
   },
   {
    "duration": 24,
    "start_time": "2023-06-18T11:51:46.001Z"
   },
   {
    "duration": 7,
    "start_time": "2023-06-18T11:51:46.026Z"
   },
   {
    "duration": 35,
    "start_time": "2023-06-18T11:51:46.034Z"
   },
   {
    "duration": 17,
    "start_time": "2023-06-18T11:51:46.071Z"
   },
   {
    "duration": 31,
    "start_time": "2023-06-18T11:51:46.089Z"
   },
   {
    "duration": 40,
    "start_time": "2023-06-18T11:51:46.121Z"
   },
   {
    "duration": 6,
    "start_time": "2023-06-18T11:51:46.162Z"
   },
   {
    "duration": 15,
    "start_time": "2023-06-18T11:51:46.170Z"
   },
   {
    "duration": 14,
    "start_time": "2023-06-18T11:51:46.188Z"
   },
   {
    "duration": 32,
    "start_time": "2023-06-18T11:51:46.203Z"
   },
   {
    "duration": 25,
    "start_time": "2023-06-18T11:51:46.237Z"
   },
   {
    "duration": 5,
    "start_time": "2023-06-18T11:51:46.264Z"
   },
   {
    "duration": 12,
    "start_time": "2023-06-18T11:51:46.270Z"
   },
   {
    "duration": 330,
    "start_time": "2023-06-18T11:51:46.283Z"
   },
   {
    "duration": 5,
    "start_time": "2023-06-18T11:51:46.615Z"
   },
   {
    "duration": 1351,
    "start_time": "2023-06-18T11:51:46.622Z"
   },
   {
    "duration": 3,
    "start_time": "2023-06-18T11:51:47.975Z"
   },
   {
    "duration": 20,
    "start_time": "2023-06-18T11:51:47.979Z"
   },
   {
    "duration": 246,
    "start_time": "2023-06-18T11:51:48.001Z"
   },
   {
    "duration": 10,
    "start_time": "2023-06-18T11:51:48.257Z"
   },
   {
    "duration": 7,
    "start_time": "2023-06-18T11:51:48.268Z"
   },
   {
    "duration": 13,
    "start_time": "2023-06-18T11:51:48.276Z"
   },
   {
    "duration": 22,
    "start_time": "2023-06-18T11:51:48.291Z"
   },
   {
    "duration": 249,
    "start_time": "2023-06-18T11:51:48.314Z"
   },
   {
    "duration": 410,
    "start_time": "2023-06-18T11:51:48.565Z"
   },
   {
    "duration": 456,
    "start_time": "2023-06-18T11:51:48.977Z"
   },
   {
    "duration": 456,
    "start_time": "2023-06-18T11:51:49.435Z"
   },
   {
    "duration": 294,
    "start_time": "2023-06-18T11:51:49.893Z"
   },
   {
    "duration": 18,
    "start_time": "2023-06-18T11:51:50.189Z"
   },
   {
    "duration": 737,
    "start_time": "2023-06-18T11:51:50.209Z"
   },
   {
    "duration": 888,
    "start_time": "2023-06-18T11:51:50.948Z"
   },
   {
    "duration": 302,
    "start_time": "2023-06-18T11:51:51.837Z"
   },
   {
    "duration": 0,
    "start_time": "2023-06-18T11:51:52.141Z"
   },
   {
    "duration": 1,
    "start_time": "2023-06-18T11:51:52.141Z"
   },
   {
    "duration": 3,
    "start_time": "2023-06-18T11:52:13.901Z"
   },
   {
    "duration": 613,
    "start_time": "2023-06-18T11:53:14.298Z"
   },
   {
    "duration": 625,
    "start_time": "2023-06-18T11:53:22.349Z"
   },
   {
    "duration": 210,
    "start_time": "2023-06-18T11:54:25.455Z"
   },
   {
    "duration": 319,
    "start_time": "2023-06-18T11:54:32.542Z"
   },
   {
    "duration": 399,
    "start_time": "2023-06-18T11:55:05.075Z"
   },
   {
    "duration": 15,
    "start_time": "2023-06-18T12:03:35.309Z"
   },
   {
    "duration": 18,
    "start_time": "2023-06-18T12:04:53.243Z"
   },
   {
    "duration": 1107,
    "start_time": "2023-06-18T12:04:58.978Z"
   },
   {
    "duration": 53,
    "start_time": "2023-06-18T12:05:00.087Z"
   },
   {
    "duration": 50,
    "start_time": "2023-06-18T12:05:00.141Z"
   },
   {
    "duration": 3,
    "start_time": "2023-06-18T12:05:00.192Z"
   },
   {
    "duration": 36,
    "start_time": "2023-06-18T12:05:00.198Z"
   },
   {
    "duration": 57,
    "start_time": "2023-06-18T12:05:00.235Z"
   },
   {
    "duration": 59,
    "start_time": "2023-06-18T12:05:00.294Z"
   },
   {
    "duration": 42,
    "start_time": "2023-06-18T12:05:00.355Z"
   },
   {
    "duration": 40,
    "start_time": "2023-06-18T12:05:00.398Z"
   },
   {
    "duration": 107,
    "start_time": "2023-06-18T12:05:00.439Z"
   },
   {
    "duration": 11,
    "start_time": "2023-06-18T12:05:00.548Z"
   },
   {
    "duration": 41,
    "start_time": "2023-06-18T12:05:00.560Z"
   },
   {
    "duration": 20,
    "start_time": "2023-06-18T12:05:00.603Z"
   },
   {
    "duration": 38,
    "start_time": "2023-06-18T12:05:00.627Z"
   },
   {
    "duration": 45,
    "start_time": "2023-06-18T12:05:00.666Z"
   },
   {
    "duration": 10,
    "start_time": "2023-06-18T12:05:00.713Z"
   },
   {
    "duration": 32,
    "start_time": "2023-06-18T12:05:00.725Z"
   },
   {
    "duration": 353,
    "start_time": "2023-06-18T12:05:00.759Z"
   },
   {
    "duration": 5,
    "start_time": "2023-06-18T12:05:01.114Z"
   },
   {
    "duration": 1337,
    "start_time": "2023-06-18T12:05:01.120Z"
   },
   {
    "duration": 3,
    "start_time": "2023-06-18T12:05:02.459Z"
   },
   {
    "duration": 24,
    "start_time": "2023-06-18T12:05:02.464Z"
   },
   {
    "duration": 243,
    "start_time": "2023-06-18T12:05:02.489Z"
   },
   {
    "duration": 10,
    "start_time": "2023-06-18T12:05:02.733Z"
   },
   {
    "duration": 13,
    "start_time": "2023-06-18T12:05:02.756Z"
   },
   {
    "duration": 19,
    "start_time": "2023-06-18T12:05:02.770Z"
   },
   {
    "duration": 21,
    "start_time": "2023-06-18T12:05:02.790Z"
   },
   {
    "duration": 203,
    "start_time": "2023-06-18T12:05:02.812Z"
   },
   {
    "duration": 375,
    "start_time": "2023-06-18T12:05:03.016Z"
   },
   {
    "duration": 426,
    "start_time": "2023-06-18T12:05:03.393Z"
   },
   {
    "duration": 448,
    "start_time": "2023-06-18T12:05:03.821Z"
   },
   {
    "duration": 291,
    "start_time": "2023-06-18T12:05:04.271Z"
   },
   {
    "duration": 17,
    "start_time": "2023-06-18T12:05:04.564Z"
   },
   {
    "duration": 734,
    "start_time": "2023-06-18T12:05:04.583Z"
   },
   {
    "duration": 875,
    "start_time": "2023-06-18T12:05:05.318Z"
   },
   {
    "duration": 390,
    "start_time": "2023-06-18T12:05:06.194Z"
   },
   {
    "duration": 9,
    "start_time": "2023-06-18T12:05:06.585Z"
   },
   {
    "duration": 9,
    "start_time": "2023-06-18T12:05:06.595Z"
   },
   {
    "duration": 11,
    "start_time": "2023-06-18T12:05:28.307Z"
   },
   {
    "duration": 16,
    "start_time": "2023-06-18T12:11:37.353Z"
   },
   {
    "duration": 1170,
    "start_time": "2023-06-18T12:11:43.026Z"
   },
   {
    "duration": 55,
    "start_time": "2023-06-18T12:11:44.198Z"
   },
   {
    "duration": 41,
    "start_time": "2023-06-18T12:11:44.255Z"
   },
   {
    "duration": 4,
    "start_time": "2023-06-18T12:11:44.298Z"
   },
   {
    "duration": 19,
    "start_time": "2023-06-18T12:11:44.303Z"
   },
   {
    "duration": 37,
    "start_time": "2023-06-18T12:11:44.324Z"
   },
   {
    "duration": 20,
    "start_time": "2023-06-18T12:11:44.363Z"
   },
   {
    "duration": 13,
    "start_time": "2023-06-18T12:11:44.385Z"
   },
   {
    "duration": 25,
    "start_time": "2023-06-18T12:11:44.400Z"
   },
   {
    "duration": 41,
    "start_time": "2023-06-18T12:11:44.428Z"
   },
   {
    "duration": 22,
    "start_time": "2023-06-18T12:11:44.470Z"
   },
   {
    "duration": 15,
    "start_time": "2023-06-18T12:11:44.494Z"
   },
   {
    "duration": 13,
    "start_time": "2023-06-18T12:11:44.510Z"
   },
   {
    "duration": 22,
    "start_time": "2023-06-18T12:11:44.525Z"
   },
   {
    "duration": 19,
    "start_time": "2023-06-18T12:11:44.549Z"
   },
   {
    "duration": 17,
    "start_time": "2023-06-18T12:11:44.570Z"
   },
   {
    "duration": 13,
    "start_time": "2023-06-18T12:11:44.589Z"
   },
   {
    "duration": 333,
    "start_time": "2023-06-18T12:11:44.604Z"
   },
   {
    "duration": 16,
    "start_time": "2023-06-18T12:11:44.940Z"
   },
   {
    "duration": 1319,
    "start_time": "2023-06-18T12:11:44.958Z"
   },
   {
    "duration": 4,
    "start_time": "2023-06-18T12:11:46.280Z"
   },
   {
    "duration": 25,
    "start_time": "2023-06-18T12:11:46.286Z"
   },
   {
    "duration": 277,
    "start_time": "2023-06-18T12:11:46.313Z"
   },
   {
    "duration": 12,
    "start_time": "2023-06-18T12:11:46.592Z"
   },
   {
    "duration": 13,
    "start_time": "2023-06-18T12:11:46.606Z"
   },
   {
    "duration": 13,
    "start_time": "2023-06-18T12:11:46.621Z"
   },
   {
    "duration": 38,
    "start_time": "2023-06-18T12:11:46.635Z"
   },
   {
    "duration": 201,
    "start_time": "2023-06-18T12:11:46.676Z"
   },
   {
    "duration": 390,
    "start_time": "2023-06-18T12:11:46.878Z"
   },
   {
    "duration": 446,
    "start_time": "2023-06-18T12:11:47.270Z"
   },
   {
    "duration": 444,
    "start_time": "2023-06-18T12:11:47.717Z"
   },
   {
    "duration": 312,
    "start_time": "2023-06-18T12:11:48.163Z"
   },
   {
    "duration": 19,
    "start_time": "2023-06-18T12:11:48.476Z"
   },
   {
    "duration": 792,
    "start_time": "2023-06-18T12:11:48.497Z"
   },
   {
    "duration": 907,
    "start_time": "2023-06-18T12:11:49.291Z"
   },
   {
    "duration": 407,
    "start_time": "2023-06-18T12:11:50.200Z"
   },
   {
    "duration": 9,
    "start_time": "2023-06-18T12:11:50.609Z"
   },
   {
    "duration": 19,
    "start_time": "2023-06-18T12:11:50.620Z"
   },
   {
    "duration": 16,
    "start_time": "2023-06-18T12:12:06.106Z"
   },
   {
    "duration": 1156,
    "start_time": "2023-06-18T12:12:11.032Z"
   },
   {
    "duration": 52,
    "start_time": "2023-06-18T12:12:12.190Z"
   },
   {
    "duration": 39,
    "start_time": "2023-06-18T12:12:12.244Z"
   },
   {
    "duration": 3,
    "start_time": "2023-06-18T12:12:12.286Z"
   },
   {
    "duration": 14,
    "start_time": "2023-06-18T12:12:12.290Z"
   },
   {
    "duration": 19,
    "start_time": "2023-06-18T12:12:12.306Z"
   },
   {
    "duration": 39,
    "start_time": "2023-06-18T12:12:12.326Z"
   },
   {
    "duration": 13,
    "start_time": "2023-06-18T12:12:12.366Z"
   },
   {
    "duration": 11,
    "start_time": "2023-06-18T12:12:12.381Z"
   },
   {
    "duration": 26,
    "start_time": "2023-06-18T12:12:12.395Z"
   },
   {
    "duration": 5,
    "start_time": "2023-06-18T12:12:12.422Z"
   },
   {
    "duration": 30,
    "start_time": "2023-06-18T12:12:12.428Z"
   },
   {
    "duration": 13,
    "start_time": "2023-06-18T12:12:12.460Z"
   },
   {
    "duration": 18,
    "start_time": "2023-06-18T12:12:12.475Z"
   },
   {
    "duration": 20,
    "start_time": "2023-06-18T12:12:12.494Z"
   },
   {
    "duration": 7,
    "start_time": "2023-06-18T12:12:12.516Z"
   },
   {
    "duration": 35,
    "start_time": "2023-06-18T12:12:12.524Z"
   },
   {
    "duration": 332,
    "start_time": "2023-06-18T12:12:12.561Z"
   },
   {
    "duration": 6,
    "start_time": "2023-06-18T12:12:12.895Z"
   },
   {
    "duration": 1291,
    "start_time": "2023-06-18T12:12:12.902Z"
   },
   {
    "duration": 3,
    "start_time": "2023-06-18T12:12:14.195Z"
   },
   {
    "duration": 50,
    "start_time": "2023-06-18T12:12:14.200Z"
   },
   {
    "duration": 260,
    "start_time": "2023-06-18T12:12:14.251Z"
   },
   {
    "duration": 10,
    "start_time": "2023-06-18T12:12:14.513Z"
   },
   {
    "duration": 21,
    "start_time": "2023-06-18T12:12:14.524Z"
   },
   {
    "duration": 38,
    "start_time": "2023-06-18T12:12:14.547Z"
   },
   {
    "duration": 23,
    "start_time": "2023-06-18T12:12:14.587Z"
   },
   {
    "duration": 203,
    "start_time": "2023-06-18T12:12:14.615Z"
   },
   {
    "duration": 403,
    "start_time": "2023-06-18T12:12:14.820Z"
   },
   {
    "duration": 456,
    "start_time": "2023-06-18T12:12:15.225Z"
   },
   {
    "duration": 449,
    "start_time": "2023-06-18T12:12:15.684Z"
   },
   {
    "duration": 280,
    "start_time": "2023-06-18T12:12:16.136Z"
   },
   {
    "duration": 16,
    "start_time": "2023-06-18T12:12:16.417Z"
   },
   {
    "duration": 735,
    "start_time": "2023-06-18T12:12:16.435Z"
   },
   {
    "duration": 895,
    "start_time": "2023-06-18T12:12:17.172Z"
   },
   {
    "duration": 419,
    "start_time": "2023-06-18T12:12:18.069Z"
   },
   {
    "duration": 8,
    "start_time": "2023-06-18T12:12:18.489Z"
   },
   {
    "duration": 16,
    "start_time": "2023-06-18T12:12:18.499Z"
   },
   {
    "duration": 1119,
    "start_time": "2023-06-18T12:27:32.807Z"
   },
   {
    "duration": 52,
    "start_time": "2023-06-18T12:27:33.929Z"
   },
   {
    "duration": 42,
    "start_time": "2023-06-18T12:27:33.982Z"
   },
   {
    "duration": 3,
    "start_time": "2023-06-18T12:27:34.026Z"
   },
   {
    "duration": 36,
    "start_time": "2023-06-18T12:27:34.031Z"
   },
   {
    "duration": 19,
    "start_time": "2023-06-18T12:27:34.069Z"
   },
   {
    "duration": 20,
    "start_time": "2023-06-18T12:27:34.089Z"
   },
   {
    "duration": 32,
    "start_time": "2023-06-18T12:27:34.111Z"
   },
   {
    "duration": 22,
    "start_time": "2023-06-18T12:27:34.145Z"
   },
   {
    "duration": 21,
    "start_time": "2023-06-18T12:27:34.170Z"
   },
   {
    "duration": 5,
    "start_time": "2023-06-18T12:27:34.193Z"
   },
   {
    "duration": 16,
    "start_time": "2023-06-18T12:27:34.199Z"
   },
   {
    "duration": 11,
    "start_time": "2023-06-18T12:27:34.217Z"
   },
   {
    "duration": 46,
    "start_time": "2023-06-18T12:27:34.230Z"
   },
   {
    "duration": 25,
    "start_time": "2023-06-18T12:27:34.278Z"
   },
   {
    "duration": 6,
    "start_time": "2023-06-18T12:27:34.305Z"
   },
   {
    "duration": 9,
    "start_time": "2023-06-18T12:27:34.313Z"
   },
   {
    "duration": 329,
    "start_time": "2023-06-18T12:27:34.323Z"
   },
   {
    "duration": 6,
    "start_time": "2023-06-18T12:27:34.657Z"
   },
   {
    "duration": 1344,
    "start_time": "2023-06-18T12:27:34.665Z"
   },
   {
    "duration": 4,
    "start_time": "2023-06-18T12:27:36.011Z"
   },
   {
    "duration": 34,
    "start_time": "2023-06-18T12:27:36.016Z"
   },
   {
    "duration": 256,
    "start_time": "2023-06-18T12:27:36.051Z"
   },
   {
    "duration": 11,
    "start_time": "2023-06-18T12:27:36.309Z"
   },
   {
    "duration": 35,
    "start_time": "2023-06-18T12:27:36.321Z"
   },
   {
    "duration": 40,
    "start_time": "2023-06-18T12:27:36.358Z"
   },
   {
    "duration": 35,
    "start_time": "2023-06-18T12:27:36.400Z"
   },
   {
    "duration": 258,
    "start_time": "2023-06-18T12:27:36.438Z"
   },
   {
    "duration": 391,
    "start_time": "2023-06-18T12:27:36.698Z"
   },
   {
    "duration": 440,
    "start_time": "2023-06-18T12:27:37.091Z"
   },
   {
    "duration": 437,
    "start_time": "2023-06-18T12:27:37.532Z"
   },
   {
    "duration": 285,
    "start_time": "2023-06-18T12:27:37.971Z"
   },
   {
    "duration": 17,
    "start_time": "2023-06-18T12:27:38.258Z"
   },
   {
    "duration": 834,
    "start_time": "2023-06-18T12:27:38.276Z"
   },
   {
    "duration": 880,
    "start_time": "2023-06-18T12:27:39.112Z"
   },
   {
    "duration": 405,
    "start_time": "2023-06-18T12:27:39.993Z"
   },
   {
    "duration": 9,
    "start_time": "2023-06-18T12:27:40.400Z"
   },
   {
    "duration": 27,
    "start_time": "2023-06-18T12:27:40.411Z"
   },
   {
    "duration": 1210,
    "start_time": "2023-06-18T12:27:53.349Z"
   },
   {
    "duration": 52,
    "start_time": "2023-06-18T12:27:54.561Z"
   },
   {
    "duration": 37,
    "start_time": "2023-06-18T12:27:54.615Z"
   },
   {
    "duration": 3,
    "start_time": "2023-06-18T12:27:54.654Z"
   },
   {
    "duration": 20,
    "start_time": "2023-06-18T12:27:54.659Z"
   },
   {
    "duration": 24,
    "start_time": "2023-06-18T12:27:54.680Z"
   },
   {
    "duration": 18,
    "start_time": "2023-06-18T12:27:54.706Z"
   },
   {
    "duration": 12,
    "start_time": "2023-06-18T12:27:54.726Z"
   },
   {
    "duration": 28,
    "start_time": "2023-06-18T12:27:54.740Z"
   },
   {
    "duration": 21,
    "start_time": "2023-06-18T12:27:54.771Z"
   },
   {
    "duration": 4,
    "start_time": "2023-06-18T12:27:54.793Z"
   },
   {
    "duration": 20,
    "start_time": "2023-06-18T12:27:54.798Z"
   },
   {
    "duration": 6,
    "start_time": "2023-06-18T12:27:54.820Z"
   },
   {
    "duration": 35,
    "start_time": "2023-06-18T12:27:54.828Z"
   },
   {
    "duration": 21,
    "start_time": "2023-06-18T12:27:54.865Z"
   },
   {
    "duration": 6,
    "start_time": "2023-06-18T12:27:54.888Z"
   },
   {
    "duration": 7,
    "start_time": "2023-06-18T12:27:54.895Z"
   },
   {
    "duration": 347,
    "start_time": "2023-06-18T12:27:54.904Z"
   },
   {
    "duration": 6,
    "start_time": "2023-06-18T12:27:55.256Z"
   },
   {
    "duration": 1325,
    "start_time": "2023-06-18T12:27:55.264Z"
   },
   {
    "duration": 3,
    "start_time": "2023-06-18T12:27:56.591Z"
   },
   {
    "duration": 18,
    "start_time": "2023-06-18T12:27:56.596Z"
   },
   {
    "duration": 244,
    "start_time": "2023-06-18T12:27:56.616Z"
   },
   {
    "duration": 11,
    "start_time": "2023-06-18T12:27:56.862Z"
   },
   {
    "duration": 6,
    "start_time": "2023-06-18T12:27:56.874Z"
   },
   {
    "duration": 26,
    "start_time": "2023-06-18T12:27:56.882Z"
   },
   {
    "duration": 20,
    "start_time": "2023-06-18T12:27:56.910Z"
   },
   {
    "duration": 214,
    "start_time": "2023-06-18T12:27:56.933Z"
   },
   {
    "duration": 393,
    "start_time": "2023-06-18T12:27:57.149Z"
   },
   {
    "duration": 444,
    "start_time": "2023-06-18T12:27:57.543Z"
   },
   {
    "duration": 469,
    "start_time": "2023-06-18T12:27:57.990Z"
   },
   {
    "duration": 282,
    "start_time": "2023-06-18T12:27:58.462Z"
   },
   {
    "duration": 22,
    "start_time": "2023-06-18T12:27:58.746Z"
   },
   {
    "duration": 777,
    "start_time": "2023-06-18T12:27:58.770Z"
   },
   {
    "duration": 871,
    "start_time": "2023-06-18T12:27:59.548Z"
   },
   {
    "duration": 425,
    "start_time": "2023-06-18T12:28:00.421Z"
   },
   {
    "duration": 12,
    "start_time": "2023-06-18T12:28:00.848Z"
   },
   {
    "duration": 16,
    "start_time": "2023-06-18T12:28:00.862Z"
   },
   {
    "duration": 1288,
    "start_time": "2023-06-18T16:28:47.740Z"
   },
   {
    "duration": 295,
    "start_time": "2023-06-18T16:28:49.031Z"
   },
   {
    "duration": 60,
    "start_time": "2023-06-18T16:28:49.329Z"
   },
   {
    "duration": 4,
    "start_time": "2023-06-18T16:28:49.392Z"
   },
   {
    "duration": 17,
    "start_time": "2023-06-18T16:28:49.397Z"
   },
   {
    "duration": 46,
    "start_time": "2023-06-18T16:28:49.416Z"
   },
   {
    "duration": 25,
    "start_time": "2023-06-18T16:28:49.465Z"
   },
   {
    "duration": 23,
    "start_time": "2023-06-18T16:28:49.492Z"
   },
   {
    "duration": 46,
    "start_time": "2023-06-18T16:28:49.517Z"
   },
   {
    "duration": 38,
    "start_time": "2023-06-18T16:28:49.566Z"
   },
   {
    "duration": 6,
    "start_time": "2023-06-18T16:28:49.606Z"
   },
   {
    "duration": 16,
    "start_time": "2023-06-18T16:28:49.614Z"
   },
   {
    "duration": 22,
    "start_time": "2023-06-18T16:28:49.632Z"
   },
   {
    "duration": 29,
    "start_time": "2023-06-18T16:28:49.656Z"
   },
   {
    "duration": 29,
    "start_time": "2023-06-18T16:28:49.687Z"
   },
   {
    "duration": 6,
    "start_time": "2023-06-18T16:28:49.718Z"
   },
   {
    "duration": 34,
    "start_time": "2023-06-18T16:28:49.726Z"
   },
   {
    "duration": 369,
    "start_time": "2023-06-18T16:28:49.762Z"
   },
   {
    "duration": 7,
    "start_time": "2023-06-18T16:28:50.133Z"
   },
   {
    "duration": 1438,
    "start_time": "2023-06-18T16:28:50.142Z"
   },
   {
    "duration": 4,
    "start_time": "2023-06-18T16:28:51.582Z"
   },
   {
    "duration": 24,
    "start_time": "2023-06-18T16:28:51.588Z"
   },
   {
    "duration": 306,
    "start_time": "2023-06-18T16:28:51.614Z"
   },
   {
    "duration": 11,
    "start_time": "2023-06-18T16:28:51.922Z"
   },
   {
    "duration": 22,
    "start_time": "2023-06-18T16:28:51.935Z"
   },
   {
    "duration": 31,
    "start_time": "2023-06-18T16:28:51.960Z"
   },
   {
    "duration": 30,
    "start_time": "2023-06-18T16:28:51.993Z"
   },
   {
    "duration": 223,
    "start_time": "2023-06-18T16:28:52.026Z"
   },
   {
    "duration": 446,
    "start_time": "2023-06-18T16:28:52.253Z"
   },
   {
    "duration": 472,
    "start_time": "2023-06-18T16:28:52.701Z"
   },
   {
    "duration": 443,
    "start_time": "2023-06-18T16:28:53.179Z"
   },
   {
    "duration": 352,
    "start_time": "2023-06-18T16:28:53.624Z"
   },
   {
    "duration": 24,
    "start_time": "2023-06-18T16:28:53.979Z"
   },
   {
    "duration": 824,
    "start_time": "2023-06-18T16:28:54.006Z"
   },
   {
    "duration": 886,
    "start_time": "2023-06-18T16:28:54.832Z"
   },
   {
    "duration": 417,
    "start_time": "2023-06-18T16:28:55.720Z"
   },
   {
    "duration": 20,
    "start_time": "2023-06-18T16:28:56.139Z"
   },
   {
    "duration": 27,
    "start_time": "2023-06-18T16:28:56.161Z"
   },
   {
    "duration": 450,
    "start_time": "2023-06-18T16:42:28.156Z"
   }
  ],
  "kernelspec": {
   "display_name": "Python 3 (ipykernel)",
   "language": "python",
   "name": "python3"
  },
  "language_info": {
   "codemirror_mode": {
    "name": "ipython",
    "version": 3
   },
   "file_extension": ".py",
   "mimetype": "text/x-python",
   "name": "python",
   "nbconvert_exporter": "python",
   "pygments_lexer": "ipython3",
   "version": "3.9.5"
  },
  "toc": {
   "base_numbering": 1,
   "nav_menu": {},
   "number_sections": true,
   "sideBar": true,
   "skip_h1_title": true,
   "title_cell": "Table of Contents",
   "title_sidebar": "Contents",
   "toc_cell": false,
   "toc_position": {},
   "toc_section_display": true,
   "toc_window_display": false
  }
 },
 "nbformat": 4,
 "nbformat_minor": 2
}

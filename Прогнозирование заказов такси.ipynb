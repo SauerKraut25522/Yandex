{
 "cells": [
  {
   "cell_type": "markdown",
   "metadata": {
    "toc": true
   },
   "source": [
    "<h1>Содержание<span class=\"tocSkip\"></span></h1>\n",
    "<div class=\"toc\"><ul class=\"toc-item\"><li><span><a href=\"#Подготовка\" data-toc-modified-id=\"Подготовка-1\"><span class=\"toc-item-num\">1&nbsp;&nbsp;</span>Подготовка</a></span></li><li><span><a href=\"#Анализ\" data-toc-modified-id=\"Анализ-2\"><span class=\"toc-item-num\">2&nbsp;&nbsp;</span>Анализ</a></span></li><li><span><a href=\"#Обучение\" data-toc-modified-id=\"Обучение-3\"><span class=\"toc-item-num\">3&nbsp;&nbsp;</span>Обучение</a></span></li><li><span><a href=\"#Тестирование\" data-toc-modified-id=\"Тестирование-4\"><span class=\"toc-item-num\">4&nbsp;&nbsp;</span>Тестирование</a></span></li><li><span><a href=\"#Чек-лист-проверки\" data-toc-modified-id=\"Чек-лист-проверки-5\"><span class=\"toc-item-num\">5&nbsp;&nbsp;</span>Чек-лист проверки</a></span></li></ul></div>"
   ]
  },
  {
   "cell_type": "markdown",
   "metadata": {},
   "source": [
    "#  Прогнозирование заказов такси"
   ]
  },
  {
   "cell_type": "markdown",
   "metadata": {},
   "source": [
    "Компания «Чётенькое такси» собрала исторические данные о заказах такси в аэропортах. Чтобы привлекать больше водителей в период пиковой нагрузки, нужно спрогнозировать количество заказов такси на следующий час. Постройте модель для такого предсказания.\n",
    "\n",
    "Значение метрики *RMSE* на тестовой выборке должно быть не больше 48.\n",
    "\n",
    "Вам нужно:\n",
    "\n",
    "1. Загрузить данные и выполнить их ресемплирование по одному часу.\n",
    "2. Проанализировать данные.\n",
    "3. Обучить разные модели с различными гиперпараметрами. Сделать тестовую выборку размером 10% от исходных данных.\n",
    "4. Проверить данные на тестовой выборке и сделать выводы.\n",
    "\n",
    "\n",
    "Данные лежат в файле `taxi.csv`. Количество заказов находится в столбце `num_orders` (от англ. *number of orders*, «число заказов»).\n",
    "\n",
    "**Используемые инструменты:**\n",
    "\n",
    "pandas, numpy, matplotlib, statsmodels,sklearn, RandomForestRegressor, CatBoostRegressor, LGBMRegressor."
   ]
  },
  {
   "cell_type": "markdown",
   "metadata": {},
   "source": [
    "## Подготовка"
   ]
  },
  {
   "cell_type": "code",
   "execution_count": 1,
   "metadata": {},
   "outputs": [],
   "source": [
    "import warnings\n",
    "warnings.filterwarnings('ignore')\n",
    "import pandas as pd\n",
    "import numpy as np\n",
    "from matplotlib import pyplot as plt\n",
    "import time\n",
    "\n",
    "from statsmodels.tsa.seasonal import seasonal_decompose\n",
    "from statsmodels.tsa.stattools import adfuller\n",
    "\n",
    "from sklearn.model_selection import (\n",
    "    train_test_split, \n",
    "    GridSearchCV, \n",
    "    TimeSeriesSplit\n",
    ")\n",
    "from sklearn.ensemble import RandomForestRegressor\n",
    "from catboost import CatBoostRegressor\n",
    "from lightgbm import LGBMRegressor\n",
    "from sklearn.dummy import DummyRegressor\n",
    "from sklearn.metrics import mean_squared_error\n",
    "\n",
    "STATE = 42"
   ]
  },
  {
   "cell_type": "code",
   "execution_count": 2,
   "metadata": {},
   "outputs": [],
   "source": [
    "try:\n",
    "    df = pd.read_csv('/datasets/taxi.csv', index_col=[0], parse_dates=[0])\n",
    "except:\n",
    "    df = pd.read_csv('https://code.s3.yandex.net/datasets/taxi.csv', index_col=[0], parse_dates=[0])"
   ]
  },
  {
   "cell_type": "code",
   "execution_count": 3,
   "metadata": {
    "scrolled": true
   },
   "outputs": [
    {
     "name": "stdout",
     "output_type": "stream",
     "text": [
      "<class 'pandas.core.frame.DataFrame'>\n",
      "DatetimeIndex: 26496 entries, 2018-03-01 00:00:00 to 2018-08-31 23:50:00\n",
      "Data columns (total 1 columns):\n",
      " #   Column      Non-Null Count  Dtype\n",
      "---  ------      --------------  -----\n",
      " 0   num_orders  26496 non-null  int64\n",
      "dtypes: int64(1)\n",
      "memory usage: 414.0 KB\n"
     ]
    }
   ],
   "source": [
    "df.info()"
   ]
  },
  {
   "cell_type": "code",
   "execution_count": 4,
   "metadata": {},
   "outputs": [
    {
     "name": "stdout",
     "output_type": "stream",
     "text": [
      "True\n"
     ]
    }
   ],
   "source": [
    "df = df.sort_index()\n",
    "print(df.index.is_monotonic)"
   ]
  },
  {
   "cell_type": "code",
   "execution_count": 5,
   "metadata": {},
   "outputs": [],
   "source": [
    "df = df.resample('1H').sum()"
   ]
  },
  {
   "cell_type": "code",
   "execution_count": 6,
   "metadata": {
    "scrolled": false
   },
   "outputs": [
    {
     "data": {
      "text/html": [
       "<div>\n",
       "<style scoped>\n",
       "    .dataframe tbody tr th:only-of-type {\n",
       "        vertical-align: middle;\n",
       "    }\n",
       "\n",
       "    .dataframe tbody tr th {\n",
       "        vertical-align: top;\n",
       "    }\n",
       "\n",
       "    .dataframe thead th {\n",
       "        text-align: right;\n",
       "    }\n",
       "</style>\n",
       "<table border=\"1\" class=\"dataframe\">\n",
       "  <thead>\n",
       "    <tr style=\"text-align: right;\">\n",
       "      <th></th>\n",
       "      <th>num_orders</th>\n",
       "    </tr>\n",
       "    <tr>\n",
       "      <th>datetime</th>\n",
       "      <th></th>\n",
       "    </tr>\n",
       "  </thead>\n",
       "  <tbody>\n",
       "    <tr>\n",
       "      <th>2018-03-01 00:00:00</th>\n",
       "      <td>124</td>\n",
       "    </tr>\n",
       "    <tr>\n",
       "      <th>2018-03-01 01:00:00</th>\n",
       "      <td>85</td>\n",
       "    </tr>\n",
       "    <tr>\n",
       "      <th>2018-03-01 02:00:00</th>\n",
       "      <td>71</td>\n",
       "    </tr>\n",
       "    <tr>\n",
       "      <th>2018-03-01 03:00:00</th>\n",
       "      <td>66</td>\n",
       "    </tr>\n",
       "    <tr>\n",
       "      <th>2018-03-01 04:00:00</th>\n",
       "      <td>43</td>\n",
       "    </tr>\n",
       "    <tr>\n",
       "      <th>2018-03-01 05:00:00</th>\n",
       "      <td>6</td>\n",
       "    </tr>\n",
       "    <tr>\n",
       "      <th>2018-03-01 06:00:00</th>\n",
       "      <td>12</td>\n",
       "    </tr>\n",
       "    <tr>\n",
       "      <th>2018-03-01 07:00:00</th>\n",
       "      <td>15</td>\n",
       "    </tr>\n",
       "    <tr>\n",
       "      <th>2018-03-01 08:00:00</th>\n",
       "      <td>34</td>\n",
       "    </tr>\n",
       "    <tr>\n",
       "      <th>2018-03-01 09:00:00</th>\n",
       "      <td>69</td>\n",
       "    </tr>\n",
       "  </tbody>\n",
       "</table>\n",
       "</div>"
      ],
      "text/plain": [
       "                     num_orders\n",
       "datetime                       \n",
       "2018-03-01 00:00:00         124\n",
       "2018-03-01 01:00:00          85\n",
       "2018-03-01 02:00:00          71\n",
       "2018-03-01 03:00:00          66\n",
       "2018-03-01 04:00:00          43\n",
       "2018-03-01 05:00:00           6\n",
       "2018-03-01 06:00:00          12\n",
       "2018-03-01 07:00:00          15\n",
       "2018-03-01 08:00:00          34\n",
       "2018-03-01 09:00:00          69"
      ]
     },
     "execution_count": 6,
     "metadata": {},
     "output_type": "execute_result"
    }
   ],
   "source": [
    "df.head(10)"
   ]
  },
  {
   "cell_type": "markdown",
   "metadata": {},
   "source": [
    "На первом этапе мы загрузили данные и провели их ресемплирование по одному часу. В данных отсутствуют пропуски, все признаки расположены в хронологическом порядке за последние полгода (с 0:00 1 мая 2018 года по 23:50 31 августа 2018)."
   ]
  },
  {
   "cell_type": "markdown",
   "metadata": {},
   "source": [
    "## Анализ"
   ]
  },
  {
   "cell_type": "code",
   "execution_count": 7,
   "metadata": {},
   "outputs": [
    {
     "data": {
      "image/png": "[encoded data removed]",
      "text/plain": [
       "<Figure size 1440x720 with 1 Axes>"
      ]
     },
     "metadata": {
      "needs_background": "light"
     },
     "output_type": "display_data"
    }
   ],
   "source": [
    "df['num_orders'].rolling(24).mean().plot(figsize=(20, 10))\n",
    "plt.show()"
   ]
  },
  {
   "cell_type": "markdown",
   "metadata": {},
   "source": [
    "На этом графике виден плавный рост заказов на протяжении этого полугода, так же, судя по изменению среднего, мы можем сказать, что наш ряд нестационарен. Дополнительно проведём тест Дики-Фуллера."
   ]
  },
  {
   "cell_type": "code",
   "execution_count": 8,
   "metadata": {},
   "outputs": [
    {
     "name": "stdout",
     "output_type": "stream",
     "text": [
      "Критерий ADF: -3.068924\n",
      "P-значение: 0.028940\n",
      "Критические значения:\n",
      "\t1%: -3.432\n",
      "\t5%: -2.862\n",
      "\t10%: -2.567\n",
      "Нулевая гипотеза отвергнута – Временной ряд стационарен\n"
     ]
    }
   ],
   "source": [
    "adf_test = adfuller(df['num_orders'])  \n",
    "    \n",
    "print('Критерий ADF: %f' % adf_test[0])    \n",
    "print('P-значение: %f' % adf_test[1])  \n",
    "print('Критические значения:')\n",
    "\n",
    "for key, value in adf_test[4].items():\n",
    "    print('\\t%s: %.3f' % (key, value))\n",
    "\n",
    "if adf_test[0] < adf_test[4][\"5%\"]:\n",
    "    print (\"Нулевая гипотеза отвергнута – Временной ряд стационарен\")\n",
    "else:\n",
    "    print (\"Нулевая гипотеза не отвергнута – Временной ряд не стационарен\")  "
   ]
  },
  {
   "cell_type": "code",
   "execution_count": 9,
   "metadata": {
    "scrolled": false
   },
   "outputs": [
    {
     "data": {
      "image/png": "[encoded data removed]",
      "text/plain": [
       "<Figure size 1080x720 with 6 Axes>"
      ]
     },
     "metadata": {
      "needs_background": "light"
     },
     "output_type": "display_data"
    }
   ],
   "source": [
    "decomposed = seasonal_decompose(df) \n",
    "\n",
    "plt.figure(figsize=(15, 10))\n",
    "plt.subplot(611)\n",
    "decomposed.trend.plot(ax=plt.gca())\n",
    "plt.title('Тренд.', size=15)\n",
    "plt.subplot(612)\n",
    "decomposed.seasonal.plot(ax=plt.gca())\n",
    "plt.title('Сезонность в полугодовом срезе.', size=15)\n",
    "plt.subplot(613)\n",
    "decomposed.seasonal['2018-03-01':'2018-03-31'].plot(ax=plt.gca())\n",
    "plt.title('Сезонность в месячном срезе.', size=15)\n",
    "plt.subplot(614)\n",
    "decomposed.seasonal['2018-03-01':'2018-03-07'].plot(ax=plt.gca())\n",
    "plt.title('Сезонность в недельном срезе.', size=15)\n",
    "plt.subplot(615)\n",
    "decomposed.seasonal['2018-03-01 00:00':'2018-03-01 23:59'].plot(ax=plt.gca())\n",
    "plt.title('Сезонность в дневном срезе.', size=15)\n",
    "plt.subplot(616)\n",
    "decomposed.resid.plot(ax=plt.gca())\n",
    "plt.title('Остаток декомпозиции.', size=15)\n",
    "plt.tight_layout()"
   ]
  },
  {
   "cell_type": "markdown",
   "metadata": {},
   "source": [
    "На графике тренда видим рост числа заказов такси на протяжении всего времени. Стоит рассмотреть сезонность в дневном срезе отдельно."
   ]
  },
  {
   "cell_type": "code",
   "execution_count": 10,
   "metadata": {
    "scrolled": false
   },
   "outputs": [
    {
     "data": {
      "image/png": "[encoded data removed]",
      "text/plain": [
       "<Figure size 1080x720 with 1 Axes>"
      ]
     },
     "metadata": {
      "needs_background": "light"
     },
     "output_type": "display_data"
    }
   ],
   "source": [
    "plt.figure(figsize=(15, 10))\n",
    "decomposed.seasonal['2018-03-01 00:00':'2018-03-01 23:59'].plot(ax=plt.gca())\n",
    "plt.title('Сезонность в дневном срезе.', size=15)\n",
    "plt.tight_layout()"
   ]
  },
  {
   "cell_type": "markdown",
   "metadata": {},
   "source": [
    "На втором этапе мы провели анализ наших данных. С помощью теста определили стационарность временного ряда, не смотря на то, что визально кажется иначе. Выявили тенденцию к увеличению числа заказов за весь период и определили наиболее загруженное время, а именно около 4-5 часов вечера и ночью до 0 часов."
   ]
  },
  {
   "cell_type": "markdown",
   "metadata": {},
   "source": [
    "## Обучение"
   ]
  },
  {
   "cell_type": "code",
   "execution_count": 11,
   "metadata": {},
   "outputs": [
    {
     "name": "stdout",
     "output_type": "stream",
     "text": [
      "<class 'pandas.core.frame.DataFrame'>\n",
      "DatetimeIndex: 4416 entries, 2018-03-01 00:00:00 to 2018-08-31 23:00:00\n",
      "Freq: H\n",
      "Data columns (total 27 columns):\n",
      " #   Column      Non-Null Count  Dtype  \n",
      "---  ------      --------------  -----  \n",
      " 0   num_orders  4416 non-null   int64  \n",
      " 1   hour        4416 non-null   int64  \n",
      " 2   dayofweek   4416 non-null   int64  \n",
      " 3   lag_1       4415 non-null   float64\n",
      " 4   lag_2       4414 non-null   float64\n",
      " 5   lag_3       4413 non-null   float64\n",
      " 6   lag_4       4412 non-null   float64\n",
      " 7   lag_5       4411 non-null   float64\n",
      " 8   lag_6       4410 non-null   float64\n",
      " 9   lag_7       4409 non-null   float64\n",
      " 10  lag_8       4408 non-null   float64\n",
      " 11  lag_9       4407 non-null   float64\n",
      " 12  lag_10      4406 non-null   float64\n",
      " 13  lag_11      4405 non-null   float64\n",
      " 14  lag_12      4404 non-null   float64\n",
      " 15  lag_13      4403 non-null   float64\n",
      " 16  lag_14      4402 non-null   float64\n",
      " 17  lag_15      4401 non-null   float64\n",
      " 18  lag_16      4400 non-null   float64\n",
      " 19  lag_17      4399 non-null   float64\n",
      " 20  lag_18      4398 non-null   float64\n",
      " 21  lag_19      4397 non-null   float64\n",
      " 22  lag_20      4396 non-null   float64\n",
      " 23  lag_21      4395 non-null   float64\n",
      " 24  lag_22      4394 non-null   float64\n",
      " 25  lag_23      4393 non-null   float64\n",
      " 26  lag_24      4392 non-null   float64\n",
      "dtypes: float64(24), int64(3)\n",
      "memory usage: 966.0 KB\n"
     ]
    }
   ],
   "source": [
    "def make_features(data, max_lag, rolling_size):\n",
    "    data = df.copy()\n",
    "    df['hour'] = df.index.hour\n",
    "    df['dayofweek'] = df.index.dayofweek\n",
    "    for lag in range(1, max_lag + 1):\n",
    "        df['lag_{}'.format(lag)] = df['num_orders'].shift(lag)\n",
    "    data['rolling_mean'] = df['num_orders'].shift().rolling(rolling_size).mean()\n",
    "    \n",
    "    return data\n",
    "    \n",
    "make_features(df, 24, 12)\n",
    "df.info()"
   ]
  },
  {
   "cell_type": "code",
   "execution_count": 12,
   "metadata": {},
   "outputs": [
    {
     "name": "stdout",
     "output_type": "stream",
     "text": [
      "<class 'pandas.core.frame.DataFrame'>\n",
      "DatetimeIndex: 4392 entries, 2018-03-02 00:00:00 to 2018-08-31 23:00:00\n",
      "Freq: H\n",
      "Data columns (total 27 columns):\n",
      " #   Column      Non-Null Count  Dtype  \n",
      "---  ------      --------------  -----  \n",
      " 0   num_orders  4392 non-null   int64  \n",
      " 1   hour        4392 non-null   int64  \n",
      " 2   dayofweek   4392 non-null   int64  \n",
      " 3   lag_1       4392 non-null   float64\n",
      " 4   lag_2       4392 non-null   float64\n",
      " 5   lag_3       4392 non-null   float64\n",
      " 6   lag_4       4392 non-null   float64\n",
      " 7   lag_5       4392 non-null   float64\n",
      " 8   lag_6       4392 non-null   float64\n",
      " 9   lag_7       4392 non-null   float64\n",
      " 10  lag_8       4392 non-null   float64\n",
      " 11  lag_9       4392 non-null   float64\n",
      " 12  lag_10      4392 non-null   float64\n",
      " 13  lag_11      4392 non-null   float64\n",
      " 14  lag_12      4392 non-null   float64\n",
      " 15  lag_13      4392 non-null   float64\n",
      " 16  lag_14      4392 non-null   float64\n",
      " 17  lag_15      4392 non-null   float64\n",
      " 18  lag_16      4392 non-null   float64\n",
      " 19  lag_17      4392 non-null   float64\n",
      " 20  lag_18      4392 non-null   float64\n",
      " 21  lag_19      4392 non-null   float64\n",
      " 22  lag_20      4392 non-null   float64\n",
      " 23  lag_21      4392 non-null   float64\n",
      " 24  lag_22      4392 non-null   float64\n",
      " 25  lag_23      4392 non-null   float64\n",
      " 26  lag_24      4392 non-null   float64\n",
      "dtypes: float64(24), int64(3)\n",
      "memory usage: 960.8 KB\n"
     ]
    }
   ],
   "source": [
    "df.dropna(inplace=True)\n",
    "df.info()"
   ]
  },
  {
   "cell_type": "code",
   "execution_count": 13,
   "metadata": {},
   "outputs": [
    {
     "name": "stdout",
     "output_type": "stream",
     "text": [
      "Размер обущающей выборки:\n",
      "(3952, 26)\n",
      "(3952,)\n",
      "====================================================================================================\n",
      "Размер тестовой выборки:\n",
      "(440, 26)\n",
      "(440,)\n",
      "====================================================================================================\n",
      "Минимальные и максимальные значения индексов выборок:\n",
      "2018-03-02 00:00:00 2018-08-13 15:00:00\n",
      "2018-08-13 16:00:00 2018-08-31 23:00:00\n"
     ]
    }
   ],
   "source": [
    "x = df.drop(['num_orders'], axis=1)\n",
    "y = df['num_orders']\n",
    "\n",
    "x_train, x_test, y_train, y_test = train_test_split(x, y, shuffle=False, test_size=0.1)\n",
    "\n",
    "print('Размер обущающей выборки:')\n",
    "print(x_train.shape)\n",
    "print(y_train.shape)\n",
    "print('=' * 100)\n",
    "print('Размер тестовой выборки:')\n",
    "print(x_test.shape)\n",
    "print(y_test.shape)\n",
    "print('=' * 100)\n",
    "print('Минимальные и максимальные значения индексов выборок:')\n",
    "print(x_train.index.min(), x_train.index.max())\n",
    "print(x_test.index.min(), x_test.index.max())"
   ]
  },
  {
   "cell_type": "code",
   "execution_count": 14,
   "metadata": {},
   "outputs": [],
   "source": [
    "models_rmse = pd.DataFrame(columns = ['Модель', 'RMSE', 'Время обучения'])"
   ]
  },
  {
   "cell_type": "code",
   "execution_count": 15,
   "metadata": {
    "scrolled": true
   },
   "outputs": [
    {
     "name": "stdout",
     "output_type": "stream",
     "text": [
      "Fitting 5 folds for each of 8 candidates, totalling 40 fits\n",
      "[CV] END .......................max_depth=5, n_estimators=20; total time=   0.1s\n",
      "[CV] END .......................max_depth=5, n_estimators=20; total time=   0.1s\n",
      "[CV] END .......................max_depth=5, n_estimators=20; total time=   0.2s\n",
      "[CV] END .......................max_depth=5, n_estimators=20; total time=   0.3s\n",
      "[CV] END .......................max_depth=5, n_estimators=20; total time=   0.3s\n",
      "[CV] END .......................max_depth=5, n_estimators=30; total time=   0.1s\n",
      "[CV] END .......................max_depth=5, n_estimators=30; total time=   0.2s\n",
      "[CV] END .......................max_depth=5, n_estimators=30; total time=   0.3s\n",
      "[CV] END .......................max_depth=5, n_estimators=30; total time=   0.4s\n",
      "[CV] END .......................max_depth=5, n_estimators=30; total time=   0.4s\n",
      "[CV] END .......................max_depth=5, n_estimators=40; total time=   0.2s\n",
      "[CV] END .......................max_depth=5, n_estimators=40; total time=   0.3s\n",
      "[CV] END .......................max_depth=5, n_estimators=40; total time=   0.4s\n",
      "[CV] END .......................max_depth=5, n_estimators=40; total time=   0.5s\n",
      "[CV] END .......................max_depth=5, n_estimators=40; total time=   0.6s\n",
      "[CV] END .......................max_depth=5, n_estimators=50; total time=   0.2s\n",
      "[CV] END .......................max_depth=5, n_estimators=50; total time=   0.3s\n",
      "[CV] END .......................max_depth=5, n_estimators=50; total time=   0.5s\n",
      "[CV] END .......................max_depth=5, n_estimators=50; total time=   0.6s\n",
      "[CV] END .......................max_depth=5, n_estimators=50; total time=   0.7s\n",
      "[CV] END .......................max_depth=6, n_estimators=20; total time=   0.1s\n",
      "[CV] END .......................max_depth=6, n_estimators=20; total time=   0.2s\n",
      "[CV] END .......................max_depth=6, n_estimators=20; total time=   0.2s\n",
      "[CV] END .......................max_depth=6, n_estimators=20; total time=   0.3s\n",
      "[CV] END .......................max_depth=6, n_estimators=20; total time=   0.4s\n",
      "[CV] END .......................max_depth=6, n_estimators=30; total time=   0.1s\n",
      "[CV] END .......................max_depth=6, n_estimators=30; total time=   0.2s\n",
      "[CV] END .......................max_depth=6, n_estimators=30; total time=   0.3s\n",
      "[CV] END .......................max_depth=6, n_estimators=30; total time=   0.4s\n",
      "[CV] END .......................max_depth=6, n_estimators=30; total time=   0.5s\n",
      "[CV] END .......................max_depth=6, n_estimators=40; total time=   0.2s\n",
      "[CV] END .......................max_depth=6, n_estimators=40; total time=   0.3s\n",
      "[CV] END .......................max_depth=6, n_estimators=40; total time=   0.5s\n",
      "[CV] END .......................max_depth=6, n_estimators=40; total time=   0.6s\n",
      "[CV] END .......................max_depth=6, n_estimators=40; total time=   0.8s\n",
      "[CV] END .......................max_depth=6, n_estimators=50; total time=   0.3s\n",
      "[CV] END .......................max_depth=6, n_estimators=50; total time=   0.4s\n",
      "[CV] END .......................max_depth=6, n_estimators=50; total time=   0.6s\n",
      "[CV] END .......................max_depth=6, n_estimators=50; total time=   0.8s\n",
      "[CV] END .......................max_depth=6, n_estimators=50; total time=   0.9s\n",
      "Лучшая модель RandomForestRegressor c оценкой качества кросс-валидацией: GridSearchCV(cv=TimeSeriesSplit(gap=0, max_train_size=None, n_splits=5, test_size=None),\n",
      "             estimator=RandomForestRegressor(random_state=42),\n",
      "             param_grid={'max_depth': range(5, 7),\n",
      "                         'n_estimators': range(20, 60, 10)},\n",
      "             scoring='neg_mean_squared_error', verbose=2)\n",
      "Лучшие параметры: {'max_depth': 6, 'n_estimators': 40}\n",
      "RMSE: 27.001\n",
      "CPU times: user 15.5 s, sys: 59.3 ms, total: 15.6 s\n",
      "Wall time: 15.7 s\n"
     ]
    }
   ],
   "source": [
    "%%time\n",
    "\n",
    "model_rfr = RandomForestRegressor(random_state=STATE)\n",
    "start_time = time.time()\n",
    "params = { 'max_depth': range(5, 7),\n",
    "          'n_estimators': range(20, 60, 10) }\n",
    "grid_rfr = GridSearchCV(model_rfr, params, cv=TimeSeriesSplit(n_splits=5), \n",
    "                        scoring='neg_mean_squared_error', verbose=2)   \n",
    "grid_rfr.fit(x_train, y_train)\n",
    "time_rfr = time.time() - start_time\n",
    "rmse = abs(grid_rfr.best_score_) ** 0.5\n",
    "\n",
    "print('Лучшая модель RandomForestRegressor c оценкой качества кросс-валидацией:', grid_rfr)\n",
    "print('Лучшие параметры:', grid_rfr.best_params_)\n",
    "print('RMSE: {:.3f}'.format(rmse))\n",
    "\n",
    "\n",
    "models_rmse = models_rmse.append({'Модель':'RandomForestRegressor', \n",
    "                                  'RMSE':round(rmse, 3), \n",
    "                                  'Время обучения':time_rfr}, ignore_index=True)        "
   ]
  },
  {
   "cell_type": "code",
   "execution_count": 16,
   "metadata": {
    "scrolled": true
   },
   "outputs": [
    {
     "name": "stdout",
     "output_type": "stream",
     "text": [
      "Fitting 5 folds for each of 8 candidates, totalling 40 fits\n",
      "[CV] END ....learning_rate=0.4, max_depth=5, n_estimators=20; total time=   4.8s\n",
      "[CV] END ....learning_rate=0.4, max_depth=5, n_estimators=20; total time=   0.9s\n",
      "[CV] END ....learning_rate=0.4, max_depth=5, n_estimators=20; total time=   4.1s\n",
      "[CV] END ....learning_rate=0.4, max_depth=5, n_estimators=20; total time=   9.6s\n",
      "[CV] END ....learning_rate=0.4, max_depth=5, n_estimators=20; total time=  10.7s\n",
      "[CV] END ....learning_rate=0.4, max_depth=5, n_estimators=30; total time=   4.5s\n",
      "[CV] END ....learning_rate=0.4, max_depth=5, n_estimators=30; total time=   7.3s\n",
      "[CV] END ....learning_rate=0.4, max_depth=5, n_estimators=30; total time=   7.2s\n",
      "[CV] END ....learning_rate=0.4, max_depth=5, n_estimators=30; total time=   4.4s\n",
      "[CV] END ....learning_rate=0.4, max_depth=5, n_estimators=30; total time=   3.8s\n",
      "[CV] END ....learning_rate=0.4, max_depth=5, n_estimators=40; total time=   2.1s\n",
      "[CV] END ....learning_rate=0.4, max_depth=5, n_estimators=40; total time=   1.9s\n",
      "[CV] END ....learning_rate=0.4, max_depth=5, n_estimators=40; total time=   2.2s\n",
      "[CV] END ....learning_rate=0.4, max_depth=5, n_estimators=40; total time=   1.9s\n",
      "[CV] END ....learning_rate=0.4, max_depth=5, n_estimators=40; total time=   2.5s\n",
      "[CV] END ....learning_rate=0.4, max_depth=5, n_estimators=50; total time=   2.0s\n",
      "[CV] END ....learning_rate=0.4, max_depth=5, n_estimators=50; total time=   1.1s\n",
      "[CV] END ....learning_rate=0.4, max_depth=5, n_estimators=50; total time=   1.3s\n",
      "[CV] END ....learning_rate=0.4, max_depth=5, n_estimators=50; total time=   4.2s\n",
      "[CV] END ....learning_rate=0.4, max_depth=5, n_estimators=50; total time=   3.4s\n",
      "[CV] END ....learning_rate=0.4, max_depth=6, n_estimators=20; total time=   1.2s\n",
      "[CV] END ....learning_rate=0.4, max_depth=6, n_estimators=20; total time=   1.6s\n",
      "[CV] END ....learning_rate=0.4, max_depth=6, n_estimators=20; total time=   1.4s\n",
      "[CV] END ....learning_rate=0.4, max_depth=6, n_estimators=20; total time=   1.8s\n",
      "[CV] END ....learning_rate=0.4, max_depth=6, n_estimators=20; total time=   0.7s\n",
      "[CV] END ....learning_rate=0.4, max_depth=6, n_estimators=30; total time=   2.6s\n",
      "[CV] END ....learning_rate=0.4, max_depth=6, n_estimators=30; total time=   0.4s\n",
      "[CV] END ....learning_rate=0.4, max_depth=6, n_estimators=30; total time=   4.1s\n",
      "[CV] END ....learning_rate=0.4, max_depth=6, n_estimators=30; total time=   3.0s\n",
      "[CV] END ....learning_rate=0.4, max_depth=6, n_estimators=30; total time=   2.2s\n",
      "[CV] END ....learning_rate=0.4, max_depth=6, n_estimators=40; total time=   1.1s\n",
      "[CV] END ....learning_rate=0.4, max_depth=6, n_estimators=40; total time=   1.2s\n",
      "[CV] END ....learning_rate=0.4, max_depth=6, n_estimators=40; total time=   2.8s\n",
      "[CV] END ....learning_rate=0.4, max_depth=6, n_estimators=40; total time=   5.1s\n",
      "[CV] END ....learning_rate=0.4, max_depth=6, n_estimators=40; total time=   3.9s\n",
      "[CV] END ....learning_rate=0.4, max_depth=6, n_estimators=50; total time=   1.3s\n",
      "[CV] END ....learning_rate=0.4, max_depth=6, n_estimators=50; total time=   1.3s\n",
      "[CV] END ....learning_rate=0.4, max_depth=6, n_estimators=50; total time=   4.4s\n",
      "[CV] END ....learning_rate=0.4, max_depth=6, n_estimators=50; total time=   8.1s\n",
      "[CV] END ....learning_rate=0.4, max_depth=6, n_estimators=50; total time=  26.2s\n",
      "Лучшая модель LGBMRegressor c оценкой качества кросс-валидацией: LGBMRegressor(random_state=42)\n",
      "Лучшие параметры: {'learning_rate': 0.4, 'max_depth': 5, 'n_estimators': 20}\n",
      "RMSE: 25.806\n",
      "CPU times: user 2min 37s, sys: 1.05 s, total: 2min 38s\n",
      "Wall time: 2min 39s\n"
     ]
    }
   ],
   "source": [
    "%%time\n",
    "\n",
    "model_lgbm = LGBMRegressor(random_state=STATE)\n",
    "start_time = time.time()\n",
    "params = { 'max_depth': range(5, 7),\n",
    "          'n_estimators': range(20, 60, 10),\n",
    "         'learning_rate': [0.4]}\n",
    "grid_lgbm = GridSearchCV(model_lgbm, params, cv=TimeSeriesSplit(n_splits=5), \n",
    "                         scoring='neg_mean_squared_error', verbose=2)   \n",
    "grid_lgbm.fit(x_train, y_train)\n",
    "time_lgbm = time.time() - start_time\n",
    "rmse_lgbm = abs(grid_lgbm.best_score_) ** 0.5\n",
    "\n",
    "        \n",
    "print('Лучшая модель LGBMRegressor c оценкой качества кросс-валидацией:', model_lgbm)\n",
    "print('Лучшие параметры:', grid_lgbm.best_params_)\n",
    "print('RMSE: {:.3f}'.format(rmse_lgbm))\n",
    "\n",
    "models_rmse = models_rmse.append({'Модель':'LGBMRegressor', \n",
    "                                  'RMSE':round(rmse_lgbm, 3), \n",
    "                                  'Время обучения':time_lgbm}, ignore_index=True)"
   ]
  },
  {
   "cell_type": "code",
   "execution_count": 17,
   "metadata": {
    "scrolled": true
   },
   "outputs": [
    {
     "name": "stdout",
     "output_type": "stream",
     "text": [
      "Fitting 5 folds for each of 8 candidates, totalling 40 fits\n",
      "0:\tlearn: 24.6996631\ttotal: 53.3ms\tremaining: 1.01s\n",
      "1:\tlearn: 21.8408689\ttotal: 55.1ms\tremaining: 496ms\n",
      "2:\tlearn: 20.3577380\ttotal: 56.8ms\tremaining: 322ms\n",
      "3:\tlearn: 19.3725841\ttotal: 58.5ms\tremaining: 234ms\n",
      "4:\tlearn: 18.6550865\ttotal: 60.2ms\tremaining: 181ms\n",
      "5:\tlearn: 18.0153289\ttotal: 61.8ms\tremaining: 144ms\n",
      "6:\tlearn: 17.6147520\ttotal: 63.4ms\tremaining: 118ms\n",
      "7:\tlearn: 17.2314949\ttotal: 65.1ms\tremaining: 97.6ms\n",
      "8:\tlearn: 16.7137388\ttotal: 66.8ms\tremaining: 81.7ms\n",
      "9:\tlearn: 16.4332350\ttotal: 68.6ms\tremaining: 68.6ms\n",
      "10:\tlearn: 16.1157586\ttotal: 70.2ms\tremaining: 57.4ms\n",
      "11:\tlearn: 15.8008092\ttotal: 71.9ms\tremaining: 47.9ms\n",
      "12:\tlearn: 15.4536138\ttotal: 73.6ms\tremaining: 39.6ms\n",
      "13:\tlearn: 15.2128963\ttotal: 75.3ms\tremaining: 32.3ms\n",
      "14:\tlearn: 15.0181506\ttotal: 77ms\tremaining: 25.6ms\n",
      "15:\tlearn: 14.6966359\ttotal: 78.8ms\tremaining: 19.7ms\n",
      "16:\tlearn: 14.4857901\ttotal: 80.5ms\tremaining: 14.2ms\n",
      "17:\tlearn: 14.3525246\ttotal: 82.2ms\tremaining: 9.14ms\n",
      "18:\tlearn: 13.9544405\ttotal: 83.8ms\tremaining: 4.41ms\n",
      "19:\tlearn: 13.6946588\ttotal: 85.5ms\tremaining: 0us\n",
      "[CV] END ....learning_rate=0.4, max_depth=5, n_estimators=20; total time=   0.8s\n",
      "0:\tlearn: 26.3977235\ttotal: 3.32ms\tremaining: 63.2ms\n",
      "1:\tlearn: 23.2943657\ttotal: 5.33ms\tremaining: 48ms\n",
      "2:\tlearn: 21.4865699\ttotal: 7.61ms\tremaining: 43.1ms\n",
      "3:\tlearn: 20.6482130\ttotal: 10.9ms\tremaining: 43.4ms\n",
      "4:\tlearn: 19.8678732\ttotal: 14ms\tremaining: 41.9ms\n",
      "5:\tlearn: 19.2740113\ttotal: 16.5ms\tremaining: 38.4ms\n",
      "6:\tlearn: 19.0369942\ttotal: 18.5ms\tremaining: 34.3ms\n",
      "7:\tlearn: 18.5796166\ttotal: 20.7ms\tremaining: 31.1ms\n",
      "8:\tlearn: 18.2102752\ttotal: 22.9ms\tremaining: 28ms\n",
      "9:\tlearn: 17.9620208\ttotal: 25ms\tremaining: 25ms\n",
      "10:\tlearn: 17.7197069\ttotal: 27ms\tremaining: 22.1ms\n",
      "11:\tlearn: 17.4855852\ttotal: 28.9ms\tremaining: 19.3ms\n",
      "12:\tlearn: 17.1750809\ttotal: 31ms\tremaining: 16.7ms\n",
      "13:\tlearn: 16.9589880\ttotal: 32.9ms\tremaining: 14.1ms\n",
      "14:\tlearn: 16.8525207\ttotal: 34.9ms\tremaining: 11.6ms\n",
      "15:\tlearn: 16.7056994\ttotal: 36.9ms\tremaining: 9.21ms\n",
      "16:\tlearn: 16.4938727\ttotal: 39ms\tremaining: 6.88ms\n",
      "17:\tlearn: 16.3496815\ttotal: 41ms\tremaining: 4.56ms\n",
      "18:\tlearn: 16.1311356\ttotal: 43ms\tremaining: 2.26ms\n",
      "19:\tlearn: 15.8858877\ttotal: 45ms\tremaining: 0us\n",
      "[CV] END ....learning_rate=0.4, max_depth=5, n_estimators=20; total time=   0.7s\n",
      "0:\tlearn: 27.2241783\ttotal: 4.26ms\tremaining: 80.9ms\n",
      "1:\tlearn: 24.2193604\ttotal: 8.1ms\tremaining: 72.9ms\n",
      "2:\tlearn: 22.4101251\ttotal: 11.8ms\tremaining: 67ms\n",
      "3:\tlearn: 21.4665730\ttotal: 14.3ms\tremaining: 57.3ms\n",
      "4:\tlearn: 20.8236759\ttotal: 16.8ms\tremaining: 50.5ms\n",
      "5:\tlearn: 20.3027923\ttotal: 19.2ms\tremaining: 44.8ms\n",
      "6:\tlearn: 19.8524222\ttotal: 21.6ms\tremaining: 40.1ms\n",
      "7:\tlearn: 19.4170675\ttotal: 23.9ms\tremaining: 35.8ms\n",
      "8:\tlearn: 19.0418138\ttotal: 26.2ms\tremaining: 32ms\n",
      "9:\tlearn: 18.8541267\ttotal: 28.6ms\tremaining: 28.6ms\n",
      "10:\tlearn: 18.6832000\ttotal: 31ms\tremaining: 25.3ms\n",
      "11:\tlearn: 18.4288577\ttotal: 33.3ms\tremaining: 22.2ms\n",
      "12:\tlearn: 18.2337654\ttotal: 35.4ms\tremaining: 19.1ms\n",
      "13:\tlearn: 18.0447822\ttotal: 37.8ms\tremaining: 16.2ms\n",
      "14:\tlearn: 17.9679339\ttotal: 40.2ms\tremaining: 13.4ms\n",
      "15:\tlearn: 17.7689065\ttotal: 42.5ms\tremaining: 10.6ms\n",
      "16:\tlearn: 17.5275988\ttotal: 45.1ms\tremaining: 7.96ms\n",
      "17:\tlearn: 17.3859060\ttotal: 47.3ms\tremaining: 5.26ms\n",
      "18:\tlearn: 17.2766390\ttotal: 49.7ms\tremaining: 2.62ms\n",
      "19:\tlearn: 17.1674080\ttotal: 52ms\tremaining: 0us\n",
      "[CV] END ....learning_rate=0.4, max_depth=5, n_estimators=20; total time=   0.8s\n",
      "0:\tlearn: 27.7503055\ttotal: 3.36ms\tremaining: 63.9ms\n",
      "1:\tlearn: 24.7947154\ttotal: 6.18ms\tremaining: 55.6ms\n",
      "2:\tlearn: 23.2470299\ttotal: 8.88ms\tremaining: 50.3ms\n",
      "3:\tlearn: 22.4530784\ttotal: 11.8ms\tremaining: 47ms\n",
      "4:\tlearn: 21.9407523\ttotal: 14.4ms\tremaining: 43.1ms\n",
      "5:\tlearn: 21.5025277\ttotal: 17.1ms\tremaining: 39.9ms\n",
      "6:\tlearn: 21.0614471\ttotal: 19.7ms\tremaining: 36.6ms\n",
      "7:\tlearn: 20.7409445\ttotal: 22.5ms\tremaining: 33.7ms\n",
      "8:\tlearn: 20.4926986\ttotal: 25.2ms\tremaining: 30.8ms\n",
      "9:\tlearn: 20.1942885\ttotal: 27.8ms\tremaining: 27.8ms\n",
      "10:\tlearn: 20.0465475\ttotal: 30.4ms\tremaining: 24.8ms\n",
      "11:\tlearn: 19.8598873\ttotal: 32.7ms\tremaining: 21.8ms\n",
      "12:\tlearn: 19.6947677\ttotal: 35.2ms\tremaining: 18.9ms\n",
      "13:\tlearn: 19.5284574\ttotal: 37.8ms\tremaining: 16.2ms\n",
      "14:\tlearn: 19.4159643\ttotal: 40.5ms\tremaining: 13.5ms\n",
      "15:\tlearn: 19.2647359\ttotal: 43.7ms\tremaining: 10.9ms\n",
      "16:\tlearn: 19.0849419\ttotal: 47.9ms\tremaining: 8.45ms\n",
      "17:\tlearn: 18.8735457\ttotal: 52.2ms\tremaining: 5.8ms\n",
      "18:\tlearn: 18.7262714\ttotal: 56.8ms\tremaining: 2.99ms\n",
      "19:\tlearn: 18.6155150\ttotal: 60.5ms\tremaining: 0us\n",
      "[CV] END ....learning_rate=0.4, max_depth=5, n_estimators=20; total time=   1.1s\n",
      "0:\tlearn: 28.8101751\ttotal: 3.54ms\tremaining: 67.4ms\n",
      "1:\tlearn: 25.7546265\ttotal: 6.66ms\tremaining: 60ms\n",
      "2:\tlearn: 24.1407587\ttotal: 9.63ms\tremaining: 54.6ms\n",
      "3:\tlearn: 23.3859369\ttotal: 12.5ms\tremaining: 50.1ms\n",
      "4:\tlearn: 22.7807569\ttotal: 15.2ms\tremaining: 45.7ms\n",
      "5:\tlearn: 22.2858530\ttotal: 18.1ms\tremaining: 42.3ms\n",
      "6:\tlearn: 21.9631313\ttotal: 21ms\tremaining: 39ms\n",
      "7:\tlearn: 21.6520295\ttotal: 24.3ms\tremaining: 36.5ms\n",
      "8:\tlearn: 21.1339193\ttotal: 27.4ms\tremaining: 33.5ms\n",
      "9:\tlearn: 20.9290756\ttotal: 30.4ms\tremaining: 30.4ms\n",
      "10:\tlearn: 20.7644251\ttotal: 33.2ms\tremaining: 27.2ms\n",
      "11:\tlearn: 20.5708576\ttotal: 36.1ms\tremaining: 24ms\n",
      "12:\tlearn: 20.4558316\ttotal: 39ms\tremaining: 21ms\n",
      "13:\tlearn: 20.3412522\ttotal: 41.7ms\tremaining: 17.9ms\n",
      "14:\tlearn: 20.2874710\ttotal: 44.7ms\tremaining: 14.9ms\n",
      "15:\tlearn: 20.1060204\ttotal: 47.8ms\tremaining: 11.9ms\n",
      "16:\tlearn: 19.9361492\ttotal: 50.7ms\tremaining: 8.95ms\n",
      "17:\tlearn: 19.7843410\ttotal: 53.7ms\tremaining: 5.97ms\n",
      "18:\tlearn: 19.7044793\ttotal: 56.8ms\tremaining: 2.99ms\n",
      "19:\tlearn: 19.5995643\ttotal: 60.2ms\tremaining: 0us\n",
      "[CV] END ....learning_rate=0.4, max_depth=5, n_estimators=20; total time=   1.1s\n",
      "0:\tlearn: 24.6996631\ttotal: 2.36ms\tremaining: 68.4ms\n",
      "1:\tlearn: 21.8408689\ttotal: 5.14ms\tremaining: 71.9ms\n",
      "2:\tlearn: 20.3577380\ttotal: 7.33ms\tremaining: 65.9ms\n",
      "3:\tlearn: 19.3725841\ttotal: 9.3ms\tremaining: 60.5ms\n",
      "4:\tlearn: 18.6550865\ttotal: 11ms\tremaining: 55ms\n",
      "5:\tlearn: 18.0153289\ttotal: 12.7ms\tremaining: 50.9ms\n",
      "6:\tlearn: 17.6147520\ttotal: 14.6ms\tremaining: 47.9ms\n",
      "7:\tlearn: 17.2314949\ttotal: 16.3ms\tremaining: 44.8ms\n",
      "8:\tlearn: 16.7137388\ttotal: 18.4ms\tremaining: 42.9ms\n",
      "9:\tlearn: 16.4332350\ttotal: 20.5ms\tremaining: 41ms\n",
      "10:\tlearn: 16.1157586\ttotal: 22.3ms\tremaining: 38.6ms\n",
      "11:\tlearn: 15.8008092\ttotal: 24.4ms\tremaining: 36.7ms\n",
      "12:\tlearn: 15.4536138\ttotal: 26.6ms\tremaining: 34.7ms\n",
      "13:\tlearn: 15.2128963\ttotal: 28.9ms\tremaining: 33ms\n",
      "14:\tlearn: 15.0181506\ttotal: 31.1ms\tremaining: 31.1ms\n",
      "15:\tlearn: 14.6966359\ttotal: 33.3ms\tremaining: 29.2ms\n",
      "16:\tlearn: 14.4857901\ttotal: 35.7ms\tremaining: 27.3ms\n",
      "17:\tlearn: 14.3525246\ttotal: 37.8ms\tremaining: 25.2ms\n",
      "18:\tlearn: 13.9544405\ttotal: 40ms\tremaining: 23.1ms\n",
      "19:\tlearn: 13.6946588\ttotal: 42.3ms\tremaining: 21.1ms\n",
      "20:\tlearn: 13.5351065\ttotal: 45.1ms\tremaining: 19.3ms\n",
      "21:\tlearn: 13.1541244\ttotal: 48.4ms\tremaining: 17.6ms\n",
      "22:\tlearn: 12.8002262\ttotal: 51.1ms\tremaining: 15.6ms\n",
      "23:\tlearn: 12.7182471\ttotal: 53.6ms\tremaining: 13.4ms\n",
      "24:\tlearn: 12.5075437\ttotal: 56.2ms\tremaining: 11.2ms\n",
      "25:\tlearn: 12.4494414\ttotal: 58.4ms\tremaining: 8.99ms\n",
      "26:\tlearn: 12.0137109\ttotal: 60.2ms\tremaining: 6.69ms\n",
      "27:\tlearn: 11.8718679\ttotal: 62.6ms\tremaining: 4.47ms\n",
      "28:\tlearn: 11.6232058\ttotal: 64.4ms\tremaining: 2.22ms\n",
      "29:\tlearn: 11.2032210\ttotal: 66.6ms\tremaining: 0us\n",
      "[CV] END ....learning_rate=0.4, max_depth=5, n_estimators=30; total time=   0.9s\n",
      "0:\tlearn: 26.3977235\ttotal: 2.24ms\tremaining: 65ms\n",
      "1:\tlearn: 23.2943657\ttotal: 4.35ms\tremaining: 60.9ms\n",
      "2:\tlearn: 21.4865699\ttotal: 6.46ms\tremaining: 58.1ms\n",
      "3:\tlearn: 20.6482130\ttotal: 8.59ms\tremaining: 55.8ms\n",
      "4:\tlearn: 19.8678732\ttotal: 10.8ms\tremaining: 53.9ms\n",
      "5:\tlearn: 19.2740113\ttotal: 12.9ms\tremaining: 51.6ms\n",
      "6:\tlearn: 19.0369942\ttotal: 14.8ms\tremaining: 48.7ms\n",
      "7:\tlearn: 18.5796166\ttotal: 16.9ms\tremaining: 46.4ms\n",
      "8:\tlearn: 18.2102752\ttotal: 18.9ms\tremaining: 44ms\n",
      "9:\tlearn: 17.9620208\ttotal: 20.9ms\tremaining: 41.9ms\n",
      "10:\tlearn: 17.7197069\ttotal: 23.3ms\tremaining: 40.2ms\n",
      "11:\tlearn: 17.4855852\ttotal: 25.2ms\tremaining: 37.8ms\n",
      "12:\tlearn: 17.1750809\ttotal: 27.2ms\tremaining: 35.6ms\n",
      "13:\tlearn: 16.9589880\ttotal: 29.2ms\tremaining: 33.4ms\n",
      "14:\tlearn: 16.8525207\ttotal: 31.2ms\tremaining: 31.2ms\n",
      "15:\tlearn: 16.7056994\ttotal: 33.1ms\tremaining: 29ms\n",
      "16:\tlearn: 16.4938727\ttotal: 35.1ms\tremaining: 26.9ms\n",
      "17:\tlearn: 16.3496815\ttotal: 37.3ms\tremaining: 24.8ms\n",
      "18:\tlearn: 16.1311356\ttotal: 39.3ms\tremaining: 22.7ms\n",
      "19:\tlearn: 15.8858877\ttotal: 41.2ms\tremaining: 20.6ms\n",
      "20:\tlearn: 15.7955560\ttotal: 43.2ms\tremaining: 18.5ms\n",
      "21:\tlearn: 15.6858458\ttotal: 45ms\tremaining: 16.4ms\n",
      "22:\tlearn: 15.4682851\ttotal: 47.9ms\tremaining: 14.6ms\n",
      "23:\tlearn: 15.2184058\ttotal: 51ms\tremaining: 12.8ms\n",
      "24:\tlearn: 15.0065069\ttotal: 53.9ms\tremaining: 10.8ms\n",
      "25:\tlearn: 14.7274394\ttotal: 56.9ms\tremaining: 8.76ms\n",
      "26:\tlearn: 14.6244944\ttotal: 59.8ms\tremaining: 6.65ms\n",
      "27:\tlearn: 14.4362903\ttotal: 62.8ms\tremaining: 4.48ms\n",
      "28:\tlearn: 14.3433406\ttotal: 65.6ms\tremaining: 2.26ms\n",
      "29:\tlearn: 14.2056343\ttotal: 68.4ms\tremaining: 0us\n",
      "[CV] END ....learning_rate=0.4, max_depth=5, n_estimators=30; total time=   0.7s\n",
      "0:\tlearn: 27.2241783\ttotal: 2.6ms\tremaining: 75.4ms\n",
      "1:\tlearn: 24.2193604\ttotal: 5.2ms\tremaining: 72.8ms\n",
      "2:\tlearn: 22.4101251\ttotal: 8.62ms\tremaining: 77.6ms\n",
      "3:\tlearn: 21.4665730\ttotal: 12.1ms\tremaining: 78.9ms\n",
      "4:\tlearn: 20.8236759\ttotal: 15.5ms\tremaining: 77.6ms\n",
      "5:\tlearn: 20.3027923\ttotal: 18.8ms\tremaining: 75.4ms\n",
      "6:\tlearn: 19.8524222\ttotal: 22.2ms\tremaining: 72.8ms\n",
      "7:\tlearn: 19.4170675\ttotal: 24.9ms\tremaining: 68.6ms\n",
      "8:\tlearn: 19.0418138\ttotal: 27.3ms\tremaining: 63.6ms\n",
      "9:\tlearn: 18.8541267\ttotal: 29.6ms\tremaining: 59.2ms\n",
      "10:\tlearn: 18.6832000\ttotal: 31.8ms\tremaining: 54.9ms\n",
      "11:\tlearn: 18.4288577\ttotal: 33.9ms\tremaining: 50.9ms\n",
      "12:\tlearn: 18.2337654\ttotal: 36.3ms\tremaining: 47.5ms\n",
      "13:\tlearn: 18.0447822\ttotal: 39ms\tremaining: 44.6ms\n",
      "14:\tlearn: 17.9679339\ttotal: 41.4ms\tremaining: 41.4ms\n",
      "15:\tlearn: 17.7689065\ttotal: 43.8ms\tremaining: 38.3ms\n",
      "16:\tlearn: 17.5275988\ttotal: 46.3ms\tremaining: 35.4ms\n",
      "17:\tlearn: 17.3859060\ttotal: 48.6ms\tremaining: 32.4ms\n",
      "18:\tlearn: 17.2766390\ttotal: 51.2ms\tremaining: 29.7ms\n",
      "19:\tlearn: 17.1674080\ttotal: 53.4ms\tremaining: 26.7ms\n",
      "20:\tlearn: 17.1050900\ttotal: 55.9ms\tremaining: 24ms\n",
      "21:\tlearn: 16.8630711\ttotal: 59.4ms\tremaining: 21.6ms\n",
      "22:\tlearn: 16.7035429\ttotal: 62.9ms\tremaining: 19.1ms\n",
      "23:\tlearn: 16.4783034\ttotal: 65.4ms\tremaining: 16.4ms\n",
      "24:\tlearn: 16.3076435\ttotal: 68.8ms\tremaining: 13.8ms\n",
      "25:\tlearn: 16.2909625\ttotal: 72.5ms\tremaining: 11.1ms\n",
      "26:\tlearn: 16.1065568\ttotal: 76.4ms\tremaining: 8.49ms\n",
      "27:\tlearn: 15.9360825\ttotal: 79.4ms\tremaining: 5.67ms\n",
      "28:\tlearn: 15.9226496\ttotal: 82.2ms\tremaining: 2.83ms\n",
      "29:\tlearn: 15.7744314\ttotal: 84.9ms\tremaining: 0us\n",
      "[CV] END ....learning_rate=0.4, max_depth=5, n_estimators=30; total time=   0.7s\n",
      "0:\tlearn: 27.7503055\ttotal: 4.37ms\tremaining: 127ms\n",
      "1:\tlearn: 24.7947154\ttotal: 8.31ms\tremaining: 116ms\n",
      "2:\tlearn: 23.2470299\ttotal: 11.7ms\tremaining: 106ms\n",
      "3:\tlearn: 22.4530784\ttotal: 14.4ms\tremaining: 93.7ms\n",
      "4:\tlearn: 21.9407523\ttotal: 17ms\tremaining: 84.8ms\n",
      "5:\tlearn: 21.5025277\ttotal: 19.4ms\tremaining: 77.7ms\n",
      "6:\tlearn: 21.0614471\ttotal: 21.9ms\tremaining: 72ms\n",
      "7:\tlearn: 20.7409445\ttotal: 24.5ms\tremaining: 67.5ms\n",
      "8:\tlearn: 20.4926986\ttotal: 27.2ms\tremaining: 63.5ms\n",
      "9:\tlearn: 20.1942885\ttotal: 29.7ms\tremaining: 59.4ms\n",
      "10:\tlearn: 20.0465475\ttotal: 32.2ms\tremaining: 55.6ms\n",
      "11:\tlearn: 19.8598873\ttotal: 34.6ms\tremaining: 52ms\n",
      "12:\tlearn: 19.6947677\ttotal: 37ms\tremaining: 48.4ms\n",
      "13:\tlearn: 19.5284574\ttotal: 39.7ms\tremaining: 45.4ms\n",
      "14:\tlearn: 19.4159643\ttotal: 42.4ms\tremaining: 42.4ms\n",
      "15:\tlearn: 19.2647359\ttotal: 44.9ms\tremaining: 39.3ms\n",
      "16:\tlearn: 19.0849419\ttotal: 47.6ms\tremaining: 36.4ms\n",
      "17:\tlearn: 18.8735457\ttotal: 50.1ms\tremaining: 33.4ms\n",
      "18:\tlearn: 18.7262714\ttotal: 52.8ms\tremaining: 30.6ms\n",
      "19:\tlearn: 18.6155150\ttotal: 55.6ms\tremaining: 27.8ms\n",
      "20:\tlearn: 18.5068308\ttotal: 58.1ms\tremaining: 24.9ms\n",
      "21:\tlearn: 18.4812223\ttotal: 60.5ms\tremaining: 22ms\n",
      "22:\tlearn: 18.2302536\ttotal: 63.1ms\tremaining: 19.2ms\n",
      "23:\tlearn: 18.0524488\ttotal: 65.9ms\tremaining: 16.5ms\n",
      "24:\tlearn: 17.9525842\ttotal: 68.6ms\tremaining: 13.7ms\n",
      "25:\tlearn: 17.9259377\ttotal: 72.5ms\tremaining: 11.1ms\n",
      "26:\tlearn: 17.7694271\ttotal: 76.6ms\tremaining: 8.52ms\n",
      "27:\tlearn: 17.5468160\ttotal: 80.5ms\tremaining: 5.75ms\n",
      "28:\tlearn: 17.3944190\ttotal: 84.2ms\tremaining: 2.9ms\n",
      "29:\tlearn: 17.2899833\ttotal: 88.7ms\tremaining: 0us\n",
      "[CV] END ....learning_rate=0.4, max_depth=5, n_estimators=30; total time=   1.1s\n",
      "0:\tlearn: 28.8101751\ttotal: 3.46ms\tremaining: 100ms\n",
      "1:\tlearn: 25.7546265\ttotal: 6.58ms\tremaining: 92.1ms\n",
      "2:\tlearn: 24.1407587\ttotal: 9.7ms\tremaining: 87.3ms\n",
      "3:\tlearn: 23.3859369\ttotal: 12.9ms\tremaining: 83.6ms\n",
      "4:\tlearn: 22.7807569\ttotal: 16.5ms\tremaining: 82.5ms\n",
      "5:\tlearn: 22.2858530\ttotal: 19.8ms\tremaining: 79.2ms\n",
      "6:\tlearn: 21.9631313\ttotal: 22.4ms\tremaining: 73.7ms\n",
      "7:\tlearn: 21.6520295\ttotal: 25.3ms\tremaining: 69.5ms\n",
      "8:\tlearn: 21.1339193\ttotal: 28ms\tremaining: 65.4ms\n",
      "9:\tlearn: 20.9290756\ttotal: 31.1ms\tremaining: 62.3ms\n",
      "10:\tlearn: 20.7644251\ttotal: 34ms\tremaining: 58.6ms\n",
      "11:\tlearn: 20.5708576\ttotal: 37ms\tremaining: 55.5ms\n",
      "12:\tlearn: 20.4558316\ttotal: 39.8ms\tremaining: 52.1ms\n",
      "13:\tlearn: 20.3412522\ttotal: 47.1ms\tremaining: 53.8ms\n",
      "14:\tlearn: 20.2874710\ttotal: 51ms\tremaining: 51ms\n",
      "15:\tlearn: 20.1060204\ttotal: 55.3ms\tremaining: 48.4ms\n",
      "16:\tlearn: 19.9361492\ttotal: 61.3ms\tremaining: 46.8ms\n",
      "17:\tlearn: 19.7843410\ttotal: 65.1ms\tremaining: 43.4ms\n",
      "18:\tlearn: 19.7044793\ttotal: 69.5ms\tremaining: 40.2ms\n",
      "19:\tlearn: 19.5995643\ttotal: 73.1ms\tremaining: 36.5ms\n",
      "20:\tlearn: 19.4767389\ttotal: 75.8ms\tremaining: 32.5ms\n",
      "21:\tlearn: 19.3871097\ttotal: 78.6ms\tremaining: 28.6ms\n",
      "22:\tlearn: 19.2522863\ttotal: 81.5ms\tremaining: 24.8ms\n",
      "23:\tlearn: 19.1673050\ttotal: 84.1ms\tremaining: 21ms\n",
      "24:\tlearn: 19.0119612\ttotal: 87ms\tremaining: 17.4ms\n",
      "25:\tlearn: 18.9986400\ttotal: 89.5ms\tremaining: 13.8ms\n",
      "26:\tlearn: 18.8938583\ttotal: 92.1ms\tremaining: 10.2ms\n",
      "27:\tlearn: 18.6950974\ttotal: 95ms\tremaining: 6.78ms\n",
      "28:\tlearn: 18.5344428\ttotal: 97.8ms\tremaining: 3.37ms\n",
      "29:\tlearn: 18.4138759\ttotal: 101ms\tremaining: 0us\n",
      "[CV] END ....learning_rate=0.4, max_depth=5, n_estimators=30; total time=   0.9s\n",
      "0:\tlearn: 24.6996631\ttotal: 2.03ms\tremaining: 79.1ms\n",
      "1:\tlearn: 21.8408689\ttotal: 4.04ms\tremaining: 76.8ms\n",
      "2:\tlearn: 20.3577380\ttotal: 5.95ms\tremaining: 73.4ms\n",
      "3:\tlearn: 19.3725841\ttotal: 7.78ms\tremaining: 70ms\n",
      "4:\tlearn: 18.6550865\ttotal: 9.61ms\tremaining: 67.3ms\n",
      "5:\tlearn: 18.0153289\ttotal: 11.4ms\tremaining: 64.5ms\n",
      "6:\tlearn: 17.6147520\ttotal: 13.2ms\tremaining: 62ms\n",
      "7:\tlearn: 17.2314949\ttotal: 15.1ms\tremaining: 60.4ms\n",
      "8:\tlearn: 16.7137388\ttotal: 17ms\tremaining: 58.4ms\n",
      "9:\tlearn: 16.4332350\ttotal: 18.7ms\tremaining: 56.1ms\n",
      "10:\tlearn: 16.1157586\ttotal: 20.4ms\tremaining: 53.7ms\n",
      "11:\tlearn: 15.8008092\ttotal: 22.2ms\tremaining: 51.9ms\n",
      "12:\tlearn: 15.4536138\ttotal: 24.4ms\tremaining: 50.7ms\n",
      "13:\tlearn: 15.2128963\ttotal: 27.2ms\tremaining: 50.5ms\n",
      "14:\tlearn: 15.0181506\ttotal: 30.1ms\tremaining: 50.1ms\n",
      "15:\tlearn: 14.6966359\ttotal: 32.6ms\tremaining: 49ms\n",
      "16:\tlearn: 14.4857901\ttotal: 37.4ms\tremaining: 50.6ms\n",
      "17:\tlearn: 14.3525246\ttotal: 39.2ms\tremaining: 47.9ms\n",
      "18:\tlearn: 13.9544405\ttotal: 41ms\tremaining: 45.3ms\n",
      "19:\tlearn: 13.6946588\ttotal: 42.8ms\tremaining: 42.8ms\n",
      "20:\tlearn: 13.5351065\ttotal: 44.7ms\tremaining: 40.4ms\n",
      "21:\tlearn: 13.1541244\ttotal: 46.4ms\tremaining: 38ms\n",
      "22:\tlearn: 12.8002262\ttotal: 48.3ms\tremaining: 35.7ms\n",
      "23:\tlearn: 12.7182471\ttotal: 50ms\tremaining: 33.4ms\n",
      "24:\tlearn: 12.5075437\ttotal: 51.8ms\tremaining: 31.1ms\n",
      "25:\tlearn: 12.4494414\ttotal: 53.9ms\tremaining: 29ms\n",
      "26:\tlearn: 12.0137109\ttotal: 55.7ms\tremaining: 26.8ms\n",
      "27:\tlearn: 11.8718679\ttotal: 58.7ms\tremaining: 25.2ms\n",
      "28:\tlearn: 11.6232058\ttotal: 60.5ms\tremaining: 23ms\n",
      "29:\tlearn: 11.2032210\ttotal: 62.2ms\tremaining: 20.7ms\n",
      "30:\tlearn: 11.1124320\ttotal: 64ms\tremaining: 18.6ms\n",
      "31:\tlearn: 11.0821719\ttotal: 65.7ms\tremaining: 16.4ms\n",
      "32:\tlearn: 10.7448611\ttotal: 67.8ms\tremaining: 14.4ms\n",
      "33:\tlearn: 10.4644129\ttotal: 69.7ms\tremaining: 12.3ms\n",
      "34:\tlearn: 10.3094244\ttotal: 72.4ms\tremaining: 10.3ms\n",
      "35:\tlearn: 10.1133868\ttotal: 74.3ms\tremaining: 8.26ms\n",
      "36:\tlearn: 9.9773543\ttotal: 76.2ms\tremaining: 6.18ms\n",
      "37:\tlearn: 9.8006016\ttotal: 78.1ms\tremaining: 4.11ms\n",
      "38:\tlearn: 9.5804635\ttotal: 80.1ms\tremaining: 2.05ms\n",
      "39:\tlearn: 9.5426047\ttotal: 82.1ms\tremaining: 0us\n",
      "[CV] END ....learning_rate=0.4, max_depth=5, n_estimators=40; total time=   0.6s\n",
      "0:\tlearn: 26.3977235\ttotal: 2.43ms\tremaining: 94.7ms\n",
      "1:\tlearn: 23.2943657\ttotal: 9.13ms\tremaining: 174ms\n",
      "2:\tlearn: 21.4865699\ttotal: 12.2ms\tremaining: 151ms\n",
      "3:\tlearn: 20.6482130\ttotal: 15.1ms\tremaining: 136ms\n",
      "4:\tlearn: 19.8678732\ttotal: 18.1ms\tremaining: 127ms\n",
      "5:\tlearn: 19.2740113\ttotal: 21ms\tremaining: 119ms\n",
      "6:\tlearn: 19.0369942\ttotal: 23.3ms\tremaining: 110ms\n",
      "7:\tlearn: 18.5796166\ttotal: 25.4ms\tremaining: 101ms\n",
      "8:\tlearn: 18.2102752\ttotal: 27.4ms\tremaining: 94.3ms\n",
      "9:\tlearn: 17.9620208\ttotal: 29.4ms\tremaining: 88.3ms\n",
      "10:\tlearn: 17.7197069\ttotal: 31.4ms\tremaining: 82.9ms\n",
      "11:\tlearn: 17.4855852\ttotal: 33.4ms\tremaining: 78ms\n",
      "12:\tlearn: 17.1750809\ttotal: 35.5ms\tremaining: 73.6ms\n",
      "13:\tlearn: 16.9589880\ttotal: 37.6ms\tremaining: 69.9ms\n",
      "14:\tlearn: 16.8525207\ttotal: 40ms\tremaining: 66.6ms\n",
      "15:\tlearn: 16.7056994\ttotal: 42.1ms\tremaining: 63.2ms\n",
      "16:\tlearn: 16.4938727\ttotal: 44.1ms\tremaining: 59.7ms\n",
      "17:\tlearn: 16.3496815\ttotal: 46.2ms\tremaining: 56.5ms\n",
      "18:\tlearn: 16.1311356\ttotal: 48.4ms\tremaining: 53.5ms\n",
      "19:\tlearn: 15.8858877\ttotal: 50.5ms\tremaining: 50.5ms\n",
      "20:\tlearn: 15.7955560\ttotal: 52.5ms\tremaining: 47.5ms\n",
      "21:\tlearn: 15.6858458\ttotal: 54.5ms\tremaining: 44.6ms\n",
      "22:\tlearn: 15.4682851\ttotal: 56.5ms\tremaining: 41.8ms\n",
      "23:\tlearn: 15.2184058\ttotal: 58.5ms\tremaining: 39ms\n",
      "24:\tlearn: 15.0065069\ttotal: 60.5ms\tremaining: 36.3ms\n",
      "25:\tlearn: 14.7274394\ttotal: 62.7ms\tremaining: 33.8ms\n",
      "26:\tlearn: 14.6244944\ttotal: 64.7ms\tremaining: 31.2ms\n",
      "27:\tlearn: 14.4362903\ttotal: 66.7ms\tremaining: 28.6ms\n",
      "28:\tlearn: 14.3433406\ttotal: 68.7ms\tremaining: 26.1ms\n",
      "29:\tlearn: 14.2056343\ttotal: 70.9ms\tremaining: 23.6ms\n",
      "30:\tlearn: 14.1814274\ttotal: 73ms\tremaining: 21.2ms\n",
      "31:\tlearn: 14.0183921\ttotal: 75.3ms\tremaining: 18.8ms\n",
      "32:\tlearn: 13.8975860\ttotal: 77.4ms\tremaining: 16.4ms\n",
      "33:\tlearn: 13.6905250\ttotal: 79.8ms\tremaining: 14.1ms\n",
      "34:\tlearn: 13.4624006\ttotal: 82ms\tremaining: 11.7ms\n",
      "35:\tlearn: 13.3193429\ttotal: 86.2ms\tremaining: 9.57ms\n",
      "36:\tlearn: 13.3000269\ttotal: 89.3ms\tremaining: 7.24ms\n",
      "37:\tlearn: 13.2229688\ttotal: 92.5ms\tremaining: 4.87ms\n",
      "38:\tlearn: 13.0897763\ttotal: 95.2ms\tremaining: 2.44ms\n",
      "39:\tlearn: 13.0398226\ttotal: 97.3ms\tremaining: 0us\n",
      "[CV] END ....learning_rate=0.4, max_depth=5, n_estimators=40; total time=   0.9s\n",
      "0:\tlearn: 27.2241783\ttotal: 2.53ms\tremaining: 98.8ms\n",
      "1:\tlearn: 24.2193604\ttotal: 5.14ms\tremaining: 97.6ms\n",
      "2:\tlearn: 22.4101251\ttotal: 7.68ms\tremaining: 94.8ms\n",
      "3:\tlearn: 21.4665730\ttotal: 10.3ms\tremaining: 92.4ms\n",
      "4:\tlearn: 20.8236759\ttotal: 12.6ms\tremaining: 88.4ms\n",
      "5:\tlearn: 20.3027923\ttotal: 15ms\tremaining: 84.8ms\n",
      "6:\tlearn: 19.8524222\ttotal: 17.3ms\tremaining: 81.5ms\n",
      "7:\tlearn: 19.4170675\ttotal: 19.5ms\tremaining: 78ms\n",
      "8:\tlearn: 19.0418138\ttotal: 21.9ms\tremaining: 75.5ms\n",
      "9:\tlearn: 18.8541267\ttotal: 24.4ms\tremaining: 73.1ms\n",
      "10:\tlearn: 18.6832000\ttotal: 26.6ms\tremaining: 70ms\n",
      "11:\tlearn: 18.4288577\ttotal: 28.8ms\tremaining: 67.2ms\n",
      "12:\tlearn: 18.2337654\ttotal: 31ms\tremaining: 64.5ms\n",
      "13:\tlearn: 18.0447822\ttotal: 33.2ms\tremaining: 61.7ms\n",
      "14:\tlearn: 17.9679339\ttotal: 35.6ms\tremaining: 59.4ms\n",
      "15:\tlearn: 17.7689065\ttotal: 37.9ms\tremaining: 56.9ms\n",
      "16:\tlearn: 17.5275988\ttotal: 40.1ms\tremaining: 54.3ms\n",
      "17:\tlearn: 17.3859060\ttotal: 43.4ms\tremaining: 53ms\n",
      "18:\tlearn: 17.2766390\ttotal: 48.2ms\tremaining: 53.2ms\n",
      "19:\tlearn: 17.1674080\ttotal: 51.4ms\tremaining: 51.4ms\n",
      "20:\tlearn: 17.1050900\ttotal: 53.8ms\tremaining: 48.7ms\n",
      "21:\tlearn: 16.8630711\ttotal: 56.1ms\tremaining: 45.9ms\n",
      "22:\tlearn: 16.7035429\ttotal: 58.4ms\tremaining: 43.2ms\n",
      "23:\tlearn: 16.4783034\ttotal: 60.6ms\tremaining: 40.4ms\n",
      "24:\tlearn: 16.3076435\ttotal: 62.9ms\tremaining: 37.8ms\n",
      "25:\tlearn: 16.2909625\ttotal: 65.3ms\tremaining: 35.1ms\n",
      "26:\tlearn: 16.1065568\ttotal: 67.6ms\tremaining: 32.5ms\n",
      "27:\tlearn: 15.9360825\ttotal: 69.8ms\tremaining: 29.9ms\n",
      "28:\tlearn: 15.9226496\ttotal: 72ms\tremaining: 27.3ms\n",
      "29:\tlearn: 15.7744314\ttotal: 74.4ms\tremaining: 24.8ms\n",
      "30:\tlearn: 15.6427894\ttotal: 76.7ms\tremaining: 22.3ms\n",
      "31:\tlearn: 15.5607300\ttotal: 79.3ms\tremaining: 19.8ms\n",
      "32:\tlearn: 15.3854048\ttotal: 81.5ms\tremaining: 17.3ms\n",
      "33:\tlearn: 15.3521930\ttotal: 83.7ms\tremaining: 14.8ms\n",
      "34:\tlearn: 15.1823238\ttotal: 86.1ms\tremaining: 12.3ms\n",
      "35:\tlearn: 15.0997302\ttotal: 88.3ms\tremaining: 9.81ms\n",
      "36:\tlearn: 15.0889504\ttotal: 90.6ms\tremaining: 7.34ms\n",
      "37:\tlearn: 14.9172254\ttotal: 93ms\tremaining: 4.89ms\n",
      "38:\tlearn: 14.8645596\ttotal: 95.3ms\tremaining: 2.44ms\n",
      "39:\tlearn: 14.6712065\ttotal: 97.6ms\tremaining: 0us\n",
      "[CV] END ....learning_rate=0.4, max_depth=5, n_estimators=40; total time=   0.8s\n",
      "0:\tlearn: 27.7503055\ttotal: 2.88ms\tremaining: 113ms\n",
      "1:\tlearn: 24.7947154\ttotal: 5.74ms\tremaining: 109ms\n",
      "2:\tlearn: 23.2470299\ttotal: 8.39ms\tremaining: 103ms\n",
      "3:\tlearn: 22.4530784\ttotal: 10.8ms\tremaining: 97.3ms\n",
      "4:\tlearn: 21.9407523\ttotal: 13.4ms\tremaining: 93.9ms\n",
      "5:\tlearn: 21.5025277\ttotal: 17.5ms\tremaining: 99.1ms\n",
      "6:\tlearn: 21.0614471\ttotal: 21.4ms\tremaining: 101ms\n",
      "7:\tlearn: 20.7409445\ttotal: 25.4ms\tremaining: 102ms\n",
      "8:\tlearn: 20.4926986\ttotal: 29.1ms\tremaining: 100ms\n",
      "9:\tlearn: 20.1942885\ttotal: 31.9ms\tremaining: 95.8ms\n",
      "10:\tlearn: 20.0465475\ttotal: 34.4ms\tremaining: 90.6ms\n",
      "11:\tlearn: 19.8598873\ttotal: 36.8ms\tremaining: 85.8ms\n",
      "12:\tlearn: 19.6947677\ttotal: 39.5ms\tremaining: 82ms\n",
      "13:\tlearn: 19.5284574\ttotal: 42.1ms\tremaining: 78.2ms\n",
      "14:\tlearn: 19.4159643\ttotal: 44.6ms\tremaining: 74.3ms\n",
      "15:\tlearn: 19.2647359\ttotal: 47ms\tremaining: 70.6ms\n",
      "16:\tlearn: 19.0849419\ttotal: 49.6ms\tremaining: 67ms\n",
      "17:\tlearn: 18.8735457\ttotal: 52.2ms\tremaining: 63.8ms\n",
      "18:\tlearn: 18.7262714\ttotal: 54.6ms\tremaining: 60.3ms\n",
      "19:\tlearn: 18.6155150\ttotal: 57.1ms\tremaining: 57.1ms\n",
      "20:\tlearn: 18.5068308\ttotal: 59.7ms\tremaining: 54ms\n",
      "21:\tlearn: 18.4812223\ttotal: 62.1ms\tremaining: 50.8ms\n",
      "22:\tlearn: 18.2302536\ttotal: 64.9ms\tremaining: 47.9ms\n",
      "23:\tlearn: 18.0524488\ttotal: 67.4ms\tremaining: 44.9ms\n",
      "24:\tlearn: 17.9525842\ttotal: 69.7ms\tremaining: 41.8ms\n",
      "25:\tlearn: 17.9259377\ttotal: 72.1ms\tremaining: 38.8ms\n",
      "26:\tlearn: 17.7694271\ttotal: 74.5ms\tremaining: 35.9ms\n",
      "27:\tlearn: 17.5468160\ttotal: 77.1ms\tremaining: 33ms\n",
      "28:\tlearn: 17.3944190\ttotal: 79.7ms\tremaining: 30.2ms\n",
      "29:\tlearn: 17.2899833\ttotal: 82.2ms\tremaining: 27.4ms\n",
      "30:\tlearn: 17.0892828\ttotal: 84.9ms\tremaining: 24.6ms\n",
      "31:\tlearn: 16.9888521\ttotal: 87.3ms\tremaining: 21.8ms\n",
      "32:\tlearn: 16.8625249\ttotal: 91ms\tremaining: 19.3ms\n",
      "33:\tlearn: 16.7464462\ttotal: 94.6ms\tremaining: 16.7ms\n",
      "34:\tlearn: 16.7325194\ttotal: 98.1ms\tremaining: 14ms\n",
      "35:\tlearn: 16.5575782\ttotal: 102ms\tremaining: 11.3ms\n",
      "36:\tlearn: 16.4266672\ttotal: 106ms\tremaining: 8.57ms\n",
      "37:\tlearn: 16.2922090\ttotal: 109ms\tremaining: 5.75ms\n",
      "38:\tlearn: 16.1534878\ttotal: 112ms\tremaining: 2.86ms\n",
      "39:\tlearn: 16.0165144\ttotal: 114ms\tremaining: 0us\n",
      "[CV] END ....learning_rate=0.4, max_depth=5, n_estimators=40; total time=   1.1s\n",
      "0:\tlearn: 28.8101751\ttotal: 3.15ms\tremaining: 123ms\n",
      "1:\tlearn: 25.7546265\ttotal: 6.26ms\tremaining: 119ms\n",
      "2:\tlearn: 24.1407587\ttotal: 9.46ms\tremaining: 117ms\n",
      "3:\tlearn: 23.3859369\ttotal: 12.3ms\tremaining: 111ms\n",
      "4:\tlearn: 22.7807569\ttotal: 15.1ms\tremaining: 106ms\n",
      "5:\tlearn: 22.2858530\ttotal: 18.3ms\tremaining: 104ms\n",
      "6:\tlearn: 21.9631313\ttotal: 21.2ms\tremaining: 100ms\n",
      "7:\tlearn: 21.6520295\ttotal: 24.5ms\tremaining: 98.1ms\n",
      "8:\tlearn: 21.1339193\ttotal: 27.3ms\tremaining: 94ms\n",
      "9:\tlearn: 20.9290756\ttotal: 30ms\tremaining: 90ms\n",
      "10:\tlearn: 20.7644251\ttotal: 32.7ms\tremaining: 86.3ms\n",
      "11:\tlearn: 20.5708576\ttotal: 35.7ms\tremaining: 83.4ms\n",
      "12:\tlearn: 20.4558316\ttotal: 38.7ms\tremaining: 80.4ms\n",
      "13:\tlearn: 20.3412522\ttotal: 41.7ms\tremaining: 77.4ms\n",
      "14:\tlearn: 20.2874710\ttotal: 44.5ms\tremaining: 74.1ms\n",
      "15:\tlearn: 20.1060204\ttotal: 47.3ms\tremaining: 71ms\n",
      "16:\tlearn: 19.9361492\ttotal: 50.5ms\tremaining: 68.3ms\n",
      "17:\tlearn: 19.7843410\ttotal: 53.2ms\tremaining: 65.1ms\n",
      "18:\tlearn: 19.7044793\ttotal: 56.4ms\tremaining: 62.3ms\n",
      "19:\tlearn: 19.5995643\ttotal: 60.3ms\tremaining: 60.3ms\n",
      "20:\tlearn: 19.4767389\ttotal: 64.4ms\tremaining: 58.3ms\n",
      "21:\tlearn: 19.3871097\ttotal: 68.5ms\tremaining: 56.1ms\n",
      "22:\tlearn: 19.2522863\ttotal: 72.7ms\tremaining: 53.7ms\n",
      "23:\tlearn: 19.1673050\ttotal: 76.6ms\tremaining: 51ms\n",
      "24:\tlearn: 19.0119612\ttotal: 80.7ms\tremaining: 48.4ms\n",
      "25:\tlearn: 18.9986400\ttotal: 84ms\tremaining: 45.2ms\n",
      "26:\tlearn: 18.8938583\ttotal: 86.9ms\tremaining: 41.8ms\n",
      "27:\tlearn: 18.6950974\ttotal: 89.7ms\tremaining: 38.5ms\n",
      "28:\tlearn: 18.5344428\ttotal: 92.6ms\tremaining: 35.1ms\n",
      "29:\tlearn: 18.4138759\ttotal: 95.4ms\tremaining: 31.8ms\n",
      "30:\tlearn: 18.2808583\ttotal: 98.2ms\tremaining: 28.5ms\n",
      "31:\tlearn: 18.1313430\ttotal: 101ms\tremaining: 25.2ms\n",
      "32:\tlearn: 18.0135337\ttotal: 104ms\tremaining: 22ms\n",
      "33:\tlearn: 17.8665726\ttotal: 107ms\tremaining: 18.8ms\n",
      "34:\tlearn: 17.7884274\ttotal: 111ms\tremaining: 15.8ms\n",
      "35:\tlearn: 17.6747244\ttotal: 114ms\tremaining: 12.7ms\n",
      "36:\tlearn: 17.6651727\ttotal: 117ms\tremaining: 9.46ms\n",
      "37:\tlearn: 17.5687625\ttotal: 119ms\tremaining: 6.29ms\n",
      "38:\tlearn: 17.4250796\ttotal: 122ms\tremaining: 3.13ms\n",
      "39:\tlearn: 17.3316579\ttotal: 125ms\tremaining: 0us\n",
      "[CV] END ....learning_rate=0.4, max_depth=5, n_estimators=40; total time=   0.9s\n",
      "0:\tlearn: 24.6996631\ttotal: 1.86ms\tremaining: 91.2ms\n",
      "1:\tlearn: 21.8408689\ttotal: 3.87ms\tremaining: 93ms\n",
      "2:\tlearn: 20.3577380\ttotal: 5.65ms\tremaining: 88.5ms\n",
      "3:\tlearn: 19.3725841\ttotal: 7.53ms\tremaining: 86.6ms\n",
      "4:\tlearn: 18.6550865\ttotal: 10.3ms\tremaining: 92.7ms\n",
      "5:\tlearn: 18.0153289\ttotal: 12.9ms\tremaining: 94.6ms\n",
      "6:\tlearn: 17.6147520\ttotal: 15.6ms\tremaining: 95.6ms\n",
      "7:\tlearn: 17.2314949\ttotal: 18.2ms\tremaining: 95.7ms\n",
      "8:\tlearn: 16.7137388\ttotal: 20.8ms\tremaining: 94.9ms\n",
      "9:\tlearn: 16.4332350\ttotal: 23.4ms\tremaining: 93.5ms\n",
      "10:\tlearn: 16.1157586\ttotal: 25.8ms\tremaining: 91.5ms\n",
      "11:\tlearn: 15.8008092\ttotal: 28.2ms\tremaining: 89.4ms\n",
      "12:\tlearn: 15.4536138\ttotal: 30.7ms\tremaining: 87.3ms\n",
      "13:\tlearn: 15.2128963\ttotal: 33.1ms\tremaining: 85ms\n",
      "14:\tlearn: 15.0181506\ttotal: 35.6ms\tremaining: 83.1ms\n",
      "15:\tlearn: 14.6966359\ttotal: 38.1ms\tremaining: 81ms\n",
      "16:\tlearn: 14.4857901\ttotal: 42.5ms\tremaining: 82.5ms\n",
      "17:\tlearn: 14.3525246\ttotal: 45ms\tremaining: 80.1ms\n",
      "18:\tlearn: 13.9544405\ttotal: 47.5ms\tremaining: 77.5ms\n",
      "19:\tlearn: 13.6946588\ttotal: 50.3ms\tremaining: 75.5ms\n",
      "20:\tlearn: 13.5351065\ttotal: 52ms\tremaining: 71.9ms\n",
      "21:\tlearn: 13.1541244\ttotal: 53.7ms\tremaining: 68.4ms\n",
      "22:\tlearn: 12.8002262\ttotal: 55.9ms\tremaining: 65.6ms\n",
      "23:\tlearn: 12.7182471\ttotal: 58ms\tremaining: 62.8ms\n",
      "24:\tlearn: 12.5075437\ttotal: 59.5ms\tremaining: 59.5ms\n",
      "25:\tlearn: 12.4494414\ttotal: 61.4ms\tremaining: 56.7ms\n",
      "26:\tlearn: 12.0137109\ttotal: 63ms\tremaining: 53.7ms\n",
      "27:\tlearn: 11.8718679\ttotal: 64.8ms\tremaining: 50.9ms\n",
      "28:\tlearn: 11.6232058\ttotal: 66.6ms\tremaining: 48.2ms\n",
      "29:\tlearn: 11.2032210\ttotal: 68.3ms\tremaining: 45.5ms\n",
      "30:\tlearn: 11.1124320\ttotal: 70ms\tremaining: 42.9ms\n",
      "31:\tlearn: 11.0821719\ttotal: 71.7ms\tremaining: 40.3ms\n",
      "32:\tlearn: 10.7448611\ttotal: 73.4ms\tremaining: 37.8ms\n",
      "33:\tlearn: 10.4644129\ttotal: 75.2ms\tremaining: 35.4ms\n",
      "34:\tlearn: 10.3094244\ttotal: 76.9ms\tremaining: 33ms\n",
      "35:\tlearn: 10.1133868\ttotal: 78.7ms\tremaining: 30.6ms\n",
      "36:\tlearn: 9.9773543\ttotal: 80.4ms\tremaining: 28.2ms\n",
      "37:\tlearn: 9.8006016\ttotal: 81.9ms\tremaining: 25.9ms\n",
      "38:\tlearn: 9.5804635\ttotal: 83.6ms\tremaining: 23.6ms\n",
      "39:\tlearn: 9.5426047\ttotal: 85.3ms\tremaining: 21.3ms\n",
      "40:\tlearn: 9.5183154\ttotal: 87.2ms\tremaining: 19.1ms\n",
      "41:\tlearn: 9.3463280\ttotal: 88.8ms\tremaining: 16.9ms\n",
      "42:\tlearn: 9.1518899\ttotal: 90.6ms\tremaining: 14.8ms\n",
      "43:\tlearn: 9.1244182\ttotal: 92.2ms\tremaining: 12.6ms\n",
      "44:\tlearn: 8.8988744\ttotal: 94.1ms\tremaining: 10.5ms\n",
      "45:\tlearn: 8.7098539\ttotal: 95.8ms\tremaining: 8.33ms\n",
      "46:\tlearn: 8.5549509\ttotal: 97.6ms\tremaining: 6.23ms\n",
      "47:\tlearn: 8.3797865\ttotal: 99.4ms\tremaining: 4.14ms\n",
      "48:\tlearn: 8.2511881\ttotal: 102ms\tremaining: 2.08ms\n",
      "49:\tlearn: 8.0284149\ttotal: 104ms\tremaining: 0us\n",
      "[CV] END ....learning_rate=0.4, max_depth=5, n_estimators=50; total time=   0.8s\n",
      "0:\tlearn: 26.3977235\ttotal: 2.31ms\tremaining: 113ms\n",
      "1:\tlearn: 23.2943657\ttotal: 4.86ms\tremaining: 117ms\n",
      "2:\tlearn: 21.4865699\ttotal: 7.1ms\tremaining: 111ms\n",
      "3:\tlearn: 20.6482130\ttotal: 9.13ms\tremaining: 105ms\n",
      "4:\tlearn: 19.8678732\ttotal: 11.5ms\tremaining: 103ms\n",
      "5:\tlearn: 19.2740113\ttotal: 13.6ms\tremaining: 100ms\n",
      "6:\tlearn: 19.0369942\ttotal: 15.6ms\tremaining: 96ms\n",
      "7:\tlearn: 18.5796166\ttotal: 17.9ms\tremaining: 93.9ms\n",
      "8:\tlearn: 18.2102752\ttotal: 19.9ms\tremaining: 90.6ms\n",
      "9:\tlearn: 17.9620208\ttotal: 21.9ms\tremaining: 87.5ms\n",
      "10:\tlearn: 17.7197069\ttotal: 24.1ms\tremaining: 85.3ms\n",
      "11:\tlearn: 17.4855852\ttotal: 26.2ms\tremaining: 83.1ms\n",
      "12:\tlearn: 17.1750809\ttotal: 28.3ms\tremaining: 80.4ms\n",
      "13:\tlearn: 16.9589880\ttotal: 30.3ms\tremaining: 78ms\n",
      "14:\tlearn: 16.8525207\ttotal: 32.6ms\tremaining: 76ms\n",
      "15:\tlearn: 16.7056994\ttotal: 34.7ms\tremaining: 73.8ms\n",
      "16:\tlearn: 16.4938727\ttotal: 36.8ms\tremaining: 71.4ms\n",
      "17:\tlearn: 16.3496815\ttotal: 39.1ms\tremaining: 69.5ms\n",
      "18:\tlearn: 16.1311356\ttotal: 41.4ms\tremaining: 67.5ms\n",
      "19:\tlearn: 15.8858877\ttotal: 44.1ms\tremaining: 66.1ms\n",
      "20:\tlearn: 15.7955560\ttotal: 47ms\tremaining: 65ms\n",
      "21:\tlearn: 15.6858458\ttotal: 50ms\tremaining: 63.7ms\n",
      "22:\tlearn: 15.4682851\ttotal: 53.1ms\tremaining: 62.3ms\n",
      "23:\tlearn: 15.2184058\ttotal: 56ms\tremaining: 60.7ms\n",
      "24:\tlearn: 15.0065069\ttotal: 59ms\tremaining: 59ms\n",
      "25:\tlearn: 14.7274394\ttotal: 61.7ms\tremaining: 57ms\n",
      "26:\tlearn: 14.6244944\ttotal: 65.3ms\tremaining: 55.6ms\n",
      "27:\tlearn: 14.4362903\ttotal: 67.8ms\tremaining: 53.3ms\n",
      "28:\tlearn: 14.3433406\ttotal: 69.8ms\tremaining: 50.6ms\n",
      "29:\tlearn: 14.2056343\ttotal: 72ms\tremaining: 48ms\n",
      "30:\tlearn: 14.1814274\ttotal: 73.9ms\tremaining: 45.3ms\n",
      "31:\tlearn: 14.0183921\ttotal: 76.3ms\tremaining: 42.9ms\n",
      "32:\tlearn: 13.8975860\ttotal: 78.6ms\tremaining: 40.5ms\n",
      "33:\tlearn: 13.6905250\ttotal: 80.7ms\tremaining: 38ms\n",
      "34:\tlearn: 13.4624006\ttotal: 82.9ms\tremaining: 35.5ms\n",
      "35:\tlearn: 13.3193429\ttotal: 85.1ms\tremaining: 33.1ms\n",
      "36:\tlearn: 13.3000269\ttotal: 87.1ms\tremaining: 30.6ms\n",
      "37:\tlearn: 13.2229688\ttotal: 89.4ms\tremaining: 28.2ms\n",
      "38:\tlearn: 13.0897763\ttotal: 91.5ms\tremaining: 25.8ms\n",
      "39:\tlearn: 13.0398226\ttotal: 93.6ms\tremaining: 23.4ms\n",
      "40:\tlearn: 12.9117617\ttotal: 95.6ms\tremaining: 21ms\n",
      "41:\tlearn: 12.7117472\ttotal: 97.7ms\tremaining: 18.6ms\n",
      "42:\tlearn: 12.5618491\ttotal: 99.7ms\tremaining: 16.2ms\n",
      "43:\tlearn: 12.4675597\ttotal: 102ms\tremaining: 13.9ms\n",
      "44:\tlearn: 12.3406892\ttotal: 104ms\tremaining: 11.6ms\n",
      "45:\tlearn: 12.2217841\ttotal: 106ms\tremaining: 9.24ms\n",
      "46:\tlearn: 12.2077317\ttotal: 108ms\tremaining: 6.92ms\n",
      "47:\tlearn: 12.0921216\ttotal: 111ms\tremaining: 4.61ms\n",
      "48:\tlearn: 11.9794915\ttotal: 113ms\tremaining: 2.3ms\n",
      "49:\tlearn: 11.8057982\ttotal: 115ms\tremaining: 0us\n",
      "[CV] END ....learning_rate=0.4, max_depth=5, n_estimators=50; total time=   0.7s\n",
      "0:\tlearn: 27.2241783\ttotal: 2.67ms\tremaining: 131ms\n",
      "1:\tlearn: 24.2193604\ttotal: 5.23ms\tremaining: 125ms\n",
      "2:\tlearn: 22.4101251\ttotal: 7.61ms\tremaining: 119ms\n",
      "3:\tlearn: 21.4665730\ttotal: 10.1ms\tremaining: 116ms\n",
      "4:\tlearn: 20.8236759\ttotal: 12.7ms\tremaining: 114ms\n",
      "5:\tlearn: 20.3027923\ttotal: 15.1ms\tremaining: 111ms\n",
      "6:\tlearn: 19.8524222\ttotal: 17.6ms\tremaining: 108ms\n",
      "7:\tlearn: 19.4170675\ttotal: 19.9ms\tremaining: 105ms\n",
      "8:\tlearn: 19.0418138\ttotal: 23ms\tremaining: 105ms\n",
      "9:\tlearn: 18.8541267\ttotal: 26.9ms\tremaining: 108ms\n",
      "10:\tlearn: 18.6832000\ttotal: 30.3ms\tremaining: 108ms\n",
      "11:\tlearn: 18.4288577\ttotal: 33.7ms\tremaining: 107ms\n",
      "12:\tlearn: 18.2337654\ttotal: 37.2ms\tremaining: 106ms\n",
      "13:\tlearn: 18.0447822\ttotal: 40.9ms\tremaining: 105ms\n",
      "14:\tlearn: 17.9679339\ttotal: 43.9ms\tremaining: 102ms\n",
      "15:\tlearn: 17.7689065\ttotal: 46.7ms\tremaining: 99.3ms\n",
      "16:\tlearn: 17.5275988\ttotal: 49.5ms\tremaining: 96.1ms\n",
      "17:\tlearn: 17.3859060\ttotal: 52.1ms\tremaining: 92.5ms\n",
      "18:\tlearn: 17.2766390\ttotal: 54.8ms\tremaining: 89.4ms\n",
      "19:\tlearn: 17.1674080\ttotal: 57.5ms\tremaining: 86.2ms\n",
      "20:\tlearn: 17.1050900\ttotal: 60.1ms\tremaining: 83ms\n",
      "21:\tlearn: 16.8630711\ttotal: 62.8ms\tremaining: 80ms\n",
      "22:\tlearn: 16.7035429\ttotal: 65.4ms\tremaining: 76.8ms\n",
      "23:\tlearn: 16.4783034\ttotal: 68.1ms\tremaining: 73.8ms\n",
      "24:\tlearn: 16.3076435\ttotal: 70.6ms\tremaining: 70.6ms\n",
      "25:\tlearn: 16.2909625\ttotal: 73.1ms\tremaining: 67.5ms\n",
      "26:\tlearn: 16.1065568\ttotal: 75.7ms\tremaining: 64.5ms\n",
      "27:\tlearn: 15.9360825\ttotal: 78.5ms\tremaining: 61.7ms\n",
      "28:\tlearn: 15.9226496\ttotal: 81.1ms\tremaining: 58.7ms\n",
      "29:\tlearn: 15.7744314\ttotal: 83.8ms\tremaining: 55.9ms\n",
      "30:\tlearn: 15.6427894\ttotal: 86.5ms\tremaining: 53ms\n",
      "31:\tlearn: 15.5607300\ttotal: 89.2ms\tremaining: 50.2ms\n",
      "32:\tlearn: 15.3854048\ttotal: 92ms\tremaining: 47.4ms\n",
      "33:\tlearn: 15.3521930\ttotal: 94.8ms\tremaining: 44.6ms\n",
      "34:\tlearn: 15.1823238\ttotal: 97.6ms\tremaining: 41.8ms\n",
      "35:\tlearn: 15.0997302\ttotal: 100ms\tremaining: 39ms\n",
      "36:\tlearn: 15.0889504\ttotal: 103ms\tremaining: 36.1ms\n",
      "37:\tlearn: 14.9172254\ttotal: 107ms\tremaining: 33.6ms\n",
      "38:\tlearn: 14.8645596\ttotal: 110ms\tremaining: 31.1ms\n",
      "39:\tlearn: 14.6712065\ttotal: 114ms\tremaining: 28.6ms\n",
      "40:\tlearn: 14.5998983\ttotal: 123ms\tremaining: 27ms\n",
      "41:\tlearn: 14.5093092\ttotal: 126ms\tremaining: 24ms\n",
      "42:\tlearn: 14.3754687\ttotal: 129ms\tremaining: 21ms\n",
      "43:\tlearn: 14.2668468\ttotal: 131ms\tremaining: 17.9ms\n",
      "44:\tlearn: 14.1466616\ttotal: 134ms\tremaining: 14.9ms\n",
      "45:\tlearn: 13.9949178\ttotal: 136ms\tremaining: 11.9ms\n",
      "46:\tlearn: 13.8919231\ttotal: 139ms\tremaining: 8.88ms\n",
      "47:\tlearn: 13.7654493\ttotal: 142ms\tremaining: 5.9ms\n",
      "48:\tlearn: 13.6867454\ttotal: 144ms\tremaining: 2.94ms\n",
      "49:\tlearn: 13.6085739\ttotal: 147ms\tremaining: 0us\n",
      "[CV] END ....learning_rate=0.4, max_depth=5, n_estimators=50; total time=   0.9s\n",
      "0:\tlearn: 27.7503055\ttotal: 2.83ms\tremaining: 139ms\n",
      "1:\tlearn: 24.7947154\ttotal: 5.43ms\tremaining: 130ms\n",
      "2:\tlearn: 23.2470299\ttotal: 8.34ms\tremaining: 131ms\n",
      "3:\tlearn: 22.4530784\ttotal: 10.9ms\tremaining: 126ms\n",
      "4:\tlearn: 21.9407523\ttotal: 13.6ms\tremaining: 122ms\n",
      "5:\tlearn: 21.5025277\ttotal: 16.1ms\tremaining: 118ms\n",
      "6:\tlearn: 21.0614471\ttotal: 18.7ms\tremaining: 115ms\n",
      "7:\tlearn: 20.7409445\ttotal: 21.6ms\tremaining: 114ms\n",
      "8:\tlearn: 20.4926986\ttotal: 24.2ms\tremaining: 110ms\n",
      "9:\tlearn: 20.1942885\ttotal: 26.8ms\tremaining: 107ms\n",
      "10:\tlearn: 20.0465475\ttotal: 29.3ms\tremaining: 104ms\n",
      "11:\tlearn: 19.8598873\ttotal: 31.8ms\tremaining: 101ms\n",
      "12:\tlearn: 19.6947677\ttotal: 34.5ms\tremaining: 98.1ms\n",
      "13:\tlearn: 19.5284574\ttotal: 37ms\tremaining: 95.1ms\n",
      "14:\tlearn: 19.4159643\ttotal: 39.6ms\tremaining: 92.4ms\n",
      "15:\tlearn: 19.2647359\ttotal: 42.1ms\tremaining: 89.4ms\n",
      "16:\tlearn: 19.0849419\ttotal: 44.7ms\tremaining: 86.7ms\n",
      "17:\tlearn: 18.8735457\ttotal: 47.2ms\tremaining: 83.9ms\n",
      "18:\tlearn: 18.7262714\ttotal: 49.8ms\tremaining: 81.2ms\n",
      "19:\tlearn: 18.6155150\ttotal: 55.9ms\tremaining: 83.9ms\n",
      "20:\tlearn: 18.5068308\ttotal: 59.7ms\tremaining: 82.5ms\n",
      "21:\tlearn: 18.4812223\ttotal: 63.3ms\tremaining: 80.6ms\n",
      "22:\tlearn: 18.2302536\ttotal: 66.6ms\tremaining: 78.2ms\n",
      "23:\tlearn: 18.0524488\ttotal: 69.7ms\tremaining: 75.5ms\n",
      "24:\tlearn: 17.9525842\ttotal: 72.4ms\tremaining: 72.4ms\n",
      "25:\tlearn: 17.9259377\ttotal: 74.8ms\tremaining: 69ms\n",
      "26:\tlearn: 17.7694271\ttotal: 77.4ms\tremaining: 65.9ms\n",
      "27:\tlearn: 17.5468160\ttotal: 81.7ms\tremaining: 64.2ms\n",
      "28:\tlearn: 17.3944190\ttotal: 85.7ms\tremaining: 62ms\n",
      "29:\tlearn: 17.2899833\ttotal: 89.6ms\tremaining: 59.7ms\n",
      "30:\tlearn: 17.0892828\ttotal: 93.8ms\tremaining: 57.5ms\n",
      "31:\tlearn: 16.9888521\ttotal: 97.7ms\tremaining: 54.9ms\n",
      "32:\tlearn: 16.8625249\ttotal: 100ms\tremaining: 51.6ms\n",
      "33:\tlearn: 16.7464462\ttotal: 103ms\tremaining: 48.4ms\n",
      "34:\tlearn: 16.7325194\ttotal: 105ms\tremaining: 45.2ms\n",
      "35:\tlearn: 16.5575782\ttotal: 108ms\tremaining: 42.1ms\n",
      "36:\tlearn: 16.4266672\ttotal: 111ms\tremaining: 38.9ms\n",
      "37:\tlearn: 16.2922090\ttotal: 113ms\tremaining: 35.8ms\n",
      "38:\tlearn: 16.1534878\ttotal: 116ms\tremaining: 32.7ms\n",
      "39:\tlearn: 16.0165144\ttotal: 118ms\tremaining: 29.6ms\n",
      "40:\tlearn: 15.8694437\ttotal: 121ms\tremaining: 26.6ms\n",
      "41:\tlearn: 15.7251655\ttotal: 124ms\tremaining: 23.5ms\n",
      "42:\tlearn: 15.6141787\ttotal: 126ms\tremaining: 20.6ms\n",
      "43:\tlearn: 15.5244353\ttotal: 129ms\tremaining: 17.6ms\n",
      "44:\tlearn: 15.4776593\ttotal: 133ms\tremaining: 14.8ms\n",
      "45:\tlearn: 15.3834293\ttotal: 137ms\tremaining: 11.9ms\n",
      "46:\tlearn: 15.3760650\ttotal: 140ms\tremaining: 8.93ms\n",
      "47:\tlearn: 15.2206765\ttotal: 144ms\tremaining: 5.99ms\n",
      "48:\tlearn: 15.1331150\ttotal: 147ms\tremaining: 3.01ms\n",
      "49:\tlearn: 15.0444113\ttotal: 151ms\tremaining: 0us\n",
      "[CV] END ....learning_rate=0.4, max_depth=5, n_estimators=50; total time=   0.9s\n",
      "0:\tlearn: 28.8101751\ttotal: 4.03ms\tremaining: 198ms\n",
      "1:\tlearn: 25.7546265\ttotal: 7.67ms\tremaining: 184ms\n",
      "2:\tlearn: 24.1407587\ttotal: 11.6ms\tremaining: 181ms\n",
      "3:\tlearn: 23.3859369\ttotal: 15ms\tremaining: 172ms\n",
      "4:\tlearn: 22.7807569\ttotal: 19.3ms\tremaining: 174ms\n",
      "5:\tlearn: 22.2858530\ttotal: 22.2ms\tremaining: 163ms\n",
      "6:\tlearn: 21.9631313\ttotal: 25.6ms\tremaining: 157ms\n",
      "7:\tlearn: 21.6520295\ttotal: 28.7ms\tremaining: 151ms\n",
      "8:\tlearn: 21.1339193\ttotal: 32.4ms\tremaining: 148ms\n",
      "9:\tlearn: 20.9290756\ttotal: 36.1ms\tremaining: 144ms\n",
      "10:\tlearn: 20.7644251\ttotal: 39.7ms\tremaining: 141ms\n",
      "11:\tlearn: 20.5708576\ttotal: 43.4ms\tremaining: 137ms\n",
      "12:\tlearn: 20.4558316\ttotal: 47.3ms\tremaining: 135ms\n",
      "13:\tlearn: 20.3412522\ttotal: 51.3ms\tremaining: 132ms\n",
      "14:\tlearn: 20.2874710\ttotal: 55.1ms\tremaining: 129ms\n",
      "15:\tlearn: 20.1060204\ttotal: 59.2ms\tremaining: 126ms\n",
      "16:\tlearn: 19.9361492\ttotal: 62.9ms\tremaining: 122ms\n",
      "17:\tlearn: 19.7843410\ttotal: 66.4ms\tremaining: 118ms\n",
      "18:\tlearn: 19.7044793\ttotal: 71ms\tremaining: 116ms\n",
      "19:\tlearn: 19.5995643\ttotal: 74.3ms\tremaining: 112ms\n",
      "20:\tlearn: 19.4767389\ttotal: 77.4ms\tremaining: 107ms\n",
      "21:\tlearn: 19.3871097\ttotal: 80.7ms\tremaining: 103ms\n",
      "22:\tlearn: 19.2522863\ttotal: 83.8ms\tremaining: 98.4ms\n",
      "23:\tlearn: 19.1673050\ttotal: 86.9ms\tremaining: 94.2ms\n",
      "24:\tlearn: 19.0119612\ttotal: 90.1ms\tremaining: 90.1ms\n",
      "25:\tlearn: 18.9986400\ttotal: 93.5ms\tremaining: 86.3ms\n",
      "26:\tlearn: 18.8938583\ttotal: 97.1ms\tremaining: 82.7ms\n",
      "27:\tlearn: 18.6950974\ttotal: 100ms\tremaining: 78.7ms\n",
      "28:\tlearn: 18.5344428\ttotal: 104ms\tremaining: 75.1ms\n",
      "29:\tlearn: 18.4138759\ttotal: 107ms\tremaining: 71.2ms\n",
      "30:\tlearn: 18.2808583\ttotal: 110ms\tremaining: 67.3ms\n",
      "31:\tlearn: 18.1313430\ttotal: 113ms\tremaining: 63.5ms\n",
      "32:\tlearn: 18.0135337\ttotal: 116ms\tremaining: 59.7ms\n",
      "33:\tlearn: 17.8665726\ttotal: 119ms\tremaining: 56ms\n",
      "34:\tlearn: 17.7884274\ttotal: 122ms\tremaining: 52.3ms\n",
      "35:\tlearn: 17.6747244\ttotal: 125ms\tremaining: 48.7ms\n",
      "36:\tlearn: 17.6651727\ttotal: 128ms\tremaining: 45.1ms\n",
      "37:\tlearn: 17.5687625\ttotal: 132ms\tremaining: 41.8ms\n",
      "38:\tlearn: 17.4250796\ttotal: 136ms\tremaining: 38.5ms\n",
      "39:\tlearn: 17.3316579\ttotal: 140ms\tremaining: 35.1ms\n",
      "40:\tlearn: 17.2103040\ttotal: 144ms\tremaining: 31.6ms\n",
      "41:\tlearn: 17.0668464\ttotal: 148ms\tremaining: 28.2ms\n",
      "42:\tlearn: 16.9735890\ttotal: 152ms\tremaining: 24.7ms\n",
      "43:\tlearn: 16.9097203\ttotal: 155ms\tremaining: 21.1ms\n",
      "44:\tlearn: 16.8862344\ttotal: 158ms\tremaining: 17.5ms\n",
      "45:\tlearn: 16.8225480\ttotal: 160ms\tremaining: 13.9ms\n",
      "46:\tlearn: 16.7647000\ttotal: 163ms\tremaining: 10.4ms\n",
      "47:\tlearn: 16.6360589\ttotal: 166ms\tremaining: 6.9ms\n",
      "48:\tlearn: 16.5487358\ttotal: 168ms\tremaining: 3.43ms\n",
      "49:\tlearn: 16.4640544\ttotal: 171ms\tremaining: 0us\n",
      "[CV] END ....learning_rate=0.4, max_depth=5, n_estimators=50; total time=   0.9s\n",
      "0:\tlearn: 24.7659649\ttotal: 5.2ms\tremaining: 98.8ms\n",
      "1:\tlearn: 21.8790719\ttotal: 10.1ms\tremaining: 91.1ms\n",
      "2:\tlearn: 19.5809571\ttotal: 13ms\tremaining: 73.7ms\n",
      "3:\tlearn: 18.3272202\ttotal: 16.4ms\tremaining: 65.5ms\n",
      "4:\tlearn: 17.3094152\ttotal: 19.1ms\tremaining: 57.3ms\n",
      "5:\tlearn: 16.5861711\ttotal: 22ms\tremaining: 51.2ms\n",
      "6:\tlearn: 16.1677304\ttotal: 24.8ms\tremaining: 46.1ms\n",
      "7:\tlearn: 15.6375816\ttotal: 27.4ms\tremaining: 41.2ms\n",
      "8:\tlearn: 15.3589623\ttotal: 30.1ms\tremaining: 36.8ms\n",
      "9:\tlearn: 15.0316382\ttotal: 32.9ms\tremaining: 32.9ms\n",
      "10:\tlearn: 14.6179498\ttotal: 35.6ms\tremaining: 29.1ms\n",
      "11:\tlearn: 14.2862018\ttotal: 38.4ms\tremaining: 25.6ms\n",
      "12:\tlearn: 14.0102321\ttotal: 41.1ms\tremaining: 22.2ms\n",
      "13:\tlearn: 13.6722578\ttotal: 43.8ms\tremaining: 18.8ms\n",
      "14:\tlearn: 13.2961546\ttotal: 46.4ms\tremaining: 15.5ms\n",
      "15:\tlearn: 13.1159774\ttotal: 49ms\tremaining: 12.2ms\n",
      "16:\tlearn: 12.7831210\ttotal: 51.8ms\tremaining: 9.15ms\n",
      "17:\tlearn: 12.5686097\ttotal: 54.6ms\tremaining: 6.06ms\n",
      "18:\tlearn: 12.2993524\ttotal: 57.2ms\tremaining: 3.01ms\n",
      "19:\tlearn: 12.1603035\ttotal: 59.9ms\tremaining: 0us\n",
      "[CV] END ....learning_rate=0.4, max_depth=6, n_estimators=20; total time=   0.6s\n",
      "0:\tlearn: 25.9680402\ttotal: 4.52ms\tremaining: 85.9ms\n",
      "1:\tlearn: 23.5010303\ttotal: 8.19ms\tremaining: 73.8ms\n",
      "2:\tlearn: 21.1417572\ttotal: 11.9ms\tremaining: 67.6ms\n",
      "3:\tlearn: 19.9611553\ttotal: 15.6ms\tremaining: 62.5ms\n",
      "4:\tlearn: 19.1178396\ttotal: 19.4ms\tremaining: 58.2ms\n",
      "5:\tlearn: 18.6607874\ttotal: 24.7ms\tremaining: 57.7ms\n",
      "6:\tlearn: 18.1028510\ttotal: 30.3ms\tremaining: 56.3ms\n",
      "7:\tlearn: 17.8277936\ttotal: 35.8ms\tremaining: 53.7ms\n",
      "8:\tlearn: 17.5497150\ttotal: 41.3ms\tremaining: 50.4ms\n",
      "9:\tlearn: 17.0648883\ttotal: 45.4ms\tremaining: 45.4ms\n",
      "10:\tlearn: 16.7923055\ttotal: 49.2ms\tremaining: 40.3ms\n",
      "11:\tlearn: 16.4444010\ttotal: 53ms\tremaining: 35.3ms\n",
      "12:\tlearn: 16.1986978\ttotal: 56.6ms\tremaining: 30.5ms\n",
      "13:\tlearn: 15.9808711\ttotal: 60.3ms\tremaining: 25.9ms\n",
      "14:\tlearn: 15.6844191\ttotal: 64.3ms\tremaining: 21.4ms\n",
      "15:\tlearn: 15.5506037\ttotal: 67.9ms\tremaining: 17ms\n",
      "16:\tlearn: 15.3826064\ttotal: 71.5ms\tremaining: 12.6ms\n",
      "17:\tlearn: 15.1008692\ttotal: 75.2ms\tremaining: 8.35ms\n",
      "18:\tlearn: 14.9195837\ttotal: 78.5ms\tremaining: 4.13ms\n",
      "19:\tlearn: 14.7693932\ttotal: 82ms\tremaining: 0us\n",
      "[CV] END ....learning_rate=0.4, max_depth=6, n_estimators=20; total time=   0.8s\n",
      "0:\tlearn: 26.7600307\ttotal: 4.52ms\tremaining: 85.9ms\n",
      "1:\tlearn: 24.0415219\ttotal: 8.6ms\tremaining: 77.4ms\n",
      "2:\tlearn: 22.0418178\ttotal: 12.6ms\tremaining: 71.2ms\n",
      "3:\tlearn: 20.9843709\ttotal: 16.3ms\tremaining: 65.3ms\n",
      "4:\tlearn: 20.1583733\ttotal: 20ms\tremaining: 60.1ms\n",
      "5:\tlearn: 19.6415829\ttotal: 23.9ms\tremaining: 55.7ms\n",
      "6:\tlearn: 19.0752219\ttotal: 27.8ms\tremaining: 51.7ms\n",
      "7:\tlearn: 18.6710495\ttotal: 31.4ms\tremaining: 47.2ms\n",
      "8:\tlearn: 18.3835911\ttotal: 35.2ms\tremaining: 43.1ms\n",
      "9:\tlearn: 18.0980281\ttotal: 39ms\tremaining: 39ms\n",
      "10:\tlearn: 17.8103976\ttotal: 45.4ms\tremaining: 37.1ms\n",
      "11:\tlearn: 17.4572535\ttotal: 50.7ms\tremaining: 33.8ms\n",
      "12:\tlearn: 17.2464305\ttotal: 56.5ms\tremaining: 30.4ms\n",
      "13:\tlearn: 17.1070963\ttotal: 61.6ms\tremaining: 26.4ms\n",
      "14:\tlearn: 16.8620554\ttotal: 66.4ms\tremaining: 22.1ms\n",
      "15:\tlearn: 16.5770722\ttotal: 70.9ms\tremaining: 17.7ms\n",
      "16:\tlearn: 16.4113968\ttotal: 74.7ms\tremaining: 13.2ms\n",
      "17:\tlearn: 16.1654885\ttotal: 78.5ms\tremaining: 8.72ms\n",
      "18:\tlearn: 15.9913548\ttotal: 82.2ms\tremaining: 4.33ms\n",
      "19:\tlearn: 15.8337438\ttotal: 86.2ms\tremaining: 0us\n",
      "[CV] END ....learning_rate=0.4, max_depth=6, n_estimators=20; total time=   0.7s\n",
      "0:\tlearn: 27.6509287\ttotal: 7.16ms\tremaining: 136ms\n",
      "1:\tlearn: 24.7902393\ttotal: 12.3ms\tremaining: 111ms\n",
      "2:\tlearn: 22.8585884\ttotal: 16.9ms\tremaining: 95.8ms\n",
      "3:\tlearn: 21.6636235\ttotal: 21.2ms\tremaining: 85ms\n",
      "4:\tlearn: 21.1079951\ttotal: 25.4ms\tremaining: 76.2ms\n",
      "5:\tlearn: 20.6680855\ttotal: 29.6ms\tremaining: 69.1ms\n",
      "6:\tlearn: 20.2433819\ttotal: 33.7ms\tremaining: 62.6ms\n",
      "7:\tlearn: 19.8014812\ttotal: 37.9ms\tremaining: 56.9ms\n",
      "8:\tlearn: 19.5426416\ttotal: 42.2ms\tremaining: 51.6ms\n",
      "9:\tlearn: 19.2708393\ttotal: 46.4ms\tremaining: 46.4ms\n",
      "10:\tlearn: 19.0091719\ttotal: 50.5ms\tremaining: 41.3ms\n",
      "11:\tlearn: 18.8393383\ttotal: 54.4ms\tremaining: 36.3ms\n",
      "12:\tlearn: 18.6071184\ttotal: 58.8ms\tremaining: 31.7ms\n",
      "13:\tlearn: 18.4614563\ttotal: 62.7ms\tremaining: 26.9ms\n",
      "14:\tlearn: 18.3341965\ttotal: 66.7ms\tremaining: 22.2ms\n",
      "15:\tlearn: 18.2063309\ttotal: 70.9ms\tremaining: 17.7ms\n",
      "16:\tlearn: 18.0295109\ttotal: 75.3ms\tremaining: 13.3ms\n",
      "17:\tlearn: 17.9542653\ttotal: 81.2ms\tremaining: 9.02ms\n",
      "18:\tlearn: 17.7344642\ttotal: 87.2ms\tremaining: 4.59ms\n",
      "19:\tlearn: 17.5146185\ttotal: 92.8ms\tremaining: 0us\n",
      "[CV] END ....learning_rate=0.4, max_depth=6, n_estimators=20; total time=   0.8s\n",
      "0:\tlearn: 28.7559862\ttotal: 5.52ms\tremaining: 105ms\n",
      "1:\tlearn: 25.7000417\ttotal: 10.4ms\tremaining: 93.4ms\n",
      "2:\tlearn: 23.7936621\ttotal: 15.2ms\tremaining: 85.9ms\n",
      "3:\tlearn: 22.7370563\ttotal: 19.9ms\tremaining: 79.7ms\n",
      "4:\tlearn: 22.1362542\ttotal: 24.5ms\tremaining: 73.5ms\n",
      "5:\tlearn: 21.6954730\ttotal: 28.9ms\tremaining: 67.5ms\n",
      "6:\tlearn: 21.3011668\ttotal: 33.4ms\tremaining: 62ms\n",
      "7:\tlearn: 21.0223286\ttotal: 37.8ms\tremaining: 56.7ms\n",
      "8:\tlearn: 20.8442010\ttotal: 42ms\tremaining: 51.4ms\n",
      "9:\tlearn: 20.5560318\ttotal: 46.5ms\tremaining: 46.5ms\n",
      "10:\tlearn: 20.4389568\ttotal: 53.2ms\tremaining: 43.5ms\n",
      "11:\tlearn: 20.2337195\ttotal: 60ms\tremaining: 40ms\n",
      "12:\tlearn: 20.0473059\ttotal: 66.8ms\tremaining: 35.9ms\n",
      "13:\tlearn: 19.7857643\ttotal: 73.5ms\tremaining: 31.5ms\n",
      "14:\tlearn: 19.6039355\ttotal: 78.2ms\tremaining: 26.1ms\n",
      "15:\tlearn: 19.4702913\ttotal: 82.3ms\tremaining: 20.6ms\n",
      "16:\tlearn: 19.2633818\ttotal: 86.5ms\tremaining: 15.3ms\n",
      "17:\tlearn: 19.0359055\ttotal: 91.1ms\tremaining: 10.1ms\n",
      "18:\tlearn: 18.8840176\ttotal: 95.4ms\tremaining: 5.02ms\n",
      "19:\tlearn: 18.7891640\ttotal: 99.7ms\tremaining: 0us\n",
      "[CV] END ....learning_rate=0.4, max_depth=6, n_estimators=20; total time=   0.7s\n",
      "0:\tlearn: 24.7659649\ttotal: 3.12ms\tremaining: 90.5ms\n",
      "1:\tlearn: 21.8790719\ttotal: 6.16ms\tremaining: 86.2ms\n",
      "2:\tlearn: 19.5809571\ttotal: 8.85ms\tremaining: 79.6ms\n",
      "3:\tlearn: 18.3272202\ttotal: 11.6ms\tremaining: 75.3ms\n",
      "4:\tlearn: 17.3094152\ttotal: 14.8ms\tremaining: 74ms\n",
      "5:\tlearn: 16.5861711\ttotal: 17.4ms\tremaining: 69.8ms\n",
      "6:\tlearn: 16.1677304\ttotal: 20.1ms\tremaining: 66ms\n",
      "7:\tlearn: 15.6375816\ttotal: 22.6ms\tremaining: 62.2ms\n",
      "8:\tlearn: 15.3589623\ttotal: 25.3ms\tremaining: 58.9ms\n",
      "9:\tlearn: 15.0316382\ttotal: 28.2ms\tremaining: 56.3ms\n",
      "10:\tlearn: 14.6179498\ttotal: 31ms\tremaining: 53.6ms\n",
      "11:\tlearn: 14.2862018\ttotal: 35ms\tremaining: 52.4ms\n",
      "12:\tlearn: 14.0102321\ttotal: 39.3ms\tremaining: 51.4ms\n",
      "13:\tlearn: 13.6722578\ttotal: 42.8ms\tremaining: 48.9ms\n",
      "14:\tlearn: 13.2961546\ttotal: 45.8ms\tremaining: 45.8ms\n",
      "15:\tlearn: 13.1159774\ttotal: 48.5ms\tremaining: 42.4ms\n",
      "16:\tlearn: 12.7831210\ttotal: 51.1ms\tremaining: 39.1ms\n",
      "17:\tlearn: 12.5686097\ttotal: 53.9ms\tremaining: 35.9ms\n",
      "18:\tlearn: 12.2993524\ttotal: 56.6ms\tremaining: 32.7ms\n",
      "19:\tlearn: 12.1603035\ttotal: 59.5ms\tremaining: 29.7ms\n",
      "20:\tlearn: 11.9910571\ttotal: 62.2ms\tremaining: 26.6ms\n",
      "21:\tlearn: 11.8268716\ttotal: 64.8ms\tremaining: 23.6ms\n",
      "22:\tlearn: 11.4582979\ttotal: 67.4ms\tremaining: 20.5ms\n",
      "23:\tlearn: 11.3682089\ttotal: 70.2ms\tremaining: 17.6ms\n",
      "24:\tlearn: 10.9988424\ttotal: 73.3ms\tremaining: 14.7ms\n",
      "25:\tlearn: 10.6606839\ttotal: 76ms\tremaining: 11.7ms\n",
      "26:\tlearn: 10.5757119\ttotal: 78.8ms\tremaining: 8.75ms\n",
      "27:\tlearn: 10.2608839\ttotal: 81.5ms\tremaining: 5.82ms\n",
      "28:\tlearn: 10.0515530\ttotal: 84.4ms\tremaining: 2.91ms\n",
      "29:\tlearn: 9.9687044\ttotal: 87.2ms\tremaining: 0us\n",
      "[CV] END ....learning_rate=0.4, max_depth=6, n_estimators=30; total time=   0.9s\n",
      "0:\tlearn: 25.9680402\ttotal: 3.77ms\tremaining: 109ms\n",
      "1:\tlearn: 23.5010303\ttotal: 7.51ms\tremaining: 105ms\n",
      "2:\tlearn: 21.1417572\ttotal: 10.9ms\tremaining: 97.8ms\n",
      "3:\tlearn: 19.9611553\ttotal: 14.4ms\tremaining: 93.4ms\n",
      "4:\tlearn: 19.1178396\ttotal: 17.8ms\tremaining: 88.9ms\n",
      "5:\tlearn: 18.6607874\ttotal: 20.8ms\tremaining: 83.3ms\n",
      "6:\tlearn: 18.1028510\ttotal: 24.1ms\tremaining: 79.1ms\n",
      "7:\tlearn: 17.8277936\ttotal: 27.2ms\tremaining: 74.8ms\n",
      "8:\tlearn: 17.5497150\ttotal: 30.7ms\tremaining: 71.6ms\n",
      "9:\tlearn: 17.0648883\ttotal: 35.5ms\tremaining: 71ms\n",
      "10:\tlearn: 16.7923055\ttotal: 40.5ms\tremaining: 69.9ms\n",
      "11:\tlearn: 16.4444010\ttotal: 45.5ms\tremaining: 68.2ms\n",
      "12:\tlearn: 16.1986978\ttotal: 50.1ms\tremaining: 65.6ms\n",
      "13:\tlearn: 15.9808711\ttotal: 53.6ms\tremaining: 61.2ms\n",
      "14:\tlearn: 15.6844191\ttotal: 58ms\tremaining: 58ms\n",
      "15:\tlearn: 15.5506037\ttotal: 61.2ms\tremaining: 53.6ms\n",
      "16:\tlearn: 15.3826064\ttotal: 64.5ms\tremaining: 49.3ms\n",
      "17:\tlearn: 15.1008692\ttotal: 67.6ms\tremaining: 45ms\n",
      "18:\tlearn: 14.9195837\ttotal: 70.9ms\tremaining: 41ms\n",
      "19:\tlearn: 14.7693932\ttotal: 74.1ms\tremaining: 37.1ms\n",
      "20:\tlearn: 14.5493490\ttotal: 77.4ms\tremaining: 33.2ms\n",
      "21:\tlearn: 14.4266477\ttotal: 80.7ms\tremaining: 29.3ms\n",
      "22:\tlearn: 14.2041298\ttotal: 84.4ms\tremaining: 25.7ms\n",
      "23:\tlearn: 13.8910570\ttotal: 87.9ms\tremaining: 22ms\n",
      "24:\tlearn: 13.6991332\ttotal: 91.1ms\tremaining: 18.2ms\n",
      "25:\tlearn: 13.4876614\ttotal: 94.3ms\tremaining: 14.5ms\n",
      "26:\tlearn: 13.1810155\ttotal: 97.8ms\tremaining: 10.9ms\n",
      "27:\tlearn: 13.1092546\ttotal: 102ms\tremaining: 7.26ms\n",
      "28:\tlearn: 13.0881271\ttotal: 105ms\tremaining: 3.61ms\n",
      "29:\tlearn: 13.0713164\ttotal: 108ms\tremaining: 0us\n",
      "[CV] END ....learning_rate=0.4, max_depth=6, n_estimators=30; total time=   0.6s\n",
      "0:\tlearn: 26.7600307\ttotal: 4.02ms\tremaining: 117ms\n",
      "1:\tlearn: 24.0415219\ttotal: 8.11ms\tremaining: 114ms\n",
      "2:\tlearn: 22.0418178\ttotal: 12ms\tremaining: 108ms\n",
      "3:\tlearn: 20.9843709\ttotal: 15.6ms\tremaining: 101ms\n",
      "4:\tlearn: 20.1583733\ttotal: 19.5ms\tremaining: 97.7ms\n",
      "5:\tlearn: 19.6415829\ttotal: 23.3ms\tremaining: 93.3ms\n",
      "6:\tlearn: 19.0752219\ttotal: 26.9ms\tremaining: 88.4ms\n",
      "7:\tlearn: 18.6710495\ttotal: 30.4ms\tremaining: 83.5ms\n",
      "8:\tlearn: 18.3835911\ttotal: 34.4ms\tremaining: 80.2ms\n",
      "9:\tlearn: 18.0980281\ttotal: 40.4ms\tremaining: 80.8ms\n",
      "10:\tlearn: 17.8103976\ttotal: 46.6ms\tremaining: 80.5ms\n",
      "11:\tlearn: 17.4572535\ttotal: 52.6ms\tremaining: 78.9ms\n",
      "12:\tlearn: 17.2464305\ttotal: 57.6ms\tremaining: 75.4ms\n",
      "13:\tlearn: 17.1070963\ttotal: 62.4ms\tremaining: 71.3ms\n",
      "14:\tlearn: 16.8620554\ttotal: 66.4ms\tremaining: 66.4ms\n",
      "15:\tlearn: 16.5770722\ttotal: 70.2ms\tremaining: 61.4ms\n",
      "16:\tlearn: 16.4113968\ttotal: 74.1ms\tremaining: 56.7ms\n",
      "17:\tlearn: 16.1654885\ttotal: 78.4ms\tremaining: 52.2ms\n",
      "18:\tlearn: 15.9913548\ttotal: 82.4ms\tremaining: 47.7ms\n",
      "19:\tlearn: 15.8337438\ttotal: 86.5ms\tremaining: 43.2ms\n",
      "20:\tlearn: 15.7036125\ttotal: 90.7ms\tremaining: 38.9ms\n",
      "21:\tlearn: 15.5357173\ttotal: 94.6ms\tremaining: 34.4ms\n",
      "22:\tlearn: 15.3108595\ttotal: 98.4ms\tremaining: 30ms\n",
      "23:\tlearn: 15.2342321\ttotal: 103ms\tremaining: 25.7ms\n",
      "24:\tlearn: 15.1119159\ttotal: 107ms\tremaining: 21.4ms\n",
      "25:\tlearn: 14.9635322\ttotal: 112ms\tremaining: 17.2ms\n",
      "26:\tlearn: 14.9466171\ttotal: 116ms\tremaining: 12.9ms\n",
      "27:\tlearn: 14.8119832\ttotal: 120ms\tremaining: 8.57ms\n",
      "28:\tlearn: 14.5521614\ttotal: 126ms\tremaining: 4.34ms\n",
      "29:\tlearn: 14.3738266\ttotal: 132ms\tremaining: 0us\n",
      "[CV] END ....learning_rate=0.4, max_depth=6, n_estimators=30; total time=   0.9s\n",
      "0:\tlearn: 27.6509287\ttotal: 4.5ms\tremaining: 130ms\n",
      "1:\tlearn: 24.7902393\ttotal: 9.13ms\tremaining: 128ms\n",
      "2:\tlearn: 22.8585884\ttotal: 15.5ms\tremaining: 139ms\n",
      "3:\tlearn: 21.6636235\ttotal: 21.7ms\tremaining: 141ms\n",
      "4:\tlearn: 21.1079951\ttotal: 25.9ms\tremaining: 130ms\n",
      "5:\tlearn: 20.6680855\ttotal: 30.4ms\tremaining: 121ms\n",
      "6:\tlearn: 20.2433819\ttotal: 34.5ms\tremaining: 113ms\n",
      "7:\tlearn: 19.8014812\ttotal: 38.4ms\tremaining: 106ms\n",
      "8:\tlearn: 19.5426416\ttotal: 42.3ms\tremaining: 98.8ms\n",
      "9:\tlearn: 19.2708393\ttotal: 46.4ms\tremaining: 92.8ms\n",
      "10:\tlearn: 19.0091719\ttotal: 50.3ms\tremaining: 86.9ms\n",
      "11:\tlearn: 18.8393383\ttotal: 54.2ms\tremaining: 81.3ms\n",
      "12:\tlearn: 18.6071184\ttotal: 58.5ms\tremaining: 76.5ms\n",
      "13:\tlearn: 18.4614563\ttotal: 62.5ms\tremaining: 71.4ms\n",
      "14:\tlearn: 18.3341965\ttotal: 66.3ms\tremaining: 66.3ms\n",
      "15:\tlearn: 18.2063309\ttotal: 70.4ms\tremaining: 61.6ms\n",
      "16:\tlearn: 18.0295109\ttotal: 74.3ms\tremaining: 56.8ms\n",
      "17:\tlearn: 17.9542653\ttotal: 78.1ms\tremaining: 52.1ms\n",
      "18:\tlearn: 17.7344642\ttotal: 81.9ms\tremaining: 47.4ms\n",
      "19:\tlearn: 17.5146185\ttotal: 86.3ms\tremaining: 43.1ms\n",
      "20:\tlearn: 17.4317991\ttotal: 91.2ms\tremaining: 39.1ms\n",
      "21:\tlearn: 17.2627790\ttotal: 97.2ms\tremaining: 35.3ms\n",
      "22:\tlearn: 17.1489349\ttotal: 103ms\tremaining: 31.4ms\n",
      "23:\tlearn: 16.9956387\ttotal: 109ms\tremaining: 27.3ms\n",
      "24:\tlearn: 16.9057469\ttotal: 115ms\tremaining: 23ms\n",
      "25:\tlearn: 16.8924905\ttotal: 120ms\tremaining: 18.4ms\n",
      "26:\tlearn: 16.6620059\ttotal: 124ms\tremaining: 13.7ms\n",
      "27:\tlearn: 16.5024170\ttotal: 128ms\tremaining: 9.13ms\n",
      "28:\tlearn: 16.3618162\ttotal: 132ms\tremaining: 4.55ms\n",
      "29:\tlearn: 16.1755935\ttotal: 136ms\tremaining: 0us\n",
      "[CV] END ....learning_rate=0.4, max_depth=6, n_estimators=30; total time=   0.7s\n",
      "0:\tlearn: 28.7559862\ttotal: 4.8ms\tremaining: 139ms\n",
      "1:\tlearn: 25.7000417\ttotal: 9.61ms\tremaining: 135ms\n",
      "2:\tlearn: 23.7936621\ttotal: 14.1ms\tremaining: 127ms\n",
      "3:\tlearn: 22.7370563\ttotal: 18.7ms\tremaining: 121ms\n",
      "4:\tlearn: 22.1362542\ttotal: 23ms\tremaining: 115ms\n",
      "5:\tlearn: 21.6954730\ttotal: 27.2ms\tremaining: 109ms\n",
      "6:\tlearn: 21.3011668\ttotal: 31.6ms\tremaining: 104ms\n",
      "7:\tlearn: 21.0223286\ttotal: 36.4ms\tremaining: 100ms\n",
      "8:\tlearn: 20.8442010\ttotal: 42.6ms\tremaining: 99.3ms\n",
      "9:\tlearn: 20.5560318\ttotal: 49.2ms\tremaining: 98.3ms\n",
      "10:\tlearn: 20.4389568\ttotal: 55.5ms\tremaining: 95.9ms\n",
      "11:\tlearn: 20.2337195\ttotal: 60.2ms\tremaining: 90.3ms\n",
      "12:\tlearn: 20.0473059\ttotal: 64.5ms\tremaining: 84.4ms\n",
      "13:\tlearn: 19.7857643\ttotal: 68.9ms\tremaining: 78.8ms\n",
      "14:\tlearn: 19.6039355\ttotal: 73.5ms\tremaining: 73.5ms\n",
      "15:\tlearn: 19.4702913\ttotal: 77.7ms\tremaining: 68ms\n",
      "16:\tlearn: 19.2633818\ttotal: 82ms\tremaining: 62.7ms\n",
      "17:\tlearn: 19.0359055\ttotal: 86.7ms\tremaining: 57.8ms\n",
      "18:\tlearn: 18.8840176\ttotal: 90.9ms\tremaining: 52.6ms\n",
      "19:\tlearn: 18.7891640\ttotal: 95.1ms\tremaining: 47.5ms\n",
      "20:\tlearn: 18.7140933\ttotal: 99.2ms\tremaining: 42.5ms\n",
      "21:\tlearn: 18.5785772\ttotal: 104ms\tremaining: 37.7ms\n",
      "22:\tlearn: 18.4515449\ttotal: 108ms\tremaining: 32.8ms\n",
      "23:\tlearn: 18.3783417\ttotal: 112ms\tremaining: 28ms\n",
      "24:\tlearn: 18.2287477\ttotal: 116ms\tremaining: 23.3ms\n",
      "25:\tlearn: 18.0364191\ttotal: 121ms\tremaining: 18.6ms\n",
      "26:\tlearn: 17.9137478\ttotal: 126ms\tremaining: 14ms\n",
      "27:\tlearn: 17.8285132\ttotal: 133ms\tremaining: 9.47ms\n",
      "28:\tlearn: 17.7046374\ttotal: 139ms\tremaining: 4.79ms\n",
      "29:\tlearn: 17.5627798\ttotal: 145ms\tremaining: 0us\n",
      "[CV] END ....learning_rate=0.4, max_depth=6, n_estimators=30; total time=   0.8s\n",
      "0:\tlearn: 24.7659649\ttotal: 2.98ms\tremaining: 116ms\n",
      "1:\tlearn: 21.8790719\ttotal: 6.1ms\tremaining: 116ms\n",
      "2:\tlearn: 19.5809571\ttotal: 8.94ms\tremaining: 110ms\n",
      "3:\tlearn: 18.3272202\ttotal: 11.8ms\tremaining: 106ms\n",
      "4:\tlearn: 17.3094152\ttotal: 14.6ms\tremaining: 102ms\n",
      "5:\tlearn: 16.5861711\ttotal: 17.4ms\tremaining: 98.4ms\n",
      "6:\tlearn: 16.1677304\ttotal: 20ms\tremaining: 94.5ms\n",
      "7:\tlearn: 15.6375816\ttotal: 25.1ms\tremaining: 100ms\n",
      "8:\tlearn: 15.3589623\ttotal: 29.4ms\tremaining: 101ms\n",
      "9:\tlearn: 15.0316382\ttotal: 33.3ms\tremaining: 99.8ms\n",
      "10:\tlearn: 14.6179498\ttotal: 36.3ms\tremaining: 95.8ms\n",
      "11:\tlearn: 14.2862018\ttotal: 38.8ms\tremaining: 90.6ms\n",
      "12:\tlearn: 14.0102321\ttotal: 42ms\tremaining: 87.1ms\n",
      "13:\tlearn: 13.6722578\ttotal: 44.7ms\tremaining: 83ms\n",
      "14:\tlearn: 13.2961546\ttotal: 47.5ms\tremaining: 79.2ms\n",
      "15:\tlearn: 13.1159774\ttotal: 50.2ms\tremaining: 75.3ms\n",
      "16:\tlearn: 12.7831210\ttotal: 52.8ms\tremaining: 71.5ms\n",
      "17:\tlearn: 12.5686097\ttotal: 55.8ms\tremaining: 68.2ms\n",
      "18:\tlearn: 12.2993524\ttotal: 58.5ms\tremaining: 64.6ms\n",
      "19:\tlearn: 12.1603035\ttotal: 61.1ms\tremaining: 61.1ms\n",
      "20:\tlearn: 11.9910571\ttotal: 63.8ms\tremaining: 57.7ms\n",
      "21:\tlearn: 11.8268716\ttotal: 66.5ms\tremaining: 54.4ms\n",
      "22:\tlearn: 11.4582979\ttotal: 69.4ms\tremaining: 51.3ms\n",
      "23:\tlearn: 11.3682089\ttotal: 72.1ms\tremaining: 48.1ms\n",
      "24:\tlearn: 10.9988424\ttotal: 74.9ms\tremaining: 44.9ms\n",
      "25:\tlearn: 10.6606839\ttotal: 77.6ms\tremaining: 41.8ms\n",
      "26:\tlearn: 10.5757119\ttotal: 80.2ms\tremaining: 38.6ms\n",
      "27:\tlearn: 10.2608839\ttotal: 83.1ms\tremaining: 35.6ms\n",
      "28:\tlearn: 10.0515530\ttotal: 85.8ms\tremaining: 32.5ms\n",
      "29:\tlearn: 9.9687044\ttotal: 88.5ms\tremaining: 29.5ms\n",
      "30:\tlearn: 9.9424944\ttotal: 91.3ms\tremaining: 26.5ms\n",
      "31:\tlearn: 9.7811751\ttotal: 94.1ms\tremaining: 23.5ms\n",
      "32:\tlearn: 9.4834239\ttotal: 97.2ms\tremaining: 20.6ms\n",
      "33:\tlearn: 9.2380899\ttotal: 100ms\tremaining: 17.7ms\n",
      "34:\tlearn: 9.1951010\ttotal: 104ms\tremaining: 14.9ms\n",
      "35:\tlearn: 8.9764830\ttotal: 109ms\tremaining: 12.1ms\n",
      "36:\tlearn: 8.8212455\ttotal: 113ms\tremaining: 9.15ms\n",
      "37:\tlearn: 8.6035757\ttotal: 117ms\tremaining: 6.17ms\n",
      "38:\tlearn: 8.5181022\ttotal: 121ms\tremaining: 3.11ms\n",
      "39:\tlearn: 8.2901246\ttotal: 125ms\tremaining: 0us\n",
      "[CV] END ....learning_rate=0.4, max_depth=6, n_estimators=40; total time=   0.7s\n",
      "0:\tlearn: 25.9680402\ttotal: 3.48ms\tremaining: 136ms\n",
      "1:\tlearn: 23.5010303\ttotal: 6.67ms\tremaining: 127ms\n",
      "2:\tlearn: 21.1417572\ttotal: 9.79ms\tremaining: 121ms\n",
      "3:\tlearn: 19.9611553\ttotal: 13.2ms\tremaining: 119ms\n",
      "4:\tlearn: 19.1178396\ttotal: 16.5ms\tremaining: 116ms\n",
      "5:\tlearn: 18.6607874\ttotal: 19.6ms\tremaining: 111ms\n",
      "6:\tlearn: 18.1028510\ttotal: 22.9ms\tremaining: 108ms\n",
      "7:\tlearn: 17.8277936\ttotal: 25.9ms\tremaining: 104ms\n",
      "8:\tlearn: 17.5497150\ttotal: 29.3ms\tremaining: 101ms\n",
      "9:\tlearn: 17.0648883\ttotal: 32.5ms\tremaining: 97.4ms\n",
      "10:\tlearn: 16.7923055\ttotal: 35.7ms\tremaining: 94ms\n",
      "11:\tlearn: 16.4444010\ttotal: 39ms\tremaining: 91ms\n",
      "12:\tlearn: 16.1986978\ttotal: 42.5ms\tremaining: 88.3ms\n",
      "13:\tlearn: 15.9808711\ttotal: 45.8ms\tremaining: 85.1ms\n",
      "14:\tlearn: 15.6844191\ttotal: 49.1ms\tremaining: 81.9ms\n",
      "15:\tlearn: 15.5506037\ttotal: 52.3ms\tremaining: 78.4ms\n",
      "16:\tlearn: 15.3826064\ttotal: 55.6ms\tremaining: 75.2ms\n",
      "17:\tlearn: 15.1008692\ttotal: 58.8ms\tremaining: 71.9ms\n",
      "18:\tlearn: 14.9195837\ttotal: 62.1ms\tremaining: 68.7ms\n",
      "19:\tlearn: 14.7693932\ttotal: 65.3ms\tremaining: 65.3ms\n",
      "20:\tlearn: 14.5493490\ttotal: 68.6ms\tremaining: 62.1ms\n",
      "21:\tlearn: 14.4266477\ttotal: 72.5ms\tremaining: 59.3ms\n",
      "22:\tlearn: 14.2041298\ttotal: 77.2ms\tremaining: 57ms\n",
      "23:\tlearn: 13.8910570\ttotal: 81.3ms\tremaining: 54.2ms\n",
      "24:\tlearn: 13.6991332\ttotal: 84.6ms\tremaining: 50.7ms\n",
      "25:\tlearn: 13.4876614\ttotal: 87.8ms\tremaining: 47.3ms\n",
      "26:\tlearn: 13.1810155\ttotal: 91.3ms\tremaining: 43.9ms\n",
      "27:\tlearn: 13.1092546\ttotal: 94.5ms\tremaining: 40.5ms\n",
      "28:\tlearn: 13.0881271\ttotal: 97.7ms\tremaining: 37.1ms\n",
      "29:\tlearn: 13.0713164\ttotal: 101ms\tremaining: 33.6ms\n",
      "30:\tlearn: 12.9453149\ttotal: 104ms\tremaining: 30.3ms\n",
      "31:\tlearn: 12.7395966\ttotal: 108ms\tremaining: 26.9ms\n",
      "32:\tlearn: 12.6332088\ttotal: 111ms\tremaining: 23.5ms\n",
      "33:\tlearn: 12.4338724\ttotal: 114ms\tremaining: 20.1ms\n",
      "34:\tlearn: 12.2731074\ttotal: 118ms\tremaining: 16.8ms\n",
      "35:\tlearn: 12.0624575\ttotal: 121ms\tremaining: 13.4ms\n",
      "36:\tlearn: 11.8231565\ttotal: 124ms\tremaining: 10.1ms\n",
      "37:\tlearn: 11.6175171\ttotal: 127ms\tremaining: 6.7ms\n",
      "38:\tlearn: 11.5156255\ttotal: 130ms\tremaining: 3.34ms\n",
      "39:\tlearn: 11.4887727\ttotal: 134ms\tremaining: 0us\n",
      "[CV] END ....learning_rate=0.4, max_depth=6, n_estimators=40; total time=   0.8s\n",
      "0:\tlearn: 26.7600307\ttotal: 5.14ms\tremaining: 201ms\n",
      "1:\tlearn: 24.0415219\ttotal: 11.1ms\tremaining: 212ms\n",
      "2:\tlearn: 22.0418178\ttotal: 16.5ms\tremaining: 204ms\n",
      "3:\tlearn: 20.9843709\ttotal: 21.3ms\tremaining: 192ms\n",
      "4:\tlearn: 20.1583733\ttotal: 26.2ms\tremaining: 183ms\n",
      "5:\tlearn: 19.6415829\ttotal: 30.6ms\tremaining: 174ms\n",
      "6:\tlearn: 19.0752219\ttotal: 34.8ms\tremaining: 164ms\n",
      "7:\tlearn: 18.6710495\ttotal: 39.8ms\tremaining: 159ms\n",
      "8:\tlearn: 18.3835911\ttotal: 44.9ms\tremaining: 155ms\n",
      "9:\tlearn: 18.0980281\ttotal: 51.3ms\tremaining: 154ms\n",
      "10:\tlearn: 17.8103976\ttotal: 56.2ms\tremaining: 148ms\n",
      "11:\tlearn: 17.4572535\ttotal: 62.3ms\tremaining: 145ms\n",
      "12:\tlearn: 17.2464305\ttotal: 68.8ms\tremaining: 143ms\n",
      "13:\tlearn: 17.1070963\ttotal: 74.3ms\tremaining: 138ms\n",
      "14:\tlearn: 16.8620554\ttotal: 79.6ms\tremaining: 133ms\n",
      "15:\tlearn: 16.5770722\ttotal: 84.7ms\tremaining: 127ms\n",
      "16:\tlearn: 16.4113968\ttotal: 91.3ms\tremaining: 123ms\n",
      "17:\tlearn: 16.1654885\ttotal: 96.5ms\tremaining: 118ms\n",
      "18:\tlearn: 15.9913548\ttotal: 101ms\tremaining: 112ms\n",
      "19:\tlearn: 15.8337438\ttotal: 105ms\tremaining: 105ms\n",
      "20:\tlearn: 15.7036125\ttotal: 110ms\tremaining: 99.6ms\n",
      "21:\tlearn: 15.5357173\ttotal: 116ms\tremaining: 94.7ms\n",
      "22:\tlearn: 15.3108595\ttotal: 121ms\tremaining: 89.4ms\n",
      "23:\tlearn: 15.2342321\ttotal: 126ms\tremaining: 83.7ms\n",
      "24:\tlearn: 15.1119159\ttotal: 131ms\tremaining: 78.6ms\n",
      "25:\tlearn: 14.9635322\ttotal: 137ms\tremaining: 73.8ms\n",
      "26:\tlearn: 14.9466171\ttotal: 143ms\tremaining: 68.8ms\n",
      "27:\tlearn: 14.8119832\ttotal: 148ms\tremaining: 63.2ms\n",
      "28:\tlearn: 14.5521614\ttotal: 153ms\tremaining: 57.9ms\n",
      "29:\tlearn: 14.3738266\ttotal: 158ms\tremaining: 52.8ms\n",
      "30:\tlearn: 14.1970209\ttotal: 162ms\tremaining: 47.2ms\n",
      "31:\tlearn: 13.9756883\ttotal: 167ms\tremaining: 41.8ms\n",
      "32:\tlearn: 13.8224673\ttotal: 172ms\tremaining: 36.6ms\n",
      "33:\tlearn: 13.5881516\ttotal: 179ms\tremaining: 31.5ms\n",
      "34:\tlearn: 13.4857743\ttotal: 185ms\tremaining: 26.4ms\n",
      "35:\tlearn: 13.3531730\ttotal: 191ms\tremaining: 21.2ms\n",
      "36:\tlearn: 13.1815593\ttotal: 196ms\tremaining: 15.9ms\n",
      "37:\tlearn: 13.0651321\ttotal: 202ms\tremaining: 10.6ms\n",
      "38:\tlearn: 12.8662501\ttotal: 208ms\tremaining: 5.33ms\n",
      "39:\tlearn: 12.7693930\ttotal: 214ms\tremaining: 0us\n",
      "[CV] END ....learning_rate=0.4, max_depth=6, n_estimators=40; total time=   0.9s\n",
      "0:\tlearn: 27.6509287\ttotal: 6.26ms\tremaining: 244ms\n",
      "1:\tlearn: 24.7902393\ttotal: 11ms\tremaining: 209ms\n",
      "2:\tlearn: 22.8585884\ttotal: 15.1ms\tremaining: 186ms\n",
      "3:\tlearn: 21.6636235\ttotal: 19.1ms\tremaining: 172ms\n",
      "4:\tlearn: 21.1079951\ttotal: 23ms\tremaining: 161ms\n",
      "5:\tlearn: 20.6680855\ttotal: 26.9ms\tremaining: 152ms\n",
      "6:\tlearn: 20.2433819\ttotal: 30.7ms\tremaining: 145ms\n",
      "7:\tlearn: 19.8014812\ttotal: 34.7ms\tremaining: 139ms\n",
      "8:\tlearn: 19.5426416\ttotal: 38.5ms\tremaining: 133ms\n",
      "9:\tlearn: 19.2708393\ttotal: 42.5ms\tremaining: 127ms\n",
      "10:\tlearn: 19.0091719\ttotal: 46.2ms\tremaining: 122ms\n",
      "11:\tlearn: 18.8393383\ttotal: 50.4ms\tremaining: 118ms\n",
      "12:\tlearn: 18.6071184\ttotal: 54.8ms\tremaining: 114ms\n",
      "13:\tlearn: 18.4614563\ttotal: 58.7ms\tremaining: 109ms\n",
      "14:\tlearn: 18.3341965\ttotal: 62.9ms\tremaining: 105ms\n",
      "15:\tlearn: 18.2063309\ttotal: 67.3ms\tremaining: 101ms\n",
      "16:\tlearn: 18.0295109\ttotal: 72.4ms\tremaining: 98ms\n",
      "17:\tlearn: 17.9542653\ttotal: 76.3ms\tremaining: 93.2ms\n",
      "18:\tlearn: 17.7344642\ttotal: 80.5ms\tremaining: 89ms\n",
      "19:\tlearn: 17.5146185\ttotal: 84.9ms\tremaining: 84.9ms\n",
      "20:\tlearn: 17.4317991\ttotal: 90.8ms\tremaining: 82.1ms\n",
      "21:\tlearn: 17.2627790\ttotal: 96.6ms\tremaining: 79ms\n",
      "22:\tlearn: 17.1489349\ttotal: 102ms\tremaining: 75.1ms\n",
      "23:\tlearn: 16.9956387\ttotal: 106ms\tremaining: 70.5ms\n",
      "24:\tlearn: 16.9057469\ttotal: 110ms\tremaining: 65.8ms\n",
      "25:\tlearn: 16.8924905\ttotal: 113ms\tremaining: 61.1ms\n",
      "26:\tlearn: 16.6620059\ttotal: 117ms\tremaining: 56.5ms\n",
      "27:\tlearn: 16.5024170\ttotal: 122ms\tremaining: 52.1ms\n",
      "28:\tlearn: 16.3618162\ttotal: 125ms\tremaining: 47.6ms\n",
      "29:\tlearn: 16.1755935\ttotal: 129ms\tremaining: 43.1ms\n",
      "30:\tlearn: 15.9826254\ttotal: 133ms\tremaining: 38.7ms\n",
      "31:\tlearn: 15.8650669\ttotal: 137ms\tremaining: 34.3ms\n",
      "32:\tlearn: 15.7731769\ttotal: 141ms\tremaining: 29.8ms\n",
      "33:\tlearn: 15.6596031\ttotal: 144ms\tremaining: 25.5ms\n",
      "34:\tlearn: 15.5597026\ttotal: 148ms\tremaining: 21.2ms\n",
      "35:\tlearn: 15.4440232\ttotal: 152ms\tremaining: 16.9ms\n",
      "36:\tlearn: 15.3478460\ttotal: 156ms\tremaining: 12.7ms\n",
      "37:\tlearn: 15.1345001\ttotal: 160ms\tremaining: 8.44ms\n",
      "38:\tlearn: 14.9747251\ttotal: 164ms\tremaining: 4.21ms\n",
      "39:\tlearn: 14.8512472\ttotal: 168ms\tremaining: 0us\n",
      "[CV] END ....learning_rate=0.4, max_depth=6, n_estimators=40; total time=   0.7s\n",
      "0:\tlearn: 28.7559862\ttotal: 4.84ms\tremaining: 189ms\n",
      "1:\tlearn: 25.7000417\ttotal: 9.37ms\tremaining: 178ms\n",
      "2:\tlearn: 23.7936621\ttotal: 13.9ms\tremaining: 171ms\n",
      "3:\tlearn: 22.7370563\ttotal: 18.1ms\tremaining: 163ms\n",
      "4:\tlearn: 22.1362542\ttotal: 22.2ms\tremaining: 156ms\n",
      "5:\tlearn: 21.6954730\ttotal: 26.6ms\tremaining: 151ms\n",
      "6:\tlearn: 21.3011668\ttotal: 30.8ms\tremaining: 145ms\n",
      "7:\tlearn: 21.0223286\ttotal: 35ms\tremaining: 140ms\n",
      "8:\tlearn: 20.8442010\ttotal: 39.2ms\tremaining: 135ms\n",
      "9:\tlearn: 20.5560318\ttotal: 43.7ms\tremaining: 131ms\n",
      "10:\tlearn: 20.4389568\ttotal: 48ms\tremaining: 126ms\n",
      "11:\tlearn: 20.2337195\ttotal: 52.1ms\tremaining: 122ms\n",
      "12:\tlearn: 20.0473059\ttotal: 56.1ms\tremaining: 117ms\n",
      "13:\tlearn: 19.7857643\ttotal: 60.5ms\tremaining: 112ms\n",
      "14:\tlearn: 19.6039355\ttotal: 64.6ms\tremaining: 108ms\n",
      "15:\tlearn: 19.4702913\ttotal: 70.8ms\tremaining: 106ms\n",
      "16:\tlearn: 19.2633818\ttotal: 76.9ms\tremaining: 104ms\n",
      "17:\tlearn: 19.0359055\ttotal: 81.9ms\tremaining: 100ms\n",
      "18:\tlearn: 18.8840176\ttotal: 86.1ms\tremaining: 95.1ms\n",
      "19:\tlearn: 18.7891640\ttotal: 90ms\tremaining: 90ms\n",
      "20:\tlearn: 18.7140933\ttotal: 94ms\tremaining: 85ms\n",
      "21:\tlearn: 18.5785772\ttotal: 98.2ms\tremaining: 80.4ms\n",
      "22:\tlearn: 18.4515449\ttotal: 102ms\tremaining: 75.7ms\n",
      "23:\tlearn: 18.3783417\ttotal: 106ms\tremaining: 71ms\n",
      "24:\tlearn: 18.2287477\ttotal: 111ms\tremaining: 66.5ms\n",
      "25:\tlearn: 18.0364191\ttotal: 115ms\tremaining: 61.9ms\n",
      "26:\tlearn: 17.9137478\ttotal: 119ms\tremaining: 57.4ms\n",
      "27:\tlearn: 17.8285132\ttotal: 123ms\tremaining: 52.8ms\n",
      "28:\tlearn: 17.7046374\ttotal: 127ms\tremaining: 48.4ms\n",
      "29:\tlearn: 17.5627798\ttotal: 132ms\tremaining: 43.8ms\n",
      "30:\tlearn: 17.3713374\ttotal: 136ms\tremaining: 39.4ms\n",
      "31:\tlearn: 17.3050345\ttotal: 140ms\tremaining: 35ms\n",
      "32:\tlearn: 17.1655972\ttotal: 144ms\tremaining: 30.6ms\n",
      "33:\tlearn: 16.9838872\ttotal: 148ms\tremaining: 26.2ms\n",
      "34:\tlearn: 16.8425733\ttotal: 152ms\tremaining: 21.8ms\n",
      "35:\tlearn: 16.6567387\ttotal: 157ms\tremaining: 17.4ms\n",
      "36:\tlearn: 16.6309324\ttotal: 163ms\tremaining: 13.2ms\n",
      "37:\tlearn: 16.5052740\ttotal: 169ms\tremaining: 8.89ms\n",
      "38:\tlearn: 16.3821633\ttotal: 174ms\tremaining: 4.45ms\n",
      "39:\tlearn: 16.2521280\ttotal: 178ms\tremaining: 0us\n",
      "[CV] END ....learning_rate=0.4, max_depth=6, n_estimators=40; total time=   0.9s\n",
      "0:\tlearn: 24.7659649\ttotal: 3.42ms\tremaining: 168ms\n",
      "1:\tlearn: 21.8790719\ttotal: 6.52ms\tremaining: 157ms\n",
      "2:\tlearn: 19.5809571\ttotal: 9.65ms\tremaining: 151ms\n",
      "3:\tlearn: 18.3272202\ttotal: 12.6ms\tremaining: 145ms\n",
      "4:\tlearn: 17.3094152\ttotal: 15.3ms\tremaining: 138ms\n",
      "5:\tlearn: 16.5861711\ttotal: 18.1ms\tremaining: 133ms\n",
      "6:\tlearn: 16.1677304\ttotal: 20.9ms\tremaining: 128ms\n",
      "7:\tlearn: 15.6375816\ttotal: 23.7ms\tremaining: 125ms\n",
      "8:\tlearn: 15.3589623\ttotal: 26.6ms\tremaining: 121ms\n",
      "9:\tlearn: 15.0316382\ttotal: 29.3ms\tremaining: 117ms\n",
      "10:\tlearn: 14.6179498\ttotal: 32.1ms\tremaining: 114ms\n",
      "11:\tlearn: 14.2862018\ttotal: 34.7ms\tremaining: 110ms\n",
      "12:\tlearn: 14.0102321\ttotal: 37.6ms\tremaining: 107ms\n",
      "13:\tlearn: 13.6722578\ttotal: 40.2ms\tremaining: 103ms\n",
      "14:\tlearn: 13.2961546\ttotal: 43.1ms\tremaining: 100ms\n",
      "15:\tlearn: 13.1159774\ttotal: 45.7ms\tremaining: 97.1ms\n",
      "16:\tlearn: 12.7831210\ttotal: 48.8ms\tremaining: 94.7ms\n",
      "17:\tlearn: 12.5686097\ttotal: 52.5ms\tremaining: 93.3ms\n",
      "18:\tlearn: 12.2993524\ttotal: 56.5ms\tremaining: 92.2ms\n",
      "19:\tlearn: 12.1603035\ttotal: 60.4ms\tremaining: 90.6ms\n",
      "20:\tlearn: 11.9910571\ttotal: 64.2ms\tremaining: 88.6ms\n",
      "21:\tlearn: 11.8268716\ttotal: 67ms\tremaining: 85.3ms\n",
      "22:\tlearn: 11.4582979\ttotal: 69.6ms\tremaining: 81.7ms\n",
      "23:\tlearn: 11.3682089\ttotal: 72.4ms\tremaining: 78.4ms\n",
      "24:\tlearn: 10.9988424\ttotal: 75.1ms\tremaining: 75.1ms\n",
      "25:\tlearn: 10.6606839\ttotal: 77.9ms\tremaining: 71.9ms\n",
      "26:\tlearn: 10.5757119\ttotal: 80.7ms\tremaining: 68.8ms\n",
      "27:\tlearn: 10.2608839\ttotal: 83.4ms\tremaining: 65.6ms\n",
      "28:\tlearn: 10.0515530\ttotal: 86.1ms\tremaining: 62.3ms\n",
      "29:\tlearn: 9.9687044\ttotal: 88.8ms\tremaining: 59.2ms\n",
      "30:\tlearn: 9.9424944\ttotal: 91.5ms\tremaining: 56.1ms\n",
      "31:\tlearn: 9.7811751\ttotal: 94.3ms\tremaining: 53ms\n",
      "32:\tlearn: 9.4834239\ttotal: 97ms\tremaining: 50ms\n",
      "33:\tlearn: 9.2380899\ttotal: 99.9ms\tremaining: 47ms\n",
      "34:\tlearn: 9.1951010\ttotal: 103ms\tremaining: 44ms\n",
      "35:\tlearn: 8.9764830\ttotal: 106ms\tremaining: 41.1ms\n",
      "36:\tlearn: 8.8212455\ttotal: 108ms\tremaining: 38.1ms\n",
      "37:\tlearn: 8.6035757\ttotal: 111ms\tremaining: 35.1ms\n",
      "38:\tlearn: 8.5181022\ttotal: 114ms\tremaining: 32.1ms\n",
      "39:\tlearn: 8.2901246\ttotal: 116ms\tremaining: 29.1ms\n",
      "40:\tlearn: 8.1023837\ttotal: 119ms\tremaining: 26.2ms\n",
      "41:\tlearn: 7.9204837\ttotal: 122ms\tremaining: 23.3ms\n",
      "42:\tlearn: 7.8269775\ttotal: 125ms\tremaining: 20.3ms\n",
      "43:\tlearn: 7.7902992\ttotal: 128ms\tremaining: 17.4ms\n",
      "44:\tlearn: 7.5909705\ttotal: 131ms\tremaining: 14.5ms\n",
      "45:\tlearn: 7.4979622\ttotal: 133ms\tremaining: 11.6ms\n",
      "46:\tlearn: 7.2948331\ttotal: 136ms\tremaining: 8.68ms\n",
      "47:\tlearn: 7.2748758\ttotal: 141ms\tremaining: 5.87ms\n",
      "48:\tlearn: 7.1590041\ttotal: 145ms\tremaining: 2.96ms\n",
      "49:\tlearn: 7.1471801\ttotal: 149ms\tremaining: 0us\n",
      "[CV] END ....learning_rate=0.4, max_depth=6, n_estimators=50; total time=   0.7s\n",
      "0:\tlearn: 25.9680402\ttotal: 3.76ms\tremaining: 184ms\n",
      "1:\tlearn: 23.5010303\ttotal: 7.32ms\tremaining: 176ms\n",
      "2:\tlearn: 21.1417572\ttotal: 10.7ms\tremaining: 168ms\n",
      "3:\tlearn: 19.9611553\ttotal: 14.1ms\tremaining: 162ms\n",
      "4:\tlearn: 19.1178396\ttotal: 17.5ms\tremaining: 157ms\n",
      "5:\tlearn: 18.6607874\ttotal: 20.6ms\tremaining: 151ms\n",
      "6:\tlearn: 18.1028510\ttotal: 24.2ms\tremaining: 149ms\n",
      "7:\tlearn: 17.8277936\ttotal: 30.1ms\tremaining: 158ms\n",
      "8:\tlearn: 17.5497150\ttotal: 33.4ms\tremaining: 152ms\n",
      "9:\tlearn: 17.0648883\ttotal: 36.8ms\tremaining: 147ms\n",
      "10:\tlearn: 16.7923055\ttotal: 40.1ms\tremaining: 142ms\n",
      "11:\tlearn: 16.4444010\ttotal: 43.2ms\tremaining: 137ms\n",
      "12:\tlearn: 16.1986978\ttotal: 46.5ms\tremaining: 132ms\n",
      "13:\tlearn: 15.9808711\ttotal: 49.9ms\tremaining: 128ms\n",
      "14:\tlearn: 15.6844191\ttotal: 53.2ms\tremaining: 124ms\n",
      "15:\tlearn: 15.5506037\ttotal: 56.6ms\tremaining: 120ms\n",
      "16:\tlearn: 15.3826064\ttotal: 60ms\tremaining: 116ms\n",
      "17:\tlearn: 15.1008692\ttotal: 64ms\tremaining: 114ms\n",
      "18:\tlearn: 14.9195837\ttotal: 67.6ms\tremaining: 110ms\n",
      "19:\tlearn: 14.7693932\ttotal: 71.1ms\tremaining: 107ms\n",
      "20:\tlearn: 14.5493490\ttotal: 75ms\tremaining: 104ms\n",
      "21:\tlearn: 14.4266477\ttotal: 78.7ms\tremaining: 100ms\n",
      "22:\tlearn: 14.2041298\ttotal: 82.8ms\tremaining: 97.2ms\n",
      "23:\tlearn: 13.8910570\ttotal: 86.1ms\tremaining: 93.3ms\n",
      "24:\tlearn: 13.6991332\ttotal: 89.9ms\tremaining: 89.9ms\n",
      "25:\tlearn: 13.4876614\ttotal: 93.6ms\tremaining: 86.4ms\n",
      "26:\tlearn: 13.1810155\ttotal: 97.7ms\tremaining: 83.2ms\n",
      "27:\tlearn: 13.1092546\ttotal: 101ms\tremaining: 79.3ms\n",
      "28:\tlearn: 13.0881271\ttotal: 104ms\tremaining: 75.5ms\n",
      "29:\tlearn: 13.0713164\ttotal: 108ms\tremaining: 72.2ms\n",
      "30:\tlearn: 12.9453149\ttotal: 113ms\tremaining: 69.3ms\n",
      "31:\tlearn: 12.7395966\ttotal: 118ms\tremaining: 66.4ms\n",
      "32:\tlearn: 12.6332088\ttotal: 123ms\tremaining: 63.4ms\n",
      "33:\tlearn: 12.4338724\ttotal: 127ms\tremaining: 59.5ms\n",
      "34:\tlearn: 12.2731074\ttotal: 130ms\tremaining: 55.6ms\n",
      "35:\tlearn: 12.0624575\ttotal: 133ms\tremaining: 51.7ms\n",
      "36:\tlearn: 11.8231565\ttotal: 137ms\tremaining: 48ms\n",
      "37:\tlearn: 11.6175171\ttotal: 140ms\tremaining: 44.3ms\n",
      "38:\tlearn: 11.5156255\ttotal: 144ms\tremaining: 40.7ms\n",
      "39:\tlearn: 11.4887727\ttotal: 148ms\tremaining: 37ms\n",
      "40:\tlearn: 11.3862141\ttotal: 152ms\tremaining: 33.3ms\n",
      "41:\tlearn: 11.1406975\ttotal: 155ms\tremaining: 29.6ms\n",
      "42:\tlearn: 10.9527615\ttotal: 159ms\tremaining: 25.9ms\n",
      "43:\tlearn: 10.9394097\ttotal: 163ms\tremaining: 22.3ms\n",
      "44:\tlearn: 10.7953011\ttotal: 167ms\tremaining: 18.6ms\n",
      "45:\tlearn: 10.7238369\ttotal: 170ms\tremaining: 14.8ms\n",
      "46:\tlearn: 10.6139167\ttotal: 174ms\tremaining: 11.1ms\n",
      "47:\tlearn: 10.5056982\ttotal: 178ms\tremaining: 7.41ms\n",
      "48:\tlearn: 10.4963477\ttotal: 181ms\tremaining: 3.7ms\n",
      "49:\tlearn: 10.3789113\ttotal: 186ms\tremaining: 0us\n",
      "[CV] END ....learning_rate=0.4, max_depth=6, n_estimators=50; total time=   0.8s\n",
      "0:\tlearn: 26.7600307\ttotal: 4.21ms\tremaining: 206ms\n",
      "1:\tlearn: 24.0415219\ttotal: 8.54ms\tremaining: 205ms\n",
      "2:\tlearn: 22.0418178\ttotal: 12.4ms\tremaining: 194ms\n",
      "3:\tlearn: 20.9843709\ttotal: 16ms\tremaining: 184ms\n",
      "4:\tlearn: 20.1583733\ttotal: 20ms\tremaining: 180ms\n",
      "5:\tlearn: 19.6415829\ttotal: 23.9ms\tremaining: 176ms\n",
      "6:\tlearn: 19.0752219\ttotal: 27.6ms\tremaining: 169ms\n",
      "7:\tlearn: 18.6710495\ttotal: 31.4ms\tremaining: 165ms\n",
      "8:\tlearn: 18.3835911\ttotal: 35.1ms\tremaining: 160ms\n",
      "9:\tlearn: 18.0980281\ttotal: 38.9ms\tremaining: 156ms\n",
      "10:\tlearn: 17.8103976\ttotal: 42.6ms\tremaining: 151ms\n",
      "11:\tlearn: 17.4572535\ttotal: 46.3ms\tremaining: 147ms\n",
      "12:\tlearn: 17.2464305\ttotal: 50ms\tremaining: 142ms\n",
      "13:\tlearn: 17.1070963\ttotal: 53.6ms\tremaining: 138ms\n",
      "14:\tlearn: 16.8620554\ttotal: 58.7ms\tremaining: 137ms\n",
      "15:\tlearn: 16.5770722\ttotal: 64.3ms\tremaining: 137ms\n",
      "16:\tlearn: 16.4113968\ttotal: 68.3ms\tremaining: 133ms\n",
      "17:\tlearn: 16.1654885\ttotal: 72.8ms\tremaining: 129ms\n",
      "18:\tlearn: 15.9913548\ttotal: 76.8ms\tremaining: 125ms\n",
      "19:\tlearn: 15.8337438\ttotal: 80.5ms\tremaining: 121ms\n",
      "20:\tlearn: 15.7036125\ttotal: 84.3ms\tremaining: 116ms\n",
      "21:\tlearn: 15.5357173\ttotal: 88.1ms\tremaining: 112ms\n",
      "22:\tlearn: 15.3108595\ttotal: 91.7ms\tremaining: 108ms\n",
      "23:\tlearn: 15.2342321\ttotal: 95.6ms\tremaining: 104ms\n",
      "24:\tlearn: 15.1119159\ttotal: 99.4ms\tremaining: 99.4ms\n",
      "25:\tlearn: 14.9635322\ttotal: 103ms\tremaining: 95.4ms\n",
      "26:\tlearn: 14.9466171\ttotal: 107ms\tremaining: 91.1ms\n",
      "27:\tlearn: 14.8119832\ttotal: 111ms\tremaining: 86.8ms\n",
      "28:\tlearn: 14.5521614\ttotal: 114ms\tremaining: 82.7ms\n",
      "29:\tlearn: 14.3738266\ttotal: 118ms\tremaining: 78.5ms\n",
      "30:\tlearn: 14.1970209\ttotal: 122ms\tremaining: 74.6ms\n",
      "31:\tlearn: 13.9756883\ttotal: 125ms\tremaining: 70.6ms\n",
      "32:\tlearn: 13.8224673\ttotal: 129ms\tremaining: 66.6ms\n",
      "33:\tlearn: 13.5881516\ttotal: 133ms\tremaining: 62.6ms\n",
      "34:\tlearn: 13.4857743\ttotal: 137ms\tremaining: 58.6ms\n",
      "35:\tlearn: 13.3531730\ttotal: 141ms\tremaining: 54.7ms\n",
      "36:\tlearn: 13.1815593\ttotal: 144ms\tremaining: 50.7ms\n",
      "37:\tlearn: 13.0651321\ttotal: 149ms\tremaining: 47.1ms\n",
      "38:\tlearn: 12.8662501\ttotal: 155ms\tremaining: 43.7ms\n",
      "39:\tlearn: 12.7693930\ttotal: 160ms\tremaining: 40ms\n",
      "40:\tlearn: 12.5975168\ttotal: 164ms\tremaining: 36ms\n",
      "41:\tlearn: 12.4002063\ttotal: 168ms\tremaining: 31.9ms\n",
      "42:\tlearn: 12.2860037\ttotal: 171ms\tremaining: 27.8ms\n",
      "43:\tlearn: 12.1235773\ttotal: 175ms\tremaining: 23.8ms\n",
      "44:\tlearn: 11.9841365\ttotal: 179ms\tremaining: 19.8ms\n",
      "45:\tlearn: 11.8547187\ttotal: 182ms\tremaining: 15.9ms\n",
      "46:\tlearn: 11.7261986\ttotal: 186ms\tremaining: 11.9ms\n",
      "47:\tlearn: 11.6229088\ttotal: 190ms\tremaining: 7.9ms\n",
      "48:\tlearn: 11.5162137\ttotal: 194ms\tremaining: 3.95ms\n",
      "49:\tlearn: 11.4482431\ttotal: 197ms\tremaining: 0us\n",
      "[CV] END ....learning_rate=0.4, max_depth=6, n_estimators=50; total time=   0.8s\n",
      "0:\tlearn: 27.6509287\ttotal: 4.64ms\tremaining: 227ms\n",
      "1:\tlearn: 24.7902393\ttotal: 9.13ms\tremaining: 219ms\n",
      "2:\tlearn: 22.8585884\ttotal: 13.4ms\tremaining: 210ms\n",
      "3:\tlearn: 21.6636235\ttotal: 17.7ms\tremaining: 203ms\n",
      "4:\tlearn: 21.1079951\ttotal: 21.8ms\tremaining: 196ms\n",
      "5:\tlearn: 20.6680855\ttotal: 26.2ms\tremaining: 192ms\n",
      "6:\tlearn: 20.2433819\ttotal: 30.4ms\tremaining: 187ms\n",
      "7:\tlearn: 19.8014812\ttotal: 34.7ms\tremaining: 182ms\n",
      "8:\tlearn: 19.5426416\ttotal: 38.8ms\tremaining: 177ms\n",
      "9:\tlearn: 19.2708393\ttotal: 44.3ms\tremaining: 177ms\n",
      "10:\tlearn: 19.0091719\ttotal: 48.5ms\tremaining: 172ms\n",
      "11:\tlearn: 18.8393383\ttotal: 52.6ms\tremaining: 167ms\n",
      "12:\tlearn: 18.6071184\ttotal: 56.9ms\tremaining: 162ms\n",
      "13:\tlearn: 18.4614563\ttotal: 61.2ms\tremaining: 157ms\n",
      "14:\tlearn: 18.3341965\ttotal: 67.1ms\tremaining: 157ms\n",
      "15:\tlearn: 18.2063309\ttotal: 73.1ms\tremaining: 155ms\n",
      "16:\tlearn: 18.0295109\ttotal: 77.9ms\tremaining: 151ms\n",
      "17:\tlearn: 17.9542653\ttotal: 82ms\tremaining: 146ms\n",
      "18:\tlearn: 17.7344642\ttotal: 86.2ms\tremaining: 141ms\n",
      "19:\tlearn: 17.5146185\ttotal: 90.6ms\tremaining: 136ms\n",
      "20:\tlearn: 17.4317991\ttotal: 94.7ms\tremaining: 131ms\n",
      "21:\tlearn: 17.2627790\ttotal: 98.8ms\tremaining: 126ms\n",
      "22:\tlearn: 17.1489349\ttotal: 103ms\tremaining: 121ms\n",
      "23:\tlearn: 16.9956387\ttotal: 107ms\tremaining: 116ms\n",
      "24:\tlearn: 16.9057469\ttotal: 111ms\tremaining: 111ms\n",
      "25:\tlearn: 16.8924905\ttotal: 115ms\tremaining: 106ms\n",
      "26:\tlearn: 16.6620059\ttotal: 119ms\tremaining: 101ms\n",
      "27:\tlearn: 16.5024170\ttotal: 123ms\tremaining: 96.7ms\n",
      "28:\tlearn: 16.3618162\ttotal: 127ms\tremaining: 92.2ms\n",
      "29:\tlearn: 16.1755935\ttotal: 131ms\tremaining: 87.7ms\n",
      "30:\tlearn: 15.9826254\ttotal: 136ms\tremaining: 83.1ms\n",
      "31:\tlearn: 15.8650669\ttotal: 140ms\tremaining: 78.7ms\n",
      "32:\tlearn: 15.7731769\ttotal: 144ms\tremaining: 74.2ms\n",
      "33:\tlearn: 15.6596031\ttotal: 148ms\tremaining: 69.7ms\n",
      "34:\tlearn: 15.5597026\ttotal: 154ms\tremaining: 65.9ms\n",
      "35:\tlearn: 15.4440232\ttotal: 160ms\tremaining: 62.2ms\n",
      "36:\tlearn: 15.3478460\ttotal: 165ms\tremaining: 58ms\n",
      "37:\tlearn: 15.1345001\ttotal: 169ms\tremaining: 53.4ms\n",
      "38:\tlearn: 14.9747251\ttotal: 174ms\tremaining: 49ms\n",
      "39:\tlearn: 14.8512472\ttotal: 178ms\tremaining: 44.6ms\n",
      "40:\tlearn: 14.7725011\ttotal: 183ms\tremaining: 40.1ms\n",
      "41:\tlearn: 14.6452973\ttotal: 187ms\tremaining: 35.6ms\n",
      "42:\tlearn: 14.5375476\ttotal: 191ms\tremaining: 31.1ms\n",
      "43:\tlearn: 14.3826560\ttotal: 195ms\tremaining: 26.6ms\n",
      "44:\tlearn: 14.2380229\ttotal: 199ms\tremaining: 22.1ms\n",
      "45:\tlearn: 14.1354371\ttotal: 203ms\tremaining: 17.7ms\n",
      "46:\tlearn: 14.0118299\ttotal: 207ms\tremaining: 13.2ms\n",
      "47:\tlearn: 13.9007463\ttotal: 212ms\tremaining: 8.82ms\n",
      "48:\tlearn: 13.7833783\ttotal: 216ms\tremaining: 4.4ms\n",
      "49:\tlearn: 13.6225692\ttotal: 220ms\tremaining: 0us\n",
      "[CV] END ....learning_rate=0.4, max_depth=6, n_estimators=50; total time=   0.9s\n",
      "0:\tlearn: 28.7559862\ttotal: 5ms\tremaining: 245ms\n",
      "1:\tlearn: 25.7000417\ttotal: 9.85ms\tremaining: 236ms\n",
      "2:\tlearn: 23.7936621\ttotal: 14.4ms\tremaining: 226ms\n",
      "3:\tlearn: 22.7370563\ttotal: 19ms\tremaining: 218ms\n",
      "4:\tlearn: 22.1362542\ttotal: 23.2ms\tremaining: 209ms\n",
      "5:\tlearn: 21.6954730\ttotal: 27.6ms\tremaining: 202ms\n",
      "6:\tlearn: 21.3011668\ttotal: 32ms\tremaining: 197ms\n",
      "7:\tlearn: 21.0223286\ttotal: 36.8ms\tremaining: 193ms\n",
      "8:\tlearn: 20.8442010\ttotal: 41.1ms\tremaining: 187ms\n",
      "9:\tlearn: 20.5560318\ttotal: 45.5ms\tremaining: 182ms\n",
      "10:\tlearn: 20.4389568\ttotal: 49.9ms\tremaining: 177ms\n",
      "11:\tlearn: 20.2337195\ttotal: 54.2ms\tremaining: 172ms\n",
      "12:\tlearn: 20.0473059\ttotal: 58.5ms\tremaining: 166ms\n",
      "13:\tlearn: 19.7857643\ttotal: 63.9ms\tremaining: 164ms\n",
      "14:\tlearn: 19.6039355\ttotal: 70.5ms\tremaining: 165ms\n",
      "15:\tlearn: 19.4702913\ttotal: 74.8ms\tremaining: 159ms\n",
      "16:\tlearn: 19.2633818\ttotal: 79.7ms\tremaining: 155ms\n",
      "17:\tlearn: 19.0359055\ttotal: 85.3ms\tremaining: 152ms\n",
      "18:\tlearn: 18.8840176\ttotal: 89.7ms\tremaining: 146ms\n",
      "19:\tlearn: 18.7891640\ttotal: 94ms\tremaining: 141ms\n",
      "20:\tlearn: 18.7140933\ttotal: 98.2ms\tremaining: 136ms\n",
      "21:\tlearn: 18.5785772\ttotal: 103ms\tremaining: 131ms\n",
      "22:\tlearn: 18.4515449\ttotal: 107ms\tremaining: 125ms\n",
      "23:\tlearn: 18.3783417\ttotal: 111ms\tremaining: 120ms\n",
      "24:\tlearn: 18.2287477\ttotal: 115ms\tremaining: 115ms\n",
      "25:\tlearn: 18.0364191\ttotal: 120ms\tremaining: 111ms\n",
      "26:\tlearn: 17.9137478\ttotal: 124ms\tremaining: 106ms\n",
      "27:\tlearn: 17.8285132\ttotal: 129ms\tremaining: 101ms\n",
      "28:\tlearn: 17.7046374\ttotal: 133ms\tremaining: 96.3ms\n",
      "29:\tlearn: 17.5627798\ttotal: 137ms\tremaining: 91.6ms\n",
      "30:\tlearn: 17.3713374\ttotal: 142ms\tremaining: 86.9ms\n",
      "31:\tlearn: 17.3050345\ttotal: 146ms\tremaining: 82.2ms\n",
      "32:\tlearn: 17.1655972\ttotal: 151ms\tremaining: 77.5ms\n",
      "33:\tlearn: 16.9838872\ttotal: 157ms\tremaining: 73.8ms\n",
      "34:\tlearn: 16.8425733\ttotal: 163ms\tremaining: 70ms\n",
      "35:\tlearn: 16.6567387\ttotal: 168ms\tremaining: 65.3ms\n",
      "36:\tlearn: 16.6309324\ttotal: 172ms\tremaining: 60.5ms\n",
      "37:\tlearn: 16.5052740\ttotal: 177ms\tremaining: 55.7ms\n",
      "38:\tlearn: 16.3821633\ttotal: 181ms\tremaining: 51ms\n",
      "39:\tlearn: 16.2521280\ttotal: 186ms\tremaining: 46.4ms\n",
      "40:\tlearn: 16.1734122\ttotal: 190ms\tremaining: 41.8ms\n",
      "41:\tlearn: 16.0304528\ttotal: 195ms\tremaining: 37.1ms\n",
      "42:\tlearn: 15.8938710\ttotal: 199ms\tremaining: 32.4ms\n",
      "43:\tlearn: 15.7793031\ttotal: 203ms\tremaining: 27.7ms\n",
      "44:\tlearn: 15.6298917\ttotal: 208ms\tremaining: 23.1ms\n",
      "45:\tlearn: 15.4994595\ttotal: 212ms\tremaining: 18.5ms\n",
      "46:\tlearn: 15.3972317\ttotal: 217ms\tremaining: 13.8ms\n",
      "47:\tlearn: 15.2291401\ttotal: 221ms\tremaining: 9.23ms\n",
      "48:\tlearn: 15.1230750\ttotal: 226ms\tremaining: 4.61ms\n",
      "49:\tlearn: 15.0414123\ttotal: 231ms\tremaining: 0us\n",
      "[CV] END ....learning_rate=0.4, max_depth=6, n_estimators=50; total time=   0.8s\n",
      "0:\tlearn: 31.9372441\ttotal: 9.16ms\tremaining: 357ms\n",
      "1:\tlearn: 28.4109454\ttotal: 16.8ms\tremaining: 319ms\n",
      "2:\tlearn: 26.5261842\ttotal: 22.2ms\tremaining: 273ms\n",
      "3:\tlearn: 25.2986370\ttotal: 27.2ms\tremaining: 245ms\n",
      "4:\tlearn: 24.4761492\ttotal: 32.4ms\tremaining: 227ms\n",
      "5:\tlearn: 24.3685440\ttotal: 37.2ms\tremaining: 211ms\n",
      "6:\tlearn: 23.7781258\ttotal: 42.1ms\tremaining: 199ms\n",
      "7:\tlearn: 23.7122485\ttotal: 44.3ms\tremaining: 177ms\n",
      "8:\tlearn: 23.4488321\ttotal: 49.4ms\tremaining: 170ms\n",
      "9:\tlearn: 23.3014401\ttotal: 54.7ms\tremaining: 164ms\n",
      "10:\tlearn: 23.0259631\ttotal: 60.1ms\tremaining: 158ms\n",
      "11:\tlearn: 22.8760562\ttotal: 65.5ms\tremaining: 153ms\n",
      "12:\tlearn: 22.7668494\ttotal: 70.7ms\tremaining: 147ms\n",
      "13:\tlearn: 22.6838555\ttotal: 75.9ms\tremaining: 141ms\n",
      "14:\tlearn: 22.4026948\ttotal: 81ms\tremaining: 135ms\n",
      "15:\tlearn: 22.2805510\ttotal: 86.1ms\tremaining: 129ms\n",
      "16:\tlearn: 22.0017639\ttotal: 91.3ms\tremaining: 123ms\n",
      "17:\tlearn: 21.7065788\ttotal: 96.6ms\tremaining: 118ms\n",
      "18:\tlearn: 21.4748821\ttotal: 102ms\tremaining: 112ms\n",
      "19:\tlearn: 21.2343132\ttotal: 107ms\tremaining: 107ms\n",
      "20:\tlearn: 20.9792536\ttotal: 112ms\tremaining: 102ms\n",
      "21:\tlearn: 20.7632340\ttotal: 118ms\tremaining: 96.2ms\n",
      "22:\tlearn: 20.5592988\ttotal: 123ms\tremaining: 90.6ms\n",
      "23:\tlearn: 20.3785934\ttotal: 128ms\tremaining: 85.2ms\n",
      "24:\tlearn: 20.1856475\ttotal: 133ms\tremaining: 79.7ms\n",
      "25:\tlearn: 19.9433049\ttotal: 138ms\tremaining: 74.3ms\n",
      "26:\tlearn: 19.6950671\ttotal: 143ms\tremaining: 68.9ms\n",
      "27:\tlearn: 19.6318410\ttotal: 148ms\tremaining: 63.5ms\n",
      "28:\tlearn: 19.5107877\ttotal: 153ms\tremaining: 58ms\n",
      "29:\tlearn: 19.2472941\ttotal: 158ms\tremaining: 52.7ms\n",
      "30:\tlearn: 19.2156078\ttotal: 163ms\tremaining: 47.3ms\n",
      "31:\tlearn: 19.0416831\ttotal: 168ms\tremaining: 42ms\n",
      "32:\tlearn: 18.9272166\ttotal: 173ms\tremaining: 36.7ms\n",
      "33:\tlearn: 18.7279398\ttotal: 185ms\tremaining: 32.6ms\n",
      "34:\tlearn: 18.5463273\ttotal: 192ms\tremaining: 27.4ms\n",
      "35:\tlearn: 18.3653549\ttotal: 198ms\tremaining: 22ms\n",
      "36:\tlearn: 18.2395211\ttotal: 204ms\tremaining: 16.5ms\n",
      "37:\tlearn: 18.0679518\ttotal: 209ms\tremaining: 11ms\n",
      "38:\tlearn: 17.9291682\ttotal: 215ms\tremaining: 5.51ms\n",
      "39:\tlearn: 17.7415226\ttotal: 220ms\tremaining: 0us\n",
      "Лучшая модель CatBoostRegressor c оценкой качества кросс-валидацией: <catboost.core.CatBoostRegressor object at 0x7f65bbf5f280>\n",
      "Лучшие параметры: {'learning_rate': 0.4, 'max_depth': 6, 'n_estimators': 40}\n",
      "RMSE: 25.559\n",
      "CPU times: user 5.84 s, sys: 245 ms, total: 6.09 s\n",
      "Wall time: 33.7 s\n"
     ]
    }
   ],
   "source": [
    "%%time\n",
    "\n",
    "model_cbr = CatBoostRegressor(random_state=STATE)\n",
    "start_time = time.time()\n",
    "params = { 'max_depth': range(5, 7),\n",
    "          'n_estimators': range(20, 60, 10),\n",
    "         'learning_rate': [0.4]}\n",
    "grid_cbr = GridSearchCV(model_cbr, params, cv=TimeSeriesSplit(n_splits=5), \n",
    "                        scoring='neg_mean_squared_error', verbose=2)   \n",
    "grid_cbr.fit(x_train, y_train)\n",
    "time_cbr = time.time() - start_time\n",
    "rmse_cbr = abs(grid_cbr.best_score_) ** 0.5\n",
    "\n",
    "        \n",
    "print('Лучшая модель CatBoostRegressor c оценкой качества кросс-валидацией:', model_cbr)\n",
    "print('Лучшие параметры:', grid_cbr.best_params_)\n",
    "print('RMSE: {:.3f}'.format(rmse_cbr))\n",
    "\n",
    "models_rmse = models_rmse.append({'Модель':'CatBoostRegressor', \n",
    "                                  'RMSE':round(rmse_cbr, 3), \n",
    "                                  'Время обучения':time_cbr}, ignore_index=True)"
   ]
  },
  {
   "cell_type": "code",
   "execution_count": 18,
   "metadata": {},
   "outputs": [
    {
     "data": {
      "text/html": [
       "<div>\n",
       "<style scoped>\n",
       "    .dataframe tbody tr th:only-of-type {\n",
       "        vertical-align: middle;\n",
       "    }\n",
       "\n",
       "    .dataframe tbody tr th {\n",
       "        vertical-align: top;\n",
       "    }\n",
       "\n",
       "    .dataframe thead th {\n",
       "        text-align: right;\n",
       "    }\n",
       "</style>\n",
       "<table border=\"1\" class=\"dataframe\">\n",
       "  <thead>\n",
       "    <tr style=\"text-align: right;\">\n",
       "      <th></th>\n",
       "      <th>Модель</th>\n",
       "      <th>RMSE</th>\n",
       "      <th>Время обучения</th>\n",
       "    </tr>\n",
       "  </thead>\n",
       "  <tbody>\n",
       "    <tr>\n",
       "      <th>0</th>\n",
       "      <td>RandomForestRegressor</td>\n",
       "      <td>27.001</td>\n",
       "      <td>15.665025</td>\n",
       "    </tr>\n",
       "    <tr>\n",
       "      <th>1</th>\n",
       "      <td>LGBMRegressor</td>\n",
       "      <td>25.806</td>\n",
       "      <td>159.363252</td>\n",
       "    </tr>\n",
       "    <tr>\n",
       "      <th>2</th>\n",
       "      <td>CatBoostRegressor</td>\n",
       "      <td>25.559</td>\n",
       "      <td>33.663212</td>\n",
       "    </tr>\n",
       "  </tbody>\n",
       "</table>\n",
       "</div>"
      ],
      "text/plain": [
       "                  Модель    RMSE  Время обучения\n",
       "0  RandomForestRegressor  27.001       15.665025\n",
       "1          LGBMRegressor  25.806      159.363252\n",
       "2      CatBoostRegressor  25.559       33.663212"
      ]
     },
     "execution_count": 18,
     "metadata": {},
     "output_type": "execute_result"
    }
   ],
   "source": [
    "models_rmse"
   ]
  },
  {
   "cell_type": "markdown",
   "metadata": {},
   "source": [
    "Обучив и сравнив 3 модели с разными гиперпараметрами, мы выбираем модель CatBoostRegressor с гиперпараметрами learning_rate = 0.4, depth = 6, n_estimators = 40. На этой модели используем тестовую выборку."
   ]
  },
  {
   "cell_type": "markdown",
   "metadata": {},
   "source": [
    "## Тестирование"
   ]
  },
  {
   "cell_type": "code",
   "execution_count": 19,
   "metadata": {},
   "outputs": [
    {
     "name": "stdout",
     "output_type": "stream",
     "text": [
      "RMSE CatBoostRegressor на тестовой выборке: 43.169\n"
     ]
    }
   ],
   "source": [
    "rate_cbr_test = 0.4\n",
    "depth = 6\n",
    "est = 40\n",
    "\n",
    "model_cbr_test = CatBoostRegressor(learning_rate=rate_cbr_test, \n",
    "                                   depth=depth, \n",
    "                                   n_estimators = est, \n",
    "                                   random_state=STATE, \n",
    "                                   silent=True)\n",
    "\n",
    "model_cbr_test.fit(x_train, y_train)\n",
    "predict_test = model_cbr_test.predict(x_test)\n",
    "rmse_test = np.sqrt(mean_squared_error(y_test, predict_test))\n",
    "print('RMSE CatBoostRegressor на тестовой выборке: {:.3f}'.format(rmse_test))"
   ]
  },
  {
   "cell_type": "code",
   "execution_count": 20,
   "metadata": {},
   "outputs": [
    {
     "name": "stdout",
     "output_type": "stream",
     "text": [
      "RMSE DummyRegressor на тестовой выборке: 87.211\n"
     ]
    }
   ],
   "source": [
    "model_dummy = DummyRegressor(strategy='median')\n",
    "model_dummy.fit(x_train, y_train)\n",
    "predict_dummy = model_dummy.predict(x_test)\n",
    "rmse_dummy = np.sqrt(mean_squared_error(y_test, predict_dummy))\n",
    "print('RMSE DummyRegressor на тестовой выборке: {:.3f}'.format(rmse_dummy))"
   ]
  },
  {
   "cell_type": "code",
   "execution_count": 21,
   "metadata": {},
   "outputs": [
    {
     "data": {
      "image/png": "[encoded data removed]",
      "text/plain": [
       "<Figure size 1152x576 with 1 Axes>"
      ]
     },
     "metadata": {
      "needs_background": "light"
     },
     "output_type": "display_data"
    }
   ],
   "source": [
    "plt.figure(figsize=(16, 8))\n",
    "\n",
    "plt.plot(y_test, label='y_test')\n",
    "plt.plot(y_test.index, predict_test, label='predict_test')\n",
    "\n",
    "plt.title('Сравнение тестовых значений с предсказанными.')\n",
    "plt.legend()\n",
    "plt.show()"
   ]
  },
  {
   "cell_type": "markdown",
   "metadata": {},
   "source": [
    "В нашем распоряжении были данные о заказах такси в аэропорт за последни полгода. Компания «Чётенькое такси» решила, что в период пиковой нагрузки нужно привлекать больше водителей, а для этого нам нужно было построить модель для прогнозирования заказов такси на следующий час.\n",
    "\n",
    "Мы обучили три модели, а именно RandomForestRegressor, LGBMRegressor и CatBoostRegressor. После обучения и подбора оптимальных гиперпараметров, решили использовать модель CatBoostRegressor на тестовой выборке. Заказчиком было заявлено, что RMSE должно быть не больше 48, наша модель выдала результат в 43.169, что соответствует требованию. Так же была произведена проверка нашей модели на адекватность с помощью константной модели, проверку модель прошла успешно."
   ]
  }
 ],
 "metadata": {
  "ExecuteTimeLog": [
   {
    "duration": 381,
    "start_time": "2023-09-22T12:55:47.618Z"
   },
   {
    "duration": 346,
    "start_time": "2023-09-22T12:56:54.079Z"
   },
   {
    "duration": 3,
    "start_time": "2023-09-22T12:57:19.483Z"
   },
   {
    "duration": 42,
    "start_time": "2023-09-22T12:57:19.886Z"
   },
   {
    "duration": 12,
    "start_time": "2023-09-22T12:57:43.389Z"
   },
   {
    "duration": 12,
    "start_time": "2023-09-22T12:57:56.595Z"
   },
   {
    "duration": 38,
    "start_time": "2023-09-22T12:58:33.532Z"
   },
   {
    "duration": 411,
    "start_time": "2023-09-22T13:01:52.225Z"
   },
   {
    "duration": 61,
    "start_time": "2023-09-22T13:01:52.638Z"
   },
   {
    "duration": 12,
    "start_time": "2023-09-22T13:01:52.701Z"
   },
   {
    "duration": 12,
    "start_time": "2023-09-22T13:01:52.715Z"
   },
   {
    "duration": 470,
    "start_time": "2023-09-22T13:03:56.063Z"
   },
   {
    "duration": 70,
    "start_time": "2023-09-22T13:03:56.534Z"
   },
   {
    "duration": 13,
    "start_time": "2023-09-22T13:03:56.606Z"
   },
   {
    "duration": 18,
    "start_time": "2023-09-22T13:03:56.621Z"
   },
   {
    "duration": 453,
    "start_time": "2023-09-22T13:05:31.673Z"
   },
   {
    "duration": 74,
    "start_time": "2023-09-22T13:05:32.128Z"
   },
   {
    "duration": 4,
    "start_time": "2023-09-22T13:05:32.203Z"
   },
   {
    "duration": 20,
    "start_time": "2023-09-22T13:05:32.209Z"
   },
   {
    "duration": 53,
    "start_time": "2023-09-22T13:05:32.231Z"
   },
   {
    "duration": 425,
    "start_time": "2023-09-22T13:06:31.327Z"
   },
   {
    "duration": 71,
    "start_time": "2023-09-22T13:06:31.755Z"
   },
   {
    "duration": 86,
    "start_time": "2023-09-22T13:06:31.828Z"
   },
   {
    "duration": 0,
    "start_time": "2023-09-22T13:06:31.916Z"
   },
   {
    "duration": 0,
    "start_time": "2023-09-22T13:06:31.918Z"
   },
   {
    "duration": 635,
    "start_time": "2023-09-22T13:07:03.241Z"
   },
   {
    "duration": 84,
    "start_time": "2023-09-22T13:07:03.884Z"
   },
   {
    "duration": 29,
    "start_time": "2023-09-22T13:07:03.971Z"
   },
   {
    "duration": 189,
    "start_time": "2023-09-22T13:07:04.003Z"
   },
   {
    "duration": 0,
    "start_time": "2023-09-22T13:07:04.206Z"
   },
   {
    "duration": 433,
    "start_time": "2023-09-22T13:07:41.691Z"
   },
   {
    "duration": 79,
    "start_time": "2023-09-22T13:07:42.126Z"
   },
   {
    "duration": 4,
    "start_time": "2023-09-22T13:07:42.206Z"
   },
   {
    "duration": 19,
    "start_time": "2023-09-22T13:07:42.213Z"
   },
   {
    "duration": 34,
    "start_time": "2023-09-22T13:07:42.234Z"
   },
   {
    "duration": 453,
    "start_time": "2023-09-22T13:08:49.234Z"
   },
   {
    "duration": 70,
    "start_time": "2023-09-22T13:08:49.694Z"
   },
   {
    "duration": 26,
    "start_time": "2023-09-22T13:08:49.766Z"
   },
   {
    "duration": 89,
    "start_time": "2023-09-22T13:08:49.794Z"
   },
   {
    "duration": 0,
    "start_time": "2023-09-22T13:08:49.886Z"
   },
   {
    "duration": 0,
    "start_time": "2023-09-22T13:08:49.887Z"
   },
   {
    "duration": 466,
    "start_time": "2023-09-22T13:09:12.680Z"
   },
   {
    "duration": 64,
    "start_time": "2023-09-22T13:09:13.149Z"
   },
   {
    "duration": 14,
    "start_time": "2023-09-22T13:09:13.215Z"
   },
   {
    "duration": 4,
    "start_time": "2023-09-22T13:09:13.231Z"
   },
   {
    "duration": 53,
    "start_time": "2023-09-22T13:09:13.237Z"
   },
   {
    "duration": 496,
    "start_time": "2023-09-22T13:10:16.542Z"
   },
   {
    "duration": 60,
    "start_time": "2023-09-22T13:10:17.041Z"
   },
   {
    "duration": 11,
    "start_time": "2023-09-22T13:10:17.103Z"
   },
   {
    "duration": 9,
    "start_time": "2023-09-22T13:10:17.115Z"
   },
   {
    "duration": 3,
    "start_time": "2023-09-22T13:10:17.126Z"
   },
   {
    "duration": 50,
    "start_time": "2023-09-22T13:10:17.131Z"
   },
   {
    "duration": 404,
    "start_time": "2023-09-22T13:11:06.199Z"
   },
   {
    "duration": 55,
    "start_time": "2023-09-22T13:11:06.605Z"
   },
   {
    "duration": 33,
    "start_time": "2023-09-22T13:11:06.662Z"
   },
   {
    "duration": 13,
    "start_time": "2023-09-22T13:11:06.697Z"
   },
   {
    "duration": 106,
    "start_time": "2023-09-22T13:11:06.712Z"
   },
   {
    "duration": 0,
    "start_time": "2023-09-22T13:11:06.821Z"
   },
   {
    "duration": 399,
    "start_time": "2023-09-22T13:11:29.426Z"
   },
   {
    "duration": 64,
    "start_time": "2023-09-22T13:11:29.827Z"
   },
   {
    "duration": 13,
    "start_time": "2023-09-22T13:11:29.892Z"
   },
   {
    "duration": 22,
    "start_time": "2023-09-22T13:11:29.907Z"
   },
   {
    "duration": 25,
    "start_time": "2023-09-22T13:11:29.931Z"
   },
   {
    "duration": 114,
    "start_time": "2023-09-22T13:11:29.959Z"
   },
   {
    "duration": 0,
    "start_time": "2023-09-22T13:11:30.077Z"
   },
   {
    "duration": 405,
    "start_time": "2023-09-22T13:12:04.631Z"
   },
   {
    "duration": 68,
    "start_time": "2023-09-22T13:12:05.038Z"
   },
   {
    "duration": 11,
    "start_time": "2023-09-22T13:12:05.107Z"
   },
   {
    "duration": 11,
    "start_time": "2023-09-22T13:12:05.119Z"
   },
   {
    "duration": 51,
    "start_time": "2023-09-22T13:12:05.132Z"
   },
   {
    "duration": 86,
    "start_time": "2023-09-22T13:13:09.843Z"
   },
   {
    "duration": 11,
    "start_time": "2023-09-22T13:13:18.976Z"
   },
   {
    "duration": 10,
    "start_time": "2023-09-22T13:13:33.096Z"
   },
   {
    "duration": 450,
    "start_time": "2023-09-22T13:13:45.774Z"
   },
   {
    "duration": 78,
    "start_time": "2023-09-22T13:13:46.226Z"
   },
   {
    "duration": 13,
    "start_time": "2023-09-22T13:13:46.306Z"
   },
   {
    "duration": 13,
    "start_time": "2023-09-22T13:13:46.321Z"
   },
   {
    "duration": 42,
    "start_time": "2023-09-22T13:13:46.336Z"
   },
   {
    "duration": 26,
    "start_time": "2023-09-22T13:13:46.385Z"
   },
   {
    "duration": 422,
    "start_time": "2023-09-22T13:14:05.900Z"
   },
   {
    "duration": 73,
    "start_time": "2023-09-22T13:14:06.323Z"
   },
   {
    "duration": 12,
    "start_time": "2023-09-22T13:14:06.398Z"
   },
   {
    "duration": 4,
    "start_time": "2023-09-22T13:14:06.412Z"
   },
   {
    "duration": 13,
    "start_time": "2023-09-22T13:14:06.419Z"
   },
   {
    "duration": 30,
    "start_time": "2023-09-22T13:14:06.434Z"
   },
   {
    "duration": 929,
    "start_time": "2023-09-22T13:15:35.511Z"
   },
   {
    "duration": 69,
    "start_time": "2023-09-22T13:15:36.443Z"
   },
   {
    "duration": 13,
    "start_time": "2023-09-22T13:15:36.514Z"
   },
   {
    "duration": 9,
    "start_time": "2023-09-22T13:15:36.529Z"
   },
   {
    "duration": 27,
    "start_time": "2023-09-22T13:15:36.541Z"
   },
   {
    "duration": 21,
    "start_time": "2023-09-22T13:15:36.570Z"
   },
   {
    "duration": 101,
    "start_time": "2023-09-22T13:15:36.593Z"
   },
   {
    "duration": 724,
    "start_time": "2023-09-22T13:17:02.923Z"
   },
   {
    "duration": 56,
    "start_time": "2023-09-22T13:17:03.650Z"
   },
   {
    "duration": 12,
    "start_time": "2023-09-22T13:17:03.707Z"
   },
   {
    "duration": 8,
    "start_time": "2023-09-22T13:17:03.720Z"
   },
   {
    "duration": 48,
    "start_time": "2023-09-22T13:17:03.730Z"
   },
   {
    "duration": 28,
    "start_time": "2023-09-22T13:17:03.780Z"
   },
   {
    "duration": 109,
    "start_time": "2023-09-22T13:17:03.810Z"
   },
   {
    "duration": 14,
    "start_time": "2023-09-22T13:18:19.080Z"
   },
   {
    "duration": 688,
    "start_time": "2023-09-22T13:18:33.407Z"
   },
   {
    "duration": 76,
    "start_time": "2023-09-22T13:18:34.097Z"
   },
   {
    "duration": 14,
    "start_time": "2023-09-22T13:18:34.182Z"
   },
   {
    "duration": 4,
    "start_time": "2023-09-22T13:18:34.198Z"
   },
   {
    "duration": 11,
    "start_time": "2023-09-22T13:18:34.205Z"
   },
   {
    "duration": 13,
    "start_time": "2023-09-22T13:18:34.219Z"
   },
   {
    "duration": 107,
    "start_time": "2023-09-22T13:18:34.234Z"
   },
   {
    "duration": 210,
    "start_time": "2023-09-22T13:18:47.573Z"
   },
   {
    "duration": 16,
    "start_time": "2023-09-22T13:20:10.689Z"
   },
   {
    "duration": 181,
    "start_time": "2023-09-22T13:20:41.006Z"
   },
   {
    "duration": 765,
    "start_time": "2023-09-22T13:20:48.417Z"
   },
   {
    "duration": 737,
    "start_time": "2023-09-22T13:21:15.476Z"
   },
   {
    "duration": 75,
    "start_time": "2023-09-22T13:21:16.215Z"
   },
   {
    "duration": 14,
    "start_time": "2023-09-22T13:21:16.292Z"
   },
   {
    "duration": 12,
    "start_time": "2023-09-22T13:21:16.308Z"
   },
   {
    "duration": 19,
    "start_time": "2023-09-22T13:21:16.323Z"
   },
   {
    "duration": 32,
    "start_time": "2023-09-22T13:21:16.350Z"
   },
   {
    "duration": 822,
    "start_time": "2023-09-22T13:21:16.384Z"
   },
   {
    "duration": 304,
    "start_time": "2023-09-22T13:23:25.627Z"
   },
   {
    "duration": 436,
    "start_time": "2023-09-22T13:23:52.206Z"
   },
   {
    "duration": 663,
    "start_time": "2023-09-22T17:09:31.924Z"
   },
   {
    "duration": 47,
    "start_time": "2023-09-22T17:09:32.589Z"
   },
   {
    "duration": 10,
    "start_time": "2023-09-22T17:09:32.638Z"
   },
   {
    "duration": 4,
    "start_time": "2023-09-22T17:09:32.650Z"
   },
   {
    "duration": 14,
    "start_time": "2023-09-22T17:09:32.656Z"
   },
   {
    "duration": 10,
    "start_time": "2023-09-22T17:09:32.672Z"
   },
   {
    "duration": 313,
    "start_time": "2023-09-22T17:09:32.684Z"
   },
   {
    "duration": 268,
    "start_time": "2023-09-22T17:13:18.614Z"
   },
   {
    "duration": 322,
    "start_time": "2023-09-22T17:13:27.865Z"
   },
   {
    "duration": 242,
    "start_time": "2023-09-22T17:13:32.691Z"
   },
   {
    "duration": 255,
    "start_time": "2023-09-22T17:13:36.852Z"
   },
   {
    "duration": 601,
    "start_time": "2023-09-22T17:15:47.567Z"
   },
   {
    "duration": 46,
    "start_time": "2023-09-22T17:15:48.170Z"
   },
   {
    "duration": 9,
    "start_time": "2023-09-22T17:15:48.218Z"
   },
   {
    "duration": 3,
    "start_time": "2023-09-22T17:15:48.229Z"
   },
   {
    "duration": 11,
    "start_time": "2023-09-22T17:15:48.234Z"
   },
   {
    "duration": 15,
    "start_time": "2023-09-22T17:15:48.246Z"
   },
   {
    "duration": 10,
    "start_time": "2023-09-22T17:15:48.262Z"
   },
   {
    "duration": 281,
    "start_time": "2023-09-22T17:15:48.273Z"
   },
   {
    "duration": 597,
    "start_time": "2023-09-22T17:16:15.573Z"
   },
   {
    "duration": 47,
    "start_time": "2023-09-22T17:16:16.172Z"
   },
   {
    "duration": 10,
    "start_time": "2023-09-22T17:16:16.221Z"
   },
   {
    "duration": 19,
    "start_time": "2023-09-22T17:16:16.233Z"
   },
   {
    "duration": 10,
    "start_time": "2023-09-22T17:16:16.254Z"
   },
   {
    "duration": 8,
    "start_time": "2023-09-22T17:16:16.266Z"
   },
   {
    "duration": 11,
    "start_time": "2023-09-22T17:16:16.275Z"
   },
   {
    "duration": 293,
    "start_time": "2023-09-22T17:16:16.288Z"
   },
   {
    "duration": 555,
    "start_time": "2023-09-22T17:16:57.804Z"
   },
   {
    "duration": 47,
    "start_time": "2023-09-22T17:16:58.361Z"
   },
   {
    "duration": 10,
    "start_time": "2023-09-22T17:16:58.409Z"
   },
   {
    "duration": 6,
    "start_time": "2023-09-22T17:16:58.420Z"
   },
   {
    "duration": 12,
    "start_time": "2023-09-22T17:16:58.428Z"
   },
   {
    "duration": 7,
    "start_time": "2023-09-22T17:16:58.441Z"
   },
   {
    "duration": 16,
    "start_time": "2023-09-22T17:16:58.449Z"
   },
   {
    "duration": 292,
    "start_time": "2023-09-22T17:16:58.466Z"
   },
   {
    "duration": 675,
    "start_time": "2023-09-22T17:17:34.953Z"
   },
   {
    "duration": 48,
    "start_time": "2023-09-22T17:17:35.630Z"
   },
   {
    "duration": 10,
    "start_time": "2023-09-22T17:17:35.679Z"
   },
   {
    "duration": 4,
    "start_time": "2023-09-22T17:17:35.691Z"
   },
   {
    "duration": 8,
    "start_time": "2023-09-22T17:17:35.698Z"
   },
   {
    "duration": 9,
    "start_time": "2023-09-22T17:17:35.708Z"
   },
   {
    "duration": 4,
    "start_time": "2023-09-22T17:17:35.719Z"
   },
   {
    "duration": 32,
    "start_time": "2023-09-22T17:17:35.724Z"
   },
   {
    "duration": 336,
    "start_time": "2023-09-22T17:17:35.757Z"
   },
   {
    "duration": 4,
    "start_time": "2023-09-22T17:18:08.976Z"
   },
   {
    "duration": 745,
    "start_time": "2023-09-22T17:25:16.452Z"
   },
   {
    "duration": 0,
    "start_time": "2023-09-22T17:25:17.199Z"
   },
   {
    "duration": 0,
    "start_time": "2023-09-22T17:25:17.200Z"
   },
   {
    "duration": 0,
    "start_time": "2023-09-22T17:25:17.201Z"
   },
   {
    "duration": 0,
    "start_time": "2023-09-22T17:25:17.202Z"
   },
   {
    "duration": 0,
    "start_time": "2023-09-22T17:25:17.203Z"
   },
   {
    "duration": 0,
    "start_time": "2023-09-22T17:25:17.204Z"
   },
   {
    "duration": 0,
    "start_time": "2023-09-22T17:25:17.205Z"
   },
   {
    "duration": 0,
    "start_time": "2023-09-22T17:25:17.206Z"
   },
   {
    "duration": 0,
    "start_time": "2023-09-22T17:25:17.208Z"
   },
   {
    "duration": 3058,
    "start_time": "2023-09-22T17:25:56.103Z"
   },
   {
    "duration": 689,
    "start_time": "2023-09-22T17:25:59.163Z"
   },
   {
    "duration": 47,
    "start_time": "2023-09-22T17:25:59.854Z"
   },
   {
    "duration": 13,
    "start_time": "2023-09-22T17:25:59.903Z"
   },
   {
    "duration": 6,
    "start_time": "2023-09-22T17:25:59.918Z"
   },
   {
    "duration": 11,
    "start_time": "2023-09-22T17:25:59.926Z"
   },
   {
    "duration": 14,
    "start_time": "2023-09-22T17:25:59.939Z"
   },
   {
    "duration": 5,
    "start_time": "2023-09-22T17:25:59.955Z"
   },
   {
    "duration": 12,
    "start_time": "2023-09-22T17:25:59.962Z"
   },
   {
    "duration": 346,
    "start_time": "2023-09-22T17:25:59.976Z"
   },
   {
    "duration": 111,
    "start_time": "2023-09-22T17:26:00.324Z"
   },
   {
    "duration": 2150,
    "start_time": "2023-09-22T17:27:33.857Z"
   },
   {
    "duration": 592,
    "start_time": "2023-09-22T17:27:36.010Z"
   },
   {
    "duration": 46,
    "start_time": "2023-09-22T17:27:36.604Z"
   },
   {
    "duration": 10,
    "start_time": "2023-09-22T17:27:36.652Z"
   },
   {
    "duration": 3,
    "start_time": "2023-09-22T17:27:36.663Z"
   },
   {
    "duration": 10,
    "start_time": "2023-09-22T17:27:36.668Z"
   },
   {
    "duration": 8,
    "start_time": "2023-09-22T17:27:36.680Z"
   },
   {
    "duration": 11,
    "start_time": "2023-09-22T17:27:36.690Z"
   },
   {
    "duration": 15,
    "start_time": "2023-09-22T17:27:36.703Z"
   },
   {
    "duration": 339,
    "start_time": "2023-09-22T17:27:36.743Z"
   },
   {
    "duration": 167,
    "start_time": "2023-09-22T17:27:37.083Z"
   },
   {
    "duration": 101,
    "start_time": "2023-09-22T17:29:29.194Z"
   },
   {
    "duration": 0,
    "start_time": "2023-09-22T17:29:29.297Z"
   },
   {
    "duration": 0,
    "start_time": "2023-09-22T17:29:29.300Z"
   },
   {
    "duration": 0,
    "start_time": "2023-09-22T17:29:29.300Z"
   },
   {
    "duration": 0,
    "start_time": "2023-09-22T17:29:29.302Z"
   },
   {
    "duration": 0,
    "start_time": "2023-09-22T17:29:29.303Z"
   },
   {
    "duration": 0,
    "start_time": "2023-09-22T17:29:29.304Z"
   },
   {
    "duration": 0,
    "start_time": "2023-09-22T17:29:29.305Z"
   },
   {
    "duration": 0,
    "start_time": "2023-09-22T17:29:29.307Z"
   },
   {
    "duration": 0,
    "start_time": "2023-09-22T17:29:29.308Z"
   },
   {
    "duration": 0,
    "start_time": "2023-09-22T17:29:29.309Z"
   },
   {
    "duration": 4,
    "start_time": "2023-09-22T17:30:06.192Z"
   },
   {
    "duration": 693,
    "start_time": "2023-09-22T17:30:06.197Z"
   },
   {
    "duration": 46,
    "start_time": "2023-09-22T17:30:06.892Z"
   },
   {
    "duration": 13,
    "start_time": "2023-09-22T17:30:06.939Z"
   },
   {
    "duration": 4,
    "start_time": "2023-09-22T17:30:06.955Z"
   },
   {
    "duration": 13,
    "start_time": "2023-09-22T17:30:06.961Z"
   },
   {
    "duration": 12,
    "start_time": "2023-09-22T17:30:06.976Z"
   },
   {
    "duration": 7,
    "start_time": "2023-09-22T17:30:06.990Z"
   },
   {
    "duration": 50,
    "start_time": "2023-09-22T17:30:06.999Z"
   },
   {
    "duration": 347,
    "start_time": "2023-09-22T17:30:07.051Z"
   },
   {
    "duration": 175,
    "start_time": "2023-09-22T17:30:07.400Z"
   },
   {
    "duration": 4,
    "start_time": "2023-09-22T17:32:37.885Z"
   },
   {
    "duration": 615,
    "start_time": "2023-09-22T17:32:37.891Z"
   },
   {
    "duration": 47,
    "start_time": "2023-09-22T17:32:38.508Z"
   },
   {
    "duration": 10,
    "start_time": "2023-09-22T17:32:38.557Z"
   },
   {
    "duration": 4,
    "start_time": "2023-09-22T17:32:38.569Z"
   },
   {
    "duration": 13,
    "start_time": "2023-09-22T17:32:38.575Z"
   },
   {
    "duration": 12,
    "start_time": "2023-09-22T17:32:38.589Z"
   },
   {
    "duration": 6,
    "start_time": "2023-09-22T17:32:38.603Z"
   },
   {
    "duration": 136,
    "start_time": "2023-09-22T17:32:38.610Z"
   },
   {
    "duration": 478,
    "start_time": "2023-09-22T17:32:38.748Z"
   },
   {
    "duration": 396,
    "start_time": "2023-09-22T17:32:39.228Z"
   },
   {
    "duration": 5,
    "start_time": "2023-09-22T17:37:28.256Z"
   },
   {
    "duration": 328,
    "start_time": "2023-09-22T17:39:32.812Z"
   },
   {
    "duration": 238,
    "start_time": "2023-09-22T17:39:51.011Z"
   },
   {
    "duration": 230,
    "start_time": "2023-09-22T17:43:20.787Z"
   },
   {
    "duration": 636,
    "start_time": "2023-09-22T18:05:45.493Z"
   },
   {
    "duration": 63,
    "start_time": "2023-09-22T18:05:46.131Z"
   },
   {
    "duration": 9,
    "start_time": "2023-09-22T18:05:46.196Z"
   },
   {
    "duration": 3,
    "start_time": "2023-09-22T18:05:46.207Z"
   },
   {
    "duration": 10,
    "start_time": "2023-09-22T18:05:46.211Z"
   },
   {
    "duration": 9,
    "start_time": "2023-09-22T18:05:46.222Z"
   },
   {
    "duration": 261,
    "start_time": "2023-09-22T18:06:50.703Z"
   },
   {
    "duration": 361,
    "start_time": "2023-09-22T18:07:22.141Z"
   },
   {
    "duration": 12,
    "start_time": "2023-09-22T18:08:06.656Z"
   },
   {
    "duration": 69,
    "start_time": "2023-09-22T18:25:56.568Z"
   },
   {
    "duration": 1059,
    "start_time": "2023-09-22T18:26:18.067Z"
   },
   {
    "duration": 48,
    "start_time": "2023-09-22T18:26:19.127Z"
   },
   {
    "duration": 11,
    "start_time": "2023-09-22T18:26:19.176Z"
   },
   {
    "duration": 4,
    "start_time": "2023-09-22T18:26:19.189Z"
   },
   {
    "duration": 9,
    "start_time": "2023-09-22T18:26:19.194Z"
   },
   {
    "duration": 11,
    "start_time": "2023-09-22T18:26:19.204Z"
   },
   {
    "duration": 350,
    "start_time": "2023-09-22T18:26:19.216Z"
   },
   {
    "duration": 96,
    "start_time": "2023-09-22T18:26:19.568Z"
   },
   {
    "duration": 5,
    "start_time": "2023-09-22T18:28:34.389Z"
   },
   {
    "duration": 1136,
    "start_time": "2023-09-22T18:29:33.768Z"
   },
   {
    "duration": 47,
    "start_time": "2023-09-22T18:29:34.906Z"
   },
   {
    "duration": 10,
    "start_time": "2023-09-22T18:29:34.954Z"
   },
   {
    "duration": 7,
    "start_time": "2023-09-22T18:29:34.965Z"
   },
   {
    "duration": 15,
    "start_time": "2023-09-22T18:29:34.974Z"
   },
   {
    "duration": 9,
    "start_time": "2023-09-22T18:29:34.990Z"
   },
   {
    "duration": 320,
    "start_time": "2023-09-22T18:29:35.000Z"
   },
   {
    "duration": 629,
    "start_time": "2023-09-22T18:29:35.322Z"
   },
   {
    "duration": 943,
    "start_time": "2023-09-22T18:31:03.686Z"
   },
   {
    "duration": 774,
    "start_time": "2023-09-22T18:31:56.114Z"
   },
   {
    "duration": 1062,
    "start_time": "2023-09-22T18:33:34.786Z"
   },
   {
    "duration": 48,
    "start_time": "2023-09-22T18:33:35.849Z"
   },
   {
    "duration": 9,
    "start_time": "2023-09-22T18:33:35.899Z"
   },
   {
    "duration": 8,
    "start_time": "2023-09-22T18:33:35.910Z"
   },
   {
    "duration": 31,
    "start_time": "2023-09-22T18:33:35.920Z"
   },
   {
    "duration": 21,
    "start_time": "2023-09-22T18:33:35.953Z"
   },
   {
    "duration": 307,
    "start_time": "2023-09-22T18:33:35.975Z"
   },
   {
    "duration": 687,
    "start_time": "2023-09-22T18:33:36.284Z"
   },
   {
    "duration": 569,
    "start_time": "2023-09-22T18:33:46.696Z"
   },
   {
    "duration": 1035,
    "start_time": "2023-09-22T18:34:25.479Z"
   },
   {
    "duration": 47,
    "start_time": "2023-09-22T18:34:26.515Z"
   },
   {
    "duration": 10,
    "start_time": "2023-09-22T18:34:26.563Z"
   },
   {
    "duration": 5,
    "start_time": "2023-09-22T18:34:26.575Z"
   },
   {
    "duration": 9,
    "start_time": "2023-09-22T18:34:26.582Z"
   },
   {
    "duration": 9,
    "start_time": "2023-09-22T18:34:26.592Z"
   },
   {
    "duration": 304,
    "start_time": "2023-09-22T18:34:26.602Z"
   },
   {
    "duration": 552,
    "start_time": "2023-09-22T18:34:26.908Z"
   },
   {
    "duration": 1058,
    "start_time": "2023-09-22T18:34:52.483Z"
   },
   {
    "duration": 54,
    "start_time": "2023-09-22T18:34:53.544Z"
   },
   {
    "duration": 14,
    "start_time": "2023-09-22T18:34:53.599Z"
   },
   {
    "duration": 4,
    "start_time": "2023-09-22T18:34:53.614Z"
   },
   {
    "duration": 18,
    "start_time": "2023-09-22T18:34:53.620Z"
   },
   {
    "duration": 13,
    "start_time": "2023-09-22T18:34:53.639Z"
   },
   {
    "duration": 277,
    "start_time": "2023-09-22T18:34:53.653Z"
   },
   {
    "duration": 900,
    "start_time": "2023-09-22T18:34:53.932Z"
   },
   {
    "duration": 1028,
    "start_time": "2023-09-22T18:36:57.463Z"
   },
   {
    "duration": 1139,
    "start_time": "2023-09-22T18:40:02.068Z"
   },
   {
    "duration": 1189,
    "start_time": "2023-09-22T18:40:12.067Z"
   },
   {
    "duration": 1110,
    "start_time": "2023-09-22T18:41:18.247Z"
   },
   {
    "duration": 1009,
    "start_time": "2023-09-22T18:41:28.013Z"
   },
   {
    "duration": 1017,
    "start_time": "2023-09-22T18:41:40.531Z"
   },
   {
    "duration": 1044,
    "start_time": "2023-09-22T18:45:49.886Z"
   },
   {
    "duration": 771,
    "start_time": "2023-09-22T18:46:05.548Z"
   },
   {
    "duration": 1052,
    "start_time": "2023-09-22T18:46:47.617Z"
   },
   {
    "duration": 1027,
    "start_time": "2023-09-22T18:47:15.566Z"
   },
   {
    "duration": 181,
    "start_time": "2023-09-22T18:58:10.211Z"
   },
   {
    "duration": 347,
    "start_time": "2023-09-22T18:58:42.385Z"
   },
   {
    "duration": 290,
    "start_time": "2023-09-22T18:59:21.256Z"
   },
   {
    "duration": 97,
    "start_time": "2023-09-22T19:08:38.560Z"
   },
   {
    "duration": 1187,
    "start_time": "2023-09-22T19:08:43.128Z"
   },
   {
    "duration": 47,
    "start_time": "2023-09-22T19:08:44.317Z"
   },
   {
    "duration": 11,
    "start_time": "2023-09-22T19:08:44.367Z"
   },
   {
    "duration": 4,
    "start_time": "2023-09-22T19:08:44.380Z"
   },
   {
    "duration": 13,
    "start_time": "2023-09-22T19:08:44.385Z"
   },
   {
    "duration": 11,
    "start_time": "2023-09-22T19:08:44.399Z"
   },
   {
    "duration": 311,
    "start_time": "2023-09-22T19:08:44.411Z"
   },
   {
    "duration": 1925,
    "start_time": "2023-09-22T19:08:44.724Z"
   },
   {
    "duration": 1223,
    "start_time": "2023-09-22T19:08:46.651Z"
   },
   {
    "duration": 388,
    "start_time": "2023-09-22T19:08:47.875Z"
   },
   {
    "duration": 1926,
    "start_time": "2023-09-22T19:09:41.220Z"
   },
   {
    "duration": 1634,
    "start_time": "2023-09-22T19:09:50.417Z"
   },
   {
    "duration": 89,
    "start_time": "2023-09-22T19:16:00.737Z"
   },
   {
    "duration": 2187,
    "start_time": "2023-09-22T19:16:40.961Z"
   },
   {
    "duration": 1778,
    "start_time": "2023-09-22T19:17:01.467Z"
   },
   {
    "duration": 1102,
    "start_time": "2023-09-22T19:17:50.219Z"
   },
   {
    "duration": 46,
    "start_time": "2023-09-22T19:17:51.323Z"
   },
   {
    "duration": 9,
    "start_time": "2023-09-22T19:17:51.370Z"
   },
   {
    "duration": 11,
    "start_time": "2023-09-22T19:17:51.381Z"
   },
   {
    "duration": 12,
    "start_time": "2023-09-22T19:17:51.394Z"
   },
   {
    "duration": 12,
    "start_time": "2023-09-22T19:17:51.407Z"
   },
   {
    "duration": 293,
    "start_time": "2023-09-22T19:17:51.421Z"
   },
   {
    "duration": 1633,
    "start_time": "2023-09-22T19:17:51.716Z"
   },
   {
    "duration": 1203,
    "start_time": "2023-09-22T19:17:53.351Z"
   },
   {
    "duration": 375,
    "start_time": "2023-09-22T19:17:54.556Z"
   },
   {
    "duration": 1677,
    "start_time": "2023-09-22T19:21:24.372Z"
   },
   {
    "duration": 95,
    "start_time": "2023-09-22T19:48:34.195Z"
   },
   {
    "duration": 1643,
    "start_time": "2023-09-22T19:48:42.207Z"
   },
   {
    "duration": 1088,
    "start_time": "2023-09-22T19:50:36.384Z"
   },
   {
    "duration": 46,
    "start_time": "2023-09-22T19:50:37.474Z"
   },
   {
    "duration": 9,
    "start_time": "2023-09-22T19:50:37.522Z"
   },
   {
    "duration": 2,
    "start_time": "2023-09-22T19:50:37.533Z"
   },
   {
    "duration": 15,
    "start_time": "2023-09-22T19:50:37.537Z"
   },
   {
    "duration": 9,
    "start_time": "2023-09-22T19:50:37.553Z"
   },
   {
    "duration": 286,
    "start_time": "2023-09-22T19:50:37.564Z"
   },
   {
    "duration": 1704,
    "start_time": "2023-09-22T19:50:37.851Z"
   },
   {
    "duration": 1161,
    "start_time": "2023-09-22T19:50:39.645Z"
   },
   {
    "duration": 459,
    "start_time": "2023-09-22T19:50:40.807Z"
   },
   {
    "duration": 1320,
    "start_time": "2023-09-22T19:57:55.492Z"
   },
   {
    "duration": 49,
    "start_time": "2023-09-22T19:57:56.814Z"
   },
   {
    "duration": 11,
    "start_time": "2023-09-22T19:57:56.864Z"
   },
   {
    "duration": 5,
    "start_time": "2023-09-22T19:57:56.876Z"
   },
   {
    "duration": 9,
    "start_time": "2023-09-22T19:57:56.883Z"
   },
   {
    "duration": 9,
    "start_time": "2023-09-22T19:57:56.894Z"
   },
   {
    "duration": 330,
    "start_time": "2023-09-22T19:57:56.904Z"
   },
   {
    "duration": 1711,
    "start_time": "2023-09-22T19:57:57.235Z"
   },
   {
    "duration": 1129,
    "start_time": "2023-09-22T19:57:58.948Z"
   },
   {
    "duration": 341,
    "start_time": "2023-09-22T19:58:00.078Z"
   },
   {
    "duration": 113,
    "start_time": "2023-09-22T20:03:38.611Z"
   },
   {
    "duration": 14,
    "start_time": "2023-09-22T20:03:46.958Z"
   },
   {
    "duration": 19,
    "start_time": "2023-09-22T20:03:52.033Z"
   },
   {
    "duration": 15,
    "start_time": "2023-09-22T20:05:45.740Z"
   },
   {
    "duration": 12,
    "start_time": "2023-09-22T20:06:59.186Z"
   },
   {
    "duration": 13,
    "start_time": "2023-09-22T20:07:16.908Z"
   },
   {
    "duration": 11,
    "start_time": "2023-09-22T20:07:17.580Z"
   },
   {
    "duration": 1354,
    "start_time": "2023-09-22T20:07:26.867Z"
   },
   {
    "duration": 48,
    "start_time": "2023-09-22T20:07:28.222Z"
   },
   {
    "duration": 11,
    "start_time": "2023-09-22T20:07:28.271Z"
   },
   {
    "duration": 6,
    "start_time": "2023-09-22T20:07:28.283Z"
   },
   {
    "duration": 15,
    "start_time": "2023-09-22T20:07:28.291Z"
   },
   {
    "duration": 12,
    "start_time": "2023-09-22T20:07:28.307Z"
   },
   {
    "duration": 330,
    "start_time": "2023-09-22T20:07:28.320Z"
   },
   {
    "duration": 1993,
    "start_time": "2023-09-22T20:07:28.651Z"
   },
   {
    "duration": 1215,
    "start_time": "2023-09-22T20:07:30.647Z"
   },
   {
    "duration": 328,
    "start_time": "2023-09-22T20:07:31.864Z"
   },
   {
    "duration": 17,
    "start_time": "2023-09-22T20:07:32.193Z"
   },
   {
    "duration": 34,
    "start_time": "2023-09-22T20:07:32.212Z"
   },
   {
    "duration": 3,
    "start_time": "2023-09-22T20:08:48.639Z"
   },
   {
    "duration": 7,
    "start_time": "2023-09-22T20:10:39.263Z"
   },
   {
    "duration": 7,
    "start_time": "2023-09-22T20:11:09.074Z"
   },
   {
    "duration": 1366,
    "start_time": "2023-09-22T20:13:38.305Z"
   },
   {
    "duration": 48,
    "start_time": "2023-09-22T20:13:39.673Z"
   },
   {
    "duration": 10,
    "start_time": "2023-09-22T20:13:39.723Z"
   },
   {
    "duration": 3,
    "start_time": "2023-09-22T20:13:39.735Z"
   },
   {
    "duration": 13,
    "start_time": "2023-09-22T20:13:39.741Z"
   },
   {
    "duration": 12,
    "start_time": "2023-09-22T20:13:39.755Z"
   },
   {
    "duration": 317,
    "start_time": "2023-09-22T20:13:39.769Z"
   },
   {
    "duration": 3459,
    "start_time": "2023-09-22T20:13:40.088Z"
   },
   {
    "duration": 1320,
    "start_time": "2023-09-22T20:13:43.549Z"
   },
   {
    "duration": 374,
    "start_time": "2023-09-22T20:13:44.870Z"
   },
   {
    "duration": 22,
    "start_time": "2023-09-22T20:13:45.246Z"
   },
   {
    "duration": 12,
    "start_time": "2023-09-22T20:13:45.270Z"
   },
   {
    "duration": 4,
    "start_time": "2023-09-22T20:13:45.284Z"
   },
   {
    "duration": 129,
    "start_time": "2023-09-22T20:13:45.290Z"
   },
   {
    "duration": 1297,
    "start_time": "2023-09-22T20:14:17.365Z"
   },
   {
    "duration": 47,
    "start_time": "2023-09-22T20:14:18.664Z"
   },
   {
    "duration": 10,
    "start_time": "2023-09-22T20:14:18.714Z"
   },
   {
    "duration": 4,
    "start_time": "2023-09-22T20:14:18.726Z"
   },
   {
    "duration": 16,
    "start_time": "2023-09-22T20:14:18.732Z"
   },
   {
    "duration": 11,
    "start_time": "2023-09-22T20:14:18.749Z"
   },
   {
    "duration": 313,
    "start_time": "2023-09-22T20:14:18.761Z"
   },
   {
    "duration": 2571,
    "start_time": "2023-09-22T20:14:19.075Z"
   },
   {
    "duration": 1126,
    "start_time": "2023-09-22T20:14:21.648Z"
   },
   {
    "duration": 355,
    "start_time": "2023-09-22T20:14:22.776Z"
   },
   {
    "duration": 31,
    "start_time": "2023-09-22T20:14:23.132Z"
   },
   {
    "duration": 18,
    "start_time": "2023-09-22T20:14:23.165Z"
   },
   {
    "duration": 4,
    "start_time": "2023-09-22T20:14:23.186Z"
   },
   {
    "duration": 13,
    "start_time": "2023-09-22T20:14:23.191Z"
   },
   {
    "duration": 9,
    "start_time": "2023-09-22T20:14:44.837Z"
   },
   {
    "duration": 1360,
    "start_time": "2023-09-22T20:14:54.138Z"
   },
   {
    "duration": 48,
    "start_time": "2023-09-22T20:14:55.500Z"
   },
   {
    "duration": 10,
    "start_time": "2023-09-22T20:14:55.549Z"
   },
   {
    "duration": 3,
    "start_time": "2023-09-22T20:14:55.561Z"
   },
   {
    "duration": 16,
    "start_time": "2023-09-22T20:14:55.566Z"
   },
   {
    "duration": 9,
    "start_time": "2023-09-22T20:14:55.584Z"
   },
   {
    "duration": 312,
    "start_time": "2023-09-22T20:14:55.594Z"
   },
   {
    "duration": 1740,
    "start_time": "2023-09-22T20:14:55.907Z"
   },
   {
    "duration": 1118,
    "start_time": "2023-09-22T20:14:57.650Z"
   },
   {
    "duration": 303,
    "start_time": "2023-09-22T20:14:58.769Z"
   },
   {
    "duration": 18,
    "start_time": "2023-09-22T20:14:59.073Z"
   },
   {
    "duration": 12,
    "start_time": "2023-09-22T20:14:59.092Z"
   },
   {
    "duration": 3,
    "start_time": "2023-09-22T20:14:59.105Z"
   },
   {
    "duration": 37,
    "start_time": "2023-09-22T20:14:59.110Z"
   },
   {
    "duration": 1479,
    "start_time": "2023-09-22T20:17:24.108Z"
   },
   {
    "duration": 53,
    "start_time": "2023-09-22T20:17:25.588Z"
   },
   {
    "duration": 10,
    "start_time": "2023-09-22T20:17:25.643Z"
   },
   {
    "duration": 13,
    "start_time": "2023-09-22T20:17:25.654Z"
   },
   {
    "duration": 10,
    "start_time": "2023-09-22T20:17:25.669Z"
   },
   {
    "duration": 12,
    "start_time": "2023-09-22T20:17:25.681Z"
   },
   {
    "duration": 316,
    "start_time": "2023-09-22T20:17:25.694Z"
   },
   {
    "duration": 2238,
    "start_time": "2023-09-22T20:17:26.012Z"
   },
   {
    "duration": 1218,
    "start_time": "2023-09-22T20:17:28.253Z"
   },
   {
    "duration": 332,
    "start_time": "2023-09-22T20:17:29.473Z"
   },
   {
    "duration": 17,
    "start_time": "2023-09-22T20:17:29.807Z"
   },
   {
    "duration": 25,
    "start_time": "2023-09-22T20:17:29.826Z"
   },
   {
    "duration": 4,
    "start_time": "2023-09-22T20:17:29.853Z"
   },
   {
    "duration": 10,
    "start_time": "2023-09-22T20:17:29.860Z"
   },
   {
    "duration": 1490,
    "start_time": "2023-09-22T20:19:08.098Z"
   },
   {
    "duration": 49,
    "start_time": "2023-09-22T20:19:09.589Z"
   },
   {
    "duration": 11,
    "start_time": "2023-09-22T20:19:09.640Z"
   },
   {
    "duration": 4,
    "start_time": "2023-09-22T20:19:09.652Z"
   },
   {
    "duration": 15,
    "start_time": "2023-09-22T20:19:09.658Z"
   },
   {
    "duration": 10,
    "start_time": "2023-09-22T20:19:09.675Z"
   },
   {
    "duration": 367,
    "start_time": "2023-09-22T20:19:09.687Z"
   },
   {
    "duration": 1894,
    "start_time": "2023-09-22T20:19:10.055Z"
   },
   {
    "duration": 1142,
    "start_time": "2023-09-22T20:19:11.951Z"
   },
   {
    "duration": 352,
    "start_time": "2023-09-22T20:19:13.095Z"
   },
   {
    "duration": 17,
    "start_time": "2023-09-22T20:19:13.448Z"
   },
   {
    "duration": 15,
    "start_time": "2023-09-22T20:19:13.467Z"
   },
   {
    "duration": 3,
    "start_time": "2023-09-22T20:19:13.484Z"
   },
   {
    "duration": 11,
    "start_time": "2023-09-22T20:19:13.489Z"
   },
   {
    "duration": 355,
    "start_time": "2023-09-22T20:19:13.501Z"
   },
   {
    "duration": 1693,
    "start_time": "2023-09-22T20:20:45.648Z"
   },
   {
    "duration": 1423,
    "start_time": "2023-09-22T20:20:57.242Z"
   },
   {
    "duration": 47,
    "start_time": "2023-09-22T20:20:58.667Z"
   },
   {
    "duration": 10,
    "start_time": "2023-09-22T20:20:58.715Z"
   },
   {
    "duration": 3,
    "start_time": "2023-09-22T20:20:58.726Z"
   },
   {
    "duration": 7,
    "start_time": "2023-09-22T20:20:58.731Z"
   },
   {
    "duration": 12,
    "start_time": "2023-09-22T20:20:58.740Z"
   },
   {
    "duration": 309,
    "start_time": "2023-09-22T20:20:58.753Z"
   },
   {
    "duration": 1882,
    "start_time": "2023-09-22T20:20:59.063Z"
   },
   {
    "duration": 1150,
    "start_time": "2023-09-22T20:21:00.948Z"
   },
   {
    "duration": 347,
    "start_time": "2023-09-22T20:21:02.100Z"
   },
   {
    "duration": 16,
    "start_time": "2023-09-22T20:21:02.448Z"
   },
   {
    "duration": 27,
    "start_time": "2023-09-22T20:21:02.465Z"
   },
   {
    "duration": 4,
    "start_time": "2023-09-22T20:21:02.493Z"
   },
   {
    "duration": 9,
    "start_time": "2023-09-22T20:21:02.498Z"
   },
   {
    "duration": 7,
    "start_time": "2023-09-22T20:21:02.508Z"
   },
   {
    "duration": 1680,
    "start_time": "2023-09-22T20:21:02.516Z"
   },
   {
    "duration": 1381,
    "start_time": "2023-09-22T20:23:26.871Z"
   },
   {
    "duration": 47,
    "start_time": "2023-09-22T20:23:28.254Z"
   },
   {
    "duration": 21,
    "start_time": "2023-09-22T20:23:28.302Z"
   },
   {
    "duration": 3,
    "start_time": "2023-09-22T20:23:28.324Z"
   },
   {
    "duration": 28,
    "start_time": "2023-09-22T20:23:28.329Z"
   },
   {
    "duration": 12,
    "start_time": "2023-09-22T20:23:28.358Z"
   },
   {
    "duration": 287,
    "start_time": "2023-09-22T20:23:28.371Z"
   },
   {
    "duration": 2086,
    "start_time": "2023-09-22T20:23:28.660Z"
   },
   {
    "duration": 1103,
    "start_time": "2023-09-22T20:23:30.750Z"
   },
   {
    "duration": 330,
    "start_time": "2023-09-22T20:23:31.855Z"
   },
   {
    "duration": 19,
    "start_time": "2023-09-22T20:23:32.187Z"
   },
   {
    "duration": 26,
    "start_time": "2023-09-22T20:23:32.208Z"
   },
   {
    "duration": 4,
    "start_time": "2023-09-22T20:23:32.244Z"
   },
   {
    "duration": 18,
    "start_time": "2023-09-22T20:23:32.250Z"
   },
   {
    "duration": 20,
    "start_time": "2023-09-22T20:23:32.270Z"
   },
   {
    "duration": 5,
    "start_time": "2023-09-22T20:23:32.292Z"
   },
   {
    "duration": 1626,
    "start_time": "2023-09-22T20:23:32.298Z"
   },
   {
    "duration": 1569,
    "start_time": "2023-09-22T20:28:14.481Z"
   },
   {
    "duration": 400,
    "start_time": "2023-09-22T20:38:10.975Z"
   },
   {
    "duration": 1468,
    "start_time": "2023-09-22T20:39:10.231Z"
   },
   {
    "duration": 50,
    "start_time": "2023-09-22T20:39:11.701Z"
   },
   {
    "duration": 9,
    "start_time": "2023-09-22T20:39:11.752Z"
   },
   {
    "duration": 3,
    "start_time": "2023-09-22T20:39:11.763Z"
   },
   {
    "duration": 10,
    "start_time": "2023-09-22T20:39:11.768Z"
   },
   {
    "duration": 11,
    "start_time": "2023-09-22T20:39:11.779Z"
   },
   {
    "duration": 314,
    "start_time": "2023-09-22T20:39:11.792Z"
   },
   {
    "duration": 2046,
    "start_time": "2023-09-22T20:39:12.107Z"
   },
   {
    "duration": 1157,
    "start_time": "2023-09-22T20:39:14.245Z"
   },
   {
    "duration": 335,
    "start_time": "2023-09-22T20:39:15.403Z"
   },
   {
    "duration": 18,
    "start_time": "2023-09-22T20:39:15.740Z"
   },
   {
    "duration": 12,
    "start_time": "2023-09-22T20:39:15.759Z"
   },
   {
    "duration": 4,
    "start_time": "2023-09-22T20:39:15.772Z"
   },
   {
    "duration": 38,
    "start_time": "2023-09-22T20:39:15.778Z"
   },
   {
    "duration": 13,
    "start_time": "2023-09-22T20:39:15.817Z"
   },
   {
    "duration": 1571,
    "start_time": "2023-09-22T20:39:15.831Z"
   },
   {
    "duration": 1419,
    "start_time": "2023-09-22T20:40:09.733Z"
   },
   {
    "duration": 48,
    "start_time": "2023-09-22T20:40:11.153Z"
   },
   {
    "duration": 10,
    "start_time": "2023-09-22T20:40:11.203Z"
   },
   {
    "duration": 5,
    "start_time": "2023-09-22T20:40:11.214Z"
   },
   {
    "duration": 8,
    "start_time": "2023-09-22T20:40:11.221Z"
   },
   {
    "duration": 11,
    "start_time": "2023-09-22T20:40:11.230Z"
   },
   {
    "duration": 295,
    "start_time": "2023-09-22T20:40:11.243Z"
   },
   {
    "duration": 2012,
    "start_time": "2023-09-22T20:40:11.539Z"
   },
   {
    "duration": 1236,
    "start_time": "2023-09-22T20:40:13.553Z"
   },
   {
    "duration": 382,
    "start_time": "2023-09-22T20:40:14.791Z"
   },
   {
    "duration": 18,
    "start_time": "2023-09-22T20:40:15.175Z"
   },
   {
    "duration": 12,
    "start_time": "2023-09-22T20:40:15.194Z"
   },
   {
    "duration": 3,
    "start_time": "2023-09-22T20:40:15.207Z"
   },
   {
    "duration": 32,
    "start_time": "2023-09-22T20:40:15.212Z"
   },
   {
    "duration": 4,
    "start_time": "2023-09-22T20:40:15.246Z"
   },
   {
    "duration": 1611,
    "start_time": "2023-09-22T20:40:15.252Z"
   },
   {
    "duration": 1384,
    "start_time": "2023-09-22T20:42:46.666Z"
   },
   {
    "duration": 46,
    "start_time": "2023-09-22T20:42:48.052Z"
   },
   {
    "duration": 10,
    "start_time": "2023-09-22T20:42:48.099Z"
   },
   {
    "duration": 4,
    "start_time": "2023-09-22T20:42:48.110Z"
   },
   {
    "duration": 22,
    "start_time": "2023-09-22T20:42:48.116Z"
   },
   {
    "duration": 9,
    "start_time": "2023-09-22T20:42:48.139Z"
   },
   {
    "duration": 305,
    "start_time": "2023-09-22T20:42:48.149Z"
   },
   {
    "duration": 1995,
    "start_time": "2023-09-22T20:42:48.455Z"
   },
   {
    "duration": 1191,
    "start_time": "2023-09-22T20:42:50.453Z"
   },
   {
    "duration": 300,
    "start_time": "2023-09-22T20:42:51.646Z"
   },
   {
    "duration": 15,
    "start_time": "2023-09-22T20:42:51.948Z"
   },
   {
    "duration": 13,
    "start_time": "2023-09-22T20:42:51.965Z"
   },
   {
    "duration": 4,
    "start_time": "2023-09-22T20:42:51.980Z"
   },
   {
    "duration": 12,
    "start_time": "2023-09-22T20:42:51.987Z"
   },
   {
    "duration": 24,
    "start_time": "2023-09-22T20:42:52.001Z"
   },
   {
    "duration": 1585,
    "start_time": "2023-09-22T20:42:52.027Z"
   },
   {
    "duration": 203,
    "start_time": "2023-09-22T20:42:53.614Z"
   },
   {
    "duration": 1408,
    "start_time": "2023-09-22T20:43:58.876Z"
   },
   {
    "duration": 48,
    "start_time": "2023-09-22T20:44:00.286Z"
   },
   {
    "duration": 15,
    "start_time": "2023-09-22T20:44:00.336Z"
   },
   {
    "duration": 35,
    "start_time": "2023-09-22T20:44:00.353Z"
   },
   {
    "duration": 52,
    "start_time": "2023-09-22T20:44:00.390Z"
   },
   {
    "duration": 47,
    "start_time": "2023-09-22T20:44:00.444Z"
   },
   {
    "duration": 322,
    "start_time": "2023-09-22T20:44:00.492Z"
   },
   {
    "duration": 2129,
    "start_time": "2023-09-22T20:44:00.816Z"
   },
   {
    "duration": 1121,
    "start_time": "2023-09-22T20:44:02.948Z"
   },
   {
    "duration": 388,
    "start_time": "2023-09-22T20:44:04.071Z"
   },
   {
    "duration": 19,
    "start_time": "2023-09-22T20:44:04.460Z"
   },
   {
    "duration": 13,
    "start_time": "2023-09-22T20:44:04.480Z"
   },
   {
    "duration": 4,
    "start_time": "2023-09-22T20:44:04.495Z"
   },
   {
    "duration": 7,
    "start_time": "2023-09-22T20:44:04.501Z"
   },
   {
    "duration": 4,
    "start_time": "2023-09-22T20:44:04.509Z"
   },
   {
    "duration": 5,
    "start_time": "2023-09-22T20:44:04.545Z"
   },
   {
    "duration": 1600,
    "start_time": "2023-09-22T20:44:04.551Z"
   },
   {
    "duration": 221,
    "start_time": "2023-09-22T20:44:06.153Z"
   },
   {
    "duration": 790,
    "start_time": "2023-09-22T20:56:16.182Z"
   },
   {
    "duration": 1799,
    "start_time": "2023-09-22T20:56:33.047Z"
   },
   {
    "duration": 5318,
    "start_time": "2023-09-22T20:57:33.025Z"
   },
   {
    "duration": 1573,
    "start_time": "2023-09-22T20:58:53.426Z"
   },
   {
    "duration": 51,
    "start_time": "2023-09-22T20:58:55.001Z"
   },
   {
    "duration": 11,
    "start_time": "2023-09-22T20:58:55.056Z"
   },
   {
    "duration": 8,
    "start_time": "2023-09-22T20:58:55.069Z"
   },
   {
    "duration": 18,
    "start_time": "2023-09-22T20:58:55.079Z"
   },
   {
    "duration": 11,
    "start_time": "2023-09-22T20:58:55.098Z"
   },
   {
    "duration": 332,
    "start_time": "2023-09-22T20:58:55.110Z"
   },
   {
    "duration": 2211,
    "start_time": "2023-09-22T20:58:55.443Z"
   },
   {
    "duration": 1152,
    "start_time": "2023-09-22T20:58:57.747Z"
   },
   {
    "duration": 336,
    "start_time": "2023-09-22T20:58:58.900Z"
   },
   {
    "duration": 23,
    "start_time": "2023-09-22T20:58:59.238Z"
   },
   {
    "duration": 13,
    "start_time": "2023-09-22T20:58:59.263Z"
   },
   {
    "duration": 3,
    "start_time": "2023-09-22T20:58:59.278Z"
   },
   {
    "duration": 11,
    "start_time": "2023-09-22T20:58:59.283Z"
   },
   {
    "duration": 5,
    "start_time": "2023-09-22T20:58:59.296Z"
   },
   {
    "duration": 13,
    "start_time": "2023-09-22T20:58:59.303Z"
   },
   {
    "duration": 2721,
    "start_time": "2023-09-22T20:58:59.317Z"
   },
   {
    "duration": 1802,
    "start_time": "2023-09-22T20:59:02.043Z"
   },
   {
    "duration": 6495,
    "start_time": "2023-09-22T20:59:03.847Z"
   },
   {
    "duration": 1581,
    "start_time": "2023-09-22T20:59:43.159Z"
   },
   {
    "duration": 49,
    "start_time": "2023-09-22T20:59:44.745Z"
   },
   {
    "duration": 12,
    "start_time": "2023-09-22T20:59:44.796Z"
   },
   {
    "duration": 4,
    "start_time": "2023-09-22T20:59:44.810Z"
   },
   {
    "duration": 13,
    "start_time": "2023-09-22T20:59:44.817Z"
   },
   {
    "duration": 14,
    "start_time": "2023-09-22T20:59:44.832Z"
   },
   {
    "duration": 326,
    "start_time": "2023-09-22T20:59:44.848Z"
   },
   {
    "duration": 2173,
    "start_time": "2023-09-22T20:59:45.176Z"
   },
   {
    "duration": 1188,
    "start_time": "2023-09-22T20:59:47.352Z"
   },
   {
    "duration": 325,
    "start_time": "2023-09-22T20:59:48.545Z"
   },
   {
    "duration": 26,
    "start_time": "2023-09-22T20:59:48.871Z"
   },
   {
    "duration": 15,
    "start_time": "2023-09-22T20:59:48.898Z"
   },
   {
    "duration": 4,
    "start_time": "2023-09-22T20:59:48.914Z"
   },
   {
    "duration": 33,
    "start_time": "2023-09-22T20:59:48.920Z"
   },
   {
    "duration": 4,
    "start_time": "2023-09-22T20:59:48.955Z"
   },
   {
    "duration": 3718,
    "start_time": "2023-09-22T20:59:48.961Z"
   },
   {
    "duration": 1869,
    "start_time": "2023-09-22T20:59:52.681Z"
   },
   {
    "duration": 8316,
    "start_time": "2023-09-22T20:59:54.551Z"
   },
   {
    "duration": 1579,
    "start_time": "2023-09-22T21:00:39.632Z"
   },
   {
    "duration": 50,
    "start_time": "2023-09-22T21:00:41.213Z"
   },
   {
    "duration": 10,
    "start_time": "2023-09-22T21:00:41.264Z"
   },
   {
    "duration": 3,
    "start_time": "2023-09-22T21:00:41.276Z"
   },
   {
    "duration": 10,
    "start_time": "2023-09-22T21:00:41.281Z"
   },
   {
    "duration": 10,
    "start_time": "2023-09-22T21:00:41.293Z"
   },
   {
    "duration": 334,
    "start_time": "2023-09-22T21:00:41.304Z"
   },
   {
    "duration": 2107,
    "start_time": "2023-09-22T21:00:41.639Z"
   },
   {
    "duration": 1321,
    "start_time": "2023-09-22T21:00:43.748Z"
   },
   {
    "duration": 376,
    "start_time": "2023-09-22T21:00:45.071Z"
   },
   {
    "duration": 32,
    "start_time": "2023-09-22T21:00:45.449Z"
   },
   {
    "duration": 17,
    "start_time": "2023-09-22T21:00:45.482Z"
   },
   {
    "duration": 4,
    "start_time": "2023-09-22T21:00:45.501Z"
   },
   {
    "duration": 40,
    "start_time": "2023-09-22T21:00:45.507Z"
   },
   {
    "duration": 7,
    "start_time": "2023-09-22T21:00:45.549Z"
   },
   {
    "duration": 4752,
    "start_time": "2023-09-22T21:00:45.558Z"
   },
   {
    "duration": 2339,
    "start_time": "2023-09-22T21:00:50.311Z"
   },
   {
    "duration": 10145,
    "start_time": "2023-09-22T21:00:52.652Z"
   },
   {
    "duration": 1514,
    "start_time": "2023-09-22T21:01:26.743Z"
   },
   {
    "duration": 50,
    "start_time": "2023-09-22T21:01:28.259Z"
   },
   {
    "duration": 11,
    "start_time": "2023-09-22T21:01:28.310Z"
   },
   {
    "duration": 4,
    "start_time": "2023-09-22T21:01:28.322Z"
   },
   {
    "duration": 10,
    "start_time": "2023-09-22T21:01:28.327Z"
   },
   {
    "duration": 10,
    "start_time": "2023-09-22T21:01:28.338Z"
   },
   {
    "duration": 313,
    "start_time": "2023-09-22T21:01:28.349Z"
   },
   {
    "duration": 2381,
    "start_time": "2023-09-22T21:01:28.663Z"
   },
   {
    "duration": 1229,
    "start_time": "2023-09-22T21:01:31.048Z"
   },
   {
    "duration": 371,
    "start_time": "2023-09-22T21:01:32.279Z"
   },
   {
    "duration": 31,
    "start_time": "2023-09-22T21:01:32.651Z"
   },
   {
    "duration": 15,
    "start_time": "2023-09-22T21:01:32.683Z"
   },
   {
    "duration": 14,
    "start_time": "2023-09-22T21:01:32.699Z"
   },
   {
    "duration": 12,
    "start_time": "2023-09-22T21:01:32.715Z"
   },
   {
    "duration": 17,
    "start_time": "2023-09-22T21:01:32.728Z"
   },
   {
    "duration": 5599,
    "start_time": "2023-09-22T21:01:32.746Z"
   },
   {
    "duration": 2317,
    "start_time": "2023-09-22T21:01:38.346Z"
   },
   {
    "duration": 11244,
    "start_time": "2023-09-22T21:01:40.745Z"
   },
   {
    "duration": 1528,
    "start_time": "2023-09-22T21:02:24.081Z"
   },
   {
    "duration": 50,
    "start_time": "2023-09-22T21:02:25.610Z"
   },
   {
    "duration": 11,
    "start_time": "2023-09-22T21:02:25.662Z"
   },
   {
    "duration": 3,
    "start_time": "2023-09-22T21:02:25.675Z"
   },
   {
    "duration": 10,
    "start_time": "2023-09-22T21:02:25.680Z"
   },
   {
    "duration": 11,
    "start_time": "2023-09-22T21:02:25.691Z"
   },
   {
    "duration": 338,
    "start_time": "2023-09-22T21:02:25.704Z"
   },
   {
    "duration": 2110,
    "start_time": "2023-09-22T21:02:26.044Z"
   },
   {
    "duration": 1190,
    "start_time": "2023-09-22T21:02:28.246Z"
   },
   {
    "duration": 321,
    "start_time": "2023-09-22T21:02:29.445Z"
   },
   {
    "duration": 32,
    "start_time": "2023-09-22T21:02:29.767Z"
   },
   {
    "duration": 17,
    "start_time": "2023-09-22T21:02:29.800Z"
   },
   {
    "duration": 3,
    "start_time": "2023-09-22T21:02:29.819Z"
   },
   {
    "duration": 30,
    "start_time": "2023-09-22T21:02:29.823Z"
   },
   {
    "duration": 5,
    "start_time": "2023-09-22T21:02:29.854Z"
   },
   {
    "duration": 5543,
    "start_time": "2023-09-22T21:02:29.861Z"
   },
   {
    "duration": 2351,
    "start_time": "2023-09-22T21:02:35.405Z"
   },
   {
    "duration": 11507,
    "start_time": "2023-09-22T21:02:37.758Z"
   },
   {
    "duration": 1523,
    "start_time": "2023-09-22T21:03:11.074Z"
   },
   {
    "duration": 49,
    "start_time": "2023-09-22T21:03:12.599Z"
   },
   {
    "duration": 11,
    "start_time": "2023-09-22T21:03:12.649Z"
   },
   {
    "duration": 3,
    "start_time": "2023-09-22T21:03:12.662Z"
   },
   {
    "duration": 26,
    "start_time": "2023-09-22T21:03:12.666Z"
   },
   {
    "duration": 11,
    "start_time": "2023-09-22T21:03:12.693Z"
   },
   {
    "duration": 320,
    "start_time": "2023-09-22T21:03:12.706Z"
   },
   {
    "duration": 2225,
    "start_time": "2023-09-22T21:03:13.028Z"
   },
   {
    "duration": 1216,
    "start_time": "2023-09-22T21:03:15.347Z"
   },
   {
    "duration": 380,
    "start_time": "2023-09-22T21:03:16.565Z"
   },
   {
    "duration": 36,
    "start_time": "2023-09-22T21:03:16.947Z"
   },
   {
    "duration": 18,
    "start_time": "2023-09-22T21:03:16.984Z"
   },
   {
    "duration": 4,
    "start_time": "2023-09-22T21:03:17.003Z"
   },
   {
    "duration": 36,
    "start_time": "2023-09-22T21:03:17.009Z"
   },
   {
    "duration": 6,
    "start_time": "2023-09-22T21:03:17.047Z"
   },
   {
    "duration": 6723,
    "start_time": "2023-09-22T21:03:17.055Z"
   },
   {
    "duration": 2366,
    "start_time": "2023-09-22T21:03:23.780Z"
   },
   {
    "duration": 13706,
    "start_time": "2023-09-22T21:03:26.148Z"
   },
   {
    "duration": 1532,
    "start_time": "2023-09-22T21:03:57.279Z"
   },
   {
    "duration": 50,
    "start_time": "2023-09-22T21:03:58.813Z"
   },
   {
    "duration": 10,
    "start_time": "2023-09-22T21:03:58.864Z"
   },
   {
    "duration": 5,
    "start_time": "2023-09-22T21:03:58.876Z"
   },
   {
    "duration": 10,
    "start_time": "2023-09-22T21:03:58.883Z"
   },
   {
    "duration": 10,
    "start_time": "2023-09-22T21:03:58.894Z"
   },
   {
    "duration": 353,
    "start_time": "2023-09-22T21:03:58.905Z"
   },
   {
    "duration": 2384,
    "start_time": "2023-09-22T21:03:59.259Z"
   },
   {
    "duration": 1219,
    "start_time": "2023-09-22T21:04:01.647Z"
   },
   {
    "duration": 375,
    "start_time": "2023-09-22T21:04:02.868Z"
   },
   {
    "duration": 38,
    "start_time": "2023-09-22T21:04:03.244Z"
   },
   {
    "duration": 16,
    "start_time": "2023-09-22T21:04:03.284Z"
   },
   {
    "duration": 4,
    "start_time": "2023-09-22T21:04:03.302Z"
   },
   {
    "duration": 36,
    "start_time": "2023-09-22T21:04:03.308Z"
   },
   {
    "duration": 5,
    "start_time": "2023-09-22T21:04:03.346Z"
   },
   {
    "duration": 6928,
    "start_time": "2023-09-22T21:04:03.353Z"
   },
   {
    "duration": 2575,
    "start_time": "2023-09-22T21:04:10.283Z"
   },
   {
    "duration": 12922,
    "start_time": "2023-09-22T21:04:12.860Z"
   },
   {
    "duration": 1550,
    "start_time": "2023-09-22T21:04:37.585Z"
   },
   {
    "duration": 52,
    "start_time": "2023-09-22T21:04:39.137Z"
   },
   {
    "duration": 10,
    "start_time": "2023-09-22T21:04:39.191Z"
   },
   {
    "duration": 3,
    "start_time": "2023-09-22T21:04:39.203Z"
   },
   {
    "duration": 10,
    "start_time": "2023-09-22T21:04:39.208Z"
   },
   {
    "duration": 11,
    "start_time": "2023-09-22T21:04:39.219Z"
   },
   {
    "duration": 322,
    "start_time": "2023-09-22T21:04:39.232Z"
   },
   {
    "duration": 2088,
    "start_time": "2023-09-22T21:04:39.556Z"
   },
   {
    "duration": 1176,
    "start_time": "2023-09-22T21:04:41.647Z"
   },
   {
    "duration": 355,
    "start_time": "2023-09-22T21:04:42.825Z"
   },
   {
    "duration": 35,
    "start_time": "2023-09-22T21:04:43.181Z"
   },
   {
    "duration": 33,
    "start_time": "2023-09-22T21:04:43.218Z"
   },
   {
    "duration": 4,
    "start_time": "2023-09-22T21:04:43.253Z"
   },
   {
    "duration": 25,
    "start_time": "2023-09-22T21:04:43.260Z"
   },
   {
    "duration": 20,
    "start_time": "2023-09-22T21:04:43.286Z"
   },
   {
    "duration": 6656,
    "start_time": "2023-09-22T21:04:43.308Z"
   },
   {
    "duration": 2587,
    "start_time": "2023-09-22T21:04:49.966Z"
   },
   {
    "duration": 1369,
    "start_time": "2023-09-22T21:05:01.696Z"
   },
   {
    "duration": 48,
    "start_time": "2023-09-22T21:05:03.067Z"
   },
   {
    "duration": 10,
    "start_time": "2023-09-22T21:05:03.117Z"
   },
   {
    "duration": 4,
    "start_time": "2023-09-22T21:05:03.128Z"
   },
   {
    "duration": 17,
    "start_time": "2023-09-22T21:05:03.133Z"
   },
   {
    "duration": 9,
    "start_time": "2023-09-22T21:05:03.152Z"
   },
   {
    "duration": 288,
    "start_time": "2023-09-22T21:05:03.162Z"
   },
   {
    "duration": 1999,
    "start_time": "2023-09-22T21:05:03.452Z"
   },
   {
    "duration": 1225,
    "start_time": "2023-09-22T21:05:05.453Z"
   },
   {
    "duration": 387,
    "start_time": "2023-09-22T21:05:06.680Z"
   },
   {
    "duration": 34,
    "start_time": "2023-09-22T21:05:07.069Z"
   },
   {
    "duration": 14,
    "start_time": "2023-09-22T21:05:07.105Z"
   },
   {
    "duration": 4,
    "start_time": "2023-09-22T21:05:07.120Z"
   },
   {
    "duration": 7,
    "start_time": "2023-09-22T21:05:07.144Z"
   },
   {
    "duration": 5,
    "start_time": "2023-09-22T21:05:07.153Z"
   },
   {
    "duration": 6442,
    "start_time": "2023-09-22T21:05:07.159Z"
   },
   {
    "duration": 2147,
    "start_time": "2023-09-22T21:05:13.603Z"
   },
   {
    "duration": 11914,
    "start_time": "2023-09-22T21:05:15.751Z"
   },
   {
    "duration": 1400,
    "start_time": "2023-09-22T21:05:42.165Z"
   },
   {
    "duration": 47,
    "start_time": "2023-09-22T21:05:43.567Z"
   },
   {
    "duration": 10,
    "start_time": "2023-09-22T21:05:43.615Z"
   },
   {
    "duration": 3,
    "start_time": "2023-09-22T21:05:43.626Z"
   },
   {
    "duration": 9,
    "start_time": "2023-09-22T21:05:43.631Z"
   },
   {
    "duration": 8,
    "start_time": "2023-09-22T21:05:43.642Z"
   },
   {
    "duration": 302,
    "start_time": "2023-09-22T21:05:43.652Z"
   },
   {
    "duration": 2097,
    "start_time": "2023-09-22T21:05:43.956Z"
   },
   {
    "duration": 1117,
    "start_time": "2023-09-22T21:05:46.151Z"
   },
   {
    "duration": 314,
    "start_time": "2023-09-22T21:05:47.270Z"
   },
   {
    "duration": 35,
    "start_time": "2023-09-22T21:05:47.586Z"
   },
   {
    "duration": 33,
    "start_time": "2023-09-22T21:05:47.623Z"
   },
   {
    "duration": 4,
    "start_time": "2023-09-22T21:05:47.657Z"
   },
   {
    "duration": 8,
    "start_time": "2023-09-22T21:05:47.664Z"
   },
   {
    "duration": 5,
    "start_time": "2023-09-22T21:05:47.673Z"
   },
   {
    "duration": 6278,
    "start_time": "2023-09-22T21:05:47.679Z"
   },
   {
    "duration": 2598,
    "start_time": "2023-09-22T21:05:53.958Z"
   },
   {
    "duration": 12373,
    "start_time": "2023-09-22T21:05:56.557Z"
   },
   {
    "duration": 1374,
    "start_time": "2023-09-22T21:08:01.302Z"
   },
   {
    "duration": 47,
    "start_time": "2023-09-22T21:08:02.678Z"
   },
   {
    "duration": 10,
    "start_time": "2023-09-22T21:08:02.727Z"
   },
   {
    "duration": 3,
    "start_time": "2023-09-22T21:08:02.738Z"
   },
   {
    "duration": 8,
    "start_time": "2023-09-22T21:08:02.743Z"
   },
   {
    "duration": 9,
    "start_time": "2023-09-22T21:08:02.753Z"
   },
   {
    "duration": 307,
    "start_time": "2023-09-22T21:08:02.763Z"
   },
   {
    "duration": 2172,
    "start_time": "2023-09-22T21:08:03.071Z"
   },
   {
    "duration": 1146,
    "start_time": "2023-09-22T21:08:05.246Z"
   },
   {
    "duration": 352,
    "start_time": "2023-09-22T21:08:06.394Z"
   },
   {
    "duration": 34,
    "start_time": "2023-09-22T21:08:06.748Z"
   },
   {
    "duration": 16,
    "start_time": "2023-09-22T21:08:06.784Z"
   },
   {
    "duration": 3,
    "start_time": "2023-09-22T21:08:06.802Z"
   },
   {
    "duration": 9,
    "start_time": "2023-09-22T21:08:06.807Z"
   },
   {
    "duration": 61,
    "start_time": "2023-09-22T21:08:06.818Z"
   },
   {
    "duration": 5,
    "start_time": "2023-09-22T21:08:06.881Z"
   },
   {
    "duration": 6436,
    "start_time": "2023-09-22T21:08:06.888Z"
   },
   {
    "duration": 2419,
    "start_time": "2023-09-22T21:08:13.326Z"
   },
   {
    "duration": 11874,
    "start_time": "2023-09-22T21:08:15.747Z"
   },
   {
    "duration": 1410,
    "start_time": "2023-09-22T21:09:27.866Z"
   },
   {
    "duration": 46,
    "start_time": "2023-09-22T21:09:29.278Z"
   },
   {
    "duration": 10,
    "start_time": "2023-09-22T21:09:29.326Z"
   },
   {
    "duration": 3,
    "start_time": "2023-09-22T21:09:29.337Z"
   },
   {
    "duration": 10,
    "start_time": "2023-09-22T21:09:29.342Z"
   },
   {
    "duration": 8,
    "start_time": "2023-09-22T21:09:29.354Z"
   },
   {
    "duration": 287,
    "start_time": "2023-09-22T21:09:29.363Z"
   },
   {
    "duration": 2099,
    "start_time": "2023-09-22T21:09:29.651Z"
   },
   {
    "duration": 1241,
    "start_time": "2023-09-22T21:09:31.753Z"
   },
   {
    "duration": 334,
    "start_time": "2023-09-22T21:09:32.996Z"
   },
   {
    "duration": 35,
    "start_time": "2023-09-22T21:09:33.331Z"
   },
   {
    "duration": 22,
    "start_time": "2023-09-22T21:09:33.367Z"
   },
   {
    "duration": 8,
    "start_time": "2023-09-22T21:09:33.390Z"
   },
   {
    "duration": 4,
    "start_time": "2023-09-22T21:09:33.401Z"
   },
   {
    "duration": 6341,
    "start_time": "2023-09-22T21:09:33.406Z"
   },
   {
    "duration": 2296,
    "start_time": "2023-09-22T21:09:39.749Z"
   },
   {
    "duration": 12119,
    "start_time": "2023-09-22T21:09:42.047Z"
   },
   {
    "duration": 10,
    "start_time": "2023-09-22T21:10:04.213Z"
   },
   {
    "duration": 1358,
    "start_time": "2023-09-22T21:10:22.598Z"
   },
   {
    "duration": 51,
    "start_time": "2023-09-22T21:10:23.958Z"
   },
   {
    "duration": 11,
    "start_time": "2023-09-22T21:10:24.011Z"
   },
   {
    "duration": 3,
    "start_time": "2023-09-22T21:10:24.025Z"
   },
   {
    "duration": 16,
    "start_time": "2023-09-22T21:10:24.030Z"
   },
   {
    "duration": 9,
    "start_time": "2023-09-22T21:10:24.048Z"
   },
   {
    "duration": 340,
    "start_time": "2023-09-22T21:10:24.058Z"
   },
   {
    "duration": 1952,
    "start_time": "2023-09-22T21:10:24.399Z"
   },
   {
    "duration": 1196,
    "start_time": "2023-09-22T21:10:26.355Z"
   },
   {
    "duration": 305,
    "start_time": "2023-09-22T21:10:27.554Z"
   },
   {
    "duration": 33,
    "start_time": "2023-09-22T21:10:27.861Z"
   },
   {
    "duration": 16,
    "start_time": "2023-09-22T21:10:27.896Z"
   },
   {
    "duration": 33,
    "start_time": "2023-09-22T21:10:27.914Z"
   },
   {
    "duration": 4,
    "start_time": "2023-09-22T21:10:27.949Z"
   },
   {
    "duration": 6378,
    "start_time": "2023-09-22T21:10:27.954Z"
   },
   {
    "duration": 2322,
    "start_time": "2023-09-22T21:10:34.334Z"
   },
   {
    "duration": 12160,
    "start_time": "2023-09-22T21:10:36.658Z"
   },
   {
    "duration": 8,
    "start_time": "2023-09-22T21:10:48.819Z"
   },
   {
    "duration": 1511,
    "start_time": "2023-09-22T21:11:19.458Z"
   },
   {
    "duration": 56,
    "start_time": "2023-09-22T21:11:20.971Z"
   },
   {
    "duration": 10,
    "start_time": "2023-09-22T21:11:21.028Z"
   },
   {
    "duration": 4,
    "start_time": "2023-09-22T21:11:21.039Z"
   },
   {
    "duration": 9,
    "start_time": "2023-09-22T21:11:21.044Z"
   },
   {
    "duration": 15,
    "start_time": "2023-09-22T21:11:21.054Z"
   },
   {
    "duration": 308,
    "start_time": "2023-09-22T21:11:21.070Z"
   },
   {
    "duration": 2265,
    "start_time": "2023-09-22T21:11:21.380Z"
   },
   {
    "duration": 1161,
    "start_time": "2023-09-22T21:11:23.648Z"
   },
   {
    "duration": 340,
    "start_time": "2023-09-22T21:11:24.811Z"
   },
   {
    "duration": 32,
    "start_time": "2023-09-22T21:11:25.153Z"
   },
   {
    "duration": 14,
    "start_time": "2023-09-22T21:11:25.187Z"
   },
   {
    "duration": 9,
    "start_time": "2023-09-22T21:11:25.203Z"
   },
   {
    "duration": 31,
    "start_time": "2023-09-22T21:11:25.214Z"
   },
   {
    "duration": 5343,
    "start_time": "2023-09-22T21:11:25.246Z"
   },
   {
    "duration": 2362,
    "start_time": "2023-09-22T21:11:30.591Z"
   },
   {
    "duration": 12503,
    "start_time": "2023-09-22T21:11:32.955Z"
   },
   {
    "duration": 8,
    "start_time": "2023-09-22T21:11:45.460Z"
   },
   {
    "duration": 18731,
    "start_time": "2023-09-22T21:14:44.909Z"
   },
   {
    "duration": 21803,
    "start_time": "2023-09-22T21:15:14.527Z"
   },
   {
    "duration": 1754,
    "start_time": "2023-09-23T03:53:25.365Z"
   },
   {
    "duration": 130,
    "start_time": "2023-09-23T03:53:27.121Z"
   },
   {
    "duration": 10,
    "start_time": "2023-09-23T03:53:27.252Z"
   },
   {
    "duration": 3,
    "start_time": "2023-09-23T03:53:27.264Z"
   },
   {
    "duration": 17,
    "start_time": "2023-09-23T03:53:27.268Z"
   },
   {
    "duration": 9,
    "start_time": "2023-09-23T03:53:27.287Z"
   },
   {
    "duration": 319,
    "start_time": "2023-09-23T03:53:27.297Z"
   },
   {
    "duration": 2133,
    "start_time": "2023-09-23T03:53:27.618Z"
   },
   {
    "duration": 1104,
    "start_time": "2023-09-23T03:53:29.754Z"
   },
   {
    "duration": 301,
    "start_time": "2023-09-23T03:53:30.861Z"
   },
   {
    "duration": 29,
    "start_time": "2023-09-23T03:53:31.164Z"
   },
   {
    "duration": 15,
    "start_time": "2023-09-23T03:53:31.194Z"
   },
   {
    "duration": 27,
    "start_time": "2023-09-23T03:53:31.210Z"
   },
   {
    "duration": 78,
    "start_time": "2023-09-23T03:53:31.239Z"
   },
   {
    "duration": 5289,
    "start_time": "2023-09-23T03:53:31.319Z"
   },
   {
    "duration": 2151,
    "start_time": "2023-09-23T03:53:36.609Z"
   },
   {
    "duration": 10538,
    "start_time": "2023-09-23T03:53:38.762Z"
   },
   {
    "duration": 21302,
    "start_time": "2023-09-23T03:53:49.302Z"
   },
   {
    "duration": 7,
    "start_time": "2023-09-23T03:54:10.606Z"
   },
   {
    "duration": 12420,
    "start_time": "2023-09-23T04:01:15.309Z"
   },
   {
    "duration": 235,
    "start_time": "2023-09-23T04:08:27.050Z"
   },
   {
    "duration": 117,
    "start_time": "2023-09-23T04:08:56.512Z"
   },
   {
    "duration": 236,
    "start_time": "2023-09-23T04:09:58.537Z"
   },
   {
    "duration": 150,
    "start_time": "2023-09-23T04:10:39.224Z"
   },
   {
    "duration": 45239,
    "start_time": "2023-09-23T04:11:19.321Z"
   },
   {
    "duration": 16271,
    "start_time": "2023-09-23T04:12:33.790Z"
   },
   {
    "duration": 2707,
    "start_time": "2023-09-23T04:15:50.455Z"
   },
   {
    "duration": 3723,
    "start_time": "2023-09-23T04:16:17.889Z"
   },
   {
    "duration": 1342,
    "start_time": "2023-09-23T04:16:58.799Z"
   },
   {
    "duration": 49,
    "start_time": "2023-09-23T04:17:00.143Z"
   },
   {
    "duration": 27,
    "start_time": "2023-09-23T04:17:00.194Z"
   },
   {
    "duration": 43,
    "start_time": "2023-09-23T04:17:00.223Z"
   },
   {
    "duration": 31,
    "start_time": "2023-09-23T04:17:00.268Z"
   },
   {
    "duration": 45,
    "start_time": "2023-09-23T04:17:00.301Z"
   },
   {
    "duration": 316,
    "start_time": "2023-09-23T04:17:00.348Z"
   },
   {
    "duration": 1991,
    "start_time": "2023-09-23T04:17:00.666Z"
   },
   {
    "duration": 1158,
    "start_time": "2023-09-23T04:17:02.661Z"
   },
   {
    "duration": 317,
    "start_time": "2023-09-23T04:17:03.821Z"
   },
   {
    "duration": 28,
    "start_time": "2023-09-23T04:17:04.149Z"
   },
   {
    "duration": 35,
    "start_time": "2023-09-23T04:17:04.179Z"
   },
   {
    "duration": 8,
    "start_time": "2023-09-23T04:17:04.216Z"
   },
   {
    "duration": 46,
    "start_time": "2023-09-23T04:17:04.226Z"
   },
   {
    "duration": 11944,
    "start_time": "2023-09-23T04:17:04.273Z"
   },
   {
    "duration": 2923,
    "start_time": "2023-09-23T04:17:16.218Z"
   },
   {
    "duration": 10988,
    "start_time": "2023-09-23T04:17:19.142Z"
   },
   {
    "duration": 7,
    "start_time": "2023-09-23T04:17:30.131Z"
   },
   {
    "duration": 1325,
    "start_time": "2023-09-23T04:18:21.204Z"
   },
   {
    "duration": 48,
    "start_time": "2023-09-23T04:18:22.531Z"
   },
   {
    "duration": 10,
    "start_time": "2023-09-23T04:18:22.581Z"
   },
   {
    "duration": 14,
    "start_time": "2023-09-23T04:18:22.592Z"
   },
   {
    "duration": 21,
    "start_time": "2023-09-23T04:18:22.608Z"
   },
   {
    "duration": 26,
    "start_time": "2023-09-23T04:18:22.631Z"
   },
   {
    "duration": 334,
    "start_time": "2023-09-23T04:18:22.658Z"
   },
   {
    "duration": 2057,
    "start_time": "2023-09-23T04:18:22.994Z"
   },
   {
    "duration": 1161,
    "start_time": "2023-09-23T04:18:25.053Z"
   },
   {
    "duration": 325,
    "start_time": "2023-09-23T04:18:26.217Z"
   },
   {
    "duration": 34,
    "start_time": "2023-09-23T04:18:26.549Z"
   },
   {
    "duration": 18,
    "start_time": "2023-09-23T04:18:26.585Z"
   },
   {
    "duration": 10,
    "start_time": "2023-09-23T04:18:26.604Z"
   },
   {
    "duration": 33,
    "start_time": "2023-09-23T04:18:26.616Z"
   },
   {
    "duration": 12073,
    "start_time": "2023-09-23T04:18:26.651Z"
   },
   {
    "duration": 2739,
    "start_time": "2023-09-23T04:18:38.726Z"
   },
   {
    "duration": 10631,
    "start_time": "2023-09-23T04:18:41.466Z"
   },
   {
    "duration": 8,
    "start_time": "2023-09-23T04:18:52.098Z"
   },
   {
    "duration": 11790,
    "start_time": "2023-09-23T04:20:36.208Z"
   },
   {
    "duration": 9,
    "start_time": "2023-09-23T04:25:49.555Z"
   },
   {
    "duration": 49,
    "start_time": "2023-09-23T04:25:49.565Z"
   },
   {
    "duration": 9,
    "start_time": "2023-09-23T04:25:49.616Z"
   },
   {
    "duration": 11,
    "start_time": "2023-09-23T04:25:49.626Z"
   },
   {
    "duration": 8,
    "start_time": "2023-09-23T04:25:49.641Z"
   },
   {
    "duration": 6,
    "start_time": "2023-09-23T04:25:49.651Z"
   },
   {
    "duration": 263,
    "start_time": "2023-09-23T04:25:49.658Z"
   },
   {
    "duration": 1736,
    "start_time": "2023-09-23T04:25:49.922Z"
   },
   {
    "duration": 1197,
    "start_time": "2023-09-23T04:25:51.660Z"
   },
   {
    "duration": 394,
    "start_time": "2023-09-23T04:25:52.859Z"
   },
   {
    "duration": 27,
    "start_time": "2023-09-23T04:25:53.255Z"
   },
   {
    "duration": 14,
    "start_time": "2023-09-23T04:25:53.284Z"
   },
   {
    "duration": 8,
    "start_time": "2023-09-23T04:25:53.299Z"
   },
   {
    "duration": 11,
    "start_time": "2023-09-23T04:25:53.309Z"
   },
   {
    "duration": 12144,
    "start_time": "2023-09-23T04:25:53.321Z"
   },
   {
    "duration": 2588,
    "start_time": "2023-09-23T04:26:05.466Z"
   },
   {
    "duration": 10891,
    "start_time": "2023-09-23T04:26:08.056Z"
   },
   {
    "duration": 8,
    "start_time": "2023-09-23T04:26:18.949Z"
   },
   {
    "duration": 1455,
    "start_time": "2023-09-23T04:28:26.799Z"
   },
   {
    "duration": 46,
    "start_time": "2023-09-23T04:28:28.256Z"
   },
   {
    "duration": 9,
    "start_time": "2023-09-23T04:28:28.304Z"
   },
   {
    "duration": 3,
    "start_time": "2023-09-23T04:28:28.315Z"
   },
   {
    "duration": 11,
    "start_time": "2023-09-23T04:28:28.319Z"
   },
   {
    "duration": 8,
    "start_time": "2023-09-23T04:28:28.331Z"
   },
   {
    "duration": 283,
    "start_time": "2023-09-23T04:28:28.341Z"
   },
   {
    "duration": 1825,
    "start_time": "2023-09-23T04:28:28.626Z"
   },
   {
    "duration": 1130,
    "start_time": "2023-09-23T04:28:30.453Z"
   },
   {
    "duration": 370,
    "start_time": "2023-09-23T04:28:31.585Z"
   },
   {
    "duration": 29,
    "start_time": "2023-09-23T04:28:31.957Z"
   },
   {
    "duration": 66,
    "start_time": "2023-09-23T04:28:31.987Z"
   },
   {
    "duration": 10,
    "start_time": "2023-09-23T04:28:32.054Z"
   },
   {
    "duration": 40,
    "start_time": "2023-09-23T04:28:32.065Z"
   },
   {
    "duration": 5,
    "start_time": "2023-09-23T04:28:32.107Z"
   },
   {
    "duration": 11871,
    "start_time": "2023-09-23T04:28:32.113Z"
   },
   {
    "duration": 4973,
    "start_time": "2023-09-23T04:28:43.986Z"
   },
   {
    "duration": 10825,
    "start_time": "2023-09-23T04:28:48.961Z"
   },
   {
    "duration": 7,
    "start_time": "2023-09-23T04:28:59.788Z"
   },
   {
    "duration": 85,
    "start_time": "2023-09-23T04:34:47.638Z"
   },
   {
    "duration": 1662,
    "start_time": "2023-09-23T05:28:02.617Z"
   },
   {
    "duration": 48,
    "start_time": "2023-09-23T05:28:04.281Z"
   },
   {
    "duration": 9,
    "start_time": "2023-09-23T05:28:04.330Z"
   },
   {
    "duration": 2,
    "start_time": "2023-09-23T05:28:04.341Z"
   },
   {
    "duration": 20,
    "start_time": "2023-09-23T05:28:04.345Z"
   },
   {
    "duration": 7,
    "start_time": "2023-09-23T05:28:04.367Z"
   },
   {
    "duration": 288,
    "start_time": "2023-09-23T05:28:04.376Z"
   },
   {
    "duration": 1885,
    "start_time": "2023-09-23T05:28:04.666Z"
   },
   {
    "duration": 1074,
    "start_time": "2023-09-23T05:28:06.554Z"
   },
   {
    "duration": 305,
    "start_time": "2023-09-23T05:28:07.630Z"
   },
   {
    "duration": 39,
    "start_time": "2023-09-23T05:28:07.937Z"
   },
   {
    "duration": 35,
    "start_time": "2023-09-23T05:28:07.977Z"
   },
   {
    "duration": 25,
    "start_time": "2023-09-23T05:28:08.014Z"
   },
   {
    "duration": 33,
    "start_time": "2023-09-23T05:28:08.041Z"
   },
   {
    "duration": 60,
    "start_time": "2023-09-23T05:28:08.075Z"
   },
   {
    "duration": 0,
    "start_time": "2023-09-23T05:28:08.137Z"
   },
   {
    "duration": 0,
    "start_time": "2023-09-23T05:28:08.138Z"
   },
   {
    "duration": 0,
    "start_time": "2023-09-23T05:28:08.139Z"
   },
   {
    "duration": 1338,
    "start_time": "2023-09-23T05:28:40.996Z"
   },
   {
    "duration": 46,
    "start_time": "2023-09-23T05:28:42.336Z"
   },
   {
    "duration": 9,
    "start_time": "2023-09-23T05:28:42.384Z"
   },
   {
    "duration": 8,
    "start_time": "2023-09-23T05:28:42.394Z"
   },
   {
    "duration": 7,
    "start_time": "2023-09-23T05:28:42.404Z"
   },
   {
    "duration": 9,
    "start_time": "2023-09-23T05:28:42.412Z"
   },
   {
    "duration": 297,
    "start_time": "2023-09-23T05:28:42.423Z"
   },
   {
    "duration": 2129,
    "start_time": "2023-09-23T05:28:42.722Z"
   },
   {
    "duration": 1103,
    "start_time": "2023-09-23T05:28:44.853Z"
   },
   {
    "duration": 391,
    "start_time": "2023-09-23T05:28:45.958Z"
   },
   {
    "duration": 30,
    "start_time": "2023-09-23T05:28:46.350Z"
   },
   {
    "duration": 14,
    "start_time": "2023-09-23T05:28:46.381Z"
   },
   {
    "duration": 9,
    "start_time": "2023-09-23T05:28:46.396Z"
   },
   {
    "duration": 4,
    "start_time": "2023-09-23T05:28:46.407Z"
   },
   {
    "duration": 11906,
    "start_time": "2023-09-23T05:28:46.412Z"
   },
   {
    "duration": 3410,
    "start_time": "2023-09-23T05:28:58.319Z"
   },
   {
    "duration": 10976,
    "start_time": "2023-09-23T05:29:01.730Z"
   },
   {
    "duration": 8,
    "start_time": "2023-09-23T05:29:12.707Z"
   },
   {
    "duration": 12039,
    "start_time": "2023-09-23T05:30:26.880Z"
   },
   {
    "duration": 1414,
    "start_time": "2023-09-23T05:31:27.278Z"
   },
   {
    "duration": 51,
    "start_time": "2023-09-23T05:31:28.694Z"
   },
   {
    "duration": 11,
    "start_time": "2023-09-23T05:31:28.747Z"
   },
   {
    "duration": 4,
    "start_time": "2023-09-23T05:31:28.760Z"
   },
   {
    "duration": 24,
    "start_time": "2023-09-23T05:31:28.765Z"
   },
   {
    "duration": 23,
    "start_time": "2023-09-23T05:31:28.790Z"
   },
   {
    "duration": 325,
    "start_time": "2023-09-23T05:31:28.815Z"
   },
   {
    "duration": 2214,
    "start_time": "2023-09-23T05:31:29.142Z"
   },
   {
    "duration": 1169,
    "start_time": "2023-09-23T05:31:31.358Z"
   },
   {
    "duration": 340,
    "start_time": "2023-09-23T05:31:32.529Z"
   },
   {
    "duration": 31,
    "start_time": "2023-09-23T05:31:32.871Z"
   },
   {
    "duration": 16,
    "start_time": "2023-09-23T05:31:32.904Z"
   },
   {
    "duration": 31,
    "start_time": "2023-09-23T05:31:32.922Z"
   },
   {
    "duration": 6,
    "start_time": "2023-09-23T05:31:32.954Z"
   },
   {
    "duration": 11827,
    "start_time": "2023-09-23T05:31:32.962Z"
   },
   {
    "duration": 3134,
    "start_time": "2023-09-23T05:31:44.790Z"
   },
   {
    "duration": 10434,
    "start_time": "2023-09-23T05:31:47.925Z"
   },
   {
    "duration": 8,
    "start_time": "2023-09-23T05:31:58.360Z"
   },
   {
    "duration": 12037,
    "start_time": "2023-09-23T05:34:24.448Z"
   },
   {
    "duration": 1328,
    "start_time": "2023-09-23T05:48:35.892Z"
   },
   {
    "duration": 47,
    "start_time": "2023-09-23T05:48:37.221Z"
   },
   {
    "duration": 9,
    "start_time": "2023-09-23T05:48:37.269Z"
   },
   {
    "duration": 2,
    "start_time": "2023-09-23T05:48:37.280Z"
   },
   {
    "duration": 7,
    "start_time": "2023-09-23T05:48:37.284Z"
   },
   {
    "duration": 8,
    "start_time": "2023-09-23T05:48:37.293Z"
   },
   {
    "duration": 298,
    "start_time": "2023-09-23T05:48:37.302Z"
   },
   {
    "duration": 1952,
    "start_time": "2023-09-23T05:48:37.601Z"
   },
   {
    "duration": 1098,
    "start_time": "2023-09-23T05:48:39.556Z"
   },
   {
    "duration": 313,
    "start_time": "2023-09-23T05:48:40.655Z"
   },
   {
    "duration": 28,
    "start_time": "2023-09-23T05:48:40.969Z"
   },
   {
    "duration": 13,
    "start_time": "2023-09-23T05:48:40.999Z"
   },
   {
    "duration": 20,
    "start_time": "2023-09-23T05:48:41.013Z"
   },
   {
    "duration": 16,
    "start_time": "2023-09-23T05:48:41.035Z"
   },
   {
    "duration": 11941,
    "start_time": "2023-09-23T05:48:41.052Z"
   },
   {
    "duration": 2852,
    "start_time": "2023-09-23T05:48:52.994Z"
   },
   {
    "duration": 11017,
    "start_time": "2023-09-23T05:48:55.848Z"
   },
   {
    "duration": 8,
    "start_time": "2023-09-23T05:49:06.866Z"
   },
   {
    "duration": 1418,
    "start_time": "2023-09-23T05:50:49.625Z"
   },
   {
    "duration": 47,
    "start_time": "2023-09-23T05:50:51.044Z"
   },
   {
    "duration": 10,
    "start_time": "2023-09-23T05:50:51.092Z"
   },
   {
    "duration": 3,
    "start_time": "2023-09-23T05:50:51.105Z"
   },
   {
    "duration": 12,
    "start_time": "2023-09-23T05:50:51.109Z"
   },
   {
    "duration": 8,
    "start_time": "2023-09-23T05:50:51.122Z"
   },
   {
    "duration": 281,
    "start_time": "2023-09-23T05:50:51.131Z"
   },
   {
    "duration": 1937,
    "start_time": "2023-09-23T05:50:51.414Z"
   },
   {
    "duration": 1129,
    "start_time": "2023-09-23T05:50:53.353Z"
   },
   {
    "duration": 348,
    "start_time": "2023-09-23T05:50:54.484Z"
   },
   {
    "duration": 35,
    "start_time": "2023-09-23T05:50:54.833Z"
   },
   {
    "duration": 14,
    "start_time": "2023-09-23T05:50:54.869Z"
   },
   {
    "duration": 8,
    "start_time": "2023-09-23T05:50:54.884Z"
   },
   {
    "duration": 11,
    "start_time": "2023-09-23T05:50:54.893Z"
   },
   {
    "duration": 12051,
    "start_time": "2023-09-23T05:50:54.905Z"
   },
   {
    "duration": 2763,
    "start_time": "2023-09-23T05:51:06.957Z"
   },
   {
    "duration": 10926,
    "start_time": "2023-09-23T05:51:09.722Z"
   },
   {
    "duration": 7,
    "start_time": "2023-09-23T05:51:20.650Z"
   },
   {
    "duration": 1382,
    "start_time": "2023-09-23T05:51:38.565Z"
   },
   {
    "duration": 47,
    "start_time": "2023-09-23T05:51:39.948Z"
   },
   {
    "duration": 9,
    "start_time": "2023-09-23T05:51:39.997Z"
   },
   {
    "duration": 21,
    "start_time": "2023-09-23T05:51:40.008Z"
   },
   {
    "duration": 24,
    "start_time": "2023-09-23T05:51:40.031Z"
   },
   {
    "duration": 21,
    "start_time": "2023-09-23T05:51:40.056Z"
   },
   {
    "duration": 282,
    "start_time": "2023-09-23T05:51:40.078Z"
   },
   {
    "duration": 2090,
    "start_time": "2023-09-23T05:51:40.361Z"
   },
   {
    "duration": 1063,
    "start_time": "2023-09-23T05:51:42.454Z"
   },
   {
    "duration": 323,
    "start_time": "2023-09-23T05:51:43.518Z"
   },
   {
    "duration": 34,
    "start_time": "2023-09-23T05:51:43.843Z"
   },
   {
    "duration": 15,
    "start_time": "2023-09-23T05:51:43.878Z"
   },
   {
    "duration": 8,
    "start_time": "2023-09-23T05:51:43.895Z"
   },
   {
    "duration": 6,
    "start_time": "2023-09-23T05:51:43.906Z"
   },
   {
    "duration": 12004,
    "start_time": "2023-09-23T05:51:43.915Z"
   },
   {
    "duration": 3755,
    "start_time": "2023-09-23T05:51:55.921Z"
   },
   {
    "duration": 10714,
    "start_time": "2023-09-23T05:51:59.678Z"
   },
   {
    "duration": 8,
    "start_time": "2023-09-23T05:52:10.393Z"
   },
   {
    "duration": 1423,
    "start_time": "2023-09-23T05:52:23.437Z"
   },
   {
    "duration": 48,
    "start_time": "2023-09-23T05:52:24.862Z"
   },
   {
    "duration": 10,
    "start_time": "2023-09-23T05:52:24.912Z"
   },
   {
    "duration": 7,
    "start_time": "2023-09-23T05:52:24.923Z"
   },
   {
    "duration": 8,
    "start_time": "2023-09-23T05:52:24.932Z"
   },
   {
    "duration": 11,
    "start_time": "2023-09-23T05:52:24.941Z"
   },
   {
    "duration": 303,
    "start_time": "2023-09-23T05:52:24.953Z"
   },
   {
    "duration": 2797,
    "start_time": "2023-09-23T05:52:25.258Z"
   },
   {
    "duration": 1266,
    "start_time": "2023-09-23T05:52:28.057Z"
   },
   {
    "duration": 312,
    "start_time": "2023-09-23T05:52:29.324Z"
   },
   {
    "duration": 38,
    "start_time": "2023-09-23T05:52:29.638Z"
   },
   {
    "duration": 15,
    "start_time": "2023-09-23T05:52:29.677Z"
   },
   {
    "duration": 9,
    "start_time": "2023-09-23T05:52:29.693Z"
   },
   {
    "duration": 10,
    "start_time": "2023-09-23T05:52:29.704Z"
   },
   {
    "duration": 12040,
    "start_time": "2023-09-23T05:52:29.715Z"
   },
   {
    "duration": 10478,
    "start_time": "2023-09-23T05:52:41.757Z"
   },
   {
    "duration": 10817,
    "start_time": "2023-09-23T05:52:52.237Z"
   },
   {
    "duration": 8,
    "start_time": "2023-09-23T05:53:03.055Z"
   },
   {
    "duration": 1359,
    "start_time": "2023-09-23T05:53:11.078Z"
   },
   {
    "duration": 51,
    "start_time": "2023-09-23T05:53:12.439Z"
   },
   {
    "duration": 10,
    "start_time": "2023-09-23T05:53:12.492Z"
   },
   {
    "duration": 43,
    "start_time": "2023-09-23T05:53:12.503Z"
   },
   {
    "duration": 10,
    "start_time": "2023-09-23T05:53:12.547Z"
   },
   {
    "duration": 22,
    "start_time": "2023-09-23T05:53:12.558Z"
   },
   {
    "duration": 294,
    "start_time": "2023-09-23T05:53:12.582Z"
   },
   {
    "duration": 2273,
    "start_time": "2023-09-23T05:53:12.878Z"
   },
   {
    "duration": 1184,
    "start_time": "2023-09-23T05:53:15.154Z"
   },
   {
    "duration": 312,
    "start_time": "2023-09-23T05:53:16.340Z"
   },
   {
    "duration": 29,
    "start_time": "2023-09-23T05:53:16.653Z"
   },
   {
    "duration": 16,
    "start_time": "2023-09-23T05:53:16.683Z"
   },
   {
    "duration": 9,
    "start_time": "2023-09-23T05:53:16.700Z"
   },
   {
    "duration": 21,
    "start_time": "2023-09-23T05:53:16.710Z"
   },
   {
    "duration": 11920,
    "start_time": "2023-09-23T05:53:16.733Z"
   },
   {
    "duration": 4378,
    "start_time": "2023-09-23T05:53:28.655Z"
   },
   {
    "duration": 10282,
    "start_time": "2023-09-23T05:53:33.034Z"
   },
   {
    "duration": 7,
    "start_time": "2023-09-23T05:53:43.317Z"
   },
   {
    "duration": 4822,
    "start_time": "2023-09-23T05:55:07.530Z"
   },
   {
    "duration": 1426,
    "start_time": "2023-09-23T05:56:54.219Z"
   },
   {
    "duration": 46,
    "start_time": "2023-09-23T05:56:55.647Z"
   },
   {
    "duration": 10,
    "start_time": "2023-09-23T05:56:55.695Z"
   },
   {
    "duration": 3,
    "start_time": "2023-09-23T05:56:55.706Z"
   },
   {
    "duration": 9,
    "start_time": "2023-09-23T05:56:55.711Z"
   },
   {
    "duration": 9,
    "start_time": "2023-09-23T05:56:55.721Z"
   },
   {
    "duration": 325,
    "start_time": "2023-09-23T05:56:55.731Z"
   },
   {
    "duration": 2098,
    "start_time": "2023-09-23T05:56:56.060Z"
   },
   {
    "duration": 1083,
    "start_time": "2023-09-23T05:56:58.251Z"
   },
   {
    "duration": 306,
    "start_time": "2023-09-23T05:56:59.336Z"
   },
   {
    "duration": 28,
    "start_time": "2023-09-23T05:56:59.649Z"
   },
   {
    "duration": 13,
    "start_time": "2023-09-23T05:56:59.679Z"
   },
   {
    "duration": 7,
    "start_time": "2023-09-23T05:56:59.694Z"
   },
   {
    "duration": 9,
    "start_time": "2023-09-23T05:56:59.703Z"
   },
   {
    "duration": 11812,
    "start_time": "2023-09-23T05:56:59.713Z"
   },
   {
    "duration": 3738,
    "start_time": "2023-09-23T05:57:11.527Z"
   },
   {
    "duration": 4508,
    "start_time": "2023-09-23T05:57:15.266Z"
   },
   {
    "duration": 8,
    "start_time": "2023-09-23T05:57:19.776Z"
   },
   {
    "duration": 3028,
    "start_time": "2023-09-23T05:58:09.440Z"
   },
   {
    "duration": 2847,
    "start_time": "2023-09-23T06:00:01.730Z"
   },
   {
    "duration": 18313,
    "start_time": "2023-09-23T06:00:49.149Z"
   },
   {
    "duration": 3449,
    "start_time": "2023-09-23T06:01:23.513Z"
   },
   {
    "duration": 3038,
    "start_time": "2023-09-23T06:01:34.213Z"
   },
   {
    "duration": 3933,
    "start_time": "2023-09-23T06:01:44.418Z"
   },
   {
    "duration": 14702,
    "start_time": "2023-09-23T06:02:08.358Z"
   },
   {
    "duration": 1688,
    "start_time": "2023-09-23T06:04:42.904Z"
   },
   {
    "duration": 49,
    "start_time": "2023-09-23T06:04:44.594Z"
   },
   {
    "duration": 15,
    "start_time": "2023-09-23T06:04:44.649Z"
   },
   {
    "duration": 4,
    "start_time": "2023-09-23T06:04:44.666Z"
   },
   {
    "duration": 9,
    "start_time": "2023-09-23T06:04:44.672Z"
   },
   {
    "duration": 10,
    "start_time": "2023-09-23T06:04:44.683Z"
   },
   {
    "duration": 350,
    "start_time": "2023-09-23T06:04:44.694Z"
   },
   {
    "duration": 2404,
    "start_time": "2023-09-23T06:04:45.046Z"
   },
   {
    "duration": 1232,
    "start_time": "2023-09-23T06:04:47.452Z"
   },
   {
    "duration": 363,
    "start_time": "2023-09-23T06:04:48.686Z"
   },
   {
    "duration": 37,
    "start_time": "2023-09-23T06:04:49.051Z"
   },
   {
    "duration": 24,
    "start_time": "2023-09-23T06:04:49.089Z"
   },
   {
    "duration": 38,
    "start_time": "2023-09-23T06:04:49.115Z"
   },
   {
    "duration": 7,
    "start_time": "2023-09-23T06:04:49.155Z"
   },
   {
    "duration": 12887,
    "start_time": "2023-09-23T06:04:49.164Z"
   },
   {
    "duration": 52513,
    "start_time": "2023-09-23T06:05:02.052Z"
   },
   {
    "duration": 6720,
    "start_time": "2023-09-23T06:05:54.567Z"
   },
   {
    "duration": 7,
    "start_time": "2023-09-23T06:06:01.289Z"
   },
   {
    "duration": 1407,
    "start_time": "2023-09-23T06:22:40.133Z"
   },
   {
    "duration": 47,
    "start_time": "2023-09-23T06:22:41.542Z"
   },
   {
    "duration": 10,
    "start_time": "2023-09-23T06:22:41.591Z"
   },
   {
    "duration": 21,
    "start_time": "2023-09-23T06:22:41.602Z"
   },
   {
    "duration": 20,
    "start_time": "2023-09-23T06:22:41.626Z"
   },
   {
    "duration": 9,
    "start_time": "2023-09-23T06:22:41.647Z"
   },
   {
    "duration": 291,
    "start_time": "2023-09-23T06:22:41.657Z"
   },
   {
    "duration": 2701,
    "start_time": "2023-09-23T06:22:41.950Z"
   },
   {
    "duration": 1136,
    "start_time": "2023-09-23T06:22:44.653Z"
   },
   {
    "duration": 394,
    "start_time": "2023-09-23T06:22:45.791Z"
   },
   {
    "duration": 29,
    "start_time": "2023-09-23T06:22:46.187Z"
   },
   {
    "duration": 34,
    "start_time": "2023-09-23T06:22:46.218Z"
   },
   {
    "duration": 9,
    "start_time": "2023-09-23T06:22:46.253Z"
   },
   {
    "duration": 13,
    "start_time": "2023-09-23T06:22:46.264Z"
   },
   {
    "duration": 11846,
    "start_time": "2023-09-23T06:22:46.279Z"
   },
   {
    "duration": 4147,
    "start_time": "2023-09-23T06:22:58.127Z"
   },
   {
    "duration": 5922,
    "start_time": "2023-09-23T06:23:02.275Z"
   },
   {
    "duration": 8,
    "start_time": "2023-09-23T06:23:08.199Z"
   },
   {
    "duration": 1371,
    "start_time": "2023-09-23T06:24:11.573Z"
   },
   {
    "duration": 50,
    "start_time": "2023-09-23T06:24:12.945Z"
   },
   {
    "duration": 10,
    "start_time": "2023-09-23T06:24:12.996Z"
   },
   {
    "duration": 7,
    "start_time": "2023-09-23T06:24:13.007Z"
   },
   {
    "duration": 9,
    "start_time": "2023-09-23T06:24:13.016Z"
   },
   {
    "duration": 28,
    "start_time": "2023-09-23T06:24:13.026Z"
   },
   {
    "duration": 277,
    "start_time": "2023-09-23T06:24:13.055Z"
   },
   {
    "duration": 2216,
    "start_time": "2023-09-23T06:24:13.334Z"
   },
   {
    "duration": 1134,
    "start_time": "2023-09-23T06:24:15.553Z"
   },
   {
    "duration": 360,
    "start_time": "2023-09-23T06:24:16.689Z"
   },
   {
    "duration": 31,
    "start_time": "2023-09-23T06:24:17.051Z"
   },
   {
    "duration": 13,
    "start_time": "2023-09-23T06:24:17.083Z"
   },
   {
    "duration": 11,
    "start_time": "2023-09-23T06:24:17.098Z"
   },
   {
    "duration": 13,
    "start_time": "2023-09-23T06:24:17.111Z"
   },
   {
    "duration": 11987,
    "start_time": "2023-09-23T06:24:17.125Z"
   },
   {
    "duration": 393062,
    "start_time": "2023-09-23T06:24:29.113Z"
   },
   {
    "duration": 6377,
    "start_time": "2023-09-23T06:31:02.176Z"
   },
   {
    "duration": 12,
    "start_time": "2023-09-23T06:31:08.556Z"
   },
   {
    "duration": 1471,
    "start_time": "2023-09-23T06:39:01.707Z"
   },
   {
    "duration": 48,
    "start_time": "2023-09-23T06:39:03.180Z"
   },
   {
    "duration": 10,
    "start_time": "2023-09-23T06:39:03.229Z"
   },
   {
    "duration": 4,
    "start_time": "2023-09-23T06:39:03.240Z"
   },
   {
    "duration": 23,
    "start_time": "2023-09-23T06:39:03.245Z"
   },
   {
    "duration": 13,
    "start_time": "2023-09-23T06:39:03.270Z"
   },
   {
    "duration": 311,
    "start_time": "2023-09-23T06:39:03.285Z"
   },
   {
    "duration": 3970,
    "start_time": "2023-09-23T06:39:03.598Z"
   },
   {
    "duration": 1264,
    "start_time": "2023-09-23T06:39:07.570Z"
   },
   {
    "duration": 356,
    "start_time": "2023-09-23T06:39:08.836Z"
   },
   {
    "duration": 29,
    "start_time": "2023-09-23T06:39:09.194Z"
   },
   {
    "duration": 35,
    "start_time": "2023-09-23T06:39:09.225Z"
   },
   {
    "duration": 9,
    "start_time": "2023-09-23T06:39:09.268Z"
   },
   {
    "duration": 17,
    "start_time": "2023-09-23T06:39:09.279Z"
   },
   {
    "duration": 12356,
    "start_time": "2023-09-23T06:39:09.297Z"
   },
   {
    "duration": 372718,
    "start_time": "2023-09-23T06:39:21.655Z"
   },
   {
    "duration": 6241,
    "start_time": "2023-09-23T06:45:34.374Z"
   },
   {
    "duration": 8,
    "start_time": "2023-09-23T06:45:40.616Z"
   },
   {
    "duration": 1403,
    "start_time": "2023-09-23T06:46:36.831Z"
   },
   {
    "duration": 57,
    "start_time": "2023-09-23T06:46:38.236Z"
   },
   {
    "duration": 9,
    "start_time": "2023-09-23T06:46:38.295Z"
   },
   {
    "duration": 3,
    "start_time": "2023-09-23T06:46:38.305Z"
   },
   {
    "duration": 8,
    "start_time": "2023-09-23T06:46:38.310Z"
   },
   {
    "duration": 7,
    "start_time": "2023-09-23T06:46:38.319Z"
   },
   {
    "duration": 308,
    "start_time": "2023-09-23T06:46:38.328Z"
   },
   {
    "duration": 3326,
    "start_time": "2023-09-23T06:46:38.638Z"
   },
   {
    "duration": 1252,
    "start_time": "2023-09-23T06:46:41.966Z"
   },
   {
    "duration": 347,
    "start_time": "2023-09-23T06:46:43.220Z"
   },
   {
    "duration": 29,
    "start_time": "2023-09-23T06:46:43.569Z"
   },
   {
    "duration": 14,
    "start_time": "2023-09-23T06:46:43.600Z"
   },
   {
    "duration": 9,
    "start_time": "2023-09-23T06:46:43.615Z"
   },
   {
    "duration": 30,
    "start_time": "2023-09-23T06:46:43.626Z"
   },
   {
    "duration": 12350,
    "start_time": "2023-09-23T06:46:43.659Z"
   },
   {
    "duration": 49948,
    "start_time": "2023-09-23T06:46:56.011Z"
   },
   {
    "duration": 20740,
    "start_time": "2023-09-23T06:47:45.960Z"
   },
   {
    "duration": 8,
    "start_time": "2023-09-23T06:48:06.701Z"
   },
   {
    "duration": 926,
    "start_time": "2023-09-23T06:57:59.268Z"
   },
   {
    "duration": 5,
    "start_time": "2023-09-23T06:58:24.234Z"
   },
   {
    "duration": 1008,
    "start_time": "2023-09-23T06:58:29.680Z"
   },
   {
    "duration": 648,
    "start_time": "2023-09-23T06:58:48.890Z"
   },
   {
    "duration": 923,
    "start_time": "2023-09-23T07:10:48.090Z"
   },
   {
    "duration": 893,
    "start_time": "2023-09-23T07:11:39.204Z"
   },
   {
    "duration": 845,
    "start_time": "2023-09-23T07:11:58.361Z"
   },
   {
    "duration": 1484,
    "start_time": "2023-09-23T07:12:15.903Z"
   },
   {
    "duration": 47,
    "start_time": "2023-09-23T07:12:17.388Z"
   },
   {
    "duration": 9,
    "start_time": "2023-09-23T07:12:17.437Z"
   },
   {
    "duration": 6,
    "start_time": "2023-09-23T07:12:17.447Z"
   },
   {
    "duration": 11,
    "start_time": "2023-09-23T07:12:17.456Z"
   },
   {
    "duration": 12,
    "start_time": "2023-09-23T07:12:17.468Z"
   },
   {
    "duration": 346,
    "start_time": "2023-09-23T07:12:17.482Z"
   },
   {
    "duration": 4127,
    "start_time": "2023-09-23T07:12:17.830Z"
   },
   {
    "duration": 1152,
    "start_time": "2023-09-23T07:12:21.959Z"
   },
   {
    "duration": 342,
    "start_time": "2023-09-23T07:12:23.113Z"
   },
   {
    "duration": 36,
    "start_time": "2023-09-23T07:12:23.456Z"
   },
   {
    "duration": 14,
    "start_time": "2023-09-23T07:12:23.494Z"
   },
   {
    "duration": 9,
    "start_time": "2023-09-23T07:12:23.509Z"
   },
   {
    "duration": 15,
    "start_time": "2023-09-23T07:12:23.520Z"
   },
   {
    "duration": 12747,
    "start_time": "2023-09-23T07:12:23.536Z"
   },
   {
    "duration": 219671,
    "start_time": "2023-09-23T07:12:36.285Z"
   },
   {
    "duration": 20860,
    "start_time": "2023-09-23T07:16:15.957Z"
   },
   {
    "duration": 7,
    "start_time": "2023-09-23T07:16:36.819Z"
   },
   {
    "duration": 865,
    "start_time": "2023-09-23T07:16:36.828Z"
   },
   {
    "duration": 1340,
    "start_time": "2023-09-23T07:20:53.009Z"
   },
   {
    "duration": 46,
    "start_time": "2023-09-23T07:20:54.351Z"
   },
   {
    "duration": 10,
    "start_time": "2023-09-23T07:20:54.399Z"
   },
   {
    "duration": 14,
    "start_time": "2023-09-23T07:20:54.410Z"
   },
   {
    "duration": 23,
    "start_time": "2023-09-23T07:20:54.426Z"
   },
   {
    "duration": 44,
    "start_time": "2023-09-23T07:20:54.450Z"
   },
   {
    "duration": 281,
    "start_time": "2023-09-23T07:20:54.495Z"
   },
   {
    "duration": 1777,
    "start_time": "2023-09-23T07:20:54.778Z"
   },
   {
    "duration": 1167,
    "start_time": "2023-09-23T07:20:56.557Z"
   },
   {
    "duration": 312,
    "start_time": "2023-09-23T07:20:57.725Z"
   },
   {
    "duration": 36,
    "start_time": "2023-09-23T07:20:58.038Z"
   },
   {
    "duration": 14,
    "start_time": "2023-09-23T07:20:58.076Z"
   },
   {
    "duration": 8,
    "start_time": "2023-09-23T07:20:58.092Z"
   },
   {
    "duration": 16,
    "start_time": "2023-09-23T07:20:58.102Z"
   },
   {
    "duration": 11203,
    "start_time": "2023-09-23T07:20:58.120Z"
   },
   {
    "duration": 1352,
    "start_time": "2023-09-23T07:21:23.198Z"
   },
   {
    "duration": 48,
    "start_time": "2023-09-23T07:21:24.552Z"
   },
   {
    "duration": 9,
    "start_time": "2023-09-23T07:21:24.602Z"
   },
   {
    "duration": 3,
    "start_time": "2023-09-23T07:21:24.613Z"
   },
   {
    "duration": 12,
    "start_time": "2023-09-23T07:21:24.618Z"
   },
   {
    "duration": 9,
    "start_time": "2023-09-23T07:21:24.631Z"
   },
   {
    "duration": 294,
    "start_time": "2023-09-23T07:21:24.642Z"
   },
   {
    "duration": 1921,
    "start_time": "2023-09-23T07:21:24.938Z"
   },
   {
    "duration": 1129,
    "start_time": "2023-09-23T07:21:26.951Z"
   },
   {
    "duration": 347,
    "start_time": "2023-09-23T07:21:28.081Z"
   },
   {
    "duration": 45,
    "start_time": "2023-09-23T07:21:28.430Z"
   },
   {
    "duration": 14,
    "start_time": "2023-09-23T07:21:28.476Z"
   },
   {
    "duration": 12,
    "start_time": "2023-09-23T07:21:28.492Z"
   },
   {
    "duration": 8,
    "start_time": "2023-09-23T07:21:28.506Z"
   },
   {
    "duration": 77211,
    "start_time": "2023-09-23T07:21:28.515Z"
   },
   {
    "duration": 44031,
    "start_time": "2023-09-23T07:22:45.728Z"
   },
   {
    "duration": 71335,
    "start_time": "2023-09-23T07:23:29.760Z"
   },
   {
    "duration": 9,
    "start_time": "2023-09-23T07:24:41.096Z"
   },
   {
    "duration": 829,
    "start_time": "2023-09-23T07:24:41.106Z"
   },
   {
    "duration": 1384,
    "start_time": "2023-09-23T07:25:19.248Z"
   },
   {
    "duration": 48,
    "start_time": "2023-09-23T07:25:20.633Z"
   },
   {
    "duration": 9,
    "start_time": "2023-09-23T07:25:20.683Z"
   },
   {
    "duration": 4,
    "start_time": "2023-09-23T07:25:20.694Z"
   },
   {
    "duration": 15,
    "start_time": "2023-09-23T07:25:20.700Z"
   },
   {
    "duration": 9,
    "start_time": "2023-09-23T07:25:20.716Z"
   },
   {
    "duration": 293,
    "start_time": "2023-09-23T07:25:20.727Z"
   },
   {
    "duration": 2228,
    "start_time": "2023-09-23T07:25:21.022Z"
   },
   {
    "duration": 1132,
    "start_time": "2023-09-23T07:25:23.252Z"
   },
   {
    "duration": 346,
    "start_time": "2023-09-23T07:25:24.385Z"
   },
   {
    "duration": 40,
    "start_time": "2023-09-23T07:25:24.732Z"
   },
   {
    "duration": 14,
    "start_time": "2023-09-23T07:25:24.774Z"
   },
   {
    "duration": 8,
    "start_time": "2023-09-23T07:25:24.789Z"
   },
   {
    "duration": 8,
    "start_time": "2023-09-23T07:25:24.799Z"
   },
   {
    "duration": 12347,
    "start_time": "2023-09-23T07:25:24.808Z"
   },
   {
    "duration": 7105,
    "start_time": "2023-09-23T07:25:37.156Z"
   },
   {
    "duration": 23817,
    "start_time": "2023-09-23T07:25:44.262Z"
   },
   {
    "duration": 7,
    "start_time": "2023-09-23T07:26:08.080Z"
   },
   {
    "duration": 797,
    "start_time": "2023-09-23T07:26:08.089Z"
   },
   {
    "duration": 1823,
    "start_time": "2023-09-25T15:01:32.079Z"
   },
   {
    "duration": 118,
    "start_time": "2023-09-25T15:01:33.904Z"
   },
   {
    "duration": 11,
    "start_time": "2023-09-25T15:01:34.023Z"
   },
   {
    "duration": 12,
    "start_time": "2023-09-25T15:01:34.036Z"
   },
   {
    "duration": 21,
    "start_time": "2023-09-25T15:01:34.050Z"
   },
   {
    "duration": 42,
    "start_time": "2023-09-25T15:01:34.072Z"
   },
   {
    "duration": 362,
    "start_time": "2023-09-25T15:01:34.116Z"
   },
   {
    "duration": 2322,
    "start_time": "2023-09-25T15:01:34.481Z"
   },
   {
    "duration": 1263,
    "start_time": "2023-09-25T15:01:36.808Z"
   },
   {
    "duration": 363,
    "start_time": "2023-09-25T15:01:38.074Z"
   },
   {
    "duration": 35,
    "start_time": "2023-09-25T15:01:38.439Z"
   },
   {
    "duration": 38,
    "start_time": "2023-09-25T15:01:38.476Z"
   },
   {
    "duration": 10,
    "start_time": "2023-09-25T15:01:38.516Z"
   },
   {
    "duration": 27,
    "start_time": "2023-09-25T15:01:38.528Z"
   },
   {
    "duration": 13829,
    "start_time": "2023-09-25T15:01:38.562Z"
   },
   {
    "duration": 8710,
    "start_time": "2023-09-25T15:01:52.393Z"
   },
   {
    "duration": 31416,
    "start_time": "2023-09-25T15:02:01.105Z"
   },
   {
    "duration": 9,
    "start_time": "2023-09-25T15:02:32.522Z"
   },
   {
    "duration": 1545,
    "start_time": "2023-09-25T15:02:32.533Z"
   },
   {
    "duration": 124,
    "start_time": "2023-09-25T15:02:34.081Z"
   },
   {
    "duration": 5,
    "start_time": "2023-09-25T15:02:55.575Z"
   },
   {
    "duration": 1602,
    "start_time": "2023-09-25T15:14:16.198Z"
   },
   {
    "duration": 51,
    "start_time": "2023-09-25T15:14:17.802Z"
   },
   {
    "duration": 11,
    "start_time": "2023-09-25T15:14:17.854Z"
   },
   {
    "duration": 14,
    "start_time": "2023-09-25T15:14:17.867Z"
   },
   {
    "duration": 42,
    "start_time": "2023-09-25T15:14:17.882Z"
   },
   {
    "duration": 35,
    "start_time": "2023-09-25T15:14:17.925Z"
   },
   {
    "duration": 345,
    "start_time": "2023-09-25T15:14:17.961Z"
   },
   {
    "duration": 2294,
    "start_time": "2023-09-25T15:14:18.308Z"
   },
   {
    "duration": 1301,
    "start_time": "2023-09-25T15:14:20.609Z"
   },
   {
    "duration": 354,
    "start_time": "2023-09-25T15:14:21.913Z"
   },
   {
    "duration": 44,
    "start_time": "2023-09-25T15:14:22.269Z"
   },
   {
    "duration": 19,
    "start_time": "2023-09-25T15:14:22.315Z"
   },
   {
    "duration": 11,
    "start_time": "2023-09-25T15:14:22.336Z"
   },
   {
    "duration": 53,
    "start_time": "2023-09-25T15:14:22.348Z"
   },
   {
    "duration": 14261,
    "start_time": "2023-09-25T15:14:22.402Z"
   },
   {
    "duration": 8853,
    "start_time": "2023-09-25T15:14:36.664Z"
   },
   {
    "duration": 30228,
    "start_time": "2023-09-25T15:14:45.602Z"
   },
   {
    "duration": 9,
    "start_time": "2023-09-25T15:15:15.831Z"
   },
   {
    "duration": 1412,
    "start_time": "2023-09-25T15:15:15.842Z"
   },
   {
    "duration": 6,
    "start_time": "2023-09-25T15:15:17.255Z"
   },
   {
    "duration": 1704,
    "start_time": "2023-09-26T11:16:58.114Z"
   },
   {
    "duration": 279,
    "start_time": "2023-09-26T11:16:59.821Z"
   },
   {
    "duration": 12,
    "start_time": "2023-09-26T11:17:00.101Z"
   },
   {
    "duration": 40,
    "start_time": "2023-09-26T11:17:00.114Z"
   },
   {
    "duration": 41,
    "start_time": "2023-09-26T11:17:00.157Z"
   },
   {
    "duration": 35,
    "start_time": "2023-09-26T11:17:00.199Z"
   },
   {
    "duration": 346,
    "start_time": "2023-09-26T11:17:00.235Z"
   },
   {
    "duration": 1862,
    "start_time": "2023-09-26T11:17:00.583Z"
   },
   {
    "duration": 1184,
    "start_time": "2023-09-26T11:17:02.447Z"
   },
   {
    "duration": 334,
    "start_time": "2023-09-26T11:17:03.632Z"
   },
   {
    "duration": 157,
    "start_time": "2023-09-26T11:17:03.968Z"
   },
   {
    "duration": 0,
    "start_time": "2023-09-26T11:17:04.127Z"
   },
   {
    "duration": 0,
    "start_time": "2023-09-26T11:17:04.129Z"
   },
   {
    "duration": 0,
    "start_time": "2023-09-26T11:17:04.131Z"
   },
   {
    "duration": 0,
    "start_time": "2023-09-26T11:17:04.145Z"
   },
   {
    "duration": 0,
    "start_time": "2023-09-26T11:17:04.147Z"
   },
   {
    "duration": 1,
    "start_time": "2023-09-26T11:17:04.149Z"
   },
   {
    "duration": 0,
    "start_time": "2023-09-26T11:17:04.152Z"
   },
   {
    "duration": 0,
    "start_time": "2023-09-26T11:17:04.155Z"
   },
   {
    "duration": 0,
    "start_time": "2023-09-26T11:17:04.156Z"
   },
   {
    "duration": 0,
    "start_time": "2023-09-26T11:17:04.158Z"
   },
   {
    "duration": 1442,
    "start_time": "2023-09-26T11:19:51.427Z"
   },
   {
    "duration": 49,
    "start_time": "2023-09-26T11:19:52.871Z"
   },
   {
    "duration": 9,
    "start_time": "2023-09-26T11:19:52.922Z"
   },
   {
    "duration": 17,
    "start_time": "2023-09-26T11:19:52.932Z"
   },
   {
    "duration": 45,
    "start_time": "2023-09-26T11:19:52.951Z"
   },
   {
    "duration": 44,
    "start_time": "2023-09-26T11:19:52.998Z"
   },
   {
    "duration": 271,
    "start_time": "2023-09-26T11:19:53.044Z"
   },
   {
    "duration": 2127,
    "start_time": "2023-09-26T11:19:53.317Z"
   },
   {
    "duration": 1130,
    "start_time": "2023-09-26T11:19:55.447Z"
   },
   {
    "duration": 356,
    "start_time": "2023-09-26T11:19:56.578Z"
   },
   {
    "duration": 31,
    "start_time": "2023-09-26T11:19:56.935Z"
   },
   {
    "duration": 9,
    "start_time": "2023-09-26T11:19:56.968Z"
   },
   {
    "duration": 7,
    "start_time": "2023-09-26T11:19:56.978Z"
   },
   {
    "duration": 14,
    "start_time": "2023-09-26T11:19:56.988Z"
   },
   {
    "duration": 409,
    "start_time": "2023-09-26T11:19:57.003Z"
   },
   {
    "duration": 2541,
    "start_time": "2023-09-26T11:19:57.414Z"
   },
   {
    "duration": 259,
    "start_time": "2023-09-26T11:19:59.957Z"
   },
   {
    "duration": 7,
    "start_time": "2023-09-26T11:20:00.218Z"
   },
   {
    "duration": 152,
    "start_time": "2023-09-26T11:20:00.227Z"
   },
   {
    "duration": 0,
    "start_time": "2023-09-26T11:20:00.380Z"
   },
   {
    "duration": 0,
    "start_time": "2023-09-26T11:20:00.382Z"
   },
   {
    "duration": 1788,
    "start_time": "2023-09-26T11:22:13.748Z"
   },
   {
    "duration": 50,
    "start_time": "2023-09-26T11:22:15.538Z"
   },
   {
    "duration": 11,
    "start_time": "2023-09-26T11:22:15.590Z"
   },
   {
    "duration": 5,
    "start_time": "2023-09-26T11:22:15.604Z"
   },
   {
    "duration": 15,
    "start_time": "2023-09-26T11:22:15.611Z"
   },
   {
    "duration": 10,
    "start_time": "2023-09-26T11:22:15.628Z"
   },
   {
    "duration": 310,
    "start_time": "2023-09-26T11:22:15.640Z"
   },
   {
    "duration": 2098,
    "start_time": "2023-09-26T11:22:15.952Z"
   },
   {
    "duration": 1240,
    "start_time": "2023-09-26T11:22:18.051Z"
   },
   {
    "duration": 335,
    "start_time": "2023-09-26T11:22:19.294Z"
   },
   {
    "duration": 37,
    "start_time": "2023-09-26T11:22:19.631Z"
   },
   {
    "duration": 14,
    "start_time": "2023-09-26T11:22:19.670Z"
   },
   {
    "duration": 9,
    "start_time": "2023-09-26T11:22:19.686Z"
   },
   {
    "duration": 6,
    "start_time": "2023-09-26T11:22:19.696Z"
   },
   {
    "duration": 14482,
    "start_time": "2023-09-26T11:22:19.704Z"
   },
   {
    "duration": 10563,
    "start_time": "2023-09-26T11:22:34.188Z"
   },
   {
    "duration": 39531,
    "start_time": "2023-09-26T11:22:44.753Z"
   },
   {
    "duration": 10,
    "start_time": "2023-09-26T11:23:24.286Z"
   },
   {
    "duration": 832,
    "start_time": "2023-09-26T11:23:24.297Z"
   },
   {
    "duration": 4,
    "start_time": "2023-09-26T11:23:25.131Z"
   },
   {
    "duration": 654,
    "start_time": "2023-09-26T11:23:25.136Z"
   },
   {
    "duration": 318,
    "start_time": "2023-09-26T11:26:06.784Z"
   },
   {
    "duration": 1376,
    "start_time": "2023-09-26T11:28:36.679Z"
   },
   {
    "duration": 47,
    "start_time": "2023-09-26T11:28:38.056Z"
   },
   {
    "duration": 10,
    "start_time": "2023-09-26T11:28:38.104Z"
   },
   {
    "duration": 4,
    "start_time": "2023-09-26T11:28:38.115Z"
   },
   {
    "duration": 16,
    "start_time": "2023-09-26T11:28:38.120Z"
   },
   {
    "duration": 10,
    "start_time": "2023-09-26T11:28:38.137Z"
   },
   {
    "duration": 275,
    "start_time": "2023-09-26T11:28:38.149Z"
   },
   {
    "duration": 2225,
    "start_time": "2023-09-26T11:28:38.425Z"
   },
   {
    "duration": 1224,
    "start_time": "2023-09-26T11:28:40.653Z"
   },
   {
    "duration": 365,
    "start_time": "2023-09-26T11:28:41.879Z"
   },
   {
    "duration": 31,
    "start_time": "2023-09-26T11:28:42.246Z"
   },
   {
    "duration": 15,
    "start_time": "2023-09-26T11:28:42.279Z"
   },
   {
    "duration": 24,
    "start_time": "2023-09-26T11:28:42.295Z"
   },
   {
    "duration": 11,
    "start_time": "2023-09-26T11:28:42.322Z"
   },
   {
    "duration": 14344,
    "start_time": "2023-09-26T11:28:42.335Z"
   },
   {
    "duration": 325582,
    "start_time": "2023-09-26T11:28:56.681Z"
   },
   {
    "duration": 38654,
    "start_time": "2023-09-26T11:34:22.265Z"
   },
   {
    "duration": 8,
    "start_time": "2023-09-26T11:35:00.920Z"
   },
   {
    "duration": 1100,
    "start_time": "2023-09-26T11:35:00.929Z"
   },
   {
    "duration": 6,
    "start_time": "2023-09-26T11:35:02.030Z"
   },
   {
    "duration": 371,
    "start_time": "2023-09-26T11:35:02.038Z"
   },
   {
    "duration": 1852,
    "start_time": "2023-09-26T11:40:00.626Z"
   },
   {
    "duration": 51,
    "start_time": "2023-09-26T11:40:02.481Z"
   },
   {
    "duration": 14,
    "start_time": "2023-09-26T11:40:02.533Z"
   },
   {
    "duration": 25,
    "start_time": "2023-09-26T11:40:02.550Z"
   },
   {
    "duration": 49,
    "start_time": "2023-09-26T11:40:02.577Z"
   },
   {
    "duration": 73,
    "start_time": "2023-09-26T11:40:02.628Z"
   },
   {
    "duration": 372,
    "start_time": "2023-09-26T11:40:02.702Z"
   },
   {
    "duration": 2588,
    "start_time": "2023-09-26T11:40:03.076Z"
   },
   {
    "duration": 1310,
    "start_time": "2023-09-26T11:40:05.670Z"
   },
   {
    "duration": 398,
    "start_time": "2023-09-26T11:40:06.982Z"
   },
   {
    "duration": 29,
    "start_time": "2023-09-26T11:40:07.382Z"
   },
   {
    "duration": 34,
    "start_time": "2023-09-26T11:40:07.412Z"
   },
   {
    "duration": 21,
    "start_time": "2023-09-26T11:40:07.448Z"
   },
   {
    "duration": 40,
    "start_time": "2023-09-26T11:40:07.473Z"
   },
   {
    "duration": 17069,
    "start_time": "2023-09-26T11:40:07.514Z"
   },
   {
    "duration": 261394,
    "start_time": "2023-09-26T11:40:24.585Z"
   },
   {
    "duration": 36363,
    "start_time": "2023-09-26T11:44:45.980Z"
   },
   {
    "duration": 18,
    "start_time": "2023-09-26T11:45:22.354Z"
   },
   {
    "duration": 900,
    "start_time": "2023-09-26T11:45:22.374Z"
   },
   {
    "duration": 5,
    "start_time": "2023-09-26T11:45:23.277Z"
   },
   {
    "duration": 371,
    "start_time": "2023-09-26T11:45:23.284Z"
   },
   {
    "duration": 1652,
    "start_time": "2023-09-26T11:48:40.716Z"
   },
   {
    "duration": 103,
    "start_time": "2023-09-26T11:48:42.370Z"
   },
   {
    "duration": 13,
    "start_time": "2023-09-26T11:48:42.475Z"
   },
   {
    "duration": 3,
    "start_time": "2023-09-26T11:48:42.489Z"
   },
   {
    "duration": 15,
    "start_time": "2023-09-26T11:48:42.546Z"
   },
   {
    "duration": 28,
    "start_time": "2023-09-26T11:48:42.565Z"
   },
   {
    "duration": 775,
    "start_time": "2023-09-26T11:48:42.594Z"
   },
   {
    "duration": 3074,
    "start_time": "2023-09-26T11:48:43.372Z"
   },
   {
    "duration": 1420,
    "start_time": "2023-09-26T11:48:46.452Z"
   },
   {
    "duration": 415,
    "start_time": "2023-09-26T11:48:47.874Z"
   },
   {
    "duration": 35,
    "start_time": "2023-09-26T11:48:48.290Z"
   },
   {
    "duration": 36,
    "start_time": "2023-09-26T11:48:48.327Z"
   },
   {
    "duration": 13,
    "start_time": "2023-09-26T11:48:48.365Z"
   },
   {
    "duration": 4,
    "start_time": "2023-09-26T11:48:48.381Z"
   },
   {
    "duration": 16618,
    "start_time": "2023-09-26T11:48:48.387Z"
   },
   {
    "duration": 265065,
    "start_time": "2023-09-26T11:49:05.007Z"
   },
   {
    "duration": 34181,
    "start_time": "2023-09-26T11:53:30.074Z"
   },
   {
    "duration": 15,
    "start_time": "2023-09-26T11:54:04.261Z"
   },
   {
    "duration": 827,
    "start_time": "2023-09-26T11:54:04.278Z"
   },
   {
    "duration": 5,
    "start_time": "2023-09-26T11:54:05.106Z"
   },
   {
    "duration": 351,
    "start_time": "2023-09-26T11:54:05.113Z"
   },
   {
    "duration": 1560,
    "start_time": "2023-09-26T12:02:29.948Z"
   },
   {
    "duration": 50,
    "start_time": "2023-09-26T12:02:31.510Z"
   },
   {
    "duration": 19,
    "start_time": "2023-09-26T12:02:31.562Z"
   },
   {
    "duration": 16,
    "start_time": "2023-09-26T12:02:31.584Z"
   },
   {
    "duration": 31,
    "start_time": "2023-09-26T12:02:31.602Z"
   },
   {
    "duration": 25,
    "start_time": "2023-09-26T12:02:31.636Z"
   },
   {
    "duration": 315,
    "start_time": "2023-09-26T12:02:31.663Z"
   },
   {
    "duration": 1979,
    "start_time": "2023-09-26T12:02:31.979Z"
   },
   {
    "duration": 1271,
    "start_time": "2023-09-26T12:02:34.045Z"
   },
   {
    "duration": 327,
    "start_time": "2023-09-26T12:02:35.319Z"
   },
   {
    "duration": 31,
    "start_time": "2023-09-26T12:02:35.648Z"
   },
   {
    "duration": 36,
    "start_time": "2023-09-26T12:02:35.680Z"
   },
   {
    "duration": 18,
    "start_time": "2023-09-26T12:02:35.720Z"
   },
   {
    "duration": 37,
    "start_time": "2023-09-26T12:02:35.742Z"
   },
   {
    "duration": 15110,
    "start_time": "2023-09-26T12:02:35.781Z"
   },
   {
    "duration": 633101,
    "start_time": "2023-09-26T12:02:50.893Z"
   },
   {
    "duration": 150770,
    "start_time": "2023-09-26T12:13:23.996Z"
   },
   {
    "duration": 8,
    "start_time": "2023-09-26T12:15:54.768Z"
   },
   {
    "duration": 925,
    "start_time": "2023-09-26T12:15:54.777Z"
   },
   {
    "duration": 5,
    "start_time": "2023-09-26T12:15:55.704Z"
   },
   {
    "duration": 394,
    "start_time": "2023-09-26T12:15:55.711Z"
   },
   {
    "duration": 1700,
    "start_time": "2023-09-26T12:16:21.644Z"
   },
   {
    "duration": 47,
    "start_time": "2023-09-26T12:16:23.346Z"
   },
   {
    "duration": 10,
    "start_time": "2023-09-26T12:16:23.395Z"
   },
   {
    "duration": 3,
    "start_time": "2023-09-26T12:16:23.407Z"
   },
   {
    "duration": 11,
    "start_time": "2023-09-26T12:16:23.412Z"
   },
   {
    "duration": 9,
    "start_time": "2023-09-26T12:16:23.425Z"
   },
   {
    "duration": 306,
    "start_time": "2023-09-26T12:16:23.436Z"
   },
   {
    "duration": 3610,
    "start_time": "2023-09-26T12:16:23.744Z"
   },
   {
    "duration": 1302,
    "start_time": "2023-09-26T12:16:27.357Z"
   },
   {
    "duration": 375,
    "start_time": "2023-09-26T12:16:28.663Z"
   },
   {
    "duration": 36,
    "start_time": "2023-09-26T12:16:29.041Z"
   },
   {
    "duration": 15,
    "start_time": "2023-09-26T12:16:29.079Z"
   },
   {
    "duration": 17,
    "start_time": "2023-09-26T12:16:29.096Z"
   },
   {
    "duration": 5,
    "start_time": "2023-09-26T12:16:29.115Z"
   },
   {
    "duration": 14855,
    "start_time": "2023-09-26T12:16:29.145Z"
   },
   {
    "duration": 2008658,
    "start_time": "2023-09-26T12:16:44.002Z"
   },
   {
    "duration": 30913,
    "start_time": "2023-09-26T12:50:12.662Z"
   },
   {
    "duration": 7,
    "start_time": "2023-09-26T12:50:43.577Z"
   },
   {
    "duration": 923,
    "start_time": "2023-09-26T12:50:43.586Z"
   },
   {
    "duration": 4,
    "start_time": "2023-09-26T12:50:44.511Z"
   },
   {
    "duration": 311,
    "start_time": "2023-09-26T12:50:44.517Z"
   },
   {
    "duration": 1602,
    "start_time": "2023-09-26T13:01:52.840Z"
   },
   {
    "duration": 63,
    "start_time": "2023-09-26T13:01:54.446Z"
   },
   {
    "duration": 10,
    "start_time": "2023-09-26T13:01:54.510Z"
   },
   {
    "duration": 19,
    "start_time": "2023-09-26T13:01:54.522Z"
   },
   {
    "duration": 37,
    "start_time": "2023-09-26T13:01:54.542Z"
   },
   {
    "duration": 30,
    "start_time": "2023-09-26T13:01:54.581Z"
   },
   {
    "duration": 351,
    "start_time": "2023-09-26T13:01:54.613Z"
   },
   {
    "duration": 5588,
    "start_time": "2023-09-26T13:01:54.966Z"
   },
   {
    "duration": 1242,
    "start_time": "2023-09-26T13:02:00.563Z"
   },
   {
    "duration": 357,
    "start_time": "2023-09-26T13:02:01.807Z"
   },
   {
    "duration": 31,
    "start_time": "2023-09-26T13:02:02.170Z"
   },
   {
    "duration": 31,
    "start_time": "2023-09-26T13:02:02.203Z"
   },
   {
    "duration": 47,
    "start_time": "2023-09-26T13:02:02.236Z"
   },
   {
    "duration": 72,
    "start_time": "2023-09-26T13:02:02.286Z"
   },
   {
    "duration": 15723,
    "start_time": "2023-09-26T13:02:02.363Z"
   },
   {
    "duration": 159385,
    "start_time": "2023-09-26T13:02:18.087Z"
   },
   {
    "duration": 33680,
    "start_time": "2023-09-26T13:04:57.474Z"
   },
   {
    "duration": 10,
    "start_time": "2023-09-26T13:05:31.168Z"
   },
   {
    "duration": 1466,
    "start_time": "2023-09-26T13:05:31.179Z"
   },
   {
    "duration": 5,
    "start_time": "2023-09-26T13:05:32.647Z"
   },
   {
    "duration": 333,
    "start_time": "2023-09-26T13:05:32.653Z"
   }
  ],
  "kernelspec": {
   "display_name": "Python 3 (ipykernel)",
   "language": "python",
   "name": "python3"
  },
  "language_info": {
   "codemirror_mode": {
    "name": "ipython",
    "version": 3
   },
   "file_extension": ".py",
   "mimetype": "text/x-python",
   "name": "python",
   "nbconvert_exporter": "python",
   "pygments_lexer": "ipython3",
   "version": "3.9.5"
  },
  "toc": {
   "base_numbering": 1,
   "nav_menu": {},
   "number_sections": true,
   "sideBar": true,
   "skip_h1_title": true,
   "title_cell": "Содержание",
   "title_sidebar": "Contents",
   "toc_cell": true,
   "toc_position": {},
   "toc_section_display": true,
   "toc_window_display": false
  }
 },
 "nbformat": 4,
 "nbformat_minor": 2
}
